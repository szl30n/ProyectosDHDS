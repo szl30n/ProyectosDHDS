{
 "cells": [
  {
   "cell_type": "code",
   "execution_count": 45,
   "id": "1b78e766",
   "metadata": {},
   "outputs": [],
   "source": [
    "import numpy as np\n",
    "import pandas as pd"
   ]
  },
  {
   "cell_type": "code",
   "execution_count": 46,
   "id": "59f58605",
   "metadata": {},
   "outputs": [],
   "source": [
    "url= 'https://archive.ics.uci.edu/ml/datasets/Beijing+PM2.5+Data'"
   ]
  },
  {
   "cell_type": "code",
   "execution_count": 47,
   "id": "0964a7d1",
   "metadata": {},
   "outputs": [],
   "source": [
    "url_dataset= 'https://archive.ics.uci.edu/ml/machine-learning-databases/00381/PRSA_data_2010.1.1-2014.12.31.csv'"
   ]
  },
  {
   "cell_type": "code",
   "execution_count": 48,
   "id": "62e955ec",
   "metadata": {},
   "outputs": [
    {
     "data": {
      "text/plain": [
       "'https://archive.ics.uci.edu/ml/machine-learning-databases/00381/PRSA_data_2010.1.1-2014.12.31.csv'"
      ]
     },
     "execution_count": 48,
     "metadata": {},
     "output_type": "execute_result"
    }
   ],
   "source": [
    "url_dataset"
   ]
  },
  {
   "cell_type": "code",
   "execution_count": 49,
   "id": "374924b7",
   "metadata": {},
   "outputs": [],
   "source": [
    "df= pd.read_csv('https://archive.ics.uci.edu/ml/machine-learning-databases/00381/PRSA_data_2010.1.1-2014.12.31.csv')"
   ]
  },
  {
   "cell_type": "code",
   "execution_count": 50,
   "id": "5d512fa1",
   "metadata": {},
   "outputs": [
    {
     "data": {
      "text/plain": [
       "No          0\n",
       "year        0\n",
       "month       0\n",
       "day         0\n",
       "hour        0\n",
       "pm2.5    2067\n",
       "DEWP        0\n",
       "TEMP        0\n",
       "PRES        0\n",
       "cbwd        0\n",
       "Iws         0\n",
       "Is          0\n",
       "Ir          0\n",
       "dtype: int64"
      ]
     },
     "execution_count": 50,
     "metadata": {},
     "output_type": "execute_result"
    }
   ],
   "source": [
    "df.isnull().sum()"
   ]
  },
  {
   "cell_type": "code",
   "execution_count": 51,
   "id": "6a782229",
   "metadata": {},
   "outputs": [],
   "source": [
    "df= df.dropna()"
   ]
  },
  {
   "cell_type": "code",
   "execution_count": 52,
   "id": "e44729cd",
   "metadata": {},
   "outputs": [
    {
     "data": {
      "text/plain": [
       "No       0\n",
       "year     0\n",
       "month    0\n",
       "day      0\n",
       "hour     0\n",
       "pm2.5    0\n",
       "DEWP     0\n",
       "TEMP     0\n",
       "PRES     0\n",
       "cbwd     0\n",
       "Iws      0\n",
       "Is       0\n",
       "Ir       0\n",
       "dtype: int64"
      ]
     },
     "execution_count": 52,
     "metadata": {},
     "output_type": "execute_result"
    }
   ],
   "source": [
    "df.isnull().sum()"
   ]
  },
  {
   "cell_type": "code",
   "execution_count": 53,
   "id": "41dc738e",
   "metadata": {},
   "outputs": [],
   "source": [
    "import seaborn as sns\n",
    "import statsmodels.api as sm"
   ]
  },
  {
   "cell_type": "code",
   "execution_count": 54,
   "id": "fdbdd4b2",
   "metadata": {},
   "outputs": [],
   "source": [
    "i=df['pm2.5'].values\n",
    "i\n",
    "j= df['DEWP'].values\n",
    "j\n",
    "k= df['PRES'].values\n",
    "l= df['TEMP'].values"
   ]
  },
  {
   "cell_type": "code",
   "execution_count": 55,
   "id": "acf39375",
   "metadata": {},
   "outputs": [
    {
     "name": "stdout",
     "output_type": "stream",
     "text": [
      "                            OLS Regression Results                            \n",
      "==============================================================================\n",
      "Dep. Variable:                      y   R-squared:                       0.029\n",
      "Model:                            OLS   Adj. R-squared:                  0.029\n",
      "Method:                 Least Squares   F-statistic:                     1264.\n",
      "Date:                Thu, 12 May 2022   Prob (F-statistic):          8.36e-273\n",
      "Time:                        23:33:14   Log-Likelihood:            -1.7010e+05\n",
      "No. Observations:               41757   AIC:                         3.402e+05\n",
      "Df Residuals:                   41755   BIC:                         3.402e+05\n",
      "Df Model:                           1                                         \n",
      "Covariance Type:            nonrobust                                         \n",
      "==============================================================================\n",
      "                 coef    std err          t      P>|t|      [0.025      0.975]\n",
      "------------------------------------------------------------------------------\n",
      "const         -0.9005      0.102     -8.830      0.000      -1.100      -0.701\n",
      "x1             0.0269      0.001     35.555      0.000       0.025       0.028\n",
      "==============================================================================\n",
      "Omnibus:                   165860.639   Durbin-Watson:                   0.010\n",
      "Prob(Omnibus):                  0.000   Jarque-Bera (JB):             2980.903\n",
      "Skew:                          -0.070   Prob(JB):                         0.00\n",
      "Kurtosis:                       1.699   Cond. No.                         198.\n",
      "==============================================================================\n",
      "\n",
      "Notes:\n",
      "[1] Standard Errors assume that the covariance matrix of the errors is correctly specified.\n"
     ]
    }
   ],
   "source": [
    "\n",
    "\n",
    "X_t = i\n",
    "X = np.transpose(X_t)\n",
    "y = j\n",
    "# Tenemos que agregar explícitamente a una constante:\n",
    "X = sm.add_constant(X)\n",
    "\n",
    "model = sm.OLS(y, X).fit()\n",
    "print (model.summary())"
   ]
  },
  {
   "cell_type": "code",
   "execution_count": 56,
   "id": "5c874310",
   "metadata": {},
   "outputs": [
    {
     "name": "stdout",
     "output_type": "stream",
     "text": [
      "                            OLS Regression Results                            \n",
      "==============================================================================\n",
      "Dep. Variable:                      y   R-squared:                       0.679\n",
      "Model:                            OLS   Adj. R-squared:                  0.679\n",
      "Method:                 Least Squares   F-statistic:                 8.819e+04\n",
      "Date:                Thu, 12 May 2022   Prob (F-statistic):               0.00\n",
      "Time:                        23:33:14   Log-Likelihood:            -1.4702e+05\n",
      "No. Observations:               41757   AIC:                         2.940e+05\n",
      "Df Residuals:                   41755   BIC:                         2.941e+05\n",
      "Df Model:                           1                                         \n",
      "Covariance Type:            nonrobust                                         \n",
      "==============================================================================\n",
      "                 coef    std err          t      P>|t|      [0.025      0.975]\n",
      "------------------------------------------------------------------------------\n",
      "const        -10.3616      0.057   -181.296      0.000     -10.474     -10.250\n",
      "x1             0.9766      0.003    296.975      0.000       0.970       0.983\n",
      "==============================================================================\n",
      "Omnibus:                     3641.864   Durbin-Watson:                   0.077\n",
      "Prob(Omnibus):                  0.000   Jarque-Bera (JB):             4696.853\n",
      "Skew:                          -0.821   Prob(JB):                         0.00\n",
      "Kurtosis:                       3.025   Cond. No.                         24.8\n",
      "==============================================================================\n",
      "\n",
      "Notes:\n",
      "[1] Standard Errors assume that the covariance matrix of the errors is correctly specified.\n"
     ]
    }
   ],
   "source": [
    "\n",
    "X_t = l\n",
    "X = np.transpose(X_t)\n",
    "y = j\n",
    "# Tenemos que agregar explícitamente a una constante:\n",
    "X = sm.add_constant(X)\n",
    "\n",
    "model = sm.OLS(y, X).fit()\n",
    "print (model.summary())"
   ]
  },
  {
   "cell_type": "code",
   "execution_count": 57,
   "id": "fce152b9",
   "metadata": {},
   "outputs": [
    {
     "name": "stdout",
     "output_type": "stream",
     "text": [
      "                            OLS Regression Results                            \n",
      "==============================================================================\n",
      "Dep. Variable:                      y   R-squared:                       0.605\n",
      "Model:                            OLS   Adj. R-squared:                  0.605\n",
      "Method:                 Least Squares   F-statistic:                 6.391e+04\n",
      "Date:                Thu, 12 May 2022   Prob (F-statistic):               0.00\n",
      "Time:                        23:33:14   Log-Likelihood:            -1.5134e+05\n",
      "No. Observations:               41757   AIC:                         3.027e+05\n",
      "Df Residuals:                   41755   BIC:                         3.027e+05\n",
      "Df Model:                           1                                         \n",
      "Covariance Type:            nonrobust                                         \n",
      "==============================================================================\n",
      "                 coef    std err          t      P>|t|      [0.025      0.975]\n",
      "------------------------------------------------------------------------------\n",
      "const       1109.4338      4.382    253.199      0.000    1100.846    1118.022\n",
      "x1            -1.0898      0.004   -252.813      0.000      -1.098      -1.081\n",
      "==============================================================================\n",
      "Omnibus:                     1220.023   Durbin-Watson:                   0.031\n",
      "Prob(Omnibus):                  0.000   Jarque-Bera (JB):             1287.405\n",
      "Skew:                          -0.415   Prob(JB):                    2.78e-280\n",
      "Kurtosis:                       2.777   Cond. No.                     1.00e+05\n",
      "==============================================================================\n",
      "\n",
      "Notes:\n",
      "[1] Standard Errors assume that the covariance matrix of the errors is correctly specified.\n",
      "[2] The condition number is large,  1e+05. This might indicate that there are\n",
      "strong multicollinearity or other numerical problems.\n"
     ]
    }
   ],
   "source": [
    "\n",
    "X_t = k\n",
    "X = np.transpose(X_t)\n",
    "y = j\n",
    "# Tenemos que agregar explícitamente a una constante:\n",
    "X = sm.add_constant(X)\n",
    "\n",
    "model = sm.OLS(y, X).fit()\n",
    "print (model.summary())"
   ]
  },
  {
   "cell_type": "code",
   "execution_count": 58,
   "id": "256b9600",
   "metadata": {},
   "outputs": [],
   "source": [
    "feature_cols = [\"DEWP\", \"TEMP\", \"PRES\", \"cbwd\"]\n",
    "\n",
    "X = df[feature_cols]\n",
    "y = df['pm2.5']\n",
    "X= pd.get_dummies(X, columns=[\"cbwd\"], drop_first=True)\n",
    "# Tenemos que agregar explícitamente a una constante:\n",
    "X = sm.add_constant(X)\n",
    "\n",
    "model = sm.OLS(y, X).fit()"
   ]
  },
  {
   "cell_type": "code",
   "execution_count": 59,
   "id": "e1002313",
   "metadata": {},
   "outputs": [
    {
     "data": {
      "text/html": [
       "<table class=\"simpletable\">\n",
       "<caption>OLS Regression Results</caption>\n",
       "<tr>\n",
       "  <th>Dep. Variable:</th>          <td>pm2.5</td>      <th>  R-squared:         </th>  <td>   0.241</td>  \n",
       "</tr>\n",
       "<tr>\n",
       "  <th>Model:</th>                   <td>OLS</td>       <th>  Adj. R-squared:    </th>  <td>   0.241</td>  \n",
       "</tr>\n",
       "<tr>\n",
       "  <th>Method:</th>             <td>Least Squares</td>  <th>  F-statistic:       </th>  <td>   2208.</td>  \n",
       "</tr>\n",
       "<tr>\n",
       "  <th>Date:</th>             <td>Thu, 12 May 2022</td> <th>  Prob (F-statistic):</th>   <td>  0.00</td>   \n",
       "</tr>\n",
       "<tr>\n",
       "  <th>Time:</th>                 <td>23:33:14</td>     <th>  Log-Likelihood:    </th> <td>-2.4233e+05</td>\n",
       "</tr>\n",
       "<tr>\n",
       "  <th>No. Observations:</th>      <td> 41757</td>      <th>  AIC:               </th>  <td>4.847e+05</td> \n",
       "</tr>\n",
       "<tr>\n",
       "  <th>Df Residuals:</th>          <td> 41750</td>      <th>  BIC:               </th>  <td>4.847e+05</td> \n",
       "</tr>\n",
       "<tr>\n",
       "  <th>Df Model:</th>              <td>     6</td>      <th>                     </th>      <td> </td>     \n",
       "</tr>\n",
       "<tr>\n",
       "  <th>Covariance Type:</th>      <td>nonrobust</td>    <th>                     </th>      <td> </td>     \n",
       "</tr>\n",
       "</table>\n",
       "<table class=\"simpletable\">\n",
       "<tr>\n",
       "     <td></td>        <th>coef</th>     <th>std err</th>      <th>t</th>      <th>P>|t|</th>  <th>[0.025</th>    <th>0.975]</th>  \n",
       "</tr>\n",
       "<tr>\n",
       "  <th>const</th>   <td> 1806.7319</td> <td>   72.894</td> <td>   24.786</td> <td> 0.000</td> <td> 1663.858</td> <td> 1949.605</td>\n",
       "</tr>\n",
       "<tr>\n",
       "  <th>DEWP</th>    <td>    4.1004</td> <td>    0.052</td> <td>   79.218</td> <td> 0.000</td> <td>    3.999</td> <td>    4.202</td>\n",
       "</tr>\n",
       "<tr>\n",
       "  <th>TEMP</th>    <td>   -6.2887</td> <td>    0.068</td> <td>  -93.149</td> <td> 0.000</td> <td>   -6.421</td> <td>   -6.156</td>\n",
       "</tr>\n",
       "<tr>\n",
       "  <th>PRES</th>    <td>   -1.6234</td> <td>    0.071</td> <td>  -22.796</td> <td> 0.000</td> <td>   -1.763</td> <td>   -1.484</td>\n",
       "</tr>\n",
       "<tr>\n",
       "  <th>cbwd_NW</th> <td>  -11.0320</td> <td>    1.366</td> <td>   -8.078</td> <td> 0.000</td> <td>  -13.709</td> <td>   -8.355</td>\n",
       "</tr>\n",
       "<tr>\n",
       "  <th>cbwd_SE</th> <td>   29.2869</td> <td>    1.363</td> <td>   21.491</td> <td> 0.000</td> <td>   26.616</td> <td>   31.958</td>\n",
       "</tr>\n",
       "<tr>\n",
       "  <th>cbwd_cv</th> <td>   28.8520</td> <td>    1.445</td> <td>   19.967</td> <td> 0.000</td> <td>   26.020</td> <td>   31.684</td>\n",
       "</tr>\n",
       "</table>\n",
       "<table class=\"simpletable\">\n",
       "<tr>\n",
       "  <th>Omnibus:</th>       <td>15838.896</td> <th>  Durbin-Watson:     </th> <td>   0.137</td> \n",
       "</tr>\n",
       "<tr>\n",
       "  <th>Prob(Omnibus):</th>  <td> 0.000</td>   <th>  Jarque-Bera (JB):  </th> <td>82238.970</td>\n",
       "</tr>\n",
       "<tr>\n",
       "  <th>Skew:</th>           <td> 1.769</td>   <th>  Prob(JB):          </th> <td>    0.00</td> \n",
       "</tr>\n",
       "<tr>\n",
       "  <th>Kurtosis:</th>       <td> 8.895</td>   <th>  Cond. No.          </th> <td>1.89e+05</td> \n",
       "</tr>\n",
       "</table><br/><br/>Notes:<br/>[1] Standard Errors assume that the covariance matrix of the errors is correctly specified.<br/>[2] The condition number is large, 1.89e+05. This might indicate that there are<br/>strong multicollinearity or other numerical problems."
      ],
      "text/plain": [
       "<class 'statsmodels.iolib.summary.Summary'>\n",
       "\"\"\"\n",
       "                            OLS Regression Results                            \n",
       "==============================================================================\n",
       "Dep. Variable:                  pm2.5   R-squared:                       0.241\n",
       "Model:                            OLS   Adj. R-squared:                  0.241\n",
       "Method:                 Least Squares   F-statistic:                     2208.\n",
       "Date:                Thu, 12 May 2022   Prob (F-statistic):               0.00\n",
       "Time:                        23:33:14   Log-Likelihood:            -2.4233e+05\n",
       "No. Observations:               41757   AIC:                         4.847e+05\n",
       "Df Residuals:                   41750   BIC:                         4.847e+05\n",
       "Df Model:                           6                                         \n",
       "Covariance Type:            nonrobust                                         \n",
       "==============================================================================\n",
       "                 coef    std err          t      P>|t|      [0.025      0.975]\n",
       "------------------------------------------------------------------------------\n",
       "const       1806.7319     72.894     24.786      0.000    1663.858    1949.605\n",
       "DEWP           4.1004      0.052     79.218      0.000       3.999       4.202\n",
       "TEMP          -6.2887      0.068    -93.149      0.000      -6.421      -6.156\n",
       "PRES          -1.6234      0.071    -22.796      0.000      -1.763      -1.484\n",
       "cbwd_NW      -11.0320      1.366     -8.078      0.000     -13.709      -8.355\n",
       "cbwd_SE       29.2869      1.363     21.491      0.000      26.616      31.958\n",
       "cbwd_cv       28.8520      1.445     19.967      0.000      26.020      31.684\n",
       "==============================================================================\n",
       "Omnibus:                    15838.896   Durbin-Watson:                   0.137\n",
       "Prob(Omnibus):                  0.000   Jarque-Bera (JB):            82238.970\n",
       "Skew:                           1.769   Prob(JB):                         0.00\n",
       "Kurtosis:                       8.895   Cond. No.                     1.89e+05\n",
       "==============================================================================\n",
       "\n",
       "Notes:\n",
       "[1] Standard Errors assume that the covariance matrix of the errors is correctly specified.\n",
       "[2] The condition number is large, 1.89e+05. This might indicate that there are\n",
       "strong multicollinearity or other numerical problems.\n",
       "\"\"\""
      ]
     },
     "execution_count": 59,
     "metadata": {},
     "output_type": "execute_result"
    }
   ],
   "source": [
    "model.summary()"
   ]
  },
  {
   "cell_type": "code",
   "execution_count": 60,
   "id": "51978b40",
   "metadata": {},
   "outputs": [
    {
     "name": "stdout",
     "output_type": "stream",
     "text": [
      "                            OLS Regression Results                            \n",
      "==============================================================================\n",
      "Dep. Variable:                  pm2.5   R-squared:                       0.241\n",
      "Model:                            OLS   Adj. R-squared:                  0.241\n",
      "Method:                 Least Squares   F-statistic:                     2208.\n",
      "Date:                Thu, 12 May 2022   Prob (F-statistic):               0.00\n",
      "Time:                        23:33:14   Log-Likelihood:            -2.4233e+05\n",
      "No. Observations:               41757   AIC:                         4.847e+05\n",
      "Df Residuals:                   41750   BIC:                         4.847e+05\n",
      "Df Model:                           6                                         \n",
      "Covariance Type:            nonrobust                                         \n",
      "==============================================================================\n",
      "                 coef    std err          t      P>|t|      [0.025      0.975]\n",
      "------------------------------------------------------------------------------\n",
      "const       1806.7319     72.894     24.786      0.000    1663.858    1949.605\n",
      "DEWP           4.1004      0.052     79.218      0.000       3.999       4.202\n",
      "TEMP          -6.2887      0.068    -93.149      0.000      -6.421      -6.156\n",
      "PRES          -1.6234      0.071    -22.796      0.000      -1.763      -1.484\n",
      "cbwd_NW      -11.0320      1.366     -8.078      0.000     -13.709      -8.355\n",
      "cbwd_SE       29.2869      1.363     21.491      0.000      26.616      31.958\n",
      "cbwd_cv       28.8520      1.445     19.967      0.000      26.020      31.684\n",
      "==============================================================================\n",
      "Omnibus:                    15838.896   Durbin-Watson:                   0.137\n",
      "Prob(Omnibus):                  0.000   Jarque-Bera (JB):            82238.970\n",
      "Skew:                           1.769   Prob(JB):                         0.00\n",
      "Kurtosis:                       8.895   Cond. No.                     1.89e+05\n",
      "==============================================================================\n",
      "\n",
      "Notes:\n",
      "[1] Standard Errors assume that the covariance matrix of the errors is correctly specified.\n",
      "[2] The condition number is large, 1.89e+05. This might indicate that there are\n",
      "strong multicollinearity or other numerical problems.\n"
     ]
    }
   ],
   "source": [
    "print (model.summary())"
   ]
  },
  {
   "cell_type": "code",
   "execution_count": 61,
   "id": "f80ba9f2",
   "metadata": {},
   "outputs": [],
   "source": [
    "X_t = np.array(df.DEWP, ndmin=2)\n",
    "X = np.transpose(X_t)\n",
    "y = df['pm2.5']\n",
    "\n",
    "# Tenemos que agregar explícitamente a una constante:\n",
    "X = sm.add_constant(X)\n",
    "\n",
    "model = sm.OLS(y, X).fit()\n"
   ]
  },
  {
   "cell_type": "code",
   "execution_count": 62,
   "id": "7ecc42f9",
   "metadata": {},
   "outputs": [
    {
     "name": "stdout",
     "output_type": "stream",
     "text": [
      "                            OLS Regression Results                            \n",
      "==============================================================================\n",
      "Dep. Variable:                  pm2.5   R-squared:                       0.029\n",
      "Model:                            OLS   Adj. R-squared:                  0.029\n",
      "Method:                 Least Squares   F-statistic:                     1264.\n",
      "Date:                Thu, 12 May 2022   Prob (F-statistic):          8.36e-273\n",
      "Time:                        23:33:14   Log-Likelihood:            -2.4747e+05\n",
      "No. Observations:               41757   AIC:                         4.949e+05\n",
      "Df Residuals:                   41755   BIC:                         4.950e+05\n",
      "Df Model:                           1                                         \n",
      "Covariance Type:            nonrobust                                         \n",
      "==============================================================================\n",
      "                 coef    std err          t      P>|t|      [0.025      0.975]\n",
      "------------------------------------------------------------------------------\n",
      "const         96.6998      0.447    216.305      0.000      95.824      97.576\n",
      "x1             1.0932      0.031     35.555      0.000       1.033       1.154\n",
      "==============================================================================\n",
      "Omnibus:                    16922.063   Durbin-Watson:                   0.072\n",
      "Prob(Omnibus):                  0.000   Jarque-Bera (JB):            80554.675\n",
      "Skew:                           1.949   Prob(JB):                         0.00\n",
      "Kurtosis:                       8.577   Cond. No.                         14.6\n",
      "==============================================================================\n",
      "\n",
      "Notes:\n",
      "[1] Standard Errors assume that the covariance matrix of the errors is correctly specified.\n"
     ]
    }
   ],
   "source": [
    "print (model.summary())"
   ]
  },
  {
   "cell_type": "code",
   "execution_count": null,
   "id": "5fc898df",
   "metadata": {},
   "outputs": [],
   "source": []
  },
  {
   "cell_type": "code",
   "execution_count": null,
   "id": "a092a169",
   "metadata": {},
   "outputs": [],
   "source": []
  }
 ],
 "metadata": {
  "kernelspec": {
   "display_name": "Python [conda env:dhdsblend2021_tp1]",
   "language": "python",
   "name": "conda-env-dhdsblend2021_tp1-py"
  },
  "language_info": {
   "codemirror_mode": {
    "name": "ipython",
    "version": 3
   },
   "file_extension": ".py",
   "mimetype": "text/x-python",
   "name": "python",
   "nbconvert_exporter": "python",
   "pygments_lexer": "ipython3",
   "version": "3.7.13"
  }
 },
 "nbformat": 4,
 "nbformat_minor": 5
}
