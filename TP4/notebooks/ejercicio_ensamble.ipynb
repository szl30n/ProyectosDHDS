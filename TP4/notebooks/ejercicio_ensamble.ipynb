{
 "cells": [
  {
   "cell_type": "code",
   "execution_count": 10,
   "id": "2ef932e3-21ec-4c8e-ada1-315f5d25e2ab",
   "metadata": {},
   "outputs": [
    {
     "name": "stdout",
     "output_type": "stream",
     "text": [
      "Requirement already satisfied: graphviz in c:\\users\\msaied\\anaconda3\\envs\\ds\\lib\\site-packages (0.15)\n",
      "Requirement already satisfied: pydotplus in c:\\users\\msaied\\anaconda3\\envs\\ds\\lib\\site-packages (2.0.2)\n",
      "Requirement already satisfied: pyparsing>=2.0.1 in c:\\users\\msaied\\anaconda3\\envs\\ds\\lib\\site-packages (from pydotplus) (3.0.7)\n"
     ]
    }
   ],
   "source": [
    "import numpy as np\n",
    "import pandas as pd\n",
    "\n",
    "import seaborn as sns\n",
    "import matplotlib.pyplot as plt\n",
    "import plotly.express as px\n",
    "\n",
    "from sklearn import metrics\n",
    "\n",
    "from sklearn import tree\n",
    "from sklearn.linear_model import LogisticRegression\n",
    "from sklearn.naive_bayes import MultinomialNB\n",
    "\n",
    "from sklearn.model_selection import GridSearchCV,train_test_split,cross_val_score\n",
    "from sklearn.model_selection import StratifiedKFold , KFold, RandomizedSearchCV\n",
    "from sklearn.neighbors import KNeighborsClassifier\n",
    "\n",
    "from sklearn.metrics import confusion_matrix, accuracy_score ,f1_score \n",
    "from sklearn.metrics import classification_report , confusion_matrix , roc_auc_score\n",
    "from sklearn.preprocessing import normalize, StandardScaler ,binarize\n",
    "\n",
    "from IPython.core.interactiveshell import InteractiveShell\n",
    "InteractiveShell.ast_node_interactivity = \"all\"\n",
    "%config Completer.use_jedi = False\n",
    "import warnings\n",
    "warnings.filterwarnings(\"ignore\")\n",
    "\n",
    "import funciones as f\n",
    "import time\n",
    "\n",
    "!pip install graphviz\n",
    "!pip install pydotplus\n",
    "\n",
    "from IPython.display import Image\n",
    "import pydotplus\n",
    "\n",
    "\n",
    "import numpy as np\n",
    "from sklearn.linear_model import LogisticRegression\n",
    "from sklearn.naive_bayes import GaussianNB\n",
    "from sklearn.ensemble import RandomForestClassifier, VotingClassifier"
   ]
  },
  {
   "cell_type": "code",
   "execution_count": 11,
   "id": "0fb4f615-db41-4ee6-86a3-e2a8e27c08dd",
   "metadata": {},
   "outputs": [],
   "source": [
    "_random_state=40\n",
    "tic_general = time.time()"
   ]
  },
  {
   "cell_type": "code",
   "execution_count": 12,
   "id": "08ee838c-21fc-4c4f-afb3-7391f71a2671",
   "metadata": {},
   "outputs": [],
   "source": [
    "data_covid = pd.read_csv(\"../data/patient_covid.csv\", sep = \",\", low_memory=False) \n"
   ]
  },
  {
   "cell_type": "code",
   "execution_count": 13,
   "id": "7624c379-b58e-4945-a65f-b5886f2c1fa8",
   "metadata": {
    "id": "eb4d6fa7"
   },
   "outputs": [],
   "source": [
    "X = data_covid.drop([\"inpatient\"],axis=1)\n",
    "y = data_covid['inpatient']\n",
    "#f._get_info(X)"
   ]
  },
  {
   "cell_type": "code",
   "execution_count": 14,
   "id": "a9fcf99e-6ba8-4c71-9632-eb8897d0b3ef",
   "metadata": {
    "colab": {
     "base_uri": "https://localhost:8080/",
     "height": 200
    },
    "executionInfo": {
     "elapsed": 244,
     "status": "ok",
     "timestamp": 1656093947183,
     "user": {
      "displayName": "Maela Lombardi",
      "userId": "03936068368896012188"
     },
     "user_tz": 180
    },
    "id": "14564792",
    "outputId": "742a7e8c-90f4-4055-a877-76339d910e6a"
   },
   "outputs": [
    {
     "data": {
      "text/plain": [
       "0    0.735\n",
       "1    0.265\n",
       "Name: inpatient, dtype: float64"
      ]
     },
     "metadata": {},
     "output_type": "display_data"
    },
    {
     "data": {
      "text/plain": [
       "0    0.735\n",
       "1    0.265\n",
       "Name: inpatient, dtype: float64"
      ]
     },
     "metadata": {},
     "output_type": "display_data"
    },
    {
     "name": "stdout",
     "output_type": "stream",
     "text": [
      "X_train: 57146\n",
      "y_train: 57146\n",
      "X_test: 38098\n",
      "y_test: 38098\n"
     ]
    }
   ],
   "source": [
    "X_train, X_test, y_train, y_test = train_test_split(X, y, test_size=0.4, stratify=data_covid['inpatient'],random_state=_random_state)\n",
    "display(y_train.value_counts(normalize=True).round(3))\n",
    "display(y_test.value_counts(normalize=True).round(3))\n",
    "\n",
    "print (\"X_train:\" , X_train.shape[0])\n",
    "print (\"y_train:\" , y_train.shape[0])\n",
    "print (\"X_test:\" , X_test.shape[0])\n",
    "print (\"y_test:\" , y_test.shape[0])"
   ]
  },
  {
   "cell_type": "code",
   "execution_count": 15,
   "id": "47dbce89-bbff-4e12-8d69-967e36ef90a2",
   "metadata": {},
   "outputs": [
    {
     "data": {
      "text/plain": [
       "MultinomialNB()"
      ]
     },
     "execution_count": 15,
     "metadata": {},
     "output_type": "execute_result"
    },
    {
     "data": {
      "text/plain": [
       "DecisionTreeClassifier(random_state=40)"
      ]
     },
     "execution_count": 15,
     "metadata": {},
     "output_type": "execute_result"
    },
    {
     "data": {
      "text/plain": [
       "KNeighborsClassifier()"
      ]
     },
     "execution_count": 15,
     "metadata": {},
     "output_type": "execute_result"
    },
    {
     "data": {
      "text/plain": [
       "LogisticRegression(class_weight='balance')"
      ]
     },
     "execution_count": 15,
     "metadata": {},
     "output_type": "execute_result"
    },
    {
     "name": "stdout",
     "output_type": "stream",
     "text": [
      "Naive Bayes Acc Score:    \t 0.8503\n",
      "KNN Acc Score:\t\t\t 0.8621\n",
      "Logistic Regression Acc Score:   0.8738\n",
      "Tree classification Acc Score:   0.8664\n"
     ]
    }
   ],
   "source": [
    "#Naive Bayes      \n",
    "nb=MultinomialNB()\n",
    "nb.fit(X_train, y_train)\n",
    "y_pred_nb = nb.predict(X_test)\n",
    "score_nb = accuracy_score(y_test,y_pred_nb).round(4)\n",
    "\n",
    "#Tree Classification\n",
    "clftree = tree.DecisionTreeClassifier(random_state=_random_state)\n",
    "clftree.fit(X_train, y_train)\n",
    "y_pred_t = clftree.predict(X_test)\n",
    "score_t = accuracy_score(y_test, y_pred_t).round(4)\n",
    "\n",
    "#--------scaler -----------\n",
    "#scaler = StandardScaler()\n",
    "#X_train_std = scaler.fit_transform(X_train)\n",
    "#X_test_std = scaler.transform(X_test)\n",
    "\n",
    "#KNN (acá no especificamos n_neighbors y queda el que viene por defecto)\n",
    "knn = KNeighborsClassifier()\n",
    "knn.fit(X_train, y_train)\n",
    "y_pred_knn = knn.predict(X_test)\n",
    "score_knn=accuracy_score(y_test, y_pred_knn).round(4)\n",
    "\n",
    "#Logistic regression (con StandarScaler)\n",
    "lr = LogisticRegression(class_weight=\"balance\")\n",
    "lr.fit(X_train, y_train)\n",
    "y_pred_lr = lr.predict(X_test)\n",
    "score_lr= accuracy_score(y_test, y_pred_lr).round(4)\n",
    "\n",
    "#Scores\n",
    "print (\"Naive Bayes Acc Score:    \\t\",score_nb)\n",
    "print (\"KNN Acc Score:\\t\\t\\t\", score_knn)\n",
    "print (\"Logistic Regression Acc Score:  \", score_lr)\n",
    "print (\"Tree classification Acc Score:  \", score_t)"
   ]
  },
  {
   "cell_type": "code",
   "execution_count": 16,
   "id": "bdb27bb1-d57b-44b0-ab5f-4c43ff67972d",
   "metadata": {
    "colab": {
     "base_uri": "https://localhost:8080/"
    },
    "executionInfo": {
     "elapsed": 47112,
     "status": "ok",
     "timestamp": 1656095303219,
     "user": {
      "displayName": "Maela Lombardi",
      "userId": "03936068368896012188"
     },
     "user_tz": 180
    },
    "id": "f0be850d",
    "outputId": "c6be6547-0323-479d-e83b-deca1f5f4227"
   },
   "outputs": [
    {
     "name": "stdout",
     "output_type": "stream",
     "text": [
      "ROC AUC NB:   0.866\n",
      "ROC AUC KNN:  0.8432\n",
      "ROC AUC LR:   0.8912\n",
      "ROC AUC T:    0.849\n"
     ]
    }
   ],
   "source": [
    "def _metric_AUC(X_t,y_t,modelo):  # return roc_auc,fpr,tpr,threshold\n",
    "    probs=modelo.predict_proba(X_t)\n",
    "    preds=probs[:,1]\n",
    "    fpr,tpr,threshold=metrics.roc_curve(y_t, preds)\n",
    "    roc_auc=metrics.auc(fpr,tpr)\n",
    "    return roc_auc,fpr,tpr,threshold\n",
    "\n",
    "# return roc_auc,fpr,tpr,threshold\n",
    "#NB\n",
    "roc_auc_nb,fpr_nb,tpr_nb,threshold_nb=_metric_AUC(X_test,y_test,nb)\n",
    "#KNN\n",
    "roc_auc_knn,fpr_knn,tpr_knn,threshold_knn=_metric_AUC(X_test,y_test,knn)\n",
    "#LR\n",
    "roc_auc_lr,fpr_lr,tpr_lr,threshold_lr=_metric_AUC(X_test,y_test,lr)\n",
    "#T\n",
    "roc_auc_t,fpr_t,tpr_t,threshold_t=_metric_AUC(X_test,y_test,clftree)\n",
    "print (\"ROC AUC NB:  \",  roc_auc_nb.round(4) )  #,  threshold_nb.round(4)\n",
    "print (\"ROC AUC KNN: \", roc_auc_knn.round(4) )\n",
    "print (\"ROC AUC LR:  \",  roc_auc_lr.round(4) )\n",
    "print (\"ROC AUC T:   \",   roc_auc_t.round(4) )"
   ]
  },
  {
   "cell_type": "code",
   "execution_count": 24,
   "id": "9fc5652a-ba9d-4894-965e-ec020c8053d6",
   "metadata": {},
   "outputs": [
    {
     "data": {
      "text/plain": [
       "0.8843"
      ]
     },
     "execution_count": 24,
     "metadata": {},
     "output_type": "execute_result"
    }
   ],
   "source": [
    "def predict_proba_ensamble(X, model_1, model_2, model_3,model_4):\n",
    "    y_pred_1 = model_1.predict_proba(X)[:, 1]\n",
    "    y_pred_2 = model_2.predict_proba(X)[:, 1]\n",
    "    y_pred_3 = model_3.predict_proba(X)[:, 1]\n",
    "    y_pred_4 = model_4.predict_proba(X)[:, 1]\n",
    "    result = (y_pred_1 + y_pred_2 + y_pred_3 + y_pred_4) / 4\n",
    "    return result\n",
    "\n",
    "y_pred_ensemble = predict_proba_ensamble(X_test,clftree, nb, lr,knn)\n",
    "performance_ensemble =  roc_auc_score(y_test, y_pred_ensemble)\n",
    "performance_ensemble.round(4)"
   ]
  },
  {
   "cell_type": "code",
   "execution_count": 25,
   "id": "e76022a6-c577-43df-9447-df20caefc6b6",
   "metadata": {},
   "outputs": [],
   "source": [
    "def predict_proba_ensamble3(X, model_1, model_2, model_3):\n",
    "    y_pred_1 = model_1.predict_proba(X)[:, 1]\n",
    "    y_pred_2 = model_2.predict_proba(X)[:, 1]\n",
    "    y_pred_3 = model_3.predict_proba(X)[:, 1]\n",
    "    result = (y_pred_1 + y_pred_2 + y_pred_3 ) / 3\n",
    "    return result\n"
   ]
  },
  {
   "cell_type": "code",
   "execution_count": 26,
   "id": "a8ec9a08-fa52-4451-940a-77224f316ac7",
   "metadata": {},
   "outputs": [
    {
     "name": "stdout",
     "output_type": "stream",
     "text": [
      "sin knn\n"
     ]
    },
    {
     "data": {
      "text/plain": [
       "0.8886"
      ]
     },
     "execution_count": 26,
     "metadata": {},
     "output_type": "execute_result"
    }
   ],
   "source": [
    "print(\"sin knn\")\n",
    "y_pred_ensemble = predict_proba_ensamble3(X_test,clftree, nb, lr)\n",
    "performance_ensemble =  roc_auc_score(y_test, y_pred_ensemble)\n",
    "performance_ensemble.round(4)"
   ]
  },
  {
   "cell_type": "code",
   "execution_count": 27,
   "id": "17744588-5e41-47a9-b52f-4843e88e2ad8",
   "metadata": {},
   "outputs": [
    {
     "name": "stdout",
     "output_type": "stream",
     "text": [
      "sin nb\n"
     ]
    },
    {
     "data": {
      "text/plain": [
       "0.8796"
      ]
     },
     "execution_count": 27,
     "metadata": {},
     "output_type": "execute_result"
    }
   ],
   "source": [
    "print(\"sin nb\")\n",
    "y_pred_ensemble = predict_proba_ensamble3(X_test,clftree, knn, lr)\n",
    "performance_ensemble =  roc_auc_score(y_test, y_pred_ensemble)\n",
    "performance_ensemble.round(4)"
   ]
  },
  {
   "cell_type": "code",
   "execution_count": 28,
   "id": "4f02e15d-daf4-4bc2-b107-5d16ac99d121",
   "metadata": {},
   "outputs": [
    {
     "name": "stdout",
     "output_type": "stream",
     "text": [
      "sin tree\n"
     ]
    },
    {
     "data": {
      "text/plain": [
       "0.8815"
      ]
     },
     "execution_count": 28,
     "metadata": {},
     "output_type": "execute_result"
    }
   ],
   "source": [
    "print(\"sin tree\")\n",
    "y_pred_ensemble = predict_proba_ensamble3(X_test,knn, nb, lr)\n",
    "performance_ensemble =  roc_auc_score(y_test, y_pred_ensemble)\n",
    "performance_ensemble.round(4)"
   ]
  },
  {
   "cell_type": "code",
   "execution_count": 29,
   "id": "e5195697-ea46-4848-a050-911b87ba5c26",
   "metadata": {},
   "outputs": [
    {
     "name": "stdout",
     "output_type": "stream",
     "text": [
      "sin lR\n"
     ]
    },
    {
     "data": {
      "text/plain": [
       "0.8789"
      ]
     },
     "execution_count": 29,
     "metadata": {},
     "output_type": "execute_result"
    }
   ],
   "source": [
    "print(\"sin lR\")\n",
    "y_pred_ensemble = predict_proba_ensamble3(X_test,knn, nb, clftree)\n",
    "performance_ensemble =  roc_auc_score(y_test, y_pred_ensemble)\n",
    "performance_ensemble.round(4)"
   ]
  },
  {
   "cell_type": "markdown",
   "id": "f3d13f00-2017-4b61-8a2b-b75869e521f6",
   "metadata": {},
   "source": [
    "|x|x|\n",
    "|---|---|\n",
    "|ROC AUC NB:|   0.866|\n",
    "|ROC AUC KNN: | 0.8432|\n",
    "|ROC AUC LR:  | 0.8912|\n",
    "|ROC AUC T:|    0.849|\n",
    "\n",
    "----------------------------\n",
    "|x|x|\n",
    "|---|---|\n",
    "|los 4| 0.8843|\n",
    "|sin knn | 0.8886|\n",
    "|sin nb |0.8796|\n",
    "|sin tree| 0.8815|\n",
    "|sin lR |0.8789|\n"
   ]
  },
  {
   "cell_type": "code",
   "execution_count": null,
   "id": "02548fe0-decc-4a97-b47d-7292cc493937",
   "metadata": {},
   "outputs": [],
   "source": []
  }
 ],
 "metadata": {
  "kernelspec": {
   "display_name": "Python [conda env:ds] *",
   "language": "python",
   "name": "conda-env-ds-py"
  },
  "language_info": {
   "codemirror_mode": {
    "name": "ipython",
    "version": 3
   },
   "file_extension": ".py",
   "mimetype": "text/x-python",
   "name": "python",
   "nbconvert_exporter": "python",
   "pygments_lexer": "ipython3",
   "version": "3.8.12"
  }
 },
 "nbformat": 4,
 "nbformat_minor": 5
}
