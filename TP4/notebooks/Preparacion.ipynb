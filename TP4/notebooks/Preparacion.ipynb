{
 "cells": [
  {
   "cell_type": "markdown",
   "id": "affe8853",
   "metadata": {},
   "source": [
    "## Importación modulos y datos"
   ]
  },
  {
   "cell_type": "code",
   "execution_count": 1,
   "id": "d6b1c672",
   "metadata": {},
   "outputs": [],
   "source": [
    "import numpy as np\n",
    "import pandas as pd\n",
    "import seaborn as sns\n",
    "import matplotlib.pyplot as plt"
   ]
  },
  {
   "cell_type": "code",
   "execution_count": 2,
   "id": "62f9bdcd",
   "metadata": {},
   "outputs": [],
   "source": [
    "data = pd.read_csv(\"../Merge_20220725.csv\", sep = \",\",usecols=[0,1,2,3,4,5,6,7,8,9], low_memory=False) "
   ]
  },
  {
   "cell_type": "markdown",
   "id": "7280b51d",
   "metadata": {},
   "source": [
    "## Exploración datos"
   ]
  },
  {
   "cell_type": "code",
   "execution_count": 3,
   "id": "b46ce17f",
   "metadata": {},
   "outputs": [
    {
     "data": {
      "text/html": [
       "<div>\n",
       "<style scoped>\n",
       "    .dataframe tbody tr th:only-of-type {\n",
       "        vertical-align: middle;\n",
       "    }\n",
       "\n",
       "    .dataframe tbody tr th {\n",
       "        vertical-align: top;\n",
       "    }\n",
       "\n",
       "    .dataframe thead th {\n",
       "        text-align: right;\n",
       "    }\n",
       "</style>\n",
       "<table border=\"1\" class=\"dataframe\">\n",
       "  <thead>\n",
       "    <tr style=\"text-align: right;\">\n",
       "      <th></th>\n",
       "      <th>Lote</th>\n",
       "      <th>Individuo</th>\n",
       "      <th>AE</th>\n",
       "      <th>LE</th>\n",
       "      <th>AT</th>\n",
       "      <th>LT</th>\n",
       "      <th>AA</th>\n",
       "      <th>LA</th>\n",
       "      <th>NV</th>\n",
       "      <th>Morfotipo</th>\n",
       "    </tr>\n",
       "  </thead>\n",
       "  <tbody>\n",
       "    <tr>\n",
       "      <th>0</th>\n",
       "      <td>99</td>\n",
       "      <td>19</td>\n",
       "      <td>6.92</td>\n",
       "      <td>2.10</td>\n",
       "      <td>13.67</td>\n",
       "      <td>10.43</td>\n",
       "      <td>8.23</td>\n",
       "      <td>6.05</td>\n",
       "      <td>5.22</td>\n",
       "      <td>LU</td>\n",
       "    </tr>\n",
       "    <tr>\n",
       "      <th>1</th>\n",
       "      <td>99</td>\n",
       "      <td>20</td>\n",
       "      <td>6.50</td>\n",
       "      <td>1.91</td>\n",
       "      <td>12.51</td>\n",
       "      <td>9.53</td>\n",
       "      <td>6.33</td>\n",
       "      <td>5.80</td>\n",
       "      <td>5.29</td>\n",
       "      <td>LU</td>\n",
       "    </tr>\n",
       "    <tr>\n",
       "      <th>2</th>\n",
       "      <td>99</td>\n",
       "      <td>21</td>\n",
       "      <td>6.08</td>\n",
       "      <td>1.74</td>\n",
       "      <td>12.70</td>\n",
       "      <td>9.27</td>\n",
       "      <td>7.59</td>\n",
       "      <td>5.73</td>\n",
       "      <td>5.23</td>\n",
       "      <td>LU</td>\n",
       "    </tr>\n",
       "    <tr>\n",
       "      <th>3</th>\n",
       "      <td>99</td>\n",
       "      <td>22</td>\n",
       "      <td>6.50</td>\n",
       "      <td>1.94</td>\n",
       "      <td>12.81</td>\n",
       "      <td>9.80</td>\n",
       "      <td>7.60</td>\n",
       "      <td>5.68</td>\n",
       "      <td>5.26</td>\n",
       "      <td>LU</td>\n",
       "    </tr>\n",
       "    <tr>\n",
       "      <th>4</th>\n",
       "      <td>99</td>\n",
       "      <td>23</td>\n",
       "      <td>5.42</td>\n",
       "      <td>1.50</td>\n",
       "      <td>12.17</td>\n",
       "      <td>8.80</td>\n",
       "      <td>7.17</td>\n",
       "      <td>5.57</td>\n",
       "      <td>5.14</td>\n",
       "      <td>LU</td>\n",
       "    </tr>\n",
       "  </tbody>\n",
       "</table>\n",
       "</div>"
      ],
      "text/plain": [
       "   Lote  Individuo    AE    LE     AT     LT    AA    LA    NV Morfotipo\n",
       "0    99         19  6.92  2.10  13.67  10.43  8.23  6.05  5.22        LU\n",
       "1    99         20  6.50  1.91  12.51   9.53  6.33  5.80  5.29        LU\n",
       "2    99         21  6.08  1.74  12.70   9.27  7.59  5.73  5.23        LU\n",
       "3    99         22  6.50  1.94  12.81   9.80  7.60  5.68  5.26        LU\n",
       "4    99         23  5.42  1.50  12.17   8.80  7.17  5.57  5.14        LU"
      ]
     },
     "execution_count": 3,
     "metadata": {},
     "output_type": "execute_result"
    }
   ],
   "source": [
    "data.head()"
   ]
  },
  {
   "cell_type": "code",
   "execution_count": 4,
   "id": "c683230f",
   "metadata": {},
   "outputs": [
    {
     "data": {
      "text/plain": [
       "(293, 10)"
      ]
     },
     "execution_count": 4,
     "metadata": {},
     "output_type": "execute_result"
    }
   ],
   "source": [
    "data.shape"
   ]
  },
  {
   "cell_type": "code",
   "execution_count": 5,
   "id": "ac38f845",
   "metadata": {},
   "outputs": [
    {
     "data": {
      "text/plain": [
       "Lote           int64\n",
       "Individuo      int64\n",
       "AE           float64\n",
       "LE           float64\n",
       "AT           float64\n",
       "LT           float64\n",
       "AA           float64\n",
       "LA           float64\n",
       "NV           float64\n",
       "Morfotipo     object\n",
       "dtype: object"
      ]
     },
     "execution_count": 5,
     "metadata": {},
     "output_type": "execute_result"
    }
   ],
   "source": [
    "data.dtypes"
   ]
  },
  {
   "cell_type": "code",
   "execution_count": 6,
   "id": "b02e7c65",
   "metadata": {},
   "outputs": [
    {
     "data": {
      "text/plain": [
       "0      LU\n",
       "1      LU\n",
       "2      LU\n",
       "3      LU\n",
       "4      LU\n",
       "       ..\n",
       "288    LU\n",
       "289    LB\n",
       "290    LU\n",
       "291    LU\n",
       "292    LB\n",
       "Name: Morfotipo, Length: 293, dtype: category\n",
       "Categories (3, object): ['DU', 'LB', 'LU']"
      ]
     },
     "execution_count": 6,
     "metadata": {},
     "output_type": "execute_result"
    }
   ],
   "source": [
    "data.Morfotipo.astype('category')\n"
   ]
  },
  {
   "cell_type": "code",
   "execution_count": 7,
   "id": "c871ca2c",
   "metadata": {},
   "outputs": [
    {
     "data": {
      "text/plain": [
       "array(['LU', 'LB', 'DU'], dtype=object)"
      ]
     },
     "execution_count": 7,
     "metadata": {},
     "output_type": "execute_result"
    }
   ],
   "source": [
    "data.Morfotipo.unique()"
   ]
  },
  {
   "cell_type": "code",
   "execution_count": 8,
   "id": "fbc1fb7a",
   "metadata": {},
   "outputs": [
    {
     "data": {
      "text/html": [
       "<div>\n",
       "<style scoped>\n",
       "    .dataframe tbody tr th:only-of-type {\n",
       "        vertical-align: middle;\n",
       "    }\n",
       "\n",
       "    .dataframe tbody tr th {\n",
       "        vertical-align: top;\n",
       "    }\n",
       "\n",
       "    .dataframe thead th {\n",
       "        text-align: right;\n",
       "    }\n",
       "</style>\n",
       "<table border=\"1\" class=\"dataframe\">\n",
       "  <thead>\n",
       "    <tr style=\"text-align: right;\">\n",
       "      <th></th>\n",
       "      <th>Lote</th>\n",
       "      <th>Individuo</th>\n",
       "      <th>AE</th>\n",
       "      <th>LE</th>\n",
       "      <th>AT</th>\n",
       "      <th>LT</th>\n",
       "      <th>AA</th>\n",
       "      <th>LA</th>\n",
       "      <th>NV</th>\n",
       "    </tr>\n",
       "  </thead>\n",
       "  <tbody>\n",
       "    <tr>\n",
       "      <th>count</th>\n",
       "      <td>293.000000</td>\n",
       "      <td>293.000000</td>\n",
       "      <td>293.000000</td>\n",
       "      <td>293.000000</td>\n",
       "      <td>293.000000</td>\n",
       "      <td>293.000000</td>\n",
       "      <td>293.000000</td>\n",
       "      <td>293.000000</td>\n",
       "      <td>293.000000</td>\n",
       "    </tr>\n",
       "    <tr>\n",
       "      <th>mean</th>\n",
       "      <td>192.269625</td>\n",
       "      <td>24.399317</td>\n",
       "      <td>6.116689</td>\n",
       "      <td>1.754539</td>\n",
       "      <td>13.002662</td>\n",
       "      <td>9.636519</td>\n",
       "      <td>7.574539</td>\n",
       "      <td>6.067338</td>\n",
       "      <td>5.090546</td>\n",
       "    </tr>\n",
       "    <tr>\n",
       "      <th>std</th>\n",
       "      <td>99.273969</td>\n",
       "      <td>24.014856</td>\n",
       "      <td>0.970058</td>\n",
       "      <td>0.360896</td>\n",
       "      <td>1.918309</td>\n",
       "      <td>1.393056</td>\n",
       "      <td>1.212036</td>\n",
       "      <td>0.802034</td>\n",
       "      <td>0.339817</td>\n",
       "    </tr>\n",
       "    <tr>\n",
       "      <th>min</th>\n",
       "      <td>99.000000</td>\n",
       "      <td>1.000000</td>\n",
       "      <td>3.200000</td>\n",
       "      <td>0.710000</td>\n",
       "      <td>8.650000</td>\n",
       "      <td>6.260000</td>\n",
       "      <td>4.790000</td>\n",
       "      <td>4.460000</td>\n",
       "      <td>4.020000</td>\n",
       "    </tr>\n",
       "    <tr>\n",
       "      <th>25%</th>\n",
       "      <td>122.000000</td>\n",
       "      <td>8.000000</td>\n",
       "      <td>5.400000</td>\n",
       "      <td>1.480000</td>\n",
       "      <td>11.490000</td>\n",
       "      <td>8.680000</td>\n",
       "      <td>6.670000</td>\n",
       "      <td>5.480000</td>\n",
       "      <td>4.920000</td>\n",
       "    </tr>\n",
       "    <tr>\n",
       "      <th>50%</th>\n",
       "      <td>128.000000</td>\n",
       "      <td>16.000000</td>\n",
       "      <td>6.090000</td>\n",
       "      <td>1.750000</td>\n",
       "      <td>12.810000</td>\n",
       "      <td>9.530000</td>\n",
       "      <td>7.460000</td>\n",
       "      <td>5.970000</td>\n",
       "      <td>5.160000</td>\n",
       "    </tr>\n",
       "    <tr>\n",
       "      <th>75%</th>\n",
       "      <td>294.000000</td>\n",
       "      <td>27.000000</td>\n",
       "      <td>6.810000</td>\n",
       "      <td>2.010000</td>\n",
       "      <td>14.200000</td>\n",
       "      <td>10.620000</td>\n",
       "      <td>8.410000</td>\n",
       "      <td>6.590000</td>\n",
       "      <td>5.310000</td>\n",
       "    </tr>\n",
       "    <tr>\n",
       "      <th>max</th>\n",
       "      <td>404.000000</td>\n",
       "      <td>96.000000</td>\n",
       "      <td>9.040000</td>\n",
       "      <td>3.130000</td>\n",
       "      <td>19.090000</td>\n",
       "      <td>14.450000</td>\n",
       "      <td>11.950000</td>\n",
       "      <td>8.810000</td>\n",
       "      <td>5.900000</td>\n",
       "    </tr>\n",
       "  </tbody>\n",
       "</table>\n",
       "</div>"
      ],
      "text/plain": [
       "             Lote   Individuo          AE          LE          AT          LT  \\\n",
       "count  293.000000  293.000000  293.000000  293.000000  293.000000  293.000000   \n",
       "mean   192.269625   24.399317    6.116689    1.754539   13.002662    9.636519   \n",
       "std     99.273969   24.014856    0.970058    0.360896    1.918309    1.393056   \n",
       "min     99.000000    1.000000    3.200000    0.710000    8.650000    6.260000   \n",
       "25%    122.000000    8.000000    5.400000    1.480000   11.490000    8.680000   \n",
       "50%    128.000000   16.000000    6.090000    1.750000   12.810000    9.530000   \n",
       "75%    294.000000   27.000000    6.810000    2.010000   14.200000   10.620000   \n",
       "max    404.000000   96.000000    9.040000    3.130000   19.090000   14.450000   \n",
       "\n",
       "               AA          LA          NV  \n",
       "count  293.000000  293.000000  293.000000  \n",
       "mean     7.574539    6.067338    5.090546  \n",
       "std      1.212036    0.802034    0.339817  \n",
       "min      4.790000    4.460000    4.020000  \n",
       "25%      6.670000    5.480000    4.920000  \n",
       "50%      7.460000    5.970000    5.160000  \n",
       "75%      8.410000    6.590000    5.310000  \n",
       "max     11.950000    8.810000    5.900000  "
      ]
     },
     "execution_count": 8,
     "metadata": {},
     "output_type": "execute_result"
    }
   ],
   "source": [
    "data.describe()"
   ]
  },
  {
   "cell_type": "code",
   "execution_count": 9,
   "id": "8feba3da",
   "metadata": {},
   "outputs": [
    {
     "data": {
      "text/plain": [
       "Lote         0\n",
       "Individuo    0\n",
       "AE           0\n",
       "LE           0\n",
       "AT           0\n",
       "LT           0\n",
       "AA           0\n",
       "LA           0\n",
       "NV           0\n",
       "Morfotipo    0\n",
       "dtype: int64"
      ]
     },
     "execution_count": 9,
     "metadata": {},
     "output_type": "execute_result"
    }
   ],
   "source": [
    "data.isnull().sum()"
   ]
  },
  {
   "cell_type": "code",
   "execution_count": 10,
   "id": "468c0ec7",
   "metadata": {},
   "outputs": [
    {
     "data": {
      "text/plain": [
       "<AxesSubplot:>"
      ]
     },
     "execution_count": 10,
     "metadata": {},
     "output_type": "execute_result"
    },
    {
     "data": {
      "image/png": "[encoded data removed]",
      "text/plain": [
       "<Figure size 432x288 with 2 Axes>"
      ]
     },
     "metadata": {
      "needs_background": "light"
     },
     "output_type": "display_data"
    }
   ],
   "source": [
    "sns.heatmap(data.corr().iloc[2:9,2:9], vmin = -1, vmax = 1, center = 0, cmap = \"YlGnBu\", annot = True)"
   ]
  },
  {
   "cell_type": "code",
   "execution_count": 11,
   "id": "fab8a905",
   "metadata": {},
   "outputs": [],
   "source": [
    "def distribution_plotter(data, label, bins=\"auto\"):    \n",
    "    plt.figure(figsize = (15,5))\n",
    "    sns.set_style(\"white\")    \n",
    "    dist = sns.histplot(data, bins=bins, stat = \"count\", kde = False, \n",
    "                        line_kws = {'linewidth':5}, \n",
    "                        binwidth = 500)    \n",
    "    dist.set_title('Distribucion ', fontsize = 16)\n",
    "    plt.xticks(rotation=45, ha='right')"
   ]
  },
  {
   "cell_type": "code",
   "execution_count": 12,
   "id": "d5de4e4f",
   "metadata": {},
   "outputs": [
    {
     "data": {
      "image/png": "[encoded data removed]",
      "text/plain": [
       "<Figure size 1080x360 with 1 Axes>"
      ]
     },
     "metadata": {
      "needs_background": "light"
     },
     "output_type": "display_data"
    }
   ],
   "source": [
    "distribution_plotter(data[\"Morfotipo\"],data[\"Morfotipo\"].unique())"
   ]
  },
  {
   "cell_type": "code",
   "execution_count": 13,
   "id": "458c68dd",
   "metadata": {},
   "outputs": [
    {
     "data": {
      "text/plain": [
       "array([[<AxesSubplot:title={'center':'AE'}>,\n",
       "        <AxesSubplot:title={'center':'LE'}>,\n",
       "        <AxesSubplot:title={'center':'AT'}>],\n",
       "       [<AxesSubplot:title={'center':'LT'}>,\n",
       "        <AxesSubplot:title={'center':'AA'}>,\n",
       "        <AxesSubplot:title={'center':'LA'}>],\n",
       "       [<AxesSubplot:title={'center':'NV'}>, <AxesSubplot:>,\n",
       "        <AxesSubplot:>]], dtype=object)"
      ]
     },
     "execution_count": 13,
     "metadata": {},
     "output_type": "execute_result"
    },
    {
     "data": {
      "image/png": "[encoded data removed]",
      "text/plain": [
       "<Figure size 432x288 with 9 Axes>"
      ]
     },
     "metadata": {},
     "output_type": "display_data"
    }
   ],
   "source": [
    "columns = data[[\"AE\",\"LE\",\"AT\",\"LT\",\"AA\",\"LA\",\"NV\"]]\n",
    "columns.hist()"
   ]
  },
  {
   "cell_type": "markdown",
   "id": "7d4dce18",
   "metadata": {},
   "source": [
    "## Creación Dummies"
   ]
  },
  {
   "cell_type": "code",
   "execution_count": 14,
   "id": "d33e1148",
   "metadata": {},
   "outputs": [],
   "source": [
    "data = pd.get_dummies(data=data, columns= [\"Morfotipo\"], drop_first = True)"
   ]
  },
  {
   "cell_type": "code",
   "execution_count": 15,
   "id": "cca37907",
   "metadata": {},
   "outputs": [
    {
     "data": {
      "text/html": [
       "<div>\n",
       "<style scoped>\n",
       "    .dataframe tbody tr th:only-of-type {\n",
       "        vertical-align: middle;\n",
       "    }\n",
       "\n",
       "    .dataframe tbody tr th {\n",
       "        vertical-align: top;\n",
       "    }\n",
       "\n",
       "    .dataframe thead th {\n",
       "        text-align: right;\n",
       "    }\n",
       "</style>\n",
       "<table border=\"1\" class=\"dataframe\">\n",
       "  <thead>\n",
       "    <tr style=\"text-align: right;\">\n",
       "      <th></th>\n",
       "      <th>Lote</th>\n",
       "      <th>Individuo</th>\n",
       "      <th>AE</th>\n",
       "      <th>LE</th>\n",
       "      <th>AT</th>\n",
       "      <th>LT</th>\n",
       "      <th>AA</th>\n",
       "      <th>LA</th>\n",
       "      <th>NV</th>\n",
       "      <th>Morfotipo_LB</th>\n",
       "      <th>Morfotipo_LU</th>\n",
       "    </tr>\n",
       "  </thead>\n",
       "  <tbody>\n",
       "    <tr>\n",
       "      <th>0</th>\n",
       "      <td>99</td>\n",
       "      <td>19</td>\n",
       "      <td>6.92</td>\n",
       "      <td>2.10</td>\n",
       "      <td>13.67</td>\n",
       "      <td>10.43</td>\n",
       "      <td>8.23</td>\n",
       "      <td>6.05</td>\n",
       "      <td>5.22</td>\n",
       "      <td>0</td>\n",
       "      <td>1</td>\n",
       "    </tr>\n",
       "    <tr>\n",
       "      <th>1</th>\n",
       "      <td>99</td>\n",
       "      <td>20</td>\n",
       "      <td>6.50</td>\n",
       "      <td>1.91</td>\n",
       "      <td>12.51</td>\n",
       "      <td>9.53</td>\n",
       "      <td>6.33</td>\n",
       "      <td>5.80</td>\n",
       "      <td>5.29</td>\n",
       "      <td>0</td>\n",
       "      <td>1</td>\n",
       "    </tr>\n",
       "    <tr>\n",
       "      <th>2</th>\n",
       "      <td>99</td>\n",
       "      <td>21</td>\n",
       "      <td>6.08</td>\n",
       "      <td>1.74</td>\n",
       "      <td>12.70</td>\n",
       "      <td>9.27</td>\n",
       "      <td>7.59</td>\n",
       "      <td>5.73</td>\n",
       "      <td>5.23</td>\n",
       "      <td>0</td>\n",
       "      <td>1</td>\n",
       "    </tr>\n",
       "    <tr>\n",
       "      <th>3</th>\n",
       "      <td>99</td>\n",
       "      <td>22</td>\n",
       "      <td>6.50</td>\n",
       "      <td>1.94</td>\n",
       "      <td>12.81</td>\n",
       "      <td>9.80</td>\n",
       "      <td>7.60</td>\n",
       "      <td>5.68</td>\n",
       "      <td>5.26</td>\n",
       "      <td>0</td>\n",
       "      <td>1</td>\n",
       "    </tr>\n",
       "    <tr>\n",
       "      <th>4</th>\n",
       "      <td>99</td>\n",
       "      <td>23</td>\n",
       "      <td>5.42</td>\n",
       "      <td>1.50</td>\n",
       "      <td>12.17</td>\n",
       "      <td>8.80</td>\n",
       "      <td>7.17</td>\n",
       "      <td>5.57</td>\n",
       "      <td>5.14</td>\n",
       "      <td>0</td>\n",
       "      <td>1</td>\n",
       "    </tr>\n",
       "  </tbody>\n",
       "</table>\n",
       "</div>"
      ],
      "text/plain": [
       "   Lote  Individuo    AE    LE     AT     LT    AA    LA    NV  Morfotipo_LB  \\\n",
       "0    99         19  6.92  2.10  13.67  10.43  8.23  6.05  5.22             0   \n",
       "1    99         20  6.50  1.91  12.51   9.53  6.33  5.80  5.29             0   \n",
       "2    99         21  6.08  1.74  12.70   9.27  7.59  5.73  5.23             0   \n",
       "3    99         22  6.50  1.94  12.81   9.80  7.60  5.68  5.26             0   \n",
       "4    99         23  5.42  1.50  12.17   8.80  7.17  5.57  5.14             0   \n",
       "\n",
       "   Morfotipo_LU  \n",
       "0             1  \n",
       "1             1  \n",
       "2             1  \n",
       "3             1  \n",
       "4             1  "
      ]
     },
     "execution_count": 15,
     "metadata": {},
     "output_type": "execute_result"
    }
   ],
   "source": [
    "data.head()"
   ]
  },
  {
   "cell_type": "markdown",
   "id": "9071021e",
   "metadata": {},
   "source": [
    "## Exportación dataset listo"
   ]
  },
  {
   "cell_type": "code",
   "execution_count": 17,
   "id": "3d233471",
   "metadata": {},
   "outputs": [],
   "source": [
    "data.to_csv(r'../conchillas_listo.csv', index = False, header=True)"
   ]
  }
 ],
 "metadata": {
  "kernelspec": {
   "display_name": "Python 3 (ipykernel)",
   "language": "python",
   "name": "python3"
  },
  "language_info": {
   "codemirror_mode": {
    "name": "ipython",
    "version": 3
   },
   "file_extension": ".py",
   "mimetype": "text/x-python",
   "name": "python",
   "nbconvert_exporter": "python",
   "pygments_lexer": "ipython3",
   "version": "3.8.12"
  }
 },
 "nbformat": 4,
 "nbformat_minor": 5
}
