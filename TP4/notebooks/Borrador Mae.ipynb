{
 "cells": [
  {
   "cell_type": "markdown",
   "id": "60445ec1",
   "metadata": {
    "id": "238b6b49"
   },
   "source": [
    "# Importación modulos y datos"
   ]
  },
  {
   "cell_type": "code",
   "execution_count": 1,
   "id": "e85ac2cc",
   "metadata": {
    "executionInfo": {
     "elapsed": 296,
     "status": "ok",
     "timestamp": 1660836739721,
     "user": {
      "displayName": "Maela Lombardi",
      "userId": "03936068368896012188"
     },
     "user_tz": 180
    },
    "id": "f38a7971"
   },
   "outputs": [],
   "source": [
    "import numpy as np\n",
    "import pandas as pd\n",
    "import seaborn as sns\n",
    "import matplotlib \n",
    "import matplotlib.pyplot as plt\n",
    "\n",
    "matplotlib.style.use('ggplot')\n",
    "%matplotlib inline"
   ]
  },
  {
   "cell_type": "code",
   "execution_count": null,
   "id": "5974b447",
   "metadata": {
    "executionInfo": {
     "elapsed": 296,
     "status": "ok",
     "timestamp": 1660836741397,
     "user": {
      "displayName": "Maela Lombardi",
      "userId": "03936068368896012188"
     },
     "user_tz": 180
    },
    "id": "5dea5474"
   },
   "outputs": [],
   "source": [
    "#data = pd.read_csv(\"merge_20220812.csv\", low_memory=False) "
   ]
  },
  {
   "cell_type": "code",
   "execution_count": 2,
   "id": "1ba9d971",
   "metadata": {},
   "outputs": [],
   "source": [
    "data = pd.read_csv(\"../data/conchillas_orig.csv\", low_memory=False) "
   ]
  },
  {
   "cell_type": "markdown",
   "id": "7551e3ba",
   "metadata": {
    "id": "35c88dbe"
   },
   "source": [
    "# Exploración y limpieza de datos"
   ]
  },
  {
   "cell_type": "code",
   "execution_count": 3,
   "id": "c40f9f3a",
   "metadata": {
    "colab": {
     "base_uri": "https://localhost:8080/"
    },
    "executionInfo": {
     "elapsed": 458,
     "status": "ok",
     "timestamp": 1660836743215,
     "user": {
      "displayName": "Maela Lombardi",
      "userId": "03936068368896012188"
     },
     "user_tz": 180
    },
    "id": "1ac9e610",
    "outputId": "275bf79b-e12c-4682-a8bd-d1976455b463"
   },
   "outputs": [
    {
     "name": "stdout",
     "output_type": "stream",
     "text": [
      "<class 'pandas.core.frame.DataFrame'>\n",
      "RangeIndex: 423 entries, 0 to 422\n",
      "Data columns (total 12 columns):\n",
      " #   Column     Non-Null Count  Dtype  \n",
      "---  ------     --------------  -----  \n",
      " 0   Lote       423 non-null    int64  \n",
      " 1   Individuo  423 non-null    int64  \n",
      " 2   AE         423 non-null    float64\n",
      " 3   LE         423 non-null    float64\n",
      " 4   AT         423 non-null    float64\n",
      " 5   LT         423 non-null    float64\n",
      " 6   AA         423 non-null    float64\n",
      " 7   LA         423 non-null    float64\n",
      " 8   NV         423 non-null    float64\n",
      " 9   Morfotipo  423 non-null    object \n",
      " 10  Labio      422 non-null    float64\n",
      " 11  cox1-lsu   105 non-null    object \n",
      "dtypes: float64(8), int64(2), object(2)\n",
      "memory usage: 39.8+ KB\n"
     ]
    }
   ],
   "source": [
    "data.info()"
   ]
  },
  {
   "cell_type": "code",
   "execution_count": 4,
   "id": "22e3428f",
   "metadata": {
    "executionInfo": {
     "elapsed": 266,
     "status": "ok",
     "timestamp": 1660836746147,
     "user": {
      "displayName": "Maela Lombardi",
      "userId": "03936068368896012188"
     },
     "user_tz": 180
    },
    "id": "poMv2x9OMDkP"
   },
   "outputs": [],
   "source": [
    "data = data.dropna(subset=['Labio'])"
   ]
  },
  {
   "cell_type": "code",
   "execution_count": null,
   "id": "1b55b28f",
   "metadata": {
    "colab": {
     "base_uri": "https://localhost:8080/",
     "height": 300
    },
    "executionInfo": {
     "elapsed": 12,
     "status": "ok",
     "timestamp": 1660836747751,
     "user": {
      "displayName": "Maela Lombardi",
      "userId": "03936068368896012188"
     },
     "user_tz": 180
    },
    "id": "e08a57d7",
    "outputId": "c94a79da-f6db-4738-c689-e6c3d5ece00a"
   },
   "outputs": [],
   "source": [
    "data.iloc[:,2:].describe()"
   ]
  },
  {
   "cell_type": "code",
   "execution_count": null,
   "id": "449f1466",
   "metadata": {
    "colab": {
     "base_uri": "https://localhost:8080/"
    },
    "executionInfo": {
     "elapsed": 304,
     "status": "ok",
     "timestamp": 1660836750965,
     "user": {
      "displayName": "Maela Lombardi",
      "userId": "03936068368896012188"
     },
     "user_tz": 180
    },
    "id": "7566d7c3",
    "outputId": "acd09181-08a5-4e81-e61d-abfe89be7a24"
   },
   "outputs": [],
   "source": [
    "print(pd.value_counts(data[\"Morfotipo\"], sort = True, normalize=True))"
   ]
  },
  {
   "cell_type": "code",
   "execution_count": null,
   "id": "3eba2c34",
   "metadata": {
    "colab": {
     "base_uri": "https://localhost:8080/"
    },
    "executionInfo": {
     "elapsed": 276,
     "status": "ok",
     "timestamp": 1660836763644,
     "user": {
      "displayName": "Maela Lombardi",
      "userId": "03936068368896012188"
     },
     "user_tz": 180
    },
    "id": "7d65f7c3",
    "outputId": "da32f0aa-9c34-4baa-d1e4-3395b59b713f"
   },
   "outputs": [],
   "source": [
    "print(pd.value_counts(data[\"Labio\"], sort = True, normalize=True))"
   ]
  },
  {
   "cell_type": "code",
   "execution_count": null,
   "id": "c95d7238",
   "metadata": {
    "colab": {
     "base_uri": "https://localhost:8080/"
    },
    "executionInfo": {
     "elapsed": 321,
     "status": "ok",
     "timestamp": 1660835332556,
     "user": {
      "displayName": "Maela Lombardi",
      "userId": "03936068368896012188"
     },
     "user_tz": 180
    },
    "id": "02521035",
    "outputId": "c339a041-57dd-4895-e2bd-e9262dc8646b"
   },
   "outputs": [],
   "source": [
    "data['cox1-lsu'].value_counts()"
   ]
  },
  {
   "cell_type": "markdown",
   "id": "295c7afb",
   "metadata": {
    "id": "yRRUQDFrbRU2"
   },
   "source": [
    "### Creación columnas nuevas"
   ]
  },
  {
   "cell_type": "code",
   "execution_count": 5,
   "id": "ad0f1f0b",
   "metadata": {
    "executionInfo": {
     "elapsed": 283,
     "status": "ok",
     "timestamp": 1660836774062,
     "user": {
      "displayName": "Maela Lombardi",
      "userId": "03936068368896012188"
     },
     "user_tz": 180
    },
    "id": "3bf84b90"
   },
   "outputs": [],
   "source": [
    "#Creamos un Filtro con NV > 4.75 y presencia de labio (divide adulto de joven???)\n",
    "data[\"Filtro_NV\"] = np.where(np.logical_or(data[\"NV\"] > 4.75, data[\"Labio\"] == 1),True,False)"
   ]
  },
  {
   "cell_type": "code",
   "execution_count": null,
   "id": "97ecffe1",
   "metadata": {
    "colab": {
     "base_uri": "https://localhost:8080/"
    },
    "executionInfo": {
     "elapsed": 303,
     "status": "ok",
     "timestamp": 1660836785163,
     "user": {
      "displayName": "Maela Lombardi",
      "userId": "03936068368896012188"
     },
     "user_tz": 180
    },
    "id": "cab8296f",
    "outputId": "87cb298b-8baf-4cdb-b47a-a72e344d3683"
   },
   "outputs": [],
   "source": [
    "print(pd.value_counts(data[\"Filtro_NV\"], sort = True, normalize=True))"
   ]
  },
  {
   "cell_type": "code",
   "execution_count": 6,
   "id": "96b4653e",
   "metadata": {
    "executionInfo": {
     "elapsed": 270,
     "status": "ok",
     "timestamp": 1660836790398,
     "user": {
      "displayName": "Maela Lombardi",
      "userId": "03936068368896012188"
     },
     "user_tz": 180
    },
    "id": "40e4803b"
   },
   "outputs": [],
   "source": [
    "data[\"Ratio_AE_LE\"] = data[\"AE\"]/data[\"LE\"]\n",
    "data[\"Ratio_AA_LA\"] = data[\"AA\"]/data[\"LA\"]\n",
    "data[\"Ratio_AT_LT\"] = data[\"AT\"]/data[\"LT\"]\n",
    "\n",
    "#aux copy: 'Ratio_LE_AE','Ratio_LT_AT','Ratio_LA_AA','Ratio_LE_LT','Ratio_AE_AT','Ratio_LA_LT','Ratio_AA_AT','Ratio_LE_LA','Ratio_AE_AA'"
   ]
  },
  {
   "cell_type": "code",
   "execution_count": null,
   "id": "6b23ec6d",
   "metadata": {
    "colab": {
     "base_uri": "https://localhost:8080/",
     "height": 206
    },
    "executionInfo": {
     "elapsed": 267,
     "status": "ok",
     "timestamp": 1660836792811,
     "user": {
      "displayName": "Maela Lombardi",
      "userId": "03936068368896012188"
     },
     "user_tz": 180
    },
    "id": "8U8lECkibi1n",
    "outputId": "03e141a5-fb0f-462c-e8f8-9d38b98be6df"
   },
   "outputs": [],
   "source": [
    "data.head()"
   ]
  },
  {
   "cell_type": "markdown",
   "id": "db1f069d",
   "metadata": {
    "id": "3ddec80a"
   },
   "source": [
    "### Relación entre variables"
   ]
  },
  {
   "cell_type": "code",
   "execution_count": null,
   "id": "bde1fac4",
   "metadata": {
    "colab": {
     "base_uri": "https://localhost:8080/",
     "height": 338
    },
    "executionInfo": {
     "elapsed": 895,
     "status": "ok",
     "timestamp": 1660836868259,
     "user": {
      "displayName": "Maela Lombardi",
      "userId": "03936068368896012188"
     },
     "user_tz": 180
    },
    "id": "068bfceb",
    "outputId": "1850c8fa-f4f2-448b-9ef4-98c25b975971"
   },
   "outputs": [],
   "source": [
    "#variables originales del dataset\n",
    "sns.heatmap(data.iloc[8:,8:].corr(), vmin = -1, vmax = 1, center = 0, cmap = \"YlGnBu\", annot = True)"
   ]
  },
  {
   "cell_type": "code",
   "execution_count": null,
   "id": "71823ba5",
   "metadata": {
    "colab": {
     "base_uri": "https://localhost:8080/",
     "height": 1000
    },
    "executionInfo": {
     "elapsed": 56279,
     "status": "ok",
     "timestamp": 1660834323994,
     "user": {
      "displayName": "Maela Lombardi",
      "userId": "03936068368896012188"
     },
     "user_tz": 180
    },
    "id": "f456092b",
    "outputId": "85ff70c4-e25d-4942-ae31-6b1984082a69"
   },
   "outputs": [],
   "source": [
    "sns.pairplot(data=data,x_vars=['AE','LE','AT','LT','AA','LA','NV','Labio'],\\\n",
    "         y_vars=['AE','LE','AT','LT','AA','LA','NV','Labio'],hue='Morfotipo',plot_kws={'alpha': 0.5},aspect=1.5);"
   ]
  },
  {
   "cell_type": "code",
   "execution_count": null,
   "id": "59ef2d7a",
   "metadata": {
    "colab": {
     "base_uri": "https://localhost:8080/",
     "height": 1000
    },
    "executionInfo": {
     "elapsed": 37085,
     "status": "ok",
     "timestamp": 1660834361058,
     "user": {
      "displayName": "Maela Lombardi",
      "userId": "03936068368896012188"
     },
     "user_tz": 180
    },
    "id": "64b7f899",
    "outputId": "23fc59c9-d2f3-43d3-c8c5-06d1824e2b77"
   },
   "outputs": [],
   "source": [
    "sns.pairplot(data=data,x_vars=['AE','LE','AT','LT','AA','LA','NV','Labio'],\\\n",
    "         y_vars=['AE','LE','AT','LT','AA','LA','NV','Labio'],hue='Filtro_NV',plot_kws={'alpha': 0.5},aspect=1.5);"
   ]
  },
  {
   "cell_type": "code",
   "execution_count": null,
   "id": "2f6ee731",
   "metadata": {
    "colab": {
     "base_uri": "https://localhost:8080/",
     "height": 444
    },
    "executionInfo": {
     "elapsed": 11504,
     "status": "ok",
     "timestamp": 1660834372537,
     "user": {
      "displayName": "Maela Lombardi",
      "userId": "03936068368896012188"
     },
     "user_tz": 180
    },
    "id": "Wkq4UAlIbqOd",
    "outputId": "2e782bc7-840d-48de-a0d3-04ec4dfd1aae"
   },
   "outputs": [],
   "source": [
    "sns.pairplot(data=data,x_vars=['NV','Ratio_AE_LE','Ratio_AA_LA','Ratio_AT_LT'],\\\n",
    "         y_vars=['NV','Ratio_AE_LE','Ratio_AA_LA','Ratio_AT_LT'],\\\n",
    "             hue='Morfotipo',plot_kws={'alpha': 0.5},aspect=1.5, markers=['o','s','D'],palette='CMRmap', height=1.5);"
   ]
  },
  {
   "cell_type": "markdown",
   "id": "6793c920",
   "metadata": {
    "id": "fc6f2306"
   },
   "source": [
    "### Distribución de las observaciones"
   ]
  },
  {
   "cell_type": "code",
   "execution_count": null,
   "id": "599a82bb",
   "metadata": {
    "id": "adb2cac6"
   },
   "outputs": [],
   "source": [
    "def distribution_plotter(data, label, bins=\"auto\"):    \n",
    "    plt.figure(figsize = (10,5))\n",
    "    sns.set_style(\"white\")    \n",
    "    dist = sns.histplot(data, bins=bins, stat = \"count\", kde = False, \n",
    "                        line_kws = {'linewidth':5}, \n",
    "                        binwidth = 500)    \n",
    "    dist.set_title('Distribucion ', fontsize = 16)\n",
    "    plt.xticks(rotation=45, ha='right')"
   ]
  },
  {
   "cell_type": "code",
   "execution_count": null,
   "id": "a1430c30",
   "metadata": {
    "id": "37c74995"
   },
   "outputs": [],
   "source": [
    "distribution_plotter(data[\"Morfotipo\"],data[\"Morfotipo\"].unique())"
   ]
  },
  {
   "cell_type": "code",
   "execution_count": 9,
   "id": "cccab682",
   "metadata": {
    "executionInfo": {
     "elapsed": 284,
     "status": "ok",
     "timestamp": 1660837017987,
     "user": {
      "displayName": "Maela Lombardi",
      "userId": "03936068368896012188"
     },
     "user_tz": 180
    },
    "id": "rhhlEkovmZfF"
   },
   "outputs": [],
   "source": [
    "def draw_histograms(df, variables, n_rows, n_cols):\n",
    "    fig=plt.figure()\n",
    "    for i, var_name in enumerate(variables):\n",
    "        ax=fig.add_subplot(n_rows,n_cols,i+1)\n",
    "        df[var_name].hist(bins=10,ax=ax)\n",
    "        ax.set_title(var_name+\" Distribution\")\n",
    "    fig.tight_layout()  \n",
    "    plt.show()"
   ]
  },
  {
   "cell_type": "code",
   "execution_count": 10,
   "id": "a7d36656",
   "metadata": {
    "colab": {
     "base_uri": "https://localhost:8080/",
     "height": 297
    },
    "executionInfo": {
     "elapsed": 2054,
     "status": "ok",
     "timestamp": 1660837108381,
     "user": {
      "displayName": "Maela Lombardi",
      "userId": "03936068368896012188"
     },
     "user_tz": 180
    },
    "id": "1A08qZbfmbzB",
    "outputId": "d1797d56-0b32-4aeb-e100-34a81513c3aa"
   },
   "outputs": [
    {
     "data": {
      "image/png": "[encoded data removed]",
      "text/plain": [
       "<Figure size 432x288 with 10 Axes>"
      ]
     },
     "metadata": {
      "needs_background": "light"
     },
     "output_type": "display_data"
    }
   ],
   "source": [
    "draw_histograms(data, data[[\"AE\",\"LE\",\"AT\",\"LT\",\"AA\",\"LA\",\"NV\",\"Ratio_AE_LE\",\"Ratio_AA_LA\",\"Ratio_AT_LT\"]], 2, 5)"
   ]
  },
  {
   "cell_type": "markdown",
   "id": "36a01129",
   "metadata": {
    "heading_collapsed": "true",
    "id": "1YubPgpTa7zW"
   },
   "source": [
    "# Modelos de clustering"
   ]
  },
  {
   "cell_type": "markdown",
   "id": "3ddc8eda",
   "metadata": {
    "id": "ce4c7482"
   },
   "source": [
    "## Importación modulos y dataset"
   ]
  },
  {
   "cell_type": "code",
   "execution_count": 11,
   "id": "86452223",
   "metadata": {
    "executionInfo": {
     "elapsed": 699,
     "status": "ok",
     "timestamp": 1660837123265,
     "user": {
      "displayName": "Maela Lombardi",
      "userId": "03936068368896012188"
     },
     "user_tz": 180
    },
    "id": "b9e4c6d0"
   },
   "outputs": [],
   "source": [
    "from sklearn.cluster import KMeans, DBSCAN\n",
    "from sklearn.preprocessing import StandardScaler\n",
    "from sklearn.metrics import classification_report,confusion_matrix\n",
    "from scipy.cluster import hierarchy \n",
    "from scipy.cluster.hierarchy import dendrogram, linkage, fcluster"
   ]
  },
  {
   "cell_type": "markdown",
   "id": "7c237f94",
   "metadata": {
    "heading_collapsed": "true",
    "id": "ee46a822"
   },
   "source": [
    "## Prueba Kmeans"
   ]
  },
  {
   "cell_type": "markdown",
   "id": "c597bb95",
   "metadata": {
    "id": "0f8a975c"
   },
   "source": [
    "### Con las variables originales"
   ]
  },
  {
   "cell_type": "code",
   "execution_count": 15,
   "id": "feae7627",
   "metadata": {
    "executionInfo": {
     "elapsed": 272,
     "status": "ok",
     "timestamp": 1660837135297,
     "user": {
      "displayName": "Maela Lombardi",
      "userId": "03936068368896012188"
     },
     "user_tz": 180
    },
    "id": "045278cc"
   },
   "outputs": [],
   "source": [
    "from sklearn.metrics import silhouette_score,calinski_harabasz_score,classification_report,confusion_matrix\n",
    "from sklearn.metrics import silhouette_score,silhouette_samples\n",
    "import matplotlib.cm as cm\n"
   ]
  },
  {
   "cell_type": "code",
   "execution_count": 13,
   "id": "68b54f65",
   "metadata": {
    "executionInfo": {
     "elapsed": 260,
     "status": "ok",
     "timestamp": 1660837140419,
     "user": {
      "displayName": "Maela Lombardi",
      "userId": "03936068368896012188"
     },
     "user_tz": 180
    },
    "id": "8454a30b"
   },
   "outputs": [],
   "source": [
    "x = data[['AE','LE','AT','LT','AA','LA','NV']]\n",
    "y_true = data[\"Morfotipo\"]\n",
    "\n",
    "scaler = StandardScaler()\n",
    "x_scaled=scaler.fit_transform(x);"
   ]
  },
  {
   "cell_type": "code",
   "execution_count": null,
   "id": "e651ca0b",
   "metadata": {
    "colab": {
     "base_uri": "https://localhost:8080/",
     "height": 282
    },
    "executionInfo": {
     "elapsed": 949,
     "status": "ok",
     "timestamp": 1660837143116,
     "user": {
      "displayName": "Maela Lombardi",
      "userId": "03936068368896012188"
     },
     "user_tz": 180
    },
    "id": "b5a28903",
    "outputId": "4a9709a3-87e2-42eb-c518-b8537f1a2147"
   },
   "outputs": [],
   "source": [
    "sq_distances=[]\n",
    "k_values=range(2,10);\n",
    "\n",
    "for k in k_values:\n",
    "    kmeans=KMeans(n_clusters=k,n_init=10,random_state=0) # Numero de repeticiones=10\n",
    "    kmeans.fit(x_scaled)\n",
    "    sq_distances.append(kmeans.inertia_)\n",
    "\n",
    "sns.lineplot(x=k_values,y=sq_distances,marker='o',size=30,legend=False);\n",
    "plt.ylabel('Suma Distancias Cuadráticas');plt.xlabel('Número de clusters'); "
   ]
  },
  {
   "cell_type": "code",
   "execution_count": null,
   "id": "8e0c2844",
   "metadata": {
    "colab": {
     "base_uri": "https://localhost:8080/",
     "height": 284
    },
    "executionInfo": {
     "elapsed": 1529,
     "status": "ok",
     "timestamp": 1660837148348,
     "user": {
      "displayName": "Maela Lombardi",
      "userId": "03936068368896012188"
     },
     "user_tz": 180
    },
    "id": "b4d449d7",
    "outputId": "d3b4dd9c-3f22-4ce4-c702-23fabf060286"
   },
   "outputs": [],
   "source": [
    "sil=[]\n",
    "k_values=range(2,10);\n",
    "\n",
    "for k in k_values:\n",
    "    kmeans=KMeans(n_clusters=k,n_init=10,random_state=0) # Numero de repeticiones=10\n",
    "    kmeans.fit(x_scaled)\n",
    "    score=silhouette_score(x_scaled,kmeans.labels_)\n",
    "    sil.append(score)\n",
    "\n",
    "sns.lineplot(x=k_values,y=sil,marker='o',size=30,legend=False);\n",
    "plt.ylabel('Silhouette score',fontsize=15);plt.xlabel('Número de clusters',fontsize=15);"
   ]
  },
  {
   "cell_type": "code",
   "execution_count": null,
   "id": "bee5ea28",
   "metadata": {
    "colab": {
     "base_uri": "https://localhost:8080/",
     "height": 1000
    },
    "executionInfo": {
     "elapsed": 4590,
     "status": "ok",
     "timestamp": 1660834551243,
     "user": {
      "displayName": "Maela Lombardi",
      "userId": "03936068368896012188"
     },
     "user_tz": 180
    },
    "id": "54da1552",
    "outputId": "dc3f51da-5bb1-4560-c421-affcbdee4090"
   },
   "outputs": [],
   "source": [
    "for n_clusters in range(2,10):\n",
    "    # Create a subplot with 1 row and 2 columns\n",
    "    fig, (ax1, ax2) = plt.subplots(1, 2)\n",
    "    fig.set_size_inches(14, 4)\n",
    "    \n",
    "    # The 1st subplot is the silhouette plot\n",
    "    # The silhouette coefficient can range from -1, 1 but in this example all\n",
    "    # lie within [-0.1, 1]\n",
    "    ax1.set_xlim([-0.1, 1])\n",
    "    # The (n_clusters+1)*10 is for inserting blank space between silhouette\n",
    "    # plots of individual clusters, to demarcate them clearly.\n",
    "    ax1.set_ylim([0, len(x) + (n_clusters + 1) * 10])\n",
    "\n",
    "    # Initialize the clusterer with n_clusters value and a random generator\n",
    "    # seed of 10 for reproducibility.\n",
    "    clusterer = KMeans(n_clusters=n_clusters, random_state=10)\n",
    "    cluster_labels = clusterer.fit_predict(x_scaled)\n",
    "\n",
    "    # The silhouette_score gives the average value for all the samples.\n",
    "    # This gives a perspective into the density and separation of the formed\n",
    "    # clusters\n",
    "    silhouette_avg = silhouette_score(x_scaled, cluster_labels)\n",
    "    print(\"For n_clusters =\", n_clusters,\n",
    "          \"The average silhouette_score is :\", silhouette_avg)\n",
    "\n",
    "    # Compute the silhouette scores for each sample\n",
    "    sample_silhouette_values = silhouette_samples(x_scaled, cluster_labels)\n",
    "\n",
    "    y_lower = 10\n",
    "    for i in range(n_clusters):\n",
    "        # Aggregate the silhouette scores for samples belonging to\n",
    "        # cluster i, and sort them\n",
    "        ith_cluster_silhouette_values = \\\n",
    "            sample_silhouette_values[cluster_labels == i]\n",
    "\n",
    "        ith_cluster_silhouette_values.sort()\n",
    "\n",
    "        size_cluster_i = ith_cluster_silhouette_values.shape[0]\n",
    "        y_upper = y_lower + size_cluster_i\n",
    "\n",
    "        color = cm.nipy_spectral(float(i) / n_clusters)\n",
    "        ax1.fill_betweenx(np.arange(y_lower, y_upper),\n",
    "                          0, ith_cluster_silhouette_values,\n",
    "                          facecolor=color, edgecolor=color, alpha=0.7)\n",
    "\n",
    "        # Label the silhouette plots with their cluster numbers at the middle\n",
    "        ax1.text(-0.05, y_lower + 0.5 * size_cluster_i, str(i))\n",
    "\n",
    "        # Compute the new y_lower for next plot\n",
    "        y_lower = y_upper + 10  # 10 for the 0 samples\n",
    "\n",
    "    ax1.set_title(\"The silhouette plot for the various clusters.\")\n",
    "    ax1.set_xlabel(\"The silhouette coefficient values\")\n",
    "    ax1.set_ylabel(\"Cluster label\")\n",
    "\n",
    "    # The vertical line for average silhouette score of all the values\n",
    "    ax1.axvline(x=silhouette_avg, color=\"red\", linestyle=\"--\")\n",
    "\n",
    "    ax1.set_yticks([])  # Clear the yaxis labels / ticks\n",
    "    ax1.set_xticks([-0.1, 0, 0.2, 0.4, 0.6, 0.8, 1])\n",
    "\n",
    "    # 2nd Plot showing the actual clusters formed\n",
    "    colors = cm.nipy_spectral(cluster_labels.astype(float) / n_clusters)\n",
    "    ax2.scatter(x_scaled[:, 0], x_scaled[:, 1], marker='.', s=80, lw=0, alpha=0.7,\n",
    "                c=colors, edgecolor='k')\n",
    "\n",
    "    # Labeling the clusters\n",
    "    centers = clusterer.cluster_centers_\n",
    "    # Draw white circles at cluster centers\n",
    "    ax2.scatter(centers[:, 0], centers[:, 1], marker='o',\n",
    "                c=\"white\", alpha=1, s=200, edgecolor='k')\n",
    "\n",
    "    for i, c in enumerate(centers):\n",
    "        ax2.scatter(c[0], c[1], marker='$%d$' % i, alpha=1,\n",
    "                    s=50, edgecolor='k')\n",
    "\n",
    "    ax2.set_title(\"The visualization of the clustered data.\")\n",
    "    ax2.set_xlabel(\"Variables\")\n",
    "    ax2.set_ylabel(\"Score\")\n",
    "\n",
    "    plt.suptitle((\"Silhouette analysis for KMeans clustering on sample data \"\n",
    "                  \"with n_clusters = %d\" % n_clusters),\n",
    "                 fontsize=14, fontweight='bold')\n",
    "\n",
    "plt.show()"
   ]
  },
  {
   "cell_type": "code",
   "execution_count": 16,
   "id": "8b6e12b1",
   "metadata": {
    "colab": {
     "base_uri": "https://localhost:8080/",
     "height": 265
    },
    "executionInfo": {
     "elapsed": 964,
     "status": "ok",
     "timestamp": 1660837182032,
     "user": {
      "displayName": "Maela Lombardi",
      "userId": "03936068368896012188"
     },
     "user_tz": 180
    },
    "id": "fe182763",
    "outputId": "be4b85f2-3290-4476-d29e-2df555699155"
   },
   "outputs": [
    {
     "data": {
      "image/png": "[encoded data removed]",
      "text/plain": [
       "<Figure size 432x288 with 1 Axes>"
      ]
     },
     "metadata": {
      "needs_background": "light"
     },
     "output_type": "display_data"
    }
   ],
   "source": [
    "kmeans=KMeans(n_clusters=3,n_init=10,random_state=0) # Numero de repeticiones=10\n",
    "\n",
    "kmeans.fit(x_scaled)\n",
    "\n",
    "labels = kmeans.labels_ # Etiquetas que indican a qué cluster pertenecen los datos\n",
    "centroids = kmeans.cluster_centers_ # Coordenadas de los centroides\n",
    "\n",
    "sns.scatterplot(x=x_scaled[:,0],y=x_scaled[:,1],hue=labels,legend='full');\n",
    "\n",
    "#plt.xlabel('Income',fontsize=15);plt.ylabel('Spending Score',fontsize=15);\n",
    "plt.scatter(centroids[:,0],centroids[:,1],marker='x',s=50,color='k');"
   ]
  },
  {
   "cell_type": "code",
   "execution_count": null,
   "id": "549e729a",
   "metadata": {
    "colab": {
     "base_uri": "https://localhost:8080/",
     "height": 354
    },
    "executionInfo": {
     "elapsed": 1205,
     "status": "ok",
     "timestamp": 1660837184718,
     "user": {
      "displayName": "Maela Lombardi",
      "userId": "03936068368896012188"
     },
     "user_tz": 180
    },
    "id": "7ac91d1d",
    "outputId": "8b3a6e90-38c9-4282-f178-bad7d11b65af"
   },
   "outputs": [],
   "source": [
    "f,ax=plt.subplots(1,2,figsize=(12,5))\n",
    "sns.scatterplot(x = x_scaled[:,0], y = x_scaled[:,1],hue=y_true,ax=ax[0])\n",
    "ax[0].set_title('True labels')\n",
    "sns.scatterplot(x = x_scaled[:,0], y = x_scaled[:,1],hue=labels,ax=ax[1])\n",
    "ax[1].set_title('Kmeans')"
   ]
  },
  {
   "cell_type": "code",
   "execution_count": null,
   "id": "e055f2e3",
   "metadata": {
    "executionInfo": {
     "elapsed": 269,
     "status": "ok",
     "timestamp": 1660837194108,
     "user": {
      "displayName": "Maela Lombardi",
      "userId": "03936068368896012188"
     },
     "user_tz": 180
    },
    "id": "06bb9ba2"
   },
   "outputs": [],
   "source": [
    "#sns.heatmap(confusion_matrix(y_true,labels),annot=True,cmap='Blues',fmt=\".0f\");\n",
    "\n",
    "#print(classification_report(y_true,labels))"
   ]
  },
  {
   "cell_type": "markdown",
   "id": "2fc16f82",
   "metadata": {
    "id": "03379243"
   },
   "source": [
    "### Con todas las variables (menos Labio y Filtro_NV)"
   ]
  },
  {
   "cell_type": "code",
   "execution_count": 17,
   "id": "cdc34d62",
   "metadata": {
    "executionInfo": {
     "elapsed": 258,
     "status": "ok",
     "timestamp": 1660837198802,
     "user": {
      "displayName": "Maela Lombardi",
      "userId": "03936068368896012188"
     },
     "user_tz": 180
    },
    "id": "d1a790c7"
   },
   "outputs": [],
   "source": [
    "x_R = data[['AE','LE','AT','LT','AA','LA','NV','Ratio_AE_LE','Ratio_AA_LA','Ratio_AT_LT']]\n",
    "#x_R = data[['NV','Ratio_AE_LE','Ratio_AA_LA','Ratio_AT_LT']]\n",
    "y_true = data[\"Morfotipo\"]\n",
    "\n",
    "scaler = StandardScaler()\n",
    "x_R_scaled=scaler.fit_transform(x_R);"
   ]
  },
  {
   "cell_type": "code",
   "execution_count": 18,
   "id": "6858b1de",
   "metadata": {
    "colab": {
     "base_uri": "https://localhost:8080/",
     "height": 284
    },
    "executionInfo": {
     "elapsed": 1499,
     "status": "ok",
     "timestamp": 1660837203494,
     "user": {
      "displayName": "Maela Lombardi",
      "userId": "03936068368896012188"
     },
     "user_tz": 180
    },
    "id": "e701d068",
    "outputId": "c92b8943-874e-44e4-e75f-408d30bc2167"
   },
   "outputs": [
    {
     "data": {
      "image/png": "[encoded data removed]",
      "text/plain": [
       "<Figure size 432x288 with 1 Axes>"
      ]
     },
     "metadata": {
      "needs_background": "light"
     },
     "output_type": "display_data"
    }
   ],
   "source": [
    "sil=[]\n",
    "k_values=range(2,10);\n",
    "\n",
    "for k in k_values:\n",
    "    kmeans=KMeans(n_clusters=k,n_init=10,random_state=0) # Numero de repeticiones=10\n",
    "    kmeans.fit(x_R_scaled)\n",
    "    score=silhouette_score(x_R_scaled,kmeans.labels_)\n",
    "    sil.append(score)\n",
    "\n",
    "sns.lineplot(x=k_values,y=sil,marker='o',size=30,legend=False);\n",
    "plt.ylabel('Silhouette score',fontsize=15);plt.xlabel('Número de clusters',fontsize=15);"
   ]
  },
  {
   "cell_type": "code",
   "execution_count": 19,
   "id": "98e31528",
   "metadata": {
    "colab": {
     "base_uri": "https://localhost:8080/",
     "height": 265
    },
    "executionInfo": {
     "elapsed": 1031,
     "status": "ok",
     "timestamp": 1659973730494,
     "user": {
      "displayName": "Maela Lombardi",
      "userId": "03936068368896012188"
     },
     "user_tz": 180
    },
    "id": "f7661101",
    "outputId": "9d171d20-4140-498d-c74f-1ce05726c04c"
   },
   "outputs": [
    {
     "data": {
      "image/png": "[encoded data removed]",
      "text/plain": [
       "<Figure size 432x288 with 1 Axes>"
      ]
     },
     "metadata": {
      "needs_background": "light"
     },
     "output_type": "display_data"
    }
   ],
   "source": [
    "kmeans=KMeans(n_clusters=3,n_init=10,random_state=0) # Numero de repeticiones=10\n",
    "\n",
    "kmeans.fit(x_R_scaled)\n",
    "\n",
    "labels_R = kmeans.labels_ # Etiquetas que indican a qué cluster pertenecen los datos\n",
    "centroids_R = kmeans.cluster_centers_ # Coordenadas de los centroides\n",
    "\n",
    "sns.scatterplot(x=x_R_scaled[:,0],y=x_R_scaled[:,1],hue=labels_R,legend='full');\n",
    "\n",
    "#plt.xlabel('Income',fontsize=15);plt.ylabel('Spending Score',fontsize=15);\n",
    "plt.scatter(centroids_R[:,0],centroids_R[:,1],marker='x',s=50,color='k');"
   ]
  },
  {
   "cell_type": "code",
   "execution_count": 20,
   "id": "9843cab9",
   "metadata": {
    "colab": {
     "base_uri": "https://localhost:8080/",
     "height": 354
    },
    "executionInfo": {
     "elapsed": 985,
     "status": "ok",
     "timestamp": 1659973735176,
     "user": {
      "displayName": "Maela Lombardi",
      "userId": "03936068368896012188"
     },
     "user_tz": 180
    },
    "id": "fcc273c2",
    "outputId": "727b843b-b45c-4b08-bd1e-15a98831df62"
   },
   "outputs": [
    {
     "data": {
      "text/plain": [
       "Text(0.5, 1.0, 'Kmeans_R')"
      ]
     },
     "execution_count": 20,
     "metadata": {},
     "output_type": "execute_result"
    },
    {
     "data": {
      "image/png": "[encoded data removed]",
      "text/plain": [
       "<Figure size 864x360 with 2 Axes>"
      ]
     },
     "metadata": {
      "needs_background": "light"
     },
     "output_type": "display_data"
    }
   ],
   "source": [
    "f,ax=plt.subplots(1,2,figsize=(12,5))\n",
    "sns.scatterplot(x = x_R_scaled[:,0], y = x_R_scaled[:,1],hue=y_true,ax=ax[0])\n",
    "ax[0].set_title('True labels')\n",
    "sns.scatterplot(x = x_R_scaled[:,0], y = x_R_scaled[:,1],hue=labels_R,ax=ax[1])\n",
    "ax[1].set_title('Kmeans_R')"
   ]
  },
  {
   "cell_type": "markdown",
   "id": "18faee78",
   "metadata": {
    "heading_collapsed": "true",
    "id": "9acc2dbd"
   },
   "source": [
    "## DBSCAN"
   ]
  },
  {
   "cell_type": "code",
   "execution_count": 21,
   "id": "8f34159d",
   "metadata": {
    "executionInfo": {
     "elapsed": 302,
     "status": "ok",
     "timestamp": 1660834594401,
     "user": {
      "displayName": "Maela Lombardi",
      "userId": "03936068368896012188"
     },
     "user_tz": 180
    },
    "id": "d385bd56"
   },
   "outputs": [],
   "source": [
    "from scipy.spatial.distance import pdist,squareform"
   ]
  },
  {
   "cell_type": "code",
   "execution_count": 23,
   "id": "d52bf3fd",
   "metadata": {
    "colab": {
     "base_uri": "https://localhost:8080/",
     "height": 235
    },
    "executionInfo": {
     "elapsed": 271,
     "status": "error",
     "timestamp": 1660834595879,
     "user": {
      "displayName": "Maela Lombardi",
      "userId": "03936068368896012188"
     },
     "user_tz": 180
    },
    "id": "02d33e39",
    "outputId": "cae7511f-cf2e-47df-8600-0d266053502b"
   },
   "outputs": [
    {
     "data": {
      "image/png": "[encoded data removed]",
      "text/plain": [
       "<Figure size 432x288 with 1 Axes>"
      ]
     },
     "metadata": {
      "needs_background": "light"
     },
     "output_type": "display_data"
    }
   ],
   "source": [
    "minPts=20;\n",
    "k=minPts-1;\n",
    "\n",
    "D=squareform(pdist(x_R_scaled));\n",
    "\n",
    "k_distances=np.zeros(D.shape[0]);\n",
    "\n",
    "for i in range(D.shape[0]):\n",
    "    distances=np.sort(D[i]);\n",
    "    k_distances[i]=distances[k];\n",
    "k_distances=np.sort(k_distances);\n",
    "k_distances=k_distances[::-1];\n",
    "    \n",
    "plt.plot(k_distances);\n",
    "plt.xlabel('Rank');\n",
    "plt.ylabel('K-distance');\n",
    "plt.hlines([1,4],0,400,linestyles='dashed');"
   ]
  },
  {
   "cell_type": "code",
   "execution_count": 24,
   "id": "29ab2d19",
   "metadata": {
    "id": "e1249f72",
    "outputId": "9e0bd840-2d5b-4681-c862-c85a9f80e051"
   },
   "outputs": [
    {
     "data": {
      "image/png": "[encoded data removed]",
      "text/plain": [
       "<Figure size 864x360 with 2 Axes>"
      ]
     },
     "metadata": {
      "needs_background": "light"
     },
     "output_type": "display_data"
    }
   ],
   "source": [
    "dbscan = DBSCAN(eps=2, min_samples=minPts)\n",
    "labels_db = dbscan.fit_predict(x_R_scaled)\n",
    "\n",
    "f,ax=plt.subplots(1,2,figsize=(12,5))\n",
    "sns.scatterplot(x = x_R_scaled[:,0], y = x_R_scaled[:,1],hue=y_true,ax=ax[0])\n",
    "ax[0].set_title('True labels')\n",
    "sns.scatterplot(x = x_R_scaled[:,0], y = x_R_scaled[:,1],hue=labels_db,ax=ax[1])\n",
    "ax[1].set_title('DBSCAN');"
   ]
  },
  {
   "cell_type": "code",
   "execution_count": 25,
   "id": "ee262b0f",
   "metadata": {
    "id": "c64e9db3",
    "outputId": "493c3ad0-03c4-4b71-db97-8999c7ff9176"
   },
   "outputs": [
    {
     "data": {
      "image/png": "[encoded data removed]",
      "text/plain": [
       "<Figure size 720x360 with 1 Axes>"
      ]
     },
     "metadata": {
      "needs_background": "light"
     },
     "output_type": "display_data"
    }
   ],
   "source": [
    "# Implementación de DBSCAN\n",
    "\n",
    "dbscan = DBSCAN(eps=0.2, min_samples=5)\n",
    "y_dbscan = dbscan.fit_predict(x_R_scaled)\n",
    "y_dbscan\n",
    "\n",
    "\n",
    "labels = dbscan.labels_\n",
    "unique_labels=set(labels);\n",
    "\n",
    "fig, ax = plt.subplots(figsize=(10,5))\n",
    "\n",
    "colors = [plt.cm.Spectral(each) for each in np.linspace(0, 1, len(unique_labels))]\n",
    "\n",
    "for i,l in enumerate(unique_labels):\n",
    "    if l ==-1:\n",
    "        ax.scatter(x_R_scaled[labels==l,0], x_R_scaled[labels==l,1],color =colors[i], edgecolor='black', marker='o',s=40,label='Noise')\n",
    "    else:\n",
    "        ax.scatter(x_R_scaled[labels==l,0], x_R_scaled[labels==l,1],color =colors[i], edgecolor='black', marker='o',s=40,label='Cluster '+str(l))\n",
    "    \n",
    "ax.legend()\n",
    "ax.set_title('DBSCAN clustering');\n",
    "    "
   ]
  },
  {
   "cell_type": "markdown",
   "id": "bf7e8a19",
   "metadata": {
    "id": "pDsz_665hB2a"
   },
   "source": [
    "# Modelos reducción dimensionalidad"
   ]
  },
  {
   "cell_type": "markdown",
   "id": "aeaa6e91",
   "metadata": {
    "id": "6b9c124f"
   },
   "source": [
    "## Prueba PCA"
   ]
  },
  {
   "cell_type": "code",
   "execution_count": 26,
   "id": "ce5c888f",
   "metadata": {
    "id": "af26c457"
   },
   "outputs": [],
   "source": [
    "from sklearn.preprocessing import StandardScaler\n",
    "from sklearn.decomposition import PCA"
   ]
  },
  {
   "cell_type": "code",
   "execution_count": 27,
   "id": "27cd6b55",
   "metadata": {
    "id": "4468f63b"
   },
   "outputs": [],
   "source": [
    "std_sclr = StandardScaler()\n",
    "\n",
    "X = data[['AE','LE','AT','LT','AA','LA','NV','Filtro_NV','Ratio_AE_LE','Ratio_AA_LA','Ratio_AT_LT']]\n",
    "\n",
    "data_std = pd.DataFrame(std_sclr.fit_transform(X))"
   ]
  },
  {
   "cell_type": "code",
   "execution_count": 28,
   "id": "e70195d1",
   "metadata": {
    "id": "fda059ad"
   },
   "outputs": [],
   "source": [
    "model = PCA()"
   ]
  },
  {
   "cell_type": "code",
   "execution_count": 29,
   "id": "6ef3b896",
   "metadata": {
    "id": "553db701"
   },
   "outputs": [],
   "source": [
    "model_pca = model.fit(data_std)"
   ]
  },
  {
   "cell_type": "markdown",
   "id": "8c2a43e3",
   "metadata": {
    "id": "6f41dbd3"
   },
   "source": [
    "### Pesos (loadings)"
   ]
  },
  {
   "cell_type": "code",
   "execution_count": 37,
   "id": "a9c9897a",
   "metadata": {
    "colab": {
     "base_uri": "https://localhost:8080/",
     "height": 582
    },
    "executionInfo": {
     "elapsed": 253,
     "status": "ok",
     "timestamp": 1659974968881,
     "user": {
      "displayName": "Maela Lombardi",
      "userId": "03936068368896012188"
     },
     "user_tz": 180
    },
    "id": "e049fd6b",
    "outputId": "8cce0133-f48d-49b1-a758-bc94ceebd76e"
   },
   "outputs": [
    {
     "data": {
      "text/html": [
       "<div>\n",
       "<style scoped>\n",
       "    .dataframe tbody tr th:only-of-type {\n",
       "        vertical-align: middle;\n",
       "    }\n",
       "\n",
       "    .dataframe tbody tr th {\n",
       "        vertical-align: top;\n",
       "    }\n",
       "\n",
       "    .dataframe thead th {\n",
       "        text-align: right;\n",
       "    }\n",
       "</style>\n",
       "<table border=\"1\" class=\"dataframe\">\n",
       "  <thead>\n",
       "    <tr style=\"text-align: right;\">\n",
       "      <th></th>\n",
       "      <th>CP1</th>\n",
       "      <th>CP2</th>\n",
       "      <th>CP3</th>\n",
       "      <th>CP4</th>\n",
       "      <th>CP5</th>\n",
       "      <th>CP6</th>\n",
       "      <th>CP7</th>\n",
       "      <th>CP8</th>\n",
       "      <th>CP9</th>\n",
       "      <th>CP10</th>\n",
       "      <th>CP11</th>\n",
       "    </tr>\n",
       "  </thead>\n",
       "  <tbody>\n",
       "    <tr>\n",
       "      <th>AE</th>\n",
       "      <td>-0.385116</td>\n",
       "      <td>0.055902</td>\n",
       "      <td>-0.027710</td>\n",
       "      <td>0.010733</td>\n",
       "      <td>-0.051609</td>\n",
       "      <td>0.214698</td>\n",
       "      <td>-0.600212</td>\n",
       "      <td>0.074599</td>\n",
       "      <td>-0.657684</td>\n",
       "      <td>-0.013416</td>\n",
       "      <td>0.019253</td>\n",
       "    </tr>\n",
       "    <tr>\n",
       "      <th>LE</th>\n",
       "      <td>-0.336930</td>\n",
       "      <td>-0.339281</td>\n",
       "      <td>-0.030243</td>\n",
       "      <td>0.126700</td>\n",
       "      <td>0.265425</td>\n",
       "      <td>0.106860</td>\n",
       "      <td>-0.370823</td>\n",
       "      <td>0.449537</td>\n",
       "      <td>0.574864</td>\n",
       "      <td>-0.033348</td>\n",
       "      <td>-0.036809</td>\n",
       "    </tr>\n",
       "    <tr>\n",
       "      <th>AT</th>\n",
       "      <td>-0.380131</td>\n",
       "      <td>0.203264</td>\n",
       "      <td>0.003221</td>\n",
       "      <td>0.146945</td>\n",
       "      <td>0.058779</td>\n",
       "      <td>-0.081438</td>\n",
       "      <td>-0.057197</td>\n",
       "      <td>-0.520859</td>\n",
       "      <td>0.182775</td>\n",
       "      <td>0.058033</td>\n",
       "      <td>-0.686407</td>\n",
       "    </tr>\n",
       "    <tr>\n",
       "      <th>LT</th>\n",
       "      <td>-0.391155</td>\n",
       "      <td>0.033953</td>\n",
       "      <td>-0.143020</td>\n",
       "      <td>0.092439</td>\n",
       "      <td>-0.140689</td>\n",
       "      <td>-0.111372</td>\n",
       "      <td>-0.065733</td>\n",
       "      <td>-0.493530</td>\n",
       "      <td>0.237906</td>\n",
       "      <td>0.025676</td>\n",
       "      <td>0.692457</td>\n",
       "    </tr>\n",
       "    <tr>\n",
       "      <th>AA</th>\n",
       "      <td>-0.374110</td>\n",
       "      <td>0.157013</td>\n",
       "      <td>0.069103</td>\n",
       "      <td>0.200648</td>\n",
       "      <td>-0.146445</td>\n",
       "      <td>-0.284116</td>\n",
       "      <td>0.326992</td>\n",
       "      <td>0.285690</td>\n",
       "      <td>-0.100572</td>\n",
       "      <td>-0.699563</td>\n",
       "      <td>-0.011837</td>\n",
       "    </tr>\n",
       "    <tr>\n",
       "      <th>LA</th>\n",
       "      <td>-0.316767</td>\n",
       "      <td>0.287667</td>\n",
       "      <td>-0.391300</td>\n",
       "      <td>0.061563</td>\n",
       "      <td>0.106474</td>\n",
       "      <td>-0.209948</td>\n",
       "      <td>0.319207</td>\n",
       "      <td>0.372572</td>\n",
       "      <td>-0.110097</td>\n",
       "      <td>0.592837</td>\n",
       "      <td>0.017473</td>\n",
       "    </tr>\n",
       "    <tr>\n",
       "      <th>NV</th>\n",
       "      <td>-0.343272</td>\n",
       "      <td>-0.110869</td>\n",
       "      <td>0.067141</td>\n",
       "      <td>-0.279579</td>\n",
       "      <td>-0.025562</td>\n",
       "      <td>0.752574</td>\n",
       "      <td>0.467472</td>\n",
       "      <td>-0.038411</td>\n",
       "      <td>0.001021</td>\n",
       "      <td>-0.012413</td>\n",
       "      <td>-0.004326</td>\n",
       "    </tr>\n",
       "    <tr>\n",
       "      <th>Filtro_NV</th>\n",
       "      <td>-0.219384</td>\n",
       "      <td>-0.019200</td>\n",
       "      <td>0.232848</td>\n",
       "      <td>-0.843318</td>\n",
       "      <td>0.161536</td>\n",
       "      <td>-0.395460</td>\n",
       "      <td>-0.057655</td>\n",
       "      <td>0.006050</td>\n",
       "      <td>0.014930</td>\n",
       "      <td>-0.005712</td>\n",
       "      <td>0.000823</td>\n",
       "    </tr>\n",
       "    <tr>\n",
       "      <th>Ratio_AE_LE</th>\n",
       "      <td>0.087950</td>\n",
       "      <td>0.641113</td>\n",
       "      <td>0.001584</td>\n",
       "      <td>-0.206401</td>\n",
       "      <td>-0.518551</td>\n",
       "      <td>0.201589</td>\n",
       "      <td>-0.243791</td>\n",
       "      <td>0.212133</td>\n",
       "      <td>0.352309</td>\n",
       "      <td>-0.013148</td>\n",
       "      <td>-0.019312</td>\n",
       "    </tr>\n",
       "    <tr>\n",
       "      <th>Ratio_AA_LA</th>\n",
       "      <td>-0.158443</td>\n",
       "      <td>-0.178083</td>\n",
       "      <td>0.743073</td>\n",
       "      <td>0.226261</td>\n",
       "      <td>-0.394545</td>\n",
       "      <td>-0.124086</td>\n",
       "      <td>0.067181</td>\n",
       "      <td>0.102535</td>\n",
       "      <td>-0.016804</td>\n",
       "      <td>0.391518</td>\n",
       "      <td>0.013094</td>\n",
       "    </tr>\n",
       "    <tr>\n",
       "      <th>Ratio_AT_LT</th>\n",
       "      <td>0.039469</td>\n",
       "      <td>0.525822</td>\n",
       "      <td>0.457248</td>\n",
       "      <td>0.162788</td>\n",
       "      <td>0.647724</td>\n",
       "      <td>0.140920</td>\n",
       "      <td>-0.004921</td>\n",
       "      <td>-0.005591</td>\n",
       "      <td>0.010607</td>\n",
       "      <td>-0.013818</td>\n",
       "      <td>0.215903</td>\n",
       "    </tr>\n",
       "  </tbody>\n",
       "</table>\n",
       "</div>"
      ],
      "text/plain": [
       "                  CP1       CP2       CP3       CP4       CP5       CP6  \\\n",
       "AE          -0.385116  0.055902 -0.027710  0.010733 -0.051609  0.214698   \n",
       "LE          -0.336930 -0.339281 -0.030243  0.126700  0.265425  0.106860   \n",
       "AT          -0.380131  0.203264  0.003221  0.146945  0.058779 -0.081438   \n",
       "LT          -0.391155  0.033953 -0.143020  0.092439 -0.140689 -0.111372   \n",
       "AA          -0.374110  0.157013  0.069103  0.200648 -0.146445 -0.284116   \n",
       "LA          -0.316767  0.287667 -0.391300  0.061563  0.106474 -0.209948   \n",
       "NV          -0.343272 -0.110869  0.067141 -0.279579 -0.025562  0.752574   \n",
       "Filtro_NV   -0.219384 -0.019200  0.232848 -0.843318  0.161536 -0.395460   \n",
       "Ratio_AE_LE  0.087950  0.641113  0.001584 -0.206401 -0.518551  0.201589   \n",
       "Ratio_AA_LA -0.158443 -0.178083  0.743073  0.226261 -0.394545 -0.124086   \n",
       "Ratio_AT_LT  0.039469  0.525822  0.457248  0.162788  0.647724  0.140920   \n",
       "\n",
       "                  CP7       CP8       CP9      CP10      CP11  \n",
       "AE          -0.600212  0.074599 -0.657684 -0.013416  0.019253  \n",
       "LE          -0.370823  0.449537  0.574864 -0.033348 -0.036809  \n",
       "AT          -0.057197 -0.520859  0.182775  0.058033 -0.686407  \n",
       "LT          -0.065733 -0.493530  0.237906  0.025676  0.692457  \n",
       "AA           0.326992  0.285690 -0.100572 -0.699563 -0.011837  \n",
       "LA           0.319207  0.372572 -0.110097  0.592837  0.017473  \n",
       "NV           0.467472 -0.038411  0.001021 -0.012413 -0.004326  \n",
       "Filtro_NV   -0.057655  0.006050  0.014930 -0.005712  0.000823  \n",
       "Ratio_AE_LE -0.243791  0.212133  0.352309 -0.013148 -0.019312  \n",
       "Ratio_AA_LA  0.067181  0.102535 -0.016804  0.391518  0.013094  \n",
       "Ratio_AT_LT -0.004921 -0.005591  0.010607 -0.013818  0.215903  "
      ]
     },
     "execution_count": 37,
     "metadata": {},
     "output_type": "execute_result"
    }
   ],
   "source": [
    "#Creamos un DataFrame con los loadings.\n",
    "pca_loadings = pd.DataFrame(model_pca.components_.T, index=X.columns).iloc[:,:]\n",
    "pca_loadings.rename(columns = {0 : 'CP1', 1 : 'CP2', 2 : 'CP3', 3 : 'CP4',4 : 'CP5', 5 : 'CP6', 6 : 'CP7', 7 : 'CP8',8 : 'CP9', 9 : 'CP10', 10 : 'CP11'}, inplace = True)\n",
    "pca_loadings"
   ]
  },
  {
   "cell_type": "code",
   "execution_count": 38,
   "id": "80449b30",
   "metadata": {},
   "outputs": [
    {
     "data": {
      "text/html": [
       "<div>\n",
       "<style scoped>\n",
       "    .dataframe tbody tr th:only-of-type {\n",
       "        vertical-align: middle;\n",
       "    }\n",
       "\n",
       "    .dataframe tbody tr th {\n",
       "        vertical-align: top;\n",
       "    }\n",
       "\n",
       "    .dataframe thead th {\n",
       "        text-align: right;\n",
       "    }\n",
       "</style>\n",
       "<table border=\"1\" class=\"dataframe\">\n",
       "  <thead>\n",
       "    <tr style=\"text-align: right;\">\n",
       "      <th></th>\n",
       "      <th>CP1</th>\n",
       "      <th>CP2</th>\n",
       "      <th>CP3</th>\n",
       "      <th>CP4</th>\n",
       "      <th>CP5</th>\n",
       "      <th>CP6</th>\n",
       "      <th>CP7</th>\n",
       "      <th>CP8</th>\n",
       "      <th>CP9</th>\n",
       "      <th>CP10</th>\n",
       "      <th>CP11</th>\n",
       "    </tr>\n",
       "  </thead>\n",
       "  <tbody>\n",
       "    <tr>\n",
       "      <th>CP1</th>\n",
       "      <td>1.000000e+00</td>\n",
       "      <td>-6.586365e-17</td>\n",
       "      <td>-5.919192e-17</td>\n",
       "      <td>-2.960821e-17</td>\n",
       "      <td>3.062158e-17</td>\n",
       "      <td>-1.723598e-17</td>\n",
       "      <td>8.013697e-17</td>\n",
       "      <td>-1.420625e-17</td>\n",
       "      <td>1.438508e-16</td>\n",
       "      <td>4.191110e-17</td>\n",
       "      <td>-4.774050e-17</td>\n",
       "    </tr>\n",
       "    <tr>\n",
       "      <th>CP2</th>\n",
       "      <td>-6.586365e-17</td>\n",
       "      <td>1.000000e+00</td>\n",
       "      <td>1.045269e-16</td>\n",
       "      <td>1.148485e-16</td>\n",
       "      <td>-5.113140e-17</td>\n",
       "      <td>2.876717e-16</td>\n",
       "      <td>-3.318129e-16</td>\n",
       "      <td>-8.660895e-17</td>\n",
       "      <td>2.750136e-16</td>\n",
       "      <td>-3.067218e-17</td>\n",
       "      <td>-1.192596e-17</td>\n",
       "    </tr>\n",
       "    <tr>\n",
       "      <th>CP3</th>\n",
       "      <td>-5.919192e-17</td>\n",
       "      <td>1.045269e-16</td>\n",
       "      <td>1.000000e+00</td>\n",
       "      <td>8.643896e-17</td>\n",
       "      <td>-6.364293e-17</td>\n",
       "      <td>1.324804e-17</td>\n",
       "      <td>1.200298e-16</td>\n",
       "      <td>1.285891e-16</td>\n",
       "      <td>-1.646241e-16</td>\n",
       "      <td>1.507420e-16</td>\n",
       "      <td>-8.886953e-17</td>\n",
       "    </tr>\n",
       "    <tr>\n",
       "      <th>CP4</th>\n",
       "      <td>-2.960821e-17</td>\n",
       "      <td>1.148485e-16</td>\n",
       "      <td>8.643896e-17</td>\n",
       "      <td>1.000000e+00</td>\n",
       "      <td>3.989785e-16</td>\n",
       "      <td>1.254915e-16</td>\n",
       "      <td>1.400163e-16</td>\n",
       "      <td>-9.881534e-17</td>\n",
       "      <td>1.085143e-17</td>\n",
       "      <td>5.090021e-17</td>\n",
       "      <td>-9.431972e-19</td>\n",
       "    </tr>\n",
       "    <tr>\n",
       "      <th>CP5</th>\n",
       "      <td>3.062158e-17</td>\n",
       "      <td>-5.113140e-17</td>\n",
       "      <td>-6.364293e-17</td>\n",
       "      <td>3.989785e-16</td>\n",
       "      <td>1.000000e+00</td>\n",
       "      <td>1.460493e-16</td>\n",
       "      <td>2.354133e-16</td>\n",
       "      <td>-1.009002e-16</td>\n",
       "      <td>-4.734768e-17</td>\n",
       "      <td>3.508499e-17</td>\n",
       "      <td>1.967305e-16</td>\n",
       "    </tr>\n",
       "    <tr>\n",
       "      <th>CP6</th>\n",
       "      <td>-1.723598e-17</td>\n",
       "      <td>2.876717e-16</td>\n",
       "      <td>1.324804e-17</td>\n",
       "      <td>1.254915e-16</td>\n",
       "      <td>1.460493e-16</td>\n",
       "      <td>1.000000e+00</td>\n",
       "      <td>-5.054965e-16</td>\n",
       "      <td>3.380032e-17</td>\n",
       "      <td>3.370056e-17</td>\n",
       "      <td>2.099885e-16</td>\n",
       "      <td>-7.193718e-18</td>\n",
       "    </tr>\n",
       "    <tr>\n",
       "      <th>CP7</th>\n",
       "      <td>8.013697e-17</td>\n",
       "      <td>-3.318129e-16</td>\n",
       "      <td>1.200298e-16</td>\n",
       "      <td>1.400163e-16</td>\n",
       "      <td>2.354133e-16</td>\n",
       "      <td>-5.054965e-16</td>\n",
       "      <td>1.000000e+00</td>\n",
       "      <td>-3.845168e-17</td>\n",
       "      <td>3.466502e-16</td>\n",
       "      <td>1.989919e-17</td>\n",
       "      <td>7.174390e-17</td>\n",
       "    </tr>\n",
       "    <tr>\n",
       "      <th>CP8</th>\n",
       "      <td>-1.420625e-17</td>\n",
       "      <td>-8.660895e-17</td>\n",
       "      <td>1.285891e-16</td>\n",
       "      <td>-9.881534e-17</td>\n",
       "      <td>-1.009002e-16</td>\n",
       "      <td>3.380032e-17</td>\n",
       "      <td>-3.845168e-17</td>\n",
       "      <td>1.000000e+00</td>\n",
       "      <td>2.019860e-16</td>\n",
       "      <td>-3.196874e-16</td>\n",
       "      <td>2.633799e-16</td>\n",
       "    </tr>\n",
       "    <tr>\n",
       "      <th>CP9</th>\n",
       "      <td>1.438508e-16</td>\n",
       "      <td>2.750136e-16</td>\n",
       "      <td>-1.646241e-16</td>\n",
       "      <td>1.085143e-17</td>\n",
       "      <td>-4.734768e-17</td>\n",
       "      <td>3.370056e-17</td>\n",
       "      <td>3.466502e-16</td>\n",
       "      <td>2.019860e-16</td>\n",
       "      <td>1.000000e+00</td>\n",
       "      <td>-5.052629e-17</td>\n",
       "      <td>-5.844749e-18</td>\n",
       "    </tr>\n",
       "    <tr>\n",
       "      <th>CP10</th>\n",
       "      <td>4.191110e-17</td>\n",
       "      <td>-3.067218e-17</td>\n",
       "      <td>1.507420e-16</td>\n",
       "      <td>5.090021e-17</td>\n",
       "      <td>3.508499e-17</td>\n",
       "      <td>2.099885e-16</td>\n",
       "      <td>1.989919e-17</td>\n",
       "      <td>-3.196874e-16</td>\n",
       "      <td>-5.052629e-17</td>\n",
       "      <td>1.000000e+00</td>\n",
       "      <td>2.399231e-17</td>\n",
       "    </tr>\n",
       "    <tr>\n",
       "      <th>CP11</th>\n",
       "      <td>-4.774050e-17</td>\n",
       "      <td>-1.192596e-17</td>\n",
       "      <td>-8.886953e-17</td>\n",
       "      <td>-9.431972e-19</td>\n",
       "      <td>1.967305e-16</td>\n",
       "      <td>-7.193718e-18</td>\n",
       "      <td>7.174390e-17</td>\n",
       "      <td>2.633799e-16</td>\n",
       "      <td>-5.844749e-18</td>\n",
       "      <td>2.399231e-17</td>\n",
       "      <td>1.000000e+00</td>\n",
       "    </tr>\n",
       "  </tbody>\n",
       "</table>\n",
       "</div>"
      ],
      "text/plain": [
       "               CP1           CP2           CP3           CP4           CP5  \\\n",
       "CP1   1.000000e+00 -6.586365e-17 -5.919192e-17 -2.960821e-17  3.062158e-17   \n",
       "CP2  -6.586365e-17  1.000000e+00  1.045269e-16  1.148485e-16 -5.113140e-17   \n",
       "CP3  -5.919192e-17  1.045269e-16  1.000000e+00  8.643896e-17 -6.364293e-17   \n",
       "CP4  -2.960821e-17  1.148485e-16  8.643896e-17  1.000000e+00  3.989785e-16   \n",
       "CP5   3.062158e-17 -5.113140e-17 -6.364293e-17  3.989785e-16  1.000000e+00   \n",
       "CP6  -1.723598e-17  2.876717e-16  1.324804e-17  1.254915e-16  1.460493e-16   \n",
       "CP7   8.013697e-17 -3.318129e-16  1.200298e-16  1.400163e-16  2.354133e-16   \n",
       "CP8  -1.420625e-17 -8.660895e-17  1.285891e-16 -9.881534e-17 -1.009002e-16   \n",
       "CP9   1.438508e-16  2.750136e-16 -1.646241e-16  1.085143e-17 -4.734768e-17   \n",
       "CP10  4.191110e-17 -3.067218e-17  1.507420e-16  5.090021e-17  3.508499e-17   \n",
       "CP11 -4.774050e-17 -1.192596e-17 -8.886953e-17 -9.431972e-19  1.967305e-16   \n",
       "\n",
       "               CP6           CP7           CP8           CP9          CP10  \\\n",
       "CP1  -1.723598e-17  8.013697e-17 -1.420625e-17  1.438508e-16  4.191110e-17   \n",
       "CP2   2.876717e-16 -3.318129e-16 -8.660895e-17  2.750136e-16 -3.067218e-17   \n",
       "CP3   1.324804e-17  1.200298e-16  1.285891e-16 -1.646241e-16  1.507420e-16   \n",
       "CP4   1.254915e-16  1.400163e-16 -9.881534e-17  1.085143e-17  5.090021e-17   \n",
       "CP5   1.460493e-16  2.354133e-16 -1.009002e-16 -4.734768e-17  3.508499e-17   \n",
       "CP6   1.000000e+00 -5.054965e-16  3.380032e-17  3.370056e-17  2.099885e-16   \n",
       "CP7  -5.054965e-16  1.000000e+00 -3.845168e-17  3.466502e-16  1.989919e-17   \n",
       "CP8   3.380032e-17 -3.845168e-17  1.000000e+00  2.019860e-16 -3.196874e-16   \n",
       "CP9   3.370056e-17  3.466502e-16  2.019860e-16  1.000000e+00 -5.052629e-17   \n",
       "CP10  2.099885e-16  1.989919e-17 -3.196874e-16 -5.052629e-17  1.000000e+00   \n",
       "CP11 -7.193718e-18  7.174390e-17  2.633799e-16 -5.844749e-18  2.399231e-17   \n",
       "\n",
       "              CP11  \n",
       "CP1  -4.774050e-17  \n",
       "CP2  -1.192596e-17  \n",
       "CP3  -8.886953e-17  \n",
       "CP4  -9.431972e-19  \n",
       "CP5   1.967305e-16  \n",
       "CP6  -7.193718e-18  \n",
       "CP7   7.174390e-17  \n",
       "CP8   2.633799e-16  \n",
       "CP9  -5.844749e-18  \n",
       "CP10  2.399231e-17  \n",
       "CP11  1.000000e+00  "
      ]
     },
     "execution_count": 38,
     "metadata": {},
     "output_type": "execute_result"
    }
   ],
   "source": [
    "pca_loadings.T.dot(pca_loadings)"
   ]
  },
  {
   "cell_type": "code",
   "execution_count": 39,
   "id": "0f987165",
   "metadata": {
    "id": "1408e5d1"
   },
   "outputs": [],
   "source": [
    "def plot_explained_variance(components_count, X):\n",
    "\n",
    "    model_pca = PCA(components_count).fit(X)\n",
    "\n",
    "    explained_variance = model_pca.explained_variance_ratio_\n",
    "\n",
    "    #print(explained_variance)\n",
    "\n",
    "    cumulative_explained_variance = np.cumsum(explained_variance)\n",
    "\n",
    "    #print(cumulative_explained_variance)\n",
    "\n",
    "    plt.plot(cumulative_explained_variance)\n",
    "    plt.xlabel('número de componentes')\n",
    "    plt.ylabel('% de varianza explicada');"
   ]
  },
  {
   "cell_type": "code",
   "execution_count": 40,
   "id": "5258c943",
   "metadata": {
    "id": "bc120d98"
   },
   "outputs": [
    {
     "data": {
      "image/png": "[encoded data removed]",
      "text/plain": [
       "<Figure size 432x288 with 1 Axes>"
      ]
     },
     "metadata": {
      "needs_background": "light"
     },
     "output_type": "display_data"
    }
   ],
   "source": [
    "plot_explained_variance(components_count = 11, X = data_std)"
   ]
  },
  {
   "cell_type": "markdown",
   "id": "51943745",
   "metadata": {
    "id": "d375727e"
   },
   "source": [
    "### Proyección"
   ]
  },
  {
   "cell_type": "code",
   "execution_count": 41,
   "id": "4966c178",
   "metadata": {
    "id": "eed21464"
   },
   "outputs": [],
   "source": [
    "#nuevo dataset con cada participación de feature\n",
    "nuevo_data_pca = pd.DataFrame(model_pca.fit_transform(data_std), index =X.index,\\\n",
    "                              columns=['PC1', 'PC2', 'PC3', 'PC4','PC5', 'PC6', 'PC7', 'PC8','PC9', 'PC10','PC11'])"
   ]
  },
  {
   "cell_type": "code",
   "execution_count": 42,
   "id": "d4af82c0",
   "metadata": {
    "id": "ad4cce0e",
    "outputId": "3f470987-f7d1-4fc4-9c5e-45c1ec20f126"
   },
   "outputs": [
    {
     "data": {
      "text/html": [
       "<div>\n",
       "<style scoped>\n",
       "    .dataframe tbody tr th:only-of-type {\n",
       "        vertical-align: middle;\n",
       "    }\n",
       "\n",
       "    .dataframe tbody tr th {\n",
       "        vertical-align: top;\n",
       "    }\n",
       "\n",
       "    .dataframe thead th {\n",
       "        text-align: right;\n",
       "    }\n",
       "</style>\n",
       "<table border=\"1\" class=\"dataframe\">\n",
       "  <thead>\n",
       "    <tr style=\"text-align: right;\">\n",
       "      <th></th>\n",
       "      <th>PC1</th>\n",
       "      <th>PC2</th>\n",
       "      <th>PC3</th>\n",
       "      <th>PC4</th>\n",
       "      <th>PC5</th>\n",
       "      <th>PC6</th>\n",
       "      <th>PC7</th>\n",
       "      <th>PC8</th>\n",
       "      <th>PC9</th>\n",
       "      <th>PC10</th>\n",
       "      <th>PC11</th>\n",
       "    </tr>\n",
       "  </thead>\n",
       "  <tbody>\n",
       "    <tr>\n",
       "      <th>0</th>\n",
       "      <td>-1.372979</td>\n",
       "      <td>-1.162151</td>\n",
       "      <td>-0.768364</td>\n",
       "      <td>0.136827</td>\n",
       "      <td>1.227442</td>\n",
       "      <td>-0.275423</td>\n",
       "      <td>0.545264</td>\n",
       "      <td>0.148201</td>\n",
       "      <td>0.275761</td>\n",
       "      <td>-0.004351</td>\n",
       "      <td>-0.014667</td>\n",
       "    </tr>\n",
       "    <tr>\n",
       "      <th>1</th>\n",
       "      <td>2.073829</td>\n",
       "      <td>0.735717</td>\n",
       "      <td>-0.282821</td>\n",
       "      <td>-0.962097</td>\n",
       "      <td>0.656942</td>\n",
       "      <td>0.205726</td>\n",
       "      <td>-0.170415</td>\n",
       "      <td>0.079382</td>\n",
       "      <td>-0.119273</td>\n",
       "      <td>-0.053238</td>\n",
       "      <td>0.005623</td>\n",
       "    </tr>\n",
       "    <tr>\n",
       "      <th>2</th>\n",
       "      <td>-0.421082</td>\n",
       "      <td>-0.286731</td>\n",
       "      <td>0.937238</td>\n",
       "      <td>0.202414</td>\n",
       "      <td>-0.038497</td>\n",
       "      <td>-0.453776</td>\n",
       "      <td>0.148785</td>\n",
       "      <td>-0.113929</td>\n",
       "      <td>0.048584</td>\n",
       "      <td>0.017466</td>\n",
       "      <td>-0.001891</td>\n",
       "    </tr>\n",
       "    <tr>\n",
       "      <th>3</th>\n",
       "      <td>-0.009121</td>\n",
       "      <td>-2.877301</td>\n",
       "      <td>0.811225</td>\n",
       "      <td>-0.596335</td>\n",
       "      <td>-0.464495</td>\n",
       "      <td>0.983630</td>\n",
       "      <td>-0.415430</td>\n",
       "      <td>0.201357</td>\n",
       "      <td>0.010626</td>\n",
       "      <td>0.055228</td>\n",
       "      <td>-0.029021</td>\n",
       "    </tr>\n",
       "    <tr>\n",
       "      <th>4</th>\n",
       "      <td>0.921651</td>\n",
       "      <td>0.789905</td>\n",
       "      <td>-1.046621</td>\n",
       "      <td>-0.901876</td>\n",
       "      <td>0.831386</td>\n",
       "      <td>0.296982</td>\n",
       "      <td>0.082989</td>\n",
       "      <td>0.051411</td>\n",
       "      <td>-0.123165</td>\n",
       "      <td>0.006057</td>\n",
       "      <td>-0.005650</td>\n",
       "    </tr>\n",
       "    <tr>\n",
       "      <th>5</th>\n",
       "      <td>1.202337</td>\n",
       "      <td>0.776630</td>\n",
       "      <td>-0.617111</td>\n",
       "      <td>-1.003679</td>\n",
       "      <td>1.085713</td>\n",
       "      <td>0.756915</td>\n",
       "      <td>-0.205864</td>\n",
       "      <td>0.037155</td>\n",
       "      <td>-0.163331</td>\n",
       "      <td>-0.045082</td>\n",
       "      <td>-0.002611</td>\n",
       "    </tr>\n",
       "    <tr>\n",
       "      <th>7</th>\n",
       "      <td>-1.327534</td>\n",
       "      <td>-1.206629</td>\n",
       "      <td>0.613296</td>\n",
       "      <td>0.194568</td>\n",
       "      <td>-0.509443</td>\n",
       "      <td>-0.191779</td>\n",
       "      <td>-0.399814</td>\n",
       "      <td>0.149005</td>\n",
       "      <td>-0.041750</td>\n",
       "      <td>0.001426</td>\n",
       "      <td>0.011387</td>\n",
       "    </tr>\n",
       "    <tr>\n",
       "      <th>8</th>\n",
       "      <td>0.456664</td>\n",
       "      <td>-0.983069</td>\n",
       "      <td>-0.999123</td>\n",
       "      <td>-0.983265</td>\n",
       "      <td>0.472706</td>\n",
       "      <td>0.791354</td>\n",
       "      <td>-0.568534</td>\n",
       "      <td>-0.241750</td>\n",
       "      <td>-0.013611</td>\n",
       "      <td>-0.043158</td>\n",
       "      <td>-0.017945</td>\n",
       "    </tr>\n",
       "    <tr>\n",
       "      <th>9</th>\n",
       "      <td>0.243127</td>\n",
       "      <td>-0.477970</td>\n",
       "      <td>1.063612</td>\n",
       "      <td>-0.219219</td>\n",
       "      <td>-0.078693</td>\n",
       "      <td>0.139125</td>\n",
       "      <td>0.170963</td>\n",
       "      <td>0.073555</td>\n",
       "      <td>-0.077869</td>\n",
       "      <td>0.009854</td>\n",
       "      <td>-0.002799</td>\n",
       "    </tr>\n",
       "    <tr>\n",
       "      <th>10</th>\n",
       "      <td>-0.367488</td>\n",
       "      <td>-1.330352</td>\n",
       "      <td>0.661664</td>\n",
       "      <td>-0.208907</td>\n",
       "      <td>-0.546389</td>\n",
       "      <td>0.124536</td>\n",
       "      <td>-0.201709</td>\n",
       "      <td>0.072501</td>\n",
       "      <td>-0.055487</td>\n",
       "      <td>0.022659</td>\n",
       "      <td>0.001296</td>\n",
       "    </tr>\n",
       "  </tbody>\n",
       "</table>\n",
       "</div>"
      ],
      "text/plain": [
       "         PC1       PC2       PC3       PC4       PC5       PC6       PC7  \\\n",
       "0  -1.372979 -1.162151 -0.768364  0.136827  1.227442 -0.275423  0.545264   \n",
       "1   2.073829  0.735717 -0.282821 -0.962097  0.656942  0.205726 -0.170415   \n",
       "2  -0.421082 -0.286731  0.937238  0.202414 -0.038497 -0.453776  0.148785   \n",
       "3  -0.009121 -2.877301  0.811225 -0.596335 -0.464495  0.983630 -0.415430   \n",
       "4   0.921651  0.789905 -1.046621 -0.901876  0.831386  0.296982  0.082989   \n",
       "5   1.202337  0.776630 -0.617111 -1.003679  1.085713  0.756915 -0.205864   \n",
       "7  -1.327534 -1.206629  0.613296  0.194568 -0.509443 -0.191779 -0.399814   \n",
       "8   0.456664 -0.983069 -0.999123 -0.983265  0.472706  0.791354 -0.568534   \n",
       "9   0.243127 -0.477970  1.063612 -0.219219 -0.078693  0.139125  0.170963   \n",
       "10 -0.367488 -1.330352  0.661664 -0.208907 -0.546389  0.124536 -0.201709   \n",
       "\n",
       "         PC8       PC9      PC10      PC11  \n",
       "0   0.148201  0.275761 -0.004351 -0.014667  \n",
       "1   0.079382 -0.119273 -0.053238  0.005623  \n",
       "2  -0.113929  0.048584  0.017466 -0.001891  \n",
       "3   0.201357  0.010626  0.055228 -0.029021  \n",
       "4   0.051411 -0.123165  0.006057 -0.005650  \n",
       "5   0.037155 -0.163331 -0.045082 -0.002611  \n",
       "7   0.149005 -0.041750  0.001426  0.011387  \n",
       "8  -0.241750 -0.013611 -0.043158 -0.017945  \n",
       "9   0.073555 -0.077869  0.009854 -0.002799  \n",
       "10  0.072501 -0.055487  0.022659  0.001296  "
      ]
     },
     "execution_count": 42,
     "metadata": {},
     "output_type": "execute_result"
    }
   ],
   "source": [
    "nuevo_data_pca.head(10)"
   ]
  },
  {
   "cell_type": "code",
   "execution_count": 43,
   "id": "b2692369",
   "metadata": {
    "colab": {
     "base_uri": "https://localhost:8080/"
    },
    "executionInfo": {
     "elapsed": 258,
     "status": "ok",
     "timestamp": 1659974926135,
     "user": {
      "displayName": "Maela Lombardi",
      "userId": "03936068368896012188"
     },
     "user_tz": 180
    },
    "id": "af3ecf74",
    "outputId": "0cf39677-bab3-4075-fca0-489c4d61c9f3"
   },
   "outputs": [
    {
     "data": {
      "text/plain": [
       "(422, 11)"
      ]
     },
     "execution_count": 43,
     "metadata": {},
     "output_type": "execute_result"
    }
   ],
   "source": [
    "nuevo_data_pca.shape"
   ]
  },
  {
   "cell_type": "code",
   "execution_count": 48,
   "id": "8d52a1f5",
   "metadata": {},
   "outputs": [
    {
     "data": {
      "text/plain": [
       "array([5.60929753e-01, 1.70271169e-01, 1.09738734e-01, 7.46562708e-02,\n",
       "       4.18663674e-02, 2.34361270e-02, 1.41098284e-02, 2.78835857e-03,\n",
       "       1.84849593e-03, 2.66487383e-04, 8.84085618e-05])"
      ]
     },
     "execution_count": 48,
     "metadata": {},
     "output_type": "execute_result"
    }
   ],
   "source": [
    "model_pca.explained_variance_ratio_"
   ]
  },
  {
   "cell_type": "markdown",
   "id": "b68f453b",
   "metadata": {
    "id": "a07f43cc"
   },
   "source": [
    "### Bastón quebrado"
   ]
  },
  {
   "cell_type": "code",
   "execution_count": 30,
   "id": "97122b19",
   "metadata": {
    "colab": {
     "base_uri": "https://localhost:8080/",
     "height": 337
    },
    "executionInfo": {
     "elapsed": 540,
     "status": "ok",
     "timestamp": 1659974903635,
     "user": {
      "displayName": "Maela Lombardi",
      "userId": "03936068368896012188"
     },
     "user_tz": 180
    },
    "id": "02d55fff",
    "outputId": "7bd6cd37-bfdc-43ec-a815-6b49e8180c3b"
   },
   "outputs": [
    {
     "data": {
      "image/png": "[encoded data removed]",
      "text/plain": [
       "<Figure size 432x360 with 1 Axes>"
      ]
     },
     "metadata": {
      "needs_background": "light"
     },
     "output_type": "display_data"
    }
   ],
   "source": [
    "plt.figure(figsize=(6,5))\n",
    "\n",
    "plt.plot(model_pca.explained_variance_ratio_, '-o', label='Componente individual')\n",
    "plt.plot(np.cumsum(model_pca.explained_variance_ratio_), '-s', label='Acumulado')\n",
    "\n",
    "plt.ylabel('Porcentaje de Varianza Explicada'); plt.xlabel('Componentes Principales')\n",
    "plt.ylim(-0.05,1.05); plt.xticks()\n",
    "plt.legend(loc=0);"
   ]
  },
  {
   "cell_type": "markdown",
   "id": "2a8356fe",
   "metadata": {
    "id": "37694c35"
   },
   "source": [
    "## Prueba TSNE"
   ]
  },
  {
   "cell_type": "code",
   "execution_count": null,
   "id": "9ea63f1e",
   "metadata": {
    "id": "e9e448d7"
   },
   "outputs": [],
   "source": [
    "from sklearn.manifold import TSNE"
   ]
  },
  {
   "cell_type": "code",
   "execution_count": null,
   "id": "bb671239",
   "metadata": {
    "id": "0975008a"
   },
   "outputs": [],
   "source": [
    "tsne = TSNE(random_state=42)\n",
    "\n",
    "proj_tsne = tsne.fit_transform(data_std)"
   ]
  },
  {
   "cell_type": "code",
   "execution_count": null,
   "id": "af0d99a5",
   "metadata": {
    "colab": {
     "base_uri": "https://localhost:8080/",
     "height": 609
    },
    "executionInfo": {
     "elapsed": 273,
     "status": "ok",
     "timestamp": 1659974999578,
     "user": {
      "displayName": "Maela Lombardi",
      "userId": "03936068368896012188"
     },
     "user_tz": 180
    },
    "id": "29c73e0c",
    "outputId": "213fa956-d654-46e5-ba38-f2ab2f10d4e5"
   },
   "outputs": [],
   "source": [
    "fig, ax = plt.subplots(figsize=(10, 10))\n",
    "\n",
    "# get axis from plot -  https://matplotlib.org/3.1.1/api/_as_gen/matplotlib.pyplot.gca.html\n",
    "ax = ax or plt.gca()\n",
    "    \n",
    "coord_x = proj_tsne[:, 0]\n",
    "coord_y = proj_tsne[:, 1]\n",
    "ax.plot(coord_x, coord_y, '.k')    "
   ]
  },
  {
   "cell_type": "markdown",
   "id": "d4f90b29",
   "metadata": {
    "id": "NOKIojE0g5pa"
   },
   "source": [
    "# Modelos clasificación"
   ]
  },
  {
   "cell_type": "markdown",
   "id": "724bd6e6",
   "metadata": {
    "id": "ca0150c6"
   },
   "source": [
    "## CART con oversampling"
   ]
  },
  {
   "cell_type": "code",
   "execution_count": null,
   "id": "1a5e37d5",
   "metadata": {
    "executionInfo": {
     "elapsed": 247,
     "status": "ok",
     "timestamp": 1660837227686,
     "user": {
      "displayName": "Maela Lombardi",
      "userId": "03936068368896012188"
     },
     "user_tz": 180
    },
    "id": "379955a4"
   },
   "outputs": [],
   "source": [
    "from sklearn.model_selection import train_test_split"
   ]
  },
  {
   "cell_type": "code",
   "execution_count": null,
   "id": "ffbb03fd",
   "metadata": {
    "executionInfo": {
     "elapsed": 290,
     "status": "ok",
     "timestamp": 1660837243605,
     "user": {
      "displayName": "Maela Lombardi",
      "userId": "03936068368896012188"
     },
     "user_tz": 180
    },
    "id": "1d271e76"
   },
   "outputs": [],
   "source": [
    "newX = data[['AE','LE','AT','LT','AA','LA','NV','Labio','Filtro_NV','Ratio_AE_LE','Ratio_AA_LA','Ratio_AT_LT']]\n",
    "newy = data['Morfotipo']"
   ]
  },
  {
   "cell_type": "code",
   "execution_count": null,
   "id": "551f8bab",
   "metadata": {
    "executionInfo": {
     "elapsed": 246,
     "status": "ok",
     "timestamp": 1660837249894,
     "user": {
      "displayName": "Maela Lombardi",
      "userId": "03936068368896012188"
     },
     "user_tz": 180
    },
    "id": "8b959d0e"
   },
   "outputs": [],
   "source": [
    "X_train, X_test, y_train, y_test = train_test_split(newX,newy,stratify = data['Morfotipo'],random_state=0)"
   ]
  },
  {
   "cell_type": "code",
   "execution_count": null,
   "id": "6038d7a0",
   "metadata": {
    "colab": {
     "base_uri": "https://localhost:8080/"
    },
    "executionInfo": {
     "elapsed": 277,
     "status": "ok",
     "timestamp": 1660837255453,
     "user": {
      "displayName": "Maela Lombardi",
      "userId": "03936068368896012188"
     },
     "user_tz": 180
    },
    "id": "326cbb91",
    "outputId": "022bbfbb-65ed-4ca3-e30f-9f8c7c1500d3"
   },
   "outputs": [],
   "source": [
    "# chequeamos la presencia relativa de cada clase y el tamaño de los datasets\n",
    "print('Entrenamiento:',X_train.shape)\n",
    "print('Testeo:',X_test.shape)\n",
    "print('\\nClases train:')\n",
    "print(y_train.value_counts(normalize=True))\n",
    "print('\\nClases test:')\n",
    "print(y_test.value_counts(normalize=True))"
   ]
  },
  {
   "cell_type": "markdown",
   "id": "b1c70b78",
   "metadata": {
    "id": "70a39a33"
   },
   "source": [
    "### OverSampling"
   ]
  },
  {
   "cell_type": "code",
   "execution_count": null,
   "id": "24448906",
   "metadata": {
    "colab": {
     "base_uri": "https://localhost:8080/"
    },
    "executionInfo": {
     "elapsed": 646,
     "status": "ok",
     "timestamp": 1660837261720,
     "user": {
      "displayName": "Maela Lombardi",
      "userId": "03936068368896012188"
     },
     "user_tz": 180
    },
    "id": "91872d43",
    "outputId": "afb0d2ff-8bbf-4b2b-c3a6-49ce2767239a"
   },
   "outputs": [],
   "source": [
    "from imblearn.over_sampling import RandomOverSampler\n",
    "\n",
    "oversampler=RandomOverSampler(sampling_strategy='minority');\n",
    "\n",
    "X_train_os,y_train_os=oversampler.fit_resample(X_train,y_train);\n",
    "\n",
    "print('Composición del training set:')\n",
    "print(y_train_os.value_counts())\n",
    "\n",
    "print('\\nComposición del test set:')\n",
    "print(y_test.value_counts())"
   ]
  },
  {
   "cell_type": "code",
   "execution_count": null,
   "id": "1e0c08d8",
   "metadata": {
    "colab": {
     "base_uri": "https://localhost:8080/"
    },
    "executionInfo": {
     "elapsed": 258,
     "status": "ok",
     "timestamp": 1660837264199,
     "user": {
      "displayName": "Maela Lombardi",
      "userId": "03936068368896012188"
     },
     "user_tz": 180
    },
    "id": "311aab6f",
    "outputId": "cd256b3c-40a1-4a85-9c8d-d90f9b85beed"
   },
   "outputs": [],
   "source": [
    "X_train_os2,y_train_os2=oversampler.fit_resample(X_train_os,y_train_os);\n",
    "\n",
    "print('Composición del training set:')\n",
    "print(y_train_os2.value_counts())\n",
    "\n",
    "print('\\nComposición del test set:')\n",
    "print(y_test.value_counts())"
   ]
  },
  {
   "cell_type": "markdown",
   "id": "10af4931",
   "metadata": {
    "id": "7f58b80c"
   },
   "source": [
    "## CART"
   ]
  },
  {
   "cell_type": "code",
   "execution_count": null,
   "id": "2eebd2be",
   "metadata": {
    "executionInfo": {
     "elapsed": 304,
     "status": "ok",
     "timestamp": 1660837269086,
     "user": {
      "displayName": "Maela Lombardi",
      "userId": "03936068368896012188"
     },
     "user_tz": 180
    },
    "id": "982350a5"
   },
   "outputs": [],
   "source": [
    "from sklearn.tree import DecisionTreeClassifier # to build a classification tree\n",
    "from sklearn.tree import plot_tree # to draw a classification tree\n",
    "from sklearn.metrics import plot_confusion_matrix # to draw a confusion matrix"
   ]
  },
  {
   "cell_type": "code",
   "execution_count": null,
   "id": "66abe9a9",
   "metadata": {
    "executionInfo": {
     "elapsed": 270,
     "status": "ok",
     "timestamp": 1660837271907,
     "user": {
      "displayName": "Maela Lombardi",
      "userId": "03936068368896012188"
     },
     "user_tz": 180
    },
    "id": "400b7a90"
   },
   "outputs": [],
   "source": [
    "clf_dt = DecisionTreeClassifier(max_depth = 7, random_state=42)\n",
    "clf_dt = clf_dt.fit(X_train_os2,y_train_os2)"
   ]
  },
  {
   "cell_type": "code",
   "execution_count": null,
   "id": "8bcee298",
   "metadata": {
    "colab": {
     "base_uri": "https://localhost:8080/",
     "height": 439
    },
    "executionInfo": {
     "elapsed": 2545,
     "status": "ok",
     "timestamp": 1660837275911,
     "user": {
      "displayName": "Maela Lombardi",
      "userId": "03936068368896012188"
     },
     "user_tz": 180
    },
    "id": "f7b8dcb6",
    "outputId": "0f556c95-e912-4073-d641-fa7c9632670b"
   },
   "outputs": [],
   "source": [
    "plt.figure(figsize=(15, 7.5))\n",
    "plot_tree(clf_dt, \n",
    "          filled=True, \n",
    "          rounded=True, \n",
    "          class_names=[\"LU\",\"DU\", \"LB\"], \n",
    "          feature_names=X_train_os2.columns); "
   ]
  },
  {
   "cell_type": "code",
   "execution_count": null,
   "id": "a239fc39",
   "metadata": {
    "colab": {
     "base_uri": "https://localhost:8080/",
     "height": 354
    },
    "executionInfo": {
     "elapsed": 805,
     "status": "ok",
     "timestamp": 1660837305084,
     "user": {
      "displayName": "Maela Lombardi",
      "userId": "03936068368896012188"
     },
     "user_tz": 180
    },
    "id": "818d7083",
    "outputId": "5317370b-9ed8-4f58-eeca-c42ca71f408b"
   },
   "outputs": [],
   "source": [
    "plot_confusion_matrix(clf_dt, X_test, y_test, display_labels=[\"LU\",\"DU\",\"LB\"])"
   ]
  }
 ],
 "metadata": {
  "colab": {
   "name": "Borrador Mae.ipynb",
   "provenance": []
  },
  "kernelspec": {
   "display_name": "Python 3 (ipykernel)",
   "language": "python",
   "name": "python3"
  },
  "language_info": {
   "codemirror_mode": {
    "name": "ipython",
    "version": 3
   },
   "file_extension": ".py",
   "mimetype": "text/x-python",
   "name": "python",
   "nbconvert_exporter": "python",
   "pygments_lexer": "ipython3",
   "version": "3.8.12"
  },
  "vscode": {
   "interpreter": {
    "hash": "6ac88a8a1a8cc340d2b05566e22fde7412d1d718644d4b1167688fa7d4044e9b"
   }
  }
 },
 "nbformat": 4,
 "nbformat_minor": 5
}
