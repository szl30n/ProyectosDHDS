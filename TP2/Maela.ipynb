{
 "cells": [
  {
   "cell_type": "markdown",
   "metadata": {
    "id": "HMXPbEkA3ux8"
   },
   "source": [
    "# **Preparacion del ambiente**"
   ]
  },
  {
   "cell_type": "code",
   "execution_count": 53,
   "metadata": {
    "id": "YxgaDE6hq6H8"
   },
   "outputs": [],
   "source": [
    "# corremos esto solo para colab\n",
    "#from google.colab import drive\n",
    "#drive.mount('/content/drive')"
   ]
  },
  {
   "cell_type": "code",
   "execution_count": 54,
   "metadata": {
    "id": "lxTQ0hqxwBDO"
   },
   "outputs": [],
   "source": [
    "import numpy as np\n",
    "import pandas as pd\n",
    "import matplotlib.pyplot as plt\n",
    "#!pip install seaborn\n",
    "import seaborn as sns\n",
    "#!pip install plotly==5.7.0\n",
    "import plotly.express as px\n",
    "from numpy.ma.core import count"
   ]
  },
  {
   "cell_type": "code",
   "execution_count": 55,
   "metadata": {
    "id": "3W8b-X55lUnt"
   },
   "outputs": [],
   "source": [
    "# agregamos código para que identifique más de un display en una celda\n",
    "from IPython.core.interactiveshell import InteractiveShell\n",
    "InteractiveShell.ast_node_interactivity = \"all\""
   ]
  },
  {
   "cell_type": "markdown",
   "metadata": {
    "id": "nuYSmKVC2J9H"
   },
   "source": [
    "# **Importación de los datos de properati y AR**\n"
   ]
  },
  {
   "cell_type": "code",
   "execution_count": 56,
   "metadata": {
    "id": "UO_Dclz3wGzh"
   },
   "outputs": [],
   "source": [
    "#leo el archivo de properati\n",
    "#en colab\n",
    "#csv_path =\"/content/drive/MyDrive/DSDH/TP1/notebook para pc/properatti.csv\"\n",
    "#data = pd.read_csv(csv_path)\n",
    "\n",
    "#en jupyter\n",
    "data = pd.read_csv(\"../data/properatti.csv\", sep = \",\", low_memory=False) \n",
    "#data.head(3)"
   ]
  },
  {
   "cell_type": "code",
   "execution_count": 57,
   "metadata": {
    "colab": {
     "base_uri": "https://localhost:8080/",
     "height": 206
    },
    "executionInfo": {
     "elapsed": 1688,
     "status": "ok",
     "timestamp": 1651431191033,
     "user": {
      "displayName": "Maela Lombardi",
      "userId": "03936068368896012188"
     },
     "user_tz": 180
    },
    "id": "n9pstGTWeydb",
    "outputId": "38279a86-7c2c-43a1-b922-181440dfbe29"
   },
   "outputs": [
    {
     "data": {
      "text/html": [
       "<div>\n",
       "<style scoped>\n",
       "    .dataframe tbody tr th:only-of-type {\n",
       "        vertical-align: middle;\n",
       "    }\n",
       "\n",
       "    .dataframe tbody tr th {\n",
       "        vertical-align: top;\n",
       "    }\n",
       "\n",
       "    .dataframe thead th {\n",
       "        text-align: right;\n",
       "    }\n",
       "</style>\n",
       "<table border=\"1\" class=\"dataframe\">\n",
       "  <thead>\n",
       "    <tr style=\"text-align: right;\">\n",
       "      <th></th>\n",
       "      <th>place_name</th>\n",
       "      <th>place_name2</th>\n",
       "      <th>Lat</th>\n",
       "      <th>Lon</th>\n",
       "      <th>Pais</th>\n",
       "      <th>country_name</th>\n",
       "      <th>state_name</th>\n",
       "    </tr>\n",
       "  </thead>\n",
       "  <tbody>\n",
       "    <tr>\n",
       "      <th>0</th>\n",
       "      <td>Sierra del 15</td>\n",
       "      <td>Sierra del 15</td>\n",
       "      <td>-37.96613</td>\n",
       "      <td>-57.94670</td>\n",
       "      <td>AR</td>\n",
       "      <td>Argentina</td>\n",
       "      <td>Buenos Aires</td>\n",
       "    </tr>\n",
       "    <tr>\n",
       "      <th>1</th>\n",
       "      <td>Puesto 1 Napoleón Cué</td>\n",
       "      <td>Puesto 1 Napoleon Cue</td>\n",
       "      <td>-28.63333</td>\n",
       "      <td>-56.11667</td>\n",
       "      <td>AR</td>\n",
       "      <td>Argentina</td>\n",
       "      <td>Cordoba</td>\n",
       "    </tr>\n",
       "    <tr>\n",
       "      <th>2</th>\n",
       "      <td>Cañada del Zorro</td>\n",
       "      <td>Canada del Zorro</td>\n",
       "      <td>-32.16667</td>\n",
       "      <td>-59.50000</td>\n",
       "      <td>AR</td>\n",
       "      <td>Argentina</td>\n",
       "      <td>Cordoba</td>\n",
       "    </tr>\n",
       "    <tr>\n",
       "      <th>3</th>\n",
       "      <td>Estancia Zorraquín</td>\n",
       "      <td>Estancia Zorraquin</td>\n",
       "      <td>-31.51553</td>\n",
       "      <td>-58.55208</td>\n",
       "      <td>AR</td>\n",
       "      <td>Argentina</td>\n",
       "      <td>Cordoba</td>\n",
       "    </tr>\n",
       "    <tr>\n",
       "      <th>4</th>\n",
       "      <td>Estancia Zequeira Cué</td>\n",
       "      <td>Estancia Zequeira Cue</td>\n",
       "      <td>-28.43825</td>\n",
       "      <td>-56.08838</td>\n",
       "      <td>AR</td>\n",
       "      <td>Argentina</td>\n",
       "      <td>Cordoba</td>\n",
       "    </tr>\n",
       "  </tbody>\n",
       "</table>\n",
       "</div>"
      ],
      "text/plain": [
       "              place_name            place_name2       Lat       Lon Pais  \\\n",
       "0          Sierra del 15          Sierra del 15 -37.96613 -57.94670   AR   \n",
       "1  Puesto 1 Napoleón Cué  Puesto 1 Napoleon Cue -28.63333 -56.11667   AR   \n",
       "2       Cañada del Zorro       Canada del Zorro -32.16667 -59.50000   AR   \n",
       "3     Estancia Zorraquín     Estancia Zorraquin -31.51553 -58.55208   AR   \n",
       "4  Estancia Zequeira Cué  Estancia Zequeira Cue -28.43825 -56.08838   AR   \n",
       "\n",
       "  country_name    state_name  \n",
       "0    Argentina  Buenos Aires  \n",
       "1    Argentina       Cordoba  \n",
       "2    Argentina       Cordoba  \n",
       "3    Argentina       Cordoba  \n",
       "4    Argentina       Cordoba  "
      ]
     },
     "execution_count": 57,
     "metadata": {},
     "output_type": "execute_result"
    }
   ],
   "source": [
    "#import AR.csv trayendo algunas de las columnas que tienen info de ubicación\n",
    "columnas = ['num', 'place_name', 'place_name2','s20', 'Lat','Lon', 's', 'rnch', 'Pais','s0','s1','s2','s3','s4','s5','s6','s7','place_with_parent_names','fecha']\n",
    "\n",
    "#en colab\n",
    "#dataAR = pd.read_csv(\"/content/drive/MyDrive/DSDH/TP1/AR.tsv\", header=None, names=columnas,  usecols=[1,2,4,5,8,17], sep = \"\\t\", low_memory=False) \n",
    "# en jupyter\n",
    "dataAR = pd.read_csv(\"../data/AR.tsv\", header=None, names=columnas,  usecols=[1,2,4,5,8,17], sep = \"\\t\", low_memory=False) \n",
    "\n",
    "#elimino la cadena de caracteres America/ y separo la columna place_with_parent_names en columnas, \n",
    "#renombro las columnas resultantes para coincidir con las columnas de data\n",
    "dataAR[\"place_with_parent_names\"] = dataAR[\"place_with_parent_names\"].replace({'America/':''}, regex=True)\n",
    "dataAR[[\"country_name\", \"state_name\"]] = dataAR[\"place_with_parent_names\"].str.split(\"/\", expand=True)\n",
    "dataAR[\"state_name\"]=dataAR[\"state_name\"].replace({'_':' '}, regex=True)\n",
    "dataAR.drop(\"place_with_parent_names\", axis=1, inplace=True)\n",
    "dataAR.head()"
   ]
  },
  {
   "cell_type": "markdown",
   "metadata": {
    "id": "qFIOpuFp36sg"
   },
   "source": [
    "# **Exploracion de datos**\n"
   ]
  },
  {
   "cell_type": "markdown",
   "metadata": {
    "id": "YYE2AF7O18C3"
   },
   "source": [
    "## Descripción del dataset"
   ]
  },
  {
   "cell_type": "code",
   "execution_count": 59,
   "metadata": {
    "colab": {
     "base_uri": "https://localhost:8080/"
    },
    "executionInfo": {
     "elapsed": 11,
     "status": "ok",
     "timestamp": 1651431191034,
     "user": {
      "displayName": "Maela Lombardi",
      "userId": "03936068368896012188"
     },
     "user_tz": 180
    },
    "id": "1ARmHYwpVfFq",
    "outputId": "90526f44-4484-4fb1-ed5b-0c0457b4b86d"
   },
   "outputs": [
    {
     "data": {
      "text/plain": [
       "Unnamed: 0                      int64\n",
       "operation                      object\n",
       "property_type                  object\n",
       "place_name                     object\n",
       "place_with_parent_names        object\n",
       "country_name                   object\n",
       "state_name                     object\n",
       "geonames_id                   float64\n",
       "lat-lon                        object\n",
       "lat                           float64\n",
       "lon                           float64\n",
       "price                         float64\n",
       "currency                       object\n",
       "price_aprox_local_currency    float64\n",
       "price_aprox_usd               float64\n",
       "surface_total_in_m2           float64\n",
       "surface_covered_in_m2         float64\n",
       "price_usd_per_m2              float64\n",
       "price_per_m2                  float64\n",
       "floor                         float64\n",
       "rooms                         float64\n",
       "expenses                      float64\n",
       "properati_url                  object\n",
       "description                    object\n",
       "title                          object\n",
       "image_thumbnail                object\n",
       "dtype: object"
      ]
     },
     "execution_count": 59,
     "metadata": {},
     "output_type": "execute_result"
    }
   ],
   "source": [
    "#tipo de datos en columnas\n",
    "data.dtypes"
   ]
  },
  {
   "cell_type": "code",
   "execution_count": 62,
   "metadata": {
    "colab": {
     "base_uri": "https://localhost:8080/"
    },
    "executionInfo": {
     "elapsed": 1134,
     "status": "ok",
     "timestamp": 1651431192909,
     "user": {
      "displayName": "Maela Lombardi",
      "userId": "03936068368896012188"
     },
     "user_tz": 180
    },
    "id": "UXeW7ATVaP1R",
    "outputId": "7d21b402-3380-4d64-ba3b-40a8372fecbf"
   },
   "outputs": [
    {
     "name": "stdout",
     "output_type": "stream",
     "text": [
      "operation\n",
      "sell    121220\n",
      "Name: operation, dtype: int64\n",
      "-----------------------------------------------\n",
      "property_type\n",
      "apartment    71065\n",
      "house        40268\n",
      "PH            5751\n",
      "store         4136\n",
      "Name: property_type, dtype: int64\n",
      "-----------------------------------------------\n",
      "country_name\n",
      "Argentina    121220\n",
      "Name: country_name, dtype: int64\n",
      "-----------------------------------------------\n",
      "state_name\n",
      "Capital Federal                 32316\n",
      "Bs.As. G.B.A. Zona Norte        25560\n",
      "Bs.As. G.B.A. Zona Sur          13952\n",
      "Córdoba                         12069\n",
      "Santa Fe                        10172\n",
      "Buenos Aires Costa Atlántica    10006\n",
      "Bs.As. G.B.A. Zona Oeste         9322\n",
      "Buenos Aires Interior            2291\n",
      "Río Negro                         808\n",
      "Neuquén                           733\n",
      "Mendoza                           681\n",
      "Tucumán                           674\n",
      "Corrientes                        583\n",
      "Misiones                          464\n",
      "Entre Ríos                        369\n",
      "Salta                             278\n",
      "Chubut                            259\n",
      "San Luis                          252\n",
      "La Pampa                          157\n",
      "Formosa                            65\n",
      "Chaco                              57\n",
      "San Juan                           40\n",
      "Tierra Del Fuego                   31\n",
      "Catamarca                          27\n",
      "Jujuy                              26\n",
      "Santa Cruz                         20\n",
      "Santiago Del Estero                 4\n",
      "La Rioja                            4\n",
      "Name: state_name, dtype: int64\n",
      "-----------------------------------------------\n",
      "currency\n",
      "USD    87587\n",
      "ARS    13219\n",
      "PEN        2\n",
      "UYU        1\n",
      "Name: currency, dtype: int64\n",
      "-----------------------------------------------\n",
      "rooms\n",
      "3.0     12567\n",
      "2.0     12433\n",
      "4.0      7937\n",
      "1.0      7377\n",
      "5.0      3782\n",
      "6.0      1403\n",
      "7.0       770\n",
      "8.0       409\n",
      "10.0      226\n",
      "9.0       184\n",
      "11.0       72\n",
      "12.0       65\n",
      "13.0       33\n",
      "14.0       27\n",
      "15.0       26\n",
      "17.0       16\n",
      "16.0       11\n",
      "20.0       11\n",
      "22.0        8\n",
      "18.0        6\n",
      "21.0        5\n",
      "19.0        4\n",
      "30.0        4\n",
      "25.0        4\n",
      "32.0        3\n",
      "23.0        2\n",
      "24.0        1\n",
      "31.0        1\n",
      "29.0        1\n",
      "27.0        1\n",
      "28.0        1\n",
      "Name: rooms, dtype: int64\n",
      "-----------------------------------------------\n"
     ]
    }
   ],
   "source": [
    "# aquí cuantificamos valores unicos en columnas con menos de 40 valores único.\n",
    "# de esta manera podemos tomar decisiones sobre registros que podemos eliminar por no ser significativos\n",
    "# de esta manera identificamos columnas que nos pueden servir par hacer exploraciones visuales\n",
    "for i in data.columns:\n",
    "  if len(data[i].unique()) < 40:\n",
    "    print(f'''{data[i].name}\\n{data[i].value_counts()}\\n-----------------------------------------------''')"
   ]
  },
  {
   "cell_type": "markdown",
   "metadata": {
    "id": "VJyqbQeuuGRw"
   },
   "source": [
    "## Nulls. "
   ]
  },
  {
   "cell_type": "code",
   "execution_count": 64,
   "metadata": {
    "id": "cDuzGfjj3rTe",
    "outputId": "40e0cb67-b1a7-443a-96c8-5b434b33ad13"
   },
   "outputs": [
    {
     "data": {
      "text/plain": [
       "<matplotlib.axes._subplots.AxesSubplot at 0x7f801ad00ad0>"
      ]
     },
     "execution_count": 64,
     "metadata": {},
     "output_type": "execute_result"
    },
    {
     "data": {
      "text/plain": [
       "[Text(0, 0.5, '% Nulos'),\n",
       " Text(0.5, 0, 'Columnas'),\n",
       " Text(0.5, 1.0, 'Datos nulos')]"
      ]
     },
     "execution_count": 64,
     "metadata": {},
     "output_type": "execute_result"
    },
    {
     "data": {
      "text/plain": [
       "<matplotlib.legend.Legend at 0x7f80283b2e10>"
      ]
     },
     "execution_count": 64,
     "metadata": {},
     "output_type": "execute_result"
    },
    {
     "data": {
      "image/png": "[encoded data removed]",
      "text/plain": [
       "<Figure size 1080x432 with 1 Axes>"
      ]
     },
     "metadata": {},
     "output_type": "display_data"
    }
   ],
   "source": [
    "# Representamos gráficamente los nulos por columna\n",
    "\n",
    "# Cambiamos los nombres de las columnas para que sea más legible y creamos un diccionario para mapear\n",
    "cols_plt = ['Unn', 'operation', 'ppty_type', 'place',\n",
    "       'place_full', 'country', 'state', 'geonames',\n",
    "       'lat-lon', 'lat', 'lon', 'price', 'currency',\n",
    "       'price_local', 'price_usd', 'total_m2',\n",
    "       'covered_m2', 'usd_m2', 'price_m2', 'floor',\n",
    "       'rooms', 'expenses', 'properati_url', 'description', 'title',\n",
    "       'image']\n",
    "\n",
    "cols_dict = dict(zip(data.columns, cols_plt))\n",
    "\n",
    "# Creamos un nuevo dataframe para hacer el gráfico, sólo con dos columnas, % de nulos y no nulos por variable\n",
    "null = data.apply(lambda x: x.isnull().sum() / data.shape[0] * 100)\n",
    "not_null = data.apply(lambda x: x.notnull().sum() / data.shape[0] * 100)\n",
    "sry_null = pd.DataFrame({'null': null, 'not_null': not_null})\n",
    "\n",
    "# Estilo de gráfico con seaborn\n",
    "sns.set(style = 'dark')\n",
    "\n",
    "# Creo el gráfico reemplazando el nombre de las variables por uno más corto y ordenando antes\n",
    "fig, ax = plt.figure(figsize = (15, 6)), plt.axes()\n",
    "sry_null.rename(index = cols_dict).sort_values(by = 'not_null').plot(kind = 'bar', stacked = True, color = ['#0CA4A5', '#BB7E5D'], ax = ax)\n",
    "\n",
    "# seteo la posición de la leyenda y los títulos para los ejes y la figura\n",
    "ax.set(xlabel = 'Columnas', ylabel = '% Nulos', title = 'Datos nulos')\n",
    "ax.legend(loc = 'upper right')\n",
    "# Guardo la imagen\n",
    "#en colab\n",
    "#images_dir = '/content/drive/My Drive/DSDH/TP1/Imagenes/null_barplot.png'\n",
    "#en jupyter\n",
    "plt.show()\n",
    "#plt.savefig(\"null_barplot.png\", dpi = 150, bbox_inches = 'tight', pad_inches = 0.1)\n"
   ]
  },
  {
   "cell_type": "code",
   "execution_count": 65,
   "metadata": {
    "colab": {
     "base_uri": "https://localhost:8080/"
    },
    "executionInfo": {
     "elapsed": 936,
     "status": "ok",
     "timestamp": 1651431193843,
     "user": {
      "displayName": "Maela Lombardi",
      "userId": "03936068368896012188"
     },
     "user_tz": 180
    },
    "id": "IB8BdiwM4f3Q",
    "outputId": "93a5cec5-dea5-45b2-9af9-4bb0ee65941e"
   },
   "outputs": [
    {
     "name": "stdout",
     "output_type": "stream",
     "text": [
      "                              cant  percent     tipo\n",
      "Unnamed: 0                       0     0.00    int64\n",
      "operation                        0     0.00   object\n",
      "property_type                    0     0.00   object\n",
      "place_name                      23     0.02   object\n",
      "place_with_parent_names          0     0.00   object\n",
      "country_name                     0     0.00   object\n",
      "state_name                       0     0.00   object\n",
      "geonames_id                  18717    15.44  float64\n",
      "lat-lon                      51550    42.53   object\n",
      "lat                          51550    42.53  float64\n",
      "lon                          51550    42.53  float64\n",
      "price                        20410    16.84  float64\n",
      "currency                     20411    16.84   object\n",
      "price_aprox_local_currency   20410    16.84  float64\n",
      "price_aprox_usd              20410    16.84  float64\n",
      "surface_total_in_m2          39328    32.44  float64\n",
      "surface_covered_in_m2        19907    16.42  float64\n",
      "price_usd_per_m2             52603    43.39  float64\n",
      "price_per_m2                 33562    27.69  float64\n",
      "floor                       113321    93.48  float64\n",
      "rooms                        73830    60.91  float64\n",
      "expenses                    106958    88.23  float64\n",
      "properati_url                    0     0.00   object\n",
      "description                      2     0.00   object\n",
      "title                            0     0.00   object\n",
      "image_thumbnail               3112     2.57   object\n"
     ]
    }
   ],
   "source": [
    "##  ¿Qué campos tienen valores nulos? y cual es su porcentaje en la columna\n",
    "cant_nulos_por_campo = data.apply(lambda x: x.isnull().sum(), axis=0)\n",
    "percent_nulos_por_campo = data.apply(lambda x: (100 * x.isnull().sum() / data.shape[0]).round(2), axis=0)\n",
    "summary_nulos_por_campo = pd.DataFrame({ 'cant': cant_nulos_por_campo, 'percent': percent_nulos_por_campo ,'tipo': data.dtypes})\n",
    "print(summary_nulos_por_campo)"
   ]
  },
  {
   "cell_type": "markdown",
   "metadata": {
    "id": "fEvwGVwd2P_l"
   },
   "source": [
    "###Nulos por property_type"
   ]
  },
  {
   "cell_type": "markdown",
   "metadata": {
    "id": "4SO661Crimi1"
   },
   "source": [
    "Vamos a analizar cantidad de null por tipo de propiedad para determinar sí una de ellas nos dá mayor precision sobre la información.\n",
    "Para ello creamos máscaras por tipo de propiedad."
   ]
  },
  {
   "cell_type": "markdown",
   "metadata": {
    "id": "WqPjmj83hFPt"
   },
   "source": [
    "## Columnas categóricas. Como se distribuyen las categorías? "
   ]
  },
  {
   "cell_type": "markdown",
   "metadata": {
    "id": "_JtvZLxFP23X"
   },
   "source": [
    "### Función de graficos generales"
   ]
  },
  {
   "cell_type": "code",
   "execution_count": 74,
   "metadata": {
    "id": "UssYUXEyhJU2"
   },
   "outputs": [],
   "source": [
    "#funcion para graficar columnas categóricas\n",
    "\n",
    "def distribution_plotter(data, label, bins=\"auto\"):    \n",
    "    plt.figure(figsize = (15,5))\n",
    "    sns.set_style(\"white\")    \n",
    "    dist = sns.histplot(data, bins=bins, stat = \"count\", kde = False, \n",
    "                        line_kws = {'linewidth':5}, \n",
    "                        binwidth = 500)    \n",
    "    dist.set_title('Distribucion ', fontsize = 16)\n",
    "    plt.xticks(rotation=45, ha='right')"
   ]
  },
  {
   "cell_type": "markdown",
   "metadata": {
    "id": "JRkNX9OQO9zx"
   },
   "source": [
    "### Property_type"
   ]
  },
  {
   "cell_type": "code",
   "execution_count": 75,
   "metadata": {
    "colab": {
     "base_uri": "https://localhost:8080/",
     "height": 174
    },
    "executionInfo": {
     "elapsed": 7,
     "status": "ok",
     "timestamp": 1651431195243,
     "user": {
      "displayName": "Maela Lombardi",
      "userId": "03936068368896012188"
     },
     "user_tz": 180
    },
    "id": "phYrMnndwtC_",
    "outputId": "5438db89-5148-49f1-b542-2647af9e0d63"
   },
   "outputs": [
    {
     "data": {
      "text/html": [
       "<div>\n",
       "<style scoped>\n",
       "    .dataframe tbody tr th:only-of-type {\n",
       "        vertical-align: middle;\n",
       "    }\n",
       "\n",
       "    .dataframe tbody tr th {\n",
       "        vertical-align: top;\n",
       "    }\n",
       "\n",
       "    .dataframe thead th {\n",
       "        text-align: right;\n",
       "    }\n",
       "</style>\n",
       "<table border=\"1\" class=\"dataframe\">\n",
       "  <thead>\n",
       "    <tr style=\"text-align: right;\">\n",
       "      <th></th>\n",
       "      <th>tipo</th>\n",
       "      <th>percent</th>\n",
       "    </tr>\n",
       "  </thead>\n",
       "  <tbody>\n",
       "    <tr>\n",
       "      <th>apartment</th>\n",
       "      <td>71065</td>\n",
       "      <td>58.624814</td>\n",
       "    </tr>\n",
       "    <tr>\n",
       "      <th>house</th>\n",
       "      <td>40268</td>\n",
       "      <td>33.218941</td>\n",
       "    </tr>\n",
       "    <tr>\n",
       "      <th>PH</th>\n",
       "      <td>5751</td>\n",
       "      <td>4.744267</td>\n",
       "    </tr>\n",
       "    <tr>\n",
       "      <th>store</th>\n",
       "      <td>4136</td>\n",
       "      <td>3.411978</td>\n",
       "    </tr>\n",
       "  </tbody>\n",
       "</table>\n",
       "</div>"
      ],
      "text/plain": [
       "            tipo    percent\n",
       "apartment  71065  58.624814\n",
       "house      40268  33.218941\n",
       "PH          5751   4.744267\n",
       "store       4136   3.411978"
      ]
     },
     "execution_count": 75,
     "metadata": {},
     "output_type": "execute_result"
    }
   ],
   "source": [
    "#analizo la columna property_type para ver la distribución y porcentaje de cada valor unique (frecuencia)\n",
    "property_prop = pd.DataFrame({ 'tipo': data.property_type.value_counts(), 'percent': (100*data.property_type.value_counts())/data.shape[0]})\n",
    "property_prop"
   ]
  },
  {
   "cell_type": "code",
   "execution_count": 76,
   "metadata": {
    "colab": {
     "base_uri": "https://localhost:8080/",
     "height": 386
    },
    "executionInfo": {
     "elapsed": 1268,
     "status": "ok",
     "timestamp": 1651431196506,
     "user": {
      "displayName": "Maela Lombardi",
      "userId": "03936068368896012188"
     },
     "user_tz": 180
    },
    "id": "3kvMMwMdhOsH",
    "outputId": "fbebe46c-523e-4261-91c0-d5ba7d7ba5fc"
   },
   "outputs": [
    {
     "data": {
      "image/png": "[encoded data removed]",
      "text/plain": [
       "<Figure size 1080x360 with 1 Axes>"
      ]
     },
     "metadata": {},
     "output_type": "display_data"
    }
   ],
   "source": [
    "#graficar property_type\n",
    "labels = data.property_type.unique()\n",
    "distribution_plotter(data.property_type,labels)"
   ]
  },
  {
   "cell_type": "markdown",
   "metadata": {
    "id": "cbE9XFnRtgjP"
   },
   "source": [
    "### State_name"
   ]
  },
  {
   "cell_type": "code",
   "execution_count": 77,
   "metadata": {
    "colab": {
     "base_uri": "https://localhost:8080/",
     "height": 451
    },
    "executionInfo": {
     "elapsed": 2023,
     "status": "ok",
     "timestamp": 1651431198526,
     "user": {
      "displayName": "Maela Lombardi",
      "userId": "03936068368896012188"
     },
     "user_tz": 180
    },
    "id": "QFYEqPBQhS0S",
    "outputId": "f22c62b9-be5d-41dc-db42-f7b1d68e3e93"
   },
   "outputs": [
    {
     "data": {
      "image/png": "[encoded data removed]",
      "text/plain": [
       "<Figure size 1080x360 with 1 Axes>"
      ]
     },
     "metadata": {},
     "output_type": "display_data"
    }
   ],
   "source": [
    "#graficar frecuencia de 'state_name'\n",
    "labels = data.state_name.unique()\n",
    "distribution_plotter(data.state_name,labels)"
   ]
  },
  {
   "cell_type": "code",
   "execution_count": 78,
   "metadata": {
    "colab": {
     "base_uri": "https://localhost:8080/",
     "height": 927
    },
    "executionInfo": {
     "elapsed": 12,
     "status": "ok",
     "timestamp": 1651431198527,
     "user": {
      "displayName": "Maela Lombardi",
      "userId": "03936068368896012188"
     },
     "user_tz": 180
    },
    "id": "MyPrO9DIxdDC",
    "outputId": "c886fc0a-fd06-4051-9de0-20b1b8d171ba"
   },
   "outputs": [
    {
     "data": {
      "text/html": [
       "<div>\n",
       "<style scoped>\n",
       "    .dataframe tbody tr th:only-of-type {\n",
       "        vertical-align: middle;\n",
       "    }\n",
       "\n",
       "    .dataframe tbody tr th {\n",
       "        vertical-align: top;\n",
       "    }\n",
       "\n",
       "    .dataframe thead th {\n",
       "        text-align: right;\n",
       "    }\n",
       "</style>\n",
       "<table border=\"1\" class=\"dataframe\">\n",
       "  <thead>\n",
       "    <tr style=\"text-align: right;\">\n",
       "      <th></th>\n",
       "      <th>state_name</th>\n",
       "      <th>percent</th>\n",
       "      <th>cumpercent</th>\n",
       "    </tr>\n",
       "  </thead>\n",
       "  <tbody>\n",
       "    <tr>\n",
       "      <th>Capital Federal</th>\n",
       "      <td>32316</td>\n",
       "      <td>26.658967</td>\n",
       "      <td>26.658967</td>\n",
       "    </tr>\n",
       "    <tr>\n",
       "      <th>Bs.As. G.B.A. Zona Norte</th>\n",
       "      <td>25560</td>\n",
       "      <td>21.085629</td>\n",
       "      <td>47.744597</td>\n",
       "    </tr>\n",
       "    <tr>\n",
       "      <th>Bs.As. G.B.A. Zona Sur</th>\n",
       "      <td>13952</td>\n",
       "      <td>11.509652</td>\n",
       "      <td>59.254248</td>\n",
       "    </tr>\n",
       "    <tr>\n",
       "      <th>Córdoba</th>\n",
       "      <td>12069</td>\n",
       "      <td>9.956278</td>\n",
       "      <td>69.210526</td>\n",
       "    </tr>\n",
       "    <tr>\n",
       "      <th>Santa Fe</th>\n",
       "      <td>10172</td>\n",
       "      <td>8.391355</td>\n",
       "      <td>77.601881</td>\n",
       "    </tr>\n",
       "    <tr>\n",
       "      <th>Buenos Aires Costa Atlántica</th>\n",
       "      <td>10006</td>\n",
       "      <td>8.254413</td>\n",
       "      <td>85.856294</td>\n",
       "    </tr>\n",
       "    <tr>\n",
       "      <th>Bs.As. G.B.A. Zona Oeste</th>\n",
       "      <td>9322</td>\n",
       "      <td>7.690150</td>\n",
       "      <td>93.546444</td>\n",
       "    </tr>\n",
       "    <tr>\n",
       "      <th>Buenos Aires Interior</th>\n",
       "      <td>2291</td>\n",
       "      <td>1.889952</td>\n",
       "      <td>95.436397</td>\n",
       "    </tr>\n",
       "    <tr>\n",
       "      <th>Río Negro</th>\n",
       "      <td>808</td>\n",
       "      <td>0.666557</td>\n",
       "      <td>96.102953</td>\n",
       "    </tr>\n",
       "    <tr>\n",
       "      <th>Neuquén</th>\n",
       "      <td>733</td>\n",
       "      <td>0.604686</td>\n",
       "      <td>96.707639</td>\n",
       "    </tr>\n",
       "    <tr>\n",
       "      <th>Mendoza</th>\n",
       "      <td>681</td>\n",
       "      <td>0.561788</td>\n",
       "      <td>97.269427</td>\n",
       "    </tr>\n",
       "    <tr>\n",
       "      <th>Tucumán</th>\n",
       "      <td>674</td>\n",
       "      <td>0.556014</td>\n",
       "      <td>97.825441</td>\n",
       "    </tr>\n",
       "    <tr>\n",
       "      <th>Corrientes</th>\n",
       "      <td>583</td>\n",
       "      <td>0.480944</td>\n",
       "      <td>98.306385</td>\n",
       "    </tr>\n",
       "    <tr>\n",
       "      <th>Misiones</th>\n",
       "      <td>464</td>\n",
       "      <td>0.382775</td>\n",
       "      <td>98.689160</td>\n",
       "    </tr>\n",
       "    <tr>\n",
       "      <th>Entre Ríos</th>\n",
       "      <td>369</td>\n",
       "      <td>0.304405</td>\n",
       "      <td>98.993565</td>\n",
       "    </tr>\n",
       "    <tr>\n",
       "      <th>Salta</th>\n",
       "      <td>278</td>\n",
       "      <td>0.229335</td>\n",
       "      <td>99.222901</td>\n",
       "    </tr>\n",
       "    <tr>\n",
       "      <th>Chubut</th>\n",
       "      <td>259</td>\n",
       "      <td>0.213661</td>\n",
       "      <td>99.436562</td>\n",
       "    </tr>\n",
       "    <tr>\n",
       "      <th>San Luis</th>\n",
       "      <td>252</td>\n",
       "      <td>0.207886</td>\n",
       "      <td>99.644448</td>\n",
       "    </tr>\n",
       "    <tr>\n",
       "      <th>La Pampa</th>\n",
       "      <td>157</td>\n",
       "      <td>0.129517</td>\n",
       "      <td>99.773965</td>\n",
       "    </tr>\n",
       "    <tr>\n",
       "      <th>Formosa</th>\n",
       "      <td>65</td>\n",
       "      <td>0.053622</td>\n",
       "      <td>99.827586</td>\n",
       "    </tr>\n",
       "    <tr>\n",
       "      <th>Chaco</th>\n",
       "      <td>57</td>\n",
       "      <td>0.047022</td>\n",
       "      <td>99.874608</td>\n",
       "    </tr>\n",
       "    <tr>\n",
       "      <th>San Juan</th>\n",
       "      <td>40</td>\n",
       "      <td>0.032998</td>\n",
       "      <td>99.907606</td>\n",
       "    </tr>\n",
       "    <tr>\n",
       "      <th>Tierra Del Fuego</th>\n",
       "      <td>31</td>\n",
       "      <td>0.025573</td>\n",
       "      <td>99.933179</td>\n",
       "    </tr>\n",
       "    <tr>\n",
       "      <th>Catamarca</th>\n",
       "      <td>27</td>\n",
       "      <td>0.022274</td>\n",
       "      <td>99.955453</td>\n",
       "    </tr>\n",
       "    <tr>\n",
       "      <th>Jujuy</th>\n",
       "      <td>26</td>\n",
       "      <td>0.021449</td>\n",
       "      <td>99.976902</td>\n",
       "    </tr>\n",
       "    <tr>\n",
       "      <th>Santa Cruz</th>\n",
       "      <td>20</td>\n",
       "      <td>0.016499</td>\n",
       "      <td>99.993400</td>\n",
       "    </tr>\n",
       "    <tr>\n",
       "      <th>Santiago Del Estero</th>\n",
       "      <td>4</td>\n",
       "      <td>0.003300</td>\n",
       "      <td>99.996700</td>\n",
       "    </tr>\n",
       "    <tr>\n",
       "      <th>La Rioja</th>\n",
       "      <td>4</td>\n",
       "      <td>0.003300</td>\n",
       "      <td>100.000000</td>\n",
       "    </tr>\n",
       "  </tbody>\n",
       "</table>\n",
       "</div>"
      ],
      "text/plain": [
       "                              state_name    percent  cumpercent\n",
       "Capital Federal                    32316  26.658967   26.658967\n",
       "Bs.As. G.B.A. Zona Norte           25560  21.085629   47.744597\n",
       "Bs.As. G.B.A. Zona Sur             13952  11.509652   59.254248\n",
       "Córdoba                            12069   9.956278   69.210526\n",
       "Santa Fe                           10172   8.391355   77.601881\n",
       "Buenos Aires Costa Atlántica       10006   8.254413   85.856294\n",
       "Bs.As. G.B.A. Zona Oeste            9322   7.690150   93.546444\n",
       "Buenos Aires Interior               2291   1.889952   95.436397\n",
       "Río Negro                            808   0.666557   96.102953\n",
       "Neuquén                              733   0.604686   96.707639\n",
       "Mendoza                              681   0.561788   97.269427\n",
       "Tucumán                              674   0.556014   97.825441\n",
       "Corrientes                           583   0.480944   98.306385\n",
       "Misiones                             464   0.382775   98.689160\n",
       "Entre Ríos                           369   0.304405   98.993565\n",
       "Salta                                278   0.229335   99.222901\n",
       "Chubut                               259   0.213661   99.436562\n",
       "San Luis                             252   0.207886   99.644448\n",
       "La Pampa                             157   0.129517   99.773965\n",
       "Formosa                               65   0.053622   99.827586\n",
       "Chaco                                 57   0.047022   99.874608\n",
       "San Juan                              40   0.032998   99.907606\n",
       "Tierra Del Fuego                      31   0.025573   99.933179\n",
       "Catamarca                             27   0.022274   99.955453\n",
       "Jujuy                                 26   0.021449   99.976902\n",
       "Santa Cruz                            20   0.016499   99.993400\n",
       "Santiago Del Estero                    4   0.003300   99.996700\n",
       "La Rioja                               4   0.003300  100.000000"
      ]
     },
     "execution_count": 78,
     "metadata": {},
     "output_type": "execute_result"
    }
   ],
   "source": [
    "#analizo la columna state_name para ver la distribución y porcentaje de cada valor unique (frecuencia)\n",
    "percent = (100*data.state_name.value_counts())/data.shape[0]\n",
    "state_prop = pd.DataFrame({ 'state_name': data.state_name.value_counts(), 'percent': (100*data.state_name.value_counts())/data.shape[0], 'cumpercent': percent.cumsum()})\n",
    "state_prop"
   ]
  },
  {
   "cell_type": "code",
   "execution_count": 79,
   "metadata": {
    "colab": {
     "base_uri": "https://localhost:8080/"
    },
    "executionInfo": {
     "elapsed": 12,
     "status": "ok",
     "timestamp": 1651431198528,
     "user": {
      "displayName": "Maela Lombardi",
      "userId": "03936068368896012188"
     },
     "user_tz": 180
    },
    "id": "VrN_IOB6kYuN",
    "outputId": "875f8e7c-c012-4fc3-c741-4b65c61835e5"
   },
   "outputs": [
    {
     "data": {
      "text/plain": [
       "state_name                    place_name   \n",
       "Córdoba                       Córdoba          9254\n",
       "Santa Fe                      Rosario          8504\n",
       "Buenos Aires Costa Atlántica  Mar del Plata    6534\n",
       "Bs.As. G.B.A. Zona Norte      Tigre            3324\n",
       "                              Nordelta         3315\n",
       "Capital Federal               Belgrano         2992\n",
       "                              Palermo          2885\n",
       "Bs.As. G.B.A. Zona Sur        La Plata         2534\n",
       "Capital Federal               Caballito        2273\n",
       "Bs.As. G.B.A. Zona Norte      Pilar            2225\n",
       "Name: place_name, dtype: int64"
      ]
     },
     "execution_count": 79,
     "metadata": {},
     "output_type": "execute_result"
    }
   ],
   "source": [
    "#agrupo por state_name para ver los valores únicos de place_name en cada uno\n",
    "state = data.groupby(\"state_name\")[\"place_name\"].value_counts()\n",
    "state.sort_values(ascending=False).head(10)\n"
   ]
  },
  {
   "cell_type": "markdown",
   "metadata": {
    "id": "hNdcZw1sNLFu"
   },
   "source": [
    "Conclusión: El 95.5% de los registros corresponden a las provincias de Buenos Aires, Santa Fe, Córdoba y CABA."
   ]
  },
  {
   "cell_type": "markdown",
   "metadata": {
    "id": "dfCjvUehCVOD"
   },
   "source": [
    "### Columna place_with_parent_names"
   ]
  },
  {
   "cell_type": "markdown",
   "metadata": {
    "id": "XjIob1OoXk25"
   },
   "source": [
    "Por la información previsualizada parecería que el valor de esta columna es la  sumatoria de otras columnas (country, state y place).\n",
    "Intentamos determinar si es así, o si contiene información adicional."
   ]
  },
  {
   "cell_type": "code",
   "execution_count": 80,
   "metadata": {
    "colab": {
     "base_uri": "https://localhost:8080/",
     "height": 476
    },
    "executionInfo": {
     "elapsed": 7,
     "status": "ok",
     "timestamp": 1651431198528,
     "user": {
      "displayName": "Maela Lombardi",
      "userId": "03936068368896012188"
     },
     "user_tz": 180
    },
    "id": "Uv4SkPy1Cx4O",
    "outputId": "0a6d3940-21af-4303-9cbb-5da6ab84bdf5"
   },
   "outputs": [
    {
     "data": {
      "text/html": [
       "<div>\n",
       "<style scoped>\n",
       "    .dataframe tbody tr th:only-of-type {\n",
       "        vertical-align: middle;\n",
       "    }\n",
       "\n",
       "    .dataframe tbody tr th {\n",
       "        vertical-align: top;\n",
       "    }\n",
       "\n",
       "    .dataframe thead th {\n",
       "        text-align: right;\n",
       "    }\n",
       "</style>\n",
       "<table border=\"1\" class=\"dataframe\">\n",
       "  <thead>\n",
       "    <tr style=\"text-align: right;\">\n",
       "      <th></th>\n",
       "      <th>self</th>\n",
       "      <th>other</th>\n",
       "    </tr>\n",
       "  </thead>\n",
       "  <tbody>\n",
       "    <tr>\n",
       "      <th>0</th>\n",
       "      <td>NaN</td>\n",
       "      <td>NaN</td>\n",
       "    </tr>\n",
       "    <tr>\n",
       "      <th>1</th>\n",
       "      <td>NaN</td>\n",
       "      <td>NaN</td>\n",
       "    </tr>\n",
       "    <tr>\n",
       "      <th>2</th>\n",
       "      <td>NaN</td>\n",
       "      <td>NaN</td>\n",
       "    </tr>\n",
       "    <tr>\n",
       "      <th>3</th>\n",
       "      <td>NaN</td>\n",
       "      <td>NaN</td>\n",
       "    </tr>\n",
       "    <tr>\n",
       "      <th>4</th>\n",
       "      <td>|Argentina|Buenos Aires Costa Atlántica|Centro|</td>\n",
       "      <td>|Argentina|Buenos Aires Costa Atlántica|Mar de...</td>\n",
       "    </tr>\n",
       "    <tr>\n",
       "      <th>...</th>\n",
       "      <td>...</td>\n",
       "      <td>...</td>\n",
       "    </tr>\n",
       "    <tr>\n",
       "      <th>121215</th>\n",
       "      <td>NaN</td>\n",
       "      <td>NaN</td>\n",
       "    </tr>\n",
       "    <tr>\n",
       "      <th>121216</th>\n",
       "      <td>|Argentina|Bs.As. G.B.A. Zona Norte|Beccar|</td>\n",
       "      <td>|Argentina|Bs.As. G.B.A. Zona Norte|San Isidro...</td>\n",
       "    </tr>\n",
       "    <tr>\n",
       "      <th>121217</th>\n",
       "      <td>NaN</td>\n",
       "      <td>NaN</td>\n",
       "    </tr>\n",
       "    <tr>\n",
       "      <th>121218</th>\n",
       "      <td>|Argentina|Buenos Aires Costa Atlántica|Plaza ...</td>\n",
       "      <td>|Argentina|Buenos Aires Costa Atlántica|Mar de...</td>\n",
       "    </tr>\n",
       "    <tr>\n",
       "      <th>121219</th>\n",
       "      <td>|Argentina|Capital Federal|Capital Federal|</td>\n",
       "      <td>|Argentina|Capital Federal|</td>\n",
       "    </tr>\n",
       "  </tbody>\n",
       "</table>\n",
       "<p>121220 rows × 2 columns</p>\n",
       "</div>"
      ],
      "text/plain": [
       "                                                     self  \\\n",
       "0                                                     NaN   \n",
       "1                                                     NaN   \n",
       "2                                                     NaN   \n",
       "3                                                     NaN   \n",
       "4         |Argentina|Buenos Aires Costa Atlántica|Centro|   \n",
       "...                                                   ...   \n",
       "121215                                                NaN   \n",
       "121216        |Argentina|Bs.As. G.B.A. Zona Norte|Beccar|   \n",
       "121217                                                NaN   \n",
       "121218  |Argentina|Buenos Aires Costa Atlántica|Plaza ...   \n",
       "121219        |Argentina|Capital Federal|Capital Federal|   \n",
       "\n",
       "                                                    other  \n",
       "0                                                     NaN  \n",
       "1                                                     NaN  \n",
       "2                                                     NaN  \n",
       "3                                                     NaN  \n",
       "4       |Argentina|Buenos Aires Costa Atlántica|Mar de...  \n",
       "...                                                   ...  \n",
       "121215                                                NaN  \n",
       "121216  |Argentina|Bs.As. G.B.A. Zona Norte|San Isidro...  \n",
       "121217                                                NaN  \n",
       "121218  |Argentina|Buenos Aires Costa Atlántica|Mar de...  \n",
       "121219                        |Argentina|Capital Federal|  \n",
       "\n",
       "[121220 rows x 2 columns]"
      ]
     },
     "execution_count": 80,
     "metadata": {},
     "output_type": "execute_result"
    },
    {
     "data": {
      "text/plain": [
       "self     45197\n",
       "other    45220\n",
       "dtype: int64"
      ]
     },
     "execution_count": 80,
     "metadata": {},
     "output_type": "execute_result"
    }
   ],
   "source": [
    "#determino si el valor de place_with_parent_name es igual a la suma de country_name, state_name y place_name\n",
    "#pruebo \"compare\" entre una columna nueva que agrupa pais, state y place, y la columna place_with_parent_name para ver \n",
    "data[\"agrupado\"] = \"|\" + data[\"country_name\"] +\"|\" + data[\"state_name\"] + \"|\" + data[\"place_name\"] + \"|\"\n",
    "data[\"agrupado\"].compare(data[\"place_with_parent_names\"], align_axis = 1, keep_shape = True, keep_equal = False)\n",
    "\n",
    "#place_with_parent_name no es igual a la sumatoria de las otras columnas\n",
    "#me fijo cuántos registros hay distintos \n",
    "data[\"agrupado\"].compare(data[\"place_with_parent_names\"], align_axis = 1, keep_shape = True, keep_equal = False).notnull().sum() "
   ]
  },
  {
   "cell_type": "markdown",
   "metadata": {
    "id": "wSDlizmCPvBG"
   },
   "source": [
    "La columna place_with_parent_name no es igual a la sumatoria de las otras columnas, hay 45.000 registros distintos, que contienen información adicional a la suma de country, state y place name. \n",
    "Dividimos la columna por separadores, generándose 6 columnas en total. \n",
    "Determino si la columna 1 es equivalente a Country_name, la 2 a state_name y la 3 a place_name. \n",
    "Me fijo qué tipo de información hay en las columnas 4, 5 y 6\n",
    "En algunos casos contiene + 1 de un valor categórico adicional."
   ]
  },
  {
   "cell_type": "code",
   "execution_count": 81,
   "metadata": {
    "colab": {
     "base_uri": "https://localhost:8080/"
    },
    "executionInfo": {
     "elapsed": 870,
     "status": "ok",
     "timestamp": 1651431199392,
     "user": {
      "displayName": "Maela Lombardi",
      "userId": "03936068368896012188"
     },
     "user_tz": 180
    },
    "id": "454k22xbCklK",
    "outputId": "279bf49f-91c1-473d-f34f-4066c5b0e4fb"
   },
   "outputs": [
    {
     "data": {
      "text/plain": [
       "RangeIndex(start=0, stop=7, step=1)"
      ]
     },
     "execution_count": 81,
     "metadata": {},
     "output_type": "execute_result"
    }
   ],
   "source": [
    "#exploro a ver qué tipo de información adicional trae place_with_parent_names\n",
    "#divido la columna place_with_parent_names por separador\n",
    "pwpn_split = data[\"place_with_parent_names\"].str.split('|', expand=True)\n",
    "pwpn_split.columns"
   ]
  },
  {
   "cell_type": "code",
   "execution_count": 82,
   "metadata": {
    "id": "KcyjAn-fnzh_"
   },
   "outputs": [],
   "source": [
    "col1 = pwpn_split[1]  \n",
    "col2 = pwpn_split[2]\n",
    "col3 = pwpn_split[3]"
   ]
  },
  {
   "cell_type": "code",
   "execution_count": 83,
   "metadata": {
    "colab": {
     "base_uri": "https://localhost:8080/"
    },
    "executionInfo": {
     "elapsed": 7,
     "status": "ok",
     "timestamp": 1651431199393,
     "user": {
      "displayName": "Maela Lombardi",
      "userId": "03936068368896012188"
     },
     "user_tz": 180
    },
    "id": "qTwMj_FpkfK3",
    "outputId": "fd916edf-6a36-46ed-e588-c7a7056dffdd"
   },
   "outputs": [
    {
     "name": "stdout",
     "output_type": "stream",
     "text": [
      "\n",
      "Country_name y Col1 son iguales: True\n",
      "State_name y Col2 son iguales: True\n",
      "Place_name y Col3 son iguales: False\n"
     ]
    }
   ],
   "source": [
    "#me fijo si las 3 primeras divisiones coinciden con country, state y place\n",
    "print(f'''\n",
    "Country_name y Col1 son iguales: {np.logical_and(data['country_name'].isnull(), col1.isnull()).sum() == np.logical_or(data['country_name'].isnull(), col1.isnull()).sum()}\n",
    "State_name y Col2 son iguales: {np.logical_and(data['state_name'].isnull(), col2.isnull()).sum() == np.logical_or(data['state_name'].isnull(), col2.isnull()).sum()}\n",
    "Place_name y Col3 son iguales: {np.logical_and(data['place_name'].isnull(), col3.isnull()).sum() == np.logical_or(data['place_name'].isnull(), col3.isnull()).sum()}''')\n"
   ]
  },
  {
   "cell_type": "markdown",
   "metadata": {
    "id": "JRJ--byjQOrd"
   },
   "source": [
    "CONCLUSION:\n",
    "En el dataset de properati, la columna state_name trae información distinta según la ubicación de la que se trate (en casos es provincia, en otros ciudad y en otros una zona de una provincia). A partir de allí, los datos contenidos en el nivel inferior (place_name) dependerán de lo que había en state_name.\n",
    "\n",
    "La columna place_with_parent_names trae la información contenida en country, state y place name más información adicional de barrio o barrio privado. Podemos decir que esta columna nos aporta una identificación más refinada sobre la ubicación de la propiedad a la hora de determinar su precio por m2."
   ]
  },
  {
   "cell_type": "markdown",
   "metadata": {
    "id": "RJTCe2C6wQOm"
   },
   "source": [
    "\n",
    "## En columnas numéricas, contienen muchos outliers? se pueden calcular estadísticas de resúmen?"
   ]
  },
  {
   "cell_type": "code",
   "execution_count": 85,
   "metadata": {
    "colab": {
     "base_uri": "https://localhost:8080/",
     "height": 300
    },
    "executionInfo": {
     "elapsed": 445,
     "status": "ok",
     "timestamp": 1651431199835,
     "user": {
      "displayName": "Maela Lombardi",
      "userId": "03936068368896012188"
     },
     "user_tz": 180
    },
    "id": "pmlOwB4bhb5V",
    "outputId": "46e8cdf7-6e27-4974-d6f6-383b79606cff"
   },
   "outputs": [
    {
     "data": {
      "text/html": [
       "<div>\n",
       "<style scoped>\n",
       "    .dataframe tbody tr th:only-of-type {\n",
       "        vertical-align: middle;\n",
       "    }\n",
       "\n",
       "    .dataframe tbody tr th {\n",
       "        vertical-align: top;\n",
       "    }\n",
       "\n",
       "    .dataframe thead th {\n",
       "        text-align: right;\n",
       "    }\n",
       "</style>\n",
       "<table border=\"1\" class=\"dataframe\">\n",
       "  <thead>\n",
       "    <tr style=\"text-align: right;\">\n",
       "      <th></th>\n",
       "      <th>price</th>\n",
       "      <th>price_aprox_local_currency</th>\n",
       "      <th>price_aprox_usd</th>\n",
       "      <th>surface_total_in_m2</th>\n",
       "      <th>surface_covered_in_m2</th>\n",
       "      <th>price_usd_per_m2</th>\n",
       "      <th>price_per_m2</th>\n",
       "    </tr>\n",
       "  </thead>\n",
       "  <tbody>\n",
       "    <tr>\n",
       "      <th>count</th>\n",
       "      <td>100810.0</td>\n",
       "      <td>100810.0</td>\n",
       "      <td>100810.0</td>\n",
       "      <td>81892.0</td>\n",
       "      <td>101313.0</td>\n",
       "      <td>68617.0</td>\n",
       "      <td>87658.0</td>\n",
       "    </tr>\n",
       "    <tr>\n",
       "      <th>mean</th>\n",
       "      <td>468526.0</td>\n",
       "      <td>4229397.0</td>\n",
       "      <td>239701.0</td>\n",
       "      <td>234.0</td>\n",
       "      <td>133.0</td>\n",
       "      <td>2160.0</td>\n",
       "      <td>6912.0</td>\n",
       "    </tr>\n",
       "    <tr>\n",
       "      <th>std</th>\n",
       "      <td>2260101.0</td>\n",
       "      <td>6904714.0</td>\n",
       "      <td>391324.0</td>\n",
       "      <td>1782.0</td>\n",
       "      <td>724.0</td>\n",
       "      <td>2759.0</td>\n",
       "      <td>28379.0</td>\n",
       "    </tr>\n",
       "    <tr>\n",
       "      <th>min</th>\n",
       "      <td>0.0</td>\n",
       "      <td>0.0</td>\n",
       "      <td>0.0</td>\n",
       "      <td>0.0</td>\n",
       "      <td>0.0</td>\n",
       "      <td>1.0</td>\n",
       "      <td>2.0</td>\n",
       "    </tr>\n",
       "    <tr>\n",
       "      <th>25%</th>\n",
       "      <td>110000.0</td>\n",
       "      <td>1583309.0</td>\n",
       "      <td>89734.0</td>\n",
       "      <td>50.0</td>\n",
       "      <td>45.0</td>\n",
       "      <td>1218.0</td>\n",
       "      <td>1550.0</td>\n",
       "    </tr>\n",
       "    <tr>\n",
       "      <th>50%</th>\n",
       "      <td>185000.0</td>\n",
       "      <td>2558452.0</td>\n",
       "      <td>145000.0</td>\n",
       "      <td>84.0</td>\n",
       "      <td>75.0</td>\n",
       "      <td>1800.0</td>\n",
       "      <td>2213.0</td>\n",
       "    </tr>\n",
       "    <tr>\n",
       "      <th>75%</th>\n",
       "      <td>420000.0</td>\n",
       "      <td>4675792.0</td>\n",
       "      <td>265000.0</td>\n",
       "      <td>200.0</td>\n",
       "      <td>150.0</td>\n",
       "      <td>2486.0</td>\n",
       "      <td>3356.0</td>\n",
       "    </tr>\n",
       "    <tr>\n",
       "      <th>max</th>\n",
       "      <td>650000000.0</td>\n",
       "      <td>821271104.0</td>\n",
       "      <td>46545445.0</td>\n",
       "      <td>200000.0</td>\n",
       "      <td>187000.0</td>\n",
       "      <td>206333.0</td>\n",
       "      <td>4000000.0</td>\n",
       "    </tr>\n",
       "  </tbody>\n",
       "</table>\n",
       "</div>"
      ],
      "text/plain": [
       "             price  price_aprox_local_currency  price_aprox_usd  \\\n",
       "count     100810.0                    100810.0         100810.0   \n",
       "mean      468526.0                   4229397.0         239701.0   \n",
       "std      2260101.0                   6904714.0         391324.0   \n",
       "min            0.0                         0.0              0.0   \n",
       "25%       110000.0                   1583309.0          89734.0   \n",
       "50%       185000.0                   2558452.0         145000.0   \n",
       "75%       420000.0                   4675792.0         265000.0   \n",
       "max    650000000.0                 821271104.0       46545445.0   \n",
       "\n",
       "       surface_total_in_m2  surface_covered_in_m2  price_usd_per_m2  \\\n",
       "count              81892.0               101313.0           68617.0   \n",
       "mean                 234.0                  133.0            2160.0   \n",
       "std                 1782.0                  724.0            2759.0   \n",
       "min                    0.0                    0.0               1.0   \n",
       "25%                   50.0                   45.0            1218.0   \n",
       "50%                   84.0                   75.0            1800.0   \n",
       "75%                  200.0                  150.0            2486.0   \n",
       "max               200000.0               187000.0          206333.0   \n",
       "\n",
       "       price_per_m2  \n",
       "count       87658.0  \n",
       "mean         6912.0  \n",
       "std         28379.0  \n",
       "min             2.0  \n",
       "25%          1550.0  \n",
       "50%          2213.0  \n",
       "75%          3356.0  \n",
       "max       4000000.0  "
      ]
     },
     "execution_count": 85,
     "metadata": {},
     "output_type": "execute_result"
    }
   ],
   "source": [
    "#hago un describe de las columnas numéricas sin ninguna limpieza ni imputación para ver valores extremos, y estadísticas básicas\n",
    "\n",
    "columns=['price','price_aprox_local_currency','price_aprox_usd','surface_total_in_m2', 'surface_covered_in_m2', 'price_usd_per_m2', 'price_per_m2']\n",
    "data[columns].describe().round()"
   ]
  },
  {
   "cell_type": "code",
   "execution_count": 86,
   "metadata": {
    "colab": {
     "base_uri": "https://localhost:8080/"
    },
    "executionInfo": {
     "elapsed": 8,
     "status": "ok",
     "timestamp": 1651431199835,
     "user": {
      "displayName": "Maela Lombardi",
      "userId": "03936068368896012188"
     },
     "user_tz": 180
    },
    "id": "BPtvojntnrmk",
    "outputId": "8399d74e-a551-4065-8959-ee35cf1e6af9"
   },
   "outputs": [
    {
     "name": "stdout",
     "output_type": "stream",
     "text": [
      "CoefVariación_price: 4.8238538496819405\n",
      "CoefVariación_price_aprox_local_currency: 1.6325529159736716\n",
      "CoefVariación_price_aprox_usd: 1.632552915585356\n",
      "CoefVariación_surface_total_in_m2: 7.6230015471435495\n",
      "CoefVariación_surface_covered_in_m2: 5.444197615654832\n",
      "CoefVariación_price_usd_per_m2: 1.2773970348937533\n",
      "CoefVariación_price_per_m2: 4.105578579577064\n"
     ]
    }
   ],
   "source": [
    "#calculamos el coeficiente de variación de cada una de estas medidas\n",
    "print('CoefVariación_price:',  data.price.std() / data.price.mean())\n",
    "print('CoefVariación_price_aprox_local_currency:',  data.price_aprox_local_currency.std() / data.price_aprox_local_currency.mean())\n",
    "print('CoefVariación_price_aprox_usd:',  data.price_aprox_usd.std() / data.price_aprox_usd.mean())\n",
    "\n",
    "print('CoefVariación_surface_total_in_m2:',  data.surface_total_in_m2.std() / data.surface_total_in_m2.mean())\n",
    "print('CoefVariación_surface_covered_in_m2:',  data.surface_covered_in_m2.std() / data.surface_covered_in_m2.mean())\n",
    "print('CoefVariación_price_usd_per_m2:',  data.price_usd_per_m2.std() / data.price_usd_per_m2.mean())\n",
    "print('CoefVariación_price_per_m2:',  data.price_per_m2.std() / data.price_per_m2.mean())"
   ]
  },
  {
   "cell_type": "markdown",
   "metadata": {
    "id": "bpBz0QR3mvMs"
   },
   "source": [
    "CONCLUSION: Vemos que tenemos grandes dispersiones de datos valida la información en en el Describe con el cálculo hecho para cada columna de Coeficiente de Variación"
   ]
  },
  {
   "cell_type": "markdown",
   "metadata": {
    "id": "-NG2MH6pxyWZ"
   },
   "source": [
    "### Detección de outliers"
   ]
  },
  {
   "cell_type": "markdown",
   "metadata": {
    "id": "4Etb4sHOpniA"
   },
   "source": [
    "#### Función para detectar outliers"
   ]
  },
  {
   "cell_type": "markdown",
   "metadata": {
    "id": "lq15BPaVbAnS"
   },
   "source": [
    "Lo que sigue es un método para detectar outliers (más de 2 std, 95%) y dividir el dataset en outliers y sin-outliers, no reemplaza ni hace nada, solo los detecta|"
   ]
  },
  {
   "cell_type": "code",
   "execution_count": 107,
   "metadata": {
    "id": "SQ74tiuwi1Yj"
   },
   "outputs": [],
   "source": [
    "#función para detectar outliers\n",
    "def outliers_detection(column):\n",
    "  data_mean, data_std = np.mean(column), np.std(column)\n",
    "  cut_off = data_std * 2\n",
    "  lower, upper = data_mean - cut_off, data_mean + cut_off\n",
    "  outliers = [x for x in column if x < lower or x > upper]\n",
    "  outliers_removed = [x for x in column if x >= lower and x <= upper]\n",
    "  print('Identified outliers: %d' % len(outliers))\n",
    "  print('Non-outlier observations: %d' % len(outliers_removed))\n"
   ]
  },
  {
   "cell_type": "code",
   "execution_count": 108,
   "metadata": {
    "colab": {
     "base_uri": "https://localhost:8080/"
    },
    "executionInfo": {
     "elapsed": 20,
     "status": "ok",
     "timestamp": 1651431226304,
     "user": {
      "displayName": "Maela Lombardi",
      "userId": "03936068368896012188"
     },
     "user_tz": 180
    },
    "id": "O5bpJIJNjqcq",
    "outputId": "ecc0f559-bb54-4890-bb1b-c28029674864"
   },
   "outputs": [
    {
     "name": "stdout",
     "output_type": "stream",
     "text": [
      "Identified outliers: 2377\n",
      "Non-outlier observations: 98433\n"
     ]
    }
   ],
   "source": [
    "outliers_detection(data[\"price_aprox_usd\"])"
   ]
  },
  {
   "cell_type": "code",
   "execution_count": 109,
   "metadata": {
    "colab": {
     "base_uri": "https://localhost:8080/"
    },
    "executionInfo": {
     "elapsed": 18,
     "status": "ok",
     "timestamp": 1651431226305,
     "user": {
      "displayName": "Maela Lombardi",
      "userId": "03936068368896012188"
     },
     "user_tz": 180
    },
    "id": "Zi8UMsNkjzCz",
    "outputId": "08a45203-c4f6-4648-97f5-c472a3cd2274"
   },
   "outputs": [
    {
     "name": "stdout",
     "output_type": "stream",
     "text": [
      "Identified outliers: 1065\n",
      "Non-outlier observations: 67552\n"
     ]
    }
   ],
   "source": [
    "outliers_detection(data[\"price_usd_per_m2\"])"
   ]
  },
  {
   "cell_type": "markdown",
   "metadata": {
    "id": "E6SOCe17pdUo"
   },
   "source": [
    "## PIVOT_TABLES - ANALISIS - PRELIMPIEZA"
   ]
  },
  {
   "cell_type": "code",
   "execution_count": 110,
   "metadata": {
    "colab": {
     "base_uri": "https://localhost:8080/",
     "height": 990
    },
    "executionInfo": {
     "elapsed": 17,
     "status": "ok",
     "timestamp": 1651431226305,
     "user": {
      "displayName": "Maela Lombardi",
      "userId": "03936068368896012188"
     },
     "user_tz": 180
    },
    "id": "hl3Bk8rdplAB",
    "outputId": "f1b454af-8f2c-4627-8ede-a6c58802730e"
   },
   "outputs": [
    {
     "data": {
      "text/html": [
       "<div>\n",
       "<style scoped>\n",
       "    .dataframe tbody tr th:only-of-type {\n",
       "        vertical-align: middle;\n",
       "    }\n",
       "\n",
       "    .dataframe tbody tr th {\n",
       "        vertical-align: top;\n",
       "    }\n",
       "\n",
       "    .dataframe thead tr th {\n",
       "        text-align: left;\n",
       "    }\n",
       "\n",
       "    .dataframe thead tr:last-of-type th {\n",
       "        text-align: right;\n",
       "    }\n",
       "</style>\n",
       "<table border=\"1\" class=\"dataframe\">\n",
       "  <thead>\n",
       "    <tr>\n",
       "      <th></th>\n",
       "      <th colspan=\"4\" halign=\"left\">price_usd_per_m2</th>\n",
       "    </tr>\n",
       "    <tr>\n",
       "      <th>property_type</th>\n",
       "      <th>PH</th>\n",
       "      <th>apartment</th>\n",
       "      <th>house</th>\n",
       "      <th>store</th>\n",
       "    </tr>\n",
       "    <tr>\n",
       "      <th>state_name</th>\n",
       "      <th></th>\n",
       "      <th></th>\n",
       "      <th></th>\n",
       "      <th></th>\n",
       "    </tr>\n",
       "  </thead>\n",
       "  <tbody>\n",
       "    <tr>\n",
       "      <th>Bs.As. G.B.A. Zona Norte</th>\n",
       "      <td>1451.71</td>\n",
       "      <td>2539.87</td>\n",
       "      <td>1339.76</td>\n",
       "      <td>1862.01</td>\n",
       "    </tr>\n",
       "    <tr>\n",
       "      <th>Bs.As. G.B.A. Zona Oeste</th>\n",
       "      <td>1224.02</td>\n",
       "      <td>1720.75</td>\n",
       "      <td>1081.63</td>\n",
       "      <td>1556.95</td>\n",
       "    </tr>\n",
       "    <tr>\n",
       "      <th>Bs.As. G.B.A. Zona Sur</th>\n",
       "      <td>1114.01</td>\n",
       "      <td>1889.98</td>\n",
       "      <td>1164.50</td>\n",
       "      <td>1541.02</td>\n",
       "    </tr>\n",
       "    <tr>\n",
       "      <th>Buenos Aires Costa Atlántica</th>\n",
       "      <td>1156.45</td>\n",
       "      <td>1958.84</td>\n",
       "      <td>749.15</td>\n",
       "      <td>1401.05</td>\n",
       "    </tr>\n",
       "    <tr>\n",
       "      <th>Buenos Aires Interior</th>\n",
       "      <td>1019.89</td>\n",
       "      <td>1634.00</td>\n",
       "      <td>643.24</td>\n",
       "      <td>987.67</td>\n",
       "    </tr>\n",
       "    <tr>\n",
       "      <th>Capital Federal</th>\n",
       "      <td>1695.52</td>\n",
       "      <td>3324.46</td>\n",
       "      <td>1546.70</td>\n",
       "      <td>2899.67</td>\n",
       "    </tr>\n",
       "    <tr>\n",
       "      <th>Catamarca</th>\n",
       "      <td>NaN</td>\n",
       "      <td>NaN</td>\n",
       "      <td>556.05</td>\n",
       "      <td>NaN</td>\n",
       "    </tr>\n",
       "    <tr>\n",
       "      <th>Chaco</th>\n",
       "      <td>NaN</td>\n",
       "      <td>1424.74</td>\n",
       "      <td>701.17</td>\n",
       "      <td>1509.55</td>\n",
       "    </tr>\n",
       "    <tr>\n",
       "      <th>Chubut</th>\n",
       "      <td>NaN</td>\n",
       "      <td>2002.69</td>\n",
       "      <td>1739.27</td>\n",
       "      <td>1323.76</td>\n",
       "    </tr>\n",
       "    <tr>\n",
       "      <th>Corrientes</th>\n",
       "      <td>1478.50</td>\n",
       "      <td>1933.72</td>\n",
       "      <td>1157.18</td>\n",
       "      <td>1346.19</td>\n",
       "    </tr>\n",
       "    <tr>\n",
       "      <th>Córdoba</th>\n",
       "      <td>1544.05</td>\n",
       "      <td>1426.52</td>\n",
       "      <td>713.34</td>\n",
       "      <td>1458.78</td>\n",
       "    </tr>\n",
       "    <tr>\n",
       "      <th>Entre Ríos</th>\n",
       "      <td>NaN</td>\n",
       "      <td>1383.24</td>\n",
       "      <td>1119.48</td>\n",
       "      <td>1602.06</td>\n",
       "    </tr>\n",
       "    <tr>\n",
       "      <th>Formosa</th>\n",
       "      <td>NaN</td>\n",
       "      <td>1509.65</td>\n",
       "      <td>NaN</td>\n",
       "      <td>NaN</td>\n",
       "    </tr>\n",
       "    <tr>\n",
       "      <th>Jujuy</th>\n",
       "      <td>NaN</td>\n",
       "      <td>1682.51</td>\n",
       "      <td>261.93</td>\n",
       "      <td>NaN</td>\n",
       "    </tr>\n",
       "    <tr>\n",
       "      <th>La Pampa</th>\n",
       "      <td>NaN</td>\n",
       "      <td>1305.02</td>\n",
       "      <td>858.32</td>\n",
       "      <td>616.92</td>\n",
       "    </tr>\n",
       "    <tr>\n",
       "      <th>La Rioja</th>\n",
       "      <td>NaN</td>\n",
       "      <td>NaN</td>\n",
       "      <td>243.03</td>\n",
       "      <td>NaN</td>\n",
       "    </tr>\n",
       "    <tr>\n",
       "      <th>Mendoza</th>\n",
       "      <td>1113.72</td>\n",
       "      <td>1966.69</td>\n",
       "      <td>1347.91</td>\n",
       "      <td>1361.58</td>\n",
       "    </tr>\n",
       "    <tr>\n",
       "      <th>Misiones</th>\n",
       "      <td>1154.66</td>\n",
       "      <td>1287.52</td>\n",
       "      <td>469.74</td>\n",
       "      <td>71.60</td>\n",
       "    </tr>\n",
       "    <tr>\n",
       "      <th>Neuquén</th>\n",
       "      <td>2313.92</td>\n",
       "      <td>1894.65</td>\n",
       "      <td>1138.85</td>\n",
       "      <td>1181.09</td>\n",
       "    </tr>\n",
       "    <tr>\n",
       "      <th>Río Negro</th>\n",
       "      <td>1284.28</td>\n",
       "      <td>2627.96</td>\n",
       "      <td>1564.85</td>\n",
       "      <td>1504.33</td>\n",
       "    </tr>\n",
       "    <tr>\n",
       "      <th>Salta</th>\n",
       "      <td>NaN</td>\n",
       "      <td>2987.69</td>\n",
       "      <td>2128.17</td>\n",
       "      <td>179.47</td>\n",
       "    </tr>\n",
       "    <tr>\n",
       "      <th>San Juan</th>\n",
       "      <td>NaN</td>\n",
       "      <td>3191.49</td>\n",
       "      <td>105.00</td>\n",
       "      <td>NaN</td>\n",
       "    </tr>\n",
       "    <tr>\n",
       "      <th>San Luis</th>\n",
       "      <td>NaN</td>\n",
       "      <td>1724.42</td>\n",
       "      <td>1597.29</td>\n",
       "      <td>1369.95</td>\n",
       "    </tr>\n",
       "    <tr>\n",
       "      <th>Santa Cruz</th>\n",
       "      <td>NaN</td>\n",
       "      <td>NaN</td>\n",
       "      <td>725.06</td>\n",
       "      <td>420.63</td>\n",
       "    </tr>\n",
       "    <tr>\n",
       "      <th>Santa Fe</th>\n",
       "      <td>1207.19</td>\n",
       "      <td>2391.99</td>\n",
       "      <td>990.91</td>\n",
       "      <td>3002.90</td>\n",
       "    </tr>\n",
       "    <tr>\n",
       "      <th>Santiago Del Estero</th>\n",
       "      <td>NaN</td>\n",
       "      <td>513.31</td>\n",
       "      <td>148.00</td>\n",
       "      <td>NaN</td>\n",
       "    </tr>\n",
       "    <tr>\n",
       "      <th>Tierra Del Fuego</th>\n",
       "      <td>NaN</td>\n",
       "      <td>1820.55</td>\n",
       "      <td>769.87</td>\n",
       "      <td>1100.75</td>\n",
       "    </tr>\n",
       "    <tr>\n",
       "      <th>Tucumán</th>\n",
       "      <td>1329.82</td>\n",
       "      <td>1495.41</td>\n",
       "      <td>1047.00</td>\n",
       "      <td>600.30</td>\n",
       "    </tr>\n",
       "  </tbody>\n",
       "</table>\n",
       "</div>"
      ],
      "text/plain": [
       "                             price_usd_per_m2                            \n",
       "property_type                              PH apartment    house    store\n",
       "state_name                                                               \n",
       "Bs.As. G.B.A. Zona Norte              1451.71   2539.87  1339.76  1862.01\n",
       "Bs.As. G.B.A. Zona Oeste              1224.02   1720.75  1081.63  1556.95\n",
       "Bs.As. G.B.A. Zona Sur                1114.01   1889.98  1164.50  1541.02\n",
       "Buenos Aires Costa Atlántica          1156.45   1958.84   749.15  1401.05\n",
       "Buenos Aires Interior                 1019.89   1634.00   643.24   987.67\n",
       "Capital Federal                       1695.52   3324.46  1546.70  2899.67\n",
       "Catamarca                                 NaN       NaN   556.05      NaN\n",
       "Chaco                                     NaN   1424.74   701.17  1509.55\n",
       "Chubut                                    NaN   2002.69  1739.27  1323.76\n",
       "Corrientes                            1478.50   1933.72  1157.18  1346.19\n",
       "Córdoba                               1544.05   1426.52   713.34  1458.78\n",
       "Entre Ríos                                NaN   1383.24  1119.48  1602.06\n",
       "Formosa                                   NaN   1509.65      NaN      NaN\n",
       "Jujuy                                     NaN   1682.51   261.93      NaN\n",
       "La Pampa                                  NaN   1305.02   858.32   616.92\n",
       "La Rioja                                  NaN       NaN   243.03      NaN\n",
       "Mendoza                               1113.72   1966.69  1347.91  1361.58\n",
       "Misiones                              1154.66   1287.52   469.74    71.60\n",
       "Neuquén                               2313.92   1894.65  1138.85  1181.09\n",
       "Río Negro                             1284.28   2627.96  1564.85  1504.33\n",
       "Salta                                     NaN   2987.69  2128.17   179.47\n",
       "San Juan                                  NaN   3191.49   105.00      NaN\n",
       "San Luis                                  NaN   1724.42  1597.29  1369.95\n",
       "Santa Cruz                                NaN       NaN   725.06   420.63\n",
       "Santa Fe                              1207.19   2391.99   990.91  3002.90\n",
       "Santiago Del Estero                       NaN    513.31   148.00      NaN\n",
       "Tierra Del Fuego                          NaN   1820.55   769.87  1100.75\n",
       "Tucumán                               1329.82   1495.41  1047.00   600.30"
      ]
     },
     "execution_count": 110,
     "metadata": {},
     "output_type": "execute_result"
    }
   ],
   "source": [
    "#exploramos precios por state y place, para ver posibles valores de imputación\n",
    "round(data.pivot_table(index='state_name', columns='property_type',\n",
    "                    aggfunc={ 'price_usd_per_m2':'mean'}),2)"
   ]
  },
  {
   "cell_type": "code",
   "execution_count": 111,
   "metadata": {
    "colab": {
     "base_uri": "https://localhost:8080/",
     "height": 486
    },
    "executionInfo": {
     "elapsed": 448,
     "status": "ok",
     "timestamp": 1651431226737,
     "user": {
      "displayName": "Maela Lombardi",
      "userId": "03936068368896012188"
     },
     "user_tz": 180
    },
    "id": "9FVHKpZ6Na89",
    "outputId": "75fedf48-4859-4c1f-fb8e-ef6ebc642caf"
   },
   "outputs": [
    {
     "data": {
      "text/html": [
       "<div>\n",
       "<style scoped>\n",
       "    .dataframe tbody tr th:only-of-type {\n",
       "        vertical-align: middle;\n",
       "    }\n",
       "\n",
       "    .dataframe tbody tr th {\n",
       "        vertical-align: top;\n",
       "    }\n",
       "\n",
       "    .dataframe thead tr th {\n",
       "        text-align: left;\n",
       "    }\n",
       "\n",
       "    .dataframe thead tr:last-of-type th {\n",
       "        text-align: right;\n",
       "    }\n",
       "</style>\n",
       "<table border=\"1\" class=\"dataframe\">\n",
       "  <thead>\n",
       "    <tr>\n",
       "      <th></th>\n",
       "      <th></th>\n",
       "      <th colspan=\"4\" halign=\"left\">price_usd_per_m2</th>\n",
       "    </tr>\n",
       "    <tr>\n",
       "      <th></th>\n",
       "      <th>property_type</th>\n",
       "      <th>PH</th>\n",
       "      <th>apartment</th>\n",
       "      <th>house</th>\n",
       "      <th>store</th>\n",
       "    </tr>\n",
       "    <tr>\n",
       "      <th>state_name</th>\n",
       "      <th>place_name</th>\n",
       "      <th></th>\n",
       "      <th></th>\n",
       "      <th></th>\n",
       "      <th></th>\n",
       "    </tr>\n",
       "  </thead>\n",
       "  <tbody>\n",
       "    <tr>\n",
       "      <th rowspan=\"5\" valign=\"top\">Bs.As. G.B.A. Zona Norte</th>\n",
       "      <th>Country Maschwitz Club</th>\n",
       "      <td>NaN</td>\n",
       "      <td>NaN</td>\n",
       "      <td>1369.99</td>\n",
       "      <td>NaN</td>\n",
       "    </tr>\n",
       "    <tr>\n",
       "      <th>los alamos</th>\n",
       "      <td>NaN</td>\n",
       "      <td>1600.00</td>\n",
       "      <td>NaN</td>\n",
       "      <td>NaN</td>\n",
       "    </tr>\n",
       "    <tr>\n",
       "      <th>Acacias Blancas</th>\n",
       "      <td>NaN</td>\n",
       "      <td>NaN</td>\n",
       "      <td>1181.86</td>\n",
       "      <td>NaN</td>\n",
       "    </tr>\n",
       "    <tr>\n",
       "      <th>Acassuso</th>\n",
       "      <td>1990.30</td>\n",
       "      <td>2799.08</td>\n",
       "      <td>1596.35</td>\n",
       "      <td>2400.21</td>\n",
       "    </tr>\n",
       "    <tr>\n",
       "      <th>Albanueva Barrio Cerrado</th>\n",
       "      <td>NaN</td>\n",
       "      <td>2759.76</td>\n",
       "      <td>2359.29</td>\n",
       "      <td>NaN</td>\n",
       "    </tr>\n",
       "    <tr>\n",
       "      <th>...</th>\n",
       "      <th>...</th>\n",
       "      <td>...</td>\n",
       "      <td>...</td>\n",
       "      <td>...</td>\n",
       "      <td>...</td>\n",
       "    </tr>\n",
       "    <tr>\n",
       "      <th rowspan=\"5\" valign=\"top\">Tucumán</th>\n",
       "      <th>San Miguel de Tucumán</th>\n",
       "      <td>1329.82</td>\n",
       "      <td>1694.21</td>\n",
       "      <td>1786.52</td>\n",
       "      <td>606.26</td>\n",
       "    </tr>\n",
       "    <tr>\n",
       "      <th>Tafí Viejo</th>\n",
       "      <td>NaN</td>\n",
       "      <td>NaN</td>\n",
       "      <td>716.98</td>\n",
       "      <td>NaN</td>\n",
       "    </tr>\n",
       "    <tr>\n",
       "      <th>Tafí del Valle</th>\n",
       "      <td>NaN</td>\n",
       "      <td>NaN</td>\n",
       "      <td>569.48</td>\n",
       "      <td>NaN</td>\n",
       "    </tr>\n",
       "    <tr>\n",
       "      <th>Tucumán</th>\n",
       "      <td>NaN</td>\n",
       "      <td>726.11</td>\n",
       "      <td>522.31</td>\n",
       "      <td>469.37</td>\n",
       "    </tr>\n",
       "    <tr>\n",
       "      <th>Yerba Buena</th>\n",
       "      <td>NaN</td>\n",
       "      <td>904.46</td>\n",
       "      <td>1061.39</td>\n",
       "      <td>694.02</td>\n",
       "    </tr>\n",
       "  </tbody>\n",
       "</table>\n",
       "<p>831 rows × 4 columns</p>\n",
       "</div>"
      ],
      "text/plain": [
       "                                                  price_usd_per_m2            \\\n",
       "property_type                                                   PH apartment   \n",
       "state_name               place_name                                            \n",
       "Bs.As. G.B.A. Zona Norte  Country Maschwitz Club               NaN       NaN   \n",
       "                          los alamos                           NaN   1600.00   \n",
       "                         Acacias Blancas                       NaN       NaN   \n",
       "                         Acassuso                          1990.30   2799.08   \n",
       "                         Albanueva Barrio Cerrado              NaN   2759.76   \n",
       "...                                                            ...       ...   \n",
       "Tucumán                  San Miguel de Tucumán             1329.82   1694.21   \n",
       "                         Tafí Viejo                            NaN       NaN   \n",
       "                         Tafí del Valle                        NaN       NaN   \n",
       "                         Tucumán                               NaN    726.11   \n",
       "                         Yerba Buena                           NaN    904.46   \n",
       "\n",
       "                                                                     \n",
       "property_type                                        house    store  \n",
       "state_name               place_name                                  \n",
       "Bs.As. G.B.A. Zona Norte  Country Maschwitz Club   1369.99      NaN  \n",
       "                          los alamos                   NaN      NaN  \n",
       "                         Acacias Blancas           1181.86      NaN  \n",
       "                         Acassuso                  1596.35  2400.21  \n",
       "                         Albanueva Barrio Cerrado  2359.29      NaN  \n",
       "...                                                    ...      ...  \n",
       "Tucumán                  San Miguel de Tucumán     1786.52   606.26  \n",
       "                         Tafí Viejo                 716.98      NaN  \n",
       "                         Tafí del Valle             569.48      NaN  \n",
       "                         Tucumán                    522.31   469.37  \n",
       "                         Yerba Buena               1061.39   694.02  \n",
       "\n",
       "[831 rows x 4 columns]"
      ]
     },
     "execution_count": 111,
     "metadata": {},
     "output_type": "execute_result"
    }
   ],
   "source": [
    "#exploramos precios por state y place, para ver posibles valores de imputación\n",
    "round(data.pivot_table(index=['state_name','place_name'], columns='property_type',\n",
    "                    aggfunc={ 'price_usd_per_m2':'mean'}),2)"
   ]
  },
  {
   "cell_type": "code",
   "execution_count": 112,
   "metadata": {
    "colab": {
     "base_uri": "https://localhost:8080/",
     "height": 958
    },
    "executionInfo": {
     "elapsed": 4,
     "status": "ok",
     "timestamp": 1651431226737,
     "user": {
      "displayName": "Maela Lombardi",
      "userId": "03936068368896012188"
     },
     "user_tz": 180
    },
    "id": "istXFgJ_l9m2",
    "outputId": "81b3f5cf-30dc-4272-d531-8a3fa11acad3"
   },
   "outputs": [
    {
     "data": {
      "text/html": [
       "<div>\n",
       "<style scoped>\n",
       "    .dataframe tbody tr th:only-of-type {\n",
       "        vertical-align: middle;\n",
       "    }\n",
       "\n",
       "    .dataframe tbody tr th {\n",
       "        vertical-align: top;\n",
       "    }\n",
       "\n",
       "    .dataframe thead th {\n",
       "        text-align: right;\n",
       "    }\n",
       "</style>\n",
       "<table border=\"1\" class=\"dataframe\">\n",
       "  <thead>\n",
       "    <tr style=\"text-align: right;\">\n",
       "      <th></th>\n",
       "      <th>price_aprox_usd</th>\n",
       "      <th>price_per_m2</th>\n",
       "      <th>surface_total_in_m2</th>\n",
       "    </tr>\n",
       "    <tr>\n",
       "      <th>state_name</th>\n",
       "      <th></th>\n",
       "      <th></th>\n",
       "      <th></th>\n",
       "    </tr>\n",
       "  </thead>\n",
       "  <tbody>\n",
       "    <tr>\n",
       "      <th>Bs.As. G.B.A. Zona Norte</th>\n",
       "      <td>324317.123170</td>\n",
       "      <td>4887.055471</td>\n",
       "      <td>313.953244</td>\n",
       "    </tr>\n",
       "    <tr>\n",
       "      <th>Bs.As. G.B.A. Zona Oeste</th>\n",
       "      <td>167545.648499</td>\n",
       "      <td>3561.720169</td>\n",
       "      <td>263.217176</td>\n",
       "    </tr>\n",
       "    <tr>\n",
       "      <th>Bs.As. G.B.A. Zona Sur</th>\n",
       "      <td>198555.715572</td>\n",
       "      <td>4988.630332</td>\n",
       "      <td>230.557603</td>\n",
       "    </tr>\n",
       "    <tr>\n",
       "      <th>Buenos Aires Costa Atlántica</th>\n",
       "      <td>143430.988472</td>\n",
       "      <td>3345.592321</td>\n",
       "      <td>213.724266</td>\n",
       "    </tr>\n",
       "    <tr>\n",
       "      <th>Buenos Aires Interior</th>\n",
       "      <td>183249.996582</td>\n",
       "      <td>5054.261412</td>\n",
       "      <td>933.362500</td>\n",
       "    </tr>\n",
       "    <tr>\n",
       "      <th>Capital Federal</th>\n",
       "      <td>269603.182879</td>\n",
       "      <td>6108.161906</td>\n",
       "      <td>119.222453</td>\n",
       "    </tr>\n",
       "    <tr>\n",
       "      <th>Catamarca</th>\n",
       "      <td>725471.707308</td>\n",
       "      <td>3792.643567</td>\n",
       "      <td>460.285714</td>\n",
       "    </tr>\n",
       "    <tr>\n",
       "      <th>Chaco</th>\n",
       "      <td>178583.551389</td>\n",
       "      <td>12100.209636</td>\n",
       "      <td>290.606061</td>\n",
       "    </tr>\n",
       "    <tr>\n",
       "      <th>Chubut</th>\n",
       "      <td>342338.181524</td>\n",
       "      <td>4120.253214</td>\n",
       "      <td>263.452514</td>\n",
       "    </tr>\n",
       "    <tr>\n",
       "      <th>Corrientes</th>\n",
       "      <td>206896.786681</td>\n",
       "      <td>2119.176520</td>\n",
       "      <td>205.686957</td>\n",
       "    </tr>\n",
       "    <tr>\n",
       "      <th>Córdoba</th>\n",
       "      <td>203624.244417</td>\n",
       "      <td>14587.219255</td>\n",
       "      <td>406.523791</td>\n",
       "    </tr>\n",
       "    <tr>\n",
       "      <th>Entre Ríos</th>\n",
       "      <td>148113.819692</td>\n",
       "      <td>13299.851144</td>\n",
       "      <td>342.496124</td>\n",
       "    </tr>\n",
       "    <tr>\n",
       "      <th>Formosa</th>\n",
       "      <td>63463.367586</td>\n",
       "      <td>NaN</td>\n",
       "      <td>50.153846</td>\n",
       "    </tr>\n",
       "    <tr>\n",
       "      <th>Jujuy</th>\n",
       "      <td>301584.442000</td>\n",
       "      <td>43274.888420</td>\n",
       "      <td>1550.500000</td>\n",
       "    </tr>\n",
       "    <tr>\n",
       "      <th>La Pampa</th>\n",
       "      <td>111053.792222</td>\n",
       "      <td>13309.936640</td>\n",
       "      <td>181.465753</td>\n",
       "    </tr>\n",
       "    <tr>\n",
       "      <th>La Rioja</th>\n",
       "      <td>60954.385000</td>\n",
       "      <td>2438.888889</td>\n",
       "      <td>300.000000</td>\n",
       "    </tr>\n",
       "    <tr>\n",
       "      <th>Mendoza</th>\n",
       "      <td>249705.485588</td>\n",
       "      <td>7853.713641</td>\n",
       "      <td>560.351351</td>\n",
       "    </tr>\n",
       "    <tr>\n",
       "      <th>Misiones</th>\n",
       "      <td>121241.552299</td>\n",
       "      <td>24730.697400</td>\n",
       "      <td>267.734694</td>\n",
       "    </tr>\n",
       "    <tr>\n",
       "      <th>Neuquén</th>\n",
       "      <td>219429.090401</td>\n",
       "      <td>20281.874991</td>\n",
       "      <td>346.897275</td>\n",
       "    </tr>\n",
       "    <tr>\n",
       "      <th>Río Negro</th>\n",
       "      <td>300126.180693</td>\n",
       "      <td>8088.894390</td>\n",
       "      <td>348.804805</td>\n",
       "    </tr>\n",
       "    <tr>\n",
       "      <th>Salta</th>\n",
       "      <td>312755.743529</td>\n",
       "      <td>20861.241413</td>\n",
       "      <td>828.932584</td>\n",
       "    </tr>\n",
       "    <tr>\n",
       "      <th>San Juan</th>\n",
       "      <td>299575.820000</td>\n",
       "      <td>13140.639636</td>\n",
       "      <td>152.857143</td>\n",
       "    </tr>\n",
       "    <tr>\n",
       "      <th>San Luis</th>\n",
       "      <td>282242.500433</td>\n",
       "      <td>8256.314398</td>\n",
       "      <td>505.218935</td>\n",
       "    </tr>\n",
       "    <tr>\n",
       "      <th>Santa Cruz</th>\n",
       "      <td>176129.507895</td>\n",
       "      <td>8476.279077</td>\n",
       "      <td>278.750000</td>\n",
       "    </tr>\n",
       "    <tr>\n",
       "      <th>Santa Fe</th>\n",
       "      <td>139609.617118</td>\n",
       "      <td>22981.040512</td>\n",
       "      <td>144.937963</td>\n",
       "    </tr>\n",
       "    <tr>\n",
       "      <th>Santiago Del Estero</th>\n",
       "      <td>163428.393333</td>\n",
       "      <td>4523.120567</td>\n",
       "      <td>1004.750000</td>\n",
       "    </tr>\n",
       "    <tr>\n",
       "      <th>Tierra Del Fuego</th>\n",
       "      <td>180246.755161</td>\n",
       "      <td>17622.109754</td>\n",
       "      <td>204.142857</td>\n",
       "    </tr>\n",
       "    <tr>\n",
       "      <th>Tucumán</th>\n",
       "      <td>158878.733192</td>\n",
       "      <td>23947.463782</td>\n",
       "      <td>153.344358</td>\n",
       "    </tr>\n",
       "  </tbody>\n",
       "</table>\n",
       "</div>"
      ],
      "text/plain": [
       "                              price_aprox_usd  price_per_m2  \\\n",
       "state_name                                                    \n",
       "Bs.As. G.B.A. Zona Norte        324317.123170   4887.055471   \n",
       "Bs.As. G.B.A. Zona Oeste        167545.648499   3561.720169   \n",
       "Bs.As. G.B.A. Zona Sur          198555.715572   4988.630332   \n",
       "Buenos Aires Costa Atlántica    143430.988472   3345.592321   \n",
       "Buenos Aires Interior           183249.996582   5054.261412   \n",
       "Capital Federal                 269603.182879   6108.161906   \n",
       "Catamarca                       725471.707308   3792.643567   \n",
       "Chaco                           178583.551389  12100.209636   \n",
       "Chubut                          342338.181524   4120.253214   \n",
       "Corrientes                      206896.786681   2119.176520   \n",
       "Córdoba                         203624.244417  14587.219255   \n",
       "Entre Ríos                      148113.819692  13299.851144   \n",
       "Formosa                          63463.367586           NaN   \n",
       "Jujuy                           301584.442000  43274.888420   \n",
       "La Pampa                        111053.792222  13309.936640   \n",
       "La Rioja                         60954.385000   2438.888889   \n",
       "Mendoza                         249705.485588   7853.713641   \n",
       "Misiones                        121241.552299  24730.697400   \n",
       "Neuquén                         219429.090401  20281.874991   \n",
       "Río Negro                       300126.180693   8088.894390   \n",
       "Salta                           312755.743529  20861.241413   \n",
       "San Juan                        299575.820000  13140.639636   \n",
       "San Luis                        282242.500433   8256.314398   \n",
       "Santa Cruz                      176129.507895   8476.279077   \n",
       "Santa Fe                        139609.617118  22981.040512   \n",
       "Santiago Del Estero             163428.393333   4523.120567   \n",
       "Tierra Del Fuego                180246.755161  17622.109754   \n",
       "Tucumán                         158878.733192  23947.463782   \n",
       "\n",
       "                              surface_total_in_m2  \n",
       "state_name                                         \n",
       "Bs.As. G.B.A. Zona Norte               313.953244  \n",
       "Bs.As. G.B.A. Zona Oeste               263.217176  \n",
       "Bs.As. G.B.A. Zona Sur                 230.557603  \n",
       "Buenos Aires Costa Atlántica           213.724266  \n",
       "Buenos Aires Interior                  933.362500  \n",
       "Capital Federal                        119.222453  \n",
       "Catamarca                              460.285714  \n",
       "Chaco                                  290.606061  \n",
       "Chubut                                 263.452514  \n",
       "Corrientes                             205.686957  \n",
       "Córdoba                                406.523791  \n",
       "Entre Ríos                             342.496124  \n",
       "Formosa                                 50.153846  \n",
       "Jujuy                                 1550.500000  \n",
       "La Pampa                               181.465753  \n",
       "La Rioja                               300.000000  \n",
       "Mendoza                                560.351351  \n",
       "Misiones                               267.734694  \n",
       "Neuquén                                346.897275  \n",
       "Río Negro                              348.804805  \n",
       "Salta                                  828.932584  \n",
       "San Juan                               152.857143  \n",
       "San Luis                               505.218935  \n",
       "Santa Cruz                             278.750000  \n",
       "Santa Fe                               144.937963  \n",
       "Santiago Del Estero                   1004.750000  \n",
       "Tierra Del Fuego                       204.142857  \n",
       "Tucumán                                153.344358  "
      ]
     },
     "execution_count": 112,
     "metadata": {},
     "output_type": "execute_result"
    }
   ],
   "source": [
    "#exploracion de precios, superficies y precio por m2\n",
    "pd.pivot_table(data, values=[\"price_aprox_usd\", \"surface_total_in_m2\", \"price_per_m2\"], index=\"state_name\", aggfunc=np.mean )"
   ]
  },
  {
   "cell_type": "markdown",
   "metadata": {
    "id": "Tutz4I6k36ig"
   },
   "source": [
    "# **Limpieza de datos**\n"
   ]
  },
  {
   "cell_type": "markdown",
   "metadata": {
    "id": "4WmXxMjC-Aol"
   },
   "source": [
    "### Elimino registros duplicados"
   ]
  },
  {
   "cell_type": "code",
   "execution_count": 113,
   "metadata": {
    "id": "xkpu640q-BQL"
   },
   "outputs": [
    {
     "data": {
      "text/html": [
       "<div>\n",
       "<style scoped>\n",
       "    .dataframe tbody tr th:only-of-type {\n",
       "        vertical-align: middle;\n",
       "    }\n",
       "\n",
       "    .dataframe tbody tr th {\n",
       "        vertical-align: top;\n",
       "    }\n",
       "\n",
       "    .dataframe thead th {\n",
       "        text-align: right;\n",
       "    }\n",
       "</style>\n",
       "<table border=\"1\" class=\"dataframe\">\n",
       "  <thead>\n",
       "    <tr style=\"text-align: right;\">\n",
       "      <th></th>\n",
       "      <th>Unnamed: 0</th>\n",
       "      <th>operation</th>\n",
       "      <th>property_type</th>\n",
       "      <th>place_name</th>\n",
       "      <th>place_with_parent_names</th>\n",
       "      <th>country_name</th>\n",
       "      <th>state_name</th>\n",
       "      <th>geonames_id</th>\n",
       "      <th>lat-lon</th>\n",
       "      <th>lat</th>\n",
       "      <th>...</th>\n",
       "      <th>floor</th>\n",
       "      <th>rooms</th>\n",
       "      <th>expenses</th>\n",
       "      <th>properati_url</th>\n",
       "      <th>description</th>\n",
       "      <th>title</th>\n",
       "      <th>image_thumbnail</th>\n",
       "      <th>agrupado</th>\n",
       "      <th>tipodecambio_implicito</th>\n",
       "      <th>nivel_de_expensas</th>\n",
       "    </tr>\n",
       "  </thead>\n",
       "  <tbody>\n",
       "    <tr>\n",
       "      <th>0</th>\n",
       "      <td>0</td>\n",
       "      <td>sell</td>\n",
       "      <td>PH</td>\n",
       "      <td>Mataderos</td>\n",
       "      <td>|Argentina|Capital Federal|Mataderos|</td>\n",
       "      <td>Argentina</td>\n",
       "      <td>Capital Federal</td>\n",
       "      <td>3430787.0</td>\n",
       "      <td>-34.6618237,-58.5088387</td>\n",
       "      <td>-34.661824</td>\n",
       "      <td>...</td>\n",
       "      <td>NaN</td>\n",
       "      <td>NaN</td>\n",
       "      <td>NaN</td>\n",
       "      <td>http://www.properati.com.ar/15bo8_venta_ph_mat...</td>\n",
       "      <td>2 AMBIENTES TIPO CASA PLANTA BAJA POR PASILLO,...</td>\n",
       "      <td>2 AMB TIPO CASA SIN EXPENSAS EN PB</td>\n",
       "      <td>https://thumbs4.properati.com/8/BluUYiHJLhgIIK...</td>\n",
       "      <td>|Argentina|Capital Federal|Mataderos|</td>\n",
       "      <td>17.6445</td>\n",
       "      <td>NaN</td>\n",
       "    </tr>\n",
       "    <tr>\n",
       "      <th>1</th>\n",
       "      <td>1</td>\n",
       "      <td>sell</td>\n",
       "      <td>apartment</td>\n",
       "      <td>La Plata</td>\n",
       "      <td>|Argentina|Bs.As. G.B.A. Zona Sur|La Plata|</td>\n",
       "      <td>Argentina</td>\n",
       "      <td>Bs.As. G.B.A. Zona Sur</td>\n",
       "      <td>3432039.0</td>\n",
       "      <td>-34.9038831,-57.9643295</td>\n",
       "      <td>-34.903883</td>\n",
       "      <td>...</td>\n",
       "      <td>NaN</td>\n",
       "      <td>NaN</td>\n",
       "      <td>NaN</td>\n",
       "      <td>http://www.properati.com.ar/15bob_venta_depart...</td>\n",
       "      <td>Venta de departamento en décimo piso al frente...</td>\n",
       "      <td>VENTA Depto 2 dorm. a estrenar 7 e/ 36 y 37   ...</td>\n",
       "      <td>https://thumbs4.properati.com/7/ikpVBu2ztHA7jv...</td>\n",
       "      <td>|Argentina|Bs.As. G.B.A. Zona Sur|La Plata|</td>\n",
       "      <td>17.6445</td>\n",
       "      <td>NaN</td>\n",
       "    </tr>\n",
       "    <tr>\n",
       "      <th>2</th>\n",
       "      <td>2</td>\n",
       "      <td>sell</td>\n",
       "      <td>apartment</td>\n",
       "      <td>Mataderos</td>\n",
       "      <td>|Argentina|Capital Federal|Mataderos|</td>\n",
       "      <td>Argentina</td>\n",
       "      <td>Capital Federal</td>\n",
       "      <td>3430787.0</td>\n",
       "      <td>-34.6522615,-58.5229825</td>\n",
       "      <td>-34.652262</td>\n",
       "      <td>...</td>\n",
       "      <td>NaN</td>\n",
       "      <td>NaN</td>\n",
       "      <td>NaN</td>\n",
       "      <td>http://www.properati.com.ar/15bod_venta_depart...</td>\n",
       "      <td>2 AMBIENTES 3ER PISO LATERAL LIVING COMEDOR AM...</td>\n",
       "      <td>2 AMB 3ER PISO CON ASCENSOR APTO CREDITO</td>\n",
       "      <td>https://thumbs4.properati.com/5/SXKr34F_IwG3W_...</td>\n",
       "      <td>|Argentina|Capital Federal|Mataderos|</td>\n",
       "      <td>17.6445</td>\n",
       "      <td>NaN</td>\n",
       "    </tr>\n",
       "    <tr>\n",
       "      <th>3</th>\n",
       "      <td>3</td>\n",
       "      <td>sell</td>\n",
       "      <td>PH</td>\n",
       "      <td>Liniers</td>\n",
       "      <td>|Argentina|Capital Federal|Liniers|</td>\n",
       "      <td>Argentina</td>\n",
       "      <td>Capital Federal</td>\n",
       "      <td>3431333.0</td>\n",
       "      <td>-34.6477969,-58.5164244</td>\n",
       "      <td>-34.647797</td>\n",
       "      <td>...</td>\n",
       "      <td>NaN</td>\n",
       "      <td>NaN</td>\n",
       "      <td>NaN</td>\n",
       "      <td>http://www.properati.com.ar/15boh_venta_ph_lin...</td>\n",
       "      <td>PH 3 ambientes con patio. Hay 3 deptos en lote...</td>\n",
       "      <td>PH 3 amb. cfte. reciclado</td>\n",
       "      <td>https://thumbs4.properati.com/3/DgIfX-85Mog5SP...</td>\n",
       "      <td>|Argentina|Capital Federal|Liniers|</td>\n",
       "      <td>17.6445</td>\n",
       "      <td>NaN</td>\n",
       "    </tr>\n",
       "    <tr>\n",
       "      <th>4</th>\n",
       "      <td>4</td>\n",
       "      <td>sell</td>\n",
       "      <td>apartment</td>\n",
       "      <td>Centro</td>\n",
       "      <td>|Argentina|Buenos Aires Costa Atlántica|Mar de...</td>\n",
       "      <td>Argentina</td>\n",
       "      <td>Buenos Aires Costa Atlántica</td>\n",
       "      <td>3435548.0</td>\n",
       "      <td>-38.0026256,-57.5494468</td>\n",
       "      <td>-38.002626</td>\n",
       "      <td>...</td>\n",
       "      <td>NaN</td>\n",
       "      <td>NaN</td>\n",
       "      <td>NaN</td>\n",
       "      <td>http://www.properati.com.ar/15bok_venta_depart...</td>\n",
       "      <td>DEPARTAMENTO CON FANTÁSTICA ILUMINACIÓN NATURA...</td>\n",
       "      <td>DEPTO 2 AMB AL CONTRAFRENTE ZONA CENTRO/PLAZA ...</td>\n",
       "      <td>https://thumbs4.properati.com/5/xrRqlNcSI_vs-f...</td>\n",
       "      <td>|Argentina|Buenos Aires Costa Atlántica|Centro|</td>\n",
       "      <td>17.6445</td>\n",
       "      <td>NaN</td>\n",
       "    </tr>\n",
       "    <tr>\n",
       "      <th>...</th>\n",
       "      <td>...</td>\n",
       "      <td>...</td>\n",
       "      <td>...</td>\n",
       "      <td>...</td>\n",
       "      <td>...</td>\n",
       "      <td>...</td>\n",
       "      <td>...</td>\n",
       "      <td>...</td>\n",
       "      <td>...</td>\n",
       "      <td>...</td>\n",
       "      <td>...</td>\n",
       "      <td>...</td>\n",
       "      <td>...</td>\n",
       "      <td>...</td>\n",
       "      <td>...</td>\n",
       "      <td>...</td>\n",
       "      <td>...</td>\n",
       "      <td>...</td>\n",
       "      <td>...</td>\n",
       "      <td>...</td>\n",
       "      <td>...</td>\n",
       "    </tr>\n",
       "    <tr>\n",
       "      <th>121215</th>\n",
       "      <td>121215</td>\n",
       "      <td>sell</td>\n",
       "      <td>apartment</td>\n",
       "      <td>Belgrano</td>\n",
       "      <td>|Argentina|Capital Federal|Belgrano|</td>\n",
       "      <td>Argentina</td>\n",
       "      <td>Capital Federal</td>\n",
       "      <td>3436077.0</td>\n",
       "      <td>NaN</td>\n",
       "      <td>NaN</td>\n",
       "      <td>...</td>\n",
       "      <td>NaN</td>\n",
       "      <td>NaN</td>\n",
       "      <td>10000.0</td>\n",
       "      <td>http://www.properati.com.ar/1cja2_venta_depart...</td>\n",
       "      <td>TORRE FORUM ALCORTA - MÁXIMA CATEGORÍA.Impecab...</td>\n",
       "      <td>Torre Forum Alcorta- Impecable 3 ambientes</td>\n",
       "      <td>https://thumbs4.properati.com/1/bjms0KnaAnlNoQ...</td>\n",
       "      <td>|Argentina|Capital Federal|Belgrano|</td>\n",
       "      <td>17.6445</td>\n",
       "      <td>0.000651</td>\n",
       "    </tr>\n",
       "    <tr>\n",
       "      <th>121216</th>\n",
       "      <td>121216</td>\n",
       "      <td>sell</td>\n",
       "      <td>house</td>\n",
       "      <td>Beccar</td>\n",
       "      <td>|Argentina|Bs.As. G.B.A. Zona Norte|San Isidro...</td>\n",
       "      <td>Argentina</td>\n",
       "      <td>Bs.As. G.B.A. Zona Norte</td>\n",
       "      <td>3436080.0</td>\n",
       "      <td>NaN</td>\n",
       "      <td>NaN</td>\n",
       "      <td>...</td>\n",
       "      <td>NaN</td>\n",
       "      <td>NaN</td>\n",
       "      <td>NaN</td>\n",
       "      <td>http://www.properati.com.ar/1cja6_venta_casa_b...</td>\n",
       "      <td>Excelente e impecable casa en Venta en Las Lom...</td>\n",
       "      <td>Ruca Inmuebles | Venta | Lomas de San Isidro |...</td>\n",
       "      <td>https://thumbs4.properati.com/2/PCc3WuQDjpNZc4...</td>\n",
       "      <td>|Argentina|Bs.As. G.B.A. Zona Norte|Beccar|</td>\n",
       "      <td>17.6445</td>\n",
       "      <td>NaN</td>\n",
       "    </tr>\n",
       "    <tr>\n",
       "      <th>121217</th>\n",
       "      <td>121217</td>\n",
       "      <td>sell</td>\n",
       "      <td>apartment</td>\n",
       "      <td>Villa Urquiza</td>\n",
       "      <td>|Argentina|Capital Federal|Villa Urquiza|</td>\n",
       "      <td>Argentina</td>\n",
       "      <td>Capital Federal</td>\n",
       "      <td>3433775.0</td>\n",
       "      <td>-34.5706388726,-58.4755963355</td>\n",
       "      <td>-34.570639</td>\n",
       "      <td>...</td>\n",
       "      <td>NaN</td>\n",
       "      <td>NaN</td>\n",
       "      <td>NaN</td>\n",
       "      <td>http://www.properati.com.ar/1cja7_venta_depart...</td>\n",
       "      <td>VENTA DEPARTAMENTO AMBIENTE DIVISIBLE A ESTREN...</td>\n",
       "      <td>VENTA DEPARTAMENTO AMBIENTE DIVISIBLE A ESTREN...</td>\n",
       "      <td>https://thumbs4.properati.com/9/YAe_-2gRVykADP...</td>\n",
       "      <td>|Argentina|Capital Federal|Villa Urquiza|</td>\n",
       "      <td>17.6445</td>\n",
       "      <td>NaN</td>\n",
       "    </tr>\n",
       "    <tr>\n",
       "      <th>121218</th>\n",
       "      <td>121218</td>\n",
       "      <td>sell</td>\n",
       "      <td>apartment</td>\n",
       "      <td>Plaza Colón</td>\n",
       "      <td>|Argentina|Buenos Aires Costa Atlántica|Mar de...</td>\n",
       "      <td>Argentina</td>\n",
       "      <td>Buenos Aires Costa Atlántica</td>\n",
       "      <td>NaN</td>\n",
       "      <td>NaN</td>\n",
       "      <td>NaN</td>\n",
       "      <td>...</td>\n",
       "      <td>NaN</td>\n",
       "      <td>NaN</td>\n",
       "      <td>NaN</td>\n",
       "      <td>http://www.properati.com.ar/1cja8_venta_depart...</td>\n",
       "      <td>2 Amb al contrafrente,  luminoso. El departame...</td>\n",
       "      <td>2 amb. C/ dep. de servicio al contrafrente| Re...</td>\n",
       "      <td>https://thumbs4.properati.com/8/Q12PTvU6BQJ0ib...</td>\n",
       "      <td>|Argentina|Buenos Aires Costa Atlántica|Plaza ...</td>\n",
       "      <td>17.6445</td>\n",
       "      <td>NaN</td>\n",
       "    </tr>\n",
       "    <tr>\n",
       "      <th>121219</th>\n",
       "      <td>121219</td>\n",
       "      <td>sell</td>\n",
       "      <td>apartment</td>\n",
       "      <td>Capital Federal</td>\n",
       "      <td>|Argentina|Capital Federal|</td>\n",
       "      <td>Argentina</td>\n",
       "      <td>Capital Federal</td>\n",
       "      <td>3433955.0</td>\n",
       "      <td>NaN</td>\n",
       "      <td>NaN</td>\n",
       "      <td>...</td>\n",
       "      <td>NaN</td>\n",
       "      <td>NaN</td>\n",
       "      <td>3500.0</td>\n",
       "      <td>http://www.properati.com.ar/1cjaa_venta_depart...</td>\n",
       "      <td>Departamento de 77 m2 apto profesional. Edific...</td>\n",
       "      <td>Departamento apto profesional en el Centro</td>\n",
       "      <td>https://thumbs4.properati.com/8/mNEsnQWqB7joBF...</td>\n",
       "      <td>|Argentina|Capital Federal|Capital Federal|</td>\n",
       "      <td>17.6445</td>\n",
       "      <td>0.001538</td>\n",
       "    </tr>\n",
       "  </tbody>\n",
       "</table>\n",
       "<p>121220 rows × 29 columns</p>\n",
       "</div>"
      ],
      "text/plain": [
       "        Unnamed: 0 operation property_type       place_name  \\\n",
       "0                0      sell            PH        Mataderos   \n",
       "1                1      sell     apartment         La Plata   \n",
       "2                2      sell     apartment        Mataderos   \n",
       "3                3      sell            PH          Liniers   \n",
       "4                4      sell     apartment           Centro   \n",
       "...            ...       ...           ...              ...   \n",
       "121215      121215      sell     apartment         Belgrano   \n",
       "121216      121216      sell         house           Beccar   \n",
       "121217      121217      sell     apartment    Villa Urquiza   \n",
       "121218      121218      sell     apartment      Plaza Colón   \n",
       "121219      121219      sell     apartment  Capital Federal   \n",
       "\n",
       "                                  place_with_parent_names country_name  \\\n",
       "0                   |Argentina|Capital Federal|Mataderos|    Argentina   \n",
       "1             |Argentina|Bs.As. G.B.A. Zona Sur|La Plata|    Argentina   \n",
       "2                   |Argentina|Capital Federal|Mataderos|    Argentina   \n",
       "3                     |Argentina|Capital Federal|Liniers|    Argentina   \n",
       "4       |Argentina|Buenos Aires Costa Atlántica|Mar de...    Argentina   \n",
       "...                                                   ...          ...   \n",
       "121215               |Argentina|Capital Federal|Belgrano|    Argentina   \n",
       "121216  |Argentina|Bs.As. G.B.A. Zona Norte|San Isidro...    Argentina   \n",
       "121217          |Argentina|Capital Federal|Villa Urquiza|    Argentina   \n",
       "121218  |Argentina|Buenos Aires Costa Atlántica|Mar de...    Argentina   \n",
       "121219                        |Argentina|Capital Federal|    Argentina   \n",
       "\n",
       "                          state_name  geonames_id  \\\n",
       "0                    Capital Federal    3430787.0   \n",
       "1             Bs.As. G.B.A. Zona Sur    3432039.0   \n",
       "2                    Capital Federal    3430787.0   \n",
       "3                    Capital Federal    3431333.0   \n",
       "4       Buenos Aires Costa Atlántica    3435548.0   \n",
       "...                              ...          ...   \n",
       "121215               Capital Federal    3436077.0   \n",
       "121216      Bs.As. G.B.A. Zona Norte    3436080.0   \n",
       "121217               Capital Federal    3433775.0   \n",
       "121218  Buenos Aires Costa Atlántica          NaN   \n",
       "121219               Capital Federal    3433955.0   \n",
       "\n",
       "                              lat-lon        lat  ...  floor  rooms expenses  \\\n",
       "0             -34.6618237,-58.5088387 -34.661824  ...    NaN    NaN      NaN   \n",
       "1             -34.9038831,-57.9643295 -34.903883  ...    NaN    NaN      NaN   \n",
       "2             -34.6522615,-58.5229825 -34.652262  ...    NaN    NaN      NaN   \n",
       "3             -34.6477969,-58.5164244 -34.647797  ...    NaN    NaN      NaN   \n",
       "4             -38.0026256,-57.5494468 -38.002626  ...    NaN    NaN      NaN   \n",
       "...                               ...        ...  ...    ...    ...      ...   \n",
       "121215                            NaN        NaN  ...    NaN    NaN  10000.0   \n",
       "121216                            NaN        NaN  ...    NaN    NaN      NaN   \n",
       "121217  -34.5706388726,-58.4755963355 -34.570639  ...    NaN    NaN      NaN   \n",
       "121218                            NaN        NaN  ...    NaN    NaN      NaN   \n",
       "121219                            NaN        NaN  ...    NaN    NaN   3500.0   \n",
       "\n",
       "                                            properati_url  \\\n",
       "0       http://www.properati.com.ar/15bo8_venta_ph_mat...   \n",
       "1       http://www.properati.com.ar/15bob_venta_depart...   \n",
       "2       http://www.properati.com.ar/15bod_venta_depart...   \n",
       "3       http://www.properati.com.ar/15boh_venta_ph_lin...   \n",
       "4       http://www.properati.com.ar/15bok_venta_depart...   \n",
       "...                                                   ...   \n",
       "121215  http://www.properati.com.ar/1cja2_venta_depart...   \n",
       "121216  http://www.properati.com.ar/1cja6_venta_casa_b...   \n",
       "121217  http://www.properati.com.ar/1cja7_venta_depart...   \n",
       "121218  http://www.properati.com.ar/1cja8_venta_depart...   \n",
       "121219  http://www.properati.com.ar/1cjaa_venta_depart...   \n",
       "\n",
       "                                              description  \\\n",
       "0       2 AMBIENTES TIPO CASA PLANTA BAJA POR PASILLO,...   \n",
       "1       Venta de departamento en décimo piso al frente...   \n",
       "2       2 AMBIENTES 3ER PISO LATERAL LIVING COMEDOR AM...   \n",
       "3       PH 3 ambientes con patio. Hay 3 deptos en lote...   \n",
       "4       DEPARTAMENTO CON FANTÁSTICA ILUMINACIÓN NATURA...   \n",
       "...                                                   ...   \n",
       "121215  TORRE FORUM ALCORTA - MÁXIMA CATEGORÍA.Impecab...   \n",
       "121216  Excelente e impecable casa en Venta en Las Lom...   \n",
       "121217  VENTA DEPARTAMENTO AMBIENTE DIVISIBLE A ESTREN...   \n",
       "121218  2 Amb al contrafrente,  luminoso. El departame...   \n",
       "121219  Departamento de 77 m2 apto profesional. Edific...   \n",
       "\n",
       "                                                    title  \\\n",
       "0                      2 AMB TIPO CASA SIN EXPENSAS EN PB   \n",
       "1       VENTA Depto 2 dorm. a estrenar 7 e/ 36 y 37   ...   \n",
       "2                2 AMB 3ER PISO CON ASCENSOR APTO CREDITO   \n",
       "3                            PH 3 amb. cfte. reciclado      \n",
       "4       DEPTO 2 AMB AL CONTRAFRENTE ZONA CENTRO/PLAZA ...   \n",
       "...                                                   ...   \n",
       "121215         Torre Forum Alcorta- Impecable 3 ambientes   \n",
       "121216  Ruca Inmuebles | Venta | Lomas de San Isidro |...   \n",
       "121217  VENTA DEPARTAMENTO AMBIENTE DIVISIBLE A ESTREN...   \n",
       "121218  2 amb. C/ dep. de servicio al contrafrente| Re...   \n",
       "121219         Departamento apto profesional en el Centro   \n",
       "\n",
       "                                          image_thumbnail  \\\n",
       "0       https://thumbs4.properati.com/8/BluUYiHJLhgIIK...   \n",
       "1       https://thumbs4.properati.com/7/ikpVBu2ztHA7jv...   \n",
       "2       https://thumbs4.properati.com/5/SXKr34F_IwG3W_...   \n",
       "3       https://thumbs4.properati.com/3/DgIfX-85Mog5SP...   \n",
       "4       https://thumbs4.properati.com/5/xrRqlNcSI_vs-f...   \n",
       "...                                                   ...   \n",
       "121215  https://thumbs4.properati.com/1/bjms0KnaAnlNoQ...   \n",
       "121216  https://thumbs4.properati.com/2/PCc3WuQDjpNZc4...   \n",
       "121217  https://thumbs4.properati.com/9/YAe_-2gRVykADP...   \n",
       "121218  https://thumbs4.properati.com/8/Q12PTvU6BQJ0ib...   \n",
       "121219  https://thumbs4.properati.com/8/mNEsnQWqB7joBF...   \n",
       "\n",
       "                                                 agrupado  \\\n",
       "0                   |Argentina|Capital Federal|Mataderos|   \n",
       "1             |Argentina|Bs.As. G.B.A. Zona Sur|La Plata|   \n",
       "2                   |Argentina|Capital Federal|Mataderos|   \n",
       "3                     |Argentina|Capital Federal|Liniers|   \n",
       "4         |Argentina|Buenos Aires Costa Atlántica|Centro|   \n",
       "...                                                   ...   \n",
       "121215               |Argentina|Capital Federal|Belgrano|   \n",
       "121216        |Argentina|Bs.As. G.B.A. Zona Norte|Beccar|   \n",
       "121217          |Argentina|Capital Federal|Villa Urquiza|   \n",
       "121218  |Argentina|Buenos Aires Costa Atlántica|Plaza ...   \n",
       "121219        |Argentina|Capital Federal|Capital Federal|   \n",
       "\n",
       "        tipodecambio_implicito  nivel_de_expensas  \n",
       "0                      17.6445                NaN  \n",
       "1                      17.6445                NaN  \n",
       "2                      17.6445                NaN  \n",
       "3                      17.6445                NaN  \n",
       "4                      17.6445                NaN  \n",
       "...                        ...                ...  \n",
       "121215                 17.6445           0.000651  \n",
       "121216                 17.6445                NaN  \n",
       "121217                 17.6445                NaN  \n",
       "121218                 17.6445                NaN  \n",
       "121219                 17.6445           0.001538  \n",
       "\n",
       "[121220 rows x 29 columns]"
      ]
     },
     "execution_count": 113,
     "metadata": {},
     "output_type": "execute_result"
    },
    {
     "data": {
      "text/plain": [
       "(121220, 29)"
      ]
     },
     "execution_count": 113,
     "metadata": {},
     "output_type": "execute_result"
    }
   ],
   "source": [
    "#elimino duplicados \n",
    "data.drop_duplicates(keep=\"first\")\n",
    "data.shape"
   ]
  },
  {
   "cell_type": "markdown",
   "metadata": {
    "id": "7EbzNZe_DThP"
   },
   "source": [
    "### paso todo a minúscula"
   ]
  },
  {
   "cell_type": "code",
   "execution_count": 114,
   "metadata": {
    "colab": {
     "base_uri": "https://localhost:8080/"
    },
    "executionInfo": {
     "elapsed": 19933,
     "status": "ok",
     "timestamp": 1651431246667,
     "user": {
      "displayName": "Maela Lombardi",
      "userId": "03936068368896012188"
     },
     "user_tz": 180
    },
    "id": "COr30JTr4gdR",
    "outputId": "d79905be-15d4-439b-f967-e3249f97b81f"
   },
   "outputs": [
    {
     "name": "stdout",
     "output_type": "stream",
     "text": [
      "Unnamed: 0                    True\n",
      "operation                     True\n",
      "property_type                 True\n",
      "place_name                    True\n",
      "place_with_parent_names       True\n",
      "country_name                  True\n",
      "state_name                    True\n",
      "geonames_id                   True\n",
      "lat-lon                       True\n",
      "lat                           True\n",
      "lon                           True\n",
      "price                         True\n",
      "currency                      True\n",
      "price_aprox_local_currency    True\n",
      "price_aprox_usd               True\n",
      "surface_total_in_m2           True\n",
      "surface_covered_in_m2         True\n",
      "price_usd_per_m2              True\n",
      "price_per_m2                  True\n",
      "floor                         True\n",
      "rooms                         True\n",
      "expenses                      True\n",
      "properati_url                 True\n",
      "description                   True\n",
      "title                         True\n",
      "image_thumbnail               True\n",
      "agrupado                      True\n",
      "tipodecambio_implicito        True\n",
      "nivel_de_expensas             True\n",
      "dtype: bool\n",
      "   Unnamed: 0 operation property_type place_name  \\\n",
      "0           0      sell            ph  mataderos   \n",
      "1           1      sell     apartment   la plata   \n",
      "2           2      sell     apartment  mataderos   \n",
      "\n",
      "                       place_with_parent_names country_name  \\\n",
      "0        |argentina|capital federal|mataderos|    argentina   \n",
      "1  |argentina|bs.as. g.b.a. zona sur|la plata|    argentina   \n",
      "2        |argentina|capital federal|mataderos|    argentina   \n",
      "\n",
      "               state_name  geonames_id                  lat-lon        lat  \\\n",
      "0         capital federal    3430787.0  -34.6618237,-58.5088387 -34.661824   \n",
      "1  bs.as. g.b.a. zona sur    3432039.0  -34.9038831,-57.9643295 -34.903883   \n",
      "2         capital federal    3430787.0  -34.6522615,-58.5229825 -34.652262   \n",
      "\n",
      "   ...  floor  rooms expenses  \\\n",
      "0  ...    NaN    NaN      NaN   \n",
      "1  ...    NaN    NaN      NaN   \n",
      "2  ...    NaN    NaN      NaN   \n",
      "\n",
      "                                       properati_url  \\\n",
      "0  http://www.properati.com.ar/15bo8_venta_ph_mat...   \n",
      "1  http://www.properati.com.ar/15bob_venta_depart...   \n",
      "2  http://www.properati.com.ar/15bod_venta_depart...   \n",
      "\n",
      "                                         description  \\\n",
      "0  2 ambientes tipo casa planta baja por pasillo,...   \n",
      "1  venta de departamento en décimo piso al frente...   \n",
      "2  2 ambientes 3er piso lateral living comedor am...   \n",
      "\n",
      "                                               title  \\\n",
      "0                 2 amb tipo casa sin expensas en pb   \n",
      "1  venta depto 2 dorm. a estrenar 7 e/ 36 y 37   ...   \n",
      "2           2 amb 3er piso con ascensor apto credito   \n",
      "\n",
      "                                     image_thumbnail  \\\n",
      "0  https://thumbs4.properati.com/8/bluuyihjlhgiik...   \n",
      "1  https://thumbs4.properati.com/7/ikpvbu2ztha7jv...   \n",
      "2  https://thumbs4.properati.com/5/sxkr34f_iwg3w_...   \n",
      "\n",
      "                                      agrupado  tipodecambio_implicito  \\\n",
      "0        |argentina|capital federal|mataderos|                 17.6445   \n",
      "1  |argentina|bs.as. g.b.a. zona sur|la plata|                 17.6445   \n",
      "2        |argentina|capital federal|mataderos|                 17.6445   \n",
      "\n",
      "   nivel_de_expensas  \n",
      "0                NaN  \n",
      "1                NaN  \n",
      "2                NaN  \n",
      "\n",
      "[3 rows x 29 columns]\n"
     ]
    }
   ],
   "source": [
    "## pasar todas las columnas a minusculas\n",
    "data_lower = data.applymap(lambda x: x if np.isreal(x) else str(x).lower())\n",
    "# comparo los tipos de datos antes y después de pasar a minúsculas:\n",
    "print(data_lower.dtypes == data.dtypes)\n",
    "print(data_lower.head(3))\n"
   ]
  },
  {
   "cell_type": "markdown",
   "metadata": {
    "id": "4hxbVZ5SDJmF"
   },
   "source": [
    "### limpieza de outliers"
   ]
  },
  {
   "cell_type": "markdown",
   "metadata": {
    "id": "Fea0BJjkMXge"
   },
   "source": [
    "####Método 1 sin eliminación de registros: con el siguiente método reemplazo en el dataset original los outliers de más de 2 std de todas las columnas numericas por NaN, de una vez, sin tener en cuenta las particularidades de las columnas. Como resultado obtengo un dataset del mismo tamaño que el dataset original, con los outliers convertidos en NaN para no impactar en los datos de resumen."
   ]
  },
  {
   "cell_type": "code",
   "execution_count": 115,
   "metadata": {
    "colab": {
     "base_uri": "https://localhost:8080/",
     "height": 514
    },
    "executionInfo": {
     "elapsed": 7,
     "status": "ok",
     "timestamp": 1651431246667,
     "user": {
      "displayName": "Maela Lombardi",
      "userId": "03936068368896012188"
     },
     "user_tz": 180
    },
    "id": "1cXVvSk94f0z",
    "outputId": "1f89b28d-1a82-44e2-be8f-b6b40fe68e41"
   },
   "outputs": [
    {
     "data": {
      "text/html": [
       "<div>\n",
       "<style scoped>\n",
       "    .dataframe tbody tr th:only-of-type {\n",
       "        vertical-align: middle;\n",
       "    }\n",
       "\n",
       "    .dataframe tbody tr th {\n",
       "        vertical-align: top;\n",
       "    }\n",
       "\n",
       "    .dataframe thead th {\n",
       "        text-align: right;\n",
       "    }\n",
       "</style>\n",
       "<table border=\"1\" class=\"dataframe\">\n",
       "  <thead>\n",
       "    <tr style=\"text-align: right;\">\n",
       "      <th></th>\n",
       "      <th>Unnamed: 0</th>\n",
       "      <th>operation</th>\n",
       "      <th>property_type</th>\n",
       "      <th>place_name</th>\n",
       "      <th>place_with_parent_names</th>\n",
       "      <th>country_name</th>\n",
       "      <th>state_name</th>\n",
       "      <th>geonames_id</th>\n",
       "      <th>lat-lon</th>\n",
       "      <th>lat</th>\n",
       "      <th>...</th>\n",
       "      <th>floor</th>\n",
       "      <th>rooms</th>\n",
       "      <th>expenses</th>\n",
       "      <th>properati_url</th>\n",
       "      <th>description</th>\n",
       "      <th>title</th>\n",
       "      <th>image_thumbnail</th>\n",
       "      <th>agrupado</th>\n",
       "      <th>tipodecambio_implicito</th>\n",
       "      <th>nivel_de_expensas</th>\n",
       "    </tr>\n",
       "  </thead>\n",
       "  <tbody>\n",
       "    <tr>\n",
       "      <th>0</th>\n",
       "      <td>0</td>\n",
       "      <td>sell</td>\n",
       "      <td>PH</td>\n",
       "      <td>Mataderos</td>\n",
       "      <td>|Argentina|Capital Federal|Mataderos|</td>\n",
       "      <td>Argentina</td>\n",
       "      <td>Capital Federal</td>\n",
       "      <td>3430787.0</td>\n",
       "      <td>-34.6618237,-58.5088387</td>\n",
       "      <td>-34.661824</td>\n",
       "      <td>...</td>\n",
       "      <td>NaN</td>\n",
       "      <td>NaN</td>\n",
       "      <td>NaN</td>\n",
       "      <td>http://www.properati.com.ar/15bo8_venta_ph_mat...</td>\n",
       "      <td>2 AMBIENTES TIPO CASA PLANTA BAJA POR PASILLO,...</td>\n",
       "      <td>2 AMB TIPO CASA SIN EXPENSAS EN PB</td>\n",
       "      <td>https://thumbs4.properati.com/8/BluUYiHJLhgIIK...</td>\n",
       "      <td>|Argentina|Capital Federal|Mataderos|</td>\n",
       "      <td>17.6445</td>\n",
       "      <td>NaN</td>\n",
       "    </tr>\n",
       "    <tr>\n",
       "      <th>1</th>\n",
       "      <td>1</td>\n",
       "      <td>sell</td>\n",
       "      <td>apartment</td>\n",
       "      <td>La Plata</td>\n",
       "      <td>|Argentina|Bs.As. G.B.A. Zona Sur|La Plata|</td>\n",
       "      <td>Argentina</td>\n",
       "      <td>Bs.As. G.B.A. Zona Sur</td>\n",
       "      <td>3432039.0</td>\n",
       "      <td>-34.9038831,-57.9643295</td>\n",
       "      <td>-34.903883</td>\n",
       "      <td>...</td>\n",
       "      <td>NaN</td>\n",
       "      <td>NaN</td>\n",
       "      <td>NaN</td>\n",
       "      <td>http://www.properati.com.ar/15bob_venta_depart...</td>\n",
       "      <td>Venta de departamento en décimo piso al frente...</td>\n",
       "      <td>VENTA Depto 2 dorm. a estrenar 7 e/ 36 y 37   ...</td>\n",
       "      <td>https://thumbs4.properati.com/7/ikpVBu2ztHA7jv...</td>\n",
       "      <td>|Argentina|Bs.As. G.B.A. Zona Sur|La Plata|</td>\n",
       "      <td>17.6445</td>\n",
       "      <td>NaN</td>\n",
       "    </tr>\n",
       "    <tr>\n",
       "      <th>2</th>\n",
       "      <td>2</td>\n",
       "      <td>sell</td>\n",
       "      <td>apartment</td>\n",
       "      <td>Mataderos</td>\n",
       "      <td>|Argentina|Capital Federal|Mataderos|</td>\n",
       "      <td>Argentina</td>\n",
       "      <td>Capital Federal</td>\n",
       "      <td>3430787.0</td>\n",
       "      <td>-34.6522615,-58.5229825</td>\n",
       "      <td>-34.652262</td>\n",
       "      <td>...</td>\n",
       "      <td>NaN</td>\n",
       "      <td>NaN</td>\n",
       "      <td>NaN</td>\n",
       "      <td>http://www.properati.com.ar/15bod_venta_depart...</td>\n",
       "      <td>2 AMBIENTES 3ER PISO LATERAL LIVING COMEDOR AM...</td>\n",
       "      <td>2 AMB 3ER PISO CON ASCENSOR APTO CREDITO</td>\n",
       "      <td>https://thumbs4.properati.com/5/SXKr34F_IwG3W_...</td>\n",
       "      <td>|Argentina|Capital Federal|Mataderos|</td>\n",
       "      <td>17.6445</td>\n",
       "      <td>NaN</td>\n",
       "    </tr>\n",
       "  </tbody>\n",
       "</table>\n",
       "<p>3 rows × 29 columns</p>\n",
       "</div>"
      ],
      "text/plain": [
       "   Unnamed: 0 operation property_type place_name  \\\n",
       "0           0      sell            PH  Mataderos   \n",
       "1           1      sell     apartment   La Plata   \n",
       "2           2      sell     apartment  Mataderos   \n",
       "\n",
       "                       place_with_parent_names country_name  \\\n",
       "0        |Argentina|Capital Federal|Mataderos|    Argentina   \n",
       "1  |Argentina|Bs.As. G.B.A. Zona Sur|La Plata|    Argentina   \n",
       "2        |Argentina|Capital Federal|Mataderos|    Argentina   \n",
       "\n",
       "               state_name  geonames_id                  lat-lon        lat  \\\n",
       "0         Capital Federal    3430787.0  -34.6618237,-58.5088387 -34.661824   \n",
       "1  Bs.As. G.B.A. Zona Sur    3432039.0  -34.9038831,-57.9643295 -34.903883   \n",
       "2         Capital Federal    3430787.0  -34.6522615,-58.5229825 -34.652262   \n",
       "\n",
       "   ...  floor  rooms expenses  \\\n",
       "0  ...    NaN    NaN      NaN   \n",
       "1  ...    NaN    NaN      NaN   \n",
       "2  ...    NaN    NaN      NaN   \n",
       "\n",
       "                                       properati_url  \\\n",
       "0  http://www.properati.com.ar/15bo8_venta_ph_mat...   \n",
       "1  http://www.properati.com.ar/15bob_venta_depart...   \n",
       "2  http://www.properati.com.ar/15bod_venta_depart...   \n",
       "\n",
       "                                         description  \\\n",
       "0  2 AMBIENTES TIPO CASA PLANTA BAJA POR PASILLO,...   \n",
       "1  Venta de departamento en décimo piso al frente...   \n",
       "2  2 AMBIENTES 3ER PISO LATERAL LIVING COMEDOR AM...   \n",
       "\n",
       "                                               title  \\\n",
       "0                 2 AMB TIPO CASA SIN EXPENSAS EN PB   \n",
       "1  VENTA Depto 2 dorm. a estrenar 7 e/ 36 y 37   ...   \n",
       "2           2 AMB 3ER PISO CON ASCENSOR APTO CREDITO   \n",
       "\n",
       "                                     image_thumbnail  \\\n",
       "0  https://thumbs4.properati.com/8/BluUYiHJLhgIIK...   \n",
       "1  https://thumbs4.properati.com/7/ikpVBu2ztHA7jv...   \n",
       "2  https://thumbs4.properati.com/5/SXKr34F_IwG3W_...   \n",
       "\n",
       "                                      agrupado  tipodecambio_implicito  \\\n",
       "0        |Argentina|Capital Federal|Mataderos|                 17.6445   \n",
       "1  |Argentina|Bs.As. G.B.A. Zona Sur|La Plata|                 17.6445   \n",
       "2        |Argentina|Capital Federal|Mataderos|                 17.6445   \n",
       "\n",
       "   nivel_de_expensas  \n",
       "0                NaN  \n",
       "1                NaN  \n",
       "2                NaN  \n",
       "\n",
       "[3 rows x 29 columns]"
      ]
     },
     "execution_count": 115,
     "metadata": {},
     "output_type": "execute_result"
    }
   ],
   "source": [
    "#búsqueda y reemplazo de outliers (de más de 2 std, 95%) por NaN en las columnas numéricas, en un solo paso\n",
    "cols = data.select_dtypes('number').columns  # limits to a (float), b (int) and e (timedelta)\n",
    "df_sub = data.loc[:, cols]\n",
    "lim = np.abs((df_sub - df_sub.mean()) / df_sub.std(ddof=0)) < 2\n",
    "data.loc[:, cols] = df_sub.where(lim, np.nan)\n",
    "data.head(3)"
   ]
  },
  {
   "cell_type": "markdown",
   "metadata": {
    "id": "Phpd-PO5MR2i"
   },
   "source": [
    "####Método 2 con eliminación de registros: con el siguiente método tomo en un primer paso la columna property_type, y divido por tipo de propiedad y selecciono el límite de outliers de forma individual para cada tipo de propiedad y creo nuevos dataset limpios de outliers, y luego los vuelvo a unir en un nuevo dataset (data_corr). Este nuevo dataset es considerablemente menor que el original, al haberse eliminado los registros con outliers.\n",
    "En un segundo paso hago lo mismo para la columna surface_total_in_m2. Creo un nuevo dataset (data_surface_corr). Este nuevo dataset es considerablemente menor que el original, al haberse eliminado los registros con outliers.\n"
   ]
  },
  {
   "cell_type": "markdown",
   "metadata": {
    "id": "4l7n4UrKVcp3"
   },
   "source": [
    "Antes de eliminar outliers, tiro una tabla dinámica de precio por m2 en usd por tipo de propiedad y state_name"
   ]
  },
  {
   "cell_type": "code",
   "execution_count": 116,
   "metadata": {
    "colab": {
     "base_uri": "https://localhost:8080/"
    },
    "executionInfo": {
     "elapsed": 6,
     "status": "ok",
     "timestamp": 1651431246667,
     "user": {
      "displayName": "Maela Lombardi",
      "userId": "03936068368896012188"
     },
     "user_tz": 180
    },
    "id": "XMPrVHnpVb8p",
    "outputId": "1ded04eb-772e-4f65-d6db-dbbc7f4b14c9"
   },
   "outputs": [
    {
     "data": {
      "text/html": [
       "<div>\n",
       "<style scoped>\n",
       "    .dataframe tbody tr th:only-of-type {\n",
       "        vertical-align: middle;\n",
       "    }\n",
       "\n",
       "    .dataframe tbody tr th {\n",
       "        vertical-align: top;\n",
       "    }\n",
       "\n",
       "    .dataframe thead tr th {\n",
       "        text-align: left;\n",
       "    }\n",
       "\n",
       "    .dataframe thead tr:last-of-type th {\n",
       "        text-align: right;\n",
       "    }\n",
       "</style>\n",
       "<table border=\"1\" class=\"dataframe\">\n",
       "  <thead>\n",
       "    <tr>\n",
       "      <th></th>\n",
       "      <th colspan=\"4\" halign=\"left\">price_usd_per_m2</th>\n",
       "    </tr>\n",
       "    <tr>\n",
       "      <th>property_type</th>\n",
       "      <th>PH</th>\n",
       "      <th>apartment</th>\n",
       "      <th>house</th>\n",
       "      <th>store</th>\n",
       "    </tr>\n",
       "    <tr>\n",
       "      <th>state_name</th>\n",
       "      <th></th>\n",
       "      <th></th>\n",
       "      <th></th>\n",
       "      <th></th>\n",
       "    </tr>\n",
       "  </thead>\n",
       "  <tbody>\n",
       "    <tr>\n",
       "      <th>Bs.As. G.B.A. Zona Norte</th>\n",
       "      <td>1405.69</td>\n",
       "      <td>2406.72</td>\n",
       "      <td>1288.83</td>\n",
       "      <td>1695.40</td>\n",
       "    </tr>\n",
       "    <tr>\n",
       "      <th>Bs.As. G.B.A. Zona Oeste</th>\n",
       "      <td>1144.94</td>\n",
       "      <td>1683.06</td>\n",
       "      <td>966.21</td>\n",
       "      <td>1462.81</td>\n",
       "    </tr>\n",
       "    <tr>\n",
       "      <th>Bs.As. G.B.A. Zona Sur</th>\n",
       "      <td>1114.01</td>\n",
       "      <td>1823.09</td>\n",
       "      <td>1144.31</td>\n",
       "      <td>1404.99</td>\n",
       "    </tr>\n",
       "    <tr>\n",
       "      <th>Buenos Aires Costa Atlántica</th>\n",
       "      <td>1156.45</td>\n",
       "      <td>1938.11</td>\n",
       "      <td>749.15</td>\n",
       "      <td>1401.05</td>\n",
       "    </tr>\n",
       "    <tr>\n",
       "      <th>Buenos Aires Interior</th>\n",
       "      <td>1019.89</td>\n",
       "      <td>1634.00</td>\n",
       "      <td>643.24</td>\n",
       "      <td>987.67</td>\n",
       "    </tr>\n",
       "    <tr>\n",
       "      <th>Capital Federal</th>\n",
       "      <td>1677.10</td>\n",
       "      <td>2721.44</td>\n",
       "      <td>1419.67</td>\n",
       "      <td>2620.17</td>\n",
       "    </tr>\n",
       "    <tr>\n",
       "      <th>Catamarca</th>\n",
       "      <td>NaN</td>\n",
       "      <td>NaN</td>\n",
       "      <td>556.05</td>\n",
       "      <td>NaN</td>\n",
       "    </tr>\n",
       "    <tr>\n",
       "      <th>Chaco</th>\n",
       "      <td>NaN</td>\n",
       "      <td>1424.74</td>\n",
       "      <td>701.17</td>\n",
       "      <td>1509.55</td>\n",
       "    </tr>\n",
       "    <tr>\n",
       "      <th>Chubut</th>\n",
       "      <td>NaN</td>\n",
       "      <td>2002.69</td>\n",
       "      <td>1592.13</td>\n",
       "      <td>1323.76</td>\n",
       "    </tr>\n",
       "    <tr>\n",
       "      <th>Corrientes</th>\n",
       "      <td>1478.50</td>\n",
       "      <td>1933.72</td>\n",
       "      <td>1157.18</td>\n",
       "      <td>1346.19</td>\n",
       "    </tr>\n",
       "    <tr>\n",
       "      <th>Córdoba</th>\n",
       "      <td>873.80</td>\n",
       "      <td>1418.23</td>\n",
       "      <td>698.55</td>\n",
       "      <td>1458.78</td>\n",
       "    </tr>\n",
       "    <tr>\n",
       "      <th>Entre Ríos</th>\n",
       "      <td>NaN</td>\n",
       "      <td>1383.24</td>\n",
       "      <td>573.80</td>\n",
       "      <td>1602.06</td>\n",
       "    </tr>\n",
       "    <tr>\n",
       "      <th>Formosa</th>\n",
       "      <td>NaN</td>\n",
       "      <td>1509.65</td>\n",
       "      <td>NaN</td>\n",
       "      <td>NaN</td>\n",
       "    </tr>\n",
       "    <tr>\n",
       "      <th>Jujuy</th>\n",
       "      <td>NaN</td>\n",
       "      <td>1682.51</td>\n",
       "      <td>261.93</td>\n",
       "      <td>NaN</td>\n",
       "    </tr>\n",
       "    <tr>\n",
       "      <th>La Pampa</th>\n",
       "      <td>NaN</td>\n",
       "      <td>1305.02</td>\n",
       "      <td>858.32</td>\n",
       "      <td>616.92</td>\n",
       "    </tr>\n",
       "    <tr>\n",
       "      <th>La Rioja</th>\n",
       "      <td>NaN</td>\n",
       "      <td>NaN</td>\n",
       "      <td>243.03</td>\n",
       "      <td>NaN</td>\n",
       "    </tr>\n",
       "    <tr>\n",
       "      <th>Mendoza</th>\n",
       "      <td>1113.72</td>\n",
       "      <td>1585.38</td>\n",
       "      <td>1070.36</td>\n",
       "      <td>1361.58</td>\n",
       "    </tr>\n",
       "    <tr>\n",
       "      <th>Misiones</th>\n",
       "      <td>1154.66</td>\n",
       "      <td>1287.52</td>\n",
       "      <td>469.74</td>\n",
       "      <td>71.60</td>\n",
       "    </tr>\n",
       "    <tr>\n",
       "      <th>Neuquén</th>\n",
       "      <td>2313.92</td>\n",
       "      <td>1815.42</td>\n",
       "      <td>897.42</td>\n",
       "      <td>1181.09</td>\n",
       "    </tr>\n",
       "    <tr>\n",
       "      <th>Río Negro</th>\n",
       "      <td>1284.28</td>\n",
       "      <td>2627.96</td>\n",
       "      <td>1393.35</td>\n",
       "      <td>1504.33</td>\n",
       "    </tr>\n",
       "    <tr>\n",
       "      <th>Salta</th>\n",
       "      <td>NaN</td>\n",
       "      <td>1381.67</td>\n",
       "      <td>626.00</td>\n",
       "      <td>179.47</td>\n",
       "    </tr>\n",
       "    <tr>\n",
       "      <th>San Juan</th>\n",
       "      <td>NaN</td>\n",
       "      <td>3191.49</td>\n",
       "      <td>105.00</td>\n",
       "      <td>NaN</td>\n",
       "    </tr>\n",
       "    <tr>\n",
       "      <th>San Luis</th>\n",
       "      <td>NaN</td>\n",
       "      <td>850.89</td>\n",
       "      <td>1035.55</td>\n",
       "      <td>1369.95</td>\n",
       "    </tr>\n",
       "    <tr>\n",
       "      <th>Santa Cruz</th>\n",
       "      <td>NaN</td>\n",
       "      <td>NaN</td>\n",
       "      <td>725.06</td>\n",
       "      <td>420.63</td>\n",
       "    </tr>\n",
       "    <tr>\n",
       "      <th>Santa Fe</th>\n",
       "      <td>1207.19</td>\n",
       "      <td>1696.31</td>\n",
       "      <td>827.48</td>\n",
       "      <td>1641.52</td>\n",
       "    </tr>\n",
       "    <tr>\n",
       "      <th>Santiago Del Estero</th>\n",
       "      <td>NaN</td>\n",
       "      <td>513.31</td>\n",
       "      <td>148.00</td>\n",
       "      <td>NaN</td>\n",
       "    </tr>\n",
       "    <tr>\n",
       "      <th>Tierra Del Fuego</th>\n",
       "      <td>NaN</td>\n",
       "      <td>1820.55</td>\n",
       "      <td>769.87</td>\n",
       "      <td>1100.75</td>\n",
       "    </tr>\n",
       "    <tr>\n",
       "      <th>Tucumán</th>\n",
       "      <td>1329.82</td>\n",
       "      <td>964.05</td>\n",
       "      <td>721.79</td>\n",
       "      <td>600.30</td>\n",
       "    </tr>\n",
       "  </tbody>\n",
       "</table>\n",
       "</div>"
      ],
      "text/plain": [
       "                             price_usd_per_m2                            \n",
       "property_type                              PH apartment    house    store\n",
       "state_name                                                               \n",
       "Bs.As. G.B.A. Zona Norte              1405.69   2406.72  1288.83  1695.40\n",
       "Bs.As. G.B.A. Zona Oeste              1144.94   1683.06   966.21  1462.81\n",
       "Bs.As. G.B.A. Zona Sur                1114.01   1823.09  1144.31  1404.99\n",
       "Buenos Aires Costa Atlántica          1156.45   1938.11   749.15  1401.05\n",
       "Buenos Aires Interior                 1019.89   1634.00   643.24   987.67\n",
       "Capital Federal                       1677.10   2721.44  1419.67  2620.17\n",
       "Catamarca                                 NaN       NaN   556.05      NaN\n",
       "Chaco                                     NaN   1424.74   701.17  1509.55\n",
       "Chubut                                    NaN   2002.69  1592.13  1323.76\n",
       "Corrientes                            1478.50   1933.72  1157.18  1346.19\n",
       "Córdoba                                873.80   1418.23   698.55  1458.78\n",
       "Entre Ríos                                NaN   1383.24   573.80  1602.06\n",
       "Formosa                                   NaN   1509.65      NaN      NaN\n",
       "Jujuy                                     NaN   1682.51   261.93      NaN\n",
       "La Pampa                                  NaN   1305.02   858.32   616.92\n",
       "La Rioja                                  NaN       NaN   243.03      NaN\n",
       "Mendoza                               1113.72   1585.38  1070.36  1361.58\n",
       "Misiones                              1154.66   1287.52   469.74    71.60\n",
       "Neuquén                               2313.92   1815.42   897.42  1181.09\n",
       "Río Negro                             1284.28   2627.96  1393.35  1504.33\n",
       "Salta                                     NaN   1381.67   626.00   179.47\n",
       "San Juan                                  NaN   3191.49   105.00      NaN\n",
       "San Luis                                  NaN    850.89  1035.55  1369.95\n",
       "Santa Cruz                                NaN       NaN   725.06   420.63\n",
       "Santa Fe                              1207.19   1696.31   827.48  1641.52\n",
       "Santiago Del Estero                       NaN    513.31   148.00      NaN\n",
       "Tierra Del Fuego                          NaN   1820.55   769.87  1100.75\n",
       "Tucumán                               1329.82    964.05   721.79   600.30"
      ]
     },
     "execution_count": 116,
     "metadata": {},
     "output_type": "execute_result"
    }
   ],
   "source": [
    "round(data.pivot_table(index='state_name', columns='property_type',\n",
    "                    aggfunc={ 'price_usd_per_m2':'mean'}),2)"
   ]
  },
  {
   "cell_type": "markdown",
   "metadata": {
    "id": "1XfPDmqWVlUC"
   },
   "source": [
    "Ahora comienzo a eliminar los outliers por tipo de propiedad"
   ]
  },
  {
   "cell_type": "code",
   "execution_count": 117,
   "metadata": {
    "id": "PIUZ1V2SMl-Y"
   },
   "outputs": [],
   "source": [
    "# Creamos 4 datasets distintos a partir de cada tipo de propiedad (ph, departamento, casa y negocio)\n",
    "data_ph, data_ap, data_ho, data_st = data.loc[data.property_type == 'PH'], data.loc[data.property_type == 'apartment'], data.loc[data.property_type == 'house'], data.loc[data.property_type == 'store']"
   ]
  },
  {
   "cell_type": "code",
   "execution_count": 118,
   "metadata": {
    "colab": {
     "base_uri": "https://localhost:8080/"
    },
    "executionInfo": {
     "elapsed": 11,
     "status": "ok",
     "timestamp": 1651431247283,
     "user": {
      "displayName": "Maela Lombardi",
      "userId": "03936068368896012188"
     },
     "user_tz": 180
    },
    "id": "KMDPYKVrM79o",
    "outputId": "10685c09-5722-44f4-e201-c9945efbb0f7"
   },
   "outputs": [
    {
     "data": {
      "text/plain": [
       "count      4679.000000\n",
       "mean     118314.444035\n",
       "std       47644.805306\n",
       "min        5047.530000\n",
       "25%       80000.000000\n",
       "50%      115000.000000\n",
       "75%      150000.000000\n",
       "max      240000.000000\n",
       "Name: price_aprox_usd, dtype: float64"
      ]
     },
     "execution_count": 118,
     "metadata": {},
     "output_type": "execute_result"
    },
    {
     "name": "stdout",
     "output_type": "stream",
     "text": [
      "\n",
      "\n"
     ]
    },
    {
     "data": {
      "text/plain": [
       "'CV: '"
      ]
     },
     "execution_count": 118,
     "metadata": {},
     "output_type": "execute_result"
    },
    {
     "data": {
      "text/plain": [
       "0.4026964390923061"
      ]
     },
     "execution_count": 118,
     "metadata": {},
     "output_type": "execute_result"
    },
    {
     "name": "stdout",
     "output_type": "stream",
     "text": [
      "\n",
      "\n"
     ]
    },
    {
     "data": {
      "text/plain": [
       "count     48959.000000\n",
       "mean     112419.808634\n",
       "std       49142.496744\n",
       "min        4666.620000\n",
       "25%       75000.000000\n",
       "50%      100950.610000\n",
       "75%      143000.000000\n",
       "max      240000.000000\n",
       "Name: price_aprox_usd, dtype: float64"
      ]
     },
     "execution_count": 118,
     "metadata": {},
     "output_type": "execute_result"
    },
    {
     "name": "stdout",
     "output_type": "stream",
     "text": [
      "\n",
      "\n"
     ]
    },
    {
     "data": {
      "text/plain": [
       "'CV: '"
      ]
     },
     "execution_count": 118,
     "metadata": {},
     "output_type": "execute_result"
    },
    {
     "data": {
      "text/plain": [
       "0.4371337875506749"
      ]
     },
     "execution_count": 118,
     "metadata": {},
     "output_type": "execute_result"
    },
    {
     "name": "stdout",
     "output_type": "stream",
     "text": [
      "\n",
      "\n"
     ]
    },
    {
     "data": {
      "text/plain": [
       "count     28731.000000\n",
       "mean     231809.540589\n",
       "std      126815.660268\n",
       "min           0.000000\n",
       "25%      130000.000000\n",
       "50%      210000.000000\n",
       "75%      320000.000000\n",
       "max      552000.000000\n",
       "Name: price_aprox_usd, dtype: float64"
      ]
     },
     "execution_count": 118,
     "metadata": {},
     "output_type": "execute_result"
    },
    {
     "name": "stdout",
     "output_type": "stream",
     "text": [
      "\n",
      "\n"
     ]
    },
    {
     "data": {
      "text/plain": [
       "'CV: '"
      ]
     },
     "execution_count": 118,
     "metadata": {},
     "output_type": "execute_result"
    },
    {
     "data": {
      "text/plain": [
       "0.5470683387136214"
      ]
     },
     "execution_count": 118,
     "metadata": {},
     "output_type": "execute_result"
    },
    {
     "name": "stdout",
     "output_type": "stream",
     "text": [
      "\n",
      "\n"
     ]
    },
    {
     "data": {
      "text/plain": [
       "9761           0.00\n",
       "104072      5047.53\n",
       "40583       5776.61\n",
       "116091      6169.20\n",
       "112899      6231.51\n",
       "            ...    \n",
       "37398     550000.00\n",
       "27236     550000.00\n",
       "56626     550000.00\n",
       "73271     550400.00\n",
       "59081     552000.00\n",
       "Name: price_aprox_usd, Length: 28731, dtype: float64"
      ]
     },
     "execution_count": 118,
     "metadata": {},
     "output_type": "execute_result"
    },
    {
     "data": {
      "text/plain": [
       "count      2511.000000\n",
       "mean     180400.514174\n",
       "std      124826.096933\n",
       "min        4952.450000\n",
       "25%       75738.975000\n",
       "50%      150000.000000\n",
       "75%      260000.000000\n",
       "max      490000.000000\n",
       "Name: price_aprox_usd, dtype: float64"
      ]
     },
     "execution_count": 118,
     "metadata": {},
     "output_type": "execute_result"
    },
    {
     "name": "stdout",
     "output_type": "stream",
     "text": [
      "\n",
      "\n"
     ]
    },
    {
     "data": {
      "text/plain": [
       "'CV:'"
      ]
     },
     "execution_count": 118,
     "metadata": {},
     "output_type": "execute_result"
    },
    {
     "data": {
      "text/plain": [
       "0.6919386982058691"
      ]
     },
     "execution_count": 118,
     "metadata": {},
     "output_type": "execute_result"
    },
    {
     "name": "stdout",
     "output_type": "stream",
     "text": [
      "\n",
      "\n"
     ]
    }
   ],
   "source": [
    "# Creo un dataset corregido para los precios en dolares de ph de acuerdo a los outliers que se ven en el boxplot (90% inicial)\n",
    "data_ph_corr = data_ph.loc[data_ph.price_aprox_usd <= data_ph.price_aprox_usd.quantile(0.90)]\n",
    "# Ahora veo la estadística descriptiva y el cv de los datos sin outliers (90% inicial)\n",
    "data_ph_corr.price_aprox_usd.describe(); print('\\n')\n",
    "'CV: '; data_ph_corr.price_aprox_usd.std() / data_ph_corr.price_aprox_usd.mean(); print('\\n')\n",
    "#sns.boxplot(data = data_ph_corr, x = 'price_aprox_usd', y = 'property_type')\n",
    "\n",
    "# Creo un dataset corregido para los precios en dolares de ap de acuerdo a los outliers que se ven en el boxplot (90% inicial)\n",
    "data_ap_corr = data_ap.loc[data_ap.price_aprox_usd <= data_ap.price_aprox_usd.quantile(0.83)]\n",
    "data_ap_corr.price_aprox_usd.describe(); print('\\n')\n",
    "'CV: '; data_ap_corr.price_aprox_usd.std() / data_ap_corr.price_aprox_usd.mean(); print('\\n')\n",
    "#sns.boxplot(data = data_ap_corr, x = 'price_aprox_usd', y = 'property_type', color = 'orange')\n",
    "\n",
    "# Creo un dataset corregido para los precios en dolares de ho de acuerdo a los outliers que se ven en el boxplot (90% inicial)\n",
    "data_ho_corr = data_ho.loc[data_ho.price_aprox_usd <= data_ho.price_aprox_usd.quantile(0.91)]\n",
    "data_ho_corr.price_aprox_usd.describe(); print('\\n')\n",
    "'CV: '; data_ho_corr.price_aprox_usd.std() / data_ho_corr.price_aprox_usd.mean(); print('\\n')\n",
    "#sns.boxplot(data = data_ho_corr, x = 'price_aprox_usd', y = 'property_type', color = 'green')\n",
    "# ELIMINAR EL PRIMER VALOR, QUE NO PUEDE SER CERO\n",
    "data_ho_corr.price_aprox_usd.sort_values()\n",
    "\n",
    "# Creo un dataset corregido para los precios en dolares de st de acuerdo a los outliers que se ven en el boxplot (90% inicial)\n",
    "data_st_corr = data_st.loc[data_st.price_aprox_usd <= data_st.price_aprox_usd.quantile(0.85)]\n",
    "data_st_corr.price_aprox_usd.describe(); print('\\n')\n",
    "'CV:'; data_st_corr.price_aprox_usd.std() / data_st_corr.price_aprox_usd.mean(); print('\\n')\n",
    "#sns.boxplot(data = data_st_corr, x = 'price_aprox_usd', y = 'property_type', color = 'darkred')"
   ]
  },
  {
   "cell_type": "code",
   "execution_count": 119,
   "metadata": {
    "colab": {
     "base_uri": "https://localhost:8080/"
    },
    "executionInfo": {
     "elapsed": 8,
     "status": "ok",
     "timestamp": 1651431247283,
     "user": {
      "displayName": "Maela Lombardi",
      "userId": "03936068368896012188"
     },
     "user_tz": 180
    },
    "id": "DahlbixTNvMz",
    "outputId": "d159306e-cc2b-42de-9212-590d06d563a8"
   },
   "outputs": [
    {
     "data": {
      "text/plain": [
       "(84880, 29)"
      ]
     },
     "execution_count": 119,
     "metadata": {},
     "output_type": "execute_result"
    }
   ],
   "source": [
    "# creo un nuevo dataset con los dataset por tipo de propiedad concatenados\n",
    "data_corr = pd.concat([data_ph_corr, data_ap_corr, data_st_corr,  data_ho_corr])\n",
    "data_corr.shape"
   ]
  },
  {
   "cell_type": "markdown",
   "metadata": {
    "id": "d036YL4NVUcu"
   },
   "source": [
    "Genero una nueva tabla dinámica con los valores de precio por m2 en usd con los datos sin outliers (debo tener en cuenta que pasamos de tener 120.000 registros a tener 87.000, cosa que no sé si es admisible)"
   ]
  },
  {
   "cell_type": "code",
   "execution_count": 120,
   "metadata": {
    "colab": {
     "base_uri": "https://localhost:8080/"
    },
    "executionInfo": {
     "elapsed": 7,
     "status": "ok",
     "timestamp": 1651431247283,
     "user": {
      "displayName": "Maela Lombardi",
      "userId": "03936068368896012188"
     },
     "user_tz": 180
    },
    "id": "cd_qGm1wVSG2",
    "outputId": "8581d692-bbed-4da4-f356-c96d2cc2672d"
   },
   "outputs": [
    {
     "data": {
      "text/html": [
       "<div>\n",
       "<style scoped>\n",
       "    .dataframe tbody tr th:only-of-type {\n",
       "        vertical-align: middle;\n",
       "    }\n",
       "\n",
       "    .dataframe tbody tr th {\n",
       "        vertical-align: top;\n",
       "    }\n",
       "\n",
       "    .dataframe thead tr th {\n",
       "        text-align: left;\n",
       "    }\n",
       "\n",
       "    .dataframe thead tr:last-of-type th {\n",
       "        text-align: right;\n",
       "    }\n",
       "</style>\n",
       "<table border=\"1\" class=\"dataframe\">\n",
       "  <thead>\n",
       "    <tr>\n",
       "      <th></th>\n",
       "      <th colspan=\"4\" halign=\"left\">price_usd_per_m2</th>\n",
       "    </tr>\n",
       "    <tr>\n",
       "      <th>property_type</th>\n",
       "      <th>PH</th>\n",
       "      <th>apartment</th>\n",
       "      <th>house</th>\n",
       "      <th>store</th>\n",
       "    </tr>\n",
       "    <tr>\n",
       "      <th>state_name</th>\n",
       "      <th></th>\n",
       "      <th></th>\n",
       "      <th></th>\n",
       "      <th></th>\n",
       "    </tr>\n",
       "  </thead>\n",
       "  <tbody>\n",
       "    <tr>\n",
       "      <th>Bs.As. G.B.A. Zona Norte</th>\n",
       "      <td>1384.74</td>\n",
       "      <td>2157.91</td>\n",
       "      <td>1151.15</td>\n",
       "      <td>1753.42</td>\n",
       "    </tr>\n",
       "    <tr>\n",
       "      <th>Bs.As. G.B.A. Zona Oeste</th>\n",
       "      <td>1141.32</td>\n",
       "      <td>1660.00</td>\n",
       "      <td>937.63</td>\n",
       "      <td>1486.88</td>\n",
       "    </tr>\n",
       "    <tr>\n",
       "      <th>Bs.As. G.B.A. Zona Sur</th>\n",
       "      <td>1097.52</td>\n",
       "      <td>1762.82</td>\n",
       "      <td>1083.24</td>\n",
       "      <td>1357.09</td>\n",
       "    </tr>\n",
       "    <tr>\n",
       "      <th>Buenos Aires Costa Atlántica</th>\n",
       "      <td>1137.11</td>\n",
       "      <td>1876.75</td>\n",
       "      <td>736.81</td>\n",
       "      <td>1415.69</td>\n",
       "    </tr>\n",
       "    <tr>\n",
       "      <th>Buenos Aires Interior</th>\n",
       "      <td>1019.89</td>\n",
       "      <td>1623.02</td>\n",
       "      <td>612.77</td>\n",
       "      <td>974.93</td>\n",
       "    </tr>\n",
       "    <tr>\n",
       "      <th>Capital Federal</th>\n",
       "      <td>1670.92</td>\n",
       "      <td>2451.82</td>\n",
       "      <td>1336.20</td>\n",
       "      <td>2434.53</td>\n",
       "    </tr>\n",
       "    <tr>\n",
       "      <th>Catamarca</th>\n",
       "      <td>NaN</td>\n",
       "      <td>NaN</td>\n",
       "      <td>556.05</td>\n",
       "      <td>NaN</td>\n",
       "    </tr>\n",
       "    <tr>\n",
       "      <th>Chaco</th>\n",
       "      <td>NaN</td>\n",
       "      <td>1264.47</td>\n",
       "      <td>701.17</td>\n",
       "      <td>NaN</td>\n",
       "    </tr>\n",
       "    <tr>\n",
       "      <th>Chubut</th>\n",
       "      <td>NaN</td>\n",
       "      <td>1800.92</td>\n",
       "      <td>1575.66</td>\n",
       "      <td>1264.58</td>\n",
       "    </tr>\n",
       "    <tr>\n",
       "      <th>Corrientes</th>\n",
       "      <td>1337.47</td>\n",
       "      <td>1902.18</td>\n",
       "      <td>1147.54</td>\n",
       "      <td>1381.19</td>\n",
       "    </tr>\n",
       "    <tr>\n",
       "      <th>Córdoba</th>\n",
       "      <td>873.07</td>\n",
       "      <td>1401.26</td>\n",
       "      <td>641.65</td>\n",
       "      <td>1458.50</td>\n",
       "    </tr>\n",
       "    <tr>\n",
       "      <th>Entre Ríos</th>\n",
       "      <td>NaN</td>\n",
       "      <td>1368.42</td>\n",
       "      <td>573.80</td>\n",
       "      <td>1007.27</td>\n",
       "    </tr>\n",
       "    <tr>\n",
       "      <th>Formosa</th>\n",
       "      <td>NaN</td>\n",
       "      <td>1509.65</td>\n",
       "      <td>NaN</td>\n",
       "      <td>NaN</td>\n",
       "    </tr>\n",
       "    <tr>\n",
       "      <th>Jujuy</th>\n",
       "      <td>NaN</td>\n",
       "      <td>1682.51</td>\n",
       "      <td>210.31</td>\n",
       "      <td>NaN</td>\n",
       "    </tr>\n",
       "    <tr>\n",
       "      <th>La Pampa</th>\n",
       "      <td>NaN</td>\n",
       "      <td>1305.02</td>\n",
       "      <td>858.32</td>\n",
       "      <td>616.92</td>\n",
       "    </tr>\n",
       "    <tr>\n",
       "      <th>La Rioja</th>\n",
       "      <td>NaN</td>\n",
       "      <td>NaN</td>\n",
       "      <td>243.03</td>\n",
       "      <td>NaN</td>\n",
       "    </tr>\n",
       "    <tr>\n",
       "      <th>Mendoza</th>\n",
       "      <td>900.00</td>\n",
       "      <td>1577.64</td>\n",
       "      <td>878.59</td>\n",
       "      <td>1383.94</td>\n",
       "    </tr>\n",
       "    <tr>\n",
       "      <th>Misiones</th>\n",
       "      <td>1154.66</td>\n",
       "      <td>1288.17</td>\n",
       "      <td>459.63</td>\n",
       "      <td>9.88</td>\n",
       "    </tr>\n",
       "    <tr>\n",
       "      <th>Neuquén</th>\n",
       "      <td>2313.66</td>\n",
       "      <td>1800.20</td>\n",
       "      <td>900.32</td>\n",
       "      <td>1637.02</td>\n",
       "    </tr>\n",
       "    <tr>\n",
       "      <th>Río Negro</th>\n",
       "      <td>1284.28</td>\n",
       "      <td>1817.51</td>\n",
       "      <td>1277.01</td>\n",
       "      <td>1317.84</td>\n",
       "    </tr>\n",
       "    <tr>\n",
       "      <th>Salta</th>\n",
       "      <td>NaN</td>\n",
       "      <td>1353.70</td>\n",
       "      <td>555.04</td>\n",
       "      <td>179.47</td>\n",
       "    </tr>\n",
       "    <tr>\n",
       "      <th>San Juan</th>\n",
       "      <td>NaN</td>\n",
       "      <td>NaN</td>\n",
       "      <td>105.00</td>\n",
       "      <td>NaN</td>\n",
       "    </tr>\n",
       "    <tr>\n",
       "      <th>San Luis</th>\n",
       "      <td>NaN</td>\n",
       "      <td>902.53</td>\n",
       "      <td>741.58</td>\n",
       "      <td>1284.39</td>\n",
       "    </tr>\n",
       "    <tr>\n",
       "      <th>Santa Cruz</th>\n",
       "      <td>NaN</td>\n",
       "      <td>NaN</td>\n",
       "      <td>725.06</td>\n",
       "      <td>420.63</td>\n",
       "    </tr>\n",
       "    <tr>\n",
       "      <th>Santa Fe</th>\n",
       "      <td>1204.61</td>\n",
       "      <td>1655.64</td>\n",
       "      <td>776.01</td>\n",
       "      <td>1719.89</td>\n",
       "    </tr>\n",
       "    <tr>\n",
       "      <th>Santiago Del Estero</th>\n",
       "      <td>NaN</td>\n",
       "      <td>513.31</td>\n",
       "      <td>148.00</td>\n",
       "      <td>NaN</td>\n",
       "    </tr>\n",
       "    <tr>\n",
       "      <th>Tierra Del Fuego</th>\n",
       "      <td>NaN</td>\n",
       "      <td>1527.39</td>\n",
       "      <td>769.87</td>\n",
       "      <td>1001.49</td>\n",
       "    </tr>\n",
       "    <tr>\n",
       "      <th>Tucumán</th>\n",
       "      <td>1329.82</td>\n",
       "      <td>952.28</td>\n",
       "      <td>646.50</td>\n",
       "      <td>600.30</td>\n",
       "    </tr>\n",
       "  </tbody>\n",
       "</table>\n",
       "</div>"
      ],
      "text/plain": [
       "                             price_usd_per_m2                            \n",
       "property_type                              PH apartment    house    store\n",
       "state_name                                                               \n",
       "Bs.As. G.B.A. Zona Norte              1384.74   2157.91  1151.15  1753.42\n",
       "Bs.As. G.B.A. Zona Oeste              1141.32   1660.00   937.63  1486.88\n",
       "Bs.As. G.B.A. Zona Sur                1097.52   1762.82  1083.24  1357.09\n",
       "Buenos Aires Costa Atlántica          1137.11   1876.75   736.81  1415.69\n",
       "Buenos Aires Interior                 1019.89   1623.02   612.77   974.93\n",
       "Capital Federal                       1670.92   2451.82  1336.20  2434.53\n",
       "Catamarca                                 NaN       NaN   556.05      NaN\n",
       "Chaco                                     NaN   1264.47   701.17      NaN\n",
       "Chubut                                    NaN   1800.92  1575.66  1264.58\n",
       "Corrientes                            1337.47   1902.18  1147.54  1381.19\n",
       "Córdoba                                873.07   1401.26   641.65  1458.50\n",
       "Entre Ríos                                NaN   1368.42   573.80  1007.27\n",
       "Formosa                                   NaN   1509.65      NaN      NaN\n",
       "Jujuy                                     NaN   1682.51   210.31      NaN\n",
       "La Pampa                                  NaN   1305.02   858.32   616.92\n",
       "La Rioja                                  NaN       NaN   243.03      NaN\n",
       "Mendoza                                900.00   1577.64   878.59  1383.94\n",
       "Misiones                              1154.66   1288.17   459.63     9.88\n",
       "Neuquén                               2313.66   1800.20   900.32  1637.02\n",
       "Río Negro                             1284.28   1817.51  1277.01  1317.84\n",
       "Salta                                     NaN   1353.70   555.04   179.47\n",
       "San Juan                                  NaN       NaN   105.00      NaN\n",
       "San Luis                                  NaN    902.53   741.58  1284.39\n",
       "Santa Cruz                                NaN       NaN   725.06   420.63\n",
       "Santa Fe                              1204.61   1655.64   776.01  1719.89\n",
       "Santiago Del Estero                       NaN    513.31   148.00      NaN\n",
       "Tierra Del Fuego                          NaN   1527.39   769.87  1001.49\n",
       "Tucumán                               1329.82    952.28   646.50   600.30"
      ]
     },
     "execution_count": 120,
     "metadata": {},
     "output_type": "execute_result"
    }
   ],
   "source": [
    "round(data_corr.pivot_table(index='state_name', columns='property_type',\n",
    "                    aggfunc={ 'price_usd_per_m2':'mean'}),2)"
   ]
  },
  {
   "cell_type": "markdown",
   "metadata": {
    "id": "Ln1f4wsg36Kq"
   },
   "source": [
    "# **Imputaciones**\n"
   ]
  },
  {
   "cell_type": "markdown",
   "metadata": {
    "id": "5us__nDgReat"
   },
   "source": [
    "### Columnas lat y lon: \n",
    "hago un merge entre data y dataAR para completar los valores de lat y lon en el caso que se pueda (acá genero un nuevo dataset data_dataAR, podría ver de hacerlo en el mismo y seguir teniendo data como dataset)."
   ]
  },
  {
   "cell_type": "code",
   "execution_count": 123,
   "metadata": {
    "colab": {
     "base_uri": "https://localhost:8080/"
    },
    "executionInfo": {
     "elapsed": 12,
     "status": "ok",
     "timestamp": 1651431247649,
     "user": {
      "displayName": "Maela Lombardi",
      "userId": "03936068368896012188"
     },
     "user_tz": 180
    },
    "id": "m-mbrcfOQtqY",
    "outputId": "581b9692-c3e0-4269-db91-ec936b348c4a"
   },
   "outputs": [
    {
     "name": "stdout",
     "output_type": "stream",
     "text": [
      "53946\n",
      "58491\n"
     ]
    }
   ],
   "source": [
    "#chequeo la cantidad de nulls en las columnas lat y lon\n",
    "print(data[\"lat\"].isnull().sum())\n",
    "print(data[\"lon\"].isnull().sum())"
   ]
  },
  {
   "cell_type": "code",
   "execution_count": 124,
   "metadata": {
    "colab": {
     "base_uri": "https://localhost:8080/"
    },
    "executionInfo": {
     "elapsed": 11,
     "status": "ok",
     "timestamp": 1651431247649,
     "user": {
      "displayName": "Maela Lombardi",
      "userId": "03936068368896012188"
     },
     "user_tz": 180
    },
    "id": "lzwSg4hMI7Yy",
    "outputId": "0f28f55f-4bd7-43fb-f3db-f75c0e0b0169"
   },
   "outputs": [
    {
     "name": "stdout",
     "output_type": "stream",
     "text": [
      "(121633, 33)\n",
      "Index(['Unnamed: 0', 'operation', 'property_type', 'place_name',\n",
      "       'place_with_parent_names', 'country_name', 'state_name', 'geonames_id',\n",
      "       'lat-lon', 'lat', 'lon', 'price', 'currency',\n",
      "       'price_aprox_local_currency', 'price_aprox_usd', 'surface_total_in_m2',\n",
      "       'surface_covered_in_m2', 'price_usd_per_m2', 'price_per_m2', 'floor',\n",
      "       'rooms', 'expenses', 'properati_url', 'description', 'title',\n",
      "       'image_thumbnail', 'agrupado', 'tipodecambio_implicito',\n",
      "       'nivel_de_expensas', 'place_name2', 'Lat', 'Lon', 'Pais'],\n",
      "      dtype='object')\n"
     ]
    }
   ],
   "source": [
    "#hago un merge entre el dataset de properati y dataAR creando un nuevo dataset\n",
    "data_AR = pd.merge(data, dataAR, how=\"left\")\n",
    "print(data_AR.shape)\n",
    "print(data_AR.columns)"
   ]
  },
  {
   "cell_type": "code",
   "execution_count": 125,
   "metadata": {
    "id": "zWogxGCGP-Rp"
   },
   "outputs": [],
   "source": [
    "#relleno los nulls de lat y lon en properati, con los valores de Lat y Lon traídas del dataset nuevo \n",
    "data[\"lat\"].fillna(dataAR[\"Lat\"], inplace=True)\n",
    "data[\"lon\"].fillna(dataAR[\"Lon\"], inplace=True)\n"
   ]
  },
  {
   "cell_type": "code",
   "execution_count": 126,
   "metadata": {
    "colab": {
     "base_uri": "https://localhost:8080/"
    },
    "executionInfo": {
     "elapsed": 7,
     "status": "ok",
     "timestamp": 1651431247649,
     "user": {
      "displayName": "Maela Lombardi",
      "userId": "03936068368896012188"
     },
     "user_tz": 180
    },
    "id": "dcwxDASJRHRe",
    "outputId": "0d701aa5-3b10-465a-831c-597f9c028c82"
   },
   "outputs": [
    {
     "name": "stdout",
     "output_type": "stream",
     "text": [
      "43821\n",
      "45898\n"
     ]
    }
   ],
   "source": [
    "#chequeo nuevamente nulls en lat y lon\n",
    "print(data[\"lat\"].isnull().sum())\n",
    "print(data[\"lon\"].isnull().sum())"
   ]
  },
  {
   "cell_type": "code",
   "execution_count": 127,
   "metadata": {
    "colab": {
     "base_uri": "https://localhost:8080/"
    },
    "executionInfo": {
     "elapsed": 6,
     "status": "ok",
     "timestamp": 1651431247650,
     "user": {
      "displayName": "Maela Lombardi",
      "userId": "03936068368896012188"
     },
     "user_tz": 180
    },
    "id": "hChaTTie1u4M",
    "outputId": "868458bb-8180-47f2-ce34-4dec2fbe95da"
   },
   "outputs": [
    {
     "data": {
      "text/plain": [
       "Index(['Unnamed: 0', 'operation', 'property_type', 'place_name',\n",
       "       'place_with_parent_names', 'country_name', 'state_name', 'geonames_id',\n",
       "       'lat-lon', 'lat', 'lon', 'price', 'currency',\n",
       "       'price_aprox_local_currency', 'price_aprox_usd', 'surface_total_in_m2',\n",
       "       'surface_covered_in_m2', 'price_usd_per_m2', 'price_per_m2', 'floor',\n",
       "       'rooms', 'expenses', 'properati_url', 'description', 'title',\n",
       "       'image_thumbnail', 'agrupado', 'tipodecambio_implicito',\n",
       "       'nivel_de_expensas'],\n",
       "      dtype='object')"
      ]
     },
     "execution_count": 127,
     "metadata": {},
     "output_type": "execute_result"
    }
   ],
   "source": [
    "data.columns"
   ]
  },
  {
   "cell_type": "markdown",
   "metadata": {
    "id": "YtKfSxatXg7r"
   },
   "source": [
    "### completo valores de rooms con información del title, o properati_url o description"
   ]
  },
  {
   "cell_type": "markdown",
   "metadata": {
    "id": "-L1OncnfnQac"
   },
   "source": [
    "será posible sacar el número de rooms del titulo de la publicación? cuando haya datos de la cantidad de ambientes? sabiendo que rooms = ambientes - 1"
   ]
  },
  {
   "cell_type": "code",
   "execution_count": 128,
   "metadata": {
    "colab": {
     "base_uri": "https://localhost:8080/"
    },
    "executionInfo": {
     "elapsed": 390,
     "status": "ok",
     "timestamp": 1651431248036,
     "user": {
      "displayName": "Maela Lombardi",
      "userId": "03936068368896012188"
     },
     "user_tz": 180
    },
    "id": "-fbxLenFnHoU",
    "outputId": "b710c021-2fc0-4c61-83bb-8ab5b0b5e932"
   },
   "outputs": [
    {
     "data": {
      "text/plain": [
       "array(['2 AMB TIPO CASA SIN EXPENSAS EN PB',\n",
       "       'VENTA Depto 2 dorm. a estrenar 7 e/ 36 y 37               ',\n",
       "       '2 AMB 3ER PISO CON ASCENSOR APTO CREDITO', ...,\n",
       "       'Torre Forum Alcorta- Impecable 3 ambientes',\n",
       "       'VENTA DEPARTAMENTO AMBIENTE DIVISIBLE A ESTRENAR BALCON AMENITIES.',\n",
       "       'Departamento apto profesional en el Centro'], dtype=object)"
      ]
     },
     "execution_count": 128,
     "metadata": {},
     "output_type": "execute_result"
    }
   ],
   "source": [
    "#exploro tipo de datos de la columnas\n",
    "data[\"title\"].unique()"
   ]
  },
  {
   "cell_type": "code",
   "execution_count": 129,
   "metadata": {
    "colab": {
     "base_uri": "https://localhost:8080/"
    },
    "executionInfo": {
     "elapsed": 7,
     "status": "ok",
     "timestamp": 1651431248036,
     "user": {
      "displayName": "Maela Lombardi",
      "userId": "03936068368896012188"
     },
     "user_tz": 180
    },
    "id": "CTErizVkP-VB",
    "outputId": "08f35fc5-bf90-4683-a28e-abe2706a8a1d"
   },
   "outputs": [
    {
     "data": {
      "text/plain": [
       "75081"
      ]
     },
     "execution_count": 129,
     "metadata": {},
     "output_type": "execute_result"
    }
   ],
   "source": [
    "# busco el patrón numero espacio \"amb\" o \"AMB\" en la columna title y reemplazo el número obtenido menos 1 en la columna rooms\n",
    "import re\n",
    "patron = \"(?P<numero>\\d+)(\\s+)(AMB*|amb*)\"\n",
    "regex = re.compile(patron)\n",
    "serie = data.title\n",
    "resultado = serie.apply(lambda x: regex.match(x))\n",
    "#resultado.unique()\n",
    "\n",
    "ambientes = resultado.apply(lambda x: x if x is None else x.group('numero'))\n",
    "ambientes_regex = ambientes.astype(float) -1\n",
    "data[\"rooms\"].fillna(ambientes_regex, inplace=True)\n",
    "data[\"rooms\"].isnull().sum()"
   ]
  },
  {
   "cell_type": "code",
   "execution_count": 130,
   "metadata": {
    "colab": {
     "base_uri": "https://localhost:8080/"
    },
    "executionInfo": {
     "elapsed": 6,
     "status": "ok",
     "timestamp": 1651431248037,
     "user": {
      "displayName": "Maela Lombardi",
      "userId": "03936068368896012188"
     },
     "user_tz": 180
    },
    "id": "39Gnra4kV61h",
    "outputId": "e2f7e3be-d007-4cb6-c45f-28c2007f2d9f"
   },
   "outputs": [
    {
     "data": {
      "text/plain": [
       "74962"
      ]
     },
     "execution_count": 130,
     "metadata": {},
     "output_type": "execute_result"
    }
   ],
   "source": [
    "#creo un nuevo patrón para dormitorio, en la columna description y reemplazo el número obtenido en la columna rooms\n",
    "patron2 = \"(?P<numero>\\d+)(\\s+)(DORM*|dorm*)\"\n",
    "regex2 = re.compile(patron2)\n",
    "serie2 = data.description\n",
    "resultado2 = serie.apply(lambda x: regex2.match(x))\n",
    "#resultado2.unique()\n",
    "\n",
    "dormitorios = resultado2.apply(lambda x: x if x is None else x.group('numero'))\n",
    "dormitorios_regex= dormitorios.astype(float)\n",
    "data[\"rooms\"].fillna(dormitorios_regex, inplace=True)\n",
    "data[\"rooms\"].isnull().sum()"
   ]
  },
  {
   "cell_type": "markdown",
   "metadata": {
    "id": "uokxebo8X6i0"
   },
   "source": [
    "Resultado: no mejoran considerablemente la cantidad de nulos completados. Hay que ver si es error de expresión regular u otro motivo."
   ]
  },
  {
   "cell_type": "markdown",
   "metadata": {
    "id": "ZI-vZGEyS6ez"
   },
   "source": [
    "## Imputación de price_usd_per_m2 usando medianas sacadas con groupby de lugares y tipo de propiedad"
   ]
  },
  {
   "cell_type": "code",
   "execution_count": 131,
   "metadata": {
    "colab": {
     "base_uri": "https://localhost:8080/",
     "height": 514
    },
    "executionInfo": {
     "elapsed": 944,
     "status": "ok",
     "timestamp": 1651431248978,
     "user": {
      "displayName": "Maela Lombardi",
      "userId": "03936068368896012188"
     },
     "user_tz": 180
    },
    "id": "iLo8yIrlS5Yn",
    "outputId": "1a1d7377-03dd-42d8-d623-696e7c827935"
   },
   "outputs": [
    {
     "data": {
      "text/plain": [
       "0"
      ]
     },
     "execution_count": 131,
     "metadata": {},
     "output_type": "execute_result"
    },
    {
     "data": {
      "text/plain": [
       "0"
      ]
     },
     "execution_count": 131,
     "metadata": {},
     "output_type": "execute_result"
    },
    {
     "data": {
      "text/plain": [
       "0"
      ]
     },
     "execution_count": 131,
     "metadata": {},
     "output_type": "execute_result"
    },
    {
     "data": {
      "text/plain": [
       "23"
      ]
     },
     "execution_count": 131,
     "metadata": {},
     "output_type": "execute_result"
    },
    {
     "data": {
      "text/html": [
       "<div>\n",
       "<style scoped>\n",
       "    .dataframe tbody tr th:only-of-type {\n",
       "        vertical-align: middle;\n",
       "    }\n",
       "\n",
       "    .dataframe tbody tr th {\n",
       "        vertical-align: top;\n",
       "    }\n",
       "\n",
       "    .dataframe thead th {\n",
       "        text-align: right;\n",
       "    }\n",
       "</style>\n",
       "<table border=\"1\" class=\"dataframe\">\n",
       "  <thead>\n",
       "    <tr style=\"text-align: right;\">\n",
       "      <th></th>\n",
       "      <th>Unnamed: 0</th>\n",
       "      <th>operation</th>\n",
       "      <th>property_type</th>\n",
       "      <th>place_name</th>\n",
       "      <th>place_with_parent_names</th>\n",
       "      <th>country_name</th>\n",
       "      <th>state_name</th>\n",
       "      <th>geonames_id</th>\n",
       "      <th>lat-lon</th>\n",
       "      <th>lat</th>\n",
       "      <th>...</th>\n",
       "      <th>floor</th>\n",
       "      <th>rooms</th>\n",
       "      <th>expenses</th>\n",
       "      <th>properati_url</th>\n",
       "      <th>description</th>\n",
       "      <th>title</th>\n",
       "      <th>image_thumbnail</th>\n",
       "      <th>agrupado</th>\n",
       "      <th>tipodecambio_implicito</th>\n",
       "      <th>nivel_de_expensas</th>\n",
       "    </tr>\n",
       "  </thead>\n",
       "  <tbody>\n",
       "    <tr>\n",
       "      <th>6489</th>\n",
       "      <td>6489</td>\n",
       "      <td>sell</td>\n",
       "      <td>house</td>\n",
       "      <td>NaN</td>\n",
       "      <td>|Argentina|Bs.As. G.B.A. Zona Norte|Tigre||</td>\n",
       "      <td>Argentina</td>\n",
       "      <td>Bs.As. G.B.A. Zona Norte</td>\n",
       "      <td>NaN</td>\n",
       "      <td>-34.4008968545,-58.63809847</td>\n",
       "      <td>-34.400897</td>\n",
       "      <td>...</td>\n",
       "      <td>NaN</td>\n",
       "      <td>NaN</td>\n",
       "      <td>NaN</td>\n",
       "      <td>http://www.properati.com.ar/15ui7_venta_casa_t...</td>\n",
       "      <td>Espectacular casa moderna de una planta, con a...</td>\n",
       "      <td>Venta de casa en Santa María de Tigre</td>\n",
       "      <td>https://thumbs4.properati.com/7/vQjgbHSz1fKXxy...</td>\n",
       "      <td>NaN</td>\n",
       "      <td>17.6445</td>\n",
       "      <td>NaN</td>\n",
       "    </tr>\n",
       "    <tr>\n",
       "      <th>10201</th>\n",
       "      <td>10201</td>\n",
       "      <td>sell</td>\n",
       "      <td>house</td>\n",
       "      <td>NaN</td>\n",
       "      <td>|Argentina|Bs.As. G.B.A. Zona Norte|Tigre||</td>\n",
       "      <td>Argentina</td>\n",
       "      <td>Bs.As. G.B.A. Zona Norte</td>\n",
       "      <td>NaN</td>\n",
       "      <td>-34.400704,-58.638067</td>\n",
       "      <td>-34.400704</td>\n",
       "      <td>...</td>\n",
       "      <td>NaN</td>\n",
       "      <td>5.0</td>\n",
       "      <td>NaN</td>\n",
       "      <td>http://www.properati.com.ar/166p5_venta_casa_t...</td>\n",
       "      <td>Corredor Responsable: SABRINA COCCONI - CSI 62...</td>\n",
       "      <td>VENTA CASA SANTA MARÍA DE TIGRE COUNTRY BARRIO...</td>\n",
       "      <td>https://thumbs4.properati.com/1/FABpKIJMaoAO3t...</td>\n",
       "      <td>NaN</td>\n",
       "      <td>17.6445</td>\n",
       "      <td>NaN</td>\n",
       "    </tr>\n",
       "    <tr>\n",
       "      <th>11451</th>\n",
       "      <td>11451</td>\n",
       "      <td>sell</td>\n",
       "      <td>house</td>\n",
       "      <td>NaN</td>\n",
       "      <td>|Argentina|Bs.As. G.B.A. Zona Norte|Tigre||</td>\n",
       "      <td>Argentina</td>\n",
       "      <td>Bs.As. G.B.A. Zona Norte</td>\n",
       "      <td>NaN</td>\n",
       "      <td>-34.4026880384,-58.6262613379</td>\n",
       "      <td>-34.402688</td>\n",
       "      <td>...</td>\n",
       "      <td>NaN</td>\n",
       "      <td>NaN</td>\n",
       "      <td>NaN</td>\n",
       "      <td>http://www.properati.com.ar/16bpd_venta_casa_t...</td>\n",
       "      <td>MUY LINDA CASA EN EXCELENTE UBICACION!! Superf...</td>\n",
       "      <td>SANTA MARIA DE TIGRE IMPECABLE</td>\n",
       "      <td>https://thumbs4.properati.com/5/fwH9L71hW2rW7V...</td>\n",
       "      <td>NaN</td>\n",
       "      <td>17.6445</td>\n",
       "      <td>NaN</td>\n",
       "    </tr>\n",
       "  </tbody>\n",
       "</table>\n",
       "<p>3 rows × 29 columns</p>\n",
       "</div>"
      ],
      "text/plain": [
       "       Unnamed: 0 operation property_type place_name  \\\n",
       "6489         6489      sell         house        NaN   \n",
       "10201       10201      sell         house        NaN   \n",
       "11451       11451      sell         house        NaN   \n",
       "\n",
       "                           place_with_parent_names country_name  \\\n",
       "6489   |Argentina|Bs.As. G.B.A. Zona Norte|Tigre||    Argentina   \n",
       "10201  |Argentina|Bs.As. G.B.A. Zona Norte|Tigre||    Argentina   \n",
       "11451  |Argentina|Bs.As. G.B.A. Zona Norte|Tigre||    Argentina   \n",
       "\n",
       "                     state_name  geonames_id                        lat-lon  \\\n",
       "6489   Bs.As. G.B.A. Zona Norte          NaN    -34.4008968545,-58.63809847   \n",
       "10201  Bs.As. G.B.A. Zona Norte          NaN          -34.400704,-58.638067   \n",
       "11451  Bs.As. G.B.A. Zona Norte          NaN  -34.4026880384,-58.6262613379   \n",
       "\n",
       "             lat  ...  floor  rooms expenses  \\\n",
       "6489  -34.400897  ...    NaN    NaN      NaN   \n",
       "10201 -34.400704  ...    NaN    5.0      NaN   \n",
       "11451 -34.402688  ...    NaN    NaN      NaN   \n",
       "\n",
       "                                           properati_url  \\\n",
       "6489   http://www.properati.com.ar/15ui7_venta_casa_t...   \n",
       "10201  http://www.properati.com.ar/166p5_venta_casa_t...   \n",
       "11451  http://www.properati.com.ar/16bpd_venta_casa_t...   \n",
       "\n",
       "                                             description  \\\n",
       "6489   Espectacular casa moderna de una planta, con a...   \n",
       "10201  Corredor Responsable: SABRINA COCCONI - CSI 62...   \n",
       "11451  MUY LINDA CASA EN EXCELENTE UBICACION!! Superf...   \n",
       "\n",
       "                                                   title  \\\n",
       "6489               Venta de casa en Santa María de Tigre   \n",
       "10201  VENTA CASA SANTA MARÍA DE TIGRE COUNTRY BARRIO...   \n",
       "11451                     SANTA MARIA DE TIGRE IMPECABLE   \n",
       "\n",
       "                                         image_thumbnail  agrupado  \\\n",
       "6489   https://thumbs4.properati.com/7/vQjgbHSz1fKXxy...       NaN   \n",
       "10201  https://thumbs4.properati.com/1/FABpKIJMaoAO3t...       NaN   \n",
       "11451  https://thumbs4.properati.com/5/fwH9L71hW2rW7V...       NaN   \n",
       "\n",
       "       tipodecambio_implicito  nivel_de_expensas  \n",
       "6489                  17.6445                NaN  \n",
       "10201                 17.6445                NaN  \n",
       "11451                 17.6445                NaN  \n",
       "\n",
       "[3 rows x 29 columns]"
      ]
     },
     "execution_count": 131,
     "metadata": {},
     "output_type": "execute_result"
    }
   ],
   "source": [
    "# Creo tantas variables como niveles tiene la columna place_with_parent_names procurando no meter valores vacíos tipo '' o ' '. \n",
    "#En cada columna pongo nan (np.NaN) si no hay valor en ese nivel.\n",
    "pais = data.place_with_parent_names.apply(lambda x: x.split('|')[1] if (len(x.split('|')) >= 2 and x.split('|')[1] != '') else np.NaN)\n",
    "provincia = data.place_with_parent_names.apply(lambda x: x.split('|')[2] if (len(x.split('|')) >= 3 and x.split('|')[2] != '') else np.NaN)\n",
    "localidad = data.place_with_parent_names.apply(lambda x: x.split('|')[3] if (len(x.split('|')) >= 4 and x.split('|')[3] != '') else np.NaN)\n",
    "barrio = data.place_with_parent_names.apply(lambda x: x.split('|')[4] if (len(x.split('|')) >= 5 and x.split('|')[4] != '') else np.NaN)\n",
    "barrio_1 = data.place_with_parent_names.apply(lambda x: x.split('|')[5] if (len(x.split('|')) >= 6 and x.split('|')[5] != '') else np.NaN)\n",
    "\n",
    "# Chequeo si las columnas nativas son iguales a las creadas de nuevo, al menos las superiores\n",
    "(data.country_name != pais).sum()\n",
    "(data.state_name != provincia).sum()\n",
    "\n",
    "# Para las columnas que no son iguales o no tienen contraparte (place_name tiene la granularidad más fina por observación, con una mezcla de provincias, localidades y barrios) \n",
    "#hago la suma de sus componentes para ver si completamos el total de observaciones (121220).\n",
    "provincia.loc[localidad.isnull()].notnull().sum() + localidad.loc[barrio.isnull()].notnull().sum() + barrio.loc[barrio_1.isnull()].notnull().sum() + barrio_1.notnull().sum() - len(data)\n",
    "\n",
    "# Chequeo que place_name tampoco tenga nulos.\n",
    "data.place_name.isnull().sum()\n",
    "\n",
    "# Como sí tiene, miro cuáles son y con qué debería estar completo\n",
    "data.loc[data.place_name.isnull()].head(3)"
   ]
  },
  {
   "cell_type": "code",
   "execution_count": 132,
   "metadata": {
    "id": "1CN7V2fxTPOW"
   },
   "outputs": [],
   "source": [
    "# Agrego las columnas de lugares desagregados al dataframe original\n",
    "data['s_pais'], data['s_provincia'], data['s_localidad'], data['s_barrio'], data['s_barrio_1'] = pais, provincia, localidad, barrio, barrio_1"
   ]
  },
  {
   "cell_type": "code",
   "execution_count": 133,
   "metadata": {
    "colab": {
     "base_uri": "https://localhost:8080/"
    },
    "executionInfo": {
     "elapsed": 3445,
     "status": "ok",
     "timestamp": 1651431252420,
     "user": {
      "displayName": "Maela Lombardi",
      "userId": "03936068368896012188"
     },
     "user_tz": 180
    },
    "id": "-RNIw6GPTgBc",
    "outputId": "643c77d6-d2cd-44f4-de7c-dce5cbf0ccf1"
   },
   "outputs": [
    {
     "data": {
      "text/plain": [
       "Series([], Name: place_name, dtype: object)"
      ]
     },
     "execution_count": 133,
     "metadata": {},
     "output_type": "execute_result"
    }
   ],
   "source": [
    "# Chequeo que todo lo que hay en place_name esté en las nuevas columnas accesorias\n",
    "data.place_name.loc[data.apply(lambda x: np.NaN if x['place_name'] == x['s_barrio_1'] else (np.NaN if x['place_name'] == x['s_barrio'] else (np.NaN if x['place_name'] == x['s_localidad'] else (np.NaN if x['place_name'] == x['s_provincia'] else x['place_name']))), axis = 1).notnull()]"
   ]
  },
  {
   "cell_type": "code",
   "execution_count": 134,
   "metadata": {
    "id": "aShoyM4iTjl1"
   },
   "outputs": [],
   "source": [
    "# Creo una nueva columna que tenga lo más fino de los lugares por observación, en parte para imputar los nans de place_name, y en parte para corroborar que place_name tenga en realidad lo más fino y no algún nivel superior\n",
    "data['s_place_name'] = data.apply(lambda x: x['s_barrio_1'] if x['s_barrio_1'] is not np.NaN else (x['s_barrio'] if x['s_barrio'] is not np.NaN else (x['s_localidad'] if x['s_localidad'] is not np.NaN else (x['s_provincia'] if x['s_provincia'] is not np.NaN else x['pais']))), axis = 1)"
   ]
  },
  {
   "cell_type": "code",
   "execution_count": 135,
   "metadata": {
    "colab": {
     "base_uri": "https://localhost:8080/",
     "height": 788
    },
    "executionInfo": {
     "elapsed": 14,
     "status": "ok",
     "timestamp": 1651431255017,
     "user": {
      "displayName": "Maela Lombardi",
      "userId": "03936068368896012188"
     },
     "user_tz": 180
    },
    "id": "tpRMnDweTm0m",
    "outputId": "0088a64d-095e-491e-ef55-f8335e6d4384"
   },
   "outputs": [
    {
     "data": {
      "text/plain": [
       "0"
      ]
     },
     "execution_count": 135,
     "metadata": {},
     "output_type": "execute_result"
    },
    {
     "data": {
      "text/plain": [
       "23"
      ]
     },
     "execution_count": 135,
     "metadata": {},
     "output_type": "execute_result"
    },
    {
     "data": {
      "text/html": [
       "<div>\n",
       "<style scoped>\n",
       "    .dataframe tbody tr th:only-of-type {\n",
       "        vertical-align: middle;\n",
       "    }\n",
       "\n",
       "    .dataframe tbody tr th {\n",
       "        vertical-align: top;\n",
       "    }\n",
       "\n",
       "    .dataframe thead th {\n",
       "        text-align: right;\n",
       "    }\n",
       "</style>\n",
       "<table border=\"1\" class=\"dataframe\">\n",
       "  <thead>\n",
       "    <tr style=\"text-align: right;\">\n",
       "      <th></th>\n",
       "      <th>place_name</th>\n",
       "      <th>place_with_parent_names</th>\n",
       "      <th>s_place_name</th>\n",
       "    </tr>\n",
       "  </thead>\n",
       "  <tbody>\n",
       "    <tr>\n",
       "      <th>6489</th>\n",
       "      <td>NaN</td>\n",
       "      <td>|Argentina|Bs.As. G.B.A. Zona Norte|Tigre||</td>\n",
       "      <td>Tigre</td>\n",
       "    </tr>\n",
       "    <tr>\n",
       "      <th>10201</th>\n",
       "      <td>NaN</td>\n",
       "      <td>|Argentina|Bs.As. G.B.A. Zona Norte|Tigre||</td>\n",
       "      <td>Tigre</td>\n",
       "    </tr>\n",
       "    <tr>\n",
       "      <th>11451</th>\n",
       "      <td>NaN</td>\n",
       "      <td>|Argentina|Bs.As. G.B.A. Zona Norte|Tigre||</td>\n",
       "      <td>Tigre</td>\n",
       "    </tr>\n",
       "    <tr>\n",
       "      <th>14839</th>\n",
       "      <td>NaN</td>\n",
       "      <td>|Argentina|Bs.As. G.B.A. Zona Norte|Tigre||</td>\n",
       "      <td>Tigre</td>\n",
       "    </tr>\n",
       "    <tr>\n",
       "      <th>18622</th>\n",
       "      <td>NaN</td>\n",
       "      <td>|Argentina|Bs.As. G.B.A. Zona Norte|Tigre||</td>\n",
       "      <td>Tigre</td>\n",
       "    </tr>\n",
       "    <tr>\n",
       "      <th>21922</th>\n",
       "      <td>NaN</td>\n",
       "      <td>|Argentina|Bs.As. G.B.A. Zona Norte|Tigre||</td>\n",
       "      <td>Tigre</td>\n",
       "    </tr>\n",
       "    <tr>\n",
       "      <th>23664</th>\n",
       "      <td>NaN</td>\n",
       "      <td>|Argentina|Bs.As. G.B.A. Zona Norte|Tigre||</td>\n",
       "      <td>Tigre</td>\n",
       "    </tr>\n",
       "    <tr>\n",
       "      <th>24722</th>\n",
       "      <td>NaN</td>\n",
       "      <td>|Argentina|Bs.As. G.B.A. Zona Norte|Tigre||</td>\n",
       "      <td>Tigre</td>\n",
       "    </tr>\n",
       "    <tr>\n",
       "      <th>38856</th>\n",
       "      <td>NaN</td>\n",
       "      <td>|Argentina|Bs.As. G.B.A. Zona Norte|Tigre||</td>\n",
       "      <td>Tigre</td>\n",
       "    </tr>\n",
       "    <tr>\n",
       "      <th>45970</th>\n",
       "      <td>NaN</td>\n",
       "      <td>|Argentina|Bs.As. G.B.A. Zona Norte|Tigre||</td>\n",
       "      <td>Tigre</td>\n",
       "    </tr>\n",
       "    <tr>\n",
       "      <th>46642</th>\n",
       "      <td>NaN</td>\n",
       "      <td>|Argentina|Bs.As. G.B.A. Zona Norte|Tigre||</td>\n",
       "      <td>Tigre</td>\n",
       "    </tr>\n",
       "    <tr>\n",
       "      <th>53130</th>\n",
       "      <td>NaN</td>\n",
       "      <td>|Argentina|Bs.As. G.B.A. Zona Norte|Tigre||</td>\n",
       "      <td>Tigre</td>\n",
       "    </tr>\n",
       "    <tr>\n",
       "      <th>55306</th>\n",
       "      <td>NaN</td>\n",
       "      <td>|Argentina|Bs.As. G.B.A. Zona Norte|Tigre||</td>\n",
       "      <td>Tigre</td>\n",
       "    </tr>\n",
       "    <tr>\n",
       "      <th>57703</th>\n",
       "      <td>NaN</td>\n",
       "      <td>|Argentina|Bs.As. G.B.A. Zona Norte|Tigre||</td>\n",
       "      <td>Tigre</td>\n",
       "    </tr>\n",
       "    <tr>\n",
       "      <th>57759</th>\n",
       "      <td>NaN</td>\n",
       "      <td>|Argentina|Bs.As. G.B.A. Zona Norte|Tigre||</td>\n",
       "      <td>Tigre</td>\n",
       "    </tr>\n",
       "    <tr>\n",
       "      <th>57764</th>\n",
       "      <td>NaN</td>\n",
       "      <td>|Argentina|Bs.As. G.B.A. Zona Norte|Tigre||</td>\n",
       "      <td>Tigre</td>\n",
       "    </tr>\n",
       "    <tr>\n",
       "      <th>57793</th>\n",
       "      <td>NaN</td>\n",
       "      <td>|Argentina|Bs.As. G.B.A. Zona Norte|Tigre||</td>\n",
       "      <td>Tigre</td>\n",
       "    </tr>\n",
       "    <tr>\n",
       "      <th>58004</th>\n",
       "      <td>NaN</td>\n",
       "      <td>|Argentina|Bs.As. G.B.A. Zona Norte|Tigre||</td>\n",
       "      <td>Tigre</td>\n",
       "    </tr>\n",
       "    <tr>\n",
       "      <th>58037</th>\n",
       "      <td>NaN</td>\n",
       "      <td>|Argentina|Bs.As. G.B.A. Zona Norte|Tigre||</td>\n",
       "      <td>Tigre</td>\n",
       "    </tr>\n",
       "    <tr>\n",
       "      <th>59069</th>\n",
       "      <td>NaN</td>\n",
       "      <td>|Argentina|Bs.As. G.B.A. Zona Norte|Tigre||</td>\n",
       "      <td>Tigre</td>\n",
       "    </tr>\n",
       "    <tr>\n",
       "      <th>62411</th>\n",
       "      <td>NaN</td>\n",
       "      <td>|Argentina|Bs.As. G.B.A. Zona Norte|Tigre||</td>\n",
       "      <td>Tigre</td>\n",
       "    </tr>\n",
       "    <tr>\n",
       "      <th>62413</th>\n",
       "      <td>NaN</td>\n",
       "      <td>|Argentina|Bs.As. G.B.A. Zona Norte|Tigre||</td>\n",
       "      <td>Tigre</td>\n",
       "    </tr>\n",
       "    <tr>\n",
       "      <th>63849</th>\n",
       "      <td>NaN</td>\n",
       "      <td>|Argentina|Bs.As. G.B.A. Zona Norte|Tigre||</td>\n",
       "      <td>Tigre</td>\n",
       "    </tr>\n",
       "  </tbody>\n",
       "</table>\n",
       "</div>"
      ],
      "text/plain": [
       "      place_name                      place_with_parent_names s_place_name\n",
       "6489         NaN  |Argentina|Bs.As. G.B.A. Zona Norte|Tigre||        Tigre\n",
       "10201        NaN  |Argentina|Bs.As. G.B.A. Zona Norte|Tigre||        Tigre\n",
       "11451        NaN  |Argentina|Bs.As. G.B.A. Zona Norte|Tigre||        Tigre\n",
       "14839        NaN  |Argentina|Bs.As. G.B.A. Zona Norte|Tigre||        Tigre\n",
       "18622        NaN  |Argentina|Bs.As. G.B.A. Zona Norte|Tigre||        Tigre\n",
       "21922        NaN  |Argentina|Bs.As. G.B.A. Zona Norte|Tigre||        Tigre\n",
       "23664        NaN  |Argentina|Bs.As. G.B.A. Zona Norte|Tigre||        Tigre\n",
       "24722        NaN  |Argentina|Bs.As. G.B.A. Zona Norte|Tigre||        Tigre\n",
       "38856        NaN  |Argentina|Bs.As. G.B.A. Zona Norte|Tigre||        Tigre\n",
       "45970        NaN  |Argentina|Bs.As. G.B.A. Zona Norte|Tigre||        Tigre\n",
       "46642        NaN  |Argentina|Bs.As. G.B.A. Zona Norte|Tigre||        Tigre\n",
       "53130        NaN  |Argentina|Bs.As. G.B.A. Zona Norte|Tigre||        Tigre\n",
       "55306        NaN  |Argentina|Bs.As. G.B.A. Zona Norte|Tigre||        Tigre\n",
       "57703        NaN  |Argentina|Bs.As. G.B.A. Zona Norte|Tigre||        Tigre\n",
       "57759        NaN  |Argentina|Bs.As. G.B.A. Zona Norte|Tigre||        Tigre\n",
       "57764        NaN  |Argentina|Bs.As. G.B.A. Zona Norte|Tigre||        Tigre\n",
       "57793        NaN  |Argentina|Bs.As. G.B.A. Zona Norte|Tigre||        Tigre\n",
       "58004        NaN  |Argentina|Bs.As. G.B.A. Zona Norte|Tigre||        Tigre\n",
       "58037        NaN  |Argentina|Bs.As. G.B.A. Zona Norte|Tigre||        Tigre\n",
       "59069        NaN  |Argentina|Bs.As. G.B.A. Zona Norte|Tigre||        Tigre\n",
       "62411        NaN  |Argentina|Bs.As. G.B.A. Zona Norte|Tigre||        Tigre\n",
       "62413        NaN  |Argentina|Bs.As. G.B.A. Zona Norte|Tigre||        Tigre\n",
       "63849        NaN  |Argentina|Bs.As. G.B.A. Zona Norte|Tigre||        Tigre"
      ]
     },
     "execution_count": 135,
     "metadata": {},
     "output_type": "execute_result"
    }
   ],
   "source": [
    "# Chequeo si la columna recién creada tiene algú null\n",
    "data['s_place_name'].isnull().sum()\n",
    "# Ahora chequeo cuántas diferencias tiene con place_name\n",
    "(data['s_place_name'] != data['place_name']).sum()\n",
    "# Con esto vemos que sólo diferían en los nulos y que ahora fueron completados. Veamos si los completamos bien (deberían decir 'Tigre')\n",
    "data[['place_name', 'place_with_parent_names', 's_place_name']].loc[data.place_name.isnull()]"
   ]
  },
  {
   "cell_type": "code",
   "execution_count": 136,
   "metadata": {
    "id": "IvAqe2jzTrJ5"
   },
   "outputs": [],
   "source": [
    "# Creo los dataframes agrupados por lugar y tipo de propiedad para luego hacer los merges\n",
    "data_grp_b1 = data.groupby(['s_barrio_1', 'property_type'])['price_usd_per_m2'].median().reset_index()\n",
    "data_grp_b = data.groupby(['s_barrio', 'property_type'])['price_usd_per_m2'].median().reset_index()\n",
    "data_grp_l = data.groupby(['s_localidad', 'property_type'])['price_usd_per_m2'].median().reset_index()\n",
    "data_grp_p = data.groupby(['s_provincia', 'property_type'])['price_usd_per_m2'].median().reset_index()"
   ]
  },
  {
   "cell_type": "code",
   "execution_count": 137,
   "metadata": {
    "colab": {
     "base_uri": "https://localhost:8080/",
     "height": 323
    },
    "executionInfo": {
     "elapsed": 665,
     "status": "ok",
     "timestamp": 1651431256093,
     "user": {
      "displayName": "Maela Lombardi",
      "userId": "03936068368896012188"
     },
     "user_tz": 180
    },
    "id": "-QJuRfLNT1eo",
    "outputId": "83653ef1-b4b5-48b3-e726-6fc14fef4d95"
   },
   "outputs": [
    {
     "data": {
      "text/html": [
       "<div>\n",
       "<style scoped>\n",
       "    .dataframe tbody tr th:only-of-type {\n",
       "        vertical-align: middle;\n",
       "    }\n",
       "\n",
       "    .dataframe tbody tr th {\n",
       "        vertical-align: top;\n",
       "    }\n",
       "\n",
       "    .dataframe thead th {\n",
       "        text-align: right;\n",
       "    }\n",
       "</style>\n",
       "<table border=\"1\" class=\"dataframe\">\n",
       "  <thead>\n",
       "    <tr style=\"text-align: right;\">\n",
       "      <th></th>\n",
       "      <th>Unnamed: 0</th>\n",
       "      <th>operation</th>\n",
       "      <th>property_type</th>\n",
       "      <th>place_name</th>\n",
       "      <th>place_with_parent_names</th>\n",
       "      <th>country_name</th>\n",
       "      <th>state_name</th>\n",
       "      <th>geonames_id</th>\n",
       "      <th>lat-lon</th>\n",
       "      <th>lat</th>\n",
       "      <th>...</th>\n",
       "      <th>s_pais</th>\n",
       "      <th>s_provincia</th>\n",
       "      <th>s_localidad</th>\n",
       "      <th>s_barrio</th>\n",
       "      <th>s_barrio_1</th>\n",
       "      <th>s_place_name</th>\n",
       "      <th>price_usd_per_m2_b1</th>\n",
       "      <th>price_usd_per_m2_b</th>\n",
       "      <th>price_usd_per_m2_l</th>\n",
       "      <th>price_usd_per_m2_p</th>\n",
       "    </tr>\n",
       "  </thead>\n",
       "  <tbody>\n",
       "    <tr>\n",
       "      <th>0</th>\n",
       "      <td>0</td>\n",
       "      <td>sell</td>\n",
       "      <td>PH</td>\n",
       "      <td>Mataderos</td>\n",
       "      <td>|Argentina|Capital Federal|Mataderos|</td>\n",
       "      <td>Argentina</td>\n",
       "      <td>Capital Federal</td>\n",
       "      <td>3430787.0</td>\n",
       "      <td>-34.6618237,-58.5088387</td>\n",
       "      <td>-34.661824</td>\n",
       "      <td>...</td>\n",
       "      <td>Argentina</td>\n",
       "      <td>Capital Federal</td>\n",
       "      <td>Mataderos</td>\n",
       "      <td>NaN</td>\n",
       "      <td>NaN</td>\n",
       "      <td>Mataderos</td>\n",
       "      <td>NaN</td>\n",
       "      <td>NaN</td>\n",
       "      <td>1274.920635</td>\n",
       "      <td>1625.000000</td>\n",
       "    </tr>\n",
       "    <tr>\n",
       "      <th>1</th>\n",
       "      <td>1</td>\n",
       "      <td>sell</td>\n",
       "      <td>apartment</td>\n",
       "      <td>La Plata</td>\n",
       "      <td>|Argentina|Bs.As. G.B.A. Zona Sur|La Plata|</td>\n",
       "      <td>Argentina</td>\n",
       "      <td>Bs.As. G.B.A. Zona Sur</td>\n",
       "      <td>3432039.0</td>\n",
       "      <td>-34.9038831,-57.9643295</td>\n",
       "      <td>-34.903883</td>\n",
       "      <td>...</td>\n",
       "      <td>Argentina</td>\n",
       "      <td>Bs.As. G.B.A. Zona Sur</td>\n",
       "      <td>La Plata</td>\n",
       "      <td>NaN</td>\n",
       "      <td>NaN</td>\n",
       "      <td>La Plata</td>\n",
       "      <td>NaN</td>\n",
       "      <td>NaN</td>\n",
       "      <td>1711.540658</td>\n",
       "      <td>1818.181818</td>\n",
       "    </tr>\n",
       "    <tr>\n",
       "      <th>2</th>\n",
       "      <td>2</td>\n",
       "      <td>sell</td>\n",
       "      <td>apartment</td>\n",
       "      <td>Mataderos</td>\n",
       "      <td>|Argentina|Capital Federal|Mataderos|</td>\n",
       "      <td>Argentina</td>\n",
       "      <td>Capital Federal</td>\n",
       "      <td>3430787.0</td>\n",
       "      <td>-34.6522615,-58.5229825</td>\n",
       "      <td>-34.652262</td>\n",
       "      <td>...</td>\n",
       "      <td>Argentina</td>\n",
       "      <td>Capital Federal</td>\n",
       "      <td>Mataderos</td>\n",
       "      <td>NaN</td>\n",
       "      <td>NaN</td>\n",
       "      <td>Mataderos</td>\n",
       "      <td>NaN</td>\n",
       "      <td>NaN</td>\n",
       "      <td>1830.320421</td>\n",
       "      <td>2530.120482</td>\n",
       "    </tr>\n",
       "  </tbody>\n",
       "</table>\n",
       "<p>3 rows × 39 columns</p>\n",
       "</div>"
      ],
      "text/plain": [
       "   Unnamed: 0 operation property_type place_name  \\\n",
       "0           0      sell            PH  Mataderos   \n",
       "1           1      sell     apartment   La Plata   \n",
       "2           2      sell     apartment  Mataderos   \n",
       "\n",
       "                       place_with_parent_names country_name  \\\n",
       "0        |Argentina|Capital Federal|Mataderos|    Argentina   \n",
       "1  |Argentina|Bs.As. G.B.A. Zona Sur|La Plata|    Argentina   \n",
       "2        |Argentina|Capital Federal|Mataderos|    Argentina   \n",
       "\n",
       "               state_name  geonames_id                  lat-lon        lat  \\\n",
       "0         Capital Federal    3430787.0  -34.6618237,-58.5088387 -34.661824   \n",
       "1  Bs.As. G.B.A. Zona Sur    3432039.0  -34.9038831,-57.9643295 -34.903883   \n",
       "2         Capital Federal    3430787.0  -34.6522615,-58.5229825 -34.652262   \n",
       "\n",
       "   ...     s_pais             s_provincia s_localidad  s_barrio  s_barrio_1  \\\n",
       "0  ...  Argentina         Capital Federal   Mataderos       NaN         NaN   \n",
       "1  ...  Argentina  Bs.As. G.B.A. Zona Sur    La Plata       NaN         NaN   \n",
       "2  ...  Argentina         Capital Federal   Mataderos       NaN         NaN   \n",
       "\n",
       "   s_place_name  price_usd_per_m2_b1  price_usd_per_m2_b  price_usd_per_m2_l  \\\n",
       "0     Mataderos                  NaN                 NaN         1274.920635   \n",
       "1      La Plata                  NaN                 NaN         1711.540658   \n",
       "2     Mataderos                  NaN                 NaN         1830.320421   \n",
       "\n",
       "   price_usd_per_m2_p  \n",
       "0         1625.000000  \n",
       "1         1818.181818  \n",
       "2         2530.120482  \n",
       "\n",
       "[3 rows x 39 columns]"
      ]
     },
     "execution_count": 137,
     "metadata": {},
     "output_type": "execute_result"
    }
   ],
   "source": [
    "# mergeo el dataset original con los dataframes agrupados creando cada vez una columna nueva con las medianas por lugar desde lo más fino (barrio_1 o b1) hasta lo más grueso (provincia o p)\n",
    "\n",
    "# merge barrio_1\n",
    "data_merge = pd.merge(data, data_grp_b1, left_on = [\"s_barrio_1\",\"property_type\"], right_on = [\"s_barrio_1\",\"property_type\"], how = \"left\", suffixes = ('', '_b1'))\n",
    "\n",
    "# merge barrio \n",
    "data_merge = pd.merge(data_merge, data_grp_b, left_on = [\"s_barrio\",\"property_type\"], right_on = [\"s_barrio\",\"property_type\"], how = \"left\", suffixes = ('', '_b'))\n",
    "\n",
    "# merge localidad \n",
    "data_merge = pd.merge(data_merge, data_grp_l, left_on = [\"s_localidad\",\"property_type\"], right_on = [\"s_localidad\",\"property_type\"], how = \"left\", suffixes = ('', '_l'))\n",
    "\n",
    "# merge provincia \n",
    "data_merge = pd.merge(data_merge, data_grp_p, left_on = [\"s_provincia\",\"property_type\"], right_on = [\"s_provincia\",\"property_type\"], how = \"left\", suffixes = ('', '_p'))\n",
    "\n",
    "data_merge.head(3)"
   ]
  },
  {
   "cell_type": "code",
   "execution_count": 138,
   "metadata": {
    "colab": {
     "base_uri": "https://localhost:8080/",
     "height": 323
    },
    "executionInfo": {
     "elapsed": 2799,
     "status": "ok",
     "timestamp": 1651431258891,
     "user": {
      "displayName": "Maela Lombardi",
      "userId": "03936068368896012188"
     },
     "user_tz": 180
    },
    "id": "PDUYhc7jUFsJ",
    "outputId": "354e5158-9203-4571-9b2f-03d6096ce92e"
   },
   "outputs": [
    {
     "data": {
      "text/html": [
       "<div>\n",
       "<style scoped>\n",
       "    .dataframe tbody tr th:only-of-type {\n",
       "        vertical-align: middle;\n",
       "    }\n",
       "\n",
       "    .dataframe tbody tr th {\n",
       "        vertical-align: top;\n",
       "    }\n",
       "\n",
       "    .dataframe thead th {\n",
       "        text-align: right;\n",
       "    }\n",
       "</style>\n",
       "<table border=\"1\" class=\"dataframe\">\n",
       "  <thead>\n",
       "    <tr style=\"text-align: right;\">\n",
       "      <th></th>\n",
       "      <th>Unnamed: 0</th>\n",
       "      <th>operation</th>\n",
       "      <th>property_type</th>\n",
       "      <th>place_name</th>\n",
       "      <th>place_with_parent_names</th>\n",
       "      <th>country_name</th>\n",
       "      <th>state_name</th>\n",
       "      <th>geonames_id</th>\n",
       "      <th>lat-lon</th>\n",
       "      <th>lat</th>\n",
       "      <th>...</th>\n",
       "      <th>s_provincia</th>\n",
       "      <th>s_localidad</th>\n",
       "      <th>s_barrio</th>\n",
       "      <th>s_barrio_1</th>\n",
       "      <th>s_place_name</th>\n",
       "      <th>price_usd_per_m2_b1</th>\n",
       "      <th>price_usd_per_m2_b</th>\n",
       "      <th>price_usd_per_m2_l</th>\n",
       "      <th>price_usd_per_m2_p</th>\n",
       "      <th>input_price_usd_m2</th>\n",
       "    </tr>\n",
       "  </thead>\n",
       "  <tbody>\n",
       "    <tr>\n",
       "      <th>0</th>\n",
       "      <td>0</td>\n",
       "      <td>sell</td>\n",
       "      <td>PH</td>\n",
       "      <td>Mataderos</td>\n",
       "      <td>|Argentina|Capital Federal|Mataderos|</td>\n",
       "      <td>Argentina</td>\n",
       "      <td>Capital Federal</td>\n",
       "      <td>3430787.0</td>\n",
       "      <td>-34.6618237,-58.5088387</td>\n",
       "      <td>-34.661824</td>\n",
       "      <td>...</td>\n",
       "      <td>Capital Federal</td>\n",
       "      <td>Mataderos</td>\n",
       "      <td>NaN</td>\n",
       "      <td>NaN</td>\n",
       "      <td>Mataderos</td>\n",
       "      <td>NaN</td>\n",
       "      <td>NaN</td>\n",
       "      <td>1274.920635</td>\n",
       "      <td>1625.000000</td>\n",
       "      <td>1127.272727</td>\n",
       "    </tr>\n",
       "    <tr>\n",
       "      <th>1</th>\n",
       "      <td>1</td>\n",
       "      <td>sell</td>\n",
       "      <td>apartment</td>\n",
       "      <td>La Plata</td>\n",
       "      <td>|Argentina|Bs.As. G.B.A. Zona Sur|La Plata|</td>\n",
       "      <td>Argentina</td>\n",
       "      <td>Bs.As. G.B.A. Zona Sur</td>\n",
       "      <td>3432039.0</td>\n",
       "      <td>-34.9038831,-57.9643295</td>\n",
       "      <td>-34.903883</td>\n",
       "      <td>...</td>\n",
       "      <td>Bs.As. G.B.A. Zona Sur</td>\n",
       "      <td>La Plata</td>\n",
       "      <td>NaN</td>\n",
       "      <td>NaN</td>\n",
       "      <td>La Plata</td>\n",
       "      <td>NaN</td>\n",
       "      <td>NaN</td>\n",
       "      <td>1711.540658</td>\n",
       "      <td>1818.181818</td>\n",
       "      <td>1711.540658</td>\n",
       "    </tr>\n",
       "    <tr>\n",
       "      <th>2</th>\n",
       "      <td>2</td>\n",
       "      <td>sell</td>\n",
       "      <td>apartment</td>\n",
       "      <td>Mataderos</td>\n",
       "      <td>|Argentina|Capital Federal|Mataderos|</td>\n",
       "      <td>Argentina</td>\n",
       "      <td>Capital Federal</td>\n",
       "      <td>3430787.0</td>\n",
       "      <td>-34.6522615,-58.5229825</td>\n",
       "      <td>-34.652262</td>\n",
       "      <td>...</td>\n",
       "      <td>Capital Federal</td>\n",
       "      <td>Mataderos</td>\n",
       "      <td>NaN</td>\n",
       "      <td>NaN</td>\n",
       "      <td>Mataderos</td>\n",
       "      <td>NaN</td>\n",
       "      <td>NaN</td>\n",
       "      <td>1830.320421</td>\n",
       "      <td>2530.120482</td>\n",
       "      <td>1309.090909</td>\n",
       "    </tr>\n",
       "  </tbody>\n",
       "</table>\n",
       "<p>3 rows × 40 columns</p>\n",
       "</div>"
      ],
      "text/plain": [
       "   Unnamed: 0 operation property_type place_name  \\\n",
       "0           0      sell            PH  Mataderos   \n",
       "1           1      sell     apartment   La Plata   \n",
       "2           2      sell     apartment  Mataderos   \n",
       "\n",
       "                       place_with_parent_names country_name  \\\n",
       "0        |Argentina|Capital Federal|Mataderos|    Argentina   \n",
       "1  |Argentina|Bs.As. G.B.A. Zona Sur|La Plata|    Argentina   \n",
       "2        |Argentina|Capital Federal|Mataderos|    Argentina   \n",
       "\n",
       "               state_name  geonames_id                  lat-lon        lat  \\\n",
       "0         Capital Federal    3430787.0  -34.6618237,-58.5088387 -34.661824   \n",
       "1  Bs.As. G.B.A. Zona Sur    3432039.0  -34.9038831,-57.9643295 -34.903883   \n",
       "2         Capital Federal    3430787.0  -34.6522615,-58.5229825 -34.652262   \n",
       "\n",
       "   ...             s_provincia  s_localidad s_barrio  s_barrio_1  \\\n",
       "0  ...         Capital Federal    Mataderos      NaN         NaN   \n",
       "1  ...  Bs.As. G.B.A. Zona Sur     La Plata      NaN         NaN   \n",
       "2  ...         Capital Federal    Mataderos      NaN         NaN   \n",
       "\n",
       "   s_place_name  price_usd_per_m2_b1  price_usd_per_m2_b  price_usd_per_m2_l  \\\n",
       "0     Mataderos                  NaN                 NaN         1274.920635   \n",
       "1      La Plata                  NaN                 NaN         1711.540658   \n",
       "2     Mataderos                  NaN                 NaN         1830.320421   \n",
       "\n",
       "   price_usd_per_m2_p  input_price_usd_m2  \n",
       "0         1625.000000         1127.272727  \n",
       "1         1818.181818         1711.540658  \n",
       "2         2530.120482         1309.090909  \n",
       "\n",
       "[3 rows x 40 columns]"
      ]
     },
     "execution_count": 138,
     "metadata": {},
     "output_type": "execute_result"
    }
   ],
   "source": [
    "# Ahora creo la nueva columna de inputación de precios en dólares por m2 poniendo el valor original si existe (price_usd_per_m2) o la inputación más fina que tengamos (barrio_1 si no es nan, si no barrio si no es nan, si no localidad si no es nan, y si no provincia)\n",
    "data_merge['input_price_usd_m2'] = data_merge.apply(lambda x: x['price_usd_per_m2'] if pd.notna(x['price_usd_per_m2']) else (x['price_usd_per_m2_b1'] if pd.notna(x['price_usd_per_m2_b1']) else (x['price_usd_per_m2_b'] if pd.notna(x['price_usd_per_m2_b']) else (x['price_usd_per_m2_l'] if pd.notna(x['price_usd_per_m2_l']) else x['price_usd_per_m2_p']))), axis = 1)\n",
    "data_merge.head(3)"
   ]
  },
  {
   "cell_type": "code",
   "execution_count": 139,
   "metadata": {
    "colab": {
     "base_uri": "https://localhost:8080/",
     "height": 514
    },
    "executionInfo": {
     "elapsed": 10,
     "status": "ok",
     "timestamp": 1651431258892,
     "user": {
      "displayName": "Maela Lombardi",
      "userId": "03936068368896012188"
     },
     "user_tz": 180
    },
    "id": "ICKw1o9lUwoV",
    "outputId": "ef1b1bff-7320-4a33-8ec8-ff9e95ff3210"
   },
   "outputs": [
    {
     "data": {
      "text/html": [
       "<div>\n",
       "<style scoped>\n",
       "    .dataframe tbody tr th:only-of-type {\n",
       "        vertical-align: middle;\n",
       "    }\n",
       "\n",
       "    .dataframe tbody tr th {\n",
       "        vertical-align: top;\n",
       "    }\n",
       "\n",
       "    .dataframe thead th {\n",
       "        text-align: right;\n",
       "    }\n",
       "</style>\n",
       "<table border=\"1\" class=\"dataframe\">\n",
       "  <thead>\n",
       "    <tr style=\"text-align: right;\">\n",
       "      <th></th>\n",
       "      <th>Unnamed: 0</th>\n",
       "      <th>operation</th>\n",
       "      <th>property_type</th>\n",
       "      <th>place_name</th>\n",
       "      <th>place_with_parent_names</th>\n",
       "      <th>country_name</th>\n",
       "      <th>state_name</th>\n",
       "      <th>geonames_id</th>\n",
       "      <th>lat-lon</th>\n",
       "      <th>lat</th>\n",
       "      <th>...</th>\n",
       "      <th>rooms</th>\n",
       "      <th>expenses</th>\n",
       "      <th>properati_url</th>\n",
       "      <th>description</th>\n",
       "      <th>title</th>\n",
       "      <th>image_thumbnail</th>\n",
       "      <th>agrupado</th>\n",
       "      <th>tipodecambio_implicito</th>\n",
       "      <th>nivel_de_expensas</th>\n",
       "      <th>input_price_usd_m2</th>\n",
       "    </tr>\n",
       "  </thead>\n",
       "  <tbody>\n",
       "    <tr>\n",
       "      <th>0</th>\n",
       "      <td>0</td>\n",
       "      <td>sell</td>\n",
       "      <td>PH</td>\n",
       "      <td>Mataderos</td>\n",
       "      <td>|Argentina|Capital Federal|Mataderos|</td>\n",
       "      <td>Argentina</td>\n",
       "      <td>Capital Federal</td>\n",
       "      <td>3430787.0</td>\n",
       "      <td>-34.6618237,-58.5088387</td>\n",
       "      <td>-34.661824</td>\n",
       "      <td>...</td>\n",
       "      <td>1.0</td>\n",
       "      <td>NaN</td>\n",
       "      <td>http://www.properati.com.ar/15bo8_venta_ph_mat...</td>\n",
       "      <td>2 AMBIENTES TIPO CASA PLANTA BAJA POR PASILLO,...</td>\n",
       "      <td>2 AMB TIPO CASA SIN EXPENSAS EN PB</td>\n",
       "      <td>https://thumbs4.properati.com/8/BluUYiHJLhgIIK...</td>\n",
       "      <td>|Argentina|Capital Federal|Mataderos|</td>\n",
       "      <td>17.6445</td>\n",
       "      <td>NaN</td>\n",
       "      <td>1127.272727</td>\n",
       "    </tr>\n",
       "    <tr>\n",
       "      <th>1</th>\n",
       "      <td>1</td>\n",
       "      <td>sell</td>\n",
       "      <td>apartment</td>\n",
       "      <td>La Plata</td>\n",
       "      <td>|Argentina|Bs.As. G.B.A. Zona Sur|La Plata|</td>\n",
       "      <td>Argentina</td>\n",
       "      <td>Bs.As. G.B.A. Zona Sur</td>\n",
       "      <td>3432039.0</td>\n",
       "      <td>-34.9038831,-57.9643295</td>\n",
       "      <td>-34.903883</td>\n",
       "      <td>...</td>\n",
       "      <td>NaN</td>\n",
       "      <td>NaN</td>\n",
       "      <td>http://www.properati.com.ar/15bob_venta_depart...</td>\n",
       "      <td>Venta de departamento en décimo piso al frente...</td>\n",
       "      <td>VENTA Depto 2 dorm. a estrenar 7 e/ 36 y 37   ...</td>\n",
       "      <td>https://thumbs4.properati.com/7/ikpVBu2ztHA7jv...</td>\n",
       "      <td>|Argentina|Bs.As. G.B.A. Zona Sur|La Plata|</td>\n",
       "      <td>17.6445</td>\n",
       "      <td>NaN</td>\n",
       "      <td>1711.540658</td>\n",
       "    </tr>\n",
       "    <tr>\n",
       "      <th>2</th>\n",
       "      <td>2</td>\n",
       "      <td>sell</td>\n",
       "      <td>apartment</td>\n",
       "      <td>Mataderos</td>\n",
       "      <td>|Argentina|Capital Federal|Mataderos|</td>\n",
       "      <td>Argentina</td>\n",
       "      <td>Capital Federal</td>\n",
       "      <td>3430787.0</td>\n",
       "      <td>-34.6522615,-58.5229825</td>\n",
       "      <td>-34.652262</td>\n",
       "      <td>...</td>\n",
       "      <td>1.0</td>\n",
       "      <td>NaN</td>\n",
       "      <td>http://www.properati.com.ar/15bod_venta_depart...</td>\n",
       "      <td>2 AMBIENTES 3ER PISO LATERAL LIVING COMEDOR AM...</td>\n",
       "      <td>2 AMB 3ER PISO CON ASCENSOR APTO CREDITO</td>\n",
       "      <td>https://thumbs4.properati.com/5/SXKr34F_IwG3W_...</td>\n",
       "      <td>|Argentina|Capital Federal|Mataderos|</td>\n",
       "      <td>17.6445</td>\n",
       "      <td>NaN</td>\n",
       "      <td>1309.090909</td>\n",
       "    </tr>\n",
       "  </tbody>\n",
       "</table>\n",
       "<p>3 rows × 30 columns</p>\n",
       "</div>"
      ],
      "text/plain": [
       "   Unnamed: 0 operation property_type place_name  \\\n",
       "0           0      sell            PH  Mataderos   \n",
       "1           1      sell     apartment   La Plata   \n",
       "2           2      sell     apartment  Mataderos   \n",
       "\n",
       "                       place_with_parent_names country_name  \\\n",
       "0        |Argentina|Capital Federal|Mataderos|    Argentina   \n",
       "1  |Argentina|Bs.As. G.B.A. Zona Sur|La Plata|    Argentina   \n",
       "2        |Argentina|Capital Federal|Mataderos|    Argentina   \n",
       "\n",
       "               state_name  geonames_id                  lat-lon        lat  \\\n",
       "0         Capital Federal    3430787.0  -34.6618237,-58.5088387 -34.661824   \n",
       "1  Bs.As. G.B.A. Zona Sur    3432039.0  -34.9038831,-57.9643295 -34.903883   \n",
       "2         Capital Federal    3430787.0  -34.6522615,-58.5229825 -34.652262   \n",
       "\n",
       "   ...  rooms  expenses                                      properati_url  \\\n",
       "0  ...    1.0       NaN  http://www.properati.com.ar/15bo8_venta_ph_mat...   \n",
       "1  ...    NaN       NaN  http://www.properati.com.ar/15bob_venta_depart...   \n",
       "2  ...    1.0       NaN  http://www.properati.com.ar/15bod_venta_depart...   \n",
       "\n",
       "                                         description  \\\n",
       "0  2 AMBIENTES TIPO CASA PLANTA BAJA POR PASILLO,...   \n",
       "1  Venta de departamento en décimo piso al frente...   \n",
       "2  2 AMBIENTES 3ER PISO LATERAL LIVING COMEDOR AM...   \n",
       "\n",
       "                                               title  \\\n",
       "0                 2 AMB TIPO CASA SIN EXPENSAS EN PB   \n",
       "1  VENTA Depto 2 dorm. a estrenar 7 e/ 36 y 37   ...   \n",
       "2           2 AMB 3ER PISO CON ASCENSOR APTO CREDITO   \n",
       "\n",
       "                                     image_thumbnail  \\\n",
       "0  https://thumbs4.properati.com/8/BluUYiHJLhgIIK...   \n",
       "1  https://thumbs4.properati.com/7/ikpVBu2ztHA7jv...   \n",
       "2  https://thumbs4.properati.com/5/SXKr34F_IwG3W_...   \n",
       "\n",
       "                                      agrupado  tipodecambio_implicito  \\\n",
       "0        |Argentina|Capital Federal|Mataderos|                 17.6445   \n",
       "1  |Argentina|Bs.As. G.B.A. Zona Sur|La Plata|                 17.6445   \n",
       "2        |Argentina|Capital Federal|Mataderos|                 17.6445   \n",
       "\n",
       "   nivel_de_expensas  input_price_usd_m2  \n",
       "0                NaN         1127.272727  \n",
       "1                NaN         1711.540658  \n",
       "2                NaN         1309.090909  \n",
       "\n",
       "[3 rows x 30 columns]"
      ]
     },
     "execution_count": 139,
     "metadata": {},
     "output_type": "execute_result"
    }
   ],
   "source": [
    "# Dropeo las columnas accesorias que no suman info al dataset general\n",
    "data_merge.drop(labels = ['s_pais', 's_provincia', 's_localidad', 's_barrio', 's_barrio_1', 's_place_name', 'price_usd_per_m2_b1', 'price_usd_per_m2_b', 'price_usd_per_m2_l', 'price_usd_per_m2_p'], axis = 1, inplace = True)\n",
    "data_merge.head(3)"
   ]
  },
  {
   "cell_type": "code",
   "execution_count": 140,
   "metadata": {
    "colab": {
     "base_uri": "https://localhost:8080/"
    },
    "executionInfo": {
     "elapsed": 9,
     "status": "ok",
     "timestamp": 1651431258892,
     "user": {
      "displayName": "Maela Lombardi",
      "userId": "03936068368896012188"
     },
     "user_tz": 180
    },
    "id": "IG4KE7WsU6hM",
    "outputId": "65c9caae-9d2f-4aff-c229-c41e940fe630"
   },
   "outputs": [
    {
     "data": {
      "text/plain": [
       "0.03877247978881373"
      ]
     },
     "execution_count": 140,
     "metadata": {},
     "output_type": "execute_result"
    },
    {
     "data": {
      "text/plain": [
       "count    121173.000000\n",
       "mean       1735.491729\n",
       "std         950.714868\n",
       "min           0.600000\n",
       "25%        1136.363636\n",
       "50%        1662.480357\n",
       "75%        2200.000000\n",
       "max        7674.418605\n",
       "Name: input_price_usd_m2, dtype: float64"
      ]
     },
     "execution_count": 140,
     "metadata": {},
     "output_type": "execute_result"
    },
    {
     "data": {
      "text/plain": [
       "0.5478072020985386"
      ]
     },
     "execution_count": 140,
     "metadata": {},
     "output_type": "execute_result"
    }
   ],
   "source": [
    "# Porcentaje de nan en los precios por m2 en dólares imputados\n",
    "data_merge.input_price_usd_m2.isnull().sum() / len(data_merge) * 100\n",
    "\n",
    "# Describe\n",
    "data_merge.input_price_usd_m2.describe()\n",
    "\n",
    "# Coeficiente de variación\n",
    "data_merge.input_price_usd_m2.std() / data_merge.input_price_usd_m2.mean()"
   ]
  },
  {
   "cell_type": "markdown",
   "metadata": {
    "id": "UCBAtlE9xZRo"
   },
   "source": [
    "# **Nueva exploración post - limpieza/imputación**"
   ]
  },
  {
   "cell_type": "markdown",
   "metadata": {
    "id": "y6EgruhemL-O"
   },
   "source": [
    "## **Pivot tables**"
   ]
  },
  {
   "cell_type": "markdown",
   "metadata": {
    "id": "URDrAr7mmWKy"
   },
   "source": [
    "Hacemos distintas agrupaciones para responder preguntas (por ejemplo: qué barrio de CABA tiene el metro cuadrado más caro?)\n",
    "Usamos el dataset data_corr que no tiene outliers (menos cantidad de registros)"
   ]
  },
  {
   "cell_type": "code",
   "execution_count": 147,
   "metadata": {
    "colab": {
     "base_uri": "https://localhost:8080/",
     "height": 455
    },
    "executionInfo": {
     "elapsed": 554,
     "status": "ok",
     "timestamp": 1651431277462,
     "user": {
      "displayName": "Maela Lombardi",
      "userId": "03936068368896012188"
     },
     "user_tz": 180
    },
    "id": "WVUj2lawOHis",
    "outputId": "b79fce9a-9e4b-4338-b3c6-097381cd6054"
   },
   "outputs": [
    {
     "data": {
      "text/html": [
       "<div>\n",
       "<style scoped>\n",
       "    .dataframe tbody tr th:only-of-type {\n",
       "        vertical-align: middle;\n",
       "    }\n",
       "\n",
       "    .dataframe tbody tr th {\n",
       "        vertical-align: top;\n",
       "    }\n",
       "\n",
       "    .dataframe thead th {\n",
       "        text-align: right;\n",
       "    }\n",
       "</style>\n",
       "<table border=\"1\" class=\"dataframe\">\n",
       "  <thead>\n",
       "    <tr style=\"text-align: right;\">\n",
       "      <th></th>\n",
       "      <th>price_usd_per_m2</th>\n",
       "    </tr>\n",
       "    <tr>\n",
       "      <th>place_name</th>\n",
       "      <th></th>\n",
       "    </tr>\n",
       "  </thead>\n",
       "  <tbody>\n",
       "    <tr>\n",
       "      <th>Puerto Madero</th>\n",
       "      <td>5667.98</td>\n",
       "    </tr>\n",
       "    <tr>\n",
       "      <th>Palermo Chico</th>\n",
       "      <td>4216.22</td>\n",
       "    </tr>\n",
       "    <tr>\n",
       "      <th>Las Cañitas</th>\n",
       "      <td>3342.28</td>\n",
       "    </tr>\n",
       "    <tr>\n",
       "      <th>Recoleta</th>\n",
       "      <td>3119.04</td>\n",
       "    </tr>\n",
       "    <tr>\n",
       "      <th>Palermo</th>\n",
       "      <td>3062.92</td>\n",
       "    </tr>\n",
       "    <tr>\n",
       "      <th>...</th>\n",
       "      <td>...</td>\n",
       "    </tr>\n",
       "    <tr>\n",
       "      <th>Velez Sarsfield</th>\n",
       "      <td>1274.34</td>\n",
       "    </tr>\n",
       "    <tr>\n",
       "      <th>Villa Riachuelo</th>\n",
       "      <td>1229.51</td>\n",
       "    </tr>\n",
       "    <tr>\n",
       "      <th>Villa Lugano</th>\n",
       "      <td>1100.00</td>\n",
       "    </tr>\n",
       "    <tr>\n",
       "      <th>Pompeya</th>\n",
       "      <td>975.41</td>\n",
       "    </tr>\n",
       "    <tr>\n",
       "      <th>Villa Soldati</th>\n",
       "      <td>775.69</td>\n",
       "    </tr>\n",
       "  </tbody>\n",
       "</table>\n",
       "<p>62 rows × 1 columns</p>\n",
       "</div>"
      ],
      "text/plain": [
       "                 price_usd_per_m2\n",
       "place_name                       \n",
       "Puerto Madero             5667.98\n",
       "Palermo Chico             4216.22\n",
       "Las Cañitas               3342.28\n",
       "Recoleta                  3119.04\n",
       "Palermo                   3062.92\n",
       "...                           ...\n",
       "Velez Sarsfield           1274.34\n",
       "Villa Riachuelo           1229.51\n",
       "Villa Lugano              1100.00\n",
       "Pompeya                    975.41\n",
       "Villa Soldati              775.69\n",
       "\n",
       "[62 rows x 1 columns]"
      ]
     },
     "execution_count": 147,
     "metadata": {},
     "output_type": "execute_result"
    }
   ],
   "source": [
    "#calculamos el precio promedio por metro cuadrado en dolares por Barrio en CABA usando el dataset data_corr que tiene los datos corregidos (sin outliers)\n",
    "#por tipo de propiedad\n",
    "mask = data[\"state_name\"] == \"Capital Federal\"\n",
    "data_CABA = data[mask]\n",
    "round(data_CABA.pivot_table(index=['place_name'],aggfunc={ 'price_usd_per_m2':'median'}),2).sort_values(by=\"price_usd_per_m2\", ascending=False)"
   ]
  },
  {
   "cell_type": "code",
   "execution_count": 148,
   "metadata": {
    "colab": {
     "base_uri": "https://localhost:8080/",
     "height": 486
    },
    "executionInfo": {
     "elapsed": 19,
     "status": "ok",
     "timestamp": 1651431277462,
     "user": {
      "displayName": "Maela Lombardi",
      "userId": "03936068368896012188"
     },
     "user_tz": 180
    },
    "id": "-wKpnnXDlTzJ",
    "outputId": "c735efff-2b60-49db-9b4d-c2a0cbc2e0ca"
   },
   "outputs": [
    {
     "data": {
      "text/html": [
       "<div>\n",
       "<style scoped>\n",
       "    .dataframe tbody tr th:only-of-type {\n",
       "        vertical-align: middle;\n",
       "    }\n",
       "\n",
       "    .dataframe tbody tr th {\n",
       "        vertical-align: top;\n",
       "    }\n",
       "\n",
       "    .dataframe thead tr th {\n",
       "        text-align: left;\n",
       "    }\n",
       "\n",
       "    .dataframe thead tr:last-of-type th {\n",
       "        text-align: right;\n",
       "    }\n",
       "</style>\n",
       "<table border=\"1\" class=\"dataframe\">\n",
       "  <thead>\n",
       "    <tr>\n",
       "      <th></th>\n",
       "      <th></th>\n",
       "      <th colspan=\"4\" halign=\"left\">price_usd_per_m2</th>\n",
       "    </tr>\n",
       "    <tr>\n",
       "      <th></th>\n",
       "      <th>property_type</th>\n",
       "      <th>PH</th>\n",
       "      <th>apartment</th>\n",
       "      <th>house</th>\n",
       "      <th>store</th>\n",
       "    </tr>\n",
       "    <tr>\n",
       "      <th>state_name</th>\n",
       "      <th>place_name</th>\n",
       "      <th></th>\n",
       "      <th></th>\n",
       "      <th></th>\n",
       "      <th></th>\n",
       "    </tr>\n",
       "  </thead>\n",
       "  <tbody>\n",
       "    <tr>\n",
       "      <th rowspan=\"5\" valign=\"top\">Bs.As. G.B.A. Zona Norte</th>\n",
       "      <th>Country Maschwitz Club</th>\n",
       "      <td>NaN</td>\n",
       "      <td>NaN</td>\n",
       "      <td>1369.99</td>\n",
       "      <td>NaN</td>\n",
       "    </tr>\n",
       "    <tr>\n",
       "      <th>los alamos</th>\n",
       "      <td>NaN</td>\n",
       "      <td>1600.00</td>\n",
       "      <td>NaN</td>\n",
       "      <td>NaN</td>\n",
       "    </tr>\n",
       "    <tr>\n",
       "      <th>Acacias Blancas</th>\n",
       "      <td>NaN</td>\n",
       "      <td>NaN</td>\n",
       "      <td>1307.69</td>\n",
       "      <td>NaN</td>\n",
       "    </tr>\n",
       "    <tr>\n",
       "      <th>Acassuso</th>\n",
       "      <td>2331.03</td>\n",
       "      <td>2617.65</td>\n",
       "      <td>1398.37</td>\n",
       "      <td>2027.03</td>\n",
       "    </tr>\n",
       "    <tr>\n",
       "      <th>Albanueva Barrio Cerrado</th>\n",
       "      <td>NaN</td>\n",
       "      <td>2785.71</td>\n",
       "      <td>2574.75</td>\n",
       "      <td>NaN</td>\n",
       "    </tr>\n",
       "    <tr>\n",
       "      <th>...</th>\n",
       "      <th>...</th>\n",
       "      <td>...</td>\n",
       "      <td>...</td>\n",
       "      <td>...</td>\n",
       "      <td>...</td>\n",
       "    </tr>\n",
       "    <tr>\n",
       "      <th rowspan=\"5\" valign=\"top\">Tucumán</th>\n",
       "      <th>San Miguel de Tucumán</th>\n",
       "      <td>1329.82</td>\n",
       "      <td>805.45</td>\n",
       "      <td>625.55</td>\n",
       "      <td>554.32</td>\n",
       "    </tr>\n",
       "    <tr>\n",
       "      <th>Tafí Viejo</th>\n",
       "      <td>NaN</td>\n",
       "      <td>NaN</td>\n",
       "      <td>716.98</td>\n",
       "      <td>NaN</td>\n",
       "    </tr>\n",
       "    <tr>\n",
       "      <th>Tafí del Valle</th>\n",
       "      <td>NaN</td>\n",
       "      <td>NaN</td>\n",
       "      <td>486.87</td>\n",
       "      <td>NaN</td>\n",
       "    </tr>\n",
       "    <tr>\n",
       "      <th>Tucumán</th>\n",
       "      <td>NaN</td>\n",
       "      <td>592.32</td>\n",
       "      <td>458.33</td>\n",
       "      <td>506.78</td>\n",
       "    </tr>\n",
       "    <tr>\n",
       "      <th>Yerba Buena</th>\n",
       "      <td>NaN</td>\n",
       "      <td>1184.82</td>\n",
       "      <td>934.73</td>\n",
       "      <td>529.58</td>\n",
       "    </tr>\n",
       "  </tbody>\n",
       "</table>\n",
       "<p>829 rows × 4 columns</p>\n",
       "</div>"
      ],
      "text/plain": [
       "                                                  price_usd_per_m2            \\\n",
       "property_type                                                   PH apartment   \n",
       "state_name               place_name                                            \n",
       "Bs.As. G.B.A. Zona Norte  Country Maschwitz Club               NaN       NaN   \n",
       "                          los alamos                           NaN   1600.00   \n",
       "                         Acacias Blancas                       NaN       NaN   \n",
       "                         Acassuso                          2331.03   2617.65   \n",
       "                         Albanueva Barrio Cerrado              NaN   2785.71   \n",
       "...                                                            ...       ...   \n",
       "Tucumán                  San Miguel de Tucumán             1329.82    805.45   \n",
       "                         Tafí Viejo                            NaN       NaN   \n",
       "                         Tafí del Valle                        NaN       NaN   \n",
       "                         Tucumán                               NaN    592.32   \n",
       "                         Yerba Buena                           NaN   1184.82   \n",
       "\n",
       "                                                                     \n",
       "property_type                                        house    store  \n",
       "state_name               place_name                                  \n",
       "Bs.As. G.B.A. Zona Norte  Country Maschwitz Club   1369.99      NaN  \n",
       "                          los alamos                   NaN      NaN  \n",
       "                         Acacias Blancas           1307.69      NaN  \n",
       "                         Acassuso                  1398.37  2027.03  \n",
       "                         Albanueva Barrio Cerrado  2574.75      NaN  \n",
       "...                                                    ...      ...  \n",
       "Tucumán                  San Miguel de Tucumán      625.55   554.32  \n",
       "                         Tafí Viejo                 716.98      NaN  \n",
       "                         Tafí del Valle             486.87      NaN  \n",
       "                         Tucumán                    458.33   506.78  \n",
       "                         Yerba Buena                934.73   529.58  \n",
       "\n",
       "[829 rows x 4 columns]"
      ]
     },
     "execution_count": 148,
     "metadata": {},
     "output_type": "execute_result"
    }
   ],
   "source": [
    "#hacemos una tabla dinámica del precio por metro cuadrado promedio por tipo de propiedad y por localidad/barrio\n",
    "round(data.pivot_table(index=['state_name','place_name'], columns='property_type',\n",
    "                    aggfunc={ 'price_usd_per_m2':'median'}),2)"
   ]
  },
  {
   "cell_type": "code",
   "execution_count": 149,
   "metadata": {
    "colab": {
     "base_uri": "https://localhost:8080/",
     "height": 990
    },
    "executionInfo": {
     "elapsed": 19,
     "status": "ok",
     "timestamp": 1651431277463,
     "user": {
      "displayName": "Maela Lombardi",
      "userId": "03936068368896012188"
     },
     "user_tz": 180
    },
    "id": "W9Bsh_e1TYbI",
    "outputId": "25463b0d-b8cf-4731-f75c-9e1966c1da65"
   },
   "outputs": [
    {
     "data": {
      "text/html": [
       "<div>\n",
       "<style scoped>\n",
       "    .dataframe tbody tr th:only-of-type {\n",
       "        vertical-align: middle;\n",
       "    }\n",
       "\n",
       "    .dataframe tbody tr th {\n",
       "        vertical-align: top;\n",
       "    }\n",
       "\n",
       "    .dataframe thead tr th {\n",
       "        text-align: left;\n",
       "    }\n",
       "\n",
       "    .dataframe thead tr:last-of-type th {\n",
       "        text-align: right;\n",
       "    }\n",
       "</style>\n",
       "<table border=\"1\" class=\"dataframe\">\n",
       "  <thead>\n",
       "    <tr>\n",
       "      <th></th>\n",
       "      <th colspan=\"4\" halign=\"left\">price_usd_per_m2</th>\n",
       "    </tr>\n",
       "    <tr>\n",
       "      <th>property_type</th>\n",
       "      <th>PH</th>\n",
       "      <th>apartment</th>\n",
       "      <th>house</th>\n",
       "      <th>store</th>\n",
       "    </tr>\n",
       "    <tr>\n",
       "      <th>state_name</th>\n",
       "      <th></th>\n",
       "      <th></th>\n",
       "      <th></th>\n",
       "      <th></th>\n",
       "    </tr>\n",
       "  </thead>\n",
       "  <tbody>\n",
       "    <tr>\n",
       "      <th>Bs.As. G.B.A. Zona Norte</th>\n",
       "      <td>1324.26</td>\n",
       "      <td>2292.84</td>\n",
       "      <td>1280.00</td>\n",
       "      <td>1409.64</td>\n",
       "    </tr>\n",
       "    <tr>\n",
       "      <th>Bs.As. G.B.A. Zona Oeste</th>\n",
       "      <td>1100.85</td>\n",
       "      <td>1666.67</td>\n",
       "      <td>855.92</td>\n",
       "      <td>1106.06</td>\n",
       "    </tr>\n",
       "    <tr>\n",
       "      <th>Bs.As. G.B.A. Zona Sur</th>\n",
       "      <td>1067.52</td>\n",
       "      <td>1818.18</td>\n",
       "      <td>1124.26</td>\n",
       "      <td>1049.48</td>\n",
       "    </tr>\n",
       "    <tr>\n",
       "      <th>Buenos Aires Costa Atlántica</th>\n",
       "      <td>1111.11</td>\n",
       "      <td>1897.50</td>\n",
       "      <td>611.92</td>\n",
       "      <td>1250.00</td>\n",
       "    </tr>\n",
       "    <tr>\n",
       "      <th>Buenos Aires Interior</th>\n",
       "      <td>971.50</td>\n",
       "      <td>1631.58</td>\n",
       "      <td>484.41</td>\n",
       "      <td>837.29</td>\n",
       "    </tr>\n",
       "    <tr>\n",
       "      <th>Capital Federal</th>\n",
       "      <td>1625.00</td>\n",
       "      <td>2530.12</td>\n",
       "      <td>1260.87</td>\n",
       "      <td>2270.27</td>\n",
       "    </tr>\n",
       "    <tr>\n",
       "      <th>Catamarca</th>\n",
       "      <td>NaN</td>\n",
       "      <td>NaN</td>\n",
       "      <td>376.14</td>\n",
       "      <td>NaN</td>\n",
       "    </tr>\n",
       "    <tr>\n",
       "      <th>Chaco</th>\n",
       "      <td>NaN</td>\n",
       "      <td>1709.87</td>\n",
       "      <td>747.78</td>\n",
       "      <td>1509.55</td>\n",
       "    </tr>\n",
       "    <tr>\n",
       "      <th>Chubut</th>\n",
       "      <td>NaN</td>\n",
       "      <td>2062.50</td>\n",
       "      <td>1400.00</td>\n",
       "      <td>1107.10</td>\n",
       "    </tr>\n",
       "    <tr>\n",
       "      <th>Corrientes</th>\n",
       "      <td>1357.14</td>\n",
       "      <td>1857.67</td>\n",
       "      <td>1111.11</td>\n",
       "      <td>1294.82</td>\n",
       "    </tr>\n",
       "    <tr>\n",
       "      <th>Córdoba</th>\n",
       "      <td>950.57</td>\n",
       "      <td>1418.18</td>\n",
       "      <td>570.39</td>\n",
       "      <td>1345.03</td>\n",
       "    </tr>\n",
       "    <tr>\n",
       "      <th>Entre Ríos</th>\n",
       "      <td>NaN</td>\n",
       "      <td>1450.44</td>\n",
       "      <td>399.60</td>\n",
       "      <td>1007.27</td>\n",
       "    </tr>\n",
       "    <tr>\n",
       "      <th>Formosa</th>\n",
       "      <td>NaN</td>\n",
       "      <td>1513.74</td>\n",
       "      <td>NaN</td>\n",
       "      <td>NaN</td>\n",
       "    </tr>\n",
       "    <tr>\n",
       "      <th>Jujuy</th>\n",
       "      <td>NaN</td>\n",
       "      <td>1682.51</td>\n",
       "      <td>280.27</td>\n",
       "      <td>NaN</td>\n",
       "    </tr>\n",
       "    <tr>\n",
       "      <th>La Pampa</th>\n",
       "      <td>NaN</td>\n",
       "      <td>1305.02</td>\n",
       "      <td>855.94</td>\n",
       "      <td>616.92</td>\n",
       "    </tr>\n",
       "    <tr>\n",
       "      <th>La Rioja</th>\n",
       "      <td>NaN</td>\n",
       "      <td>NaN</td>\n",
       "      <td>243.03</td>\n",
       "      <td>NaN</td>\n",
       "    </tr>\n",
       "    <tr>\n",
       "      <th>Mendoza</th>\n",
       "      <td>1113.72</td>\n",
       "      <td>1568.81</td>\n",
       "      <td>971.35</td>\n",
       "      <td>1720.89</td>\n",
       "    </tr>\n",
       "    <tr>\n",
       "      <th>Misiones</th>\n",
       "      <td>1154.66</td>\n",
       "      <td>1342.15</td>\n",
       "      <td>284.95</td>\n",
       "      <td>71.60</td>\n",
       "    </tr>\n",
       "    <tr>\n",
       "      <th>Neuquén</th>\n",
       "      <td>2557.11</td>\n",
       "      <td>1850.72</td>\n",
       "      <td>742.93</td>\n",
       "      <td>800.00</td>\n",
       "    </tr>\n",
       "    <tr>\n",
       "      <th>Río Negro</th>\n",
       "      <td>1682.35</td>\n",
       "      <td>2500.00</td>\n",
       "      <td>1250.00</td>\n",
       "      <td>1300.32</td>\n",
       "    </tr>\n",
       "    <tr>\n",
       "      <th>Salta</th>\n",
       "      <td>NaN</td>\n",
       "      <td>1504.09</td>\n",
       "      <td>568.12</td>\n",
       "      <td>179.47</td>\n",
       "    </tr>\n",
       "    <tr>\n",
       "      <th>San Juan</th>\n",
       "      <td>NaN</td>\n",
       "      <td>3191.49</td>\n",
       "      <td>105.00</td>\n",
       "      <td>NaN</td>\n",
       "    </tr>\n",
       "    <tr>\n",
       "      <th>San Luis</th>\n",
       "      <td>NaN</td>\n",
       "      <td>1035.39</td>\n",
       "      <td>756.30</td>\n",
       "      <td>1150.44</td>\n",
       "    </tr>\n",
       "    <tr>\n",
       "      <th>Santa Cruz</th>\n",
       "      <td>NaN</td>\n",
       "      <td>NaN</td>\n",
       "      <td>565.74</td>\n",
       "      <td>420.63</td>\n",
       "    </tr>\n",
       "    <tr>\n",
       "      <th>Santa Fe</th>\n",
       "      <td>1246.30</td>\n",
       "      <td>1650.68</td>\n",
       "      <td>686.47</td>\n",
       "      <td>1537.76</td>\n",
       "    </tr>\n",
       "    <tr>\n",
       "      <th>Santiago Del Estero</th>\n",
       "      <td>NaN</td>\n",
       "      <td>513.31</td>\n",
       "      <td>148.00</td>\n",
       "      <td>NaN</td>\n",
       "    </tr>\n",
       "    <tr>\n",
       "      <th>Tierra Del Fuego</th>\n",
       "      <td>NaN</td>\n",
       "      <td>1316.18</td>\n",
       "      <td>808.22</td>\n",
       "      <td>1100.75</td>\n",
       "    </tr>\n",
       "    <tr>\n",
       "      <th>Tucumán</th>\n",
       "      <td>1329.82</td>\n",
       "      <td>785.17</td>\n",
       "      <td>598.23</td>\n",
       "      <td>530.55</td>\n",
       "    </tr>\n",
       "  </tbody>\n",
       "</table>\n",
       "</div>"
      ],
      "text/plain": [
       "                             price_usd_per_m2                            \n",
       "property_type                              PH apartment    house    store\n",
       "state_name                                                               \n",
       "Bs.As. G.B.A. Zona Norte              1324.26   2292.84  1280.00  1409.64\n",
       "Bs.As. G.B.A. Zona Oeste              1100.85   1666.67   855.92  1106.06\n",
       "Bs.As. G.B.A. Zona Sur                1067.52   1818.18  1124.26  1049.48\n",
       "Buenos Aires Costa Atlántica          1111.11   1897.50   611.92  1250.00\n",
       "Buenos Aires Interior                  971.50   1631.58   484.41   837.29\n",
       "Capital Federal                       1625.00   2530.12  1260.87  2270.27\n",
       "Catamarca                                 NaN       NaN   376.14      NaN\n",
       "Chaco                                     NaN   1709.87   747.78  1509.55\n",
       "Chubut                                    NaN   2062.50  1400.00  1107.10\n",
       "Corrientes                            1357.14   1857.67  1111.11  1294.82\n",
       "Córdoba                                950.57   1418.18   570.39  1345.03\n",
       "Entre Ríos                                NaN   1450.44   399.60  1007.27\n",
       "Formosa                                   NaN   1513.74      NaN      NaN\n",
       "Jujuy                                     NaN   1682.51   280.27      NaN\n",
       "La Pampa                                  NaN   1305.02   855.94   616.92\n",
       "La Rioja                                  NaN       NaN   243.03      NaN\n",
       "Mendoza                               1113.72   1568.81   971.35  1720.89\n",
       "Misiones                              1154.66   1342.15   284.95    71.60\n",
       "Neuquén                               2557.11   1850.72   742.93   800.00\n",
       "Río Negro                             1682.35   2500.00  1250.00  1300.32\n",
       "Salta                                     NaN   1504.09   568.12   179.47\n",
       "San Juan                                  NaN   3191.49   105.00      NaN\n",
       "San Luis                                  NaN   1035.39   756.30  1150.44\n",
       "Santa Cruz                                NaN       NaN   565.74   420.63\n",
       "Santa Fe                              1246.30   1650.68   686.47  1537.76\n",
       "Santiago Del Estero                       NaN    513.31   148.00      NaN\n",
       "Tierra Del Fuego                          NaN   1316.18   808.22  1100.75\n",
       "Tucumán                               1329.82    785.17   598.23   530.55"
      ]
     },
     "execution_count": 149,
     "metadata": {},
     "output_type": "execute_result"
    }
   ],
   "source": [
    "#EXPLORACION PRECIOS EN DOLARES POR M2, POR PROVINCIA\n",
    "round(data.pivot_table(index='state_name', columns='property_type',\n",
    "                    aggfunc={ 'price_usd_per_m2':'median'}),2)"
   ]
  },
  {
   "cell_type": "markdown",
   "metadata": {
    "id": "DOq5YyK2fCNb"
   },
   "source": [
    "Creo un dataset de AMBA para hacer el filtro por place name y tipo de propiedad solo de esa zona"
   ]
  },
  {
   "cell_type": "code",
   "execution_count": 150,
   "metadata": {
    "colab": {
     "base_uri": "https://localhost:8080/"
    },
    "executionInfo": {
     "elapsed": 18,
     "status": "ok",
     "timestamp": 1651431277463,
     "user": {
      "displayName": "Maela Lombardi",
      "userId": "03936068368896012188"
     },
     "user_tz": 180
    },
    "id": "8rqYwLlKfJvD",
    "outputId": "dc4039f3-c16a-41d1-fd34-67cfad35c875"
   },
   "outputs": [
    {
     "name": "stdout",
     "output_type": "stream",
     "text": [
      "(71828, 35)\n",
      "   Unnamed: 0 operation property_type place_name  \\\n",
      "0           0      sell            PH  Mataderos   \n",
      "1           1      sell     apartment   La Plata   \n",
      "2           2      sell     apartment  Mataderos   \n",
      "\n",
      "                       place_with_parent_names country_name  \\\n",
      "0        |Argentina|Capital Federal|Mataderos|    Argentina   \n",
      "1  |Argentina|Bs.As. G.B.A. Zona Sur|La Plata|    Argentina   \n",
      "2        |Argentina|Capital Federal|Mataderos|    Argentina   \n",
      "\n",
      "               state_name  geonames_id                  lat-lon        lat  \\\n",
      "0         Capital Federal    3430787.0  -34.6618237,-58.5088387 -34.661824   \n",
      "1  Bs.As. G.B.A. Zona Sur    3432039.0  -34.9038831,-57.9643295 -34.903883   \n",
      "2         Capital Federal    3430787.0  -34.6522615,-58.5229825 -34.652262   \n",
      "\n",
      "   ...                                    image_thumbnail  \\\n",
      "0  ...  https://thumbs4.properati.com/8/BluUYiHJLhgIIK...   \n",
      "1  ...  https://thumbs4.properati.com/7/ikpVBu2ztHA7jv...   \n",
      "2  ...  https://thumbs4.properati.com/5/SXKr34F_IwG3W_...   \n",
      "\n",
      "                                      agrupado tipodecambio_implicito  \\\n",
      "0        |Argentina|Capital Federal|Mataderos|                17.6445   \n",
      "1  |Argentina|Bs.As. G.B.A. Zona Sur|La Plata|                17.6445   \n",
      "2        |Argentina|Capital Federal|Mataderos|                17.6445   \n",
      "\n",
      "   nivel_de_expensas     s_pais             s_provincia  s_localidad  \\\n",
      "0                NaN  Argentina         Capital Federal    Mataderos   \n",
      "1                NaN  Argentina  Bs.As. G.B.A. Zona Sur     La Plata   \n",
      "2                NaN  Argentina         Capital Federal    Mataderos   \n",
      "\n",
      "   s_barrio  s_barrio_1  s_place_name  \n",
      "0       NaN         NaN     Mataderos  \n",
      "1       NaN         NaN      La Plata  \n",
      "2       NaN         NaN     Mataderos  \n",
      "\n",
      "[3 rows x 35 columns]\n"
     ]
    }
   ],
   "source": [
    "#seleccionar propiedades de CABA y GBA\n",
    "AMBA = ['Capital Federal', 'Bs.As. G.B.A. Zona Sur', 'Bs.As. G.B.A. Zona Norte','Bs.As. G.B.A. Zona Norte']\n",
    "data_AMBA = data[(data[\"state_name\"]== 'Capital Federal') | (data[\"state_name\"]== 'Bs.As. G.B.A. Zona Sur') | (data[\"state_name\"]=='Bs.As. G.B.A. Zona Norte') | (data[\"state_name\"]== 'Bs.As. G.B.A. Zona Norte')]\n",
    "print(data_AMBA.shape)\n",
    "print(data_AMBA.head(3))"
   ]
  },
  {
   "cell_type": "markdown",
   "metadata": {
    "id": "sQiLoaO10blt"
   },
   "source": [
    "# **Crear nuevas columnas con valor predictivo**"
   ]
  },
  {
   "cell_type": "markdown",
   "metadata": {
    "id": "s1wXSiWvEwt8"
   },
   "source": [
    "- columna que complete con la media del precio por m2 según place_name\n",
    "- columna que complete con la media de m2 según place_name\n",
    "\n",
    "(estas están hechas sobre data, habría que hacerlas sobre data_corr y demás)"
   ]
  },
  {
   "cell_type": "code",
   "execution_count": 151,
   "metadata": {
    "colab": {
     "base_uri": "https://localhost:8080/",
     "height": 438
    },
    "executionInfo": {
     "elapsed": 11,
     "status": "ok",
     "timestamp": 1651431277463,
     "user": {
      "displayName": "Maela Lombardi",
      "userId": "03936068368896012188"
     },
     "user_tz": 180
    },
    "id": "9HAk0BRGVfAs",
    "outputId": "8bb2f610-6918-4d75-e4ec-53c0b57145be"
   },
   "outputs": [
    {
     "data": {
      "text/html": [
       "<div>\n",
       "<style scoped>\n",
       "    .dataframe tbody tr th:only-of-type {\n",
       "        vertical-align: middle;\n",
       "    }\n",
       "\n",
       "    .dataframe tbody tr th {\n",
       "        vertical-align: top;\n",
       "    }\n",
       "\n",
       "    .dataframe thead th {\n",
       "        text-align: right;\n",
       "    }\n",
       "</style>\n",
       "<table border=\"1\" class=\"dataframe\">\n",
       "  <thead>\n",
       "    <tr style=\"text-align: right;\">\n",
       "      <th></th>\n",
       "      <th>Unnamed: 0</th>\n",
       "      <th>operation</th>\n",
       "      <th>property_type</th>\n",
       "      <th>place_name</th>\n",
       "      <th>place_with_parent_names</th>\n",
       "      <th>country_name</th>\n",
       "      <th>state_name</th>\n",
       "      <th>geonames_id</th>\n",
       "      <th>lat-lon</th>\n",
       "      <th>lat</th>\n",
       "      <th>...</th>\n",
       "      <th>agrupado</th>\n",
       "      <th>tipodecambio_implicito</th>\n",
       "      <th>nivel_de_expensas</th>\n",
       "      <th>s_pais</th>\n",
       "      <th>s_provincia</th>\n",
       "      <th>s_localidad</th>\n",
       "      <th>s_barrio</th>\n",
       "      <th>s_barrio_1</th>\n",
       "      <th>s_place_name</th>\n",
       "      <th>price_state</th>\n",
       "    </tr>\n",
       "  </thead>\n",
       "  <tbody>\n",
       "    <tr>\n",
       "      <th>0</th>\n",
       "      <td>0</td>\n",
       "      <td>sell</td>\n",
       "      <td>PH</td>\n",
       "      <td>Mataderos</td>\n",
       "      <td>|Argentina|Capital Federal|Mataderos|</td>\n",
       "      <td>Argentina</td>\n",
       "      <td>Capital Federal</td>\n",
       "      <td>3430787.0</td>\n",
       "      <td>-34.6618237,-58.5088387</td>\n",
       "      <td>-34.661824</td>\n",
       "      <td>...</td>\n",
       "      <td>|Argentina|Capital Federal|Mataderos|</td>\n",
       "      <td>17.6445</td>\n",
       "      <td>NaN</td>\n",
       "      <td>Argentina</td>\n",
       "      <td>Capital Federal</td>\n",
       "      <td>Mataderos</td>\n",
       "      <td>NaN</td>\n",
       "      <td>NaN</td>\n",
       "      <td>Mataderos</td>\n",
       "      <td>2581.751290</td>\n",
       "    </tr>\n",
       "    <tr>\n",
       "      <th>1</th>\n",
       "      <td>1</td>\n",
       "      <td>sell</td>\n",
       "      <td>apartment</td>\n",
       "      <td>La Plata</td>\n",
       "      <td>|Argentina|Bs.As. G.B.A. Zona Sur|La Plata|</td>\n",
       "      <td>Argentina</td>\n",
       "      <td>Bs.As. G.B.A. Zona Sur</td>\n",
       "      <td>3432039.0</td>\n",
       "      <td>-34.9038831,-57.9643295</td>\n",
       "      <td>-34.903883</td>\n",
       "      <td>...</td>\n",
       "      <td>|Argentina|Bs.As. G.B.A. Zona Sur|La Plata|</td>\n",
       "      <td>17.6445</td>\n",
       "      <td>NaN</td>\n",
       "      <td>Argentina</td>\n",
       "      <td>Bs.As. G.B.A. Zona Sur</td>\n",
       "      <td>La Plata</td>\n",
       "      <td>NaN</td>\n",
       "      <td>NaN</td>\n",
       "      <td>La Plata</td>\n",
       "      <td>1478.390493</td>\n",
       "    </tr>\n",
       "    <tr>\n",
       "      <th>2</th>\n",
       "      <td>2</td>\n",
       "      <td>sell</td>\n",
       "      <td>apartment</td>\n",
       "      <td>Mataderos</td>\n",
       "      <td>|Argentina|Capital Federal|Mataderos|</td>\n",
       "      <td>Argentina</td>\n",
       "      <td>Capital Federal</td>\n",
       "      <td>3430787.0</td>\n",
       "      <td>-34.6522615,-58.5229825</td>\n",
       "      <td>-34.652262</td>\n",
       "      <td>...</td>\n",
       "      <td>|Argentina|Capital Federal|Mataderos|</td>\n",
       "      <td>17.6445</td>\n",
       "      <td>NaN</td>\n",
       "      <td>Argentina</td>\n",
       "      <td>Capital Federal</td>\n",
       "      <td>Mataderos</td>\n",
       "      <td>NaN</td>\n",
       "      <td>NaN</td>\n",
       "      <td>Mataderos</td>\n",
       "      <td>2581.751290</td>\n",
       "    </tr>\n",
       "    <tr>\n",
       "      <th>3</th>\n",
       "      <td>3</td>\n",
       "      <td>sell</td>\n",
       "      <td>PH</td>\n",
       "      <td>Liniers</td>\n",
       "      <td>|Argentina|Capital Federal|Liniers|</td>\n",
       "      <td>Argentina</td>\n",
       "      <td>Capital Federal</td>\n",
       "      <td>3431333.0</td>\n",
       "      <td>-34.6477969,-58.5164244</td>\n",
       "      <td>-34.647797</td>\n",
       "      <td>...</td>\n",
       "      <td>|Argentina|Capital Federal|Liniers|</td>\n",
       "      <td>17.6445</td>\n",
       "      <td>NaN</td>\n",
       "      <td>Argentina</td>\n",
       "      <td>Capital Federal</td>\n",
       "      <td>Liniers</td>\n",
       "      <td>NaN</td>\n",
       "      <td>NaN</td>\n",
       "      <td>Liniers</td>\n",
       "      <td>2581.751290</td>\n",
       "    </tr>\n",
       "    <tr>\n",
       "      <th>4</th>\n",
       "      <td>4</td>\n",
       "      <td>sell</td>\n",
       "      <td>apartment</td>\n",
       "      <td>Centro</td>\n",
       "      <td>|Argentina|Buenos Aires Costa Atlántica|Mar de...</td>\n",
       "      <td>Argentina</td>\n",
       "      <td>Buenos Aires Costa Atlántica</td>\n",
       "      <td>3435548.0</td>\n",
       "      <td>-38.0026256,-57.5494468</td>\n",
       "      <td>-38.002626</td>\n",
       "      <td>...</td>\n",
       "      <td>|Argentina|Buenos Aires Costa Atlántica|Centro|</td>\n",
       "      <td>17.6445</td>\n",
       "      <td>NaN</td>\n",
       "      <td>Argentina</td>\n",
       "      <td>Buenos Aires Costa Atlántica</td>\n",
       "      <td>Mar del Plata</td>\n",
       "      <td>Centro</td>\n",
       "      <td>NaN</td>\n",
       "      <td>Centro</td>\n",
       "      <td>1560.713638</td>\n",
       "    </tr>\n",
       "  </tbody>\n",
       "</table>\n",
       "<p>5 rows × 36 columns</p>\n",
       "</div>"
      ],
      "text/plain": [
       "   Unnamed: 0 operation property_type place_name  \\\n",
       "0           0      sell            PH  Mataderos   \n",
       "1           1      sell     apartment   La Plata   \n",
       "2           2      sell     apartment  Mataderos   \n",
       "3           3      sell            PH    Liniers   \n",
       "4           4      sell     apartment     Centro   \n",
       "\n",
       "                             place_with_parent_names country_name  \\\n",
       "0              |Argentina|Capital Federal|Mataderos|    Argentina   \n",
       "1        |Argentina|Bs.As. G.B.A. Zona Sur|La Plata|    Argentina   \n",
       "2              |Argentina|Capital Federal|Mataderos|    Argentina   \n",
       "3                |Argentina|Capital Federal|Liniers|    Argentina   \n",
       "4  |Argentina|Buenos Aires Costa Atlántica|Mar de...    Argentina   \n",
       "\n",
       "                     state_name  geonames_id                  lat-lon  \\\n",
       "0               Capital Federal    3430787.0  -34.6618237,-58.5088387   \n",
       "1        Bs.As. G.B.A. Zona Sur    3432039.0  -34.9038831,-57.9643295   \n",
       "2               Capital Federal    3430787.0  -34.6522615,-58.5229825   \n",
       "3               Capital Federal    3431333.0  -34.6477969,-58.5164244   \n",
       "4  Buenos Aires Costa Atlántica    3435548.0  -38.0026256,-57.5494468   \n",
       "\n",
       "         lat  ...                                         agrupado  \\\n",
       "0 -34.661824  ...            |Argentina|Capital Federal|Mataderos|   \n",
       "1 -34.903883  ...      |Argentina|Bs.As. G.B.A. Zona Sur|La Plata|   \n",
       "2 -34.652262  ...            |Argentina|Capital Federal|Mataderos|   \n",
       "3 -34.647797  ...              |Argentina|Capital Federal|Liniers|   \n",
       "4 -38.002626  ...  |Argentina|Buenos Aires Costa Atlántica|Centro|   \n",
       "\n",
       "   tipodecambio_implicito nivel_de_expensas     s_pais  \\\n",
       "0                 17.6445               NaN  Argentina   \n",
       "1                 17.6445               NaN  Argentina   \n",
       "2                 17.6445               NaN  Argentina   \n",
       "3                 17.6445               NaN  Argentina   \n",
       "4                 17.6445               NaN  Argentina   \n",
       "\n",
       "                    s_provincia    s_localidad  s_barrio  s_barrio_1  \\\n",
       "0               Capital Federal      Mataderos       NaN         NaN   \n",
       "1        Bs.As. G.B.A. Zona Sur       La Plata       NaN         NaN   \n",
       "2               Capital Federal      Mataderos       NaN         NaN   \n",
       "3               Capital Federal        Liniers       NaN         NaN   \n",
       "4  Buenos Aires Costa Atlántica  Mar del Plata    Centro         NaN   \n",
       "\n",
       "   s_place_name  price_state  \n",
       "0     Mataderos  2581.751290  \n",
       "1      La Plata  1478.390493  \n",
       "2     Mataderos  2581.751290  \n",
       "3       Liniers  2581.751290  \n",
       "4        Centro  1560.713638  \n",
       "\n",
       "[5 rows x 36 columns]"
      ]
     },
     "execution_count": 151,
     "metadata": {},
     "output_type": "execute_result"
    }
   ],
   "source": [
    "#creo una columna que rellene el valor con la media del precio por m2 en este state_name\n",
    "data[\"price_state\"] = data.groupby('state_name')['price_usd_per_m2'].transform('mean') \n",
    "data.head()"
   ]
  },
  {
   "cell_type": "code",
   "execution_count": 152,
   "metadata": {
    "colab": {
     "base_uri": "https://localhost:8080/",
     "height": 438
    },
    "executionInfo": {
     "elapsed": 10,
     "status": "ok",
     "timestamp": 1651431277464,
     "user": {
      "displayName": "Maela Lombardi",
      "userId": "03936068368896012188"
     },
     "user_tz": 180
    },
    "id": "r6WfBjOJZU9g",
    "outputId": "f1b7de7d-c9ae-4a0e-aff9-cdc9959e647b"
   },
   "outputs": [
    {
     "data": {
      "text/html": [
       "<div>\n",
       "<style scoped>\n",
       "    .dataframe tbody tr th:only-of-type {\n",
       "        vertical-align: middle;\n",
       "    }\n",
       "\n",
       "    .dataframe tbody tr th {\n",
       "        vertical-align: top;\n",
       "    }\n",
       "\n",
       "    .dataframe thead th {\n",
       "        text-align: right;\n",
       "    }\n",
       "</style>\n",
       "<table border=\"1\" class=\"dataframe\">\n",
       "  <thead>\n",
       "    <tr style=\"text-align: right;\">\n",
       "      <th></th>\n",
       "      <th>Unnamed: 0</th>\n",
       "      <th>operation</th>\n",
       "      <th>property_type</th>\n",
       "      <th>place_name</th>\n",
       "      <th>place_with_parent_names</th>\n",
       "      <th>country_name</th>\n",
       "      <th>state_name</th>\n",
       "      <th>geonames_id</th>\n",
       "      <th>lat-lon</th>\n",
       "      <th>lat</th>\n",
       "      <th>...</th>\n",
       "      <th>agrupado</th>\n",
       "      <th>tipodecambio_implicito</th>\n",
       "      <th>nivel_de_expensas</th>\n",
       "      <th>s_pais</th>\n",
       "      <th>s_provincia</th>\n",
       "      <th>s_localidad</th>\n",
       "      <th>s_barrio</th>\n",
       "      <th>s_barrio_1</th>\n",
       "      <th>s_place_name</th>\n",
       "      <th>price_state</th>\n",
       "    </tr>\n",
       "  </thead>\n",
       "  <tbody>\n",
       "    <tr>\n",
       "      <th>0</th>\n",
       "      <td>0</td>\n",
       "      <td>sell</td>\n",
       "      <td>PH</td>\n",
       "      <td>Mataderos</td>\n",
       "      <td>|Argentina|Capital Federal|Mataderos|</td>\n",
       "      <td>Argentina</td>\n",
       "      <td>Capital Federal</td>\n",
       "      <td>3430787.0</td>\n",
       "      <td>-34.6618237,-58.5088387</td>\n",
       "      <td>-34.661824</td>\n",
       "      <td>...</td>\n",
       "      <td>|Argentina|Capital Federal|Mataderos|</td>\n",
       "      <td>17.6445</td>\n",
       "      <td>NaN</td>\n",
       "      <td>Argentina</td>\n",
       "      <td>Capital Federal</td>\n",
       "      <td>Mataderos</td>\n",
       "      <td>NaN</td>\n",
       "      <td>NaN</td>\n",
       "      <td>Mataderos</td>\n",
       "      <td>109.000833</td>\n",
       "    </tr>\n",
       "    <tr>\n",
       "      <th>1</th>\n",
       "      <td>1</td>\n",
       "      <td>sell</td>\n",
       "      <td>apartment</td>\n",
       "      <td>La Plata</td>\n",
       "      <td>|Argentina|Bs.As. G.B.A. Zona Sur|La Plata|</td>\n",
       "      <td>Argentina</td>\n",
       "      <td>Bs.As. G.B.A. Zona Sur</td>\n",
       "      <td>3432039.0</td>\n",
       "      <td>-34.9038831,-57.9643295</td>\n",
       "      <td>-34.903883</td>\n",
       "      <td>...</td>\n",
       "      <td>|Argentina|Bs.As. G.B.A. Zona Sur|La Plata|</td>\n",
       "      <td>17.6445</td>\n",
       "      <td>NaN</td>\n",
       "      <td>Argentina</td>\n",
       "      <td>Bs.As. G.B.A. Zona Sur</td>\n",
       "      <td>La Plata</td>\n",
       "      <td>NaN</td>\n",
       "      <td>NaN</td>\n",
       "      <td>La Plata</td>\n",
       "      <td>198.632849</td>\n",
       "    </tr>\n",
       "    <tr>\n",
       "      <th>2</th>\n",
       "      <td>2</td>\n",
       "      <td>sell</td>\n",
       "      <td>apartment</td>\n",
       "      <td>Mataderos</td>\n",
       "      <td>|Argentina|Capital Federal|Mataderos|</td>\n",
       "      <td>Argentina</td>\n",
       "      <td>Capital Federal</td>\n",
       "      <td>3430787.0</td>\n",
       "      <td>-34.6522615,-58.5229825</td>\n",
       "      <td>-34.652262</td>\n",
       "      <td>...</td>\n",
       "      <td>|Argentina|Capital Federal|Mataderos|</td>\n",
       "      <td>17.6445</td>\n",
       "      <td>NaN</td>\n",
       "      <td>Argentina</td>\n",
       "      <td>Capital Federal</td>\n",
       "      <td>Mataderos</td>\n",
       "      <td>NaN</td>\n",
       "      <td>NaN</td>\n",
       "      <td>Mataderos</td>\n",
       "      <td>109.000833</td>\n",
       "    </tr>\n",
       "    <tr>\n",
       "      <th>3</th>\n",
       "      <td>3</td>\n",
       "      <td>sell</td>\n",
       "      <td>PH</td>\n",
       "      <td>Liniers</td>\n",
       "      <td>|Argentina|Capital Federal|Liniers|</td>\n",
       "      <td>Argentina</td>\n",
       "      <td>Capital Federal</td>\n",
       "      <td>3431333.0</td>\n",
       "      <td>-34.6477969,-58.5164244</td>\n",
       "      <td>-34.647797</td>\n",
       "      <td>...</td>\n",
       "      <td>|Argentina|Capital Federal|Liniers|</td>\n",
       "      <td>17.6445</td>\n",
       "      <td>NaN</td>\n",
       "      <td>Argentina</td>\n",
       "      <td>Capital Federal</td>\n",
       "      <td>Liniers</td>\n",
       "      <td>NaN</td>\n",
       "      <td>NaN</td>\n",
       "      <td>Liniers</td>\n",
       "      <td>109.000833</td>\n",
       "    </tr>\n",
       "    <tr>\n",
       "      <th>4</th>\n",
       "      <td>4</td>\n",
       "      <td>sell</td>\n",
       "      <td>apartment</td>\n",
       "      <td>Centro</td>\n",
       "      <td>|Argentina|Buenos Aires Costa Atlántica|Mar de...</td>\n",
       "      <td>Argentina</td>\n",
       "      <td>Buenos Aires Costa Atlántica</td>\n",
       "      <td>3435548.0</td>\n",
       "      <td>-38.0026256,-57.5494468</td>\n",
       "      <td>-38.002626</td>\n",
       "      <td>...</td>\n",
       "      <td>|Argentina|Buenos Aires Costa Atlántica|Centro|</td>\n",
       "      <td>17.6445</td>\n",
       "      <td>NaN</td>\n",
       "      <td>Argentina</td>\n",
       "      <td>Buenos Aires Costa Atlántica</td>\n",
       "      <td>Mar del Plata</td>\n",
       "      <td>Centro</td>\n",
       "      <td>NaN</td>\n",
       "      <td>Centro</td>\n",
       "      <td>180.388602</td>\n",
       "    </tr>\n",
       "  </tbody>\n",
       "</table>\n",
       "<p>5 rows × 36 columns</p>\n",
       "</div>"
      ],
      "text/plain": [
       "   Unnamed: 0 operation property_type place_name  \\\n",
       "0           0      sell            PH  Mataderos   \n",
       "1           1      sell     apartment   La Plata   \n",
       "2           2      sell     apartment  Mataderos   \n",
       "3           3      sell            PH    Liniers   \n",
       "4           4      sell     apartment     Centro   \n",
       "\n",
       "                             place_with_parent_names country_name  \\\n",
       "0              |Argentina|Capital Federal|Mataderos|    Argentina   \n",
       "1        |Argentina|Bs.As. G.B.A. Zona Sur|La Plata|    Argentina   \n",
       "2              |Argentina|Capital Federal|Mataderos|    Argentina   \n",
       "3                |Argentina|Capital Federal|Liniers|    Argentina   \n",
       "4  |Argentina|Buenos Aires Costa Atlántica|Mar de...    Argentina   \n",
       "\n",
       "                     state_name  geonames_id                  lat-lon  \\\n",
       "0               Capital Federal    3430787.0  -34.6618237,-58.5088387   \n",
       "1        Bs.As. G.B.A. Zona Sur    3432039.0  -34.9038831,-57.9643295   \n",
       "2               Capital Federal    3430787.0  -34.6522615,-58.5229825   \n",
       "3               Capital Federal    3431333.0  -34.6477969,-58.5164244   \n",
       "4  Buenos Aires Costa Atlántica    3435548.0  -38.0026256,-57.5494468   \n",
       "\n",
       "         lat  ...                                         agrupado  \\\n",
       "0 -34.661824  ...            |Argentina|Capital Federal|Mataderos|   \n",
       "1 -34.903883  ...      |Argentina|Bs.As. G.B.A. Zona Sur|La Plata|   \n",
       "2 -34.652262  ...            |Argentina|Capital Federal|Mataderos|   \n",
       "3 -34.647797  ...              |Argentina|Capital Federal|Liniers|   \n",
       "4 -38.002626  ...  |Argentina|Buenos Aires Costa Atlántica|Centro|   \n",
       "\n",
       "   tipodecambio_implicito nivel_de_expensas     s_pais  \\\n",
       "0                 17.6445               NaN  Argentina   \n",
       "1                 17.6445               NaN  Argentina   \n",
       "2                 17.6445               NaN  Argentina   \n",
       "3                 17.6445               NaN  Argentina   \n",
       "4                 17.6445               NaN  Argentina   \n",
       "\n",
       "                    s_provincia    s_localidad  s_barrio  s_barrio_1  \\\n",
       "0               Capital Federal      Mataderos       NaN         NaN   \n",
       "1        Bs.As. G.B.A. Zona Sur       La Plata       NaN         NaN   \n",
       "2               Capital Federal      Mataderos       NaN         NaN   \n",
       "3               Capital Federal        Liniers       NaN         NaN   \n",
       "4  Buenos Aires Costa Atlántica  Mar del Plata    Centro         NaN   \n",
       "\n",
       "   s_place_name  price_state  \n",
       "0     Mataderos   109.000833  \n",
       "1      La Plata   198.632849  \n",
       "2     Mataderos   109.000833  \n",
       "3       Liniers   109.000833  \n",
       "4        Centro   180.388602  \n",
       "\n",
       "[5 rows x 36 columns]"
      ]
     },
     "execution_count": 152,
     "metadata": {},
     "output_type": "execute_result"
    }
   ],
   "source": [
    "#creo una columna que rellene el valor con la media del m2 total en este state_name\n",
    "data[\"price_state\"] = data.groupby('state_name')['surface_total_in_m2'].transform('mean') \n",
    "data.head()"
   ]
  },
  {
   "cell_type": "markdown",
   "metadata": {
    "id": "iv79nG5uacrd"
   },
   "source": [
    "### Creamos columnas con amenities adicionales que tendrán utilidad para predecir variación de precios.\n",
    "\n"
   ]
  },
  {
   "cell_type": "code",
   "execution_count": 153,
   "metadata": {
    "id": "TZJ2mBI0d3UN"
   },
   "outputs": [],
   "source": [
    "#fracciono la columna properti_url para sacar la nube de palabras mas repetidas\n",
    "import re\n",
    "patron_url = re.compile(pattern=\"_\", flags =re.IGNORECASE)\n",
    "lista_url = data[\"properati_url\"].apply(lambda x : patron_url.split(x))\n",
    "serie_palabras = pd.Series(np.hstack(lista_url))\n",
    "#serie_palabras.value_counts().head(20).plot(kind=\"bar\")\n"
   ]
  },
  {
   "cell_type": "code",
   "execution_count": 154,
   "metadata": {
    "colab": {
     "base_uri": "https://localhost:8080/"
    },
    "executionInfo": {
     "elapsed": 21,
     "status": "ok",
     "timestamp": 1651431279638,
     "user": {
      "displayName": "Maela Lombardi",
      "userId": "03936068368896012188"
     },
     "user_tz": 180
    },
    "id": "-fq0FwrK0FMR",
    "outputId": "43d2b72c-97de-42fc-df41-c2f07c6f5568"
   },
   "outputs": [
    {
     "data": {
      "text/plain": [
       "venta                 121086\n",
       "departamento           71019\n",
       "garage                 56620\n",
       "lavadero               44034\n",
       "balcon                 42286\n",
       "casa                   40196\n",
       "parrilla               33381\n",
       "piscina                32146\n",
       "luminoso               31865\n",
       "suite                  27101\n",
       "placard                26145\n",
       "terraza                25101\n",
       "toilette               22841\n",
       "patio                  21168\n",
       "vestidor               18011\n",
       "jardin                 17131\n",
       "quincho                12848\n",
       "aire-acondicionado     12763\n",
       "sum                    11665\n",
       "dependencias           11316\n",
       "amenities              10607\n",
       "baulera                10512\n",
       "estrenar               10379\n",
       "vista                  10011\n",
       "gimnasio                9363\n",
       "dtype: int64"
      ]
     },
     "execution_count": 154,
     "metadata": {},
     "output_type": "execute_result"
    }
   ],
   "source": [
    "serie_palabras.value_counts().head(25)"
   ]
  },
  {
   "cell_type": "code",
   "execution_count": 155,
   "metadata": {
    "id": "Jk22xPJZa9pm"
   },
   "outputs": [],
   "source": [
    "# a partir de la nube de palabras selecciono las que son buenos adicionales\n",
    "adicionales = [\"garage\", \"balcon\", \"parrilla\", \"piscina\", \"terraza\", \"patio\", \"jardin\", \"quincho\", \"sum\", \"amenities\", \"baulera\", \"gimnasio\"]\n"
   ]
  },
  {
   "cell_type": "code",
   "execution_count": 156,
   "metadata": {
    "id": "cSivTSfQoiyj"
   },
   "outputs": [],
   "source": [
    "#elimino el primer elemento de lista_url para no tener el elemento con el http: etc\n",
    "for sublist in lista_url:\n",
    "  del sublist[0]"
   ]
  },
  {
   "cell_type": "code",
   "execution_count": 157,
   "metadata": {
    "colab": {
     "base_uri": "https://localhost:8080/"
    },
    "executionInfo": {
     "elapsed": 6,
     "status": "ok",
     "timestamp": 1651431280039,
     "user": {
      "displayName": "Maela Lombardi",
      "userId": "03936068368896012188"
     },
     "user_tz": 180
    },
    "id": "ZmKJ4I_wlwxh",
    "outputId": "49a1a07b-36cd-4d86-9004-f168b551c1d1"
   },
   "outputs": [
    {
     "data": {
      "text/plain": [
       "0         [venta, ph, mataderos, lavadero, patio, inmobi...\n",
       "1         [venta, departamentos, la-plata, balcon, lavad...\n",
       "2         [venta, departamentos, mataderos, lavadero, pl...\n",
       "3                   [venta, ph, liniers, patio, g-goffredo]\n",
       "4         [venta, departamentos, centro, cristina-pavone...\n",
       "                                ...                        \n",
       "121215    [venta, departamento, belgrano, balcon, suite,...\n",
       "121216    [venta, casa, beccar, suite, hidromasaje, jard...\n",
       "121217    [venta, departamento, villa-urquiza, holmberg,...\n",
       "121218    [venta, departamento, plaza-colon, lavadero, l...\n",
       "121219    [venta, departamento, capital-federal, baulera...\n",
       "Name: properati_url, Length: 121220, dtype: object"
      ]
     },
     "execution_count": 157,
     "metadata": {},
     "output_type": "execute_result"
    }
   ],
   "source": [
    "lista_url"
   ]
  },
  {
   "cell_type": "code",
   "execution_count": 158,
   "metadata": {
    "id": "6xTQyApPl1_c"
   },
   "outputs": [],
   "source": [
    "#creo una función que compare la lista de palabras con la lista de listas\n",
    "#y me da como resultado una lista de listas de palabras true/false segun coincida o no \n",
    "def buscador_palabras(quebuscar, dondebuscar):\n",
    "  listadeextras = []\n",
    "  for listas in dondebuscar:\n",
    "    extras = []\n",
    "    for palabra in quebuscar:\n",
    "      if palabra in listas:\n",
    "        extras.append(True)\n",
    "      else:\n",
    "        extras.append(False)\n",
    "    listadeextras.append(extras)\n",
    "  #print(listadeextras)\n",
    "  return listadeextras     "
   ]
  },
  {
   "cell_type": "code",
   "execution_count": 159,
   "metadata": {
    "colab": {
     "base_uri": "https://localhost:8080/"
    },
    "executionInfo": {
     "elapsed": 862,
     "status": "ok",
     "timestamp": 1651431280900,
     "user": {
      "displayName": "Maela Lombardi",
      "userId": "03936068368896012188"
     },
     "user_tz": 180
    },
    "id": "QKvkph_HnmMP",
    "outputId": "694bb379-1473-4e3a-dc79-a905264d2952"
   },
   "outputs": [
    {
     "data": {
      "text/plain": [
       "121220"
      ]
     },
     "execution_count": 159,
     "metadata": {},
     "output_type": "execute_result"
    }
   ],
   "source": [
    "#aplico la funcion a mi lista \"adicionales\" y \"lista_url\"\n",
    "#chequeo que tenga la misma longitud de data\n",
    "resultado = buscador_palabras(adicionales,lista_url)\n",
    "len(resultado)"
   ]
  },
  {
   "cell_type": "code",
   "execution_count": 160,
   "metadata": {
    "colab": {
     "base_uri": "https://localhost:8080/",
     "height": 423
    },
    "executionInfo": {
     "elapsed": 13,
     "status": "ok",
     "timestamp": 1651431280900,
     "user": {
      "displayName": "Maela Lombardi",
      "userId": "03936068368896012188"
     },
     "user_tz": 180
    },
    "id": "nE4L2iH5i1-4",
    "outputId": "90fcc17a-7268-4b64-b061-87b4f7263271"
   },
   "outputs": [
    {
     "data": {
      "text/html": [
       "<div>\n",
       "<style scoped>\n",
       "    .dataframe tbody tr th:only-of-type {\n",
       "        vertical-align: middle;\n",
       "    }\n",
       "\n",
       "    .dataframe tbody tr th {\n",
       "        vertical-align: top;\n",
       "    }\n",
       "\n",
       "    .dataframe thead th {\n",
       "        text-align: right;\n",
       "    }\n",
       "</style>\n",
       "<table border=\"1\" class=\"dataframe\">\n",
       "  <thead>\n",
       "    <tr style=\"text-align: right;\">\n",
       "      <th></th>\n",
       "      <th>garage</th>\n",
       "      <th>balcon</th>\n",
       "      <th>parrilla</th>\n",
       "      <th>piscina</th>\n",
       "      <th>terraza</th>\n",
       "      <th>patio</th>\n",
       "      <th>jardin</th>\n",
       "      <th>quincho</th>\n",
       "      <th>s.u.m.</th>\n",
       "      <th>amenities</th>\n",
       "      <th>baulera</th>\n",
       "      <th>gimnasio</th>\n",
       "    </tr>\n",
       "  </thead>\n",
       "  <tbody>\n",
       "    <tr>\n",
       "      <th>0</th>\n",
       "      <td>False</td>\n",
       "      <td>False</td>\n",
       "      <td>False</td>\n",
       "      <td>False</td>\n",
       "      <td>False</td>\n",
       "      <td>True</td>\n",
       "      <td>False</td>\n",
       "      <td>False</td>\n",
       "      <td>False</td>\n",
       "      <td>False</td>\n",
       "      <td>False</td>\n",
       "      <td>False</td>\n",
       "    </tr>\n",
       "    <tr>\n",
       "      <th>1</th>\n",
       "      <td>True</td>\n",
       "      <td>True</td>\n",
       "      <td>False</td>\n",
       "      <td>False</td>\n",
       "      <td>False</td>\n",
       "      <td>False</td>\n",
       "      <td>False</td>\n",
       "      <td>False</td>\n",
       "      <td>False</td>\n",
       "      <td>False</td>\n",
       "      <td>False</td>\n",
       "      <td>False</td>\n",
       "    </tr>\n",
       "    <tr>\n",
       "      <th>2</th>\n",
       "      <td>False</td>\n",
       "      <td>False</td>\n",
       "      <td>False</td>\n",
       "      <td>False</td>\n",
       "      <td>False</td>\n",
       "      <td>False</td>\n",
       "      <td>False</td>\n",
       "      <td>False</td>\n",
       "      <td>False</td>\n",
       "      <td>False</td>\n",
       "      <td>False</td>\n",
       "      <td>False</td>\n",
       "    </tr>\n",
       "    <tr>\n",
       "      <th>3</th>\n",
       "      <td>False</td>\n",
       "      <td>False</td>\n",
       "      <td>False</td>\n",
       "      <td>False</td>\n",
       "      <td>False</td>\n",
       "      <td>True</td>\n",
       "      <td>False</td>\n",
       "      <td>False</td>\n",
       "      <td>False</td>\n",
       "      <td>False</td>\n",
       "      <td>False</td>\n",
       "      <td>False</td>\n",
       "    </tr>\n",
       "    <tr>\n",
       "      <th>4</th>\n",
       "      <td>False</td>\n",
       "      <td>False</td>\n",
       "      <td>False</td>\n",
       "      <td>False</td>\n",
       "      <td>False</td>\n",
       "      <td>False</td>\n",
       "      <td>False</td>\n",
       "      <td>False</td>\n",
       "      <td>False</td>\n",
       "      <td>False</td>\n",
       "      <td>False</td>\n",
       "      <td>False</td>\n",
       "    </tr>\n",
       "    <tr>\n",
       "      <th>...</th>\n",
       "      <td>...</td>\n",
       "      <td>...</td>\n",
       "      <td>...</td>\n",
       "      <td>...</td>\n",
       "      <td>...</td>\n",
       "      <td>...</td>\n",
       "      <td>...</td>\n",
       "      <td>...</td>\n",
       "      <td>...</td>\n",
       "      <td>...</td>\n",
       "      <td>...</td>\n",
       "      <td>...</td>\n",
       "    </tr>\n",
       "    <tr>\n",
       "      <th>121215</th>\n",
       "      <td>True</td>\n",
       "      <td>True</td>\n",
       "      <td>True</td>\n",
       "      <td>True</td>\n",
       "      <td>False</td>\n",
       "      <td>False</td>\n",
       "      <td>False</td>\n",
       "      <td>True</td>\n",
       "      <td>False</td>\n",
       "      <td>False</td>\n",
       "      <td>False</td>\n",
       "      <td>False</td>\n",
       "    </tr>\n",
       "    <tr>\n",
       "      <th>121216</th>\n",
       "      <td>True</td>\n",
       "      <td>False</td>\n",
       "      <td>True</td>\n",
       "      <td>True</td>\n",
       "      <td>False</td>\n",
       "      <td>False</td>\n",
       "      <td>True</td>\n",
       "      <td>True</td>\n",
       "      <td>False</td>\n",
       "      <td>False</td>\n",
       "      <td>False</td>\n",
       "      <td>False</td>\n",
       "    </tr>\n",
       "    <tr>\n",
       "      <th>121217</th>\n",
       "      <td>True</td>\n",
       "      <td>True</td>\n",
       "      <td>True</td>\n",
       "      <td>False</td>\n",
       "      <td>True</td>\n",
       "      <td>False</td>\n",
       "      <td>False</td>\n",
       "      <td>False</td>\n",
       "      <td>False</td>\n",
       "      <td>True</td>\n",
       "      <td>False</td>\n",
       "      <td>False</td>\n",
       "    </tr>\n",
       "    <tr>\n",
       "      <th>121218</th>\n",
       "      <td>False</td>\n",
       "      <td>False</td>\n",
       "      <td>False</td>\n",
       "      <td>False</td>\n",
       "      <td>False</td>\n",
       "      <td>False</td>\n",
       "      <td>False</td>\n",
       "      <td>False</td>\n",
       "      <td>False</td>\n",
       "      <td>False</td>\n",
       "      <td>False</td>\n",
       "      <td>False</td>\n",
       "    </tr>\n",
       "    <tr>\n",
       "      <th>121219</th>\n",
       "      <td>False</td>\n",
       "      <td>False</td>\n",
       "      <td>False</td>\n",
       "      <td>False</td>\n",
       "      <td>False</td>\n",
       "      <td>False</td>\n",
       "      <td>False</td>\n",
       "      <td>False</td>\n",
       "      <td>False</td>\n",
       "      <td>False</td>\n",
       "      <td>True</td>\n",
       "      <td>False</td>\n",
       "    </tr>\n",
       "  </tbody>\n",
       "</table>\n",
       "<p>121220 rows × 12 columns</p>\n",
       "</div>"
      ],
      "text/plain": [
       "        garage  balcon  parrilla  piscina  terraza  patio  jardin  quincho  \\\n",
       "0        False   False     False    False    False   True   False    False   \n",
       "1         True    True     False    False    False  False   False    False   \n",
       "2        False   False     False    False    False  False   False    False   \n",
       "3        False   False     False    False    False   True   False    False   \n",
       "4        False   False     False    False    False  False   False    False   \n",
       "...        ...     ...       ...      ...      ...    ...     ...      ...   \n",
       "121215    True    True      True     True    False  False   False     True   \n",
       "121216    True   False      True     True    False  False    True     True   \n",
       "121217    True    True      True    False     True  False   False    False   \n",
       "121218   False   False     False    False    False  False   False    False   \n",
       "121219   False   False     False    False    False  False   False    False   \n",
       "\n",
       "        s.u.m.  amenities  baulera  gimnasio  \n",
       "0        False      False    False     False  \n",
       "1        False      False    False     False  \n",
       "2        False      False    False     False  \n",
       "3        False      False    False     False  \n",
       "4        False      False    False     False  \n",
       "...        ...        ...      ...       ...  \n",
       "121215   False      False    False     False  \n",
       "121216   False      False    False     False  \n",
       "121217   False       True    False     False  \n",
       "121218   False      False    False     False  \n",
       "121219   False      False     True     False  \n",
       "\n",
       "[121220 rows x 12 columns]"
      ]
     },
     "execution_count": 160,
     "metadata": {},
     "output_type": "execute_result"
    }
   ],
   "source": [
    "#convierto resultado en dataframe, y renombro las columnas por la lista de palabras adicionales\n",
    "df = pd.DataFrame(resultado)\n",
    "df.columns = [\"garage\", \"balcon\", \"parrilla\", \"piscina\", \"terraza\", \"patio\", \"jardin\", \"quincho\", \"s.u.m.\", \"amenities\", \"baulera\", \"gimnasio\"]\n",
    "df"
   ]
  },
  {
   "cell_type": "code",
   "execution_count": 161,
   "metadata": {
    "colab": {
     "base_uri": "https://localhost:8080/"
    },
    "executionInfo": {
     "elapsed": 14,
     "status": "ok",
     "timestamp": 1651431280902,
     "user": {
      "displayName": "Maela Lombardi",
      "userId": "03936068368896012188"
     },
     "user_tz": 180
    },
    "id": "DHZhUj4uxYJA",
    "outputId": "ae95fb5e-314d-4d3a-8d70-44d45cb64974"
   },
   "outputs": [
    {
     "data": {
      "text/plain": [
       "Index(['Unnamed: 0', 'operation', 'property_type', 'place_name',\n",
       "       'place_with_parent_names', 'country_name', 'state_name', 'geonames_id',\n",
       "       'lat-lon', 'lat', 'lon', 'price', 'currency',\n",
       "       'price_aprox_local_currency', 'price_aprox_usd', 'surface_total_in_m2',\n",
       "       'surface_covered_in_m2', 'price_usd_per_m2', 'price_per_m2', 'floor',\n",
       "       'rooms', 'expenses', 'properati_url', 'description', 'title',\n",
       "       'image_thumbnail', 'agrupado', 'tipodecambio_implicito',\n",
       "       'nivel_de_expensas', 's_pais', 's_provincia', 's_localidad', 's_barrio',\n",
       "       's_barrio_1', 's_place_name', 'price_state', 'garage', 'balcon',\n",
       "       'parrilla', 'piscina', 'terraza', 'patio', 'jardin', 'quincho',\n",
       "       's.u.m.', 'amenities', 'baulera', 'gimnasio'],\n",
       "      dtype='object')"
      ]
     },
     "execution_count": 161,
     "metadata": {},
     "output_type": "execute_result"
    }
   ],
   "source": [
    "#uno el dataframe original con el nuevo generado de true/false\n",
    "data = pd.merge(data,df,left_index=True, right_index=True)\n",
    "data.columns\n",
    "#antes me puso los dos indices como resultado del merge, y tuve que sacar la primera columna\n",
    "#data.drop(columns=data.columns[0], axis=1,inplace=True)\n",
    "#data.columns"
   ]
  },
  {
   "cell_type": "code",
   "execution_count": 162,
   "metadata": {
    "colab": {
     "base_uri": "https://localhost:8080/"
    },
    "executionInfo": {
     "elapsed": 11,
     "status": "ok",
     "timestamp": 1651431280902,
     "user": {
      "displayName": "Maela Lombardi",
      "userId": "03936068368896012188"
     },
     "user_tz": 180
    },
    "id": "6y32lfU5q3HG",
    "outputId": "74db3f64-c9fe-4090-d267-130a629a48c5"
   },
   "outputs": [
    {
     "name": "stdout",
     "output_type": "stream",
     "text": [
      "garage 56620\n",
      "balcon 42286\n",
      "parrilla 33381\n",
      "piscina 32146\n",
      "terraza 25101\n",
      "patio 21168\n",
      "jardin 17131\n",
      "quincho 12848\n",
      "s.u.m. 11665\n",
      "amenities 10607\n",
      "baulera 10512\n",
      "gimnasio 9363\n"
     ]
    }
   ],
   "source": [
    "columnas = [data['garage'], data['balcon'], data['parrilla'], data['piscina'],\n",
    "       data['terraza'], data['patio'], data['jardin'], data['quincho'], data['s.u.m.'], data['amenities'], data['baulera'],\n",
    "       data['gimnasio']]\n",
    "for columna in columnas:\n",
    "  print(columna.name, columna.sum())"
   ]
  },
  {
   "cell_type": "code",
   "execution_count": 163,
   "metadata": {
    "id": "GDtZLXb9u6o1"
   },
   "outputs": [],
   "source": [
    "amenities_conteo = {'garage':56620, 'balcon':42286,\n",
    "       'parrilla':33381, 'piscina': 32146, 'terraza':25101, 'patio':21168, 'jardin':17131, 'quincho':12848,\n",
    "       's.u.m.':11665, 'amenities':10607, 'baulera':10512, 'gimnasio':9363}"
   ]
  },
  {
   "cell_type": "code",
   "execution_count": 164,
   "metadata": {
    "colab": {
     "base_uri": "https://localhost:8080/",
     "height": 339
    },
    "executionInfo": {
     "elapsed": 548,
     "status": "ok",
     "timestamp": 1651431281442,
     "user": {
      "displayName": "Maela Lombardi",
      "userId": "03936068368896012188"
     },
     "user_tz": 180
    },
    "id": "UKkxxh40voSU",
    "outputId": "99c4907b-11d1-4995-f9d9-7d7fcf65f793"
   },
   "outputs": [
    {
     "data": {
      "text/plain": [
       "<Figure size 1440x360 with 0 Axes>"
      ]
     },
     "execution_count": 164,
     "metadata": {},
     "output_type": "execute_result"
    },
    {
     "data": {
      "text/plain": [
       "<BarContainer object of 12 artists>"
      ]
     },
     "execution_count": 164,
     "metadata": {},
     "output_type": "execute_result"
    },
    {
     "data": {
      "image/png": "[encoded data removed]",
      "text/plain": [
       "<Figure size 1440x360 with 1 Axes>"
      ]
     },
     "metadata": {},
     "output_type": "display_data"
    }
   ],
   "source": [
    "plt.figure(figsize=(20,5))\n",
    "plt.bar(amenities_conteo.keys(), amenities_conteo.values(), width=.5)\n",
    "plt.show()"
   ]
  },
  {
   "cell_type": "markdown",
   "metadata": {
    "id": "tXHPZXutaN0S"
   },
   "source": [
    "# **Exportación de resultados**"
   ]
  },
  {
   "cell_type": "code",
   "execution_count": 165,
   "metadata": {
    "id": "7VyjGCK_aMnH"
   },
   "outputs": [],
   "source": [
    "#creo un nuevo dataset de salida con los métodos aplicados\n",
    "# exportar a colab\n",
    "#df.to_csv(r'/content/drive/MyDrive/DSDH/TP1/properatti_nuevo.csv', index = False, header=True)\n",
    "#exportar local\n",
    "data.to_csv(r'properatti_nuevo.csv', index = False, header=True)"
   ]
  }
 ],
 "metadata": {
  "colab": {
   "collapsed_sections": [
    "YYE2AF7O18C3",
    "dGmJxUd1uNq5",
    "VJyqbQeuuGRw",
    "0Qnxj1krUguS",
    "WqPjmj83hFPt",
    "RJTCe2C6wQOm",
    "E6SOCe17pdUo",
    "7EbzNZe_DThP",
    "4hxbVZ5SDJmF",
    "Ln1f4wsg36Kq",
    "5us__nDgReat",
    "YtKfSxatXg7r",
    "ZI-vZGEyS6ez",
    "UCBAtlE9xZRo",
    "sQiLoaO10blt",
    "tXHPZXutaN0S",
    "AstPzqi7nvB4",
    "xenrWDWiyI-k",
    "r7hWjTEsyVJ1",
    "ajlAgb2z_OK9",
    "D_4CSt0H_WU_"
   ],
   "name": "principal.ipynb",
   "provenance": []
  },
  "interpreter": {
   "hash": "07ad563c6c100133d3911bd17dbe454dbfdab792a93b10a38a834bd0d63e4aeb"
  },
  "kernelspec": {
   "display_name": "Python 3 (ipykernel)",
   "language": "python",
   "name": "python3"
  },
  "language_info": {
   "codemirror_mode": {
    "name": "ipython",
    "version": 3
   },
   "file_extension": ".py",
   "mimetype": "text/x-python",
   "name": "python",
   "nbconvert_exporter": "python",
   "pygments_lexer": "ipython3",
   "version": "3.8.12"
  }
 },
 "nbformat": 4,
 "nbformat_minor": 4
}
