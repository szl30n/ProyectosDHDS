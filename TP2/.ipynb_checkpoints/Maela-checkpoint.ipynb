version https://git-lfs.github.com/spec/v1
oid sha256:ee29b2d505316b642d89815b9729d69496f8be48b83d7ab58e06477f80fccc9d
size 254944
