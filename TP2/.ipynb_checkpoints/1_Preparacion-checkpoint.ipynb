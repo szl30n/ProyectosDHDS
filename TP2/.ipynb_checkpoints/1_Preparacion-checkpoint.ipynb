{
 "cells": [
  {
   "cell_type": "markdown",
   "id": "d6d2b0d9",
   "metadata": {
    "heading_collapsed": "true"
   },
   "source": [
    "# **1. Importación de *modules***"
   ]
  },
  {
   "cell_type": "code",
   "execution_count": 88,
   "id": "f35835ea",
   "metadata": {
    "id": "4780501a"
   },
   "outputs": [],
   "source": [
    "import numpy as np\n",
    "import pandas as pd\n",
    "import re\n",
    "import seaborn as sns\n",
    "import matplotlib.pyplot as plt\n",
    "import plotly.express as px\n",
    "from IPython.core.interactiveshell import InteractiveShell\n",
    "InteractiveShell.ast_node_interactivity = \"all\""
   ]
  },
  {
   "cell_type": "markdown",
   "id": "df78c941",
   "metadata": {
    "heading_collapsed": "true",
    "id": "cdbfda03"
   },
   "source": [
    "# **2. Importación del dataset *properatti.csv***"
   ]
  },
  {
   "cell_type": "code",
   "execution_count": 89,
   "id": "8dedd71a",
   "metadata": {
    "id": "a7754818",
    "outputId": "05a09978-f855-4c68-c039-46d93fbde29b"
   },
   "outputs": [
    {
     "data": {
      "text/plain": [
       "(121220, 26)"
      ]
     },
     "execution_count": 89,
     "metadata": {},
     "output_type": "execute_result"
    }
   ],
   "source": [
    "data_raw = pd.read_csv(\"../data/properatti.csv\", sep = \",\", low_memory=False) \n",
    "#data.head(3)\n",
    "data_raw.shape"
   ]
  },
  {
   "cell_type": "markdown",
   "id": "8a3bb2be",
   "metadata": {},
   "source": [
    "# **3. Tratamiento de los datos**"
   ]
  },
  {
   "cell_type": "markdown",
   "id": "12b01c21",
   "metadata": {
    "heading_collapsed": "true"
   },
   "source": [
    "## **3.1. Selección del subdataset AMBA**"
   ]
  },
  {
   "cell_type": "code",
   "execution_count": 90,
   "id": "ae7e8828",
   "metadata": {},
   "outputs": [
    {
     "data": {
      "text/plain": [
       "(81150, 26)"
      ]
     },
     "execution_count": 90,
     "metadata": {},
     "output_type": "execute_result"
    }
   ],
   "source": [
    "amba = ['Capital Federal', 'Bs.As. G.B.A. Zona Sur', 'Bs.As. G.B.A. Zona Norte', 'Bs.As. G.B.A. Zona Oeste']\n",
    "data_amba = data_raw[data_raw[\"state_name\"].isin(amba)]\n",
    "data_amba.shape"
   ]
  },
  {
   "cell_type": "markdown",
   "id": "489b145f",
   "metadata": {
    "heading_collapsed": "true"
   },
   "source": [
    "## **3.2. Limpieza e imputaciones**"
   ]
  },
  {
   "cell_type": "markdown",
   "id": "e72007c6",
   "metadata": {
    "heading_collapsed": "true",
    "id": "9eafe596"
   },
   "source": [
    "### 3.2.1. Dropeo de columnas no informativas"
   ]
  },
  {
   "cell_type": "code",
   "execution_count": 91,
   "id": "7680962d",
   "metadata": {
    "id": "4211aba8"
   },
   "outputs": [
    {
     "data": {
      "text/plain": [
       "Index(['property_type', 'state_name', 'place_name', 'place_with_parent_names',\n",
       "       'surface_total_in_m2', 'surface_covered_in_m2', 'price_usd_per_m2',\n",
       "       'rooms', 'description', 'title', 'properati_url'],\n",
       "      dtype='object')"
      ]
     },
     "execution_count": 91,
     "metadata": {},
     "output_type": "execute_result"
    },
    {
     "data": {
      "text/plain": [
       "(81150, 11)"
      ]
     },
     "execution_count": 91,
     "metadata": {},
     "output_type": "execute_result"
    }
   ],
   "source": [
    "cols2keep = ['property_type', 'state_name', 'place_name','place_with_parent_names','surface_total_in_m2','surface_covered_in_m2','price_usd_per_m2', 'rooms', 'description', 'title', 'properati_url']\n",
    "data_col_clean = data_amba.loc[:, cols2keep]\n",
    "data_col_clean.columns\n",
    "data_col_clean.shape"
   ]
  },
  {
   "cell_type": "markdown",
   "id": "ac709a77",
   "metadata": {
    "heading_collapsed": "true"
   },
   "source": [
    "### 3.2.2. Chequeo de valores nulos (no modifica datasets)"
   ]
  },
  {
   "cell_type": "code",
   "execution_count": 92,
   "id": "b83b27c8",
   "metadata": {},
   "outputs": [
    {
     "data": {
      "text/html": [
       "<div>\n",
       "<style scoped>\n",
       "    .dataframe tbody tr th:only-of-type {\n",
       "        vertical-align: middle;\n",
       "    }\n",
       "\n",
       "    .dataframe tbody tr th {\n",
       "        vertical-align: top;\n",
       "    }\n",
       "\n",
       "    .dataframe thead th {\n",
       "        text-align: right;\n",
       "    }\n",
       "</style>\n",
       "<table border=\"1\" class=\"dataframe\">\n",
       "  <thead>\n",
       "    <tr style=\"text-align: right;\">\n",
       "      <th></th>\n",
       "      <th>null</th>\n",
       "      <th>%</th>\n",
       "      <th>type</th>\n",
       "    </tr>\n",
       "  </thead>\n",
       "  <tbody>\n",
       "    <tr>\n",
       "      <th>property_type</th>\n",
       "      <td>0</td>\n",
       "      <td>0.00</td>\n",
       "      <td>object</td>\n",
       "    </tr>\n",
       "    <tr>\n",
       "      <th>state_name</th>\n",
       "      <td>0</td>\n",
       "      <td>0.00</td>\n",
       "      <td>object</td>\n",
       "    </tr>\n",
       "    <tr>\n",
       "      <th>place_name</th>\n",
       "      <td>23</td>\n",
       "      <td>0.03</td>\n",
       "      <td>object</td>\n",
       "    </tr>\n",
       "    <tr>\n",
       "      <th>place_with_parent_names</th>\n",
       "      <td>0</td>\n",
       "      <td>0.00</td>\n",
       "      <td>object</td>\n",
       "    </tr>\n",
       "    <tr>\n",
       "      <th>surface_total_in_m2</th>\n",
       "      <td>22792</td>\n",
       "      <td>28.09</td>\n",
       "      <td>float64</td>\n",
       "    </tr>\n",
       "    <tr>\n",
       "      <th>surface_covered_in_m2</th>\n",
       "      <td>8505</td>\n",
       "      <td>10.48</td>\n",
       "      <td>float64</td>\n",
       "    </tr>\n",
       "    <tr>\n",
       "      <th>price_usd_per_m2</th>\n",
       "      <td>29515</td>\n",
       "      <td>36.37</td>\n",
       "      <td>float64</td>\n",
       "    </tr>\n",
       "    <tr>\n",
       "      <th>rooms</th>\n",
       "      <td>51211</td>\n",
       "      <td>63.11</td>\n",
       "      <td>float64</td>\n",
       "    </tr>\n",
       "    <tr>\n",
       "      <th>description</th>\n",
       "      <td>1</td>\n",
       "      <td>0.00</td>\n",
       "      <td>object</td>\n",
       "    </tr>\n",
       "    <tr>\n",
       "      <th>title</th>\n",
       "      <td>0</td>\n",
       "      <td>0.00</td>\n",
       "      <td>object</td>\n",
       "    </tr>\n",
       "    <tr>\n",
       "      <th>properati_url</th>\n",
       "      <td>0</td>\n",
       "      <td>0.00</td>\n",
       "      <td>object</td>\n",
       "    </tr>\n",
       "  </tbody>\n",
       "</table>\n",
       "</div>"
      ],
      "text/plain": [
       "                          null      %     type\n",
       "property_type                0   0.00   object\n",
       "state_name                   0   0.00   object\n",
       "place_name                  23   0.03   object\n",
       "place_with_parent_names      0   0.00   object\n",
       "surface_total_in_m2      22792  28.09  float64\n",
       "surface_covered_in_m2     8505  10.48  float64\n",
       "price_usd_per_m2         29515  36.37  float64\n",
       "rooms                    51211  63.11  float64\n",
       "description                  1   0.00   object\n",
       "title                        0   0.00   object\n",
       "properati_url                0   0.00   object"
      ]
     },
     "execution_count": 92,
     "metadata": {},
     "output_type": "execute_result"
    }
   ],
   "source": [
    "cant_nulos_por_campo = data_col_clean.apply(lambda x: x.isnull().sum(), axis = 0)\n",
    "percent_nulos_por_campo = data_col_clean.apply(lambda x: (100 * x.isnull().sum() / data_col_clean.shape[0]).round(2), axis = 0)\n",
    "pd.DataFrame({'null': cant_nulos_por_campo, '%': percent_nulos_por_campo,'type': data_col_clean.dtypes})"
   ]
  },
  {
   "cell_type": "markdown",
   "id": "fe9edc2e",
   "metadata": {
    "heading_collapsed": "true",
    "id": "wipHmRxOD_Zo"
   },
   "source": [
    "### 3.2.3. Imputación de la columna *rooms*\n"
   ]
  },
  {
   "cell_type": "code",
   "execution_count": 93,
   "id": "52310643",
   "metadata": {
    "colab": {
     "base_uri": "https://localhost:8080/"
    },
    "executionInfo": {
     "elapsed": 308,
     "status": "ok",
     "timestamp": 1653009986780,
     "user": {
      "displayName": "Maela Lombardi",
      "userId": "03936068368896012188"
     },
     "user_tz": 180
    },
    "id": "_gFyvCyrD_Zo",
    "outputId": "030eb50c-b338-4ff7-fd12-ccfebe2e4452"
   },
   "outputs": [
    {
     "name": "stdout",
     "output_type": "stream",
     "text": [
      "summary rooms\n",
      "\n",
      "type: float64\n",
      "N total: 81150\n",
      "N null: 51211\n",
      "% null: 63.11%\n",
      "unique: [ 1.  2.  3.  4.  5.  6.  7.  8.  9. 10. 11. 12. 13. 14. 15. 16. 17. 18.\n",
      " 22. 25. 32. nan]\n"
     ]
    }
   ],
   "source": [
    "# Comprobamos el tipo y los valores (no modifica datasets)\n",
    "print(f'''summary rooms\n",
    "\n",
    "type: {data_col_clean.rooms.dtype}\n",
    "N total: {data_col_clean.shape[0]}\n",
    "N null: {data_col_clean.rooms.isnull().sum()}\n",
    "% null: {round((data_col_clean.rooms.isnull().sum() / data_col_clean.shape[0] * 100), 2)}%\n",
    "unique: {np.sort(data_col_clean['rooms'].unique())}''')"
   ]
  },
  {
   "cell_type": "code",
   "execution_count": 94,
   "id": "1fdcf2a9",
   "metadata": {
    "colab": {
     "base_uri": "https://localhost:8080/",
     "height": 363
    },
    "executionInfo": {
     "elapsed": 1728,
     "status": "ok",
     "timestamp": 1653010131020,
     "user": {
      "displayName": "Maela Lombardi",
      "userId": "03936068368896012188"
     },
     "user_tz": 180
    },
    "id": "2nuavK7SD_Zq",
    "outputId": "1b5f6b7e-f99a-40fa-8265-61db4f8fc7da"
   },
   "outputs": [],
   "source": [
    "# Uniformamos la capitalización de las variables que se van a usar para imputar rooms\n",
    "data_col_clean['title'] = data_col_clean.title.str.upper()\n",
    "data_col_clean['description'] = data_col_clean.description.str.upper()"
   ]
  },
  {
   "cell_type": "code",
   "execution_count": 95,
   "id": "c0553fac",
   "metadata": {
    "id": "cRpb5UXWD_Zr"
   },
   "outputs": [],
   "source": [
    "room_mapper = {\"UNO\": \"1\", \"UN\": \"1\", \"DOS\": \"2\", \"TRES\": \"3\", \"CUATRO\": \"4\", \"CINCO\": \"5\", \"SEIS\": \"6\", \"SIETE\": \"7\", \"OCHO\": \"8\",\n",
    "             \"NUEVE\": \"9\", \"DIEZ\": \"10\", \"MONO AMBIENTE\": \"1 AMBIENTE\", \"MONOAMBIENTE\": \"1 AMBIENTE\", \"MONOAMB\" : \"1 AMBIENTE\", \"AMBIENTE DIVISIBLE\": \"1 AMBIENTE\",\n",
    "             \"DORMITORIOS\": \"AMBIENTE\", \"DORMITORIO\": \"AMBIENTE\", \"HABITACIONES\": \"AMBIENTE\", \"HABITACION\": \"AMBIENTE\"}\n",
    "\n",
    "for key in room_mapper.keys():\n",
    "    data_col_clean.description = data_col_clean.description.str.replace(key, room_mapper[key], regex = False)\n",
    "    data_col_clean.title = data_col_clean.title.str.replace(key, room_mapper[key], regex = False)"
   ]
  },
  {
   "cell_type": "code",
   "execution_count": 96,
   "id": "abfd04ad",
   "metadata": {},
   "outputs": [
    {
     "name": "stderr",
     "output_type": "stream",
     "text": [
      "/mnt/Data/ProgramFiles/anaconda3/envs/dhds22/lib/python3.8/site-packages/pandas/core/generic.py:5170: SettingWithCopyWarning: \n",
      "A value is trying to be set on a copy of a slice from a DataFrame.\n",
      "Try using .loc[row_indexer,col_indexer] = value instead\n",
      "\n",
      "See the caveats in the documentation: https://pandas.pydata.org/pandas-docs/stable/user_guide/indexing.html#returning-a-view-versus-a-copy\n",
      "  self[name] = value\n"
     ]
    }
   ],
   "source": [
    "data_input = data_col_clean\n",
    "\n",
    "array_regex = [\"(\\d+)AMB\", \"(\\d+) AMB\"]\n",
    "\n",
    "for regex in array_regex:\n",
    "    controlRooms = data_input[(data_input.rooms.isnull())]\n",
    "    controlRooms.rooms = controlRooms.title.str.extract(regex).astype(float)\n",
    "    data_input.update(controlRooms)\n",
    "    controlRooms = data_input[(data_input.rooms.isnull())]\n",
    "    controlRooms.rooms = controlRooms.description.str.extract(regex).astype(float)\n",
    "    data_input.update(controlRooms)\n",
    "\n",
    "array_regex = [\"(\\d+)DORM\", \"(\\d+) DORM\", \"(\\d+)HABITACIO\", \"(\\d+) HABITACIO\"]\n",
    "\n",
    "for regex in array_regex:\n",
    "    controlRooms = data_input[(data_input.rooms.isnull())]\n",
    "    controlRooms.rooms = controlRooms.title.str.extract(regex).astype(float) - 1\n",
    "    data_input.update(controlRooms)\n",
    "    controlRooms = data_input[(data_input.rooms.isnull())]\n",
    "    controlRooms.rooms = controlRooms.description.str.extract(regex).astype(float) - 1\n",
    "    data_input.update(controlRooms)"
   ]
  },
  {
   "cell_type": "code",
   "execution_count": 97,
   "id": "e3dde3b5",
   "metadata": {
    "colab": {
     "base_uri": "https://localhost:8080/"
    },
    "executionInfo": {
     "elapsed": 416,
     "status": "ok",
     "timestamp": 1653010837210,
     "user": {
      "displayName": "Maela Lombardi",
      "userId": "03936068368896012188"
     },
     "user_tz": 180
    },
    "id": "gqMQWxJuD_Zu",
    "outputId": "d25b76d1-4a37-4848-cf71-fd67b1f172d0"
   },
   "outputs": [
    {
     "name": "stdout",
     "output_type": "stream",
     "text": [
      "summary rooms\n",
      "\n",
      "type: float64\n",
      "N total: 81150\n",
      "N null: 10685\n",
      "% null: 13.17%\n",
      "unique: [0.0000e+00 1.0000e+00 2.0000e+00 3.0000e+00 4.0000e+00 5.0000e+00\n",
      " 6.0000e+00 7.0000e+00 8.0000e+00 9.0000e+00 1.0000e+01 1.1000e+01\n",
      " 1.2000e+01 1.3000e+01 1.4000e+01 1.5000e+01 1.6000e+01 1.7000e+01\n",
      " 1.8000e+01 2.0000e+01 2.1000e+01 2.2000e+01 2.3000e+01 2.4000e+01\n",
      " 2.5000e+01 2.7000e+01 2.9000e+01 3.0000e+01 3.2000e+01 3.3000e+01\n",
      " 3.5000e+01 3.6000e+01 3.7000e+01 4.0000e+01 4.2000e+01 4.5000e+01\n",
      " 4.7000e+01 5.0000e+01 5.1000e+01 5.2000e+01 5.4000e+01 6.0000e+01\n",
      " 6.2000e+01 7.0000e+01 7.2000e+01 8.0000e+01 8.2000e+01 8.3000e+01\n",
      " 8.5000e+01 8.7000e+01 9.0000e+01 9.1000e+01 1.0000e+02 1.0300e+02\n",
      " 1.2500e+02 2.1000e+02 2.7200e+02 4.0300e+02 6.0200e+02 6.6200e+02\n",
      " 7.7200e+02 8.3100e+02 9.0200e+02 2.0000e+03 4.0000e+03 6.0030e+03\n",
      " 2.0173e+04 2.0174e+04 6.5003e+04 1.1200e+05        nan]\n"
     ]
    }
   ],
   "source": [
    "# Comprobamos el tipo y los valores luego de la imputación (no modifica datasets)\n",
    "print(f'''summary rooms\n",
    "\n",
    "type: {data_input['rooms'].dtype}\n",
    "N total: {data_input.shape[0]}\n",
    "N null: {data_input['rooms'].isnull().sum()}\n",
    "% null: {round((data_input['rooms'].isnull().sum() / data_col_clean.shape[0] * 100), 2)}%\n",
    "unique: {np.sort(data_input['rooms'].unique())}''')"
   ]
  },
  {
   "cell_type": "markdown",
   "id": "55eb9ed1",
   "metadata": {
    "heading_collapsed": "true",
    "id": "2fa218dc"
   },
   "source": [
    "### 3.2.4. Dropeo de duplicados"
   ]
  },
  {
   "cell_type": "code",
   "execution_count": 98,
   "id": "ec53bb87",
   "metadata": {
    "id": "74e8b238",
    "outputId": "47355a10-cc3b-4b85-dd5d-cb74f58cac5c"
   },
   "outputs": [],
   "source": [
    "data_input.drop_duplicates(keep = \"first\", inplace = True)"
   ]
  },
  {
   "cell_type": "markdown",
   "id": "7dba9cfb",
   "metadata": {
    "heading_collapsed": "true",
    "id": "e794c75e"
   },
   "source": [
    "### 3.2.5. Limpieza de *outliers* en *price_usd_per_m2*"
   ]
  },
  {
   "cell_type": "code",
   "execution_count": 99,
   "id": "66537424",
   "metadata": {
    "id": "9612917b",
    "outputId": "1b0616eb-71c9-4436-cff6-a035adeed0ed"
   },
   "outputs": [
    {
     "data": {
      "text/plain": [
       "(81150, 11)"
      ]
     },
     "execution_count": 99,
     "metadata": {},
     "output_type": "execute_result"
    }
   ],
   "source": [
    "#búsqueda y reemplazo de outliers (de más de 2 std, 95%) por NaN en las columnas numéricas, en un solo paso\n",
    "data_out = data_input\n",
    "df_sub = data_out.loc[:, 'price_usd_per_m2']\n",
    "lim = np.abs((df_sub - df_sub.mean()) / df_sub.std(ddof=0)) < 2\n",
    "data_out.loc[:, 'price_usd_per_m2'] = df_sub.where(lim, np.nan)\n",
    "data_out.shape"
   ]
  },
  {
   "cell_type": "markdown",
   "id": "c34c3c88",
   "metadata": {},
   "source": [
    "### 3.2.6. Limpieza de *outliers* en *rooms*"
   ]
  },
  {
   "cell_type": "code",
   "execution_count": 100,
   "id": "dc7d6ae2",
   "metadata": {},
   "outputs": [
    {
     "data": {
      "text/plain": [
       "(70296, 11)"
      ]
     },
     "execution_count": 100,
     "metadata": {},
     "output_type": "execute_result"
    }
   ],
   "source": [
    "data_out = data_out.loc[data_out['rooms'] <= 10]\n",
    "data_out.shape"
   ]
  },
  {
   "cell_type": "markdown",
   "id": "ad7b30a1",
   "metadata": {
    "heading_collapsed": "true"
   },
   "source": [
    "### 3.2.7. Dropeo de *NaNs*"
   ]
  },
  {
   "cell_type": "code",
   "execution_count": 101,
   "id": "8c724c9e",
   "metadata": {},
   "outputs": [
    {
     "name": "stderr",
     "output_type": "stream",
     "text": [
      "/tmp/ipykernel_9495/51777832.py:2: SettingWithCopyWarning: \n",
      "A value is trying to be set on a copy of a slice from a DataFrame\n",
      "\n",
      "See the caveats in the documentation: https://pandas.pydata.org/pandas-docs/stable/user_guide/indexing.html#returning-a-view-versus-a-copy\n",
      "  data_na.dropna(axis = 0, how = 'any', subset = ['property_type', 'state_name', 'place_name', 'surface_total_in_m2','surface_covered_in_m2', 'rooms', 'price_usd_per_m2'], inplace = True)\n"
     ]
    },
    {
     "data": {
      "text/plain": [
       "(42630, 11)"
      ]
     },
     "execution_count": 101,
     "metadata": {},
     "output_type": "execute_result"
    }
   ],
   "source": [
    "data_na = data_out\n",
    "data_na.dropna(axis = 0, how = 'any', subset = ['property_type', 'state_name', 'place_name', 'surface_total_in_m2','surface_covered_in_m2', 'rooms', 'price_usd_per_m2'], inplace = True)\n",
    "data_na.shape"
   ]
  },
  {
   "cell_type": "code",
   "execution_count": 102,
   "id": "50d24e4e",
   "metadata": {},
   "outputs": [
    {
     "data": {
      "text/html": [
       "<div>\n",
       "<style scoped>\n",
       "    .dataframe tbody tr th:only-of-type {\n",
       "        vertical-align: middle;\n",
       "    }\n",
       "\n",
       "    .dataframe tbody tr th {\n",
       "        vertical-align: top;\n",
       "    }\n",
       "\n",
       "    .dataframe thead th {\n",
       "        text-align: right;\n",
       "    }\n",
       "</style>\n",
       "<table border=\"1\" class=\"dataframe\">\n",
       "  <thead>\n",
       "    <tr style=\"text-align: right;\">\n",
       "      <th></th>\n",
       "      <th>null</th>\n",
       "      <th>%</th>\n",
       "      <th>type</th>\n",
       "    </tr>\n",
       "  </thead>\n",
       "  <tbody>\n",
       "    <tr>\n",
       "      <th>property_type</th>\n",
       "      <td>0</td>\n",
       "      <td>0.0</td>\n",
       "      <td>object</td>\n",
       "    </tr>\n",
       "    <tr>\n",
       "      <th>state_name</th>\n",
       "      <td>0</td>\n",
       "      <td>0.0</td>\n",
       "      <td>object</td>\n",
       "    </tr>\n",
       "    <tr>\n",
       "      <th>place_name</th>\n",
       "      <td>0</td>\n",
       "      <td>0.0</td>\n",
       "      <td>object</td>\n",
       "    </tr>\n",
       "    <tr>\n",
       "      <th>place_with_parent_names</th>\n",
       "      <td>0</td>\n",
       "      <td>0.0</td>\n",
       "      <td>object</td>\n",
       "    </tr>\n",
       "    <tr>\n",
       "      <th>surface_total_in_m2</th>\n",
       "      <td>0</td>\n",
       "      <td>0.0</td>\n",
       "      <td>float64</td>\n",
       "    </tr>\n",
       "    <tr>\n",
       "      <th>surface_covered_in_m2</th>\n",
       "      <td>0</td>\n",
       "      <td>0.0</td>\n",
       "      <td>float64</td>\n",
       "    </tr>\n",
       "    <tr>\n",
       "      <th>price_usd_per_m2</th>\n",
       "      <td>0</td>\n",
       "      <td>0.0</td>\n",
       "      <td>float64</td>\n",
       "    </tr>\n",
       "    <tr>\n",
       "      <th>rooms</th>\n",
       "      <td>0</td>\n",
       "      <td>0.0</td>\n",
       "      <td>float64</td>\n",
       "    </tr>\n",
       "    <tr>\n",
       "      <th>description</th>\n",
       "      <td>0</td>\n",
       "      <td>0.0</td>\n",
       "      <td>object</td>\n",
       "    </tr>\n",
       "    <tr>\n",
       "      <th>title</th>\n",
       "      <td>0</td>\n",
       "      <td>0.0</td>\n",
       "      <td>object</td>\n",
       "    </tr>\n",
       "    <tr>\n",
       "      <th>properati_url</th>\n",
       "      <td>0</td>\n",
       "      <td>0.0</td>\n",
       "      <td>object</td>\n",
       "    </tr>\n",
       "  </tbody>\n",
       "</table>\n",
       "</div>"
      ],
      "text/plain": [
       "                         null    %     type\n",
       "property_type               0  0.0   object\n",
       "state_name                  0  0.0   object\n",
       "place_name                  0  0.0   object\n",
       "place_with_parent_names     0  0.0   object\n",
       "surface_total_in_m2         0  0.0  float64\n",
       "surface_covered_in_m2       0  0.0  float64\n",
       "price_usd_per_m2            0  0.0  float64\n",
       "rooms                       0  0.0  float64\n",
       "description                 0  0.0   object\n",
       "title                       0  0.0   object\n",
       "properati_url               0  0.0   object"
      ]
     },
     "execution_count": 102,
     "metadata": {},
     "output_type": "execute_result"
    }
   ],
   "source": [
    "# Último chequeo de que no hay nans en las columnas de trabajo (feature y targets)\n",
    "\n",
    "cant_nulos_por_campo = data_na.apply(lambda x: x.isnull().sum(), axis = 0)\n",
    "percent_nulos_por_campo = data_na.apply(lambda x: (100 * x.isnull().sum() / data_na.shape[0]).round(2), axis = 0)\n",
    "pd.DataFrame({'null': cant_nulos_por_campo, '%': percent_nulos_por_campo,'type': data_na.dtypes})"
   ]
  },
  {
   "cell_type": "markdown",
   "id": "f768e9e2",
   "metadata": {},
   "source": [
    "### 3.2.7. Ploteo de correlación entre variables"
   ]
  },
  {
   "cell_type": "code",
   "execution_count": 103,
   "id": "337c5ac0",
   "metadata": {},
   "outputs": [
    {
     "data": {
      "text/plain": [
       "<AxesSubplot:>"
      ]
     },
     "execution_count": 103,
     "metadata": {},
     "output_type": "execute_result"
    },
    {
     "data": {
      "image/png": "[encoded data removed]",
      "text/plain": [
       "<Figure size 432x288 with 2 Axes>"
      ]
     },
     "metadata": {
      "needs_background": "light"
     },
     "output_type": "display_data"
    }
   ],
   "source": [
    "sns.heatmap(data_na.corr(), vmin=-1, vmax=1, center=0, cmap=\"YlGnBu\")"
   ]
  },
  {
   "cell_type": "markdown",
   "id": "b9603592",
   "metadata": {
    "heading_collapsed": "true"
   },
   "source": [
    "## **3.3. Creacion de columnas *dummies***"
   ]
  },
  {
   "cell_type": "markdown",
   "id": "2c735212",
   "metadata": {
    "heading_collapsed": "true",
    "id": "iv79nG5uacrd"
   },
   "source": [
    "### 3.3.1. *Amenities*"
   ]
  },
  {
   "cell_type": "code",
   "execution_count": 104,
   "id": "ba53ccfd",
   "metadata": {
    "id": "TZJ2mBI0d3UN"
   },
   "outputs": [
    {
     "data": {
      "text/plain": [
       "venta                       42575\n",
       "departamento                27289\n",
       "garage                      21756\n",
       "lavadero                    19714\n",
       "balcon                      17178\n",
       "parrilla                    16495\n",
       "piscina                     14124\n",
       "luminoso                    14004\n",
       "suite                       13112\n",
       "casa                        12744\n",
       "toilette                    11934\n",
       "placard                     10981\n",
       "terraza                     10754\n",
       "vestidor                     8867\n",
       "jardin                       7755\n",
       "patio                        6560\n",
       "dependencias                 6435\n",
       "sum                          5957\n",
       "aire-acondicionado           5690\n",
       "baulera                      5483\n",
       "amenities                    5419\n",
       "gimnasio                     4762\n",
       "estrenar                     4393\n",
       "lujoso                       4271\n",
       "vista                        3843\n",
       "subte-linea-d                3624\n",
       "quincho                      3592\n",
       "hidromasaje                  3163\n",
       "subte-linea-b                2980\n",
       "subte-linea-a                2533\n",
       "impecable                    2396\n",
       "ph                           2341\n",
       "losa-radiante                2120\n",
       "nordelta                     2114\n",
       "apto-credito-hipotecario     2089\n",
       "tigre                        1985\n",
       "subte-linea-h                1945\n",
       "belgrano                     1816\n",
       "sauna                        1760\n",
       "palermo                      1645\n",
       "caballito                    1539\n",
       "subte-linea-e                1443\n",
       "amoblado                     1353\n",
       "pilar                        1326\n",
       "tenis                        1247\n",
       "subte-linea-c                1142\n",
       "barrio-norte                 1017\n",
       "villa-urquiza                 982\n",
       "olivos                        935\n",
       "villa-crespo                  914\n",
       "dtype: int64"
      ]
     },
     "execution_count": 104,
     "metadata": {},
     "output_type": "execute_result"
    }
   ],
   "source": [
    "#fracciono la columna properti_url para sacar la nube de palabras mas repetidas\n",
    "patron_url = re.compile(pattern = \"_\", flags = re.IGNORECASE)\n",
    "lista_url = data_na[\"properati_url\"].apply(lambda x : patron_url.split(x))\n",
    "serie_palabras = pd.Series(np.hstack(lista_url))\n",
    "#serie_palabras.value_counts().head(20).plot(kind=\"bar\")\n",
    "serie_palabras.value_counts().head(50)"
   ]
  },
  {
   "cell_type": "code",
   "execution_count": 105,
   "id": "150712f3",
   "metadata": {
    "id": "Jk22xPJZa9pm"
   },
   "outputs": [],
   "source": [
    "# a partir de la nube de palabras selecciono las que son buenos adicionales\n",
    "adicionales = [\"garage\", \"balcon\", \"parrilla\", \"piscina\", \"terraza\", \"patio\", \"jardin\", \"quincho\", \"sum\", \"amenities\", \"baulera\", \"gimnasio\", \"subte-linea-d\", \"subte-linea-b\", \"subte-linea-a\", \"subte-linea-h\", \"subte-linea-e\"]"
   ]
  },
  {
   "cell_type": "code",
   "execution_count": 106,
   "id": "0c3a3f92",
   "metadata": {
    "id": "cSivTSfQoiyj"
   },
   "outputs": [
    {
     "data": {
      "text/plain": [
       "0         [venta, ph, mataderos, lavadero, patio, inmobi...\n",
       "2         [venta, departamentos, mataderos, lavadero, pl...\n",
       "6         [venta, ph, munro, lavadero, patio, garage, al...\n",
       "7         [venta, departamentos, belgrano, lavadero, pis...\n",
       "8         [venta, departamentos, belgrano, lavadero, pis...\n",
       "                                ...                        \n",
       "121154    [venta, casa, la-plata, suite, parrilla, pisci...\n",
       "121158    [venta, departamento, recoleta, pueyrredon-av-...\n",
       "121215    [venta, departamento, belgrano, balcon, suite,...\n",
       "121216    [venta, casa, beccar, suite, hidromasaje, jard...\n",
       "121217    [venta, departamento, villa-urquiza, holmberg,...\n",
       "Name: properati_url, Length: 42630, dtype: object"
      ]
     },
     "execution_count": 106,
     "metadata": {},
     "output_type": "execute_result"
    }
   ],
   "source": [
    "#elimino el primer elemento de lista_url para no tener el elemento con el http: etc\n",
    "for sublist in lista_url:\n",
    "  del sublist[0]\n",
    "\n",
    "lista_url"
   ]
  },
  {
   "cell_type": "code",
   "execution_count": 107,
   "id": "01034a63",
   "metadata": {
    "id": "6xTQyApPl1_c"
   },
   "outputs": [],
   "source": [
    "#creo una función que compare la lista de palabras con la lista de listas\n",
    "#y me da como resultado una lista de listas de palabras true/false segun coincida o no \n",
    "def buscador_palabras(quebuscar, dondebuscar):\n",
    "  listadeextras = []\n",
    "  for listas in dondebuscar:\n",
    "    extras = []\n",
    "    for palabra in quebuscar:\n",
    "      if palabra in listas:\n",
    "        extras.append(1)\n",
    "      else:\n",
    "        extras.append(0)\n",
    "    listadeextras.append(extras)\n",
    "  #print(listadeextras)\n",
    "  return listadeextras     "
   ]
  },
  {
   "cell_type": "code",
   "execution_count": 108,
   "id": "d2d7f99c",
   "metadata": {
    "colab": {
     "base_uri": "https://localhost:8080/"
    },
    "executionInfo": {
     "elapsed": 862,
     "status": "ok",
     "timestamp": 1651431280900,
     "user": {
      "displayName": "Maela Lombardi",
      "userId": "03936068368896012188"
     },
     "user_tz": 180
    },
    "id": "QKvkph_HnmMP",
    "outputId": "694bb379-1473-4e3a-dc79-a905264d2952"
   },
   "outputs": [
    {
     "data": {
      "text/plain": [
       "42630"
      ]
     },
     "execution_count": 108,
     "metadata": {},
     "output_type": "execute_result"
    }
   ],
   "source": [
    "#aplico la funcion a mi lista \"adicionales\" y \"lista_url\"\n",
    "#chequeo que tenga la misma longitud de data\n",
    "resultado = buscador_palabras(adicionales, lista_url)\n",
    "len(resultado)"
   ]
  },
  {
   "cell_type": "code",
   "execution_count": 109,
   "id": "ac833489",
   "metadata": {
    "colab": {
     "base_uri": "https://localhost:8080/",
     "height": 423
    },
    "executionInfo": {
     "elapsed": 13,
     "status": "ok",
     "timestamp": 1651431280900,
     "user": {
      "displayName": "Maela Lombardi",
      "userId": "03936068368896012188"
     },
     "user_tz": 180
    },
    "id": "nE4L2iH5i1-4",
    "outputId": "90fcc17a-7268-4b64-b061-87b4f7263271"
   },
   "outputs": [
    {
     "data": {
      "text/html": [
       "<div>\n",
       "<style scoped>\n",
       "    .dataframe tbody tr th:only-of-type {\n",
       "        vertical-align: middle;\n",
       "    }\n",
       "\n",
       "    .dataframe tbody tr th {\n",
       "        vertical-align: top;\n",
       "    }\n",
       "\n",
       "    .dataframe thead th {\n",
       "        text-align: right;\n",
       "    }\n",
       "</style>\n",
       "<table border=\"1\" class=\"dataframe\">\n",
       "  <thead>\n",
       "    <tr style=\"text-align: right;\">\n",
       "      <th></th>\n",
       "      <th>am_garage</th>\n",
       "      <th>am_balcon</th>\n",
       "      <th>am_parrilla</th>\n",
       "      <th>am_piscina</th>\n",
       "      <th>am_terraza</th>\n",
       "      <th>am_patio</th>\n",
       "      <th>am_jardin</th>\n",
       "      <th>am_quincho</th>\n",
       "      <th>am_s.u.m.</th>\n",
       "      <th>am_amenities</th>\n",
       "      <th>am_baulera</th>\n",
       "      <th>am_gimnasio</th>\n",
       "      <th>am_subte-linea-d</th>\n",
       "      <th>am_subte-linea-b</th>\n",
       "      <th>am_subte-linea-a</th>\n",
       "      <th>am_subte-linea-h</th>\n",
       "      <th>am_subte-linea-e</th>\n",
       "    </tr>\n",
       "  </thead>\n",
       "  <tbody>\n",
       "    <tr>\n",
       "      <th>0</th>\n",
       "      <td>0</td>\n",
       "      <td>0</td>\n",
       "      <td>0</td>\n",
       "      <td>0</td>\n",
       "      <td>0</td>\n",
       "      <td>1</td>\n",
       "      <td>0</td>\n",
       "      <td>0</td>\n",
       "      <td>0</td>\n",
       "      <td>0</td>\n",
       "      <td>0</td>\n",
       "      <td>0</td>\n",
       "      <td>0</td>\n",
       "      <td>0</td>\n",
       "      <td>0</td>\n",
       "      <td>0</td>\n",
       "      <td>0</td>\n",
       "    </tr>\n",
       "    <tr>\n",
       "      <th>1</th>\n",
       "      <td>0</td>\n",
       "      <td>0</td>\n",
       "      <td>0</td>\n",
       "      <td>0</td>\n",
       "      <td>0</td>\n",
       "      <td>0</td>\n",
       "      <td>0</td>\n",
       "      <td>0</td>\n",
       "      <td>0</td>\n",
       "      <td>0</td>\n",
       "      <td>0</td>\n",
       "      <td>0</td>\n",
       "      <td>0</td>\n",
       "      <td>0</td>\n",
       "      <td>0</td>\n",
       "      <td>0</td>\n",
       "      <td>0</td>\n",
       "    </tr>\n",
       "    <tr>\n",
       "      <th>2</th>\n",
       "      <td>1</td>\n",
       "      <td>0</td>\n",
       "      <td>0</td>\n",
       "      <td>0</td>\n",
       "      <td>0</td>\n",
       "      <td>1</td>\n",
       "      <td>0</td>\n",
       "      <td>0</td>\n",
       "      <td>0</td>\n",
       "      <td>0</td>\n",
       "      <td>0</td>\n",
       "      <td>0</td>\n",
       "      <td>0</td>\n",
       "      <td>0</td>\n",
       "      <td>0</td>\n",
       "      <td>0</td>\n",
       "      <td>0</td>\n",
       "    </tr>\n",
       "    <tr>\n",
       "      <th>3</th>\n",
       "      <td>0</td>\n",
       "      <td>0</td>\n",
       "      <td>0</td>\n",
       "      <td>1</td>\n",
       "      <td>0</td>\n",
       "      <td>0</td>\n",
       "      <td>0</td>\n",
       "      <td>0</td>\n",
       "      <td>0</td>\n",
       "      <td>0</td>\n",
       "      <td>0</td>\n",
       "      <td>0</td>\n",
       "      <td>0</td>\n",
       "      <td>0</td>\n",
       "      <td>0</td>\n",
       "      <td>0</td>\n",
       "      <td>0</td>\n",
       "    </tr>\n",
       "    <tr>\n",
       "      <th>4</th>\n",
       "      <td>0</td>\n",
       "      <td>0</td>\n",
       "      <td>0</td>\n",
       "      <td>1</td>\n",
       "      <td>0</td>\n",
       "      <td>0</td>\n",
       "      <td>0</td>\n",
       "      <td>0</td>\n",
       "      <td>0</td>\n",
       "      <td>0</td>\n",
       "      <td>0</td>\n",
       "      <td>0</td>\n",
       "      <td>0</td>\n",
       "      <td>0</td>\n",
       "      <td>0</td>\n",
       "      <td>0</td>\n",
       "      <td>0</td>\n",
       "    </tr>\n",
       "    <tr>\n",
       "      <th>...</th>\n",
       "      <td>...</td>\n",
       "      <td>...</td>\n",
       "      <td>...</td>\n",
       "      <td>...</td>\n",
       "      <td>...</td>\n",
       "      <td>...</td>\n",
       "      <td>...</td>\n",
       "      <td>...</td>\n",
       "      <td>...</td>\n",
       "      <td>...</td>\n",
       "      <td>...</td>\n",
       "      <td>...</td>\n",
       "      <td>...</td>\n",
       "      <td>...</td>\n",
       "      <td>...</td>\n",
       "      <td>...</td>\n",
       "      <td>...</td>\n",
       "    </tr>\n",
       "    <tr>\n",
       "      <th>42625</th>\n",
       "      <td>0</td>\n",
       "      <td>0</td>\n",
       "      <td>1</td>\n",
       "      <td>1</td>\n",
       "      <td>0</td>\n",
       "      <td>0</td>\n",
       "      <td>0</td>\n",
       "      <td>0</td>\n",
       "      <td>0</td>\n",
       "      <td>0</td>\n",
       "      <td>0</td>\n",
       "      <td>0</td>\n",
       "      <td>0</td>\n",
       "      <td>0</td>\n",
       "      <td>0</td>\n",
       "      <td>0</td>\n",
       "      <td>0</td>\n",
       "    </tr>\n",
       "    <tr>\n",
       "      <th>42626</th>\n",
       "      <td>0</td>\n",
       "      <td>1</td>\n",
       "      <td>1</td>\n",
       "      <td>0</td>\n",
       "      <td>0</td>\n",
       "      <td>0</td>\n",
       "      <td>0</td>\n",
       "      <td>0</td>\n",
       "      <td>0</td>\n",
       "      <td>0</td>\n",
       "      <td>0</td>\n",
       "      <td>0</td>\n",
       "      <td>0</td>\n",
       "      <td>0</td>\n",
       "      <td>0</td>\n",
       "      <td>1</td>\n",
       "      <td>0</td>\n",
       "    </tr>\n",
       "    <tr>\n",
       "      <th>42627</th>\n",
       "      <td>1</td>\n",
       "      <td>1</td>\n",
       "      <td>1</td>\n",
       "      <td>1</td>\n",
       "      <td>0</td>\n",
       "      <td>0</td>\n",
       "      <td>0</td>\n",
       "      <td>1</td>\n",
       "      <td>0</td>\n",
       "      <td>0</td>\n",
       "      <td>0</td>\n",
       "      <td>0</td>\n",
       "      <td>0</td>\n",
       "      <td>0</td>\n",
       "      <td>0</td>\n",
       "      <td>0</td>\n",
       "      <td>0</td>\n",
       "    </tr>\n",
       "    <tr>\n",
       "      <th>42628</th>\n",
       "      <td>1</td>\n",
       "      <td>0</td>\n",
       "      <td>1</td>\n",
       "      <td>1</td>\n",
       "      <td>0</td>\n",
       "      <td>0</td>\n",
       "      <td>1</td>\n",
       "      <td>1</td>\n",
       "      <td>0</td>\n",
       "      <td>0</td>\n",
       "      <td>0</td>\n",
       "      <td>0</td>\n",
       "      <td>0</td>\n",
       "      <td>0</td>\n",
       "      <td>0</td>\n",
       "      <td>0</td>\n",
       "      <td>0</td>\n",
       "    </tr>\n",
       "    <tr>\n",
       "      <th>42629</th>\n",
       "      <td>1</td>\n",
       "      <td>1</td>\n",
       "      <td>1</td>\n",
       "      <td>0</td>\n",
       "      <td>1</td>\n",
       "      <td>0</td>\n",
       "      <td>0</td>\n",
       "      <td>0</td>\n",
       "      <td>0</td>\n",
       "      <td>1</td>\n",
       "      <td>0</td>\n",
       "      <td>0</td>\n",
       "      <td>0</td>\n",
       "      <td>0</td>\n",
       "      <td>0</td>\n",
       "      <td>0</td>\n",
       "      <td>0</td>\n",
       "    </tr>\n",
       "  </tbody>\n",
       "</table>\n",
       "<p>42630 rows × 17 columns</p>\n",
       "</div>"
      ],
      "text/plain": [
       "       am_garage  am_balcon  am_parrilla  am_piscina  am_terraza  am_patio  \\\n",
       "0              0          0            0           0           0         1   \n",
       "1              0          0            0           0           0         0   \n",
       "2              1          0            0           0           0         1   \n",
       "3              0          0            0           1           0         0   \n",
       "4              0          0            0           1           0         0   \n",
       "...          ...        ...          ...         ...         ...       ...   \n",
       "42625          0          0            1           1           0         0   \n",
       "42626          0          1            1           0           0         0   \n",
       "42627          1          1            1           1           0         0   \n",
       "42628          1          0            1           1           0         0   \n",
       "42629          1          1            1           0           1         0   \n",
       "\n",
       "       am_jardin  am_quincho  am_s.u.m.  am_amenities  am_baulera  \\\n",
       "0              0           0          0             0           0   \n",
       "1              0           0          0             0           0   \n",
       "2              0           0          0             0           0   \n",
       "3              0           0          0             0           0   \n",
       "4              0           0          0             0           0   \n",
       "...          ...         ...        ...           ...         ...   \n",
       "42625          0           0          0             0           0   \n",
       "42626          0           0          0             0           0   \n",
       "42627          0           1          0             0           0   \n",
       "42628          1           1          0             0           0   \n",
       "42629          0           0          0             1           0   \n",
       "\n",
       "       am_gimnasio  am_subte-linea-d  am_subte-linea-b  am_subte-linea-a  \\\n",
       "0                0                 0                 0                 0   \n",
       "1                0                 0                 0                 0   \n",
       "2                0                 0                 0                 0   \n",
       "3                0                 0                 0                 0   \n",
       "4                0                 0                 0                 0   \n",
       "...            ...               ...               ...               ...   \n",
       "42625            0                 0                 0                 0   \n",
       "42626            0                 0                 0                 0   \n",
       "42627            0                 0                 0                 0   \n",
       "42628            0                 0                 0                 0   \n",
       "42629            0                 0                 0                 0   \n",
       "\n",
       "       am_subte-linea-h  am_subte-linea-e  \n",
       "0                     0                 0  \n",
       "1                     0                 0  \n",
       "2                     0                 0  \n",
       "3                     0                 0  \n",
       "4                     0                 0  \n",
       "...                 ...               ...  \n",
       "42625                 0                 0  \n",
       "42626                 1                 0  \n",
       "42627                 0                 0  \n",
       "42628                 0                 0  \n",
       "42629                 0                 0  \n",
       "\n",
       "[42630 rows x 17 columns]"
      ]
     },
     "execution_count": 109,
     "metadata": {},
     "output_type": "execute_result"
    }
   ],
   "source": [
    "#convierto resultado en dataframe, y renombro las columnas por la lista de palabras adicionales\n",
    "df = pd.DataFrame(resultado)\n",
    "df.columns = [\"garage\", \"balcon\", \"parrilla\", \"piscina\", \"terraza\", \"patio\", \"jardin\", \"quincho\", \"s.u.m.\", \"amenities\", \"baulera\", \"gimnasio\",\"subte-linea-d\", \"subte-linea-b\", \"subte-linea-a\", \"subte-linea-h\", \"subte-linea-e\"]\n",
    "df = df.add_prefix('am_')\n",
    "df"
   ]
  },
  {
   "cell_type": "code",
   "execution_count": 110,
   "id": "67d81c97",
   "metadata": {
    "id": "DHZhUj4uxYJA"
   },
   "outputs": [
    {
     "data": {
      "text/plain": [
       "Index(['index', 'property_type', 'state_name', 'place_name',\n",
       "       'place_with_parent_names', 'surface_total_in_m2',\n",
       "       'surface_covered_in_m2', 'price_usd_per_m2', 'rooms', 'description',\n",
       "       'title', 'properati_url', 'am_garage', 'am_balcon', 'am_parrilla',\n",
       "       'am_piscina', 'am_terraza', 'am_patio', 'am_jardin', 'am_quincho',\n",
       "       'am_s.u.m.', 'am_amenities', 'am_baulera', 'am_gimnasio',\n",
       "       'am_subte-linea-d', 'am_subte-linea-b', 'am_subte-linea-a',\n",
       "       'am_subte-linea-h', 'am_subte-linea-e'],\n",
       "      dtype='object')"
      ]
     },
     "execution_count": 110,
     "metadata": {},
     "output_type": "execute_result"
    },
    {
     "data": {
      "text/plain": [
       "(42630, 29)"
      ]
     },
     "execution_count": 110,
     "metadata": {},
     "output_type": "execute_result"
    }
   ],
   "source": [
    "#uno el dataframe original con el nuevo generado de true/false\n",
    "#data = pd.merge(data,df,left_index=True, right_index=True)\n",
    "data_dum_1 = data_na.reset_index().join(df)\n",
    "data_dum_1.columns\n",
    "#antes me puso los dos indices como resultado del merge, y tuve que sacar la primera columna\n",
    "#data.drop(columns=data.columns[0], axis=1,inplace=True)\n",
    "data_dum_1.shape"
   ]
  },
  {
   "cell_type": "markdown",
   "id": "614ee700",
   "metadata": {
    "heading_collapsed": "true",
    "id": "f452ad15"
   },
   "source": [
    "### 3.3.2. *State name*"
   ]
  },
  {
   "cell_type": "code",
   "execution_count": 111,
   "id": "fbc9f0e6",
   "metadata": {},
   "outputs": [],
   "source": [
    "df_sn = pd.get_dummies(data_dum_1[\"state_name\"], prefix = 'sn', drop_first = True)"
   ]
  },
  {
   "cell_type": "code",
   "execution_count": 112,
   "id": "a7d9c27c",
   "metadata": {},
   "outputs": [
    {
     "data": {
      "text/plain": [
       "Index(['index', 'property_type', 'state_name', 'place_name',\n",
       "       'place_with_parent_names', 'surface_total_in_m2',\n",
       "       'surface_covered_in_m2', 'price_usd_per_m2', 'rooms', 'description',\n",
       "       'title', 'properati_url', 'am_garage', 'am_balcon', 'am_parrilla',\n",
       "       'am_piscina', 'am_terraza', 'am_patio', 'am_jardin', 'am_quincho',\n",
       "       'am_s.u.m.', 'am_amenities', 'am_baulera', 'am_gimnasio',\n",
       "       'am_subte-linea-d', 'am_subte-linea-b', 'am_subte-linea-a',\n",
       "       'am_subte-linea-h', 'am_subte-linea-e', 'sn_Bs.As. G.B.A. Zona Oeste',\n",
       "       'sn_Bs.As. G.B.A. Zona Sur', 'sn_Capital Federal'],\n",
       "      dtype='object')"
      ]
     },
     "execution_count": 112,
     "metadata": {},
     "output_type": "execute_result"
    },
    {
     "data": {
      "text/plain": [
       "(42630, 32)"
      ]
     },
     "execution_count": 112,
     "metadata": {},
     "output_type": "execute_result"
    }
   ],
   "source": [
    "data_dum_2 = data_dum_1.join(df_sn)\n",
    "data_dum_2.columns\n",
    "data_dum_2.shape"
   ]
  },
  {
   "cell_type": "markdown",
   "id": "3dd10b11",
   "metadata": {},
   "source": [
    "### 3.3.3. *Property type*"
   ]
  },
  {
   "cell_type": "code",
   "execution_count": 113,
   "id": "89fcb9f4",
   "metadata": {},
   "outputs": [],
   "source": [
    "df_pt = pd.get_dummies(data_dum_2[\"property_type\"], prefix = 'pt', drop_first = True)"
   ]
  },
  {
   "cell_type": "code",
   "execution_count": 114,
   "id": "6eaf6377",
   "metadata": {},
   "outputs": [
    {
     "data": {
      "text/plain": [
       "Index(['index', 'property_type', 'state_name', 'place_name',\n",
       "       'place_with_parent_names', 'surface_total_in_m2',\n",
       "       'surface_covered_in_m2', 'price_usd_per_m2', 'rooms', 'description',\n",
       "       'title', 'properati_url', 'am_garage', 'am_balcon', 'am_parrilla',\n",
       "       'am_piscina', 'am_terraza', 'am_patio', 'am_jardin', 'am_quincho',\n",
       "       'am_s.u.m.', 'am_amenities', 'am_baulera', 'am_gimnasio',\n",
       "       'am_subte-linea-d', 'am_subte-linea-b', 'am_subte-linea-a',\n",
       "       'am_subte-linea-h', 'am_subte-linea-e', 'sn_Bs.As. G.B.A. Zona Oeste',\n",
       "       'sn_Bs.As. G.B.A. Zona Sur', 'sn_Capital Federal', 'pt_apartment',\n",
       "       'pt_house', 'pt_store'],\n",
       "      dtype='object')"
      ]
     },
     "execution_count": 114,
     "metadata": {},
     "output_type": "execute_result"
    },
    {
     "data": {
      "text/plain": [
       "(42630, 35)"
      ]
     },
     "execution_count": 114,
     "metadata": {},
     "output_type": "execute_result"
    }
   ],
   "source": [
    "data_dum_3 = data_dum_2.join(df_pt)\n",
    "data_dum_3.columns\n",
    "data_dum_3.shape"
   ]
  },
  {
   "cell_type": "markdown",
   "id": "8a356562",
   "metadata": {
    "heading_collapsed": "true"
   },
   "source": [
    "### 3.3.4. *Place name*"
   ]
  },
  {
   "cell_type": "code",
   "execution_count": 115,
   "id": "91da5a35",
   "metadata": {},
   "outputs": [],
   "source": [
    "df_pn = pd.get_dummies(data_dum_3[\"place_name\"], prefix = \"pn\", drop_first = True)"
   ]
  },
  {
   "cell_type": "code",
   "execution_count": 116,
   "id": "178c0862",
   "metadata": {},
   "outputs": [
    {
     "data": {
      "text/plain": [
       "Index(['index', 'property_type', 'state_name', 'place_name',\n",
       "       'place_with_parent_names', 'surface_total_in_m2',\n",
       "       'surface_covered_in_m2', 'price_usd_per_m2', 'rooms', 'description',\n",
       "       ...\n",
       "       'pn_Villa de Mayo', 'pn_Villa del Parque',\n",
       "       'pn_Village Golf & Tennis Country Club', 'pn_Virasoro Village',\n",
       "       'pn_Virrey del Pino', 'pn_Virreyes', 'pn_Wilde', 'pn_William Morris',\n",
       "       'pn_Zelaya', 'pn_coordenadas 34.255511'],\n",
       "      dtype='object', length=484)"
      ]
     },
     "execution_count": 116,
     "metadata": {},
     "output_type": "execute_result"
    },
    {
     "data": {
      "text/plain": [
       "(42630, 484)"
      ]
     },
     "execution_count": 116,
     "metadata": {},
     "output_type": "execute_result"
    }
   ],
   "source": [
    "data_dum_4 = data_dum_3.join(df_pn)\n",
    "data_dum_4.columns\n",
    "data_dum_4.shape"
   ]
  },
  {
   "cell_type": "markdown",
   "id": "bdd1181a",
   "metadata": {
    "heading_collapsed": "true"
   },
   "source": [
    "### 3.3.5. Dropeo de columnas innecesarias"
   ]
  },
  {
   "cell_type": "code",
   "execution_count": 117,
   "id": "8a8a35c6",
   "metadata": {},
   "outputs": [
    {
     "data": {
      "text/plain": [
       "(42630, 476)"
      ]
     },
     "execution_count": 117,
     "metadata": {},
     "output_type": "execute_result"
    },
    {
     "data": {
      "text/html": [
       "<div>\n",
       "<style scoped>\n",
       "    .dataframe tbody tr th:only-of-type {\n",
       "        vertical-align: middle;\n",
       "    }\n",
       "\n",
       "    .dataframe tbody tr th {\n",
       "        vertical-align: top;\n",
       "    }\n",
       "\n",
       "    .dataframe thead th {\n",
       "        text-align: right;\n",
       "    }\n",
       "</style>\n",
       "<table border=\"1\" class=\"dataframe\">\n",
       "  <thead>\n",
       "    <tr style=\"text-align: right;\">\n",
       "      <th></th>\n",
       "      <th>surface_total_in_m2</th>\n",
       "      <th>surface_covered_in_m2</th>\n",
       "      <th>price_usd_per_m2</th>\n",
       "      <th>rooms</th>\n",
       "      <th>am_garage</th>\n",
       "      <th>am_balcon</th>\n",
       "      <th>am_parrilla</th>\n",
       "      <th>am_piscina</th>\n",
       "      <th>am_terraza</th>\n",
       "      <th>am_patio</th>\n",
       "      <th>...</th>\n",
       "      <th>pn_Villa de Mayo</th>\n",
       "      <th>pn_Villa del Parque</th>\n",
       "      <th>pn_Village Golf &amp; Tennis Country Club</th>\n",
       "      <th>pn_Virasoro Village</th>\n",
       "      <th>pn_Virrey del Pino</th>\n",
       "      <th>pn_Virreyes</th>\n",
       "      <th>pn_Wilde</th>\n",
       "      <th>pn_William Morris</th>\n",
       "      <th>pn_Zelaya</th>\n",
       "      <th>pn_coordenadas 34.255511</th>\n",
       "    </tr>\n",
       "  </thead>\n",
       "  <tbody>\n",
       "    <tr>\n",
       "      <th>0</th>\n",
       "      <td>55.0</td>\n",
       "      <td>40.0</td>\n",
       "      <td>1127.272727</td>\n",
       "      <td>2.0</td>\n",
       "      <td>0</td>\n",
       "      <td>0</td>\n",
       "      <td>0</td>\n",
       "      <td>0</td>\n",
       "      <td>0</td>\n",
       "      <td>1</td>\n",
       "      <td>...</td>\n",
       "      <td>0</td>\n",
       "      <td>0</td>\n",
       "      <td>0</td>\n",
       "      <td>0</td>\n",
       "      <td>0</td>\n",
       "      <td>0</td>\n",
       "      <td>0</td>\n",
       "      <td>0</td>\n",
       "      <td>0</td>\n",
       "      <td>0</td>\n",
       "    </tr>\n",
       "    <tr>\n",
       "      <th>1</th>\n",
       "      <td>55.0</td>\n",
       "      <td>55.0</td>\n",
       "      <td>1309.090909</td>\n",
       "      <td>2.0</td>\n",
       "      <td>0</td>\n",
       "      <td>0</td>\n",
       "      <td>0</td>\n",
       "      <td>0</td>\n",
       "      <td>0</td>\n",
       "      <td>0</td>\n",
       "      <td>...</td>\n",
       "      <td>0</td>\n",
       "      <td>0</td>\n",
       "      <td>0</td>\n",
       "      <td>0</td>\n",
       "      <td>0</td>\n",
       "      <td>0</td>\n",
       "      <td>0</td>\n",
       "      <td>0</td>\n",
       "      <td>0</td>\n",
       "      <td>0</td>\n",
       "    </tr>\n",
       "    <tr>\n",
       "      <th>2</th>\n",
       "      <td>106.0</td>\n",
       "      <td>78.0</td>\n",
       "      <td>1226.415094</td>\n",
       "      <td>2.0</td>\n",
       "      <td>1</td>\n",
       "      <td>0</td>\n",
       "      <td>0</td>\n",
       "      <td>0</td>\n",
       "      <td>0</td>\n",
       "      <td>1</td>\n",
       "      <td>...</td>\n",
       "      <td>0</td>\n",
       "      <td>0</td>\n",
       "      <td>0</td>\n",
       "      <td>0</td>\n",
       "      <td>0</td>\n",
       "      <td>0</td>\n",
       "      <td>0</td>\n",
       "      <td>0</td>\n",
       "      <td>0</td>\n",
       "      <td>0</td>\n",
       "    </tr>\n",
       "    <tr>\n",
       "      <th>3</th>\n",
       "      <td>45.0</td>\n",
       "      <td>40.0</td>\n",
       "      <td>3066.666667</td>\n",
       "      <td>1.0</td>\n",
       "      <td>0</td>\n",
       "      <td>0</td>\n",
       "      <td>0</td>\n",
       "      <td>1</td>\n",
       "      <td>0</td>\n",
       "      <td>0</td>\n",
       "      <td>...</td>\n",
       "      <td>0</td>\n",
       "      <td>0</td>\n",
       "      <td>0</td>\n",
       "      <td>0</td>\n",
       "      <td>0</td>\n",
       "      <td>0</td>\n",
       "      <td>0</td>\n",
       "      <td>0</td>\n",
       "      <td>0</td>\n",
       "      <td>0</td>\n",
       "    </tr>\n",
       "    <tr>\n",
       "      <th>4</th>\n",
       "      <td>65.0</td>\n",
       "      <td>60.0</td>\n",
       "      <td>3000.000000</td>\n",
       "      <td>2.0</td>\n",
       "      <td>0</td>\n",
       "      <td>0</td>\n",
       "      <td>0</td>\n",
       "      <td>1</td>\n",
       "      <td>0</td>\n",
       "      <td>0</td>\n",
       "      <td>...</td>\n",
       "      <td>0</td>\n",
       "      <td>0</td>\n",
       "      <td>0</td>\n",
       "      <td>0</td>\n",
       "      <td>0</td>\n",
       "      <td>0</td>\n",
       "      <td>0</td>\n",
       "      <td>0</td>\n",
       "      <td>0</td>\n",
       "      <td>0</td>\n",
       "    </tr>\n",
       "    <tr>\n",
       "      <th>...</th>\n",
       "      <td>...</td>\n",
       "      <td>...</td>\n",
       "      <td>...</td>\n",
       "      <td>...</td>\n",
       "      <td>...</td>\n",
       "      <td>...</td>\n",
       "      <td>...</td>\n",
       "      <td>...</td>\n",
       "      <td>...</td>\n",
       "      <td>...</td>\n",
       "      <td>...</td>\n",
       "      <td>...</td>\n",
       "      <td>...</td>\n",
       "      <td>...</td>\n",
       "      <td>...</td>\n",
       "      <td>...</td>\n",
       "      <td>...</td>\n",
       "      <td>...</td>\n",
       "      <td>...</td>\n",
       "      <td>...</td>\n",
       "      <td>...</td>\n",
       "    </tr>\n",
       "    <tr>\n",
       "      <th>42625</th>\n",
       "      <td>205.0</td>\n",
       "      <td>205.0</td>\n",
       "      <td>1439.024390</td>\n",
       "      <td>3.0</td>\n",
       "      <td>0</td>\n",
       "      <td>0</td>\n",
       "      <td>1</td>\n",
       "      <td>1</td>\n",
       "      <td>0</td>\n",
       "      <td>0</td>\n",
       "      <td>...</td>\n",
       "      <td>0</td>\n",
       "      <td>0</td>\n",
       "      <td>0</td>\n",
       "      <td>0</td>\n",
       "      <td>0</td>\n",
       "      <td>0</td>\n",
       "      <td>0</td>\n",
       "      <td>0</td>\n",
       "      <td>0</td>\n",
       "      <td>0</td>\n",
       "    </tr>\n",
       "    <tr>\n",
       "      <th>42626</th>\n",
       "      <td>44.0</td>\n",
       "      <td>39.0</td>\n",
       "      <td>3750.000000</td>\n",
       "      <td>1.0</td>\n",
       "      <td>0</td>\n",
       "      <td>1</td>\n",
       "      <td>1</td>\n",
       "      <td>0</td>\n",
       "      <td>0</td>\n",
       "      <td>0</td>\n",
       "      <td>...</td>\n",
       "      <td>0</td>\n",
       "      <td>0</td>\n",
       "      <td>0</td>\n",
       "      <td>0</td>\n",
       "      <td>0</td>\n",
       "      <td>0</td>\n",
       "      <td>0</td>\n",
       "      <td>0</td>\n",
       "      <td>0</td>\n",
       "      <td>0</td>\n",
       "    </tr>\n",
       "    <tr>\n",
       "      <th>42627</th>\n",
       "      <td>113.0</td>\n",
       "      <td>93.0</td>\n",
       "      <td>7699.115044</td>\n",
       "      <td>3.0</td>\n",
       "      <td>1</td>\n",
       "      <td>1</td>\n",
       "      <td>1</td>\n",
       "      <td>1</td>\n",
       "      <td>0</td>\n",
       "      <td>0</td>\n",
       "      <td>...</td>\n",
       "      <td>0</td>\n",
       "      <td>0</td>\n",
       "      <td>0</td>\n",
       "      <td>0</td>\n",
       "      <td>0</td>\n",
       "      <td>0</td>\n",
       "      <td>0</td>\n",
       "      <td>0</td>\n",
       "      <td>0</td>\n",
       "      <td>0</td>\n",
       "    </tr>\n",
       "    <tr>\n",
       "      <th>42628</th>\n",
       "      <td>360.0</td>\n",
       "      <td>360.0</td>\n",
       "      <td>1383.333333</td>\n",
       "      <td>3.0</td>\n",
       "      <td>1</td>\n",
       "      <td>0</td>\n",
       "      <td>1</td>\n",
       "      <td>1</td>\n",
       "      <td>0</td>\n",
       "      <td>0</td>\n",
       "      <td>...</td>\n",
       "      <td>0</td>\n",
       "      <td>0</td>\n",
       "      <td>0</td>\n",
       "      <td>0</td>\n",
       "      <td>0</td>\n",
       "      <td>0</td>\n",
       "      <td>0</td>\n",
       "      <td>0</td>\n",
       "      <td>0</td>\n",
       "      <td>0</td>\n",
       "    </tr>\n",
       "    <tr>\n",
       "      <th>42629</th>\n",
       "      <td>46.0</td>\n",
       "      <td>39.0</td>\n",
       "      <td>2858.695652</td>\n",
       "      <td>1.0</td>\n",
       "      <td>1</td>\n",
       "      <td>1</td>\n",
       "      <td>1</td>\n",
       "      <td>0</td>\n",
       "      <td>1</td>\n",
       "      <td>0</td>\n",
       "      <td>...</td>\n",
       "      <td>0</td>\n",
       "      <td>0</td>\n",
       "      <td>0</td>\n",
       "      <td>0</td>\n",
       "      <td>0</td>\n",
       "      <td>0</td>\n",
       "      <td>0</td>\n",
       "      <td>0</td>\n",
       "      <td>0</td>\n",
       "      <td>0</td>\n",
       "    </tr>\n",
       "  </tbody>\n",
       "</table>\n",
       "<p>42630 rows × 476 columns</p>\n",
       "</div>"
      ],
      "text/plain": [
       "       surface_total_in_m2  surface_covered_in_m2  price_usd_per_m2  rooms  \\\n",
       "0                     55.0                   40.0       1127.272727    2.0   \n",
       "1                     55.0                   55.0       1309.090909    2.0   \n",
       "2                    106.0                   78.0       1226.415094    2.0   \n",
       "3                     45.0                   40.0       3066.666667    1.0   \n",
       "4                     65.0                   60.0       3000.000000    2.0   \n",
       "...                    ...                    ...               ...    ...   \n",
       "42625                205.0                  205.0       1439.024390    3.0   \n",
       "42626                 44.0                   39.0       3750.000000    1.0   \n",
       "42627                113.0                   93.0       7699.115044    3.0   \n",
       "42628                360.0                  360.0       1383.333333    3.0   \n",
       "42629                 46.0                   39.0       2858.695652    1.0   \n",
       "\n",
       "       am_garage  am_balcon  am_parrilla  am_piscina  am_terraza  am_patio  \\\n",
       "0              0          0            0           0           0         1   \n",
       "1              0          0            0           0           0         0   \n",
       "2              1          0            0           0           0         1   \n",
       "3              0          0            0           1           0         0   \n",
       "4              0          0            0           1           0         0   \n",
       "...          ...        ...          ...         ...         ...       ...   \n",
       "42625          0          0            1           1           0         0   \n",
       "42626          0          1            1           0           0         0   \n",
       "42627          1          1            1           1           0         0   \n",
       "42628          1          0            1           1           0         0   \n",
       "42629          1          1            1           0           1         0   \n",
       "\n",
       "       ...  pn_Villa de Mayo  pn_Villa del Parque  \\\n",
       "0      ...                 0                    0   \n",
       "1      ...                 0                    0   \n",
       "2      ...                 0                    0   \n",
       "3      ...                 0                    0   \n",
       "4      ...                 0                    0   \n",
       "...    ...               ...                  ...   \n",
       "42625  ...                 0                    0   \n",
       "42626  ...                 0                    0   \n",
       "42627  ...                 0                    0   \n",
       "42628  ...                 0                    0   \n",
       "42629  ...                 0                    0   \n",
       "\n",
       "       pn_Village Golf & Tennis Country Club  pn_Virasoro Village  \\\n",
       "0                                          0                    0   \n",
       "1                                          0                    0   \n",
       "2                                          0                    0   \n",
       "3                                          0                    0   \n",
       "4                                          0                    0   \n",
       "...                                      ...                  ...   \n",
       "42625                                      0                    0   \n",
       "42626                                      0                    0   \n",
       "42627                                      0                    0   \n",
       "42628                                      0                    0   \n",
       "42629                                      0                    0   \n",
       "\n",
       "       pn_Virrey del Pino  pn_Virreyes  pn_Wilde  pn_William Morris  \\\n",
       "0                       0            0         0                  0   \n",
       "1                       0            0         0                  0   \n",
       "2                       0            0         0                  0   \n",
       "3                       0            0         0                  0   \n",
       "4                       0            0         0                  0   \n",
       "...                   ...          ...       ...                ...   \n",
       "42625                   0            0         0                  0   \n",
       "42626                   0            0         0                  0   \n",
       "42627                   0            0         0                  0   \n",
       "42628                   0            0         0                  0   \n",
       "42629                   0            0         0                  0   \n",
       "\n",
       "       pn_Zelaya  pn_coordenadas 34.255511  \n",
       "0              0                         0  \n",
       "1              0                         0  \n",
       "2              0                         0  \n",
       "3              0                         0  \n",
       "4              0                         0  \n",
       "...          ...                       ...  \n",
       "42625          0                         0  \n",
       "42626          0                         0  \n",
       "42627          0                         0  \n",
       "42628          0                         0  \n",
       "42629          0                         0  \n",
       "\n",
       "[42630 rows x 476 columns]"
      ]
     },
     "execution_count": 117,
     "metadata": {},
     "output_type": "execute_result"
    }
   ],
   "source": [
    "data = data_dum_4.drop(columns = ['index', 'property_type', 'state_name', 'place_name', 'place_with_parent_names', 'description', 'title', 'properati_url'])\n",
    "bool_mapper = {False: 0, True: 1}\n",
    "data.replace(bool_mapper, inplace = True)\n",
    "data.shape\n",
    "#list(data.columns)\n",
    "data"
   ]
  },
  {
   "cell_type": "code",
   "execution_count": 118,
   "id": "39aa187d",
   "metadata": {},
   "outputs": [
    {
     "data": {
      "text/html": [
       "<div>\n",
       "<style scoped>\n",
       "    .dataframe tbody tr th:only-of-type {\n",
       "        vertical-align: middle;\n",
       "    }\n",
       "\n",
       "    .dataframe tbody tr th {\n",
       "        vertical-align: top;\n",
       "    }\n",
       "\n",
       "    .dataframe thead th {\n",
       "        text-align: right;\n",
       "    }\n",
       "</style>\n",
       "<table border=\"1\" class=\"dataframe\">\n",
       "  <thead>\n",
       "    <tr style=\"text-align: right;\">\n",
       "      <th></th>\n",
       "      <th>null</th>\n",
       "      <th>%</th>\n",
       "      <th>type</th>\n",
       "    </tr>\n",
       "  </thead>\n",
       "  <tbody>\n",
       "    <tr>\n",
       "      <th>surface_total_in_m2</th>\n",
       "      <td>0</td>\n",
       "      <td>0.0</td>\n",
       "      <td>float64</td>\n",
       "    </tr>\n",
       "    <tr>\n",
       "      <th>surface_covered_in_m2</th>\n",
       "      <td>0</td>\n",
       "      <td>0.0</td>\n",
       "      <td>float64</td>\n",
       "    </tr>\n",
       "    <tr>\n",
       "      <th>price_usd_per_m2</th>\n",
       "      <td>0</td>\n",
       "      <td>0.0</td>\n",
       "      <td>float64</td>\n",
       "    </tr>\n",
       "    <tr>\n",
       "      <th>rooms</th>\n",
       "      <td>0</td>\n",
       "      <td>0.0</td>\n",
       "      <td>float64</td>\n",
       "    </tr>\n",
       "    <tr>\n",
       "      <th>am_garage</th>\n",
       "      <td>0</td>\n",
       "      <td>0.0</td>\n",
       "      <td>int64</td>\n",
       "    </tr>\n",
       "    <tr>\n",
       "      <th>...</th>\n",
       "      <td>...</td>\n",
       "      <td>...</td>\n",
       "      <td>...</td>\n",
       "    </tr>\n",
       "    <tr>\n",
       "      <th>pn_Virreyes</th>\n",
       "      <td>0</td>\n",
       "      <td>0.0</td>\n",
       "      <td>int64</td>\n",
       "    </tr>\n",
       "    <tr>\n",
       "      <th>pn_Wilde</th>\n",
       "      <td>0</td>\n",
       "      <td>0.0</td>\n",
       "      <td>int64</td>\n",
       "    </tr>\n",
       "    <tr>\n",
       "      <th>pn_William Morris</th>\n",
       "      <td>0</td>\n",
       "      <td>0.0</td>\n",
       "      <td>int64</td>\n",
       "    </tr>\n",
       "    <tr>\n",
       "      <th>pn_Zelaya</th>\n",
       "      <td>0</td>\n",
       "      <td>0.0</td>\n",
       "      <td>int64</td>\n",
       "    </tr>\n",
       "    <tr>\n",
       "      <th>pn_coordenadas 34.255511</th>\n",
       "      <td>0</td>\n",
       "      <td>0.0</td>\n",
       "      <td>int64</td>\n",
       "    </tr>\n",
       "  </tbody>\n",
       "</table>\n",
       "<p>476 rows × 3 columns</p>\n",
       "</div>"
      ],
      "text/plain": [
       "                          null    %     type\n",
       "surface_total_in_m2          0  0.0  float64\n",
       "surface_covered_in_m2        0  0.0  float64\n",
       "price_usd_per_m2             0  0.0  float64\n",
       "rooms                        0  0.0  float64\n",
       "am_garage                    0  0.0    int64\n",
       "...                        ...  ...      ...\n",
       "pn_Virreyes                  0  0.0    int64\n",
       "pn_Wilde                     0  0.0    int64\n",
       "pn_William Morris            0  0.0    int64\n",
       "pn_Zelaya                    0  0.0    int64\n",
       "pn_coordenadas 34.255511     0  0.0    int64\n",
       "\n",
       "[476 rows x 3 columns]"
      ]
     },
     "execution_count": 118,
     "metadata": {},
     "output_type": "execute_result"
    }
   ],
   "source": [
    "cant_nulos_por_campo = data.apply(lambda x: x.isnull().sum(), axis = 0)\n",
    "percent_nulos_por_campo = data.apply(lambda x: (100 * x.isnull().sum() / data_na.shape[0]).round(2), axis = 0)\n",
    "pd.DataFrame({'null': cant_nulos_por_campo, '%': percent_nulos_por_campo,'type': data.dtypes})"
   ]
  },
  {
   "cell_type": "markdown",
   "id": "d4b883e4",
   "metadata": {},
   "source": [
    "# **4. Exportación del dataset resultante a un nuevo *.csv***"
   ]
  },
  {
   "cell_type": "code",
   "execution_count": 119,
   "id": "1fb811c5",
   "metadata": {
    "id": "32391447"
   },
   "outputs": [],
   "source": [
    "# para exportar resultados\n",
    "data.to_csv(r'../data/properatti_tp2.csv', index = False, header=True)"
   ]
  },
  {
   "cell_type": "code",
   "execution_count": 120,
   "id": "41330a2d",
   "metadata": {},
   "outputs": [],
   "source": [
    "# para usar el nuevo dataset desde el archivo\n",
    "# data = pd.read_csv(\"../data/properatti_tp2.csv\", sep = \",\", low_memory=False) \n",
    "# data.head(3)\n",
    "# data.shape"
   ]
  }
 ],
 "metadata": {
  "colab": {
   "collapsed_sections": [
    "cdbfda03",
    "5eb9b770",
    "2fa218dc"
   ],
   "name": "Principal.ipynb",
   "provenance": []
  },
  "interpreter": {
   "hash": "6ac88a8a1a8cc340d2b05566e22fde7412d1d718644d4b1167688fa7d4044e9b"
  },
  "kernelspec": {
   "display_name": "Python 3.8.12 ('dhds22')",
   "language": "python",
   "name": "python3"
  },
  "language_info": {
   "codemirror_mode": {
    "name": "ipython",
    "version": 3
   },
   "file_extension": ".py",
   "mimetype": "text/x-python",
   "name": "python",
   "nbconvert_exporter": "python",
   "pygments_lexer": "ipython3",
   "version": "3.8.12"
  }
 },
 "nbformat": 4,
 "nbformat_minor": 5
}
