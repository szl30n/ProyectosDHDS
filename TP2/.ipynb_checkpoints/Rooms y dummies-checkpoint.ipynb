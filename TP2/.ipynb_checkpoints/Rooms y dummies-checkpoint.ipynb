version https://git-lfs.github.com/spec/v1
oid sha256:31f731aea6664238a8974efe52df06fb163b838944550c4730d2f808aa869ccf
size 56387
