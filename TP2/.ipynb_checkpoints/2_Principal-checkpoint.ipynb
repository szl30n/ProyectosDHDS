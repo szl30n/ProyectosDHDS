{
 "cells": [
  {
   "cell_type": "markdown",
   "id": "f29c9659",
   "metadata": {
    "heading_collapsed": "true"
   },
   "source": [
    "# **1. Importación de *modules***"
   ]
  },
  {
   "cell_type": "code",
   "execution_count": 18,
   "id": "b689ea85",
   "metadata": {},
   "outputs": [],
   "source": [
    "import numpy as np\n",
    "import pandas as pd\n",
    "import seaborn as sns\n",
    "import matplotlib.pyplot as plt\n",
    "import plotly.express as px\n",
    "from sklearn.linear_model import LinearRegression\n",
    "from sklearn.model_selection import train_test_split\n",
    "from sklearn import metrics\n",
    "from sklearn.metrics import mean_absolute_error, mean_squared_error, r2_score\n",
    "from IPython.core.interactiveshell import InteractiveShell\n",
    "InteractiveShell.ast_node_interactivity = \"all\""
   ]
  },
  {
   "cell_type": "markdown",
   "id": "4f224f6c",
   "metadata": {
    "heading_collapsed": "true"
   },
   "source": [
    "# **2. Importación del dataset *properatti_tp2.csv***"
   ]
  },
  {
   "cell_type": "code",
   "execution_count": 19,
   "id": "4df4c5e3",
   "metadata": {},
   "outputs": [
    {
     "data": {
      "text/html": [
       "<div>\n",
       "<style scoped>\n",
       "    .dataframe tbody tr th:only-of-type {\n",
       "        vertical-align: middle;\n",
       "    }\n",
       "\n",
       "    .dataframe tbody tr th {\n",
       "        vertical-align: top;\n",
       "    }\n",
       "\n",
       "    .dataframe thead th {\n",
       "        text-align: right;\n",
       "    }\n",
       "</style>\n",
       "<table border=\"1\" class=\"dataframe\">\n",
       "  <thead>\n",
       "    <tr style=\"text-align: right;\">\n",
       "      <th></th>\n",
       "      <th>surface_total_in_m2</th>\n",
       "      <th>surface_covered_in_m2</th>\n",
       "      <th>price_usd_per_m2</th>\n",
       "      <th>rooms</th>\n",
       "      <th>am_garage</th>\n",
       "      <th>am_balcon</th>\n",
       "      <th>am_parrilla</th>\n",
       "      <th>am_piscina</th>\n",
       "      <th>am_terraza</th>\n",
       "      <th>am_patio</th>\n",
       "      <th>...</th>\n",
       "      <th>pn_Villa de Mayo</th>\n",
       "      <th>pn_Villa del Parque</th>\n",
       "      <th>pn_Village Golf &amp; Tennis Country Club</th>\n",
       "      <th>pn_Virasoro Village</th>\n",
       "      <th>pn_Virrey del Pino</th>\n",
       "      <th>pn_Virreyes</th>\n",
       "      <th>pn_Wilde</th>\n",
       "      <th>pn_William Morris</th>\n",
       "      <th>pn_Zelaya</th>\n",
       "      <th>pn_coordenadas 34.255511</th>\n",
       "    </tr>\n",
       "  </thead>\n",
       "  <tbody>\n",
       "    <tr>\n",
       "      <th>0</th>\n",
       "      <td>55.0</td>\n",
       "      <td>40.0</td>\n",
       "      <td>1127.272727</td>\n",
       "      <td>2.0</td>\n",
       "      <td>0</td>\n",
       "      <td>0</td>\n",
       "      <td>0</td>\n",
       "      <td>0</td>\n",
       "      <td>0</td>\n",
       "      <td>1</td>\n",
       "      <td>...</td>\n",
       "      <td>0</td>\n",
       "      <td>0</td>\n",
       "      <td>0</td>\n",
       "      <td>0</td>\n",
       "      <td>0</td>\n",
       "      <td>0</td>\n",
       "      <td>0</td>\n",
       "      <td>0</td>\n",
       "      <td>0</td>\n",
       "      <td>0</td>\n",
       "    </tr>\n",
       "    <tr>\n",
       "      <th>1</th>\n",
       "      <td>55.0</td>\n",
       "      <td>55.0</td>\n",
       "      <td>1309.090909</td>\n",
       "      <td>2.0</td>\n",
       "      <td>0</td>\n",
       "      <td>0</td>\n",
       "      <td>0</td>\n",
       "      <td>0</td>\n",
       "      <td>0</td>\n",
       "      <td>0</td>\n",
       "      <td>...</td>\n",
       "      <td>0</td>\n",
       "      <td>0</td>\n",
       "      <td>0</td>\n",
       "      <td>0</td>\n",
       "      <td>0</td>\n",
       "      <td>0</td>\n",
       "      <td>0</td>\n",
       "      <td>0</td>\n",
       "      <td>0</td>\n",
       "      <td>0</td>\n",
       "    </tr>\n",
       "    <tr>\n",
       "      <th>2</th>\n",
       "      <td>106.0</td>\n",
       "      <td>78.0</td>\n",
       "      <td>1226.415094</td>\n",
       "      <td>2.0</td>\n",
       "      <td>1</td>\n",
       "      <td>0</td>\n",
       "      <td>0</td>\n",
       "      <td>0</td>\n",
       "      <td>0</td>\n",
       "      <td>1</td>\n",
       "      <td>...</td>\n",
       "      <td>0</td>\n",
       "      <td>0</td>\n",
       "      <td>0</td>\n",
       "      <td>0</td>\n",
       "      <td>0</td>\n",
       "      <td>0</td>\n",
       "      <td>0</td>\n",
       "      <td>0</td>\n",
       "      <td>0</td>\n",
       "      <td>0</td>\n",
       "    </tr>\n",
       "  </tbody>\n",
       "</table>\n",
       "<p>3 rows × 467 columns</p>\n",
       "</div>"
      ],
      "text/plain": [
       "   surface_total_in_m2  surface_covered_in_m2  price_usd_per_m2  rooms  \\\n",
       "0                 55.0                   40.0       1127.272727    2.0   \n",
       "1                 55.0                   55.0       1309.090909    2.0   \n",
       "2                106.0                   78.0       1226.415094    2.0   \n",
       "\n",
       "   am_garage  am_balcon  am_parrilla  am_piscina  am_terraza  am_patio  ...  \\\n",
       "0          0          0            0           0           0         1  ...   \n",
       "1          0          0            0           0           0         0  ...   \n",
       "2          1          0            0           0           0         1  ...   \n",
       "\n",
       "   pn_Villa de Mayo  pn_Villa del Parque  \\\n",
       "0                 0                    0   \n",
       "1                 0                    0   \n",
       "2                 0                    0   \n",
       "\n",
       "   pn_Village Golf & Tennis Country Club  pn_Virasoro Village  \\\n",
       "0                                      0                    0   \n",
       "1                                      0                    0   \n",
       "2                                      0                    0   \n",
       "\n",
       "   pn_Virrey del Pino  pn_Virreyes  pn_Wilde  pn_William Morris  pn_Zelaya  \\\n",
       "0                   0            0         0                  0          0   \n",
       "1                   0            0         0                  0          0   \n",
       "2                   0            0         0                  0          0   \n",
       "\n",
       "   pn_coordenadas 34.255511  \n",
       "0                         0  \n",
       "1                         0  \n",
       "2                         0  \n",
       "\n",
       "[3 rows x 467 columns]"
      ]
     },
     "execution_count": 19,
     "metadata": {},
     "output_type": "execute_result"
    },
    {
     "data": {
      "text/plain": [
       "(41760, 467)"
      ]
     },
     "execution_count": 19,
     "metadata": {},
     "output_type": "execute_result"
    }
   ],
   "source": [
    "data = pd.read_csv(\"../data/properatti_tp2.csv\", sep = \",\", low_memory=False) \n",
    "data.head(3)\n",
    "data.shape"
   ]
  },
  {
   "cell_type": "markdown",
   "id": "a881dbb9",
   "metadata": {
    "heading_collapsed": "true"
   },
   "source": [
    "# **3. Tratamiento de los datos**"
   ]
  },
  {
   "cell_type": "code",
   "execution_count": 20,
   "id": "cabf1e85",
   "metadata": {},
   "outputs": [
    {
     "data": {
      "text/plain": [
       "<AxesSubplot:>"
      ]
     },
     "execution_count": 20,
     "metadata": {},
     "output_type": "execute_result"
    },
    {
     "data": {
      "image/png": "[encoded data removed]",
      "text/plain": [
       "<Figure size 432x288 with 2 Axes>"
      ]
     },
     "metadata": {
      "needs_background": "light"
     },
     "output_type": "display_data"
    }
   ],
   "source": [
    "sns.heatmap(data.iloc[:, :4].corr(), vmin=-1, vmax=1, center=0, cmap=\"YlGnBu\")"
   ]
  },
  {
   "cell_type": "markdown",
   "id": "17f02f79",
   "metadata": {},
   "source": [
    "# **4.Modelos**"
   ]
  },
  {
   "cell_type": "markdown",
   "id": "2f1c8985",
   "metadata": {},
   "source": [
    "## Creo una función que ingreso features y devuelve el MAE"
   ]
  },
  {
   "cell_type": "code",
   "execution_count": 21,
   "id": "f49a1f58",
   "metadata": {},
   "outputs": [],
   "source": [
    "# Definimos una función que acepta una lista de features, hace el split entre train y test,\n",
    "# reservando un 25% de las observaciones para testeo, y devuelve la prueba MAE.\n",
    "\n",
    "def train_test_mae(feature_cols):\n",
    "    X = data[feature_cols]\n",
    "    y = data.price_usd_per_m2\n",
    "    # Como estamos trabajando con observaciones ordenadas en el tiempo, ponemos\n",
    "    # shuffle=False para evitar data leakage\n",
    "    X_train, X_test, y_train, y_test = train_test_split(X, y, shuffle=False)\n",
    "    linreg = LinearRegression()\n",
    "    linreg.fit(X_train, y_train)\n",
    "    y_pred = linreg.predict(X_test)\n",
    "    return metrics.mean_absolute_error(y_test, y_pred)\n"
   ]
  },
  {
   "cell_type": "code",
   "execution_count": 22,
   "id": "d2574eca",
   "metadata": {},
   "outputs": [
    {
     "data": {
      "text/plain": [
       "705.1883861779858"
      ]
     },
     "execution_count": 22,
     "metadata": {},
     "output_type": "execute_result"
    }
   ],
   "source": [
    "train_test_mae(['surface_total_in_m2','surface_covered_in_m2','rooms'])"
   ]
  },
  {
   "cell_type": "code",
   "execution_count": 23,
   "id": "e5ca8511",
   "metadata": {},
   "outputs": [
    {
     "data": {
      "text/plain": [
       "697.9425238951077"
      ]
     },
     "execution_count": 23,
     "metadata": {},
     "output_type": "execute_result"
    }
   ],
   "source": [
    "train_test_mae(['surface_total_in_m2'])"
   ]
  },
  {
   "cell_type": "code",
   "execution_count": 24,
   "id": "d45fd92c",
   "metadata": {},
   "outputs": [
    {
     "data": {
      "text/plain": [
       "724.2764619697847"
      ]
     },
     "execution_count": 24,
     "metadata": {},
     "output_type": "execute_result"
    }
   ],
   "source": [
    "train_test_mae(['surface_covered_in_m2'])"
   ]
  },
  {
   "cell_type": "code",
   "execution_count": 25,
   "id": "ab8445a4",
   "metadata": {},
   "outputs": [
    {
     "data": {
      "text/plain": [
       "759.8550278142445"
      ]
     },
     "execution_count": 25,
     "metadata": {},
     "output_type": "execute_result"
    }
   ],
   "source": [
    "train_test_mae(['rooms'])"
   ]
  },
  {
   "cell_type": "markdown",
   "id": "580f0055",
   "metadata": {},
   "source": [
    "## **4.1 Regresión lineal simple (RLS)**"
   ]
  },
  {
   "cell_type": "markdown",
   "id": "f6c586ab",
   "metadata": {},
   "source": [
    "### Regresión lineal simple (RLS) de a una feature a la vez **sin normalización**"
   ]
  },
  {
   "cell_type": "code",
   "execution_count": 26,
   "id": "288bdb7f",
   "metadata": {},
   "outputs": [],
   "source": [
    "X1 = data[['surface_total_in_m2']]\n",
    "X2 = data[['surface_covered_in_m2']]\n",
    "X3 = data[['rooms']]\n",
    "y = data['price_usd_per_m2']\n",
    "\n"
   ]
  },
  {
   "cell_type": "code",
   "execution_count": 47,
   "id": "e8f83070",
   "metadata": {},
   "outputs": [],
   "source": [
    "def rls_func(X,y,columna):\n",
    "    print( columna)\n",
    "    # Como estamos trabajando con observaciones ordenadas en el tiempo, ponemos\n",
    "    # shuffle=False para evitar data leakage    shuffle=False\n",
    "    Xtrain, Xtest, ytrain, ytest = train_test_split(X, y, random_state = 1,)\n",
    "    lm = LinearRegression() # Fiteamos el modelo sobre los vectores X e y.\n",
    "    model = lm.fit(X, y)\n",
    "    print(f'''    Coef\\t{model.coef_}''')\n",
    "    print(f'''    intercept\\t{model.intercept_}''')\n",
    "    test_sklearn = np.array(Xtest).reshape(-1,1)\n",
    "    model.predict(test_sklearn)\n",
    "    ypred = model.predict(Xtest)\n",
    "\n",
    "    print(f'''    MAE\\t{mean_absolute_error(ytest, ypred).round(2)}\n",
    "    MSE\\t{mean_squared_error(ytest, ypred).round(2)}\n",
    "    RMSE\\t{np.sqrt(mean_squared_error(ytest, ypred)).round(2)}\n",
    "    R2\\t{r2_score(ytest, ypred).round(2)}''')\n",
    "\n",
    "    sns.regplot(data = data, x = columna, y = 'price_usd_per_m2', ci = 95, scatter_kws = {\"color\": \"blue\", 's': 10}, line_kws = {\"color\": \"red\"})\n",
    "    #return metrics.mean_absolute_error(y_test, y_pred)\n",
    "\n"
   ]
  },
  {
   "cell_type": "markdown",
   "id": "27426d7a",
   "metadata": {},
   "source": [
    "#### 4.1.1 Superficie total"
   ]
  },
  {
   "cell_type": "code",
   "execution_count": 48,
   "id": "db4a70e8",
   "metadata": {},
   "outputs": [
    {
     "name": "stdout",
     "output_type": "stream",
     "text": [
      "*** Superficie total ***\n",
      "surface_total_in_m2\n",
      "    Coef\t[-2.60476694]\n",
      "    intercept\t2486.650029615513\n",
      "    MAE\t700.94\n",
      "    MSE\t944445.18\n",
      "    RMSE\t971.83\n",
      "    R2\t0.16\n"
     ]
    },
    {
     "data": {
      "image/png": "[encoded data removed]",
      "text/plain": [
       "<Figure size 432x288 with 1 Axes>"
      ]
     },
     "metadata": {
      "needs_background": "light"
     },
     "output_type": "display_data"
    }
   ],
   "source": [
    "# Superficie total\n",
    "print(\"*** Superficie total ***\")\n",
    "X = data[['surface_total_in_m2']]\n",
    "#X = data[['surface_covered_in_m2']]\n",
    "#X = data[['rooms']]\n",
    "y = data['price_usd_per_m2']\n",
    "rls_func(X,y,'surface_total_in_m2')\n"
   ]
  },
  {
   "cell_type": "markdown",
   "id": "43669aff",
   "metadata": {},
   "source": [
    "#### 4.1.1 Superficie total"
   ]
  },
  {
   "cell_type": "markdown",
   "id": "8628ff44",
   "metadata": {},
   "source": [
    "#### 4.1.2 Superficie cubierta"
   ]
  },
  {
   "cell_type": "code",
   "execution_count": 49,
   "id": "5b2ac922",
   "metadata": {},
   "outputs": [
    {
     "name": "stdout",
     "output_type": "stream",
     "text": [
      "*** Superficie cubierta ***\n",
      "surface_covered_in_m2\n",
      "    Coef\t[-2.61384529]\n",
      "    intercept\t2381.775005041239\n",
      "    MAE\t748.4\n",
      "    MSE\t1057673.79\n",
      "    RMSE\t1028.43\n",
      "    R2\t0.06\n"
     ]
    },
    {
     "data": {
      "image/png": "[encoded data removed]",
      "text/plain": [
       "<Figure size 432x288 with 1 Axes>"
      ]
     },
     "metadata": {
      "needs_background": "light"
     },
     "output_type": "display_data"
    }
   ],
   "source": [
    "# Superficie cubierta\n",
    "print(\"*** Superficie cubierta ***\")\n",
    "X = data[['surface_covered_in_m2']]\n",
    "#X = data[['surface_covered_in_m2']]\n",
    "#X = data[['rooms']]\n",
    "y = data['price_usd_per_m2']\n",
    "rls_func(X,y,'surface_covered_in_m2')\n"
   ]
  },
  {
   "cell_type": "markdown",
   "id": "a9845f30",
   "metadata": {},
   "source": [
    "#### 4.1.2 Habitaciones"
   ]
  },
  {
   "cell_type": "code",
   "execution_count": 54,
   "id": "e62645e7",
   "metadata": {},
   "outputs": [
    {
     "name": "stdout",
     "output_type": "stream",
     "text": [
      "*** rooms ***\n",
      "rooms\n",
      "    Coef\t[-96.71856822]\n",
      "    intercept\t2353.1539851961998\n",
      "    MAE\t781.27\n",
      "    MSE\t1109205.16\n",
      "    RMSE\t1053.19\n",
      "    R2\t0.01\n"
     ]
    },
    {
     "data": {
      "image/png": "[encoded data removed]",
      "text/plain": [
       "<Figure size 432x288 with 1 Axes>"
      ]
     },
     "metadata": {
      "needs_background": "light"
     },
     "output_type": "display_data"
    }
   ],
   "source": [
    "# Habitaciones\n",
    "print(\"*** rooms ***\")\n",
    "X = data[['rooms']]\n",
    "#X = data[['surface_covered_in_m2']]\n",
    "#X = data[['rooms']]\n",
    "y = data['price_usd_per_m2']\n",
    "rls_func(X,y,'rooms')"
   ]
  },
  {
   "cell_type": "markdown",
   "id": "a8dd3921",
   "metadata": {},
   "source": [
    "### RLS a una feature a la vez **normalizando**"
   ]
  },
  {
   "cell_type": "code",
   "execution_count": 12,
   "id": "e5f82bf4",
   "metadata": {},
   "outputs": [
    {
     "ename": "NameError",
     "evalue": "name 'preprocessing' is not defined",
     "output_type": "error",
     "traceback": [
      "\u001b[1;31m---------------------------------------------------------------------------\u001b[0m",
      "\u001b[1;31mNameError\u001b[0m                                 Traceback (most recent call last)",
      "Input \u001b[1;32mIn [12]\u001b[0m, in \u001b[0;36m<module>\u001b[1;34m\u001b[0m\n\u001b[0;32m      1\u001b[0m \u001b[38;5;66;03m#Normalizo con surface_total_in_m2\u001b[39;00m\n\u001b[1;32m----> 2\u001b[0m xs \u001b[38;5;241m=\u001b[39m \u001b[43mpreprocessing\u001b[49m\u001b[38;5;241m.\u001b[39mscale(data[[\u001b[38;5;124m\"\u001b[39m\u001b[38;5;124msurface_total_in_m2\u001b[39m\u001b[38;5;124m\"\u001b[39m]])\n\u001b[0;32m      3\u001b[0m ys \u001b[38;5;241m=\u001b[39m preprocessing\u001b[38;5;241m.\u001b[39mscale(data[\u001b[38;5;124m\"\u001b[39m\u001b[38;5;124mprice_usd_per_m2\u001b[39m\u001b[38;5;124m\"\u001b[39m])\n\u001b[0;32m      5\u001b[0m plt\u001b[38;5;241m.\u001b[39mscatter(xs, ys, color\u001b[38;5;241m=\u001b[39m\u001b[38;5;124m'\u001b[39m\u001b[38;5;124mr\u001b[39m\u001b[38;5;124m'\u001b[39m)\n",
      "\u001b[1;31mNameError\u001b[0m: name 'preprocessing' is not defined"
     ]
    }
   ],
   "source": [
    "#Normalizo con surface_total_in_m2\n",
    "xs = preprocessing.scale(data[[\"surface_total_in_m2\"]])\n",
    "ys = preprocessing.scale(data[\"price_usd_per_m2\"])\n",
    "\n",
    "plt.scatter(xs, ys, color='r')\n",
    "plt.xlabel(\"SurfTot standardized\")\n",
    "plt.ylabel(\"PUPM standardized\")\n",
    "plt.show()"
   ]
  },
  {
   "cell_type": "code",
   "execution_count": null,
   "id": "0cf6d6d1",
   "metadata": {},
   "outputs": [],
   "source": [
    "# Aplico modelo sobre variables normalizadas\n",
    "Xstrain, Xstest, ystrain, ystest = train_test_split(xs, ys, random_state = 1)\n",
    "lms = LinearRegression() # Fiteamos el modelo sobre los vectores xs e ys.\n",
    "\n",
    "models = lms.fit(xs, ys)\n",
    "models.coef_\n",
    "models.intercept_\n",
    "test_sklearn_s = np.array(Xstest).reshape(-1,1)\n",
    "models.predict(test_sklearn_s)\n",
    "yspred = models.predict(Xstest)\n",
    "\n",
    "print(f'''MAE\\t{mean_absolute_error(ystest, yspred).round(2)}\n",
    "MSE\\t{mean_squared_error(ystest, yspred).round(2)}\n",
    "RMSE\\t{np.sqrt(mean_squared_error(ystest, yspred)).round(2)}\n",
    "R2\\t{r2_score(ystest, yspred).round(2)}''')\n",
    "\n",
    "sns.regplot(data = data, x = xs, y = ys, ci = 95, scatter_kws = {\"color\": \"blue\", 's': 10}, line_kws = {\"color\": \"red\"})"
   ]
  },
  {
   "cell_type": "markdown",
   "id": "0202e866",
   "metadata": {},
   "source": [
    "Comparando los resultados de la regresion lineal simple usando surface_total_in_m2 con y sin normalizacion se tiene:\n",
    "Sin normalización: \n",
    "- MAE\t700.94\n",
    "- MSE\t944445.18\n",
    "- RMSE\t971.83\n",
    "- R2\t0.16\n",
    "\n",
    "Con Normalización\n",
    "- MAE\t0.65\n",
    "- MSE\t0.82\n",
    "- RMSE\t0.91\n",
    "- R2\t0.16"
   ]
  },
  {
   "cell_type": "markdown",
   "id": "38b4aba9",
   "metadata": {},
   "source": [
    "## **Regresión lineal múltiple (RLM)**"
   ]
  },
  {
   "cell_type": "markdown",
   "id": "8a3a49bd",
   "metadata": {},
   "source": [
    "### RLM con las 3 features originales juntas **sin normalización**"
   ]
  },
  {
   "cell_type": "code",
   "execution_count": null,
   "id": "24a61751",
   "metadata": {},
   "outputs": [],
   "source": [
    "# Hacemos un modelo utilizando las 3 variables independientes para predecir price_usd_per_m2\n",
    "X = data[['surface_total_in_m2','surface_covered_in_m2','rooms']]\n",
    "y = data['price_usd_per_m2']\n",
    "\n",
    "# Separar entre train y test\n",
    "Xtrain, Xtest, ytrain, ytest = train_test_split(X, y)\n",
    "\n",
    "# Importamos, Instanciamos, Fiteamos, etc..\n",
    "\n",
    "# Instanciamos el modelo.\n",
    "lm = LinearRegression()\n",
    "\n",
    "# Fiteamos el modelo sobre los vectores X e y.\n",
    "model = lm.fit(X, y)\n",
    "#\n",
    "# Guardamos  las predicciones en un nuevo vector que llamaremos predictions.\n",
    "predictions = lm.predict(X)\n",
    "\n",
    "# Imprimimos el intercepto y los coeficientes como atributos del objeto entrenado.\n",
    "print ('Intercepto=', ' ', model.intercept_)\n",
    "print ('RM=', ' ', model.coef_)"
   ]
  },
  {
   "cell_type": "code",
   "execution_count": null,
   "id": "11839425",
   "metadata": {},
   "outputs": [],
   "source": [
    "print ('MAE:', metrics.mean_absolute_error(y, predictions))\n",
    "print ('MSE:', metrics.mean_squared_error(y, predictions))\n",
    "print ('RMSE:', np.sqrt(metrics.mean_squared_error(y, predictions)))\n",
    "print ('R2:', metrics.r2_score(y, predictions))"
   ]
  },
  {
   "cell_type": "code",
   "execution_count": null,
   "id": "5a4e56bf",
   "metadata": {},
   "outputs": [],
   "source": [
    "plt.plot(y,y, '-.',c='grey')\n",
    "plt.scatter(predictions, y, s=30, c='r', marker='+', zorder=10)\n",
    "plt.xlabel(\"Predicciones usando todas las variables\")\n",
    "plt.ylabel(\"Valores reales \")\n",
    "plt.show()"
   ]
  },
  {
   "cell_type": "markdown",
   "id": "2be5464d",
   "metadata": {},
   "source": [
    "### RLM con TODOS los features (dummies incluidos) **sin normalizar**"
   ]
  },
  {
   "cell_type": "code",
   "execution_count": null,
   "id": "2f64e109",
   "metadata": {},
   "outputs": [],
   "source": [
    "# Hacemos un modelo utilizando todos los features\n",
    "X_todo = data[data.columns.difference([\"price_usd_per_m2\"])]\n",
    "y_todo = data['price_usd_per_m2']\n",
    "\n",
    "# Separar entre train y test\n",
    "X_todo_train, X_todo_test, y_todo_train, y_todo_test = train_test_split(X_todo, y_todo)\n",
    "\n",
    "# Importamos, Instanciamos, Fiteamos, etc..\n",
    "\n",
    "# Instanciamos el modelo.\n",
    "lm_todo = LinearRegression()\n",
    "\n",
    "# Fiteamos el modelo sobre los vectores X e y.\n",
    "model_todo = lm_todo.fit(X_todo, y_todo)\n",
    "#\n",
    "# Guardamos  las predicciones en un nuevo vector que llamaremos predictions.\n",
    "predictions_todo = lm_todo.predict(X_todo)\n",
    "\n",
    "# Imprimimos el intercepto y los coeficientes como atributos del objeto entrenado.\n",
    "#print ('Intercepto=', ' ', model.intercept_)\n",
    "#print ('RM=', ' ', model.coef_)\n",
    "print ('MAE:', metrics.mean_absolute_error(y_todo, predictions_todo))\n",
    "print ('MSE:', metrics.mean_squared_error(y_todo, predictions_todo))\n",
    "print ('RMSE:', np.sqrt(metrics.mean_squared_error(y_todo, predictions_todo)))\n",
    "print ('R2:', metrics.r2_score(y_todo, predictions_todo))"
   ]
  },
  {
   "cell_type": "code",
   "execution_count": null,
   "id": "55bbac2f",
   "metadata": {},
   "outputs": [],
   "source": [
    "plt.plot(y_todo,y_todo, '-.',c='grey')\n",
    "plt.scatter(predictions_todo, y_todo, s=30, c='r', marker='+', zorder=10)\n",
    "plt.xlabel(\"Predicciones usando todas las variables\")\n",
    "plt.ylabel(\"Valores reales \")\n",
    "plt.show()"
   ]
  }
 ],
 "metadata": {
  "interpreter": {
   "hash": "6ac88a8a1a8cc340d2b05566e22fde7412d1d718644d4b1167688fa7d4044e9b"
  },
  "kernelspec": {
   "display_name": "Python 3 (ipykernel)",
   "language": "python",
   "name": "python3"
  },
  "language_info": {
   "codemirror_mode": {
    "name": "ipython",
    "version": 3
   },
   "file_extension": ".py",
   "mimetype": "text/x-python",
   "name": "python",
   "nbconvert_exporter": "python",
   "pygments_lexer": "ipython3",
   "version": "3.8.12"
  }
 },
 "nbformat": 4,
 "nbformat_minor": 5
}
