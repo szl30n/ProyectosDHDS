{
 "cells": [
  {
   "cell_type": "markdown",
   "id": "c6a2b4da",
   "metadata": {
    "heading_collapsed": "true"
   },
   "source": [
    "# **1. Importación de *modules***"
   ]
  },
  {
   "cell_type": "code",
   "execution_count": null,
   "id": "1a299931",
   "metadata": {},
   "outputs": [],
   "source": [
    "import numpy as np\n",
    "import pandas as pd\n",
    "\n",
    "import seaborn as sns\n",
    "import matplotlib.pyplot as plt\n",
    "import plotly.express as px\n",
    "\n",
    "from sklearn.linear_model import LinearRegression, Lasso, LassoCV, Ridge, RidgeCV, ElasticNet\n",
    "from sklearn.model_selection import train_test_split\n",
    "from sklearn.metrics import mean_absolute_error, mean_squared_error, r2_score\n",
    "from sklearn.preprocessing import scale\n",
    "\n",
    "import statsmodels.api as sm\n",
    "import statsmodels.tsa.api as smt\n",
    "from statsmodels.stats.outliers_influence import variance_inflation_factor\n",
    "\n",
    "from scipy import stats\n",
    "\n",
    "from IPython.core.interactiveshell import InteractiveShell\n",
    "InteractiveShell.ast_node_interactivity = \"all\""
   ]
  },
  {
   "cell_type": "markdown",
   "id": "11a2619d",
   "metadata": {},
   "source": [
    "# **2. Importación del dataset *properatti_tp2.csv***"
   ]
  },
  {
   "cell_type": "code",
   "execution_count": null,
   "id": "a318bb45",
   "metadata": {},
   "outputs": [],
   "source": [
    "data = pd.read_csv(\"../data/properatti_tp2.csv\", sep = \",\", low_memory=False) \n",
    "data.head(3)\n",
    "data.shape"
   ]
  },
  {
   "cell_type": "markdown",
   "id": "f23178c4",
   "metadata": {},
   "source": [
    "# **3. Tratamiento de los datos**"
   ]
  },
  {
   "cell_type": "code",
   "execution_count": null,
   "id": "04fa63b3",
   "metadata": {},
   "outputs": [],
   "source": [
    "# Definimos parámetros globales para matplotlib.\n",
    "plt.rcParams['figure.figsize'] = (8, 6)\n",
    "plt.rcParams['font.size'] = 16\n",
    "sns.heatmap(data.iloc[:, :4].corr(), vmin = -1, vmax = 1, center = 0, cmap = \"YlGnBu\", annot = True)"
   ]
  },
  {
   "cell_type": "markdown",
   "id": "5c05c713",
   "metadata": {},
   "source": [
    "# **4.Modelos**"
   ]
  },
  {
   "cell_type": "markdown",
   "id": "0e775968",
   "metadata": {},
   "source": [
    "## Creo una función que ingreso features y devuelve el MAE  train_test_mae"
   ]
  },
  {
   "cell_type": "code",
   "execution_count": null,
   "id": "095e378a",
   "metadata": {},
   "outputs": [],
   "source": [
    "# Definimos una función que acepta una lista de features, hace el split entre train y test,\n",
    "# reservando un 25% de las observaciones para testeo, y devuelve la prueba MAE.\n",
    "\n",
    "def train_test_mae(feature_cols):\n",
    "    X = data[feature_cols]\n",
    "    y = data.precio_por_m2\n",
    "    # Como estamos trabajando con observaciones ordenadas en el tiempo, ponemos\n",
    "    # shuffle=False para evitar data leakage\n",
    "    X_train, X_test, y_train, y_test = train_test_split(X, y, shuffle=False)\n",
    "    linreg = LinearRegression()\n",
    "    linreg.fit(X_train, y_train)\n",
    "    y_pred = linreg.predict(X_test)\n",
    "    return mean_absolute_error(y_test, y_pred)\n"
   ]
  },
  {
   "cell_type": "code",
   "execution_count": null,
   "id": "59c18173",
   "metadata": {},
   "outputs": [],
   "source": [
    "train_test_mae(['sup_total','sup_cubierta','habitaciones'])"
   ]
  },
  {
   "cell_type": "code",
   "execution_count": null,
   "id": "029aa3d2",
   "metadata": {},
   "outputs": [],
   "source": [
    "train_test_mae(['sup_total'])"
   ]
  },
  {
   "cell_type": "code",
   "execution_count": null,
   "id": "199415e6",
   "metadata": {},
   "outputs": [],
   "source": [
    "train_test_mae(['sup_cubierta'])"
   ]
  },
  {
   "cell_type": "code",
   "execution_count": null,
   "id": "b694f49d",
   "metadata": {},
   "outputs": [],
   "source": [
    "train_test_mae(['habitaciones'])"
   ]
  },
  {
   "cell_type": "markdown",
   "id": "5df31b41",
   "metadata": {},
   "source": [
    "## **4.1 Regresión lineal simple (RLS)**"
   ]
  },
  {
   "cell_type": "markdown",
   "id": "4aec813f",
   "metadata": {
    "heading_collapsed": "true"
   },
   "source": [
    "#### 4.1.1 funcion rls_func"
   ]
  },
  {
   "cell_type": "code",
   "execution_count": null,
   "id": "b9cf9a03",
   "metadata": {},
   "outputs": [],
   "source": [
    "def rls_func(X,y,columna):\n",
    "    # Como estamos trabajando con observaciones ordenadas en el tiempo, ponemos\n",
    "    # shuffle=False para evitar data leakage    shuffle=False\n",
    "    Xtrain, Xtest, ytrain, ytest = train_test_split(X, y, random_state = 1, shuffle = False)\n",
    "    lm = LinearRegression() # Fiteamos el modelo sobre los vectores X e y.\n",
    "    model = lm.fit(Xtrain, ytrain)\n",
    "    print(f'''    Coef\\t{model.coef_}''')\n",
    "    print(f'''    intercept\\t{model.intercept_}''')\n",
    "    test_sklearn = np.array(Xtest).reshape(-1,1)\n",
    "    ypred = model.predict(test_sklearn)\n",
    "    \n",
    "    print(f'''    MAE\\t{mean_absolute_error(ytest, ypred).round(2)}\n",
    "    MSE\\t{mean_squared_error(ytest, ypred).round(2)}\n",
    "    RMSE\\t{np.sqrt(mean_squared_error(ytest, ypred)).round(2)}\n",
    "    R2\\t{r2_score(ytest, ypred).round(2)}\n",
    "    ''')\n",
    "\n",
    "    sns.regplot(data = data, x = columna, y = 'precio_por_m2', ci = 95, scatter_kws = {\"color\": \"blue\", 's': 10}, line_kws = {\"color\": \"red\"})\n",
    "    #return mean_absolute_error(y_test, y_pred)\n"
   ]
  },
  {
   "cell_type": "markdown",
   "id": "1a347ce0",
   "metadata": {},
   "source": [
    "### Regresión lineal simple (RLS) de a una feature a la vez **sin normalización**"
   ]
  },
  {
   "cell_type": "markdown",
   "id": "f6ffc451",
   "metadata": {
    "heading_collapsed": "true"
   },
   "source": [
    "#### 4.1.2 scater plot"
   ]
  },
  {
   "cell_type": "code",
   "execution_count": null,
   "id": "72dc4b7b",
   "metadata": {},
   "outputs": [],
   "source": [
    "#sup_total\n",
    "xs = data[[\"sup_total\"]]\n",
    "ys = data[\"precio_por_m2\"]\n",
    "\n",
    "plt.scatter(xs, ys, color='r')\n",
    "plt.xlabel(\"SurfTot \")\n",
    "plt.ylabel(\"PUPM \")\n",
    "plt.show()"
   ]
  },
  {
   "cell_type": "markdown",
   "id": "d4a52dcd",
   "metadata": {
    "heading_collapsed": "true"
   },
   "source": [
    "#### 4.1.3 Superficie total"
   ]
  },
  {
   "cell_type": "code",
   "execution_count": null,
   "id": "5b368534",
   "metadata": {},
   "outputs": [],
   "source": [
    "# Superficie total\n",
    "print(\"*** Superficie total ***\")\n",
    "X = data[['sup_total']]\n",
    "y = data['precio_por_m2']\n",
    "rls_func(X,y,'sup_total')\n"
   ]
  },
  {
   "cell_type": "markdown",
   "id": "98cfa19f",
   "metadata": {
    "heading_collapsed": "true"
   },
   "source": [
    "#### 4.1.4 Superficie cubierta"
   ]
  },
  {
   "cell_type": "code",
   "execution_count": null,
   "id": "109136db",
   "metadata": {},
   "outputs": [],
   "source": [
    "# Superficie cubierta\n",
    "print(\"*** Superficie cubierta ***\")\n",
    "X = data[['sup_cubierta']]\n",
    "y = data['precio_por_m2']\n",
    "rls_func(X,y,'sup_cubierta')\n"
   ]
  },
  {
   "cell_type": "markdown",
   "id": "a5293aea",
   "metadata": {
    "heading_collapsed": "true"
   },
   "source": [
    "#### 4.1.5 Habitaciones"
   ]
  },
  {
   "cell_type": "code",
   "execution_count": null,
   "id": "504a4290",
   "metadata": {},
   "outputs": [],
   "source": [
    "# Habitaciones\n",
    "print(\"*** habitaciones ***\")\n",
    "X = data[['habitaciones']]\n",
    "y = data['precio_por_m2']\n",
    "rls_func(X,y,'habitaciones')"
   ]
  },
  {
   "cell_type": "markdown",
   "id": "a2419872",
   "metadata": {
    "heading_collapsed": "true"
   },
   "source": [
    "### RLS a una feature a la vez **normalizando** (usando Scale)"
   ]
  },
  {
   "cell_type": "markdown",
   "id": "a876f3ae",
   "metadata": {
    "heading_collapsed": "true"
   },
   "source": [
    "#### 4.1.6 scater plot"
   ]
  },
  {
   "cell_type": "code",
   "execution_count": null,
   "id": "8b2c3919",
   "metadata": {},
   "outputs": [],
   "source": [
    "#Normalizo con sup_total\n",
    "xs = scale(data[[\"sup_total\"]])\n",
    "ys = scale(data[\"precio_por_m2\"])\n",
    "\n",
    "plt.scatter(xs, ys, color='r')\n",
    "plt.xlabel(\"SurfTot standardized\")\n",
    "plt.ylabel(\"PUPM standardized\")\n",
    "plt.show()"
   ]
  },
  {
   "cell_type": "markdown",
   "id": "e0555cc7",
   "metadata": {
    "heading_collapsed": "true"
   },
   "source": [
    "#### 4.1.7 Superficie total"
   ]
  },
  {
   "cell_type": "code",
   "execution_count": null,
   "id": "aff03fd4",
   "metadata": {},
   "outputs": [],
   "source": [
    "# Normalizo con sup_total\n",
    "print(\"*** Superficie total con  Normalizacion  ***\")\n",
    "X = scale(data[[\"sup_total\"]])\n",
    "y = scale(data[\"precio_por_m2\"])\n",
    "rls_func(X,y,'sup_total')"
   ]
  },
  {
   "cell_type": "markdown",
   "id": "ceb4079d",
   "metadata": {},
   "source": [
    "Comparando los resultados de la regresion lineal simple usando sup_total con y sin normalizacion se tiene:\n",
    "Sin normalización: \n",
    "- MAE\t700.94\n",
    "- MSE\t944445.18\n",
    "- RMSE\t971.83\n",
    "- R2\t0.16\n",
    "\n",
    "Con Normalización\n",
    "- MAE\t0.65\n",
    "- MSE\t0.82\n",
    "- RMSE\t0.91\n",
    "- R2\t0.16"
   ]
  },
  {
   "cell_type": "markdown",
   "id": "be325638",
   "metadata": {
    "heading_collapsed": "true"
   },
   "source": [
    "#### 4.1.8 Superficie cubierta"
   ]
  },
  {
   "cell_type": "code",
   "execution_count": null,
   "id": "55925e70",
   "metadata": {},
   "outputs": [],
   "source": [
    "# Normalizo con ssup_cubierta\n",
    "print(\"*** Superficie totalcon  Normalizacion  ***\")\n",
    "X = scale(data[[\"sup_cubierta\"]])\n",
    "y = scale(data[\"precio_por_m2\"])\n",
    "rls_func(X,y,'sup_cubierta')"
   ]
  },
  {
   "cell_type": "markdown",
   "id": "e05bd461",
   "metadata": {
    "heading_collapsed": "true"
   },
   "source": [
    "#### 4.1.9 Habitaciones"
   ]
  },
  {
   "cell_type": "code",
   "execution_count": null,
   "id": "baaadec1",
   "metadata": {},
   "outputs": [],
   "source": [
    "# Normalizo con habitaciones\n",
    "print(\"*** habitaciones  ***\")\n",
    "X = scale(data[[\"habitaciones\"]])\n",
    "y = scale(data[\"precio_por_m2\"])\n",
    "rls_func(X,y,'habitaciones')"
   ]
  },
  {
   "cell_type": "markdown",
   "id": "c706b38a",
   "metadata": {},
   "source": [
    "## **4.3 Regresión lineal múltiple (RLM)**"
   ]
  },
  {
   "cell_type": "markdown",
   "id": "27e537b6",
   "metadata": {
    "heading_collapsed": "true"
   },
   "source": [
    "### 4.3.1 funcion que tome features y aplique RLM (rlm_func y rlm_func_orig)"
   ]
  },
  {
   "cell_type": "code",
   "execution_count": null,
   "id": "6eb22fd3",
   "metadata": {},
   "outputs": [],
   "source": [
    "# Definimos una función que acepta una lista de features, hace el split entre train y test,\n",
    "# reservando un 25% de las observaciones para testeo, y devuelve la prueba MAE.\n",
    "\n",
    "def rlm_func(X, y):\n",
    "    X_train, X_test, y_train, y_test = train_test_split(X, y, shuffle=False)\n",
    "    linreg = LinearRegression()\n",
    "    linreg.fit(X_train, y_train)\n",
    "    y_pred = linreg.predict(X_test)\n",
    "        \n",
    "    n = len(y_train)\n",
    "    p = X_train.shape[1]\n",
    "    R2 = r2_score(y_test, y_pred)\n",
    "    R2_ajustado = 1 - (1 - R2)*((n-1)/(n - p - 1))\n",
    "    \n",
    "    print(f'''    \n",
    "    Intercepto\\t{linreg.intercept_.round(4)}\n",
    "    MAE\\t\\t{mean_absolute_error(y_test, y_pred).round(4)}\n",
    "    MSE\\t\\t{mean_squared_error(y_test, y_pred).round(4)}\n",
    "    RMSE\\t{np.sqrt(mean_squared_error(y_test, y_pred)).round(4)}\n",
    "    R2\\t\\t{(R2).round(4)}\n",
    "    R2ADJ\\t{(R2_ajustado).round(4)}\n",
    "    ''')\n",
    "\n",
    "    plt.plot(y,y, '-.',c='grey')\n",
    "    plt.scatter(y_pred, y_test, s=30, c='r', marker='+', zorder=10)\n",
    "    plt.xlabel(\"Predicciones usando todas las variables\")\n",
    "    plt.ylabel(\"Valores reales \")\n",
    "    plt.title('Prediccion de precio por m$^2$ utilizando RLM')\n",
    "    plt.show()"
   ]
  },
  {
   "cell_type": "markdown",
   "id": "fdcb7161",
   "metadata": {
    "heading_collapsed": "true"
   },
   "source": [
    "### 4.3.2 RLM con las 3 features originales juntas **sin normalización**"
   ]
  },
  {
   "cell_type": "code",
   "execution_count": null,
   "id": "17b17308",
   "metadata": {},
   "outputs": [],
   "source": [
    "feature_cols = ['sup_total','sup_cubierta','habitaciones']\n",
    "X = data[feature_cols]\n",
    "y = data.precio_por_m2\n",
    "rlm_func(X, y)"
   ]
  },
  {
   "cell_type": "markdown",
   "id": "7a60ed5b",
   "metadata": {
    "heading_collapsed": "true"
   },
   "source": [
    "### 4.3.3 RLM con las 3 features originales juntas **Con normalización**  (usando Scale)"
   ]
  },
  {
   "cell_type": "code",
   "execution_count": null,
   "id": "1bb480fa",
   "metadata": {},
   "outputs": [],
   "source": [
    "feature_cols =['sup_total','sup_cubierta','habitaciones']\n",
    "xs_orig = scale(data[feature_cols])\n",
    "ys_orig = scale(data[\"precio_por_m2\"])\n",
    "\n",
    "rlm_func(xs_orig,ys_orig)"
   ]
  },
  {
   "cell_type": "markdown",
   "id": "056483ea",
   "metadata": {
    "heading_collapsed": "true"
   },
   "source": [
    "###  4.3.4 RLM con TODOS los features (dummies incluidos) **sin normalizar**"
   ]
  },
  {
   "cell_type": "code",
   "execution_count": 347,
   "id": "4b8a5022",
   "metadata": {},
   "outputs": [
    {
     "name": "stdout",
     "output_type": "stream",
     "text": [
      "    \n",
      "    Intercepto\t1572.6768\n",
      "    MAE\t\t6771378.9124\n",
      "    MSE\t\t9.059311665737739e+16\n",
      "    RMSE\t300986904.4616\n",
      "    R2\t\t-86717443234.47\n",
      "    R2ADJ\t-88027213063.9106\n",
      "    \n"
     ]
    },
    {
     "data": {
      "image/png": "[encoded data removed]",
      "text/plain": [
       "<Figure size 576x432 with 1 Axes>"
      ]
     },
     "metadata": {
      "needs_background": "light"
     },
     "output_type": "display_data"
    }
   ],
   "source": [
    "# Hacemos un modelo utilizando todos los features\n",
    "X_todo = data.drop(\"precio_por_m2\", axis=1)\n",
    "#X_todo = data[data.columns.difference([\"precio_por_m2\"])]\n",
    "y_todo = data['precio_por_m2']\n",
    "rlm_func(X_todo,y_todo)"
   ]
  },
  {
   "cell_type": "markdown",
   "id": "1fe21242",
   "metadata": {
    "heading_collapsed": "true"
   },
   "source": [
    "### 4.3.5 RLM con TODOS los features (dummies incluidos) **con normalizacion**  (usando Scale)"
   ]
  },
  {
   "cell_type": "code",
   "execution_count": 348,
   "id": "a4ad6719",
   "metadata": {},
   "outputs": [
    {
     "name": "stdout",
     "output_type": "stream",
     "text": [
      "    \n",
      "    Intercepto\t8759221073.263\n",
      "    MAE\t\t73509083603.8616\n",
      "    MSE\t\t6.038891830165123e+24\n",
      "    RMSE\t2457415681191.345\n",
      "    R2\t\t-6.665094800401379e+24\n",
      "    R2ADJ\t-6.76576359037276e+24\n",
      "    \n"
     ]
    },
    {
     "data": {
      "image/png": "[encoded data removed]",
      "text/plain": [
       "<Figure size 576x432 with 1 Axes>"
      ]
     },
     "metadata": {
      "needs_background": "light"
     },
     "output_type": "display_data"
    }
   ],
   "source": [
    "X_todo = scale(data.drop(\"precio_por_m2\", axis=1))\n",
    "#X_todo = scale(data[data.columns.difference([\"precio_por_m2\"])])\n",
    "y_todo = scale(data['precio_por_m2'])\n",
    "rlm_func(X_todo,y_todo)"
   ]
  },
  {
   "cell_type": "markdown",
   "id": "ec944620",
   "metadata": {
    "heading_collapsed": "true"
   },
   "source": [
    "###  **<font color='red'>4.4 Siguientes pasos regularización </font>**"
   ]
  },
  {
   "cell_type": "markdown",
   "id": "8e9d7dae",
   "metadata": {
    "heading_collapsed": "true",
    "id": "EeG9d9pirTfe"
   },
   "source": [
    "### Ridge Regression"
   ]
  },
  {
   "cell_type": "code",
   "execution_count": null,
   "id": "028ff294",
   "metadata": {
    "id": "jYJDnfN0CvvU"
   },
   "outputs": [],
   "source": [
    "X = data[['sup_total','sup_cubierta','habitaciones']]\n",
    "y = data[['precio_por_m2']]\n",
    "\n",
    "X_train, X_test, y_train, y_test = train_test_split(X, y)\n",
    "\n",
    "# Instanciamos el modelo.\n",
    "lm = LinearRegression()\n",
    "# Fiteamos el modelo sobre los vectores xs_orig e ys_orig.\n",
    "model = lm.fit(X_train, y_train)\n",
    "# Guardamos  las predicciones en un nuevo vector que llamaremos predictions.\n",
    "ypred = lm.predict(X_test)\n",
    "\n",
    "#Modelo Ridge\n",
    "ridge = Ridge(alpha=0.5, normalize=True)\n",
    "ridge.fit(X_train,y_train)\n",
    "ypred_ridge = ridge.predict(X_test)\n",
    "\n",
    "print ('R2:', r2_score(y_test, ypred))\n",
    "print (\"R2_Ridge:\", r2_score(y_test, ypred_ridge))"
   ]
  },
  {
   "cell_type": "code",
   "execution_count": null,
   "id": "4d3b1442",
   "metadata": {
    "id": "5KCQH6mBCvvU"
   },
   "outputs": [],
   "source": [
    "# Veamos los coeficientes de la regresión Ridge:    \n",
    "ridge.coef_"
   ]
  },
  {
   "cell_type": "markdown",
   "id": "9ee5aad1",
   "metadata": {
    "heading_collapsed": "true",
    "id": "Q0V5GgV0rTff"
   },
   "source": [
    "### Regression Lasso"
   ]
  },
  {
   "cell_type": "code",
   "execution_count": null,
   "id": "995fe879",
   "metadata": {
    "id": "0dd_LYSIrTff"
   },
   "outputs": [],
   "source": [
    "X = data[['sup_total','sup_cubierta','habitaciones']]\n",
    "y = data[['precio_por_m2']]\n",
    "\n",
    "X_train, X_test, y_train, y_test = train_test_split(X, y)\n",
    "\n",
    "# Instanciamos el modelo lineal\n",
    "lm = LinearRegression()\n",
    "# Fiteamos el modelo sobre los vectores xs_orig e ys_orig.\n",
    "model = lm.fit(X_train, y_train)\n",
    "# Guardamos  las predicciones en un nuevo vector que llamaremos predictions.\n",
    "ypred = lm.predict(X_test)\n",
    "\n",
    "#Modelo Lasso\n",
    "lasso = Lasso(alpha=0.5, normalize=True)\n",
    "lasso.fit(X_train,y_train)\n",
    "ypred_lasso = lasso.predict(X_test)\n",
    "\n",
    "print ('R2:', r2_score(y_test, ypred))\n",
    "print (\"R2_Lasso:\", r2_score(y_test, ypred_lasso))"
   ]
  },
  {
   "cell_type": "code",
   "execution_count": null,
   "id": "1b35301a",
   "metadata": {
    "id": "Mn2QsFZ1rTff"
   },
   "outputs": [],
   "source": [
    "# Veamos los coeficientes de la regresión Lasso:    \n",
    "lasso.coef_"
   ]
  },
  {
   "cell_type": "markdown",
   "id": "4fa79eac",
   "metadata": {
    "heading_collapsed": "true",
    "id": "KGmA1MMcrTfg"
   },
   "source": [
    "### Elastic Net"
   ]
  },
  {
   "cell_type": "code",
   "execution_count": null,
   "id": "b791f50d",
   "metadata": {
    "id": "huLRWDy6rTfg"
   },
   "outputs": [],
   "source": [
    "X = data[['sup_total','sup_cubierta','habitaciones']]\n",
    "y = data[['precio_por_m2']]\n",
    "\n",
    "X_train, X_test, y_train, y_test = train_test_split(X, y)\n",
    "\n",
    "# Instanciamos el modelo lineal\n",
    "lm = LinearRegression()\n",
    "# Fiteamos el modelo sobre los vectores xs_orig e ys_orig.\n",
    "model = lm.fit(X_train, y_train)\n",
    "# Guardamos  las predicciones en un nuevo vector que llamaremos predictions.\n",
    "y_pred = lm.predict(X_test)\n",
    "\n",
    "#Modelo elastic Net\n",
    "elastic_net = ElasticNet(alpha=0.5, normalize=True)\n",
    "elastic_net.fit(X_train, y_train)\n",
    "ypred_elastic = elastic_net.predict(X_test)\n",
    "\n",
    "plt.title(\"Muestra de datos #1\")\n",
    "plt.scatter(y_pred, y_test, c='r')\n",
    "\n",
    "print ('R2:', r2_score(y_test, ypred))\n",
    "print (\"R2_Elastic:\", r2_score(y_test, ypred_elastic))"
   ]
  },
  {
   "cell_type": "code",
   "execution_count": null,
   "id": "7e4bba31",
   "metadata": {
    "id": "2iw1iGumrTfh"
   },
   "outputs": [],
   "source": [
    "# Veamos los coeficientes de la regresión ElasticNet:\n",
    "elastic_net.coef_"
   ]
  },
  {
   "cell_type": "markdown",
   "id": "412208c6",
   "metadata": {
    "heading_collapsed": "true"
   },
   "source": [
    "## CV optimización Lambda"
   ]
  },
  {
   "cell_type": "code",
   "execution_count": null,
   "id": "fc4d3bd8",
   "metadata": {
    "id": "3iqbRRVRrTfh"
   },
   "outputs": [],
   "source": [
    "# instanciamos un modelo \n",
    "rlmcv = RidgeCV(alphas=np.linspace(0.1,100, 1000), cv=3, normalize=True,scoring='r2')\n",
    "\n",
    "\n",
    "# Ajustamos nuevamente nuestro modelo, esta vez con RidgeCV\n",
    "X = np.vander(xs, 4)[:,:-1]\n",
    "y = ys\n",
    "rlmcv.fit(X, y)\n",
    "predictions = rlmcv.predict(X)\n",
    "\n",
    "plt.scatter(xs, ys)\n",
    "plt.title(\"Muestra de datos #1\")\n",
    "plt.scatter(xs, predictions, c='r')\n",
    "plt.show()\n",
    "print (\"r^2:\", rlmcv.score(X, ys))\n",
    "print (\"alpha:\", rlmcv.alpha_)\n",
    "\n",
    "X = np.vander(xs2, 4)[:,:-1]\n",
    "predictions = rlmcv.predict(X)\n",
    "\n",
    "plt.scatter(xs2, ys2)\n",
    "plt.title(\"Muestra de datos #2\")\n",
    "plt.scatter(xs2, predictions, c='r')\n",
    "plt.show()\n",
    "print (\"r^2:\", rlmcv.score(X, ys2))"
   ]
  },
  {
   "cell_type": "code",
   "execution_count": null,
   "id": "c7e56bdc",
   "metadata": {
    "id": "-5dWwsR3rTfh"
   },
   "outputs": [],
   "source": [
    "lassocv = LassoCV(alphas=np.linspace(0.01,100, 1000), cv=3, normalize=True)\n",
    "xs, ys = generate_data()\n",
    "\n",
    "\n",
    "# Ajustamos nuevamente nuestro modelo, esta vez con LassoCV\n",
    "X = np.vander(xs, 4)[:,:-1]\n",
    "y = ys\n",
    "lassocv.fit(X, y)\n",
    "predictions = lassocv.predict(X)\n",
    "\n",
    "plt.scatter(xs, ys)\n",
    "plt.title(\"Muestra de datos #1\")\n",
    "plt.scatter(xs, predictions, c='r')\n",
    "plt.show()\n",
    "print (\"r^2:\", lassocv.score(X, ys))\n",
    "print (\"alpha:\", lassocv.alpha_)\n",
    "\n",
    "X = np.vander(xs2, 4)[:,:-1]\n",
    "predictions = lassocv.predict(X)\n",
    "\n",
    "plt.scatter(xs2, ys2)\n",
    "plt.title(\"Muestra de datos #2\")\n",
    "plt.scatter(xs2, predictions, c='r')\n",
    "plt.show()\n",
    "print (\"r^2:\", lassocv.score(X, ys2))"
   ]
  },
  {
   "cell_type": "code",
   "execution_count": null,
   "id": "91ed02b6",
   "metadata": {
    "id": "2KbYW01CrTfi"
   },
   "outputs": [],
   "source": [
    "# Definimos el rango de de búsqueda del hiperparametro explicitamente\n",
    "lm_lasso = LassoCV(alphas=[0.00001, 0.00005, 0.0001, 0.0005, 0.001, 0.005, 0.01,\\\n",
    "                                        0.05, 0.1, 1, 5, 10],\\\n",
    "                                        normalize = False, cv = 5) \n",
    "\n",
    "model_cv = lm_lasso.fit(X_train, y_train)\n",
    "\n",
    "model_cv.score(X_train, y_train)\n",
    "\n",
    "model_cv.coef_\n",
    "model_cv.intercept_\n",
    "model_cv.alpha_\n",
    "model_cv.score(X_train, y_train)"
   ]
  },
  {
   "cell_type": "code",
   "execution_count": null,
   "id": "7d0f9b7a",
   "metadata": {
    "id": "wUnucvhNrTfi"
   },
   "outputs": [],
   "source": [
    "best_alpha = model_cv.alpha_\n",
    "\n",
    "#L1_wt : 0, the fit is ridge regression. 1, the fit is the lasso \n",
    "\n",
    "no_reg_model = sm.OLS(y_train, X_train_sm)\n",
    "\n",
    "reg_model = no_reg_model.fit_regularized(alpha = best_alpha, L1_wt = 1)\n",
    "\n",
    "reg_model.params\n",
    "sns.scatterplot(x=reg_model.params, y=no_reg_model_params);\n",
    "\n",
    "reg_residuals = y_train - reg_model.fittedvalues\n",
    "\n",
    "linear_residuals = y_train - model.fittedvalues\n",
    "\n",
    "sns.scatterplot(x = reg_residuals, y = linear_residuals)"
   ]
  },
  {
   "cell_type": "code",
   "execution_count": null,
   "id": "ae8281a0",
   "metadata": {
    "id": "oy2tvyE6rTfi"
   },
   "outputs": [],
   "source": [
    "sm_prediction = reg_model.predict(X_test_sm)\n",
    "sm_prediction"
   ]
  },
  {
   "cell_type": "code",
   "execution_count": null,
   "id": "fbdb22bd",
   "metadata": {
    "id": "sV593DVDrTfi"
   },
   "outputs": [],
   "source": [
    "skl_lasso = Lasso(alpha = best_alpha, fit_intercept=True, normalize=False)\n",
    "\n",
    "skl_lasso = skl_lasso.fit(X= X_train, y = y_train)\n",
    "\n",
    "skl_prediction = skl_lasso.predict(X_test)"
   ]
  },
  {
   "cell_type": "code",
   "execution_count": null,
   "id": "4eae1991",
   "metadata": {
    "id": "spFddEmWrTfj"
   },
   "outputs": [],
   "source": [
    "skl_residuals = y_test - skl_prediction\n",
    "\n",
    "sm_residuals = y_test - sm_prediction\n",
    "\n",
    "sns.scatterplot(x = skl_residuals, y = sm_residuals)"
   ]
  },
  {
   "cell_type": "code",
   "execution_count": null,
   "id": "bba6ec74",
   "metadata": {
    "id": "WU-03BE1rTfj"
   },
   "outputs": [],
   "source": [
    "\n",
    "lasso_coef = np.insert(skl_lasso.coef_, 0, skl_lasso.intercept_)\n",
    "\n",
    "sns.scatterplot(x = lasso_coef, y = reg_model.params);\n"
   ]
  },
  {
   "cell_type": "code",
   "execution_count": null,
   "id": "955548c8",
   "metadata": {
    "id": "pIDnP1UrrTfj"
   },
   "outputs": [],
   "source": [
    "sm.tools.eval_measures.rmse(y_test, sm_prediction)\n",
    "sm.tools.eval_measures.meanabs(y_test, sm_prediction)\n",
    "r2_score(y_test, sm_prediction)\n",
    "np.sqrt(mean_squared_error(y_test, skl_prediction))\n",
    "mean_absolute_error(y_test, skl_prediction)\n",
    "r2_score(y_test, skl_prediction)"
   ]
  }
 ],
 "metadata": {
  "interpreter": {
   "hash": "6ac88a8a1a8cc340d2b05566e22fde7412d1d718644d4b1167688fa7d4044e9b"
  },
  "kernelspec": {
   "display_name": "Python 3 (ipykernel)",
   "language": "python",
   "name": "python3"
  },
  "language_info": {
   "codemirror_mode": {
    "name": "ipython",
    "version": 3
   },
   "file_extension": ".py",
   "mimetype": "text/x-python",
   "name": "python",
   "nbconvert_exporter": "python",
   "pygments_lexer": "ipython3",
   "version": "3.8.12"
  }
 },
 "nbformat": 4,
 "nbformat_minor": 5
}
