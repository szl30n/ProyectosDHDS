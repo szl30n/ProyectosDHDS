{
 "cells": [
  {
   "cell_type": "code",
   "execution_count": 168,
   "id": "9ba94e90",
   "metadata": {
    "id": "4780501a"
   },
   "outputs": [],
   "source": [
    "import numpy as np\n",
    "import pandas as pd\n",
    "import seaborn as sns\n",
    "import matplotlib.pyplot as plt\n",
    "import plotly.express as px\n",
    "from sklearn.linear_model import LinearRegression\n",
    "from sklearn.model_selection import train_test_split\n",
    "from sklearn.metrics import mean_absolute_error, mean_squared_error, r2_score\n",
    "#from IPython.core.interactiveshell import InteractiveShell\n",
    "#InteractiveShell.ast_node_interactivity = \"all\""
   ]
  },
  {
   "cell_type": "markdown",
   "id": "350502fd",
   "metadata": {
    "id": "cdbfda03"
   },
   "source": [
    "# **Importación de los datos de properati y AR**"
   ]
  },
  {
   "cell_type": "code",
   "execution_count": 169,
   "id": "20d0e6a2",
   "metadata": {
    "id": "a7754818",
    "outputId": "05a09978-f855-4c68-c039-46d93fbde29b"
   },
   "outputs": [
    {
     "data": {
      "text/plain": [
       "(121220, 26)"
      ]
     },
     "execution_count": 169,
     "metadata": {},
     "output_type": "execute_result"
    }
   ],
   "source": [
    "data = pd.read_csv(\"../data/properatti.csv\", sep = \",\", low_memory=False) \n",
    "#data.head(3)\n",
    "data.shape"
   ]
  },
  {
   "cell_type": "code",
   "execution_count": 170,
   "id": "6113edb6",
   "metadata": {
    "id": "72cd87cf",
    "outputId": "ecb6ebe3-b3aa-4ede-8c08-7832d61ab24e"
   },
   "outputs": [],
   "source": [
    "#import AR.csv trayendo algunas de las columnas que tienen info de ubicación\n",
    "#columnas = ['num', 'place_name', 'place_name2','s20', 'Lat','Lon', 's', 'rnch', 'Pais','s0','s1','s2','s3','s4','s5','s6','s7','place_with_parent_names','fecha']\n",
    "#dataAR = pd.read_csv(\"../data/AR.tsv\", header=None, names=columnas,  usecols=[1,2,4,5,8,17], sep = \"\\t\", low_memory=False) \n",
    "\n",
    "#elimino la cadena de caracteres America/ y separo la columna place_with_parent_names en columnas, \n",
    "#renombro las columnas resultantes para coincidir con las columnas de data\n",
    "#dataAR[\"place_with_parent_names\"] = dataAR[\"place_with_parent_names\"].replace({'America/':''}, regex=True)\n",
    "#dataAR[[\"country_name\", \"state_name\"]] = dataAR[\"place_with_parent_names\"].str.split(\"/\", expand=True)\n",
    "#dataAR[\"state_name\"]=dataAR[\"state_name\"].replace({'_':' '}, regex=True)\n",
    "#dataAR.drop(\"place_with_parent_names\", axis=1, inplace=True)\n",
    "#dataAR.head(3)\n",
    "#data.shape"
   ]
  },
  {
   "cell_type": "markdown",
   "id": "602a1661",
   "metadata": {},
   "source": [
    "# Sellecion solo de AMBA del dataset"
   ]
  },
  {
   "cell_type": "code",
   "execution_count": 206,
   "id": "38ef2d13",
   "metadata": {},
   "outputs": [
    {
     "name": "stdout",
     "output_type": "stream",
     "text": [
      "(81150, 30)\n"
     ]
    }
   ],
   "source": [
    "#dejamos solo lo de AMBA\n",
    "data = data[(data[\"state_name\"]== 'Capital Federal') | (data[\"state_name\"]== 'Bs.As. G.B.A. Zona Sur') | (data[\"state_name\"]=='Bs.As. G.B.A. Zona Norte') | (data[\"state_name\"]== 'Bs.As. G.B.A. Zona Oeste')]\n",
    "print(data.shape)"
   ]
  },
  {
   "cell_type": "markdown",
   "id": "d95f24c2",
   "metadata": {
    "id": "5ce111c7"
   },
   "source": [
    "# **Imputaciones**"
   ]
  },
  {
   "cell_type": "markdown",
   "id": "a2445bfb",
   "metadata": {
    "id": "5eb9b770"
   },
   "source": [
    "## --completo valores de rooms con información del title, o properati_url o description"
   ]
  },
  {
   "cell_type": "markdown",
   "id": "4cc6cac2",
   "metadata": {
    "heading_collapsed": "true",
    "id": "wipHmRxOD_Zo"
   },
   "source": [
    "### Completar info Habitaciones\n"
   ]
  },
  {
   "cell_type": "code",
   "execution_count": 171,
   "id": "46f60683",
   "metadata": {
    "colab": {
     "base_uri": "https://localhost:8080/"
    },
    "executionInfo": {
     "elapsed": 308,
     "status": "ok",
     "timestamp": 1653009986780,
     "user": {
      "displayName": "Maela Lombardi",
      "userId": "03936068368896012188"
     },
     "user_tz": 180
    },
    "id": "_gFyvCyrD_Zo",
    "outputId": "030eb50c-b338-4ff7-fd12-ccfebe2e4452"
   },
   "outputs": [
    {
     "name": "stdout",
     "output_type": "stream",
     "text": [
      "tipo  :  float64\n",
      "nulos :  73830\n"
     ]
    },
    {
     "data": {
      "text/plain": [
       "array([nan,  1.,  4.,  3.,  2.,  6.,  5., 10.,  7.,  9.,  8., 17., 22.,\n",
       "       15., 12., 11., 14., 16., 20., 13., 25., 19., 30., 18., 32., 24.,\n",
       "       31., 21., 29., 27., 23., 28.])"
      ]
     },
     "execution_count": 171,
     "metadata": {},
     "output_type": "execute_result"
    }
   ],
   "source": [
    "#Comprobamos el tipo y los valores.\n",
    "print(\"tipo  : \", data.rooms.dtype)\n",
    "print(\"nulos : \", data.rooms.isnull().sum())\n",
    "data.rooms.unique()"
   ]
  },
  {
   "cell_type": "code",
   "execution_count": 172,
   "id": "88f159d7",
   "metadata": {
    "colab": {
     "base_uri": "https://localhost:8080/"
    },
    "executionInfo": {
     "elapsed": 315,
     "status": "ok",
     "timestamp": 1653010012836,
     "user": {
      "displayName": "Maela Lombardi",
      "userId": "03936068368896012188"
     },
     "user_tz": 180
    },
    "id": "VaP1XKWAD_Zo",
    "outputId": "034c1c61-89e5-4b44-fff3-d5a13279c38f"
   },
   "outputs": [
    {
     "name": "stdout",
     "output_type": "stream",
     "text": [
      "Total Registros \t\t\t 121220\n",
      "Total sin ambientes \t\t\t 73830\n",
      "Porcentaje sin ambientes \t\t 39.09  %\n"
     ]
    }
   ],
   "source": [
    "totalVentas = data.operation.notnull().sum()\n",
    "totalSinCuartos = data.rooms.isnull().sum()\n",
    "print('Total Registros \\t\\t\\t', data.operation.notnull().sum() )\n",
    "print('Total sin ambientes \\t\\t\\t',data.rooms.isnull().sum() )\n",
    "print('Porcentaje sin ambientes \\t\\t', round( (totalVentas- totalSinCuartos) / totalVentas * 100, 2), ' %' )\n"
   ]
  },
  {
   "cell_type": "markdown",
   "id": "e9601825",
   "metadata": {
    "id": "HtOnVw0ND_Zq"
   },
   "source": [
    "El dataset esta completo en un 39.09% para todas las propiedades, podemos hacer foco en los departamentos:\n",
    "\n",
    "A continuación se propone recuperar los datos faltantantes desde las columnas de título y descripción de la publicación. Ponemos en mayúscula los títulos y descripciones y hacemos una muestra de los que tienen incompletos `rooms`."
   ]
  },
  {
   "cell_type": "code",
   "execution_count": 173,
   "id": "6d68a6f5",
   "metadata": {
    "colab": {
     "base_uri": "https://localhost:8080/",
     "height": 363
    },
    "executionInfo": {
     "elapsed": 1728,
     "status": "ok",
     "timestamp": 1653010131020,
     "user": {
      "displayName": "Maela Lombardi",
      "userId": "03936068368896012188"
     },
     "user_tz": 180
    },
    "id": "2nuavK7SD_Zq",
    "outputId": "1b5f6b7e-f99a-40fa-8265-61db4f8fc7da"
   },
   "outputs": [
    {
     "data": {
      "text/html": [
       "<div>\n",
       "<style scoped>\n",
       "    .dataframe tbody tr th:only-of-type {\n",
       "        vertical-align: middle;\n",
       "    }\n",
       "\n",
       "    .dataframe tbody tr th {\n",
       "        vertical-align: top;\n",
       "    }\n",
       "\n",
       "    .dataframe thead th {\n",
       "        text-align: right;\n",
       "    }\n",
       "</style>\n",
       "<table border=\"1\" class=\"dataframe\">\n",
       "  <thead>\n",
       "    <tr style=\"text-align: right;\">\n",
       "      <th></th>\n",
       "      <th>rooms</th>\n",
       "      <th>title</th>\n",
       "      <th>description</th>\n",
       "    </tr>\n",
       "  </thead>\n",
       "  <tbody>\n",
       "    <tr>\n",
       "      <th>40992</th>\n",
       "      <td>6.0</td>\n",
       "      <td>CASA EN EL BARRIO BOCA RATON</td>\n",
       "      <td>CORREDOR RESPONSABLE: PEDRO J. MOLDES - CSI 62...</td>\n",
       "    </tr>\n",
       "  </tbody>\n",
       "</table>\n",
       "</div>"
      ],
      "text/plain": [
       "       rooms                         title  \\\n",
       "40992    6.0  CASA EN EL BARRIO BOCA RATON   \n",
       "\n",
       "                                             description  \n",
       "40992  CORREDOR RESPONSABLE: PEDRO J. MOLDES - CSI 62...  "
      ]
     },
     "execution_count": 173,
     "metadata": {},
     "output_type": "execute_result"
    }
   ],
   "source": [
    "data['title'] = data.title.str.upper()\n",
    "data['description'] = data.description.str.upper()\n",
    "data[['rooms', 'title', 'description']].sample(1)"
   ]
  },
  {
   "cell_type": "markdown",
   "id": "020b0308",
   "metadata": {
    "id": "GzDlZm_qD_Zr"
   },
   "source": [
    "Reemplazamos los números escritos como palabras y todas la variantes de llamar a los monoambientes por '1 AMBIENTE'."
   ]
  },
  {
   "cell_type": "code",
   "execution_count": 174,
   "id": "641da12e",
   "metadata": {
    "id": "cRpb5UXWD_Zr"
   },
   "outputs": [],
   "source": [
    "reemplazo_dic = {\"UNO\":\"1\", \"DOS\":\"2\", \"TRES\":\"3\", \"CUATRO\":\"4\", \"CINCO\":\"5\", \"SEIS\":\"6\", \"SIETE\":\"7\", \"OCHO\":\"8\",\n",
    "             \"NUEVE\":\"9\", \"DIEZ\":\"10\", \"MONOAMBIENTE\":\"1 AMBIENTE\", \"MONOAMB\" : \"1 AMBIENTE\", \"UN\":\"1\", \"AMBIENTE DIVISIBLE\":\"1 AMBIENTE\",\n",
    "             \"MONO AMBIENTE\": \"1 AMBIENTE\",\"DORMITORIOS\": \"AMBIENTE\",\"DORMITORIO\": \"AMBIENTE\",\"HABITACIONES\": \"AMBIENTE\",\"HABITACION\": \"AMBIENTE\"}\n",
    "for key in reemplazo_dic.keys():\n",
    "    data.description = data.description.str.replace(key, reemplazo_dic[key], regex=False)\n",
    "\n",
    "for key in reemplazo_dic.keys():\n",
    "    data.title = data.title.str.replace(key, reemplazo_dic[key], regex=False)\n"
   ]
  },
  {
   "cell_type": "markdown",
   "id": "3016721c",
   "metadata": {
    "id": "9uay4HWvD_Zr"
   },
   "source": [
    "Recuperamos los ambientes desde título, descripción y actualizamos rooms."
   ]
  },
  {
   "cell_type": "code",
   "execution_count": 175,
   "id": "ee44a118",
   "metadata": {
    "colab": {
     "base_uri": "https://localhost:8080/"
    },
    "executionInfo": {
     "elapsed": 1531,
     "status": "ok",
     "timestamp": 1653010349239,
     "user": {
      "displayName": "Maela Lombardi",
      "userId": "03936068368896012188"
     },
     "user_tz": 180
    },
    "id": "_A_1RC1TD_Zs",
    "outputId": "d8b990cc-c92c-4163-9cf0-076ca023fd86"
   },
   "outputs": [
    {
     "name": "stderr",
     "output_type": "stream",
     "text": [
      "C:\\Users\\msaied\\Anaconda3\\envs\\ds\\lib\\site-packages\\pandas\\core\\generic.py:5170: SettingWithCopyWarning: \n",
      "A value is trying to be set on a copy of a slice from a DataFrame.\n",
      "Try using .loc[row_indexer,col_indexer] = value instead\n",
      "\n",
      "See the caveats in the documentation: https://pandas.pydata.org/pandas-docs/stable/user_guide/indexing.html#returning-a-view-versus-a-copy\n",
      "  self[name] = value\n"
     ]
    }
   ],
   "source": [
    "controlRooms = data.loc[(data.rooms.isnull())]\n",
    "controlRooms.rooms = controlRooms.description.str.extract(\"(\\d+) AMB\").astype(float)\n",
    "data.update(controlRooms)"
   ]
  },
  {
   "cell_type": "code",
   "execution_count": 176,
   "id": "d53d1558",
   "metadata": {
    "colab": {
     "base_uri": "https://localhost:8080/"
    },
    "executionInfo": {
     "elapsed": 774,
     "status": "ok",
     "timestamp": 1653010725259,
     "user": {
      "displayName": "Maela Lombardi",
      "userId": "03936068368896012188"
     },
     "user_tz": 180
    },
    "id": "_egDtQ9LD_Zs",
    "outputId": "b97041b4-2fca-4cbc-9b75-8aa9ec9b3fe8"
   },
   "outputs": [],
   "source": [
    "controlRooms = data[(data.rooms.isnull()) ]\n",
    "controlRooms.rooms = controlRooms.title.str.extract(\"(\\d+) AMB\").astype(float)\n",
    "data.update(controlRooms)"
   ]
  },
  {
   "cell_type": "code",
   "execution_count": 177,
   "id": "64fefb31",
   "metadata": {
    "colab": {
     "base_uri": "https://localhost:8080/"
    },
    "executionInfo": {
     "elapsed": 1271,
     "status": "ok",
     "timestamp": 1653010729725,
     "user": {
      "displayName": "Maela Lombardi",
      "userId": "03936068368896012188"
     },
     "user_tz": 180
    },
    "id": "Y6pll96WD_Zs",
    "outputId": "21fb99fc-7883-4e23-d34d-d90d962bd310"
   },
   "outputs": [],
   "source": [
    "controlRooms = data[(data.rooms.isnull()) ]\n",
    "controlRooms.rooms = controlRooms.description.str.extract(\"(\\d+) DORM\").astype(float) + 1\n",
    "data.update(controlRooms)"
   ]
  },
  {
   "cell_type": "code",
   "execution_count": 178,
   "id": "ad36ca69",
   "metadata": {
    "colab": {
     "base_uri": "https://localhost:8080/"
    },
    "executionInfo": {
     "elapsed": 1010,
     "status": "ok",
     "timestamp": 1653010732943,
     "user": {
      "displayName": "Maela Lombardi",
      "userId": "03936068368896012188"
     },
     "user_tz": 180
    },
    "id": "0kCRalQoD_Zs",
    "outputId": "f3828b00-b1d9-42c5-d24a-d58fb63b70e2"
   },
   "outputs": [],
   "source": [
    "controlRooms = data[(data.rooms.isnull()) ]\n",
    "controlRooms.rooms = controlRooms.title.str.extract(\"(\\d+) DORM\").astype(float) + 1\n",
    "data.update(controlRooms)"
   ]
  },
  {
   "cell_type": "code",
   "execution_count": 179,
   "id": "66205b59",
   "metadata": {
    "colab": {
     "base_uri": "https://localhost:8080/"
    },
    "executionInfo": {
     "elapsed": 283,
     "status": "ok",
     "timestamp": 1653010734654,
     "user": {
      "displayName": "Maela Lombardi",
      "userId": "03936068368896012188"
     },
     "user_tz": 180
    },
    "id": "qFfiZbobD_Zs",
    "outputId": "cac8473a-593d-4ff1-bc22-cab1ede4708b"
   },
   "outputs": [],
   "source": [
    "controlRooms = data[(data.rooms.isnull()) ]\n",
    "controlRooms.rooms = controlRooms.title.str.extract(\"(\\d+)AMB\").astype(float)\n",
    "data.update(controlRooms)"
   ]
  },
  {
   "cell_type": "code",
   "execution_count": 180,
   "id": "7518a07f",
   "metadata": {
    "colab": {
     "base_uri": "https://localhost:8080/"
    },
    "executionInfo": {
     "elapsed": 714,
     "status": "ok",
     "timestamp": 1653010737196,
     "user": {
      "displayName": "Maela Lombardi",
      "userId": "03936068368896012188"
     },
     "user_tz": 180
    },
    "id": "ezWtM6q8D_Zs",
    "outputId": "78465143-0853-4788-d1ed-6838c1fed1f8"
   },
   "outputs": [],
   "source": [
    "controlRooms = data[(data.rooms.isnull()) ]\n",
    "controlRooms.rooms = controlRooms.description.str.extract(\"(\\d+)AMB\").astype(float)\n",
    "data.update(controlRooms)"
   ]
  },
  {
   "cell_type": "code",
   "execution_count": 181,
   "id": "2fe62545",
   "metadata": {
    "colab": {
     "base_uri": "https://localhost:8080/"
    },
    "executionInfo": {
     "elapsed": 276,
     "status": "ok",
     "timestamp": 1653010739150,
     "user": {
      "displayName": "Maela Lombardi",
      "userId": "03936068368896012188"
     },
     "user_tz": 180
    },
    "id": "jHUHSJeWD_Zt",
    "outputId": "ecfa42ce-bc1f-4066-9a32-3824408bdb4c"
   },
   "outputs": [],
   "source": [
    "controlRooms = data[(data.rooms.isnull()) ]\n",
    "controlRooms.rooms = controlRooms.title.str.extract(\"(\\d+)DORM\").astype(float) + 1\n",
    "data.update(controlRooms)"
   ]
  },
  {
   "cell_type": "code",
   "execution_count": 182,
   "id": "c3e8693e",
   "metadata": {
    "colab": {
     "base_uri": "https://localhost:8080/"
    },
    "executionInfo": {
     "elapsed": 757,
     "status": "ok",
     "timestamp": 1653010741725,
     "user": {
      "displayName": "Maela Lombardi",
      "userId": "03936068368896012188"
     },
     "user_tz": 180
    },
    "id": "cc30-_wuD_Zt",
    "outputId": "2d009648-4e48-4544-ac2a-c2e56d2124e6"
   },
   "outputs": [],
   "source": [
    "controlRooms = data[(data.rooms.isnull()) ]\n",
    "controlRooms.rooms = controlRooms.description.str.extract(\"(\\d+) DORM\").astype(float) + 1\n",
    "data.update(controlRooms)"
   ]
  },
  {
   "cell_type": "code",
   "execution_count": 183,
   "id": "da03d0c1",
   "metadata": {
    "colab": {
     "base_uri": "https://localhost:8080/"
    },
    "executionInfo": {
     "elapsed": 707,
     "status": "ok",
     "timestamp": 1653010744819,
     "user": {
      "displayName": "Maela Lombardi",
      "userId": "03936068368896012188"
     },
     "user_tz": 180
    },
    "id": "eSy4AA8pD_Zt",
    "outputId": "29ecb3c1-3d23-4ec6-f0d5-586373c44e4b"
   },
   "outputs": [],
   "source": [
    "controlRooms = data[(data.rooms.isnull()) ]\n",
    "controlRooms.rooms = controlRooms.title.str.extract(\"(\\d+)HABITACIO\").astype(float) + 1\n",
    "data.update(controlRooms)"
   ]
  },
  {
   "cell_type": "code",
   "execution_count": 184,
   "id": "aaa234fb",
   "metadata": {
    "id": "64PchdGKD_Zt"
   },
   "outputs": [],
   "source": [
    "controlRooms = data[(data.rooms.isnull()) ]\n",
    "controlRooms.rooms = controlRooms.title.str.extract(\"(\\d+) HABITACIO\").astype(float) + 1\n",
    "data.update(controlRooms)"
   ]
  },
  {
   "cell_type": "code",
   "execution_count": 185,
   "id": "afc02e01",
   "metadata": {
    "colab": {
     "base_uri": "https://localhost:8080/"
    },
    "executionInfo": {
     "elapsed": 720,
     "status": "ok",
     "timestamp": 1653010753308,
     "user": {
      "displayName": "Maela Lombardi",
      "userId": "03936068368896012188"
     },
     "user_tz": 180
    },
    "id": "-lLn5Mt7D_Zt",
    "outputId": "d6ac5f76-b8f2-43df-a561-df316ec744ae"
   },
   "outputs": [],
   "source": [
    "controlRooms = data[(data.rooms.isnull()) ]\n",
    "controlRooms.rooms = controlRooms.description.str.extract(\"(\\d+)HABITACIO\").astype(float) + 1\n",
    "data.update(controlRooms)"
   ]
  },
  {
   "cell_type": "code",
   "execution_count": 186,
   "id": "12d7a43e",
   "metadata": {
    "colab": {
     "base_uri": "https://localhost:8080/"
    },
    "executionInfo": {
     "elapsed": 710,
     "status": "ok",
     "timestamp": 1653010755820,
     "user": {
      "displayName": "Maela Lombardi",
      "userId": "03936068368896012188"
     },
     "user_tz": 180
    },
    "id": "gCE9ddiAD_Zt",
    "outputId": "b3c83a27-e28c-4760-8cac-6ff1c4facdd4"
   },
   "outputs": [],
   "source": [
    "controlRooms = data[(data.rooms.isnull()) ]\n",
    "controlRooms.rooms = controlRooms.description.str.extract(\"(\\d+) HABITACIO\").astype(float) + 1\n",
    "data.update(controlRooms)"
   ]
  },
  {
   "cell_type": "code",
   "execution_count": 187,
   "id": "3641359b",
   "metadata": {
    "colab": {
     "base_uri": "https://localhost:8080/",
     "height": 363
    },
    "executionInfo": {
     "elapsed": 9,
     "status": "ok",
     "timestamp": 1653010771267,
     "user": {
      "displayName": "Maela Lombardi",
      "userId": "03936068368896012188"
     },
     "user_tz": 180
    },
    "id": "pV3CkiZAD_Zt",
    "outputId": "409bd3bc-3042-4f8e-a900-68490397c48d"
   },
   "outputs": [
    {
     "data": {
      "text/html": [
       "<div>\n",
       "<style scoped>\n",
       "    .dataframe tbody tr th:only-of-type {\n",
       "        vertical-align: middle;\n",
       "    }\n",
       "\n",
       "    .dataframe tbody tr th {\n",
       "        vertical-align: top;\n",
       "    }\n",
       "\n",
       "    .dataframe thead th {\n",
       "        text-align: right;\n",
       "    }\n",
       "</style>\n",
       "<table border=\"1\" class=\"dataframe\">\n",
       "  <thead>\n",
       "    <tr style=\"text-align: right;\">\n",
       "      <th></th>\n",
       "      <th>rooms</th>\n",
       "      <th>title</th>\n",
       "      <th>description</th>\n",
       "    </tr>\n",
       "  </thead>\n",
       "  <tbody>\n",
       "    <tr>\n",
       "      <th>73510</th>\n",
       "      <td>NaN</td>\n",
       "      <td>DEPARTAMENTO - SAAVEDRA</td>\n",
       "      <td>DEPARTAMENTO 50M² CON PUERTA DE GARAJE AUTOMÁT...</td>\n",
       "    </tr>\n",
       "    <tr>\n",
       "      <th>104540</th>\n",
       "      <td>NaN</td>\n",
       "      <td>DEPARTAMENTO - CONDOMINIOS INTERCONTINENTAL</td>\n",
       "      <td>TIGRE, NORDELTA, CONDOMINIO INTERCONTINENAL - ...</td>\n",
       "    </tr>\n",
       "  </tbody>\n",
       "</table>\n",
       "</div>"
      ],
      "text/plain": [
       "        rooms                                        title  \\\n",
       "73510     NaN                      DEPARTAMENTO - SAAVEDRA   \n",
       "104540    NaN  DEPARTAMENTO - CONDOMINIOS INTERCONTINENTAL   \n",
       "\n",
       "                                              description  \n",
       "73510   DEPARTAMENTO 50M² CON PUERTA DE GARAJE AUTOMÁT...  \n",
       "104540  TIGRE, NORDELTA, CONDOMINIO INTERCONTINENAL - ...  "
      ]
     },
     "execution_count": 187,
     "metadata": {},
     "output_type": "execute_result"
    }
   ],
   "source": [
    "controlRooms = data[(data.rooms.isnull()) ].sample(2)\n",
    "controlRooms[['rooms', 'title', 'description']]"
   ]
  },
  {
   "cell_type": "markdown",
   "id": "96580e00",
   "metadata": {
    "id": "JCEajwylD_Zu"
   },
   "source": [
    "Volvemos a controlar luego del proceso el grado de llenado de la columna"
   ]
  },
  {
   "cell_type": "code",
   "execution_count": 188,
   "id": "623e4484",
   "metadata": {
    "colab": {
     "base_uri": "https://localhost:8080/"
    },
    "executionInfo": {
     "elapsed": 416,
     "status": "ok",
     "timestamp": 1653010837210,
     "user": {
      "displayName": "Maela Lombardi",
      "userId": "03936068368896012188"
     },
     "user_tz": 180
    },
    "id": "gqMQWxJuD_Zu",
    "outputId": "d25b76d1-4a37-4848-cf71-fd67b1f172d0"
   },
   "outputs": [
    {
     "name": "stdout",
     "output_type": "stream",
     "text": [
      "Total Registros \t\t\t 121220\n",
      "Total sin Ambientes \t\t\t 16055\n",
      "Porcentaje con ambientes \t\t 86.76  %\n"
     ]
    }
   ],
   "source": [
    "totalVentas = data.operation.notnull().sum()\n",
    "totalSinCuartos = data.rooms.isnull().sum()\n",
    "porcentajeSinCuartos = round( (totalVentas- totalSinCuartos) / totalVentas * 100, 2)\n",
    "print('Total Registros \\t\\t\\t', totalVentas )\n",
    "print('Total sin Ambientes \\t\\t\\t', totalSinCuartos )\n",
    "print('Porcentaje con ambientes \\t\\t', porcentajeSinCuartos, ' %' )"
   ]
  },
  {
   "cell_type": "markdown",
   "id": "0e6d40c4",
   "metadata": {
    "id": "U-Ge9uyjD_Zu"
   },
   "source": [
    "Luego del proceso se paso del 39,09 % de llenado para todas las propiedades del data set al 86,7 %. Veamos que pasa para cada tipo de propiedad"
   ]
  },
  {
   "cell_type": "code",
   "execution_count": null,
   "id": "5a19a50a",
   "metadata": {},
   "outputs": [],
   "source": []
  },
  {
   "cell_type": "markdown",
   "id": "103f35c4",
   "metadata": {
    "id": "4d2c1ecf"
   },
   "source": [
    "# **Limpieza de datos**"
   ]
  },
  {
   "cell_type": "markdown",
   "id": "361f4835",
   "metadata": {
    "heading_collapsed": "true",
    "id": "2fa218dc"
   },
   "source": [
    "## --eliminar duplicados"
   ]
  },
  {
   "cell_type": "code",
   "execution_count": 189,
   "id": "4cfabf15",
   "metadata": {
    "id": "74e8b238",
    "outputId": "47355a10-cc3b-4b85-dd5d-cb74f58cac5c"
   },
   "outputs": [
    {
     "data": {
      "text/html": [
       "<div>\n",
       "<style scoped>\n",
       "    .dataframe tbody tr th:only-of-type {\n",
       "        vertical-align: middle;\n",
       "    }\n",
       "\n",
       "    .dataframe tbody tr th {\n",
       "        vertical-align: top;\n",
       "    }\n",
       "\n",
       "    .dataframe thead th {\n",
       "        text-align: right;\n",
       "    }\n",
       "</style>\n",
       "<table border=\"1\" class=\"dataframe\">\n",
       "  <thead>\n",
       "    <tr style=\"text-align: right;\">\n",
       "      <th></th>\n",
       "      <th>Unnamed: 0</th>\n",
       "      <th>operation</th>\n",
       "      <th>property_type</th>\n",
       "      <th>place_name</th>\n",
       "      <th>place_with_parent_names</th>\n",
       "      <th>country_name</th>\n",
       "      <th>state_name</th>\n",
       "      <th>geonames_id</th>\n",
       "      <th>lat-lon</th>\n",
       "      <th>lat</th>\n",
       "      <th>...</th>\n",
       "      <th>surface_covered_in_m2</th>\n",
       "      <th>price_usd_per_m2</th>\n",
       "      <th>price_per_m2</th>\n",
       "      <th>floor</th>\n",
       "      <th>rooms</th>\n",
       "      <th>expenses</th>\n",
       "      <th>properati_url</th>\n",
       "      <th>description</th>\n",
       "      <th>title</th>\n",
       "      <th>image_thumbnail</th>\n",
       "    </tr>\n",
       "  </thead>\n",
       "  <tbody>\n",
       "    <tr>\n",
       "      <th>0</th>\n",
       "      <td>0.0</td>\n",
       "      <td>sell</td>\n",
       "      <td>PH</td>\n",
       "      <td>Mataderos</td>\n",
       "      <td>|Argentina|Capital Federal|Mataderos|</td>\n",
       "      <td>Argentina</td>\n",
       "      <td>Capital Federal</td>\n",
       "      <td>3430787.0</td>\n",
       "      <td>-34.6618237,-58.5088387</td>\n",
       "      <td>-34.661824</td>\n",
       "      <td>...</td>\n",
       "      <td>40.0</td>\n",
       "      <td>1127.272727</td>\n",
       "      <td>1550.000000</td>\n",
       "      <td>NaN</td>\n",
       "      <td>2.0</td>\n",
       "      <td>NaN</td>\n",
       "      <td>http://www.properati.com.ar/15bo8_venta_ph_mat...</td>\n",
       "      <td>2 AMBIENTES TIPO CASA PLANTA BAJA POR PASILLO,...</td>\n",
       "      <td>2 AMB TIPO CASA SIN EXPENSAS EN PB</td>\n",
       "      <td>https://thumbs4.properati.com/8/BluUYiHJLhgIIK...</td>\n",
       "    </tr>\n",
       "    <tr>\n",
       "      <th>1</th>\n",
       "      <td>1.0</td>\n",
       "      <td>sell</td>\n",
       "      <td>apartment</td>\n",
       "      <td>La Plata</td>\n",
       "      <td>|Argentina|Bs.As. G.B.A. Zona Sur|La Plata|</td>\n",
       "      <td>Argentina</td>\n",
       "      <td>Bs.As. G.B.A. Zona Sur</td>\n",
       "      <td>3432039.0</td>\n",
       "      <td>-34.9038831,-57.9643295</td>\n",
       "      <td>-34.903883</td>\n",
       "      <td>...</td>\n",
       "      <td>NaN</td>\n",
       "      <td>NaN</td>\n",
       "      <td>NaN</td>\n",
       "      <td>NaN</td>\n",
       "      <td>3.0</td>\n",
       "      <td>NaN</td>\n",
       "      <td>http://www.properati.com.ar/15bob_venta_depart...</td>\n",
       "      <td>VENTA DE DEPARTAMENTO EN DÉCIMO PISO AL FRENTE...</td>\n",
       "      <td>VENTA DEPTO 2 DORM. A ESTRENAR 7 E/ 36 Y 37   ...</td>\n",
       "      <td>https://thumbs4.properati.com/7/ikpVBu2ztHA7jv...</td>\n",
       "    </tr>\n",
       "    <tr>\n",
       "      <th>2</th>\n",
       "      <td>2.0</td>\n",
       "      <td>sell</td>\n",
       "      <td>apartment</td>\n",
       "      <td>Mataderos</td>\n",
       "      <td>|Argentina|Capital Federal|Mataderos|</td>\n",
       "      <td>Argentina</td>\n",
       "      <td>Capital Federal</td>\n",
       "      <td>3430787.0</td>\n",
       "      <td>-34.6522615,-58.5229825</td>\n",
       "      <td>-34.652262</td>\n",
       "      <td>...</td>\n",
       "      <td>55.0</td>\n",
       "      <td>1309.090909</td>\n",
       "      <td>1309.090909</td>\n",
       "      <td>NaN</td>\n",
       "      <td>2.0</td>\n",
       "      <td>NaN</td>\n",
       "      <td>http://www.properati.com.ar/15bod_venta_depart...</td>\n",
       "      <td>2 AMBIENTES 3ER PISO LATERAL LIVING COMEDOR AM...</td>\n",
       "      <td>2 AMB 3ER PISO CON ASCENSOR APTO CREDITO</td>\n",
       "      <td>https://thumbs4.properati.com/5/SXKr34F_IwG3W_...</td>\n",
       "    </tr>\n",
       "    <tr>\n",
       "      <th>3</th>\n",
       "      <td>3.0</td>\n",
       "      <td>sell</td>\n",
       "      <td>PH</td>\n",
       "      <td>Liniers</td>\n",
       "      <td>|Argentina|Capital Federal|Liniers|</td>\n",
       "      <td>Argentina</td>\n",
       "      <td>Capital Federal</td>\n",
       "      <td>3431333.0</td>\n",
       "      <td>-34.6477969,-58.5164244</td>\n",
       "      <td>-34.647797</td>\n",
       "      <td>...</td>\n",
       "      <td>NaN</td>\n",
       "      <td>NaN</td>\n",
       "      <td>NaN</td>\n",
       "      <td>NaN</td>\n",
       "      <td>3.0</td>\n",
       "      <td>NaN</td>\n",
       "      <td>http://www.properati.com.ar/15boh_venta_ph_lin...</td>\n",
       "      <td>PH 3 AMBIENTES CON PATIO. HAY 3 DEPTOS EN LOTE...</td>\n",
       "      <td>PH 3 AMB. CFTE. RECICLADO</td>\n",
       "      <td>https://thumbs4.properati.com/3/DgIfX-85Mog5SP...</td>\n",
       "    </tr>\n",
       "    <tr>\n",
       "      <th>4</th>\n",
       "      <td>4.0</td>\n",
       "      <td>sell</td>\n",
       "      <td>apartment</td>\n",
       "      <td>Centro</td>\n",
       "      <td>|Argentina|Buenos Aires Costa Atlántica|Mar de...</td>\n",
       "      <td>Argentina</td>\n",
       "      <td>Buenos Aires Costa Atlántica</td>\n",
       "      <td>3435548.0</td>\n",
       "      <td>-38.0026256,-57.5494468</td>\n",
       "      <td>-38.002626</td>\n",
       "      <td>...</td>\n",
       "      <td>35.0</td>\n",
       "      <td>1828.571429</td>\n",
       "      <td>1828.571429</td>\n",
       "      <td>NaN</td>\n",
       "      <td>1.0</td>\n",
       "      <td>NaN</td>\n",
       "      <td>http://www.properati.com.ar/15bok_venta_depart...</td>\n",
       "      <td>DEPARTAMENTO CON FANTÁSTICA ILUMINACIÓN NATURA...</td>\n",
       "      <td>DEPTO 2 AMB AL CONTRAFRENTE ZONA CENTRO/PLAZA ...</td>\n",
       "      <td>https://thumbs4.properati.com/5/xrRqlNcSI_vs-f...</td>\n",
       "    </tr>\n",
       "    <tr>\n",
       "      <th>...</th>\n",
       "      <td>...</td>\n",
       "      <td>...</td>\n",
       "      <td>...</td>\n",
       "      <td>...</td>\n",
       "      <td>...</td>\n",
       "      <td>...</td>\n",
       "      <td>...</td>\n",
       "      <td>...</td>\n",
       "      <td>...</td>\n",
       "      <td>...</td>\n",
       "      <td>...</td>\n",
       "      <td>...</td>\n",
       "      <td>...</td>\n",
       "      <td>...</td>\n",
       "      <td>...</td>\n",
       "      <td>...</td>\n",
       "      <td>...</td>\n",
       "      <td>...</td>\n",
       "      <td>...</td>\n",
       "      <td>...</td>\n",
       "      <td>...</td>\n",
       "    </tr>\n",
       "    <tr>\n",
       "      <th>121215</th>\n",
       "      <td>121215.0</td>\n",
       "      <td>sell</td>\n",
       "      <td>apartment</td>\n",
       "      <td>Belgrano</td>\n",
       "      <td>|Argentina|Capital Federal|Belgrano|</td>\n",
       "      <td>Argentina</td>\n",
       "      <td>Capital Federal</td>\n",
       "      <td>3436077.0</td>\n",
       "      <td>NaN</td>\n",
       "      <td>NaN</td>\n",
       "      <td>...</td>\n",
       "      <td>93.0</td>\n",
       "      <td>7699.115044</td>\n",
       "      <td>9354.838710</td>\n",
       "      <td>NaN</td>\n",
       "      <td>2.0</td>\n",
       "      <td>10000.0</td>\n",
       "      <td>http://www.properati.com.ar/1cja2_venta_depart...</td>\n",
       "      <td>TORRE FORUM ALCORTA - MÁXIMA CATEGORÍA.IMPECAB...</td>\n",
       "      <td>TORRE FORUM ALCORTA- IMPECABLE 3 AMBIENTES</td>\n",
       "      <td>https://thumbs4.properati.com/1/bjms0KnaAnlNoQ...</td>\n",
       "    </tr>\n",
       "    <tr>\n",
       "      <th>121216</th>\n",
       "      <td>121216.0</td>\n",
       "      <td>sell</td>\n",
       "      <td>house</td>\n",
       "      <td>Beccar</td>\n",
       "      <td>|Argentina|Bs.As. G.B.A. Zona Norte|San Isidro...</td>\n",
       "      <td>Argentina</td>\n",
       "      <td>Bs.As. G.B.A. Zona Norte</td>\n",
       "      <td>3436080.0</td>\n",
       "      <td>NaN</td>\n",
       "      <td>NaN</td>\n",
       "      <td>...</td>\n",
       "      <td>360.0</td>\n",
       "      <td>1383.333333</td>\n",
       "      <td>1383.333333</td>\n",
       "      <td>NaN</td>\n",
       "      <td>3.0</td>\n",
       "      <td>NaN</td>\n",
       "      <td>http://www.properati.com.ar/1cja6_venta_casa_b...</td>\n",
       "      <td>EXCELENTE E IMPECABLE CASA EN VENTA EN LAS LOM...</td>\n",
       "      <td>RUCA INMUEBLES | VENTA | LOMAS DE SAN ISIDRO |...</td>\n",
       "      <td>https://thumbs4.properati.com/2/PCc3WuQDjpNZc4...</td>\n",
       "    </tr>\n",
       "    <tr>\n",
       "      <th>121217</th>\n",
       "      <td>121217.0</td>\n",
       "      <td>sell</td>\n",
       "      <td>apartment</td>\n",
       "      <td>Villa Urquiza</td>\n",
       "      <td>|Argentina|Capital Federal|Villa Urquiza|</td>\n",
       "      <td>Argentina</td>\n",
       "      <td>Capital Federal</td>\n",
       "      <td>3433775.0</td>\n",
       "      <td>-34.5706388726,-58.4755963355</td>\n",
       "      <td>-34.570639</td>\n",
       "      <td>...</td>\n",
       "      <td>39.0</td>\n",
       "      <td>2858.695652</td>\n",
       "      <td>3371.794872</td>\n",
       "      <td>NaN</td>\n",
       "      <td>1.0</td>\n",
       "      <td>NaN</td>\n",
       "      <td>http://www.properati.com.ar/1cja7_venta_depart...</td>\n",
       "      <td>VENTA DEPARTAMENTO 1 AMBIENTE A ESTRENAR BALCO...</td>\n",
       "      <td>VENTA DEPARTAMENTO 1 AMBIENTE A ESTRENAR BALCO...</td>\n",
       "      <td>https://thumbs4.properati.com/9/YAe_-2gRVykADP...</td>\n",
       "    </tr>\n",
       "    <tr>\n",
       "      <th>121218</th>\n",
       "      <td>121218.0</td>\n",
       "      <td>sell</td>\n",
       "      <td>apartment</td>\n",
       "      <td>Plaza Colón</td>\n",
       "      <td>|Argentina|Buenos Aires Costa Atlántica|Mar de...</td>\n",
       "      <td>Argentina</td>\n",
       "      <td>Buenos Aires Costa Atlántica</td>\n",
       "      <td>NaN</td>\n",
       "      <td>NaN</td>\n",
       "      <td>NaN</td>\n",
       "      <td>...</td>\n",
       "      <td>48.0</td>\n",
       "      <td>1997.916667</td>\n",
       "      <td>1997.916667</td>\n",
       "      <td>NaN</td>\n",
       "      <td>2.0</td>\n",
       "      <td>NaN</td>\n",
       "      <td>http://www.properati.com.ar/1cja8_venta_depart...</td>\n",
       "      <td>2 AMB AL CONTRAFRENTE,  LUMINOSO. EL DEPARTAME...</td>\n",
       "      <td>2 AMB. C/ DEP. DE SERVICIO AL CONTRAFRENTE| RE...</td>\n",
       "      <td>https://thumbs4.properati.com/8/Q12PTvU6BQJ0ib...</td>\n",
       "    </tr>\n",
       "    <tr>\n",
       "      <th>121219</th>\n",
       "      <td>121219.0</td>\n",
       "      <td>sell</td>\n",
       "      <td>apartment</td>\n",
       "      <td>Capital Federal</td>\n",
       "      <td>|Argentina|Capital Federal|</td>\n",
       "      <td>Argentina</td>\n",
       "      <td>Capital Federal</td>\n",
       "      <td>3433955.0</td>\n",
       "      <td>NaN</td>\n",
       "      <td>NaN</td>\n",
       "      <td>...</td>\n",
       "      <td>77.0</td>\n",
       "      <td>1675.324675</td>\n",
       "      <td>1675.324675</td>\n",
       "      <td>NaN</td>\n",
       "      <td>NaN</td>\n",
       "      <td>3500.0</td>\n",
       "      <td>http://www.properati.com.ar/1cjaa_venta_depart...</td>\n",
       "      <td>DEPARTAMENTO DE 77 M2 APTO PROFESIONAL. EDIFIC...</td>\n",
       "      <td>DEPARTAMENTO APTO PROFESIONAL EN EL CENTRO</td>\n",
       "      <td>https://thumbs4.properati.com/8/mNEsnQWqB7joBF...</td>\n",
       "    </tr>\n",
       "  </tbody>\n",
       "</table>\n",
       "<p>121220 rows × 26 columns</p>\n",
       "</div>"
      ],
      "text/plain": [
       "        Unnamed: 0 operation property_type       place_name  \\\n",
       "0              0.0      sell            PH        Mataderos   \n",
       "1              1.0      sell     apartment         La Plata   \n",
       "2              2.0      sell     apartment        Mataderos   \n",
       "3              3.0      sell            PH          Liniers   \n",
       "4              4.0      sell     apartment           Centro   \n",
       "...            ...       ...           ...              ...   \n",
       "121215    121215.0      sell     apartment         Belgrano   \n",
       "121216    121216.0      sell         house           Beccar   \n",
       "121217    121217.0      sell     apartment    Villa Urquiza   \n",
       "121218    121218.0      sell     apartment      Plaza Colón   \n",
       "121219    121219.0      sell     apartment  Capital Federal   \n",
       "\n",
       "                                  place_with_parent_names country_name  \\\n",
       "0                   |Argentina|Capital Federal|Mataderos|    Argentina   \n",
       "1             |Argentina|Bs.As. G.B.A. Zona Sur|La Plata|    Argentina   \n",
       "2                   |Argentina|Capital Federal|Mataderos|    Argentina   \n",
       "3                     |Argentina|Capital Federal|Liniers|    Argentina   \n",
       "4       |Argentina|Buenos Aires Costa Atlántica|Mar de...    Argentina   \n",
       "...                                                   ...          ...   \n",
       "121215               |Argentina|Capital Federal|Belgrano|    Argentina   \n",
       "121216  |Argentina|Bs.As. G.B.A. Zona Norte|San Isidro...    Argentina   \n",
       "121217          |Argentina|Capital Federal|Villa Urquiza|    Argentina   \n",
       "121218  |Argentina|Buenos Aires Costa Atlántica|Mar de...    Argentina   \n",
       "121219                        |Argentina|Capital Federal|    Argentina   \n",
       "\n",
       "                          state_name  geonames_id  \\\n",
       "0                    Capital Federal    3430787.0   \n",
       "1             Bs.As. G.B.A. Zona Sur    3432039.0   \n",
       "2                    Capital Federal    3430787.0   \n",
       "3                    Capital Federal    3431333.0   \n",
       "4       Buenos Aires Costa Atlántica    3435548.0   \n",
       "...                              ...          ...   \n",
       "121215               Capital Federal    3436077.0   \n",
       "121216      Bs.As. G.B.A. Zona Norte    3436080.0   \n",
       "121217               Capital Federal    3433775.0   \n",
       "121218  Buenos Aires Costa Atlántica          NaN   \n",
       "121219               Capital Federal    3433955.0   \n",
       "\n",
       "                              lat-lon        lat  ...  surface_covered_in_m2  \\\n",
       "0             -34.6618237,-58.5088387 -34.661824  ...                   40.0   \n",
       "1             -34.9038831,-57.9643295 -34.903883  ...                    NaN   \n",
       "2             -34.6522615,-58.5229825 -34.652262  ...                   55.0   \n",
       "3             -34.6477969,-58.5164244 -34.647797  ...                    NaN   \n",
       "4             -38.0026256,-57.5494468 -38.002626  ...                   35.0   \n",
       "...                               ...        ...  ...                    ...   \n",
       "121215                            NaN        NaN  ...                   93.0   \n",
       "121216                            NaN        NaN  ...                  360.0   \n",
       "121217  -34.5706388726,-58.4755963355 -34.570639  ...                   39.0   \n",
       "121218                            NaN        NaN  ...                   48.0   \n",
       "121219                            NaN        NaN  ...                   77.0   \n",
       "\n",
       "        price_usd_per_m2 price_per_m2  floor  rooms  expenses  \\\n",
       "0            1127.272727  1550.000000    NaN    2.0       NaN   \n",
       "1                    NaN          NaN    NaN    3.0       NaN   \n",
       "2            1309.090909  1309.090909    NaN    2.0       NaN   \n",
       "3                    NaN          NaN    NaN    3.0       NaN   \n",
       "4            1828.571429  1828.571429    NaN    1.0       NaN   \n",
       "...                  ...          ...    ...    ...       ...   \n",
       "121215       7699.115044  9354.838710    NaN    2.0   10000.0   \n",
       "121216       1383.333333  1383.333333    NaN    3.0       NaN   \n",
       "121217       2858.695652  3371.794872    NaN    1.0       NaN   \n",
       "121218       1997.916667  1997.916667    NaN    2.0       NaN   \n",
       "121219       1675.324675  1675.324675    NaN    NaN    3500.0   \n",
       "\n",
       "                                            properati_url  \\\n",
       "0       http://www.properati.com.ar/15bo8_venta_ph_mat...   \n",
       "1       http://www.properati.com.ar/15bob_venta_depart...   \n",
       "2       http://www.properati.com.ar/15bod_venta_depart...   \n",
       "3       http://www.properati.com.ar/15boh_venta_ph_lin...   \n",
       "4       http://www.properati.com.ar/15bok_venta_depart...   \n",
       "...                                                   ...   \n",
       "121215  http://www.properati.com.ar/1cja2_venta_depart...   \n",
       "121216  http://www.properati.com.ar/1cja6_venta_casa_b...   \n",
       "121217  http://www.properati.com.ar/1cja7_venta_depart...   \n",
       "121218  http://www.properati.com.ar/1cja8_venta_depart...   \n",
       "121219  http://www.properati.com.ar/1cjaa_venta_depart...   \n",
       "\n",
       "                                              description  \\\n",
       "0       2 AMBIENTES TIPO CASA PLANTA BAJA POR PASILLO,...   \n",
       "1       VENTA DE DEPARTAMENTO EN DÉCIMO PISO AL FRENTE...   \n",
       "2       2 AMBIENTES 3ER PISO LATERAL LIVING COMEDOR AM...   \n",
       "3       PH 3 AMBIENTES CON PATIO. HAY 3 DEPTOS EN LOTE...   \n",
       "4       DEPARTAMENTO CON FANTÁSTICA ILUMINACIÓN NATURA...   \n",
       "...                                                   ...   \n",
       "121215  TORRE FORUM ALCORTA - MÁXIMA CATEGORÍA.IMPECAB...   \n",
       "121216  EXCELENTE E IMPECABLE CASA EN VENTA EN LAS LOM...   \n",
       "121217  VENTA DEPARTAMENTO 1 AMBIENTE A ESTRENAR BALCO...   \n",
       "121218  2 AMB AL CONTRAFRENTE,  LUMINOSO. EL DEPARTAME...   \n",
       "121219  DEPARTAMENTO DE 77 M2 APTO PROFESIONAL. EDIFIC...   \n",
       "\n",
       "                                                    title  \\\n",
       "0                      2 AMB TIPO CASA SIN EXPENSAS EN PB   \n",
       "1       VENTA DEPTO 2 DORM. A ESTRENAR 7 E/ 36 Y 37   ...   \n",
       "2                2 AMB 3ER PISO CON ASCENSOR APTO CREDITO   \n",
       "3                            PH 3 AMB. CFTE. RECICLADO      \n",
       "4       DEPTO 2 AMB AL CONTRAFRENTE ZONA CENTRO/PLAZA ...   \n",
       "...                                                   ...   \n",
       "121215         TORRE FORUM ALCORTA- IMPECABLE 3 AMBIENTES   \n",
       "121216  RUCA INMUEBLES | VENTA | LOMAS DE SAN ISIDRO |...   \n",
       "121217  VENTA DEPARTAMENTO 1 AMBIENTE A ESTRENAR BALCO...   \n",
       "121218  2 AMB. C/ DEP. DE SERVICIO AL CONTRAFRENTE| RE...   \n",
       "121219         DEPARTAMENTO APTO PROFESIONAL EN EL CENTRO   \n",
       "\n",
       "                                          image_thumbnail  \n",
       "0       https://thumbs4.properati.com/8/BluUYiHJLhgIIK...  \n",
       "1       https://thumbs4.properati.com/7/ikpVBu2ztHA7jv...  \n",
       "2       https://thumbs4.properati.com/5/SXKr34F_IwG3W_...  \n",
       "3       https://thumbs4.properati.com/3/DgIfX-85Mog5SP...  \n",
       "4       https://thumbs4.properati.com/5/xrRqlNcSI_vs-f...  \n",
       "...                                                   ...  \n",
       "121215  https://thumbs4.properati.com/1/bjms0KnaAnlNoQ...  \n",
       "121216  https://thumbs4.properati.com/2/PCc3WuQDjpNZc4...  \n",
       "121217  https://thumbs4.properati.com/9/YAe_-2gRVykADP...  \n",
       "121218  https://thumbs4.properati.com/8/Q12PTvU6BQJ0ib...  \n",
       "121219  https://thumbs4.properati.com/8/mNEsnQWqB7joBF...  \n",
       "\n",
       "[121220 rows x 26 columns]"
      ]
     },
     "execution_count": 189,
     "metadata": {},
     "output_type": "execute_result"
    }
   ],
   "source": [
    "#elimino duplicados \n",
    "data.drop_duplicates(keep=\"first\")\n"
   ]
  },
  {
   "cell_type": "markdown",
   "id": "66e38eac",
   "metadata": {
    "heading_collapsed": "true",
    "id": "ae4d5615"
   },
   "source": [
    "## --pasar todas las columnas a minusculas"
   ]
  },
  {
   "cell_type": "code",
   "execution_count": 190,
   "id": "ab6ff5fa",
   "metadata": {
    "id": "8a5ae754"
   },
   "outputs": [],
   "source": [
    "data_lower = data.applymap(lambda x: x if np.isreal(x) else str(x).lower())\n",
    "# comparo los tipos de datos antes y después de pasar a minúsculas:\n",
    "#print(data_lower.dtypes == data.dtypes)\n",
    "#print(data_lower.head(3))"
   ]
  },
  {
   "cell_type": "markdown",
   "id": "8b6baac4",
   "metadata": {
    "id": "9eafe596"
   },
   "source": [
    "## elimiar columnas no infiormativas"
   ]
  },
  {
   "cell_type": "code",
   "execution_count": 191,
   "id": "85f631f5",
   "metadata": {
    "id": "4211aba8"
   },
   "outputs": [],
   "source": [
    "cols2keep = ['property_type', 'state_name','place_with_parent_names','price_aprox_usd', 'surface_total_in_m2','surface_covered_in_m2','price_usd_per_m2', 'price_per_m2', 'rooms', 'description', 'title', 'properati_url']\n",
    "data = data.loc[:, cols2keep]\n",
    "#print(df_sub)"
   ]
  },
  {
   "cell_type": "markdown",
   "id": "8322d0d3",
   "metadata": {
    "id": "e794c75e"
   },
   "source": [
    "## limpieza de outliers"
   ]
  },
  {
   "cell_type": "markdown",
   "id": "a7c17c4a",
   "metadata": {
    "heading_collapsed": "true",
    "id": "bfeaecda"
   },
   "source": [
    "#### - - -Método 1 sin eliminación de registros: con el siguiente método reemplazo en el dataset original los outliers de más de 2 std de todas las columnas numericas por NaN, de una vez, sin tener en cuenta las particularidades de las columnas. Como resultado obtengo un dataset del mismo tamaño que el dataset original, con los outliers convertidos en NaN para no impactar en los datos de resumen."
   ]
  },
  {
   "cell_type": "code",
   "execution_count": null,
   "id": "fbdd97d9",
   "metadata": {
    "id": "74a286ba"
   },
   "outputs": [],
   "source": []
  },
  {
   "cell_type": "code",
   "execution_count": 192,
   "id": "7f5707f9",
   "metadata": {
    "id": "9612917b",
    "outputId": "1b0616eb-71c9-4436-cff6-a035adeed0ed"
   },
   "outputs": [
    {
     "data": {
      "text/plain": [
       "(121220, 12)"
      ]
     },
     "execution_count": 192,
     "metadata": {},
     "output_type": "execute_result"
    }
   ],
   "source": [
    "#búsqueda y reemplazo de outliers (de más de 2 std, 95%) por NaN en las columnas numéricas, en un solo paso\n",
    "df_sub = data.loc[:, 'price_usd_per_m2']\n",
    "lim = np.abs((df_sub - df_sub.mean()) / df_sub.std(ddof=0)) < 2\n",
    "data.loc[:, 'price_usd_per_m2'] = df_sub.where(lim, np.nan)\n",
    "#data.head(3)\n",
    "data.shape\n",
    "#data.dropna()"
   ]
  },
  {
   "cell_type": "markdown",
   "id": "71a196c6",
   "metadata": {},
   "source": [
    "# **Crear nuevas columnas con valor predictivo**"
   ]
  },
  {
   "cell_type": "markdown",
   "id": "c5c15444",
   "metadata": {
    "id": "iv79nG5uacrd"
   },
   "source": [
    "### Creamos columnas con info adicional que tendrán utilidad para predecir variación de precios.\n",
    "\n"
   ]
  },
  {
   "cell_type": "code",
   "execution_count": 193,
   "id": "a0816cbd",
   "metadata": {
    "id": "TZJ2mBI0d3UN"
   },
   "outputs": [],
   "source": [
    "#fracciono la columna properti_url para sacar la nube de palabras mas repetidas\n",
    "import re\n",
    "patron_url = re.compile(pattern=\"_\", flags =re.IGNORECASE)\n",
    "lista_url = data[\"properati_url\"].apply(lambda x : patron_url.split(x))\n",
    "serie_palabras = pd.Series(np.hstack(lista_url))\n",
    "#serie_palabras.value_counts().head(20).plot(kind=\"bar\")\n"
   ]
  },
  {
   "cell_type": "code",
   "execution_count": 194,
   "id": "69f812dd",
   "metadata": {
    "colab": {
     "base_uri": "https://localhost:8080/"
    },
    "executionInfo": {
     "elapsed": 277,
     "status": "ok",
     "timestamp": 1653012657001,
     "user": {
      "displayName": "Maela Lombardi",
      "userId": "03936068368896012188"
     },
     "user_tz": 180
    },
    "id": "-fq0FwrK0FMR",
    "outputId": "78a2025c-5b32-4625-f200-82f2862afbf2"
   },
   "outputs": [
    {
     "data": {
      "text/plain": [
       "venta                            121086\n",
       "departamento                      71019\n",
       "garage                            56620\n",
       "lavadero                          44034\n",
       "balcon                            42286\n",
       "casa                              40196\n",
       "parrilla                          33381\n",
       "piscina                           32146\n",
       "luminoso                          31865\n",
       "suite                             27101\n",
       "placard                           26145\n",
       "terraza                           25101\n",
       "toilette                          22841\n",
       "patio                             21168\n",
       "vestidor                          18011\n",
       "jardin                            17131\n",
       "quincho                           12848\n",
       "aire-acondicionado                12763\n",
       "sum                               11665\n",
       "dependencias                      11316\n",
       "amenities                         10607\n",
       "baulera                           10512\n",
       "estrenar                          10379\n",
       "vista                             10011\n",
       "gimnasio                           9363\n",
       "cordoba                            9302\n",
       "lujoso                             9251\n",
       "rosario                            8501\n",
       "hidromasaje                        7637\n",
       "mar-del-plata                      6585\n",
       "ph                                 5729\n",
       "subte-linea-d                      5652\n",
       "apto-credito-hipotecario           5489\n",
       "impecable                          5340\n",
       "amoblado                           4569\n",
       "subte-linea-b                      4567\n",
       "local                              4124\n",
       "losa-radiante                      4022\n",
       "sauna                              3917\n",
       "subte-linea-a                      3908\n",
       "tigre                              3468\n",
       "nordelta                           3400\n",
       "belgrano                           3092\n",
       "subte-linea-h                      3087\n",
       "palermo                            2910\n",
       "subte-linea-e                      2658\n",
       "la-plata                           2541\n",
       "tenis                              2528\n",
       "sergio-villella-bienes-raices      2403\n",
       "gfv                                2319\n",
       "dtype: int64"
      ]
     },
     "execution_count": 194,
     "metadata": {},
     "output_type": "execute_result"
    }
   ],
   "source": [
    "serie_palabras.value_counts().head(50)"
   ]
  },
  {
   "cell_type": "code",
   "execution_count": 195,
   "id": "09bb206c",
   "metadata": {
    "id": "Jk22xPJZa9pm"
   },
   "outputs": [],
   "source": [
    "# a partir de la nube de palabras selecciono las que son buenos adicionales\n",
    "adicionales = [\"garage\", \"balcon\", \"parrilla\", \"piscina\", \"terraza\", \"patio\", \"jardin\", \"quincho\", \"sum\", \"amenities\", \"baulera\", \"gimnasio\", \"subte-linea-d\", \"subte-linea-b\", \"subte-linea-a\", \"subte-linea-h\", \"subte-linea-e\" ]\n"
   ]
  },
  {
   "cell_type": "code",
   "execution_count": 196,
   "id": "41855e86",
   "metadata": {
    "id": "cSivTSfQoiyj"
   },
   "outputs": [],
   "source": [
    "#elimino el primer elemento de lista_url para no tener el elemento con el http: etc\n",
    "for sublist in lista_url:\n",
    "  del sublist[0]"
   ]
  },
  {
   "cell_type": "code",
   "execution_count": 197,
   "id": "b14a1063",
   "metadata": {
    "colab": {
     "base_uri": "https://localhost:8080/"
    },
    "executionInfo": {
     "elapsed": 6,
     "status": "ok",
     "timestamp": 1651431280039,
     "user": {
      "displayName": "Maela Lombardi",
      "userId": "03936068368896012188"
     },
     "user_tz": 180
    },
    "id": "ZmKJ4I_wlwxh",
    "outputId": "49a1a07b-36cd-4d86-9004-f168b551c1d1"
   },
   "outputs": [
    {
     "data": {
      "text/plain": [
       "0         [venta, ph, mataderos, lavadero, patio, inmobi...\n",
       "1         [venta, departamentos, la-plata, balcon, lavad...\n",
       "2         [venta, departamentos, mataderos, lavadero, pl...\n",
       "3                   [venta, ph, liniers, patio, g-goffredo]\n",
       "4         [venta, departamentos, centro, cristina-pavone...\n",
       "                                ...                        \n",
       "121215    [venta, departamento, belgrano, balcon, suite,...\n",
       "121216    [venta, casa, beccar, suite, hidromasaje, jard...\n",
       "121217    [venta, departamento, villa-urquiza, holmberg,...\n",
       "121218    [venta, departamento, plaza-colon, lavadero, l...\n",
       "121219    [venta, departamento, capital-federal, baulera...\n",
       "Name: properati_url, Length: 121220, dtype: object"
      ]
     },
     "execution_count": 197,
     "metadata": {},
     "output_type": "execute_result"
    }
   ],
   "source": [
    "lista_url"
   ]
  },
  {
   "cell_type": "code",
   "execution_count": 198,
   "id": "ac74cecb",
   "metadata": {
    "id": "6xTQyApPl1_c"
   },
   "outputs": [],
   "source": [
    "#creo una función que compare la lista de palabras con la lista de listas\n",
    "#y me da como resultado una lista de listas de palabras true/false segun coincida o no \n",
    "def buscador_palabras(quebuscar, dondebuscar):\n",
    "  listadeextras = []\n",
    "  for listas in dondebuscar:\n",
    "    extras = []\n",
    "    for palabra in quebuscar:\n",
    "      if palabra in listas:\n",
    "        extras.append(True)\n",
    "      else:\n",
    "        extras.append(False)\n",
    "    listadeextras.append(extras)\n",
    "  #print(listadeextras)\n",
    "  return listadeextras     "
   ]
  },
  {
   "cell_type": "code",
   "execution_count": 199,
   "id": "6e2e8f64",
   "metadata": {
    "colab": {
     "base_uri": "https://localhost:8080/"
    },
    "executionInfo": {
     "elapsed": 862,
     "status": "ok",
     "timestamp": 1651431280900,
     "user": {
      "displayName": "Maela Lombardi",
      "userId": "03936068368896012188"
     },
     "user_tz": 180
    },
    "id": "QKvkph_HnmMP",
    "outputId": "694bb379-1473-4e3a-dc79-a905264d2952"
   },
   "outputs": [
    {
     "data": {
      "text/plain": [
       "121220"
      ]
     },
     "execution_count": 199,
     "metadata": {},
     "output_type": "execute_result"
    }
   ],
   "source": [
    "#aplico la funcion a mi lista \"adicionales\" y \"lista_url\"\n",
    "#chequeo que tenga la misma longitud de data\n",
    "resultado = buscador_palabras(adicionales,lista_url)\n",
    "len(resultado)"
   ]
  },
  {
   "cell_type": "code",
   "execution_count": 200,
   "id": "b7f92ee1",
   "metadata": {
    "colab": {
     "base_uri": "https://localhost:8080/",
     "height": 423
    },
    "executionInfo": {
     "elapsed": 13,
     "status": "ok",
     "timestamp": 1651431280900,
     "user": {
      "displayName": "Maela Lombardi",
      "userId": "03936068368896012188"
     },
     "user_tz": 180
    },
    "id": "nE4L2iH5i1-4",
    "outputId": "90fcc17a-7268-4b64-b061-87b4f7263271"
   },
   "outputs": [
    {
     "data": {
      "text/html": [
       "<div>\n",
       "<style scoped>\n",
       "    .dataframe tbody tr th:only-of-type {\n",
       "        vertical-align: middle;\n",
       "    }\n",
       "\n",
       "    .dataframe tbody tr th {\n",
       "        vertical-align: top;\n",
       "    }\n",
       "\n",
       "    .dataframe thead th {\n",
       "        text-align: right;\n",
       "    }\n",
       "</style>\n",
       "<table border=\"1\" class=\"dataframe\">\n",
       "  <thead>\n",
       "    <tr style=\"text-align: right;\">\n",
       "      <th></th>\n",
       "      <th>garage</th>\n",
       "      <th>balcon</th>\n",
       "      <th>parrilla</th>\n",
       "      <th>piscina</th>\n",
       "      <th>terraza</th>\n",
       "      <th>patio</th>\n",
       "      <th>jardin</th>\n",
       "      <th>quincho</th>\n",
       "      <th>s.u.m.</th>\n",
       "      <th>amenities</th>\n",
       "      <th>baulera</th>\n",
       "      <th>gimnasio</th>\n",
       "      <th>subte-linea-d</th>\n",
       "      <th>subte-linea-b</th>\n",
       "      <th>subte-linea-a</th>\n",
       "      <th>subte-linea-h</th>\n",
       "      <th>subte-linea-e</th>\n",
       "    </tr>\n",
       "  </thead>\n",
       "  <tbody>\n",
       "    <tr>\n",
       "      <th>0</th>\n",
       "      <td>False</td>\n",
       "      <td>False</td>\n",
       "      <td>False</td>\n",
       "      <td>False</td>\n",
       "      <td>False</td>\n",
       "      <td>True</td>\n",
       "      <td>False</td>\n",
       "      <td>False</td>\n",
       "      <td>False</td>\n",
       "      <td>False</td>\n",
       "      <td>False</td>\n",
       "      <td>False</td>\n",
       "      <td>False</td>\n",
       "      <td>False</td>\n",
       "      <td>False</td>\n",
       "      <td>False</td>\n",
       "      <td>False</td>\n",
       "    </tr>\n",
       "    <tr>\n",
       "      <th>1</th>\n",
       "      <td>True</td>\n",
       "      <td>True</td>\n",
       "      <td>False</td>\n",
       "      <td>False</td>\n",
       "      <td>False</td>\n",
       "      <td>False</td>\n",
       "      <td>False</td>\n",
       "      <td>False</td>\n",
       "      <td>False</td>\n",
       "      <td>False</td>\n",
       "      <td>False</td>\n",
       "      <td>False</td>\n",
       "      <td>False</td>\n",
       "      <td>False</td>\n",
       "      <td>False</td>\n",
       "      <td>False</td>\n",
       "      <td>False</td>\n",
       "    </tr>\n",
       "    <tr>\n",
       "      <th>2</th>\n",
       "      <td>False</td>\n",
       "      <td>False</td>\n",
       "      <td>False</td>\n",
       "      <td>False</td>\n",
       "      <td>False</td>\n",
       "      <td>False</td>\n",
       "      <td>False</td>\n",
       "      <td>False</td>\n",
       "      <td>False</td>\n",
       "      <td>False</td>\n",
       "      <td>False</td>\n",
       "      <td>False</td>\n",
       "      <td>False</td>\n",
       "      <td>False</td>\n",
       "      <td>False</td>\n",
       "      <td>False</td>\n",
       "      <td>False</td>\n",
       "    </tr>\n",
       "    <tr>\n",
       "      <th>3</th>\n",
       "      <td>False</td>\n",
       "      <td>False</td>\n",
       "      <td>False</td>\n",
       "      <td>False</td>\n",
       "      <td>False</td>\n",
       "      <td>True</td>\n",
       "      <td>False</td>\n",
       "      <td>False</td>\n",
       "      <td>False</td>\n",
       "      <td>False</td>\n",
       "      <td>False</td>\n",
       "      <td>False</td>\n",
       "      <td>False</td>\n",
       "      <td>False</td>\n",
       "      <td>False</td>\n",
       "      <td>False</td>\n",
       "      <td>False</td>\n",
       "    </tr>\n",
       "    <tr>\n",
       "      <th>4</th>\n",
       "      <td>False</td>\n",
       "      <td>False</td>\n",
       "      <td>False</td>\n",
       "      <td>False</td>\n",
       "      <td>False</td>\n",
       "      <td>False</td>\n",
       "      <td>False</td>\n",
       "      <td>False</td>\n",
       "      <td>False</td>\n",
       "      <td>False</td>\n",
       "      <td>False</td>\n",
       "      <td>False</td>\n",
       "      <td>False</td>\n",
       "      <td>False</td>\n",
       "      <td>False</td>\n",
       "      <td>False</td>\n",
       "      <td>False</td>\n",
       "    </tr>\n",
       "    <tr>\n",
       "      <th>...</th>\n",
       "      <td>...</td>\n",
       "      <td>...</td>\n",
       "      <td>...</td>\n",
       "      <td>...</td>\n",
       "      <td>...</td>\n",
       "      <td>...</td>\n",
       "      <td>...</td>\n",
       "      <td>...</td>\n",
       "      <td>...</td>\n",
       "      <td>...</td>\n",
       "      <td>...</td>\n",
       "      <td>...</td>\n",
       "      <td>...</td>\n",
       "      <td>...</td>\n",
       "      <td>...</td>\n",
       "      <td>...</td>\n",
       "      <td>...</td>\n",
       "    </tr>\n",
       "    <tr>\n",
       "      <th>121215</th>\n",
       "      <td>True</td>\n",
       "      <td>True</td>\n",
       "      <td>True</td>\n",
       "      <td>True</td>\n",
       "      <td>False</td>\n",
       "      <td>False</td>\n",
       "      <td>False</td>\n",
       "      <td>True</td>\n",
       "      <td>False</td>\n",
       "      <td>False</td>\n",
       "      <td>False</td>\n",
       "      <td>False</td>\n",
       "      <td>False</td>\n",
       "      <td>False</td>\n",
       "      <td>False</td>\n",
       "      <td>False</td>\n",
       "      <td>False</td>\n",
       "    </tr>\n",
       "    <tr>\n",
       "      <th>121216</th>\n",
       "      <td>True</td>\n",
       "      <td>False</td>\n",
       "      <td>True</td>\n",
       "      <td>True</td>\n",
       "      <td>False</td>\n",
       "      <td>False</td>\n",
       "      <td>True</td>\n",
       "      <td>True</td>\n",
       "      <td>False</td>\n",
       "      <td>False</td>\n",
       "      <td>False</td>\n",
       "      <td>False</td>\n",
       "      <td>False</td>\n",
       "      <td>False</td>\n",
       "      <td>False</td>\n",
       "      <td>False</td>\n",
       "      <td>False</td>\n",
       "    </tr>\n",
       "    <tr>\n",
       "      <th>121217</th>\n",
       "      <td>True</td>\n",
       "      <td>True</td>\n",
       "      <td>True</td>\n",
       "      <td>False</td>\n",
       "      <td>True</td>\n",
       "      <td>False</td>\n",
       "      <td>False</td>\n",
       "      <td>False</td>\n",
       "      <td>False</td>\n",
       "      <td>True</td>\n",
       "      <td>False</td>\n",
       "      <td>False</td>\n",
       "      <td>False</td>\n",
       "      <td>False</td>\n",
       "      <td>False</td>\n",
       "      <td>False</td>\n",
       "      <td>False</td>\n",
       "    </tr>\n",
       "    <tr>\n",
       "      <th>121218</th>\n",
       "      <td>False</td>\n",
       "      <td>False</td>\n",
       "      <td>False</td>\n",
       "      <td>False</td>\n",
       "      <td>False</td>\n",
       "      <td>False</td>\n",
       "      <td>False</td>\n",
       "      <td>False</td>\n",
       "      <td>False</td>\n",
       "      <td>False</td>\n",
       "      <td>False</td>\n",
       "      <td>False</td>\n",
       "      <td>False</td>\n",
       "      <td>False</td>\n",
       "      <td>False</td>\n",
       "      <td>False</td>\n",
       "      <td>False</td>\n",
       "    </tr>\n",
       "    <tr>\n",
       "      <th>121219</th>\n",
       "      <td>False</td>\n",
       "      <td>False</td>\n",
       "      <td>False</td>\n",
       "      <td>False</td>\n",
       "      <td>False</td>\n",
       "      <td>False</td>\n",
       "      <td>False</td>\n",
       "      <td>False</td>\n",
       "      <td>False</td>\n",
       "      <td>False</td>\n",
       "      <td>True</td>\n",
       "      <td>False</td>\n",
       "      <td>False</td>\n",
       "      <td>False</td>\n",
       "      <td>False</td>\n",
       "      <td>False</td>\n",
       "      <td>False</td>\n",
       "    </tr>\n",
       "  </tbody>\n",
       "</table>\n",
       "<p>121220 rows × 17 columns</p>\n",
       "</div>"
      ],
      "text/plain": [
       "        garage  balcon  parrilla  piscina  terraza  patio  jardin  quincho  \\\n",
       "0        False   False     False    False    False   True   False    False   \n",
       "1         True    True     False    False    False  False   False    False   \n",
       "2        False   False     False    False    False  False   False    False   \n",
       "3        False   False     False    False    False   True   False    False   \n",
       "4        False   False     False    False    False  False   False    False   \n",
       "...        ...     ...       ...      ...      ...    ...     ...      ...   \n",
       "121215    True    True      True     True    False  False   False     True   \n",
       "121216    True   False      True     True    False  False    True     True   \n",
       "121217    True    True      True    False     True  False   False    False   \n",
       "121218   False   False     False    False    False  False   False    False   \n",
       "121219   False   False     False    False    False  False   False    False   \n",
       "\n",
       "        s.u.m.  amenities  baulera  gimnasio  subte-linea-d  subte-linea-b  \\\n",
       "0        False      False    False     False          False          False   \n",
       "1        False      False    False     False          False          False   \n",
       "2        False      False    False     False          False          False   \n",
       "3        False      False    False     False          False          False   \n",
       "4        False      False    False     False          False          False   \n",
       "...        ...        ...      ...       ...            ...            ...   \n",
       "121215   False      False    False     False          False          False   \n",
       "121216   False      False    False     False          False          False   \n",
       "121217   False       True    False     False          False          False   \n",
       "121218   False      False    False     False          False          False   \n",
       "121219   False      False     True     False          False          False   \n",
       "\n",
       "        subte-linea-a  subte-linea-h  subte-linea-e  \n",
       "0               False          False          False  \n",
       "1               False          False          False  \n",
       "2               False          False          False  \n",
       "3               False          False          False  \n",
       "4               False          False          False  \n",
       "...               ...            ...            ...  \n",
       "121215          False          False          False  \n",
       "121216          False          False          False  \n",
       "121217          False          False          False  \n",
       "121218          False          False          False  \n",
       "121219          False          False          False  \n",
       "\n",
       "[121220 rows x 17 columns]"
      ]
     },
     "execution_count": 200,
     "metadata": {},
     "output_type": "execute_result"
    }
   ],
   "source": [
    "#convierto resultado en dataframe, y renombro las columnas por la lista de palabras adicionales\n",
    "df = pd.DataFrame(resultado)\n",
    "df.columns = [\"garage\", \"balcon\", \"parrilla\", \"piscina\", \"terraza\", \"patio\", \"jardin\", \"quincho\", \"s.u.m.\", \"amenities\", \"baulera\", \"gimnasio\",\"subte-linea-d\", \"subte-linea-b\", \"subte-linea-a\", \"subte-linea-h\", \"subte-linea-e\"]\n",
    "df"
   ]
  },
  {
   "cell_type": "code",
   "execution_count": 201,
   "id": "31938301",
   "metadata": {
    "id": "DHZhUj4uxYJA"
   },
   "outputs": [
    {
     "data": {
      "text/plain": [
       "Index(['property_type', 'state_name', 'place_with_parent_names',\n",
       "       'price_aprox_usd', 'surface_total_in_m2', 'surface_covered_in_m2',\n",
       "       'price_usd_per_m2', 'price_per_m2', 'rooms', 'description', 'title',\n",
       "       'properati_url', 'garage', 'balcon', 'parrilla', 'piscina', 'terraza',\n",
       "       'patio', 'jardin', 'quincho', 's.u.m.', 'amenities', 'baulera',\n",
       "       'gimnasio', 'subte-linea-d', 'subte-linea-b', 'subte-linea-a',\n",
       "       'subte-linea-h', 'subte-linea-e'],\n",
       "      dtype='object')"
      ]
     },
     "execution_count": 201,
     "metadata": {},
     "output_type": "execute_result"
    }
   ],
   "source": [
    "#uno el dataframe original con el nuevo generado de true/false\n",
    "data = pd.merge(data,df,left_index=True, right_index=True)\n",
    "data.columns\n",
    "#antes me puso los dos indices como resultado del merge, y tuve que sacar la primera columna\n",
    "#data.drop(columns=data.columns[0], axis=1,inplace=True)\n",
    "#data.columns"
   ]
  },
  {
   "cell_type": "code",
   "execution_count": 202,
   "id": "0605c0b8",
   "metadata": {
    "id": "8c7d25e1"
   },
   "outputs": [
    {
     "data": {
      "text/html": [
       "<div>\n",
       "<style scoped>\n",
       "    .dataframe tbody tr th:only-of-type {\n",
       "        vertical-align: middle;\n",
       "    }\n",
       "\n",
       "    .dataframe tbody tr th {\n",
       "        vertical-align: top;\n",
       "    }\n",
       "\n",
       "    .dataframe thead th {\n",
       "        text-align: right;\n",
       "    }\n",
       "</style>\n",
       "<table border=\"1\" class=\"dataframe\">\n",
       "  <thead>\n",
       "    <tr style=\"text-align: right;\">\n",
       "      <th></th>\n",
       "      <th>property_type</th>\n",
       "      <th>state_name</th>\n",
       "      <th>place_with_parent_names</th>\n",
       "      <th>price_aprox_usd</th>\n",
       "      <th>surface_total_in_m2</th>\n",
       "      <th>surface_covered_in_m2</th>\n",
       "      <th>price_usd_per_m2</th>\n",
       "      <th>price_per_m2</th>\n",
       "      <th>rooms</th>\n",
       "      <th>description</th>\n",
       "      <th>...</th>\n",
       "      <th>s.u.m.</th>\n",
       "      <th>amenities</th>\n",
       "      <th>baulera</th>\n",
       "      <th>gimnasio</th>\n",
       "      <th>subte-linea-d</th>\n",
       "      <th>subte-linea-b</th>\n",
       "      <th>subte-linea-a</th>\n",
       "      <th>subte-linea-h</th>\n",
       "      <th>subte-linea-e</th>\n",
       "      <th>price_state</th>\n",
       "    </tr>\n",
       "  </thead>\n",
       "  <tbody>\n",
       "    <tr>\n",
       "      <th>0</th>\n",
       "      <td>PH</td>\n",
       "      <td>Capital Federal</td>\n",
       "      <td>|Argentina|Capital Federal|Mataderos|</td>\n",
       "      <td>62000.0</td>\n",
       "      <td>55.0</td>\n",
       "      <td>40.0</td>\n",
       "      <td>1127.272727</td>\n",
       "      <td>1550.0</td>\n",
       "      <td>2.0</td>\n",
       "      <td>2 AMBIENTES TIPO CASA PLANTA BAJA POR PASILLO,...</td>\n",
       "      <td>...</td>\n",
       "      <td>False</td>\n",
       "      <td>False</td>\n",
       "      <td>False</td>\n",
       "      <td>False</td>\n",
       "      <td>False</td>\n",
       "      <td>False</td>\n",
       "      <td>False</td>\n",
       "      <td>False</td>\n",
       "      <td>False</td>\n",
       "      <td>2581.751290</td>\n",
       "    </tr>\n",
       "    <tr>\n",
       "      <th>1</th>\n",
       "      <td>apartment</td>\n",
       "      <td>Bs.As. G.B.A. Zona Sur</td>\n",
       "      <td>|Argentina|Bs.As. G.B.A. Zona Sur|La Plata|</td>\n",
       "      <td>150000.0</td>\n",
       "      <td>NaN</td>\n",
       "      <td>NaN</td>\n",
       "      <td>NaN</td>\n",
       "      <td>NaN</td>\n",
       "      <td>3.0</td>\n",
       "      <td>VENTA DE DEPARTAMENTO EN DÉCIMO PISO AL FRENTE...</td>\n",
       "      <td>...</td>\n",
       "      <td>False</td>\n",
       "      <td>False</td>\n",
       "      <td>False</td>\n",
       "      <td>False</td>\n",
       "      <td>False</td>\n",
       "      <td>False</td>\n",
       "      <td>False</td>\n",
       "      <td>False</td>\n",
       "      <td>False</td>\n",
       "      <td>1478.390493</td>\n",
       "    </tr>\n",
       "  </tbody>\n",
       "</table>\n",
       "<p>2 rows × 30 columns</p>\n",
       "</div>"
      ],
      "text/plain": [
       "  property_type              state_name  \\\n",
       "0            PH         Capital Federal   \n",
       "1     apartment  Bs.As. G.B.A. Zona Sur   \n",
       "\n",
       "                       place_with_parent_names  price_aprox_usd  \\\n",
       "0        |Argentina|Capital Federal|Mataderos|          62000.0   \n",
       "1  |Argentina|Bs.As. G.B.A. Zona Sur|La Plata|         150000.0   \n",
       "\n",
       "   surface_total_in_m2  surface_covered_in_m2  price_usd_per_m2  price_per_m2  \\\n",
       "0                 55.0                   40.0       1127.272727        1550.0   \n",
       "1                  NaN                    NaN               NaN           NaN   \n",
       "\n",
       "   rooms                                        description  ... s.u.m.  \\\n",
       "0    2.0  2 AMBIENTES TIPO CASA PLANTA BAJA POR PASILLO,...  ...  False   \n",
       "1    3.0  VENTA DE DEPARTAMENTO EN DÉCIMO PISO AL FRENTE...  ...  False   \n",
       "\n",
       "  amenities  baulera  gimnasio  subte-linea-d  subte-linea-b  subte-linea-a  \\\n",
       "0     False    False     False          False          False          False   \n",
       "1     False    False     False          False          False          False   \n",
       "\n",
       "   subte-linea-h  subte-linea-e  price_state  \n",
       "0          False          False  2581.751290  \n",
       "1          False          False  1478.390493  \n",
       "\n",
       "[2 rows x 30 columns]"
      ]
     },
     "execution_count": 202,
     "metadata": {},
     "output_type": "execute_result"
    }
   ],
   "source": [
    "#creo una columna que rellene el valor con la media del precio por m2 en este state_name\n",
    "data[\"price_state\"] = data.groupby('state_name')['price_usd_per_m2'].transform('mean') \n",
    "data.head(2)"
   ]
  },
  {
   "cell_type": "code",
   "execution_count": 203,
   "id": "f3d4a707",
   "metadata": {
    "id": "335f4292"
   },
   "outputs": [
    {
     "data": {
      "text/html": [
       "<div>\n",
       "<style scoped>\n",
       "    .dataframe tbody tr th:only-of-type {\n",
       "        vertical-align: middle;\n",
       "    }\n",
       "\n",
       "    .dataframe tbody tr th {\n",
       "        vertical-align: top;\n",
       "    }\n",
       "\n",
       "    .dataframe thead th {\n",
       "        text-align: right;\n",
       "    }\n",
       "</style>\n",
       "<table border=\"1\" class=\"dataframe\">\n",
       "  <thead>\n",
       "    <tr style=\"text-align: right;\">\n",
       "      <th></th>\n",
       "      <th>property_type</th>\n",
       "      <th>state_name</th>\n",
       "      <th>place_with_parent_names</th>\n",
       "      <th>price_aprox_usd</th>\n",
       "      <th>surface_total_in_m2</th>\n",
       "      <th>surface_covered_in_m2</th>\n",
       "      <th>price_usd_per_m2</th>\n",
       "      <th>price_per_m2</th>\n",
       "      <th>rooms</th>\n",
       "      <th>description</th>\n",
       "      <th>...</th>\n",
       "      <th>s.u.m.</th>\n",
       "      <th>amenities</th>\n",
       "      <th>baulera</th>\n",
       "      <th>gimnasio</th>\n",
       "      <th>subte-linea-d</th>\n",
       "      <th>subte-linea-b</th>\n",
       "      <th>subte-linea-a</th>\n",
       "      <th>subte-linea-h</th>\n",
       "      <th>subte-linea-e</th>\n",
       "      <th>price_state</th>\n",
       "    </tr>\n",
       "  </thead>\n",
       "  <tbody>\n",
       "    <tr>\n",
       "      <th>0</th>\n",
       "      <td>PH</td>\n",
       "      <td>Capital Federal</td>\n",
       "      <td>|Argentina|Capital Federal|Mataderos|</td>\n",
       "      <td>62000.0</td>\n",
       "      <td>55.0</td>\n",
       "      <td>40.0</td>\n",
       "      <td>1127.272727</td>\n",
       "      <td>1550.0</td>\n",
       "      <td>2.0</td>\n",
       "      <td>2 AMBIENTES TIPO CASA PLANTA BAJA POR PASILLO,...</td>\n",
       "      <td>...</td>\n",
       "      <td>False</td>\n",
       "      <td>False</td>\n",
       "      <td>False</td>\n",
       "      <td>False</td>\n",
       "      <td>False</td>\n",
       "      <td>False</td>\n",
       "      <td>False</td>\n",
       "      <td>False</td>\n",
       "      <td>False</td>\n",
       "      <td>119.222453</td>\n",
       "    </tr>\n",
       "    <tr>\n",
       "      <th>1</th>\n",
       "      <td>apartment</td>\n",
       "      <td>Bs.As. G.B.A. Zona Sur</td>\n",
       "      <td>|Argentina|Bs.As. G.B.A. Zona Sur|La Plata|</td>\n",
       "      <td>150000.0</td>\n",
       "      <td>NaN</td>\n",
       "      <td>NaN</td>\n",
       "      <td>NaN</td>\n",
       "      <td>NaN</td>\n",
       "      <td>3.0</td>\n",
       "      <td>VENTA DE DEPARTAMENTO EN DÉCIMO PISO AL FRENTE...</td>\n",
       "      <td>...</td>\n",
       "      <td>False</td>\n",
       "      <td>False</td>\n",
       "      <td>False</td>\n",
       "      <td>False</td>\n",
       "      <td>False</td>\n",
       "      <td>False</td>\n",
       "      <td>False</td>\n",
       "      <td>False</td>\n",
       "      <td>False</td>\n",
       "      <td>230.557603</td>\n",
       "    </tr>\n",
       "  </tbody>\n",
       "</table>\n",
       "<p>2 rows × 30 columns</p>\n",
       "</div>"
      ],
      "text/plain": [
       "  property_type              state_name  \\\n",
       "0            PH         Capital Federal   \n",
       "1     apartment  Bs.As. G.B.A. Zona Sur   \n",
       "\n",
       "                       place_with_parent_names  price_aprox_usd  \\\n",
       "0        |Argentina|Capital Federal|Mataderos|          62000.0   \n",
       "1  |Argentina|Bs.As. G.B.A. Zona Sur|La Plata|         150000.0   \n",
       "\n",
       "   surface_total_in_m2  surface_covered_in_m2  price_usd_per_m2  price_per_m2  \\\n",
       "0                 55.0                   40.0       1127.272727        1550.0   \n",
       "1                  NaN                    NaN               NaN           NaN   \n",
       "\n",
       "   rooms                                        description  ... s.u.m.  \\\n",
       "0    2.0  2 AMBIENTES TIPO CASA PLANTA BAJA POR PASILLO,...  ...  False   \n",
       "1    3.0  VENTA DE DEPARTAMENTO EN DÉCIMO PISO AL FRENTE...  ...  False   \n",
       "\n",
       "  amenities  baulera  gimnasio  subte-linea-d  subte-linea-b  subte-linea-a  \\\n",
       "0     False    False     False          False          False          False   \n",
       "1     False    False     False          False          False          False   \n",
       "\n",
       "   subte-linea-h  subte-linea-e  price_state  \n",
       "0          False          False   119.222453  \n",
       "1          False          False   230.557603  \n",
       "\n",
       "[2 rows x 30 columns]"
      ]
     },
     "execution_count": 203,
     "metadata": {},
     "output_type": "execute_result"
    }
   ],
   "source": [
    "#creo una columna que rellene el valor con la media del m2 total en este state_name\n",
    "data[\"price_state\"] = data.groupby('state_name')['surface_total_in_m2'].transform('mean') \n",
    "data.head(2)"
   ]
  },
  {
   "cell_type": "code",
   "execution_count": null,
   "id": "de78c830",
   "metadata": {
    "id": "f452ad15"
   },
   "outputs": [],
   "source": []
  },
  {
   "cell_type": "markdown",
   "id": "068e0e3b",
   "metadata": {
    "id": "befacdbf"
   },
   "source": [
    "# Inicio TP2"
   ]
  },
  {
   "cell_type": "code",
   "execution_count": 204,
   "id": "53c39285",
   "metadata": {
    "id": "32391447"
   },
   "outputs": [],
   "source": [
    "# para exportar resultados\n",
    "data.to_csv(r'../data/properatti_tp2.csv', index = False, header=True)\n"
   ]
  },
  {
   "cell_type": "code",
   "execution_count": 205,
   "id": "35ca54bd",
   "metadata": {
    "id": "4918401f"
   },
   "outputs": [
    {
     "data": {
      "text/plain": [
       "(121220, 30)"
      ]
     },
     "execution_count": 205,
     "metadata": {},
     "output_type": "execute_result"
    }
   ],
   "source": [
    "#usar el nuevo dataset desde el archivo\n",
    "data = pd.read_csv(\"../data/properatti_tp2.csv\", sep = \",\", low_memory=False) \n",
    "#data.head(3)\n",
    "data.shape"
   ]
  },
  {
   "cell_type": "code",
   "execution_count": null,
   "id": "3130df9b",
   "metadata": {},
   "outputs": [],
   "source": []
  }
 ],
 "metadata": {
  "colab": {
   "collapsed_sections": [
    "cdbfda03",
    "5eb9b770",
    "2fa218dc"
   ],
   "name": "Principal.ipynb",
   "provenance": []
  },
  "kernelspec": {
   "display_name": "Python [conda env:ds] *",
   "language": "python",
   "name": "conda-env-ds-py"
  },
  "language_info": {
   "codemirror_mode": {
    "name": "ipython",
    "version": 3
   },
   "file_extension": ".py",
   "mimetype": "text/x-python",
   "name": "python",
   "nbconvert_exporter": "python",
   "pygments_lexer": "ipython3",
   "version": "3.8.12"
  }
 },
 "nbformat": 4,
 "nbformat_minor": 5
}
