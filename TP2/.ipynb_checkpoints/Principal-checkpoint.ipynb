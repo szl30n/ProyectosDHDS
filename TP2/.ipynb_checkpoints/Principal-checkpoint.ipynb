{
 "cells": [
  {
   "cell_type": "code",
   "execution_count": 114,
   "id": "4d80a856",
   "metadata": {
    "id": "4780501a"
   },
   "outputs": [],
   "source": [
    "import numpy as np\n",
    "import pandas as pd\n",
    "import seaborn as sns\n",
    "import matplotlib.pyplot as plt\n",
    "import plotly.express as px\n",
    "from sklearn.linear_model import LinearRegression\n",
    "from sklearn.model_selection import train_test_split\n",
    "from sklearn.metrics import mean_absolute_error, mean_squared_error, r2_score\n",
    "#from IPython.core.interactiveshell import InteractiveShell\n",
    "#InteractiveShell.ast_node_interactivity = \"all\""
   ]
  },
  {
   "cell_type": "markdown",
   "id": "a3639066",
   "metadata": {
    "heading_collapsed": "true",
    "id": "cdbfda03"
   },
   "source": [
    "# **Importación de los datos de properati**"
   ]
  },
  {
   "cell_type": "code",
   "execution_count": 115,
   "id": "f9dd7fac",
   "metadata": {
    "id": "a7754818",
    "outputId": "05a09978-f855-4c68-c039-46d93fbde29b"
   },
   "outputs": [
    {
     "data": {
      "text/plain": [
       "(121220, 26)"
      ]
     },
     "execution_count": 115,
     "metadata": {},
     "output_type": "execute_result"
    }
   ],
   "source": [
    "data = pd.read_csv(\"../data/properatti.csv\", sep = \",\", low_memory=False) \n",
    "#data.head(3)\n",
    "data.shape"
   ]
  },
  {
   "cell_type": "markdown",
   "id": "39e861ed",
   "metadata": {
    "heading_collapsed": "true"
   },
   "source": [
    "## Selección subdataset AMBA"
   ]
  },
  {
   "cell_type": "code",
   "execution_count": 116,
   "id": "357d4989",
   "metadata": {},
   "outputs": [
    {
     "name": "stdout",
     "output_type": "stream",
     "text": [
      "(81150, 26)\n"
     ]
    }
   ],
   "source": [
    "#dejamos solo lo de AMBA\n",
    "data = data[(data[\"state_name\"]== 'Capital Federal') | (data[\"state_name\"]== 'Bs.As. G.B.A. Zona Sur') | (data[\"state_name\"]=='Bs.As. G.B.A. Zona Norte') | (data[\"state_name\"]== 'Bs.As. G.B.A. Zona Oeste')]\n",
    "print(data.shape)"
   ]
  },
  {
   "cell_type": "markdown",
   "id": "f8d8d942",
   "metadata": {},
   "source": [
    "# Limpieza e imputaciones"
   ]
  },
  {
   "cell_type": "markdown",
   "id": "ed9a0478",
   "metadata": {
    "id": "9eafe596"
   },
   "source": [
    "## Elimino columnas que no uso"
   ]
  },
  {
   "cell_type": "code",
   "execution_count": 117,
   "id": "bcf9e741",
   "metadata": {
    "id": "4211aba8"
   },
   "outputs": [],
   "source": [
    "cols2keep = ['property_type', 'state_name', 'place_name','place_with_parent_names','price_aprox_usd', 'surface_total_in_m2','surface_covered_in_m2','price_usd_per_m2', 'rooms', 'description', 'title', 'properati_url']\n",
    "data = data.loc[:, cols2keep]\n",
    "#print(df_sub)"
   ]
  },
  {
   "cell_type": "markdown",
   "id": "540132e9",
   "metadata": {},
   "source": [
    "## Chequeo valores nulos"
   ]
  },
  {
   "cell_type": "code",
   "execution_count": 118,
   "id": "45bc42fb",
   "metadata": {},
   "outputs": [
    {
     "name": "stdout",
     "output_type": "stream",
     "text": [
      "                          cant  percent     tipo\n",
      "property_type                0     0.00   object\n",
      "state_name                   0     0.00   object\n",
      "place_name                  23     0.03   object\n",
      "place_with_parent_names      0     0.00   object\n",
      "price_aprox_usd           8656    10.67  float64\n",
      "surface_total_in_m2      22792    28.09  float64\n",
      "surface_covered_in_m2     8505    10.48  float64\n",
      "price_usd_per_m2         29515    36.37  float64\n",
      "rooms                    51211    63.11  float64\n",
      "description                  1     0.00   object\n",
      "title                        0     0.00   object\n",
      "properati_url                0     0.00   object\n"
     ]
    }
   ],
   "source": [
    "#Chequeo valores nulos\n",
    "cant_nulos_por_campo = data.apply(lambda x: x.isnull().sum(), axis=0)\n",
    "percent_nulos_por_campo = data.apply(lambda x: (100 * x.isnull().sum() / data.shape[0]).round(2), axis=0)\n",
    "summary_nulos_por_campo = pd.DataFrame({ 'cant': cant_nulos_por_campo, 'percent': percent_nulos_por_campo ,'tipo': data.dtypes})\n",
    "print(summary_nulos_por_campo)"
   ]
  },
  {
   "cell_type": "markdown",
   "id": "3f48ddad",
   "metadata": {
    "id": "wipHmRxOD_Zo"
   },
   "source": [
    "## Completar info Rooms\n"
   ]
  },
  {
   "cell_type": "code",
   "execution_count": 119,
   "id": "9d3daec5",
   "metadata": {
    "colab": {
     "base_uri": "https://localhost:8080/"
    },
    "executionInfo": {
     "elapsed": 308,
     "status": "ok",
     "timestamp": 1653009986780,
     "user": {
      "displayName": "Maela Lombardi",
      "userId": "03936068368896012188"
     },
     "user_tz": 180
    },
    "id": "_gFyvCyrD_Zo",
    "outputId": "030eb50c-b338-4ff7-fd12-ccfebe2e4452"
   },
   "outputs": [
    {
     "name": "stdout",
     "output_type": "stream",
     "text": [
      "tipo  :  float64\n",
      "nulos :  51211\n"
     ]
    },
    {
     "data": {
      "text/plain": [
       "array([nan,  1.,  4.,  3.,  2.,  6.,  5., 10.,  7., 17., 22.,  8.,  9.,\n",
       "       11., 13., 12., 25., 14., 16., 18., 15., 32.])"
      ]
     },
     "execution_count": 119,
     "metadata": {},
     "output_type": "execute_result"
    }
   ],
   "source": [
    "#Comprobamos el tipo y los valores.\n",
    "print(\"tipo  : \", data.rooms.dtype)\n",
    "print(\"nulos : \", data.rooms.isnull().sum())\n",
    "data.rooms.unique()"
   ]
  },
  {
   "cell_type": "code",
   "execution_count": 120,
   "id": "2e507be1",
   "metadata": {
    "colab": {
     "base_uri": "https://localhost:8080/"
    },
    "executionInfo": {
     "elapsed": 315,
     "status": "ok",
     "timestamp": 1653010012836,
     "user": {
      "displayName": "Maela Lombardi",
      "userId": "03936068368896012188"
     },
     "user_tz": 180
    },
    "id": "VaP1XKWAD_Zo",
    "outputId": "034c1c61-89e5-4b44-fff3-d5a13279c38f"
   },
   "outputs": [
    {
     "name": "stdout",
     "output_type": "stream",
     "text": [
      "Total Registros \t\t\t 81150\n",
      "Total sin ambientes \t\t\t 51211\n",
      "Porcentaje sin ambientes \t\t 36.89  %\n"
     ]
    }
   ],
   "source": [
    "totalVentas = data.state_name.notnull().sum()\n",
    "totalSinCuartos = data.rooms.isnull().sum()\n",
    "print('Total Registros \\t\\t\\t', data.state_name.notnull().sum() )\n",
    "print('Total sin ambientes \\t\\t\\t',data.rooms.isnull().sum() )\n",
    "print('Porcentaje sin ambientes \\t\\t', round( (totalVentas- totalSinCuartos) / totalVentas * 100, 2), ' %' )"
   ]
  },
  {
   "cell_type": "code",
   "execution_count": 121,
   "id": "6d87afcb",
   "metadata": {
    "colab": {
     "base_uri": "https://localhost:8080/",
     "height": 363
    },
    "executionInfo": {
     "elapsed": 1728,
     "status": "ok",
     "timestamp": 1653010131020,
     "user": {
      "displayName": "Maela Lombardi",
      "userId": "03936068368896012188"
     },
     "user_tz": 180
    },
    "id": "2nuavK7SD_Zq",
    "outputId": "1b5f6b7e-f99a-40fa-8265-61db4f8fc7da"
   },
   "outputs": [],
   "source": [
    "data['title'] = data.title.str.upper()\n",
    "data['description'] = data.description.str.upper()"
   ]
  },
  {
   "cell_type": "code",
   "execution_count": 122,
   "id": "b6d11584",
   "metadata": {
    "id": "cRpb5UXWD_Zr"
   },
   "outputs": [],
   "source": [
    "reemplazo_dic = {\"UNO\":\"1\", \"DOS\":\"2\", \"TRES\":\"3\", \"CUATRO\":\"4\", \"CINCO\":\"5\", \"SEIS\":\"6\", \"SIETE\":\"7\", \"OCHO\":\"8\",\n",
    "             \"NUEVE\":\"9\", \"DIEZ\":\"10\", \"MONOAMBIENTE\":\"1 AMBIENTE\", \"MONOAMB\" : \"1 AMBIENTE\", \"UN\":\"1\", \"AMBIENTE DIVISIBLE\":\"1 AMBIENTE\",\n",
    "             \"MONO AMBIENTE\": \"1 AMBIENTE\",\"DORMITORIOS\": \"AMBIENTE\",\"DORMITORIO\": \"AMBIENTE\",\"HABITACIONES\": \"AMBIENTE\",\"HABITACION\": \"AMBIENTE\"}\n",
    "for key in reemplazo_dic.keys():\n",
    "    data.description = data.description.str.replace(key, reemplazo_dic[key], regex=False)\n",
    "\n",
    "for key in reemplazo_dic.keys():\n",
    "    data.title = data.title.str.replace(key, reemplazo_dic[key], regex=False)"
   ]
  },
  {
   "cell_type": "code",
   "execution_count": 123,
   "id": "3baba604",
   "metadata": {},
   "outputs": [
    {
     "name": "stderr",
     "output_type": "stream",
     "text": [
      "C:\\Users\\msaied\\Anaconda3\\envs\\ds\\lib\\site-packages\\pandas\\core\\generic.py:5170: SettingWithCopyWarning: \n",
      "A value is trying to be set on a copy of a slice from a DataFrame.\n",
      "Try using .loc[row_indexer,col_indexer] = value instead\n",
      "\n",
      "See the caveats in the documentation: https://pandas.pydata.org/pandas-docs/stable/user_guide/indexing.html#returning-a-view-versus-a-copy\n",
      "  self[name] = value\n"
     ]
    }
   ],
   "source": [
    "regularexpArray=[\"(\\d+)AMB\",\"(\\d+) AMB\"]\n",
    "\n",
    "for regularexp in regularexpArray:\n",
    "    controlRooms = data[(data.rooms.isnull()) ]\n",
    "    controlRooms.rooms = controlRooms.title.str.extract(regularexp).astype(float)\n",
    "    data.update(controlRooms)\n",
    "    controlRooms = data[(data.rooms.isnull()) ]\n",
    "    controlRooms.rooms = controlRooms.description.str.extract(regularexp).astype(float) \n",
    "    data.update(controlRooms)\n",
    "    \n",
    "# se agrega un ambiente mas\n",
    "regularexpArray=[\"(\\d+)DORM\",\"(\\d+) DORM\",\"(\\d+)HABITACIO\",\"(\\d+) HABITACIO\"]\n",
    "\n",
    "for regularexp in regularexpArray:\n",
    "    controlRooms = data[(data.rooms.isnull()) ]\n",
    "    controlRooms.rooms = controlRooms.title.str.extract(regularexp).astype(float) + 1\n",
    "    data.update(controlRooms)\n",
    "    controlRooms = data[(data.rooms.isnull()) ]\n",
    "    controlRooms.rooms = controlRooms.description.str.extract(regularexp).astype(float) + 1\n",
    "    data.update(controlRooms)    \n",
    "controlRooms = data[(data.rooms.isnull())]"
   ]
  },
  {
   "cell_type": "code",
   "execution_count": 125,
   "id": "1f96d9aa",
   "metadata": {
    "colab": {
     "base_uri": "https://localhost:8080/"
    },
    "executionInfo": {
     "elapsed": 416,
     "status": "ok",
     "timestamp": 1653010837210,
     "user": {
      "displayName": "Maela Lombardi",
      "userId": "03936068368896012188"
     },
     "user_tz": 180
    },
    "id": "gqMQWxJuD_Zu",
    "outputId": "d25b76d1-4a37-4848-cf71-fd67b1f172d0"
   },
   "outputs": [
    {
     "name": "stdout",
     "output_type": "stream",
     "text": [
      "Total Registros \t\t\t 81150\n",
      "Total sin Ambientes \t\t\t 10685\n",
      "Porcentaje con ambientes \t\t 86.83  %\n"
     ]
    }
   ],
   "source": [
    "totalVentas = data.state_name.notnull().sum()\n",
    "totalSinCuartos = data.rooms.isnull().sum()\n",
    "porcentajeSinCuartos = round( (totalVentas- totalSinCuartos) / totalVentas * 100, 2)\n",
    "print('Total Registros \\t\\t\\t', totalVentas )\n",
    "print('Total sin Ambientes \\t\\t\\t', totalSinCuartos )\n",
    "print('Porcentaje con ambientes \\t\\t', porcentajeSinCuartos, ' %' )"
   ]
  },
  {
   "cell_type": "markdown",
   "id": "c3b6de28",
   "metadata": {
    "id": "2fa218dc"
   },
   "source": [
    "## Eliminar duplicados"
   ]
  },
  {
   "cell_type": "code",
   "execution_count": 24,
   "id": "9543c4a4",
   "metadata": {
    "id": "74e8b238",
    "outputId": "47355a10-cc3b-4b85-dd5d-cb74f58cac5c"
   },
   "outputs": [
    {
     "data": {
      "text/html": [
       "<div>\n",
       "<style scoped>\n",
       "    .dataframe tbody tr th:only-of-type {\n",
       "        vertical-align: middle;\n",
       "    }\n",
       "\n",
       "    .dataframe tbody tr th {\n",
       "        vertical-align: top;\n",
       "    }\n",
       "\n",
       "    .dataframe thead th {\n",
       "        text-align: right;\n",
       "    }\n",
       "</style>\n",
       "<table border=\"1\" class=\"dataframe\">\n",
       "  <thead>\n",
       "    <tr style=\"text-align: right;\">\n",
       "      <th></th>\n",
       "      <th>property_type</th>\n",
       "      <th>state_name</th>\n",
       "      <th>place_name</th>\n",
       "      <th>place_with_parent_names</th>\n",
       "      <th>price_aprox_usd</th>\n",
       "      <th>surface_total_in_m2</th>\n",
       "      <th>surface_covered_in_m2</th>\n",
       "      <th>price_usd_per_m2</th>\n",
       "      <th>rooms</th>\n",
       "      <th>description</th>\n",
       "      <th>title</th>\n",
       "      <th>properati_url</th>\n",
       "    </tr>\n",
       "  </thead>\n",
       "  <tbody>\n",
       "    <tr>\n",
       "      <th>0</th>\n",
       "      <td>PH</td>\n",
       "      <td>Capital Federal</td>\n",
       "      <td>Mataderos</td>\n",
       "      <td>|Argentina|Capital Federal|Mataderos|</td>\n",
       "      <td>62000.0</td>\n",
       "      <td>55.0</td>\n",
       "      <td>40.0</td>\n",
       "      <td>1127.272727</td>\n",
       "      <td>2.0</td>\n",
       "      <td>2 AMBIENTES TIPO CASA PLANTA BAJA POR PASILLO,...</td>\n",
       "      <td>2 AMB TIPO CASA SIN EXPENSAS EN PB</td>\n",
       "      <td>http://www.properati.com.ar/15bo8_venta_ph_mat...</td>\n",
       "    </tr>\n",
       "    <tr>\n",
       "      <th>1</th>\n",
       "      <td>apartment</td>\n",
       "      <td>Bs.As. G.B.A. Zona Sur</td>\n",
       "      <td>La Plata</td>\n",
       "      <td>|Argentina|Bs.As. G.B.A. Zona Sur|La Plata|</td>\n",
       "      <td>150000.0</td>\n",
       "      <td>NaN</td>\n",
       "      <td>NaN</td>\n",
       "      <td>NaN</td>\n",
       "      <td>3.0</td>\n",
       "      <td>VENTA DE DEPARTAMENTO EN DÉCIMO PISO AL FRENTE...</td>\n",
       "      <td>VENTA DEPTO 2 DORM. A ESTRENAR 7 E/ 36 Y 37   ...</td>\n",
       "      <td>http://www.properati.com.ar/15bob_venta_depart...</td>\n",
       "    </tr>\n",
       "    <tr>\n",
       "      <th>2</th>\n",
       "      <td>apartment</td>\n",
       "      <td>Capital Federal</td>\n",
       "      <td>Mataderos</td>\n",
       "      <td>|Argentina|Capital Federal|Mataderos|</td>\n",
       "      <td>72000.0</td>\n",
       "      <td>55.0</td>\n",
       "      <td>55.0</td>\n",
       "      <td>1309.090909</td>\n",
       "      <td>2.0</td>\n",
       "      <td>2 AMBIENTES 3ER PISO LATERAL LIVING COMEDOR AM...</td>\n",
       "      <td>2 AMB 3ER PISO CON ASCENSOR APTO CREDITO</td>\n",
       "      <td>http://www.properati.com.ar/15bod_venta_depart...</td>\n",
       "    </tr>\n",
       "    <tr>\n",
       "      <th>3</th>\n",
       "      <td>PH</td>\n",
       "      <td>Capital Federal</td>\n",
       "      <td>Liniers</td>\n",
       "      <td>|Argentina|Capital Federal|Liniers|</td>\n",
       "      <td>95000.0</td>\n",
       "      <td>NaN</td>\n",
       "      <td>NaN</td>\n",
       "      <td>NaN</td>\n",
       "      <td>3.0</td>\n",
       "      <td>PH 3 AMBIENTES CON PATIO. HAY 3 DEPTOS EN LOTE...</td>\n",
       "      <td>PH 3 AMB. CFTE. RECICLADO</td>\n",
       "      <td>http://www.properati.com.ar/15boh_venta_ph_lin...</td>\n",
       "    </tr>\n",
       "    <tr>\n",
       "      <th>6</th>\n",
       "      <td>PH</td>\n",
       "      <td>Bs.As. G.B.A. Zona Norte</td>\n",
       "      <td>Munro</td>\n",
       "      <td>|Argentina|Bs.As. G.B.A. Zona Norte|Vicente Ló...</td>\n",
       "      <td>130000.0</td>\n",
       "      <td>106.0</td>\n",
       "      <td>78.0</td>\n",
       "      <td>1226.415094</td>\n",
       "      <td>2.0</td>\n",
       "      <td>MUY BUEN PH AL FRENTE CON ENTRADA INDEPENDIENT...</td>\n",
       "      <td>MUY BUEN PH AL FRENTE 2 AMBIENTE , PATIO, EXCE...</td>\n",
       "      <td>http://www.properati.com.ar/15bor_venta_ph_mun...</td>\n",
       "    </tr>\n",
       "    <tr>\n",
       "      <th>...</th>\n",
       "      <td>...</td>\n",
       "      <td>...</td>\n",
       "      <td>...</td>\n",
       "      <td>...</td>\n",
       "      <td>...</td>\n",
       "      <td>...</td>\n",
       "      <td>...</td>\n",
       "      <td>...</td>\n",
       "      <td>...</td>\n",
       "      <td>...</td>\n",
       "      <td>...</td>\n",
       "      <td>...</td>\n",
       "    </tr>\n",
       "    <tr>\n",
       "      <th>121214</th>\n",
       "      <td>store</td>\n",
       "      <td>Bs.As. G.B.A. Zona Norte</td>\n",
       "      <td>San Isidro</td>\n",
       "      <td>|Argentina|Bs.As. G.B.A. Zona Norte|San Isidro|</td>\n",
       "      <td>NaN</td>\n",
       "      <td>123.0</td>\n",
       "      <td>123.0</td>\n",
       "      <td>NaN</td>\n",
       "      <td>NaN</td>\n",
       "      <td>***VENTA CON RENTA***LOCAL EN EDIFICIO LOMAS ...</td>\n",
       "      <td>LOCAL - SAN ISIDRO</td>\n",
       "      <td>http://www.properati.com.ar/1cja1_venta_local_...</td>\n",
       "    </tr>\n",
       "    <tr>\n",
       "      <th>121215</th>\n",
       "      <td>apartment</td>\n",
       "      <td>Capital Federal</td>\n",
       "      <td>Belgrano</td>\n",
       "      <td>|Argentina|Capital Federal|Belgrano|</td>\n",
       "      <td>870000.0</td>\n",
       "      <td>113.0</td>\n",
       "      <td>93.0</td>\n",
       "      <td>7699.115044</td>\n",
       "      <td>2.0</td>\n",
       "      <td>TORRE FORUM ALCORTA - MÁXIMA CATEGORÍA.IMPECAB...</td>\n",
       "      <td>TORRE FORUM ALCORTA- IMPECABLE 3 AMBIENTES</td>\n",
       "      <td>http://www.properati.com.ar/1cja2_venta_depart...</td>\n",
       "    </tr>\n",
       "    <tr>\n",
       "      <th>121216</th>\n",
       "      <td>house</td>\n",
       "      <td>Bs.As. G.B.A. Zona Norte</td>\n",
       "      <td>Beccar</td>\n",
       "      <td>|Argentina|Bs.As. G.B.A. Zona Norte|San Isidro...</td>\n",
       "      <td>498000.0</td>\n",
       "      <td>360.0</td>\n",
       "      <td>360.0</td>\n",
       "      <td>1383.333333</td>\n",
       "      <td>3.0</td>\n",
       "      <td>EXCELENTE E IMPECABLE CASA EN VENTA EN LAS LOM...</td>\n",
       "      <td>RUCA INMUEBLES | VENTA | LOMAS DE SAN ISIDRO |...</td>\n",
       "      <td>http://www.properati.com.ar/1cja6_venta_casa_b...</td>\n",
       "    </tr>\n",
       "    <tr>\n",
       "      <th>121217</th>\n",
       "      <td>apartment</td>\n",
       "      <td>Capital Federal</td>\n",
       "      <td>Villa Urquiza</td>\n",
       "      <td>|Argentina|Capital Federal|Villa Urquiza|</td>\n",
       "      <td>131500.0</td>\n",
       "      <td>46.0</td>\n",
       "      <td>39.0</td>\n",
       "      <td>2858.695652</td>\n",
       "      <td>1.0</td>\n",
       "      <td>VENTA DEPARTAMENTO 1 AMBIENTE A ESTRENAR BALCO...</td>\n",
       "      <td>VENTA DEPARTAMENTO 1 AMBIENTE A ESTRENAR BALCO...</td>\n",
       "      <td>http://www.properati.com.ar/1cja7_venta_depart...</td>\n",
       "    </tr>\n",
       "    <tr>\n",
       "      <th>121219</th>\n",
       "      <td>apartment</td>\n",
       "      <td>Capital Federal</td>\n",
       "      <td>Capital Federal</td>\n",
       "      <td>|Argentina|Capital Federal|</td>\n",
       "      <td>129000.0</td>\n",
       "      <td>77.0</td>\n",
       "      <td>77.0</td>\n",
       "      <td>1675.324675</td>\n",
       "      <td>NaN</td>\n",
       "      <td>DEPARTAMENTO DE 77 M2 APTO PROFESIONAL. EDIFIC...</td>\n",
       "      <td>DEPARTAMENTO APTO PROFESIONAL EN EL CENTRO</td>\n",
       "      <td>http://www.properati.com.ar/1cjaa_venta_depart...</td>\n",
       "    </tr>\n",
       "  </tbody>\n",
       "</table>\n",
       "<p>81150 rows × 12 columns</p>\n",
       "</div>"
      ],
      "text/plain": [
       "       property_type                state_name       place_name  \\\n",
       "0                 PH           Capital Federal        Mataderos   \n",
       "1          apartment    Bs.As. G.B.A. Zona Sur         La Plata   \n",
       "2          apartment           Capital Federal        Mataderos   \n",
       "3                 PH           Capital Federal          Liniers   \n",
       "6                 PH  Bs.As. G.B.A. Zona Norte            Munro   \n",
       "...              ...                       ...              ...   \n",
       "121214         store  Bs.As. G.B.A. Zona Norte       San Isidro   \n",
       "121215     apartment           Capital Federal         Belgrano   \n",
       "121216         house  Bs.As. G.B.A. Zona Norte           Beccar   \n",
       "121217     apartment           Capital Federal    Villa Urquiza   \n",
       "121219     apartment           Capital Federal  Capital Federal   \n",
       "\n",
       "                                  place_with_parent_names  price_aprox_usd  \\\n",
       "0                   |Argentina|Capital Federal|Mataderos|          62000.0   \n",
       "1             |Argentina|Bs.As. G.B.A. Zona Sur|La Plata|         150000.0   \n",
       "2                   |Argentina|Capital Federal|Mataderos|          72000.0   \n",
       "3                     |Argentina|Capital Federal|Liniers|          95000.0   \n",
       "6       |Argentina|Bs.As. G.B.A. Zona Norte|Vicente Ló...         130000.0   \n",
       "...                                                   ...              ...   \n",
       "121214    |Argentina|Bs.As. G.B.A. Zona Norte|San Isidro|              NaN   \n",
       "121215               |Argentina|Capital Federal|Belgrano|         870000.0   \n",
       "121216  |Argentina|Bs.As. G.B.A. Zona Norte|San Isidro...         498000.0   \n",
       "121217          |Argentina|Capital Federal|Villa Urquiza|         131500.0   \n",
       "121219                        |Argentina|Capital Federal|         129000.0   \n",
       "\n",
       "        surface_total_in_m2  surface_covered_in_m2  price_usd_per_m2  rooms  \\\n",
       "0                      55.0                   40.0       1127.272727    2.0   \n",
       "1                       NaN                    NaN               NaN    3.0   \n",
       "2                      55.0                   55.0       1309.090909    2.0   \n",
       "3                       NaN                    NaN               NaN    3.0   \n",
       "6                     106.0                   78.0       1226.415094    2.0   \n",
       "...                     ...                    ...               ...    ...   \n",
       "121214                123.0                  123.0               NaN    NaN   \n",
       "121215                113.0                   93.0       7699.115044    2.0   \n",
       "121216                360.0                  360.0       1383.333333    3.0   \n",
       "121217                 46.0                   39.0       2858.695652    1.0   \n",
       "121219                 77.0                   77.0       1675.324675    NaN   \n",
       "\n",
       "                                              description  \\\n",
       "0       2 AMBIENTES TIPO CASA PLANTA BAJA POR PASILLO,...   \n",
       "1       VENTA DE DEPARTAMENTO EN DÉCIMO PISO AL FRENTE...   \n",
       "2       2 AMBIENTES 3ER PISO LATERAL LIVING COMEDOR AM...   \n",
       "3       PH 3 AMBIENTES CON PATIO. HAY 3 DEPTOS EN LOTE...   \n",
       "6       MUY BUEN PH AL FRENTE CON ENTRADA INDEPENDIENT...   \n",
       "...                                                   ...   \n",
       "121214   ***VENTA CON RENTA***LOCAL EN EDIFICIO LOMAS ...   \n",
       "121215  TORRE FORUM ALCORTA - MÁXIMA CATEGORÍA.IMPECAB...   \n",
       "121216  EXCELENTE E IMPECABLE CASA EN VENTA EN LAS LOM...   \n",
       "121217  VENTA DEPARTAMENTO 1 AMBIENTE A ESTRENAR BALCO...   \n",
       "121219  DEPARTAMENTO DE 77 M2 APTO PROFESIONAL. EDIFIC...   \n",
       "\n",
       "                                                    title  \\\n",
       "0                      2 AMB TIPO CASA SIN EXPENSAS EN PB   \n",
       "1       VENTA DEPTO 2 DORM. A ESTRENAR 7 E/ 36 Y 37   ...   \n",
       "2                2 AMB 3ER PISO CON ASCENSOR APTO CREDITO   \n",
       "3                            PH 3 AMB. CFTE. RECICLADO      \n",
       "6       MUY BUEN PH AL FRENTE 2 AMBIENTE , PATIO, EXCE...   \n",
       "...                                                   ...   \n",
       "121214                                 LOCAL - SAN ISIDRO   \n",
       "121215         TORRE FORUM ALCORTA- IMPECABLE 3 AMBIENTES   \n",
       "121216  RUCA INMUEBLES | VENTA | LOMAS DE SAN ISIDRO |...   \n",
       "121217  VENTA DEPARTAMENTO 1 AMBIENTE A ESTRENAR BALCO...   \n",
       "121219         DEPARTAMENTO APTO PROFESIONAL EN EL CENTRO   \n",
       "\n",
       "                                            properati_url  \n",
       "0       http://www.properati.com.ar/15bo8_venta_ph_mat...  \n",
       "1       http://www.properati.com.ar/15bob_venta_depart...  \n",
       "2       http://www.properati.com.ar/15bod_venta_depart...  \n",
       "3       http://www.properati.com.ar/15boh_venta_ph_lin...  \n",
       "6       http://www.properati.com.ar/15bor_venta_ph_mun...  \n",
       "...                                                   ...  \n",
       "121214  http://www.properati.com.ar/1cja1_venta_local_...  \n",
       "121215  http://www.properati.com.ar/1cja2_venta_depart...  \n",
       "121216  http://www.properati.com.ar/1cja6_venta_casa_b...  \n",
       "121217  http://www.properati.com.ar/1cja7_venta_depart...  \n",
       "121219  http://www.properati.com.ar/1cjaa_venta_depart...  \n",
       "\n",
       "[81150 rows x 12 columns]"
      ]
     },
     "execution_count": 24,
     "metadata": {},
     "output_type": "execute_result"
    }
   ],
   "source": [
    "#elimino duplicados \n",
    "data.drop_duplicates(keep=\"first\")\n"
   ]
  },
  {
   "cell_type": "markdown",
   "id": "05548e25",
   "metadata": {
    "heading_collapsed": "true",
    "id": "ae4d5615"
   },
   "source": [
    "## Pasar todas las columnas a minusculas"
   ]
  },
  {
   "cell_type": "code",
   "execution_count": 25,
   "id": "e92083bd",
   "metadata": {
    "id": "8a5ae754"
   },
   "outputs": [],
   "source": [
    "data_lower = data.applymap(lambda x: x if np.isreal(x) else str(x).lower())\n",
    "# comparo los tipos de datos antes y después de pasar a minúsculas:\n",
    "#print(data_lower.dtypes == data.dtypes)\n",
    "#print(data_lower.head(3))"
   ]
  },
  {
   "cell_type": "markdown",
   "id": "7dd81a2f",
   "metadata": {
    "heading_collapsed": "true",
    "id": "e794c75e"
   },
   "source": [
    "## limpieza de outliers en price_usd_per_m2"
   ]
  },
  {
   "cell_type": "code",
   "execution_count": 26,
   "id": "2b777138",
   "metadata": {
    "id": "9612917b",
    "outputId": "1b0616eb-71c9-4436-cff6-a035adeed0ed"
   },
   "outputs": [
    {
     "data": {
      "text/plain": [
       "(81150, 12)"
      ]
     },
     "execution_count": 26,
     "metadata": {},
     "output_type": "execute_result"
    }
   ],
   "source": [
    "#búsqueda y reemplazo de outliers (de más de 2 std, 95%) por NaN en las columnas numéricas, en un solo paso\n",
    "df_sub = data.loc[:, 'price_usd_per_m2']\n",
    "lim = np.abs((df_sub - df_sub.mean()) / df_sub.std(ddof=0)) < 2\n",
    "data.loc[:, 'price_usd_per_m2'] = df_sub.where(lim, np.nan)\n",
    "#data.head(3)\n",
    "data.shape\n",
    "#data.dropna()"
   ]
  },
  {
   "cell_type": "markdown",
   "id": "ca7e776b",
   "metadata": {
    "heading_collapsed": "true"
   },
   "source": [
    "## Elimino registros con valores NaN"
   ]
  },
  {
   "cell_type": "code",
   "execution_count": 27,
   "id": "f8b6eef6",
   "metadata": {},
   "outputs": [],
   "source": [
    "data.dropna(axis=0, how='any', subset=['property_type', 'state_name', 'place_name', 'price_aprox_usd', 'surface_total_in_m2','surface_covered_in_m2', 'rooms', 'price_usd_per_m2'], inplace=True)"
   ]
  },
  {
   "cell_type": "code",
   "execution_count": 28,
   "id": "5356fae7",
   "metadata": {},
   "outputs": [
    {
     "data": {
      "text/plain": [
       "(42717, 12)"
      ]
     },
     "execution_count": 28,
     "metadata": {},
     "output_type": "execute_result"
    }
   ],
   "source": [
    "data.shape"
   ]
  },
  {
   "cell_type": "markdown",
   "id": "e32f8b3c",
   "metadata": {
    "heading_collapsed": "true"
   },
   "source": [
    "## Ultimo chequeo que que no hay NaN en las columnas"
   ]
  },
  {
   "cell_type": "code",
   "execution_count": 29,
   "id": "40b05304",
   "metadata": {},
   "outputs": [
    {
     "name": "stdout",
     "output_type": "stream",
     "text": [
      "                         cant  percent     tipo\n",
      "property_type               0      0.0   object\n",
      "state_name                  0      0.0   object\n",
      "place_name                  0      0.0   object\n",
      "place_with_parent_names     0      0.0   object\n",
      "price_aprox_usd             0      0.0  float64\n",
      "surface_total_in_m2         0      0.0  float64\n",
      "surface_covered_in_m2       0      0.0  float64\n",
      "price_usd_per_m2            0      0.0  float64\n",
      "rooms                       0      0.0  float64\n",
      "description                 0      0.0   object\n",
      "title                       0      0.0   object\n",
      "properati_url               0      0.0   object\n"
     ]
    }
   ],
   "source": [
    "##  ¿Qué campos tienen valores nulos? y cual es su porcentaje en la columna\n",
    "cant_nulos_por_campo = data.apply(lambda x: x.isnull().sum(), axis=0)\n",
    "percent_nulos_por_campo = data.apply(lambda x: (100 * x.isnull().sum() / data.shape[0]).round(2), axis=0)\n",
    "summary_nulos_por_campo = pd.DataFrame({ 'cant': cant_nulos_por_campo, 'percent': percent_nulos_por_campo ,'tipo': data.dtypes})\n",
    "print(summary_nulos_por_campo)"
   ]
  },
  {
   "cell_type": "markdown",
   "id": "cd64c6b4",
   "metadata": {},
   "source": [
    "# Columnas DUMMIES"
   ]
  },
  {
   "cell_type": "markdown",
   "id": "2baeef87",
   "metadata": {
    "heading_collapsed": "true",
    "id": "iv79nG5uacrd"
   },
   "source": [
    "## Columnas de Amenities\n",
    "\n"
   ]
  },
  {
   "cell_type": "code",
   "execution_count": 30,
   "id": "0d5144af",
   "metadata": {
    "id": "TZJ2mBI0d3UN"
   },
   "outputs": [],
   "source": [
    "#fracciono la columna properti_url para sacar la nube de palabras mas repetidas\n",
    "import re\n",
    "patron_url = re.compile(pattern=\"_\", flags =re.IGNORECASE)\n",
    "lista_url = data[\"properati_url\"].apply(lambda x : patron_url.split(x))\n",
    "serie_palabras = pd.Series(np.hstack(lista_url))\n",
    "#serie_palabras.value_counts().head(20).plot(kind=\"bar\")"
   ]
  },
  {
   "cell_type": "code",
   "execution_count": 31,
   "id": "7490d66f",
   "metadata": {
    "colab": {
     "base_uri": "https://localhost:8080/"
    },
    "executionInfo": {
     "elapsed": 277,
     "status": "ok",
     "timestamp": 1653012657001,
     "user": {
      "displayName": "Maela Lombardi",
      "userId": "03936068368896012188"
     },
     "user_tz": 180
    },
    "id": "-fq0FwrK0FMR",
    "outputId": "78a2025c-5b32-4625-f200-82f2862afbf2"
   },
   "outputs": [
    {
     "data": {
      "text/plain": [
       "venta                       42662\n",
       "departamento                27323\n",
       "garage                      21795\n",
       "lavadero                    19749\n",
       "balcon                      17206\n",
       "parrilla                    16518\n",
       "piscina                     14135\n",
       "luminoso                    14032\n",
       "suite                       13137\n",
       "casa                        12777\n",
       "toilette                    11959\n",
       "placard                     10993\n",
       "terraza                     10784\n",
       "vestidor                     8882\n",
       "jardin                       7775\n",
       "patio                        6598\n",
       "dependencias                 6451\n",
       "sum                          5961\n",
       "aire-acondicionado           5700\n",
       "baulera                      5494\n",
       "amenities                    5423\n",
       "gimnasio                     4763\n",
       "estrenar                     4394\n",
       "lujoso                       4275\n",
       "vista                        3850\n",
       "subte-linea-d                3639\n",
       "quincho                      3599\n",
       "hidromasaje                  3170\n",
       "subte-linea-b                2986\n",
       "subte-linea-a                2541\n",
       "impecable                    2402\n",
       "ph                           2351\n",
       "losa-radiante                2123\n",
       "nordelta                     2115\n",
       "apto-credito-hipotecario     2093\n",
       "tigre                        1989\n",
       "subte-linea-h                1960\n",
       "belgrano                     1819\n",
       "sauna                        1760\n",
       "palermo                      1656\n",
       "caballito                    1540\n",
       "subte-linea-e                1458\n",
       "amoblado                     1353\n",
       "pilar                        1327\n",
       "tenis                        1250\n",
       "subte-linea-c                1152\n",
       "barrio-norte                 1021\n",
       "villa-urquiza                 983\n",
       "olivos                        936\n",
       "villa-crespo                  914\n",
       "dtype: int64"
      ]
     },
     "execution_count": 31,
     "metadata": {},
     "output_type": "execute_result"
    }
   ],
   "source": [
    "serie_palabras.value_counts().head(50)"
   ]
  },
  {
   "cell_type": "code",
   "execution_count": 32,
   "id": "43916133",
   "metadata": {
    "id": "Jk22xPJZa9pm"
   },
   "outputs": [],
   "source": [
    "# a partir de la nube de palabras selecciono las que son buenos adicionales\n",
    "adicionales = [\"garage\", \"balcon\", \"parrilla\", \"piscina\", \"terraza\", \"patio\", \"jardin\", \"quincho\", \"sum\", \"amenities\", \"baulera\", \"gimnasio\", \"subte-linea-d\", \"subte-linea-b\", \"subte-linea-a\", \"subte-linea-h\", \"subte-linea-e\" ]\n"
   ]
  },
  {
   "cell_type": "code",
   "execution_count": 33,
   "id": "260c3009",
   "metadata": {
    "id": "cSivTSfQoiyj"
   },
   "outputs": [],
   "source": [
    "#elimino el primer elemento de lista_url para no tener el elemento con el http: etc\n",
    "for sublist in lista_url:\n",
    "  del sublist[0]"
   ]
  },
  {
   "cell_type": "code",
   "execution_count": 34,
   "id": "0f6f769b",
   "metadata": {
    "colab": {
     "base_uri": "https://localhost:8080/"
    },
    "executionInfo": {
     "elapsed": 6,
     "status": "ok",
     "timestamp": 1651431280039,
     "user": {
      "displayName": "Maela Lombardi",
      "userId": "03936068368896012188"
     },
     "user_tz": 180
    },
    "id": "ZmKJ4I_wlwxh",
    "outputId": "49a1a07b-36cd-4d86-9004-f168b551c1d1"
   },
   "outputs": [
    {
     "data": {
      "text/plain": [
       "0         [venta, ph, mataderos, lavadero, patio, inmobi...\n",
       "2         [venta, departamentos, mataderos, lavadero, pl...\n",
       "6         [venta, ph, munro, lavadero, patio, garage, al...\n",
       "7         [venta, departamentos, belgrano, lavadero, pis...\n",
       "8         [venta, departamentos, belgrano, lavadero, pis...\n",
       "                                ...                        \n",
       "121154    [venta, casa, la-plata, suite, parrilla, pisci...\n",
       "121158    [venta, departamento, recoleta, pueyrredon-av-...\n",
       "121215    [venta, departamento, belgrano, balcon, suite,...\n",
       "121216    [venta, casa, beccar, suite, hidromasaje, jard...\n",
       "121217    [venta, departamento, villa-urquiza, holmberg,...\n",
       "Name: properati_url, Length: 42717, dtype: object"
      ]
     },
     "execution_count": 34,
     "metadata": {},
     "output_type": "execute_result"
    }
   ],
   "source": [
    "lista_url"
   ]
  },
  {
   "cell_type": "code",
   "execution_count": 35,
   "id": "087fbc3f",
   "metadata": {
    "id": "6xTQyApPl1_c"
   },
   "outputs": [],
   "source": [
    "#creo una función que compare la lista de palabras con la lista de listas\n",
    "#y me da como resultado una lista de listas de palabras true/false segun coincida o no \n",
    "def buscador_palabras(quebuscar, dondebuscar):\n",
    "  listadeextras = []\n",
    "  for listas in dondebuscar:\n",
    "    extras = []\n",
    "    for palabra in quebuscar:\n",
    "      if palabra in listas:\n",
    "        extras.append(True)\n",
    "      else:\n",
    "        extras.append(False)\n",
    "    listadeextras.append(extras)\n",
    "  #print(listadeextras)\n",
    "  return listadeextras     "
   ]
  },
  {
   "cell_type": "code",
   "execution_count": 36,
   "id": "4897e7d5",
   "metadata": {
    "colab": {
     "base_uri": "https://localhost:8080/"
    },
    "executionInfo": {
     "elapsed": 862,
     "status": "ok",
     "timestamp": 1651431280900,
     "user": {
      "displayName": "Maela Lombardi",
      "userId": "03936068368896012188"
     },
     "user_tz": 180
    },
    "id": "QKvkph_HnmMP",
    "outputId": "694bb379-1473-4e3a-dc79-a905264d2952"
   },
   "outputs": [
    {
     "data": {
      "text/plain": [
       "42717"
      ]
     },
     "execution_count": 36,
     "metadata": {},
     "output_type": "execute_result"
    }
   ],
   "source": [
    "#aplico la funcion a mi lista \"adicionales\" y \"lista_url\"\n",
    "#chequeo que tenga la misma longitud de data\n",
    "resultado = buscador_palabras(adicionales,lista_url)\n",
    "len(resultado)"
   ]
  },
  {
   "cell_type": "code",
   "execution_count": 37,
   "id": "e09d4d95",
   "metadata": {
    "colab": {
     "base_uri": "https://localhost:8080/",
     "height": 423
    },
    "executionInfo": {
     "elapsed": 13,
     "status": "ok",
     "timestamp": 1651431280900,
     "user": {
      "displayName": "Maela Lombardi",
      "userId": "03936068368896012188"
     },
     "user_tz": 180
    },
    "id": "nE4L2iH5i1-4",
    "outputId": "90fcc17a-7268-4b64-b061-87b4f7263271"
   },
   "outputs": [
    {
     "data": {
      "text/html": [
       "<div>\n",
       "<style scoped>\n",
       "    .dataframe tbody tr th:only-of-type {\n",
       "        vertical-align: middle;\n",
       "    }\n",
       "\n",
       "    .dataframe tbody tr th {\n",
       "        vertical-align: top;\n",
       "    }\n",
       "\n",
       "    .dataframe thead th {\n",
       "        text-align: right;\n",
       "    }\n",
       "</style>\n",
       "<table border=\"1\" class=\"dataframe\">\n",
       "  <thead>\n",
       "    <tr style=\"text-align: right;\">\n",
       "      <th></th>\n",
       "      <th>garage</th>\n",
       "      <th>balcon</th>\n",
       "      <th>parrilla</th>\n",
       "      <th>piscina</th>\n",
       "      <th>terraza</th>\n",
       "      <th>patio</th>\n",
       "      <th>jardin</th>\n",
       "      <th>quincho</th>\n",
       "      <th>s.u.m.</th>\n",
       "      <th>amenities</th>\n",
       "      <th>baulera</th>\n",
       "      <th>gimnasio</th>\n",
       "      <th>subte-linea-d</th>\n",
       "      <th>subte-linea-b</th>\n",
       "      <th>subte-linea-a</th>\n",
       "      <th>subte-linea-h</th>\n",
       "      <th>subte-linea-e</th>\n",
       "    </tr>\n",
       "  </thead>\n",
       "  <tbody>\n",
       "    <tr>\n",
       "      <th>0</th>\n",
       "      <td>False</td>\n",
       "      <td>False</td>\n",
       "      <td>False</td>\n",
       "      <td>False</td>\n",
       "      <td>False</td>\n",
       "      <td>True</td>\n",
       "      <td>False</td>\n",
       "      <td>False</td>\n",
       "      <td>False</td>\n",
       "      <td>False</td>\n",
       "      <td>False</td>\n",
       "      <td>False</td>\n",
       "      <td>False</td>\n",
       "      <td>False</td>\n",
       "      <td>False</td>\n",
       "      <td>False</td>\n",
       "      <td>False</td>\n",
       "    </tr>\n",
       "    <tr>\n",
       "      <th>1</th>\n",
       "      <td>False</td>\n",
       "      <td>False</td>\n",
       "      <td>False</td>\n",
       "      <td>False</td>\n",
       "      <td>False</td>\n",
       "      <td>False</td>\n",
       "      <td>False</td>\n",
       "      <td>False</td>\n",
       "      <td>False</td>\n",
       "      <td>False</td>\n",
       "      <td>False</td>\n",
       "      <td>False</td>\n",
       "      <td>False</td>\n",
       "      <td>False</td>\n",
       "      <td>False</td>\n",
       "      <td>False</td>\n",
       "      <td>False</td>\n",
       "    </tr>\n",
       "    <tr>\n",
       "      <th>2</th>\n",
       "      <td>True</td>\n",
       "      <td>False</td>\n",
       "      <td>False</td>\n",
       "      <td>False</td>\n",
       "      <td>False</td>\n",
       "      <td>True</td>\n",
       "      <td>False</td>\n",
       "      <td>False</td>\n",
       "      <td>False</td>\n",
       "      <td>False</td>\n",
       "      <td>False</td>\n",
       "      <td>False</td>\n",
       "      <td>False</td>\n",
       "      <td>False</td>\n",
       "      <td>False</td>\n",
       "      <td>False</td>\n",
       "      <td>False</td>\n",
       "    </tr>\n",
       "    <tr>\n",
       "      <th>3</th>\n",
       "      <td>False</td>\n",
       "      <td>False</td>\n",
       "      <td>False</td>\n",
       "      <td>True</td>\n",
       "      <td>False</td>\n",
       "      <td>False</td>\n",
       "      <td>False</td>\n",
       "      <td>False</td>\n",
       "      <td>False</td>\n",
       "      <td>False</td>\n",
       "      <td>False</td>\n",
       "      <td>False</td>\n",
       "      <td>False</td>\n",
       "      <td>False</td>\n",
       "      <td>False</td>\n",
       "      <td>False</td>\n",
       "      <td>False</td>\n",
       "    </tr>\n",
       "    <tr>\n",
       "      <th>4</th>\n",
       "      <td>False</td>\n",
       "      <td>False</td>\n",
       "      <td>False</td>\n",
       "      <td>True</td>\n",
       "      <td>False</td>\n",
       "      <td>False</td>\n",
       "      <td>False</td>\n",
       "      <td>False</td>\n",
       "      <td>False</td>\n",
       "      <td>False</td>\n",
       "      <td>False</td>\n",
       "      <td>False</td>\n",
       "      <td>False</td>\n",
       "      <td>False</td>\n",
       "      <td>False</td>\n",
       "      <td>False</td>\n",
       "      <td>False</td>\n",
       "    </tr>\n",
       "    <tr>\n",
       "      <th>...</th>\n",
       "      <td>...</td>\n",
       "      <td>...</td>\n",
       "      <td>...</td>\n",
       "      <td>...</td>\n",
       "      <td>...</td>\n",
       "      <td>...</td>\n",
       "      <td>...</td>\n",
       "      <td>...</td>\n",
       "      <td>...</td>\n",
       "      <td>...</td>\n",
       "      <td>...</td>\n",
       "      <td>...</td>\n",
       "      <td>...</td>\n",
       "      <td>...</td>\n",
       "      <td>...</td>\n",
       "      <td>...</td>\n",
       "      <td>...</td>\n",
       "    </tr>\n",
       "    <tr>\n",
       "      <th>42712</th>\n",
       "      <td>False</td>\n",
       "      <td>False</td>\n",
       "      <td>True</td>\n",
       "      <td>True</td>\n",
       "      <td>False</td>\n",
       "      <td>False</td>\n",
       "      <td>False</td>\n",
       "      <td>False</td>\n",
       "      <td>False</td>\n",
       "      <td>False</td>\n",
       "      <td>False</td>\n",
       "      <td>False</td>\n",
       "      <td>False</td>\n",
       "      <td>False</td>\n",
       "      <td>False</td>\n",
       "      <td>False</td>\n",
       "      <td>False</td>\n",
       "    </tr>\n",
       "    <tr>\n",
       "      <th>42713</th>\n",
       "      <td>False</td>\n",
       "      <td>True</td>\n",
       "      <td>True</td>\n",
       "      <td>False</td>\n",
       "      <td>False</td>\n",
       "      <td>False</td>\n",
       "      <td>False</td>\n",
       "      <td>False</td>\n",
       "      <td>False</td>\n",
       "      <td>False</td>\n",
       "      <td>False</td>\n",
       "      <td>False</td>\n",
       "      <td>False</td>\n",
       "      <td>False</td>\n",
       "      <td>False</td>\n",
       "      <td>True</td>\n",
       "      <td>False</td>\n",
       "    </tr>\n",
       "    <tr>\n",
       "      <th>42714</th>\n",
       "      <td>True</td>\n",
       "      <td>True</td>\n",
       "      <td>True</td>\n",
       "      <td>True</td>\n",
       "      <td>False</td>\n",
       "      <td>False</td>\n",
       "      <td>False</td>\n",
       "      <td>True</td>\n",
       "      <td>False</td>\n",
       "      <td>False</td>\n",
       "      <td>False</td>\n",
       "      <td>False</td>\n",
       "      <td>False</td>\n",
       "      <td>False</td>\n",
       "      <td>False</td>\n",
       "      <td>False</td>\n",
       "      <td>False</td>\n",
       "    </tr>\n",
       "    <tr>\n",
       "      <th>42715</th>\n",
       "      <td>True</td>\n",
       "      <td>False</td>\n",
       "      <td>True</td>\n",
       "      <td>True</td>\n",
       "      <td>False</td>\n",
       "      <td>False</td>\n",
       "      <td>True</td>\n",
       "      <td>True</td>\n",
       "      <td>False</td>\n",
       "      <td>False</td>\n",
       "      <td>False</td>\n",
       "      <td>False</td>\n",
       "      <td>False</td>\n",
       "      <td>False</td>\n",
       "      <td>False</td>\n",
       "      <td>False</td>\n",
       "      <td>False</td>\n",
       "    </tr>\n",
       "    <tr>\n",
       "      <th>42716</th>\n",
       "      <td>True</td>\n",
       "      <td>True</td>\n",
       "      <td>True</td>\n",
       "      <td>False</td>\n",
       "      <td>True</td>\n",
       "      <td>False</td>\n",
       "      <td>False</td>\n",
       "      <td>False</td>\n",
       "      <td>False</td>\n",
       "      <td>True</td>\n",
       "      <td>False</td>\n",
       "      <td>False</td>\n",
       "      <td>False</td>\n",
       "      <td>False</td>\n",
       "      <td>False</td>\n",
       "      <td>False</td>\n",
       "      <td>False</td>\n",
       "    </tr>\n",
       "  </tbody>\n",
       "</table>\n",
       "<p>42717 rows × 17 columns</p>\n",
       "</div>"
      ],
      "text/plain": [
       "       garage  balcon  parrilla  piscina  terraza  patio  jardin  quincho  \\\n",
       "0       False   False     False    False    False   True   False    False   \n",
       "1       False   False     False    False    False  False   False    False   \n",
       "2        True   False     False    False    False   True   False    False   \n",
       "3       False   False     False     True    False  False   False    False   \n",
       "4       False   False     False     True    False  False   False    False   \n",
       "...       ...     ...       ...      ...      ...    ...     ...      ...   \n",
       "42712   False   False      True     True    False  False   False    False   \n",
       "42713   False    True      True    False    False  False   False    False   \n",
       "42714    True    True      True     True    False  False   False     True   \n",
       "42715    True   False      True     True    False  False    True     True   \n",
       "42716    True    True      True    False     True  False   False    False   \n",
       "\n",
       "       s.u.m.  amenities  baulera  gimnasio  subte-linea-d  subte-linea-b  \\\n",
       "0       False      False    False     False          False          False   \n",
       "1       False      False    False     False          False          False   \n",
       "2       False      False    False     False          False          False   \n",
       "3       False      False    False     False          False          False   \n",
       "4       False      False    False     False          False          False   \n",
       "...       ...        ...      ...       ...            ...            ...   \n",
       "42712   False      False    False     False          False          False   \n",
       "42713   False      False    False     False          False          False   \n",
       "42714   False      False    False     False          False          False   \n",
       "42715   False      False    False     False          False          False   \n",
       "42716   False       True    False     False          False          False   \n",
       "\n",
       "       subte-linea-a  subte-linea-h  subte-linea-e  \n",
       "0              False          False          False  \n",
       "1              False          False          False  \n",
       "2              False          False          False  \n",
       "3              False          False          False  \n",
       "4              False          False          False  \n",
       "...              ...            ...            ...  \n",
       "42712          False          False          False  \n",
       "42713          False           True          False  \n",
       "42714          False          False          False  \n",
       "42715          False          False          False  \n",
       "42716          False          False          False  \n",
       "\n",
       "[42717 rows x 17 columns]"
      ]
     },
     "execution_count": 37,
     "metadata": {},
     "output_type": "execute_result"
    }
   ],
   "source": [
    "#convierto resultado en dataframe, y renombro las columnas por la lista de palabras adicionales\n",
    "df = pd.DataFrame(resultado)\n",
    "df.columns = [\"garage\", \"balcon\", \"parrilla\", \"piscina\", \"terraza\", \"patio\", \"jardin\", \"quincho\", \"s.u.m.\", \"amenities\", \"baulera\", \"gimnasio\",\"subte-linea-d\", \"subte-linea-b\", \"subte-linea-a\", \"subte-linea-h\", \"subte-linea-e\"]\n",
    "df"
   ]
  },
  {
   "cell_type": "code",
   "execution_count": 38,
   "id": "6dcc4772",
   "metadata": {
    "id": "DHZhUj4uxYJA"
   },
   "outputs": [
    {
     "data": {
      "text/plain": [
       "Index(['property_type', 'state_name', 'place_name', 'place_with_parent_names',\n",
       "       'price_aprox_usd', 'surface_total_in_m2', 'surface_covered_in_m2',\n",
       "       'price_usd_per_m2', 'rooms', 'description', 'title', 'properati_url',\n",
       "       'garage', 'balcon', 'parrilla', 'piscina', 'terraza', 'patio', 'jardin',\n",
       "       'quincho', 's.u.m.', 'amenities', 'baulera', 'gimnasio',\n",
       "       'subte-linea-d', 'subte-linea-b', 'subte-linea-a', 'subte-linea-h',\n",
       "       'subte-linea-e'],\n",
       "      dtype='object')"
      ]
     },
     "execution_count": 38,
     "metadata": {},
     "output_type": "execute_result"
    }
   ],
   "source": [
    "#uno el dataframe original con el nuevo generado de true/false\n",
    "#data = pd.merge(data,df,left_index=True, right_index=True)\n",
    "data = data.join(df)\n",
    "data.columns\n",
    "#antes me puso los dos indices como resultado del merge, y tuve que sacar la primera columna\n",
    "#data.drop(columns=data.columns[0], axis=1,inplace=True)\n",
    "#data.columns"
   ]
  },
  {
   "cell_type": "code",
   "execution_count": 39,
   "id": "0d0c71ac",
   "metadata": {},
   "outputs": [
    {
     "data": {
      "text/plain": [
       "(42717, 29)"
      ]
     },
     "execution_count": 39,
     "metadata": {},
     "output_type": "execute_result"
    }
   ],
   "source": [
    "data.shape"
   ]
  },
  {
   "cell_type": "markdown",
   "id": "cfe5ed3c",
   "metadata": {
    "id": "f452ad15"
   },
   "source": [
    "## Dummies de State_name"
   ]
  },
  {
   "cell_type": "markdown",
   "id": "b3a50d4f",
   "metadata": {},
   "source": [
    "**creé las dummies sin drop_first para poder hacer el join**"
   ]
  },
  {
   "cell_type": "code",
   "execution_count": 40,
   "id": "e82226bd",
   "metadata": {},
   "outputs": [],
   "source": [
    "df_sn = pd.get_dummies(data[\"state_name\"])"
   ]
  },
  {
   "cell_type": "code",
   "execution_count": 41,
   "id": "8a5f200a",
   "metadata": {},
   "outputs": [
    {
     "data": {
      "text/plain": [
       "Index(['property_type', 'state_name', 'place_name', 'place_with_parent_names',\n",
       "       'price_aprox_usd', 'surface_total_in_m2', 'surface_covered_in_m2',\n",
       "       'price_usd_per_m2', 'rooms', 'description', 'title', 'properati_url',\n",
       "       'garage', 'balcon', 'parrilla', 'piscina', 'terraza', 'patio', 'jardin',\n",
       "       'quincho', 's.u.m.', 'amenities', 'baulera', 'gimnasio',\n",
       "       'subte-linea-d', 'subte-linea-b', 'subte-linea-a', 'subte-linea-h',\n",
       "       'subte-linea-e', 'Bs.As. G.B.A. Zona Norte', 'Bs.As. G.B.A. Zona Oeste',\n",
       "       'Bs.As. G.B.A. Zona Sur', 'Capital Federal'],\n",
       "      dtype='object')"
      ]
     },
     "execution_count": 41,
     "metadata": {},
     "output_type": "execute_result"
    }
   ],
   "source": [
    "data = data.join(df_sn)\n",
    "data.columns"
   ]
  },
  {
   "cell_type": "code",
   "execution_count": 42,
   "id": "797f5250",
   "metadata": {},
   "outputs": [
    {
     "data": {
      "text/plain": [
       "(42717, 33)"
      ]
     },
     "execution_count": 42,
     "metadata": {},
     "output_type": "execute_result"
    }
   ],
   "source": [
    "data.shape"
   ]
  },
  {
   "cell_type": "markdown",
   "id": "0907bd03",
   "metadata": {
    "heading_collapsed": "true"
   },
   "source": [
    "## Dummies place_name"
   ]
  },
  {
   "cell_type": "markdown",
   "id": "ff02e4b1",
   "metadata": {},
   "source": [
    "**creé las dummies sin drop_first para poder hacer el join**"
   ]
  },
  {
   "cell_type": "code",
   "execution_count": 43,
   "id": "e26aea83",
   "metadata": {},
   "outputs": [],
   "source": [
    "df_pn = pd.get_dummies(data[\"place_name\"], prefix=\"pn\")"
   ]
  },
  {
   "cell_type": "code",
   "execution_count": 44,
   "id": "4fc19fde",
   "metadata": {},
   "outputs": [
    {
     "data": {
      "text/plain": [
       "Index(['property_type', 'state_name', 'place_name', 'place_with_parent_names',\n",
       "       'price_aprox_usd', 'surface_total_in_m2', 'surface_covered_in_m2',\n",
       "       'price_usd_per_m2', 'rooms', 'description',\n",
       "       ...\n",
       "       'pn_Villa de Mayo', 'pn_Villa del Parque',\n",
       "       'pn_Village Golf & Tennis Country Club', 'pn_Virasoro Village',\n",
       "       'pn_Virrey del Pino', 'pn_Virreyes', 'pn_Wilde', 'pn_William Morris',\n",
       "       'pn_Zelaya', 'pn_coordenadas 34.255511'],\n",
       "      dtype='object', length=484)"
      ]
     },
     "execution_count": 44,
     "metadata": {},
     "output_type": "execute_result"
    }
   ],
   "source": [
    "data = data.join(df_pn)\n",
    "data.columns"
   ]
  },
  {
   "cell_type": "code",
   "execution_count": 45,
   "id": "8b818277",
   "metadata": {},
   "outputs": [
    {
     "data": {
      "text/plain": [
       "(42717, 484)"
      ]
     },
     "execution_count": 45,
     "metadata": {},
     "output_type": "execute_result"
    }
   ],
   "source": [
    "data.shape"
   ]
  },
  {
   "cell_type": "markdown",
   "id": "68cb5b11",
   "metadata": {
    "heading_collapsed": "true"
   },
   "source": [
    "## Elimino las columnas innecesarias y una de cada dummie"
   ]
  },
  {
   "cell_type": "code",
   "execution_count": 46,
   "id": "937f74f7",
   "metadata": {},
   "outputs": [],
   "source": [
    "#data = data.drop( axis = 1, columns = ['description', 'title', 'properati_url', 'Bs.As. G.B.A. Zona Sur','pn_Virreyes'], inplace= True)"
   ]
  },
  {
   "cell_type": "code",
   "execution_count": 47,
   "id": "a5495c92",
   "metadata": {},
   "outputs": [
    {
     "data": {
      "text/plain": [
       "(42717, 484)"
      ]
     },
     "execution_count": 47,
     "metadata": {},
     "output_type": "execute_result"
    }
   ],
   "source": [
    "data.shape"
   ]
  },
  {
   "cell_type": "markdown",
   "id": "8de322cb",
   "metadata": {
    "id": "befacdbf"
   },
   "source": [
    "# Inicio TP2"
   ]
  },
  {
   "cell_type": "code",
   "execution_count": 48,
   "id": "f64ae296",
   "metadata": {
    "id": "32391447"
   },
   "outputs": [],
   "source": [
    "# para exportar resultados\n",
    "data.to_csv(r'../data/properatti_tp2.csv', index = False, header=True)\n"
   ]
  },
  {
   "cell_type": "code",
   "execution_count": 49,
   "id": "c9b866d9",
   "metadata": {
    "id": "4918401f"
   },
   "outputs": [
    {
     "data": {
      "text/plain": [
       "(42717, 484)"
      ]
     },
     "execution_count": 49,
     "metadata": {},
     "output_type": "execute_result"
    }
   ],
   "source": [
    "#usar el nuevo dataset desde el archivo\n",
    "data = pd.read_csv(\"../data/properatti_tp2.csv\", sep = \",\", low_memory=False) \n",
    "#data.head(3)\n",
    "data.shape\n",
    "\n",
    "# Esto no haría falta, ¿o sí? Porque ya estaba almacenado en la variable data, se sobreescribe con lo mismo\n"
   ]
  }
 ],
 "metadata": {
  "colab": {
   "collapsed_sections": [
    "cdbfda03",
    "5eb9b770",
    "2fa218dc"
   ],
   "name": "Principal.ipynb",
   "provenance": []
  },
  "kernelspec": {
   "display_name": "Python 3 (ipykernel)",
   "language": "python",
   "name": "python3"
  },
  "language_info": {
   "codemirror_mode": {
    "name": "ipython",
    "version": 3
   },
   "file_extension": ".py",
   "mimetype": "text/x-python",
   "name": "python",
   "nbconvert_exporter": "python",
   "pygments_lexer": "ipython3",
   "version": "3.8.12"
  }
 },
 "nbformat": 4,
 "nbformat_minor": 5
}
