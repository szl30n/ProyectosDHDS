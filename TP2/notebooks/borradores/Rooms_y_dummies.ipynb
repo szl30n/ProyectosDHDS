{
 "cells": [
  {
   "cell_type": "markdown",
   "metadata": {
    "id": "HMXPbEkA3ux8"
   },
   "source": [
    "# **Preparacion del ambiente**"
   ]
  },
  {
   "cell_type": "code",
   "execution_count": 1,
   "metadata": {
    "colab": {
     "base_uri": "https://localhost:8080/"
    },
    "executionInfo": {
     "elapsed": 28538,
     "status": "ok",
     "timestamp": 1653013079062,
     "user": {
      "displayName": "Maela Lombardi",
      "userId": "03936068368896012188"
     },
     "user_tz": 180
    },
    "id": "2OGnnvMLC10Y",
    "outputId": "191c6994-2435-4a0d-ae47-65467b865ea6"
   },
   "outputs": [
    {
     "name": "stdout",
     "output_type": "stream",
     "text": [
      "Mounted at /content/drive\n"
     ]
    }
   ],
   "source": [
    "from google.colab import drive\n",
    "drive.mount('/content/drive')"
   ]
  },
  {
   "cell_type": "code",
   "execution_count": 2,
   "metadata": {
    "executionInfo": {
     "elapsed": 2852,
     "status": "ok",
     "timestamp": 1653013083224,
     "user": {
      "displayName": "Maela Lombardi",
      "userId": "03936068368896012188"
     },
     "user_tz": 180
    },
    "id": "lxTQ0hqxwBDO"
   },
   "outputs": [],
   "source": [
    "import numpy as np\n",
    "import pandas as pd\n",
    "import matplotlib.pyplot as plt\n",
    "#!pip install seaborn\n",
    "import seaborn as sns\n",
    "#!pip install plotly==5.7.0\n",
    "import plotly.express as px\n",
    "from numpy.ma.core import count"
   ]
  },
  {
   "cell_type": "code",
   "execution_count": 3,
   "metadata": {
    "executionInfo": {
     "elapsed": 4,
     "status": "ok",
     "timestamp": 1653013083225,
     "user": {
      "displayName": "Maela Lombardi",
      "userId": "03936068368896012188"
     },
     "user_tz": 180
    },
    "id": "3W8b-X55lUnt"
   },
   "outputs": [],
   "source": [
    "# agregamos código para que identifique más de un display en una celda\n",
    "from IPython.core.interactiveshell import InteractiveShell\n",
    "InteractiveShell.ast_node_interactivity = \"all\""
   ]
  },
  {
   "cell_type": "markdown",
   "metadata": {
    "id": "nuYSmKVC2J9H"
   },
   "source": [
    "# **Importación de los datos de properati**\n"
   ]
  },
  {
   "cell_type": "code",
   "execution_count": null,
   "metadata": {
    "id": "UO_Dclz3wGzh"
   },
   "outputs": [],
   "source": [
    "#leo el archivo de properati\n",
    "#en colab\n",
    "csv_path =\"/content/drive/MyDrive/DS - Curso/Clases/Desafio 1/Data/properatti.csv\"\n",
    "data = pd.read_csv(csv_path)\n",
    "\n",
    "#en jupyter\n",
    "#data = pd.read_csv(\"../../../data/properatti.csv\", sep = \",\", low_memory=False) \n",
    "#data.head(3)"
   ]
  },
  {
   "cell_type": "markdown",
   "metadata": {
    "id": "wipHmRxOD_Zo"
   },
   "source": [
    "## Completar info Habitaciones\n"
   ]
  },
  {
   "cell_type": "markdown",
   "metadata": {
    "id": "K4GrIpfeD_Zo"
   },
   "source": [
    "Comprobamos el tipo y los valores."
   ]
  },
  {
   "cell_type": "code",
   "execution_count": null,
   "metadata": {
    "colab": {
     "base_uri": "https://localhost:8080/"
    },
    "executionInfo": {
     "elapsed": 308,
     "status": "ok",
     "timestamp": 1653009986780,
     "user": {
      "displayName": "Maela Lombardi",
      "userId": "03936068368896012188"
     },
     "user_tz": 180
    },
    "id": "_gFyvCyrD_Zo",
    "outputId": "030eb50c-b338-4ff7-fd12-ccfebe2e4452"
   },
   "outputs": [
    {
     "name": "stdout",
     "output_type": "stream",
     "text": [
      "tipo  :  float64\n",
      "nulos :  73830\n"
     ]
    },
    {
     "data": {
      "text/plain": [
       "array([nan,  1.,  4.,  3.,  2.,  6.,  5., 10.,  7.,  9.,  8., 17., 22.,\n",
       "       15., 12., 11., 14., 16., 20., 13., 25., 19., 30., 18., 32., 24.,\n",
       "       31., 21., 29., 27., 23., 28.])"
      ]
     },
     "execution_count": 6,
     "metadata": {},
     "output_type": "execute_result"
    }
   ],
   "source": [
    "print(\"tipo  : \", data.rooms.dtype)\n",
    "print(\"nulos : \", data.rooms.isnull().sum())\n",
    "data.rooms.unique()"
   ]
  },
  {
   "cell_type": "code",
   "execution_count": null,
   "metadata": {
    "colab": {
     "base_uri": "https://localhost:8080/"
    },
    "executionInfo": {
     "elapsed": 315,
     "status": "ok",
     "timestamp": 1653010012836,
     "user": {
      "displayName": "Maela Lombardi",
      "userId": "03936068368896012188"
     },
     "user_tz": 180
    },
    "id": "VaP1XKWAD_Zo",
    "outputId": "034c1c61-89e5-4b44-fff3-d5a13279c38f"
   },
   "outputs": [
    {
     "name": "stdout",
     "output_type": "stream",
     "text": [
      "Total Registros \t\t\t 121220\n",
      "Total sin ambientes \t\t\t 73830\n",
      "Porcentaje sin ambientes \t\t 39.09  %\n"
     ]
    }
   ],
   "source": [
    "totalVentas = data.operation.notnull().sum()\n",
    "totalSinCuartos = data.rooms.isnull().sum()\n",
    "porcentajeSinCuartos = round( (totalVentas- totalSinCuartos) / totalVentas * 100, 2)\n",
    "print('Total Registros \\t\\t\\t', totalVentas )\n",
    "print('Total sin ambientes \\t\\t\\t', totalSinCuartos )\n",
    "print('Porcentaje sin ambientes \\t\\t', porcentajeSinCuartos, ' %' )\n"
   ]
  },
  {
   "cell_type": "markdown",
   "metadata": {
    "id": "dJ5UjwwcD_Zp"
   },
   "source": [
    "El dataset esta completo en un 39.09% para todas las propiedades, podemos hacer foco en los departamentos:\n"
   ]
  },
  {
   "cell_type": "markdown",
   "metadata": {
    "id": "HtOnVw0ND_Zq"
   },
   "source": [
    "A continuación se propone recuperar los datos faltantantes desde las columnas de título y descripción de la publicación. Ponemos en mayúscula los títulos y descripciones y hacemos una muestra de los que tienen incompletos `rooms`."
   ]
  },
  {
   "cell_type": "code",
   "execution_count": null,
   "metadata": {
    "colab": {
     "base_uri": "https://localhost:8080/",
     "height": 363
    },
    "executionInfo": {
     "elapsed": 1728,
     "status": "ok",
     "timestamp": 1653010131020,
     "user": {
      "displayName": "Maela Lombardi",
      "userId": "03936068368896012188"
     },
     "user_tz": 180
    },
    "id": "2nuavK7SD_Zq",
    "outputId": "1b5f6b7e-f99a-40fa-8265-61db4f8fc7da"
   },
   "outputs": [
    {
     "data": {
      "text/html": [
       "\n",
       "  <div id=\"df-f4f324a2-12dc-4801-af30-bda1c8f19995\">\n",
       "    <div class=\"colab-df-container\">\n",
       "      <div>\n",
       "<style scoped>\n",
       "    .dataframe tbody tr th:only-of-type {\n",
       "        vertical-align: middle;\n",
       "    }\n",
       "\n",
       "    .dataframe tbody tr th {\n",
       "        vertical-align: top;\n",
       "    }\n",
       "\n",
       "    .dataframe thead th {\n",
       "        text-align: right;\n",
       "    }\n",
       "</style>\n",
       "<table border=\"1\" class=\"dataframe\">\n",
       "  <thead>\n",
       "    <tr style=\"text-align: right;\">\n",
       "      <th></th>\n",
       "      <th>rooms</th>\n",
       "      <th>title</th>\n",
       "      <th>description</th>\n",
       "    </tr>\n",
       "  </thead>\n",
       "  <tbody>\n",
       "    <tr>\n",
       "      <th>19350</th>\n",
       "      <td>NaN</td>\n",
       "      <td>CASA 350M² CON 3 PLANTAS EN FERREYRA, ANDRES 4...</td>\n",
       "      <td>DISTINTA A TODAS!!! DI VI NA CASA MODERNA ESTI...</td>\n",
       "    </tr>\n",
       "    <tr>\n",
       "      <th>70903</th>\n",
       "      <td>NaN</td>\n",
       "      <td>DEPARTAMENTO EN P.CHACABUCO</td>\n",
       "      <td>AVISO LEGAL: LAS DESCRIPCIONES ARQUITECTÓNICAS...</td>\n",
       "    </tr>\n",
       "    <tr>\n",
       "      <th>28809</th>\n",
       "      <td>3.0</td>\n",
       "      <td>EXCELENTE CONTRAFRENTE CON VISTA VERDE EN VENT...</td>\n",
       "      <td>EXCELENTE CONTRAFRENTE EN MUY BUEN EDIFICIO.LI...</td>\n",
       "    </tr>\n",
       "    <tr>\n",
       "      <th>5899</th>\n",
       "      <td>4.0</td>\n",
       "      <td>DEPARTAMENTO A ESTRENAR DOS DORMITORIOS CON TE...</td>\n",
       "      <td>DEPARTAMENTO DE 2 DORMITORIOS CON AMPLIO BALCÓ...</td>\n",
       "    </tr>\n",
       "    <tr>\n",
       "      <th>63644</th>\n",
       "      <td>NaN</td>\n",
       "      <td>CASA ANTIGUA A RECICLAR DE 210 M2, SOBRE TERRE...</td>\n",
       "      <td>CHAJARI - CIUDAD DE TERMAS, EN LA RUTA DEL MER...</td>\n",
       "    </tr>\n",
       "    <tr>\n",
       "      <th>59157</th>\n",
       "      <td>4.0</td>\n",
       "      <td>EXCELENTE 4 AMB.-EDIFICIO DE CATEGORIA</td>\n",
       "      <td>\"VENTA EN COMUN CON GRUPOREAL S.A.\"-DPTO. 4 AM...</td>\n",
       "    </tr>\n",
       "    <tr>\n",
       "      <th>98589</th>\n",
       "      <td>NaN</td>\n",
       "      <td>DEPARTAMENTO - BROWN AL 2700 - PICHINCHA</td>\n",
       "      <td>GARCIA ANDREU-NEGOCIOS INMOBILIARIOS- OFRECE E...</td>\n",
       "    </tr>\n",
       "    <tr>\n",
       "      <th>85088</th>\n",
       "      <td>NaN</td>\n",
       "      <td>EXCELENTE CASA DE LADRILLO VISTA</td>\n",
       "      <td>CASA CON 2 DORMITORIOS (1 EN PLANTA ALTA Y OTR...</td>\n",
       "    </tr>\n",
       "    <tr>\n",
       "      <th>111284</th>\n",
       "      <td>3.0</td>\n",
       "      <td>DUPLEX 3 AMBIENTES HAEDO APTO CREDITO</td>\n",
       "      <td>CORREDOR RESPONSABLE: ELEONORA MEDEOT MINUJEN ...</td>\n",
       "    </tr>\n",
       "    <tr>\n",
       "      <th>86730</th>\n",
       "      <td>NaN</td>\n",
       "      <td>MONOAMBIENTE EN ALTURA APTO CREDITO-APTO PROF</td>\n",
       "      <td>ELEGANTE Y MODERNO EDIFICIO DE ASPECTO CLÁSICO...</td>\n",
       "    </tr>\n",
       "  </tbody>\n",
       "</table>\n",
       "</div>\n",
       "      <button class=\"colab-df-convert\" onclick=\"convertToInteractive('df-f4f324a2-12dc-4801-af30-bda1c8f19995')\"\n",
       "              title=\"Convert this dataframe to an interactive table.\"\n",
       "              style=\"display:none;\">\n",
       "        \n",
       "  <svg xmlns=\"http://www.w3.org/2000/svg\" height=\"24px\"viewBox=\"0 0 24 24\"\n",
       "       width=\"24px\">\n",
       "    <path d=\"M0 0h24v24H0V0z\" fill=\"none\"/>\n",
       "    <path d=\"M18.56 5.44l.94 2.06.94-2.06 2.06-.94-2.06-.94-.94-2.06-.94 2.06-2.06.94zm-11 1L8.5 8.5l.94-2.06 2.06-.94-2.06-.94L8.5 2.5l-.94 2.06-2.06.94zm10 10l.94 2.06.94-2.06 2.06-.94-2.06-.94-.94-2.06-.94 2.06-2.06.94z\"/><path d=\"M17.41 7.96l-1.37-1.37c-.4-.4-.92-.59-1.43-.59-.52 0-1.04.2-1.43.59L10.3 9.45l-7.72 7.72c-.78.78-.78 2.05 0 2.83L4 21.41c.39.39.9.59 1.41.59.51 0 1.02-.2 1.41-.59l7.78-7.78 2.81-2.81c.8-.78.8-2.07 0-2.86zM5.41 20L4 18.59l7.72-7.72 1.47 1.35L5.41 20z\"/>\n",
       "  </svg>\n",
       "      </button>\n",
       "      \n",
       "  <style>\n",
       "    .colab-df-container {\n",
       "      display:flex;\n",
       "      flex-wrap:wrap;\n",
       "      gap: 12px;\n",
       "    }\n",
       "\n",
       "    .colab-df-convert {\n",
       "      background-color: #E8F0FE;\n",
       "      border: none;\n",
       "      border-radius: 50%;\n",
       "      cursor: pointer;\n",
       "      display: none;\n",
       "      fill: #1967D2;\n",
       "      height: 32px;\n",
       "      padding: 0 0 0 0;\n",
       "      width: 32px;\n",
       "    }\n",
       "\n",
       "    .colab-df-convert:hover {\n",
       "      background-color: #E2EBFA;\n",
       "      box-shadow: 0px 1px 2px rgba(60, 64, 67, 0.3), 0px 1px 3px 1px rgba(60, 64, 67, 0.15);\n",
       "      fill: #174EA6;\n",
       "    }\n",
       "\n",
       "    [theme=dark] .colab-df-convert {\n",
       "      background-color: #3B4455;\n",
       "      fill: #D2E3FC;\n",
       "    }\n",
       "\n",
       "    [theme=dark] .colab-df-convert:hover {\n",
       "      background-color: #434B5C;\n",
       "      box-shadow: 0px 1px 3px 1px rgba(0, 0, 0, 0.15);\n",
       "      filter: drop-shadow(0px 1px 2px rgba(0, 0, 0, 0.3));\n",
       "      fill: #FFFFFF;\n",
       "    }\n",
       "  </style>\n",
       "\n",
       "      <script>\n",
       "        const buttonEl =\n",
       "          document.querySelector('#df-f4f324a2-12dc-4801-af30-bda1c8f19995 button.colab-df-convert');\n",
       "        buttonEl.style.display =\n",
       "          google.colab.kernel.accessAllowed ? 'block' : 'none';\n",
       "\n",
       "        async function convertToInteractive(key) {\n",
       "          const element = document.querySelector('#df-f4f324a2-12dc-4801-af30-bda1c8f19995');\n",
       "          const dataTable =\n",
       "            await google.colab.kernel.invokeFunction('convertToInteractive',\n",
       "                                                     [key], {});\n",
       "          if (!dataTable) return;\n",
       "\n",
       "          const docLinkHtml = 'Like what you see? Visit the ' +\n",
       "            '<a target=\"_blank\" href=https://colab.research.google.com/notebooks/data_table.ipynb>data table notebook</a>'\n",
       "            + ' to learn more about interactive tables.';\n",
       "          element.innerHTML = '';\n",
       "          dataTable['output_type'] = 'display_data';\n",
       "          await google.colab.output.renderOutput(dataTable, element);\n",
       "          const docLink = document.createElement('div');\n",
       "          docLink.innerHTML = docLinkHtml;\n",
       "          element.appendChild(docLink);\n",
       "        }\n",
       "      </script>\n",
       "    </div>\n",
       "  </div>\n",
       "  "
      ],
      "text/plain": [
       "        rooms                                              title  \\\n",
       "19350     NaN  CASA 350M² CON 3 PLANTAS EN FERREYRA, ANDRES 4...   \n",
       "70903     NaN                        DEPARTAMENTO EN P.CHACABUCO   \n",
       "28809     3.0  EXCELENTE CONTRAFRENTE CON VISTA VERDE EN VENT...   \n",
       "5899      4.0  DEPARTAMENTO A ESTRENAR DOS DORMITORIOS CON TE...   \n",
       "63644     NaN  CASA ANTIGUA A RECICLAR DE 210 M2, SOBRE TERRE...   \n",
       "59157     4.0             EXCELENTE 4 AMB.-EDIFICIO DE CATEGORIA   \n",
       "98589     NaN           DEPARTAMENTO - BROWN AL 2700 - PICHINCHA   \n",
       "85088     NaN                   EXCELENTE CASA DE LADRILLO VISTA   \n",
       "111284    3.0              DUPLEX 3 AMBIENTES HAEDO APTO CREDITO   \n",
       "86730     NaN      MONOAMBIENTE EN ALTURA APTO CREDITO-APTO PROF   \n",
       "\n",
       "                                              description  \n",
       "19350   DISTINTA A TODAS!!! DI VI NA CASA MODERNA ESTI...  \n",
       "70903   AVISO LEGAL: LAS DESCRIPCIONES ARQUITECTÓNICAS...  \n",
       "28809   EXCELENTE CONTRAFRENTE EN MUY BUEN EDIFICIO.LI...  \n",
       "5899    DEPARTAMENTO DE 2 DORMITORIOS CON AMPLIO BALCÓ...  \n",
       "63644   CHAJARI - CIUDAD DE TERMAS, EN LA RUTA DEL MER...  \n",
       "59157   \"VENTA EN COMUN CON GRUPOREAL S.A.\"-DPTO. 4 AM...  \n",
       "98589   GARCIA ANDREU-NEGOCIOS INMOBILIARIOS- OFRECE E...  \n",
       "85088   CASA CON 2 DORMITORIOS (1 EN PLANTA ALTA Y OTR...  \n",
       "111284  CORREDOR RESPONSABLE: ELEONORA MEDEOT MINUJEN ...  \n",
       "86730   ELEGANTE Y MODERNO EDIFICIO DE ASPECTO CLÁSICO...  "
      ]
     },
     "execution_count": 9,
     "metadata": {},
     "output_type": "execute_result"
    }
   ],
   "source": [
    "data['title'] = data.title.str.upper()\n",
    "data['description'] = data.description.str.upper()\n",
    "data[['rooms', 'title', 'description']].sample(10)"
   ]
  },
  {
   "cell_type": "markdown",
   "metadata": {
    "id": "GzDlZm_qD_Zr"
   },
   "source": [
    "Reemplazamos los números escritos como palabras y todas la variantes de llamar a los monoambientes por '1 AMBIENTE'."
   ]
  },
  {
   "cell_type": "code",
   "execution_count": null,
   "metadata": {
    "id": "JocAvLAtJ2FG"
   },
   "outputs": [],
   "source": [
    "reemplazo = {\"UNO\":\"1\", \"DOS\":\"2\", \"TRES\":\"3\", \"CUATRO\":\"4\", \"CINCO\":\"5\", \"SEIS\":\"6\", \"SIETE\":\"7\", \"OCHO\":\"8\", \"NUEVE\":\"9\", \"DIEZ\":\"10\", \"MONOAMBIENTE\":\"1 AMBIENTE\", \"UN\":\"1\", \"AMBIENTE DIVISIBLE\":\"1 AMBIENTE\", \"MONO AMBIENTE\": \"1 AMBIENTE\"}"
   ]
  },
  {
   "cell_type": "code",
   "execution_count": null,
   "metadata": {
    "colab": {
     "base_uri": "https://localhost:8080/",
     "height": 363
    },
    "executionInfo": {
     "elapsed": 279,
     "status": "error",
     "timestamp": 1653011690278,
     "user": {
      "displayName": "Maela Lombardi",
      "userId": "03936068368896012188"
     },
     "user_tz": 180
    },
    "id": "7hmqRiGsKt9C",
    "outputId": "e99e7780-35c3-4d79-9a21-838bfae0c861"
   },
   "outputs": [
    {
     "ename": "KeyError",
     "evalue": "ignored",
     "output_type": "error",
     "traceback": [
      "\u001b[0;31m---------------------------------------------------------------------------\u001b[0m",
      "\u001b[0;31mKeyError\u001b[0m                                  Traceback (most recent call last)",
      "\u001b[0;32m<ipython-input-31-59adcc1d9ab6>\u001b[0m in \u001b[0;36m<module>\u001b[0;34m()\u001b[0m\n\u001b[1;32m      1\u001b[0m \u001b[0;32mfor\u001b[0m \u001b[0mi\u001b[0m \u001b[0;32min\u001b[0m \u001b[0mdata\u001b[0m\u001b[0;34m.\u001b[0m\u001b[0mdescription\u001b[0m\u001b[0;34m:\u001b[0m\u001b[0;34m\u001b[0m\u001b[0;34m\u001b[0m\u001b[0m\n\u001b[0;32m----> 2\u001b[0;31m   \u001b[0mdata\u001b[0m\u001b[0;34m.\u001b[0m\u001b[0mdescription\u001b[0m\u001b[0;34m[\u001b[0m\u001b[0mi\u001b[0m\u001b[0;34m]\u001b[0m\u001b[0;34m.\u001b[0m\u001b[0mstr\u001b[0m\u001b[0;34m.\u001b[0m\u001b[0mreplace\u001b[0m\u001b[0;34m(\u001b[0m\u001b[0mreemplazo\u001b[0m\u001b[0;34m.\u001b[0m\u001b[0mkeys\u001b[0m\u001b[0;34m,\u001b[0m \u001b[0mreemplazo\u001b[0m\u001b[0;34m.\u001b[0m\u001b[0mvalues\u001b[0m\u001b[0;34m,\u001b[0m \u001b[0mregex\u001b[0m\u001b[0;34m=\u001b[0m\u001b[0;32mFalse\u001b[0m\u001b[0;34m)\u001b[0m\u001b[0;34m\u001b[0m\u001b[0;34m\u001b[0m\u001b[0m\n\u001b[0m",
      "\u001b[0;32m/usr/local/lib/python3.7/dist-packages/pandas/core/series.py\u001b[0m in \u001b[0;36m__getitem__\u001b[0;34m(self, key)\u001b[0m\n\u001b[1;32m    940\u001b[0m \u001b[0;34m\u001b[0m\u001b[0m\n\u001b[1;32m    941\u001b[0m         \u001b[0;32melif\u001b[0m \u001b[0mkey_is_scalar\u001b[0m\u001b[0;34m:\u001b[0m\u001b[0;34m\u001b[0m\u001b[0;34m\u001b[0m\u001b[0m\n\u001b[0;32m--> 942\u001b[0;31m             \u001b[0;32mreturn\u001b[0m \u001b[0mself\u001b[0m\u001b[0;34m.\u001b[0m\u001b[0m_get_value\u001b[0m\u001b[0;34m(\u001b[0m\u001b[0mkey\u001b[0m\u001b[0;34m)\u001b[0m\u001b[0;34m\u001b[0m\u001b[0;34m\u001b[0m\u001b[0m\n\u001b[0m\u001b[1;32m    943\u001b[0m \u001b[0;34m\u001b[0m\u001b[0m\n\u001b[1;32m    944\u001b[0m         \u001b[0;32mif\u001b[0m \u001b[0mis_hashable\u001b[0m\u001b[0;34m(\u001b[0m\u001b[0mkey\u001b[0m\u001b[0;34m)\u001b[0m\u001b[0;34m:\u001b[0m\u001b[0;34m\u001b[0m\u001b[0;34m\u001b[0m\u001b[0m\n",
      "\u001b[0;32m/usr/local/lib/python3.7/dist-packages/pandas/core/series.py\u001b[0m in \u001b[0;36m_get_value\u001b[0;34m(self, label, takeable)\u001b[0m\n\u001b[1;32m   1049\u001b[0m \u001b[0;34m\u001b[0m\u001b[0m\n\u001b[1;32m   1050\u001b[0m         \u001b[0;31m# Similar to Index.get_value, but we do not fall back to positional\u001b[0m\u001b[0;34m\u001b[0m\u001b[0;34m\u001b[0m\u001b[0;34m\u001b[0m\u001b[0m\n\u001b[0;32m-> 1051\u001b[0;31m         \u001b[0mloc\u001b[0m \u001b[0;34m=\u001b[0m \u001b[0mself\u001b[0m\u001b[0;34m.\u001b[0m\u001b[0mindex\u001b[0m\u001b[0;34m.\u001b[0m\u001b[0mget_loc\u001b[0m\u001b[0;34m(\u001b[0m\u001b[0mlabel\u001b[0m\u001b[0;34m)\u001b[0m\u001b[0;34m\u001b[0m\u001b[0;34m\u001b[0m\u001b[0m\n\u001b[0m\u001b[1;32m   1052\u001b[0m         \u001b[0;32mreturn\u001b[0m \u001b[0mself\u001b[0m\u001b[0;34m.\u001b[0m\u001b[0mindex\u001b[0m\u001b[0;34m.\u001b[0m\u001b[0m_get_values_for_loc\u001b[0m\u001b[0;34m(\u001b[0m\u001b[0mself\u001b[0m\u001b[0;34m,\u001b[0m \u001b[0mloc\u001b[0m\u001b[0;34m,\u001b[0m \u001b[0mlabel\u001b[0m\u001b[0;34m)\u001b[0m\u001b[0;34m\u001b[0m\u001b[0;34m\u001b[0m\u001b[0m\n\u001b[1;32m   1053\u001b[0m \u001b[0;34m\u001b[0m\u001b[0m\n",
      "\u001b[0;32m/usr/local/lib/python3.7/dist-packages/pandas/core/indexes/range.py\u001b[0m in \u001b[0;36mget_loc\u001b[0;34m(self, key, method, tolerance)\u001b[0m\n\u001b[1;32m    386\u001b[0m                 \u001b[0;32mexcept\u001b[0m \u001b[0mValueError\u001b[0m \u001b[0;32mas\u001b[0m \u001b[0merr\u001b[0m\u001b[0;34m:\u001b[0m\u001b[0;34m\u001b[0m\u001b[0;34m\u001b[0m\u001b[0m\n\u001b[1;32m    387\u001b[0m                     \u001b[0;32mraise\u001b[0m \u001b[0mKeyError\u001b[0m\u001b[0;34m(\u001b[0m\u001b[0mkey\u001b[0m\u001b[0;34m)\u001b[0m \u001b[0;32mfrom\u001b[0m \u001b[0merr\u001b[0m\u001b[0;34m\u001b[0m\u001b[0;34m\u001b[0m\u001b[0m\n\u001b[0;32m--> 388\u001b[0;31m             \u001b[0;32mraise\u001b[0m \u001b[0mKeyError\u001b[0m\u001b[0;34m(\u001b[0m\u001b[0mkey\u001b[0m\u001b[0;34m)\u001b[0m\u001b[0;34m\u001b[0m\u001b[0;34m\u001b[0m\u001b[0m\n\u001b[0m\u001b[1;32m    389\u001b[0m         \u001b[0;32mreturn\u001b[0m \u001b[0msuper\u001b[0m\u001b[0;34m(\u001b[0m\u001b[0;34m)\u001b[0m\u001b[0;34m.\u001b[0m\u001b[0mget_loc\u001b[0m\u001b[0;34m(\u001b[0m\u001b[0mkey\u001b[0m\u001b[0;34m,\u001b[0m \u001b[0mmethod\u001b[0m\u001b[0;34m=\u001b[0m\u001b[0mmethod\u001b[0m\u001b[0;34m,\u001b[0m \u001b[0mtolerance\u001b[0m\u001b[0;34m=\u001b[0m\u001b[0mtolerance\u001b[0m\u001b[0;34m)\u001b[0m\u001b[0;34m\u001b[0m\u001b[0;34m\u001b[0m\u001b[0m\n\u001b[1;32m    390\u001b[0m \u001b[0;34m\u001b[0m\u001b[0m\n",
      "\u001b[0;31mKeyError\u001b[0m: '2 AMBIENTES TIPO CASA PLANTA BAJA POR PASILLO, REFACCIONADO A NUEVO, PATIO GRANDE, CON LAVADERO, LIVING COMEDOR CON COCINA INTEGRADA, ARTEFACTO DE COCINA, ALACENA, BAÑO COMPLETO, Y DORMITORIO. TODO EN EXCELENTE ESTADO, PARA HABITAR.NO ES APTO CREDITO AVISO PUBLICADO POR PIXEL INMOBILIARIO (SERVICIO DE PÁGINAS WEB PARA INMOBILIARIAS).'"
     ]
    }
   ],
   "source": [
    "for i in data.description:\n",
    "  data.description[i].str.replace(reemplazo.keys, reemplazo.values, regex=False)"
   ]
  },
  {
   "cell_type": "code",
   "execution_count": null,
   "metadata": {
    "id": "cRpb5UXWD_Zr"
   },
   "outputs": [],
   "source": [
    "data.description = data.description.str.replace('UNO', '1', regex=False)\n",
    "data.description = data.description.str.replace('DOS', '2', regex=False)\n",
    "data.description = data.description.str.replace('TRES', '3', regex=False)\n",
    "data.description = data.description.str.replace('CUATRO', '4', regex=False)\n",
    "data.description = data.description.str.replace('CINCO', '5', regex=False)\n",
    "data.description = data.description.str.replace('SEIS', '6', regex=False)\n",
    "data.description = data.description.str.replace('SIETE', '7', regex=False)\n",
    "data.description = data.description.str.replace('OCHO', '8', regex=False)\n",
    "data.description = data.description.str.replace('NUEVE', '9', regex=False)\n",
    "data.description = data.description.str.replace('DIEZ', '10', regex=False)\n",
    "data.description = data.description.str.replace('MONOAMBIENTE', '1 AMBIENTE', regex=False)\n",
    "data.description = data.description.str.replace('MONOAMB', '1 AMBIENTE', regex=False)\n",
    "data.description = data.description.str.replace('UN', '1', regex=False)\n",
    "data.description = data.description.str.replace('AMBIENTE DIVISIBLE', '1 AMBIENTE', regex=False)\n",
    "data.description = data.description.str.replace('MONO AMBIENTE', '1 AMBIENTE', regex=False)\n",
    "\n",
    "data.title = data.title.str.replace('UNO', '1', regex=False)\n",
    "data.title = data.title.str.replace('DOS', '2', regex=False)\n",
    "data.title = data.title.str.replace('TRES', '3', regex=False)\n",
    "data.title = data.title.str.replace('CUATRO', '4', regex=False)\n",
    "data.title = data.title.str.replace('CINCO', '5', regex=False)\n",
    "data.title = data.title.str.replace('SEIS', '6', regex=False)\n",
    "data.title = data.title.str.replace('SIETE', '7', regex=False)\n",
    "data.title = data.title.str.replace('OCHO', '8', regex=False)\n",
    "data.title = data.title.str.replace('NUEVE', '9', regex=False)\n",
    "data.title = data.title.str.replace('DIEZ', '10', regex=False)\n",
    "data.title = data.title.str.replace('MONOAMBIENTE', '1 AMBIENTE', regex=False)\n",
    "data.title = data.title.str.replace('MONOAMB', '1 AMBIENTE', regex=False)\n",
    "data.title = data.title.str.replace('UN', '1', regex=False)\n",
    "data.title = data.title.str.replace('AMBIENTE DIVISIBLE', '1 AMBIENTE', regex=False)\n",
    "data.title = data.title.str.replace('MONO AMBIENTE', '1 AMBIENTE', regex=False)\n"
   ]
  },
  {
   "cell_type": "markdown",
   "metadata": {
    "id": "9uay4HWvD_Zr"
   },
   "source": [
    "Recuperamos los ambientes desde título, descripción y actualizamos rooms."
   ]
  },
  {
   "cell_type": "code",
   "execution_count": null,
   "metadata": {
    "colab": {
     "base_uri": "https://localhost:8080/"
    },
    "executionInfo": {
     "elapsed": 1531,
     "status": "ok",
     "timestamp": 1653010349239,
     "user": {
      "displayName": "Maela Lombardi",
      "userId": "03936068368896012188"
     },
     "user_tz": 180
    },
    "id": "_A_1RC1TD_Zs",
    "outputId": "d8b990cc-c92c-4163-9cf0-076ca023fd86"
   },
   "outputs": [
    {
     "name": "stderr",
     "output_type": "stream",
     "text": [
      "/usr/local/lib/python3.7/dist-packages/pandas/core/generic.py:5516: SettingWithCopyWarning: \n",
      "A value is trying to be set on a copy of a slice from a DataFrame.\n",
      "Try using .loc[row_indexer,col_indexer] = value instead\n",
      "\n",
      "See the caveats in the documentation: https://pandas.pydata.org/pandas-docs/stable/user_guide/indexing.html#returning-a-view-versus-a-copy\n",
      "  self[name] = value\n"
     ]
    }
   ],
   "source": [
    "controlRooms = data[(data.rooms.isnull())]\n",
    "controlRooms.rooms = controlRooms.description.str.extract(\"(\\d+) AMB\").astype(float)\n",
    "data.update(controlRooms)"
   ]
  },
  {
   "cell_type": "code",
   "execution_count": null,
   "metadata": {
    "colab": {
     "base_uri": "https://localhost:8080/"
    },
    "executionInfo": {
     "elapsed": 774,
     "status": "ok",
     "timestamp": 1653010725259,
     "user": {
      "displayName": "Maela Lombardi",
      "userId": "03936068368896012188"
     },
     "user_tz": 180
    },
    "id": "_egDtQ9LD_Zs",
    "outputId": "b97041b4-2fca-4cbc-9b75-8aa9ec9b3fe8"
   },
   "outputs": [
    {
     "name": "stderr",
     "output_type": "stream",
     "text": [
      "/usr/local/lib/python3.7/dist-packages/pandas/core/generic.py:5516: SettingWithCopyWarning: \n",
      "A value is trying to be set on a copy of a slice from a DataFrame.\n",
      "Try using .loc[row_indexer,col_indexer] = value instead\n",
      "\n",
      "See the caveats in the documentation: https://pandas.pydata.org/pandas-docs/stable/user_guide/indexing.html#returning-a-view-versus-a-copy\n",
      "  self[name] = value\n"
     ]
    }
   ],
   "source": [
    "controlRooms = data[(data.rooms.isnull()) ]\n",
    "controlRooms.rooms = controlRooms.title.str.extract(\"(\\d+) AMB\").astype(float)\n",
    "data.update(controlRooms)"
   ]
  },
  {
   "cell_type": "code",
   "execution_count": null,
   "metadata": {
    "colab": {
     "base_uri": "https://localhost:8080/"
    },
    "executionInfo": {
     "elapsed": 1271,
     "status": "ok",
     "timestamp": 1653010729725,
     "user": {
      "displayName": "Maela Lombardi",
      "userId": "03936068368896012188"
     },
     "user_tz": 180
    },
    "id": "Y6pll96WD_Zs",
    "outputId": "21fb99fc-7883-4e23-d34d-d90d962bd310"
   },
   "outputs": [
    {
     "name": "stderr",
     "output_type": "stream",
     "text": [
      "/usr/local/lib/python3.7/dist-packages/pandas/core/generic.py:5516: SettingWithCopyWarning: \n",
      "A value is trying to be set on a copy of a slice from a DataFrame.\n",
      "Try using .loc[row_indexer,col_indexer] = value instead\n",
      "\n",
      "See the caveats in the documentation: https://pandas.pydata.org/pandas-docs/stable/user_guide/indexing.html#returning-a-view-versus-a-copy\n",
      "  self[name] = value\n"
     ]
    }
   ],
   "source": [
    "controlRooms = data[(data.rooms.isnull()) ]\n",
    "controlRooms.rooms = controlRooms.description.str.extract(\"(\\d+) DORM\").astype(float) + 1\n",
    "data.update(controlRooms)"
   ]
  },
  {
   "cell_type": "code",
   "execution_count": null,
   "metadata": {
    "colab": {
     "base_uri": "https://localhost:8080/"
    },
    "executionInfo": {
     "elapsed": 1010,
     "status": "ok",
     "timestamp": 1653010732943,
     "user": {
      "displayName": "Maela Lombardi",
      "userId": "03936068368896012188"
     },
     "user_tz": 180
    },
    "id": "0kCRalQoD_Zs",
    "outputId": "f3828b00-b1d9-42c5-d24a-d58fb63b70e2"
   },
   "outputs": [
    {
     "name": "stderr",
     "output_type": "stream",
     "text": [
      "/usr/local/lib/python3.7/dist-packages/pandas/core/generic.py:5516: SettingWithCopyWarning: \n",
      "A value is trying to be set on a copy of a slice from a DataFrame.\n",
      "Try using .loc[row_indexer,col_indexer] = value instead\n",
      "\n",
      "See the caveats in the documentation: https://pandas.pydata.org/pandas-docs/stable/user_guide/indexing.html#returning-a-view-versus-a-copy\n",
      "  self[name] = value\n"
     ]
    }
   ],
   "source": [
    "controlRooms = data[(data.rooms.isnull()) ]\n",
    "controlRooms.rooms = controlRooms.title.str.extract(\"(\\d+) DORM\").astype(float) + 1\n",
    "data.update(controlRooms)"
   ]
  },
  {
   "cell_type": "code",
   "execution_count": null,
   "metadata": {
    "colab": {
     "base_uri": "https://localhost:8080/"
    },
    "executionInfo": {
     "elapsed": 283,
     "status": "ok",
     "timestamp": 1653010734654,
     "user": {
      "displayName": "Maela Lombardi",
      "userId": "03936068368896012188"
     },
     "user_tz": 180
    },
    "id": "qFfiZbobD_Zs",
    "outputId": "cac8473a-593d-4ff1-bc22-cab1ede4708b"
   },
   "outputs": [
    {
     "name": "stderr",
     "output_type": "stream",
     "text": [
      "/usr/local/lib/python3.7/dist-packages/pandas/core/generic.py:5516: SettingWithCopyWarning: \n",
      "A value is trying to be set on a copy of a slice from a DataFrame.\n",
      "Try using .loc[row_indexer,col_indexer] = value instead\n",
      "\n",
      "See the caveats in the documentation: https://pandas.pydata.org/pandas-docs/stable/user_guide/indexing.html#returning-a-view-versus-a-copy\n",
      "  self[name] = value\n"
     ]
    }
   ],
   "source": [
    "controlRooms = data[(data.rooms.isnull()) ]\n",
    "controlRooms.rooms = controlRooms.title.str.extract(\"(\\d+)AMB\").astype(float)\n",
    "data.update(controlRooms)"
   ]
  },
  {
   "cell_type": "code",
   "execution_count": null,
   "metadata": {
    "colab": {
     "base_uri": "https://localhost:8080/"
    },
    "executionInfo": {
     "elapsed": 714,
     "status": "ok",
     "timestamp": 1653010737196,
     "user": {
      "displayName": "Maela Lombardi",
      "userId": "03936068368896012188"
     },
     "user_tz": 180
    },
    "id": "ezWtM6q8D_Zs",
    "outputId": "78465143-0853-4788-d1ed-6838c1fed1f8"
   },
   "outputs": [
    {
     "name": "stderr",
     "output_type": "stream",
     "text": [
      "/usr/local/lib/python3.7/dist-packages/pandas/core/generic.py:5516: SettingWithCopyWarning: \n",
      "A value is trying to be set on a copy of a slice from a DataFrame.\n",
      "Try using .loc[row_indexer,col_indexer] = value instead\n",
      "\n",
      "See the caveats in the documentation: https://pandas.pydata.org/pandas-docs/stable/user_guide/indexing.html#returning-a-view-versus-a-copy\n",
      "  self[name] = value\n"
     ]
    }
   ],
   "source": [
    "controlRooms = data[(data.rooms.isnull()) ]\n",
    "controlRooms.rooms = controlRooms.description.str.extract(\"(\\d+)AMB\").astype(float)\n",
    "data.update(controlRooms)"
   ]
  },
  {
   "cell_type": "code",
   "execution_count": null,
   "metadata": {
    "colab": {
     "base_uri": "https://localhost:8080/"
    },
    "executionInfo": {
     "elapsed": 276,
     "status": "ok",
     "timestamp": 1653010739150,
     "user": {
      "displayName": "Maela Lombardi",
      "userId": "03936068368896012188"
     },
     "user_tz": 180
    },
    "id": "jHUHSJeWD_Zt",
    "outputId": "ecfa42ce-bc1f-4066-9a32-3824408bdb4c"
   },
   "outputs": [
    {
     "name": "stderr",
     "output_type": "stream",
     "text": [
      "/usr/local/lib/python3.7/dist-packages/pandas/core/generic.py:5516: SettingWithCopyWarning: \n",
      "A value is trying to be set on a copy of a slice from a DataFrame.\n",
      "Try using .loc[row_indexer,col_indexer] = value instead\n",
      "\n",
      "See the caveats in the documentation: https://pandas.pydata.org/pandas-docs/stable/user_guide/indexing.html#returning-a-view-versus-a-copy\n",
      "  self[name] = value\n"
     ]
    }
   ],
   "source": [
    "controlRooms = data[(data.rooms.isnull()) ]\n",
    "controlRooms.rooms = controlRooms.title.str.extract(\"(\\d+)DORM\").astype(float) + 1\n",
    "data.update(controlRooms)"
   ]
  },
  {
   "cell_type": "code",
   "execution_count": null,
   "metadata": {
    "colab": {
     "base_uri": "https://localhost:8080/"
    },
    "executionInfo": {
     "elapsed": 757,
     "status": "ok",
     "timestamp": 1653010741725,
     "user": {
      "displayName": "Maela Lombardi",
      "userId": "03936068368896012188"
     },
     "user_tz": 180
    },
    "id": "cc30-_wuD_Zt",
    "outputId": "2d009648-4e48-4544-ac2a-c2e56d2124e6"
   },
   "outputs": [
    {
     "name": "stderr",
     "output_type": "stream",
     "text": [
      "/usr/local/lib/python3.7/dist-packages/pandas/core/generic.py:5516: SettingWithCopyWarning: \n",
      "A value is trying to be set on a copy of a slice from a DataFrame.\n",
      "Try using .loc[row_indexer,col_indexer] = value instead\n",
      "\n",
      "See the caveats in the documentation: https://pandas.pydata.org/pandas-docs/stable/user_guide/indexing.html#returning-a-view-versus-a-copy\n",
      "  self[name] = value\n"
     ]
    }
   ],
   "source": [
    "controlRooms = data[(data.rooms.isnull()) ]\n",
    "controlRooms.rooms = controlRooms.description.str.extract(\"(\\d+) DORM\").astype(float) + 1\n",
    "data.update(controlRooms)"
   ]
  },
  {
   "cell_type": "code",
   "execution_count": null,
   "metadata": {
    "colab": {
     "base_uri": "https://localhost:8080/"
    },
    "executionInfo": {
     "elapsed": 707,
     "status": "ok",
     "timestamp": 1653010744819,
     "user": {
      "displayName": "Maela Lombardi",
      "userId": "03936068368896012188"
     },
     "user_tz": 180
    },
    "id": "eSy4AA8pD_Zt",
    "outputId": "29ecb3c1-3d23-4ec6-f0d5-586373c44e4b"
   },
   "outputs": [
    {
     "name": "stderr",
     "output_type": "stream",
     "text": [
      "/usr/local/lib/python3.7/dist-packages/pandas/core/generic.py:5516: SettingWithCopyWarning: \n",
      "A value is trying to be set on a copy of a slice from a DataFrame.\n",
      "Try using .loc[row_indexer,col_indexer] = value instead\n",
      "\n",
      "See the caveats in the documentation: https://pandas.pydata.org/pandas-docs/stable/user_guide/indexing.html#returning-a-view-versus-a-copy\n",
      "  self[name] = value\n"
     ]
    }
   ],
   "source": [
    "controlRooms = data[(data.rooms.isnull()) ]\n",
    "controlRooms.rooms = controlRooms.title.str.extract(\"(\\d+)HABITACIO\").astype(float) + 1\n",
    "data.update(controlRooms)"
   ]
  },
  {
   "cell_type": "code",
   "execution_count": null,
   "metadata": {
    "id": "64PchdGKD_Zt"
   },
   "outputs": [],
   "source": [
    "controlRooms = data[(data.rooms.isnull()) ]\n",
    "controlRooms.rooms = controlRooms.title.str.extract(\"(\\d+) HABITACIO\").astype(float) + 1\n",
    "data.update(controlRooms)"
   ]
  },
  {
   "cell_type": "code",
   "execution_count": null,
   "metadata": {
    "colab": {
     "base_uri": "https://localhost:8080/"
    },
    "executionInfo": {
     "elapsed": 720,
     "status": "ok",
     "timestamp": 1653010753308,
     "user": {
      "displayName": "Maela Lombardi",
      "userId": "03936068368896012188"
     },
     "user_tz": 180
    },
    "id": "-lLn5Mt7D_Zt",
    "outputId": "d6ac5f76-b8f2-43df-a561-df316ec744ae"
   },
   "outputs": [
    {
     "name": "stderr",
     "output_type": "stream",
     "text": [
      "/usr/local/lib/python3.7/dist-packages/pandas/core/generic.py:5516: SettingWithCopyWarning: \n",
      "A value is trying to be set on a copy of a slice from a DataFrame.\n",
      "Try using .loc[row_indexer,col_indexer] = value instead\n",
      "\n",
      "See the caveats in the documentation: https://pandas.pydata.org/pandas-docs/stable/user_guide/indexing.html#returning-a-view-versus-a-copy\n",
      "  self[name] = value\n"
     ]
    }
   ],
   "source": [
    "controlRooms = data[(data.rooms.isnull()) ]\n",
    "controlRooms.rooms = controlRooms.description.str.extract(\"(\\d+)HABITACIO\").astype(float) + 1\n",
    "data.update(controlRooms)"
   ]
  },
  {
   "cell_type": "code",
   "execution_count": null,
   "metadata": {
    "colab": {
     "base_uri": "https://localhost:8080/"
    },
    "executionInfo": {
     "elapsed": 710,
     "status": "ok",
     "timestamp": 1653010755820,
     "user": {
      "displayName": "Maela Lombardi",
      "userId": "03936068368896012188"
     },
     "user_tz": 180
    },
    "id": "gCE9ddiAD_Zt",
    "outputId": "b3c83a27-e28c-4760-8cac-6ff1c4facdd4"
   },
   "outputs": [
    {
     "name": "stderr",
     "output_type": "stream",
     "text": [
      "/usr/local/lib/python3.7/dist-packages/pandas/core/generic.py:5516: SettingWithCopyWarning: \n",
      "A value is trying to be set on a copy of a slice from a DataFrame.\n",
      "Try using .loc[row_indexer,col_indexer] = value instead\n",
      "\n",
      "See the caveats in the documentation: https://pandas.pydata.org/pandas-docs/stable/user_guide/indexing.html#returning-a-view-versus-a-copy\n",
      "  self[name] = value\n"
     ]
    }
   ],
   "source": [
    "controlRooms = data[(data.rooms.isnull()) ]\n",
    "controlRooms.rooms = controlRooms.description.str.extract(\"(\\d+) HABITACIO\").astype(float) + 1\n",
    "data.update(controlRooms)"
   ]
  },
  {
   "cell_type": "code",
   "execution_count": null,
   "metadata": {
    "colab": {
     "base_uri": "https://localhost:8080/",
     "height": 363
    },
    "executionInfo": {
     "elapsed": 9,
     "status": "ok",
     "timestamp": 1653010771267,
     "user": {
      "displayName": "Maela Lombardi",
      "userId": "03936068368896012188"
     },
     "user_tz": 180
    },
    "id": "pV3CkiZAD_Zt",
    "outputId": "409bd3bc-3042-4f8e-a900-68490397c48d"
   },
   "outputs": [
    {
     "data": {
      "text/html": [
       "\n",
       "  <div id=\"df-59277c73-27d4-4f9e-9747-f75e5a4ffd04\">\n",
       "    <div class=\"colab-df-container\">\n",
       "      <div>\n",
       "<style scoped>\n",
       "    .dataframe tbody tr th:only-of-type {\n",
       "        vertical-align: middle;\n",
       "    }\n",
       "\n",
       "    .dataframe tbody tr th {\n",
       "        vertical-align: top;\n",
       "    }\n",
       "\n",
       "    .dataframe thead th {\n",
       "        text-align: right;\n",
       "    }\n",
       "</style>\n",
       "<table border=\"1\" class=\"dataframe\">\n",
       "  <thead>\n",
       "    <tr style=\"text-align: right;\">\n",
       "      <th></th>\n",
       "      <th>rooms</th>\n",
       "      <th>title</th>\n",
       "      <th>description</th>\n",
       "    </tr>\n",
       "  </thead>\n",
       "  <tbody>\n",
       "    <tr>\n",
       "      <th>108499</th>\n",
       "      <td>NaN</td>\n",
       "      <td>DEPARTAMENTO - LA PLATA</td>\n",
       "      <td>AL FRENTE, PRIMER PISO POR ESCALERA, MUY BUEN ...</td>\n",
       "    </tr>\n",
       "    <tr>\n",
       "      <th>13777</th>\n",
       "      <td>NaN</td>\n",
       "      <td>VENTA LOCAL CON ENTREPISO APARTAMENTOS DEL CAMPUS</td>\n",
       "      <td>LOCAL A LA VENTA DENTRO DEL COMPLEJO APARTAMEN...</td>\n",
       "    </tr>\n",
       "    <tr>\n",
       "      <th>117303</th>\n",
       "      <td>NaN</td>\n",
       "      <td>DEPARTAMENTO - COGHLAN</td>\n",
       "      <td>DEPARTAMENTO 40M² CON LUMINOSO EN MONROE AV. 3...</td>\n",
       "    </tr>\n",
       "    <tr>\n",
       "      <th>55836</th>\n",
       "      <td>NaN</td>\n",
       "      <td>DEPARTAMENTO EN VENTA</td>\n",
       "      <td>INSTALACIÓN ELECTRICA NUEVA, PREPARADA PARA 3 ...</td>\n",
       "    </tr>\n",
       "    <tr>\n",
       "      <th>90402</th>\n",
       "      <td>NaN</td>\n",
       "      <td>DEPARTAMENTO - CENTRO</td>\n",
       "      <td>DEPARTAMENTO CON ELECTRICIDAD, CÓRDOBA, CÓRDOB...</td>\n",
       "    </tr>\n",
       "    <tr>\n",
       "      <th>117731</th>\n",
       "      <td>NaN</td>\n",
       "      <td>LOCAL - NUEVA CORDOBA</td>\n",
       "      <td>CARACTERISTICAS - LOCAL CON 19,40 M2 PROPIOS (...</td>\n",
       "    </tr>\n",
       "    <tr>\n",
       "      <th>106355</th>\n",
       "      <td>NaN</td>\n",
       "      <td>LOCAL - EL BOLSON</td>\n",
       "      <td>FONDO DE COMERCIO DE FOTOGRAFÍA, REGALERIA Y E...</td>\n",
       "    </tr>\n",
       "    <tr>\n",
       "      <th>105248</th>\n",
       "      <td>NaN</td>\n",
       "      <td>CASA - CO1TRIES/B.CERRADO</td>\n",
       "      <td>CASA 300M² CON ELECTRICIDAD, TUCUMÁN, YERBA BUENA</td>\n",
       "    </tr>\n",
       "    <tr>\n",
       "      <th>85437</th>\n",
       "      <td>NaN</td>\n",
       "      <td>CASA EN MONTE GRANDE</td>\n",
       "      <td>EXCELENTE PROPIEDAD EN MUY BUENA UBICACIÓN DES...</td>\n",
       "    </tr>\n",
       "    <tr>\n",
       "      <th>104527</th>\n",
       "      <td>NaN</td>\n",
       "      <td>LOCAL - EL BOLSON</td>\n",
       "      <td>CONSULTORIO MEDICO DE 12,5M2,  N° 8 EN INSTITU...</td>\n",
       "    </tr>\n",
       "  </tbody>\n",
       "</table>\n",
       "</div>\n",
       "      <button class=\"colab-df-convert\" onclick=\"convertToInteractive('df-59277c73-27d4-4f9e-9747-f75e5a4ffd04')\"\n",
       "              title=\"Convert this dataframe to an interactive table.\"\n",
       "              style=\"display:none;\">\n",
       "        \n",
       "  <svg xmlns=\"http://www.w3.org/2000/svg\" height=\"24px\"viewBox=\"0 0 24 24\"\n",
       "       width=\"24px\">\n",
       "    <path d=\"M0 0h24v24H0V0z\" fill=\"none\"/>\n",
       "    <path d=\"M18.56 5.44l.94 2.06.94-2.06 2.06-.94-2.06-.94-.94-2.06-.94 2.06-2.06.94zm-11 1L8.5 8.5l.94-2.06 2.06-.94-2.06-.94L8.5 2.5l-.94 2.06-2.06.94zm10 10l.94 2.06.94-2.06 2.06-.94-2.06-.94-.94-2.06-.94 2.06-2.06.94z\"/><path d=\"M17.41 7.96l-1.37-1.37c-.4-.4-.92-.59-1.43-.59-.52 0-1.04.2-1.43.59L10.3 9.45l-7.72 7.72c-.78.78-.78 2.05 0 2.83L4 21.41c.39.39.9.59 1.41.59.51 0 1.02-.2 1.41-.59l7.78-7.78 2.81-2.81c.8-.78.8-2.07 0-2.86zM5.41 20L4 18.59l7.72-7.72 1.47 1.35L5.41 20z\"/>\n",
       "  </svg>\n",
       "      </button>\n",
       "      \n",
       "  <style>\n",
       "    .colab-df-container {\n",
       "      display:flex;\n",
       "      flex-wrap:wrap;\n",
       "      gap: 12px;\n",
       "    }\n",
       "\n",
       "    .colab-df-convert {\n",
       "      background-color: #E8F0FE;\n",
       "      border: none;\n",
       "      border-radius: 50%;\n",
       "      cursor: pointer;\n",
       "      display: none;\n",
       "      fill: #1967D2;\n",
       "      height: 32px;\n",
       "      padding: 0 0 0 0;\n",
       "      width: 32px;\n",
       "    }\n",
       "\n",
       "    .colab-df-convert:hover {\n",
       "      background-color: #E2EBFA;\n",
       "      box-shadow: 0px 1px 2px rgba(60, 64, 67, 0.3), 0px 1px 3px 1px rgba(60, 64, 67, 0.15);\n",
       "      fill: #174EA6;\n",
       "    }\n",
       "\n",
       "    [theme=dark] .colab-df-convert {\n",
       "      background-color: #3B4455;\n",
       "      fill: #D2E3FC;\n",
       "    }\n",
       "\n",
       "    [theme=dark] .colab-df-convert:hover {\n",
       "      background-color: #434B5C;\n",
       "      box-shadow: 0px 1px 3px 1px rgba(0, 0, 0, 0.15);\n",
       "      filter: drop-shadow(0px 1px 2px rgba(0, 0, 0, 0.3));\n",
       "      fill: #FFFFFF;\n",
       "    }\n",
       "  </style>\n",
       "\n",
       "      <script>\n",
       "        const buttonEl =\n",
       "          document.querySelector('#df-59277c73-27d4-4f9e-9747-f75e5a4ffd04 button.colab-df-convert');\n",
       "        buttonEl.style.display =\n",
       "          google.colab.kernel.accessAllowed ? 'block' : 'none';\n",
       "\n",
       "        async function convertToInteractive(key) {\n",
       "          const element = document.querySelector('#df-59277c73-27d4-4f9e-9747-f75e5a4ffd04');\n",
       "          const dataTable =\n",
       "            await google.colab.kernel.invokeFunction('convertToInteractive',\n",
       "                                                     [key], {});\n",
       "          if (!dataTable) return;\n",
       "\n",
       "          const docLinkHtml = 'Like what you see? Visit the ' +\n",
       "            '<a target=\"_blank\" href=https://colab.research.google.com/notebooks/data_table.ipynb>data table notebook</a>'\n",
       "            + ' to learn more about interactive tables.';\n",
       "          element.innerHTML = '';\n",
       "          dataTable['output_type'] = 'display_data';\n",
       "          await google.colab.output.renderOutput(dataTable, element);\n",
       "          const docLink = document.createElement('div');\n",
       "          docLink.innerHTML = docLinkHtml;\n",
       "          element.appendChild(docLink);\n",
       "        }\n",
       "      </script>\n",
       "    </div>\n",
       "  </div>\n",
       "  "
      ],
      "text/plain": [
       "        rooms                                              title  \\\n",
       "108499    NaN                            DEPARTAMENTO - LA PLATA   \n",
       "13777     NaN  VENTA LOCAL CON ENTREPISO APARTAMENTOS DEL CAMPUS   \n",
       "117303    NaN                             DEPARTAMENTO - COGHLAN   \n",
       "55836     NaN                              DEPARTAMENTO EN VENTA   \n",
       "90402     NaN                              DEPARTAMENTO - CENTRO   \n",
       "117731    NaN                              LOCAL - NUEVA CORDOBA   \n",
       "106355    NaN                                  LOCAL - EL BOLSON   \n",
       "105248    NaN                          CASA - CO1TRIES/B.CERRADO   \n",
       "85437     NaN                               CASA EN MONTE GRANDE   \n",
       "104527    NaN                                  LOCAL - EL BOLSON   \n",
       "\n",
       "                                              description  \n",
       "108499  AL FRENTE, PRIMER PISO POR ESCALERA, MUY BUEN ...  \n",
       "13777   LOCAL A LA VENTA DENTRO DEL COMPLEJO APARTAMEN...  \n",
       "117303  DEPARTAMENTO 40M² CON LUMINOSO EN MONROE AV. 3...  \n",
       "55836   INSTALACIÓN ELECTRICA NUEVA, PREPARADA PARA 3 ...  \n",
       "90402   DEPARTAMENTO CON ELECTRICIDAD, CÓRDOBA, CÓRDOB...  \n",
       "117731  CARACTERISTICAS - LOCAL CON 19,40 M2 PROPIOS (...  \n",
       "106355  FONDO DE COMERCIO DE FOTOGRAFÍA, REGALERIA Y E...  \n",
       "105248  CASA 300M² CON ELECTRICIDAD, TUCUMÁN, YERBA BUENA  \n",
       "85437   EXCELENTE PROPIEDAD EN MUY BUENA UBICACIÓN DES...  \n",
       "104527  CONSULTORIO MEDICO DE 12,5M2,  N° 8 EN INSTITU...  "
      ]
     },
     "execution_count": 25,
     "metadata": {},
     "output_type": "execute_result"
    }
   ],
   "source": [
    "controlRooms = data[(data.rooms.isnull()) ].sample(10)\n",
    "controlRooms[['rooms', 'title', 'description']]"
   ]
  },
  {
   "cell_type": "markdown",
   "metadata": {
    "id": "JCEajwylD_Zu"
   },
   "source": [
    "Volvemos a controlar luego del proceso el grado de llenado de la columna"
   ]
  },
  {
   "cell_type": "code",
   "execution_count": null,
   "metadata": {
    "colab": {
     "base_uri": "https://localhost:8080/"
    },
    "executionInfo": {
     "elapsed": 416,
     "status": "ok",
     "timestamp": 1653010837210,
     "user": {
      "displayName": "Maela Lombardi",
      "userId": "03936068368896012188"
     },
     "user_tz": 180
    },
    "id": "gqMQWxJuD_Zu",
    "outputId": "d25b76d1-4a37-4848-cf71-fd67b1f172d0"
   },
   "outputs": [
    {
     "name": "stdout",
     "output_type": "stream",
     "text": [
      "Total Registros \t\t\t 121220\n",
      "Total sin Ambientes \t\t\t 16117\n",
      "Porcentaje con ambientes \t\t 86.7  %\n"
     ]
    }
   ],
   "source": [
    "totalVentas = data.operation.notnull().sum()\n",
    "totalSinCuartos = data.rooms.isnull().sum()\n",
    "porcentajeSinCuartos = round( (totalVentas- totalSinCuartos) / totalVentas * 100, 2)\n",
    "print('Total Registros \\t\\t\\t', totalVentas )\n",
    "print('Total sin Ambientes \\t\\t\\t', totalSinCuartos )\n",
    "print('Porcentaje con ambientes \\t\\t', porcentajeSinCuartos, ' %' )"
   ]
  },
  {
   "cell_type": "markdown",
   "metadata": {
    "id": "U-Ge9uyjD_Zu"
   },
   "source": [
    "Luego del proceso se paso del 39,09 % de llenado para todas las propiedades del data set al 86,7 %. Veamos que pasa para cada tipo de propiedad"
   ]
  },
  {
   "cell_type": "markdown",
   "metadata": {
    "id": "sQiLoaO10blt"
   },
   "source": [
    "# COLUMNAS DUMMIES"
   ]
  },
  {
   "cell_type": "markdown",
   "metadata": {
    "id": "iv79nG5uacrd"
   },
   "source": [
    "### Creamos columnas con amenities adicionales que tendrán utilidad para predecir variación de precios.\n",
    "\n"
   ]
  },
  {
   "cell_type": "code",
   "execution_count": null,
   "metadata": {
    "id": "TZJ2mBI0d3UN"
   },
   "outputs": [],
   "source": [
    "#fracciono la columna properti_url para sacar la nube de palabras mas repetidas\n",
    "import re\n",
    "patron_url = re.compile(pattern=\"_\", flags =re.IGNORECASE)\n",
    "lista_url = data[\"properati_url\"].apply(lambda x : patron_url.split(x))\n",
    "serie_palabras = pd.Series(np.hstack(lista_url))\n",
    "#serie_palabras.value_counts().head(20).plot(kind=\"bar\")\n"
   ]
  },
  {
   "cell_type": "code",
   "execution_count": null,
   "metadata": {
    "colab": {
     "base_uri": "https://localhost:8080/"
    },
    "executionInfo": {
     "elapsed": 277,
     "status": "ok",
     "timestamp": 1653012657001,
     "user": {
      "displayName": "Maela Lombardi",
      "userId": "03936068368896012188"
     },
     "user_tz": 180
    },
    "id": "-fq0FwrK0FMR",
    "outputId": "78a2025c-5b32-4625-f200-82f2862afbf2"
   },
   "outputs": [
    {
     "data": {
      "text/plain": [
       "venta                            121086\n",
       "departamento                      71019\n",
       "garage                            56620\n",
       "lavadero                          44034\n",
       "balcon                            42286\n",
       "casa                              40196\n",
       "parrilla                          33381\n",
       "piscina                           32146\n",
       "luminoso                          31865\n",
       "suite                             27101\n",
       "placard                           26145\n",
       "terraza                           25101\n",
       "toilette                          22841\n",
       "patio                             21168\n",
       "vestidor                          18011\n",
       "jardin                            17131\n",
       "quincho                           12848\n",
       "aire-acondicionado                12763\n",
       "sum                               11665\n",
       "dependencias                      11316\n",
       "amenities                         10607\n",
       "baulera                           10512\n",
       "estrenar                          10379\n",
       "vista                             10011\n",
       "gimnasio                           9363\n",
       "cordoba                            9302\n",
       "lujoso                             9251\n",
       "rosario                            8501\n",
       "hidromasaje                        7637\n",
       "mar-del-plata                      6585\n",
       "ph                                 5729\n",
       "subte-linea-d                      5652\n",
       "apto-credito-hipotecario           5489\n",
       "impecable                          5340\n",
       "amoblado                           4569\n",
       "subte-linea-b                      4567\n",
       "local                              4124\n",
       "losa-radiante                      4022\n",
       "sauna                              3917\n",
       "subte-linea-a                      3908\n",
       "tigre                              3468\n",
       "nordelta                           3400\n",
       "belgrano                           3092\n",
       "subte-linea-h                      3087\n",
       "palermo                            2910\n",
       "subte-linea-e                      2658\n",
       "la-plata                           2541\n",
       "tenis                              2528\n",
       "sergio-villella-bienes-raices      2403\n",
       "gfv                                2319\n",
       "dtype: int64"
      ]
     },
     "execution_count": 38,
     "metadata": {},
     "output_type": "execute_result"
    }
   ],
   "source": [
    "serie_palabras.value_counts().head(50)"
   ]
  },
  {
   "cell_type": "code",
   "execution_count": null,
   "metadata": {
    "id": "Jk22xPJZa9pm"
   },
   "outputs": [],
   "source": [
    "# a partir de la nube de palabras selecciono las que son buenos adicionales\n",
    "adicionales = [\"garage\", \"balcon\", \"parrilla\", \"piscina\", \"terraza\", \"patio\", \"jardin\", \"quincho\", \"sum\", \"amenities\", \"baulera\", \"gimnasio\", \"subte-linea-d\", \"subte-linea-b\", \"subte-linea-a\", \"subte-linea-h\", \"subte-linea-e\" ]\n"
   ]
  },
  {
   "cell_type": "code",
   "execution_count": null,
   "metadata": {
    "id": "cSivTSfQoiyj"
   },
   "outputs": [],
   "source": [
    "#elimino el primer elemento de lista_url para no tener el elemento con el http: etc\n",
    "for sublist in lista_url:\n",
    "  del sublist[0]"
   ]
  },
  {
   "cell_type": "code",
   "execution_count": null,
   "metadata": {
    "colab": {
     "base_uri": "https://localhost:8080/"
    },
    "executionInfo": {
     "elapsed": 6,
     "status": "ok",
     "timestamp": 1651431280039,
     "user": {
      "displayName": "Maela Lombardi",
      "userId": "03936068368896012188"
     },
     "user_tz": 180
    },
    "id": "ZmKJ4I_wlwxh",
    "outputId": "49a1a07b-36cd-4d86-9004-f168b551c1d1"
   },
   "outputs": [
    {
     "data": {
      "text/plain": [
       "0         [venta, ph, mataderos, lavadero, patio, inmobi...\n",
       "1         [venta, departamentos, la-plata, balcon, lavad...\n",
       "2         [venta, departamentos, mataderos, lavadero, pl...\n",
       "3                   [venta, ph, liniers, patio, g-goffredo]\n",
       "4         [venta, departamentos, centro, cristina-pavone...\n",
       "                                ...                        \n",
       "121215    [venta, departamento, belgrano, balcon, suite,...\n",
       "121216    [venta, casa, beccar, suite, hidromasaje, jard...\n",
       "121217    [venta, departamento, villa-urquiza, holmberg,...\n",
       "121218    [venta, departamento, plaza-colon, lavadero, l...\n",
       "121219    [venta, departamento, capital-federal, baulera...\n",
       "Name: properati_url, Length: 121220, dtype: object"
      ]
     },
     "execution_count": 157,
     "metadata": {},
     "output_type": "execute_result"
    }
   ],
   "source": [
    "lista_url"
   ]
  },
  {
   "cell_type": "code",
   "execution_count": null,
   "metadata": {
    "id": "6xTQyApPl1_c"
   },
   "outputs": [],
   "source": [
    "#creo una función que compare la lista de palabras con la lista de listas\n",
    "#y me da como resultado una lista de listas de palabras true/false segun coincida o no \n",
    "def buscador_palabras(quebuscar, dondebuscar):\n",
    "  listadeextras = []\n",
    "  for listas in dondebuscar:\n",
    "    extras = []\n",
    "    for palabra in quebuscar:\n",
    "      if palabra in listas:\n",
    "        extras.append(True)\n",
    "      else:\n",
    "        extras.append(False)\n",
    "    listadeextras.append(extras)\n",
    "  #print(listadeextras)\n",
    "  return listadeextras     "
   ]
  },
  {
   "cell_type": "code",
   "execution_count": null,
   "metadata": {
    "colab": {
     "base_uri": "https://localhost:8080/"
    },
    "executionInfo": {
     "elapsed": 862,
     "status": "ok",
     "timestamp": 1651431280900,
     "user": {
      "displayName": "Maela Lombardi",
      "userId": "03936068368896012188"
     },
     "user_tz": 180
    },
    "id": "QKvkph_HnmMP",
    "outputId": "694bb379-1473-4e3a-dc79-a905264d2952"
   },
   "outputs": [
    {
     "data": {
      "text/plain": [
       "121220"
      ]
     },
     "execution_count": 159,
     "metadata": {},
     "output_type": "execute_result"
    }
   ],
   "source": [
    "#aplico la funcion a mi lista \"adicionales\" y \"lista_url\"\n",
    "#chequeo que tenga la misma longitud de data\n",
    "resultado = buscador_palabras(adicionales,lista_url)\n",
    "len(resultado)"
   ]
  },
  {
   "cell_type": "code",
   "execution_count": null,
   "metadata": {
    "colab": {
     "base_uri": "https://localhost:8080/",
     "height": 423
    },
    "executionInfo": {
     "elapsed": 13,
     "status": "ok",
     "timestamp": 1651431280900,
     "user": {
      "displayName": "Maela Lombardi",
      "userId": "03936068368896012188"
     },
     "user_tz": 180
    },
    "id": "nE4L2iH5i1-4",
    "outputId": "90fcc17a-7268-4b64-b061-87b4f7263271"
   },
   "outputs": [
    {
     "data": {
      "text/html": [
       "<div>\n",
       "<style scoped>\n",
       "    .dataframe tbody tr th:only-of-type {\n",
       "        vertical-align: middle;\n",
       "    }\n",
       "\n",
       "    .dataframe tbody tr th {\n",
       "        vertical-align: top;\n",
       "    }\n",
       "\n",
       "    .dataframe thead th {\n",
       "        text-align: right;\n",
       "    }\n",
       "</style>\n",
       "<table border=\"1\" class=\"dataframe\">\n",
       "  <thead>\n",
       "    <tr style=\"text-align: right;\">\n",
       "      <th></th>\n",
       "      <th>garage</th>\n",
       "      <th>balcon</th>\n",
       "      <th>parrilla</th>\n",
       "      <th>piscina</th>\n",
       "      <th>terraza</th>\n",
       "      <th>patio</th>\n",
       "      <th>jardin</th>\n",
       "      <th>quincho</th>\n",
       "      <th>s.u.m.</th>\n",
       "      <th>amenities</th>\n",
       "      <th>baulera</th>\n",
       "      <th>gimnasio</th>\n",
       "    </tr>\n",
       "  </thead>\n",
       "  <tbody>\n",
       "    <tr>\n",
       "      <th>0</th>\n",
       "      <td>False</td>\n",
       "      <td>False</td>\n",
       "      <td>False</td>\n",
       "      <td>False</td>\n",
       "      <td>False</td>\n",
       "      <td>True</td>\n",
       "      <td>False</td>\n",
       "      <td>False</td>\n",
       "      <td>False</td>\n",
       "      <td>False</td>\n",
       "      <td>False</td>\n",
       "      <td>False</td>\n",
       "    </tr>\n",
       "    <tr>\n",
       "      <th>1</th>\n",
       "      <td>True</td>\n",
       "      <td>True</td>\n",
       "      <td>False</td>\n",
       "      <td>False</td>\n",
       "      <td>False</td>\n",
       "      <td>False</td>\n",
       "      <td>False</td>\n",
       "      <td>False</td>\n",
       "      <td>False</td>\n",
       "      <td>False</td>\n",
       "      <td>False</td>\n",
       "      <td>False</td>\n",
       "    </tr>\n",
       "    <tr>\n",
       "      <th>2</th>\n",
       "      <td>False</td>\n",
       "      <td>False</td>\n",
       "      <td>False</td>\n",
       "      <td>False</td>\n",
       "      <td>False</td>\n",
       "      <td>False</td>\n",
       "      <td>False</td>\n",
       "      <td>False</td>\n",
       "      <td>False</td>\n",
       "      <td>False</td>\n",
       "      <td>False</td>\n",
       "      <td>False</td>\n",
       "    </tr>\n",
       "    <tr>\n",
       "      <th>3</th>\n",
       "      <td>False</td>\n",
       "      <td>False</td>\n",
       "      <td>False</td>\n",
       "      <td>False</td>\n",
       "      <td>False</td>\n",
       "      <td>True</td>\n",
       "      <td>False</td>\n",
       "      <td>False</td>\n",
       "      <td>False</td>\n",
       "      <td>False</td>\n",
       "      <td>False</td>\n",
       "      <td>False</td>\n",
       "    </tr>\n",
       "    <tr>\n",
       "      <th>4</th>\n",
       "      <td>False</td>\n",
       "      <td>False</td>\n",
       "      <td>False</td>\n",
       "      <td>False</td>\n",
       "      <td>False</td>\n",
       "      <td>False</td>\n",
       "      <td>False</td>\n",
       "      <td>False</td>\n",
       "      <td>False</td>\n",
       "      <td>False</td>\n",
       "      <td>False</td>\n",
       "      <td>False</td>\n",
       "    </tr>\n",
       "    <tr>\n",
       "      <th>...</th>\n",
       "      <td>...</td>\n",
       "      <td>...</td>\n",
       "      <td>...</td>\n",
       "      <td>...</td>\n",
       "      <td>...</td>\n",
       "      <td>...</td>\n",
       "      <td>...</td>\n",
       "      <td>...</td>\n",
       "      <td>...</td>\n",
       "      <td>...</td>\n",
       "      <td>...</td>\n",
       "      <td>...</td>\n",
       "    </tr>\n",
       "    <tr>\n",
       "      <th>121215</th>\n",
       "      <td>True</td>\n",
       "      <td>True</td>\n",
       "      <td>True</td>\n",
       "      <td>True</td>\n",
       "      <td>False</td>\n",
       "      <td>False</td>\n",
       "      <td>False</td>\n",
       "      <td>True</td>\n",
       "      <td>False</td>\n",
       "      <td>False</td>\n",
       "      <td>False</td>\n",
       "      <td>False</td>\n",
       "    </tr>\n",
       "    <tr>\n",
       "      <th>121216</th>\n",
       "      <td>True</td>\n",
       "      <td>False</td>\n",
       "      <td>True</td>\n",
       "      <td>True</td>\n",
       "      <td>False</td>\n",
       "      <td>False</td>\n",
       "      <td>True</td>\n",
       "      <td>True</td>\n",
       "      <td>False</td>\n",
       "      <td>False</td>\n",
       "      <td>False</td>\n",
       "      <td>False</td>\n",
       "    </tr>\n",
       "    <tr>\n",
       "      <th>121217</th>\n",
       "      <td>True</td>\n",
       "      <td>True</td>\n",
       "      <td>True</td>\n",
       "      <td>False</td>\n",
       "      <td>True</td>\n",
       "      <td>False</td>\n",
       "      <td>False</td>\n",
       "      <td>False</td>\n",
       "      <td>False</td>\n",
       "      <td>True</td>\n",
       "      <td>False</td>\n",
       "      <td>False</td>\n",
       "    </tr>\n",
       "    <tr>\n",
       "      <th>121218</th>\n",
       "      <td>False</td>\n",
       "      <td>False</td>\n",
       "      <td>False</td>\n",
       "      <td>False</td>\n",
       "      <td>False</td>\n",
       "      <td>False</td>\n",
       "      <td>False</td>\n",
       "      <td>False</td>\n",
       "      <td>False</td>\n",
       "      <td>False</td>\n",
       "      <td>False</td>\n",
       "      <td>False</td>\n",
       "    </tr>\n",
       "    <tr>\n",
       "      <th>121219</th>\n",
       "      <td>False</td>\n",
       "      <td>False</td>\n",
       "      <td>False</td>\n",
       "      <td>False</td>\n",
       "      <td>False</td>\n",
       "      <td>False</td>\n",
       "      <td>False</td>\n",
       "      <td>False</td>\n",
       "      <td>False</td>\n",
       "      <td>False</td>\n",
       "      <td>True</td>\n",
       "      <td>False</td>\n",
       "    </tr>\n",
       "  </tbody>\n",
       "</table>\n",
       "<p>121220 rows × 12 columns</p>\n",
       "</div>"
      ],
      "text/plain": [
       "        garage  balcon  parrilla  piscina  terraza  patio  jardin  quincho  \\\n",
       "0        False   False     False    False    False   True   False    False   \n",
       "1         True    True     False    False    False  False   False    False   \n",
       "2        False   False     False    False    False  False   False    False   \n",
       "3        False   False     False    False    False   True   False    False   \n",
       "4        False   False     False    False    False  False   False    False   \n",
       "...        ...     ...       ...      ...      ...    ...     ...      ...   \n",
       "121215    True    True      True     True    False  False   False     True   \n",
       "121216    True   False      True     True    False  False    True     True   \n",
       "121217    True    True      True    False     True  False   False    False   \n",
       "121218   False   False     False    False    False  False   False    False   \n",
       "121219   False   False     False    False    False  False   False    False   \n",
       "\n",
       "        s.u.m.  amenities  baulera  gimnasio  \n",
       "0        False      False    False     False  \n",
       "1        False      False    False     False  \n",
       "2        False      False    False     False  \n",
       "3        False      False    False     False  \n",
       "4        False      False    False     False  \n",
       "...        ...        ...      ...       ...  \n",
       "121215   False      False    False     False  \n",
       "121216   False      False    False     False  \n",
       "121217   False       True    False     False  \n",
       "121218   False      False    False     False  \n",
       "121219   False      False     True     False  \n",
       "\n",
       "[121220 rows x 12 columns]"
      ]
     },
     "execution_count": 160,
     "metadata": {},
     "output_type": "execute_result"
    }
   ],
   "source": [
    "#convierto resultado en dataframe, y renombro las columnas por la lista de palabras adicionales\n",
    "df = pd.DataFrame(resultado)\n",
    "df.columns = [\"garage\", \"balcon\", \"parrilla\", \"piscina\", \"terraza\", \"patio\", \"jardin\", \"quincho\", \"s.u.m.\", \"amenities\", \"baulera\", \"gimnasio\",\"subte-linea-d\", \"subte-linea-b\", \"subte-linea-a\", \"subte-linea-h\", \"subte-linea-e\"]\n",
    "df"
   ]
  },
  {
   "cell_type": "code",
   "execution_count": null,
   "metadata": {
    "id": "DHZhUj4uxYJA"
   },
   "outputs": [],
   "source": [
    "#uno el dataframe original con el nuevo generado de true/false\n",
    "data = pd.merge(data,df,left_index=True, right_index=True)\n",
    "data.columns\n",
    "#antes me puso los dos indices como resultado del merge, y tuve que sacar la primera columna\n",
    "#data.drop(columns=data.columns[0], axis=1,inplace=True)\n",
    "#data.columns"
   ]
  }
 ],
 "metadata": {
  "colab": {
   "collapsed_sections": [
    "wipHmRxOD_Zo",
    "iv79nG5uacrd"
   ],
   "name": "Rooms y dummies.ipynb",
   "provenance": []
  },
  "interpreter": {
   "hash": "07ad563c6c100133d3911bd17dbe454dbfdab792a93b10a38a834bd0d63e4aeb"
  },
  "kernelspec": {
   "display_name": "Python 3 (ipykernel)",
   "language": "python",
   "name": "python3"
  },
  "language_info": {
   "codemirror_mode": {
    "name": "ipython",
    "version": 3
   },
   "file_extension": ".py",
   "mimetype": "text/x-python",
   "name": "python",
   "nbconvert_exporter": "python",
   "pygments_lexer": "ipython3",
   "version": "3.8.12"
  }
 },
 "nbformat": 4,
 "nbformat_minor": 4
}
