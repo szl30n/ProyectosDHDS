{
 "cells": [
  {
   "cell_type": "markdown",
   "id": "4bfddc03",
   "metadata": {},
   "source": [
    "# **1. Importación de *modules***"
   ]
  },
  {
   "cell_type": "code",
   "execution_count": 1,
   "id": "8d63e945",
   "metadata": {},
   "outputs": [],
   "source": [
    "import numpy as np\n",
    "import pandas as pd\n",
    "import seaborn as sns\n",
    "import matplotlib.pyplot as plt\n",
    "import plotly.express as px\n",
    "from sklearn.linear_model import LinearRegression\n",
    "from sklearn.model_selection import train_test_split\n",
    "from sklearn.metrics import mean_absolute_error, mean_squared_error, r2_score\n",
    "from IPython.core.interactiveshell import InteractiveShell\n",
    "InteractiveShell.ast_node_interactivity = \"all\""
   ]
  },
  {
   "cell_type": "markdown",
   "id": "44f3c216",
   "metadata": {},
   "source": [
    "# **2. Importación del dataset *properatti_tp2.csv***"
   ]
  },
  {
   "cell_type": "code",
   "execution_count": 2,
   "id": "42af5482",
   "metadata": {},
   "outputs": [
    {
     "data": {
      "text/html": [
       "<div>\n",
       "<style scoped>\n",
       "    .dataframe tbody tr th:only-of-type {\n",
       "        vertical-align: middle;\n",
       "    }\n",
       "\n",
       "    .dataframe tbody tr th {\n",
       "        vertical-align: top;\n",
       "    }\n",
       "\n",
       "    .dataframe thead th {\n",
       "        text-align: right;\n",
       "    }\n",
       "</style>\n",
       "<table border=\"1\" class=\"dataframe\">\n",
       "  <thead>\n",
       "    <tr style=\"text-align: right;\">\n",
       "      <th></th>\n",
       "      <th>property_type</th>\n",
       "      <th>state_name</th>\n",
       "      <th>place_with_parent_names</th>\n",
       "      <th>price_aprox_usd</th>\n",
       "      <th>surface_total_in_m2</th>\n",
       "      <th>surface_covered_in_m2</th>\n",
       "      <th>price_usd_per_m2</th>\n",
       "      <th>price_per_m2</th>\n",
       "      <th>rooms</th>\n",
       "      <th>description</th>\n",
       "      <th>...</th>\n",
       "      <th>s.u.m.</th>\n",
       "      <th>amenities</th>\n",
       "      <th>baulera</th>\n",
       "      <th>gimnasio</th>\n",
       "      <th>subte-linea-d</th>\n",
       "      <th>subte-linea-b</th>\n",
       "      <th>subte-linea-a</th>\n",
       "      <th>subte-linea-h</th>\n",
       "      <th>subte-linea-e</th>\n",
       "      <th>price_state</th>\n",
       "    </tr>\n",
       "  </thead>\n",
       "  <tbody>\n",
       "    <tr>\n",
       "      <th>0</th>\n",
       "      <td>PH</td>\n",
       "      <td>Capital Federal</td>\n",
       "      <td>|Argentina|Capital Federal|Mataderos|</td>\n",
       "      <td>62000.0</td>\n",
       "      <td>55.0</td>\n",
       "      <td>40.0</td>\n",
       "      <td>1127.272727</td>\n",
       "      <td>1550.000000</td>\n",
       "      <td>2.0</td>\n",
       "      <td>2 AMBIENTES TIPO CASA PLANTA BAJA POR PASILLO,...</td>\n",
       "      <td>...</td>\n",
       "      <td>False</td>\n",
       "      <td>False</td>\n",
       "      <td>False</td>\n",
       "      <td>False</td>\n",
       "      <td>False</td>\n",
       "      <td>False</td>\n",
       "      <td>False</td>\n",
       "      <td>False</td>\n",
       "      <td>False</td>\n",
       "      <td>134.214298</td>\n",
       "    </tr>\n",
       "    <tr>\n",
       "      <th>1</th>\n",
       "      <td>apartment</td>\n",
       "      <td>Bs.As. G.B.A. Zona Sur</td>\n",
       "      <td>|Argentina|Bs.As. G.B.A. Zona Sur|La Plata|</td>\n",
       "      <td>150000.0</td>\n",
       "      <td>NaN</td>\n",
       "      <td>NaN</td>\n",
       "      <td>NaN</td>\n",
       "      <td>NaN</td>\n",
       "      <td>3.0</td>\n",
       "      <td>VENTA DE DEPARTAMENTO EN DÉCIMO PISO AL FRENTE...</td>\n",
       "      <td>...</td>\n",
       "      <td>False</td>\n",
       "      <td>False</td>\n",
       "      <td>False</td>\n",
       "      <td>False</td>\n",
       "      <td>False</td>\n",
       "      <td>False</td>\n",
       "      <td>False</td>\n",
       "      <td>False</td>\n",
       "      <td>False</td>\n",
       "      <td>226.743900</td>\n",
       "    </tr>\n",
       "    <tr>\n",
       "      <th>2</th>\n",
       "      <td>apartment</td>\n",
       "      <td>Capital Federal</td>\n",
       "      <td>|Argentina|Capital Federal|Mataderos|</td>\n",
       "      <td>72000.0</td>\n",
       "      <td>55.0</td>\n",
       "      <td>55.0</td>\n",
       "      <td>1309.090909</td>\n",
       "      <td>1309.090909</td>\n",
       "      <td>2.0</td>\n",
       "      <td>2 AMBIENTES 3ER PISO LATERAL LIVING COMEDOR AM...</td>\n",
       "      <td>...</td>\n",
       "      <td>False</td>\n",
       "      <td>False</td>\n",
       "      <td>False</td>\n",
       "      <td>False</td>\n",
       "      <td>False</td>\n",
       "      <td>False</td>\n",
       "      <td>False</td>\n",
       "      <td>False</td>\n",
       "      <td>False</td>\n",
       "      <td>134.214298</td>\n",
       "    </tr>\n",
       "  </tbody>\n",
       "</table>\n",
       "<p>3 rows × 30 columns</p>\n",
       "</div>"
      ],
      "text/plain": [
       "  property_type              state_name  \\\n",
       "0            PH         Capital Federal   \n",
       "1     apartment  Bs.As. G.B.A. Zona Sur   \n",
       "2     apartment         Capital Federal   \n",
       "\n",
       "                       place_with_parent_names  price_aprox_usd  \\\n",
       "0        |Argentina|Capital Federal|Mataderos|          62000.0   \n",
       "1  |Argentina|Bs.As. G.B.A. Zona Sur|La Plata|         150000.0   \n",
       "2        |Argentina|Capital Federal|Mataderos|          72000.0   \n",
       "\n",
       "   surface_total_in_m2  surface_covered_in_m2  price_usd_per_m2  price_per_m2  \\\n",
       "0                 55.0                   40.0       1127.272727   1550.000000   \n",
       "1                  NaN                    NaN               NaN           NaN   \n",
       "2                 55.0                   55.0       1309.090909   1309.090909   \n",
       "\n",
       "   rooms                                        description  ... s.u.m.  \\\n",
       "0    2.0  2 AMBIENTES TIPO CASA PLANTA BAJA POR PASILLO,...  ...  False   \n",
       "1    3.0  VENTA DE DEPARTAMENTO EN DÉCIMO PISO AL FRENTE...  ...  False   \n",
       "2    2.0  2 AMBIENTES 3ER PISO LATERAL LIVING COMEDOR AM...  ...  False   \n",
       "\n",
       "  amenities  baulera  gimnasio  subte-linea-d  subte-linea-b  subte-linea-a  \\\n",
       "0     False    False     False          False          False          False   \n",
       "1     False    False     False          False          False          False   \n",
       "2     False    False     False          False          False          False   \n",
       "\n",
       "   subte-linea-h  subte-linea-e  price_state  \n",
       "0          False          False   134.214298  \n",
       "1          False          False   226.743900  \n",
       "2          False          False   134.214298  \n",
       "\n",
       "[3 rows x 30 columns]"
      ]
     },
     "execution_count": 2,
     "metadata": {},
     "output_type": "execute_result"
    },
    {
     "data": {
      "text/plain": [
       "(56824, 30)"
      ]
     },
     "execution_count": 2,
     "metadata": {},
     "output_type": "execute_result"
    }
   ],
   "source": [
    "data = pd.read_csv(\"../data/properatti_tp2.csv\", sep = \",\", low_memory=False) \n",
    "data.head(3)\n",
    "data.shape"
   ]
  },
  {
   "cell_type": "markdown",
   "id": "ed238389",
   "metadata": {},
   "source": [
    "# **3. Tratamiento de los datos**"
   ]
  }
 ],
 "metadata": {
  "interpreter": {
   "hash": "6ac88a8a1a8cc340d2b05566e22fde7412d1d718644d4b1167688fa7d4044e9b"
  },
  "kernelspec": {
   "display_name": "Python 3.8.12 ('dhds22')",
   "language": "python",
   "name": "python3"
  },
  "language_info": {
   "codemirror_mode": {
    "name": "ipython",
    "version": 3
   },
   "file_extension": ".py",
   "mimetype": "text/x-python",
   "name": "python",
   "nbconvert_exporter": "python",
   "pygments_lexer": "ipython3",
   "version": "3.8.12"
  }
 },
 "nbformat": 4,
 "nbformat_minor": 5
}
