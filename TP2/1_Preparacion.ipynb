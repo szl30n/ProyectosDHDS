{
 "cells": [
  {
   "cell_type": "markdown",
   "id": "d6d2b0d9",
   "metadata": {
    "heading_collapsed": "true"
   },
   "source": [
    "# **1. Importación de *modules***"
   ]
  },
  {
   "cell_type": "code",
   "execution_count": 137,
   "id": "f35835ea",
   "metadata": {
    "id": "4780501a"
   },
   "outputs": [],
   "source": [
    "import numpy as np\n",
    "import pandas as pd\n",
    "import seaborn as sns\n",
    "import matplotlib.pyplot as plt\n",
    "import plotly.express as px\n",
    "from IPython.core.interactiveshell import InteractiveShell\n",
    "InteractiveShell.ast_node_interactivity = \"all\""
   ]
  },
  {
   "cell_type": "markdown",
   "id": "df78c941",
   "metadata": {
    "heading_collapsed": "true",
    "id": "cdbfda03"
   },
   "source": [
    "# **2. Importación del dataset *properatti.csv***"
   ]
  },
  {
   "cell_type": "code",
   "execution_count": 138,
   "id": "8dedd71a",
   "metadata": {
    "id": "a7754818",
    "outputId": "05a09978-f855-4c68-c039-46d93fbde29b"
   },
   "outputs": [
    {
     "data": {
      "text/plain": [
       "(121220, 26)"
      ]
     },
     "execution_count": 138,
     "metadata": {},
     "output_type": "execute_result"
    }
   ],
   "source": [
    "data = pd.read_csv(\"../data/properatti.csv\", sep = \",\", low_memory=False) \n",
    "#data.head(3)\n",
    "data.shape"
   ]
  },
  {
   "cell_type": "markdown",
   "id": "8a3bb2be",
   "metadata": {},
   "source": [
    "# **3. Tratamiento de los datos**"
   ]
  },
  {
   "cell_type": "markdown",
   "id": "12b01c21",
   "metadata": {
    "heading_collapsed": "true"
   },
   "source": [
    "## **3.1. Selección del subdataset AMBA**"
   ]
  },
  {
   "cell_type": "code",
   "execution_count": 139,
   "id": "ae7e8828",
   "metadata": {},
   "outputs": [
    {
     "name": "stdout",
     "output_type": "stream",
     "text": [
      "(81150, 26)\n"
     ]
    }
   ],
   "source": [
    "#dejamos solo lo de AMBA\n",
    "data = data[(data[\"state_name\"] == 'Capital Federal') | (data[\"state_name\"] == 'Bs.As. G.B.A. Zona Sur') | (data[\"state_name\"] == 'Bs.As. G.B.A. Zona Norte') | (data[\"state_name\"] == 'Bs.As. G.B.A. Zona Oeste')]\n",
    "print(data.shape)"
   ]
  },
  {
   "cell_type": "markdown",
   "id": "489b145f",
   "metadata": {
    "heading_collapsed": "true"
   },
   "source": [
    "## **3.2. Limpieza e imputaciones**"
   ]
  },
  {
   "cell_type": "markdown",
   "id": "e72007c6",
   "metadata": {
    "heading_collapsed": "true",
    "id": "9eafe596"
   },
   "source": [
    "### 3.2.1. Dropeo de columnas no informativas"
   ]
  },
  {
   "cell_type": "code",
   "execution_count": 140,
   "id": "7680962d",
   "metadata": {
    "id": "4211aba8"
   },
   "outputs": [],
   "source": [
    "cols2keep = ['property_type', 'state_name', 'place_name','place_with_parent_names','price_aprox_usd', 'surface_total_in_m2','surface_covered_in_m2','price_usd_per_m2', 'rooms', 'description', 'title', 'properati_url']\n",
    "data = data.loc[:, cols2keep]\n",
    "#print(df_sub)"
   ]
  },
  {
   "cell_type": "markdown",
   "id": "ac709a77",
   "metadata": {
    "heading_collapsed": "true"
   },
   "source": [
    "### 3.2.2. Chequeo de valores nulos"
   ]
  },
  {
   "cell_type": "code",
   "execution_count": 141,
   "id": "b83b27c8",
   "metadata": {},
   "outputs": [
    {
     "name": "stdout",
     "output_type": "stream",
     "text": [
      "                          cant  percent     tipo\n",
      "property_type                0     0.00   object\n",
      "state_name                   0     0.00   object\n",
      "place_name                  23     0.03   object\n",
      "place_with_parent_names      0     0.00   object\n",
      "price_aprox_usd           8656    10.67  float64\n",
      "surface_total_in_m2      22792    28.09  float64\n",
      "surface_covered_in_m2     8505    10.48  float64\n",
      "price_usd_per_m2         29515    36.37  float64\n",
      "rooms                    51211    63.11  float64\n",
      "description                  1     0.00   object\n",
      "title                        0     0.00   object\n",
      "properati_url                0     0.00   object\n"
     ]
    }
   ],
   "source": [
    "#Chequeo valores nulos\n",
    "cant_nulos_por_campo = data.apply(lambda x: x.isnull().sum(), axis=0)\n",
    "percent_nulos_por_campo = data.apply(lambda x: (100 * x.isnull().sum() / data.shape[0]).round(2), axis=0)\n",
    "summary_nulos_por_campo = pd.DataFrame({ 'cant': cant_nulos_por_campo, 'percent': percent_nulos_por_campo ,'tipo': data.dtypes})\n",
    "print(summary_nulos_por_campo)"
   ]
  },
  {
   "cell_type": "markdown",
   "id": "fe9edc2e",
   "metadata": {
    "heading_collapsed": "true",
    "id": "wipHmRxOD_Zo"
   },
   "source": [
    "### 3.2.3. Imputación de la columna *rooms*\n"
   ]
  },
  {
   "cell_type": "code",
   "execution_count": 142,
   "id": "52310643",
   "metadata": {
    "colab": {
     "base_uri": "https://localhost:8080/"
    },
    "executionInfo": {
     "elapsed": 308,
     "status": "ok",
     "timestamp": 1653009986780,
     "user": {
      "displayName": "Maela Lombardi",
      "userId": "03936068368896012188"
     },
     "user_tz": 180
    },
    "id": "_gFyvCyrD_Zo",
    "outputId": "030eb50c-b338-4ff7-fd12-ccfebe2e4452"
   },
   "outputs": [
    {
     "name": "stdout",
     "output_type": "stream",
     "text": [
      "tipo  :  float64\n",
      "nulos :  51211\n"
     ]
    },
    {
     "data": {
      "text/plain": [
       "array([nan,  1.,  4.,  3.,  2.,  6.,  5., 10.,  7., 17., 22.,  8.,  9.,\n",
       "       11., 13., 12., 25., 14., 16., 18., 15., 32.])"
      ]
     },
     "execution_count": 142,
     "metadata": {},
     "output_type": "execute_result"
    }
   ],
   "source": [
    "#Comprobamos el tipo y los valores.\n",
    "print(\"tipo  : \", data.rooms.dtype)\n",
    "print(\"nulos : \", data.rooms.isnull().sum())\n",
    "data.rooms.unique()"
   ]
  },
  {
   "cell_type": "code",
   "execution_count": 143,
   "id": "7f41b385",
   "metadata": {
    "colab": {
     "base_uri": "https://localhost:8080/"
    },
    "executionInfo": {
     "elapsed": 315,
     "status": "ok",
     "timestamp": 1653010012836,
     "user": {
      "displayName": "Maela Lombardi",
      "userId": "03936068368896012188"
     },
     "user_tz": 180
    },
    "id": "VaP1XKWAD_Zo",
    "outputId": "034c1c61-89e5-4b44-fff3-d5a13279c38f"
   },
   "outputs": [
    {
     "name": "stdout",
     "output_type": "stream",
     "text": [
      "Total Registros \t\t\t 81150\n",
      "Total sin ambientes \t\t\t 51211\n",
      "Porcentaje sin ambientes \t\t 36.89  %\n"
     ]
    }
   ],
   "source": [
    "totalVentas = data.state_name.notnull().sum()\n",
    "totalSinCuartos = data.rooms.isnull().sum()\n",
    "print('Total Registros \\t\\t\\t', data.state_name.notnull().sum() )\n",
    "print('Total sin ambientes \\t\\t\\t',data.rooms.isnull().sum() )\n",
    "print('Porcentaje sin ambientes \\t\\t', round( (totalVentas- totalSinCuartos) / totalVentas * 100, 2), ' %' )"
   ]
  },
  {
   "cell_type": "code",
   "execution_count": 144,
   "id": "1fdcf2a9",
   "metadata": {
    "colab": {
     "base_uri": "https://localhost:8080/",
     "height": 363
    },
    "executionInfo": {
     "elapsed": 1728,
     "status": "ok",
     "timestamp": 1653010131020,
     "user": {
      "displayName": "Maela Lombardi",
      "userId": "03936068368896012188"
     },
     "user_tz": 180
    },
    "id": "2nuavK7SD_Zq",
    "outputId": "1b5f6b7e-f99a-40fa-8265-61db4f8fc7da"
   },
   "outputs": [],
   "source": [
    "data['title'] = data.title.str.upper()\n",
    "data['description'] = data.description.str.upper()"
   ]
  },
  {
   "cell_type": "code",
   "execution_count": 145,
   "id": "c0553fac",
   "metadata": {
    "id": "cRpb5UXWD_Zr"
   },
   "outputs": [],
   "source": [
    "reemplazo_dic = {\"UNO\":\"1\", \"DOS\":\"2\", \"TRES\":\"3\", \"CUATRO\":\"4\", \"CINCO\":\"5\", \"SEIS\":\"6\", \"SIETE\":\"7\", \"OCHO\":\"8\",\n",
    "             \"NUEVE\":\"9\", \"DIEZ\":\"10\", \"MONOAMBIENTE\":\"1 AMBIENTE\", \"MONOAMB\" : \"1 AMBIENTE\", \"UN\":\"1\", \"AMBIENTE DIVISIBLE\":\"1 AMBIENTE\",\n",
    "             \"MONO AMBIENTE\": \"1 AMBIENTE\",\"DORMITORIOS\": \"AMBIENTE\",\"DORMITORIO\": \"AMBIENTE\",\"HABITACIONES\": \"AMBIENTE\",\"HABITACION\": \"AMBIENTE\"}\n",
    "for key in reemplazo_dic.keys():\n",
    "    data.description = data.description.str.replace(key, reemplazo_dic[key], regex=False)\n",
    "\n",
    "for key in reemplazo_dic.keys():\n",
    "    data.title = data.title.str.replace(key, reemplazo_dic[key], regex=False)"
   ]
  },
  {
   "cell_type": "code",
   "execution_count": 146,
   "id": "abfd04ad",
   "metadata": {},
   "outputs": [
    {
     "name": "stderr",
     "output_type": "stream",
     "text": [
      "C:\\Users\\msaied\\Anaconda3\\envs\\ds\\lib\\site-packages\\pandas\\core\\generic.py:5170: SettingWithCopyWarning: \n",
      "A value is trying to be set on a copy of a slice from a DataFrame.\n",
      "Try using .loc[row_indexer,col_indexer] = value instead\n",
      "\n",
      "See the caveats in the documentation: https://pandas.pydata.org/pandas-docs/stable/user_guide/indexing.html#returning-a-view-versus-a-copy\n",
      "  self[name] = value\n"
     ]
    }
   ],
   "source": [
    "regularexpArray=[\"(\\d+)AMB\",\"(\\d+) AMB\"]\n",
    "\n",
    "for regularexp in regularexpArray:\n",
    "    controlRooms = data[(data.rooms.isnull()) ]\n",
    "    controlRooms.rooms = controlRooms.title.str.extract(regularexp).astype(float)\n",
    "    data.update(controlRooms)\n",
    "    controlRooms = data[(data.rooms.isnull()) ]\n",
    "    controlRooms.rooms = controlRooms.description.str.extract(regularexp).astype(float) \n",
    "    data.update(controlRooms)\n",
    "    \n",
    "# se agrega un ambiente mas\n",
    "regularexpArray=[\"(\\d+)DORM\",\"(\\d+) DORM\",\"(\\d+)HABITACIO\",\"(\\d+) HABITACIO\"]\n",
    "\n",
    "for regularexp in regularexpArray:\n",
    "    controlRooms = data[(data.rooms.isnull()) ]\n",
    "    controlRooms.rooms = controlRooms.title.str.extract(regularexp).astype(float) + 1\n",
    "    data.update(controlRooms)\n",
    "    controlRooms = data[(data.rooms.isnull()) ]\n",
    "    controlRooms.rooms = controlRooms.description.str.extract(regularexp).astype(float) + 1\n",
    "    data.update(controlRooms)    \n",
    "controlRooms = data[(data.rooms.isnull())]"
   ]
  },
  {
   "cell_type": "code",
   "execution_count": 147,
   "id": "e3dde3b5",
   "metadata": {
    "colab": {
     "base_uri": "https://localhost:8080/"
    },
    "executionInfo": {
     "elapsed": 416,
     "status": "ok",
     "timestamp": 1653010837210,
     "user": {
      "displayName": "Maela Lombardi",
      "userId": "03936068368896012188"
     },
     "user_tz": 180
    },
    "id": "gqMQWxJuD_Zu",
    "outputId": "d25b76d1-4a37-4848-cf71-fd67b1f172d0"
   },
   "outputs": [
    {
     "name": "stdout",
     "output_type": "stream",
     "text": [
      "Total Registros \t\t\t 81150\n",
      "Total sin Ambientes \t\t\t 10685\n",
      "Porcentaje con ambientes \t\t 86.83  %\n"
     ]
    }
   ],
   "source": [
    "totalVentas = data.state_name.notnull().sum()\n",
    "totalSinCuartos = data.rooms.isnull().sum()\n",
    "porcentajeSinCuartos = round( (totalVentas- totalSinCuartos) / totalVentas * 100, 2)\n",
    "print('Total Registros \\t\\t\\t', totalVentas )\n",
    "print('Total sin Ambientes \\t\\t\\t', totalSinCuartos )\n",
    "print('Porcentaje con ambientes \\t\\t', porcentajeSinCuartos, ' %' )"
   ]
  },
  {
   "cell_type": "code",
   "execution_count": null,
   "id": "f8ab78a7",
   "metadata": {},
   "outputs": [],
   "source": [
    "# Pasar todas las columnas a minusculas\n",
    "\n",
    "data_lower = data.applymap(lambda x: x if np.isreal(x) else str(x).lower())\n",
    "# comparo los tipos de datos antes y después de pasar a minúsculas:\n",
    "#print(data_lower.dtypes == data.dtypes)\n",
    "#print(data_lower.head(3))"
   ]
  },
  {
   "cell_type": "markdown",
   "id": "55eb9ed1",
   "metadata": {
    "heading_collapsed": "true",
    "id": "2fa218dc"
   },
   "source": [
    "### 3.2.4. Dropeo de duplicados"
   ]
  },
  {
   "cell_type": "code",
   "execution_count": 1,
   "id": "ec53bb87",
   "metadata": {
    "id": "74e8b238",
    "outputId": "47355a10-cc3b-4b85-dd5d-cb74f58cac5c"
   },
   "outputs": [
    {
     "ename": "NameError",
     "evalue": "name 'data' is not defined",
     "output_type": "error",
     "traceback": [
      "\u001b[0;31m---------------------------------------------------------------------------\u001b[0m",
      "\u001b[0;31mNameError\u001b[0m                                 Traceback (most recent call last)",
      "\u001b[0;32m/tmp/ipykernel_24084/1272945896.py\u001b[0m in \u001b[0;36m<module>\u001b[0;34m\u001b[0m\n\u001b[1;32m      1\u001b[0m \u001b[0;31m#elimino duplicados\u001b[0m\u001b[0;34m\u001b[0m\u001b[0;34m\u001b[0m\u001b[0;34m\u001b[0m\u001b[0m\n\u001b[0;32m----> 2\u001b[0;31m \u001b[0mdata\u001b[0m\u001b[0;34m.\u001b[0m\u001b[0mdrop_duplicates\u001b[0m\u001b[0;34m(\u001b[0m\u001b[0mkeep\u001b[0m\u001b[0;34m=\u001b[0m\u001b[0;34m\"first\"\u001b[0m\u001b[0;34m)\u001b[0m\u001b[0;34m\u001b[0m\u001b[0;34m\u001b[0m\u001b[0m\n\u001b[0m",
      "\u001b[0;31mNameError\u001b[0m: name 'data' is not defined"
     ]
    }
   ],
   "source": [
    "#elimino duplicados \n",
    "data.drop_duplicates(keep=\"first\")"
   ]
  },
  {
   "cell_type": "markdown",
   "id": "7dba9cfb",
   "metadata": {
    "heading_collapsed": "true",
    "id": "e794c75e"
   },
   "source": [
    "### 3.2.5. Limpieza de *outliers* en *price_usd_per_m2*"
   ]
  },
  {
   "cell_type": "code",
   "execution_count": 150,
   "id": "66537424",
   "metadata": {
    "id": "9612917b",
    "outputId": "1b0616eb-71c9-4436-cff6-a035adeed0ed"
   },
   "outputs": [
    {
     "data": {
      "text/plain": [
       "(81150, 12)"
      ]
     },
     "execution_count": 150,
     "metadata": {},
     "output_type": "execute_result"
    }
   ],
   "source": [
    "#búsqueda y reemplazo de outliers (de más de 2 std, 95%) por NaN en las columnas numéricas, en un solo paso\n",
    "df_sub = data.loc[:, 'price_usd_per_m2']\n",
    "lim = np.abs((df_sub - df_sub.mean()) / df_sub.std(ddof=0)) < 2\n",
    "data.loc[:, 'price_usd_per_m2'] = df_sub.where(lim, np.nan)\n",
    "#data.head(3)\n",
    "data.shape\n",
    "#data.dropna()"
   ]
  },
  {
   "cell_type": "markdown",
   "id": "ad7b30a1",
   "metadata": {
    "heading_collapsed": "true"
   },
   "source": [
    "### 3.2.6. Dropeo de *NaNs*"
   ]
  },
  {
   "cell_type": "code",
   "execution_count": 151,
   "id": "8c724c9e",
   "metadata": {},
   "outputs": [],
   "source": [
    "data.dropna(axis=0, how='any', subset=['property_type', 'state_name', 'place_name', 'price_aprox_usd', 'surface_total_in_m2','surface_covered_in_m2', 'rooms', 'price_usd_per_m2'], inplace=True)\n",
    "data.shape"
   ]
  },
  {
   "cell_type": "code",
   "execution_count": 153,
   "id": "50d24e4e",
   "metadata": {},
   "outputs": [
    {
     "name": "stdout",
     "output_type": "stream",
     "text": [
      "                         cant  percent     tipo\n",
      "property_type               0      0.0   object\n",
      "state_name                  0      0.0   object\n",
      "place_name                  0      0.0   object\n",
      "place_with_parent_names     0      0.0   object\n",
      "price_aprox_usd             0      0.0  float64\n",
      "surface_total_in_m2         0      0.0  float64\n",
      "surface_covered_in_m2       0      0.0  float64\n",
      "price_usd_per_m2            0      0.0  float64\n",
      "rooms                       0      0.0  float64\n",
      "description                 0      0.0   object\n",
      "title                       0      0.0   object\n",
      "properati_url               0      0.0   object\n"
     ]
    }
   ],
   "source": [
    "# Último chequeo de que no hay nans en las columnas de trabajo (feature y targets)\n",
    "\n",
    "cant_nulos_por_campo = data.apply(lambda x: x.isnull().sum(), axis=0)\n",
    "percent_nulos_por_campo = data.apply(lambda x: (100 * x.isnull().sum() / data.shape[0]).round(2), axis=0)\n",
    "summary_nulos_por_campo = pd.DataFrame({ 'cant': cant_nulos_por_campo, 'percent': percent_nulos_por_campo ,'tipo': data.dtypes})\n",
    "print(summary_nulos_por_campo)"
   ]
  },
  {
   "cell_type": "markdown",
   "id": "b9603592",
   "metadata": {
    "heading_collapsed": "true"
   },
   "source": [
    "## **3.3. Creacion de columnas *dummies***"
   ]
  },
  {
   "cell_type": "markdown",
   "id": "2c735212",
   "metadata": {
    "heading_collapsed": "true",
    "id": "iv79nG5uacrd"
   },
   "source": [
    "### 3.3.1. *Amenities*"
   ]
  },
  {
   "cell_type": "code",
   "execution_count": 154,
   "id": "ba53ccfd",
   "metadata": {
    "id": "TZJ2mBI0d3UN"
   },
   "outputs": [],
   "source": [
    "#fracciono la columna properti_url para sacar la nube de palabras mas repetidas\n",
    "import re\n",
    "patron_url = re.compile(pattern=\"_\", flags =re.IGNORECASE)\n",
    "lista_url = data[\"properati_url\"].apply(lambda x : patron_url.split(x))\n",
    "serie_palabras = pd.Series(np.hstack(lista_url))\n",
    "#serie_palabras.value_counts().head(20).plot(kind=\"bar\")"
   ]
  },
  {
   "cell_type": "code",
   "execution_count": 155,
   "id": "6a640ce3",
   "metadata": {
    "colab": {
     "base_uri": "https://localhost:8080/"
    },
    "executionInfo": {
     "elapsed": 277,
     "status": "ok",
     "timestamp": 1653012657001,
     "user": {
      "displayName": "Maela Lombardi",
      "userId": "03936068368896012188"
     },
     "user_tz": 180
    },
    "id": "-fq0FwrK0FMR",
    "outputId": "78a2025c-5b32-4625-f200-82f2862afbf2"
   },
   "outputs": [
    {
     "data": {
      "text/plain": [
       "venta                       42662\n",
       "departamento                27323\n",
       "garage                      21795\n",
       "lavadero                    19749\n",
       "balcon                      17206\n",
       "parrilla                    16518\n",
       "piscina                     14135\n",
       "luminoso                    14032\n",
       "suite                       13137\n",
       "casa                        12777\n",
       "toilette                    11959\n",
       "placard                     10993\n",
       "terraza                     10784\n",
       "vestidor                     8882\n",
       "jardin                       7775\n",
       "patio                        6598\n",
       "dependencias                 6451\n",
       "sum                          5961\n",
       "aire-acondicionado           5700\n",
       "baulera                      5494\n",
       "amenities                    5423\n",
       "gimnasio                     4763\n",
       "estrenar                     4394\n",
       "lujoso                       4275\n",
       "vista                        3850\n",
       "subte-linea-d                3639\n",
       "quincho                      3599\n",
       "hidromasaje                  3170\n",
       "subte-linea-b                2986\n",
       "subte-linea-a                2541\n",
       "impecable                    2402\n",
       "ph                           2351\n",
       "losa-radiante                2123\n",
       "nordelta                     2115\n",
       "apto-credito-hipotecario     2093\n",
       "tigre                        1989\n",
       "subte-linea-h                1960\n",
       "belgrano                     1819\n",
       "sauna                        1760\n",
       "palermo                      1656\n",
       "caballito                    1540\n",
       "subte-linea-e                1458\n",
       "amoblado                     1353\n",
       "pilar                        1327\n",
       "tenis                        1250\n",
       "subte-linea-c                1152\n",
       "barrio-norte                 1021\n",
       "villa-urquiza                 983\n",
       "olivos                        936\n",
       "villa-crespo                  914\n",
       "dtype: int64"
      ]
     },
     "execution_count": 155,
     "metadata": {},
     "output_type": "execute_result"
    }
   ],
   "source": [
    "serie_palabras.value_counts().head(50)"
   ]
  },
  {
   "cell_type": "code",
   "execution_count": 156,
   "id": "150712f3",
   "metadata": {
    "id": "Jk22xPJZa9pm"
   },
   "outputs": [],
   "source": [
    "# a partir de la nube de palabras selecciono las que son buenos adicionales\n",
    "adicionales = [\"garage\", \"balcon\", \"parrilla\", \"piscina\", \"terraza\", \"patio\", \"jardin\", \"quincho\", \"sum\", \"amenities\", \"baulera\", \"gimnasio\", \"subte-linea-d\", \"subte-linea-b\", \"subte-linea-a\", \"subte-linea-h\", \"subte-linea-e\" ]\n"
   ]
  },
  {
   "cell_type": "code",
   "execution_count": 157,
   "id": "0c3a3f92",
   "metadata": {
    "id": "cSivTSfQoiyj"
   },
   "outputs": [],
   "source": [
    "#elimino el primer elemento de lista_url para no tener el elemento con el http: etc\n",
    "for sublist in lista_url:\n",
    "  del sublist[0]"
   ]
  },
  {
   "cell_type": "code",
   "execution_count": 158,
   "id": "d62056b0",
   "metadata": {
    "colab": {
     "base_uri": "https://localhost:8080/"
    },
    "executionInfo": {
     "elapsed": 6,
     "status": "ok",
     "timestamp": 1651431280039,
     "user": {
      "displayName": "Maela Lombardi",
      "userId": "03936068368896012188"
     },
     "user_tz": 180
    },
    "id": "ZmKJ4I_wlwxh",
    "outputId": "49a1a07b-36cd-4d86-9004-f168b551c1d1"
   },
   "outputs": [
    {
     "data": {
      "text/plain": [
       "0         [venta, ph, mataderos, lavadero, patio, inmobi...\n",
       "2         [venta, departamentos, mataderos, lavadero, pl...\n",
       "6         [venta, ph, munro, lavadero, patio, garage, al...\n",
       "7         [venta, departamentos, belgrano, lavadero, pis...\n",
       "8         [venta, departamentos, belgrano, lavadero, pis...\n",
       "                                ...                        \n",
       "121154    [venta, casa, la-plata, suite, parrilla, pisci...\n",
       "121158    [venta, departamento, recoleta, pueyrredon-av-...\n",
       "121215    [venta, departamento, belgrano, balcon, suite,...\n",
       "121216    [venta, casa, beccar, suite, hidromasaje, jard...\n",
       "121217    [venta, departamento, villa-urquiza, holmberg,...\n",
       "Name: properati_url, Length: 42717, dtype: object"
      ]
     },
     "execution_count": 158,
     "metadata": {},
     "output_type": "execute_result"
    }
   ],
   "source": [
    "lista_url"
   ]
  },
  {
   "cell_type": "code",
   "execution_count": 159,
   "id": "01034a63",
   "metadata": {
    "id": "6xTQyApPl1_c"
   },
   "outputs": [],
   "source": [
    "#creo una función que compare la lista de palabras con la lista de listas\n",
    "#y me da como resultado una lista de listas de palabras true/false segun coincida o no \n",
    "def buscador_palabras(quebuscar, dondebuscar):\n",
    "  listadeextras = []\n",
    "  for listas in dondebuscar:\n",
    "    extras = []\n",
    "    for palabra in quebuscar:\n",
    "      if palabra in listas:\n",
    "        extras.append(True)\n",
    "      else:\n",
    "        extras.append(False)\n",
    "    listadeextras.append(extras)\n",
    "  #print(listadeextras)\n",
    "  return listadeextras     "
   ]
  },
  {
   "cell_type": "code",
   "execution_count": 160,
   "id": "d2d7f99c",
   "metadata": {
    "colab": {
     "base_uri": "https://localhost:8080/"
    },
    "executionInfo": {
     "elapsed": 862,
     "status": "ok",
     "timestamp": 1651431280900,
     "user": {
      "displayName": "Maela Lombardi",
      "userId": "03936068368896012188"
     },
     "user_tz": 180
    },
    "id": "QKvkph_HnmMP",
    "outputId": "694bb379-1473-4e3a-dc79-a905264d2952"
   },
   "outputs": [
    {
     "data": {
      "text/plain": [
       "42717"
      ]
     },
     "execution_count": 160,
     "metadata": {},
     "output_type": "execute_result"
    }
   ],
   "source": [
    "#aplico la funcion a mi lista \"adicionales\" y \"lista_url\"\n",
    "#chequeo que tenga la misma longitud de data\n",
    "resultado = buscador_palabras(adicionales,lista_url)\n",
    "len(resultado)"
   ]
  },
  {
   "cell_type": "code",
   "execution_count": 161,
   "id": "ac833489",
   "metadata": {
    "colab": {
     "base_uri": "https://localhost:8080/",
     "height": 423
    },
    "executionInfo": {
     "elapsed": 13,
     "status": "ok",
     "timestamp": 1651431280900,
     "user": {
      "displayName": "Maela Lombardi",
      "userId": "03936068368896012188"
     },
     "user_tz": 180
    },
    "id": "nE4L2iH5i1-4",
    "outputId": "90fcc17a-7268-4b64-b061-87b4f7263271"
   },
   "outputs": [
    {
     "data": {
      "text/html": [
       "<div>\n",
       "<style scoped>\n",
       "    .dataframe tbody tr th:only-of-type {\n",
       "        vertical-align: middle;\n",
       "    }\n",
       "\n",
       "    .dataframe tbody tr th {\n",
       "        vertical-align: top;\n",
       "    }\n",
       "\n",
       "    .dataframe thead th {\n",
       "        text-align: right;\n",
       "    }\n",
       "</style>\n",
       "<table border=\"1\" class=\"dataframe\">\n",
       "  <thead>\n",
       "    <tr style=\"text-align: right;\">\n",
       "      <th></th>\n",
       "      <th>garage</th>\n",
       "      <th>balcon</th>\n",
       "      <th>parrilla</th>\n",
       "      <th>piscina</th>\n",
       "      <th>terraza</th>\n",
       "      <th>patio</th>\n",
       "      <th>jardin</th>\n",
       "      <th>quincho</th>\n",
       "      <th>s.u.m.</th>\n",
       "      <th>amenities</th>\n",
       "      <th>baulera</th>\n",
       "      <th>gimnasio</th>\n",
       "      <th>subte-linea-d</th>\n",
       "      <th>subte-linea-b</th>\n",
       "      <th>subte-linea-a</th>\n",
       "      <th>subte-linea-h</th>\n",
       "      <th>subte-linea-e</th>\n",
       "    </tr>\n",
       "  </thead>\n",
       "  <tbody>\n",
       "    <tr>\n",
       "      <th>0</th>\n",
       "      <td>False</td>\n",
       "      <td>False</td>\n",
       "      <td>False</td>\n",
       "      <td>False</td>\n",
       "      <td>False</td>\n",
       "      <td>True</td>\n",
       "      <td>False</td>\n",
       "      <td>False</td>\n",
       "      <td>False</td>\n",
       "      <td>False</td>\n",
       "      <td>False</td>\n",
       "      <td>False</td>\n",
       "      <td>False</td>\n",
       "      <td>False</td>\n",
       "      <td>False</td>\n",
       "      <td>False</td>\n",
       "      <td>False</td>\n",
       "    </tr>\n",
       "    <tr>\n",
       "      <th>1</th>\n",
       "      <td>False</td>\n",
       "      <td>False</td>\n",
       "      <td>False</td>\n",
       "      <td>False</td>\n",
       "      <td>False</td>\n",
       "      <td>False</td>\n",
       "      <td>False</td>\n",
       "      <td>False</td>\n",
       "      <td>False</td>\n",
       "      <td>False</td>\n",
       "      <td>False</td>\n",
       "      <td>False</td>\n",
       "      <td>False</td>\n",
       "      <td>False</td>\n",
       "      <td>False</td>\n",
       "      <td>False</td>\n",
       "      <td>False</td>\n",
       "    </tr>\n",
       "    <tr>\n",
       "      <th>2</th>\n",
       "      <td>True</td>\n",
       "      <td>False</td>\n",
       "      <td>False</td>\n",
       "      <td>False</td>\n",
       "      <td>False</td>\n",
       "      <td>True</td>\n",
       "      <td>False</td>\n",
       "      <td>False</td>\n",
       "      <td>False</td>\n",
       "      <td>False</td>\n",
       "      <td>False</td>\n",
       "      <td>False</td>\n",
       "      <td>False</td>\n",
       "      <td>False</td>\n",
       "      <td>False</td>\n",
       "      <td>False</td>\n",
       "      <td>False</td>\n",
       "    </tr>\n",
       "    <tr>\n",
       "      <th>3</th>\n",
       "      <td>False</td>\n",
       "      <td>False</td>\n",
       "      <td>False</td>\n",
       "      <td>True</td>\n",
       "      <td>False</td>\n",
       "      <td>False</td>\n",
       "      <td>False</td>\n",
       "      <td>False</td>\n",
       "      <td>False</td>\n",
       "      <td>False</td>\n",
       "      <td>False</td>\n",
       "      <td>False</td>\n",
       "      <td>False</td>\n",
       "      <td>False</td>\n",
       "      <td>False</td>\n",
       "      <td>False</td>\n",
       "      <td>False</td>\n",
       "    </tr>\n",
       "    <tr>\n",
       "      <th>4</th>\n",
       "      <td>False</td>\n",
       "      <td>False</td>\n",
       "      <td>False</td>\n",
       "      <td>True</td>\n",
       "      <td>False</td>\n",
       "      <td>False</td>\n",
       "      <td>False</td>\n",
       "      <td>False</td>\n",
       "      <td>False</td>\n",
       "      <td>False</td>\n",
       "      <td>False</td>\n",
       "      <td>False</td>\n",
       "      <td>False</td>\n",
       "      <td>False</td>\n",
       "      <td>False</td>\n",
       "      <td>False</td>\n",
       "      <td>False</td>\n",
       "    </tr>\n",
       "    <tr>\n",
       "      <th>...</th>\n",
       "      <td>...</td>\n",
       "      <td>...</td>\n",
       "      <td>...</td>\n",
       "      <td>...</td>\n",
       "      <td>...</td>\n",
       "      <td>...</td>\n",
       "      <td>...</td>\n",
       "      <td>...</td>\n",
       "      <td>...</td>\n",
       "      <td>...</td>\n",
       "      <td>...</td>\n",
       "      <td>...</td>\n",
       "      <td>...</td>\n",
       "      <td>...</td>\n",
       "      <td>...</td>\n",
       "      <td>...</td>\n",
       "      <td>...</td>\n",
       "    </tr>\n",
       "    <tr>\n",
       "      <th>42712</th>\n",
       "      <td>False</td>\n",
       "      <td>False</td>\n",
       "      <td>True</td>\n",
       "      <td>True</td>\n",
       "      <td>False</td>\n",
       "      <td>False</td>\n",
       "      <td>False</td>\n",
       "      <td>False</td>\n",
       "      <td>False</td>\n",
       "      <td>False</td>\n",
       "      <td>False</td>\n",
       "      <td>False</td>\n",
       "      <td>False</td>\n",
       "      <td>False</td>\n",
       "      <td>False</td>\n",
       "      <td>False</td>\n",
       "      <td>False</td>\n",
       "    </tr>\n",
       "    <tr>\n",
       "      <th>42713</th>\n",
       "      <td>False</td>\n",
       "      <td>True</td>\n",
       "      <td>True</td>\n",
       "      <td>False</td>\n",
       "      <td>False</td>\n",
       "      <td>False</td>\n",
       "      <td>False</td>\n",
       "      <td>False</td>\n",
       "      <td>False</td>\n",
       "      <td>False</td>\n",
       "      <td>False</td>\n",
       "      <td>False</td>\n",
       "      <td>False</td>\n",
       "      <td>False</td>\n",
       "      <td>False</td>\n",
       "      <td>True</td>\n",
       "      <td>False</td>\n",
       "    </tr>\n",
       "    <tr>\n",
       "      <th>42714</th>\n",
       "      <td>True</td>\n",
       "      <td>True</td>\n",
       "      <td>True</td>\n",
       "      <td>True</td>\n",
       "      <td>False</td>\n",
       "      <td>False</td>\n",
       "      <td>False</td>\n",
       "      <td>True</td>\n",
       "      <td>False</td>\n",
       "      <td>False</td>\n",
       "      <td>False</td>\n",
       "      <td>False</td>\n",
       "      <td>False</td>\n",
       "      <td>False</td>\n",
       "      <td>False</td>\n",
       "      <td>False</td>\n",
       "      <td>False</td>\n",
       "    </tr>\n",
       "    <tr>\n",
       "      <th>42715</th>\n",
       "      <td>True</td>\n",
       "      <td>False</td>\n",
       "      <td>True</td>\n",
       "      <td>True</td>\n",
       "      <td>False</td>\n",
       "      <td>False</td>\n",
       "      <td>True</td>\n",
       "      <td>True</td>\n",
       "      <td>False</td>\n",
       "      <td>False</td>\n",
       "      <td>False</td>\n",
       "      <td>False</td>\n",
       "      <td>False</td>\n",
       "      <td>False</td>\n",
       "      <td>False</td>\n",
       "      <td>False</td>\n",
       "      <td>False</td>\n",
       "    </tr>\n",
       "    <tr>\n",
       "      <th>42716</th>\n",
       "      <td>True</td>\n",
       "      <td>True</td>\n",
       "      <td>True</td>\n",
       "      <td>False</td>\n",
       "      <td>True</td>\n",
       "      <td>False</td>\n",
       "      <td>False</td>\n",
       "      <td>False</td>\n",
       "      <td>False</td>\n",
       "      <td>True</td>\n",
       "      <td>False</td>\n",
       "      <td>False</td>\n",
       "      <td>False</td>\n",
       "      <td>False</td>\n",
       "      <td>False</td>\n",
       "      <td>False</td>\n",
       "      <td>False</td>\n",
       "    </tr>\n",
       "  </tbody>\n",
       "</table>\n",
       "<p>42717 rows × 17 columns</p>\n",
       "</div>"
      ],
      "text/plain": [
       "       garage  balcon  parrilla  piscina  terraza  patio  jardin  quincho  \\\n",
       "0       False   False     False    False    False   True   False    False   \n",
       "1       False   False     False    False    False  False   False    False   \n",
       "2        True   False     False    False    False   True   False    False   \n",
       "3       False   False     False     True    False  False   False    False   \n",
       "4       False   False     False     True    False  False   False    False   \n",
       "...       ...     ...       ...      ...      ...    ...     ...      ...   \n",
       "42712   False   False      True     True    False  False   False    False   \n",
       "42713   False    True      True    False    False  False   False    False   \n",
       "42714    True    True      True     True    False  False   False     True   \n",
       "42715    True   False      True     True    False  False    True     True   \n",
       "42716    True    True      True    False     True  False   False    False   \n",
       "\n",
       "       s.u.m.  amenities  baulera  gimnasio  subte-linea-d  subte-linea-b  \\\n",
       "0       False      False    False     False          False          False   \n",
       "1       False      False    False     False          False          False   \n",
       "2       False      False    False     False          False          False   \n",
       "3       False      False    False     False          False          False   \n",
       "4       False      False    False     False          False          False   \n",
       "...       ...        ...      ...       ...            ...            ...   \n",
       "42712   False      False    False     False          False          False   \n",
       "42713   False      False    False     False          False          False   \n",
       "42714   False      False    False     False          False          False   \n",
       "42715   False      False    False     False          False          False   \n",
       "42716   False       True    False     False          False          False   \n",
       "\n",
       "       subte-linea-a  subte-linea-h  subte-linea-e  \n",
       "0              False          False          False  \n",
       "1              False          False          False  \n",
       "2              False          False          False  \n",
       "3              False          False          False  \n",
       "4              False          False          False  \n",
       "...              ...            ...            ...  \n",
       "42712          False          False          False  \n",
       "42713          False           True          False  \n",
       "42714          False          False          False  \n",
       "42715          False          False          False  \n",
       "42716          False          False          False  \n",
       "\n",
       "[42717 rows x 17 columns]"
      ]
     },
     "execution_count": 161,
     "metadata": {},
     "output_type": "execute_result"
    }
   ],
   "source": [
    "#convierto resultado en dataframe, y renombro las columnas por la lista de palabras adicionales\n",
    "df = pd.DataFrame(resultado)\n",
    "df.columns = [\"garage\", \"balcon\", \"parrilla\", \"piscina\", \"terraza\", \"patio\", \"jardin\", \"quincho\", \"s.u.m.\", \"amenities\", \"baulera\", \"gimnasio\",\"subte-linea-d\", \"subte-linea-b\", \"subte-linea-a\", \"subte-linea-h\", \"subte-linea-e\"]\n",
    "df"
   ]
  },
  {
   "cell_type": "code",
   "execution_count": 162,
   "id": "67d81c97",
   "metadata": {
    "id": "DHZhUj4uxYJA"
   },
   "outputs": [
    {
     "data": {
      "text/plain": [
       "Index(['property_type', 'state_name', 'place_name', 'place_with_parent_names',\n",
       "       'price_aprox_usd', 'surface_total_in_m2', 'surface_covered_in_m2',\n",
       "       'price_usd_per_m2', 'rooms', 'description', 'title', 'properati_url',\n",
       "       'garage', 'balcon', 'parrilla', 'piscina', 'terraza', 'patio', 'jardin',\n",
       "       'quincho', 's.u.m.', 'amenities', 'baulera', 'gimnasio',\n",
       "       'subte-linea-d', 'subte-linea-b', 'subte-linea-a', 'subte-linea-h',\n",
       "       'subte-linea-e'],\n",
       "      dtype='object')"
      ]
     },
     "execution_count": 162,
     "metadata": {},
     "output_type": "execute_result"
    }
   ],
   "source": [
    "#uno el dataframe original con el nuevo generado de true/false\n",
    "#data = pd.merge(data,df,left_index=True, right_index=True)\n",
    "data = data.join(df)\n",
    "data.columns\n",
    "#antes me puso los dos indices como resultado del merge, y tuve que sacar la primera columna\n",
    "#data.drop(columns=data.columns[0], axis=1,inplace=True)\n",
    "#data.columns"
   ]
  },
  {
   "cell_type": "code",
   "execution_count": 163,
   "id": "c8223554",
   "metadata": {},
   "outputs": [
    {
     "data": {
      "text/plain": [
       "(42717, 29)"
      ]
     },
     "execution_count": 163,
     "metadata": {},
     "output_type": "execute_result"
    }
   ],
   "source": [
    "data.shape"
   ]
  },
  {
   "cell_type": "markdown",
   "id": "614ee700",
   "metadata": {
    "heading_collapsed": "true",
    "id": "f452ad15"
   },
   "source": [
    "### 3.3.2. *State name*"
   ]
  },
  {
   "cell_type": "markdown",
   "id": "037f83e7",
   "metadata": {},
   "source": [
    "**creé las dummies sin drop_first para poder hacer el join**"
   ]
  },
  {
   "cell_type": "code",
   "execution_count": 164,
   "id": "fbc9f0e6",
   "metadata": {},
   "outputs": [],
   "source": [
    "df_sn = pd.get_dummies(data[\"state_name\"])"
   ]
  },
  {
   "cell_type": "code",
   "execution_count": 165,
   "id": "a7d9c27c",
   "metadata": {},
   "outputs": [
    {
     "data": {
      "text/plain": [
       "Index(['property_type', 'state_name', 'place_name', 'place_with_parent_names',\n",
       "       'price_aprox_usd', 'surface_total_in_m2', 'surface_covered_in_m2',\n",
       "       'price_usd_per_m2', 'rooms', 'description', 'title', 'properati_url',\n",
       "       'garage', 'balcon', 'parrilla', 'piscina', 'terraza', 'patio', 'jardin',\n",
       "       'quincho', 's.u.m.', 'amenities', 'baulera', 'gimnasio',\n",
       "       'subte-linea-d', 'subte-linea-b', 'subte-linea-a', 'subte-linea-h',\n",
       "       'subte-linea-e', 'Bs.As. G.B.A. Zona Norte', 'Bs.As. G.B.A. Zona Oeste',\n",
       "       'Bs.As. G.B.A. Zona Sur', 'Capital Federal'],\n",
       "      dtype='object')"
      ]
     },
     "execution_count": 165,
     "metadata": {},
     "output_type": "execute_result"
    }
   ],
   "source": [
    "data = data.join(df_sn)\n",
    "data.columns"
   ]
  },
  {
   "cell_type": "code",
   "execution_count": 166,
   "id": "46f31f92",
   "metadata": {},
   "outputs": [
    {
     "data": {
      "text/plain": [
       "(42717, 33)"
      ]
     },
     "execution_count": 166,
     "metadata": {},
     "output_type": "execute_result"
    }
   ],
   "source": [
    "data.shape"
   ]
  },
  {
   "cell_type": "markdown",
   "id": "8a356562",
   "metadata": {
    "heading_collapsed": "true"
   },
   "source": [
    "### 3.3.3. *Place name*"
   ]
  },
  {
   "cell_type": "markdown",
   "id": "383af23c",
   "metadata": {},
   "source": [
    "**creé las dummies sin drop_first para poder hacer el join**"
   ]
  },
  {
   "cell_type": "code",
   "execution_count": 167,
   "id": "91da5a35",
   "metadata": {},
   "outputs": [],
   "source": [
    "df_pn = pd.get_dummies(data[\"place_name\"], prefix=\"pn\")"
   ]
  },
  {
   "cell_type": "code",
   "execution_count": 168,
   "id": "178c0862",
   "metadata": {},
   "outputs": [
    {
     "data": {
      "text/plain": [
       "Index(['property_type', 'state_name', 'place_name', 'place_with_parent_names',\n",
       "       'price_aprox_usd', 'surface_total_in_m2', 'surface_covered_in_m2',\n",
       "       'price_usd_per_m2', 'rooms', 'description',\n",
       "       ...\n",
       "       'pn_Villa de Mayo', 'pn_Villa del Parque',\n",
       "       'pn_Village Golf & Tennis Country Club', 'pn_Virasoro Village',\n",
       "       'pn_Virrey del Pino', 'pn_Virreyes', 'pn_Wilde', 'pn_William Morris',\n",
       "       'pn_Zelaya', 'pn_coordenadas 34.255511'],\n",
       "      dtype='object', length=484)"
      ]
     },
     "execution_count": 168,
     "metadata": {},
     "output_type": "execute_result"
    }
   ],
   "source": [
    "data = data.join(df_pn)\n",
    "data.columns"
   ]
  },
  {
   "cell_type": "code",
   "execution_count": 169,
   "id": "36d36a97",
   "metadata": {},
   "outputs": [
    {
     "data": {
      "text/plain": [
       "(42717, 484)"
      ]
     },
     "execution_count": 169,
     "metadata": {},
     "output_type": "execute_result"
    }
   ],
   "source": [
    "data.shape"
   ]
  },
  {
   "cell_type": "markdown",
   "id": "bdd1181a",
   "metadata": {
    "heading_collapsed": "true"
   },
   "source": [
    "### 3.3.4. Dropeo de columnas innecesarias y una de cada *dummy*"
   ]
  },
  {
   "cell_type": "code",
   "execution_count": 170,
   "id": "8a8a35c6",
   "metadata": {},
   "outputs": [],
   "source": [
    "#data = data.drop( axis = 1, columns = ['description', 'title', 'properati_url', 'Bs.As. G.B.A. Zona Sur','pn_Virreyes'], inplace= True)\n",
    "data.shape"
   ]
  },
  {
   "cell_type": "markdown",
   "id": "d4b883e4",
   "metadata": {},
   "source": [
    "# **4. Exportación del dataset resultante a un nuevo *.csv***"
   ]
  },
  {
   "cell_type": "code",
   "execution_count": 172,
   "id": "1fb811c5",
   "metadata": {
    "id": "32391447"
   },
   "outputs": [],
   "source": [
    "# para exportar resultados\n",
    "data.to_csv(r'../data/properatti_tp2.csv', index = False, header=True)"
   ]
  },
  {
   "cell_type": "code",
   "execution_count": null,
   "id": "41330a2d",
   "metadata": {},
   "outputs": [],
   "source": [
    "# para usar el nuevo dataset desde el archivo\n",
    "# data = pd.read_csv(\"../data/properatti_tp2.csv\", sep = \",\", low_memory=False) \n",
    "# data.head(3)\n",
    "# data.shape"
   ]
  }
 ],
 "metadata": {
  "colab": {
   "collapsed_sections": [
    "cdbfda03",
    "5eb9b770",
    "2fa218dc"
   ],
   "name": "Principal.ipynb",
   "provenance": []
  },
  "interpreter": {
   "hash": "6ac88a8a1a8cc340d2b05566e22fde7412d1d718644d4b1167688fa7d4044e9b"
  },
  "kernelspec": {
   "display_name": "Python 3.8.12 ('dhds22')",
   "language": "python",
   "name": "python3"
  },
  "language_info": {
   "codemirror_mode": {
    "name": "ipython",
    "version": 3
   },
   "file_extension": ".py",
   "mimetype": "text/x-python",
   "name": "python",
   "nbconvert_exporter": "python",
   "pygments_lexer": "ipython3",
   "version": "3.8.12"
  }
 },
 "nbformat": 4,
 "nbformat_minor": 5
}
