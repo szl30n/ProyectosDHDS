{
 "cells": [
  {
   "cell_type": "code",
   "execution_count": 3,
   "id": "21d1e0a1",
   "metadata": {},
   "outputs": [],
   "source": [
    "import numpy as np\n",
    "import pandas as pd\n",
    "import seaborn as sns\n",
    "import matplotlib.pyplot as plt\n",
    "import plotly.express as px\n",
    "from sklearn.linear_model import LinearRegression\n",
    "from sklearn.model_selection import train_test_split\n",
    "from sklearn.metrics import mean_absolute_error, mean_squared_error, r2_score\n",
    "from IPython.core.interactiveshell import InteractiveShell\n",
    "InteractiveShell.ast_node_interactivity = \"all\""
   ]
  },
  {
   "cell_type": "markdown",
   "id": "4e5c79bd",
   "metadata": {},
   "source": [
    "# **Importación de los datos de properati y AR**"
   ]
  },
  {
   "cell_type": "code",
   "execution_count": 6,
   "id": "658f3933",
   "metadata": {},
   "outputs": [
    {
     "data": {
      "text/plain": [
       "(121220, 26)"
      ]
     },
     "execution_count": 6,
     "metadata": {},
     "output_type": "execute_result"
    }
   ],
   "source": [
    "data = pd.read_csv(\"../data/properatti.csv\", sep = \",\", low_memory=False) \n",
    "#data.head(3)\n",
    "data.shape"
   ]
  },
  {
   "cell_type": "code",
   "execution_count": 7,
   "id": "4e734e80",
   "metadata": {},
   "outputs": [
    {
     "data": {
      "text/html": [
       "<div>\n",
       "<style scoped>\n",
       "    .dataframe tbody tr th:only-of-type {\n",
       "        vertical-align: middle;\n",
       "    }\n",
       "\n",
       "    .dataframe tbody tr th {\n",
       "        vertical-align: top;\n",
       "    }\n",
       "\n",
       "    .dataframe thead th {\n",
       "        text-align: right;\n",
       "    }\n",
       "</style>\n",
       "<table border=\"1\" class=\"dataframe\">\n",
       "  <thead>\n",
       "    <tr style=\"text-align: right;\">\n",
       "      <th></th>\n",
       "      <th>place_name</th>\n",
       "      <th>place_name2</th>\n",
       "      <th>Lat</th>\n",
       "      <th>Lon</th>\n",
       "      <th>Pais</th>\n",
       "      <th>country_name</th>\n",
       "      <th>state_name</th>\n",
       "    </tr>\n",
       "  </thead>\n",
       "  <tbody>\n",
       "    <tr>\n",
       "      <th>0</th>\n",
       "      <td>Sierra del 15</td>\n",
       "      <td>Sierra del 15</td>\n",
       "      <td>-37.96613</td>\n",
       "      <td>-57.94670</td>\n",
       "      <td>AR</td>\n",
       "      <td>Argentina</td>\n",
       "      <td>Buenos Aires</td>\n",
       "    </tr>\n",
       "    <tr>\n",
       "      <th>1</th>\n",
       "      <td>Puesto 1 Napoleón Cué</td>\n",
       "      <td>Puesto 1 Napoleon Cue</td>\n",
       "      <td>-28.63333</td>\n",
       "      <td>-56.11667</td>\n",
       "      <td>AR</td>\n",
       "      <td>Argentina</td>\n",
       "      <td>Cordoba</td>\n",
       "    </tr>\n",
       "    <tr>\n",
       "      <th>2</th>\n",
       "      <td>Cañada del Zorro</td>\n",
       "      <td>Canada del Zorro</td>\n",
       "      <td>-32.16667</td>\n",
       "      <td>-59.50000</td>\n",
       "      <td>AR</td>\n",
       "      <td>Argentina</td>\n",
       "      <td>Cordoba</td>\n",
       "    </tr>\n",
       "  </tbody>\n",
       "</table>\n",
       "</div>"
      ],
      "text/plain": [
       "              place_name            place_name2       Lat       Lon Pais  \\\n",
       "0          Sierra del 15          Sierra del 15 -37.96613 -57.94670   AR   \n",
       "1  Puesto 1 Napoleón Cué  Puesto 1 Napoleon Cue -28.63333 -56.11667   AR   \n",
       "2       Cañada del Zorro       Canada del Zorro -32.16667 -59.50000   AR   \n",
       "\n",
       "  country_name    state_name  \n",
       "0    Argentina  Buenos Aires  \n",
       "1    Argentina       Cordoba  \n",
       "2    Argentina       Cordoba  "
      ]
     },
     "execution_count": 7,
     "metadata": {},
     "output_type": "execute_result"
    }
   ],
   "source": [
    "#import AR.csv trayendo algunas de las columnas que tienen info de ubicación\n",
    "columnas = ['num', 'place_name', 'place_name2','s20', 'Lat','Lon', 's', 'rnch', 'Pais','s0','s1','s2','s3','s4','s5','s6','s7','place_with_parent_names','fecha']\n",
    "dataAR = pd.read_csv(\"../data/AR.tsv\", header=None, names=columnas,  usecols=[1,2,4,5,8,17], sep = \"\\t\", low_memory=False) \n",
    "\n",
    "#elimino la cadena de caracteres America/ y separo la columna place_with_parent_names en columnas, \n",
    "#renombro las columnas resultantes para coincidir con las columnas de data\n",
    "dataAR[\"place_with_parent_names\"] = dataAR[\"place_with_parent_names\"].replace({'America/':''}, regex=True)\n",
    "dataAR[[\"country_name\", \"state_name\"]] = dataAR[\"place_with_parent_names\"].str.split(\"/\", expand=True)\n",
    "dataAR[\"state_name\"]=dataAR[\"state_name\"].replace({'_':' '}, regex=True)\n",
    "dataAR.drop(\"place_with_parent_names\", axis=1, inplace=True)\n",
    "dataAR.head(3)"
   ]
  },
  {
   "cell_type": "code",
   "execution_count": null,
   "id": "bbd0c2c6",
   "metadata": {},
   "outputs": [],
   "source": []
  }
 ],
 "metadata": {
  "kernelspec": {
   "display_name": "Python [conda env:ds] *",
   "language": "python",
   "name": "conda-env-ds-py"
  },
  "language_info": {
   "codemirror_mode": {
    "name": "ipython",
    "version": 3
   },
   "file_extension": ".py",
   "mimetype": "text/x-python",
   "name": "python",
   "nbconvert_exporter": "python",
   "pygments_lexer": "ipython3",
   "version": "3.8.12"
  }
 },
 "nbformat": 4,
 "nbformat_minor": 5
}
