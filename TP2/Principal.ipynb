version https://git-lfs.github.com/spec/v1
oid sha256:2522afb56f66893eb36e695c33cf92fb2ec8e4fc9885a2d30881e5429beb5be3
size 81028
