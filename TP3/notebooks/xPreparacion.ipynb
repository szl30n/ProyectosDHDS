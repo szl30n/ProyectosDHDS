{
 "cells": [
  {
   "cell_type": "markdown",
   "id": "d84263c3",
   "metadata": {
    "heading_collapsed": "true"
   },
   "source": [
    "# ***Informacion del dataset***"
   ]
  },
  {
   "cell_type": "code",
   "execution_count": 1,
   "id": "5e13dc44",
   "metadata": {},
   "outputs": [],
   "source": [
    "\n",
    "%%html\n",
    "<style> table { display: inline-block  }</style>"
   ]
  },
  {
   "cell_type": "markdown",
   "id": "b050cdc6",
   "metadata": {},
   "source": [
    "https://www.kaggle.com/datasets/riteshahlawat/covid19-mexico-patient-health-dataset\n",
    "\n",
    "\n",
    "\n",
    "|col|0|1|97-98|\n",
    "|---|---|---|---|\n",
    "|sex|F|M|?|\n",
    "|hospitalized|no|si|?|\n",
    "|intubated|no|si|?|\n",
    "|pneumonia|no|si|?|\n",
    "|age|no|si|?|\n",
    "|pregnant|no|si|?|\n",
    "|diabetes|no|si|?|\n",
    "|copd|no|si|?|\n",
    "|asthma|no|si|?|\n",
    "|immunosuppression|no|si|?|\n",
    "|hypertension|no|si|?|\n",
    "|other_diseases|no|si|?|\n",
    "|cardiovascular|no|si|?|\n",
    "|obesity|no|si|?|\n",
    "|chronic_kidney_failure|no|si|?|\n",
    "|smoker|no|si|?|\n",
    "|another_case|no|si|?|\n",
    "|outcome|no|si|?|\n",
    "|icu|no|si|?|\n",
    "|dead|no|si|?|"
   ]
  },
  {
   "cell_type": "markdown",
   "id": "a30ed57b",
   "metadata": {
    "heading_collapsed": "true"
   },
   "source": [
    "# **1. Importación de *modules***"
   ]
  },
  {
   "cell_type": "code",
   "execution_count": 2,
   "id": "ced448a2",
   "metadata": {
    "id": "4780501a"
   },
   "outputs": [],
   "source": [
    "import numpy as np\n",
    "import pandas as pd\n",
    "\n",
    "import seaborn as sns\n",
    "import matplotlib.pyplot as plt\n",
    "import plotly.express as px\n",
    "\n",
    "from numpy.ma.core import count\n",
    "\n",
    "from IPython.core.interactiveshell import InteractiveShell\n",
    "InteractiveShell.ast_node_interactivity = \"all\"\n",
    "%config Completer.use_jedi = False\n",
    "import warnings\n",
    "warnings.filterwarnings(\"ignore\")\n",
    "\n",
    "import funciones as f"
   ]
  },
  {
   "cell_type": "markdown",
   "id": "6e4da1e5",
   "metadata": {
    "heading_collapsed": "true",
    "id": "cdbfda03"
   },
   "source": [
    "# **2. Importación del dataset *Patient.csv***\n"
   ]
  },
  {
   "cell_type": "code",
   "execution_count": 3,
   "id": "123f109c",
   "metadata": {
    "id": "a7754818",
    "outputId": "05a09978-f855-4c68-c039-46d93fbde29b"
   },
   "outputs": [
    {
     "name": "stdout",
     "output_type": "stream",
     "text": [
      "   sex  patient_type  intubated  pneumonia  age  pregnant  diabetes  copd  \\\n",
      "0    2             1         97          2   42        97         2     2   \n",
      "1    1             1         97          2   51         2         2     2   \n",
      "2    2             2          2          2   51        97         1     2   \n",
      "\n",
      "   asthma  immunosuppression  hypertension  other_diseases  cardiovascular  \\\n",
      "0       1                  2             2               2               2   \n",
      "1       2                  2             2               2               2   \n",
      "2       2                  2             1               2               2   \n",
      "\n",
      "   obesity  chronic_kidney_failure  smoker  outcome  icu  death_date  \n",
      "0        2                       2       2        1   97  9999-99-99  \n",
      "1        2                       2       2        1   97  9999-99-99  \n",
      "2        1                       2       2        1    2  9999-99-99  \n",
      "(95252, 19)\n"
     ]
    }
   ],
   "source": [
    "data = pd.read_csv(\"../data/patient.csv\", sep = \",\", low_memory=False) \n",
    "f._get_info(data)"
   ]
  },
  {
   "cell_type": "markdown",
   "id": "e4054b91",
   "metadata": {},
   "source": [
    "# **3. Tratamiento de los datos**\n",
    "Limpieza e imputaciones"
   ]
  },
  {
   "cell_type": "markdown",
   "id": "8d954435",
   "metadata": {
    "heading_collapsed": "true",
    "id": "9eafe596"
   },
   "source": [
    "### 3.1. Dropeo de columnas no informativas"
   ]
  },
  {
   "cell_type": "code",
   "execution_count": 4,
   "id": "6b924a24",
   "metadata": {},
   "outputs": [
    {
     "name": "stdout",
     "output_type": "stream",
     "text": [
      "Index(['sex', 'patient_type', 'pneumonia', 'age', 'pregnant', 'diabetes',\n",
      "       'copd', 'asthma', 'immunosuppression', 'hypertension', 'other_diseases',\n",
      "       'cardiovascular', 'obesity', 'chronic_kidney_failure', 'smoker',\n",
      "       'outcome'],\n",
      "      dtype='object')\n"
     ]
    },
    {
     "data": {
      "text/plain": [
       "(95252, 16)"
      ]
     },
     "execution_count": 4,
     "metadata": {},
     "output_type": "execute_result"
    }
   ],
   "source": [
    "#Dropeo icu, intubated, death_date\n",
    "data=data.drop(['icu','intubated','death_date'], axis=1)\n",
    "print(data.columns)\n",
    "#f._get_info(data)\n",
    "data.shape"
   ]
  },
  {
   "cell_type": "code",
   "execution_count": 5,
   "id": "d9c82f17",
   "metadata": {},
   "outputs": [
    {
     "name": "stdout",
     "output_type": "stream",
     "text": [
      "Int64Index([161, 174, 592, 609, 644, 13322, 15671, 27316], dtype='int64')\n"
     ]
    },
    {
     "data": {
      "text/plain": [
       "(95244, 16)"
      ]
     },
     "execution_count": 5,
     "metadata": {},
     "output_type": "execute_result"
    }
   ],
   "source": [
    "#99 a null y dropeo\n",
    "cols=data.columns.difference(['age'])\n",
    "\n",
    "df=(data[cols] == 99)\n",
    "ix=df[df.any(axis=1)].index\n",
    "print(ix)\n",
    "data.drop(df.index[ix], axis=0, inplace=True)\n",
    "data.shape\n"
   ]
  },
  {
   "cell_type": "markdown",
   "id": "f4f7674e",
   "metadata": {
    "heading_collapsed": "true"
   },
   "source": [
    "### 3.2. Renombre de columnas ambiguas\n",
    "Por ejemplo, patient_type a inpatient, outcome a covid, etc"
   ]
  },
  {
   "cell_type": "code",
   "execution_count": 6,
   "id": "72c546e9",
   "metadata": {},
   "outputs": [
    {
     "data": {
      "text/plain": [
       "Index(['sex', 'inpatient', 'pneumonia', 'age', 'pregnant', 'diabetes', 'copd',\n",
       "       'asthma', 'immunosuppression', 'hypertension', 'other_diseases',\n",
       "       'cardiovascular', 'obesity', 'chronic_kidney_failure', 'smoker',\n",
       "       'covid'],\n",
       "      dtype='object')"
      ]
     },
     "execution_count": 6,
     "metadata": {},
     "output_type": "execute_result"
    }
   ],
   "source": [
    "data.rename(columns={\"patient_type\": \"inpatient\", \"outcome\": \"covid\"},inplace=True)\n",
    "data.columns"
   ]
  },
  {
   "cell_type": "markdown",
   "id": "282abb9d",
   "metadata": {},
   "source": [
    "Matriz de correlación para regresión logística"
   ]
  },
  {
   "cell_type": "code",
   "execution_count": 7,
   "id": "c9e7a085",
   "metadata": {},
   "outputs": [
    {
     "data": {
      "image/png": "[encoded data removed]",
      "text/plain": [
       "<Figure size 1080x648 with 2 Axes>"
      ]
     },
     "metadata": {
      "needs_background": "light"
     },
     "output_type": "display_data"
    }
   ],
   "source": [
    "f._print_matriz_correlacion(data)"
   ]
  },
  {
   "cell_type": "markdown",
   "id": "5b0eed46",
   "metadata": {},
   "source": [
    "### 3.3 Conversión de datos"
   ]
  },
  {
   "cell_type": "code",
   "execution_count": 8,
   "id": "94938cd9",
   "metadata": {},
   "outputs": [
    {
     "data": {
      "text/html": [
       "<div>\n",
       "<style scoped>\n",
       "    .dataframe tbody tr th:only-of-type {\n",
       "        vertical-align: middle;\n",
       "    }\n",
       "\n",
       "    .dataframe tbody tr th {\n",
       "        vertical-align: top;\n",
       "    }\n",
       "\n",
       "    .dataframe thead th {\n",
       "        text-align: right;\n",
       "    }\n",
       "</style>\n",
       "<table border=\"1\" class=\"dataframe\">\n",
       "  <thead>\n",
       "    <tr style=\"text-align: right;\">\n",
       "      <th></th>\n",
       "      <th>sex</th>\n",
       "      <th>inpatient</th>\n",
       "      <th>pneumonia</th>\n",
       "      <th>age</th>\n",
       "      <th>pregnant</th>\n",
       "      <th>diabetes</th>\n",
       "      <th>copd</th>\n",
       "      <th>asthma</th>\n",
       "      <th>immunosuppression</th>\n",
       "      <th>hypertension</th>\n",
       "      <th>other_diseases</th>\n",
       "      <th>cardiovascular</th>\n",
       "      <th>obesity</th>\n",
       "      <th>chronic_kidney_failure</th>\n",
       "      <th>smoker</th>\n",
       "      <th>covid</th>\n",
       "    </tr>\n",
       "  </thead>\n",
       "  <tbody>\n",
       "    <tr>\n",
       "      <th>0</th>\n",
       "      <td>M</td>\n",
       "      <td>0</td>\n",
       "      <td>N</td>\n",
       "      <td>42</td>\n",
       "      <td>NA</td>\n",
       "      <td>N</td>\n",
       "      <td>N</td>\n",
       "      <td>Y</td>\n",
       "      <td>N</td>\n",
       "      <td>N</td>\n",
       "      <td>N</td>\n",
       "      <td>N</td>\n",
       "      <td>N</td>\n",
       "      <td>N</td>\n",
       "      <td>N</td>\n",
       "      <td>Y</td>\n",
       "    </tr>\n",
       "    <tr>\n",
       "      <th>1</th>\n",
       "      <td>F</td>\n",
       "      <td>0</td>\n",
       "      <td>N</td>\n",
       "      <td>51</td>\n",
       "      <td>N</td>\n",
       "      <td>N</td>\n",
       "      <td>N</td>\n",
       "      <td>N</td>\n",
       "      <td>N</td>\n",
       "      <td>N</td>\n",
       "      <td>N</td>\n",
       "      <td>N</td>\n",
       "      <td>N</td>\n",
       "      <td>N</td>\n",
       "      <td>N</td>\n",
       "      <td>Y</td>\n",
       "    </tr>\n",
       "    <tr>\n",
       "      <th>2</th>\n",
       "      <td>M</td>\n",
       "      <td>1</td>\n",
       "      <td>N</td>\n",
       "      <td>51</td>\n",
       "      <td>NA</td>\n",
       "      <td>Y</td>\n",
       "      <td>N</td>\n",
       "      <td>N</td>\n",
       "      <td>N</td>\n",
       "      <td>Y</td>\n",
       "      <td>N</td>\n",
       "      <td>N</td>\n",
       "      <td>Y</td>\n",
       "      <td>N</td>\n",
       "      <td>N</td>\n",
       "      <td>Y</td>\n",
       "    </tr>\n",
       "    <tr>\n",
       "      <th>3</th>\n",
       "      <td>M</td>\n",
       "      <td>1</td>\n",
       "      <td>N</td>\n",
       "      <td>57</td>\n",
       "      <td>NA</td>\n",
       "      <td>Y</td>\n",
       "      <td>N</td>\n",
       "      <td>N</td>\n",
       "      <td>N</td>\n",
       "      <td>N</td>\n",
       "      <td>N</td>\n",
       "      <td>N</td>\n",
       "      <td>N</td>\n",
       "      <td>N</td>\n",
       "      <td>N</td>\n",
       "      <td>Y</td>\n",
       "    </tr>\n",
       "    <tr>\n",
       "      <th>4</th>\n",
       "      <td>F</td>\n",
       "      <td>1</td>\n",
       "      <td>N</td>\n",
       "      <td>44</td>\n",
       "      <td>N</td>\n",
       "      <td>Y</td>\n",
       "      <td>N</td>\n",
       "      <td>N</td>\n",
       "      <td>N</td>\n",
       "      <td>N</td>\n",
       "      <td>N</td>\n",
       "      <td>N</td>\n",
       "      <td>N</td>\n",
       "      <td>N</td>\n",
       "      <td>N</td>\n",
       "      <td>N</td>\n",
       "    </tr>\n",
       "  </tbody>\n",
       "</table>\n",
       "</div>"
      ],
      "text/plain": [
       "  sex  inpatient pneumonia  age pregnant diabetes copd asthma  \\\n",
       "0   M          0         N   42       NA        N    N      Y   \n",
       "1   F          0         N   51        N        N    N      N   \n",
       "2   M          1         N   51       NA        Y    N      N   \n",
       "3   M          1         N   57       NA        Y    N      N   \n",
       "4   F          1         N   44        N        Y    N      N   \n",
       "\n",
       "  immunosuppression hypertension other_diseases cardiovascular obesity  \\\n",
       "0                 N            N              N              N       N   \n",
       "1                 N            N              N              N       N   \n",
       "2                 N            Y              N              N       Y   \n",
       "3                 N            N              N              N       N   \n",
       "4                 N            N              N              N       N   \n",
       "\n",
       "  chronic_kidney_failure smoker covid  \n",
       "0                      N      N     Y  \n",
       "1                      N      N     Y  \n",
       "2                      N      N     Y  \n",
       "3                      N      N     Y  \n",
       "4                      N      N     N  "
      ]
     },
     "execution_count": 8,
     "metadata": {},
     "output_type": "execute_result"
    }
   ],
   "source": [
    "#Para predictivas: 1 -> Y, 2 -> N, \n",
    "cols = data.loc[:, data.columns.difference(['age', 'sex','inpatient'])].columns\n",
    "#print(cols) \n",
    "data[cols] = data[cols].replace([1,2],['Y','N'])\n",
    "#f._get_info(data)\n",
    "\n",
    "#en sex: 1 -> F y 2-> M\n",
    "data['sex']= data['sex'].replace([1,2],['F','M'])\n",
    "#f._get_info(data)\n",
    "\n",
    "#en pregnant : 98 -> N, 97 -> NA\n",
    "data['pregnant'] = data['pregnant'].replace([98,97],['N','NA'])\n",
    "#f._get_info(data,5)\n",
    "\n",
    "# outcome: 3 -> NA\n",
    "data['covid'] = data['covid'].replace([3],['NA'])\n",
    "#f._get_info(data)\n",
    "\n",
    "##Para target (inpatient): 1 -> 0, 2 -> 1\n",
    "data['inpatient']= data['inpatient'].replace([1,2],[0,1])\n",
    "#f._get_info(data)\n",
    "data.head(5)"
   ]
  },
  {
   "cell_type": "markdown",
   "id": "d2da5881",
   "metadata": {},
   "source": [
    "### 3.4. Tabla de counts"
   ]
  },
  {
   "cell_type": "code",
   "execution_count": 39,
   "id": "ad729a83",
   "metadata": {},
   "outputs": [
    {
     "data": {
      "text/plain": [
       "<AxesSubplot:>"
      ]
     },
     "execution_count": 39,
     "metadata": {},
     "output_type": "execute_result"
    },
    {
     "data": {
      "text/plain": [
       "[Text(0.5, 0, 'Columnas'), Text(0, 0.5, '% '), Text(0.5, 1.0, 'Datos ')]"
      ]
     },
     "execution_count": 39,
     "metadata": {},
     "output_type": "execute_result"
    },
    {
     "data": {
      "text/plain": [
       "<matplotlib.legend.Legend at 0x190a70ceca0>"
      ]
     },
     "execution_count": 39,
     "metadata": {},
     "output_type": "execute_result"
    },
    {
     "data": {
      "image/png": "[encoded data removed]",
      "text/plain": [
       "<Figure size 936x432 with 1 Axes>"
      ]
     },
     "metadata": {},
     "output_type": "display_data"
    }
   ],
   "source": [
    "#cols_plt = data.loc[:, data.columns.difference(['age', 'sex','inpatient', 'covid'])].columns\n",
    "cols_plt = data.loc[:, data.columns.difference(['age', 'sex','inpatient'])].columns\n",
    "\n",
    "# Creamos un nuevo dataframe para hacer el gráfico, sólo con dos columnas, % de nulos y no nulos por variable\n",
    "val_yes = data.apply(lambda x: (x=='Y').sum() / data.shape[0] * 100)\n",
    "val_not = data.apply(lambda x: (x=='N').sum() / data.shape[0] * 100)\n",
    "val_na = data.apply(lambda x: (x=='NA').sum() / data.shape[0] * 100)\n",
    "#val_1 = data.apply(lambda x: (x=='0').count() / data.shape[0] * 100)\n",
    "#sry_null = pd.DataFrame({'Y': val_yes, 'N': val_not ,'NA': val_na ,'0': val_1})\n",
    "sry_null = pd.DataFrame({'Y': val_yes, 'N': val_not ,'NA': val_na })\n",
    "\n",
    "# Estilo de gráfico con seaborn\n",
    "sns.set(style = 'dark')\n",
    "\n",
    "# Creo el gráfico reemplazando el nombre de las variables por uno más corto y ordenando antes\n",
    "fig, ax = plt.figure(figsize = (13, 6)), plt.axes()\n",
    "sry_null.rename(index = cols_dict).sort_values(by = 'N').plot(kind = 'bar', stacked = True, color = ['#0CA4A5', '#BB7E5D' , '#CC7EEE','#0CccA5'], ax = ax)\n",
    "\n",
    "# seteo la posición de la leyenda y los títulos para los ejes y la figura\n",
    "ax.set(xlabel = 'Columnas', ylabel = '% ', title = 'Datos ')\n",
    "ax.legend(loc = 'upper left')\n",
    "# Guardo la imagen\n",
    "#en colab\n",
    "#images_dir = '/content/drive/My Drive/DSDH/TP1/Imagenes/null_barplot.png'\n",
    "#en jupyter\n",
    "plt.show()\n",
    "#plt.savefig(\"null_barplot.png\", dpi = 150, bbox_inches = 'tight', pad_inches = 0.1)\n"
   ]
  },
  {
   "cell_type": "code",
   "execution_count": 200,
   "id": "54db747d",
   "metadata": {},
   "outputs": [
    {
     "data": {
      "text/html": [
       "<div>\n",
       "<style scoped>\n",
       "    .dataframe tbody tr th:only-of-type {\n",
       "        vertical-align: middle;\n",
       "    }\n",
       "\n",
       "    .dataframe tbody tr th {\n",
       "        vertical-align: top;\n",
       "    }\n",
       "\n",
       "    .dataframe thead th {\n",
       "        text-align: right;\n",
       "    }\n",
       "</style>\n",
       "<table border=\"1\" class=\"dataframe\">\n",
       "  <thead>\n",
       "    <tr style=\"text-align: right;\">\n",
       "      <th></th>\n",
       "      <th>cant s</th>\n",
       "      <th>cant c</th>\n",
       "      <th>cant p</th>\n",
       "      <th>cant co</th>\n",
       "    </tr>\n",
       "  </thead>\n",
       "  <tbody>\n",
       "    <tr>\n",
       "      <th>F</th>\n",
       "      <td>46890.0</td>\n",
       "      <td>NaN</td>\n",
       "      <td>NaN</td>\n",
       "      <td>NaN</td>\n",
       "    </tr>\n",
       "    <tr>\n",
       "      <th>M</th>\n",
       "      <td>48354.0</td>\n",
       "      <td>NaN</td>\n",
       "      <td>NaN</td>\n",
       "      <td>NaN</td>\n",
       "    </tr>\n",
       "    <tr>\n",
       "      <th>N</th>\n",
       "      <td>NaN</td>\n",
       "      <td>92798.0</td>\n",
       "      <td>45914.0</td>\n",
       "      <td>90930.0</td>\n",
       "    </tr>\n",
       "    <tr>\n",
       "      <th>NA</th>\n",
       "      <td>NaN</td>\n",
       "      <td>NaN</td>\n",
       "      <td>48354.0</td>\n",
       "      <td>NaN</td>\n",
       "    </tr>\n",
       "    <tr>\n",
       "      <th>Y</th>\n",
       "      <td>NaN</td>\n",
       "      <td>2446.0</td>\n",
       "      <td>976.0</td>\n",
       "      <td>4314.0</td>\n",
       "    </tr>\n",
       "  </tbody>\n",
       "</table>\n",
       "</div>"
      ],
      "text/plain": [
       "     cant s   cant c   cant p  cant co\n",
       "F   46890.0      NaN      NaN      NaN\n",
       "M   48354.0      NaN      NaN      NaN\n",
       "N       NaN  92798.0  45914.0  90930.0\n",
       "NA      NaN      NaN  48354.0      NaN\n",
       "Y       NaN   2446.0    976.0   4314.0"
      ]
     },
     "execution_count": 200,
     "metadata": {},
     "output_type": "execute_result"
    }
   ],
   "source": [
    "#data.apply(pd.value_counts(normalize=True))\n",
    "#data.value_counts(normalize=True)\n",
    "#s=df['sex'].value_counts(normalize=True)\n",
    "#c=df['copd'].value_counts(normalize=True)\n",
    "#p=df['pregnant'].value_counts(normalize=True)\n",
    "#co=df['covid'].value_counts(normalize=True)\n",
    "\n",
    "s=df['sex'].value_counts()\n",
    "c=df['copd'].value_counts()\n",
    "p=df['pregnant'].value_counts()\n",
    "co=df['covid'].value_counts()\n",
    "co=df['asthma'].value_counts()\n",
    "\n",
    "\n",
    "pd.DataFrame({'cant s': s,'cant c': c,'cant p': p,'cant co': co})"
   ]
  },
  {
   "cell_type": "markdown",
   "id": "b7ab640d",
   "metadata": {},
   "source": [
    "### 3.5. Tabla pivot por inpatient"
   ]
  },
  {
   "cell_type": "code",
   "execution_count": 186,
   "id": "96db6047",
   "metadata": {},
   "outputs": [
    {
     "data": {
      "text/plain": [
       "pregnant  sex  copd\n",
       "N         F    N       44740\n",
       "               Y        1174\n",
       "NA        M    N       47084\n",
       "               Y        1270\n",
       "Y         F    N         974\n",
       "               Y           2\n",
       "Name: inpatient, dtype: int64"
      ]
     },
     "execution_count": 186,
     "metadata": {},
     "output_type": "execute_result"
    }
   ],
   "source": [
    "data.groupby(['pregnant','sex','copd'])['inpatient'].count()\n"
   ]
  },
  {
   "cell_type": "code",
   "execution_count": 93,
   "id": "ba1a65f5",
   "metadata": {},
   "outputs": [
    {
     "data": {
      "text/html": [
       "<div>\n",
       "<style scoped>\n",
       "    .dataframe tbody tr th:only-of-type {\n",
       "        vertical-align: middle;\n",
       "    }\n",
       "\n",
       "    .dataframe tbody tr th {\n",
       "        vertical-align: top;\n",
       "    }\n",
       "\n",
       "    .dataframe thead th {\n",
       "        text-align: right;\n",
       "    }\n",
       "</style>\n",
       "<table border=\"1\" class=\"dataframe\">\n",
       "  <thead>\n",
       "    <tr style=\"text-align: right;\">\n",
       "      <th></th>\n",
       "      <th>inpatient</th>\n",
       "      <th>pregnant</th>\n",
       "      <th>sex</th>\n",
       "    </tr>\n",
       "  </thead>\n",
       "  <tbody>\n",
       "    <tr>\n",
       "      <th>0</th>\n",
       "      <td>0</td>\n",
       "      <td>sex                       0\n",
       "inpatient         ...</td>\n",
       "      <td>sex                       0\n",
       "inpatient         ...</td>\n",
       "    </tr>\n",
       "    <tr>\n",
       "      <th>1</th>\n",
       "      <td>1</td>\n",
       "      <td>sex                       0\n",
       "inpatient         ...</td>\n",
       "      <td>sex                       0\n",
       "inpatient         ...</td>\n",
       "    </tr>\n",
       "  </tbody>\n",
       "</table>\n",
       "</div>"
      ],
      "text/plain": [
       "   inpatient                                           pregnant  \\\n",
       "0          0  sex                       0\n",
       "inpatient         ...   \n",
       "1          1  sex                       0\n",
       "inpatient         ...   \n",
       "\n",
       "                                                 sex  \n",
       "0  sex                       0\n",
       "inpatient         ...  \n",
       "1  sex                       0\n",
       "inpatient         ...  "
      ]
     },
     "execution_count": 93,
     "metadata": {},
     "output_type": "execute_result"
    }
   ],
   "source": [
    "data.groupby(['inpatient'], as_index=False).apply(lambda x: pd.Series({\n",
    "        'pregnant'   : x[x['pregnant'] == 1].count(),\n",
    "    'sex'   : x[x['sex'] == 1].count()\n",
    "  })\n",
    ").reset_index(drop = True)\n"
   ]
  },
  {
   "cell_type": "code",
   "execution_count": 36,
   "id": "2f75473e",
   "metadata": {},
   "outputs": [
    {
     "data": {
      "text/html": [
       "<div>\n",
       "<style scoped>\n",
       "    .dataframe tbody tr th:only-of-type {\n",
       "        vertical-align: middle;\n",
       "    }\n",
       "\n",
       "    .dataframe tbody tr th {\n",
       "        vertical-align: top;\n",
       "    }\n",
       "\n",
       "    .dataframe thead tr th {\n",
       "        text-align: left;\n",
       "    }\n",
       "\n",
       "    .dataframe thead tr:last-of-type th {\n",
       "        text-align: right;\n",
       "    }\n",
       "</style>\n",
       "<table border=\"1\" class=\"dataframe\">\n",
       "  <thead>\n",
       "    <tr>\n",
       "      <th></th>\n",
       "      <th>count</th>\n",
       "      <th>&lt;lambda&gt;</th>\n",
       "    </tr>\n",
       "    <tr>\n",
       "      <th></th>\n",
       "      <th>inpatient</th>\n",
       "      <th>inpatient</th>\n",
       "    </tr>\n",
       "    <tr>\n",
       "      <th>sex</th>\n",
       "      <th></th>\n",
       "      <th></th>\n",
       "    </tr>\n",
       "  </thead>\n",
       "  <tbody>\n",
       "    <tr>\n",
       "      <th>F</th>\n",
       "      <td>48354</td>\n",
       "      <td>51.0</td>\n",
       "    </tr>\n",
       "    <tr>\n",
       "      <th>M</th>\n",
       "      <td>46890</td>\n",
       "      <td>49.0</td>\n",
       "    </tr>\n",
       "  </tbody>\n",
       "</table>\n",
       "</div>"
      ],
      "text/plain": [
       "        count  <lambda>\n",
       "    inpatient inpatient\n",
       "sex                    \n",
       "F       48354      51.0\n",
       "M       46890      49.0"
      ]
     },
     "execution_count": 36,
     "metadata": {},
     "output_type": "execute_result"
    }
   ],
   "source": [
    "#creo un total count inpatient para ponderar resultados\n",
    "total_inpatient = data['inpatient'].count()\n",
    "\n",
    "#by sex\n",
    "round(pd.pivot_table(data, values='inpatient', index=['sex',''],\n",
    "                     aggfunc=['count',(lambda x: count(x)/total_inpatient*100)]))"
   ]
  },
  {
   "cell_type": "code",
   "execution_count": 38,
   "id": "05e7d0d1",
   "metadata": {},
   "outputs": [
    {
     "name": "stdout",
     "output_type": "stream",
     "text": [
      "<function <lambda> at 0x000001EA30BDA160>\n"
     ]
    }
   ],
   "source": [
    "total_inpatient = data['inpatient'].count()\n",
    "\n",
    "print(lambda x: count(x)/total_inpatient*100)\n",
    "#by sex\n",
    "#round(pd.pivot_table(data, values='inpatient', index=['sex'],                  aggfunc=['count',]))"
   ]
  },
  {
   "cell_type": "code",
   "execution_count": 41,
   "id": "3ff3f153",
   "metadata": {},
   "outputs": [
    {
     "data": {
      "text/html": [
       "<div>\n",
       "<style scoped>\n",
       "    .dataframe tbody tr th:only-of-type {\n",
       "        vertical-align: middle;\n",
       "    }\n",
       "\n",
       "    .dataframe tbody tr th {\n",
       "        vertical-align: top;\n",
       "    }\n",
       "\n",
       "    .dataframe thead tr th {\n",
       "        text-align: left;\n",
       "    }\n",
       "\n",
       "    .dataframe thead tr:last-of-type th {\n",
       "        text-align: right;\n",
       "    }\n",
       "</style>\n",
       "<table border=\"1\" class=\"dataframe\">\n",
       "  <thead>\n",
       "    <tr>\n",
       "      <th></th>\n",
       "      <th></th>\n",
       "      <th>count</th>\n",
       "      <th>&lt;lambda&gt;</th>\n",
       "    </tr>\n",
       "    <tr>\n",
       "      <th></th>\n",
       "      <th></th>\n",
       "      <th>inpatient</th>\n",
       "      <th>inpatient</th>\n",
       "    </tr>\n",
       "    <tr>\n",
       "      <th>diabetes</th>\n",
       "      <th>copd</th>\n",
       "      <th></th>\n",
       "      <th></th>\n",
       "    </tr>\n",
       "  </thead>\n",
       "  <tbody>\n",
       "    <tr>\n",
       "      <th rowspan=\"2\" valign=\"top\">98</th>\n",
       "      <th>N</th>\n",
       "      <td>32</td>\n",
       "      <td>0.0</td>\n",
       "    </tr>\n",
       "    <tr>\n",
       "      <th>Y</th>\n",
       "      <td>2</td>\n",
       "      <td>0.0</td>\n",
       "    </tr>\n",
       "    <tr>\n",
       "      <th rowspan=\"2\" valign=\"top\">N</th>\n",
       "      <th>N</th>\n",
       "      <td>80914</td>\n",
       "      <td>85.0</td>\n",
       "    </tr>\n",
       "    <tr>\n",
       "      <th>Y</th>\n",
       "      <td>1486</td>\n",
       "      <td>2.0</td>\n",
       "    </tr>\n",
       "    <tr>\n",
       "      <th rowspan=\"2\" valign=\"top\">Y</th>\n",
       "      <th>N</th>\n",
       "      <td>11852</td>\n",
       "      <td>12.0</td>\n",
       "    </tr>\n",
       "    <tr>\n",
       "      <th>Y</th>\n",
       "      <td>958</td>\n",
       "      <td>1.0</td>\n",
       "    </tr>\n",
       "  </tbody>\n",
       "</table>\n",
       "</div>"
      ],
      "text/plain": [
       "                  count  <lambda>\n",
       "              inpatient inpatient\n",
       "diabetes copd                    \n",
       "98       N           32       0.0\n",
       "         Y            2       0.0\n",
       "N        N        80914      85.0\n",
       "         Y         1486       2.0\n",
       "Y        N        11852      12.0\n",
       "         Y          958       1.0"
      ]
     },
     "execution_count": 41,
     "metadata": {},
     "output_type": "execute_result"
    }
   ],
   "source": [
    "#by diabetes\n",
    "round(pd.pivot_table(data, values='inpatient', index=['diabetes','copd'],\n",
    "                     aggfunc=['count',(lambda x: count(x)/total_inpatient*100)]))\n",
    "\n"
   ]
  },
  {
   "cell_type": "code",
   "execution_count": 55,
   "id": "1101dac9",
   "metadata": {},
   "outputs": [
    {
     "ename": "SyntaxError",
     "evalue": "invalid syntax (839917602.py, line 3)",
     "output_type": "error",
     "traceback": [
      "\u001b[1;36m  Input \u001b[1;32mIn [55]\u001b[1;36m\u001b[0m\n\u001b[1;33m    cant_inpatient_columna = data.apply(lambda x: count(x) if x == 'Y' )\u001b[0m\n\u001b[1;37m                                                                       ^\u001b[0m\n\u001b[1;31mSyntaxError\u001b[0m\u001b[1;31m:\u001b[0m invalid syntax\n"
     ]
    }
   ],
   "source": [
    "total_inpatient = data['inpatient'].count()\n",
    "#cant_inpatient_columna = data.apply(lambda x: count(x = 'Y'), axis = 0)\n",
    "cant_inpatient_columna = data.apply(lambda x: count(x) if x == 'Y' )\n",
    "#[x for x in df['year_built'] if len(x) == 4]\n",
    "percent_columna = data.apply(lambda x: (count(x)/total_inpatient*100).round(2), axis = 0)\n",
    "pd.DataFrame({'cant': cant_inpatient_columna, '%': percent_columna})"
   ]
  },
  {
   "cell_type": "markdown",
   "id": "b5eee3a1",
   "metadata": {},
   "source": [
    "### 3.6. Creación de dummies"
   ]
  },
  {
   "cell_type": "markdown",
   "id": "87210855",
   "metadata": {},
   "source": [
    "# **4. Exportación del dataset resultante a un nuevo *.csv***"
   ]
  },
  {
   "cell_type": "code",
   "execution_count": 34,
   "id": "595f78ed",
   "metadata": {},
   "outputs": [
    {
     "data": {
      "text/plain": [
       "(95244, 16)"
      ]
     },
     "execution_count": 34,
     "metadata": {},
     "output_type": "execute_result"
    }
   ],
   "source": [
    "# para exportar resultados\n",
    "data.to_csv(r'../data/patient_covid.csv', index = False, header=True)\n",
    "data.shape"
   ]
  }
 ],
 "metadata": {
  "colab": {
   "collapsed_sections": [
    "cdbfda03",
    "5eb9b770",
    "2fa218dc"
   ],
   "name": "Principal.ipynb",
   "provenance": []
  },
  "interpreter": {
   "hash": "6ac88a8a1a8cc340d2b05566e22fde7412d1d718644d4b1167688fa7d4044e9b"
  },
  "kernelspec": {
   "display_name": "Python 3 (ipykernel)",
   "language": "python",
   "name": "python3"
  },
  "language_info": {
   "codemirror_mode": {
    "name": "ipython",
    "version": 3
   },
   "file_extension": ".py",
   "mimetype": "text/x-python",
   "name": "python",
   "nbconvert_exporter": "python",
   "pygments_lexer": "ipython3",
   "version": "3.8.12"
  }
 },
 "nbformat": 4,
 "nbformat_minor": 5
}
