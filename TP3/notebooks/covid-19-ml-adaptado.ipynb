{
 "cells": [
  {
   "cell_type": "markdown",
   "id": "b82bbddd",
   "metadata": {
    "id": "7cfca387"
   },
   "source": [
    "# Preparación ambiente"
   ]
  },
  {
   "cell_type": "code",
   "execution_count": null,
   "id": "f25f84c0",
   "metadata": {
    "colab": {
     "base_uri": "https://localhost:8080/"
    },
    "executionInfo": {
     "elapsed": 2604,
     "status": "ok",
     "timestamp": 1655396648181,
     "user": {
      "displayName": "Maela Lombardi",
      "userId": "03936068368896012188"
     },
     "user_tz": 180
    },
    "id": "PlT27ViHcjR2",
    "outputId": "f7266c64-222c-4a9d-bb64-5ba437413a2f"
   },
   "outputs": [],
   "source": [
    "#from google.colab import drive\n",
    "#drive.mount('/content/drive')"
   ]
  },
  {
   "cell_type": "code",
   "execution_count": null,
   "id": "6d5a06e1",
   "metadata": {
    "_cell_guid": "b1076dfc-b9ad-4769-8c92-a6c4dae69d19",
    "_uuid": "8f2839f25d086af736a60e9eeb907d3b93b6e0e5",
    "executionInfo": {
     "elapsed": 4495,
     "status": "ok",
     "timestamp": 1655396652668,
     "user": {
      "displayName": "Maela Lombardi",
      "userId": "03936068368896012188"
     },
     "user_tz": 180
    },
    "id": "f53d2183",
    "papermill": {
     "duration": 1.505952,
     "end_time": "2021-12-03T12:45:37.957425",
     "exception": false,
     "start_time": "2021-12-03T12:45:36.451473",
     "status": "completed"
    },
    "tags": []
   },
   "outputs": [],
   "source": [
    "import numpy as np \n",
    "import pandas as pd \n",
    "import matplotlib.pyplot as plt\n",
    "import seaborn as sns\n",
    "\n",
    "from sklearn.naive_bayes import MultinomialNB\n",
    "from sklearn.neighbors import KNeighborsClassifier\n",
    "from sklearn.preprocessing import StandardScaler\n",
    "from sklearn.linear_model import LogisticRegression\n",
    "from sklearn.model_selection import GridSearchCV\n",
    "from sklearn.model_selection import StratifiedKFold\n",
    "\n",
    "import warnings\n",
    "warnings.filterwarnings(\"ignore\")\n",
    "\n",
    "from sklearn import metrics\n",
    "from sklearn.metrics import confusion_matrix\n",
    "from sklearn.metrics import f1_score, accuracy_score\n",
    "from sklearn.metrics import classification_report\n",
    "from sklearn.model_selection import train_test_split\n",
    "from sklearn.metrics import roc_auc_score"
   ]
  },
  {
   "cell_type": "markdown",
   "id": "c1fea2c5",
   "metadata": {
    "id": "493ee9c7"
   },
   "source": [
    "# Importación dataset"
   ]
  },
  {
   "cell_type": "code",
   "execution_count": null,
   "id": "c3e33d92",
   "metadata": {
    "executionInfo": {
     "elapsed": 943,
     "status": "ok",
     "timestamp": 1655396653604,
     "user": {
      "displayName": "Maela Lombardi",
      "userId": "03936068368896012188"
     },
     "user_tz": 180
    },
    "id": "66eb2805",
    "papermill": {
     "duration": 0.326972,
     "end_time": "2021-12-03T12:45:38.557375",
     "exception": false,
     "start_time": "2021-12-03T12:45:38.230403",
     "status": "completed"
    },
    "tags": []
   },
   "outputs": [],
   "source": [
    "old_data=pd.read_csv(\"patient.csv\")"
   ]
  },
  {
   "cell_type": "code",
   "execution_count": null,
   "id": "688dbd86",
   "metadata": {},
   "outputs": [],
   "source": [
    "old_data.columns"
   ]
  },
  {
   "cell_type": "code",
   "execution_count": null,
   "id": "3882bb7f",
   "metadata": {},
   "outputs": [],
   "source": [
    "#Dropeo icu, intubated, death_date\n",
    "data=old_data.drop(['icu','intubated','death_date'], axis=1)\n",
    "print(data.columns)\n",
    "data.shape"
   ]
  },
  {
   "cell_type": "code",
   "execution_count": null,
   "id": "13753d33",
   "metadata": {},
   "outputs": [],
   "source": [
    "#99 a null y dropeo\n",
    "cols=data.columns.difference(['age'])\n",
    "\n",
    "df=(data[cols] == 99)\n",
    "ix=df[df.any(axis=1)].index\n",
    "print(ix)\n",
    "data.drop(df.index[ix], axis=0, inplace=True)\n",
    "data.shape\n"
   ]
  },
  {
   "cell_type": "code",
   "execution_count": null,
   "id": "242166d5",
   "metadata": {},
   "outputs": [],
   "source": [
    "data.rename(columns={\"patient_type\": \"inpatient\", \"outcome\": \"covid\"},inplace=True)"
   ]
  },
  {
   "cell_type": "code",
   "execution_count": null,
   "id": "2788e3ca",
   "metadata": {},
   "outputs": [],
   "source": [
    "data.groupby(\"pregnant\")[\"sex\"].sum()"
   ]
  },
  {
   "cell_type": "code",
   "execution_count": null,
   "id": "617762c8",
   "metadata": {},
   "outputs": [],
   "source": [
    "#Para predictivas: 1 -> Y, 2 -> N, \n",
    "cols = data.loc[:, data.columns.difference(['age', 'sex','inpatient'])].columns\n",
    "#print(cols) \n",
    "data[cols] = data[cols].replace([1,2],['Y','N'])\n",
    "\n",
    "#en sex: 1 -> M y 2-> F\n",
    "data['sex']= data['sex'].replace([1,2],['M','F'])\n",
    "\n",
    "#en pregnant : 98 -> N, 97 -> NA\n",
    "data['pregnant'] = data['pregnant'].replace([98,97],['N','NA'])\n",
    "\n",
    "# outcome: 3 -> NA\n",
    "data['covid'] = data['covid'].replace([3],['NA'])\n",
    "\n",
    "##Para target (inpatient): 1 -> 0, 2 -> 1\n",
    "data['sex']= data['sex'].replace([1,2],[0,1])\n",
    "data.head(5)"
   ]
  },
  {
   "cell_type": "code",
   "execution_count": null,
   "id": "24536670",
   "metadata": {},
   "outputs": [],
   "source": [
    "old_data = old_data.drop([\"icu\", \"intubated\", \"dead\"], axis=1)"
   ]
  },
  {
   "cell_type": "code",
   "execution_count": null,
   "id": "37b0acfd",
   "metadata": {
    "colab": {
     "base_uri": "https://localhost:8080/"
    },
    "executionInfo": {
     "elapsed": 440,
     "status": "ok",
     "timestamp": 1655396654034,
     "user": {
      "displayName": "Maela Lombardi",
      "userId": "03936068368896012188"
     },
     "user_tz": 180
    },
    "id": "bfa737dd",
    "outputId": "1c737ba0-3085-409b-a242-7f861581ec54"
   },
   "outputs": [],
   "source": [
    "print(old_data.nunique())\n",
    "print(old_data.shape)"
   ]
  },
  {
   "cell_type": "code",
   "execution_count": null,
   "id": "7face9a2",
   "metadata": {
    "colab": {
     "base_uri": "https://localhost:8080/"
    },
    "executionInfo": {
     "elapsed": 18,
     "status": "ok",
     "timestamp": 1655396654035,
     "user": {
      "displayName": "Maela Lombardi",
      "userId": "03936068368896012188"
     },
     "user_tz": 180
    },
    "id": "01d53706",
    "outputId": "f9ed69d9-84a7-491e-9645-54be57116713",
    "papermill": {
     "duration": 0.087604,
     "end_time": "2021-12-03T12:45:39.216221",
     "exception": false,
     "start_time": "2021-12-03T12:45:39.128617",
     "status": "completed"
    },
    "tags": []
   },
   "outputs": [],
   "source": [
    "old_data.info()"
   ]
  },
  {
   "cell_type": "code",
   "execution_count": null,
   "id": "e75ed99f",
   "metadata": {},
   "outputs": [],
   "source": [
    "old_data = old_data.assign(agegroup=pd.cut(old_data['age'], bins=[0, 10, 20, 30, 40, 50, 60, 70, 80, 90, 100], right=False, labels=[\"0-9\",\"10-19\",\"20-29\",\"30-39\",\"40-49\",\"50-59\",\"60-69\",\"70-79\",\"80-89\",\"90-99\"]))"
   ]
  },
  {
   "cell_type": "markdown",
   "id": "add5213a",
   "metadata": {
    "id": "0efa89d6"
   },
   "source": [
    "# Dataset casi completo"
   ]
  },
  {
   "cell_type": "markdown",
   "id": "a60adc2d",
   "metadata": {
    "id": "cb2c10ad"
   },
   "source": [
    "## Creación variables X e Y"
   ]
  },
  {
   "cell_type": "markdown",
   "id": "50c34170",
   "metadata": {
    "id": "f4e1ed9d"
   },
   "source": [
    "Eliminamos las columnas death_date, intubated y icu (por su correlación lineal con intubated)"
   ]
  },
  {
   "cell_type": "code",
   "execution_count": null,
   "id": "298d5db2",
   "metadata": {
    "colab": {
     "base_uri": "https://localhost:8080/",
     "height": 423
    },
    "executionInfo": {
     "elapsed": 27,
     "status": "ok",
     "timestamp": 1655396656718,
     "user": {
      "displayName": "Maela Lombardi",
      "userId": "03936068368896012188"
     },
     "user_tz": 180
    },
    "id": "ba147719",
    "outputId": "dd93fafa-04b5-47ba-b10e-450e3f0413ec",
    "papermill": {
     "duration": 0.091636,
     "end_time": "2021-12-03T12:45:41.371542",
     "exception": false,
     "start_time": "2021-12-03T12:45:41.279906",
     "status": "completed"
    },
    "tags": []
   },
   "outputs": [],
   "source": [
    "x=old_data.drop([\"hospitalized\"],axis=1)\n",
    "y=old_data[\"hospitalized\"]\n",
    "y=pd.DataFrame(y)\n",
    "y"
   ]
  },
  {
   "cell_type": "code",
   "execution_count": null,
   "id": "7f98f262",
   "metadata": {},
   "outputs": [],
   "source": [
    "x = pd.get_dummies(data=x, columns= x.columns,drop_first = True)"
   ]
  },
  {
   "cell_type": "code",
   "execution_count": null,
   "id": "6df82377",
   "metadata": {
    "colab": {
     "base_uri": "https://localhost:8080/"
    },
    "executionInfo": {
     "elapsed": 24,
     "status": "ok",
     "timestamp": 1655396656720,
     "user": {
      "displayName": "Maela Lombardi",
      "userId": "03936068368896012188"
     },
     "user_tz": 180
    },
    "id": "15d9cd27",
    "outputId": "0f29fa5e-eead-4004-998e-d10bca4d1baf",
    "papermill": {
     "duration": 0.090735,
     "end_time": "2021-12-03T12:45:41.537001",
     "exception": false,
     "start_time": "2021-12-03T12:45:41.446266",
     "status": "completed"
    },
    "tags": []
   },
   "outputs": [],
   "source": [
    "x_train,x_test,y_train,y_test=train_test_split(x,y,test_size=0.2,random_state=1)\n",
    "print (\"X_train:\" , x_train.shape[0])\n",
    "print (\"y_train:\" , y_train.shape[0])\n",
    "print (\"X_test:\" , x_test.shape[0])\n",
    "print (\"y_test:\" , y_test.shape[0])"
   ]
  },
  {
   "cell_type": "code",
   "execution_count": null,
   "id": "616916b9",
   "metadata": {
    "colab": {
     "base_uri": "https://localhost:8080/",
     "height": 423
    },
    "executionInfo": {
     "elapsed": 21,
     "status": "ok",
     "timestamp": 1655396656722,
     "user": {
      "displayName": "Maela Lombardi",
      "userId": "03936068368896012188"
     },
     "user_tz": 180
    },
    "id": "01abc3b4",
    "outputId": "4fca0569-a547-46b5-8d8e-2cccbc92d926",
    "papermill": {
     "duration": 0.087684,
     "end_time": "2021-12-03T12:45:41.700698",
     "exception": false,
     "start_time": "2021-12-03T12:45:41.613014",
     "status": "completed"
    },
    "tags": []
   },
   "outputs": [],
   "source": [
    "y_train=pd.DataFrame(y_train)\n",
    "y_train"
   ]
  },
  {
   "cell_type": "code",
   "execution_count": null,
   "id": "496334a5",
   "metadata": {
    "executionInfo": {
     "elapsed": 21,
     "status": "ok",
     "timestamp": 1655396656723,
     "user": {
      "displayName": "Maela Lombardi",
      "userId": "03936068368896012188"
     },
     "user_tz": 180
    },
    "id": "0452255a",
    "papermill": {
     "duration": 0.083991,
     "end_time": "2021-12-03T12:45:41.860596",
     "exception": false,
     "start_time": "2021-12-03T12:45:41.776605",
     "status": "completed"
    },
    "tags": []
   },
   "outputs": [],
   "source": [
    "y_train=y_train.astype('float')\n",
    "y_test=y_test.astype('float')"
   ]
  },
  {
   "cell_type": "markdown",
   "id": "43ab5eb1",
   "metadata": {
    "id": "913c89d3",
    "papermill": {
     "duration": 0.076508,
     "end_time": "2021-12-03T12:45:42.013071",
     "exception": false,
     "start_time": "2021-12-03T12:45:41.936563",
     "status": "completed"
    },
    "tags": []
   },
   "source": [
    "## Machine Learning Algorithms"
   ]
  },
  {
   "cell_type": "code",
   "execution_count": null,
   "id": "83a37c38",
   "metadata": {
    "colab": {
     "base_uri": "https://localhost:8080/"
    },
    "executionInfo": {
     "elapsed": 39014,
     "status": "ok",
     "timestamp": 1655396695716,
     "user": {
      "displayName": "Maela Lombardi",
      "userId": "03936068368896012188"
     },
     "user_tz": 180
    },
    "id": "7c9e09d1",
    "outputId": "bf3a27ce-eab9-450b-e3a4-4cd3da2abfdc",
    "papermill": {
     "duration": 1.392284,
     "end_time": "2021-12-03T12:45:43.482431",
     "exception": false,
     "start_time": "2021-12-03T12:45:42.090147",
     "status": "completed"
    },
    "tags": []
   },
   "outputs": [],
   "source": [
    "#Naive Bayes\n",
    "nb=MultinomialNB()\n",
    "nb.fit(x_train, y_train)\n",
    "score_nb=nb.score(x_test,y_test)\n",
    "\n",
    "#KNN\n",
    "knn=KNeighborsClassifier(n_neighbors=3)\n",
    "knn.fit(x_train,y_train)\n",
    "score_knn=knn.score(x_test,y_test)\n",
    "\n",
    "#Score\n",
    "print (\"KNN Acc Score:\",score_knn)\n",
    "print (\"NB Score:\", score_nb)"
   ]
  },
  {
   "cell_type": "code",
   "execution_count": null,
   "id": "073ec472",
   "metadata": {
    "executionInfo": {
     "elapsed": 20431,
     "status": "ok",
     "timestamp": 1655396716131,
     "user": {
      "displayName": "Maela Lombardi",
      "userId": "03936068368896012188"
     },
     "user_tz": 180
    },
    "id": "fb317a81",
    "papermill": {
     "duration": 0.310132,
     "end_time": "2021-12-03T12:45:43.869416",
     "exception": false,
     "start_time": "2021-12-03T12:45:43.559284",
     "status": "completed"
    },
    "tags": []
   },
   "outputs": [],
   "source": [
    "y_pred_nb = nb.predict(x_test)\n",
    "y_pred_knn = knn.predict(x_test)"
   ]
  },
  {
   "cell_type": "code",
   "execution_count": null,
   "id": "f05ba2ee",
   "metadata": {
    "colab": {
     "base_uri": "https://localhost:8080/"
    },
    "executionInfo": {
     "elapsed": 76,
     "status": "ok",
     "timestamp": 1655396716132,
     "user": {
      "displayName": "Maela Lombardi",
      "userId": "03936068368896012188"
     },
     "user_tz": 180
    },
    "id": "c89Vm7v2OZXY",
    "outputId": "b7d2399b-b07e-41c6-aa25-98a1a01bf6ea"
   },
   "outputs": [],
   "source": [
    "print(\"AS NB:\\n\", accuracy_score(y_test, y_pred_nb))\n",
    "print(\"AS KNN:\\n\", accuracy_score(y_test, y_pred_knn))"
   ]
  },
  {
   "cell_type": "markdown",
   "id": "94f0925c",
   "metadata": {
    "id": "ffb4679f",
    "papermill": {
     "duration": 0.075733,
     "end_time": "2021-12-03T12:45:44.021846",
     "exception": false,
     "start_time": "2021-12-03T12:45:43.946113",
     "status": "completed"
    },
    "tags": []
   },
   "source": [
    "## Confusion_matrix"
   ]
  },
  {
   "cell_type": "code",
   "execution_count": null,
   "id": "0e0c6c96",
   "metadata": {
    "colab": {
     "base_uri": "https://localhost:8080/"
    },
    "executionInfo": {
     "elapsed": 67,
     "status": "ok",
     "timestamp": 1655396716133,
     "user": {
      "displayName": "Maela Lombardi",
      "userId": "03936068368896012188"
     },
     "user_tz": 180
    },
    "id": "bab32f38",
    "outputId": "333f1bb4-44ae-4711-9a4e-d7057637ec41",
    "papermill": {
     "duration": 0.241807,
     "end_time": "2021-12-03T12:45:44.341111",
     "exception": false,
     "start_time": "2021-12-03T12:45:44.099304",
     "status": "completed"
    },
    "tags": []
   },
   "outputs": [],
   "source": [
    "print(\"CM NB:\\n\", confusion_matrix(y_test, y_pred_nb))\n",
    "print(\"CM KNN:\\n\", confusion_matrix(y_test, y_pred_knn))"
   ]
  },
  {
   "cell_type": "markdown",
   "id": "c0a66f8f",
   "metadata": {
    "id": "ba78f9d0",
    "papermill": {
     "duration": 0.077262,
     "end_time": "2021-12-03T12:45:44.496058",
     "exception": false,
     "start_time": "2021-12-03T12:45:44.418796",
     "status": "completed"
    },
    "tags": []
   },
   "source": [
    "## Recall,Precision and F-1 Score\n"
   ]
  },
  {
   "cell_type": "markdown",
   "id": "ff3aed8c",
   "metadata": {
    "id": "86677d9d",
    "papermill": {
     "duration": 0.077152,
     "end_time": "2021-12-03T12:45:44.650415",
     "exception": false,
     "start_time": "2021-12-03T12:45:44.573263",
     "status": "completed"
    },
    "tags": []
   },
   "source": [
    "* Recall    =  TP / (TP + FN)\n",
    "* Precision = TP / (TP + FP) \n",
    "* F-Measure = (2 * Precision * Recall) / (Precision + Recall)"
   ]
  },
  {
   "cell_type": "code",
   "execution_count": null,
   "id": "1cf16daa",
   "metadata": {
    "colab": {
     "base_uri": "https://localhost:8080/"
    },
    "executionInfo": {
     "elapsed": 390,
     "status": "ok",
     "timestamp": 1655396716464,
     "user": {
      "displayName": "Maela Lombardi",
      "userId": "03936068368896012188"
     },
     "user_tz": 180
    },
    "id": "8e8335d5",
    "outputId": "d36cdb69-60d0-4e2b-aba8-de1990fa1f59",
    "papermill": {
     "duration": 0.092534,
     "end_time": "2021-12-03T12:45:44.822186",
     "exception": false,
     "start_time": "2021-12-03T12:45:44.729652",
     "status": "completed"
    },
    "tags": []
   },
   "outputs": [],
   "source": [
    "print(\"NB:\\n\", classification_report(y_test,y_pred_nb))\n",
    "print(\"KNN:\\n\", classification_report(y_test,y_pred_knn))"
   ]
  },
  {
   "cell_type": "code",
   "execution_count": null,
   "id": "420dbdee",
   "metadata": {
    "colab": {
     "base_uri": "https://localhost:8080/"
    },
    "executionInfo": {
     "elapsed": 11,
     "status": "ok",
     "timestamp": 1655396716465,
     "user": {
      "displayName": "Maela Lombardi",
      "userId": "03936068368896012188"
     },
     "user_tz": 180
    },
    "id": "eaba2773",
    "outputId": "78df398d-392e-4c8f-9fb3-4d84081f5208",
    "papermill": {
     "duration": 0.089199,
     "end_time": "2021-12-03T12:45:44.989455",
     "exception": false,
     "start_time": "2021-12-03T12:45:44.900256",
     "status": "completed"
    },
    "tags": []
   },
   "outputs": [],
   "source": [
    "print (\"F1 Score NB:\", f1_score(y_test,y_pred_nb))\n",
    "print (\"F1 Score KNN:\", f1_score(y_test,y_pred_knn))"
   ]
  },
  {
   "cell_type": "markdown",
   "id": "9c2738ef",
   "metadata": {
    "id": "d7aeb1e4",
    "papermill": {
     "duration": 0.080127,
     "end_time": "2021-12-03T12:45:46.820998",
     "exception": false,
     "start_time": "2021-12-03T12:45:46.740871",
     "status": "completed"
    },
    "tags": []
   },
   "source": [
    "## roc & auc"
   ]
  },
  {
   "cell_type": "code",
   "execution_count": null,
   "id": "6bae6d59",
   "metadata": {
    "executionInfo": {
     "elapsed": 20351,
     "status": "ok",
     "timestamp": 1655396736813,
     "user": {
      "displayName": "Maela Lombardi",
      "userId": "03936068368896012188"
     },
     "user_tz": 180
    },
    "id": "58e2b58f",
    "papermill": {
     "duration": 0.199069,
     "end_time": "2021-12-03T12:45:46.474247",
     "exception": false,
     "start_time": "2021-12-03T12:45:46.275178",
     "status": "completed"
    },
    "tags": []
   },
   "outputs": [],
   "source": [
    "#NB\n",
    "probs_nb=nb.predict_proba(x_test)\n",
    "preds_nb=probs_nb[:,1]\n",
    "fpr_nb,tpr_nb, threshold_nb =metrics.roc_curve(y_test, y_pred_nb)\n",
    "roc_auc_nb=metrics.auc(fpr_nb,tpr_nb)\n",
    "\n",
    "#KNN\n",
    "probs_knn=knn.predict_proba(x_test)\n",
    "preds_knn=probs_knn[:,1]\n",
    "fpr_knn,tpr_knn, threshold_knn =metrics.roc_curve(y_test, y_pred_knn)\n",
    "roc_auc_knn=metrics.auc(fpr_knn,tpr_knn)"
   ]
  },
  {
   "cell_type": "code",
   "execution_count": null,
   "id": "52b0a956",
   "metadata": {
    "colab": {
     "base_uri": "https://localhost:8080/",
     "height": 295
    },
    "executionInfo": {
     "elapsed": 52,
     "status": "ok",
     "timestamp": 1655396736828,
     "user": {
      "displayName": "Maela Lombardi",
      "userId": "03936068368896012188"
     },
     "user_tz": 180
    },
    "id": "0a7cb69d",
    "outputId": "2d1df106-4c4f-422d-d6b8-6a60d15a4f37",
    "papermill": {
     "duration": 0.315026,
     "end_time": "2021-12-03T12:45:47.217156",
     "exception": false,
     "start_time": "2021-12-03T12:45:46.902130",
     "status": "completed"
    },
    "tags": []
   },
   "outputs": [],
   "source": [
    "plt.title(\"ROC\")\n",
    "\n",
    "plt.plot(fpr_nb, tpr_nb, 'g', label=\"NB\" % roc_auc_nb)\n",
    "plt.plot(fpr_knn, tpr_knn, 'r', label=\"KNN\" % roc_auc_nb)\n",
    "\n",
    "plt.legend(loc=\"lower right\")\n",
    "plt.plot([0,1],[0,1],'r--')\n",
    "plt.xlim([0,1])\n",
    "plt.ylim([0,1])\n",
    "plt.ylabel('True Pozitive Rate')\n",
    "plt.xlabel('False Positive Rate')\n",
    "plt.show()"
   ]
  },
  {
   "cell_type": "markdown",
   "id": "f982fa29",
   "metadata": {
    "id": "2zNi4R8yYNJ9"
   },
   "source": [
    "## GridSearch"
   ]
  },
  {
   "cell_type": "code",
   "execution_count": null,
   "id": "ea3df7b7",
   "metadata": {
    "colab": {
     "base_uri": "https://localhost:8080/"
    },
    "executionInfo": {
     "elapsed": 299,
     "status": "ok",
     "timestamp": 1655397581790,
     "user": {
      "displayName": "Maela Lombardi",
      "userId": "03936068368896012188"
     },
     "user_tz": 180
    },
    "id": "os7m_Q8xX6NU",
    "outputId": "ffa99538-98f5-4b0a-89ef-b7e694840407"
   },
   "outputs": [],
   "source": [
    "k_range = list(range(10, 21))\n",
    "param_grid = dict(n_neighbors=k_range)\n",
    "print(param_grid)"
   ]
  },
  {
   "cell_type": "code",
   "execution_count": null,
   "id": "3b9d86cb",
   "metadata": {
    "executionInfo": {
     "elapsed": 302,
     "status": "ok",
     "timestamp": 1655397608287,
     "user": {
      "displayName": "Maela Lombardi",
      "userId": "03936068368896012188"
     },
     "user_tz": 180
    },
    "id": "SzsyirV5X_1f"
   },
   "outputs": [],
   "source": [
    "folds=StratifiedKFold(n_splits=10, random_state=19, shuffle=True)"
   ]
  },
  {
   "cell_type": "code",
   "execution_count": null,
   "id": "0360a43f",
   "metadata": {
    "executionInfo": {
     "elapsed": 308,
     "status": "ok",
     "timestamp": 1655397612789,
     "user": {
      "displayName": "Maela Lombardi",
      "userId": "03936068368896012188"
     },
     "user_tz": 180
    },
    "id": "w0oAbbALYAUQ"
   },
   "outputs": [],
   "source": [
    "grid = GridSearchCV(knn, param_grid, cv=folds, scoring='accuracy')"
   ]
  },
  {
   "cell_type": "code",
   "execution_count": null,
   "id": "9a383732",
   "metadata": {
    "colab": {
     "base_uri": "https://localhost:8080/"
    },
    "executionInfo": {
     "elapsed": 3369096,
     "status": "ok",
     "timestamp": 1655400986425,
     "user": {
      "displayName": "Maela Lombardi",
      "userId": "03936068368896012188"
     },
     "user_tz": 180
    },
    "id": "Cml8BUpvYD1P",
    "outputId": "c65bb5e3-11b2-4aa7-98ef-823c3da5dddf"
   },
   "outputs": [],
   "source": [
    "grid.fit(x_train, y_train)"
   ]
  },
  {
   "cell_type": "code",
   "execution_count": null,
   "id": "453297e8",
   "metadata": {
    "colab": {
     "base_uri": "https://localhost:8080/",
     "height": 1000
    },
    "executionInfo": {
     "elapsed": 483,
     "status": "ok",
     "timestamp": 1655402974814,
     "user": {
      "displayName": "Maela Lombardi",
      "userId": "03936068368896012188"
     },
     "user_tz": 180
    },
    "id": "d0uaWWPsYW3e",
    "outputId": "35d59d01-d588-4fd0-f691-d0cb270e2425"
   },
   "outputs": [],
   "source": [
    "pd.DataFrame(grid.cv_results_)"
   ]
  },
  {
   "cell_type": "code",
   "execution_count": null,
   "id": "82669ffb",
   "metadata": {
    "colab": {
     "base_uri": "https://localhost:8080/"
    },
    "executionInfo": {
     "elapsed": 239,
     "status": "ok",
     "timestamp": 1655402982827,
     "user": {
      "displayName": "Maela Lombardi",
      "userId": "03936068368896012188"
     },
     "user_tz": 180
    },
    "id": "tH8sK0uVYbDW",
    "outputId": "15188701-60e5-4501-ff3e-592862fc1749"
   },
   "outputs": [],
   "source": [
    "grid.best_estimator_"
   ]
  },
  {
   "cell_type": "code",
   "execution_count": null,
   "id": "23a6d670",
   "metadata": {
    "colab": {
     "base_uri": "https://localhost:8080/"
    },
    "executionInfo": {
     "elapsed": 260,
     "status": "ok",
     "timestamp": 1655402985118,
     "user": {
      "displayName": "Maela Lombardi",
      "userId": "03936068368896012188"
     },
     "user_tz": 180
    },
    "id": "92Xo3h3QYbdn",
    "outputId": "617b0d23-62a5-456a-e82f-a9c879def74e"
   },
   "outputs": [],
   "source": [
    "grid.best_score_"
   ]
  },
  {
   "cell_type": "code",
   "execution_count": null,
   "id": "3092b03f",
   "metadata": {
    "colab": {
     "base_uri": "https://localhost:8080/"
    },
    "executionInfo": {
     "elapsed": 298,
     "status": "ok",
     "timestamp": 1655402988686,
     "user": {
      "displayName": "Maela Lombardi",
      "userId": "03936068368896012188"
     },
     "user_tz": 180
    },
    "id": "FyBKxLqSYdHb",
    "outputId": "0ad05db0-25fb-470f-c3da-b9a9a0cf26ad"
   },
   "outputs": [],
   "source": [
    "grid.best_params_"
   ]
  },
  {
   "cell_type": "code",
   "execution_count": null,
   "id": "88b5909c",
   "metadata": {
    "executionInfo": {
     "elapsed": 34359,
     "status": "ok",
     "timestamp": 1655403025367,
     "user": {
      "displayName": "Maela Lombardi",
      "userId": "03936068368896012188"
     },
     "user_tz": 180
    },
    "id": "TftLszmnYgzW"
   },
   "outputs": [],
   "source": [
    "y_pred_grid = grid.predict(xd_test)"
   ]
  },
  {
   "cell_type": "code",
   "execution_count": null,
   "id": "2c4aa0e3",
   "metadata": {
    "executionInfo": {
     "elapsed": 250,
     "status": "ok",
     "timestamp": 1655403082024,
     "user": {
      "displayName": "Maela Lombardi",
      "userId": "03936068368896012188"
     },
     "user_tz": 180
    },
    "id": "HJEfkaQSYh7I"
   },
   "outputs": [],
   "source": [
    "confusion = confusion_matrix(y_test, y_pred_grid)"
   ]
  },
  {
   "cell_type": "code",
   "execution_count": null,
   "id": "8f1cb360",
   "metadata": {
    "colab": {
     "base_uri": "https://localhost:8080/"
    },
    "executionInfo": {
     "elapsed": 261,
     "status": "ok",
     "timestamp": 1655403095359,
     "user": {
      "displayName": "Maela Lombardi",
      "userId": "03936068368896012188"
     },
     "user_tz": 180
    },
    "id": "6FmMelFItovx",
    "outputId": "255eff5a-63c7-446b-b774-184bec8ad68e"
   },
   "outputs": [],
   "source": [
    "confusion"
   ]
  },
  {
   "cell_type": "code",
   "execution_count": null,
   "id": "bc91a7a6",
   "metadata": {
    "colab": {
     "base_uri": "https://localhost:8080/"
    },
    "executionInfo": {
     "elapsed": 273,
     "status": "ok",
     "timestamp": 1655403086750,
     "user": {
      "displayName": "Maela Lombardi",
      "userId": "03936068368896012188"
     },
     "user_tz": 180
    },
    "id": "Rn6lVd1SYmHm",
    "outputId": "83230945-0340-4abf-8247-567c843d1360"
   },
   "outputs": [],
   "source": [
    "print (classification_report(y_test, y_pred_grid))"
   ]
  }
 ],
 "metadata": {
  "colab": {
   "name": "covid-19-ml-adaptado.ipynb",
   "provenance": []
  },
  "kernelspec": {
   "display_name": "Python 3 (ipykernel)",
   "language": "python",
   "name": "python3"
  },
  "language_info": {
   "codemirror_mode": {
    "name": "ipython",
    "version": 3
   },
   "file_extension": ".py",
   "mimetype": "text/x-python",
   "name": "python",
   "nbconvert_exporter": "python",
   "pygments_lexer": "ipython3",
   "version": "3.8.12"
  },
  "papermill": {
   "default_parameters": {},
   "duration": 41.042018,
   "end_time": "2021-12-03T12:46:08.370456",
   "environment_variables": {},
   "exception": null,
   "input_path": "__notebook__.ipynb",
   "output_path": "__notebook__.ipynb",
   "parameters": {},
   "start_time": "2021-12-03T12:45:27.328438",
   "version": "2.3.3"
  }
 },
 "nbformat": 4,
 "nbformat_minor": 5
}
