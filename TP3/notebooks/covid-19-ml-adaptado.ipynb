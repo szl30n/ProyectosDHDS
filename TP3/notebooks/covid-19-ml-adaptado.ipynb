{
 "cells": [
  {
   "cell_type": "markdown",
   "id": "7a3d8f83",
   "metadata": {
    "id": "7cfca387"
   },
   "source": [
    "# Preparación ambiente"
   ]
  },
  {
   "cell_type": "code",
   "execution_count": 10,
   "id": "be8d0030",
   "metadata": {
    "colab": {
     "base_uri": "https://localhost:8080/"
    },
    "executionInfo": {
     "elapsed": 2604,
     "status": "ok",
     "timestamp": 1655396648181,
     "user": {
      "displayName": "Maela Lombardi",
      "userId": "03936068368896012188"
     },
     "user_tz": 180
    },
    "id": "PlT27ViHcjR2",
    "outputId": "f7266c64-222c-4a9d-bb64-5ba437413a2f"
   },
   "outputs": [],
   "source": [
    "#from google.colab import drive\n",
    "#drive.mount('/content/drive')"
   ]
  },
  {
   "cell_type": "code",
   "execution_count": 11,
   "id": "87761517",
   "metadata": {
    "_cell_guid": "b1076dfc-b9ad-4769-8c92-a6c4dae69d19",
    "_uuid": "8f2839f25d086af736a60e9eeb907d3b93b6e0e5",
    "executionInfo": {
     "elapsed": 4495,
     "status": "ok",
     "timestamp": 1655396652668,
     "user": {
      "displayName": "Maela Lombardi",
      "userId": "03936068368896012188"
     },
     "user_tz": 180
    },
    "id": "f53d2183",
    "papermill": {
     "duration": 1.505952,
     "end_time": "2021-12-03T12:45:37.957425",
     "exception": false,
     "start_time": "2021-12-03T12:45:36.451473",
     "status": "completed"
    },
    "tags": []
   },
   "outputs": [],
   "source": [
    "import numpy as np \n",
    "import pandas as pd \n",
    "import matplotlib.pyplot as plt\n",
    "import seaborn as sns\n",
    "\n",
    "from sklearn.naive_bayes import MultinomialNB\n",
    "from sklearn.neighbors import KNeighborsClassifier\n",
    "from sklearn.preprocessing import StandardScaler\n",
    "from sklearn.linear_model import LogisticRegression\n",
    "from sklearn.model_selection import GridSearchCV\n",
    "from sklearn.model_selection import StratifiedKFold\n",
    "\n",
    "import warnings\n",
    "warnings.filterwarnings(\"ignore\")\n",
    "\n",
    "from sklearn import metrics\n",
    "from sklearn.metrics import confusion_matrix\n",
    "from sklearn.metrics import f1_score, accuracy_score\n",
    "from sklearn.metrics import classification_report\n",
    "from sklearn.model_selection import train_test_split\n",
    "from sklearn.metrics import roc_auc_score"
   ]
  },
  {
   "cell_type": "markdown",
   "id": "3c0e11a6",
   "metadata": {
    "id": "493ee9c7"
   },
   "source": [
    "# Importación dataset"
   ]
  },
  {
   "cell_type": "code",
   "execution_count": 12,
   "id": "32567b5f",
   "metadata": {
    "executionInfo": {
     "elapsed": 943,
     "status": "ok",
     "timestamp": 1655396653604,
     "user": {
      "displayName": "Maela Lombardi",
      "userId": "03936068368896012188"
     },
     "user_tz": 180
    },
    "id": "66eb2805",
    "papermill": {
     "duration": 0.326972,
     "end_time": "2021-12-03T12:45:38.557375",
     "exception": false,
     "start_time": "2021-12-03T12:45:38.230403",
     "status": "completed"
    },
    "tags": []
   },
   "outputs": [],
   "source": [
    "old_data=pd.read_csv(\"patient.csv\")"
   ]
  },
  {
   "cell_type": "code",
   "execution_count": 13,
   "id": "1f1cb6e6",
   "metadata": {},
   "outputs": [
    {
     "data": {
      "text/plain": [
       "Index(['sex', 'hospitalized', 'intubated', 'pneumonia', 'age', 'pregnant',\n",
       "       'diabetes', 'copd', 'asthma', 'immunosuppression', 'hypertension',\n",
       "       'other_diseases', 'cardiovascular', 'obesity', 'chronic_kidney_failure',\n",
       "       'smoker', 'another_case', 'outcome', 'icu', 'dead'],\n",
       "      dtype='object')"
      ]
     },
     "execution_count": 13,
     "metadata": {},
     "output_type": "execute_result"
    }
   ],
   "source": [
    "old_data.columns"
   ]
  },
  {
   "cell_type": "code",
   "execution_count": 14,
   "id": "6c254a1c",
   "metadata": {},
   "outputs": [
    {
     "data": {
      "text/html": [
       "<div>\n",
       "<style scoped>\n",
       "    .dataframe tbody tr th:only-of-type {\n",
       "        vertical-align: middle;\n",
       "    }\n",
       "\n",
       "    .dataframe tbody tr th {\n",
       "        vertical-align: top;\n",
       "    }\n",
       "\n",
       "    .dataframe thead th {\n",
       "        text-align: right;\n",
       "    }\n",
       "</style>\n",
       "<table border=\"1\" class=\"dataframe\">\n",
       "  <thead>\n",
       "    <tr style=\"text-align: right;\">\n",
       "      <th></th>\n",
       "      <th>sex</th>\n",
       "      <th>hospitalized</th>\n",
       "      <th>intubated</th>\n",
       "      <th>pneumonia</th>\n",
       "      <th>age</th>\n",
       "      <th>pregnant</th>\n",
       "      <th>diabetes</th>\n",
       "      <th>copd</th>\n",
       "      <th>asthma</th>\n",
       "      <th>immunosuppression</th>\n",
       "      <th>hypertension</th>\n",
       "      <th>other_diseases</th>\n",
       "      <th>cardiovascular</th>\n",
       "      <th>obesity</th>\n",
       "      <th>chronic_kidney_failure</th>\n",
       "      <th>smoker</th>\n",
       "      <th>another_case</th>\n",
       "      <th>outcome</th>\n",
       "      <th>icu</th>\n",
       "      <th>dead</th>\n",
       "    </tr>\n",
       "  </thead>\n",
       "  <tbody>\n",
       "    <tr>\n",
       "      <th>0</th>\n",
       "      <td>1</td>\n",
       "      <td>0</td>\n",
       "      <td>97</td>\n",
       "      <td>0</td>\n",
       "      <td>42</td>\n",
       "      <td>0</td>\n",
       "      <td>0</td>\n",
       "      <td>0</td>\n",
       "      <td>1</td>\n",
       "      <td>0</td>\n",
       "      <td>0</td>\n",
       "      <td>0</td>\n",
       "      <td>0</td>\n",
       "      <td>0</td>\n",
       "      <td>0</td>\n",
       "      <td>0</td>\n",
       "      <td>0</td>\n",
       "      <td>1</td>\n",
       "      <td>97</td>\n",
       "      <td>0</td>\n",
       "    </tr>\n",
       "    <tr>\n",
       "      <th>1</th>\n",
       "      <td>1</td>\n",
       "      <td>1</td>\n",
       "      <td>0</td>\n",
       "      <td>0</td>\n",
       "      <td>51</td>\n",
       "      <td>0</td>\n",
       "      <td>1</td>\n",
       "      <td>0</td>\n",
       "      <td>0</td>\n",
       "      <td>0</td>\n",
       "      <td>1</td>\n",
       "      <td>0</td>\n",
       "      <td>0</td>\n",
       "      <td>1</td>\n",
       "      <td>0</td>\n",
       "      <td>0</td>\n",
       "      <td>0</td>\n",
       "      <td>1</td>\n",
       "      <td>0</td>\n",
       "      <td>0</td>\n",
       "    </tr>\n",
       "    <tr>\n",
       "      <th>2</th>\n",
       "      <td>1</td>\n",
       "      <td>1</td>\n",
       "      <td>0</td>\n",
       "      <td>0</td>\n",
       "      <td>57</td>\n",
       "      <td>0</td>\n",
       "      <td>1</td>\n",
       "      <td>0</td>\n",
       "      <td>0</td>\n",
       "      <td>0</td>\n",
       "      <td>0</td>\n",
       "      <td>0</td>\n",
       "      <td>0</td>\n",
       "      <td>0</td>\n",
       "      <td>0</td>\n",
       "      <td>0</td>\n",
       "      <td>0</td>\n",
       "      <td>1</td>\n",
       "      <td>0</td>\n",
       "      <td>1</td>\n",
       "    </tr>\n",
       "    <tr>\n",
       "      <th>3</th>\n",
       "      <td>1</td>\n",
       "      <td>1</td>\n",
       "      <td>0</td>\n",
       "      <td>1</td>\n",
       "      <td>89</td>\n",
       "      <td>0</td>\n",
       "      <td>0</td>\n",
       "      <td>1</td>\n",
       "      <td>0</td>\n",
       "      <td>0</td>\n",
       "      <td>0</td>\n",
       "      <td>0</td>\n",
       "      <td>0</td>\n",
       "      <td>0</td>\n",
       "      <td>0</td>\n",
       "      <td>0</td>\n",
       "      <td>0</td>\n",
       "      <td>0</td>\n",
       "      <td>0</td>\n",
       "      <td>0</td>\n",
       "    </tr>\n",
       "    <tr>\n",
       "      <th>4</th>\n",
       "      <td>1</td>\n",
       "      <td>0</td>\n",
       "      <td>97</td>\n",
       "      <td>0</td>\n",
       "      <td>55</td>\n",
       "      <td>0</td>\n",
       "      <td>1</td>\n",
       "      <td>0</td>\n",
       "      <td>1</td>\n",
       "      <td>0</td>\n",
       "      <td>1</td>\n",
       "      <td>0</td>\n",
       "      <td>0</td>\n",
       "      <td>1</td>\n",
       "      <td>0</td>\n",
       "      <td>0</td>\n",
       "      <td>0</td>\n",
       "      <td>1</td>\n",
       "      <td>97</td>\n",
       "      <td>0</td>\n",
       "    </tr>\n",
       "  </tbody>\n",
       "</table>\n",
       "</div>"
      ],
      "text/plain": [
       "   sex  hospitalized  intubated  pneumonia  age  pregnant  diabetes  copd  \\\n",
       "0    1             0         97          0   42         0         0     0   \n",
       "1    1             1          0          0   51         0         1     0   \n",
       "2    1             1          0          0   57         0         1     0   \n",
       "3    1             1          0          1   89         0         0     1   \n",
       "4    1             0         97          0   55         0         1     0   \n",
       "\n",
       "   asthma  immunosuppression  hypertension  other_diseases  cardiovascular  \\\n",
       "0       1                  0             0               0               0   \n",
       "1       0                  0             1               0               0   \n",
       "2       0                  0             0               0               0   \n",
       "3       0                  0             0               0               0   \n",
       "4       1                  0             1               0               0   \n",
       "\n",
       "   obesity  chronic_kidney_failure  smoker  another_case  outcome  icu  dead  \n",
       "0        0                       0       0             0        1   97     0  \n",
       "1        1                       0       0             0        1    0     0  \n",
       "2        0                       0       0             0        1    0     1  \n",
       "3        0                       0       0             0        0    0     0  \n",
       "4        1                       0       0             0        1   97     0  "
      ]
     },
     "execution_count": 14,
     "metadata": {},
     "output_type": "execute_result"
    }
   ],
   "source": [
    "old_data.head()"
   ]
  },
  {
   "cell_type": "code",
   "execution_count": 15,
   "id": "8fa4f2f9",
   "metadata": {},
   "outputs": [],
   "source": [
    "old_data = old_data.drop([\"icu\", \"intubated\", \"dead\"], axis=1)"
   ]
  },
  {
   "cell_type": "code",
   "execution_count": 16,
   "id": "c60d20c2",
   "metadata": {
    "colab": {
     "base_uri": "https://localhost:8080/"
    },
    "executionInfo": {
     "elapsed": 440,
     "status": "ok",
     "timestamp": 1655396654034,
     "user": {
      "displayName": "Maela Lombardi",
      "userId": "03936068368896012188"
     },
     "user_tz": 180
    },
    "id": "bfa737dd",
    "outputId": "1c737ba0-3085-409b-a242-7f861581ec54"
   },
   "outputs": [
    {
     "name": "stdout",
     "output_type": "stream",
     "text": [
      "sex                         2\n",
      "hospitalized                2\n",
      "pneumonia                   2\n",
      "age                       104\n",
      "pregnant                    2\n",
      "diabetes                    2\n",
      "copd                        2\n",
      "asthma                      2\n",
      "immunosuppression           2\n",
      "hypertension                2\n",
      "other_diseases              2\n",
      "cardiovascular              2\n",
      "obesity                     2\n",
      "chronic_kidney_failure      2\n",
      "smoker                      2\n",
      "another_case                2\n",
      "outcome                     2\n",
      "dtype: int64\n",
      "(82520, 17)\n"
     ]
    }
   ],
   "source": [
    "print(old_data.nunique())\n",
    "print(old_data.shape)"
   ]
  },
  {
   "cell_type": "code",
   "execution_count": 17,
   "id": "c4501ced",
   "metadata": {
    "colab": {
     "base_uri": "https://localhost:8080/"
    },
    "executionInfo": {
     "elapsed": 18,
     "status": "ok",
     "timestamp": 1655396654035,
     "user": {
      "displayName": "Maela Lombardi",
      "userId": "03936068368896012188"
     },
     "user_tz": 180
    },
    "id": "01d53706",
    "outputId": "f9ed69d9-84a7-491e-9645-54be57116713",
    "papermill": {
     "duration": 0.087604,
     "end_time": "2021-12-03T12:45:39.216221",
     "exception": false,
     "start_time": "2021-12-03T12:45:39.128617",
     "status": "completed"
    },
    "tags": []
   },
   "outputs": [
    {
     "name": "stdout",
     "output_type": "stream",
     "text": [
      "<class 'pandas.core.frame.DataFrame'>\n",
      "RangeIndex: 82520 entries, 0 to 82519\n",
      "Data columns (total 17 columns):\n",
      " #   Column                  Non-Null Count  Dtype\n",
      "---  ------                  --------------  -----\n",
      " 0   sex                     82520 non-null  int64\n",
      " 1   hospitalized            82520 non-null  int64\n",
      " 2   pneumonia               82520 non-null  int64\n",
      " 3   age                     82520 non-null  int64\n",
      " 4   pregnant                82520 non-null  int64\n",
      " 5   diabetes                82520 non-null  int64\n",
      " 6   copd                    82520 non-null  int64\n",
      " 7   asthma                  82520 non-null  int64\n",
      " 8   immunosuppression       82520 non-null  int64\n",
      " 9   hypertension            82520 non-null  int64\n",
      " 10  other_diseases          82520 non-null  int64\n",
      " 11  cardiovascular          82520 non-null  int64\n",
      " 12  obesity                 82520 non-null  int64\n",
      " 13  chronic_kidney_failure  82520 non-null  int64\n",
      " 14  smoker                  82520 non-null  int64\n",
      " 15  another_case            82520 non-null  int64\n",
      " 16  outcome                 82520 non-null  int64\n",
      "dtypes: int64(17)\n",
      "memory usage: 10.7 MB\n"
     ]
    }
   ],
   "source": [
    "old_data.info()"
   ]
  },
  {
   "cell_type": "code",
   "execution_count": 18,
   "id": "14e7a07d",
   "metadata": {},
   "outputs": [],
   "source": [
    "old_data = old_data.assign(agegroup=pd.cut(old_data['age'], bins=[0, 10, 20, 30, 40, 50, 60, 70, 80, 90, 100], right=False, labels=[\"0-9\",\"10-19\",\"20-29\",\"30-39\",\"40-49\",\"50-59\",\"60-69\",\"70-79\",\"80-89\",\"90-99\"]))"
   ]
  },
  {
   "cell_type": "markdown",
   "id": "2184c594",
   "metadata": {
    "id": "0efa89d6"
   },
   "source": [
    "# Dataset casi completo"
   ]
  },
  {
   "cell_type": "markdown",
   "id": "b49503f9",
   "metadata": {
    "id": "cb2c10ad"
   },
   "source": [
    "## Creación variables X e Y"
   ]
  },
  {
   "cell_type": "markdown",
   "id": "650ab020",
   "metadata": {
    "id": "f4e1ed9d"
   },
   "source": [
    "Eliminamos las columnas death_date, intubated y icu (por su correlación lineal con intubated)"
   ]
  },
  {
   "cell_type": "code",
   "execution_count": 19,
   "id": "3f7e8521",
   "metadata": {
    "colab": {
     "base_uri": "https://localhost:8080/",
     "height": 423
    },
    "executionInfo": {
     "elapsed": 27,
     "status": "ok",
     "timestamp": 1655396656718,
     "user": {
      "displayName": "Maela Lombardi",
      "userId": "03936068368896012188"
     },
     "user_tz": 180
    },
    "id": "ba147719",
    "outputId": "dd93fafa-04b5-47ba-b10e-450e3f0413ec",
    "papermill": {
     "duration": 0.091636,
     "end_time": "2021-12-03T12:45:41.371542",
     "exception": false,
     "start_time": "2021-12-03T12:45:41.279906",
     "status": "completed"
    },
    "tags": []
   },
   "outputs": [
    {
     "data": {
      "text/html": [
       "<div>\n",
       "<style scoped>\n",
       "    .dataframe tbody tr th:only-of-type {\n",
       "        vertical-align: middle;\n",
       "    }\n",
       "\n",
       "    .dataframe tbody tr th {\n",
       "        vertical-align: top;\n",
       "    }\n",
       "\n",
       "    .dataframe thead th {\n",
       "        text-align: right;\n",
       "    }\n",
       "</style>\n",
       "<table border=\"1\" class=\"dataframe\">\n",
       "  <thead>\n",
       "    <tr style=\"text-align: right;\">\n",
       "      <th></th>\n",
       "      <th>hospitalized</th>\n",
       "    </tr>\n",
       "  </thead>\n",
       "  <tbody>\n",
       "    <tr>\n",
       "      <th>0</th>\n",
       "      <td>0</td>\n",
       "    </tr>\n",
       "    <tr>\n",
       "      <th>1</th>\n",
       "      <td>1</td>\n",
       "    </tr>\n",
       "    <tr>\n",
       "      <th>2</th>\n",
       "      <td>1</td>\n",
       "    </tr>\n",
       "    <tr>\n",
       "      <th>3</th>\n",
       "      <td>1</td>\n",
       "    </tr>\n",
       "    <tr>\n",
       "      <th>4</th>\n",
       "      <td>0</td>\n",
       "    </tr>\n",
       "    <tr>\n",
       "      <th>...</th>\n",
       "      <td>...</td>\n",
       "    </tr>\n",
       "    <tr>\n",
       "      <th>82515</th>\n",
       "      <td>1</td>\n",
       "    </tr>\n",
       "    <tr>\n",
       "      <th>82516</th>\n",
       "      <td>0</td>\n",
       "    </tr>\n",
       "    <tr>\n",
       "      <th>82517</th>\n",
       "      <td>0</td>\n",
       "    </tr>\n",
       "    <tr>\n",
       "      <th>82518</th>\n",
       "      <td>0</td>\n",
       "    </tr>\n",
       "    <tr>\n",
       "      <th>82519</th>\n",
       "      <td>0</td>\n",
       "    </tr>\n",
       "  </tbody>\n",
       "</table>\n",
       "<p>82520 rows × 1 columns</p>\n",
       "</div>"
      ],
      "text/plain": [
       "       hospitalized\n",
       "0                 0\n",
       "1                 1\n",
       "2                 1\n",
       "3                 1\n",
       "4                 0\n",
       "...             ...\n",
       "82515             1\n",
       "82516             0\n",
       "82517             0\n",
       "82518             0\n",
       "82519             0\n",
       "\n",
       "[82520 rows x 1 columns]"
      ]
     },
     "execution_count": 19,
     "metadata": {},
     "output_type": "execute_result"
    }
   ],
   "source": [
    "x=old_data.drop([\"hospitalized\"],axis=1)\n",
    "y=old_data[\"hospitalized\"]\n",
    "y=pd.DataFrame(y)\n",
    "y"
   ]
  },
  {
   "cell_type": "code",
   "execution_count": 20,
   "id": "fdb55f89",
   "metadata": {},
   "outputs": [],
   "source": [
    "x = pd.get_dummies(data=x, columns= x.columns,drop_first = True)"
   ]
  },
  {
   "cell_type": "code",
   "execution_count": 21,
   "id": "14a6d6fb",
   "metadata": {
    "colab": {
     "base_uri": "https://localhost:8080/"
    },
    "executionInfo": {
     "elapsed": 24,
     "status": "ok",
     "timestamp": 1655396656720,
     "user": {
      "displayName": "Maela Lombardi",
      "userId": "03936068368896012188"
     },
     "user_tz": 180
    },
    "id": "15d9cd27",
    "outputId": "0f29fa5e-eead-4004-998e-d10bca4d1baf",
    "papermill": {
     "duration": 0.090735,
     "end_time": "2021-12-03T12:45:41.537001",
     "exception": false,
     "start_time": "2021-12-03T12:45:41.446266",
     "status": "completed"
    },
    "tags": []
   },
   "outputs": [
    {
     "name": "stdout",
     "output_type": "stream",
     "text": [
      "X_train: 66016\n",
      "y_train: 66016\n",
      "X_test: 16504\n",
      "y_test: 16504\n"
     ]
    }
   ],
   "source": [
    "x_train,x_test,y_train,y_test=train_test_split(x,y,test_size=0.2,random_state=1)\n",
    "print (\"X_train:\" , x_train.shape[0])\n",
    "print (\"y_train:\" , y_train.shape[0])\n",
    "print (\"X_test:\" , x_test.shape[0])\n",
    "print (\"y_test:\" , y_test.shape[0])"
   ]
  },
  {
   "cell_type": "code",
   "execution_count": 22,
   "id": "fac73fd5",
   "metadata": {
    "colab": {
     "base_uri": "https://localhost:8080/",
     "height": 423
    },
    "executionInfo": {
     "elapsed": 21,
     "status": "ok",
     "timestamp": 1655396656722,
     "user": {
      "displayName": "Maela Lombardi",
      "userId": "03936068368896012188"
     },
     "user_tz": 180
    },
    "id": "01abc3b4",
    "outputId": "4fca0569-a547-46b5-8d8e-2cccbc92d926",
    "papermill": {
     "duration": 0.087684,
     "end_time": "2021-12-03T12:45:41.700698",
     "exception": false,
     "start_time": "2021-12-03T12:45:41.613014",
     "status": "completed"
    },
    "tags": []
   },
   "outputs": [
    {
     "data": {
      "text/html": [
       "<div>\n",
       "<style scoped>\n",
       "    .dataframe tbody tr th:only-of-type {\n",
       "        vertical-align: middle;\n",
       "    }\n",
       "\n",
       "    .dataframe tbody tr th {\n",
       "        vertical-align: top;\n",
       "    }\n",
       "\n",
       "    .dataframe thead th {\n",
       "        text-align: right;\n",
       "    }\n",
       "</style>\n",
       "<table border=\"1\" class=\"dataframe\">\n",
       "  <thead>\n",
       "    <tr style=\"text-align: right;\">\n",
       "      <th></th>\n",
       "      <th>hospitalized</th>\n",
       "    </tr>\n",
       "  </thead>\n",
       "  <tbody>\n",
       "    <tr>\n",
       "      <th>22952</th>\n",
       "      <td>1</td>\n",
       "    </tr>\n",
       "    <tr>\n",
       "      <th>14967</th>\n",
       "      <td>0</td>\n",
       "    </tr>\n",
       "    <tr>\n",
       "      <th>26181</th>\n",
       "      <td>1</td>\n",
       "    </tr>\n",
       "    <tr>\n",
       "      <th>16907</th>\n",
       "      <td>0</td>\n",
       "    </tr>\n",
       "    <tr>\n",
       "      <th>21841</th>\n",
       "      <td>1</td>\n",
       "    </tr>\n",
       "    <tr>\n",
       "      <th>...</th>\n",
       "      <td>...</td>\n",
       "    </tr>\n",
       "    <tr>\n",
       "      <th>21440</th>\n",
       "      <td>1</td>\n",
       "    </tr>\n",
       "    <tr>\n",
       "      <th>73349</th>\n",
       "      <td>0</td>\n",
       "    </tr>\n",
       "    <tr>\n",
       "      <th>50057</th>\n",
       "      <td>0</td>\n",
       "    </tr>\n",
       "    <tr>\n",
       "      <th>5192</th>\n",
       "      <td>0</td>\n",
       "    </tr>\n",
       "    <tr>\n",
       "      <th>77708</th>\n",
       "      <td>0</td>\n",
       "    </tr>\n",
       "  </tbody>\n",
       "</table>\n",
       "<p>66016 rows × 1 columns</p>\n",
       "</div>"
      ],
      "text/plain": [
       "       hospitalized\n",
       "22952             1\n",
       "14967             0\n",
       "26181             1\n",
       "16907             0\n",
       "21841             1\n",
       "...             ...\n",
       "21440             1\n",
       "73349             0\n",
       "50057             0\n",
       "5192              0\n",
       "77708             0\n",
       "\n",
       "[66016 rows x 1 columns]"
      ]
     },
     "execution_count": 22,
     "metadata": {},
     "output_type": "execute_result"
    }
   ],
   "source": [
    "y_train=pd.DataFrame(y_train)\n",
    "y_train"
   ]
  },
  {
   "cell_type": "code",
   "execution_count": 23,
   "id": "885c473a",
   "metadata": {
    "executionInfo": {
     "elapsed": 21,
     "status": "ok",
     "timestamp": 1655396656723,
     "user": {
      "displayName": "Maela Lombardi",
      "userId": "03936068368896012188"
     },
     "user_tz": 180
    },
    "id": "0452255a",
    "papermill": {
     "duration": 0.083991,
     "end_time": "2021-12-03T12:45:41.860596",
     "exception": false,
     "start_time": "2021-12-03T12:45:41.776605",
     "status": "completed"
    },
    "tags": []
   },
   "outputs": [],
   "source": [
    "y_train=y_train.astype('float')\n",
    "y_test=y_test.astype('float')"
   ]
  },
  {
   "cell_type": "markdown",
   "id": "e901be53",
   "metadata": {
    "id": "913c89d3",
    "papermill": {
     "duration": 0.076508,
     "end_time": "2021-12-03T12:45:42.013071",
     "exception": false,
     "start_time": "2021-12-03T12:45:41.936563",
     "status": "completed"
    },
    "tags": []
   },
   "source": [
    "## Machine Learning Algorithms"
   ]
  },
  {
   "cell_type": "code",
   "execution_count": 25,
   "id": "0bd4a077",
   "metadata": {
    "colab": {
     "base_uri": "https://localhost:8080/"
    },
    "executionInfo": {
     "elapsed": 39014,
     "status": "ok",
     "timestamp": 1655396695716,
     "user": {
      "displayName": "Maela Lombardi",
      "userId": "03936068368896012188"
     },
     "user_tz": 180
    },
    "id": "7c9e09d1",
    "outputId": "bf3a27ce-eab9-450b-e3a4-4cd3da2abfdc",
    "papermill": {
     "duration": 1.392284,
     "end_time": "2021-12-03T12:45:43.482431",
     "exception": false,
     "start_time": "2021-12-03T12:45:42.090147",
     "status": "completed"
    },
    "tags": []
   },
   "outputs": [
    {
     "name": "stdout",
     "output_type": "stream",
     "text": [
      "KNN Acc Score: 0.8568831798351915\n",
      "NB Score: 0.8307077072224915\n"
     ]
    }
   ],
   "source": [
    "#Naive Bayes\n",
    "nb=MultinomialNB()\n",
    "nb.fit(x_train, y_train)\n",
    "score_nb=nb.score(x_test,y_test)\n",
    "\n",
    "#KNN\n",
    "knn=KNeighborsClassifier(n_neighbors=3)\n",
    "knn.fit(x_train,y_train)\n",
    "score_knn=knn.score(x_test,y_test)\n",
    "\n",
    "#Score\n",
    "print (\"KNN Acc Score:\",score_knn)\n",
    "print (\"NB Score:\", score_nb)"
   ]
  },
  {
   "cell_type": "code",
   "execution_count": 26,
   "id": "c2bdcbbc",
   "metadata": {
    "executionInfo": {
     "elapsed": 20431,
     "status": "ok",
     "timestamp": 1655396716131,
     "user": {
      "displayName": "Maela Lombardi",
      "userId": "03936068368896012188"
     },
     "user_tz": 180
    },
    "id": "fb317a81",
    "papermill": {
     "duration": 0.310132,
     "end_time": "2021-12-03T12:45:43.869416",
     "exception": false,
     "start_time": "2021-12-03T12:45:43.559284",
     "status": "completed"
    },
    "tags": []
   },
   "outputs": [],
   "source": [
    "y_pred_nb = nb.predict(x_test)\n",
    "y_pred_knn = knn.predict(x_test)"
   ]
  },
  {
   "cell_type": "code",
   "execution_count": 27,
   "id": "61622ebf",
   "metadata": {
    "colab": {
     "base_uri": "https://localhost:8080/"
    },
    "executionInfo": {
     "elapsed": 76,
     "status": "ok",
     "timestamp": 1655396716132,
     "user": {
      "displayName": "Maela Lombardi",
      "userId": "03936068368896012188"
     },
     "user_tz": 180
    },
    "id": "c89Vm7v2OZXY",
    "outputId": "b7d2399b-b07e-41c6-aa25-98a1a01bf6ea"
   },
   "outputs": [
    {
     "name": "stdout",
     "output_type": "stream",
     "text": [
      "AS NB:\n",
      " 0.8307077072224915\n",
      "AS KNN:\n",
      " 0.8568831798351915\n"
     ]
    }
   ],
   "source": [
    "print(\"AS NB:\\n\", accuracy_score(y_test, y_pred_nb))\n",
    "print(\"AS KNN:\\n\", accuracy_score(y_test, y_pred_knn))"
   ]
  },
  {
   "cell_type": "markdown",
   "id": "6e7bb94a",
   "metadata": {
    "id": "ffb4679f",
    "papermill": {
     "duration": 0.075733,
     "end_time": "2021-12-03T12:45:44.021846",
     "exception": false,
     "start_time": "2021-12-03T12:45:43.946113",
     "status": "completed"
    },
    "tags": []
   },
   "source": [
    "## Confusion_matrix"
   ]
  },
  {
   "cell_type": "code",
   "execution_count": 28,
   "id": "80f97e4b",
   "metadata": {
    "colab": {
     "base_uri": "https://localhost:8080/"
    },
    "executionInfo": {
     "elapsed": 67,
     "status": "ok",
     "timestamp": 1655396716133,
     "user": {
      "displayName": "Maela Lombardi",
      "userId": "03936068368896012188"
     },
     "user_tz": 180
    },
    "id": "bab32f38",
    "outputId": "333f1bb4-44ae-4711-9a4e-d7057637ec41",
    "papermill": {
     "duration": 0.241807,
     "end_time": "2021-12-03T12:45:44.341111",
     "exception": false,
     "start_time": "2021-12-03T12:45:44.099304",
     "status": "completed"
    },
    "tags": []
   },
   "outputs": [
    {
     "name": "stdout",
     "output_type": "stream",
     "text": [
      "CM NB:\n",
      " [[11000  1338]\n",
      " [ 1456  2710]]\n",
      "CM KNN:\n",
      " [[11515   823]\n",
      " [ 1539  2627]]\n"
     ]
    }
   ],
   "source": [
    "print(\"CM NB:\\n\", confusion_matrix(y_test, y_pred_nb))\n",
    "print(\"CM KNN:\\n\", confusion_matrix(y_test, y_pred_knn))"
   ]
  },
  {
   "cell_type": "markdown",
   "id": "2efa0e68",
   "metadata": {
    "id": "ba78f9d0",
    "papermill": {
     "duration": 0.077262,
     "end_time": "2021-12-03T12:45:44.496058",
     "exception": false,
     "start_time": "2021-12-03T12:45:44.418796",
     "status": "completed"
    },
    "tags": []
   },
   "source": [
    "## Recall,Precision and F-1 Score\n"
   ]
  },
  {
   "cell_type": "markdown",
   "id": "ba85309c",
   "metadata": {
    "id": "86677d9d",
    "papermill": {
     "duration": 0.077152,
     "end_time": "2021-12-03T12:45:44.650415",
     "exception": false,
     "start_time": "2021-12-03T12:45:44.573263",
     "status": "completed"
    },
    "tags": []
   },
   "source": [
    "* Recall    =  TP / (TP + FN)\n",
    "* Precision = TP / (TP + FP) \n",
    "* F-Measure = (2 * Precision * Recall) / (Precision + Recall)"
   ]
  },
  {
   "cell_type": "code",
   "execution_count": 29,
   "id": "fbd8730a",
   "metadata": {
    "colab": {
     "base_uri": "https://localhost:8080/"
    },
    "executionInfo": {
     "elapsed": 390,
     "status": "ok",
     "timestamp": 1655396716464,
     "user": {
      "displayName": "Maela Lombardi",
      "userId": "03936068368896012188"
     },
     "user_tz": 180
    },
    "id": "8e8335d5",
    "outputId": "d36cdb69-60d0-4e2b-aba8-de1990fa1f59",
    "papermill": {
     "duration": 0.092534,
     "end_time": "2021-12-03T12:45:44.822186",
     "exception": false,
     "start_time": "2021-12-03T12:45:44.729652",
     "status": "completed"
    },
    "tags": []
   },
   "outputs": [
    {
     "name": "stdout",
     "output_type": "stream",
     "text": [
      "NB:\n",
      "               precision    recall  f1-score   support\n",
      "\n",
      "         0.0       0.88      0.89      0.89     12338\n",
      "         1.0       0.67      0.65      0.66      4166\n",
      "\n",
      "    accuracy                           0.83     16504\n",
      "   macro avg       0.78      0.77      0.77     16504\n",
      "weighted avg       0.83      0.83      0.83     16504\n",
      "\n",
      "KNN:\n",
      "               precision    recall  f1-score   support\n",
      "\n",
      "         0.0       0.88      0.93      0.91     12338\n",
      "         1.0       0.76      0.63      0.69      4166\n",
      "\n",
      "    accuracy                           0.86     16504\n",
      "   macro avg       0.82      0.78      0.80     16504\n",
      "weighted avg       0.85      0.86      0.85     16504\n",
      "\n"
     ]
    }
   ],
   "source": [
    "print(\"NB:\\n\", classification_report(y_test,y_pred_nb))\n",
    "print(\"KNN:\\n\", classification_report(y_test,y_pred_knn))"
   ]
  },
  {
   "cell_type": "code",
   "execution_count": 30,
   "id": "02a717ff",
   "metadata": {
    "colab": {
     "base_uri": "https://localhost:8080/"
    },
    "executionInfo": {
     "elapsed": 11,
     "status": "ok",
     "timestamp": 1655396716465,
     "user": {
      "displayName": "Maela Lombardi",
      "userId": "03936068368896012188"
     },
     "user_tz": 180
    },
    "id": "eaba2773",
    "outputId": "78df398d-392e-4c8f-9fb3-4d84081f5208",
    "papermill": {
     "duration": 0.089199,
     "end_time": "2021-12-03T12:45:44.989455",
     "exception": false,
     "start_time": "2021-12-03T12:45:44.900256",
     "status": "completed"
    },
    "tags": []
   },
   "outputs": [
    {
     "name": "stdout",
     "output_type": "stream",
     "text": [
      "F1 Score NB: 0.6598490382274166\n",
      "F1 Score KNN: 0.6898634453781513\n"
     ]
    }
   ],
   "source": [
    "print (\"F1 Score NB:\", f1_score(y_test,y_pred_nb))\n",
    "print (\"F1 Score KNN:\", f1_score(y_test,y_pred_knn))"
   ]
  },
  {
   "cell_type": "markdown",
   "id": "7a05bf95",
   "metadata": {
    "id": "d7aeb1e4",
    "papermill": {
     "duration": 0.080127,
     "end_time": "2021-12-03T12:45:46.820998",
     "exception": false,
     "start_time": "2021-12-03T12:45:46.740871",
     "status": "completed"
    },
    "tags": []
   },
   "source": [
    "## roc & auc"
   ]
  },
  {
   "cell_type": "code",
   "execution_count": 31,
   "id": "4a46fb51",
   "metadata": {
    "executionInfo": {
     "elapsed": 20351,
     "status": "ok",
     "timestamp": 1655396736813,
     "user": {
      "displayName": "Maela Lombardi",
      "userId": "03936068368896012188"
     },
     "user_tz": 180
    },
    "id": "58e2b58f",
    "papermill": {
     "duration": 0.199069,
     "end_time": "2021-12-03T12:45:46.474247",
     "exception": false,
     "start_time": "2021-12-03T12:45:46.275178",
     "status": "completed"
    },
    "tags": []
   },
   "outputs": [],
   "source": [
    "#NB\n",
    "probs_nb=nb.predict_proba(x_test)\n",
    "preds_nb=probs_nb[:,1]\n",
    "fpr_nb,tpr_nb, threshold_nb =metrics.roc_curve(y_test, y_pred_nb)\n",
    "roc_auc_nb=metrics.auc(fpr_nb,tpr_nb)\n",
    "\n",
    "#KNN\n",
    "probs_knn=knn.predict_proba(x_test)\n",
    "preds_knn=probs_knn[:,1]\n",
    "fpr_knn,tpr_knn, threshold_knn =metrics.roc_curve(y_test, y_pred_knn)\n",
    "roc_auc_knn=metrics.auc(fpr_knn,tpr_knn)"
   ]
  },
  {
   "cell_type": "code",
   "execution_count": 32,
   "id": "be53f56f",
   "metadata": {
    "colab": {
     "base_uri": "https://localhost:8080/",
     "height": 295
    },
    "executionInfo": {
     "elapsed": 52,
     "status": "ok",
     "timestamp": 1655396736828,
     "user": {
      "displayName": "Maela Lombardi",
      "userId": "03936068368896012188"
     },
     "user_tz": 180
    },
    "id": "0a7cb69d",
    "outputId": "2d1df106-4c4f-422d-d6b8-6a60d15a4f37",
    "papermill": {
     "duration": 0.315026,
     "end_time": "2021-12-03T12:45:47.217156",
     "exception": false,
     "start_time": "2021-12-03T12:45:46.902130",
     "status": "completed"
    },
    "tags": []
   },
   "outputs": [
    {
     "data": {
      "image/png": "[encoded data removed]",
      "text/plain": [
       "<Figure size 432x288 with 1 Axes>"
      ]
     },
     "metadata": {
      "needs_background": "light"
     },
     "output_type": "display_data"
    }
   ],
   "source": [
    "plt.title(\"ROC\")\n",
    "\n",
    "plt.plot(fpr_nb, tpr_nb, 'g', label=\"NB\" % roc_auc_nb)\n",
    "plt.plot(fpr_knn, tpr_knn, 'r', label=\"KNN\" % roc_auc_nb)\n",
    "\n",
    "plt.legend(loc=\"lower right\")\n",
    "plt.plot([0,1],[0,1],'r--')\n",
    "plt.xlim([0,1])\n",
    "plt.ylim([0,1])\n",
    "plt.ylabel('True Pozitive Rate')\n",
    "plt.xlabel('False Positive Rate')\n",
    "plt.show()"
   ]
  },
  {
   "cell_type": "markdown",
   "id": "010ac160",
   "metadata": {
    "id": "2zNi4R8yYNJ9"
   },
   "source": [
    "## GridSearch"
   ]
  },
  {
   "cell_type": "code",
   "execution_count": 33,
   "id": "58123b72",
   "metadata": {
    "colab": {
     "base_uri": "https://localhost:8080/"
    },
    "executionInfo": {
     "elapsed": 299,
     "status": "ok",
     "timestamp": 1655397581790,
     "user": {
      "displayName": "Maela Lombardi",
      "userId": "03936068368896012188"
     },
     "user_tz": 180
    },
    "id": "os7m_Q8xX6NU",
    "outputId": "ffa99538-98f5-4b0a-89ef-b7e694840407"
   },
   "outputs": [
    {
     "name": "stdout",
     "output_type": "stream",
     "text": [
      "{'n_neighbors': [10, 11, 12, 13, 14, 15, 16, 17, 18, 19, 20]}\n"
     ]
    }
   ],
   "source": [
    "k_range = list(range(10, 21))\n",
    "param_grid = dict(n_neighbors=k_range)\n",
    "print(param_grid)"
   ]
  },
  {
   "cell_type": "code",
   "execution_count": 34,
   "id": "02017e71",
   "metadata": {
    "executionInfo": {
     "elapsed": 302,
     "status": "ok",
     "timestamp": 1655397608287,
     "user": {
      "displayName": "Maela Lombardi",
      "userId": "03936068368896012188"
     },
     "user_tz": 180
    },
    "id": "SzsyirV5X_1f"
   },
   "outputs": [],
   "source": [
    "folds=StratifiedKFold(n_splits=10, random_state=19, shuffle=True)"
   ]
  },
  {
   "cell_type": "code",
   "execution_count": 35,
   "id": "a67a4d6f",
   "metadata": {
    "executionInfo": {
     "elapsed": 308,
     "status": "ok",
     "timestamp": 1655397612789,
     "user": {
      "displayName": "Maela Lombardi",
      "userId": "03936068368896012188"
     },
     "user_tz": 180
    },
    "id": "w0oAbbALYAUQ"
   },
   "outputs": [],
   "source": [
    "grid = GridSearchCV(knn, param_grid, cv=folds, scoring='accuracy')"
   ]
  },
  {
   "cell_type": "code",
   "execution_count": null,
   "id": "f493dfd5",
   "metadata": {
    "colab": {
     "base_uri": "https://localhost:8080/"
    },
    "executionInfo": {
     "elapsed": 3369096,
     "status": "ok",
     "timestamp": 1655400986425,
     "user": {
      "displayName": "Maela Lombardi",
      "userId": "03936068368896012188"
     },
     "user_tz": 180
    },
    "id": "Cml8BUpvYD1P",
    "outputId": "c65bb5e3-11b2-4aa7-98ef-823c3da5dddf"
   },
   "outputs": [],
   "source": [
    "grid.fit(x_train, y_train)"
   ]
  },
  {
   "cell_type": "code",
   "execution_count": null,
   "id": "7868e5cc",
   "metadata": {
    "colab": {
     "base_uri": "https://localhost:8080/",
     "height": 1000
    },
    "executionInfo": {
     "elapsed": 483,
     "status": "ok",
     "timestamp": 1655402974814,
     "user": {
      "displayName": "Maela Lombardi",
      "userId": "03936068368896012188"
     },
     "user_tz": 180
    },
    "id": "d0uaWWPsYW3e",
    "outputId": "35d59d01-d588-4fd0-f691-d0cb270e2425"
   },
   "outputs": [],
   "source": [
    "pd.DataFrame(grid.cv_results_)"
   ]
  },
  {
   "cell_type": "code",
   "execution_count": null,
   "id": "e5f7b266",
   "metadata": {
    "colab": {
     "base_uri": "https://localhost:8080/"
    },
    "executionInfo": {
     "elapsed": 239,
     "status": "ok",
     "timestamp": 1655402982827,
     "user": {
      "displayName": "Maela Lombardi",
      "userId": "03936068368896012188"
     },
     "user_tz": 180
    },
    "id": "tH8sK0uVYbDW",
    "outputId": "15188701-60e5-4501-ff3e-592862fc1749"
   },
   "outputs": [],
   "source": [
    "grid.best_estimator_"
   ]
  },
  {
   "cell_type": "code",
   "execution_count": null,
   "id": "d2f50a99",
   "metadata": {
    "colab": {
     "base_uri": "https://localhost:8080/"
    },
    "executionInfo": {
     "elapsed": 260,
     "status": "ok",
     "timestamp": 1655402985118,
     "user": {
      "displayName": "Maela Lombardi",
      "userId": "03936068368896012188"
     },
     "user_tz": 180
    },
    "id": "92Xo3h3QYbdn",
    "outputId": "617b0d23-62a5-456a-e82f-a9c879def74e"
   },
   "outputs": [],
   "source": [
    "grid.best_score_"
   ]
  },
  {
   "cell_type": "code",
   "execution_count": null,
   "id": "e6edfd2b",
   "metadata": {
    "colab": {
     "base_uri": "https://localhost:8080/"
    },
    "executionInfo": {
     "elapsed": 298,
     "status": "ok",
     "timestamp": 1655402988686,
     "user": {
      "displayName": "Maela Lombardi",
      "userId": "03936068368896012188"
     },
     "user_tz": 180
    },
    "id": "FyBKxLqSYdHb",
    "outputId": "0ad05db0-25fb-470f-c3da-b9a9a0cf26ad"
   },
   "outputs": [],
   "source": [
    "grid.best_params_"
   ]
  },
  {
   "cell_type": "code",
   "execution_count": null,
   "id": "3e47ee58",
   "metadata": {
    "executionInfo": {
     "elapsed": 34359,
     "status": "ok",
     "timestamp": 1655403025367,
     "user": {
      "displayName": "Maela Lombardi",
      "userId": "03936068368896012188"
     },
     "user_tz": 180
    },
    "id": "TftLszmnYgzW"
   },
   "outputs": [],
   "source": [
    "y_pred_grid = grid.predict(xd_test)"
   ]
  },
  {
   "cell_type": "code",
   "execution_count": null,
   "id": "325c6db6",
   "metadata": {
    "executionInfo": {
     "elapsed": 250,
     "status": "ok",
     "timestamp": 1655403082024,
     "user": {
      "displayName": "Maela Lombardi",
      "userId": "03936068368896012188"
     },
     "user_tz": 180
    },
    "id": "HJEfkaQSYh7I"
   },
   "outputs": [],
   "source": [
    "confusion = confusion_matrix(y_test, y_pred_grid)"
   ]
  },
  {
   "cell_type": "code",
   "execution_count": null,
   "id": "2163278b",
   "metadata": {
    "colab": {
     "base_uri": "https://localhost:8080/"
    },
    "executionInfo": {
     "elapsed": 261,
     "status": "ok",
     "timestamp": 1655403095359,
     "user": {
      "displayName": "Maela Lombardi",
      "userId": "03936068368896012188"
     },
     "user_tz": 180
    },
    "id": "6FmMelFItovx",
    "outputId": "255eff5a-63c7-446b-b774-184bec8ad68e"
   },
   "outputs": [],
   "source": [
    "confusion"
   ]
  },
  {
   "cell_type": "code",
   "execution_count": null,
   "id": "aa2538ba",
   "metadata": {
    "colab": {
     "base_uri": "https://localhost:8080/"
    },
    "executionInfo": {
     "elapsed": 273,
     "status": "ok",
     "timestamp": 1655403086750,
     "user": {
      "displayName": "Maela Lombardi",
      "userId": "03936068368896012188"
     },
     "user_tz": 180
    },
    "id": "Rn6lVd1SYmHm",
    "outputId": "83230945-0340-4abf-8247-567c843d1360"
   },
   "outputs": [],
   "source": [
    "print (classification_report(y_test, y_pred_grid))"
   ]
  }
 ],
 "metadata": {
  "colab": {
   "name": "covid-19-ml-adaptado.ipynb",
   "provenance": []
  },
  "kernelspec": {
   "display_name": "Python 3 (ipykernel)",
   "language": "python",
   "name": "python3"
  },
  "language_info": {
   "codemirror_mode": {
    "name": "ipython",
    "version": 3
   },
   "file_extension": ".py",
   "mimetype": "text/x-python",
   "name": "python",
   "nbconvert_exporter": "python",
   "pygments_lexer": "ipython3",
   "version": "3.8.12"
  },
  "papermill": {
   "default_parameters": {},
   "duration": 41.042018,
   "end_time": "2021-12-03T12:46:08.370456",
   "environment_variables": {},
   "exception": null,
   "input_path": "__notebook__.ipynb",
   "output_path": "__notebook__.ipynb",
   "parameters": {},
   "start_time": "2021-12-03T12:45:27.328438",
   "version": "2.3.3"
  }
 },
 "nbformat": 4,
 "nbformat_minor": 5
}
