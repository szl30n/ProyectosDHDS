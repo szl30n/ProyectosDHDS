{
 "cells": [
  {
   "cell_type": "markdown",
   "id": "c84f2321",
   "metadata": {
    "id": "7cfca387"
   },
   "source": [
    "# Preparación ambiente"
   ]
  },
  {
   "cell_type": "code",
   "execution_count": 1,
   "id": "37ae3ba0",
   "metadata": {
    "colab": {
     "base_uri": "https://localhost:8080/"
    },
    "executionInfo": {
     "elapsed": 2604,
     "status": "ok",
     "timestamp": 1655396648181,
     "user": {
      "displayName": "Maela Lombardi",
      "userId": "03936068368896012188"
     },
     "user_tz": 180
    },
    "id": "PlT27ViHcjR2",
    "outputId": "f7266c64-222c-4a9d-bb64-5ba437413a2f"
   },
   "outputs": [],
   "source": [
    "#from google.colab import drive\n",
    "#drive.mount('/content/drive')"
   ]
  },
  {
   "cell_type": "code",
   "execution_count": 2,
   "id": "c975c5b8",
   "metadata": {
    "_cell_guid": "b1076dfc-b9ad-4769-8c92-a6c4dae69d19",
    "_uuid": "8f2839f25d086af736a60e9eeb907d3b93b6e0e5",
    "executionInfo": {
     "elapsed": 4495,
     "status": "ok",
     "timestamp": 1655396652668,
     "user": {
      "displayName": "Maela Lombardi",
      "userId": "03936068368896012188"
     },
     "user_tz": 180
    },
    "id": "f53d2183",
    "papermill": {
     "duration": 1.505952,
     "end_time": "2021-12-03T12:45:37.957425",
     "exception": false,
     "start_time": "2021-12-03T12:45:36.451473",
     "status": "completed"
    },
    "tags": []
   },
   "outputs": [],
   "source": [
    "import numpy as np \n",
    "import pandas as pd \n",
    "import matplotlib.pyplot as plt\n",
    "import seaborn as sns\n",
    "\n",
    "from sklearn.naive_bayes import GaussianNB\n",
    "from sklearn.neighbors import KNeighborsClassifier\n",
    "from sklearn.preprocessing import StandardScaler\n",
    "from sklearn.linear_model import LogisticRegression\n",
    "\n",
    "import warnings\n",
    "warnings.filterwarnings(\"ignore\")\n",
    "\n",
    "from sklearn import metrics\n",
    "from sklearn.metrics import confusion_matrix\n",
    "from sklearn.metrics import f1_score, accuracy_score\n",
    "from sklearn.metrics import classification_report\n",
    "from sklearn.model_selection import train_test_split\n",
    "from sklearn.metrics import roc_auc_score"
   ]
  },
  {
   "cell_type": "markdown",
   "id": "4840c80c",
   "metadata": {
    "id": "493ee9c7"
   },
   "source": [
    "# Importación dataset"
   ]
  },
  {
   "cell_type": "code",
   "execution_count": 3,
   "id": "73c1f51b",
   "metadata": {
    "executionInfo": {
     "elapsed": 943,
     "status": "ok",
     "timestamp": 1655396653604,
     "user": {
      "displayName": "Maela Lombardi",
      "userId": "03936068368896012188"
     },
     "user_tz": 180
    },
    "id": "66eb2805",
    "papermill": {
     "duration": 0.326972,
     "end_time": "2021-12-03T12:45:38.557375",
     "exception": false,
     "start_time": "2021-12-03T12:45:38.230403",
     "status": "completed"
    },
    "tags": []
   },
   "outputs": [],
   "source": [
    "data=pd.read_csv(\"../Data/patient.csv\")"
   ]
  },
  {
   "cell_type": "code",
   "execution_count": 4,
   "id": "c002bc7d",
   "metadata": {
    "colab": {
     "base_uri": "https://localhost:8080/"
    },
    "executionInfo": {
     "elapsed": 440,
     "status": "ok",
     "timestamp": 1655396654034,
     "user": {
      "displayName": "Maela Lombardi",
      "userId": "03936068368896012188"
     },
     "user_tz": 180
    },
    "id": "bfa737dd",
    "outputId": "1c737ba0-3085-409b-a242-7f861581ec54"
   },
   "outputs": [
    {
     "name": "stdout",
     "output_type": "stream",
     "text": [
      "sex                         2\n",
      "patient_type                2\n",
      "intubated                   4\n",
      "pneumonia                   3\n",
      "age                       104\n",
      "pregnant                    4\n",
      "diabetes                    3\n",
      "copd                        2\n",
      "asthma                      2\n",
      "immunosuppression           2\n",
      "hypertension                2\n",
      "other_diseases              3\n",
      "cardiovascular              2\n",
      "obesity                     2\n",
      "chronic_kidney_failure      3\n",
      "smoker                      2\n",
      "outcome                     3\n",
      "icu                         4\n",
      "death_date                 54\n",
      "dtype: int64\n",
      "(95252, 19)\n"
     ]
    }
   ],
   "source": [
    "print(data.nunique())\n",
    "print(data.shape)"
   ]
  },
  {
   "cell_type": "markdown",
   "id": "c357ed28",
   "metadata": {
    "id": "0efa89d6"
   },
   "source": [
    "# Preparación Datos"
   ]
  },
  {
   "cell_type": "code",
   "execution_count": 5,
   "id": "27fc8c92",
   "metadata": {},
   "outputs": [
    {
     "name": "stdout",
     "output_type": "stream",
     "text": [
      "Index(['sex', 'patient_type', 'pneumonia', 'age', 'pregnant', 'diabetes',\n",
      "       'copd', 'asthma', 'immunosuppression', 'hypertension', 'other_diseases',\n",
      "       'cardiovascular', 'obesity', 'chronic_kidney_failure', 'smoker',\n",
      "       'outcome'],\n",
      "      dtype='object')\n"
     ]
    },
    {
     "data": {
      "text/plain": [
       "(95252, 16)"
      ]
     },
     "execution_count": 5,
     "metadata": {},
     "output_type": "execute_result"
    }
   ],
   "source": [
    "#Dropeo icu, intubated, death_date\n",
    "data=data.drop(['icu','intubated','death_date'], axis=1)\n",
    "print(data.columns)\n",
    "data.shape"
   ]
  },
  {
   "cell_type": "code",
   "execution_count": 6,
   "id": "995af41d",
   "metadata": {
    "colab": {
     "base_uri": "https://localhost:8080/",
     "height": 270
    },
    "executionInfo": {
     "elapsed": 15,
     "status": "ok",
     "timestamp": 1655396654039,
     "user": {
      "displayName": "Maela Lombardi",
      "userId": "03936068368896012188"
     },
     "user_tz": 180
    },
    "id": "73b1cda2",
    "outputId": "45fef086-7a29-44e0-feb0-216f5355e22a",
    "papermill": {
     "duration": 0.077107,
     "end_time": "2021-12-03T12:45:39.363149",
     "exception": false,
     "start_time": "2021-12-03T12:45:39.286042",
     "status": "completed"
    },
    "tags": []
   },
   "outputs": [
    {
     "name": "stdout",
     "output_type": "stream",
     "text": [
      "Int64Index([161, 174, 592, 609, 644, 13322, 15671, 27316], dtype='int64')\n"
     ]
    },
    {
     "data": {
      "text/plain": [
       "(95244, 16)"
      ]
     },
     "execution_count": 6,
     "metadata": {},
     "output_type": "execute_result"
    }
   ],
   "source": [
    "#99 a null y dropeo\n",
    "cols=data.columns.difference(['age'])\n",
    "\n",
    "df=(data[cols] == 99)\n",
    "ix=df[df.any(axis=1)].index\n",
    "print(ix)\n",
    "data.drop(df.index[ix], axis=0, inplace=True)\n",
    "data.shape"
   ]
  },
  {
   "cell_type": "code",
   "execution_count": 7,
   "id": "20ec4967",
   "metadata": {},
   "outputs": [],
   "source": [
    "#Renombro columnas\n",
    "data.rename(columns={\"patient_type\": \"inpatient\", \"outcome\": \"covid\"},inplace=True)"
   ]
  },
  {
   "cell_type": "code",
   "execution_count": 8,
   "id": "8303079a",
   "metadata": {},
   "outputs": [
    {
     "data": {
      "text/html": [
       "<div>\n",
       "<style scoped>\n",
       "    .dataframe tbody tr th:only-of-type {\n",
       "        vertical-align: middle;\n",
       "    }\n",
       "\n",
       "    .dataframe tbody tr th {\n",
       "        vertical-align: top;\n",
       "    }\n",
       "\n",
       "    .dataframe thead th {\n",
       "        text-align: right;\n",
       "    }\n",
       "</style>\n",
       "<table border=\"1\" class=\"dataframe\">\n",
       "  <thead>\n",
       "    <tr style=\"text-align: right;\">\n",
       "      <th></th>\n",
       "      <th>sex</th>\n",
       "      <th>inpatient</th>\n",
       "      <th>pneumonia</th>\n",
       "      <th>age</th>\n",
       "      <th>pregnant</th>\n",
       "      <th>diabetes</th>\n",
       "      <th>copd</th>\n",
       "      <th>asthma</th>\n",
       "      <th>immunosuppression</th>\n",
       "      <th>hypertension</th>\n",
       "      <th>other_diseases</th>\n",
       "      <th>cardiovascular</th>\n",
       "      <th>obesity</th>\n",
       "      <th>chronic_kidney_failure</th>\n",
       "      <th>smoker</th>\n",
       "      <th>covid</th>\n",
       "    </tr>\n",
       "  </thead>\n",
       "  <tbody>\n",
       "    <tr>\n",
       "      <th>0</th>\n",
       "      <td>M</td>\n",
       "      <td>0</td>\n",
       "      <td>N</td>\n",
       "      <td>42</td>\n",
       "      <td>NA</td>\n",
       "      <td>N</td>\n",
       "      <td>N</td>\n",
       "      <td>Y</td>\n",
       "      <td>N</td>\n",
       "      <td>N</td>\n",
       "      <td>N</td>\n",
       "      <td>N</td>\n",
       "      <td>N</td>\n",
       "      <td>N</td>\n",
       "      <td>N</td>\n",
       "      <td>Y</td>\n",
       "    </tr>\n",
       "    <tr>\n",
       "      <th>1</th>\n",
       "      <td>F</td>\n",
       "      <td>0</td>\n",
       "      <td>N</td>\n",
       "      <td>51</td>\n",
       "      <td>N</td>\n",
       "      <td>N</td>\n",
       "      <td>N</td>\n",
       "      <td>N</td>\n",
       "      <td>N</td>\n",
       "      <td>N</td>\n",
       "      <td>N</td>\n",
       "      <td>N</td>\n",
       "      <td>N</td>\n",
       "      <td>N</td>\n",
       "      <td>N</td>\n",
       "      <td>Y</td>\n",
       "    </tr>\n",
       "    <tr>\n",
       "      <th>2</th>\n",
       "      <td>M</td>\n",
       "      <td>1</td>\n",
       "      <td>N</td>\n",
       "      <td>51</td>\n",
       "      <td>NA</td>\n",
       "      <td>Y</td>\n",
       "      <td>N</td>\n",
       "      <td>N</td>\n",
       "      <td>N</td>\n",
       "      <td>Y</td>\n",
       "      <td>N</td>\n",
       "      <td>N</td>\n",
       "      <td>Y</td>\n",
       "      <td>N</td>\n",
       "      <td>N</td>\n",
       "      <td>Y</td>\n",
       "    </tr>\n",
       "    <tr>\n",
       "      <th>3</th>\n",
       "      <td>M</td>\n",
       "      <td>1</td>\n",
       "      <td>N</td>\n",
       "      <td>57</td>\n",
       "      <td>NA</td>\n",
       "      <td>Y</td>\n",
       "      <td>N</td>\n",
       "      <td>N</td>\n",
       "      <td>N</td>\n",
       "      <td>N</td>\n",
       "      <td>N</td>\n",
       "      <td>N</td>\n",
       "      <td>N</td>\n",
       "      <td>N</td>\n",
       "      <td>N</td>\n",
       "      <td>Y</td>\n",
       "    </tr>\n",
       "    <tr>\n",
       "      <th>4</th>\n",
       "      <td>F</td>\n",
       "      <td>1</td>\n",
       "      <td>N</td>\n",
       "      <td>44</td>\n",
       "      <td>N</td>\n",
       "      <td>Y</td>\n",
       "      <td>N</td>\n",
       "      <td>N</td>\n",
       "      <td>N</td>\n",
       "      <td>N</td>\n",
       "      <td>N</td>\n",
       "      <td>N</td>\n",
       "      <td>N</td>\n",
       "      <td>N</td>\n",
       "      <td>N</td>\n",
       "      <td>N</td>\n",
       "    </tr>\n",
       "  </tbody>\n",
       "</table>\n",
       "</div>"
      ],
      "text/plain": [
       "  sex  inpatient pneumonia  age pregnant diabetes copd asthma  \\\n",
       "0   M          0         N   42       NA        N    N      Y   \n",
       "1   F          0         N   51        N        N    N      N   \n",
       "2   M          1         N   51       NA        Y    N      N   \n",
       "3   M          1         N   57       NA        Y    N      N   \n",
       "4   F          1         N   44        N        Y    N      N   \n",
       "\n",
       "  immunosuppression hypertension other_diseases cardiovascular obesity  \\\n",
       "0                 N            N              N              N       N   \n",
       "1                 N            N              N              N       N   \n",
       "2                 N            Y              N              N       Y   \n",
       "3                 N            N              N              N       N   \n",
       "4                 N            N              N              N       N   \n",
       "\n",
       "  chronic_kidney_failure smoker covid  \n",
       "0                      N      N     Y  \n",
       "1                      N      N     Y  \n",
       "2                      N      N     Y  \n",
       "3                      N      N     Y  \n",
       "4                      N      N     N  "
      ]
     },
     "execution_count": 8,
     "metadata": {},
     "output_type": "execute_result"
    }
   ],
   "source": [
    "#Para predictivas: 1 -> Y, 2 -> N, \n",
    "cols = data.loc[:, data.columns.difference(['age', 'sex','inpatient'])].columns\n",
    "#print(cols) \n",
    "data[cols] = data[cols].replace([1,2],['Y','N'])\n",
    "\n",
    "#en sex: 1 -> F y 2-> M\n",
    "data['sex']= data['sex'].replace([1,2],['F','M'])\n",
    "\n",
    "#en pregnant : 98 -> N, 97 -> NA\n",
    "data['pregnant'] = data['pregnant'].replace([98,97],['N','NA'])\n",
    "\n",
    "# outcome: 3 -> NA\n",
    "data['covid'] = data['covid'].replace([3],['NA'])\n",
    "\n",
    "##Para target (inpatient): 1 -> 0, 2 -> 1\n",
    "data['inpatient']= data['inpatient'].replace([1,2],[0,1])\n",
    "data.head(5)"
   ]
  },
  {
   "cell_type": "code",
   "execution_count": 9,
   "id": "62f808ca",
   "metadata": {},
   "outputs": [
    {
     "data": {
      "text/plain": [
       "sex  pregnant\n",
       "F    N           45914\n",
       "     Y             976\n",
       "M    NA          48354\n",
       "Name: pregnant, dtype: int64"
      ]
     },
     "execution_count": 9,
     "metadata": {},
     "output_type": "execute_result"
    }
   ],
   "source": [
    "data.groupby([\"sex\",\"pregnant\"])[\"pregnant\"].count()"
   ]
  },
  {
   "cell_type": "code",
   "execution_count": 10,
   "id": "1f179b8a",
   "metadata": {},
   "outputs": [],
   "source": [
    "#creo categorias para edad por décadas (puede ser por etapa biologica niños-jovenes-adultos-ancianos)\n",
    "data = data.assign(agegroup=pd.cut(data['age'], bins=[0, 10, 20, 30, 40, 50, 60, 70, 80, 90, 100], right=False, labels=[\"0-9\",\"10-19\",\"20-29\",\"30-39\",\"40-49\",\"50-59\",\"60-69\",\"70-79\",\"80-89\",\"90-99\"]))"
   ]
  },
  {
   "cell_type": "code",
   "execution_count": 11,
   "id": "b90245ac",
   "metadata": {},
   "outputs": [
    {
     "data": {
      "text/plain": [
       "Index(['sex', 'inpatient', 'pneumonia', 'age', 'pregnant', 'diabetes', 'copd',\n",
       "       'asthma', 'immunosuppression', 'hypertension', 'other_diseases',\n",
       "       'cardiovascular', 'obesity', 'chronic_kidney_failure', 'smoker',\n",
       "       'covid', 'agegroup'],\n",
       "      dtype='object')"
      ]
     },
     "execution_count": 11,
     "metadata": {},
     "output_type": "execute_result"
    }
   ],
   "source": [
    "data.columns"
   ]
  },
  {
   "cell_type": "code",
   "execution_count": 12,
   "id": "6faafca8",
   "metadata": {},
   "outputs": [],
   "source": [
    "#elimino age para no tener dummies\n",
    "data.drop([\"age\"], axis=1, inplace=True)"
   ]
  },
  {
   "cell_type": "code",
   "execution_count": 13,
   "id": "c2502dc4",
   "metadata": {},
   "outputs": [
    {
     "data": {
      "text/plain": [
       "Index(['sex', 'inpatient', 'pneumonia', 'pregnant', 'diabetes', 'copd',\n",
       "       'asthma', 'immunosuppression', 'hypertension', 'other_diseases',\n",
       "       'cardiovascular', 'obesity', 'chronic_kidney_failure', 'smoker',\n",
       "       'covid', 'agegroup'],\n",
       "      dtype='object')"
      ]
     },
     "execution_count": 13,
     "metadata": {},
     "output_type": "execute_result"
    }
   ],
   "source": [
    "data.columns"
   ]
  },
  {
   "cell_type": "code",
   "execution_count": 14,
   "id": "9b01d069",
   "metadata": {},
   "outputs": [],
   "source": [
    "#creo variables dummies de todas las columnas menos la target\n",
    "data = pd.get_dummies(data=data, columns= data.columns.difference([\"inpatient\"]),drop_first = True)"
   ]
  },
  {
   "cell_type": "code",
   "execution_count": 15,
   "id": "2f503101",
   "metadata": {},
   "outputs": [
    {
     "data": {
      "text/plain": [
       "Index(['inpatient', 'agegroup_10-19', 'agegroup_20-29', 'agegroup_30-39',\n",
       "       'agegroup_40-49', 'agegroup_50-59', 'agegroup_60-69', 'agegroup_70-79',\n",
       "       'agegroup_80-89', 'agegroup_90-99', 'asthma_Y', 'cardiovascular_Y',\n",
       "       'chronic_kidney_failure_N', 'chronic_kidney_failure_Y', 'copd_Y',\n",
       "       'covid_NA', 'covid_Y', 'diabetes_N', 'diabetes_Y', 'hypertension_Y',\n",
       "       'immunosuppression_Y', 'obesity_Y', 'other_diseases_N',\n",
       "       'other_diseases_Y', 'pneumonia_Y', 'pregnant_NA', 'pregnant_Y', 'sex_M',\n",
       "       'smoker_Y'],\n",
       "      dtype='object')"
      ]
     },
     "execution_count": 15,
     "metadata": {},
     "output_type": "execute_result"
    }
   ],
   "source": [
    "data.columns"
   ]
  },
  {
   "cell_type": "markdown",
   "id": "aa14ff47",
   "metadata": {
    "id": "cb2c10ad"
   },
   "source": [
    "## Creación variables X e Y"
   ]
  },
  {
   "cell_type": "markdown",
   "id": "0fd1b8c8",
   "metadata": {
    "id": "f4e1ed9d"
   },
   "source": [
    "Eliminamos las columnas death_date, intubated y icu (por su correlación lineal con intubated)"
   ]
  },
  {
   "cell_type": "code",
   "execution_count": 16,
   "id": "e12ee89f",
   "metadata": {
    "colab": {
     "base_uri": "https://localhost:8080/",
     "height": 423
    },
    "executionInfo": {
     "elapsed": 27,
     "status": "ok",
     "timestamp": 1655396656718,
     "user": {
      "displayName": "Maela Lombardi",
      "userId": "03936068368896012188"
     },
     "user_tz": 180
    },
    "id": "ba147719",
    "outputId": "dd93fafa-04b5-47ba-b10e-450e3f0413ec",
    "papermill": {
     "duration": 0.091636,
     "end_time": "2021-12-03T12:45:41.371542",
     "exception": false,
     "start_time": "2021-12-03T12:45:41.279906",
     "status": "completed"
    },
    "tags": []
   },
   "outputs": [
    {
     "data": {
      "text/html": [
       "<div>\n",
       "<style scoped>\n",
       "    .dataframe tbody tr th:only-of-type {\n",
       "        vertical-align: middle;\n",
       "    }\n",
       "\n",
       "    .dataframe tbody tr th {\n",
       "        vertical-align: top;\n",
       "    }\n",
       "\n",
       "    .dataframe thead th {\n",
       "        text-align: right;\n",
       "    }\n",
       "</style>\n",
       "<table border=\"1\" class=\"dataframe\">\n",
       "  <thead>\n",
       "    <tr style=\"text-align: right;\">\n",
       "      <th></th>\n",
       "      <th>inpatient</th>\n",
       "    </tr>\n",
       "  </thead>\n",
       "  <tbody>\n",
       "    <tr>\n",
       "      <th>0</th>\n",
       "      <td>0</td>\n",
       "    </tr>\n",
       "    <tr>\n",
       "      <th>1</th>\n",
       "      <td>0</td>\n",
       "    </tr>\n",
       "    <tr>\n",
       "      <th>2</th>\n",
       "      <td>1</td>\n",
       "    </tr>\n",
       "    <tr>\n",
       "      <th>3</th>\n",
       "      <td>1</td>\n",
       "    </tr>\n",
       "    <tr>\n",
       "      <th>4</th>\n",
       "      <td>1</td>\n",
       "    </tr>\n",
       "    <tr>\n",
       "      <th>...</th>\n",
       "      <td>...</td>\n",
       "    </tr>\n",
       "    <tr>\n",
       "      <th>95247</th>\n",
       "      <td>1</td>\n",
       "    </tr>\n",
       "    <tr>\n",
       "      <th>95248</th>\n",
       "      <td>1</td>\n",
       "    </tr>\n",
       "    <tr>\n",
       "      <th>95249</th>\n",
       "      <td>1</td>\n",
       "    </tr>\n",
       "    <tr>\n",
       "      <th>95250</th>\n",
       "      <td>0</td>\n",
       "    </tr>\n",
       "    <tr>\n",
       "      <th>95251</th>\n",
       "      <td>0</td>\n",
       "    </tr>\n",
       "  </tbody>\n",
       "</table>\n",
       "<p>95244 rows × 1 columns</p>\n",
       "</div>"
      ],
      "text/plain": [
       "       inpatient\n",
       "0              0\n",
       "1              0\n",
       "2              1\n",
       "3              1\n",
       "4              1\n",
       "...          ...\n",
       "95247          1\n",
       "95248          1\n",
       "95249          1\n",
       "95250          0\n",
       "95251          0\n",
       "\n",
       "[95244 rows x 1 columns]"
      ]
     },
     "execution_count": 16,
     "metadata": {},
     "output_type": "execute_result"
    }
   ],
   "source": [
    "x=data.drop([\"inpatient\"],axis=1)\n",
    "y=data[\"inpatient\"]\n",
    "y=pd.DataFrame(y)\n",
    "y"
   ]
  },
  {
   "cell_type": "code",
   "execution_count": 17,
   "id": "f4e40200",
   "metadata": {
    "colab": {
     "base_uri": "https://localhost:8080/"
    },
    "executionInfo": {
     "elapsed": 24,
     "status": "ok",
     "timestamp": 1655396656720,
     "user": {
      "displayName": "Maela Lombardi",
      "userId": "03936068368896012188"
     },
     "user_tz": 180
    },
    "id": "15d9cd27",
    "outputId": "0f29fa5e-eead-4004-998e-d10bca4d1baf",
    "papermill": {
     "duration": 0.090735,
     "end_time": "2021-12-03T12:45:41.537001",
     "exception": false,
     "start_time": "2021-12-03T12:45:41.446266",
     "status": "completed"
    },
    "tags": []
   },
   "outputs": [
    {
     "name": "stdout",
     "output_type": "stream",
     "text": [
      "X_train: 76195\n",
      "y_train: 76195\n",
      "X_test: 19049\n",
      "y_test: 19049\n"
     ]
    }
   ],
   "source": [
    "x_train,x_test,y_train,y_test=train_test_split(x,y,test_size=0.2,random_state=1)\n",
    "print (\"X_train:\" , x_train.shape[0])\n",
    "print (\"y_train:\" , y_train.shape[0])\n",
    "print (\"X_test:\" , x_test.shape[0])\n",
    "print (\"y_test:\" , y_test.shape[0])"
   ]
  },
  {
   "cell_type": "code",
   "execution_count": 18,
   "id": "cd8eaa4f",
   "metadata": {
    "colab": {
     "base_uri": "https://localhost:8080/",
     "height": 423
    },
    "executionInfo": {
     "elapsed": 21,
     "status": "ok",
     "timestamp": 1655396656722,
     "user": {
      "displayName": "Maela Lombardi",
      "userId": "03936068368896012188"
     },
     "user_tz": 180
    },
    "id": "01abc3b4",
    "outputId": "4fca0569-a547-46b5-8d8e-2cccbc92d926",
    "papermill": {
     "duration": 0.087684,
     "end_time": "2021-12-03T12:45:41.700698",
     "exception": false,
     "start_time": "2021-12-03T12:45:41.613014",
     "status": "completed"
    },
    "tags": []
   },
   "outputs": [
    {
     "data": {
      "text/html": [
       "<div>\n",
       "<style scoped>\n",
       "    .dataframe tbody tr th:only-of-type {\n",
       "        vertical-align: middle;\n",
       "    }\n",
       "\n",
       "    .dataframe tbody tr th {\n",
       "        vertical-align: top;\n",
       "    }\n",
       "\n",
       "    .dataframe thead th {\n",
       "        text-align: right;\n",
       "    }\n",
       "</style>\n",
       "<table border=\"1\" class=\"dataframe\">\n",
       "  <thead>\n",
       "    <tr style=\"text-align: right;\">\n",
       "      <th></th>\n",
       "      <th>inpatient</th>\n",
       "    </tr>\n",
       "  </thead>\n",
       "  <tbody>\n",
       "    <tr>\n",
       "      <th>17690</th>\n",
       "      <td>0</td>\n",
       "    </tr>\n",
       "    <tr>\n",
       "      <th>34279</th>\n",
       "      <td>0</td>\n",
       "    </tr>\n",
       "    <tr>\n",
       "      <th>32502</th>\n",
       "      <td>1</td>\n",
       "    </tr>\n",
       "    <tr>\n",
       "      <th>41594</th>\n",
       "      <td>1</td>\n",
       "    </tr>\n",
       "    <tr>\n",
       "      <th>11450</th>\n",
       "      <td>0</td>\n",
       "    </tr>\n",
       "    <tr>\n",
       "      <th>...</th>\n",
       "      <td>...</td>\n",
       "    </tr>\n",
       "    <tr>\n",
       "      <th>21447</th>\n",
       "      <td>1</td>\n",
       "    </tr>\n",
       "    <tr>\n",
       "      <th>73357</th>\n",
       "      <td>1</td>\n",
       "    </tr>\n",
       "    <tr>\n",
       "      <th>50065</th>\n",
       "      <td>0</td>\n",
       "    </tr>\n",
       "    <tr>\n",
       "      <th>5197</th>\n",
       "      <td>0</td>\n",
       "    </tr>\n",
       "    <tr>\n",
       "      <th>77716</th>\n",
       "      <td>0</td>\n",
       "    </tr>\n",
       "  </tbody>\n",
       "</table>\n",
       "<p>76195 rows × 1 columns</p>\n",
       "</div>"
      ],
      "text/plain": [
       "       inpatient\n",
       "17690          0\n",
       "34279          0\n",
       "32502          1\n",
       "41594          1\n",
       "11450          0\n",
       "...          ...\n",
       "21447          1\n",
       "73357          1\n",
       "50065          0\n",
       "5197           0\n",
       "77716          0\n",
       "\n",
       "[76195 rows x 1 columns]"
      ]
     },
     "execution_count": 18,
     "metadata": {},
     "output_type": "execute_result"
    }
   ],
   "source": [
    "y_train=pd.DataFrame(y_train)\n",
    "y_train"
   ]
  },
  {
   "cell_type": "code",
   "execution_count": 19,
   "id": "2e8e9b72",
   "metadata": {
    "executionInfo": {
     "elapsed": 21,
     "status": "ok",
     "timestamp": 1655396656723,
     "user": {
      "displayName": "Maela Lombardi",
      "userId": "03936068368896012188"
     },
     "user_tz": 180
    },
    "id": "0452255a",
    "papermill": {
     "duration": 0.083991,
     "end_time": "2021-12-03T12:45:41.860596",
     "exception": false,
     "start_time": "2021-12-03T12:45:41.776605",
     "status": "completed"
    },
    "tags": []
   },
   "outputs": [],
   "source": [
    "#y_train=y_train.astype('float')\n",
    "#y_test=y_test.astype('float')"
   ]
  },
  {
   "cell_type": "markdown",
   "id": "a184250d",
   "metadata": {
    "id": "2zNi4R8yYNJ9"
   },
   "source": [
    "## GridSearch Para KNN"
   ]
  },
  {
   "cell_type": "code",
   "execution_count": 20,
   "id": "a3d8dd55",
   "metadata": {
    "executionInfo": {
     "elapsed": 265,
     "status": "ok",
     "timestamp": 1655397606076,
     "user": {
      "displayName": "Maela Lombardi",
      "userId": "03936068368896012188"
     },
     "user_tz": 180
    },
    "id": "BRgkAIVvX49K"
   },
   "outputs": [],
   "source": [
    "from sklearn.model_selection import GridSearchCV\n",
    "from sklearn.model_selection import StratifiedKFold"
   ]
  },
  {
   "cell_type": "code",
   "execution_count": 24,
   "id": "5de5a526",
   "metadata": {
    "colab": {
     "base_uri": "https://localhost:8080/"
    },
    "executionInfo": {
     "elapsed": 299,
     "status": "ok",
     "timestamp": 1655397581790,
     "user": {
      "displayName": "Maela Lombardi",
      "userId": "03936068368896012188"
     },
     "user_tz": 180
    },
    "id": "os7m_Q8xX6NU",
    "outputId": "ffa99538-98f5-4b0a-89ef-b7e694840407"
   },
   "outputs": [
    {
     "name": "stdout",
     "output_type": "stream",
     "text": [
      "{'n_neighbors': [1, 2, 3, 4, 5, 6, 7, 8, 9, 10, 11, 12, 13, 14, 15, 16, 17, 18, 19, 20]}\n"
     ]
    }
   ],
   "source": [
    "knn=KNeighborsClassifier()\n",
    "k_range = list(range(1, 21))\n",
    "param_grid = dict(n_neighbors=k_range)\n",
    "print(param_grid)"
   ]
  },
  {
   "cell_type": "code",
   "execution_count": 25,
   "id": "8435db4d",
   "metadata": {
    "executionInfo": {
     "elapsed": 302,
     "status": "ok",
     "timestamp": 1655397608287,
     "user": {
      "displayName": "Maela Lombardi",
      "userId": "03936068368896012188"
     },
     "user_tz": 180
    },
    "id": "SzsyirV5X_1f"
   },
   "outputs": [],
   "source": [
    "folds=StratifiedKFold(n_splits=10, random_state=19, shuffle=True)"
   ]
  },
  {
   "cell_type": "code",
   "execution_count": 26,
   "id": "8e54d5e9",
   "metadata": {
    "executionInfo": {
     "elapsed": 308,
     "status": "ok",
     "timestamp": 1655397612789,
     "user": {
      "displayName": "Maela Lombardi",
      "userId": "03936068368896012188"
     },
     "user_tz": 180
    },
    "id": "w0oAbbALYAUQ"
   },
   "outputs": [],
   "source": [
    "grid = GridSearchCV(knn, param_grid, cv=folds, scoring='accuracy')"
   ]
  },
  {
   "cell_type": "code",
   "execution_count": 28,
   "id": "e28322b2",
   "metadata": {
    "colab": {
     "base_uri": "https://localhost:8080/"
    },
    "executionInfo": {
     "elapsed": 3369096,
     "status": "ok",
     "timestamp": 1655400986425,
     "user": {
      "displayName": "Maela Lombardi",
      "userId": "03936068368896012188"
     },
     "user_tz": 180
    },
    "id": "Cml8BUpvYD1P",
    "outputId": "c65bb5e3-11b2-4aa7-98ef-823c3da5dddf"
   },
   "outputs": [
    {
     "data": {
      "text/plain": [
       "GridSearchCV(cv=StratifiedKFold(n_splits=10, random_state=19, shuffle=True),\n",
       "             estimator=KNeighborsClassifier(),\n",
       "             param_grid={'n_neighbors': [1, 2, 3, 4, 5, 6, 7, 8, 9, 10, 11, 12,\n",
       "                                         13, 14, 15, 16, 17, 18, 19, 20]},\n",
       "             scoring='accuracy')"
      ]
     },
     "execution_count": 28,
     "metadata": {},
     "output_type": "execute_result"
    }
   ],
   "source": [
    "#esto tarda una hora más o menos en correr\n",
    "grid.fit(x_train, y_train)"
   ]
  },
  {
   "cell_type": "code",
   "execution_count": 29,
   "id": "8105b41f",
   "metadata": {
    "colab": {
     "base_uri": "https://localhost:8080/",
     "height": 1000
    },
    "executionInfo": {
     "elapsed": 483,
     "status": "ok",
     "timestamp": 1655402974814,
     "user": {
      "displayName": "Maela Lombardi",
      "userId": "03936068368896012188"
     },
     "user_tz": 180
    },
    "id": "d0uaWWPsYW3e",
    "outputId": "35d59d01-d588-4fd0-f691-d0cb270e2425"
   },
   "outputs": [
    {
     "data": {
      "text/html": [
       "<div>\n",
       "<style scoped>\n",
       "    .dataframe tbody tr th:only-of-type {\n",
       "        vertical-align: middle;\n",
       "    }\n",
       "\n",
       "    .dataframe tbody tr th {\n",
       "        vertical-align: top;\n",
       "    }\n",
       "\n",
       "    .dataframe thead th {\n",
       "        text-align: right;\n",
       "    }\n",
       "</style>\n",
       "<table border=\"1\" class=\"dataframe\">\n",
       "  <thead>\n",
       "    <tr style=\"text-align: right;\">\n",
       "      <th></th>\n",
       "      <th>mean_fit_time</th>\n",
       "      <th>std_fit_time</th>\n",
       "      <th>mean_score_time</th>\n",
       "      <th>std_score_time</th>\n",
       "      <th>param_n_neighbors</th>\n",
       "      <th>params</th>\n",
       "      <th>split0_test_score</th>\n",
       "      <th>split1_test_score</th>\n",
       "      <th>split2_test_score</th>\n",
       "      <th>split3_test_score</th>\n",
       "      <th>split4_test_score</th>\n",
       "      <th>split5_test_score</th>\n",
       "      <th>split6_test_score</th>\n",
       "      <th>split7_test_score</th>\n",
       "      <th>split8_test_score</th>\n",
       "      <th>split9_test_score</th>\n",
       "      <th>mean_test_score</th>\n",
       "      <th>std_test_score</th>\n",
       "      <th>rank_test_score</th>\n",
       "    </tr>\n",
       "  </thead>\n",
       "  <tbody>\n",
       "    <tr>\n",
       "      <th>0</th>\n",
       "      <td>6.580510</td>\n",
       "      <td>0.497899</td>\n",
       "      <td>7.622878</td>\n",
       "      <td>0.340655</td>\n",
       "      <td>1</td>\n",
       "      <td>{'n_neighbors': 1}</td>\n",
       "      <td>0.834908</td>\n",
       "      <td>0.800000</td>\n",
       "      <td>0.809711</td>\n",
       "      <td>0.787008</td>\n",
       "      <td>0.808399</td>\n",
       "      <td>0.771099</td>\n",
       "      <td>0.803518</td>\n",
       "      <td>0.803518</td>\n",
       "      <td>0.766767</td>\n",
       "      <td>0.830686</td>\n",
       "      <td>0.801561</td>\n",
       "      <td>0.021057</td>\n",
       "      <td>20</td>\n",
       "    </tr>\n",
       "    <tr>\n",
       "      <th>1</th>\n",
       "      <td>10.640939</td>\n",
       "      <td>6.227204</td>\n",
       "      <td>10.651514</td>\n",
       "      <td>3.805309</td>\n",
       "      <td>2</td>\n",
       "      <td>{'n_neighbors': 2}</td>\n",
       "      <td>0.842520</td>\n",
       "      <td>0.821654</td>\n",
       "      <td>0.825984</td>\n",
       "      <td>0.829003</td>\n",
       "      <td>0.808793</td>\n",
       "      <td>0.836855</td>\n",
       "      <td>0.826880</td>\n",
       "      <td>0.837380</td>\n",
       "      <td>0.831211</td>\n",
       "      <td>0.836068</td>\n",
       "      <td>0.829635</td>\n",
       "      <td>0.009173</td>\n",
       "      <td>19</td>\n",
       "    </tr>\n",
       "    <tr>\n",
       "      <th>2</th>\n",
       "      <td>19.540323</td>\n",
       "      <td>0.993120</td>\n",
       "      <td>16.706692</td>\n",
       "      <td>0.387092</td>\n",
       "      <td>3</td>\n",
       "      <td>{'n_neighbors': 3}</td>\n",
       "      <td>0.855118</td>\n",
       "      <td>0.831627</td>\n",
       "      <td>0.839370</td>\n",
       "      <td>0.851969</td>\n",
       "      <td>0.821391</td>\n",
       "      <td>0.849718</td>\n",
       "      <td>0.859037</td>\n",
       "      <td>0.859168</td>\n",
       "      <td>0.853655</td>\n",
       "      <td>0.842368</td>\n",
       "      <td>0.846342</td>\n",
       "      <td>0.011844</td>\n",
       "      <td>18</td>\n",
       "    </tr>\n",
       "    <tr>\n",
       "      <th>3</th>\n",
       "      <td>19.899997</td>\n",
       "      <td>0.787663</td>\n",
       "      <td>16.919122</td>\n",
       "      <td>0.180480</td>\n",
       "      <td>4</td>\n",
       "      <td>{'n_neighbors': 4}</td>\n",
       "      <td>0.859449</td>\n",
       "      <td>0.854199</td>\n",
       "      <td>0.850656</td>\n",
       "      <td>0.854331</td>\n",
       "      <td>0.856693</td>\n",
       "      <td>0.858118</td>\n",
       "      <td>0.860480</td>\n",
       "      <td>0.855624</td>\n",
       "      <td>0.854180</td>\n",
       "      <td>0.846437</td>\n",
       "      <td>0.855017</td>\n",
       "      <td>0.003959</td>\n",
       "      <td>17</td>\n",
       "    </tr>\n",
       "    <tr>\n",
       "      <th>4</th>\n",
       "      <td>19.256690</td>\n",
       "      <td>2.574614</td>\n",
       "      <td>17.212910</td>\n",
       "      <td>0.719417</td>\n",
       "      <td>5</td>\n",
       "      <td>{'n_neighbors': 5}</td>\n",
       "      <td>0.865223</td>\n",
       "      <td>0.858661</td>\n",
       "      <td>0.859055</td>\n",
       "      <td>0.859318</td>\n",
       "      <td>0.857218</td>\n",
       "      <td>0.864155</td>\n",
       "      <td>0.866912</td>\n",
       "      <td>0.858380</td>\n",
       "      <td>0.859824</td>\n",
       "      <td>0.851949</td>\n",
       "      <td>0.860070</td>\n",
       "      <td>0.004131</td>\n",
       "      <td>16</td>\n",
       "    </tr>\n",
       "    <tr>\n",
       "      <th>5</th>\n",
       "      <td>20.698802</td>\n",
       "      <td>0.613463</td>\n",
       "      <td>18.223562</td>\n",
       "      <td>0.366608</td>\n",
       "      <td>6</td>\n",
       "      <td>{'n_neighbors': 6}</td>\n",
       "      <td>0.866798</td>\n",
       "      <td>0.860892</td>\n",
       "      <td>0.857874</td>\n",
       "      <td>0.860761</td>\n",
       "      <td>0.861155</td>\n",
       "      <td>0.865205</td>\n",
       "      <td>0.868487</td>\n",
       "      <td>0.864418</td>\n",
       "      <td>0.863237</td>\n",
       "      <td>0.863368</td>\n",
       "      <td>0.863219</td>\n",
       "      <td>0.003004</td>\n",
       "      <td>15</td>\n",
       "    </tr>\n",
       "    <tr>\n",
       "      <th>6</th>\n",
       "      <td>20.546808</td>\n",
       "      <td>3.599424</td>\n",
       "      <td>18.594004</td>\n",
       "      <td>1.929485</td>\n",
       "      <td>7</td>\n",
       "      <td>{'n_neighbors': 7}</td>\n",
       "      <td>0.869160</td>\n",
       "      <td>0.863123</td>\n",
       "      <td>0.857743</td>\n",
       "      <td>0.865486</td>\n",
       "      <td>0.864961</td>\n",
       "      <td>0.867962</td>\n",
       "      <td>0.869274</td>\n",
       "      <td>0.859824</td>\n",
       "      <td>0.866649</td>\n",
       "      <td>0.858905</td>\n",
       "      <td>0.864309</td>\n",
       "      <td>0.004033</td>\n",
       "      <td>14</td>\n",
       "    </tr>\n",
       "    <tr>\n",
       "      <th>7</th>\n",
       "      <td>20.040434</td>\n",
       "      <td>3.711347</td>\n",
       "      <td>17.806604</td>\n",
       "      <td>2.427368</td>\n",
       "      <td>8</td>\n",
       "      <td>{'n_neighbors': 8}</td>\n",
       "      <td>0.869423</td>\n",
       "      <td>0.863123</td>\n",
       "      <td>0.864304</td>\n",
       "      <td>0.864304</td>\n",
       "      <td>0.867979</td>\n",
       "      <td>0.867305</td>\n",
       "      <td>0.868618</td>\n",
       "      <td>0.862055</td>\n",
       "      <td>0.867830</td>\n",
       "      <td>0.868749</td>\n",
       "      <td>0.866369</td>\n",
       "      <td>0.002516</td>\n",
       "      <td>13</td>\n",
       "    </tr>\n",
       "    <tr>\n",
       "      <th>8</th>\n",
       "      <td>25.165586</td>\n",
       "      <td>1.690103</td>\n",
       "      <td>21.833525</td>\n",
       "      <td>2.182570</td>\n",
       "      <td>9</td>\n",
       "      <td>{'n_neighbors': 9}</td>\n",
       "      <td>0.868898</td>\n",
       "      <td>0.862598</td>\n",
       "      <td>0.865354</td>\n",
       "      <td>0.865354</td>\n",
       "      <td>0.868504</td>\n",
       "      <td>0.871374</td>\n",
       "      <td>0.870324</td>\n",
       "      <td>0.861268</td>\n",
       "      <td>0.868224</td>\n",
       "      <td>0.864812</td>\n",
       "      <td>0.866671</td>\n",
       "      <td>0.003145</td>\n",
       "      <td>12</td>\n",
       "    </tr>\n",
       "    <tr>\n",
       "      <th>9</th>\n",
       "      <td>21.683385</td>\n",
       "      <td>1.548470</td>\n",
       "      <td>19.474970</td>\n",
       "      <td>2.377699</td>\n",
       "      <td>10</td>\n",
       "      <td>{'n_neighbors': 10}</td>\n",
       "      <td>0.870079</td>\n",
       "      <td>0.865092</td>\n",
       "      <td>0.866667</td>\n",
       "      <td>0.868110</td>\n",
       "      <td>0.867192</td>\n",
       "      <td>0.867305</td>\n",
       "      <td>0.871637</td>\n",
       "      <td>0.861268</td>\n",
       "      <td>0.867437</td>\n",
       "      <td>0.868224</td>\n",
       "      <td>0.867301</td>\n",
       "      <td>0.002641</td>\n",
       "      <td>11</td>\n",
       "    </tr>\n",
       "    <tr>\n",
       "      <th>10</th>\n",
       "      <td>20.643320</td>\n",
       "      <td>3.631766</td>\n",
       "      <td>19.148844</td>\n",
       "      <td>3.115112</td>\n",
       "      <td>11</td>\n",
       "      <td>{'n_neighbors': 11}</td>\n",
       "      <td>0.870472</td>\n",
       "      <td>0.865486</td>\n",
       "      <td>0.865748</td>\n",
       "      <td>0.867323</td>\n",
       "      <td>0.866929</td>\n",
       "      <td>0.871243</td>\n",
       "      <td>0.871505</td>\n",
       "      <td>0.861793</td>\n",
       "      <td>0.868355</td>\n",
       "      <td>0.869012</td>\n",
       "      <td>0.867787</td>\n",
       "      <td>0.002849</td>\n",
       "      <td>10</td>\n",
       "    </tr>\n",
       "    <tr>\n",
       "      <th>11</th>\n",
       "      <td>10.276792</td>\n",
       "      <td>0.538693</td>\n",
       "      <td>13.377563</td>\n",
       "      <td>0.392694</td>\n",
       "      <td>12</td>\n",
       "      <td>{'n_neighbors': 12}</td>\n",
       "      <td>0.871129</td>\n",
       "      <td>0.866142</td>\n",
       "      <td>0.865223</td>\n",
       "      <td>0.868241</td>\n",
       "      <td>0.867979</td>\n",
       "      <td>0.869537</td>\n",
       "      <td>0.871505</td>\n",
       "      <td>0.866518</td>\n",
       "      <td>0.867043</td>\n",
       "      <td>0.868880</td>\n",
       "      <td>0.868220</td>\n",
       "      <td>0.001977</td>\n",
       "      <td>9</td>\n",
       "    </tr>\n",
       "    <tr>\n",
       "      <th>12</th>\n",
       "      <td>10.346708</td>\n",
       "      <td>1.439804</td>\n",
       "      <td>13.636402</td>\n",
       "      <td>0.888332</td>\n",
       "      <td>13</td>\n",
       "      <td>{'n_neighbors': 13}</td>\n",
       "      <td>0.872047</td>\n",
       "      <td>0.864829</td>\n",
       "      <td>0.866929</td>\n",
       "      <td>0.868504</td>\n",
       "      <td>0.869816</td>\n",
       "      <td>0.870324</td>\n",
       "      <td>0.872949</td>\n",
       "      <td>0.865468</td>\n",
       "      <td>0.868880</td>\n",
       "      <td>0.867043</td>\n",
       "      <td>0.868679</td>\n",
       "      <td>0.002540</td>\n",
       "      <td>8</td>\n",
       "    </tr>\n",
       "    <tr>\n",
       "      <th>13</th>\n",
       "      <td>8.340230</td>\n",
       "      <td>0.691194</td>\n",
       "      <td>11.237385</td>\n",
       "      <td>0.658482</td>\n",
       "      <td>14</td>\n",
       "      <td>{'n_neighbors': 14}</td>\n",
       "      <td>0.871522</td>\n",
       "      <td>0.866010</td>\n",
       "      <td>0.866404</td>\n",
       "      <td>0.868635</td>\n",
       "      <td>0.869423</td>\n",
       "      <td>0.869668</td>\n",
       "      <td>0.873737</td>\n",
       "      <td>0.867305</td>\n",
       "      <td>0.869143</td>\n",
       "      <td>0.870455</td>\n",
       "      <td>0.869230</td>\n",
       "      <td>0.002230</td>\n",
       "      <td>7</td>\n",
       "    </tr>\n",
       "    <tr>\n",
       "      <th>14</th>\n",
       "      <td>8.007789</td>\n",
       "      <td>0.234419</td>\n",
       "      <td>11.018324</td>\n",
       "      <td>0.332692</td>\n",
       "      <td>15</td>\n",
       "      <td>{'n_neighbors': 15}</td>\n",
       "      <td>0.870997</td>\n",
       "      <td>0.866010</td>\n",
       "      <td>0.866404</td>\n",
       "      <td>0.869816</td>\n",
       "      <td>0.870866</td>\n",
       "      <td>0.870324</td>\n",
       "      <td>0.875443</td>\n",
       "      <td>0.867830</td>\n",
       "      <td>0.868880</td>\n",
       "      <td>0.872030</td>\n",
       "      <td>0.869860</td>\n",
       "      <td>0.002650</td>\n",
       "      <td>4</td>\n",
       "    </tr>\n",
       "    <tr>\n",
       "      <th>15</th>\n",
       "      <td>7.500156</td>\n",
       "      <td>0.647341</td>\n",
       "      <td>9.708769</td>\n",
       "      <td>1.193950</td>\n",
       "      <td>16</td>\n",
       "      <td>{'n_neighbors': 16}</td>\n",
       "      <td>0.871522</td>\n",
       "      <td>0.865354</td>\n",
       "      <td>0.866929</td>\n",
       "      <td>0.869948</td>\n",
       "      <td>0.870210</td>\n",
       "      <td>0.869143</td>\n",
       "      <td>0.873999</td>\n",
       "      <td>0.867830</td>\n",
       "      <td>0.868618</td>\n",
       "      <td>0.870587</td>\n",
       "      <td>0.869414</td>\n",
       "      <td>0.002316</td>\n",
       "      <td>6</td>\n",
       "    </tr>\n",
       "    <tr>\n",
       "      <th>16</th>\n",
       "      <td>6.544635</td>\n",
       "      <td>0.460052</td>\n",
       "      <td>8.674108</td>\n",
       "      <td>0.728161</td>\n",
       "      <td>17</td>\n",
       "      <td>{'n_neighbors': 17}</td>\n",
       "      <td>0.873885</td>\n",
       "      <td>0.866667</td>\n",
       "      <td>0.866142</td>\n",
       "      <td>0.869423</td>\n",
       "      <td>0.870604</td>\n",
       "      <td>0.871243</td>\n",
       "      <td>0.875443</td>\n",
       "      <td>0.867699</td>\n",
       "      <td>0.867830</td>\n",
       "      <td>0.871505</td>\n",
       "      <td>0.870044</td>\n",
       "      <td>0.002919</td>\n",
       "      <td>2</td>\n",
       "    </tr>\n",
       "    <tr>\n",
       "      <th>17</th>\n",
       "      <td>8.282450</td>\n",
       "      <td>1.181149</td>\n",
       "      <td>9.868620</td>\n",
       "      <td>0.797353</td>\n",
       "      <td>18</td>\n",
       "      <td>{'n_neighbors': 18}</td>\n",
       "      <td>0.873228</td>\n",
       "      <td>0.866010</td>\n",
       "      <td>0.867585</td>\n",
       "      <td>0.870079</td>\n",
       "      <td>0.869554</td>\n",
       "      <td>0.870718</td>\n",
       "      <td>0.874787</td>\n",
       "      <td>0.868618</td>\n",
       "      <td>0.866649</td>\n",
       "      <td>0.869799</td>\n",
       "      <td>0.869703</td>\n",
       "      <td>0.002610</td>\n",
       "      <td>5</td>\n",
       "    </tr>\n",
       "    <tr>\n",
       "      <th>18</th>\n",
       "      <td>7.476242</td>\n",
       "      <td>0.620093</td>\n",
       "      <td>9.492781</td>\n",
       "      <td>0.201926</td>\n",
       "      <td>19</td>\n",
       "      <td>{'n_neighbors': 19}</td>\n",
       "      <td>0.873360</td>\n",
       "      <td>0.864698</td>\n",
       "      <td>0.867192</td>\n",
       "      <td>0.869685</td>\n",
       "      <td>0.869685</td>\n",
       "      <td>0.871768</td>\n",
       "      <td>0.875837</td>\n",
       "      <td>0.869274</td>\n",
       "      <td>0.868093</td>\n",
       "      <td>0.871112</td>\n",
       "      <td>0.870070</td>\n",
       "      <td>0.003000</td>\n",
       "      <td>1</td>\n",
       "    </tr>\n",
       "    <tr>\n",
       "      <th>19</th>\n",
       "      <td>7.157192</td>\n",
       "      <td>0.430728</td>\n",
       "      <td>9.503295</td>\n",
       "      <td>0.105688</td>\n",
       "      <td>20</td>\n",
       "      <td>{'n_neighbors': 20}</td>\n",
       "      <td>0.872441</td>\n",
       "      <td>0.865092</td>\n",
       "      <td>0.869029</td>\n",
       "      <td>0.869816</td>\n",
       "      <td>0.870472</td>\n",
       "      <td>0.871505</td>\n",
       "      <td>0.876099</td>\n",
       "      <td>0.868093</td>\n",
       "      <td>0.867305</td>\n",
       "      <td>0.869405</td>\n",
       "      <td>0.869926</td>\n",
       "      <td>0.002862</td>\n",
       "      <td>3</td>\n",
       "    </tr>\n",
       "  </tbody>\n",
       "</table>\n",
       "</div>"
      ],
      "text/plain": [
       "    mean_fit_time  std_fit_time  mean_score_time  std_score_time  \\\n",
       "0        6.580510      0.497899         7.622878        0.340655   \n",
       "1       10.640939      6.227204        10.651514        3.805309   \n",
       "2       19.540323      0.993120        16.706692        0.387092   \n",
       "3       19.899997      0.787663        16.919122        0.180480   \n",
       "4       19.256690      2.574614        17.212910        0.719417   \n",
       "5       20.698802      0.613463        18.223562        0.366608   \n",
       "6       20.546808      3.599424        18.594004        1.929485   \n",
       "7       20.040434      3.711347        17.806604        2.427368   \n",
       "8       25.165586      1.690103        21.833525        2.182570   \n",
       "9       21.683385      1.548470        19.474970        2.377699   \n",
       "10      20.643320      3.631766        19.148844        3.115112   \n",
       "11      10.276792      0.538693        13.377563        0.392694   \n",
       "12      10.346708      1.439804        13.636402        0.888332   \n",
       "13       8.340230      0.691194        11.237385        0.658482   \n",
       "14       8.007789      0.234419        11.018324        0.332692   \n",
       "15       7.500156      0.647341         9.708769        1.193950   \n",
       "16       6.544635      0.460052         8.674108        0.728161   \n",
       "17       8.282450      1.181149         9.868620        0.797353   \n",
       "18       7.476242      0.620093         9.492781        0.201926   \n",
       "19       7.157192      0.430728         9.503295        0.105688   \n",
       "\n",
       "   param_n_neighbors               params  split0_test_score  \\\n",
       "0                  1   {'n_neighbors': 1}           0.834908   \n",
       "1                  2   {'n_neighbors': 2}           0.842520   \n",
       "2                  3   {'n_neighbors': 3}           0.855118   \n",
       "3                  4   {'n_neighbors': 4}           0.859449   \n",
       "4                  5   {'n_neighbors': 5}           0.865223   \n",
       "5                  6   {'n_neighbors': 6}           0.866798   \n",
       "6                  7   {'n_neighbors': 7}           0.869160   \n",
       "7                  8   {'n_neighbors': 8}           0.869423   \n",
       "8                  9   {'n_neighbors': 9}           0.868898   \n",
       "9                 10  {'n_neighbors': 10}           0.870079   \n",
       "10                11  {'n_neighbors': 11}           0.870472   \n",
       "11                12  {'n_neighbors': 12}           0.871129   \n",
       "12                13  {'n_neighbors': 13}           0.872047   \n",
       "13                14  {'n_neighbors': 14}           0.871522   \n",
       "14                15  {'n_neighbors': 15}           0.870997   \n",
       "15                16  {'n_neighbors': 16}           0.871522   \n",
       "16                17  {'n_neighbors': 17}           0.873885   \n",
       "17                18  {'n_neighbors': 18}           0.873228   \n",
       "18                19  {'n_neighbors': 19}           0.873360   \n",
       "19                20  {'n_neighbors': 20}           0.872441   \n",
       "\n",
       "    split1_test_score  split2_test_score  split3_test_score  \\\n",
       "0            0.800000           0.809711           0.787008   \n",
       "1            0.821654           0.825984           0.829003   \n",
       "2            0.831627           0.839370           0.851969   \n",
       "3            0.854199           0.850656           0.854331   \n",
       "4            0.858661           0.859055           0.859318   \n",
       "5            0.860892           0.857874           0.860761   \n",
       "6            0.863123           0.857743           0.865486   \n",
       "7            0.863123           0.864304           0.864304   \n",
       "8            0.862598           0.865354           0.865354   \n",
       "9            0.865092           0.866667           0.868110   \n",
       "10           0.865486           0.865748           0.867323   \n",
       "11           0.866142           0.865223           0.868241   \n",
       "12           0.864829           0.866929           0.868504   \n",
       "13           0.866010           0.866404           0.868635   \n",
       "14           0.866010           0.866404           0.869816   \n",
       "15           0.865354           0.866929           0.869948   \n",
       "16           0.866667           0.866142           0.869423   \n",
       "17           0.866010           0.867585           0.870079   \n",
       "18           0.864698           0.867192           0.869685   \n",
       "19           0.865092           0.869029           0.869816   \n",
       "\n",
       "    split4_test_score  split5_test_score  split6_test_score  \\\n",
       "0            0.808399           0.771099           0.803518   \n",
       "1            0.808793           0.836855           0.826880   \n",
       "2            0.821391           0.849718           0.859037   \n",
       "3            0.856693           0.858118           0.860480   \n",
       "4            0.857218           0.864155           0.866912   \n",
       "5            0.861155           0.865205           0.868487   \n",
       "6            0.864961           0.867962           0.869274   \n",
       "7            0.867979           0.867305           0.868618   \n",
       "8            0.868504           0.871374           0.870324   \n",
       "9            0.867192           0.867305           0.871637   \n",
       "10           0.866929           0.871243           0.871505   \n",
       "11           0.867979           0.869537           0.871505   \n",
       "12           0.869816           0.870324           0.872949   \n",
       "13           0.869423           0.869668           0.873737   \n",
       "14           0.870866           0.870324           0.875443   \n",
       "15           0.870210           0.869143           0.873999   \n",
       "16           0.870604           0.871243           0.875443   \n",
       "17           0.869554           0.870718           0.874787   \n",
       "18           0.869685           0.871768           0.875837   \n",
       "19           0.870472           0.871505           0.876099   \n",
       "\n",
       "    split7_test_score  split8_test_score  split9_test_score  mean_test_score  \\\n",
       "0            0.803518           0.766767           0.830686         0.801561   \n",
       "1            0.837380           0.831211           0.836068         0.829635   \n",
       "2            0.859168           0.853655           0.842368         0.846342   \n",
       "3            0.855624           0.854180           0.846437         0.855017   \n",
       "4            0.858380           0.859824           0.851949         0.860070   \n",
       "5            0.864418           0.863237           0.863368         0.863219   \n",
       "6            0.859824           0.866649           0.858905         0.864309   \n",
       "7            0.862055           0.867830           0.868749         0.866369   \n",
       "8            0.861268           0.868224           0.864812         0.866671   \n",
       "9            0.861268           0.867437           0.868224         0.867301   \n",
       "10           0.861793           0.868355           0.869012         0.867787   \n",
       "11           0.866518           0.867043           0.868880         0.868220   \n",
       "12           0.865468           0.868880           0.867043         0.868679   \n",
       "13           0.867305           0.869143           0.870455         0.869230   \n",
       "14           0.867830           0.868880           0.872030         0.869860   \n",
       "15           0.867830           0.868618           0.870587         0.869414   \n",
       "16           0.867699           0.867830           0.871505         0.870044   \n",
       "17           0.868618           0.866649           0.869799         0.869703   \n",
       "18           0.869274           0.868093           0.871112         0.870070   \n",
       "19           0.868093           0.867305           0.869405         0.869926   \n",
       "\n",
       "    std_test_score  rank_test_score  \n",
       "0         0.021057               20  \n",
       "1         0.009173               19  \n",
       "2         0.011844               18  \n",
       "3         0.003959               17  \n",
       "4         0.004131               16  \n",
       "5         0.003004               15  \n",
       "6         0.004033               14  \n",
       "7         0.002516               13  \n",
       "8         0.003145               12  \n",
       "9         0.002641               11  \n",
       "10        0.002849               10  \n",
       "11        0.001977                9  \n",
       "12        0.002540                8  \n",
       "13        0.002230                7  \n",
       "14        0.002650                4  \n",
       "15        0.002316                6  \n",
       "16        0.002919                2  \n",
       "17        0.002610                5  \n",
       "18        0.003000                1  \n",
       "19        0.002862                3  "
      ]
     },
     "execution_count": 29,
     "metadata": {},
     "output_type": "execute_result"
    }
   ],
   "source": [
    "pd.DataFrame(grid.cv_results_)"
   ]
  },
  {
   "cell_type": "code",
   "execution_count": 30,
   "id": "337cbe45",
   "metadata": {
    "colab": {
     "base_uri": "https://localhost:8080/"
    },
    "executionInfo": {
     "elapsed": 239,
     "status": "ok",
     "timestamp": 1655402982827,
     "user": {
      "displayName": "Maela Lombardi",
      "userId": "03936068368896012188"
     },
     "user_tz": 180
    },
    "id": "tH8sK0uVYbDW",
    "outputId": "15188701-60e5-4501-ff3e-592862fc1749"
   },
   "outputs": [
    {
     "data": {
      "text/plain": [
       "KNeighborsClassifier(n_neighbors=19)"
      ]
     },
     "execution_count": 30,
     "metadata": {},
     "output_type": "execute_result"
    }
   ],
   "source": [
    "grid.best_estimator_"
   ]
  },
  {
   "cell_type": "code",
   "execution_count": 31,
   "id": "8ce36588",
   "metadata": {
    "colab": {
     "base_uri": "https://localhost:8080/"
    },
    "executionInfo": {
     "elapsed": 260,
     "status": "ok",
     "timestamp": 1655402985118,
     "user": {
      "displayName": "Maela Lombardi",
      "userId": "03936068368896012188"
     },
     "user_tz": 180
    },
    "id": "92Xo3h3QYbdn",
    "outputId": "617b0d23-62a5-456a-e82f-a9c879def74e"
   },
   "outputs": [
    {
     "data": {
      "text/plain": [
       "0.8700702898093902"
      ]
     },
     "execution_count": 31,
     "metadata": {},
     "output_type": "execute_result"
    }
   ],
   "source": [
    "grid.best_score_"
   ]
  },
  {
   "cell_type": "code",
   "execution_count": 32,
   "id": "427f81fa",
   "metadata": {
    "colab": {
     "base_uri": "https://localhost:8080/"
    },
    "executionInfo": {
     "elapsed": 298,
     "status": "ok",
     "timestamp": 1655402988686,
     "user": {
      "displayName": "Maela Lombardi",
      "userId": "03936068368896012188"
     },
     "user_tz": 180
    },
    "id": "FyBKxLqSYdHb",
    "outputId": "0ad05db0-25fb-470f-c3da-b9a9a0cf26ad"
   },
   "outputs": [
    {
     "data": {
      "text/plain": [
       "{'n_neighbors': 19}"
      ]
     },
     "execution_count": 32,
     "metadata": {},
     "output_type": "execute_result"
    }
   ],
   "source": [
    "grid.best_params_"
   ]
  },
  {
   "cell_type": "code",
   "execution_count": 33,
   "id": "3bb4da20",
   "metadata": {
    "executionInfo": {
     "elapsed": 34359,
     "status": "ok",
     "timestamp": 1655403025367,
     "user": {
      "displayName": "Maela Lombardi",
      "userId": "03936068368896012188"
     },
     "user_tz": 180
    },
    "id": "TftLszmnYgzW"
   },
   "outputs": [],
   "source": [
    "y_pred_grid = grid.predict(x_test)"
   ]
  },
  {
   "cell_type": "code",
   "execution_count": null,
   "id": "608d94aa",
   "metadata": {
    "executionInfo": {
     "elapsed": 250,
     "status": "ok",
     "timestamp": 1655403082024,
     "user": {
      "displayName": "Maela Lombardi",
      "userId": "03936068368896012188"
     },
     "user_tz": 180
    },
    "id": "HJEfkaQSYh7I"
   },
   "outputs": [],
   "source": [
    "confusion = confusion_matrix(y_test, y_pred_grid)"
   ]
  },
  {
   "cell_type": "code",
   "execution_count": null,
   "id": "7539158d",
   "metadata": {
    "colab": {
     "base_uri": "https://localhost:8080/"
    },
    "executionInfo": {
     "elapsed": 261,
     "status": "ok",
     "timestamp": 1655403095359,
     "user": {
      "displayName": "Maela Lombardi",
      "userId": "03936068368896012188"
     },
     "user_tz": 180
    },
    "id": "6FmMelFItovx",
    "outputId": "255eff5a-63c7-446b-b774-184bec8ad68e"
   },
   "outputs": [],
   "source": [
    "confusion"
   ]
  },
  {
   "cell_type": "code",
   "execution_count": null,
   "id": "d0aa4941",
   "metadata": {
    "colab": {
     "base_uri": "https://localhost:8080/"
    },
    "executionInfo": {
     "elapsed": 273,
     "status": "ok",
     "timestamp": 1655403086750,
     "user": {
      "displayName": "Maela Lombardi",
      "userId": "03936068368896012188"
     },
     "user_tz": 180
    },
    "id": "Rn6lVd1SYmHm",
    "outputId": "83230945-0340-4abf-8247-567c843d1360"
   },
   "outputs": [],
   "source": [
    "print (classification_report(y_test, y_pred_grid))"
   ]
  },
  {
   "cell_type": "code",
   "execution_count": null,
   "id": "994af589",
   "metadata": {
    "colab": {},
    "colab_type": "code",
    "id": "R4pw4fWNi7cd"
   },
   "outputs": [],
   "source": [
    "from sklearn.model_selection import RandomizedSearchCV"
   ]
  },
  {
   "cell_type": "code",
   "execution_count": null,
   "id": "3ef8da11",
   "metadata": {
    "colab": {},
    "colab_type": "code",
    "id": "we23TyU6i7cg"
   },
   "outputs": [],
   "source": [
    "def busquedaGridsearch(params_):\n",
    "    folds=StratifiedKFold(n_splits=10, random_state=19, shuffle=True)\n",
    "    gs = GridSearchCV(estimator=KNeighborsClassifier(), param_grid=params_, scoring='accuracy', cv=folds, n_jobs=4)\n",
    "    fit = gs.fit(X_train, y_train)\n",
    "    return gs    "
   ]
  },
  {
   "cell_type": "code",
   "execution_count": null,
   "id": "1ab2c53a",
   "metadata": {
    "colab": {},
    "colab_type": "code",
    "id": "KDKnMaGCi7cj"
   },
   "outputs": [],
   "source": [
    "def busquedaRandomSearch(params_,iter_):\n",
    "    folds=StratifiedKFold(n_splits=10, random_state=19, shuffle=True)\n",
    "    gs = RandomizedSearchCV(estimator=KNeighborsClassifier(), param_distributions=params_, scoring='accuracy', cv=folds, n_jobs=4, n_iter = iter_ )\n",
    "    fit = gs.fit(X_train, y_train)\n",
    "    return gs    "
   ]
  },
  {
   "cell_type": "code",
   "execution_count": null,
   "id": "72d5333d",
   "metadata": {
    "colab": {},
    "colab_type": "code",
    "id": "w8BJrzMsi7cp"
   },
   "outputs": [],
   "source": [
    "param_dist = {\n",
    "    'n_neighbors': range(1,200),\n",
    "    'weights' : ['uniform', 'distance'],\n",
    "    'p' : [1, 2, 3]\n",
    "}\n"
   ]
  },
  {
   "cell_type": "code",
   "execution_count": null,
   "id": "e1431977",
   "metadata": {
    "colab": {},
    "colab_type": "code",
    "id": "cTeXExFoi7c-"
   },
   "outputs": [],
   "source": [
    "from sklearn.metrics import accuracy_score\n",
    "\n",
    "def obtener_performance(estimator):\n",
    "    y_pred = estimator.predict(X_test)\n",
    "    return accuracy_score(y_pred,y_test, normalize = True)"
   ]
  },
  {
   "cell_type": "code",
   "execution_count": null,
   "id": "363e5041",
   "metadata": {
    "colab": {},
    "colab_type": "code",
    "id": "w-SB4bNsi7dE",
    "outputId": "5e124432-19bf-451d-cd1f-966fccab506f"
   },
   "outputs": [],
   "source": [
    "obtener_performance(gs_grid_search.best_estimator_)"
   ]
  },
  {
   "cell_type": "code",
   "execution_count": null,
   "id": "04cd890a",
   "metadata": {
    "colab": {},
    "colab_type": "code",
    "id": "dLfREtVdi7dK",
    "outputId": "987e4c18-5d1f-44af-b4d3-c7f1c0d10e65"
   },
   "outputs": [],
   "source": [
    "obtener_performance(gs_random_search.best_estimator_)"
   ]
  },
  {
   "cell_type": "markdown",
   "id": "8f9136b0",
   "metadata": {
    "id": "913c89d3",
    "papermill": {
     "duration": 0.076508,
     "end_time": "2021-12-03T12:45:42.013071",
     "exception": false,
     "start_time": "2021-12-03T12:45:41.936563",
     "status": "completed"
    },
    "tags": []
   },
   "source": [
    "## Machine Learning Algorithms"
   ]
  },
  {
   "cell_type": "code",
   "execution_count": null,
   "id": "98b1d484",
   "metadata": {
    "colab": {
     "base_uri": "https://localhost:8080/"
    },
    "executionInfo": {
     "elapsed": 39014,
     "status": "ok",
     "timestamp": 1655396695716,
     "user": {
      "displayName": "Maela Lombardi",
      "userId": "03936068368896012188"
     },
     "user_tz": 180
    },
    "id": "7c9e09d1",
    "outputId": "bf3a27ce-eab9-450b-e3a4-4cd3da2abfdc",
    "papermill": {
     "duration": 1.392284,
     "end_time": "2021-12-03T12:45:43.482431",
     "exception": false,
     "start_time": "2021-12-03T12:45:42.090147",
     "status": "completed"
    },
    "tags": []
   },
   "outputs": [],
   "source": [
    "#Naive Bayes\n",
    "nb=MultinomialNB()\n",
    "nb.fit(x_train, y_train)\n",
    "score_nb=nb.score(x_test,y_test)\n",
    "\n",
    "#KNN (poner en n_neighbors el best_params_ de GridSearch)\n",
    "knn=KNeighborsClassifier(n_neighbors=3)\n",
    "knn.fit(x_train,y_train)\n",
    "score_knn=knn.score(x_test,y_test)\n",
    "\n",
    "#Logistic regression\n",
    "scaler = StandardScaler()\n",
    "x_trainstd = scaler.fit_transform(x_train)\n",
    "x_teststd = scaler.transform(x_test)\n",
    "lr = LogisticRegression()\n",
    "lr.fit(x_trainstd, y_train)\n",
    "score_lr= lr.score(x_teststd, y_test)\n",
    "\n",
    "#Score\n",
    "print (\"Naive Bayes Acc Score:\",score_nb)\n",
    "print (\"KNN Acc Score:\",score_knn)\n",
    "print (\"Logistic Regression Score:\", score_lr)"
   ]
  },
  {
   "cell_type": "code",
   "execution_count": null,
   "id": "71a8fbe3",
   "metadata": {
    "executionInfo": {
     "elapsed": 20431,
     "status": "ok",
     "timestamp": 1655396716131,
     "user": {
      "displayName": "Maela Lombardi",
      "userId": "03936068368896012188"
     },
     "user_tz": 180
    },
    "id": "fb317a81",
    "papermill": {
     "duration": 0.310132,
     "end_time": "2021-12-03T12:45:43.869416",
     "exception": false,
     "start_time": "2021-12-03T12:45:43.559284",
     "status": "completed"
    },
    "tags": []
   },
   "outputs": [],
   "source": [
    "y_pred_nb = nb.predict(x_test)\n",
    "y_pred_knn = knn.predict(x_test)\n",
    "y_pred_lr = lr.predict(x_teststd)"
   ]
  },
  {
   "cell_type": "code",
   "execution_count": null,
   "id": "be1406cc",
   "metadata": {
    "colab": {
     "base_uri": "https://localhost:8080/"
    },
    "executionInfo": {
     "elapsed": 76,
     "status": "ok",
     "timestamp": 1655396716132,
     "user": {
      "displayName": "Maela Lombardi",
      "userId": "03936068368896012188"
     },
     "user_tz": 180
    },
    "id": "c89Vm7v2OZXY",
    "outputId": "b7d2399b-b07e-41c6-aa25-98a1a01bf6ea"
   },
   "outputs": [],
   "source": [
    "print(\"AS NB:\\n\", accuracy_score(y_test, y_pred_nb))\n",
    "print(\"AS KNN:\\n\", accuracy_score(y_test, y_pred_knn))\n",
    "print(\"AS LR:\\n\", accuracy_score(y_test, y_pred_lr))"
   ]
  },
  {
   "cell_type": "code",
   "execution_count": null,
   "id": "02921ae7",
   "metadata": {},
   "outputs": [],
   "source": [
    "#usar cross validation Stratified K-fold porque el target está desbalanceado\n",
    "from sklearn.datasets import load_iris\n",
    "from sklearn.model_selection import cross_val_score,StratifiedKFold\n",
    "from sklearn.linear_model import LogisticRegression\n",
    "iris=load_iris()\n",
    "X=iris.data\n",
    "Y=iris.target\n",
    "logreg=LogisticRegression()\n",
    "stratifiedkf=StratifiedKFold(n_splits=5)\n",
    "score=cross_val_score(logreg,X,Y,cv=stratifiedkf)\n",
    "print(\"Cross Validation Scores are {}\".format(score))\n",
    "print(\"Average Cross Validation score :{}\".format(score.mean()))"
   ]
  },
  {
   "cell_type": "markdown",
   "id": "8e1c043d",
   "metadata": {
    "id": "ffb4679f",
    "papermill": {
     "duration": 0.075733,
     "end_time": "2021-12-03T12:45:44.021846",
     "exception": false,
     "start_time": "2021-12-03T12:45:43.946113",
     "status": "completed"
    },
    "tags": []
   },
   "source": [
    "## Confusion_matrix"
   ]
  },
  {
   "cell_type": "code",
   "execution_count": null,
   "id": "a7bc4119",
   "metadata": {
    "colab": {
     "base_uri": "https://localhost:8080/"
    },
    "executionInfo": {
     "elapsed": 67,
     "status": "ok",
     "timestamp": 1655396716133,
     "user": {
      "displayName": "Maela Lombardi",
      "userId": "03936068368896012188"
     },
     "user_tz": 180
    },
    "id": "bab32f38",
    "outputId": "333f1bb4-44ae-4711-9a4e-d7057637ec41",
    "papermill": {
     "duration": 0.241807,
     "end_time": "2021-12-03T12:45:44.341111",
     "exception": false,
     "start_time": "2021-12-03T12:45:44.099304",
     "status": "completed"
    },
    "tags": []
   },
   "outputs": [],
   "source": [
    "print(\"CM NB:\\n\", confusion_matrix(y_test, y_pred_nb))\n",
    "print(\"CM KNN:\\n\", confusion_matrix(y_test, y_pred_knn))\n",
    "print(\"CM LR:\\n\", confusion_matrix(y_test, y_pred_lr))"
   ]
  },
  {
   "cell_type": "markdown",
   "id": "dd6c552c",
   "metadata": {
    "id": "ba78f9d0",
    "papermill": {
     "duration": 0.077262,
     "end_time": "2021-12-03T12:45:44.496058",
     "exception": false,
     "start_time": "2021-12-03T12:45:44.418796",
     "status": "completed"
    },
    "tags": []
   },
   "source": [
    "## Recall,Precision and F-1 Score\n"
   ]
  },
  {
   "cell_type": "markdown",
   "id": "a2da6cc7",
   "metadata": {
    "id": "86677d9d",
    "papermill": {
     "duration": 0.077152,
     "end_time": "2021-12-03T12:45:44.650415",
     "exception": false,
     "start_time": "2021-12-03T12:45:44.573263",
     "status": "completed"
    },
    "tags": []
   },
   "source": [
    "* Recall    =  TP / (TP + FN)\n",
    "* Precision = TP / (TP + FP) \n",
    "* F-Measure = (2 * Precision * Recall) / (Precision + Recall)"
   ]
  },
  {
   "cell_type": "code",
   "execution_count": null,
   "id": "4163a4f3",
   "metadata": {
    "colab": {
     "base_uri": "https://localhost:8080/"
    },
    "executionInfo": {
     "elapsed": 390,
     "status": "ok",
     "timestamp": 1655396716464,
     "user": {
      "displayName": "Maela Lombardi",
      "userId": "03936068368896012188"
     },
     "user_tz": 180
    },
    "id": "8e8335d5",
    "outputId": "d36cdb69-60d0-4e2b-aba8-de1990fa1f59",
    "papermill": {
     "duration": 0.092534,
     "end_time": "2021-12-03T12:45:44.822186",
     "exception": false,
     "start_time": "2021-12-03T12:45:44.729652",
     "status": "completed"
    },
    "tags": []
   },
   "outputs": [],
   "source": [
    "print(\"NB:\\n\", classification_report(y_test,y_pred_nb))\n",
    "print(\"KNN:\\n\", classification_report(y_test,y_pred_knn))\n",
    "print(\"LR:\\n\", classification_report(y_test,y_pred_lr))"
   ]
  },
  {
   "cell_type": "code",
   "execution_count": null,
   "id": "a6d36de9",
   "metadata": {
    "colab": {
     "base_uri": "https://localhost:8080/"
    },
    "executionInfo": {
     "elapsed": 11,
     "status": "ok",
     "timestamp": 1655396716465,
     "user": {
      "displayName": "Maela Lombardi",
      "userId": "03936068368896012188"
     },
     "user_tz": 180
    },
    "id": "eaba2773",
    "outputId": "78df398d-392e-4c8f-9fb3-4d84081f5208",
    "papermill": {
     "duration": 0.089199,
     "end_time": "2021-12-03T12:45:44.989455",
     "exception": false,
     "start_time": "2021-12-03T12:45:44.900256",
     "status": "completed"
    },
    "tags": []
   },
   "outputs": [],
   "source": [
    "print (\"F1 Score NB:\", f1_score(y_test,y_pred_nb))\n",
    "print (\"F1 Score KNN:\", f1_score(y_test,y_pred_knn))\n",
    "print (\"F1 Score LR:\", f1_score(y_test,y_pred_lr))"
   ]
  },
  {
   "cell_type": "markdown",
   "id": "807dccf5",
   "metadata": {
    "id": "d7aeb1e4",
    "papermill": {
     "duration": 0.080127,
     "end_time": "2021-12-03T12:45:46.820998",
     "exception": false,
     "start_time": "2021-12-03T12:45:46.740871",
     "status": "completed"
    },
    "tags": []
   },
   "source": [
    "## roc & auc"
   ]
  },
  {
   "cell_type": "code",
   "execution_count": null,
   "id": "0ac6eb06",
   "metadata": {
    "executionInfo": {
     "elapsed": 20351,
     "status": "ok",
     "timestamp": 1655396736813,
     "user": {
      "displayName": "Maela Lombardi",
      "userId": "03936068368896012188"
     },
     "user_tz": 180
    },
    "id": "58e2b58f",
    "papermill": {
     "duration": 0.199069,
     "end_time": "2021-12-03T12:45:46.474247",
     "exception": false,
     "start_time": "2021-12-03T12:45:46.275178",
     "status": "completed"
    },
    "tags": []
   },
   "outputs": [],
   "source": [
    "#NB\n",
    "probs_nb=nb.predict_proba(x_test)\n",
    "preds_nb=probs_nb[:,1]\n",
    "fpr_nb,tpr_nb, threshold_nb =metrics.roc_curve(y_test, y_pred_nb)\n",
    "roc_auc_nb=metrics.auc(fpr_nb,tpr_nb)\n",
    "\n",
    "#KNN\n",
    "probs_knn=knn.predict_proba(x_test)\n",
    "preds_knn=probs_knn[:,1]\n",
    "fpr_knn,tpr_knn, threshold_knn =metrics.roc_curve(y_test, y_pred_knn)\n",
    "roc_auc_knn=metrics.auc(fpr_knn,tpr_knn)\n",
    "\n",
    "#LR\n",
    "probs_lr=lr.predict_proba(x_teststd)\n",
    "preds_lr=probs_lr[:,1]\n",
    "fpr_lr,tpr_lr, threshold_lr =metrics.roc_curve(y_test, y_pred_lr)\n",
    "roc_auc_lr=metrics.auc(fpr_lr,tpr_lr)"
   ]
  },
  {
   "cell_type": "code",
   "execution_count": null,
   "id": "121dc04d",
   "metadata": {
    "colab": {
     "base_uri": "https://localhost:8080/",
     "height": 295
    },
    "executionInfo": {
     "elapsed": 52,
     "status": "ok",
     "timestamp": 1655396736828,
     "user": {
      "displayName": "Maela Lombardi",
      "userId": "03936068368896012188"
     },
     "user_tz": 180
    },
    "id": "0a7cb69d",
    "outputId": "2d1df106-4c4f-422d-d6b8-6a60d15a4f37",
    "papermill": {
     "duration": 0.315026,
     "end_time": "2021-12-03T12:45:47.217156",
     "exception": false,
     "start_time": "2021-12-03T12:45:46.902130",
     "status": "completed"
    },
    "tags": []
   },
   "outputs": [],
   "source": [
    "plt.title(\"ROC\")\n",
    "\n",
    "plt.plot(fpr_nb, tpr_nb, 'g', label=\"NB\" % roc_auc_nb)\n",
    "plt.plot(fpr_knn, tpr_knn, 'r', label=\"KNN\" % roc_auc_nb)\n",
    "plt.plot(fpr_lr, tpr_lr, 'b', label=\"LR\" % roc_auc_nb)\n",
    "\n",
    "plt.legend(loc=\"lower right\")\n",
    "plt.plot([0,1],[0,1],'r--')\n",
    "plt.xlim([0,1])\n",
    "plt.ylim([0,1])\n",
    "plt.ylabel('True Pozitive Rate')\n",
    "plt.xlabel('False Positive Rate')\n",
    "plt.show()"
   ]
  }
 ],
 "metadata": {
  "colab": {
   "name": "covid-19-ml-adaptado.ipynb",
   "provenance": []
  },
  "kernelspec": {
   "display_name": "Python 3 (ipykernel)",
   "language": "python",
   "name": "python3"
  },
  "language_info": {
   "codemirror_mode": {
    "name": "ipython",
    "version": 3
   },
   "file_extension": ".py",
   "mimetype": "text/x-python",
   "name": "python",
   "nbconvert_exporter": "python",
   "pygments_lexer": "ipython3",
   "version": "3.8.12"
  },
  "papermill": {
   "default_parameters": {},
   "duration": 41.042018,
   "end_time": "2021-12-03T12:46:08.370456",
   "environment_variables": {},
   "exception": null,
   "input_path": "__notebook__.ipynb",
   "output_path": "__notebook__.ipynb",
   "parameters": {},
   "start_time": "2021-12-03T12:45:27.328438",
   "version": "2.3.3"
  }
 },
 "nbformat": 4,
 "nbformat_minor": 5
}
