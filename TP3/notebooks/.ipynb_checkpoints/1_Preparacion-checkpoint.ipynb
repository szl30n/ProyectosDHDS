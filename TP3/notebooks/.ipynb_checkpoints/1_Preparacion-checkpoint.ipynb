{
 "cells": [
  {
   "cell_type": "markdown",
   "id": "11ddb8f2",
   "metadata": {
    "heading_collapsed": "true"
   },
   "source": [
    "# ***Informacion del dataset***"
   ]
  },
  {
   "cell_type": "code",
   "execution_count": 22,
   "id": "f9c143af",
   "metadata": {},
   "outputs": [
    {
     "data": {
      "text/html": [
       "<style> table { display: inline-block  }</style>\n"
      ],
      "text/plain": [
       "<IPython.core.display.HTML object>"
      ]
     },
     "metadata": {},
     "output_type": "display_data"
    }
   ],
   "source": [
    "\n",
    "%%html\n",
    "<style> table { display: inline-block  }</style>"
   ]
  },
  {
   "cell_type": "markdown",
   "id": "45872a8e",
   "metadata": {},
   "source": [
    "https://www.kaggle.com/datasets/riteshahlawat/covid19-mexico-patient-health-dataset\n",
    "\n",
    "\n",
    "\n",
    "|col|0|1|97-98|\n",
    "|---|---|---|---|\n",
    "|sex|F|M|?|\n",
    "|hospitalized|no|si|?|\n",
    "|intubated|no|si|?|\n",
    "|pneumonia|no|si|?|\n",
    "|age|no|si|?|\n",
    "|pregnant|no|si|?|\n",
    "|diabetes|no|si|?|\n",
    "|copd|no|si|?|\n",
    "|asthma|no|si|?|\n",
    "|immunosuppression|no|si|?|\n",
    "|hypertension|no|si|?|\n",
    "|other_diseases|no|si|?|\n",
    "|cardiovascular|no|si|?|\n",
    "|obesity|no|si|?|\n",
    "|chronic_kidney_failure|no|si|?|\n",
    "|smoker|no|si|?|\n",
    "|another_case|no|si|?|\n",
    "|outcome|no|si|?|\n",
    "|icu|no|si|?|\n",
    "|dead|no|si|?|"
   ]
  },
  {
   "cell_type": "markdown",
   "id": "ddb22951",
   "metadata": {
    "heading_collapsed": "true"
   },
   "source": [
    "# **1. Importación de *modules***"
   ]
  },
  {
   "cell_type": "code",
   "execution_count": 18,
   "id": "43225063",
   "metadata": {
    "id": "4780501a"
   },
   "outputs": [],
   "source": [
    "import numpy as np\n",
    "import pandas as pd\n",
    "\n",
    "import seaborn as sns\n",
    "import matplotlib.pyplot as plt\n",
    "import plotly.express as px\n",
    "\n",
    "\n",
    "from sklearn.naive_bayes import GaussianNB\n",
    "from sklearn.neighbors import KNeighborsClassifier\n",
    "from sklearn import metrics\n",
    "from sklearn.metrics import confusion_matrix\n",
    "from sklearn.metrics import f1_score\n",
    "from sklearn.metrics import classification_report\n",
    "from sklearn.model_selection import train_test_split\n",
    "from sklearn.metrics import roc_auc_score\n",
    "from sklearn.linear_model import LogisticRegression\n",
    "\n",
    "from IPython.core.interactiveshell import InteractiveShell\n",
    "InteractiveShell.ast_node_interactivity = \"all\"\n",
    "%config Completer.use_jedi = False\n",
    "import warnings\n",
    "warnings.filterwarnings(\"ignore\")\n",
    "\n",
    "import funciones as f"
   ]
  },
  {
   "cell_type": "markdown",
   "id": "c39a530d",
   "metadata": {
    "heading_collapsed": "true",
    "id": "cdbfda03"
   },
   "source": [
    "# **2. Importación del dataset *Patient.csv***\n"
   ]
  },
  {
   "cell_type": "code",
   "execution_count": 19,
   "id": "57a15ea8",
   "metadata": {
    "id": "a7754818",
    "outputId": "05a09978-f855-4c68-c039-46d93fbde29b"
   },
   "outputs": [
    {
     "name": "stdout",
     "output_type": "stream",
     "text": [
      "   sex  patient_type  intubated  pneumonia  age  pregnant  diabetes  copd  \\\n",
      "0    2             1         97          2   42        97         2     2   \n",
      "1    1             1         97          2   51         2         2     2   \n",
      "2    2             2          2          2   51        97         1     2   \n",
      "\n",
      "   asthma  immunosuppression  hypertension  other_diseases  cardiovascular  \\\n",
      "0       1                  2             2               2               2   \n",
      "1       2                  2             2               2               2   \n",
      "2       2                  2             1               2               2   \n",
      "\n",
      "   obesity  chronic_kidney_failure  smoker  another_case  outcome  icu  \\\n",
      "0        2                       2       2            99        1   97   \n",
      "1        2                       2       2            99        1   97   \n",
      "2        1                       2       2            99        1    2   \n",
      "\n",
      "   death_date  \n",
      "0  9999-99-99  \n",
      "1  9999-99-99  \n",
      "2  9999-99-99  \n",
      "(95839, 20)\n"
     ]
    }
   ],
   "source": [
    "data = pd.read_csv(\"../data/patient.csv\", sep = \",\", low_memory=False) \n",
    "f._get_info(data)"
   ]
  },
  {
   "cell_type": "markdown",
   "id": "07cc0c76",
   "metadata": {
    "heading_collapsed": "true"
   },
   "source": [
    "# **3. Tratamiento de los datos**\n",
    "Limpieza e imputaciones"
   ]
  },
  {
   "cell_type": "code",
   "execution_count": 20,
   "id": "0def1211",
   "metadata": {},
   "outputs": [],
   "source": [
    "#data_raw[\"dead\"]=data_raw[\"dead\"].replace({\"9999-99-99\": 1})\n",
    "#data_raw.loc[old_data['dead'] != 1, 'dead'] = 0\n",
    "\n"
   ]
  },
  {
   "cell_type": "markdown",
   "id": "c8ef7421",
   "metadata": {
    "heading_collapsed": "true",
    "id": "9eafe596"
   },
   "source": [
    "### 3.1. Dropeo de columnas no informativas\n",
    "Dropeo icu, intubated, death_date"
   ]
  },
  {
   "cell_type": "code",
   "execution_count": null,
   "id": "39b904eb",
   "metadata": {},
   "outputs": [],
   "source": []
  },
  {
   "cell_type": "markdown",
   "id": "4fd328fd",
   "metadata": {
    "heading_collapsed": "true"
   },
   "source": [
    "### 3.2. Renombre de columnas ambiguas\n",
    "Por ejemplo, patient_type a inpatient, outcome a covid, etc"
   ]
  },
  {
   "cell_type": "code",
   "execution_count": null,
   "id": "02cb1bab",
   "metadata": {},
   "outputs": [],
   "source": []
  },
  {
   "cell_type": "markdown",
   "id": "57bf468a",
   "metadata": {
    "heading_collapsed": "true"
   },
   "source": [
    "### 3.3 Conversión de datos\n",
    "99 a null y dropeo\n",
    "\n",
    "Matriz de correlación para regresión logística\n",
    "\n",
    "**Conversión**\n",
    "\n",
    "Para predictivas: 1 a Y, 2 a N, 97/98 a NA, NA en pregnancy a N, 1 a M y 2 a F en sex\n",
    "\n",
    "Para target (inpatient): 1 a 0, 2 a 1"
   ]
  },
  {
   "cell_type": "markdown",
   "id": "5cf3cb3d",
   "metadata": {},
   "source": []
  },
  {
   "cell_type": "markdown",
   "id": "b3c23030",
   "metadata": {
    "heading_collapsed": "true"
   },
   "source": [
    "### 3.4. Tabla de counts"
   ]
  },
  {
   "cell_type": "code",
   "execution_count": null,
   "id": "3086e7b3",
   "metadata": {},
   "outputs": [],
   "source": []
  },
  {
   "cell_type": "markdown",
   "id": "b666b7d3",
   "metadata": {
    "heading_collapsed": "true"
   },
   "source": [
    "### 3.5. Tabla pivot por inpatient"
   ]
  },
  {
   "cell_type": "code",
   "execution_count": null,
   "id": "e5dd6fbd",
   "metadata": {},
   "outputs": [],
   "source": []
  },
  {
   "cell_type": "markdown",
   "id": "d8ab6266",
   "metadata": {},
   "source": [
    "### 3.6. Creación de dummies"
   ]
  },
  {
   "cell_type": "markdown",
   "id": "953eaa1e",
   "metadata": {},
   "source": [
    "# **4. Exportación del dataset resultante a un nuevo *.csv***"
   ]
  },
  {
   "cell_type": "code",
   "execution_count": 21,
   "id": "66786760",
   "metadata": {},
   "outputs": [
    {
     "data": {
      "text/plain": [
       "(95839, 20)"
      ]
     },
     "execution_count": 21,
     "metadata": {},
     "output_type": "execute_result"
    }
   ],
   "source": [
    "# para exportar resultados\n",
    "data.to_csv(r'../data/patient_covid.csv', index = False, header=True)\n",
    "data.shape"
   ]
  }
 ],
 "metadata": {
  "colab": {
   "collapsed_sections": [
    "cdbfda03",
    "5eb9b770",
    "2fa218dc"
   ],
   "name": "Principal.ipynb",
   "provenance": []
  },
  "interpreter": {
   "hash": "6ac88a8a1a8cc340d2b05566e22fde7412d1d718644d4b1167688fa7d4044e9b"
  },
  "kernelspec": {
   "display_name": "Python 3 (ipykernel)",
   "language": "python",
   "name": "python3"
  },
  "language_info": {
   "codemirror_mode": {
    "name": "ipython",
    "version": 3
   },
   "file_extension": ".py",
   "mimetype": "text/x-python",
   "name": "python",
   "nbconvert_exporter": "python",
   "pygments_lexer": "ipython3",
   "version": "3.8.12"
  }
 },
 "nbformat": 4,
 "nbformat_minor": 5
}
