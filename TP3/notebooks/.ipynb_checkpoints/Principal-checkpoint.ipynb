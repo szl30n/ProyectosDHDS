{
 "cells": [
  {
   "cell_type": "markdown",
   "id": "567c1252",
   "metadata": {},
   "source": [
    "# **1. Importación de *modules***"
   ]
  },
  {
   "cell_type": "code",
   "execution_count": 3,
   "id": "e90f776a",
   "metadata": {},
   "outputs": [],
   "source": [
    "import numpy as np\n",
    "import pandas as pd\n",
    "\n",
    "import seaborn as sns\n",
    "import matplotlib.pyplot as plt\n",
    "import plotly.express as px\n",
    "\n",
    "from sklearn.model_selection import train_test_split\n",
    "\n",
    "from IPython.core.interactiveshell import InteractiveShell\n",
    "InteractiveShell.ast_node_interactivity = \"all\"\n",
    "%config Completer.use_jedi = False\n",
    "\n",
    "import funciones as f"
   ]
  },
  {
   "cell_type": "markdown",
   "id": "965fb063",
   "metadata": {},
   "source": [
    "# **2. Importación del dataset patient_covid.csv**"
   ]
  },
  {
   "cell_type": "code",
   "execution_count": 5,
   "id": "1fd364ef",
   "metadata": {},
   "outputs": [
    {
     "name": "stdout",
     "output_type": "stream",
     "text": [
      "   sex  patient_type  intubated  pneumonia  age  pregnant  diabetes  copd  \\\n",
      "0    2             1         97          2   42        97         2     2   \n",
      "1    1             1         97          2   51         2         2     2   \n",
      "2    2             2          2          2   51        97         1     2   \n",
      "\n",
      "   asthma  immunosuppression  hypertension  other_diseases  cardiovascular  \\\n",
      "0       1                  2             2               2               2   \n",
      "1       2                  2             2               2               2   \n",
      "2       2                  2             1               2               2   \n",
      "\n",
      "   obesity  chronic_kidney_failure  smoker  another_case  outcome  icu  \\\n",
      "0        2                       2       2            99        1   97   \n",
      "1        2                       2       2            99        1   97   \n",
      "2        1                       2       2            99        1    2   \n",
      "\n",
      "   death_date  \n",
      "0  9999-99-99  \n",
      "1  9999-99-99  \n",
      "2  9999-99-99  \n",
      "(95839, 20)\n"
     ]
    }
   ],
   "source": [
    "data = pd.read_csv(\"../data/patient_covid.csv\", sep = \",\", low_memory=False) \n",
    "f._get_info(data)"
   ]
  },
  {
   "cell_type": "markdown",
   "id": "44e973be",
   "metadata": {},
   "source": [
    "# **3. Tratamiento de los datos**"
   ]
  },
  {
   "cell_type": "markdown",
   "id": "3e97c0c9",
   "metadata": {},
   "source": [
    "# **4.Modelos**"
   ]
  },
  {
   "cell_type": "markdown",
   "id": "cd0e361e",
   "metadata": {},
   "source": [
    "## 4.1. Regresión logística (Marce y Dani)"
   ]
  },
  {
   "cell_type": "markdown",
   "id": "d535ce08",
   "metadata": {},
   "source": [
    "## 4.2. KNN (Mae)"
   ]
  },
  {
   "cell_type": "markdown",
   "id": "efef6403",
   "metadata": {},
   "source": [
    "### 4.2.1. Búsqueda y selección del hiperparámetro"
   ]
  },
  {
   "cell_type": "markdown",
   "id": "d2c92378",
   "metadata": {},
   "source": [
    "## 4.1. Naive Bayes multinomial (Enzo)"
   ]
  }
 ],
 "metadata": {
  "interpreter": {
   "hash": "6ac88a8a1a8cc340d2b05566e22fde7412d1d718644d4b1167688fa7d4044e9b"
  },
  "kernelspec": {
   "display_name": "Python 3 (ipykernel)",
   "language": "python",
   "name": "python3"
  },
  "language_info": {
   "codemirror_mode": {
    "name": "ipython",
    "version": 3
   },
   "file_extension": ".py",
   "mimetype": "text/x-python",
   "name": "python",
   "nbconvert_exporter": "python",
   "pygments_lexer": "ipython3",
   "version": "3.8.12"
  }
 },
 "nbformat": 4,
 "nbformat_minor": 5
}
