{
 "cells": [
  {
   "cell_type": "markdown",
   "id": "faf8418c",
   "metadata": {
    "heading_collapsed": "true"
   },
   "source": [
    "## Tabla de Contenidos"
   ]
  },
  {
   "cell_type": "markdown",
   "id": "38ca8b85",
   "metadata": {},
   "source": [
    "1. <a href='#section_Importacion_de_modules'>Importación de modules</a>\n",
    "2. <a href='#section_Importacion_de_dataset'>Importación del dataset patient_covid.csv</a>\n",
    "3. <a href='#section_Modelos'>Modelos</a> \n",
    "</br>3.1 <a href='#section_KNN'>KNN</a>\n",
    "</br>3.2 <a href='#section_rl'>Regresión logística</a>\n",
    "</br>3.3 <a href='#section_nbm'>Naive Bayes multinomial</a>\n",
    "4. <a href='#section_1'>otro1</a> \n",
    "\n",
    "------------\n",
    "</br>3.1.1. <a href='#section_preparacion'>Preparar la matriz de _features_ y el vector _target_</a>\n",
    "</br>3.1.1. <a href='#section_optimizando'>Optimizando el valor de _k_</a>\n",
    "</br>3.1.2. <a href=\"#section_confusion\">Matriz de confusión</a>\n",
    "</br>3.1.3. <a href=\"#section_conclusion\">Conclusión</a>\n"
   ]
  },
  {
   "cell_type": "markdown",
   "id": "a742c6b2",
   "metadata": {
    "heading_collapsed": "true"
   },
   "source": [
    "# **1. Importación de *modules***\n",
    "<a id=\"section_Importacion_de_modules\"></a>"
   ]
  },
  {
   "cell_type": "code",
   "execution_count": 1,
   "id": "4fed2af9",
   "metadata": {},
   "outputs": [
    {
     "name": "stdout",
     "output_type": "stream",
     "text": [
      "Requirement already satisfied: graphviz in c:\\users\\msaied\\anaconda3\\envs\\ds\\lib\\site-packages (0.15)\n",
      "Requirement already satisfied: pydotplus in c:\\users\\msaied\\anaconda3\\envs\\ds\\lib\\site-packages (2.0.2)\n",
      "Requirement already satisfied: pyparsing>=2.0.1 in c:\\users\\msaied\\anaconda3\\envs\\ds\\lib\\site-packages (from pydotplus) (3.0.7)\n"
     ]
    }
   ],
   "source": [
    "import numpy as np\n",
    "import pandas as pd\n",
    "\n",
    "import seaborn as sns\n",
    "import matplotlib.pyplot as plt\n",
    "import plotly.express as px\n",
    "\n",
    "from sklearn import metrics\n",
    "from sklearn.model_selection import GridSearchCV,train_test_split,cross_val_score, KFold\n",
    "from sklearn.model_selection import StratifiedKFold\n",
    "from sklearn.model_selection import RandomizedSearchCV\n",
    "from sklearn.metrics import confusion_matrix, accuracy_score ,f1_score ,classification_report , confusion_matrix\n",
    "from sklearn.metrics import roc_auc_score\n",
    "from sklearn.preprocessing import normalize, StandardScaler\n",
    "\n",
    "from sklearn.naive_bayes import MultinomialNB\n",
    "from sklearn.neighbors import KNeighborsClassifier\n",
    "from sklearn.linear_model import LogisticRegression\n",
    "from sklearn import tree\n",
    "\n",
    "from IPython.core.interactiveshell import InteractiveShell\n",
    "InteractiveShell.ast_node_interactivity = \"all\"\n",
    "%config Completer.use_jedi = False\n",
    "import warnings\n",
    "warnings.filterwarnings(\"ignore\")\n",
    "\n",
    "import funciones as f\n",
    "\n",
    "\n",
    "!pip install graphviz\n",
    "!pip install pydotplus\n",
    "\n",
    "from IPython.display import Image\n",
    "import pydotplus"
   ]
  },
  {
   "cell_type": "markdown",
   "id": "5c537be0",
   "metadata": {},
   "source": [
    "# **2. Importación del dataset patient_covid.csv**\n",
    "<a id=\"section_Importacion_de_dataset\"></a>"
   ]
  },
  {
   "cell_type": "code",
   "execution_count": 2,
   "id": "ba4d4e9e",
   "metadata": {},
   "outputs": [
    {
     "name": "stdout",
     "output_type": "stream",
     "text": [
      "(95244, 28)\n"
     ]
    },
    {
     "data": {
      "text/html": [
       "<div>\n",
       "<style scoped>\n",
       "    .dataframe tbody tr th:only-of-type {\n",
       "        vertical-align: middle;\n",
       "    }\n",
       "\n",
       "    .dataframe tbody tr th {\n",
       "        vertical-align: top;\n",
       "    }\n",
       "\n",
       "    .dataframe thead th {\n",
       "        text-align: right;\n",
       "    }\n",
       "</style>\n",
       "<table border=\"1\" class=\"dataframe\">\n",
       "  <thead>\n",
       "    <tr style=\"text-align: right;\">\n",
       "      <th></th>\n",
       "      <th>inpatient</th>\n",
       "      <th>agegroup_10-19</th>\n",
       "      <th>agegroup_20-29</th>\n",
       "      <th>agegroup_30-39</th>\n",
       "      <th>agegroup_40-49</th>\n",
       "      <th>agegroup_50-59</th>\n",
       "      <th>agegroup_60-69</th>\n",
       "      <th>agegroup_70-79</th>\n",
       "      <th>agegroup_80-89</th>\n",
       "      <th>agegroup_90-99</th>\n",
       "      <th>...</th>\n",
       "      <th>diabetes_Y</th>\n",
       "      <th>hypertension_Y</th>\n",
       "      <th>immunosuppression_Y</th>\n",
       "      <th>obesity_Y</th>\n",
       "      <th>other_diseases_N</th>\n",
       "      <th>other_diseases_Y</th>\n",
       "      <th>pneumonia_Y</th>\n",
       "      <th>pregnant_Y</th>\n",
       "      <th>sex_M</th>\n",
       "      <th>smoker_Y</th>\n",
       "    </tr>\n",
       "  </thead>\n",
       "  <tbody>\n",
       "    <tr>\n",
       "      <th>0</th>\n",
       "      <td>0</td>\n",
       "      <td>0</td>\n",
       "      <td>0</td>\n",
       "      <td>0</td>\n",
       "      <td>1</td>\n",
       "      <td>0</td>\n",
       "      <td>0</td>\n",
       "      <td>0</td>\n",
       "      <td>0</td>\n",
       "      <td>0</td>\n",
       "      <td>...</td>\n",
       "      <td>0</td>\n",
       "      <td>0</td>\n",
       "      <td>0</td>\n",
       "      <td>0</td>\n",
       "      <td>1</td>\n",
       "      <td>0</td>\n",
       "      <td>0</td>\n",
       "      <td>0</td>\n",
       "      <td>1</td>\n",
       "      <td>0</td>\n",
       "    </tr>\n",
       "    <tr>\n",
       "      <th>1</th>\n",
       "      <td>0</td>\n",
       "      <td>0</td>\n",
       "      <td>0</td>\n",
       "      <td>0</td>\n",
       "      <td>0</td>\n",
       "      <td>1</td>\n",
       "      <td>0</td>\n",
       "      <td>0</td>\n",
       "      <td>0</td>\n",
       "      <td>0</td>\n",
       "      <td>...</td>\n",
       "      <td>0</td>\n",
       "      <td>0</td>\n",
       "      <td>0</td>\n",
       "      <td>0</td>\n",
       "      <td>1</td>\n",
       "      <td>0</td>\n",
       "      <td>0</td>\n",
       "      <td>0</td>\n",
       "      <td>0</td>\n",
       "      <td>0</td>\n",
       "    </tr>\n",
       "    <tr>\n",
       "      <th>2</th>\n",
       "      <td>1</td>\n",
       "      <td>0</td>\n",
       "      <td>0</td>\n",
       "      <td>0</td>\n",
       "      <td>0</td>\n",
       "      <td>1</td>\n",
       "      <td>0</td>\n",
       "      <td>0</td>\n",
       "      <td>0</td>\n",
       "      <td>0</td>\n",
       "      <td>...</td>\n",
       "      <td>1</td>\n",
       "      <td>1</td>\n",
       "      <td>0</td>\n",
       "      <td>1</td>\n",
       "      <td>1</td>\n",
       "      <td>0</td>\n",
       "      <td>0</td>\n",
       "      <td>0</td>\n",
       "      <td>1</td>\n",
       "      <td>0</td>\n",
       "    </tr>\n",
       "  </tbody>\n",
       "</table>\n",
       "<p>3 rows × 28 columns</p>\n",
       "</div>"
      ],
      "text/plain": [
       "   inpatient  agegroup_10-19  agegroup_20-29  agegroup_30-39  agegroup_40-49  \\\n",
       "0          0               0               0               0               1   \n",
       "1          0               0               0               0               0   \n",
       "2          1               0               0               0               0   \n",
       "\n",
       "   agegroup_50-59  agegroup_60-69  agegroup_70-79  agegroup_80-89  \\\n",
       "0               0               0               0               0   \n",
       "1               1               0               0               0   \n",
       "2               1               0               0               0   \n",
       "\n",
       "   agegroup_90-99  ...  diabetes_Y  hypertension_Y  immunosuppression_Y  \\\n",
       "0               0  ...           0               0                    0   \n",
       "1               0  ...           0               0                    0   \n",
       "2               0  ...           1               1                    0   \n",
       "\n",
       "   obesity_Y  other_diseases_N  other_diseases_Y  pneumonia_Y  pregnant_Y  \\\n",
       "0          0                 1                 0            0           0   \n",
       "1          0                 1                 0            0           0   \n",
       "2          1                 1                 0            0           0   \n",
       "\n",
       "   sex_M  smoker_Y  \n",
       "0      1         0  \n",
       "1      0         0  \n",
       "2      1         0  \n",
       "\n",
       "[3 rows x 28 columns]"
      ]
     },
     "execution_count": 2,
     "metadata": {},
     "output_type": "execute_result"
    },
    {
     "data": {
      "text/html": [
       "<div>\n",
       "<style scoped>\n",
       "    .dataframe tbody tr th:only-of-type {\n",
       "        vertical-align: middle;\n",
       "    }\n",
       "\n",
       "    .dataframe tbody tr th {\n",
       "        vertical-align: top;\n",
       "    }\n",
       "\n",
       "    .dataframe thead th {\n",
       "        text-align: right;\n",
       "    }\n",
       "</style>\n",
       "<table border=\"1\" class=\"dataframe\">\n",
       "  <thead>\n",
       "    <tr style=\"text-align: right;\">\n",
       "      <th></th>\n",
       "      <th>notnull</th>\n",
       "      <th>dtype</th>\n",
       "      <th>unique</th>\n",
       "    </tr>\n",
       "  </thead>\n",
       "  <tbody>\n",
       "    <tr>\n",
       "      <th>inpatient</th>\n",
       "      <td>95244</td>\n",
       "      <td>int64</td>\n",
       "      <td>(i, n, p, a, t, i, e, n, t)</td>\n",
       "    </tr>\n",
       "    <tr>\n",
       "      <th>agegroup_10-19</th>\n",
       "      <td>95244</td>\n",
       "      <td>int64</td>\n",
       "      <td>(a, g, e, g, r, o, u, p, _, 1, 0, -, 1, 9)</td>\n",
       "    </tr>\n",
       "    <tr>\n",
       "      <th>agegroup_20-29</th>\n",
       "      <td>95244</td>\n",
       "      <td>int64</td>\n",
       "      <td>(a, g, e, g, r, o, u, p, _, 2, 0, -, 2, 9)</td>\n",
       "    </tr>\n",
       "    <tr>\n",
       "      <th>agegroup_30-39</th>\n",
       "      <td>95244</td>\n",
       "      <td>int64</td>\n",
       "      <td>(a, g, e, g, r, o, u, p, _, 3, 0, -, 3, 9)</td>\n",
       "    </tr>\n",
       "    <tr>\n",
       "      <th>agegroup_40-49</th>\n",
       "      <td>95244</td>\n",
       "      <td>int64</td>\n",
       "      <td>(a, g, e, g, r, o, u, p, _, 4, 0, -, 4, 9)</td>\n",
       "    </tr>\n",
       "    <tr>\n",
       "      <th>agegroup_50-59</th>\n",
       "      <td>95244</td>\n",
       "      <td>int64</td>\n",
       "      <td>(a, g, e, g, r, o, u, p, _, 5, 0, -, 5, 9)</td>\n",
       "    </tr>\n",
       "    <tr>\n",
       "      <th>agegroup_60-69</th>\n",
       "      <td>95244</td>\n",
       "      <td>int64</td>\n",
       "      <td>(a, g, e, g, r, o, u, p, _, 6, 0, -, 6, 9)</td>\n",
       "    </tr>\n",
       "    <tr>\n",
       "      <th>agegroup_70-79</th>\n",
       "      <td>95244</td>\n",
       "      <td>int64</td>\n",
       "      <td>(a, g, e, g, r, o, u, p, _, 7, 0, -, 7, 9)</td>\n",
       "    </tr>\n",
       "    <tr>\n",
       "      <th>agegroup_80-89</th>\n",
       "      <td>95244</td>\n",
       "      <td>int64</td>\n",
       "      <td>(a, g, e, g, r, o, u, p, _, 8, 0, -, 8, 9)</td>\n",
       "    </tr>\n",
       "    <tr>\n",
       "      <th>agegroup_90-99</th>\n",
       "      <td>95244</td>\n",
       "      <td>int64</td>\n",
       "      <td>(a, g, e, g, r, o, u, p, _, 9, 0, -, 9, 9)</td>\n",
       "    </tr>\n",
       "    <tr>\n",
       "      <th>asthma_Y</th>\n",
       "      <td>95244</td>\n",
       "      <td>int64</td>\n",
       "      <td>(a, s, t, h, m, a, _, Y)</td>\n",
       "    </tr>\n",
       "    <tr>\n",
       "      <th>cardiovascular_Y</th>\n",
       "      <td>95244</td>\n",
       "      <td>int64</td>\n",
       "      <td>(c, a, r, d, i, o, v, a, s, c, u, l, a, r, _, Y)</td>\n",
       "    </tr>\n",
       "    <tr>\n",
       "      <th>chronic_kidney_failure_N</th>\n",
       "      <td>95244</td>\n",
       "      <td>int64</td>\n",
       "      <td>(c, h, r, o, n, i, c, _, k, i, d, n, e, y, _, ...</td>\n",
       "    </tr>\n",
       "    <tr>\n",
       "      <th>chronic_kidney_failure_Y</th>\n",
       "      <td>95244</td>\n",
       "      <td>int64</td>\n",
       "      <td>(c, h, r, o, n, i, c, _, k, i, d, n, e, y, _, ...</td>\n",
       "    </tr>\n",
       "    <tr>\n",
       "      <th>copd_Y</th>\n",
       "      <td>95244</td>\n",
       "      <td>int64</td>\n",
       "      <td>(c, o, p, d, _, Y)</td>\n",
       "    </tr>\n",
       "    <tr>\n",
       "      <th>covid_NOA</th>\n",
       "      <td>95244</td>\n",
       "      <td>int64</td>\n",
       "      <td>(c, o, v, i, d, _, N, O, A)</td>\n",
       "    </tr>\n",
       "    <tr>\n",
       "      <th>covid_Y</th>\n",
       "      <td>95244</td>\n",
       "      <td>int64</td>\n",
       "      <td>(c, o, v, i, d, _, Y)</td>\n",
       "    </tr>\n",
       "    <tr>\n",
       "      <th>diabetes_N</th>\n",
       "      <td>95244</td>\n",
       "      <td>int64</td>\n",
       "      <td>(d, i, a, b, e, t, e, s, _, N)</td>\n",
       "    </tr>\n",
       "    <tr>\n",
       "      <th>diabetes_Y</th>\n",
       "      <td>95244</td>\n",
       "      <td>int64</td>\n",
       "      <td>(d, i, a, b, e, t, e, s, _, Y)</td>\n",
       "    </tr>\n",
       "    <tr>\n",
       "      <th>hypertension_Y</th>\n",
       "      <td>95244</td>\n",
       "      <td>int64</td>\n",
       "      <td>(h, y, p, e, r, t, e, n, s, i, o, n, _, Y)</td>\n",
       "    </tr>\n",
       "    <tr>\n",
       "      <th>immunosuppression_Y</th>\n",
       "      <td>95244</td>\n",
       "      <td>int64</td>\n",
       "      <td>(i, m, m, u, n, o, s, u, p, p, r, e, s, s, i, ...</td>\n",
       "    </tr>\n",
       "    <tr>\n",
       "      <th>obesity_Y</th>\n",
       "      <td>95244</td>\n",
       "      <td>int64</td>\n",
       "      <td>(o, b, e, s, i, t, y, _, Y)</td>\n",
       "    </tr>\n",
       "    <tr>\n",
       "      <th>other_diseases_N</th>\n",
       "      <td>95244</td>\n",
       "      <td>int64</td>\n",
       "      <td>(o, t, h, e, r, _, d, i, s, e, a, s, e, s, _, N)</td>\n",
       "    </tr>\n",
       "    <tr>\n",
       "      <th>other_diseases_Y</th>\n",
       "      <td>95244</td>\n",
       "      <td>int64</td>\n",
       "      <td>(o, t, h, e, r, _, d, i, s, e, a, s, e, s, _, Y)</td>\n",
       "    </tr>\n",
       "    <tr>\n",
       "      <th>pneumonia_Y</th>\n",
       "      <td>95244</td>\n",
       "      <td>int64</td>\n",
       "      <td>(p, n, e, u, m, o, n, i, a, _, Y)</td>\n",
       "    </tr>\n",
       "    <tr>\n",
       "      <th>pregnant_Y</th>\n",
       "      <td>95244</td>\n",
       "      <td>int64</td>\n",
       "      <td>(p, r, e, g, n, a, n, t, _, Y)</td>\n",
       "    </tr>\n",
       "    <tr>\n",
       "      <th>sex_M</th>\n",
       "      <td>95244</td>\n",
       "      <td>int64</td>\n",
       "      <td>(s, e, x, _, M)</td>\n",
       "    </tr>\n",
       "    <tr>\n",
       "      <th>smoker_Y</th>\n",
       "      <td>95244</td>\n",
       "      <td>int64</td>\n",
       "      <td>(s, m, o, k, e, r, _, Y)</td>\n",
       "    </tr>\n",
       "  </tbody>\n",
       "</table>\n",
       "</div>"
      ],
      "text/plain": [
       "                          notnull  dtype  \\\n",
       "inpatient                   95244  int64   \n",
       "agegroup_10-19              95244  int64   \n",
       "agegroup_20-29              95244  int64   \n",
       "agegroup_30-39              95244  int64   \n",
       "agegroup_40-49              95244  int64   \n",
       "agegroup_50-59              95244  int64   \n",
       "agegroup_60-69              95244  int64   \n",
       "agegroup_70-79              95244  int64   \n",
       "agegroup_80-89              95244  int64   \n",
       "agegroup_90-99              95244  int64   \n",
       "asthma_Y                    95244  int64   \n",
       "cardiovascular_Y            95244  int64   \n",
       "chronic_kidney_failure_N    95244  int64   \n",
       "chronic_kidney_failure_Y    95244  int64   \n",
       "copd_Y                      95244  int64   \n",
       "covid_NOA                   95244  int64   \n",
       "covid_Y                     95244  int64   \n",
       "diabetes_N                  95244  int64   \n",
       "diabetes_Y                  95244  int64   \n",
       "hypertension_Y              95244  int64   \n",
       "immunosuppression_Y         95244  int64   \n",
       "obesity_Y                   95244  int64   \n",
       "other_diseases_N            95244  int64   \n",
       "other_diseases_Y            95244  int64   \n",
       "pneumonia_Y                 95244  int64   \n",
       "pregnant_Y                  95244  int64   \n",
       "sex_M                       95244  int64   \n",
       "smoker_Y                    95244  int64   \n",
       "\n",
       "                                                                     unique  \n",
       "inpatient                                       (i, n, p, a, t, i, e, n, t)  \n",
       "agegroup_10-19                   (a, g, e, g, r, o, u, p, _, 1, 0, -, 1, 9)  \n",
       "agegroup_20-29                   (a, g, e, g, r, o, u, p, _, 2, 0, -, 2, 9)  \n",
       "agegroup_30-39                   (a, g, e, g, r, o, u, p, _, 3, 0, -, 3, 9)  \n",
       "agegroup_40-49                   (a, g, e, g, r, o, u, p, _, 4, 0, -, 4, 9)  \n",
       "agegroup_50-59                   (a, g, e, g, r, o, u, p, _, 5, 0, -, 5, 9)  \n",
       "agegroup_60-69                   (a, g, e, g, r, o, u, p, _, 6, 0, -, 6, 9)  \n",
       "agegroup_70-79                   (a, g, e, g, r, o, u, p, _, 7, 0, -, 7, 9)  \n",
       "agegroup_80-89                   (a, g, e, g, r, o, u, p, _, 8, 0, -, 8, 9)  \n",
       "agegroup_90-99                   (a, g, e, g, r, o, u, p, _, 9, 0, -, 9, 9)  \n",
       "asthma_Y                                           (a, s, t, h, m, a, _, Y)  \n",
       "cardiovascular_Y           (c, a, r, d, i, o, v, a, s, c, u, l, a, r, _, Y)  \n",
       "chronic_kidney_failure_N  (c, h, r, o, n, i, c, _, k, i, d, n, e, y, _, ...  \n",
       "chronic_kidney_failure_Y  (c, h, r, o, n, i, c, _, k, i, d, n, e, y, _, ...  \n",
       "copd_Y                                                   (c, o, p, d, _, Y)  \n",
       "covid_NOA                                       (c, o, v, i, d, _, N, O, A)  \n",
       "covid_Y                                               (c, o, v, i, d, _, Y)  \n",
       "diabetes_N                                   (d, i, a, b, e, t, e, s, _, N)  \n",
       "diabetes_Y                                   (d, i, a, b, e, t, e, s, _, Y)  \n",
       "hypertension_Y                   (h, y, p, e, r, t, e, n, s, i, o, n, _, Y)  \n",
       "immunosuppression_Y       (i, m, m, u, n, o, s, u, p, p, r, e, s, s, i, ...  \n",
       "obesity_Y                                       (o, b, e, s, i, t, y, _, Y)  \n",
       "other_diseases_N           (o, t, h, e, r, _, d, i, s, e, a, s, e, s, _, N)  \n",
       "other_diseases_Y           (o, t, h, e, r, _, d, i, s, e, a, s, e, s, _, Y)  \n",
       "pneumonia_Y                               (p, n, e, u, m, o, n, i, a, _, Y)  \n",
       "pregnant_Y                                   (p, r, e, g, n, a, n, t, _, Y)  \n",
       "sex_M                                                       (s, e, x, _, M)  \n",
       "smoker_Y                                           (s, m, o, k, e, r, _, Y)  "
      ]
     },
     "execution_count": 2,
     "metadata": {},
     "output_type": "execute_result"
    }
   ],
   "source": [
    "data_covid = pd.read_csv(\"../data/patient_covid.csv\", sep = \",\", low_memory=False) \n",
    "f._get_info(data_covid)\n",
    "f._summary(data_covid)\n",
    "#data_covid_knn = pd.read_csv(\"../data/patient_covid_knn.csv\", sep = \",\", low_memory=False) \n",
    "#data_covid_knn = pd.read_csv(\"../data/patient_covid.csv\", sep = \",\", low_memory=False) "
   ]
  },
  {
   "cell_type": "markdown",
   "id": "bb235ff7",
   "metadata": {},
   "source": [
    "# **3.Modelos**\n",
    "<a id=\"section_Modelos\"></a>"
   ]
  },
  {
   "cell_type": "markdown",
   "id": "3c1a4f8d",
   "metadata": {},
   "source": [
    "#### ***Preparar la matriz de _features_ y el vector _target y Train-test_***\n",
    "<a id=\"section_preparacion\"></a>"
   ]
  },
  {
   "cell_type": "code",
   "execution_count": 3,
   "id": "a60ef512",
   "metadata": {},
   "outputs": [
    {
     "data": {
      "text/plain": [
       "0    0.734629\n",
       "1    0.265371\n",
       "Name: inpatient, dtype: float64"
      ]
     },
     "execution_count": 3,
     "metadata": {},
     "output_type": "execute_result"
    }
   ],
   "source": [
    "data_covid['inpatient'].value_counts(normalize=True)"
   ]
  },
  {
   "cell_type": "code",
   "execution_count": 4,
   "id": "1ccb337e",
   "metadata": {},
   "outputs": [
    {
     "name": "stdout",
     "output_type": "stream",
     "text": [
      "(95244, 27)\n"
     ]
    },
    {
     "data": {
      "text/html": [
       "<div>\n",
       "<style scoped>\n",
       "    .dataframe tbody tr th:only-of-type {\n",
       "        vertical-align: middle;\n",
       "    }\n",
       "\n",
       "    .dataframe tbody tr th {\n",
       "        vertical-align: top;\n",
       "    }\n",
       "\n",
       "    .dataframe thead th {\n",
       "        text-align: right;\n",
       "    }\n",
       "</style>\n",
       "<table border=\"1\" class=\"dataframe\">\n",
       "  <thead>\n",
       "    <tr style=\"text-align: right;\">\n",
       "      <th></th>\n",
       "      <th>agegroup_10-19</th>\n",
       "      <th>agegroup_20-29</th>\n",
       "      <th>agegroup_30-39</th>\n",
       "      <th>agegroup_40-49</th>\n",
       "      <th>agegroup_50-59</th>\n",
       "      <th>agegroup_60-69</th>\n",
       "      <th>agegroup_70-79</th>\n",
       "      <th>agegroup_80-89</th>\n",
       "      <th>agegroup_90-99</th>\n",
       "      <th>asthma_Y</th>\n",
       "      <th>...</th>\n",
       "      <th>diabetes_Y</th>\n",
       "      <th>hypertension_Y</th>\n",
       "      <th>immunosuppression_Y</th>\n",
       "      <th>obesity_Y</th>\n",
       "      <th>other_diseases_N</th>\n",
       "      <th>other_diseases_Y</th>\n",
       "      <th>pneumonia_Y</th>\n",
       "      <th>pregnant_Y</th>\n",
       "      <th>sex_M</th>\n",
       "      <th>smoker_Y</th>\n",
       "    </tr>\n",
       "  </thead>\n",
       "  <tbody>\n",
       "    <tr>\n",
       "      <th>0</th>\n",
       "      <td>0</td>\n",
       "      <td>0</td>\n",
       "      <td>0</td>\n",
       "      <td>1</td>\n",
       "      <td>0</td>\n",
       "      <td>0</td>\n",
       "      <td>0</td>\n",
       "      <td>0</td>\n",
       "      <td>0</td>\n",
       "      <td>1</td>\n",
       "      <td>...</td>\n",
       "      <td>0</td>\n",
       "      <td>0</td>\n",
       "      <td>0</td>\n",
       "      <td>0</td>\n",
       "      <td>1</td>\n",
       "      <td>0</td>\n",
       "      <td>0</td>\n",
       "      <td>0</td>\n",
       "      <td>1</td>\n",
       "      <td>0</td>\n",
       "    </tr>\n",
       "    <tr>\n",
       "      <th>1</th>\n",
       "      <td>0</td>\n",
       "      <td>0</td>\n",
       "      <td>0</td>\n",
       "      <td>0</td>\n",
       "      <td>1</td>\n",
       "      <td>0</td>\n",
       "      <td>0</td>\n",
       "      <td>0</td>\n",
       "      <td>0</td>\n",
       "      <td>0</td>\n",
       "      <td>...</td>\n",
       "      <td>0</td>\n",
       "      <td>0</td>\n",
       "      <td>0</td>\n",
       "      <td>0</td>\n",
       "      <td>1</td>\n",
       "      <td>0</td>\n",
       "      <td>0</td>\n",
       "      <td>0</td>\n",
       "      <td>0</td>\n",
       "      <td>0</td>\n",
       "    </tr>\n",
       "    <tr>\n",
       "      <th>2</th>\n",
       "      <td>0</td>\n",
       "      <td>0</td>\n",
       "      <td>0</td>\n",
       "      <td>0</td>\n",
       "      <td>1</td>\n",
       "      <td>0</td>\n",
       "      <td>0</td>\n",
       "      <td>0</td>\n",
       "      <td>0</td>\n",
       "      <td>0</td>\n",
       "      <td>...</td>\n",
       "      <td>1</td>\n",
       "      <td>1</td>\n",
       "      <td>0</td>\n",
       "      <td>1</td>\n",
       "      <td>1</td>\n",
       "      <td>0</td>\n",
       "      <td>0</td>\n",
       "      <td>0</td>\n",
       "      <td>1</td>\n",
       "      <td>0</td>\n",
       "    </tr>\n",
       "  </tbody>\n",
       "</table>\n",
       "<p>3 rows × 27 columns</p>\n",
       "</div>"
      ],
      "text/plain": [
       "   agegroup_10-19  agegroup_20-29  agegroup_30-39  agegroup_40-49  \\\n",
       "0               0               0               0               1   \n",
       "1               0               0               0               0   \n",
       "2               0               0               0               0   \n",
       "\n",
       "   agegroup_50-59  agegroup_60-69  agegroup_70-79  agegroup_80-89  \\\n",
       "0               0               0               0               0   \n",
       "1               1               0               0               0   \n",
       "2               1               0               0               0   \n",
       "\n",
       "   agegroup_90-99  asthma_Y  ...  diabetes_Y  hypertension_Y  \\\n",
       "0               0         1  ...           0               0   \n",
       "1               0         0  ...           0               0   \n",
       "2               0         0  ...           1               1   \n",
       "\n",
       "   immunosuppression_Y  obesity_Y  other_diseases_N  other_diseases_Y  \\\n",
       "0                    0          0                 1                 0   \n",
       "1                    0          0                 1                 0   \n",
       "2                    0          1                 1                 0   \n",
       "\n",
       "   pneumonia_Y  pregnant_Y  sex_M  smoker_Y  \n",
       "0            0           0      1         0  \n",
       "1            0           0      0         0  \n",
       "2            0           0      1         0  \n",
       "\n",
       "[3 rows x 27 columns]"
      ]
     },
     "execution_count": 4,
     "metadata": {},
     "output_type": "execute_result"
    }
   ],
   "source": [
    "cols_features=data_covid.columns.difference(['inpatient'])\n",
    "X = data_covid[cols_features]\n",
    "y = data_covid['inpatient']\n",
    "f._get_info(X)"
   ]
  },
  {
   "cell_type": "code",
   "execution_count": 5,
   "id": "6b3b1192",
   "metadata": {},
   "outputs": [
    {
     "data": {
      "text/plain": [
       "0    0.735\n",
       "1    0.265\n",
       "Name: inpatient, dtype: float64"
      ]
     },
     "metadata": {},
     "output_type": "display_data"
    },
    {
     "data": {
      "text/plain": [
       "0    0.735\n",
       "1    0.265\n",
       "Name: inpatient, dtype: float64"
      ]
     },
     "metadata": {},
     "output_type": "display_data"
    },
    {
     "name": "stdout",
     "output_type": "stream",
     "text": [
      "X_train: 57146\n",
      "y_train: 57146\n",
      "X_test: 38098\n",
      "y_test: 38098\n"
     ]
    }
   ],
   "source": [
    "X_train, X_test, y_train, y_test = train_test_split(X, y, test_size=0.4,stratify=data_covid['inpatient'],random_state=123)\n",
    "display(y_train.value_counts(normalize=True).round(3))\n",
    "display(y_test.value_counts(normalize=True).round(3))\n",
    "\n",
    "print (\"X_train:\" , X_train.shape[0])\n",
    "print (\"y_train:\" , y_train.shape[0])\n",
    "print (\"X_test:\" , X_test.shape[0])\n",
    "print (\"y_test:\" , y_test.shape[0])"
   ]
  },
  {
   "cell_type": "markdown",
   "id": "d5957404",
   "metadata": {
    "heading_collapsed": "true"
   },
   "source": [
    "## **3.2. Regresión logística** <a id=\"section_rl\"></a>"
   ]
  },
  {
   "cell_type": "code",
   "execution_count": 6,
   "id": "6582b2ef",
   "metadata": {},
   "outputs": [
    {
     "data": {
      "text/plain": [
       "LogisticRegression(class_weight='balance')"
      ]
     },
     "execution_count": 6,
     "metadata": {},
     "output_type": "execute_result"
    },
    {
     "data": {
      "text/plain": [
       "'Logistic Regression Score:'"
      ]
     },
     "metadata": {},
     "output_type": "display_data"
    },
    {
     "data": {
      "text/plain": [
       "0.8724604966139955"
      ]
     },
     "metadata": {},
     "output_type": "display_data"
    },
    {
     "data": {
      "text/plain": [
       "'AS LR:\\n'"
      ]
     },
     "metadata": {},
     "output_type": "display_data"
    },
    {
     "data": {
      "text/plain": [
       "0.8724604966139955"
      ]
     },
     "metadata": {},
     "output_type": "display_data"
    },
    {
     "data": {
      "text/plain": [
       "'CM LR:\\n'"
      ]
     },
     "metadata": {},
     "output_type": "display_data"
    },
    {
     "data": {
      "text/plain": [
       "array([[26793,  1195],\n",
       "       [ 3664,  6446]], dtype=int64)"
      ]
     },
     "metadata": {},
     "output_type": "display_data"
    },
    {
     "data": {
      "text/plain": [
       "'LR intercept:\\n'"
      ]
     },
     "metadata": {},
     "output_type": "display_data"
    },
    {
     "data": {
      "text/plain": [
       "array([0.76281446])"
      ]
     },
     "metadata": {},
     "output_type": "display_data"
    },
    {
     "data": {
      "text/plain": [
       "'LR Coef:\\n'"
      ]
     },
     "metadata": {},
     "output_type": "display_data"
    },
    {
     "data": {
      "text/plain": [
       "array([[-1.25239179, -1.93079362, -1.88258526, -1.51711745, -1.1315724 ,\n",
       "        -0.71461601, -0.19883157,  0.15145117,  0.34323499, -0.10710172,\n",
       "         0.09934592, -0.87982914,  0.24166746,  0.60274801,  0.40991728,\n",
       "         0.62601843, -0.87360097, -0.25435077,  0.2297941 ,  0.90475071,\n",
       "         0.19056778, -0.25805523,  0.22853881,  3.47424102,  1.78215009,\n",
       "         0.32998243,  0.04147073]])"
      ]
     },
     "metadata": {},
     "output_type": "display_data"
    }
   ],
   "source": [
    "#Logistic regression\n",
    "#scaler = StandardScaler()\n",
    "#x_trainstd = scaler.fit_transform(x_train)\n",
    "#x_teststd = scaler.transform(x_test)\n",
    "lr = LogisticRegression(class_weight=\"balance\")\n",
    "lr.fit(X_train, y_train)\n",
    "score_lr= lr.score(X_test, y_test)\n",
    "\n",
    "display(\"Logistic Regression Score:\", score_lr)\n",
    "y_pred_lr = lr.predict(X_test)\n",
    "\n",
    "display(\"AS LR:\\n\", accuracy_score(y_test, y_pred_lr))\n",
    "display(\"CM LR:\\n\", confusion_matrix(y_test, y_pred_lr))\n",
    "\n",
    "\n",
    "display(\"LR intercept:\\n\", lr.intercept_)\n",
    "display(\"LR Coef:\\n\", lr.coef_)\n",
    "\n"
   ]
  },
  {
   "cell_type": "code",
   "execution_count": 7,
   "id": "e0d4cdf3",
   "metadata": {},
   "outputs": [
    {
     "name": "stdout",
     "output_type": "stream",
     "text": [
      "LR:\n",
      "               precision    recall  f1-score   support\n",
      "\n",
      "           0       0.88      0.96      0.92     27988\n",
      "           1       0.84      0.64      0.73     10110\n",
      "\n",
      "    accuracy                           0.87     38098\n",
      "   macro avg       0.86      0.80      0.82     38098\n",
      "weighted avg       0.87      0.87      0.87     38098\n",
      "\n"
     ]
    }
   ],
   "source": [
    "print(\"LR:\\n\", classification_report(y_test,y_pred_lr))"
   ]
  },
  {
   "cell_type": "markdown",
   "id": "02e57c76",
   "metadata": {},
   "source": [
    "### Barplot Summary of Feature Importance"
   ]
  },
  {
   "cell_type": "code",
   "execution_count": 8,
   "id": "c884dedf",
   "metadata": {},
   "outputs": [
    {
     "data": {
      "text/plain": [
       "<BarContainer object of 27 artists>"
      ]
     },
     "execution_count": 8,
     "metadata": {},
     "output_type": "execute_result"
    },
    {
     "data": {
      "text/plain": [
       "Text(0.5, 1.0, 'Barplot Summary of Feature Importance')"
      ]
     },
     "execution_count": 8,
     "metadata": {},
     "output_type": "execute_result"
    },
    {
     "data": {
      "text/plain": [
       "Text(0.5, 0, 'score')"
      ]
     },
     "execution_count": 8,
     "metadata": {},
     "output_type": "execute_result"
    },
    {
     "data": {
      "image/png": "[encoded data removed]",
      "text/plain": [
       "<Figure size 720x720 with 1 Axes>"
      ]
     },
     "metadata": {
      "needs_background": "light"
     },
     "output_type": "display_data"
    }
   ],
   "source": [
    "importance = lr.coef_.flatten()\n",
    "\n",
    "plt.rcParams[\"figure.figsize\"] =(10,10)\n",
    "plt.barh(X.columns,importance,color=\"g\")\n",
    "plt.title(\"Barplot Summary of Feature Importance\")\n",
    "plt.xlabel(\"score\")\n",
    "plt.show()"
   ]
  },
  {
   "cell_type": "markdown",
   "id": "fe78bb5a",
   "metadata": {},
   "source": [
    "### ROC"
   ]
  },
  {
   "cell_type": "code",
   "execution_count": 9,
   "id": "9b51edc0",
   "metadata": {},
   "outputs": [],
   "source": [
    "#LR\n",
    "probs_lr=lr.predict_proba(X_test)\n",
    "preds_lr=probs_lr[:,1]\n",
    "fpr_lr,tpr_lr, threshold_lr =metrics.roc_curve(y_test, y_pred_lr)\n",
    "roc_auc_lr=metrics.auc(fpr_lr,tpr_lr)"
   ]
  },
  {
   "cell_type": "code",
   "execution_count": 10,
   "id": "5c47e0ff",
   "metadata": {},
   "outputs": [
    {
     "data": {
      "text/plain": [
       "Text(0.5, 1.0, 'ROC')"
      ]
     },
     "execution_count": 10,
     "metadata": {},
     "output_type": "execute_result"
    },
    {
     "data": {
      "text/plain": [
       "[<matplotlib.lines.Line2D at 0x1d183514a90>]"
      ]
     },
     "execution_count": 10,
     "metadata": {},
     "output_type": "execute_result"
    },
    {
     "data": {
      "text/plain": [
       "<matplotlib.legend.Legend at 0x1d1835148e0>"
      ]
     },
     "execution_count": 10,
     "metadata": {},
     "output_type": "execute_result"
    },
    {
     "data": {
      "text/plain": [
       "[<matplotlib.lines.Line2D at 0x1d1835271f0>]"
      ]
     },
     "execution_count": 10,
     "metadata": {},
     "output_type": "execute_result"
    },
    {
     "data": {
      "text/plain": [
       "(0.0, 1.0)"
      ]
     },
     "execution_count": 10,
     "metadata": {},
     "output_type": "execute_result"
    },
    {
     "data": {
      "text/plain": [
       "(0.0, 1.0)"
      ]
     },
     "execution_count": 10,
     "metadata": {},
     "output_type": "execute_result"
    },
    {
     "data": {
      "text/plain": [
       "Text(0, 0.5, 'True Positive Rate')"
      ]
     },
     "execution_count": 10,
     "metadata": {},
     "output_type": "execute_result"
    },
    {
     "data": {
      "text/plain": [
       "Text(0.5, 0, 'False Positive Rate')"
      ]
     },
     "execution_count": 10,
     "metadata": {},
     "output_type": "execute_result"
    },
    {
     "data": {
      "image/png": "[encoded data removed]",
      "text/plain": [
       "<Figure size 720x720 with 1 Axes>"
      ]
     },
     "metadata": {
      "needs_background": "light"
     },
     "output_type": "display_data"
    }
   ],
   "source": [
    "plt.title(\"ROC\")\n",
    "\n",
    "plt.plot(fpr_lr, tpr_lr, 'b', label=\"LR\" % roc_auc_lr)\n",
    "\n",
    "plt.legend(loc=\"lower right\")\n",
    "plt.plot([0,1],[0,1],'r--')\n",
    "plt.xlim([0,1])\n",
    "plt.ylim([0,1])\n",
    "plt.ylabel('True Positive Rate')\n",
    "plt.xlabel('False Positive Rate')\n",
    "plt.show()"
   ]
  },
  {
   "cell_type": "markdown",
   "id": "988b4deb",
   "metadata": {},
   "source": [
    "#  **5. Machine Learning Algorithms Target Patient Type <a id=\"section_1\"></a>**"
   ]
  },
  {
   "cell_type": "markdown",
   "id": "840989d1",
   "metadata": {},
   "source": [
    "## 5.1 Modelos con parámetros por defecto "
   ]
  },
  {
   "cell_type": "markdown",
   "id": "704b9193",
   "metadata": {
    "heading_collapsed": "true"
   },
   "source": [
    "### 5.1.1 Scoring Modelos con parámetros por defecto"
   ]
  },
  {
   "cell_type": "code",
   "execution_count": 11,
   "id": "e675b752",
   "metadata": {
    "colab": {
     "base_uri": "https://localhost:8080/"
    },
    "executionInfo": {
     "elapsed": 45523,
     "status": "ok",
     "timestamp": 1655999681591,
     "user": {
      "displayName": "Maela Lombardi",
      "userId": "03936068368896012188"
     },
     "user_tz": 180
    },
    "id": "d680a683",
    "outputId": "d1216e53-7f59-4877-cfc4-656f58d3bf25"
   },
   "outputs": [
    {
     "data": {
      "text/plain": [
       "MultinomialNB()"
      ]
     },
     "execution_count": 11,
     "metadata": {},
     "output_type": "execute_result"
    },
    {
     "data": {
      "text/plain": [
       "DecisionTreeClassifier(random_state=40)"
      ]
     },
     "execution_count": 11,
     "metadata": {},
     "output_type": "execute_result"
    },
    {
     "data": {
      "text/plain": [
       "KNeighborsClassifier(n_neighbors=18)"
      ]
     },
     "execution_count": 11,
     "metadata": {},
     "output_type": "execute_result"
    },
    {
     "data": {
      "text/plain": [
       "LogisticRegression()"
      ]
     },
     "execution_count": 11,
     "metadata": {},
     "output_type": "execute_result"
    },
    {
     "name": "stdout",
     "output_type": "stream",
     "text": [
      "Naive Bayes Acc Score:    \t 0.8473\n",
      "KNN Acc Score:\t\t\t 0.8697\n",
      "Logistic Regression Acc Score:   0.7381\n",
      "Tree classification Acc Score:   0.8647\n"
     ]
    }
   ],
   "source": [
    "#   .score is a shortcut to run .predict and then calculate the accuracy. So you should only hand it X_test and y_test. –\n",
    "\n",
    "#Naive Bayes      \n",
    "nb=MultinomialNB()\n",
    "nb.fit(X_train, y_train)\n",
    "y_pred_nb = nb.predict(X_test)\n",
    "score_nb = accuracy_score(y_test,y_pred_nb).round(4)\n",
    "\n",
    "#Tree Classification\n",
    "clftree = tree.DecisionTreeClassifier(random_state=40)\n",
    "clftree.fit(X_train, y_train)\n",
    "y_pred_t = clftree.predict(X_test)\n",
    "score_t = accuracy_score(y_test, y_pred_t).round(4)\n",
    "\n",
    "\n",
    "# ##   standtizacion  ################################################\n",
    "scaler = StandardScaler()\n",
    "X_train_std = scaler.fit_transform(X_train)\n",
    "#X_test_std = scaler.transform(X_test)\n",
    "\n",
    "#KNN (poner en n_neighbors el best_params_ de GridSearch)\n",
    "#knn = KNeighborsClassifier()\n",
    "knn = KNeighborsClassifier(n_neighbors=18)\n",
    "#knn.fit(X_train_std, y_train)\n",
    "knn.fit(X_train, y_train)\n",
    "y_pred_knn = knn.predict(X_test)\n",
    "score_knn=accuracy_score(y_test, y_pred_knn).round(4)\n",
    "\n",
    "#Logistic regression  !!!! revisar !!!!!!!!!!!!!!!!!!!!!!!!!!!!!!!!!!!!!!!!!!!!!!!!!!!!!!!!!!!!!!!!!!!!!!!!!!!!!!!!\n",
    "X_train_std = scaler.fit_transform(X_train)\n",
    "X_test_std = scaler.transform(X_test)\n",
    "lr = LogisticRegression()\n",
    "lr.fit(X_train_std, y_train)\n",
    "y_pred_lr = lr.predict(X_test)\n",
    "score_lr=accuracy_score(y_test, y_pred_lr).round(4)\n",
    "\n",
    "# ###  Score ###########################################################\n",
    "print (\"Naive Bayes Acc Score:    \\t\",score_nb)\n",
    "print (\"KNN Acc Score:\\t\\t\\t\",score_knn)\n",
    "print (\"Logistic Regression Acc Score:  \", score_lr)\n",
    "print(\"Tree classification Acc Score:  \", score_t)"
   ]
  },
  {
   "cell_type": "markdown",
   "id": "6dfe099e",
   "metadata": {
    "heading_collapsed": "true",
    "id": "1205157a"
   },
   "source": [
    "### 5.1.2 Confusion_matrix Modelos con parámetros por defecto"
   ]
  },
  {
   "cell_type": "markdown",
   "id": "f0c9be8d",
   "metadata": {},
   "source": [
    "<img src=\"http://acnalert.eastus.cloudapp.azure.com/2/ds/Confusion.jpg\" alt=\"Matriz confusion\">"
   ]
  },
  {
   "cell_type": "code",
   "execution_count": 12,
   "id": "1b0fcc39",
   "metadata": {
    "colab": {
     "base_uri": "https://localhost:8080/"
    },
    "executionInfo": {
     "elapsed": 46,
     "status": "ok",
     "timestamp": 1655998747093,
     "user": {
      "displayName": "Maela Lombardi",
      "userId": "03936068368896012188"
     },
     "user_tz": 180
    },
    "id": "75e06f20",
    "outputId": "7ec04986-1d7b-473f-abf7-9c5040eea6a1"
   },
   "outputs": [
    {
     "name": "stdout",
     "output_type": "stream",
     "text": [
      "X_test: 38098\n",
      "y_test: 38098\n",
      "CM NB:\n",
      " [[25575  2413]\n",
      " [ 3404  6706]]\n",
      "CM KNN:\n",
      " [[26757  1231]\n",
      " [ 3733  6377]]\n",
      "CM LR:\n",
      " [[27980     8]\n",
      " [ 9968   142]]\n",
      "T LR:\n",
      " [[26511  1477]\n",
      " [ 3676  6434]]\n"
     ]
    }
   ],
   "source": [
    "print (\"X_test:\" , X_test.shape[0])\n",
    "print (\"y_test:\" , y_test.shape[0])\n",
    "print(\"CM NB:\\n\", confusion_matrix(y_test, y_pred_nb))\n",
    "print(\"CM KNN:\\n\",confusion_matrix(y_test, y_pred_knn))\n",
    "print(\"CM LR:\\n\", confusion_matrix(y_test, y_pred_lr))\n",
    "print(\"T LR:\\n\",  confusion_matrix(y_test, y_pred_t))"
   ]
  },
  {
   "cell_type": "code",
   "execution_count": 13,
   "id": "7ad3771d",
   "metadata": {},
   "outputs": [
    {
     "name": "stdout",
     "output_type": "stream",
     "text": [
      "[[25575  2413]\n",
      " [ 3404  6706]]\n"
     ]
    },
    {
     "data": {
      "image/png": "[encoded data removed]",
      "text/plain": [
       "<Figure size 576x360 with 2 Axes>"
      ]
     },
     "metadata": {
      "needs_background": "light"
     },
     "output_type": "display_data"
    }
   ],
   "source": [
    "f._print_matriz_confusion(y_test, y_pred_nb,\"Naive Bayes Matriz Confusion\")"
   ]
  },
  {
   "cell_type": "code",
   "execution_count": 14,
   "id": "0778066a",
   "metadata": {},
   "outputs": [
    {
     "name": "stdout",
     "output_type": "stream",
     "text": [
      "[[26757  1231]\n",
      " [ 3733  6377]]\n"
     ]
    },
    {
     "data": {
      "image/png": "[encoded data removed]",
      "text/plain": [
       "<Figure size 576x360 with 2 Axes>"
      ]
     },
     "metadata": {
      "needs_background": "light"
     },
     "output_type": "display_data"
    }
   ],
   "source": [
    "f._print_matriz_confusion(y_test, y_pred_knn,\"KNN Matriz Confusion\")"
   ]
  },
  {
   "cell_type": "code",
   "execution_count": 15,
   "id": "3a6caf91",
   "metadata": {},
   "outputs": [
    {
     "name": "stdout",
     "output_type": "stream",
     "text": [
      "[[27980     8]\n",
      " [ 9968   142]]\n"
     ]
    },
    {
     "data": {
      "image/png": "[encoded data removed]",
      "text/plain": [
       "<Figure size 576x360 with 2 Axes>"
      ]
     },
     "metadata": {
      "needs_background": "light"
     },
     "output_type": "display_data"
    }
   ],
   "source": [
    "f._print_matriz_confusion(y_test, y_pred_lr,\"Linear Regression Matriz Confusion\")"
   ]
  },
  {
   "cell_type": "code",
   "execution_count": 16,
   "id": "026f2379",
   "metadata": {},
   "outputs": [
    {
     "name": "stdout",
     "output_type": "stream",
     "text": [
      "[[26511  1477]\n",
      " [ 3676  6434]]\n"
     ]
    },
    {
     "data": {
      "image/png": "[encoded data removed]",
      "text/plain": [
       "<Figure size 576x360 with 2 Axes>"
      ]
     },
     "metadata": {
      "needs_background": "light"
     },
     "output_type": "display_data"
    }
   ],
   "source": [
    "f._print_matriz_confusion(y_test, y_pred_t,\"Tree Matriz Confusion\")"
   ]
  },
  {
   "cell_type": "markdown",
   "id": "29b136aa",
   "metadata": {
    "heading_collapsed": "true",
    "id": "b336ae48"
   },
   "source": [
    "### 5.1.3 Recall,Precision and F-1 Score Modelos con parámetros por defecto"
   ]
  },
  {
   "cell_type": "markdown",
   "id": "38d14b47",
   "metadata": {
    "id": "0735bf36"
   },
   "source": [
    "* Recall    =  TP / (TP + FN)\n",
    "* Precision = TP / (TP + FP) \n",
    "* F-Measure = (2 * Precision * Recall) / (Precision + Recall)"
   ]
  },
  {
   "cell_type": "code",
   "execution_count": 19,
   "id": "821d9366",
   "metadata": {
    "colab": {
     "base_uri": "https://localhost:8080/"
    },
    "executionInfo": {
     "elapsed": 41,
     "status": "ok",
     "timestamp": 1655998747094,
     "user": {
      "displayName": "Maela Lombardi",
      "userId": "03936068368896012188"
     },
     "user_tz": 180
    },
    "id": "350d4879",
    "outputId": "51b4800c-14ed-4e17-9aec-4dfcf912cf90"
   },
   "outputs": [
    {
     "name": "stdout",
     "output_type": "stream",
     "text": [
      "NB:\n",
      "               precision    recall  f1-score   support\n",
      "\n",
      "           0       0.88      0.91      0.90     27988\n",
      "           1       0.74      0.66      0.70     10110\n",
      "\n",
      "    accuracy                           0.85     38098\n",
      "   macro avg       0.81      0.79      0.80     38098\n",
      "weighted avg       0.84      0.85      0.84     38098\n",
      "\n",
      "KNN:\n",
      "               precision    recall  f1-score   support\n",
      "\n",
      "           0       0.88      0.96      0.92     27988\n",
      "           1       0.84      0.63      0.72     10110\n",
      "\n",
      "    accuracy                           0.87     38098\n",
      "   macro avg       0.86      0.79      0.82     38098\n",
      "weighted avg       0.87      0.87      0.86     38098\n",
      "\n",
      "LR:\n",
      "               precision    recall  f1-score   support\n",
      "\n",
      "           0       0.74      1.00      0.85     27988\n",
      "           1       0.95      0.01      0.03     10110\n",
      "\n",
      "    accuracy                           0.74     38098\n",
      "   macro avg       0.84      0.51      0.44     38098\n",
      "weighted avg       0.79      0.74      0.63     38098\n",
      "\n",
      "T:\n",
      "               precision    recall  f1-score   support\n",
      "\n",
      "           0       0.88      0.95      0.91     27988\n",
      "           1       0.81      0.64      0.71     10110\n",
      "\n",
      "    accuracy                           0.86     38098\n",
      "   macro avg       0.85      0.79      0.81     38098\n",
      "weighted avg       0.86      0.86      0.86     38098\n",
      "\n"
     ]
    }
   ],
   "source": [
    "print(\"NB:\\n\", classification_report(y_test,y_pred_nb))\n",
    "print(\"KNN:\\n\", classification_report(y_test,y_pred_knn))\n",
    "print(\"LR:\\n\", classification_report(y_test,y_pred_lr))\n",
    "print(\"T:\\n\", classification_report(y_test,y_pred_t))"
   ]
  },
  {
   "cell_type": "code",
   "execution_count": 20,
   "id": "af154790",
   "metadata": {
    "colab": {
     "base_uri": "https://localhost:8080/"
    },
    "executionInfo": {
     "elapsed": 33,
     "status": "ok",
     "timestamp": 1655998747094,
     "user": {
      "displayName": "Maela Lombardi",
      "userId": "03936068368896012188"
     },
     "user_tz": 180
    },
    "id": "b09f2700",
    "outputId": "dee2b0f5-fb71-445e-ce76-14a50544bcdf"
   },
   "outputs": [
    {
     "name": "stdout",
     "output_type": "stream",
     "text": [
      "F1 Score NB:  0.6975\n",
      "F1 Score KNN: 0.7198\n",
      "F1 Score LR:  0.0277\n",
      "F1 Score T:   0.7141\n"
     ]
    }
   ],
   "source": [
    "print (\"F1 Score NB: \", f1_score(y_test,y_pred_nb).round(4))\n",
    "print (\"F1 Score KNN:\", f1_score(y_test,y_pred_knn).round(4))\n",
    "print (\"F1 Score LR: \", f1_score(y_test,y_pred_lr).round(4))\n",
    "print (\"F1 Score T:  \", f1_score(y_test,y_pred_t).round(4))"
   ]
  },
  {
   "cell_type": "markdown",
   "id": "52702dfd",
   "metadata": {
    "id": "263e1d67"
   },
   "source": [
    "### 5.1.4 roc & auc Modelos con parámetros por defecto"
   ]
  },
  {
   "cell_type": "code",
   "execution_count": 52,
   "id": "67745ced",
   "metadata": {
    "id": "881ca254"
   },
   "outputs": [
    {
     "name": "stdout",
     "output_type": "stream",
     "text": [
      "ROC AUC NB:   0.7885\n",
      "ROC AUC KNN:  0.7934\n",
      "ROC AUC LR:   0.5069\n",
      "ROC AUC T:    0.7918\n"
     ]
    }
   ],
   "source": [
    "def _metric_AUC(X_t,y_t,y_pred,modelo):  # return roc_auc,fpr,tpr,threshold\n",
    "    probs=modelo.predict_proba(X_t)\n",
    "    preds=probs[:,1]\n",
    "    fpr,tpr,threshold=metrics.roc_curve(y_test, y_pred)\n",
    "    roc_auc=metrics.auc(fpr,tpr)\n",
    "    return roc_auc,fpr,tpr,threshold\n",
    "\n",
    "# return roc_auc,fpr,tpr,threshold\n",
    "#NB\n",
    "roc_auc_nb,fpr_nb,tpr_nb,threshold_nb=_metric_AUC(X_test,y_test,y_pred_nb,nb)\n",
    "#KNN\n",
    "roc_auc_knn,fpr_knn,tpr_knn,threshold_knn=_metric_AUC(X_test,y_test,y_pred_knn,knn)\n",
    "#LR\n",
    "roc_auc_lr,fpr_lr,tpr_lr,threshold_lr=_metric_AUC(X_test,y_test,y_pred_lr,lr)\n",
    "#T\n",
    "roc_auc_t,fpr_t,tpr_t,threshold_t=_metric_AUC(X_test,y_test,y_pred_t,clftree)\n",
    "print (\"ROC AUC NB:  \",  roc_auc_nb.round(4))\n",
    "print (\"ROC AUC KNN: \", roc_auc_knn.round(4))\n",
    "print (\"ROC AUC LR:  \",  roc_auc_lr.round(4))\n",
    "print (\"ROC AUC T:   \",   roc_auc_t.round(4))\n",
    "\n"
   ]
  },
  {
   "cell_type": "code",
   "execution_count": 48,
   "id": "71ef4f9e",
   "metadata": {},
   "outputs": [
    {
     "data": {
      "text/plain": [
       "Text(0.5, 1.0, 'ROC')"
      ]
     },
     "execution_count": 48,
     "metadata": {},
     "output_type": "execute_result"
    },
    {
     "data": {
      "text/plain": [
       "[<matplotlib.lines.Line2D at 0x1d18abb7880>]"
      ]
     },
     "execution_count": 48,
     "metadata": {},
     "output_type": "execute_result"
    },
    {
     "data": {
      "text/plain": [
       "[<matplotlib.lines.Line2D at 0x1d18b4c1580>]"
      ]
     },
     "execution_count": 48,
     "metadata": {},
     "output_type": "execute_result"
    },
    {
     "data": {
      "text/plain": [
       "[<matplotlib.lines.Line2D at 0x1d188a37e20>]"
      ]
     },
     "execution_count": 48,
     "metadata": {},
     "output_type": "execute_result"
    },
    {
     "data": {
      "text/plain": [
       "[<matplotlib.lines.Line2D at 0x1d188a37e80>]"
      ]
     },
     "execution_count": 48,
     "metadata": {},
     "output_type": "execute_result"
    },
    {
     "data": {
      "text/plain": [
       "<matplotlib.legend.Legend at 0x1d18abb79a0>"
      ]
     },
     "execution_count": 48,
     "metadata": {},
     "output_type": "execute_result"
    },
    {
     "data": {
      "text/plain": [
       "[<matplotlib.lines.Line2D at 0x1d18a480220>]"
      ]
     },
     "execution_count": 48,
     "metadata": {},
     "output_type": "execute_result"
    },
    {
     "data": {
      "text/plain": [
       "(0.0, 1.0)"
      ]
     },
     "execution_count": 48,
     "metadata": {},
     "output_type": "execute_result"
    },
    {
     "data": {
      "text/plain": [
       "(0.0, 1.0)"
      ]
     },
     "execution_count": 48,
     "metadata": {},
     "output_type": "execute_result"
    },
    {
     "data": {
      "text/plain": [
       "Text(0, 0.5, 'True Positive Rate')"
      ]
     },
     "execution_count": 48,
     "metadata": {},
     "output_type": "execute_result"
    },
    {
     "data": {
      "text/plain": [
       "Text(0.5, 0, 'False Positive Rate')"
      ]
     },
     "execution_count": 48,
     "metadata": {},
     "output_type": "execute_result"
    },
    {
     "data": {
      "image/png": "[encoded data removed]",
      "text/plain": [
       "<Figure size 1080x432 with 1 Axes>"
      ]
     },
     "metadata": {
      "needs_background": "light"
     },
     "output_type": "display_data"
    }
   ],
   "source": [
    "plt.title(\"ROC\")\n",
    "plt.rcParams['figure.figsize'] = (15, 6)\n",
    "# return roc_auc,fpr,tpr,threshold\n",
    "plt.plot(fpr_nb, tpr_nb, 'g', label=\"NB\" )\n",
    "plt.plot(fpr_knn, tpr_knn, 'r', label=\"KNN\" )\n",
    "plt.plot(fpr_lr, tpr_lr, 'b', label=\"LR\" )\n",
    "plt.plot(fpr_t, tpr_t, 'c', label=\"T\" )\n",
    "\n",
    "plt.legend(loc=\"lower right\")\n",
    "plt.plot([0,1],[0,1],'r--')\n",
    "plt.xlim([0,1])\n",
    "plt.ylim([0,1])\n",
    "plt.ylabel('True Positive Rate')\n",
    "plt.xlabel('False Positive Rate')\n",
    "plt.show()"
   ]
  },
  {
   "cell_type": "markdown",
   "id": "7afce0f6",
   "metadata": {
    "id": "VT7_-aI-OYDX"
   },
   "source": [
    "## 5.4 Gridsearch Tree classification y Graficos"
   ]
  },
  {
   "cell_type": "markdown",
   "id": "2a494c67",
   "metadata": {
    "id": "TJdGd1ZrPwM9"
   },
   "source": [
    "## 5.5 Grafico previo a optimización Tree Classification"
   ]
  },
  {
   "cell_type": "code",
   "execution_count": null,
   "id": "9d2619ee",
   "metadata": {
    "id": "MiNR5L4RP1qF"
   },
   "outputs": [],
   "source": [
    "dot_data1= tree.export_graphviz(clftree, out_file=None,feature_names= x_train.columns, filled = True)"
   ]
  },
  {
   "cell_type": "code",
   "execution_count": null,
   "id": "01823a5c",
   "metadata": {
    "colab": {
     "background_save": true,
     "base_uri": "https://localhost:8080/",
     "output_embedded_package_id": "1HB3GBtxOQ7AFPZUOYUG7lfyGLWeGr9ya"
    },
    "executionInfo": {
     "elapsed": 102614,
     "status": "ok",
     "timestamp": 1655999788307,
     "user": {
      "displayName": "Maela Lombardi",
      "userId": "03936068368896012188"
     },
     "user_tz": 180
    },
    "id": "hKBGQIdoP9c1",
    "outputId": "cd3953a1-5a3d-4c8b-9302-c27bc8fee135"
   },
   "outputs": [],
   "source": [
    "graph = pydotplus.graph_from_dot_data(dot_data)\n",
    "Image(graph.create_png())"
   ]
  },
  {
   "cell_type": "markdown",
   "id": "40421d72",
   "metadata": {
    "id": "9YgspZclOkOe"
   },
   "source": [
    "## 5.6 GridSearch para Tree Classification"
   ]
  },
  {
   "cell_type": "code",
   "execution_count": null,
   "id": "a84214a6",
   "metadata": {
    "id": "RtnfcaqaOcDk"
   },
   "outputs": [],
   "source": [
    "params_grid = { \"criterion\" : [\"gini\", \"entropy\"],\n",
    "                \"min_samples_leaf\": [5,10,15,20,None], \n",
    "                \"max_depth\" : [1,2,3,4,5,6,8,9,10,11,None],\n",
    "                \"min_samples_split\": [2, 3, 4,None]}"
   ]
  },
  {
   "cell_type": "code",
   "execution_count": null,
   "id": "8e1566d9",
   "metadata": {
    "id": "9ziOQzXxOqnq"
   },
   "outputs": [],
   "source": [
    "clftree = tree.DecisionTreeClassifier(random_state=40)"
   ]
  },
  {
   "cell_type": "code",
   "execution_count": null,
   "id": "70e78ba7",
   "metadata": {
    "id": "qWmhHXeYO3c9"
   },
   "outputs": [],
   "source": [
    "grid_search = GridSearchCV(clftree, params_grid,\n",
    "                           n_jobs=-1, scoring='accuracy')"
   ]
  },
  {
   "cell_type": "code",
   "execution_count": null,
   "id": "095c64e0",
   "metadata": {
    "colab": {
     "base_uri": "https://localhost:8080/"
    },
    "executionInfo": {
     "elapsed": 335240,
     "status": "ok",
     "timestamp": 1655999439262,
     "user": {
      "displayName": "Maela Lombardi",
      "userId": "03936068368896012188"
     },
     "user_tz": 180
    },
    "id": "cA41CAxYOtQf",
    "outputId": "fa584c56-1b31-425a-a01b-6b53fd0d7866"
   },
   "outputs": [],
   "source": [
    "grid_search.fit(x_train, y_train)"
   ]
  },
  {
   "cell_type": "code",
   "execution_count": null,
   "id": "96fd0be8",
   "metadata": {
    "colab": {
     "base_uri": "https://localhost:8080/"
    },
    "executionInfo": {
     "elapsed": 409,
     "status": "ok",
     "timestamp": 1655999499873,
     "user": {
      "displayName": "Maela Lombardi",
      "userId": "03936068368896012188"
     },
     "user_tz": 180
    },
    "id": "DJqFfMa2OutT",
    "outputId": "dbc5bbc4-37d0-452d-9f5f-15f483ebe0cf"
   },
   "outputs": [],
   "source": [
    "grid_search.best_score_"
   ]
  },
  {
   "cell_type": "code",
   "execution_count": null,
   "id": "48d65def",
   "metadata": {
    "id": "53UMzxQHPYcX"
   },
   "outputs": [],
   "source": [
    "#cv_clf = grid_search.best_estimator_"
   ]
  },
  {
   "cell_type": "code",
   "execution_count": null,
   "id": "8ea6d8a1",
   "metadata": {
    "colab": {
     "base_uri": "https://localhost:8080/"
    },
    "executionInfo": {
     "elapsed": 453,
     "status": "ok",
     "timestamp": 1655999510822,
     "user": {
      "displayName": "Maela Lombardi",
      "userId": "03936068368896012188"
     },
     "user_tz": 180
    },
    "id": "GolrXCbJPal8",
    "outputId": "575bfea5-c358-490d-ebcf-e834305268d1"
   },
   "outputs": [],
   "source": [
    "#accuracy_score(y_test, cv_clf.predict(x_test))"
   ]
  },
  {
   "cell_type": "code",
   "execution_count": null,
   "id": "b2637127",
   "metadata": {
    "colab": {
     "base_uri": "https://localhost:8080/"
    },
    "executionInfo": {
     "elapsed": 785,
     "status": "ok",
     "timestamp": 1655999514267,
     "user": {
      "displayName": "Maela Lombardi",
      "userId": "03936068368896012188"
     },
     "user_tz": 180
    },
    "id": "UrHmQwzQPdpT",
    "outputId": "94398ca1-3e3f-47d7-e162-6e72a8ae43d3"
   },
   "outputs": [],
   "source": [
    "#confusion_matrix(y_test, cv_clf.predict(x_test))"
   ]
  },
  {
   "cell_type": "markdown",
   "id": "aede3de7",
   "metadata": {
    "heading_collapsed": "true"
   },
   "source": [
    "## 5.7 Modelos con parámetros optimizados"
   ]
  },
  {
   "cell_type": "code",
   "execution_count": null,
   "id": "f630ee66",
   "metadata": {
    "colab": {
     "base_uri": "https://localhost:8080/"
    },
    "executionInfo": {
     "elapsed": 45523,
     "status": "ok",
     "timestamp": 1655999681591,
     "user": {
      "displayName": "Maela Lombardi",
      "userId": "03936068368896012188"
     },
     "user_tz": 180
    },
    "id": "d680a683",
    "outputId": "d1216e53-7f59-4877-cfc4-656f58d3bf25"
   },
   "outputs": [],
   "source": [
    "#Naive Bayes\n",
    "nb=MultinomialNB()\n",
    "nb.fit(x_train, y_train)\n",
    "score_nb=nb.score(x_test,y_test)\n",
    "\n",
    "#KNN (poner en n_neighbors el best_params_ de GridSearch)\n",
    "knn=KNeighborsClassifier(n_neighbors=18)\n",
    "knn.fit(x_train,y_train)\n",
    "score_knn=knn.score(x_test,y_test)\n",
    "\n",
    "#Logistic regression\n",
    "scaler = StandardScaler()\n",
    "x_trainstd = scaler.fit_transform(x_train)\n",
    "x_teststd = scaler.transform(x_test)\n",
    "lr = LogisticRegression()\n",
    "lr.fit(x_trainstd, y_train)\n",
    "score_lr= lr.score(x_teststd, y_test)\n",
    "\n",
    "#Tree Classification\n",
    "cv_clf = grid_search.best_estimator_\n",
    "cv_clf.fit(x_train, y_train)\n",
    "score_t = cv_clf.score(x_test, y_test)\n",
    "\n",
    "#Score\n",
    "print (\"Naive Bayes Acc Score:\",score_nb)\n",
    "print (\"KNN Acc Score:\",score_knn)\n",
    "print (\"Logistic Regression Score:\", score_lr)\n",
    "print(\"Tree classification Score:\", score_t)"
   ]
  },
  {
   "cell_type": "code",
   "execution_count": null,
   "id": "6064ac3b",
   "metadata": {
    "id": "c36cd793"
   },
   "outputs": [],
   "source": [
    "y_pred_nb = nb.predict(x_test)\n",
    "y_pred_knn = knn.predict(x_test)\n",
    "y_pred_lr = lr.predict(x_teststd)\n",
    "y_pred_t = cv_clf.predict(x_test)"
   ]
  },
  {
   "cell_type": "code",
   "execution_count": null,
   "id": "380d3657",
   "metadata": {
    "colab": {
     "base_uri": "https://localhost:8080/"
    },
    "executionInfo": {
     "elapsed": 56,
     "status": "ok",
     "timestamp": 1655998747092,
     "user": {
      "displayName": "Maela Lombardi",
      "userId": "03936068368896012188"
     },
     "user_tz": 180
    },
    "id": "9a15f288",
    "outputId": "205c1211-9233-4b48-a631-68153118668b"
   },
   "outputs": [],
   "source": [
    "print(\"AS NB:\\n\", accuracy_score(y_test, y_pred_nb))\n",
    "print(\"AS KNN:\\n\", accuracy_score(y_test, y_pred_knn))\n",
    "print(\"AS LR:\\n\", accuracy_score(y_test, y_pred_lr))\n",
    "print(\"T LR:\\n\", accuracy_score(y_test, cv_clf.predict(x_test)))"
   ]
  },
  {
   "cell_type": "markdown",
   "id": "b2292c11",
   "metadata": {
    "heading_collapsed": "true",
    "id": "1205157a"
   },
   "source": [
    "#### Confusion_matrix Modelos Mejorados"
   ]
  },
  {
   "cell_type": "code",
   "execution_count": null,
   "id": "e19f10d1",
   "metadata": {
    "colab": {
     "base_uri": "https://localhost:8080/"
    },
    "executionInfo": {
     "elapsed": 46,
     "status": "ok",
     "timestamp": 1655998747093,
     "user": {
      "displayName": "Maela Lombardi",
      "userId": "03936068368896012188"
     },
     "user_tz": 180
    },
    "id": "75e06f20",
    "outputId": "7ec04986-1d7b-473f-abf7-9c5040eea6a1"
   },
   "outputs": [],
   "source": [
    "print(\"CM NB:\\n\", confusion_matrix(y_test, y_pred_nb))\n",
    "print(\"CM KNN:\\n\", confusion_matrix(y_test, y_pred_knn))\n",
    "print(\"CM LR:\\n\", confusion_matrix(y_test, y_pred_lr))\n",
    "print(\"T LR:\\n\", confusion_matrix(y_test, cv_clf.predict(x_test)))"
   ]
  },
  {
   "cell_type": "markdown",
   "id": "a7bf02f5",
   "metadata": {
    "heading_collapsed": "true",
    "id": "b336ae48"
   },
   "source": [
    "#### Recall,Precision and F-1 Score Modelos mejorados\n"
   ]
  },
  {
   "cell_type": "markdown",
   "id": "b621f129",
   "metadata": {
    "id": "0735bf36"
   },
   "source": [
    "* Recall    =  TP / (TP + FN)\n",
    "* Precision = TP / (TP + FP) \n",
    "* F-Measure = (2 * Precision * Recall) / (Precision + Recall)"
   ]
  },
  {
   "cell_type": "code",
   "execution_count": null,
   "id": "4892409b",
   "metadata": {
    "colab": {
     "base_uri": "https://localhost:8080/"
    },
    "executionInfo": {
     "elapsed": 41,
     "status": "ok",
     "timestamp": 1655998747094,
     "user": {
      "displayName": "Maela Lombardi",
      "userId": "03936068368896012188"
     },
     "user_tz": 180
    },
    "id": "350d4879",
    "outputId": "51b4800c-14ed-4e17-9aec-4dfcf912cf90"
   },
   "outputs": [],
   "source": [
    "print(\"NB:\\n\", classification_report(y_test,y_pred_nb))\n",
    "print(\"KNN:\\n\", classification_report(y_test,y_pred_knn))\n",
    "print(\"LR:\\n\", classification_report(y_test,y_pred_lr))\n",
    "print(\"T:\\n\", classification_report(y_test,cv_clf.predict(x_test)))"
   ]
  },
  {
   "cell_type": "code",
   "execution_count": null,
   "id": "c780892c",
   "metadata": {
    "colab": {
     "base_uri": "https://localhost:8080/"
    },
    "executionInfo": {
     "elapsed": 33,
     "status": "ok",
     "timestamp": 1655998747094,
     "user": {
      "displayName": "Maela Lombardi",
      "userId": "03936068368896012188"
     },
     "user_tz": 180
    },
    "id": "b09f2700",
    "outputId": "dee2b0f5-fb71-445e-ce76-14a50544bcdf"
   },
   "outputs": [],
   "source": [
    "print (\"F1 Score NB:\", f1_score(y_test,y_pred_nb))\n",
    "print (\"F1 Score KNN:\", f1_score(y_test,y_pred_knn))\n",
    "print (\"F1 Score LR:\", f1_score(y_test,y_pred_lr))\n",
    "print (\"F1 Score T:\", f1_score(y_test,cv_clf.predict(x_test)))"
   ]
  },
  {
   "cell_type": "markdown",
   "id": "dfff193f",
   "metadata": {
    "heading_collapsed": "true",
    "id": "263e1d67"
   },
   "source": [
    "#### roc & auc Modelos mejorados"
   ]
  },
  {
   "cell_type": "code",
   "execution_count": null,
   "id": "51946360",
   "metadata": {
    "id": "881ca254"
   },
   "outputs": [],
   "source": [
    "#NB\n",
    "probs_nb=nb.predict_proba(x_test)\n",
    "preds_nb=probs_nb[:,1]\n",
    "fpr_nb,tpr_nb, threshold_nb =metrics.roc_curve(y_test, y_pred_nb)\n",
    "roc_auc_nb=metrics.auc(fpr_nb,tpr_nb)\n",
    "\n",
    "#KNN\n",
    "probs_knn=knn.predict_proba(x_test)\n",
    "preds_knn=probs_knn[:,1]\n",
    "fpr_knn,tpr_knn, threshold_knn =metrics.roc_curve(y_test, y_pred_knn)\n",
    "roc_auc_knn=metrics.auc(fpr_knn,tpr_knn)\n",
    "\n",
    "#LR\n",
    "probs_lr=lr.predict_proba(x_teststd)\n",
    "preds_lr=probs_lr[:,1]\n",
    "fpr_lr,tpr_lr, threshold_lr =metrics.roc_curve(y_test, y_pred_lr)\n",
    "roc_auc_lr=metrics.auc(fpr_lr,tpr_lr)\n",
    "\n",
    "#T\n",
    "probs_t=cv_clf.predict_proba(x_test)\n",
    "preds_t=probs_t[:,1]\n",
    "fpr_t,tpr_t, threshold_t =metrics.roc_curve(y_test, y_pred_t)\n",
    "roc_auc_t=metrics.auc(fpr_t,tpr_t)\n",
    "\n",
    "print (\"ROC AUC NB:\", roc_auc_nb)\n",
    "print (\"ROC AUC KNN:\", roc_auc_knn)\n",
    "print (\"ROC AUC LR:\", roc_auc_lr)\n",
    "print (\"ROC AUC T:\", roc_auc_t)"
   ]
  },
  {
   "cell_type": "code",
   "execution_count": null,
   "id": "cc7ed044",
   "metadata": {
    "colab": {
     "base_uri": "https://localhost:8080/",
     "height": 295
    },
    "executionInfo": {
     "elapsed": 536,
     "status": "ok",
     "timestamp": 1656000084847,
     "user": {
      "displayName": "Maela Lombardi",
      "userId": "03936068368896012188"
     },
     "user_tz": 180
    },
    "id": "c4078360",
    "outputId": "424eb031-a80d-445b-eb5b-7c03b9365a0e"
   },
   "outputs": [],
   "source": [
    "plt.title(\"ROC\")\n",
    "\n",
    "plt.plot(fpr_nb, tpr_nb, 'g', label=\"NB\" % roc_auc_nb)\n",
    "plt.plot(fpr_knn, tpr_knn, 'r', label=\"KNN\" % roc_auc_nb)\n",
    "plt.plot(fpr_lr, tpr_lr, 'b', label=\"LR\" % roc_auc_nb)\n",
    "plt.plot(fpr_t, tpr_t, 'y', label=\"T\" % roc_auc_nb)\n",
    "\n",
    "plt.legend(loc=\"lower right\")\n",
    "plt.plot([0,1],[0,1],'r--')\n",
    "plt.xlim([0,1])\n",
    "plt.ylim([0,1])\n",
    "plt.ylabel('True Positive Rate')\n",
    "plt.xlabel('False Positive Rate')\n",
    "plt.show()"
   ]
  },
  {
   "cell_type": "markdown",
   "id": "621e59be",
   "metadata": {
    "id": "IRDL7G4QQQnM"
   },
   "source": [
    "#### Gráfico post optimización Tree Classification"
   ]
  },
  {
   "cell_type": "code",
   "execution_count": null,
   "id": "dfe9ab2d",
   "metadata": {
    "colab": {
     "base_uri": "https://localhost:8080/",
     "height": 950
    },
    "executionInfo": {
     "elapsed": 9917,
     "status": "ok",
     "timestamp": 1655999576585,
     "user": {
      "displayName": "Maela Lombardi",
      "userId": "03936068368896012188"
     },
     "user_tz": 180
    },
    "id": "kcAhAXXPPoQy",
    "outputId": "615e2545-aa37-4026-9e3f-33bc7089bd35"
   },
   "outputs": [],
   "source": [
    "dot_data = tree.export_graphviz(cv_clf, out_file=None,feature_names= x_train.columns, filled = True)\n",
    "graph2 = pydotplus.graph_from_dot_data(dot_data)\n",
    "Image(graph2.create_png())"
   ]
  },
  {
   "cell_type": "markdown",
   "id": "a0c2619a",
   "metadata": {},
   "source": [
    "# KNN marcelo dani"
   ]
  },
  {
   "cell_type": "code",
   "execution_count": null,
   "id": "a0776834",
   "metadata": {},
   "outputs": [],
   "source": []
  },
  {
   "cell_type": "markdown",
   "id": "a86ce987",
   "metadata": {},
   "source": [
    "#### ***Optimizando el valor de k***"
   ]
  },
  {
   "cell_type": "markdown",
   "id": "7cec520a",
   "metadata": {},
   "source": [
    "<font color='red'>cambio temporario de range(10, 31) a range(10, 21) y folds de 5 a 2</font>"
   ]
  },
  {
   "cell_type": "code",
   "execution_count": null,
   "id": "2d421047",
   "metadata": {},
   "outputs": [],
   "source": [
    "# Definimos la estrategia de validación cruzada\n",
    "kf = KFold(n_splits=2, shuffle=True, random_state=12)\n",
    "scores_para_df_standard = []\n",
    "\n",
    "#for i in range(10, 31):\n",
    "for i in range(15, 26):\n",
    "    Model_knn = KNeighborsClassifier(n_neighbors=i)\n",
    "    cv_scores = cross_val_score(Model_knn, X_train, y_train, cv=kf)\n",
    "    dict_row_score = {'score_medio':np.mean(cv_scores),\n",
    "                      'score_std':np.std(cv_scores), 'n_neighbors':i}\n",
    "    scores_para_df_standard.append(dict_row_score)"
   ]
  },
  {
   "cell_type": "code",
   "execution_count": null,
   "id": "05037ddb",
   "metadata": {},
   "outputs": [],
   "source": [
    "# Creamos el DataFrame a partir de la lista de diccionarios\n",
    "df_scores_standard = pd.DataFrame(scores_para_df_standard)\n",
    "df_scores_standard.head()"
   ]
  },
  {
   "cell_type": "markdown",
   "id": "d9c0cf6a",
   "metadata": {},
   "source": [
    "**Graficando la búsqueda del mejor hiperparámetro**"
   ]
  },
  {
   "cell_type": "code",
   "execution_count": null,
   "id": "6a51d043",
   "metadata": {},
   "outputs": [],
   "source": [
    "# Generamos los límites inferior y superior\n",
    "df_scores_standard['limite_superior'] = df_scores_standard['score_medio'] + df_scores_standard['score_std']\n",
    "df_scores_standard['limite_inferior'] = df_scores_standard['score_medio'] - df_scores_standard['score_std']\n",
    "df_scores_standard.head()"
   ]
  },
  {
   "cell_type": "code",
   "execution_count": null,
   "id": "535707a4",
   "metadata": {},
   "outputs": [],
   "source": [
    "# Graficamos los resultados\n",
    "plt.plot(df_scores_standard['n_neighbors'], df_scores_standard['limite_inferior'], color='r')\n",
    "plt.plot(df_scores_standard['n_neighbors'], df_scores_standard['score_medio'], color='b')\n",
    "plt.plot(df_scores_standard['n_neighbors'], df_scores_standard['limite_superior'], color='r');"
   ]
  },
  {
   "cell_type": "code",
   "execution_count": null,
   "id": "5749ce57",
   "metadata": {},
   "outputs": [],
   "source": [
    "# Identificamos el score máximo\n",
    "df_scores_standard.loc[df_scores_standard.score_medio == df_scores_standard.score_medio.max()]"
   ]
  },
  {
   "cell_type": "code",
   "execution_count": null,
   "id": "01aa8237",
   "metadata": {},
   "outputs": [],
   "source": [
    "# Asignamos el valor del k óptimo a una variable\n",
    "best_k = df_scores_standard.loc[df_scores_standard.score_medio == df_scores_standard.score_medio.max(), 'n_neighbors'].values[0]\n",
    "print(\"best k\",best_k)\n",
    "\n",
    "# Elegimos el modelo óptimo de acuerdo a las pruebas de cross validation\n",
    "Model_knn = KNeighborsClassifier(n_neighbors=best_k)\n",
    "\n",
    "# Lo ajustamos sobre los datos de entrenamiento\n",
    "Model_knn.fit(X_train, y_train)\n",
    "\n",
    "# Evaluamos qué accuracy obtenemos en train\n",
    "print(\"accuracy_score en train\",accuracy_score(y_train, Model_knn.predict(X_train)).round(4))"
   ]
  },
  {
   "cell_type": "code",
   "execution_count": null,
   "id": "4a37123d",
   "metadata": {},
   "outputs": [],
   "source": [
    "# Lo utilizamos para predecir en test\n",
    "X_test = scaler.transform(X_test) # ¡Importantísimo estandarizar también los datos de test con las medias y desvíos aprendidos en train!\n",
    "y_pred = Model_knn.predict(X_test)\n",
    "\n",
    "# Evaluamos el accuracy del modelo en test\n",
    "print(\"accuracy_score en test\",accuracy_score(y_test, y_pred).round(2))"
   ]
  },
  {
   "cell_type": "markdown",
   "id": "2db513c7",
   "metadata": {},
   "source": [
    "<a id=\"section_confusion\"></a>\n",
    "### Matriz de confusión"
   ]
  },
  {
   "cell_type": "code",
   "execution_count": null,
   "id": "b1566c23",
   "metadata": {},
   "outputs": [],
   "source": [
    "# Obtenemos la matriz de confusión\n",
    "_print_matriz_confusion(y_test, y_pred,titulo=\"KNN Matriz Confusion\")"
   ]
  },
  {
   "cell_type": "markdown",
   "id": "f1cd4110",
   "metadata": {},
   "source": [
    "<img src=\"http://acnalert.eastus.cloudapp.azure.com/2/ds/Confusion.jpg\" alt=\"Matriz confusion\">"
   ]
  },
  {
   "cell_type": "code",
   "execution_count": null,
   "id": "39ead8ae",
   "metadata": {},
   "outputs": [],
   "source": [
    "#  calcular  la exactitud de nuestro modelo...\n",
    "print(\"Acuracy score KNN :\\n\", accuracy_score(y_test, y_pred).round(2))\n",
    "print(\"Classification report KNN:\\n\", classification_report(y_test,y_pred))"
   ]
  },
  {
   "cell_type": "code",
   "execution_count": null,
   "id": "36465ea8",
   "metadata": {},
   "outputs": [],
   "source": [
    "probs=lr.predict_proba(x_test)\n",
    "preds=probs[:,1]\n",
    "fpr,tpr, threshold_lr =metrics.roc_curve(y_test, y_pred)\n",
    "roc_auc_lr=metrics.auc(fpr_lr,tpr_lr)\n",
    "\n",
    "#graph\n",
    "plt.title(\"ROC\")\n",
    "\n",
    "plt.plot(fpr, tpr, 'b', label=\"KNN\" % roc_auc)\n",
    "plt.legend(loc=\"lower right\")\n",
    "plt.plot([0,1],[0,1],'r--')\n",
    "plt.xlim([0,1])\n",
    "plt.ylim([0,1])\n",
    "plt.ylabel('True Positive Rate')\n",
    "plt.xlabel('False Positive Rate')\n",
    "plt.show()"
   ]
  },
  {
   "cell_type": "code",
   "execution_count": null,
   "id": "a9dffbf3",
   "metadata": {},
   "outputs": [],
   "source": []
  }
 ],
 "metadata": {
  "interpreter": {
   "hash": "6ac88a8a1a8cc340d2b05566e22fde7412d1d718644d4b1167688fa7d4044e9b"
  },
  "kernelspec": {
   "display_name": "Python 3 (ipykernel)",
   "language": "python",
   "name": "python3"
  },
  "language_info": {
   "codemirror_mode": {
    "name": "ipython",
    "version": 3
   },
   "file_extension": ".py",
   "mimetype": "text/x-python",
   "name": "python",
   "nbconvert_exporter": "python",
   "pygments_lexer": "ipython3",
   "version": "3.8.12"
  }
 },
 "nbformat": 4,
 "nbformat_minor": 5
}
