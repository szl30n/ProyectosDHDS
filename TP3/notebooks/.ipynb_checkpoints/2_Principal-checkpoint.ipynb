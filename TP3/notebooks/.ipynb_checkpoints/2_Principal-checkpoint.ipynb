{
 "cells": [
  {
   "cell_type": "markdown",
   "id": "db860cb8",
   "metadata": {},
   "source": [
    "## Tabla de Contenidos\n",
    "1. <a href='#section_Importacion_de_modules'>Importación de modules</a>\n",
    "2. <a href='#section_Importacion_de_dataset'>Importación del dataset patient_covid.csv</a>\n",
    "3. <a href='#section_Modelos'>Modelos</a> \n",
    "</br>3.1 <a href='#section_KNN'>KNN</a>\n",
    "    </br>3.1.1. <a href='#section_preparacion'>Preparar la matriz de _features_ y el vector _target_</a>\n",
    "</br>3.1.1. <a href='#section_optimizando'>Optimizando el valor de _k_</a>\n",
    "</br>3.1.2. <a href=\"#section_confusion\">Matriz de confusión</a>\n",
    "</br>3.1.3. <a href=\"#section_conclusion\">Conclusión</a>\n"
   ]
  },
  {
   "cell_type": "markdown",
   "id": "0e726ec8",
   "metadata": {},
   "source": [
    "# **1. Importación de *modules***\n",
    "<a id=\"section_Importacion_de_modules\"></a>"
   ]
  },
  {
   "cell_type": "code",
   "execution_count": 48,
   "id": "a306acd7",
   "metadata": {},
   "outputs": [],
   "source": [
    "import numpy as np\n",
    "import pandas as pd\n",
    "\n",
    "import seaborn as sns\n",
    "import matplotlib.pyplot as plt\n",
    "import plotly.express as px\n",
    "\n",
    "from sklearn.model_selection import GridSearchCV,train_test_split\n",
    "from sklearn.naive_bayes import GaussianNB\n",
    "from sklearn.neighbors import KNeighborsClassifier\n",
    "from sklearn.metrics import confusion_matrix\n",
    "from sklearn.metrics import f1_score\n",
    "from sklearn.metrics import classification_report , confusion_matrix\n",
    "from sklearn.metrics import roc_auc_score\n",
    "from sklearn.linear_model import LogisticRegression\n",
    "from sklearn.preprocessing import normalize\n",
    "\n",
    "from IPython.core.interactiveshell import InteractiveShell\n",
    "InteractiveShell.ast_node_interactivity = \"all\"\n",
    "%config Completer.use_jedi = False\n",
    "import warnings\n",
    "warnings.filterwarnings(\"ignore\")\n",
    "\n",
    "import funciones as f"
   ]
  },
  {
   "cell_type": "markdown",
   "id": "5fbc1ba1",
   "metadata": {},
   "source": [
    "# **2. Importación del dataset patient_covid.csv**\n",
    "<a id=\"section_Importacion_de_dataset\"></a>"
   ]
  },
  {
   "cell_type": "code",
   "execution_count": 49,
   "id": "74110554",
   "metadata": {},
   "outputs": [
    {
     "name": "stdout",
     "output_type": "stream",
     "text": [
      "   inpatient  agegroup_10-19  agegroup_20-29  agegroup_30-39  agegroup_40-49  \\\n",
      "0          0               0               0               0               1   \n",
      "1          0               0               0               0               0   \n",
      "2          1               0               0               0               0   \n",
      "\n",
      "   agegroup_50-59  agegroup_60-69  agegroup_70-79  agegroup_80-89  \\\n",
      "0               0               0               0               0   \n",
      "1               1               0               0               0   \n",
      "2               1               0               0               0   \n",
      "\n",
      "   agegroup_90-99  ...  hypertension_Y  immunosuppression_Y  obesity_Y  \\\n",
      "0               0  ...               0                    0          0   \n",
      "1               0  ...               0                    0          0   \n",
      "2               0  ...               1                    0          1   \n",
      "\n",
      "   other_diseases_N  other_diseases_Y  pneumonia_Y  pregnant_NOA  pregnant_Y  \\\n",
      "0                 1                 0            0             1           0   \n",
      "1                 1                 0            0             0           0   \n",
      "2                 1                 0            0             1           0   \n",
      "\n",
      "   sex_M  smoker_Y  \n",
      "0      1         0  \n",
      "1      0         0  \n",
      "2      1         0  \n",
      "\n",
      "[3 rows x 29 columns]\n",
      "(95244, 29)\n",
      "  sex  inpatient pneumonia pregnant diabetes copd asthma immunosuppression  \\\n",
      "0   M          0         N      NOA        N    N      Y                 N   \n",
      "1   F          0         N        N        N    N      N                 N   \n",
      "2   M          1         N      NOA        Y    N      N                 N   \n",
      "\n",
      "  hypertension other_diseases cardiovascular obesity chronic_kidney_failure  \\\n",
      "0            N              N              N       N                      N   \n",
      "1            N              N              N       N                      N   \n",
      "2            Y              N              N       Y                      N   \n",
      "\n",
      "  smoker covid agegroup  \n",
      "0      N     Y    40-49  \n",
      "1      N     Y    50-59  \n",
      "2      N     Y    50-59  \n",
      "(95244, 16)\n"
     ]
    }
   ],
   "source": [
    "data_covid = pd.read_csv(\"../data/patient_covid.csv\", sep = \",\", low_memory=False) \n",
    "f._get_info(data_covid)\n",
    "\n",
    "data_covid_knn = pd.read_csv(\"../data/patient_covid_knn.csv\", sep = \",\", low_memory=False) \n",
    "f._get_info(data_covid_knn)"
   ]
  },
  {
   "cell_type": "markdown",
   "id": "37abb369",
   "metadata": {},
   "source": [
    "# **3.Modelos**\n",
    "<a id=\"section_Modelos\"></a>"
   ]
  },
  {
   "cell_type": "markdown",
   "id": "716b1043",
   "metadata": {},
   "source": [
    "## 3.1<a id=\"section_Modelos\"></a>. KNN  (Marce y Dani)\n",
    "<a id=\"section_KNN\"></a>"
   ]
  },
  {
   "cell_type": "markdown",
   "id": "789db475",
   "metadata": {},
   "source": [
    "#### 3.1.1. Preparar la matriz de _features_ y el vector _target_\n",
    "<a id=\"section_preparacion\"></a>\n"
   ]
  },
  {
   "cell_type": "code",
   "execution_count": 50,
   "id": "8de839d3",
   "metadata": {},
   "outputs": [
    {
     "data": {
      "text/plain": [
       "0    0.734629\n",
       "1    0.265371\n",
       "Name: inpatient, dtype: float64"
      ]
     },
     "execution_count": 50,
     "metadata": {},
     "output_type": "execute_result"
    }
   ],
   "source": [
    "data_covid_knn['inpatient'].value_counts(normalize=True)"
   ]
  },
  {
   "cell_type": "code",
   "execution_count": 52,
   "id": "03dc2e0e",
   "metadata": {},
   "outputs": [
    {
     "data": {
      "text/html": [
       "<div>\n",
       "<style scoped>\n",
       "    .dataframe tbody tr th:only-of-type {\n",
       "        vertical-align: middle;\n",
       "    }\n",
       "\n",
       "    .dataframe tbody tr th {\n",
       "        vertical-align: top;\n",
       "    }\n",
       "\n",
       "    .dataframe thead th {\n",
       "        text-align: right;\n",
       "    }\n",
       "</style>\n",
       "<table border=\"1\" class=\"dataframe\">\n",
       "  <thead>\n",
       "    <tr style=\"text-align: right;\">\n",
       "      <th></th>\n",
       "      <th>agegroup</th>\n",
       "      <th>asthma</th>\n",
       "      <th>cardiovascular</th>\n",
       "      <th>chronic_kidney_failure</th>\n",
       "      <th>copd</th>\n",
       "      <th>covid</th>\n",
       "      <th>diabetes</th>\n",
       "      <th>hypertension</th>\n",
       "      <th>immunosuppression</th>\n",
       "      <th>obesity</th>\n",
       "      <th>other_diseases</th>\n",
       "      <th>pneumonia</th>\n",
       "      <th>pregnant</th>\n",
       "      <th>sex</th>\n",
       "      <th>smoker</th>\n",
       "    </tr>\n",
       "  </thead>\n",
       "  <tbody>\n",
       "    <tr>\n",
       "      <th>0</th>\n",
       "      <td>40-49</td>\n",
       "      <td>Y</td>\n",
       "      <td>N</td>\n",
       "      <td>N</td>\n",
       "      <td>N</td>\n",
       "      <td>Y</td>\n",
       "      <td>N</td>\n",
       "      <td>N</td>\n",
       "      <td>N</td>\n",
       "      <td>N</td>\n",
       "      <td>N</td>\n",
       "      <td>N</td>\n",
       "      <td>NOA</td>\n",
       "      <td>M</td>\n",
       "      <td>N</td>\n",
       "    </tr>\n",
       "    <tr>\n",
       "      <th>1</th>\n",
       "      <td>50-59</td>\n",
       "      <td>N</td>\n",
       "      <td>N</td>\n",
       "      <td>N</td>\n",
       "      <td>N</td>\n",
       "      <td>Y</td>\n",
       "      <td>N</td>\n",
       "      <td>N</td>\n",
       "      <td>N</td>\n",
       "      <td>N</td>\n",
       "      <td>N</td>\n",
       "      <td>N</td>\n",
       "      <td>N</td>\n",
       "      <td>F</td>\n",
       "      <td>N</td>\n",
       "    </tr>\n",
       "    <tr>\n",
       "      <th>2</th>\n",
       "      <td>50-59</td>\n",
       "      <td>N</td>\n",
       "      <td>N</td>\n",
       "      <td>N</td>\n",
       "      <td>N</td>\n",
       "      <td>Y</td>\n",
       "      <td>Y</td>\n",
       "      <td>Y</td>\n",
       "      <td>N</td>\n",
       "      <td>Y</td>\n",
       "      <td>N</td>\n",
       "      <td>N</td>\n",
       "      <td>NOA</td>\n",
       "      <td>M</td>\n",
       "      <td>N</td>\n",
       "    </tr>\n",
       "  </tbody>\n",
       "</table>\n",
       "</div>"
      ],
      "text/plain": [
       "  agegroup asthma cardiovascular chronic_kidney_failure copd covid diabetes  \\\n",
       "0    40-49      Y              N                      N    N     Y        N   \n",
       "1    50-59      N              N                      N    N     Y        N   \n",
       "2    50-59      N              N                      N    N     Y        Y   \n",
       "\n",
       "  hypertension immunosuppression obesity other_diseases pneumonia pregnant  \\\n",
       "0            N                 N       N              N         N      NOA   \n",
       "1            N                 N       N              N         N        N   \n",
       "2            Y                 N       Y              N         N      NOA   \n",
       "\n",
       "  sex smoker  \n",
       "0   M      N  \n",
       "1   F      N  \n",
       "2   M      N  "
      ]
     },
     "execution_count": 52,
     "metadata": {},
     "output_type": "execute_result"
    },
    {
     "data": {
      "text/plain": [
       "Index(['agegroup', 'asthma', 'cardiovascular', 'chronic_kidney_failure',\n",
       "       'copd', 'covid', 'diabetes', 'hypertension', 'immunosuppression',\n",
       "       'obesity', 'other_diseases', 'pneumonia', 'pregnant', 'sex', 'smoker'],\n",
       "      dtype='object')"
      ]
     },
     "execution_count": 52,
     "metadata": {},
     "output_type": "execute_result"
    }
   ],
   "source": [
    "cols_features=data_covid_knn.columns.difference(['inpatient'])\n",
    "X = data_covid_knn[cols_features]\n",
    "y = data_covid_knn['inpatient']\n",
    "X.head(3) \n",
    "X.columns"
   ]
  },
  {
   "cell_type": "code",
   "execution_count": 53,
   "id": "99d0cf44",
   "metadata": {},
   "outputs": [],
   "source": [
    "X_train, X_test, y_train, y_test = train_test_split(X, y, test_size=0.4,stratify=data_covid['inpatient'])"
   ]
  },
  {
   "cell_type": "code",
   "execution_count": 54,
   "id": "97d34d56",
   "metadata": {},
   "outputs": [
    {
     "ename": "ValueError",
     "evalue": "could not convert string to float: '30-39'",
     "output_type": "error",
     "traceback": [
      "\u001b[1;31m---------------------------------------------------------------------------\u001b[0m",
      "\u001b[1;31mValueError\u001b[0m                                Traceback (most recent call last)",
      "Input \u001b[1;32mIn [54]\u001b[0m, in \u001b[0;36m<module>\u001b[1;34m\u001b[0m\n\u001b[0;32m      2\u001b[0m \u001b[38;5;28;01mfrom\u001b[39;00m \u001b[38;5;21;01msklearn\u001b[39;00m\u001b[38;5;21;01m.\u001b[39;00m\u001b[38;5;21;01mpreprocessing\u001b[39;00m \u001b[38;5;28;01mimport\u001b[39;00m StandardScaler\n\u001b[0;32m      3\u001b[0m scaler \u001b[38;5;241m=\u001b[39m StandardScaler()\n\u001b[1;32m----> 4\u001b[0m X_train \u001b[38;5;241m=\u001b[39m \u001b[43mscaler\u001b[49m\u001b[38;5;241;43m.\u001b[39;49m\u001b[43mfit_transform\u001b[49m\u001b[43m(\u001b[49m\u001b[43mX_train\u001b[49m\u001b[43m)\u001b[49m\n",
      "File \u001b[1;32m~\\Anaconda3\\envs\\ds\\lib\\site-packages\\sklearn\\base.py:690\u001b[0m, in \u001b[0;36mTransformerMixin.fit_transform\u001b[1;34m(self, X, y, **fit_params)\u001b[0m\n\u001b[0;32m    686\u001b[0m \u001b[38;5;66;03m# non-optimized default implementation; override when a better\u001b[39;00m\n\u001b[0;32m    687\u001b[0m \u001b[38;5;66;03m# method is possible for a given clustering algorithm\u001b[39;00m\n\u001b[0;32m    688\u001b[0m \u001b[38;5;28;01mif\u001b[39;00m y \u001b[38;5;129;01mis\u001b[39;00m \u001b[38;5;28;01mNone\u001b[39;00m:\n\u001b[0;32m    689\u001b[0m     \u001b[38;5;66;03m# fit method of arity 1 (unsupervised transformation)\u001b[39;00m\n\u001b[1;32m--> 690\u001b[0m     \u001b[38;5;28;01mreturn\u001b[39;00m \u001b[38;5;28;43mself\u001b[39;49m\u001b[38;5;241;43m.\u001b[39;49m\u001b[43mfit\u001b[49m\u001b[43m(\u001b[49m\u001b[43mX\u001b[49m\u001b[43m,\u001b[49m\u001b[43m \u001b[49m\u001b[38;5;241;43m*\u001b[39;49m\u001b[38;5;241;43m*\u001b[39;49m\u001b[43mfit_params\u001b[49m\u001b[43m)\u001b[49m\u001b[38;5;241m.\u001b[39mtransform(X)\n\u001b[0;32m    691\u001b[0m \u001b[38;5;28;01melse\u001b[39;00m:\n\u001b[0;32m    692\u001b[0m     \u001b[38;5;66;03m# fit method of arity 2 (supervised transformation)\u001b[39;00m\n\u001b[0;32m    693\u001b[0m     \u001b[38;5;28;01mreturn\u001b[39;00m \u001b[38;5;28mself\u001b[39m\u001b[38;5;241m.\u001b[39mfit(X, y, \u001b[38;5;241m*\u001b[39m\u001b[38;5;241m*\u001b[39mfit_params)\u001b[38;5;241m.\u001b[39mtransform(X)\n",
      "File \u001b[1;32m~\\Anaconda3\\envs\\ds\\lib\\site-packages\\sklearn\\preprocessing\\_data.py:667\u001b[0m, in \u001b[0;36mStandardScaler.fit\u001b[1;34m(self, X, y)\u001b[0m\n\u001b[0;32m    665\u001b[0m \u001b[38;5;66;03m# Reset internal state before fitting\u001b[39;00m\n\u001b[0;32m    666\u001b[0m \u001b[38;5;28mself\u001b[39m\u001b[38;5;241m.\u001b[39m_reset()\n\u001b[1;32m--> 667\u001b[0m \u001b[38;5;28;01mreturn\u001b[39;00m \u001b[38;5;28;43mself\u001b[39;49m\u001b[38;5;241;43m.\u001b[39;49m\u001b[43mpartial_fit\u001b[49m\u001b[43m(\u001b[49m\u001b[43mX\u001b[49m\u001b[43m,\u001b[49m\u001b[43m \u001b[49m\u001b[43my\u001b[49m\u001b[43m)\u001b[49m\n",
      "File \u001b[1;32m~\\Anaconda3\\envs\\ds\\lib\\site-packages\\sklearn\\preprocessing\\_data.py:696\u001b[0m, in \u001b[0;36mStandardScaler.partial_fit\u001b[1;34m(self, X, y)\u001b[0m\n\u001b[0;32m    669\u001b[0m \u001b[38;5;28;01mdef\u001b[39;00m \u001b[38;5;21mpartial_fit\u001b[39m(\u001b[38;5;28mself\u001b[39m, X, y\u001b[38;5;241m=\u001b[39m\u001b[38;5;28;01mNone\u001b[39;00m):\n\u001b[0;32m    670\u001b[0m     \u001b[38;5;124;03m\"\"\"\u001b[39;00m\n\u001b[0;32m    671\u001b[0m \u001b[38;5;124;03m    Online computation of mean and std on X for later scaling.\u001b[39;00m\n\u001b[0;32m    672\u001b[0m \n\u001b[1;32m   (...)\u001b[0m\n\u001b[0;32m    694\u001b[0m \u001b[38;5;124;03m        Transformer instance.\u001b[39;00m\n\u001b[0;32m    695\u001b[0m \u001b[38;5;124;03m    \"\"\"\u001b[39;00m\n\u001b[1;32m--> 696\u001b[0m     X \u001b[38;5;241m=\u001b[39m \u001b[38;5;28;43mself\u001b[39;49m\u001b[38;5;241;43m.\u001b[39;49m\u001b[43m_validate_data\u001b[49m\u001b[43m(\u001b[49m\u001b[43mX\u001b[49m\u001b[43m,\u001b[49m\u001b[43m \u001b[49m\u001b[43maccept_sparse\u001b[49m\u001b[38;5;241;43m=\u001b[39;49m\u001b[43m(\u001b[49m\u001b[38;5;124;43m'\u001b[39;49m\u001b[38;5;124;43mcsr\u001b[39;49m\u001b[38;5;124;43m'\u001b[39;49m\u001b[43m,\u001b[49m\u001b[43m \u001b[49m\u001b[38;5;124;43m'\u001b[39;49m\u001b[38;5;124;43mcsc\u001b[39;49m\u001b[38;5;124;43m'\u001b[39;49m\u001b[43m)\u001b[49m\u001b[43m,\u001b[49m\n\u001b[0;32m    697\u001b[0m \u001b[43m                            \u001b[49m\u001b[43mestimator\u001b[49m\u001b[38;5;241;43m=\u001b[39;49m\u001b[38;5;28;43mself\u001b[39;49m\u001b[43m,\u001b[49m\u001b[43m \u001b[49m\u001b[43mdtype\u001b[49m\u001b[38;5;241;43m=\u001b[39;49m\u001b[43mFLOAT_DTYPES\u001b[49m\u001b[43m,\u001b[49m\n\u001b[0;32m    698\u001b[0m \u001b[43m                            \u001b[49m\u001b[43mforce_all_finite\u001b[49m\u001b[38;5;241;43m=\u001b[39;49m\u001b[38;5;124;43m'\u001b[39;49m\u001b[38;5;124;43mallow-nan\u001b[39;49m\u001b[38;5;124;43m'\u001b[39;49m\u001b[43m)\u001b[49m\n\u001b[0;32m    700\u001b[0m     \u001b[38;5;66;03m# Even in the case of `with_mean=False`, we update the mean anyway\u001b[39;00m\n\u001b[0;32m    701\u001b[0m     \u001b[38;5;66;03m# This is needed for the incremental computation of the var\u001b[39;00m\n\u001b[0;32m    702\u001b[0m     \u001b[38;5;66;03m# See incr_mean_variance_axis and _incremental_mean_variance_axis\u001b[39;00m\n\u001b[1;32m   (...)\u001b[0m\n\u001b[0;32m    705\u001b[0m     \u001b[38;5;66;03m# transform it to a NumPy array of shape (n_features,) required by\u001b[39;00m\n\u001b[0;32m    706\u001b[0m     \u001b[38;5;66;03m# incr_mean_variance_axis and _incremental_variance_axis\u001b[39;00m\n\u001b[0;32m    707\u001b[0m     \u001b[38;5;28;01mif\u001b[39;00m (\u001b[38;5;28mhasattr\u001b[39m(\u001b[38;5;28mself\u001b[39m, \u001b[38;5;124m'\u001b[39m\u001b[38;5;124mn_samples_seen_\u001b[39m\u001b[38;5;124m'\u001b[39m) \u001b[38;5;129;01mand\u001b[39;00m\n\u001b[0;32m    708\u001b[0m             \u001b[38;5;28misinstance\u001b[39m(\u001b[38;5;28mself\u001b[39m\u001b[38;5;241m.\u001b[39mn_samples_seen_, numbers\u001b[38;5;241m.\u001b[39mIntegral)):\n",
      "File \u001b[1;32m~\\Anaconda3\\envs\\ds\\lib\\site-packages\\sklearn\\base.py:420\u001b[0m, in \u001b[0;36mBaseEstimator._validate_data\u001b[1;34m(self, X, y, reset, validate_separately, **check_params)\u001b[0m\n\u001b[0;32m    415\u001b[0m     \u001b[38;5;28;01mif\u001b[39;00m \u001b[38;5;28mself\u001b[39m\u001b[38;5;241m.\u001b[39m_get_tags()[\u001b[38;5;124m'\u001b[39m\u001b[38;5;124mrequires_y\u001b[39m\u001b[38;5;124m'\u001b[39m]:\n\u001b[0;32m    416\u001b[0m         \u001b[38;5;28;01mraise\u001b[39;00m \u001b[38;5;167;01mValueError\u001b[39;00m(\n\u001b[0;32m    417\u001b[0m             \u001b[38;5;124mf\u001b[39m\u001b[38;5;124m\"\u001b[39m\u001b[38;5;124mThis \u001b[39m\u001b[38;5;132;01m{\u001b[39;00m\u001b[38;5;28mself\u001b[39m\u001b[38;5;241m.\u001b[39m\u001b[38;5;18m__class__\u001b[39m\u001b[38;5;241m.\u001b[39m\u001b[38;5;18m__name__\u001b[39m\u001b[38;5;132;01m}\u001b[39;00m\u001b[38;5;124m estimator \u001b[39m\u001b[38;5;124m\"\u001b[39m\n\u001b[0;32m    418\u001b[0m             \u001b[38;5;124mf\u001b[39m\u001b[38;5;124m\"\u001b[39m\u001b[38;5;124mrequires y to be passed, but the target y is None.\u001b[39m\u001b[38;5;124m\"\u001b[39m\n\u001b[0;32m    419\u001b[0m         )\n\u001b[1;32m--> 420\u001b[0m     X \u001b[38;5;241m=\u001b[39m \u001b[43mcheck_array\u001b[49m\u001b[43m(\u001b[49m\u001b[43mX\u001b[49m\u001b[43m,\u001b[49m\u001b[43m \u001b[49m\u001b[38;5;241;43m*\u001b[39;49m\u001b[38;5;241;43m*\u001b[39;49m\u001b[43mcheck_params\u001b[49m\u001b[43m)\u001b[49m\n\u001b[0;32m    421\u001b[0m     out \u001b[38;5;241m=\u001b[39m X\n\u001b[0;32m    422\u001b[0m \u001b[38;5;28;01melse\u001b[39;00m:\n",
      "File \u001b[1;32m~\\Anaconda3\\envs\\ds\\lib\\site-packages\\sklearn\\utils\\validation.py:72\u001b[0m, in \u001b[0;36m_deprecate_positional_args.<locals>.inner_f\u001b[1;34m(*args, **kwargs)\u001b[0m\n\u001b[0;32m     67\u001b[0m     warnings\u001b[38;5;241m.\u001b[39mwarn(\u001b[38;5;124m\"\u001b[39m\u001b[38;5;124mPass \u001b[39m\u001b[38;5;132;01m{}\u001b[39;00m\u001b[38;5;124m as keyword args. From version 0.25 \u001b[39m\u001b[38;5;124m\"\u001b[39m\n\u001b[0;32m     68\u001b[0m                   \u001b[38;5;124m\"\u001b[39m\u001b[38;5;124mpassing these as positional arguments will \u001b[39m\u001b[38;5;124m\"\u001b[39m\n\u001b[0;32m     69\u001b[0m                   \u001b[38;5;124m\"\u001b[39m\u001b[38;5;124mresult in an error\u001b[39m\u001b[38;5;124m\"\u001b[39m\u001b[38;5;241m.\u001b[39mformat(\u001b[38;5;124m\"\u001b[39m\u001b[38;5;124m, \u001b[39m\u001b[38;5;124m\"\u001b[39m\u001b[38;5;241m.\u001b[39mjoin(args_msg)),\n\u001b[0;32m     70\u001b[0m                   \u001b[38;5;167;01mFutureWarning\u001b[39;00m)\n\u001b[0;32m     71\u001b[0m kwargs\u001b[38;5;241m.\u001b[39mupdate({k: arg \u001b[38;5;28;01mfor\u001b[39;00m k, arg \u001b[38;5;129;01min\u001b[39;00m \u001b[38;5;28mzip\u001b[39m(sig\u001b[38;5;241m.\u001b[39mparameters, args)})\n\u001b[1;32m---> 72\u001b[0m \u001b[38;5;28;01mreturn\u001b[39;00m \u001b[43mf\u001b[49m\u001b[43m(\u001b[49m\u001b[38;5;241;43m*\u001b[39;49m\u001b[38;5;241;43m*\u001b[39;49m\u001b[43mkwargs\u001b[49m\u001b[43m)\u001b[49m\n",
      "File \u001b[1;32m~\\Anaconda3\\envs\\ds\\lib\\site-packages\\sklearn\\utils\\validation.py:598\u001b[0m, in \u001b[0;36mcheck_array\u001b[1;34m(array, accept_sparse, accept_large_sparse, dtype, order, copy, force_all_finite, ensure_2d, allow_nd, ensure_min_samples, ensure_min_features, estimator)\u001b[0m\n\u001b[0;32m    596\u001b[0m         array \u001b[38;5;241m=\u001b[39m array\u001b[38;5;241m.\u001b[39mastype(dtype, casting\u001b[38;5;241m=\u001b[39m\u001b[38;5;124m\"\u001b[39m\u001b[38;5;124munsafe\u001b[39m\u001b[38;5;124m\"\u001b[39m, copy\u001b[38;5;241m=\u001b[39m\u001b[38;5;28;01mFalse\u001b[39;00m)\n\u001b[0;32m    597\u001b[0m     \u001b[38;5;28;01melse\u001b[39;00m:\n\u001b[1;32m--> 598\u001b[0m         array \u001b[38;5;241m=\u001b[39m \u001b[43mnp\u001b[49m\u001b[38;5;241;43m.\u001b[39;49m\u001b[43masarray\u001b[49m\u001b[43m(\u001b[49m\u001b[43marray\u001b[49m\u001b[43m,\u001b[49m\u001b[43m \u001b[49m\u001b[43morder\u001b[49m\u001b[38;5;241;43m=\u001b[39;49m\u001b[43morder\u001b[49m\u001b[43m,\u001b[49m\u001b[43m \u001b[49m\u001b[43mdtype\u001b[49m\u001b[38;5;241;43m=\u001b[39;49m\u001b[43mdtype\u001b[49m\u001b[43m)\u001b[49m\n\u001b[0;32m    599\u001b[0m \u001b[38;5;28;01mexcept\u001b[39;00m ComplexWarning:\n\u001b[0;32m    600\u001b[0m     \u001b[38;5;28;01mraise\u001b[39;00m \u001b[38;5;167;01mValueError\u001b[39;00m(\u001b[38;5;124m\"\u001b[39m\u001b[38;5;124mComplex data not supported\u001b[39m\u001b[38;5;130;01m\\n\u001b[39;00m\u001b[38;5;124m\"\u001b[39m\n\u001b[0;32m    601\u001b[0m                      \u001b[38;5;124m\"\u001b[39m\u001b[38;5;132;01m{}\u001b[39;00m\u001b[38;5;130;01m\\n\u001b[39;00m\u001b[38;5;124m\"\u001b[39m\u001b[38;5;241m.\u001b[39mformat(array))\n",
      "File \u001b[1;32m~\\Anaconda3\\envs\\ds\\lib\\site-packages\\pandas\\core\\generic.py:1781\u001b[0m, in \u001b[0;36mNDFrame.__array__\u001b[1;34m(self, dtype)\u001b[0m\n\u001b[0;32m   1780\u001b[0m \u001b[38;5;28;01mdef\u001b[39;00m \u001b[38;5;21m__array__\u001b[39m(\u001b[38;5;28mself\u001b[39m, dtype\u001b[38;5;241m=\u001b[39m\u001b[38;5;28;01mNone\u001b[39;00m) \u001b[38;5;241m-\u001b[39m\u001b[38;5;241m>\u001b[39m np\u001b[38;5;241m.\u001b[39mndarray:\n\u001b[1;32m-> 1781\u001b[0m     \u001b[38;5;28;01mreturn\u001b[39;00m \u001b[43mnp\u001b[49m\u001b[38;5;241;43m.\u001b[39;49m\u001b[43masarray\u001b[49m\u001b[43m(\u001b[49m\u001b[38;5;28;43mself\u001b[39;49m\u001b[38;5;241;43m.\u001b[39;49m\u001b[43m_values\u001b[49m\u001b[43m,\u001b[49m\u001b[43m \u001b[49m\u001b[43mdtype\u001b[49m\u001b[38;5;241;43m=\u001b[39;49m\u001b[43mdtype\u001b[49m\u001b[43m)\u001b[49m\n",
      "\u001b[1;31mValueError\u001b[0m: could not convert string to float: '30-39'"
     ]
    }
   ],
   "source": [
    "# Utilizamos sklearn para estandarizar la matriz de Features\n",
    "from sklearn.preprocessing import StandardScaler\n",
    "scaler = StandardScaler()\n",
    "X_train = scaler.fit_transform(X_train)"
   ]
  },
  {
   "cell_type": "code",
   "execution_count": null,
   "id": "dee03a72",
   "metadata": {},
   "outputs": [],
   "source": []
  },
  {
   "cell_type": "code",
   "execution_count": 15,
   "id": "1c210e59",
   "metadata": {},
   "outputs": [
    {
     "ename": "AttributeError",
     "evalue": "'DataFrame' object has no attribute 'data'",
     "output_type": "error",
     "traceback": [
      "\u001b[1;31m---------------------------------------------------------------------------\u001b[0m",
      "\u001b[1;31mAttributeError\u001b[0m                            Traceback (most recent call last)",
      "Input \u001b[1;32mIn [15]\u001b[0m, in \u001b[0;36m<module>\u001b[1;34m\u001b[0m\n\u001b[0;32m      1\u001b[0m \u001b[38;5;66;03m# Construimos la matriz de features y visualizamos las primeras filas\u001b[39;00m\n\u001b[1;32m----> 2\u001b[0m X \u001b[38;5;241m=\u001b[39m pd\u001b[38;5;241m.\u001b[39mDataFrame(\u001b[43mdata_covid\u001b[49m\u001b[38;5;241;43m.\u001b[39;49m\u001b[43mdata\u001b[49m, columns \u001b[38;5;241m=\u001b[39m data_covid\u001b[38;5;241m.\u001b[39mfeature_names)\n\u001b[0;32m      3\u001b[0m X\u001b[38;5;241m.\u001b[39mhead()\n",
      "File \u001b[1;32m~\\Anaconda3\\envs\\ds\\lib\\site-packages\\pandas\\core\\generic.py:5141\u001b[0m, in \u001b[0;36mNDFrame.__getattr__\u001b[1;34m(self, name)\u001b[0m\n\u001b[0;32m   5139\u001b[0m \u001b[38;5;28;01mif\u001b[39;00m \u001b[38;5;28mself\u001b[39m\u001b[38;5;241m.\u001b[39m_info_axis\u001b[38;5;241m.\u001b[39m_can_hold_identifiers_and_holds_name(name):\n\u001b[0;32m   5140\u001b[0m     \u001b[38;5;28;01mreturn\u001b[39;00m \u001b[38;5;28mself\u001b[39m[name]\n\u001b[1;32m-> 5141\u001b[0m \u001b[38;5;28;01mreturn\u001b[39;00m \u001b[38;5;28;43mobject\u001b[39;49m\u001b[38;5;241;43m.\u001b[39;49m\u001b[38;5;21;43m__getattribute__\u001b[39;49m\u001b[43m(\u001b[49m\u001b[38;5;28;43mself\u001b[39;49m\u001b[43m,\u001b[49m\u001b[43m \u001b[49m\u001b[43mname\u001b[49m\u001b[43m)\u001b[49m\n",
      "\u001b[1;31mAttributeError\u001b[0m: 'DataFrame' object has no attribute 'data'"
     ]
    }
   ],
   "source": [
    "# Construimos la matriz de features y visualizamos las primeras filas\n",
    "X = pd.DataFrame(data_covid.data, columns = data_covid.feature_names)\n"
   ]
  },
  {
   "cell_type": "code",
   "execution_count": null,
   "id": "be8f070c",
   "metadata": {},
   "outputs": [],
   "source": [
    "# Construimos el vector target y visualizamos las primeras filas\n",
    "y = pd.Series(cancer.target)\n",
    "y.sample(10)"
   ]
  },
  {
   "cell_type": "code",
   "execution_count": null,
   "id": "41d4c924",
   "metadata": {},
   "outputs": [],
   "source": [
    "# Analizamos la proporción entre clases\n",
    "pd.Series(y).value_counts(normalize=True).round(2)"
   ]
  },
  {
   "cell_type": "code",
   "execution_count": null,
   "id": "84fbb1c2",
   "metadata": {},
   "outputs": [],
   "source": [
    "# El argumento stratify nos permite generar una división que respeta la misma proporción entre clases en ambos sets\n",
    "from sklearn.model_selection import train_test_split\n",
    "X_train, X_test, y_train, y_test = train_test_split(X, y, stratify=y, random_state=12)"
   ]
  },
  {
   "cell_type": "code",
   "execution_count": null,
   "id": "48248f48",
   "metadata": {},
   "outputs": [],
   "source": [
    "display(y_train.value_counts(normalize=True).round(2))\n",
    "display(y_test.value_counts(normalize=True).round(2))"
   ]
  },
  {
   "cell_type": "code",
   "execution_count": null,
   "id": "f1c0eb7a",
   "metadata": {},
   "outputs": [],
   "source": []
  },
  {
   "cell_type": "code",
   "execution_count": null,
   "id": "fe5dc749",
   "metadata": {},
   "outputs": [],
   "source": []
  },
  {
   "cell_type": "code",
   "execution_count": null,
   "id": "9d9bccb3",
   "metadata": {},
   "outputs": [],
   "source": []
  },
  {
   "cell_type": "markdown",
   "id": "7a5e530a",
   "metadata": {},
   "source": [
    "## 4.1. Regresión logística  (Mae)"
   ]
  },
  {
   "cell_type": "code",
   "execution_count": null,
   "id": "bbeb07ff",
   "metadata": {},
   "outputs": [],
   "source": []
  },
  {
   "cell_type": "code",
   "execution_count": null,
   "id": "406d2023",
   "metadata": {},
   "outputs": [],
   "source": []
  },
  {
   "cell_type": "markdown",
   "id": "f9ec682c",
   "metadata": {},
   "source": [
    "### 4.2.1. Búsqueda y selección del hiperparámetro"
   ]
  },
  {
   "cell_type": "markdown",
   "id": "882849ee",
   "metadata": {},
   "source": [
    "### 4.1. Naive Bayes multinomial (Enzo)\n"
   ]
  },
  {
   "cell_type": "code",
   "execution_count": 1,
   "id": "3f470ef9",
   "metadata": {},
   "outputs": [],
   "source": [
    "## 4.1.1. Categorización de edad (o no :/)"
   ]
  },
  {
   "cell_type": "code",
   "execution_count": null,
   "id": "e78870f3",
   "metadata": {},
   "outputs": [],
   "source": []
  }
 ],
 "metadata": {
  "interpreter": {
   "hash": "6ac88a8a1a8cc340d2b05566e22fde7412d1d718644d4b1167688fa7d4044e9b"
  },
  "kernelspec": {
   "display_name": "Python 3 (ipykernel)",
   "language": "python",
   "name": "python3"
  },
  "language_info": {
   "codemirror_mode": {
    "name": "ipython",
    "version": 3
   },
   "file_extension": ".py",
   "mimetype": "text/x-python",
   "name": "python",
   "nbconvert_exporter": "python",
   "pygments_lexer": "ipython3",
   "version": "3.8.12"
  }
 },
 "nbformat": 4,
 "nbformat_minor": 5
}
