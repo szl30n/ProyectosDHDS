{
 "cells": [
  {
   "cell_type": "markdown",
   "id": "c27b97b0",
   "metadata": {},
   "source": [
    "# **1. Importación de *modules***"
   ]
  },
  {
   "cell_type": "code",
   "execution_count": 6,
   "id": "ab565d16",
   "metadata": {},
   "outputs": [],
   "source": [
    "import numpy as np\n",
    "import pandas as pd\n",
    "\n",
    "import seaborn as sns\n",
    "import matplotlib.pyplot as plt\n",
    "import plotly.express as px\n",
    "\n",
    "from sklearn.model_selection import train_test_split\n",
    "from sklearn.naive_bayes import GaussianNB\n",
    "from sklearn.neighbors import KNeighborsClassifier\n",
    "from sklearn.metrics import confusion_matrix\n",
    "from sklearn.metrics import f1_score\n",
    "from sklearn.metrics import classification_report\n",
    "from sklearn.metrics import roc_auc_score\n",
    "from sklearn.linear_model import LogisticRegression\n",
    "\n",
    "from IPython.core.interactiveshell import InteractiveShell\n",
    "InteractiveShell.ast_node_interactivity = \"all\"\n",
    "%config Completer.use_jedi = False\n",
    "import warnings\n",
    "warnings.filterwarnings(\"ignore\")\n",
    "\n",
    "import funciones as f"
   ]
  },
  {
   "cell_type": "markdown",
   "id": "4a6f0d24",
   "metadata": {
    "heading_collapsed": "true"
   },
   "source": [
    "# **2. Importación del dataset patient_covid.csv**"
   ]
  },
  {
   "cell_type": "code",
   "execution_count": 7,
   "id": "f8b011d1",
   "metadata": {},
   "outputs": [
    {
     "name": "stdout",
     "output_type": "stream",
     "text": [
      "  sex  inpatient pneumonia  age pregnant diabetes copd asthma  \\\n",
      "0   F          1         N   42      NaN        N    N      Y   \n",
      "1   M          1         N   51        N        N    N      N   \n",
      "2   F          2         N   51      NaN        Y    N      N   \n",
      "\n",
      "  immunosuppression hypertension other_diseases cardiovascular obesity  \\\n",
      "0                 N            N              N              N       N   \n",
      "1                 N            N              N              N       N   \n",
      "2                 N            Y              N              N       Y   \n",
      "\n",
      "  chronic_kidney_failure smoker covid  \n",
      "0                      N      N     Y  \n",
      "1                      N      N     Y  \n",
      "2                      N      N     Y  \n",
      "(95244, 16)\n"
     ]
    }
   ],
   "source": [
    "data = pd.read_csv(\"../data/patient_covid.csv\", sep = \",\", low_memory=False) \n",
    "f._get_info(data)"
   ]
  },
  {
   "cell_type": "markdown",
   "id": "8094d051",
   "metadata": {},
   "source": [
    "# **3. Tratamiento de los datos**"
   ]
  },
  {
   "cell_type": "markdown",
   "id": "77451814",
   "metadata": {},
   "source": [
    "# **4.Modelos**"
   ]
  },
  {
   "cell_type": "markdown",
   "id": "030354b3",
   "metadata": {},
   "source": [
    "## 4.1. Regresión logística  (Mae)"
   ]
  },
  {
   "cell_type": "markdown",
   "id": "3a3cccc8",
   "metadata": {},
   "source": [
    "## 4.2. KNN  (Marce y Dani)"
   ]
  },
  {
   "cell_type": "code",
   "execution_count": null,
   "id": "0b28e71c",
   "metadata": {},
   "outputs": [],
   "source": []
  },
  {
   "cell_type": "code",
   "execution_count": null,
   "id": "f6faac05",
   "metadata": {},
   "outputs": [],
   "source": []
  },
  {
   "cell_type": "markdown",
   "id": "0b1acf06",
   "metadata": {},
   "source": [
    "### 4.2.1. Búsqueda y selección del hiperparámetro"
   ]
  },
  {
   "cell_type": "markdown",
   "id": "d67dc89a",
   "metadata": {},
   "source": [
    "### 4.1. Naive Bayes multinomial (Enzo)\n"
   ]
  },
  {
   "cell_type": "code",
   "execution_count": 1,
   "id": "ad7cafbd",
   "metadata": {},
   "outputs": [],
   "source": [
    "## 4.1.1. Categorización de edad (o no :/)"
   ]
  },
  {
   "cell_type": "code",
   "execution_count": null,
   "id": "a5eecb55",
   "metadata": {},
   "outputs": [],
   "source": []
  }
 ],
 "metadata": {
  "interpreter": {
   "hash": "6ac88a8a1a8cc340d2b05566e22fde7412d1d718644d4b1167688fa7d4044e9b"
  },
  "kernelspec": {
   "display_name": "Python 3 (ipykernel)",
   "language": "python",
   "name": "python3"
  },
  "language_info": {
   "codemirror_mode": {
    "name": "ipython",
    "version": 3
   },
   "file_extension": ".py",
   "mimetype": "text/x-python",
   "name": "python",
   "nbconvert_exporter": "python",
   "pygments_lexer": "ipython3",
   "version": "3.8.12"
  }
 },
 "nbformat": 4,
 "nbformat_minor": 5
}
