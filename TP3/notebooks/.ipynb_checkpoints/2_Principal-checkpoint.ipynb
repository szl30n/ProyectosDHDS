{
 "cells": [
  {
   "cell_type": "markdown",
   "id": "a61c705a",
   "metadata": {
    "heading_collapsed": "true",
    "id": "a61c705a"
   },
   "source": [
    "## Tabla de Contenidos"
   ]
  },
  {
   "cell_type": "markdown",
   "id": "8bb810b7",
   "metadata": {
    "id": "8bb810b7"
   },
   "source": [
    "1. <a href='#section_Importacion_de_modules'>Importación de modules</a>\n",
    "2. <a href='#section_Importacion_de_dataset'>Importación del dataset patient_covid.csv</a>\n",
    "3. <a href='#section_Modelos'>Modelos</a> \n",
    "</br>3.1 <a href='#section_KNN'>KNN</a>\n",
    "</br>3.2 <a href='#section_rl'>Regresión logística</a>\n",
    "</br>3.3 <a href='#section_nbm'>Naive Bayes multinomial</a>\n",
    "4. <a href='#section_1'>otro1</a> \n",
    "\n",
    "------------\n",
    "</br>3.1.1. <a href='#section_preparacion'>Preparar la matriz de _features_ y el vector _target_</a>\n",
    "</br>3.1.1. <a href='#section_optimizando'>Optimizando el valor de _k_</a>\n",
    "</br>3.1.2. <a href=\"#section_confusion\">Matriz de confusión</a>\n",
    "</br>3.1.3. <a href=\"#section_conclusion\">Conclusión</a>\n"
   ]
  },
  {
   "cell_type": "markdown",
   "id": "2bed4e43",
   "metadata": {
    "heading_collapsed": "true",
    "id": "2bed4e43"
   },
   "source": [
    "# **1. Importación de *modules***\n",
    "<a id=\"section_Importacion_de_modules\"></a>"
   ]
  },
  {
   "cell_type": "code",
   "execution_count": 1,
   "id": "b29a01af",
   "metadata": {
    "colab": {
     "base_uri": "https://localhost:8080/"
    },
    "executionInfo": {
     "elapsed": 6420,
     "status": "ok",
     "timestamp": 1656093925942,
     "user": {
      "displayName": "Maela Lombardi",
      "userId": "03936068368896012188"
     },
     "user_tz": 180
    },
    "id": "b29a01af",
    "outputId": "dee76298-dc06-4d9a-8119-1639412fedb1"
   },
   "outputs": [
    {
     "name": "stdout",
     "output_type": "stream",
     "text": [
      "Requirement already satisfied: graphviz in c:\\users\\msaied\\anaconda3\\envs\\ds\\lib\\site-packages (0.15)\n",
      "Requirement already satisfied: pydotplus in c:\\users\\msaied\\anaconda3\\envs\\ds\\lib\\site-packages (2.0.2)\n",
      "Requirement already satisfied: pyparsing>=2.0.1 in c:\\users\\msaied\\anaconda3\\envs\\ds\\lib\\site-packages (from pydotplus) (3.0.7)\n"
     ]
    }
   ],
   "source": [
    "import numpy as np\n",
    "import pandas as pd\n",
    "\n",
    "import seaborn as sns\n",
    "import matplotlib.pyplot as plt\n",
    "import plotly.express as px\n",
    "\n",
    "from sklearn import metrics\n",
    "from sklearn.model_selection import GridSearchCV,train_test_split,cross_val_score, KFold\n",
    "from sklearn.model_selection import StratifiedKFold\n",
    "from sklearn.model_selection import RandomizedSearchCV\n",
    "from sklearn.metrics import confusion_matrix, accuracy_score ,f1_score ,classification_report , confusion_matrix\n",
    "from sklearn.metrics import roc_auc_score\n",
    "from sklearn.preprocessing import normalize, StandardScaler\n",
    "\n",
    "from sklearn.naive_bayes import MultinomialNB\n",
    "from sklearn.neighbors import KNeighborsClassifier\n",
    "from sklearn.linear_model import LogisticRegression\n",
    "from sklearn import tree\n",
    "\n",
    "from IPython.core.interactiveshell import InteractiveShell\n",
    "InteractiveShell.ast_node_interactivity = \"all\"\n",
    "%config Completer.use_jedi = False\n",
    "import warnings\n",
    "warnings.filterwarnings(\"ignore\")\n",
    "\n",
    "import funciones as f\n",
    "\n",
    "\n",
    "!pip install graphviz\n",
    "!pip install pydotplus\n",
    "\n",
    "from IPython.display import Image\n",
    "import pydotplus"
   ]
  },
  {
   "cell_type": "markdown",
   "id": "d89fe749",
   "metadata": {
    "heading_collapsed": "true",
    "id": "d89fe749"
   },
   "source": [
    "# **2. Importación del dataset patient_covid.csv**\n",
    "<a id=\"section_Importacion_de_dataset\"></a>"
   ]
  },
  {
   "cell_type": "code",
   "execution_count": 2,
   "id": "003335bc",
   "metadata": {
    "id": "003335bc"
   },
   "outputs": [
    {
     "name": "stdout",
     "output_type": "stream",
     "text": [
      "(95244, 29)\n"
     ]
    },
    {
     "data": {
      "text/html": [
       "<div>\n",
       "<style scoped>\n",
       "    .dataframe tbody tr th:only-of-type {\n",
       "        vertical-align: middle;\n",
       "    }\n",
       "\n",
       "    .dataframe tbody tr th {\n",
       "        vertical-align: top;\n",
       "    }\n",
       "\n",
       "    .dataframe thead th {\n",
       "        text-align: right;\n",
       "    }\n",
       "</style>\n",
       "<table border=\"1\" class=\"dataframe\">\n",
       "  <thead>\n",
       "    <tr style=\"text-align: right;\">\n",
       "      <th></th>\n",
       "      <th>inpatient</th>\n",
       "      <th>agegroup_10-19</th>\n",
       "      <th>agegroup_20-29</th>\n",
       "      <th>agegroup_30-39</th>\n",
       "      <th>agegroup_40-49</th>\n",
       "      <th>agegroup_50-59</th>\n",
       "      <th>agegroup_60-69</th>\n",
       "      <th>agegroup_70-79</th>\n",
       "      <th>agegroup_80-89</th>\n",
       "      <th>agegroup_90-99</th>\n",
       "      <th>...</th>\n",
       "      <th>diabetes_Y</th>\n",
       "      <th>hypertension_Y</th>\n",
       "      <th>immunosuppression_Y</th>\n",
       "      <th>obesity_Y</th>\n",
       "      <th>other_diseases_NOA</th>\n",
       "      <th>other_diseases_Y</th>\n",
       "      <th>pneumonia_Y</th>\n",
       "      <th>pregnant_Y</th>\n",
       "      <th>sex_M</th>\n",
       "      <th>smoker_Y</th>\n",
       "    </tr>\n",
       "  </thead>\n",
       "  <tbody>\n",
       "    <tr>\n",
       "      <th>0</th>\n",
       "      <td>0</td>\n",
       "      <td>0</td>\n",
       "      <td>0</td>\n",
       "      <td>0</td>\n",
       "      <td>1</td>\n",
       "      <td>0</td>\n",
       "      <td>0</td>\n",
       "      <td>0</td>\n",
       "      <td>0</td>\n",
       "      <td>0</td>\n",
       "      <td>...</td>\n",
       "      <td>0</td>\n",
       "      <td>0</td>\n",
       "      <td>0</td>\n",
       "      <td>0</td>\n",
       "      <td>0</td>\n",
       "      <td>0</td>\n",
       "      <td>0</td>\n",
       "      <td>0</td>\n",
       "      <td>1</td>\n",
       "      <td>0</td>\n",
       "    </tr>\n",
       "    <tr>\n",
       "      <th>1</th>\n",
       "      <td>0</td>\n",
       "      <td>0</td>\n",
       "      <td>0</td>\n",
       "      <td>0</td>\n",
       "      <td>0</td>\n",
       "      <td>1</td>\n",
       "      <td>0</td>\n",
       "      <td>0</td>\n",
       "      <td>0</td>\n",
       "      <td>0</td>\n",
       "      <td>...</td>\n",
       "      <td>0</td>\n",
       "      <td>0</td>\n",
       "      <td>0</td>\n",
       "      <td>0</td>\n",
       "      <td>0</td>\n",
       "      <td>0</td>\n",
       "      <td>0</td>\n",
       "      <td>0</td>\n",
       "      <td>0</td>\n",
       "      <td>0</td>\n",
       "    </tr>\n",
       "    <tr>\n",
       "      <th>2</th>\n",
       "      <td>1</td>\n",
       "      <td>0</td>\n",
       "      <td>0</td>\n",
       "      <td>0</td>\n",
       "      <td>0</td>\n",
       "      <td>1</td>\n",
       "      <td>0</td>\n",
       "      <td>0</td>\n",
       "      <td>0</td>\n",
       "      <td>0</td>\n",
       "      <td>...</td>\n",
       "      <td>1</td>\n",
       "      <td>1</td>\n",
       "      <td>0</td>\n",
       "      <td>1</td>\n",
       "      <td>0</td>\n",
       "      <td>0</td>\n",
       "      <td>0</td>\n",
       "      <td>0</td>\n",
       "      <td>1</td>\n",
       "      <td>0</td>\n",
       "    </tr>\n",
       "  </tbody>\n",
       "</table>\n",
       "<p>3 rows × 29 columns</p>\n",
       "</div>"
      ],
      "text/plain": [
       "   inpatient  agegroup_10-19  agegroup_20-29  agegroup_30-39  agegroup_40-49  \\\n",
       "0          0               0               0               0               1   \n",
       "1          0               0               0               0               0   \n",
       "2          1               0               0               0               0   \n",
       "\n",
       "   agegroup_50-59  agegroup_60-69  agegroup_70-79  agegroup_80-89  \\\n",
       "0               0               0               0               0   \n",
       "1               1               0               0               0   \n",
       "2               1               0               0               0   \n",
       "\n",
       "   agegroup_90-99  ...  diabetes_Y  hypertension_Y  immunosuppression_Y  \\\n",
       "0               0  ...           0               0                    0   \n",
       "1               0  ...           0               0                    0   \n",
       "2               0  ...           1               1                    0   \n",
       "\n",
       "   obesity_Y  other_diseases_NOA  other_diseases_Y  pneumonia_Y  pregnant_Y  \\\n",
       "0          0                   0                 0            0           0   \n",
       "1          0                   0                 0            0           0   \n",
       "2          1                   0                 0            0           0   \n",
       "\n",
       "   sex_M  smoker_Y  \n",
       "0      1         0  \n",
       "1      0         0  \n",
       "2      1         0  \n",
       "\n",
       "[3 rows x 29 columns]"
      ]
     },
     "execution_count": 2,
     "metadata": {},
     "output_type": "execute_result"
    }
   ],
   "source": [
    "data_covid = pd.read_csv(\"../data/patient_covid.csv\", sep = \",\", low_memory=False) \n",
    "f._get_info(data_covid)"
   ]
  },
  {
   "cell_type": "markdown",
   "id": "321a45dc",
   "metadata": {
    "id": "321a45dc"
   },
   "source": [
    "# **3.Machine Learning Algorithms**\n",
    "<a id=\"section_Modelos\"></a>"
   ]
  },
  {
   "cell_type": "markdown",
   "id": "d60ed1a9",
   "metadata": {
    "heading_collapsed": "true",
    "id": "d60ed1a9"
   },
   "source": [
    "## **3.1. Preparar la matriz de _features_ y el vector _target y Train-test_** <a id=\"section_rl\"></a>\n",
    "\n"
   ]
  },
  {
   "cell_type": "code",
   "execution_count": 3,
   "id": "4d41162f",
   "metadata": {
    "colab": {
     "base_uri": "https://localhost:8080/"
    },
    "executionInfo": {
     "elapsed": 230,
     "status": "ok",
     "timestamp": 1656093941083,
     "user": {
      "displayName": "Maela Lombardi",
      "userId": "03936068368896012188"
     },
     "user_tz": 180
    },
    "id": "4d41162f",
    "outputId": "b1b46561-be01-4f74-b146-bdb9bf23da55"
   },
   "outputs": [
    {
     "data": {
      "text/plain": [
       "0    0.734629\n",
       "1    0.265371\n",
       "Name: inpatient, dtype: float64"
      ]
     },
     "execution_count": 3,
     "metadata": {},
     "output_type": "execute_result"
    }
   ],
   "source": [
    "data_covid['inpatient'].value_counts(normalize=True)"
   ]
  },
  {
   "cell_type": "code",
   "execution_count": 4,
   "id": "eb4d6fa7",
   "metadata": {
    "id": "eb4d6fa7"
   },
   "outputs": [],
   "source": [
    "X = data_covid.drop([\"inpatient\"],axis=1)\n",
    "y = data_covid['inpatient']\n",
    "#f._get_info(X)"
   ]
  },
  {
   "cell_type": "code",
   "execution_count": 5,
   "id": "14564792",
   "metadata": {
    "colab": {
     "base_uri": "https://localhost:8080/",
     "height": 200
    },
    "executionInfo": {
     "elapsed": 244,
     "status": "ok",
     "timestamp": 1656093947183,
     "user": {
      "displayName": "Maela Lombardi",
      "userId": "03936068368896012188"
     },
     "user_tz": 180
    },
    "id": "14564792",
    "outputId": "742a7e8c-90f4-4055-a877-76339d910e6a"
   },
   "outputs": [
    {
     "data": {
      "text/plain": [
       "0    0.735\n",
       "1    0.265\n",
       "Name: inpatient, dtype: float64"
      ]
     },
     "metadata": {},
     "output_type": "display_data"
    },
    {
     "data": {
      "text/plain": [
       "0    0.735\n",
       "1    0.265\n",
       "Name: inpatient, dtype: float64"
      ]
     },
     "metadata": {},
     "output_type": "display_data"
    },
    {
     "name": "stdout",
     "output_type": "stream",
     "text": [
      "X_train: 57146\n",
      "y_train: 57146\n",
      "X_test: 38098\n",
      "y_test: 38098\n"
     ]
    }
   ],
   "source": [
    "X_train, X_test, y_train, y_test = train_test_split(X, y, test_size=0.4, stratify=data_covid['inpatient'],random_state=123)\n",
    "display(y_train.value_counts(normalize=True).round(3))\n",
    "display(y_test.value_counts(normalize=True).round(3))\n",
    "\n",
    "print (\"X_train:\" , X_train.shape[0])\n",
    "print (\"y_train:\" , y_train.shape[0])\n",
    "print (\"X_test:\" , X_test.shape[0])\n",
    "print (\"y_test:\" , y_test.shape[0])"
   ]
  },
  {
   "cell_type": "markdown",
   "id": "a7393957",
   "metadata": {
    "id": "a7393957"
   },
   "source": [
    "## **3.2 Modelos con parámetros por defecto**"
   ]
  },
  {
   "cell_type": "markdown",
   "id": "3d7980ed",
   "metadata": {
    "heading_collapsed": "true",
    "id": "3d7980ed"
   },
   "source": [
    "### 3.2.1 Entrenamiento y Scoring"
   ]
  },
  {
   "cell_type": "code",
   "execution_count": 23,
   "id": "4f95ab7b",
   "metadata": {
    "colab": {
     "base_uri": "https://localhost:8080/"
    },
    "executionInfo": {
     "elapsed": 54686,
     "status": "ok",
     "timestamp": 1656095015442,
     "user": {
      "displayName": "Maela Lombardi",
      "userId": "03936068368896012188"
     },
     "user_tz": 180
    },
    "id": "4f95ab7b",
    "outputId": "2844efcc-b532-4a36-a823-e6abee91a4ba"
   },
   "outputs": [
    {
     "data": {
      "text/plain": [
       "MultinomialNB()"
      ]
     },
     "execution_count": 23,
     "metadata": {},
     "output_type": "execute_result"
    },
    {
     "data": {
      "text/plain": [
       "DecisionTreeClassifier(random_state=40)"
      ]
     },
     "execution_count": 23,
     "metadata": {},
     "output_type": "execute_result"
    },
    {
     "data": {
      "text/plain": [
       "KNeighborsClassifier()"
      ]
     },
     "execution_count": 23,
     "metadata": {},
     "output_type": "execute_result"
    },
    {
     "data": {
      "text/plain": [
       "LogisticRegression(class_weight='balance')"
      ]
     },
     "execution_count": 23,
     "metadata": {},
     "output_type": "execute_result"
    },
    {
     "name": "stdout",
     "output_type": "stream",
     "text": [
      "Naive Bayes Acc Score:    \t 0.8489\n",
      "KNN Acc Score:\t\t\t 0.8491\n",
      "Logistic Regression Acc Score:   0.8726\n",
      "Tree classification Acc Score:   0.8647\n"
     ]
    }
   ],
   "source": [
    "#Naive Bayes      \n",
    "nb=MultinomialNB()\n",
    "nb.fit(X_train, y_train)\n",
    "y_pred_nb = nb.predict(X_test)\n",
    "score_nb = accuracy_score(y_test,y_pred_nb).round(4)\n",
    "\n",
    "#Tree Classification\n",
    "clftree = tree.DecisionTreeClassifier(random_state=40)\n",
    "clftree.fit(X_train, y_train)\n",
    "y_pred_t = clftree.predict(X_test)\n",
    "score_t = accuracy_score(y_test, y_pred_t).round(4)\n",
    "\n",
    "#--------scaler -----------\n",
    "scaler = StandardScaler()\n",
    "X_train_std = scaler.fit_transform(X_train)\n",
    "X_test_std = scaler.transform(X_test)\n",
    "\n",
    "#KNN (acá no especificamos n_neighbors y queda el que viene por defecto)\n",
    "knn = KNeighborsClassifier()\n",
    "knn.fit(X_train_std, y_train)\n",
    "y_pred_knn = knn.predict(X_test_std)\n",
    "score_knn=accuracy_score(y_test, y_pred_knn).round(4)\n",
    "\n",
    "#Logistic regression (con StandarScaler)\n",
    "lr = LogisticRegression(class_weight=\"balance\")\n",
    "lr.fit(X_train_std, y_train)\n",
    "y_pred_lr = lr.predict(X_test_std)\n",
    "score_lr= accuracy_score(y_test, y_pred_lr).round(4)\n",
    "\n",
    "#Scores\n",
    "print (\"Naive Bayes Acc Score:    \\t\",score_nb)\n",
    "print (\"KNN Acc Score:\\t\\t\\t\", score_knn)\n",
    "print (\"Logistic Regression Acc Score:  \", score_lr)\n",
    "print (\"Tree classification Acc Score:  \", score_t)"
   ]
  },
  {
   "cell_type": "markdown",
   "id": "608d2ba6",
   "metadata": {
    "heading_collapsed": "true",
    "id": "608d2ba6"
   },
   "source": [
    "### 3.2.2 Confusion_matrix"
   ]
  },
  {
   "cell_type": "markdown",
   "id": "98e49d87",
   "metadata": {
    "id": "98e49d87"
   },
   "source": [
    "<img src=\"http://acnalert.eastus.cloudapp.azure.com/2/ds/Confusion.jpg\" alt=\"Matriz confusion\">"
   ]
  },
  {
   "cell_type": "code",
   "execution_count": 7,
   "id": "84289f2f",
   "metadata": {
    "colab": {
     "base_uri": "https://localhost:8080/"
    },
    "executionInfo": {
     "elapsed": 220,
     "status": "ok",
     "timestamp": 1656095190110,
     "user": {
      "displayName": "Maela Lombardi",
      "userId": "03936068368896012188"
     },
     "user_tz": 180
    },
    "id": "84289f2f",
    "outputId": "5d075023-082c-460e-e591-e454987ed98a"
   },
   "outputs": [
    {
     "name": "stdout",
     "output_type": "stream",
     "text": [
      "X_test: 38098\n",
      "y_test: 38098\n",
      "CM NB:\n",
      " [[25936  2052]\n",
      " [ 3706  6404]]\n",
      "CM KNN:\n",
      " [[26469  1519]\n",
      " [ 3729  6381]]\n",
      "CM LR:\n",
      " [[26788  1200]\n",
      " [ 3653  6457]]\n",
      "T LR:\n",
      " [[26512  1476]\n",
      " [ 3680  6430]]\n"
     ]
    }
   ],
   "source": [
    "print (\"X_test:\" , X_test.shape[0])\n",
    "print (\"y_test:\" , y_test.shape[0])\n",
    "print(\"CM NB:\\n\", confusion_matrix(y_test, y_pred_nb))\n",
    "print(\"CM KNN:\\n\",confusion_matrix(y_test, y_pred_knn))\n",
    "print(\"CM LR:\\n\", confusion_matrix(y_test, y_pred_lr))\n",
    "print(\"T LR:\\n\",  confusion_matrix(y_test, y_pred_t))"
   ]
  },
  {
   "cell_type": "code",
   "execution_count": 13,
   "id": "07f79a85",
   "metadata": {
    "id": "07f79a85",
    "outputId": "85909cd8-e163-4539-82b6-f92ad272f624"
   },
   "outputs": [
    {
     "name": "stdout",
     "output_type": "stream",
     "text": [
      "[[0.6808 0.0539]\n",
      " [0.0973 0.1681]]\n"
     ]
    },
    {
     "data": {
      "image/png": "[encoded data removed]",
      "text/plain": [
       "<Figure size 576x360 with 2 Axes>"
      ]
     },
     "metadata": {
      "needs_background": "light"
     },
     "output_type": "display_data"
    }
   ],
   "source": [
    "f._print_matriz_confusion(y_test, y_pred_nb,\"Naive Bayes Matriz Confusion %\", 'all')"
   ]
  },
  {
   "cell_type": "code",
   "execution_count": 14,
   "id": "9d02a1a8",
   "metadata": {
    "id": "9d02a1a8",
    "outputId": "0b113b8a-af50-45a3-bc36-45b81b7d4fe1"
   },
   "outputs": [
    {
     "name": "stdout",
     "output_type": "stream",
     "text": [
      "[[0.6948 0.0399]\n",
      " [0.0979 0.1675]]\n"
     ]
    },
    {
     "data": {
      "image/png": "[encoded data removed]",
      "text/plain": [
       "<Figure size 576x360 with 2 Axes>"
      ]
     },
     "metadata": {
      "needs_background": "light"
     },
     "output_type": "display_data"
    }
   ],
   "source": [
    "f._print_matriz_confusion(y_test, y_pred_knn,\"KNN Matriz Confusion %\", 'all')"
   ]
  },
  {
   "cell_type": "code",
   "execution_count": 15,
   "id": "7110da8f",
   "metadata": {
    "id": "7110da8f",
    "outputId": "60fa5e4a-3f7e-45f8-ef7d-06b3b604e5a0"
   },
   "outputs": [
    {
     "name": "stdout",
     "output_type": "stream",
     "text": [
      "[[0.7031 0.0315]\n",
      " [0.0959 0.1695]]\n"
     ]
    },
    {
     "data": {
      "image/png": "[encoded data removed]",
      "text/plain": [
       "<Figure size 576x360 with 2 Axes>"
      ]
     },
     "metadata": {
      "needs_background": "light"
     },
     "output_type": "display_data"
    }
   ],
   "source": [
    "f._print_matriz_confusion(y_test, y_pred_lr,\"Linear Regression Matriz Confusion %\", 'all')"
   ]
  },
  {
   "cell_type": "code",
   "execution_count": 16,
   "id": "885b35ea",
   "metadata": {
    "id": "885b35ea",
    "outputId": "12998fdf-bb56-4d03-efc8-b6969fb2934b"
   },
   "outputs": [
    {
     "name": "stdout",
     "output_type": "stream",
     "text": [
      "[[0.6959 0.0387]\n",
      " [0.0966 0.1688]]\n"
     ]
    },
    {
     "data": {
      "image/png": "[encoded data removed]",
      "text/plain": [
       "<Figure size 576x360 with 2 Axes>"
      ]
     },
     "metadata": {
      "needs_background": "light"
     },
     "output_type": "display_data"
    }
   ],
   "source": [
    "f._print_matriz_confusion(y_test, y_pred_t,\"Tree Matriz Confusion %\", 'all')"
   ]
  },
  {
   "cell_type": "markdown",
   "id": "6afdc4a0",
   "metadata": {
    "heading_collapsed": "true",
    "id": "6afdc4a0"
   },
   "source": [
    "### 3.2.3 Recall, Precision and F-1 Score"
   ]
  },
  {
   "cell_type": "markdown",
   "id": "e72c2ecf",
   "metadata": {
    "id": "e72c2ecf"
   },
   "source": [
    "* Recall    =  TP / (TP + FN)\n",
    "* Precision = TP / (TP + FP) \n",
    "* F-Measure = (2 * Precision * Recall) / (Precision + Recall)"
   ]
  },
  {
   "cell_type": "code",
   "execution_count": 17,
   "id": "8139e28b",
   "metadata": {
    "colab": {
     "base_uri": "https://localhost:8080/"
    },
    "executionInfo": {
     "elapsed": 627,
     "status": "ok",
     "timestamp": 1656095243064,
     "user": {
      "displayName": "Maela Lombardi",
      "userId": "03936068368896012188"
     },
     "user_tz": 180
    },
    "id": "8139e28b",
    "outputId": "1cdd239f-2c9c-4dd2-d98c-20a7c6a83b5a"
   },
   "outputs": [
    {
     "name": "stdout",
     "output_type": "stream",
     "text": [
      "NB:\n",
      "               precision    recall  f1-score   support\n",
      "\n",
      "           0       0.87      0.93      0.90     27988\n",
      "           1       0.76      0.63      0.69     10110\n",
      "\n",
      "    accuracy                           0.85     38098\n",
      "   macro avg       0.82      0.78      0.79     38098\n",
      "weighted avg       0.84      0.85      0.84     38098\n",
      "\n",
      "KNN:\n",
      "               precision    recall  f1-score   support\n",
      "\n",
      "           0       0.88      0.95      0.91     27988\n",
      "           1       0.81      0.63      0.71     10110\n",
      "\n",
      "    accuracy                           0.86     38098\n",
      "   macro avg       0.84      0.79      0.81     38098\n",
      "weighted avg       0.86      0.86      0.86     38098\n",
      "\n",
      "LR:\n",
      "               precision    recall  f1-score   support\n",
      "\n",
      "           0       0.88      0.96      0.92     27988\n",
      "           1       0.84      0.64      0.73     10110\n",
      "\n",
      "    accuracy                           0.87     38098\n",
      "   macro avg       0.86      0.80      0.82     38098\n",
      "weighted avg       0.87      0.87      0.87     38098\n",
      "\n",
      "T:\n",
      "               precision    recall  f1-score   support\n",
      "\n",
      "           0       0.88      0.95      0.91     27988\n",
      "           1       0.81      0.64      0.71     10110\n",
      "\n",
      "    accuracy                           0.86     38098\n",
      "   macro avg       0.85      0.79      0.81     38098\n",
      "weighted avg       0.86      0.86      0.86     38098\n",
      "\n"
     ]
    }
   ],
   "source": [
    "print(\"NB:\\n\", classification_report(y_test,y_pred_nb))\n",
    "print(\"KNN:\\n\", classification_report(y_test,y_pred_knn))\n",
    "print(\"LR:\\n\", classification_report(y_test,y_pred_lr))\n",
    "print(\"T:\\n\", classification_report(y_test,y_pred_t))"
   ]
  },
  {
   "cell_type": "code",
   "execution_count": 19,
   "id": "91e4cc83",
   "metadata": {
    "colab": {
     "base_uri": "https://localhost:8080/"
    },
    "executionInfo": {
     "elapsed": 348,
     "status": "ok",
     "timestamp": 1656095247144,
     "user": {
      "displayName": "Maela Lombardi",
      "userId": "03936068368896012188"
     },
     "user_tz": 180
    },
    "id": "91e4cc83",
    "outputId": "ec1f4469-5b22-4667-89aa-09a81e21de69"
   },
   "outputs": [
    {
     "name": "stdout",
     "output_type": "stream",
     "text": [
      "F1 Score NB:  0.6899\n",
      "F1 Score KNN: 0.7086\n",
      "F1 Score LR:  0.7269\n",
      "F1 Score T:   0.7138\n"
     ]
    }
   ],
   "source": [
    "print (\"F1 Score NB: \", f1_score(y_test,y_pred_nb).round(4))\n",
    "print (\"F1 Score KNN:\", f1_score(y_test,y_pred_knn).round(4))\n",
    "print (\"F1 Score LR: \", f1_score(y_test,y_pred_lr).round(4))\n",
    "print (\"F1 Score T:  \", f1_score(y_test,y_pred_t).round(4))"
   ]
  },
  {
   "cell_type": "markdown",
   "id": "f2bf7a8b",
   "metadata": {
    "heading_collapsed": "true",
    "id": "f2bf7a8b"
   },
   "source": [
    "### 3.2.4 ROC & AUC"
   ]
  },
  {
   "cell_type": "code",
   "execution_count": 20,
   "id": "f0be850d",
   "metadata": {
    "colab": {
     "base_uri": "https://localhost:8080/"
    },
    "executionInfo": {
     "elapsed": 47112,
     "status": "ok",
     "timestamp": 1656095303219,
     "user": {
      "displayName": "Maela Lombardi",
      "userId": "03936068368896012188"
     },
     "user_tz": 180
    },
    "id": "f0be850d",
    "outputId": "c6be6547-0323-479d-e83b-deca1f5f4227"
   },
   "outputs": [
    {
     "name": "stdout",
     "output_type": "stream",
     "text": [
      "ROC AUC NB:   0.7801\n",
      "ROC AUC KNN:  0.7884\n",
      "ROC AUC LR:   0.7979\n",
      "ROC AUC T:    0.7916\n"
     ]
    }
   ],
   "source": [
    "def _metric_AUC(X_t,y_t,y_pred,modelo):  # return roc_auc,fpr,tpr,threshold\n",
    "    probs=modelo.predict_proba(X_t)\n",
    "    preds=probs[:,1]\n",
    "    fpr,tpr,threshold=metrics.roc_curve(y_test, y_pred)\n",
    "    roc_auc=metrics.auc(fpr,tpr)\n",
    "    return roc_auc,fpr,tpr,threshold\n",
    "\n",
    "# return roc_auc,fpr,tpr,threshold\n",
    "#NB\n",
    "roc_auc_nb,fpr_nb,tpr_nb,threshold_nb=_metric_AUC(X_test,y_test,y_pred_nb,nb)\n",
    "#KNN\n",
    "roc_auc_knn,fpr_knn,tpr_knn,threshold_knn=_metric_AUC(X_test,y_test,y_pred_knn,knn)\n",
    "#LR\n",
    "roc_auc_lr,fpr_lr,tpr_lr,threshold_lr=_metric_AUC(X_test,y_test,y_pred_lr,lr)\n",
    "#T\n",
    "roc_auc_t,fpr_t,tpr_t,threshold_t=_metric_AUC(X_test,y_test,y_pred_t,clftree)\n",
    "print (\"ROC AUC NB:  \",  roc_auc_nb.round(4))\n",
    "print (\"ROC AUC KNN: \", roc_auc_knn.round(4))\n",
    "print (\"ROC AUC LR:  \",  roc_auc_lr.round(4))\n",
    "print (\"ROC AUC T:   \",   roc_auc_t.round(4))\n",
    "\n"
   ]
  },
  {
   "cell_type": "code",
   "execution_count": 22,
   "id": "cd8058d3",
   "metadata": {
    "colab": {
     "base_uri": "https://localhost:8080/",
     "height": 676
    },
    "executionInfo": {
     "elapsed": 732,
     "status": "ok",
     "timestamp": 1656095319162,
     "user": {
      "displayName": "Maela Lombardi",
      "userId": "03936068368896012188"
     },
     "user_tz": 180
    },
    "id": "cd8058d3",
    "outputId": "ff0962cd-cf33-4f75-c5ab-5f61e22b3d0c"
   },
   "outputs": [
    {
     "data": {
      "text/plain": [
       "Text(0.5, 1.0, 'ROC')"
      ]
     },
     "execution_count": 22,
     "metadata": {},
     "output_type": "execute_result"
    },
    {
     "data": {
      "text/plain": [
       "[<matplotlib.lines.Line2D at 0x25f13492550>]"
      ]
     },
     "execution_count": 22,
     "metadata": {},
     "output_type": "execute_result"
    },
    {
     "data": {
      "text/plain": [
       "[<matplotlib.lines.Line2D at 0x25f13492070>]"
      ]
     },
     "execution_count": 22,
     "metadata": {},
     "output_type": "execute_result"
    },
    {
     "data": {
      "text/plain": [
       "[<matplotlib.lines.Line2D at 0x25f13492a30>]"
      ]
     },
     "execution_count": 22,
     "metadata": {},
     "output_type": "execute_result"
    },
    {
     "data": {
      "text/plain": [
       "[<matplotlib.lines.Line2D at 0x25f13492220>]"
      ]
     },
     "execution_count": 22,
     "metadata": {},
     "output_type": "execute_result"
    },
    {
     "data": {
      "text/plain": [
       "<matplotlib.legend.Legend at 0x25f13495280>"
      ]
     },
     "execution_count": 22,
     "metadata": {},
     "output_type": "execute_result"
    },
    {
     "data": {
      "text/plain": [
       "[<matplotlib.lines.Line2D at 0x25f134ea760>]"
      ]
     },
     "execution_count": 22,
     "metadata": {},
     "output_type": "execute_result"
    },
    {
     "data": {
      "text/plain": [
       "(0.0, 1.0)"
      ]
     },
     "execution_count": 22,
     "metadata": {},
     "output_type": "execute_result"
    },
    {
     "data": {
      "text/plain": [
       "(0.0, 1.0)"
      ]
     },
     "execution_count": 22,
     "metadata": {},
     "output_type": "execute_result"
    },
    {
     "data": {
      "text/plain": [
       "Text(0, 0.5, 'True Positive Rate')"
      ]
     },
     "execution_count": 22,
     "metadata": {},
     "output_type": "execute_result"
    },
    {
     "data": {
      "text/plain": [
       "Text(0.5, 0, 'False Positive Rate')"
      ]
     },
     "execution_count": 22,
     "metadata": {},
     "output_type": "execute_result"
    },
    {
     "data": {
      "image/png": "[encoded data removed]",
      "text/plain": [
       "<Figure size 1080x432 with 1 Axes>"
      ]
     },
     "metadata": {
      "needs_background": "light"
     },
     "output_type": "display_data"
    }
   ],
   "source": [
    "plt.title(\"ROC\")\n",
    "plt.rcParams['figure.figsize'] = (19, 6)\n",
    "# return roc_auc,fpr,tpr,threshold\n",
    "plt.plot(fpr_nb, tpr_nb, 'g', label=\"NB\" )\n",
    "plt.plot(fpr_knn, tpr_knn, 'r', label=\"KNN\" )\n",
    "plt.plot(fpr_lr, tpr_lr, 'b', label=\"LR\" )\n",
    "plt.plot(fpr_t, tpr_t, 'c', label=\"T\" )\n",
    "\n",
    "plt.legend(loc=\"lower right\")\n",
    "plt.plot([0,1],[0,1],'r--')\n",
    "plt.xlim([0,1])\n",
    "plt.ylim([0,1])\n",
    "plt.ylabel('True Positive Rate')\n",
    "plt.xlabel('False Positive Rate')\n",
    "plt.show()"
   ]
  },
  {
   "cell_type": "markdown",
   "id": "55e35896",
   "metadata": {
    "id": "55e35896"
   },
   "source": [
    "## **3.3 Optimización de parámetros**\n",
    "\n",
    "\n"
   ]
  },
  {
   "cell_type": "markdown",
   "id": "7bda7ByJ-v8u",
   "metadata": {
    "id": "7bda7ByJ-v8u",
    "tags": []
   },
   "source": [
    "### ***3.3.1 Tree Classification***"
   ]
  },
  {
   "cell_type": "markdown",
   "id": "4889925d",
   "metadata": {
    "heading_collapsed": "true",
    "id": "4889925d",
    "jp-MarkdownHeadingCollapsed": true,
    "tags": []
   },
   "source": [
    "#### 3.3.1.1 Grafico previo a optimización Tree Classification"
   ]
  },
  {
   "cell_type": "code",
   "execution_count": null,
   "id": "132afe10",
   "metadata": {
    "id": "132afe10"
   },
   "outputs": [],
   "source": [
    "dot_data= tree.export_graphviz(clftree, out_file=None,feature_names= X_train.columns, filled = True)"
   ]
  },
  {
   "cell_type": "code",
   "execution_count": null,
   "id": "496bdae9",
   "metadata": {
    "colab": {
     "base_uri": "https://localhost:8080/",
     "height": 75,
     "output_embedded_package_id": "1TKXGABKoZdv7FSHetX29XA0VgHjRhS49"
    },
    "executionInfo": {
     "elapsed": 83808,
     "status": "ok",
     "timestamp": 1656095561180,
     "user": {
      "displayName": "Maela Lombardi",
      "userId": "03936068368896012188"
     },
     "user_tz": 180
    },
    "id": "496bdae9",
    "outputId": "734b767c-2715-4189-aede-cb5a8450f32d"
   },
   "outputs": [],
   "source": [
    "graph = pydotplus.graph_from_dot_data(dot_data)\n",
    "Image(graph.create_png())"
   ]
  },
  {
   "cell_type": "markdown",
   "id": "55ed4844",
   "metadata": {
    "heading_collapsed": "true",
    "id": "55ed4844",
    "tags": []
   },
   "source": [
    "#### 3.3.1.2 GridSearch para Tree Classification"
   ]
  },
  {
   "cell_type": "code",
   "execution_count": null,
   "id": "06390898",
   "metadata": {
    "id": "06390898"
   },
   "outputs": [],
   "source": [
    "params_grid = { \"criterion\" : [\"gini\", \"entropy\"],\n",
    "                \"min_samples_leaf\": [5,10,15,20,None], \n",
    "                \"max_depth\" : [1,2,3,4,5,6,8,9,10,11,None],\n",
    "                \"min_samples_split\": [2, 3, 4,None]}"
   ]
  },
  {
   "cell_type": "code",
   "execution_count": null,
   "id": "f392494e",
   "metadata": {
    "colab": {
     "base_uri": "https://localhost:8080/",
     "height": 145
    },
    "executionInfo": {
     "elapsed": 103297,
     "status": "ok",
     "timestamp": 1656095893525,
     "user": {
      "displayName": "Maela Lombardi",
      "userId": "03936068368896012188"
     },
     "user_tz": 180
    },
    "id": "f392494e",
    "outputId": "a9bf3135-8ab9-4f65-d7fb-d0e8e99af14b"
   },
   "outputs": [],
   "source": [
    "clftree = tree.DecisionTreeClassifier(random_state=40)\n",
    "grid_search = GridSearchCV(clftree, params_grid,\n",
    "                           n_jobs=-1, scoring='accuracy')\n",
    "grid_search.fit(X_train, y_train)\n",
    "\n",
    "display(grid_search.best_score_)\n"
   ]
  },
  {
   "cell_type": "markdown",
   "id": "46297050",
   "metadata": {
    "id": "46297050",
    "tags": []
   },
   "source": [
    "### 3.4.5 Tree Classification"
   ]
  },
  {
   "cell_type": "code",
   "execution_count": null,
   "id": "035d8fb4",
   "metadata": {
    "colab": {
     "base_uri": "https://localhost:8080/",
     "height": 143,
     "output_embedded_package_id": "1sWxUFuz75x4fr4rBj5vCkuYSsslazvM8"
    },
    "executionInfo": {
     "elapsed": 61179,
     "status": "ok",
     "timestamp": 1656096816954,
     "user": {
      "displayName": "Maela Lombardi",
      "userId": "03936068368896012188"
     },
     "user_tz": 180
    },
    "id": "035d8fb4",
    "outputId": "bfe559c7-387b-469a-965d-6ab240f13f30"
   },
   "outputs": [],
   "source": [
    "dot_data = tree.export_graphviz(cv_clf, out_file=None,feature_names= X_train.columns, filled = True)\n",
    "graph2 = pydotplus.graph_from_dot_data(dot_data)\n",
    "Image(graph2.create_png())"
   ]
  },
  {
   "cell_type": "markdown",
   "id": "kfci-W7S_MGn",
   "metadata": {
    "id": "kfci-W7S_MGn",
    "jp-MarkdownHeadingCollapsed": true,
    "tags": []
   },
   "source": [
    "### **3.3.2 Logistic Regression**\n"
   ]
  },
  {
   "cell_type": "markdown",
   "id": "41-5Mnpy_ere",
   "metadata": {
    "id": "41-5Mnpy_ere",
    "jp-MarkdownHeadingCollapsed": true,
    "tags": []
   },
   "source": [
    "#### 3.3.2.1 Summary of Feature Importance"
   ]
  },
  {
   "cell_type": "code",
   "execution_count": null,
   "id": "0d694104",
   "metadata": {
    "colab": {
     "base_uri": "https://localhost:8080/",
     "height": 639
    },
    "executionInfo": {
     "elapsed": 867,
     "status": "ok",
     "timestamp": 1656094093883,
     "user": {
      "displayName": "Maela Lombardi",
      "userId": "03936068368896012188"
     },
     "user_tz": 180
    },
    "id": "0d694104",
    "outputId": "f19d3701-6fe3-4ed6-b2c5-e269800c4696"
   },
   "outputs": [],
   "source": [
    "importance = lr.coef_.flatten()\n",
    "\n",
    "plt.rcParams[\"figure.figsize\"] =(10,10)\n",
    "plt.barh(X.columns,importance,color=\"g\")\n",
    "plt.title(\"Barplot Summary of Feature Importance\")\n",
    "plt.xlabel(\"score\")\n",
    "plt.show()"
   ]
  },
  {
   "cell_type": "markdown",
   "id": "-jhXCODO_ing",
   "metadata": {
    "id": "-jhXCODO_ing",
    "jp-MarkdownHeadingCollapsed": true,
    "tags": []
   },
   "source": [
    "#### 3.3.2.2 Regularización Lasso"
   ]
  },
  {
   "cell_type": "markdown",
   "id": "GI-Y_6FF_x0T",
   "metadata": {
    "id": "GI-Y_6FF_x0T"
   },
   "source": [
    "### **3.3.3 KNN**"
   ]
  },
  {
   "cell_type": "markdown",
   "id": "a0adb9c6-36b3-4d73-96e2-b9650fda0f40",
   "metadata": {},
   "source": [
    "## **3.4 gridsearch random   3 modelos juntos**"
   ]
  },
  {
   "cell_type": "markdown",
   "id": "a82c6a38",
   "metadata": {
    "heading_collapsed": "true",
    "id": "a82c6a38",
    "tags": []
   },
   "source": [
    "## **3.5 Modelos con parámetros optimizados**"
   ]
  },
  {
   "cell_type": "markdown",
   "id": "G2ue5vYCC2R5",
   "metadata": {
    "id": "G2ue5vYCC2R5",
    "tags": []
   },
   "source": [
    "### 3.4.1 Entrenamiento y Scoring"
   ]
  },
  {
   "cell_type": "code",
   "execution_count": null,
   "id": "c2cb0db5",
   "metadata": {
    "colab": {
     "base_uri": "https://localhost:8080/"
    },
    "executionInfo": {
     "elapsed": 52539,
     "status": "ok",
     "timestamp": 1656096471961,
     "user": {
      "displayName": "Maela Lombardi",
      "userId": "03936068368896012188"
     },
     "user_tz": 180
    },
    "id": "c2cb0db5",
    "outputId": "3c907316-a9f6-42df-a7eb-6ce3b80fa8c3"
   },
   "outputs": [],
   "source": [
    "#Naive Bayes\n",
    "nb=MultinomialNB()\n",
    "nb.fit(X_train, y_train)\n",
    "y_pred_nb = nb.predict(X_test)\n",
    "score_nb = accuracy_score(y_test,y_pred_nb).round(4)\n",
    "\n",
    "#KNN (poner en n_neighbors el best_params_ de GridSearch)\n",
    "knn=KNeighborsClassifier(n_neighbors=18)\n",
    "knn.fit(X_train, y_train)\n",
    "y_pred_knn = knn.predict(X_test)\n",
    "score_knn=accuracy_score(y_test, y_pred_knn).round(4)\n",
    "\n",
    "#Logistic regression (hacer regularización lasso y usar ese resultado de features)!!! no está hecho aún\n",
    "scaler = StandardScaler()\n",
    "X_train_std = scaler.fit_transform(X_train)\n",
    "X_test_std = scaler.transform(X_test)\n",
    "\n",
    "lr = LogisticRegression(class_weight=\"balance\")\n",
    "lr.fit(X_train_std, y_train)\n",
    "y_pred_lr = lr.predict(X_test_std)\n",
    "score_lr= accuracy_score(y_test, y_pred_lr).round(4)\n",
    "\n",
    "#Tree Classification\n",
    "cv_clf = grid_search.best_estimator_\n",
    "cv_clf.fit(X_train, y_train)\n",
    "y_pred_t = cv_clf.predict(X_test)\n",
    "score_t = accuracy_score(y_test, y_pred_t).round(4)\n",
    "\n",
    "#Score\n",
    "print (\"Naive Bayes Acc Score:\",score_nb)\n",
    "print (\"KNN Acc Score:\",score_knn)\n",
    "print (\"Logistic Regression Score:\", score_lr)\n",
    "print(\"Tree classification Score:\", score_t)"
   ]
  },
  {
   "cell_type": "markdown",
   "id": "3aab4723",
   "metadata": {
    "heading_collapsed": "true",
    "id": "3aab4723",
    "jp-MarkdownHeadingCollapsed": true,
    "tags": []
   },
   "source": [
    "### 3.4.2 Confusion_matrix"
   ]
  },
  {
   "cell_type": "code",
   "execution_count": null,
   "id": "51ab9aa8",
   "metadata": {
    "colab": {
     "base_uri": "https://localhost:8080/"
    },
    "executionInfo": {
     "elapsed": 240,
     "status": "ok",
     "timestamp": 1656096560980,
     "user": {
      "displayName": "Maela Lombardi",
      "userId": "03936068368896012188"
     },
     "user_tz": 180
    },
    "id": "51ab9aa8",
    "outputId": "f928e828-92b7-40d4-b2cd-ce550a7e35fc"
   },
   "outputs": [],
   "source": [
    "print(\"CM NB:\\n\", confusion_matrix(y_test, y_pred_nb))\n",
    "print(\"CM KNN:\\n\", confusion_matrix(y_test, y_pred_knn))\n",
    "print(\"CM LR:\\n\", confusion_matrix(y_test, y_pred_lr))\n",
    "print(\"T LR:\\n\", confusion_matrix(y_test, y_pred_t))"
   ]
  },
  {
   "cell_type": "markdown",
   "id": "0ed0b0a0",
   "metadata": {
    "heading_collapsed": "true",
    "id": "0ed0b0a0",
    "jp-MarkdownHeadingCollapsed": true,
    "tags": []
   },
   "source": [
    "### 3.4.3 Recall, Precision and F-1 Score\n"
   ]
  },
  {
   "cell_type": "markdown",
   "id": "bf83ad63",
   "metadata": {
    "id": "bf83ad63"
   },
   "source": [
    "* Recall    =  TP / (TP + FN)\n",
    "* Precision = TP / (TP + FP) \n",
    "* F-Measure = (2 * Precision * Recall) / (Precision + Recall)"
   ]
  },
  {
   "cell_type": "code",
   "execution_count": null,
   "id": "f6eee5c8",
   "metadata": {
    "colab": {
     "base_uri": "https://localhost:8080/"
    },
    "executionInfo": {
     "elapsed": 599,
     "status": "ok",
     "timestamp": 1656096583338,
     "user": {
      "displayName": "Maela Lombardi",
      "userId": "03936068368896012188"
     },
     "user_tz": 180
    },
    "id": "f6eee5c8",
    "outputId": "92789a7f-dd96-4d1a-a814-bb0f96b2b305"
   },
   "outputs": [],
   "source": [
    "print(\"NB:\\n\", classification_report(y_test,y_pred_nb))\n",
    "print(\"KNN:\\n\", classification_report(y_test,y_pred_knn))\n",
    "print(\"LR:\\n\", classification_report(y_test,y_pred_lr))\n",
    "print(\"T:\\n\", classification_report(y_test,y_pred_t))"
   ]
  },
  {
   "cell_type": "code",
   "execution_count": null,
   "id": "1ec9b459",
   "metadata": {
    "id": "1ec9b459"
   },
   "outputs": [],
   "source": [
    "print (\"F1 Score NB:\", f1_score(y_test,y_pred_nb))\n",
    "print (\"F1 Score KNN:\", f1_score(y_test,y_pred_knn))\n",
    "print (\"F1 Score LR:\", f1_score(y_test,y_pred_lr))\n",
    "print (\"F1 Score T:\", f1_score(y_test,y_pred_t))"
   ]
  },
  {
   "cell_type": "markdown",
   "id": "8a340d05",
   "metadata": {
    "heading_collapsed": "true",
    "id": "8a340d05",
    "jp-MarkdownHeadingCollapsed": true,
    "tags": []
   },
   "source": [
    "### 3.4.4 ROC & AUC"
   ]
  },
  {
   "cell_type": "code",
   "execution_count": null,
   "id": "12af1a66",
   "metadata": {
    "colab": {
     "base_uri": "https://localhost:8080/"
    },
    "executionInfo": {
     "elapsed": 45154,
     "status": "ok",
     "timestamp": 1656096686006,
     "user": {
      "displayName": "Maela Lombardi",
      "userId": "03936068368896012188"
     },
     "user_tz": 180
    },
    "id": "12af1a66",
    "outputId": "51f8e325-7363-414f-a346-d4a3aa1a2269"
   },
   "outputs": [],
   "source": [
    "#NB\n",
    "probs_nb=nb.predict_proba(X_test)\n",
    "preds_nb=probs_nb[:,1]\n",
    "fpr_nb,tpr_nb, threshold_nb =metrics.roc_curve(y_test, y_pred_nb)\n",
    "roc_auc_nb=metrics.auc(fpr_nb,tpr_nb)\n",
    "\n",
    "#KNN\n",
    "probs_knn=knn.predict_proba(X_test)\n",
    "preds_knn=probs_knn[:,1]\n",
    "fpr_knn,tpr_knn, threshold_knn =metrics.roc_curve(y_test, y_pred_knn)\n",
    "roc_auc_knn=metrics.auc(fpr_knn,tpr_knn)\n",
    "\n",
    "#LR\n",
    "probs_lr=lr.predict_proba(X_test_std)\n",
    "preds_lr=probs_lr[:,1]\n",
    "fpr_lr,tpr_lr, threshold_lr =metrics.roc_curve(y_test, y_pred_lr)\n",
    "roc_auc_lr=metrics.auc(fpr_lr,tpr_lr)\n",
    "\n",
    "#T\n",
    "probs_t=cv_clf.predict_proba(X_test)\n",
    "preds_t=probs_t[:,1]\n",
    "fpr_t,tpr_t, threshold_t =metrics.roc_curve(y_test, y_pred_t)\n",
    "roc_auc_t=metrics.auc(fpr_t,tpr_t)\n",
    "\n",
    "print (\"ROC AUC NB:\", roc_auc_nb)\n",
    "print (\"ROC AUC KNN:\", roc_auc_knn)\n",
    "print (\"ROC AUC LR:\", roc_auc_lr)\n",
    "print (\"ROC AUC T:\", roc_auc_t)"
   ]
  },
  {
   "cell_type": "code",
   "execution_count": null,
   "id": "de070a08",
   "metadata": {
    "colab": {
     "base_uri": "https://localhost:8080/",
     "height": 459
    },
    "executionInfo": {
     "elapsed": 868,
     "status": "ok",
     "timestamp": 1656096708162,
     "user": {
      "displayName": "Maela Lombardi",
      "userId": "03936068368896012188"
     },
     "user_tz": 180
    },
    "id": "de070a08",
    "outputId": "c9a5267c-4232-4eb3-8399-81994c55cd12"
   },
   "outputs": [],
   "source": [
    "plt.title(\"ROC\")\n",
    "\n",
    "plt.plot(fpr_nb, tpr_nb, 'g', label=\"NB\" % roc_auc_nb)\n",
    "plt.plot(fpr_knn, tpr_knn, 'r', label=\"KNN\" % roc_auc_nb)\n",
    "plt.plot(fpr_lr, tpr_lr, 'b', label=\"LR\" % roc_auc_nb)\n",
    "plt.plot(fpr_t, tpr_t, 'y', label=\"T\" % roc_auc_nb)\n",
    "\n",
    "plt.legend(loc=\"lower right\")\n",
    "plt.plot([0,1],[0,1],'r--')\n",
    "plt.xlim([0,1])\n",
    "plt.ylim([0,1])\n",
    "plt.ylabel('True Positive Rate')\n",
    "plt.xlabel('False Positive Rate')\n",
    "plt.show()"
   ]
  },
  {
   "cell_type": "markdown",
   "id": "q6Vcf5vODhS6",
   "metadata": {
    "id": "q6Vcf5vODhS6",
    "jp-MarkdownHeadingCollapsed": true,
    "tags": []
   },
   "source": [
    "### 3.4.6 LR Feature Importance"
   ]
  },
  {
   "cell_type": "code",
   "execution_count": null,
   "id": "5WNXeXLJD0xb",
   "metadata": {
    "id": "5WNXeXLJD0xb"
   },
   "outputs": [],
   "source": [
    "importance = lr.coef_.flatten()\n",
    "\n",
    "plt.rcParams[\"figure.figsize\"] =(10,10)\n",
    "plt.barh(X.columns,importance,color=\"g\")\n",
    "plt.title(\"Barplot Summary of Feature Importance\")\n",
    "plt.xlabel(\"score\")\n",
    "plt.show()"
   ]
  },
  {
   "cell_type": "markdown",
   "id": "3b5e88e0",
   "metadata": {
    "id": "3b5e88e0"
   },
   "source": [
    "# KNN marcelo dani (esto que tiene GridSearch hay que subirlo a 3.3.3)"
   ]
  },
  {
   "cell_type": "code",
   "execution_count": null,
   "id": "c9f4aa49",
   "metadata": {
    "id": "c9f4aa49"
   },
   "outputs": [],
   "source": []
  },
  {
   "cell_type": "markdown",
   "id": "effb0560",
   "metadata": {
    "id": "effb0560"
   },
   "source": [
    "#### ***Optimizando el valor de k***"
   ]
  },
  {
   "cell_type": "markdown",
   "id": "3a85ba56",
   "metadata": {
    "id": "3a85ba56"
   },
   "source": [
    "<font color='red'>cambio temporario de range(10, 31) a range(10, 21) y folds de 5 a 2</font>"
   ]
  },
  {
   "cell_type": "code",
   "execution_count": null,
   "id": "63a69a74",
   "metadata": {
    "id": "63a69a74"
   },
   "outputs": [],
   "source": [
    "# Definimos la estrategia de validación cruzada\n",
    "kf = KFold(n_splits=2, shuffle=True, random_state=12)\n",
    "scores_para_df_standard = []\n",
    "\n",
    "#for i in range(10, 31):\n",
    "for i in range(15, 26):\n",
    "    Model_knn = KNeighborsClassifier(n_neighbors=i)\n",
    "    cv_scores = cross_val_score(Model_knn, X_train, y_train, cv=kf)\n",
    "    dict_row_score = {'score_medio':np.mean(cv_scores),\n",
    "                      'score_std':np.std(cv_scores), 'n_neighbors':i}\n",
    "    scores_para_df_standard.append(dict_row_score)"
   ]
  },
  {
   "cell_type": "code",
   "execution_count": null,
   "id": "cf320bc9",
   "metadata": {
    "id": "cf320bc9"
   },
   "outputs": [],
   "source": [
    "# Creamos el DataFrame a partir de la lista de diccionarios\n",
    "df_scores_standard = pd.DataFrame(scores_para_df_standard)\n",
    "df_scores_standard.head()"
   ]
  },
  {
   "cell_type": "markdown",
   "id": "23c953a9",
   "metadata": {
    "id": "23c953a9"
   },
   "source": [
    "**Graficando la búsqueda del mejor hiperparámetro**"
   ]
  },
  {
   "cell_type": "code",
   "execution_count": null,
   "id": "57f00eac",
   "metadata": {
    "id": "57f00eac"
   },
   "outputs": [],
   "source": [
    "# Generamos los límites inferior y superior\n",
    "df_scores_standard['limite_superior'] = df_scores_standard['score_medio'] + df_scores_standard['score_std']\n",
    "df_scores_standard['limite_inferior'] = df_scores_standard['score_medio'] - df_scores_standard['score_std']\n",
    "df_scores_standard.head()"
   ]
  },
  {
   "cell_type": "code",
   "execution_count": null,
   "id": "cf1aa493",
   "metadata": {
    "id": "cf1aa493"
   },
   "outputs": [],
   "source": [
    "# Graficamos los resultados\n",
    "plt.plot(df_scores_standard['n_neighbors'], df_scores_standard['limite_inferior'], color='r')\n",
    "plt.plot(df_scores_standard['n_neighbors'], df_scores_standard['score_medio'], color='b')\n",
    "plt.plot(df_scores_standard['n_neighbors'], df_scores_standard['limite_superior'], color='r');"
   ]
  },
  {
   "cell_type": "code",
   "execution_count": null,
   "id": "1dc24c38",
   "metadata": {
    "id": "1dc24c38"
   },
   "outputs": [],
   "source": [
    "# Identificamos el score máximo\n",
    "df_scores_standard.loc[df_scores_standard.score_medio == df_scores_standard.score_medio.max()]"
   ]
  },
  {
   "cell_type": "code",
   "execution_count": null,
   "id": "fea812f1",
   "metadata": {
    "id": "fea812f1"
   },
   "outputs": [],
   "source": [
    "# Asignamos el valor del k óptimo a una variable\n",
    "best_k = df_scores_standard.loc[df_scores_standard.score_medio == df_scores_standard.score_medio.max(), 'n_neighbors'].values[0]\n",
    "print(\"best k\",best_k)\n",
    "\n",
    "# Elegimos el modelo óptimo de acuerdo a las pruebas de cross validation\n",
    "Model_knn = KNeighborsClassifier(n_neighbors=best_k)\n",
    "\n",
    "# Lo ajustamos sobre los datos de entrenamiento\n",
    "Model_knn.fit(X_train, y_train)\n",
    "\n",
    "# Evaluamos qué accuracy obtenemos en train\n",
    "print(\"accuracy_score en train\",accuracy_score(y_train, Model_knn.predict(X_train)).round(4))"
   ]
  },
  {
   "cell_type": "code",
   "execution_count": null,
   "id": "87c1291c",
   "metadata": {
    "id": "87c1291c"
   },
   "outputs": [],
   "source": [
    "# Lo utilizamos para predecir en test\n",
    "X_test = scaler.transform(X_test) # ¡Importantísimo estandarizar también los datos de test con las medias y desvíos aprendidos en train!\n",
    "y_pred = Model_knn.predict(X_test)\n",
    "\n",
    "# Evaluamos el accuracy del modelo en test\n",
    "print(\"accuracy_score en test\",accuracy_score(y_test, y_pred).round(2))"
   ]
  },
  {
   "cell_type": "markdown",
   "id": "47e3196a",
   "metadata": {
    "id": "47e3196a"
   },
   "source": [
    "<a id=\"section_confusion\"></a>\n",
    "### Matriz de confusión"
   ]
  },
  {
   "cell_type": "code",
   "execution_count": null,
   "id": "6162fe26",
   "metadata": {
    "id": "6162fe26"
   },
   "outputs": [],
   "source": [
    "# Obtenemos la matriz de confusión\n",
    "_print_matriz_confusion(y_test, y_pred,titulo=\"KNN Matriz Confusion\")"
   ]
  },
  {
   "cell_type": "markdown",
   "id": "aefc9411",
   "metadata": {
    "id": "aefc9411"
   },
   "source": [
    "<img src=\"http://acnalert.eastus.cloudapp.azure.com/2/ds/Confusion.jpg\" alt=\"Matriz confusion\">"
   ]
  },
  {
   "cell_type": "code",
   "execution_count": null,
   "id": "f76c21d4",
   "metadata": {
    "id": "f76c21d4"
   },
   "outputs": [],
   "source": [
    "#  calcular  la exactitud de nuestro modelo...\n",
    "print(\"Acuracy score KNN :\\n\", accuracy_score(y_test, y_pred).round(2))\n",
    "print(\"Classification report KNN:\\n\", classification_report(y_test,y_pred))"
   ]
  },
  {
   "cell_type": "code",
   "execution_count": null,
   "id": "c949cb8f",
   "metadata": {
    "id": "c949cb8f"
   },
   "outputs": [],
   "source": [
    "probs=lr.predict_proba(x_test)\n",
    "preds=probs[:,1]\n",
    "fpr,tpr, threshold_lr =metrics.roc_curve(y_test, y_pred)\n",
    "roc_auc_lr=metrics.auc(fpr_lr,tpr_lr)\n",
    "\n",
    "#graph\n",
    "plt.title(\"ROC\")\n",
    "\n",
    "plt.plot(fpr, tpr, 'b', label=\"KNN\" % roc_auc)\n",
    "plt.legend(loc=\"lower right\")\n",
    "plt.plot([0,1],[0,1],'r--')\n",
    "plt.xlim([0,1])\n",
    "plt.ylim([0,1])\n",
    "plt.ylabel('True Positive Rate')\n",
    "plt.xlabel('False Positive Rate')\n",
    "plt.show()"
   ]
  },
  {
   "cell_type": "markdown",
   "id": "FJQ8zqOfEIam",
   "metadata": {
    "id": "FJQ8zqOfEIam"
   },
   "source": [
    "# **4.Conclusiones**\n",
    "<a id=\"section_Modelos\"></a>"
   ]
  }
 ],
 "metadata": {
  "colab": {
   "collapsed_sections": [
    "a61c705a",
    "2bed4e43",
    "d89fe749",
    "d60ed1a9",
    "a7393957",
    "3d7980ed",
    "608d2ba6",
    "6afdc4a0",
    "f2bf7a8b",
    "55e35896",
    "7bda7ByJ-v8u",
    "4889925d",
    "55ed4844",
    "kfci-W7S_MGn",
    "41-5Mnpy_ere",
    "a82c6a38",
    "G2ue5vYCC2R5",
    "3aab4723",
    "0ed0b0a0",
    "8a340d05",
    "q6Vcf5vODhS6",
    "3b5e88e0",
    "effb0560",
    "47e3196a"
   ],
   "name": "2_Principal.ipynb",
   "provenance": []
  },
  "interpreter": {
   "hash": "6ac88a8a1a8cc340d2b05566e22fde7412d1d718644d4b1167688fa7d4044e9b"
  },
  "kernelspec": {
   "display_name": "Python 3 (ipykernel)",
   "language": "python",
   "name": "python3"
  },
  "language_info": {
   "codemirror_mode": {
    "name": "ipython",
    "version": 3
   },
   "file_extension": ".py",
   "mimetype": "text/x-python",
   "name": "python",
   "nbconvert_exporter": "python",
   "pygments_lexer": "ipython3",
   "version": "3.8.12"
  },
  "toc-autonumbering": false
 },
 "nbformat": 4,
 "nbformat_minor": 5
}
