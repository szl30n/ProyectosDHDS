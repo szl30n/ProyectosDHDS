{
 "cells": [
  {
   "cell_type": "markdown",
   "id": "b5d21944",
   "metadata": {},
   "source": [
    "## Tabla de Contenidos\n",
    "1. <a href='#section_Importacion_de_modules'>Importación de modules</a>\n",
    "2. <a href='#section_Importacion_de_dataset'>Importación del dataset patient_covid.csv</a>\n",
    "3. <a href='#section_Modelos'>Modelos</a> \n",
    "</br>3.1 <a href='#section_KNN'>KNN</a>\n",
    "    </br>3.1.1. <a href='#section_preparacion'>Preparar la matriz de _features_ y el vector _target_</a>\n",
    "</br>3.1.1. <a href='#section_optimizando'>Optimizando el valor de _k_</a>\n",
    "</br>3.1.2. <a href=\"#section_confusion\">Matriz de confusión</a>\n",
    "</br>3.1.3. <a href=\"#section_conclusion\">Conclusión</a>\n"
   ]
  },
  {
   "cell_type": "markdown",
   "id": "ea047df5",
   "metadata": {
    "heading_collapsed": "true"
   },
   "source": [
    "# **1. Importación de *modules***\n",
    "<a id=\"section_Importacion_de_modules\"></a>"
   ]
  },
  {
   "cell_type": "code",
   "execution_count": 48,
   "id": "22fd104c",
   "metadata": {},
   "outputs": [],
   "source": [
    "import numpy as np\n",
    "import pandas as pd\n",
    "\n",
    "import seaborn as sns\n",
    "import matplotlib.pyplot as plt\n",
    "import plotly.express as px\n",
    "\n",
    "from sklearn.model_selection import train_test_split\n",
    "from sklearn.naive_bayes import GaussianNB\n",
    "from sklearn.neighbors import KNeighborsClassifier\n",
    "from sklearn.metrics import confusion_matrix\n",
    "from sklearn.metrics import f1_score\n",
    "from sklearn.metrics import classification_report\n",
    "from sklearn.metrics import roc_auc_score\n",
    "from sklearn.linear_model import LogisticRegression\n",
    "\n",
    "from IPython.core.interactiveshell import InteractiveShell\n",
    "InteractiveShell.ast_node_interactivity = \"all\"\n",
    "%config Completer.use_jedi = False\n",
    "import warnings\n",
    "warnings.filterwarnings(\"ignore\")\n",
    "\n",
    "import funciones as f"
   ]
  },
  {
   "cell_type": "markdown",
   "id": "497dfbfd",
   "metadata": {},
   "source": [
    "# **2. Importación del dataset patient_covid.csv**\n",
    "<a id=\"section_Importacion_de_dataset\"></a>"
   ]
  },
  {
   "cell_type": "code",
   "execution_count": 49,
   "id": "8a868975",
   "metadata": {},
   "outputs": [
    {
     "name": "stdout",
     "output_type": "stream",
     "text": [
      "   inpatient  agegroup_10-19  agegroup_20-29  agegroup_30-39  agegroup_40-49  \\\n",
      "0          0               0               0               0               1   \n",
      "1          0               0               0               0               0   \n",
      "2          1               0               0               0               0   \n",
      "\n",
      "   agegroup_50-59  agegroup_60-69  agegroup_70-79  agegroup_80-89  \\\n",
      "0               0               0               0               0   \n",
      "1               1               0               0               0   \n",
      "2               1               0               0               0   \n",
      "\n",
      "   agegroup_90-99  ...  hypertension_Y  immunosuppression_Y  obesity_Y  \\\n",
      "0               0  ...               0                    0          0   \n",
      "1               0  ...               0                    0          0   \n",
      "2               0  ...               1                    0          1   \n",
      "\n",
      "   other_diseases_N  other_diseases_Y  pneumonia_Y  pregnant_NOA  pregnant_Y  \\\n",
      "0                 1                 0            0             1           0   \n",
      "1                 1                 0            0             0           0   \n",
      "2                 1                 0            0             1           0   \n",
      "\n",
      "   sex_M  smoker_Y  \n",
      "0      1         0  \n",
      "1      0         0  \n",
      "2      1         0  \n",
      "\n",
      "[3 rows x 29 columns]\n",
      "(95244, 29)\n",
      "  sex  inpatient pneumonia pregnant diabetes copd asthma immunosuppression  \\\n",
      "0   M          0         N      NOA        N    N      Y                 N   \n",
      "1   F          0         N        N        N    N      N                 N   \n",
      "2   M          1         N      NOA        Y    N      N                 N   \n",
      "\n",
      "  hypertension other_diseases cardiovascular obesity chronic_kidney_failure  \\\n",
      "0            N              N              N       N                      N   \n",
      "1            N              N              N       N                      N   \n",
      "2            Y              N              N       Y                      N   \n",
      "\n",
      "  smoker covid agegroup  \n",
      "0      N     Y    40-49  \n",
      "1      N     Y    50-59  \n",
      "2      N     Y    50-59  \n",
      "(95244, 16)\n"
     ]
    }
   ],
   "source": [
    "data_covid = pd.read_csv(\"../data/patient_covid.csv\", sep = \",\", low_memory=False) \n",
    "f._get_info(data_covid)\n",
    "\n",
    "data_covid_knn = pd.read_csv(\"../data/patient_covid_knn.csv\", sep = \",\", low_memory=False) \n",
    "f._get_info(data_covid_knn)"
   ]
  },
  {
   "cell_type": "markdown",
   "id": "ca476d88",
   "metadata": {},
   "source": [
    "# **3.Modelos**\n",
    "<a id=\"section_Modelos\"></a>"
   ]
  },
  {
   "cell_type": "markdown",
   "id": "c3b925e2",
   "metadata": {},
   "source": [
    "## 3.1<a id=\"section_Modelos\"></a>. KNN  (Marce y Dani)\n",
    "<a id=\"section_KNN\"></a>"
   ]
  },
  {
   "cell_type": "markdown",
   "id": "f63a9e1e",
   "metadata": {},
   "source": [
    "#### 3.1.1. Preparar la matriz de _features_ y el vector _target_\n",
    "<a id=\"section_preparacion\"></a>\n"
   ]
  },
  {
   "cell_type": "code",
   "execution_count": 50,
   "id": "a62a6a63",
   "metadata": {},
   "outputs": [
    {
     "data": {
      "text/plain": [
       "0    0.734629\n",
       "1    0.265371\n",
       "Name: inpatient, dtype: float64"
      ]
     },
     "execution_count": 50,
     "metadata": {},
     "output_type": "execute_result"
    }
   ],
   "source": [
    "data_covid_knn['inpatient'].value_counts(normalize=True)"
   ]
  },
  {
   "cell_type": "code",
   "execution_count": 51,
   "id": "4ce3b556",
   "metadata": {},
   "outputs": [
    {
     "data": {
      "text/html": [
       "<div>\n",
       "<style scoped>\n",
       "    .dataframe tbody tr th:only-of-type {\n",
       "        vertical-align: middle;\n",
       "    }\n",
       "\n",
       "    .dataframe tbody tr th {\n",
       "        vertical-align: top;\n",
       "    }\n",
       "\n",
       "    .dataframe thead th {\n",
       "        text-align: right;\n",
       "    }\n",
       "</style>\n",
       "<table border=\"1\" class=\"dataframe\">\n",
       "  <thead>\n",
       "    <tr style=\"text-align: right;\">\n",
       "      <th></th>\n",
       "      <th>agegroup</th>\n",
       "      <th>asthma</th>\n",
       "      <th>cardiovascular</th>\n",
       "      <th>chronic_kidney_failure</th>\n",
       "      <th>copd</th>\n",
       "      <th>covid</th>\n",
       "      <th>diabetes</th>\n",
       "      <th>hypertension</th>\n",
       "      <th>immunosuppression</th>\n",
       "      <th>obesity</th>\n",
       "      <th>other_diseases</th>\n",
       "      <th>pneumonia</th>\n",
       "      <th>pregnant</th>\n",
       "      <th>sex</th>\n",
       "      <th>smoker</th>\n",
       "    </tr>\n",
       "  </thead>\n",
       "  <tbody>\n",
       "    <tr>\n",
       "      <th>0</th>\n",
       "      <td>40-49</td>\n",
       "      <td>Y</td>\n",
       "      <td>N</td>\n",
       "      <td>N</td>\n",
       "      <td>N</td>\n",
       "      <td>Y</td>\n",
       "      <td>N</td>\n",
       "      <td>N</td>\n",
       "      <td>N</td>\n",
       "      <td>N</td>\n",
       "      <td>N</td>\n",
       "      <td>N</td>\n",
       "      <td>NOA</td>\n",
       "      <td>M</td>\n",
       "      <td>N</td>\n",
       "    </tr>\n",
       "    <tr>\n",
       "      <th>1</th>\n",
       "      <td>50-59</td>\n",
       "      <td>N</td>\n",
       "      <td>N</td>\n",
       "      <td>N</td>\n",
       "      <td>N</td>\n",
       "      <td>Y</td>\n",
       "      <td>N</td>\n",
       "      <td>N</td>\n",
       "      <td>N</td>\n",
       "      <td>N</td>\n",
       "      <td>N</td>\n",
       "      <td>N</td>\n",
       "      <td>N</td>\n",
       "      <td>F</td>\n",
       "      <td>N</td>\n",
       "    </tr>\n",
       "    <tr>\n",
       "      <th>2</th>\n",
       "      <td>50-59</td>\n",
       "      <td>N</td>\n",
       "      <td>N</td>\n",
       "      <td>N</td>\n",
       "      <td>N</td>\n",
       "      <td>Y</td>\n",
       "      <td>Y</td>\n",
       "      <td>Y</td>\n",
       "      <td>N</td>\n",
       "      <td>Y</td>\n",
       "      <td>N</td>\n",
       "      <td>N</td>\n",
       "      <td>NOA</td>\n",
       "      <td>M</td>\n",
       "      <td>N</td>\n",
       "    </tr>\n",
       "  </tbody>\n",
       "</table>\n",
       "</div>"
      ],
      "text/plain": [
       "  agegroup asthma cardiovascular chronic_kidney_failure copd covid diabetes  \\\n",
       "0    40-49      Y              N                      N    N     Y        N   \n",
       "1    50-59      N              N                      N    N     Y        N   \n",
       "2    50-59      N              N                      N    N     Y        Y   \n",
       "\n",
       "  hypertension immunosuppression obesity other_diseases pneumonia pregnant  \\\n",
       "0            N                 N       N              N         N      NOA   \n",
       "1            N                 N       N              N         N        N   \n",
       "2            Y                 N       Y              N         N      NOA   \n",
       "\n",
       "  sex smoker  \n",
       "0   M      N  \n",
       "1   F      N  \n",
       "2   M      N  "
      ]
     },
     "execution_count": 51,
     "metadata": {},
     "output_type": "execute_result"
    },
    {
     "data": {
      "text/plain": [
       "Index(['agegroup', 'asthma', 'cardiovascular', 'chronic_kidney_failure',\n",
       "       'copd', 'covid', 'diabetes', 'hypertension', 'immunosuppression',\n",
       "       'obesity', 'other_diseases', 'pneumonia', 'pregnant', 'sex', 'smoker'],\n",
       "      dtype='object')"
      ]
     },
     "execution_count": 51,
     "metadata": {},
     "output_type": "execute_result"
    }
   ],
   "source": [
    "cols_features=data_covid_knn.columns.difference(['inpatient'])\n",
    "X = data_covid_knn[cols_features]\n",
    "y = data_covid_knn['inpatient']\n",
    "X.head(3) \n",
    "X.columns"
   ]
  },
  {
   "cell_type": "code",
   "execution_count": 25,
   "id": "25c2dfa1",
   "metadata": {},
   "outputs": [],
   "source": [
    "X_train, X_test, y_train, y_test = train_test_split(X, y, test_size=0.4,stratify=data_covid['inpatient'])"
   ]
  },
  {
   "cell_type": "code",
   "execution_count": 15,
   "id": "a6a2d4ab",
   "metadata": {},
   "outputs": [
    {
     "ename": "AttributeError",
     "evalue": "'DataFrame' object has no attribute 'data'",
     "output_type": "error",
     "traceback": [
      "\u001b[1;31m---------------------------------------------------------------------------\u001b[0m",
      "\u001b[1;31mAttributeError\u001b[0m                            Traceback (most recent call last)",
      "Input \u001b[1;32mIn [15]\u001b[0m, in \u001b[0;36m<module>\u001b[1;34m\u001b[0m\n\u001b[0;32m      1\u001b[0m \u001b[38;5;66;03m# Construimos la matriz de features y visualizamos las primeras filas\u001b[39;00m\n\u001b[1;32m----> 2\u001b[0m X \u001b[38;5;241m=\u001b[39m pd\u001b[38;5;241m.\u001b[39mDataFrame(\u001b[43mdata_covid\u001b[49m\u001b[38;5;241;43m.\u001b[39;49m\u001b[43mdata\u001b[49m, columns \u001b[38;5;241m=\u001b[39m data_covid\u001b[38;5;241m.\u001b[39mfeature_names)\n\u001b[0;32m      3\u001b[0m X\u001b[38;5;241m.\u001b[39mhead()\n",
      "File \u001b[1;32m~\\Anaconda3\\envs\\ds\\lib\\site-packages\\pandas\\core\\generic.py:5141\u001b[0m, in \u001b[0;36mNDFrame.__getattr__\u001b[1;34m(self, name)\u001b[0m\n\u001b[0;32m   5139\u001b[0m \u001b[38;5;28;01mif\u001b[39;00m \u001b[38;5;28mself\u001b[39m\u001b[38;5;241m.\u001b[39m_info_axis\u001b[38;5;241m.\u001b[39m_can_hold_identifiers_and_holds_name(name):\n\u001b[0;32m   5140\u001b[0m     \u001b[38;5;28;01mreturn\u001b[39;00m \u001b[38;5;28mself\u001b[39m[name]\n\u001b[1;32m-> 5141\u001b[0m \u001b[38;5;28;01mreturn\u001b[39;00m \u001b[38;5;28;43mobject\u001b[39;49m\u001b[38;5;241;43m.\u001b[39;49m\u001b[38;5;21;43m__getattribute__\u001b[39;49m\u001b[43m(\u001b[49m\u001b[38;5;28;43mself\u001b[39;49m\u001b[43m,\u001b[49m\u001b[43m \u001b[49m\u001b[43mname\u001b[49m\u001b[43m)\u001b[49m\n",
      "\u001b[1;31mAttributeError\u001b[0m: 'DataFrame' object has no attribute 'data'"
     ]
    }
   ],
   "source": [
    "# Construimos la matriz de features y visualizamos las primeras filas\n",
    "X = pd.DataFrame(data_covid.data, columns = data_covid.feature_names)\n"
   ]
  },
  {
   "cell_type": "code",
   "execution_count": null,
   "id": "31d21e4f",
   "metadata": {},
   "outputs": [],
   "source": [
    "# Construimos el vector target y visualizamos las primeras filas\n",
    "y = pd.Series(cancer.target)\n",
    "y.sample(10)"
   ]
  },
  {
   "cell_type": "code",
   "execution_count": null,
   "id": "ec5cf7cc",
   "metadata": {},
   "outputs": [],
   "source": [
    "# Analizamos la proporción entre clases\n",
    "pd.Series(y).value_counts(normalize=True).round(2)"
   ]
  },
  {
   "cell_type": "code",
   "execution_count": null,
   "id": "1b854d1b",
   "metadata": {},
   "outputs": [],
   "source": [
    "# El argumento stratify nos permite generar una división que respeta la misma proporción entre clases en ambos sets\n",
    "from sklearn.model_selection import train_test_split\n",
    "X_train, X_test, y_train, y_test = train_test_split(X, y, stratify=y, random_state=12)"
   ]
  },
  {
   "cell_type": "code",
   "execution_count": null,
   "id": "fc0bf9e0",
   "metadata": {},
   "outputs": [],
   "source": [
    "display(y_train.value_counts(normalize=True).round(2))\n",
    "display(y_test.value_counts(normalize=True).round(2))"
   ]
  },
  {
   "cell_type": "code",
   "execution_count": null,
   "id": "6d3a3a2e",
   "metadata": {},
   "outputs": [],
   "source": []
  },
  {
   "cell_type": "code",
   "execution_count": null,
   "id": "94600a0c",
   "metadata": {},
   "outputs": [],
   "source": []
  },
  {
   "cell_type": "code",
   "execution_count": null,
   "id": "130167f1",
   "metadata": {},
   "outputs": [],
   "source": []
  },
  {
   "cell_type": "markdown",
   "id": "bc3f9d86",
   "metadata": {},
   "source": [
    "## 4.1. Regresión logística  (Mae)"
   ]
  },
  {
   "cell_type": "code",
   "execution_count": null,
   "id": "09b8928e",
   "metadata": {},
   "outputs": [],
   "source": []
  },
  {
   "cell_type": "code",
   "execution_count": null,
   "id": "11313885",
   "metadata": {},
   "outputs": [],
   "source": []
  },
  {
   "cell_type": "markdown",
   "id": "1ab9fe82",
   "metadata": {},
   "source": [
    "### 4.2.1. Búsqueda y selección del hiperparámetro"
   ]
  },
  {
   "cell_type": "markdown",
   "id": "2a18ad8b",
   "metadata": {},
   "source": [
    "### 4.1. Naive Bayes multinomial (Enzo)\n"
   ]
  },
  {
   "cell_type": "code",
   "execution_count": 1,
   "id": "2725fc49",
   "metadata": {},
   "outputs": [],
   "source": [
    "## 4.1.1. Categorización de edad (o no :/)"
   ]
  },
  {
   "cell_type": "code",
   "execution_count": null,
   "id": "7063468f",
   "metadata": {},
   "outputs": [],
   "source": []
  }
 ],
 "metadata": {
  "interpreter": {
   "hash": "6ac88a8a1a8cc340d2b05566e22fde7412d1d718644d4b1167688fa7d4044e9b"
  },
  "kernelspec": {
   "display_name": "Python 3 (ipykernel)",
   "language": "python",
   "name": "python3"
  },
  "language_info": {
   "codemirror_mode": {
    "name": "ipython",
    "version": 3
   },
   "file_extension": ".py",
   "mimetype": "text/x-python",
   "name": "python",
   "nbconvert_exporter": "python",
   "pygments_lexer": "ipython3",
   "version": "3.8.12"
  }
 },
 "nbformat": 4,
 "nbformat_minor": 5
}
