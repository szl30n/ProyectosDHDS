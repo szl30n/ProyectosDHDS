{
 "cells": [
  {
   "cell_type": "markdown",
   "id": "5201a1f7",
   "metadata": {
    "heading_collapsed": "true"
   },
   "source": [
    "## Tabla de Contenidos"
   ]
  },
  {
   "cell_type": "markdown",
   "id": "246b6a6e",
   "metadata": {},
   "source": [
    "1. <a href='#section_Importacion_de_modules'>Importación de modules</a>\n",
    "2. <a href='#section_Importacion_de_dataset'>Importación del dataset patient_covid.csv</a>\n",
    "3. <a href='#section_Modelos'>Modelos</a> \n",
    "</br>3.1 <a href='#section_KNN'>KNN</a>\n",
    "    </br>3.1.1. <a href='#section_preparacion'>Preparar la matriz de _features_ y el vector _target_</a>\n",
    "</br>3.1.1. <a href='#section_optimizando'>Optimizando el valor de _k_</a>\n",
    "</br>3.1.2. <a href=\"#section_confusion\">Matriz de confusión</a>\n",
    "</br>3.1.3. <a href=\"#section_conclusion\">Conclusión</a>\n"
   ]
  },
  {
   "cell_type": "markdown",
   "id": "4b21cd46",
   "metadata": {
    "heading_collapsed": "true"
   },
   "source": [
    "# **1. Importación de *modules***\n",
    "<a id=\"section_Importacion_de_modules\"></a>"
   ]
  },
  {
   "cell_type": "code",
   "execution_count": 1,
   "id": "286e8704",
   "metadata": {},
   "outputs": [],
   "source": [
    "import numpy as np\n",
    "import pandas as pd\n",
    "\n",
    "import seaborn as sns\n",
    "import matplotlib.pyplot as plt\n",
    "import plotly.express as px\n",
    "\n",
    "from sklearn.model_selection import GridSearchCV,train_test_split,cross_val_score, KFold\n",
    "from sklearn.naive_bayes import GaussianNB\n",
    "from sklearn.neighbors import KNeighborsClassifier\n",
    "from sklearn.metrics import confusion_matrix, accuracy_score ,f1_score ,classification_report , confusion_matrix\n",
    "from sklearn.metrics import roc_auc_score\n",
    "from sklearn.linear_model import LogisticRegression\n",
    "from sklearn.preprocessing import normalize, StandardScaler\n",
    "\n",
    "\n",
    "from IPython.core.interactiveshell import InteractiveShell\n",
    "InteractiveShell.ast_node_interactivity = \"all\"\n",
    "%config Completer.use_jedi = False\n",
    "import warnings\n",
    "warnings.filterwarnings(\"ignore\")\n",
    "\n",
    "import funciones as f"
   ]
  },
  {
   "cell_type": "markdown",
   "id": "983f52a6",
   "metadata": {
    "heading_collapsed": "true"
   },
   "source": [
    "# **2. Importación del dataset patient_covid.csv**\n",
    "<a id=\"section_Importacion_de_dataset\"></a>"
   ]
  },
  {
   "cell_type": "code",
   "execution_count": 2,
   "id": "cd4eff63",
   "metadata": {},
   "outputs": [
    {
     "name": "stdout",
     "output_type": "stream",
     "text": [
      "   inpatient  agegroup_10-19  agegroup_20-29  agegroup_30-39  agegroup_40-49  \\\n",
      "0          0               0               0               0               1   \n",
      "1          0               0               0               0               0   \n",
      "2          1               0               0               0               0   \n",
      "\n",
      "   agegroup_50-59  agegroup_60-69  agegroup_70-79  agegroup_80-89  \\\n",
      "0               0               0               0               0   \n",
      "1               1               0               0               0   \n",
      "2               1               0               0               0   \n",
      "\n",
      "   agegroup_90-99  ...  diabetes_Y  hypertension_Y  immunosuppression_Y  \\\n",
      "0               0  ...           0               0                    0   \n",
      "1               0  ...           0               0                    0   \n",
      "2               0  ...           1               1                    0   \n",
      "\n",
      "   obesity_Y  other_diseases_N  other_diseases_Y  pneumonia_Y  pregnant_Y  \\\n",
      "0          0                 1                 0            0           0   \n",
      "1          0                 1                 0            0           0   \n",
      "2          1                 1                 0            0           0   \n",
      "\n",
      "   sex_M  smoker_Y  \n",
      "0      1         0  \n",
      "1      0         0  \n",
      "2      1         0  \n",
      "\n",
      "[3 rows x 28 columns]\n",
      "(95244, 28)\n",
      "   sex  inpatient  pneumonia  age  pregnant  diabetes  copd  asthma  \\\n",
      "0    0          0          0   42         0         0     0       1   \n",
      "1    1          0          0   51         0         0     0       0   \n",
      "2    0          1          0   51         0         1     0       0   \n",
      "\n",
      "   immunosuppression  hypertension  other_diseases  cardiovascular  obesity  \\\n",
      "0                  0             0               0               0        0   \n",
      "1                  0             0               0               0        0   \n",
      "2                  0             1               0               0        1   \n",
      "\n",
      "   chronic_kidney_failure  smoker  covid  \n",
      "0                       0       0      1  \n",
      "1                       0       0      1  \n",
      "2                       0       0      1  \n",
      "(95244, 16)\n"
     ]
    }
   ],
   "source": [
    "data_covid = pd.read_csv(\"../data/patient_covid.csv\", sep = \",\", low_memory=False) \n",
    "f._get_info(data_covid)\n",
    "\n",
    "data_covid_knn = pd.read_csv(\"../data/patient_covid_knn.csv\", sep = \",\", low_memory=False) \n",
    "f._get_info(data_covid_knn)"
   ]
  },
  {
   "cell_type": "markdown",
   "id": "ad51afe6",
   "metadata": {},
   "source": [
    "# **3.Modelos**\n",
    "<a id=\"section_Modelos\"></a>"
   ]
  },
  {
   "cell_type": "markdown",
   "id": "fbb11f18",
   "metadata": {},
   "source": [
    "## 3.1<a id=\"section_Modelos\"></a>. KNN  (Marce y Dani)\n",
    "<a id=\"section_KNN\"></a>"
   ]
  },
  {
   "cell_type": "markdown",
   "id": "e382c2b7",
   "metadata": {},
   "source": [
    "#### Preparar la matriz de _features_ y el vector _target_\n",
    "<a id=\"section_preparacion\"></a>\n"
   ]
  },
  {
   "cell_type": "code",
   "execution_count": 3,
   "id": "4d3ccf08",
   "metadata": {},
   "outputs": [
    {
     "data": {
      "text/plain": [
       "0    0.734629\n",
       "1    0.265371\n",
       "Name: inpatient, dtype: float64"
      ]
     },
     "execution_count": 3,
     "metadata": {},
     "output_type": "execute_result"
    }
   ],
   "source": [
    "data_covid_knn['inpatient'].value_counts(normalize=True)"
   ]
  },
  {
   "cell_type": "code",
   "execution_count": 4,
   "id": "f4769c5f",
   "metadata": {},
   "outputs": [
    {
     "data": {
      "text/html": [
       "<div>\n",
       "<style scoped>\n",
       "    .dataframe tbody tr th:only-of-type {\n",
       "        vertical-align: middle;\n",
       "    }\n",
       "\n",
       "    .dataframe tbody tr th {\n",
       "        vertical-align: top;\n",
       "    }\n",
       "\n",
       "    .dataframe thead th {\n",
       "        text-align: right;\n",
       "    }\n",
       "</style>\n",
       "<table border=\"1\" class=\"dataframe\">\n",
       "  <thead>\n",
       "    <tr style=\"text-align: right;\">\n",
       "      <th></th>\n",
       "      <th>age</th>\n",
       "      <th>asthma</th>\n",
       "      <th>cardiovascular</th>\n",
       "      <th>chronic_kidney_failure</th>\n",
       "      <th>copd</th>\n",
       "      <th>covid</th>\n",
       "      <th>diabetes</th>\n",
       "      <th>hypertension</th>\n",
       "      <th>immunosuppression</th>\n",
       "      <th>obesity</th>\n",
       "      <th>other_diseases</th>\n",
       "      <th>pneumonia</th>\n",
       "      <th>pregnant</th>\n",
       "      <th>sex</th>\n",
       "      <th>smoker</th>\n",
       "    </tr>\n",
       "  </thead>\n",
       "  <tbody>\n",
       "    <tr>\n",
       "      <th>0</th>\n",
       "      <td>42</td>\n",
       "      <td>1</td>\n",
       "      <td>0</td>\n",
       "      <td>0</td>\n",
       "      <td>0</td>\n",
       "      <td>1</td>\n",
       "      <td>0</td>\n",
       "      <td>0</td>\n",
       "      <td>0</td>\n",
       "      <td>0</td>\n",
       "      <td>0</td>\n",
       "      <td>0</td>\n",
       "      <td>0</td>\n",
       "      <td>0</td>\n",
       "      <td>0</td>\n",
       "    </tr>\n",
       "    <tr>\n",
       "      <th>1</th>\n",
       "      <td>51</td>\n",
       "      <td>0</td>\n",
       "      <td>0</td>\n",
       "      <td>0</td>\n",
       "      <td>0</td>\n",
       "      <td>1</td>\n",
       "      <td>0</td>\n",
       "      <td>0</td>\n",
       "      <td>0</td>\n",
       "      <td>0</td>\n",
       "      <td>0</td>\n",
       "      <td>0</td>\n",
       "      <td>0</td>\n",
       "      <td>1</td>\n",
       "      <td>0</td>\n",
       "    </tr>\n",
       "    <tr>\n",
       "      <th>2</th>\n",
       "      <td>51</td>\n",
       "      <td>0</td>\n",
       "      <td>0</td>\n",
       "      <td>0</td>\n",
       "      <td>0</td>\n",
       "      <td>1</td>\n",
       "      <td>1</td>\n",
       "      <td>1</td>\n",
       "      <td>0</td>\n",
       "      <td>1</td>\n",
       "      <td>0</td>\n",
       "      <td>0</td>\n",
       "      <td>0</td>\n",
       "      <td>0</td>\n",
       "      <td>0</td>\n",
       "    </tr>\n",
       "  </tbody>\n",
       "</table>\n",
       "</div>"
      ],
      "text/plain": [
       "   age  asthma  cardiovascular  chronic_kidney_failure  copd  covid  diabetes  \\\n",
       "0   42       1               0                       0     0      1         0   \n",
       "1   51       0               0                       0     0      1         0   \n",
       "2   51       0               0                       0     0      1         1   \n",
       "\n",
       "   hypertension  immunosuppression  obesity  other_diseases  pneumonia  \\\n",
       "0             0                  0        0               0          0   \n",
       "1             0                  0        0               0          0   \n",
       "2             1                  0        1               0          0   \n",
       "\n",
       "   pregnant  sex  smoker  \n",
       "0         0    0       0  \n",
       "1         0    1       0  \n",
       "2         0    0       0  "
      ]
     },
     "execution_count": 4,
     "metadata": {},
     "output_type": "execute_result"
    },
    {
     "data": {
      "text/plain": [
       "Index(['age', 'asthma', 'cardiovascular', 'chronic_kidney_failure', 'copd',\n",
       "       'covid', 'diabetes', 'hypertension', 'immunosuppression', 'obesity',\n",
       "       'other_diseases', 'pneumonia', 'pregnant', 'sex', 'smoker'],\n",
       "      dtype='object')"
      ]
     },
     "execution_count": 4,
     "metadata": {},
     "output_type": "execute_result"
    }
   ],
   "source": [
    "cols_features=data_covid_knn.columns.difference(['inpatient','agegroup'])\n",
    "X = data_covid_knn[cols_features]\n",
    "y = data_covid_knn['inpatient']\n",
    "X.head(3) \n",
    "X.columns"
   ]
  },
  {
   "cell_type": "code",
   "execution_count": 5,
   "id": "b0c5f615",
   "metadata": {},
   "outputs": [
    {
     "data": {
      "text/plain": [
       "0    0.73\n",
       "1    0.27\n",
       "Name: inpatient, dtype: float64"
      ]
     },
     "metadata": {},
     "output_type": "display_data"
    },
    {
     "data": {
      "text/plain": [
       "0    0.73\n",
       "1    0.27\n",
       "Name: inpatient, dtype: float64"
      ]
     },
     "metadata": {},
     "output_type": "display_data"
    }
   ],
   "source": [
    "X_train, X_test, y_train, y_test = train_test_split(X, y, test_size=0.4,stratify=data_covid['inpatient'])\n",
    "display(y_train.value_counts(normalize=True).round(2))\n",
    "display(y_test.value_counts(normalize=True).round(2))"
   ]
  },
  {
   "cell_type": "code",
   "execution_count": 6,
   "id": "d1617c85",
   "metadata": {},
   "outputs": [],
   "source": [
    "scaler = StandardScaler()\n",
    "X_train = scaler.fit_transform(X_train)"
   ]
  },
  {
   "cell_type": "markdown",
   "id": "40f30761",
   "metadata": {},
   "source": [
    "#### ***Modelo Base***"
   ]
  },
  {
   "cell_type": "code",
   "execution_count": 7,
   "id": "3661c16e",
   "metadata": {},
   "outputs": [
    {
     "data": {
      "text/plain": [
       "KNeighborsClassifier()"
      ]
     },
     "execution_count": 7,
     "metadata": {},
     "output_type": "execute_result"
    },
    {
     "data": {
      "text/plain": [
       "0.3"
      ]
     },
     "execution_count": 7,
     "metadata": {},
     "output_type": "execute_result"
    }
   ],
   "source": [
    "knn = KNeighborsClassifier()\n",
    "knn.fit(X_train, y_train)\n",
    "y_pred = knn.predict(X_test)\n",
    "accuracy_score(y_test, y_pred).round(2)"
   ]
  },
  {
   "cell_type": "markdown",
   "id": "3ef38b30",
   "metadata": {},
   "source": [
    "#### ***Optimizando el valor de k***"
   ]
  },
  {
   "cell_type": "code",
   "execution_count": 8,
   "id": "89186152",
   "metadata": {},
   "outputs": [],
   "source": [
    "# Definimos la estrategia de validación cruzada\n",
    "kf = KFold(n_splits=5, shuffle=True, random_state=12)\n",
    "scores_para_df_standard = []\n",
    "\n",
    "for i in range(10, 31):\n",
    "    model = KNeighborsClassifier(n_neighbors=i)\n",
    "    cv_scores = cross_val_score(model, X_train, y_train, cv=kf)\n",
    "    dict_row_score = {'score_medio':np.mean(cv_scores),\n",
    "                      'score_std':np.std(cv_scores), 'n_neighbors':i}\n",
    "    scores_para_df_standard.append(dict_row_score)"
   ]
  },
  {
   "cell_type": "code",
   "execution_count": 9,
   "id": "cceff19e",
   "metadata": {},
   "outputs": [
    {
     "data": {
      "text/html": [
       "<div>\n",
       "<style scoped>\n",
       "    .dataframe tbody tr th:only-of-type {\n",
       "        vertical-align: middle;\n",
       "    }\n",
       "\n",
       "    .dataframe tbody tr th {\n",
       "        vertical-align: top;\n",
       "    }\n",
       "\n",
       "    .dataframe thead th {\n",
       "        text-align: right;\n",
       "    }\n",
       "</style>\n",
       "<table border=\"1\" class=\"dataframe\">\n",
       "  <thead>\n",
       "    <tr style=\"text-align: right;\">\n",
       "      <th></th>\n",
       "      <th>score_medio</th>\n",
       "      <th>score_std</th>\n",
       "      <th>n_neighbors</th>\n",
       "    </tr>\n",
       "  </thead>\n",
       "  <tbody>\n",
       "    <tr>\n",
       "      <th>0</th>\n",
       "      <td>0.869720</td>\n",
       "      <td>0.004642</td>\n",
       "      <td>10</td>\n",
       "    </tr>\n",
       "    <tr>\n",
       "      <th>1</th>\n",
       "      <td>0.869825</td>\n",
       "      <td>0.003899</td>\n",
       "      <td>11</td>\n",
       "    </tr>\n",
       "    <tr>\n",
       "      <th>2</th>\n",
       "      <td>0.869982</td>\n",
       "      <td>0.004176</td>\n",
       "      <td>12</td>\n",
       "    </tr>\n",
       "    <tr>\n",
       "      <th>3</th>\n",
       "      <td>0.870420</td>\n",
       "      <td>0.004430</td>\n",
       "      <td>13</td>\n",
       "    </tr>\n",
       "    <tr>\n",
       "      <th>4</th>\n",
       "      <td>0.870997</td>\n",
       "      <td>0.003978</td>\n",
       "      <td>14</td>\n",
       "    </tr>\n",
       "  </tbody>\n",
       "</table>\n",
       "</div>"
      ],
      "text/plain": [
       "   score_medio  score_std  n_neighbors\n",
       "0     0.869720   0.004642           10\n",
       "1     0.869825   0.003899           11\n",
       "2     0.869982   0.004176           12\n",
       "3     0.870420   0.004430           13\n",
       "4     0.870997   0.003978           14"
      ]
     },
     "execution_count": 9,
     "metadata": {},
     "output_type": "execute_result"
    }
   ],
   "source": [
    "# Creamos el DataFrame a partir de la lista de diccionarios\n",
    "df_scores_standard = pd.DataFrame(scores_para_df_standard)\n",
    "df_scores_standard.head()"
   ]
  },
  {
   "cell_type": "markdown",
   "id": "ab76c7ed",
   "metadata": {},
   "source": [
    "Graficando la búsqueda del mejor hiperparámetro"
   ]
  },
  {
   "cell_type": "code",
   "execution_count": 10,
   "id": "c2d03554",
   "metadata": {},
   "outputs": [
    {
     "data": {
      "text/html": [
       "<div>\n",
       "<style scoped>\n",
       "    .dataframe tbody tr th:only-of-type {\n",
       "        vertical-align: middle;\n",
       "    }\n",
       "\n",
       "    .dataframe tbody tr th {\n",
       "        vertical-align: top;\n",
       "    }\n",
       "\n",
       "    .dataframe thead th {\n",
       "        text-align: right;\n",
       "    }\n",
       "</style>\n",
       "<table border=\"1\" class=\"dataframe\">\n",
       "  <thead>\n",
       "    <tr style=\"text-align: right;\">\n",
       "      <th></th>\n",
       "      <th>score_medio</th>\n",
       "      <th>score_std</th>\n",
       "      <th>n_neighbors</th>\n",
       "      <th>limite_superior</th>\n",
       "      <th>limite_inferior</th>\n",
       "    </tr>\n",
       "  </thead>\n",
       "  <tbody>\n",
       "    <tr>\n",
       "      <th>0</th>\n",
       "      <td>0.869720</td>\n",
       "      <td>0.004642</td>\n",
       "      <td>10</td>\n",
       "      <td>0.874362</td>\n",
       "      <td>0.865077</td>\n",
       "    </tr>\n",
       "    <tr>\n",
       "      <th>1</th>\n",
       "      <td>0.869825</td>\n",
       "      <td>0.003899</td>\n",
       "      <td>11</td>\n",
       "      <td>0.873724</td>\n",
       "      <td>0.865925</td>\n",
       "    </tr>\n",
       "    <tr>\n",
       "      <th>2</th>\n",
       "      <td>0.869982</td>\n",
       "      <td>0.004176</td>\n",
       "      <td>12</td>\n",
       "      <td>0.874158</td>\n",
       "      <td>0.865806</td>\n",
       "    </tr>\n",
       "    <tr>\n",
       "      <th>3</th>\n",
       "      <td>0.870420</td>\n",
       "      <td>0.004430</td>\n",
       "      <td>13</td>\n",
       "      <td>0.874850</td>\n",
       "      <td>0.865989</td>\n",
       "    </tr>\n",
       "    <tr>\n",
       "      <th>4</th>\n",
       "      <td>0.870997</td>\n",
       "      <td>0.003978</td>\n",
       "      <td>14</td>\n",
       "      <td>0.874975</td>\n",
       "      <td>0.867019</td>\n",
       "    </tr>\n",
       "  </tbody>\n",
       "</table>\n",
       "</div>"
      ],
      "text/plain": [
       "   score_medio  score_std  n_neighbors  limite_superior  limite_inferior\n",
       "0     0.869720   0.004642           10         0.874362         0.865077\n",
       "1     0.869825   0.003899           11         0.873724         0.865925\n",
       "2     0.869982   0.004176           12         0.874158         0.865806\n",
       "3     0.870420   0.004430           13         0.874850         0.865989\n",
       "4     0.870997   0.003978           14         0.874975         0.867019"
      ]
     },
     "execution_count": 10,
     "metadata": {},
     "output_type": "execute_result"
    }
   ],
   "source": [
    "# Generamos los límites inferior y superior\n",
    "df_scores_standard['limite_superior'] = df_scores_standard['score_medio'] + df_scores_standard['score_std']\n",
    "df_scores_standard['limite_inferior'] = df_scores_standard['score_medio'] - df_scores_standard['score_std']\n",
    "df_scores_standard.head()"
   ]
  },
  {
   "cell_type": "code",
   "execution_count": 11,
   "id": "cee1f88e",
   "metadata": {},
   "outputs": [
    {
     "data": {
      "image/png": "[encoded data removed]",
      "text/plain": [
       "<Figure size 432x288 with 1 Axes>"
      ]
     },
     "metadata": {
      "needs_background": "light"
     },
     "output_type": "display_data"
    }
   ],
   "source": [
    "# Graficamos los resultados\n",
    "plt.plot(df_scores_standard['n_neighbors'], df_scores_standard['limite_inferior'], color='r')\n",
    "plt.plot(df_scores_standard['n_neighbors'], df_scores_standard['score_medio'], color='b')\n",
    "plt.plot(df_scores_standard['n_neighbors'], df_scores_standard['limite_superior'], color='r');"
   ]
  },
  {
   "cell_type": "code",
   "execution_count": 12,
   "id": "48796e12",
   "metadata": {},
   "outputs": [
    {
     "data": {
      "text/html": [
       "<div>\n",
       "<style scoped>\n",
       "    .dataframe tbody tr th:only-of-type {\n",
       "        vertical-align: middle;\n",
       "    }\n",
       "\n",
       "    .dataframe tbody tr th {\n",
       "        vertical-align: top;\n",
       "    }\n",
       "\n",
       "    .dataframe thead th {\n",
       "        text-align: right;\n",
       "    }\n",
       "</style>\n",
       "<table border=\"1\" class=\"dataframe\">\n",
       "  <thead>\n",
       "    <tr style=\"text-align: right;\">\n",
       "      <th></th>\n",
       "      <th>score_medio</th>\n",
       "      <th>score_std</th>\n",
       "      <th>n_neighbors</th>\n",
       "      <th>limite_superior</th>\n",
       "      <th>limite_inferior</th>\n",
       "    </tr>\n",
       "  </thead>\n",
       "  <tbody>\n",
       "    <tr>\n",
       "      <th>10</th>\n",
       "      <td>0.871942</td>\n",
       "      <td>0.0037</td>\n",
       "      <td>20</td>\n",
       "      <td>0.875642</td>\n",
       "      <td>0.868241</td>\n",
       "    </tr>\n",
       "  </tbody>\n",
       "</table>\n",
       "</div>"
      ],
      "text/plain": [
       "    score_medio  score_std  n_neighbors  limite_superior  limite_inferior\n",
       "10     0.871942     0.0037           20         0.875642         0.868241"
      ]
     },
     "execution_count": 12,
     "metadata": {},
     "output_type": "execute_result"
    }
   ],
   "source": [
    "# Identificamos el score máximo\n",
    "df_scores_standard.loc[df_scores_standard.score_medio == df_scores_standard.score_medio.max()]"
   ]
  },
  {
   "cell_type": "code",
   "execution_count": 13,
   "id": "a10ce8d9",
   "metadata": {},
   "outputs": [
    {
     "name": "stdout",
     "output_type": "stream",
     "text": [
      "best k 20\n"
     ]
    },
    {
     "data": {
      "text/plain": [
       "KNeighborsClassifier(n_neighbors=20)"
      ]
     },
     "execution_count": 13,
     "metadata": {},
     "output_type": "execute_result"
    },
    {
     "name": "stdout",
     "output_type": "stream",
     "text": [
      "accuracy_score en train 0.88\n"
     ]
    }
   ],
   "source": [
    "# Asignamos el valor del k óptimo a una variable\n",
    "best_k = df_scores_standard.loc[df_scores_standard.score_medio == df_scores_standard.score_medio.max(), 'n_neighbors'].values[0]\n",
    "print(\"best k\",best_k)\n",
    "\n",
    "# Elegimos el modelo óptimo de acuerdo a las pruebas de cross validation\n",
    "model = KNeighborsClassifier(n_neighbors=best_k)\n",
    "\n",
    "# Lo ajustamos sobre los datos de entrenamiento\n",
    "model.fit(X_train, y_train)\n",
    "\n",
    "# Evaluamos qué accuracy obtenemos en train\n",
    "print(\"accuracy_score en train\",accuracy_score(y_train, model.predict(X_train)).round(2))"
   ]
  },
  {
   "cell_type": "code",
   "execution_count": 14,
   "id": "0cbb2273",
   "metadata": {},
   "outputs": [
    {
     "name": "stdout",
     "output_type": "stream",
     "text": [
      "accuracy_score en test 0.87\n"
     ]
    }
   ],
   "source": [
    "# Lo utilizamos para predecir en test\n",
    "X_test = scaler.transform(X_test) # ¡Importantísimo estandarizar también los datos de test con las medias y desvíos aprendidos en train!\n",
    "y_pred = model.predict(X_test)\n",
    "\n",
    "# Evaluamos el accuracy del modelo en test\n",
    "print(\"accuracy_score en test\",accuracy_score(y_test, y_pred).round(2))\n",
    "\n"
   ]
  },
  {
   "cell_type": "markdown",
   "id": "4b55e849",
   "metadata": {},
   "source": [
    "<a id=\"section_confusion\"></a>\n",
    "## Matriz de confusión"
   ]
  },
  {
   "cell_type": "code",
   "execution_count": 15,
   "id": "3d2a1374",
   "metadata": {},
   "outputs": [
    {
     "data": {
      "text/plain": [
       "array([[26611,  1377],\n",
       "       [ 3688,  6422]], dtype=int64)"
      ]
     },
     "execution_count": 15,
     "metadata": {},
     "output_type": "execute_result"
    }
   ],
   "source": [
    "# Obtenemos la matriz de confusión\n",
    "from sklearn.metrics import confusion_matrix\n",
    "cm = confusion_matrix(y_test, y_pred)\n",
    "cm"
   ]
  },
  {
   "cell_type": "markdown",
   "id": "02c62196",
   "metadata": {},
   "source": [
    "#### Graficar la matriz de confusión"
   ]
  },
  {
   "cell_type": "code",
   "execution_count": 16,
   "id": "7578d707",
   "metadata": {},
   "outputs": [
    {
     "data": {
      "image/png": "[encoded data removed]",
      "text/plain": [
       "<Figure size 432x288 with 2 Axes>"
      ]
     },
     "metadata": {
      "needs_background": "light"
     },
     "output_type": "display_data"
    }
   ],
   "source": [
    "# Graficamos la matriz de confusión para visualizarla mejor\n",
    "sns.heatmap(cm, annot=True)\n",
    "plt.ylabel('Etiquetas reales')\n",
    "plt.xlabel('Etiquetas predichas');"
   ]
  },
  {
   "cell_type": "code",
   "execution_count": 17,
   "id": "27afbcee",
   "metadata": {},
   "outputs": [
    {
     "data": {
      "text/plain": [
       "0.87"
      ]
     },
     "execution_count": 17,
     "metadata": {},
     "output_type": "execute_result"
    }
   ],
   "source": [
    "# Podemos calcular manualmente la exactitud de nuestro modelo...\n",
    "((cm[0,0] + cm[1,1]) / len(y_pred)).round(2)"
   ]
  },
  {
   "cell_type": "code",
   "execution_count": 18,
   "id": "ad4ff43d",
   "metadata": {},
   "outputs": [
    {
     "data": {
      "text/plain": [
       "0.87"
      ]
     },
     "execution_count": 18,
     "metadata": {},
     "output_type": "execute_result"
    }
   ],
   "source": [
    "# ... o computarla utilizando el método del accuracy score\n",
    "accuracy_score(y_test, y_pred).round(2)"
   ]
  },
  {
   "cell_type": "markdown",
   "id": "ab0b7607",
   "metadata": {},
   "source": [
    "<a id=\"section_conclusion\"></a>\n",
    "## Conclusión"
   ]
  },
  {
   "cell_type": "code",
   "execution_count": null,
   "id": "75b3e3af",
   "metadata": {},
   "outputs": [],
   "source": []
  },
  {
   "cell_type": "markdown",
   "id": "50281c60",
   "metadata": {},
   "source": [
    "## 4.1. Regresión logística  (Mae)"
   ]
  },
  {
   "cell_type": "code",
   "execution_count": null,
   "id": "e3953081",
   "metadata": {},
   "outputs": [],
   "source": []
  },
  {
   "cell_type": "code",
   "execution_count": null,
   "id": "bf5c072f",
   "metadata": {},
   "outputs": [],
   "source": []
  },
  {
   "cell_type": "markdown",
   "id": "738ee5ea",
   "metadata": {},
   "source": [
    "### 4.2.1. Búsqueda y selección del hiperparámetro"
   ]
  },
  {
   "cell_type": "markdown",
   "id": "00c80cb2",
   "metadata": {},
   "source": [
    "### 4.1. Naive Bayes multinomial (Enzo)\n"
   ]
  },
  {
   "cell_type": "code",
   "execution_count": 19,
   "id": "d9437f06",
   "metadata": {},
   "outputs": [],
   "source": [
    "## 4.1.1. Categorización de edad (o no :/)"
   ]
  },
  {
   "cell_type": "code",
   "execution_count": null,
   "id": "121ce84e",
   "metadata": {},
   "outputs": [],
   "source": []
  }
 ],
 "metadata": {
  "interpreter": {
   "hash": "6ac88a8a1a8cc340d2b05566e22fde7412d1d718644d4b1167688fa7d4044e9b"
  },
  "kernelspec": {
   "display_name": "Python 3 (ipykernel)",
   "language": "python",
   "name": "python3"
  },
  "language_info": {
   "codemirror_mode": {
    "name": "ipython",
    "version": 3
   },
   "file_extension": ".py",
   "mimetype": "text/x-python",
   "name": "python",
   "nbconvert_exporter": "python",
   "pygments_lexer": "ipython3",
   "version": "3.8.12"
  }
 },
 "nbformat": 4,
 "nbformat_minor": 5
}
