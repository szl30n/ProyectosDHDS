{
 "cells": [
  {
   "cell_type": "markdown",
   "id": "18436f32",
   "metadata": {
    "id": "7cfca387"
   },
   "source": [
    "# Preparación ambiente"
   ]
  },
  {
   "cell_type": "code",
   "execution_count": null,
   "id": "4e998f37",
   "metadata": {
    "colab": {
     "base_uri": "https://localhost:8080/"
    },
    "executionInfo": {
     "elapsed": 2604,
     "status": "ok",
     "timestamp": 1655396648181,
     "user": {
      "displayName": "Maela Lombardi",
      "userId": "03936068368896012188"
     },
     "user_tz": 180
    },
    "id": "PlT27ViHcjR2",
    "outputId": "f7266c64-222c-4a9d-bb64-5ba437413a2f"
   },
   "outputs": [],
   "source": [
    "#from google.colab import drive\n",
    "#drive.mount('/content/drive')"
   ]
  },
  {
   "cell_type": "code",
   "execution_count": 1,
   "id": "882ee433",
   "metadata": {
    "_cell_guid": "b1076dfc-b9ad-4769-8c92-a6c4dae69d19",
    "_uuid": "8f2839f25d086af736a60e9eeb907d3b93b6e0e5",
    "executionInfo": {
     "elapsed": 4495,
     "status": "ok",
     "timestamp": 1655396652668,
     "user": {
      "displayName": "Maela Lombardi",
      "userId": "03936068368896012188"
     },
     "user_tz": 180
    },
    "id": "f53d2183",
    "papermill": {
     "duration": 1.505952,
     "end_time": "2021-12-03T12:45:37.957425",
     "exception": false,
     "start_time": "2021-12-03T12:45:36.451473",
     "status": "completed"
    },
    "tags": []
   },
   "outputs": [],
   "source": [
    "import numpy as np \n",
    "import pandas as pd \n",
    "import matplotlib.pyplot as plt\n",
    "import seaborn as sns\n",
    "\n",
    "from sklearn.naive_bayes import GaussianNB\n",
    "from sklearn.neighbors import KNeighborsClassifier\n",
    "from sklearn.preprocessing import StandardScaler\n",
    "from sklearn.linear_model import LogisticRegression\n",
    "\n",
    "import warnings\n",
    "warnings.filterwarnings(\"ignore\")\n",
    "\n",
    "from sklearn import metrics\n",
    "from sklearn.metrics import confusion_matrix\n",
    "from sklearn.metrics import f1_score, accuracy_score\n",
    "from sklearn.metrics import classification_report\n",
    "from sklearn.model_selection import train_test_split\n",
    "from sklearn.metrics import roc_auc_score"
   ]
  },
  {
   "cell_type": "markdown",
   "id": "b932c4a7",
   "metadata": {
    "id": "493ee9c7"
   },
   "source": [
    "# Importación dataset"
   ]
  },
  {
   "cell_type": "code",
   "execution_count": 2,
   "id": "6a8a2659",
   "metadata": {},
   "outputs": [],
   "source": [
    "data = pd.read_csv(\"../data/patient_covid.csv\", sep = \",\", low_memory=False) "
   ]
  },
  {
   "cell_type": "code",
   "execution_count": null,
   "id": "9afa7581",
   "metadata": {
    "executionInfo": {
     "elapsed": 943,
     "status": "ok",
     "timestamp": 1655396653604,
     "user": {
      "displayName": "Maela Lombardi",
      "userId": "03936068368896012188"
     },
     "user_tz": 180
    },
    "id": "66eb2805",
    "papermill": {
     "duration": 0.326972,
     "end_time": "2021-12-03T12:45:38.557375",
     "exception": false,
     "start_time": "2021-12-03T12:45:38.230403",
     "status": "completed"
    },
    "tags": []
   },
   "outputs": [],
   "source": [
    "#data=pd.read_csv(\"../Data/patient.csv\")"
   ]
  },
  {
   "cell_type": "code",
   "execution_count": 3,
   "id": "8d708482",
   "metadata": {
    "colab": {
     "base_uri": "https://localhost:8080/"
    },
    "executionInfo": {
     "elapsed": 440,
     "status": "ok",
     "timestamp": 1655396654034,
     "user": {
      "displayName": "Maela Lombardi",
      "userId": "03936068368896012188"
     },
     "user_tz": 180
    },
    "id": "bfa737dd",
    "outputId": "1c737ba0-3085-409b-a242-7f861581ec54"
   },
   "outputs": [
    {
     "name": "stdout",
     "output_type": "stream",
     "text": [
      "inpatient                   2\n",
      "agegroup_10-19              2\n",
      "agegroup_20-29              2\n",
      "agegroup_30-39              2\n",
      "agegroup_40-49              2\n",
      "agegroup_50-59              2\n",
      "agegroup_60-69              2\n",
      "agegroup_70-79              2\n",
      "agegroup_80-89              2\n",
      "agegroup_90-99              2\n",
      "asthma_Y                    2\n",
      "cardiovascular_Y            2\n",
      "chronic_kidney_failure_N    2\n",
      "chronic_kidney_failure_Y    2\n",
      "copd_Y                      2\n",
      "covid_NOA                   2\n",
      "covid_Y                     2\n",
      "diabetes_N                  2\n",
      "diabetes_Y                  2\n",
      "hypertension_Y              2\n",
      "immunosuppression_Y         2\n",
      "obesity_Y                   2\n",
      "other_diseases_N            2\n",
      "other_diseases_Y            2\n",
      "pneumonia_Y                 2\n",
      "pregnant_Y                  2\n",
      "sex_M                       2\n",
      "smoker_Y                    2\n",
      "dtype: int64\n",
      "(95244, 28)\n"
     ]
    }
   ],
   "source": [
    "print(data.nunique())\n",
    "print(data.shape)"
   ]
  },
  {
   "cell_type": "markdown",
   "id": "c68cc181",
   "metadata": {
    "heading_collapsed": "true",
    "id": "0efa89d6"
   },
   "source": [
    "# Preparación Datos"
   ]
  },
  {
   "cell_type": "code",
   "execution_count": null,
   "id": "514171fa",
   "metadata": {},
   "outputs": [],
   "source": [
    "#Dropeo icu, intubated, death_date\n",
    "data=data.drop(['icu','intubated','death_date'], axis=1)\n",
    "print(data.columns)\n",
    "data.shape"
   ]
  },
  {
   "cell_type": "code",
   "execution_count": null,
   "id": "1deae526",
   "metadata": {
    "colab": {
     "base_uri": "https://localhost:8080/",
     "height": 270
    },
    "executionInfo": {
     "elapsed": 15,
     "status": "ok",
     "timestamp": 1655396654039,
     "user": {
      "displayName": "Maela Lombardi",
      "userId": "03936068368896012188"
     },
     "user_tz": 180
    },
    "id": "73b1cda2",
    "outputId": "45fef086-7a29-44e0-feb0-216f5355e22a",
    "papermill": {
     "duration": 0.077107,
     "end_time": "2021-12-03T12:45:39.363149",
     "exception": false,
     "start_time": "2021-12-03T12:45:39.286042",
     "status": "completed"
    },
    "tags": []
   },
   "outputs": [],
   "source": [
    "#99 a null y dropeo\n",
    "cols=data.columns.difference(['age'])\n",
    "\n",
    "df=(data[cols] == 99)\n",
    "ix=df[df.any(axis=1)].index\n",
    "print(ix)\n",
    "data.drop(df.index[ix], axis=0, inplace=True)\n",
    "data.shape"
   ]
  },
  {
   "cell_type": "code",
   "execution_count": null,
   "id": "9f233a46",
   "metadata": {},
   "outputs": [],
   "source": [
    "#Renombro columnas\n",
    "data.rename(columns={\"patient_type\": \"inpatient\", \"outcome\": \"covid\"},inplace=True)"
   ]
  },
  {
   "cell_type": "code",
   "execution_count": null,
   "id": "f52bd55e",
   "metadata": {},
   "outputs": [],
   "source": [
    "#Para predictivas: 1 -> Y, 2 -> N, \n",
    "cols = data.loc[:, data.columns.difference(['age', 'sex','inpatient'])].columns\n",
    "#print(cols) \n",
    "data[cols] = data[cols].replace([1,2],['Y','N'])\n",
    "\n",
    "#en sex: 1 -> F y 2-> M\n",
    "data['sex']= data['sex'].replace([1,2],['F','M'])\n",
    "\n",
    "#en pregnant : 98 -> N, 97 -> NA\n",
    "data['pregnant'] = data['pregnant'].replace([98,97],['N','NA'])\n",
    "\n",
    "# outcome: 3 -> NA\n",
    "data['covid'] = data['covid'].replace([3],['NA'])\n",
    "\n",
    "##Para target (inpatient): 1 -> 0, 2 -> 1\n",
    "data['inpatient']= data['inpatient'].replace([1,2],[0,1])\n",
    "data.head(5)"
   ]
  },
  {
   "cell_type": "code",
   "execution_count": null,
   "id": "e65be1b5",
   "metadata": {},
   "outputs": [],
   "source": [
    "data.groupby([\"sex\",\"pregnant\"])[\"pregnant\"].count()"
   ]
  },
  {
   "cell_type": "code",
   "execution_count": null,
   "id": "20b59c54",
   "metadata": {},
   "outputs": [],
   "source": [
    "#creo categorias para edad por décadas (puede ser por etapa biologica niños-jovenes-adultos-ancianos)\n",
    "data = data.assign(agegroup=pd.cut(data['age'], bins=[0, 10, 20, 30, 40, 50, 60, 70, 80, 90, 100], right=False, labels=[\"0-9\",\"10-19\",\"20-29\",\"30-39\",\"40-49\",\"50-59\",\"60-69\",\"70-79\",\"80-89\",\"90-99\"]))"
   ]
  },
  {
   "cell_type": "code",
   "execution_count": null,
   "id": "4b9b2da2",
   "metadata": {},
   "outputs": [],
   "source": [
    "data.columns"
   ]
  },
  {
   "cell_type": "code",
   "execution_count": null,
   "id": "f1ce39f2",
   "metadata": {},
   "outputs": [],
   "source": [
    "#elimino age para no tener dummies\n",
    "data.drop([\"age\"], axis=1, inplace=True)"
   ]
  },
  {
   "cell_type": "code",
   "execution_count": null,
   "id": "e95220eb",
   "metadata": {},
   "outputs": [],
   "source": [
    "data.columns"
   ]
  },
  {
   "cell_type": "code",
   "execution_count": null,
   "id": "60dcaf79",
   "metadata": {},
   "outputs": [],
   "source": [
    "#creo variables dummies de todas las columnas menos la target\n",
    "data = pd.get_dummies(data=data, columns= data.columns.difference([\"inpatient\"]),drop_first = True)"
   ]
  },
  {
   "cell_type": "code",
   "execution_count": null,
   "id": "ba9e7c4e",
   "metadata": {},
   "outputs": [],
   "source": [
    "data.columns"
   ]
  },
  {
   "cell_type": "markdown",
   "id": "35352fe9",
   "metadata": {
    "id": "cb2c10ad"
   },
   "source": [
    "# Creación variables X e Y"
   ]
  },
  {
   "cell_type": "markdown",
   "id": "19934067",
   "metadata": {
    "id": "f4e1ed9d"
   },
   "source": [
    "Eliminamos las columnas death_date, intubated y icu (por su correlación lineal con intubated)"
   ]
  },
  {
   "cell_type": "code",
   "execution_count": 4,
   "id": "1e1945d4",
   "metadata": {
    "colab": {
     "base_uri": "https://localhost:8080/",
     "height": 423
    },
    "executionInfo": {
     "elapsed": 27,
     "status": "ok",
     "timestamp": 1655396656718,
     "user": {
      "displayName": "Maela Lombardi",
      "userId": "03936068368896012188"
     },
     "user_tz": 180
    },
    "id": "ba147719",
    "outputId": "dd93fafa-04b5-47ba-b10e-450e3f0413ec",
    "papermill": {
     "duration": 0.091636,
     "end_time": "2021-12-03T12:45:41.371542",
     "exception": false,
     "start_time": "2021-12-03T12:45:41.279906",
     "status": "completed"
    },
    "tags": []
   },
   "outputs": [
    {
     "data": {
      "text/html": [
       "<div>\n",
       "<style scoped>\n",
       "    .dataframe tbody tr th:only-of-type {\n",
       "        vertical-align: middle;\n",
       "    }\n",
       "\n",
       "    .dataframe tbody tr th {\n",
       "        vertical-align: top;\n",
       "    }\n",
       "\n",
       "    .dataframe thead th {\n",
       "        text-align: right;\n",
       "    }\n",
       "</style>\n",
       "<table border=\"1\" class=\"dataframe\">\n",
       "  <thead>\n",
       "    <tr style=\"text-align: right;\">\n",
       "      <th></th>\n",
       "      <th>inpatient</th>\n",
       "    </tr>\n",
       "  </thead>\n",
       "  <tbody>\n",
       "    <tr>\n",
       "      <th>0</th>\n",
       "      <td>0</td>\n",
       "    </tr>\n",
       "    <tr>\n",
       "      <th>1</th>\n",
       "      <td>0</td>\n",
       "    </tr>\n",
       "    <tr>\n",
       "      <th>2</th>\n",
       "      <td>1</td>\n",
       "    </tr>\n",
       "    <tr>\n",
       "      <th>3</th>\n",
       "      <td>1</td>\n",
       "    </tr>\n",
       "    <tr>\n",
       "      <th>4</th>\n",
       "      <td>1</td>\n",
       "    </tr>\n",
       "    <tr>\n",
       "      <th>...</th>\n",
       "      <td>...</td>\n",
       "    </tr>\n",
       "    <tr>\n",
       "      <th>95239</th>\n",
       "      <td>1</td>\n",
       "    </tr>\n",
       "    <tr>\n",
       "      <th>95240</th>\n",
       "      <td>1</td>\n",
       "    </tr>\n",
       "    <tr>\n",
       "      <th>95241</th>\n",
       "      <td>1</td>\n",
       "    </tr>\n",
       "    <tr>\n",
       "      <th>95242</th>\n",
       "      <td>0</td>\n",
       "    </tr>\n",
       "    <tr>\n",
       "      <th>95243</th>\n",
       "      <td>0</td>\n",
       "    </tr>\n",
       "  </tbody>\n",
       "</table>\n",
       "<p>95244 rows × 1 columns</p>\n",
       "</div>"
      ],
      "text/plain": [
       "       inpatient\n",
       "0              0\n",
       "1              0\n",
       "2              1\n",
       "3              1\n",
       "4              1\n",
       "...          ...\n",
       "95239          1\n",
       "95240          1\n",
       "95241          1\n",
       "95242          0\n",
       "95243          0\n",
       "\n",
       "[95244 rows x 1 columns]"
      ]
     },
     "execution_count": 4,
     "metadata": {},
     "output_type": "execute_result"
    }
   ],
   "source": [
    "x=data.drop([\"inpatient\"],axis=1)\n",
    "y=data[\"inpatient\"]\n",
    "y=pd.DataFrame(y)\n",
    "y"
   ]
  },
  {
   "cell_type": "code",
   "execution_count": 5,
   "id": "0561554c",
   "metadata": {
    "colab": {
     "base_uri": "https://localhost:8080/"
    },
    "executionInfo": {
     "elapsed": 24,
     "status": "ok",
     "timestamp": 1655396656720,
     "user": {
      "displayName": "Maela Lombardi",
      "userId": "03936068368896012188"
     },
     "user_tz": 180
    },
    "id": "15d9cd27",
    "outputId": "0f29fa5e-eead-4004-998e-d10bca4d1baf",
    "papermill": {
     "duration": 0.090735,
     "end_time": "2021-12-03T12:45:41.537001",
     "exception": false,
     "start_time": "2021-12-03T12:45:41.446266",
     "status": "completed"
    },
    "tags": []
   },
   "outputs": [
    {
     "name": "stdout",
     "output_type": "stream",
     "text": [
      "X_train: 71433\n",
      "y_train: 71433\n",
      "X_test: 23811\n",
      "y_test: 23811\n"
     ]
    }
   ],
   "source": [
    "x_train,x_test,y_train,y_test=train_test_split(x,y,stratify=y)\n",
    "print (\"X_train:\" , x_train.shape[0])\n",
    "print (\"y_train:\" , y_train.shape[0])\n",
    "print (\"X_test:\" , x_test.shape[0])\n",
    "print (\"y_test:\" , y_test.shape[0])"
   ]
  },
  {
   "cell_type": "code",
   "execution_count": 6,
   "id": "9b429248",
   "metadata": {
    "colab": {
     "base_uri": "https://localhost:8080/",
     "height": 423
    },
    "executionInfo": {
     "elapsed": 21,
     "status": "ok",
     "timestamp": 1655396656722,
     "user": {
      "displayName": "Maela Lombardi",
      "userId": "03936068368896012188"
     },
     "user_tz": 180
    },
    "id": "01abc3b4",
    "outputId": "4fca0569-a547-46b5-8d8e-2cccbc92d926",
    "papermill": {
     "duration": 0.087684,
     "end_time": "2021-12-03T12:45:41.700698",
     "exception": false,
     "start_time": "2021-12-03T12:45:41.613014",
     "status": "completed"
    },
    "tags": []
   },
   "outputs": [
    {
     "data": {
      "text/html": [
       "<div>\n",
       "<style scoped>\n",
       "    .dataframe tbody tr th:only-of-type {\n",
       "        vertical-align: middle;\n",
       "    }\n",
       "\n",
       "    .dataframe tbody tr th {\n",
       "        vertical-align: top;\n",
       "    }\n",
       "\n",
       "    .dataframe thead th {\n",
       "        text-align: right;\n",
       "    }\n",
       "</style>\n",
       "<table border=\"1\" class=\"dataframe\">\n",
       "  <thead>\n",
       "    <tr style=\"text-align: right;\">\n",
       "      <th></th>\n",
       "      <th>inpatient</th>\n",
       "    </tr>\n",
       "  </thead>\n",
       "  <tbody>\n",
       "    <tr>\n",
       "      <th>38491</th>\n",
       "      <td>0</td>\n",
       "    </tr>\n",
       "    <tr>\n",
       "      <th>91560</th>\n",
       "      <td>1</td>\n",
       "    </tr>\n",
       "    <tr>\n",
       "      <th>76877</th>\n",
       "      <td>1</td>\n",
       "    </tr>\n",
       "    <tr>\n",
       "      <th>4873</th>\n",
       "      <td>0</td>\n",
       "    </tr>\n",
       "    <tr>\n",
       "      <th>45306</th>\n",
       "      <td>1</td>\n",
       "    </tr>\n",
       "    <tr>\n",
       "      <th>...</th>\n",
       "      <td>...</td>\n",
       "    </tr>\n",
       "    <tr>\n",
       "      <th>39173</th>\n",
       "      <td>0</td>\n",
       "    </tr>\n",
       "    <tr>\n",
       "      <th>22419</th>\n",
       "      <td>0</td>\n",
       "    </tr>\n",
       "    <tr>\n",
       "      <th>24578</th>\n",
       "      <td>0</td>\n",
       "    </tr>\n",
       "    <tr>\n",
       "      <th>56487</th>\n",
       "      <td>0</td>\n",
       "    </tr>\n",
       "    <tr>\n",
       "      <th>35763</th>\n",
       "      <td>0</td>\n",
       "    </tr>\n",
       "  </tbody>\n",
       "</table>\n",
       "<p>71433 rows × 1 columns</p>\n",
       "</div>"
      ],
      "text/plain": [
       "       inpatient\n",
       "38491          0\n",
       "91560          1\n",
       "76877          1\n",
       "4873           0\n",
       "45306          1\n",
       "...          ...\n",
       "39173          0\n",
       "22419          0\n",
       "24578          0\n",
       "56487          0\n",
       "35763          0\n",
       "\n",
       "[71433 rows x 1 columns]"
      ]
     },
     "execution_count": 6,
     "metadata": {},
     "output_type": "execute_result"
    }
   ],
   "source": [
    "y_train=pd.DataFrame(y_train)\n",
    "y_train"
   ]
  },
  {
   "cell_type": "code",
   "execution_count": null,
   "id": "fa678e0e",
   "metadata": {
    "executionInfo": {
     "elapsed": 21,
     "status": "ok",
     "timestamp": 1655396656723,
     "user": {
      "displayName": "Maela Lombardi",
      "userId": "03936068368896012188"
     },
     "user_tz": 180
    },
    "id": "0452255a",
    "papermill": {
     "duration": 0.083991,
     "end_time": "2021-12-03T12:45:41.860596",
     "exception": false,
     "start_time": "2021-12-03T12:45:41.776605",
     "status": "completed"
    },
    "tags": []
   },
   "outputs": [],
   "source": [
    "#y_train=y_train.astype('float')\n",
    "#y_test=y_test.astype('float')"
   ]
  },
  {
   "cell_type": "markdown",
   "id": "3aa82474",
   "metadata": {
    "id": "2zNi4R8yYNJ9"
   },
   "source": [
    "## GridSearch Para KNN"
   ]
  },
  {
   "cell_type": "code",
   "execution_count": null,
   "id": "05ec8d31",
   "metadata": {
    "executionInfo": {
     "elapsed": 265,
     "status": "ok",
     "timestamp": 1655397606076,
     "user": {
      "displayName": "Maela Lombardi",
      "userId": "03936068368896012188"
     },
     "user_tz": 180
    },
    "id": "BRgkAIVvX49K"
   },
   "outputs": [],
   "source": [
    "from sklearn.model_selection import GridSearchCV\n",
    "from sklearn.model_selection import StratifiedKFold\n",
    "from sklearn.model_selection import RandomizedSearchCV"
   ]
  },
  {
   "cell_type": "code",
   "execution_count": null,
   "id": "e67c3d75",
   "metadata": {
    "colab": {
     "base_uri": "https://localhost:8080/"
    },
    "executionInfo": {
     "elapsed": 299,
     "status": "ok",
     "timestamp": 1655397581790,
     "user": {
      "displayName": "Maela Lombardi",
      "userId": "03936068368896012188"
     },
     "user_tz": 180
    },
    "id": "os7m_Q8xX6NU",
    "outputId": "ffa99538-98f5-4b0a-89ef-b7e694840407"
   },
   "outputs": [],
   "source": [
    "knn=KNeighborsClassifier()\n",
    "\n",
    "k_range = list(range(1, 31))\n",
    "weight_options = ['uniform', 'distance']\n",
    "param_grid = dict(n_neighbors=k_range, weights=weight_options)\n",
    "\n",
    "folds=StratifiedKFold(n_splits=10, random_state=19, shuffle=True)"
   ]
  },
  {
   "cell_type": "code",
   "execution_count": null,
   "id": "2e4e8a7a",
   "metadata": {
    "executionInfo": {
     "elapsed": 308,
     "status": "ok",
     "timestamp": 1655397612789,
     "user": {
      "displayName": "Maela Lombardi",
      "userId": "03936068368896012188"
     },
     "user_tz": 180
    },
    "id": "w0oAbbALYAUQ"
   },
   "outputs": [],
   "source": [
    "grid = GridSearchCV(knn, param_grid, cv=folds, scoring='accuracy')"
   ]
  },
  {
   "cell_type": "code",
   "execution_count": null,
   "id": "057d7047",
   "metadata": {
    "colab": {
     "base_uri": "https://localhost:8080/"
    },
    "executionInfo": {
     "elapsed": 3369096,
     "status": "ok",
     "timestamp": 1655400986425,
     "user": {
      "displayName": "Maela Lombardi",
      "userId": "03936068368896012188"
     },
     "user_tz": 180
    },
    "id": "Cml8BUpvYD1P",
    "outputId": "c65bb5e3-11b2-4aa7-98ef-823c3da5dddf"
   },
   "outputs": [],
   "source": [
    "#esto tarda una hora más o menos en correr\n",
    "grid.fit(x_train, y_train)\n",
    "y_pred_grid = grid.predict(x_test)"
   ]
  },
  {
   "cell_type": "code",
   "execution_count": null,
   "id": "8332e6a5",
   "metadata": {
    "colab": {
     "base_uri": "https://localhost:8080/"
    },
    "executionInfo": {
     "elapsed": 260,
     "status": "ok",
     "timestamp": 1655402985118,
     "user": {
      "displayName": "Maela Lombardi",
      "userId": "03936068368896012188"
     },
     "user_tz": 180
    },
    "id": "92Xo3h3QYbdn",
    "outputId": "617b0d23-62a5-456a-e82f-a9c879def74e"
   },
   "outputs": [],
   "source": [
    "display(grid.best_score_,grid.best_params_,grid.best_estimator_)"
   ]
  },
  {
   "cell_type": "code",
   "execution_count": null,
   "id": "d15c32a1",
   "metadata": {
    "executionInfo": {
     "elapsed": 250,
     "status": "ok",
     "timestamp": 1655403082024,
     "user": {
      "displayName": "Maela Lombardi",
      "userId": "03936068368896012188"
     },
     "user_tz": 180
    },
    "id": "HJEfkaQSYh7I"
   },
   "outputs": [],
   "source": [
    "print(confusion_matrix(y_test, y_pred_grid))\n",
    "print (classification_report(y_test, y_pred_grid))"
   ]
  },
  {
   "cell_type": "code",
   "execution_count": null,
   "id": "d336f395",
   "metadata": {},
   "outputs": [],
   "source": [
    "random = RandomizedSearchCV(knn, param_grid, n_iter=10, cv=folds, random_state=19)\n",
    "random.fit(X_train, y_train)\n",
    "y_pred_grid_random = random.predict(X_test)"
   ]
  },
  {
   "cell_type": "code",
   "execution_count": null,
   "id": "80b437b9",
   "metadata": {},
   "outputs": [],
   "source": [
    "print(confusion_matrix(y_test, y_pred_grid_random))\n",
    "print (classification_report(y_test, y_pred_grid_random))"
   ]
  },
  {
   "cell_type": "code",
   "execution_count": null,
   "id": "3ddc4cbe",
   "metadata": {},
   "outputs": [],
   "source": [
    "display(random.best_score_,random.best_params_,random.best_estimator_)"
   ]
  },
  {
   "cell_type": "markdown",
   "id": "903a6db2",
   "metadata": {},
   "source": [
    "## Logistic Regression"
   ]
  },
  {
   "cell_type": "code",
   "execution_count": 7,
   "id": "d4ca9235",
   "metadata": {},
   "outputs": [],
   "source": [
    "#Logistic regression\n",
    "#scaler = StandardScaler()\n",
    "#x_trainstd = scaler.fit_transform(x_train)\n",
    "#x_teststd = scaler.transform(x_test)\n",
    "lr = LogisticRegression(class_weight=\"balance\")\n",
    "lr.fit(x_train, y_train)\n",
    "score_lr= lr.score(x_test, y_test)"
   ]
  },
  {
   "cell_type": "code",
   "execution_count": 8,
   "id": "b5398880",
   "metadata": {},
   "outputs": [
    {
     "name": "stdout",
     "output_type": "stream",
     "text": [
      "Logistic Regression Score: 0.8747217672504305\n"
     ]
    }
   ],
   "source": [
    "print (\"Logistic Regression Score:\", score_lr)"
   ]
  },
  {
   "cell_type": "code",
   "execution_count": 9,
   "id": "597323ff",
   "metadata": {},
   "outputs": [],
   "source": [
    "y_pred_lr = lr.predict(x_test)"
   ]
  },
  {
   "cell_type": "code",
   "execution_count": 10,
   "id": "55e7a8d5",
   "metadata": {},
   "outputs": [
    {
     "name": "stdout",
     "output_type": "stream",
     "text": [
      "AS LR:\n",
      " 0.8747217672504305\n"
     ]
    }
   ],
   "source": [
    "print(\"AS LR:\\n\", accuracy_score(y_test, y_pred_lr))"
   ]
  },
  {
   "cell_type": "code",
   "execution_count": 11,
   "id": "a9145b9e",
   "metadata": {},
   "outputs": [
    {
     "name": "stdout",
     "output_type": "stream",
     "text": [
      "CM LR:\n",
      " [[16751   741]\n",
      " [ 2242  4077]]\n"
     ]
    }
   ],
   "source": [
    "print(\"CM LR:\\n\", confusion_matrix(y_test, y_pred_lr))"
   ]
  },
  {
   "cell_type": "code",
   "execution_count": 12,
   "id": "b7c04f18",
   "metadata": {},
   "outputs": [
    {
     "data": {
      "text/plain": [
       "array([0.21811683])"
      ]
     },
     "execution_count": 12,
     "metadata": {},
     "output_type": "execute_result"
    }
   ],
   "source": [
    "lr.intercept_"
   ]
  },
  {
   "cell_type": "code",
   "execution_count": 13,
   "id": "88068f79",
   "metadata": {},
   "outputs": [
    {
     "data": {
      "text/plain": [
       "array([[-1.16076268, -1.85751468, -1.83519481, -1.50032629, -1.10912017,\n",
       "        -0.68241957, -0.17604845,  0.18634915,  0.66417885, -0.1421404 ,\n",
       "         0.16684014, -0.0498836 ,  1.16096044,  0.59742408,  0.39701144,\n",
       "         0.63737348, -0.89843473, -0.2769965 ,  0.21193756,  0.98091411,\n",
       "         0.14195396, -0.53830832, -0.04313686,  3.45495375,  1.81458678,\n",
       "         0.31708228,  0.03659199]])"
      ]
     },
     "execution_count": 13,
     "metadata": {},
     "output_type": "execute_result"
    }
   ],
   "source": [
    "lr.coef_"
   ]
  },
  {
   "cell_type": "code",
   "execution_count": 14,
   "id": "d9b7bb4e",
   "metadata": {},
   "outputs": [
    {
     "name": "stdout",
     "output_type": "stream",
     "text": [
      "LR:\n",
      "               precision    recall  f1-score   support\n",
      "\n",
      "           0       0.88      0.96      0.92     17492\n",
      "           1       0.85      0.65      0.73      6319\n",
      "\n",
      "    accuracy                           0.87     23811\n",
      "   macro avg       0.86      0.80      0.83     23811\n",
      "weighted avg       0.87      0.87      0.87     23811\n",
      "\n"
     ]
    }
   ],
   "source": [
    "print(\"LR:\\n\", classification_report(y_test,y_pred_lr))"
   ]
  },
  {
   "cell_type": "code",
   "execution_count": 15,
   "id": "3639ced2",
   "metadata": {},
   "outputs": [],
   "source": [
    "importance = lr.coef_.flatten()"
   ]
  },
  {
   "cell_type": "code",
   "execution_count": 19,
   "id": "83ed1212",
   "metadata": {},
   "outputs": [
    {
     "data": {
      "image/png": "[encoded data removed]",
      "text/plain": [
       "<Figure size 720x720 with 1 Axes>"
      ]
     },
     "metadata": {
      "needs_background": "light"
     },
     "output_type": "display_data"
    }
   ],
   "source": [
    "plt.barh(x.columns,importance,color=\"g\")\n",
    "plt.title(\"Barplot Summary of Feature Importance\")\n",
    "plt.xlabel(\"score\")\n",
    "plt.show()"
   ]
  },
  {
   "cell_type": "code",
   "execution_count": 17,
   "id": "ba8cbfb8",
   "metadata": {},
   "outputs": [],
   "source": [
    "#LR\n",
    "probs_lr=lr.predict_proba(x_test)\n",
    "preds_lr=probs_lr[:,1]\n",
    "fpr_lr,tpr_lr, threshold_lr =metrics.roc_curve(y_test, y_pred_lr)\n",
    "roc_auc_lr=metrics.auc(fpr_lr,tpr_lr)"
   ]
  },
  {
   "cell_type": "code",
   "execution_count": 20,
   "id": "58d81867",
   "metadata": {},
   "outputs": [
    {
     "data": {
      "image/png": "[encoded data removed]",
      "text/plain": [
       "<Figure size 720x720 with 1 Axes>"
      ]
     },
     "metadata": {
      "needs_background": "light"
     },
     "output_type": "display_data"
    }
   ],
   "source": [
    "plt.title(\"ROC\")\n",
    "\n",
    "plt.plot(fpr_lr, tpr_lr, 'b', label=\"LR\" % roc_auc_lr)\n",
    "\n",
    "plt.legend(loc=\"lower right\")\n",
    "plt.plot([0,1],[0,1],'r--')\n",
    "plt.xlim([0,1])\n",
    "plt.ylim([0,1])\n",
    "plt.ylabel('True Pozitive Rate')\n",
    "plt.xlabel('False Positive Rate')\n",
    "plt.show()"
   ]
  },
  {
   "cell_type": "markdown",
   "id": "18fc4aaa",
   "metadata": {
    "id": "913c89d3",
    "papermill": {
     "duration": 0.076508,
     "end_time": "2021-12-03T12:45:42.013071",
     "exception": false,
     "start_time": "2021-12-03T12:45:41.936563",
     "status": "completed"
    },
    "tags": []
   },
   "source": [
    "## Machine Learning Algorithms"
   ]
  },
  {
   "cell_type": "code",
   "execution_count": null,
   "id": "d680a683",
   "metadata": {
    "colab": {
     "base_uri": "https://localhost:8080/"
    },
    "executionInfo": {
     "elapsed": 39014,
     "status": "ok",
     "timestamp": 1655396695716,
     "user": {
      "displayName": "Maela Lombardi",
      "userId": "03936068368896012188"
     },
     "user_tz": 180
    },
    "id": "7c9e09d1",
    "outputId": "bf3a27ce-eab9-450b-e3a4-4cd3da2abfdc",
    "papermill": {
     "duration": 1.392284,
     "end_time": "2021-12-03T12:45:43.482431",
     "exception": false,
     "start_time": "2021-12-03T12:45:42.090147",
     "status": "completed"
    },
    "tags": []
   },
   "outputs": [],
   "source": [
    "#Naive Bayes\n",
    "nb=MultinomialNB()\n",
    "nb.fit(x_train, y_train)\n",
    "score_nb=nb.score(x_test,y_test)\n",
    "\n",
    "#KNN (poner en n_neighbors el best_params_ de GridSearch)\n",
    "knn=KNeighborsClassifier(n_neighbors=3)\n",
    "knn.fit(x_train,y_train)\n",
    "score_knn=knn.score(x_test,y_test)\n",
    "\n",
    "#Logistic regression\n",
    "scaler = StandardScaler()\n",
    "x_trainstd = scaler.fit_transform(x_train)\n",
    "x_teststd = scaler.transform(x_test)\n",
    "lr = LogisticRegression()\n",
    "lr.fit(x_trainstd, y_train)\n",
    "score_lr= lr.score(x_teststd, y_test)\n",
    "\n",
    "#Score\n",
    "print (\"Naive Bayes Acc Score:\",score_nb)\n",
    "print (\"KNN Acc Score:\",score_knn)\n",
    "print (\"Logistic Regression Score:\", score_lr)"
   ]
  },
  {
   "cell_type": "code",
   "execution_count": null,
   "id": "c36cd793",
   "metadata": {
    "executionInfo": {
     "elapsed": 20431,
     "status": "ok",
     "timestamp": 1655396716131,
     "user": {
      "displayName": "Maela Lombardi",
      "userId": "03936068368896012188"
     },
     "user_tz": 180
    },
    "id": "fb317a81",
    "papermill": {
     "duration": 0.310132,
     "end_time": "2021-12-03T12:45:43.869416",
     "exception": false,
     "start_time": "2021-12-03T12:45:43.559284",
     "status": "completed"
    },
    "tags": []
   },
   "outputs": [],
   "source": [
    "y_pred_nb = nb.predict(x_test)\n",
    "y_pred_knn = knn.predict(x_test)\n",
    "y_pred_lr = lr.predict(x_teststd)"
   ]
  },
  {
   "cell_type": "code",
   "execution_count": null,
   "id": "9a15f288",
   "metadata": {
    "colab": {
     "base_uri": "https://localhost:8080/"
    },
    "executionInfo": {
     "elapsed": 76,
     "status": "ok",
     "timestamp": 1655396716132,
     "user": {
      "displayName": "Maela Lombardi",
      "userId": "03936068368896012188"
     },
     "user_tz": 180
    },
    "id": "c89Vm7v2OZXY",
    "outputId": "b7d2399b-b07e-41c6-aa25-98a1a01bf6ea"
   },
   "outputs": [],
   "source": [
    "print(\"AS NB:\\n\", accuracy_score(y_test, y_pred_nb))\n",
    "print(\"AS KNN:\\n\", accuracy_score(y_test, y_pred_knn))\n",
    "print(\"AS LR:\\n\", accuracy_score(y_test, y_pred_lr))"
   ]
  },
  {
   "cell_type": "code",
   "execution_count": null,
   "id": "eee7d055",
   "metadata": {},
   "outputs": [],
   "source": [
    "#usar cross validation Stratified K-fold porque el target está desbalanceado\n",
    "from sklearn.datasets import load_iris\n",
    "from sklearn.model_selection import cross_val_score,StratifiedKFold\n",
    "from sklearn.linear_model import LogisticRegression\n",
    "iris=load_iris()\n",
    "X=iris.data\n",
    "Y=iris.target\n",
    "logreg=LogisticRegression()\n",
    "stratifiedkf=StratifiedKFold(n_splits=5)\n",
    "score=cross_val_score(logreg,X,Y,cv=stratifiedkf)\n",
    "print(\"Cross Validation Scores are {}\".format(score))\n",
    "print(\"Average Cross Validation score :{}\".format(score.mean()))"
   ]
  },
  {
   "cell_type": "markdown",
   "id": "1205157a",
   "metadata": {
    "id": "ffb4679f",
    "papermill": {
     "duration": 0.075733,
     "end_time": "2021-12-03T12:45:44.021846",
     "exception": false,
     "start_time": "2021-12-03T12:45:43.946113",
     "status": "completed"
    },
    "tags": []
   },
   "source": [
    "## Confusion_matrix"
   ]
  },
  {
   "cell_type": "code",
   "execution_count": null,
   "id": "75e06f20",
   "metadata": {
    "colab": {
     "base_uri": "https://localhost:8080/"
    },
    "executionInfo": {
     "elapsed": 67,
     "status": "ok",
     "timestamp": 1655396716133,
     "user": {
      "displayName": "Maela Lombardi",
      "userId": "03936068368896012188"
     },
     "user_tz": 180
    },
    "id": "bab32f38",
    "outputId": "333f1bb4-44ae-4711-9a4e-d7057637ec41",
    "papermill": {
     "duration": 0.241807,
     "end_time": "2021-12-03T12:45:44.341111",
     "exception": false,
     "start_time": "2021-12-03T12:45:44.099304",
     "status": "completed"
    },
    "tags": []
   },
   "outputs": [],
   "source": [
    "print(\"CM NB:\\n\", confusion_matrix(y_test, y_pred_nb))\n",
    "print(\"CM KNN:\\n\", confusion_matrix(y_test, y_pred_knn))\n",
    "print(\"CM LR:\\n\", confusion_matrix(y_test, y_pred_lr))"
   ]
  },
  {
   "cell_type": "markdown",
   "id": "b336ae48",
   "metadata": {
    "id": "ba78f9d0",
    "papermill": {
     "duration": 0.077262,
     "end_time": "2021-12-03T12:45:44.496058",
     "exception": false,
     "start_time": "2021-12-03T12:45:44.418796",
     "status": "completed"
    },
    "tags": []
   },
   "source": [
    "## Recall,Precision and F-1 Score\n"
   ]
  },
  {
   "cell_type": "markdown",
   "id": "0735bf36",
   "metadata": {
    "id": "86677d9d",
    "papermill": {
     "duration": 0.077152,
     "end_time": "2021-12-03T12:45:44.650415",
     "exception": false,
     "start_time": "2021-12-03T12:45:44.573263",
     "status": "completed"
    },
    "tags": []
   },
   "source": [
    "* Recall    =  TP / (TP + FN)\n",
    "* Precision = TP / (TP + FP) \n",
    "* F-Measure = (2 * Precision * Recall) / (Precision + Recall)"
   ]
  },
  {
   "cell_type": "code",
   "execution_count": null,
   "id": "350d4879",
   "metadata": {
    "colab": {
     "base_uri": "https://localhost:8080/"
    },
    "executionInfo": {
     "elapsed": 390,
     "status": "ok",
     "timestamp": 1655396716464,
     "user": {
      "displayName": "Maela Lombardi",
      "userId": "03936068368896012188"
     },
     "user_tz": 180
    },
    "id": "8e8335d5",
    "outputId": "d36cdb69-60d0-4e2b-aba8-de1990fa1f59",
    "papermill": {
     "duration": 0.092534,
     "end_time": "2021-12-03T12:45:44.822186",
     "exception": false,
     "start_time": "2021-12-03T12:45:44.729652",
     "status": "completed"
    },
    "tags": []
   },
   "outputs": [],
   "source": [
    "print(\"NB:\\n\", classification_report(y_test,y_pred_nb))\n",
    "print(\"KNN:\\n\", classification_report(y_test,y_pred_knn))\n",
    "print(\"LR:\\n\", classification_report(y_test,y_pred_lr))"
   ]
  },
  {
   "cell_type": "code",
   "execution_count": null,
   "id": "b09f2700",
   "metadata": {
    "colab": {
     "base_uri": "https://localhost:8080/"
    },
    "executionInfo": {
     "elapsed": 11,
     "status": "ok",
     "timestamp": 1655396716465,
     "user": {
      "displayName": "Maela Lombardi",
      "userId": "03936068368896012188"
     },
     "user_tz": 180
    },
    "id": "eaba2773",
    "outputId": "78df398d-392e-4c8f-9fb3-4d84081f5208",
    "papermill": {
     "duration": 0.089199,
     "end_time": "2021-12-03T12:45:44.989455",
     "exception": false,
     "start_time": "2021-12-03T12:45:44.900256",
     "status": "completed"
    },
    "tags": []
   },
   "outputs": [],
   "source": [
    "print (\"F1 Score NB:\", f1_score(y_test,y_pred_nb))\n",
    "print (\"F1 Score KNN:\", f1_score(y_test,y_pred_knn))\n",
    "print (\"F1 Score LR:\", f1_score(y_test,y_pred_lr))"
   ]
  },
  {
   "cell_type": "markdown",
   "id": "263e1d67",
   "metadata": {
    "id": "d7aeb1e4",
    "papermill": {
     "duration": 0.080127,
     "end_time": "2021-12-03T12:45:46.820998",
     "exception": false,
     "start_time": "2021-12-03T12:45:46.740871",
     "status": "completed"
    },
    "tags": []
   },
   "source": [
    "## roc & auc"
   ]
  },
  {
   "cell_type": "code",
   "execution_count": null,
   "id": "881ca254",
   "metadata": {
    "executionInfo": {
     "elapsed": 20351,
     "status": "ok",
     "timestamp": 1655396736813,
     "user": {
      "displayName": "Maela Lombardi",
      "userId": "03936068368896012188"
     },
     "user_tz": 180
    },
    "id": "58e2b58f",
    "papermill": {
     "duration": 0.199069,
     "end_time": "2021-12-03T12:45:46.474247",
     "exception": false,
     "start_time": "2021-12-03T12:45:46.275178",
     "status": "completed"
    },
    "tags": []
   },
   "outputs": [],
   "source": [
    "#NB\n",
    "probs_nb=nb.predict_proba(x_test)\n",
    "preds_nb=probs_nb[:,1]\n",
    "fpr_nb,tpr_nb, threshold_nb =metrics.roc_curve(y_test, y_pred_nb)\n",
    "roc_auc_nb=metrics.auc(fpr_nb,tpr_nb)\n",
    "\n",
    "#KNN\n",
    "probs_knn=knn.predict_proba(x_test)\n",
    "preds_knn=probs_knn[:,1]\n",
    "fpr_knn,tpr_knn, threshold_knn =metrics.roc_curve(y_test, y_pred_knn)\n",
    "roc_auc_knn=metrics.auc(fpr_knn,tpr_knn)\n",
    "\n",
    "#LR\n",
    "probs_lr=lr.predict_proba(x_teststd)\n",
    "preds_lr=probs_lr[:,1]\n",
    "fpr_lr,tpr_lr, threshold_lr =metrics.roc_curve(y_test, y_pred_lr)\n",
    "roc_auc_lr=metrics.auc(fpr_lr,tpr_lr)"
   ]
  },
  {
   "cell_type": "code",
   "execution_count": null,
   "id": "c4078360",
   "metadata": {
    "colab": {
     "base_uri": "https://localhost:8080/",
     "height": 295
    },
    "executionInfo": {
     "elapsed": 52,
     "status": "ok",
     "timestamp": 1655396736828,
     "user": {
      "displayName": "Maela Lombardi",
      "userId": "03936068368896012188"
     },
     "user_tz": 180
    },
    "id": "0a7cb69d",
    "outputId": "2d1df106-4c4f-422d-d6b8-6a60d15a4f37",
    "papermill": {
     "duration": 0.315026,
     "end_time": "2021-12-03T12:45:47.217156",
     "exception": false,
     "start_time": "2021-12-03T12:45:46.902130",
     "status": "completed"
    },
    "tags": []
   },
   "outputs": [],
   "source": [
    "plt.title(\"ROC\")\n",
    "\n",
    "plt.plot(fpr_nb, tpr_nb, 'g', label=\"NB\" % roc_auc_nb)\n",
    "plt.plot(fpr_knn, tpr_knn, 'r', label=\"KNN\" % roc_auc_nb)\n",
    "plt.plot(fpr_lr, tpr_lr, 'b', label=\"LR\" % roc_auc_nb)\n",
    "\n",
    "plt.legend(loc=\"lower right\")\n",
    "plt.plot([0,1],[0,1],'r--')\n",
    "plt.xlim([0,1])\n",
    "plt.ylim([0,1])\n",
    "plt.ylabel('True Pozitive Rate')\n",
    "plt.xlabel('False Positive Rate')\n",
    "plt.show()"
   ]
  }
 ],
 "metadata": {
  "colab": {
   "name": "covid-19-ml-adaptado.ipynb",
   "provenance": []
  },
  "kernelspec": {
   "display_name": "Python 3 (ipykernel)",
   "language": "python",
   "name": "python3"
  },
  "language_info": {
   "codemirror_mode": {
    "name": "ipython",
    "version": 3
   },
   "file_extension": ".py",
   "mimetype": "text/x-python",
   "name": "python",
   "nbconvert_exporter": "python",
   "pygments_lexer": "ipython3",
   "version": "3.8.12"
  },
  "papermill": {
   "default_parameters": {},
   "duration": 41.042018,
   "end_time": "2021-12-03T12:46:08.370456",
   "environment_variables": {},
   "exception": null,
   "input_path": "__notebook__.ipynb",
   "output_path": "__notebook__.ipynb",
   "parameters": {},
   "start_time": "2021-12-03T12:45:27.328438",
   "version": "2.3.3"
  }
 },
 "nbformat": 4,
 "nbformat_minor": 5
}
