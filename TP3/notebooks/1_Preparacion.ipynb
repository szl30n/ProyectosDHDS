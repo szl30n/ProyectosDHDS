{
 "cells": [
  {
   "cell_type": "markdown",
   "id": "8a95b013",
   "metadata": {
    "heading_collapsed": "true"
   },
   "source": [
    "# ***Informacion del dataset***"
   ]
  },
  {
   "cell_type": "code",
   "execution_count": 1,
   "id": "e01b3592",
   "metadata": {},
   "outputs": [
    {
     "data": {
      "text/html": [
       "<style> table { display: inline-block  }</style>\n"
      ],
      "text/plain": [
       "<IPython.core.display.HTML object>"
      ]
     },
     "metadata": {},
     "output_type": "display_data"
    }
   ],
   "source": [
    "\n",
    "%%html\n",
    "<style> table { display: inline-block  }</style>"
   ]
  },
  {
   "cell_type": "markdown",
   "id": "c7b1bc69",
   "metadata": {},
   "source": [
    "https://www.kaggle.com/datasets/riteshahlawat/covid19-mexico-patient-health-dataset\n",
    "\n",
    "\n",
    "\n",
    "|col|0|1|97-98|\n",
    "|---|---|---|---|\n",
    "|sex|F|M|?|\n",
    "|hospitalized|no|si|?|\n",
    "|intubated|no|si|?|\n",
    "|pneumonia|no|si|?|\n",
    "|age|no|si|?|\n",
    "|pregnant|no|si|?|\n",
    "|diabetes|no|si|?|\n",
    "|copd|no|si|?|\n",
    "|asthma|no|si|?|\n",
    "|immunosuppression|no|si|?|\n",
    "|hypertension|no|si|?|\n",
    "|other_diseases|no|si|?|\n",
    "|cardiovascular|no|si|?|\n",
    "|obesity|no|si|?|\n",
    "|chronic_kidney_failure|no|si|?|\n",
    "|smoker|no|si|?|\n",
    "|another_case|no|si|?|\n",
    "|outcome|no|si|?|\n",
    "|icu|no|si|?|\n",
    "|dead|no|si|?|"
   ]
  },
  {
   "cell_type": "markdown",
   "id": "cffcdfa2",
   "metadata": {},
   "source": [
    "# **1. Importación de *modules***"
   ]
  },
  {
   "cell_type": "code",
   "execution_count": 7,
   "id": "3dd1dc50",
   "metadata": {
    "id": "4780501a"
   },
   "outputs": [],
   "source": [
    "import numpy as np\n",
    "import pandas as pd\n",
    "\n",
    "import seaborn as sns\n",
    "import matplotlib.pyplot as plt\n",
    "import plotly.express as px\n",
    "\n",
    "from IPython.core.interactiveshell import InteractiveShell\n",
    "InteractiveShell.ast_node_interactivity = \"all\"\n",
    "%config Completer.use_jedi = False\n",
    "import warnings\n",
    "warnings.filterwarnings(\"ignore\")\n",
    "\n",
    "import funciones as f"
   ]
  },
  {
   "cell_type": "markdown",
   "id": "55eb637e",
   "metadata": {
    "id": "cdbfda03"
   },
   "source": [
    "# **2. Importación del dataset *Patient.csv***\n"
   ]
  },
  {
   "cell_type": "code",
   "execution_count": 8,
   "id": "8e8084eb",
   "metadata": {
    "id": "a7754818",
    "outputId": "05a09978-f855-4c68-c039-46d93fbde29b"
   },
   "outputs": [
    {
     "name": "stdout",
     "output_type": "stream",
     "text": [
      "   sex  patient_type  intubated  pneumonia  age  pregnant  diabetes  copd  \\\n",
      "0    2             1         97          2   42        97         2     2   \n",
      "1    1             1         97          2   51         2         2     2   \n",
      "2    2             2          2          2   51        97         1     2   \n",
      "\n",
      "   asthma  immunosuppression  hypertension  other_diseases  cardiovascular  \\\n",
      "0       1                  2             2               2               2   \n",
      "1       2                  2             2               2               2   \n",
      "2       2                  2             1               2               2   \n",
      "\n",
      "   obesity  chronic_kidney_failure  smoker  outcome  icu  death_date  \n",
      "0        2                       2       2        1   97  9999-99-99  \n",
      "1        2                       2       2        1   97  9999-99-99  \n",
      "2        1                       2       2        1    2  9999-99-99  \n",
      "(95252, 19)\n"
     ]
    }
   ],
   "source": [
    "data = pd.read_csv(\"../data/patient.csv\", sep = \",\", low_memory=False) \n",
    "f._get_info(data)"
   ]
  },
  {
   "cell_type": "markdown",
   "id": "7fa4a06e",
   "metadata": {},
   "source": [
    "# **3. Tratamiento de los datos**\n",
    "Limpieza e imputaciones"
   ]
  },
  {
   "cell_type": "markdown",
   "id": "f327780c",
   "metadata": {
    "id": "9eafe596"
   },
   "source": [
    "### 3.1. Dropeo de columnas no informativas"
   ]
  },
  {
   "cell_type": "code",
   "execution_count": 9,
   "id": "581d562f",
   "metadata": {},
   "outputs": [
    {
     "name": "stdout",
     "output_type": "stream",
     "text": [
      "Index(['sex', 'patient_type', 'pneumonia', 'age', 'pregnant', 'diabetes',\n",
      "       'copd', 'asthma', 'immunosuppression', 'hypertension', 'other_diseases',\n",
      "       'cardiovascular', 'obesity', 'chronic_kidney_failure', 'smoker',\n",
      "       'outcome'],\n",
      "      dtype='object')\n"
     ]
    },
    {
     "data": {
      "text/plain": [
       "(95252, 16)"
      ]
     },
     "execution_count": 9,
     "metadata": {},
     "output_type": "execute_result"
    }
   ],
   "source": [
    "#Dropeo icu, intubated, death_date\n",
    "data=data.drop(['icu','intubated','death_date'], axis=1)\n",
    "print(data.columns)\n",
    "#f._get_info(data)\n",
    "data.shape"
   ]
  },
  {
   "cell_type": "code",
   "execution_count": 10,
   "id": "bab75867",
   "metadata": {},
   "outputs": [
    {
     "name": "stdout",
     "output_type": "stream",
     "text": [
      "Int64Index([161, 174, 592, 609, 644, 13322, 15671, 27316], dtype='int64')\n"
     ]
    },
    {
     "data": {
      "text/plain": [
       "(95244, 16)"
      ]
     },
     "execution_count": 10,
     "metadata": {},
     "output_type": "execute_result"
    }
   ],
   "source": [
    "#99 a null y dropeo\n",
    "cols=data.columns.difference(['age'])\n",
    "\n",
    "df=(data[cols] == 99)\n",
    "ix=df[df.any(axis=1)].index\n",
    "print(ix)\n",
    "data.drop(df.index[ix], axis=0, inplace=True)\n",
    "data.shape\n"
   ]
  },
  {
   "cell_type": "markdown",
   "id": "b7c618f8",
   "metadata": {},
   "source": [
    "### 3.2. Renombre de columnas ambiguas\n",
    "Por ejemplo, patient_type a inpatient, outcome a covid, etc"
   ]
  },
  {
   "cell_type": "code",
   "execution_count": 11,
   "id": "3a975f5d",
   "metadata": {},
   "outputs": [],
   "source": [
    "data.rename(columns={\"patient_type\": \"inpatient\", \"outcome\": \"covid\"},inplace=True)"
   ]
  },
  {
   "cell_type": "markdown",
   "id": "0a1dd36d",
   "metadata": {},
   "source": [
    "Matriz de correlación para regresión logística"
   ]
  },
  {
   "cell_type": "code",
   "execution_count": null,
   "id": "bda49eee",
   "metadata": {},
   "outputs": [],
   "source": []
  },
  {
   "cell_type": "markdown",
   "id": "f8403e0f",
   "metadata": {},
   "source": [
    "### 3.3 Conversión de datos"
   ]
  },
  {
   "cell_type": "code",
   "execution_count": 12,
   "id": "f4f8c982",
   "metadata": {},
   "outputs": [
    {
     "data": {
      "text/html": [
       "<div>\n",
       "<style scoped>\n",
       "    .dataframe tbody tr th:only-of-type {\n",
       "        vertical-align: middle;\n",
       "    }\n",
       "\n",
       "    .dataframe tbody tr th {\n",
       "        vertical-align: top;\n",
       "    }\n",
       "\n",
       "    .dataframe thead th {\n",
       "        text-align: right;\n",
       "    }\n",
       "</style>\n",
       "<table border=\"1\" class=\"dataframe\">\n",
       "  <thead>\n",
       "    <tr style=\"text-align: right;\">\n",
       "      <th></th>\n",
       "      <th>sex</th>\n",
       "      <th>inpatient</th>\n",
       "      <th>pneumonia</th>\n",
       "      <th>age</th>\n",
       "      <th>pregnant</th>\n",
       "      <th>diabetes</th>\n",
       "      <th>copd</th>\n",
       "      <th>asthma</th>\n",
       "      <th>immunosuppression</th>\n",
       "      <th>hypertension</th>\n",
       "      <th>other_diseases</th>\n",
       "      <th>cardiovascular</th>\n",
       "      <th>obesity</th>\n",
       "      <th>chronic_kidney_failure</th>\n",
       "      <th>smoker</th>\n",
       "      <th>covid</th>\n",
       "    </tr>\n",
       "  </thead>\n",
       "  <tbody>\n",
       "    <tr>\n",
       "      <th>0</th>\n",
       "      <td>M</td>\n",
       "      <td>1</td>\n",
       "      <td>N</td>\n",
       "      <td>42</td>\n",
       "      <td>NA</td>\n",
       "      <td>N</td>\n",
       "      <td>N</td>\n",
       "      <td>Y</td>\n",
       "      <td>N</td>\n",
       "      <td>N</td>\n",
       "      <td>N</td>\n",
       "      <td>N</td>\n",
       "      <td>N</td>\n",
       "      <td>N</td>\n",
       "      <td>N</td>\n",
       "      <td>Y</td>\n",
       "    </tr>\n",
       "    <tr>\n",
       "      <th>1</th>\n",
       "      <td>F</td>\n",
       "      <td>1</td>\n",
       "      <td>N</td>\n",
       "      <td>51</td>\n",
       "      <td>N</td>\n",
       "      <td>N</td>\n",
       "      <td>N</td>\n",
       "      <td>N</td>\n",
       "      <td>N</td>\n",
       "      <td>N</td>\n",
       "      <td>N</td>\n",
       "      <td>N</td>\n",
       "      <td>N</td>\n",
       "      <td>N</td>\n",
       "      <td>N</td>\n",
       "      <td>Y</td>\n",
       "    </tr>\n",
       "    <tr>\n",
       "      <th>2</th>\n",
       "      <td>M</td>\n",
       "      <td>2</td>\n",
       "      <td>N</td>\n",
       "      <td>51</td>\n",
       "      <td>NA</td>\n",
       "      <td>Y</td>\n",
       "      <td>N</td>\n",
       "      <td>N</td>\n",
       "      <td>N</td>\n",
       "      <td>Y</td>\n",
       "      <td>N</td>\n",
       "      <td>N</td>\n",
       "      <td>Y</td>\n",
       "      <td>N</td>\n",
       "      <td>N</td>\n",
       "      <td>Y</td>\n",
       "    </tr>\n",
       "    <tr>\n",
       "      <th>3</th>\n",
       "      <td>M</td>\n",
       "      <td>2</td>\n",
       "      <td>N</td>\n",
       "      <td>57</td>\n",
       "      <td>NA</td>\n",
       "      <td>Y</td>\n",
       "      <td>N</td>\n",
       "      <td>N</td>\n",
       "      <td>N</td>\n",
       "      <td>N</td>\n",
       "      <td>N</td>\n",
       "      <td>N</td>\n",
       "      <td>N</td>\n",
       "      <td>N</td>\n",
       "      <td>N</td>\n",
       "      <td>Y</td>\n",
       "    </tr>\n",
       "    <tr>\n",
       "      <th>4</th>\n",
       "      <td>F</td>\n",
       "      <td>2</td>\n",
       "      <td>N</td>\n",
       "      <td>44</td>\n",
       "      <td>N</td>\n",
       "      <td>Y</td>\n",
       "      <td>N</td>\n",
       "      <td>N</td>\n",
       "      <td>N</td>\n",
       "      <td>N</td>\n",
       "      <td>N</td>\n",
       "      <td>N</td>\n",
       "      <td>N</td>\n",
       "      <td>N</td>\n",
       "      <td>N</td>\n",
       "      <td>N</td>\n",
       "    </tr>\n",
       "  </tbody>\n",
       "</table>\n",
       "</div>"
      ],
      "text/plain": [
       "  sex  inpatient pneumonia  age pregnant diabetes copd asthma  \\\n",
       "0   M          1         N   42       NA        N    N      Y   \n",
       "1   F          1         N   51        N        N    N      N   \n",
       "2   M          2         N   51       NA        Y    N      N   \n",
       "3   M          2         N   57       NA        Y    N      N   \n",
       "4   F          2         N   44        N        Y    N      N   \n",
       "\n",
       "  immunosuppression hypertension other_diseases cardiovascular obesity  \\\n",
       "0                 N            N              N              N       N   \n",
       "1                 N            N              N              N       N   \n",
       "2                 N            Y              N              N       Y   \n",
       "3                 N            N              N              N       N   \n",
       "4                 N            N              N              N       N   \n",
       "\n",
       "  chronic_kidney_failure smoker covid  \n",
       "0                      N      N     Y  \n",
       "1                      N      N     Y  \n",
       "2                      N      N     Y  \n",
       "3                      N      N     Y  \n",
       "4                      N      N     N  "
      ]
     },
     "execution_count": 12,
     "metadata": {},
     "output_type": "execute_result"
    }
   ],
   "source": [
    "#Para predictivas: 1 -> Y, 2 -> N, \n",
    "cols = data.loc[:, data.columns.difference(['age', 'sex','inpatient'])].columns\n",
    "#print(cols) \n",
    "data[cols] = data[cols].replace([1,2],['Y','N'])\n",
    "#f._get_info(data)\n",
    "\n",
    "#en sex: 1 -> F y 2-> M\n",
    "data['sex']= data['sex'].replace([1,2],['F','M'])\n",
    "#f._get_info(data)\n",
    "\n",
    "#en pregnant : 98 -> N, 97 -> NA\n",
    "data['pregnant'] = data['pregnant'].replace([98,97],['N','NA'])\n",
    "#f._get_info(data,5)\n",
    "\n",
    "# outcome: 3 -> NA\n",
    "data['covid'] = data['covid'].replace([3],['NA'])\n",
    "#f._get_info(data)\n",
    "\n",
    "##Para target (inpatient): 1 -> 0, 2 -> 1\n",
    "data['sex']= data['sex'].replace([1,2],[0,1])\n",
    "#f._get_info(data)\n",
    "data.head(5)"
   ]
  },
  {
   "cell_type": "code",
   "execution_count": 13,
   "id": "fb27a3d7",
   "metadata": {},
   "outputs": [
    {
     "data": {
      "text/plain": [
       "pregnant\n",
       "N     45914\n",
       "NA    48354\n",
       "Y       976\n",
       "Name: sex, dtype: int64"
      ]
     },
     "execution_count": 13,
     "metadata": {},
     "output_type": "execute_result"
    }
   ],
   "source": [
    "data.groupby([\"sex\",\"pregnant\"])[\"pregnant\"].count()"
   ]
  },
  {
   "cell_type": "markdown",
   "id": "e38e62e9",
   "metadata": {},
   "source": [
    "### 3.4. Tabla de counts"
   ]
  },
  {
   "cell_type": "code",
   "execution_count": null,
   "id": "b84cbd8b",
   "metadata": {},
   "outputs": [],
   "source": []
  },
  {
   "cell_type": "markdown",
   "id": "f69d1a25",
   "metadata": {},
   "source": [
    "### 3.5. Tabla pivot por inpatient"
   ]
  },
  {
   "cell_type": "code",
   "execution_count": null,
   "id": "54e3d938",
   "metadata": {},
   "outputs": [],
   "source": []
  },
  {
   "cell_type": "markdown",
   "id": "e43dcef8",
   "metadata": {},
   "source": [
    "### 3.6. Creación de dummies"
   ]
  },
  {
   "cell_type": "markdown",
   "id": "1e22a4f5",
   "metadata": {},
   "source": [
    "# **4. Exportación del dataset resultante a un nuevo *.csv***"
   ]
  },
  {
   "cell_type": "code",
   "execution_count": 18,
   "id": "41ef7f13",
   "metadata": {},
   "outputs": [
    {
     "data": {
      "text/plain": [
       "(95244, 16)"
      ]
     },
     "execution_count": 18,
     "metadata": {},
     "output_type": "execute_result"
    }
   ],
   "source": [
    "# para exportar resultados\n",
    "data.to_csv(r'../data/patient_covid.csv', index = False, header=True)\n",
    "data.shape"
   ]
  }
 ],
 "metadata": {
  "colab": {
   "collapsed_sections": [
    "cdbfda03",
    "5eb9b770",
    "2fa218dc"
   ],
   "name": "Principal.ipynb",
   "provenance": []
  },
  "interpreter": {
   "hash": "6ac88a8a1a8cc340d2b05566e22fde7412d1d718644d4b1167688fa7d4044e9b"
  },
  "kernelspec": {
   "display_name": "Python 3 (ipykernel)",
   "language": "python",
   "name": "python3"
  },
  "language_info": {
   "codemirror_mode": {
    "name": "ipython",
    "version": 3
   },
   "file_extension": ".py",
   "mimetype": "text/x-python",
   "name": "python",
   "nbconvert_exporter": "python",
   "pygments_lexer": "ipython3",
   "version": "3.8.12"
  }
 },
 "nbformat": 4,
 "nbformat_minor": 5
}
