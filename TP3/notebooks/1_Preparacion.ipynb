{
 "cells": [
  {
   "cell_type": "markdown",
   "id": "fd74cd0a",
   "metadata": {
    "heading_collapsed": "true"
   },
   "source": [
    "# ***Informacion del dataset***"
   ]
  },
  {
   "cell_type": "code",
   "execution_count": 21,
   "id": "d3d013bf",
   "metadata": {},
   "outputs": [
    {
     "data": {
      "text/html": [
       "<style> table { display: inline-block  }</style>\n"
      ],
      "text/plain": [
       "<IPython.core.display.HTML object>"
      ]
     },
     "metadata": {},
     "output_type": "display_data"
    }
   ],
   "source": [
    "\n",
    "%%html\n",
    "<style> table { display: inline-block  }</style>"
   ]
  },
  {
   "cell_type": "markdown",
   "id": "784d2b44",
   "metadata": {},
   "source": [
    "https://www.kaggle.com/datasets/riteshahlawat/covid19-mexico-patient-health-dataset\n",
    "\n",
    "\n",
    "\n",
    "|col|0|1|97-98|\n",
    "|---|---|---|---|\n",
    "|sex|F|M|?|\n",
    "|hospitalized|no|si|?|\n",
    "|intubated|no|si|?|\n",
    "|pneumonia|no|si|?|\n",
    "|age|no|si|?|\n",
    "|pregnant|no|si|?|\n",
    "|diabetes|no|si|?|\n",
    "|copd|no|si|?|\n",
    "|asthma|no|si|?|\n",
    "|immunosuppression|no|si|?|\n",
    "|hypertension|no|si|?|\n",
    "|other_diseases|no|si|?|\n",
    "|cardiovascular|no|si|?|\n",
    "|obesity|no|si|?|\n",
    "|chronic_kidney_failure|no|si|?|\n",
    "|smoker|no|si|?|\n",
    "|another_case|no|si|?|\n",
    "|outcome|no|si|?|\n",
    "|icu|no|si|?|\n",
    "|dead|no|si|?|"
   ]
  },
  {
   "cell_type": "markdown",
   "id": "77da4c21",
   "metadata": {},
   "source": [
    "# **1. Importación de *modules***"
   ]
  },
  {
   "cell_type": "code",
   "execution_count": 3,
   "id": "b3b1c8d4",
   "metadata": {
    "id": "4780501a"
   },
   "outputs": [],
   "source": [
    "import numpy as np\n",
    "import pandas as pd\n",
    "\n",
    "import re\n",
    "\n",
    "import seaborn as sns\n",
    "import matplotlib.pyplot as plt\n",
    "import plotly.express as px\n",
    "\n",
    "\n",
    "from sklearn.naive_bayes import GaussianNB\n",
    "from sklearn.neighbors import KNeighborsClassifier\n",
    "from sklearn import metrics\n",
    "from sklearn.metrics import confusion_matrix\n",
    "from sklearn.metrics import f1_score\n",
    "from sklearn.metrics import classification_report\n",
    "from sklearn.model_selection import train_test_split\n",
    "from sklearn.metrics import roc_auc_score\n",
    "from sklearn.linear_model import LogisticRegression\n",
    "\n",
    "from IPython.core.interactiveshell import InteractiveShell\n",
    "InteractiveShell.ast_node_interactivity = \"all\"\n",
    "%config Completer.use_jedi = False\n",
    "import warnings\n",
    "warnings.filterwarnings(\"ignore\")\n",
    "\n",
    "import funciones as f"
   ]
  },
  {
   "cell_type": "markdown",
   "id": "cd8d90c4",
   "metadata": {
    "id": "cdbfda03"
   },
   "source": [
    "# **2. Importación del dataset *Patient.csv***\n"
   ]
  },
  {
   "cell_type": "code",
   "execution_count": 4,
   "id": "bb7396ff",
   "metadata": {
    "id": "a7754818",
    "outputId": "05a09978-f855-4c68-c039-46d93fbde29b"
   },
   "outputs": [
    {
     "name": "stdout",
     "output_type": "stream",
     "text": [
      "(95839, 20)\n"
     ]
    }
   ],
   "source": [
    "data_raw = pd.read_csv(\"../data/patient.csv\", sep = \",\", low_memory=False) \n",
    "#data.head(3)\n",
    "#data_raw.shape\n",
    "f._get_info(data_raw)"
   ]
  },
  {
   "cell_type": "markdown",
   "id": "6c453770",
   "metadata": {},
   "source": [
    "# **3. Tratamiento de los datos**"
   ]
  },
  {
   "cell_type": "markdown",
   "id": "78a7085e",
   "metadata": {},
   "source": [
    "## **3.2. Limpieza e imputaciones**"
   ]
  },
  {
   "cell_type": "code",
   "execution_count": null,
   "id": "442ff8dc",
   "metadata": {},
   "outputs": [],
   "source": [
    "data_raw[\"dead\"]=data_raw[\"dead\"].replace({\"9999-99-99\": 1})\n",
    "data_raw.loc[old_data['dead'] != 1, 'dead'] = 0\n",
    "\n"
   ]
  },
  {
   "cell_type": "markdown",
   "id": "802fe42f",
   "metadata": {
    "id": "9eafe596"
   },
   "source": [
    "### 3.2.1. Dropeo de columnas no informativas"
   ]
  },
  {
   "cell_type": "markdown",
   "id": "f310c773",
   "metadata": {},
   "source": [
    "Dropeo icu, intubated, death_date"
   ]
  },
  {
   "cell_type": "markdown",
   "id": "f9754720",
   "metadata": {},
   "source": [
    "### 3.2.1. Renombre de columnas ambiguas"
   ]
  },
  {
   "cell_type": "markdown",
   "id": "dc4ce755",
   "metadata": {},
   "source": [
    "Por ejemplo, patient_type a inpatient, outcome a covid, etc"
   ]
  },
  {
   "cell_type": "markdown",
   "id": "a7424eaf",
   "metadata": {},
   "source": [
    "### 3.2.1. Conversión de datos"
   ]
  },
  {
   "cell_type": "markdown",
   "id": "b5dabebd",
   "metadata": {},
   "source": [
    "99 a null y dropeo\n",
    "\n",
    "Matriz de correlación para regresión logística\n",
    "\n",
    "\n",
    "**Conversión**\n",
    "\n",
    "Para predictivas: 1 a Y, 2 a N, 97/98 a NA, NA en pregnancy a N, 1 a M y 2 a F en sex\n",
    "\n",
    "Para target (inpatient): 1 a 0, 2 a 1"
   ]
  },
  {
   "cell_type": "markdown",
   "id": "1626fd05",
   "metadata": {},
   "source": [
    "### 3.2.1. Tabla de counts"
   ]
  },
  {
   "cell_type": "code",
   "execution_count": null,
   "id": "fcbe146d",
   "metadata": {},
   "outputs": [],
   "source": []
  },
  {
   "cell_type": "markdown",
   "id": "e46caf34",
   "metadata": {},
   "source": [
    "### 3.2.1. Tabla pivot por inpatient"
   ]
  },
  {
   "cell_type": "code",
   "execution_count": null,
   "id": "fffd6c35",
   "metadata": {},
   "outputs": [],
   "source": []
  },
  {
   "cell_type": "markdown",
   "id": "e46caf34",
   "metadata": {},
   "source": [
    "### 3.2.1. Creación de dummies"
   ]
  },
  {
   "cell_type": "markdown",
   "id": "2d9cf585",
   "metadata": {},
   "source": [
    "# **4. Exportación del dataset resultante a un nuevo *.csv***"
   ]
  },
  {
   "cell_type": "code",
   "execution_count": null,
   "id": "93140c92",
   "metadata": {},
   "outputs": [],
   "source": []
  },
  {
   "cell_type": "code",
   "execution_count": null,
   "id": "68a25560",
   "metadata": {},
   "outputs": [],
   "source": []
  },
  {
   "cell_type": "code",
   "execution_count": null,
   "id": "4bbe50f9",
   "metadata": {},
   "outputs": [],
   "source": []
  },
  {
   "cell_type": "code",
   "execution_count": null,
   "id": "183dcd05",
   "metadata": {},
   "outputs": [],
   "source": []
  },
  {
   "cell_type": "code",
   "execution_count": null,
   "id": "48452912",
   "metadata": {},
   "outputs": [],
   "source": []
  }
 ],
 "metadata": {
  "colab": {
   "collapsed_sections": [
    "cdbfda03",
    "5eb9b770",
    "2fa218dc"
   ],
   "name": "Principal.ipynb",
   "provenance": []
  },
  "interpreter": {
   "hash": "6ac88a8a1a8cc340d2b05566e22fde7412d1d718644d4b1167688fa7d4044e9b"
  },
  "kernelspec": {
   "display_name": "Python 3 (ipykernel)",
   "language": "python",
   "name": "python3"
  },
  "language_info": {
   "codemirror_mode": {
    "name": "ipython",
    "version": 3
   },
   "file_extension": ".py",
   "mimetype": "text/x-python",
   "name": "python",
   "nbconvert_exporter": "python",
   "pygments_lexer": "ipython3",
   "version": "3.8.12"
  }
 },
 "nbformat": 4,
 "nbformat_minor": 5
}
