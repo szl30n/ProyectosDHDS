{
 "cells": [
  {
   "cell_type": "code",
   "execution_count": 1,
   "id": "afc6527d",
   "metadata": {
    "_cell_guid": "b1076dfc-b9ad-4769-8c92-a6c4dae69d19",
    "_uuid": "8f2839f25d086af736a60e9eeb907d3b93b6e0e5",
    "execution": {
     "iopub.execute_input": "2021-12-03T12:45:36.525914Z",
     "iopub.status.busy": "2021-12-03T12:45:36.524640Z",
     "iopub.status.idle": "2021-12-03T12:45:37.956559Z",
     "shell.execute_reply": "2021-12-03T12:45:37.957102Z",
     "shell.execute_reply.started": "2021-12-03T12:44:51.077578Z"
    },
    "papermill": {
     "duration": 1.505952,
     "end_time": "2021-12-03T12:45:37.957425",
     "exception": false,
     "start_time": "2021-12-03T12:45:36.451473",
     "status": "completed"
    },
    "tags": []
   },
   "outputs": [],
   "source": [
    "import numpy as np \n",
    "import pandas as pd \n",
    "import matplotlib.pyplot as plt\n",
    "import seaborn as sns\n",
    "from sklearn.naive_bayes import GaussianNB\n",
    "from sklearn.tree import DecisionTreeClassifier\n",
    "from sklearn.ensemble import RandomForestClassifier\n",
    "from sklearn.svm import SVC\n",
    "from sklearn.neighbors import KNeighborsClassifier\n",
    "import warnings\n",
    "warnings.filterwarnings(\"ignore\")\n",
    "from sklearn import metrics\n",
    "from sklearn.metrics import confusion_matrix\n",
    "from sklearn.metrics import f1_score\n",
    "from sklearn.metrics import classification_report\n",
    "from sklearn.model_selection import train_test_split\n",
    "from sklearn.ensemble import RandomForestClassifier\n",
    "from sklearn.ensemble import VotingClassifier\n",
    "from sklearn.ensemble import BaggingClassifier\n",
    "from sklearn.metrics import roc_auc_score\n",
    "import sklearn.metrics as metrics\n",
    "from xgboost import XGBClassifier\n",
    "from sklearn.ensemble import RandomForestClassifier\n",
    "from sklearn.linear_model import LogisticRegression"
   ]
  },
  {
   "cell_type": "code",
   "execution_count": 2,
   "id": "23fcaba5",
   "metadata": {
    "execution": {
     "iopub.execute_input": "2021-12-03T12:45:38.100281Z",
     "iopub.status.busy": "2021-12-03T12:45:38.099659Z",
     "iopub.status.idle": "2021-12-03T12:45:38.102565Z",
     "shell.execute_reply": "2021-12-03T12:45:38.103122Z",
     "shell.execute_reply.started": "2021-12-03T12:44:51.089527Z"
    },
    "papermill": {
     "duration": 0.075441,
     "end_time": "2021-12-03T12:45:38.103281",
     "exception": false,
     "start_time": "2021-12-03T12:45:38.027840",
     "status": "completed"
    },
    "tags": []
   },
   "outputs": [],
   "source": [
    "#pip install xgboost"
   ]
  },
  {
   "cell_type": "code",
   "execution_count": 3,
   "id": "c5744ca6",
   "metadata": {
    "execution": {
     "iopub.execute_input": "2021-12-03T12:45:38.302080Z",
     "iopub.status.busy": "2021-12-03T12:45:38.301483Z",
     "iopub.status.idle": "2021-12-03T12:45:38.556640Z",
     "shell.execute_reply": "2021-12-03T12:45:38.557179Z",
     "shell.execute_reply.started": "2021-12-03T12:44:51.103331Z"
    },
    "papermill": {
     "duration": 0.326972,
     "end_time": "2021-12-03T12:45:38.557375",
     "exception": false,
     "start_time": "2021-12-03T12:45:38.230403",
     "status": "completed"
    },
    "tags": []
   },
   "outputs": [],
   "source": [
    "old_data=pd.read_csv(\"../input/covid19-mexico-patient-health-dataset/patient.csv\")\n",
    "old_data[\"death_date\"]=old_data[\"death_date\"].replace({\"9999-99-99\": 1})\n",
    "old_data.loc[old_data['death_date'] != 1, 'death_date'] = 0"
   ]
  },
  {
   "cell_type": "code",
   "execution_count": 4,
   "id": "3e253fe0",
   "metadata": {
    "execution": {
     "iopub.execute_input": "2021-12-03T12:45:38.702744Z",
     "iopub.status.busy": "2021-12-03T12:45:38.702099Z",
     "iopub.status.idle": "2021-12-03T12:45:38.730108Z",
     "shell.execute_reply": "2021-12-03T12:45:38.730620Z",
     "shell.execute_reply.started": "2021-12-03T12:44:51.312219Z"
    },
    "papermill": {
     "duration": 0.103505,
     "end_time": "2021-12-03T12:45:38.730790",
     "exception": false,
     "start_time": "2021-12-03T12:45:38.627285",
     "status": "completed"
    },
    "tags": []
   },
   "outputs": [
    {
     "data": {
      "text/plain": [
       "sex                         2\n",
       "patient_type                2\n",
       "intubated                   4\n",
       "pneumonia                   3\n",
       "age                       104\n",
       "pregnant                    4\n",
       "diabetes                    3\n",
       "copd                        3\n",
       "asthma                      3\n",
       "immunosuppression           3\n",
       "hypertension                3\n",
       "other_diseases              3\n",
       "cardiovascular              3\n",
       "obesity                     3\n",
       "chronic_kidney_failure      3\n",
       "smoker                      3\n",
       "another_case                3\n",
       "outcome                     3\n",
       "icu                         4\n",
       "death_date                  2\n",
       "dtype: int64"
      ]
     },
     "execution_count": 4,
     "metadata": {},
     "output_type": "execute_result"
    }
   ],
   "source": [
    "old_data.nunique()"
   ]
  },
  {
   "cell_type": "code",
   "execution_count": 5,
   "id": "e5798446",
   "metadata": {
    "execution": {
     "iopub.execute_input": "2021-12-03T12:45:38.885450Z",
     "iopub.status.busy": "2021-12-03T12:45:38.884793Z",
     "iopub.status.idle": "2021-12-03T12:45:38.903462Z",
     "shell.execute_reply": "2021-12-03T12:45:38.902920Z",
     "shell.execute_reply.started": "2021-12-03T12:44:51.344581Z"
    },
    "papermill": {
     "duration": 0.102946,
     "end_time": "2021-12-03T12:45:38.903622",
     "exception": false,
     "start_time": "2021-12-03T12:45:38.800676",
     "status": "completed"
    },
    "tags": []
   },
   "outputs": [
    {
     "name": "stdout",
     "output_type": "stream",
     "text": [
      "<class 'pandas.core.frame.DataFrame'>\n",
      "RangeIndex: 95839 entries, 0 to 95838\n",
      "Data columns (total 20 columns):\n",
      " #   Column                  Non-Null Count  Dtype \n",
      "---  ------                  --------------  ----- \n",
      " 0   sex                     95839 non-null  int64 \n",
      " 1   patient_type            95839 non-null  int64 \n",
      " 2   intubated               95839 non-null  int64 \n",
      " 3   pneumonia               95839 non-null  int64 \n",
      " 4   age                     95839 non-null  int64 \n",
      " 5   pregnant                95839 non-null  int64 \n",
      " 6   diabetes                95839 non-null  int64 \n",
      " 7   copd                    95839 non-null  int64 \n",
      " 8   asthma                  95839 non-null  int64 \n",
      " 9   immunosuppression       95839 non-null  int64 \n",
      " 10  hypertension            95839 non-null  int64 \n",
      " 11  other_diseases          95839 non-null  int64 \n",
      " 12  cardiovascular          95839 non-null  int64 \n",
      " 13  obesity                 95839 non-null  int64 \n",
      " 14  chronic_kidney_failure  95839 non-null  int64 \n",
      " 15  smoker                  95839 non-null  int64 \n",
      " 16  another_case            95839 non-null  int64 \n",
      " 17  outcome                 95839 non-null  int64 \n",
      " 18  icu                     95839 non-null  int64 \n",
      " 19  death_date              95839 non-null  object\n",
      "dtypes: int64(19), object(1)\n",
      "memory usage: 14.6+ MB\n"
     ]
    }
   ],
   "source": [
    "old_data.info()"
   ]
  },
  {
   "cell_type": "code",
   "execution_count": 6,
   "id": "9244b9fa",
   "metadata": {
    "execution": {
     "iopub.execute_input": "2021-12-03T12:45:39.045985Z",
     "iopub.status.busy": "2021-12-03T12:45:39.045405Z",
     "iopub.status.idle": "2021-12-03T12:45:39.057202Z",
     "shell.execute_reply": "2021-12-03T12:45:39.057724Z",
     "shell.execute_reply.started": "2021-12-03T12:44:51.374057Z"
    },
    "papermill": {
     "duration": 0.084221,
     "end_time": "2021-12-03T12:45:39.057892",
     "exception": false,
     "start_time": "2021-12-03T12:45:38.973671",
     "status": "completed"
    },
    "tags": []
   },
   "outputs": [],
   "source": [
    "old_data['death_date']=old_data['death_date'].astype(object).astype(int)"
   ]
  },
  {
   "cell_type": "code",
   "execution_count": 7,
   "id": "d368c7f0",
   "metadata": {
    "execution": {
     "iopub.execute_input": "2021-12-03T12:45:39.201700Z",
     "iopub.status.busy": "2021-12-03T12:45:39.201046Z",
     "iopub.status.idle": "2021-12-03T12:45:39.216081Z",
     "shell.execute_reply": "2021-12-03T12:45:39.215533Z",
     "shell.execute_reply.started": "2021-12-03T12:44:51.391928Z"
    },
    "papermill": {
     "duration": 0.087604,
     "end_time": "2021-12-03T12:45:39.216221",
     "exception": false,
     "start_time": "2021-12-03T12:45:39.128617",
     "status": "completed"
    },
    "tags": []
   },
   "outputs": [
    {
     "name": "stdout",
     "output_type": "stream",
     "text": [
      "<class 'pandas.core.frame.DataFrame'>\n",
      "RangeIndex: 95839 entries, 0 to 95838\n",
      "Data columns (total 20 columns):\n",
      " #   Column                  Non-Null Count  Dtype\n",
      "---  ------                  --------------  -----\n",
      " 0   sex                     95839 non-null  int64\n",
      " 1   patient_type            95839 non-null  int64\n",
      " 2   intubated               95839 non-null  int64\n",
      " 3   pneumonia               95839 non-null  int64\n",
      " 4   age                     95839 non-null  int64\n",
      " 5   pregnant                95839 non-null  int64\n",
      " 6   diabetes                95839 non-null  int64\n",
      " 7   copd                    95839 non-null  int64\n",
      " 8   asthma                  95839 non-null  int64\n",
      " 9   immunosuppression       95839 non-null  int64\n",
      " 10  hypertension            95839 non-null  int64\n",
      " 11  other_diseases          95839 non-null  int64\n",
      " 12  cardiovascular          95839 non-null  int64\n",
      " 13  obesity                 95839 non-null  int64\n",
      " 14  chronic_kidney_failure  95839 non-null  int64\n",
      " 15  smoker                  95839 non-null  int64\n",
      " 16  another_case            95839 non-null  int64\n",
      " 17  outcome                 95839 non-null  int64\n",
      " 18  icu                     95839 non-null  int64\n",
      " 19  death_date              95839 non-null  int64\n",
      "dtypes: int64(20)\n",
      "memory usage: 14.6 MB\n"
     ]
    }
   ],
   "source": [
    "old_data.info()"
   ]
  },
  {
   "cell_type": "code",
   "execution_count": 8,
   "id": "34ad8056",
   "metadata": {
    "execution": {
     "iopub.execute_input": "2021-12-03T12:45:39.361231Z",
     "iopub.status.busy": "2021-12-03T12:45:39.360599Z",
     "iopub.status.idle": "2021-12-03T12:45:39.362441Z",
     "shell.execute_reply": "2021-12-03T12:45:39.362983Z",
     "shell.execute_reply.started": "2021-12-03T12:44:51.413253Z"
    },
    "papermill": {
     "duration": 0.077107,
     "end_time": "2021-12-03T12:45:39.363149",
     "exception": false,
     "start_time": "2021-12-03T12:45:39.286042",
     "status": "completed"
    },
    "tags": []
   },
   "outputs": [],
   "source": [
    "#old_data"
   ]
  },
  {
   "cell_type": "markdown",
   "id": "bd072ca5",
   "metadata": {
    "papermill": {
     "duration": 0.072002,
     "end_time": "2021-12-03T12:45:39.505360",
     "exception": false,
     "start_time": "2021-12-03T12:45:39.433358",
     "status": "completed"
    },
    "tags": []
   },
   "source": [
    "# Corr"
   ]
  },
  {
   "cell_type": "code",
   "execution_count": 9,
   "id": "a3675585",
   "metadata": {
    "execution": {
     "iopub.execute_input": "2021-12-03T12:45:39.651335Z",
     "iopub.status.busy": "2021-12-03T12:45:39.650690Z",
     "iopub.status.idle": "2021-12-03T12:45:39.824942Z",
     "shell.execute_reply": "2021-12-03T12:45:39.825492Z",
     "shell.execute_reply.started": "2021-12-03T12:44:51.418912Z"
    },
    "papermill": {
     "duration": 0.249047,
     "end_time": "2021-12-03T12:45:39.825668",
     "exception": false,
     "start_time": "2021-12-03T12:45:39.576621",
     "status": "completed"
    },
    "tags": []
   },
   "outputs": [
    {
     "data": {
      "text/html": [
       "<div>\n",
       "<style scoped>\n",
       "    .dataframe tbody tr th:only-of-type {\n",
       "        vertical-align: middle;\n",
       "    }\n",
       "\n",
       "    .dataframe tbody tr th {\n",
       "        vertical-align: top;\n",
       "    }\n",
       "\n",
       "    .dataframe thead th {\n",
       "        text-align: right;\n",
       "    }\n",
       "</style>\n",
       "<table border=\"1\" class=\"dataframe\">\n",
       "  <thead>\n",
       "    <tr style=\"text-align: right;\">\n",
       "      <th></th>\n",
       "      <th>sex</th>\n",
       "      <th>patient_type</th>\n",
       "      <th>intubated</th>\n",
       "      <th>pneumonia</th>\n",
       "      <th>age</th>\n",
       "      <th>pregnant</th>\n",
       "      <th>diabetes</th>\n",
       "      <th>copd</th>\n",
       "      <th>asthma</th>\n",
       "      <th>immunosuppression</th>\n",
       "      <th>hypertension</th>\n",
       "      <th>other_diseases</th>\n",
       "      <th>cardiovascular</th>\n",
       "      <th>obesity</th>\n",
       "      <th>chronic_kidney_failure</th>\n",
       "      <th>smoker</th>\n",
       "      <th>another_case</th>\n",
       "      <th>outcome</th>\n",
       "      <th>icu</th>\n",
       "      <th>death_date</th>\n",
       "    </tr>\n",
       "  </thead>\n",
       "  <tbody>\n",
       "    <tr>\n",
       "      <th>sex</th>\n",
       "      <td>1.000000</td>\n",
       "      <td>0.104142</td>\n",
       "      <td>0.104231</td>\n",
       "      <td>0.041587</td>\n",
       "      <td>0.036508</td>\n",
       "      <td>0.995064</td>\n",
       "      <td>0.015488</td>\n",
       "      <td>0.017833</td>\n",
       "      <td>0.017779</td>\n",
       "      <td>0.014783</td>\n",
       "      <td>0.016326</td>\n",
       "      <td>0.019640</td>\n",
       "      <td>0.015451</td>\n",
       "      <td>0.016856</td>\n",
       "      <td>0.015694</td>\n",
       "      <td>0.011192</td>\n",
       "      <td>0.016174</td>\n",
       "      <td>0.045686</td>\n",
       "      <td>0.104268</td>\n",
       "      <td>0.052972</td>\n",
       "    </tr>\n",
       "    <tr>\n",
       "      <th>patient_type</th>\n",
       "      <td>0.104142</td>\n",
       "      <td>1.000000</td>\n",
       "      <td>0.999327</td>\n",
       "      <td>0.263222</td>\n",
       "      <td>0.277913</td>\n",
       "      <td>0.103534</td>\n",
       "      <td>0.012617</td>\n",
       "      <td>0.020348</td>\n",
       "      <td>0.026499</td>\n",
       "      <td>0.025789</td>\n",
       "      <td>0.011135</td>\n",
       "      <td>0.039194</td>\n",
       "      <td>0.024838</td>\n",
       "      <td>0.022876</td>\n",
       "      <td>0.022190</td>\n",
       "      <td>0.024992</td>\n",
       "      <td>0.183498</td>\n",
       "      <td>0.087532</td>\n",
       "      <td>0.999299</td>\n",
       "      <td>0.282048</td>\n",
       "    </tr>\n",
       "    <tr>\n",
       "      <th>intubated</th>\n",
       "      <td>0.104231</td>\n",
       "      <td>0.999327</td>\n",
       "      <td>1.000000</td>\n",
       "      <td>0.263512</td>\n",
       "      <td>0.278253</td>\n",
       "      <td>0.103628</td>\n",
       "      <td>0.012775</td>\n",
       "      <td>0.020500</td>\n",
       "      <td>0.026657</td>\n",
       "      <td>0.025573</td>\n",
       "      <td>0.011283</td>\n",
       "      <td>0.039362</td>\n",
       "      <td>0.024987</td>\n",
       "      <td>0.023029</td>\n",
       "      <td>0.022344</td>\n",
       "      <td>0.025147</td>\n",
       "      <td>0.183582</td>\n",
       "      <td>0.087906</td>\n",
       "      <td>0.999966</td>\n",
       "      <td>0.282923</td>\n",
       "    </tr>\n",
       "    <tr>\n",
       "      <th>pneumonia</th>\n",
       "      <td>0.041587</td>\n",
       "      <td>0.263222</td>\n",
       "      <td>0.263512</td>\n",
       "      <td>1.000000</td>\n",
       "      <td>0.103844</td>\n",
       "      <td>0.041455</td>\n",
       "      <td>0.001884</td>\n",
       "      <td>0.004933</td>\n",
       "      <td>0.007060</td>\n",
       "      <td>0.007793</td>\n",
       "      <td>0.001364</td>\n",
       "      <td>0.014695</td>\n",
       "      <td>0.007436</td>\n",
       "      <td>0.005875</td>\n",
       "      <td>0.005447</td>\n",
       "      <td>0.006953</td>\n",
       "      <td>0.033221</td>\n",
       "      <td>0.033883</td>\n",
       "      <td>0.263465</td>\n",
       "      <td>0.108989</td>\n",
       "    </tr>\n",
       "    <tr>\n",
       "      <th>age</th>\n",
       "      <td>0.036508</td>\n",
       "      <td>0.277913</td>\n",
       "      <td>0.278253</td>\n",
       "      <td>0.103844</td>\n",
       "      <td>1.000000</td>\n",
       "      <td>0.035711</td>\n",
       "      <td>0.006527</td>\n",
       "      <td>0.019210</td>\n",
       "      <td>0.024390</td>\n",
       "      <td>0.023457</td>\n",
       "      <td>0.002451</td>\n",
       "      <td>0.025646</td>\n",
       "      <td>0.021370</td>\n",
       "      <td>0.017958</td>\n",
       "      <td>0.024006</td>\n",
       "      <td>0.022067</td>\n",
       "      <td>0.046247</td>\n",
       "      <td>0.072277</td>\n",
       "      <td>0.278264</td>\n",
       "      <td>0.185163</td>\n",
       "    </tr>\n",
       "    <tr>\n",
       "      <th>pregnant</th>\n",
       "      <td>0.995064</td>\n",
       "      <td>0.103534</td>\n",
       "      <td>0.103628</td>\n",
       "      <td>0.041455</td>\n",
       "      <td>0.035711</td>\n",
       "      <td>1.000000</td>\n",
       "      <td>0.027024</td>\n",
       "      <td>0.030218</td>\n",
       "      <td>0.030095</td>\n",
       "      <td>0.026829</td>\n",
       "      <td>0.028412</td>\n",
       "      <td>0.029823</td>\n",
       "      <td>0.027337</td>\n",
       "      <td>0.028823</td>\n",
       "      <td>0.027718</td>\n",
       "      <td>0.022950</td>\n",
       "      <td>0.015163</td>\n",
       "      <td>0.047578</td>\n",
       "      <td>0.103665</td>\n",
       "      <td>0.052960</td>\n",
       "    </tr>\n",
       "    <tr>\n",
       "      <th>diabetes</th>\n",
       "      <td>0.015488</td>\n",
       "      <td>0.012617</td>\n",
       "      <td>0.012775</td>\n",
       "      <td>0.001884</td>\n",
       "      <td>0.006527</td>\n",
       "      <td>0.027024</td>\n",
       "      <td>1.000000</td>\n",
       "      <td>0.869776</td>\n",
       "      <td>0.881200</td>\n",
       "      <td>0.858777</td>\n",
       "      <td>0.876861</td>\n",
       "      <td>0.749238</td>\n",
       "      <td>0.866721</td>\n",
       "      <td>0.809533</td>\n",
       "      <td>0.862719</td>\n",
       "      <td>0.837194</td>\n",
       "      <td>0.026889</td>\n",
       "      <td>0.030232</td>\n",
       "      <td>0.012740</td>\n",
       "      <td>0.006402</td>\n",
       "    </tr>\n",
       "    <tr>\n",
       "      <th>copd</th>\n",
       "      <td>0.017833</td>\n",
       "      <td>0.020348</td>\n",
       "      <td>0.020500</td>\n",
       "      <td>0.004933</td>\n",
       "      <td>0.019210</td>\n",
       "      <td>0.030218</td>\n",
       "      <td>0.869776</td>\n",
       "      <td>1.000000</td>\n",
       "      <td>0.918751</td>\n",
       "      <td>0.910085</td>\n",
       "      <td>0.893289</td>\n",
       "      <td>0.783647</td>\n",
       "      <td>0.903781</td>\n",
       "      <td>0.843663</td>\n",
       "      <td>0.900077</td>\n",
       "      <td>0.871733</td>\n",
       "      <td>0.032278</td>\n",
       "      <td>0.036061</td>\n",
       "      <td>0.020460</td>\n",
       "      <td>0.012222</td>\n",
       "    </tr>\n",
       "    <tr>\n",
       "      <th>asthma</th>\n",
       "      <td>0.017779</td>\n",
       "      <td>0.026499</td>\n",
       "      <td>0.026657</td>\n",
       "      <td>0.007060</td>\n",
       "      <td>0.024390</td>\n",
       "      <td>0.030095</td>\n",
       "      <td>0.881200</td>\n",
       "      <td>0.918751</td>\n",
       "      <td>1.000000</td>\n",
       "      <td>0.918711</td>\n",
       "      <td>0.897319</td>\n",
       "      <td>0.791514</td>\n",
       "      <td>0.912634</td>\n",
       "      <td>0.848370</td>\n",
       "      <td>0.914133</td>\n",
       "      <td>0.886042</td>\n",
       "      <td>0.034112</td>\n",
       "      <td>0.037689</td>\n",
       "      <td>0.026633</td>\n",
       "      <td>0.014577</td>\n",
       "    </tr>\n",
       "    <tr>\n",
       "      <th>immunosuppression</th>\n",
       "      <td>0.014783</td>\n",
       "      <td>0.025789</td>\n",
       "      <td>0.025573</td>\n",
       "      <td>0.007793</td>\n",
       "      <td>0.023457</td>\n",
       "      <td>0.026829</td>\n",
       "      <td>0.858777</td>\n",
       "      <td>0.910085</td>\n",
       "      <td>0.918711</td>\n",
       "      <td>1.000000</td>\n",
       "      <td>0.891359</td>\n",
       "      <td>0.791973</td>\n",
       "      <td>0.906272</td>\n",
       "      <td>0.848535</td>\n",
       "      <td>0.903133</td>\n",
       "      <td>0.877877</td>\n",
       "      <td>0.033583</td>\n",
       "      <td>0.033387</td>\n",
       "      <td>0.025190</td>\n",
       "      <td>0.017316</td>\n",
       "    </tr>\n",
       "    <tr>\n",
       "      <th>hypertension</th>\n",
       "      <td>0.016326</td>\n",
       "      <td>0.011135</td>\n",
       "      <td>0.011283</td>\n",
       "      <td>0.001364</td>\n",
       "      <td>0.002451</td>\n",
       "      <td>0.028412</td>\n",
       "      <td>0.876861</td>\n",
       "      <td>0.893289</td>\n",
       "      <td>0.897319</td>\n",
       "      <td>0.891359</td>\n",
       "      <td>1.000000</td>\n",
       "      <td>0.773648</td>\n",
       "      <td>0.904675</td>\n",
       "      <td>0.845066</td>\n",
       "      <td>0.895996</td>\n",
       "      <td>0.862587</td>\n",
       "      <td>0.027272</td>\n",
       "      <td>0.031894</td>\n",
       "      <td>0.011236</td>\n",
       "      <td>0.004750</td>\n",
       "    </tr>\n",
       "    <tr>\n",
       "      <th>other_diseases</th>\n",
       "      <td>0.019640</td>\n",
       "      <td>0.039194</td>\n",
       "      <td>0.039362</td>\n",
       "      <td>0.014695</td>\n",
       "      <td>0.025646</td>\n",
       "      <td>0.029823</td>\n",
       "      <td>0.749238</td>\n",
       "      <td>0.783647</td>\n",
       "      <td>0.791514</td>\n",
       "      <td>0.791973</td>\n",
       "      <td>0.773648</td>\n",
       "      <td>1.000000</td>\n",
       "      <td>0.801316</td>\n",
       "      <td>0.733823</td>\n",
       "      <td>0.785931</td>\n",
       "      <td>0.763860</td>\n",
       "      <td>0.021480</td>\n",
       "      <td>0.026727</td>\n",
       "      <td>0.038986</td>\n",
       "      <td>0.015320</td>\n",
       "    </tr>\n",
       "    <tr>\n",
       "      <th>cardiovascular</th>\n",
       "      <td>0.015451</td>\n",
       "      <td>0.024838</td>\n",
       "      <td>0.024987</td>\n",
       "      <td>0.007436</td>\n",
       "      <td>0.021370</td>\n",
       "      <td>0.027337</td>\n",
       "      <td>0.866721</td>\n",
       "      <td>0.903781</td>\n",
       "      <td>0.912634</td>\n",
       "      <td>0.906272</td>\n",
       "      <td>0.904675</td>\n",
       "      <td>0.801316</td>\n",
       "      <td>1.000000</td>\n",
       "      <td>0.856071</td>\n",
       "      <td>0.916242</td>\n",
       "      <td>0.888326</td>\n",
       "      <td>0.034096</td>\n",
       "      <td>0.036157</td>\n",
       "      <td>0.024948</td>\n",
       "      <td>0.015372</td>\n",
       "    </tr>\n",
       "    <tr>\n",
       "      <th>obesity</th>\n",
       "      <td>0.016856</td>\n",
       "      <td>0.022876</td>\n",
       "      <td>0.023029</td>\n",
       "      <td>0.005875</td>\n",
       "      <td>0.017958</td>\n",
       "      <td>0.028823</td>\n",
       "      <td>0.809533</td>\n",
       "      <td>0.843663</td>\n",
       "      <td>0.848370</td>\n",
       "      <td>0.848535</td>\n",
       "      <td>0.845066</td>\n",
       "      <td>0.733823</td>\n",
       "      <td>0.856071</td>\n",
       "      <td>1.000000</td>\n",
       "      <td>0.859204</td>\n",
       "      <td>0.840474</td>\n",
       "      <td>0.033646</td>\n",
       "      <td>0.026938</td>\n",
       "      <td>0.022990</td>\n",
       "      <td>0.004742</td>\n",
       "    </tr>\n",
       "    <tr>\n",
       "      <th>chronic_kidney_failure</th>\n",
       "      <td>0.015694</td>\n",
       "      <td>0.022190</td>\n",
       "      <td>0.022344</td>\n",
       "      <td>0.005447</td>\n",
       "      <td>0.024006</td>\n",
       "      <td>0.027718</td>\n",
       "      <td>0.862719</td>\n",
       "      <td>0.900077</td>\n",
       "      <td>0.914133</td>\n",
       "      <td>0.903133</td>\n",
       "      <td>0.895996</td>\n",
       "      <td>0.785931</td>\n",
       "      <td>0.916242</td>\n",
       "      <td>0.859204</td>\n",
       "      <td>1.000000</td>\n",
       "      <td>0.889492</td>\n",
       "      <td>0.032815</td>\n",
       "      <td>0.037716</td>\n",
       "      <td>0.022308</td>\n",
       "      <td>0.009510</td>\n",
       "    </tr>\n",
       "    <tr>\n",
       "      <th>smoker</th>\n",
       "      <td>0.011192</td>\n",
       "      <td>0.024992</td>\n",
       "      <td>0.025147</td>\n",
       "      <td>0.006953</td>\n",
       "      <td>0.022067</td>\n",
       "      <td>0.022950</td>\n",
       "      <td>0.837194</td>\n",
       "      <td>0.871733</td>\n",
       "      <td>0.886042</td>\n",
       "      <td>0.877877</td>\n",
       "      <td>0.862587</td>\n",
       "      <td>0.763860</td>\n",
       "      <td>0.888326</td>\n",
       "      <td>0.840474</td>\n",
       "      <td>0.889492</td>\n",
       "      <td>1.000000</td>\n",
       "      <td>0.036514</td>\n",
       "      <td>0.034835</td>\n",
       "      <td>0.025135</td>\n",
       "      <td>0.017503</td>\n",
       "    </tr>\n",
       "    <tr>\n",
       "      <th>another_case</th>\n",
       "      <td>0.016174</td>\n",
       "      <td>0.183498</td>\n",
       "      <td>0.183582</td>\n",
       "      <td>0.033221</td>\n",
       "      <td>0.046247</td>\n",
       "      <td>0.015163</td>\n",
       "      <td>0.026889</td>\n",
       "      <td>0.032278</td>\n",
       "      <td>0.034112</td>\n",
       "      <td>0.033583</td>\n",
       "      <td>0.027272</td>\n",
       "      <td>0.021480</td>\n",
       "      <td>0.034096</td>\n",
       "      <td>0.033646</td>\n",
       "      <td>0.032815</td>\n",
       "      <td>0.036514</td>\n",
       "      <td>1.000000</td>\n",
       "      <td>0.048133</td>\n",
       "      <td>0.183644</td>\n",
       "      <td>0.067689</td>\n",
       "    </tr>\n",
       "    <tr>\n",
       "      <th>outcome</th>\n",
       "      <td>0.045686</td>\n",
       "      <td>0.087532</td>\n",
       "      <td>0.087906</td>\n",
       "      <td>0.033883</td>\n",
       "      <td>0.072277</td>\n",
       "      <td>0.047578</td>\n",
       "      <td>0.030232</td>\n",
       "      <td>0.036061</td>\n",
       "      <td>0.037689</td>\n",
       "      <td>0.033387</td>\n",
       "      <td>0.031894</td>\n",
       "      <td>0.026727</td>\n",
       "      <td>0.036157</td>\n",
       "      <td>0.026938</td>\n",
       "      <td>0.037716</td>\n",
       "      <td>0.034835</td>\n",
       "      <td>0.048133</td>\n",
       "      <td>1.000000</td>\n",
       "      <td>0.087843</td>\n",
       "      <td>0.146525</td>\n",
       "    </tr>\n",
       "    <tr>\n",
       "      <th>icu</th>\n",
       "      <td>0.104268</td>\n",
       "      <td>0.999299</td>\n",
       "      <td>0.999966</td>\n",
       "      <td>0.263465</td>\n",
       "      <td>0.278264</td>\n",
       "      <td>0.103665</td>\n",
       "      <td>0.012740</td>\n",
       "      <td>0.020460</td>\n",
       "      <td>0.026633</td>\n",
       "      <td>0.025190</td>\n",
       "      <td>0.011236</td>\n",
       "      <td>0.038986</td>\n",
       "      <td>0.024948</td>\n",
       "      <td>0.022990</td>\n",
       "      <td>0.022308</td>\n",
       "      <td>0.025135</td>\n",
       "      <td>0.183644</td>\n",
       "      <td>0.087843</td>\n",
       "      <td>1.000000</td>\n",
       "      <td>0.282638</td>\n",
       "    </tr>\n",
       "    <tr>\n",
       "      <th>death_date</th>\n",
       "      <td>0.052972</td>\n",
       "      <td>0.282048</td>\n",
       "      <td>0.282923</td>\n",
       "      <td>0.108989</td>\n",
       "      <td>0.185163</td>\n",
       "      <td>0.052960</td>\n",
       "      <td>0.006402</td>\n",
       "      <td>0.012222</td>\n",
       "      <td>0.014577</td>\n",
       "      <td>0.017316</td>\n",
       "      <td>0.004750</td>\n",
       "      <td>0.015320</td>\n",
       "      <td>0.015372</td>\n",
       "      <td>0.004742</td>\n",
       "      <td>0.009510</td>\n",
       "      <td>0.017503</td>\n",
       "      <td>0.067689</td>\n",
       "      <td>0.146525</td>\n",
       "      <td>0.282638</td>\n",
       "      <td>1.000000</td>\n",
       "    </tr>\n",
       "  </tbody>\n",
       "</table>\n",
       "</div>"
      ],
      "text/plain": [
       "                             sex  patient_type  intubated  pneumonia  \\\n",
       "sex                     1.000000      0.104142   0.104231   0.041587   \n",
       "patient_type            0.104142      1.000000   0.999327   0.263222   \n",
       "intubated               0.104231      0.999327   1.000000   0.263512   \n",
       "pneumonia               0.041587      0.263222   0.263512   1.000000   \n",
       "age                     0.036508      0.277913   0.278253   0.103844   \n",
       "pregnant                0.995064      0.103534   0.103628   0.041455   \n",
       "diabetes                0.015488      0.012617   0.012775   0.001884   \n",
       "copd                    0.017833      0.020348   0.020500   0.004933   \n",
       "asthma                  0.017779      0.026499   0.026657   0.007060   \n",
       "immunosuppression       0.014783      0.025789   0.025573   0.007793   \n",
       "hypertension            0.016326      0.011135   0.011283   0.001364   \n",
       "other_diseases          0.019640      0.039194   0.039362   0.014695   \n",
       "cardiovascular          0.015451      0.024838   0.024987   0.007436   \n",
       "obesity                 0.016856      0.022876   0.023029   0.005875   \n",
       "chronic_kidney_failure  0.015694      0.022190   0.022344   0.005447   \n",
       "smoker                  0.011192      0.024992   0.025147   0.006953   \n",
       "another_case            0.016174      0.183498   0.183582   0.033221   \n",
       "outcome                 0.045686      0.087532   0.087906   0.033883   \n",
       "icu                     0.104268      0.999299   0.999966   0.263465   \n",
       "death_date              0.052972      0.282048   0.282923   0.108989   \n",
       "\n",
       "                             age  pregnant  diabetes      copd    asthma  \\\n",
       "sex                     0.036508  0.995064  0.015488  0.017833  0.017779   \n",
       "patient_type            0.277913  0.103534  0.012617  0.020348  0.026499   \n",
       "intubated               0.278253  0.103628  0.012775  0.020500  0.026657   \n",
       "pneumonia               0.103844  0.041455  0.001884  0.004933  0.007060   \n",
       "age                     1.000000  0.035711  0.006527  0.019210  0.024390   \n",
       "pregnant                0.035711  1.000000  0.027024  0.030218  0.030095   \n",
       "diabetes                0.006527  0.027024  1.000000  0.869776  0.881200   \n",
       "copd                    0.019210  0.030218  0.869776  1.000000  0.918751   \n",
       "asthma                  0.024390  0.030095  0.881200  0.918751  1.000000   \n",
       "immunosuppression       0.023457  0.026829  0.858777  0.910085  0.918711   \n",
       "hypertension            0.002451  0.028412  0.876861  0.893289  0.897319   \n",
       "other_diseases          0.025646  0.029823  0.749238  0.783647  0.791514   \n",
       "cardiovascular          0.021370  0.027337  0.866721  0.903781  0.912634   \n",
       "obesity                 0.017958  0.028823  0.809533  0.843663  0.848370   \n",
       "chronic_kidney_failure  0.024006  0.027718  0.862719  0.900077  0.914133   \n",
       "smoker                  0.022067  0.022950  0.837194  0.871733  0.886042   \n",
       "another_case            0.046247  0.015163  0.026889  0.032278  0.034112   \n",
       "outcome                 0.072277  0.047578  0.030232  0.036061  0.037689   \n",
       "icu                     0.278264  0.103665  0.012740  0.020460  0.026633   \n",
       "death_date              0.185163  0.052960  0.006402  0.012222  0.014577   \n",
       "\n",
       "                        immunosuppression  hypertension  other_diseases  \\\n",
       "sex                              0.014783      0.016326        0.019640   \n",
       "patient_type                     0.025789      0.011135        0.039194   \n",
       "intubated                        0.025573      0.011283        0.039362   \n",
       "pneumonia                        0.007793      0.001364        0.014695   \n",
       "age                              0.023457      0.002451        0.025646   \n",
       "pregnant                         0.026829      0.028412        0.029823   \n",
       "diabetes                         0.858777      0.876861        0.749238   \n",
       "copd                             0.910085      0.893289        0.783647   \n",
       "asthma                           0.918711      0.897319        0.791514   \n",
       "immunosuppression                1.000000      0.891359        0.791973   \n",
       "hypertension                     0.891359      1.000000        0.773648   \n",
       "other_diseases                   0.791973      0.773648        1.000000   \n",
       "cardiovascular                   0.906272      0.904675        0.801316   \n",
       "obesity                          0.848535      0.845066        0.733823   \n",
       "chronic_kidney_failure           0.903133      0.895996        0.785931   \n",
       "smoker                           0.877877      0.862587        0.763860   \n",
       "another_case                     0.033583      0.027272        0.021480   \n",
       "outcome                          0.033387      0.031894        0.026727   \n",
       "icu                              0.025190      0.011236        0.038986   \n",
       "death_date                       0.017316      0.004750        0.015320   \n",
       "\n",
       "                        cardiovascular   obesity  chronic_kidney_failure  \\\n",
       "sex                           0.015451  0.016856                0.015694   \n",
       "patient_type                  0.024838  0.022876                0.022190   \n",
       "intubated                     0.024987  0.023029                0.022344   \n",
       "pneumonia                     0.007436  0.005875                0.005447   \n",
       "age                           0.021370  0.017958                0.024006   \n",
       "pregnant                      0.027337  0.028823                0.027718   \n",
       "diabetes                      0.866721  0.809533                0.862719   \n",
       "copd                          0.903781  0.843663                0.900077   \n",
       "asthma                        0.912634  0.848370                0.914133   \n",
       "immunosuppression             0.906272  0.848535                0.903133   \n",
       "hypertension                  0.904675  0.845066                0.895996   \n",
       "other_diseases                0.801316  0.733823                0.785931   \n",
       "cardiovascular                1.000000  0.856071                0.916242   \n",
       "obesity                       0.856071  1.000000                0.859204   \n",
       "chronic_kidney_failure        0.916242  0.859204                1.000000   \n",
       "smoker                        0.888326  0.840474                0.889492   \n",
       "another_case                  0.034096  0.033646                0.032815   \n",
       "outcome                       0.036157  0.026938                0.037716   \n",
       "icu                           0.024948  0.022990                0.022308   \n",
       "death_date                    0.015372  0.004742                0.009510   \n",
       "\n",
       "                          smoker  another_case   outcome       icu  death_date  \n",
       "sex                     0.011192      0.016174  0.045686  0.104268    0.052972  \n",
       "patient_type            0.024992      0.183498  0.087532  0.999299    0.282048  \n",
       "intubated               0.025147      0.183582  0.087906  0.999966    0.282923  \n",
       "pneumonia               0.006953      0.033221  0.033883  0.263465    0.108989  \n",
       "age                     0.022067      0.046247  0.072277  0.278264    0.185163  \n",
       "pregnant                0.022950      0.015163  0.047578  0.103665    0.052960  \n",
       "diabetes                0.837194      0.026889  0.030232  0.012740    0.006402  \n",
       "copd                    0.871733      0.032278  0.036061  0.020460    0.012222  \n",
       "asthma                  0.886042      0.034112  0.037689  0.026633    0.014577  \n",
       "immunosuppression       0.877877      0.033583  0.033387  0.025190    0.017316  \n",
       "hypertension            0.862587      0.027272  0.031894  0.011236    0.004750  \n",
       "other_diseases          0.763860      0.021480  0.026727  0.038986    0.015320  \n",
       "cardiovascular          0.888326      0.034096  0.036157  0.024948    0.015372  \n",
       "obesity                 0.840474      0.033646  0.026938  0.022990    0.004742  \n",
       "chronic_kidney_failure  0.889492      0.032815  0.037716  0.022308    0.009510  \n",
       "smoker                  1.000000      0.036514  0.034835  0.025135    0.017503  \n",
       "another_case            0.036514      1.000000  0.048133  0.183644    0.067689  \n",
       "outcome                 0.034835      0.048133  1.000000  0.087843    0.146525  \n",
       "icu                     0.025135      0.183644  0.087843  1.000000    0.282638  \n",
       "death_date              0.017503      0.067689  0.146525  0.282638    1.000000  "
      ]
     },
     "execution_count": 9,
     "metadata": {},
     "output_type": "execute_result"
    }
   ],
   "source": [
    "old_data.corr().abs()"
   ]
  },
  {
   "cell_type": "code",
   "execution_count": 10,
   "id": "1848f1f8",
   "metadata": {
    "execution": {
     "iopub.execute_input": "2021-12-03T12:45:39.975239Z",
     "iopub.status.busy": "2021-12-03T12:45:39.974583Z",
     "iopub.status.idle": "2021-12-03T12:45:40.001235Z",
     "shell.execute_reply": "2021-12-03T12:45:40.001801Z",
     "shell.execute_reply.started": "2021-12-03T12:44:51.593750Z"
    },
    "papermill": {
     "duration": 0.104951,
     "end_time": "2021-12-03T12:45:40.001975",
     "exception": false,
     "start_time": "2021-12-03T12:45:39.897024",
     "status": "completed"
    },
    "tags": []
   },
   "outputs": [],
   "source": [
    "one=(old_data[old_data[\"death_date\"]==0])\n",
    "two=(old_data[old_data[\"death_date\"]==1])\n",
    "datam=pd.concat([one,two],ignore_index=True)"
   ]
  },
  {
   "cell_type": "code",
   "execution_count": 11,
   "id": "0fc79477",
   "metadata": {
    "execution": {
     "iopub.execute_input": "2021-12-03T12:45:40.149292Z",
     "iopub.status.busy": "2021-12-03T12:45:40.148662Z",
     "iopub.status.idle": "2021-12-03T12:45:40.304022Z",
     "shell.execute_reply": "2021-12-03T12:45:40.304927Z",
     "shell.execute_reply.started": "2021-12-03T12:44:51.621558Z"
    },
    "papermill": {
     "duration": 0.230129,
     "end_time": "2021-12-03T12:45:40.305171",
     "exception": false,
     "start_time": "2021-12-03T12:45:40.075042",
     "status": "completed"
    },
    "tags": []
   },
   "outputs": [
    {
     "data": {
      "text/html": [
       "<div>\n",
       "<style scoped>\n",
       "    .dataframe tbody tr th:only-of-type {\n",
       "        vertical-align: middle;\n",
       "    }\n",
       "\n",
       "    .dataframe tbody tr th {\n",
       "        vertical-align: top;\n",
       "    }\n",
       "\n",
       "    .dataframe thead th {\n",
       "        text-align: right;\n",
       "    }\n",
       "</style>\n",
       "<table border=\"1\" class=\"dataframe\">\n",
       "  <thead>\n",
       "    <tr style=\"text-align: right;\">\n",
       "      <th></th>\n",
       "      <th>sex</th>\n",
       "      <th>patient_type</th>\n",
       "      <th>intubated</th>\n",
       "      <th>pneumonia</th>\n",
       "      <th>age</th>\n",
       "      <th>pregnant</th>\n",
       "      <th>diabetes</th>\n",
       "      <th>copd</th>\n",
       "      <th>asthma</th>\n",
       "      <th>immunosuppression</th>\n",
       "      <th>hypertension</th>\n",
       "      <th>other_diseases</th>\n",
       "      <th>cardiovascular</th>\n",
       "      <th>obesity</th>\n",
       "      <th>chronic_kidney_failure</th>\n",
       "      <th>smoker</th>\n",
       "      <th>another_case</th>\n",
       "      <th>outcome</th>\n",
       "      <th>icu</th>\n",
       "      <th>death_date</th>\n",
       "    </tr>\n",
       "  </thead>\n",
       "  <tbody>\n",
       "    <tr>\n",
       "      <th>sex</th>\n",
       "      <td>1.000000</td>\n",
       "      <td>0.104142</td>\n",
       "      <td>0.104231</td>\n",
       "      <td>0.041587</td>\n",
       "      <td>0.036508</td>\n",
       "      <td>0.995064</td>\n",
       "      <td>0.015488</td>\n",
       "      <td>0.017833</td>\n",
       "      <td>0.017779</td>\n",
       "      <td>0.014783</td>\n",
       "      <td>0.016326</td>\n",
       "      <td>0.019640</td>\n",
       "      <td>0.015451</td>\n",
       "      <td>0.016856</td>\n",
       "      <td>0.015694</td>\n",
       "      <td>0.011192</td>\n",
       "      <td>0.016174</td>\n",
       "      <td>0.045686</td>\n",
       "      <td>0.104268</td>\n",
       "      <td>0.052972</td>\n",
       "    </tr>\n",
       "    <tr>\n",
       "      <th>patient_type</th>\n",
       "      <td>0.104142</td>\n",
       "      <td>1.000000</td>\n",
       "      <td>0.999327</td>\n",
       "      <td>0.263222</td>\n",
       "      <td>0.277913</td>\n",
       "      <td>0.103534</td>\n",
       "      <td>0.012617</td>\n",
       "      <td>0.020348</td>\n",
       "      <td>0.026499</td>\n",
       "      <td>0.025789</td>\n",
       "      <td>0.011135</td>\n",
       "      <td>0.039194</td>\n",
       "      <td>0.024838</td>\n",
       "      <td>0.022876</td>\n",
       "      <td>0.022190</td>\n",
       "      <td>0.024992</td>\n",
       "      <td>0.183498</td>\n",
       "      <td>0.087532</td>\n",
       "      <td>0.999299</td>\n",
       "      <td>0.282048</td>\n",
       "    </tr>\n",
       "    <tr>\n",
       "      <th>intubated</th>\n",
       "      <td>0.104231</td>\n",
       "      <td>0.999327</td>\n",
       "      <td>1.000000</td>\n",
       "      <td>0.263512</td>\n",
       "      <td>0.278253</td>\n",
       "      <td>0.103628</td>\n",
       "      <td>0.012775</td>\n",
       "      <td>0.020500</td>\n",
       "      <td>0.026657</td>\n",
       "      <td>0.025573</td>\n",
       "      <td>0.011283</td>\n",
       "      <td>0.039362</td>\n",
       "      <td>0.024987</td>\n",
       "      <td>0.023029</td>\n",
       "      <td>0.022344</td>\n",
       "      <td>0.025147</td>\n",
       "      <td>0.183582</td>\n",
       "      <td>0.087906</td>\n",
       "      <td>0.999966</td>\n",
       "      <td>0.282923</td>\n",
       "    </tr>\n",
       "    <tr>\n",
       "      <th>pneumonia</th>\n",
       "      <td>0.041587</td>\n",
       "      <td>0.263222</td>\n",
       "      <td>0.263512</td>\n",
       "      <td>1.000000</td>\n",
       "      <td>0.103844</td>\n",
       "      <td>0.041455</td>\n",
       "      <td>0.001884</td>\n",
       "      <td>0.004933</td>\n",
       "      <td>0.007060</td>\n",
       "      <td>0.007793</td>\n",
       "      <td>0.001364</td>\n",
       "      <td>0.014695</td>\n",
       "      <td>0.007436</td>\n",
       "      <td>0.005875</td>\n",
       "      <td>0.005447</td>\n",
       "      <td>0.006953</td>\n",
       "      <td>0.033221</td>\n",
       "      <td>0.033883</td>\n",
       "      <td>0.263465</td>\n",
       "      <td>0.108989</td>\n",
       "    </tr>\n",
       "    <tr>\n",
       "      <th>age</th>\n",
       "      <td>0.036508</td>\n",
       "      <td>0.277913</td>\n",
       "      <td>0.278253</td>\n",
       "      <td>0.103844</td>\n",
       "      <td>1.000000</td>\n",
       "      <td>0.035711</td>\n",
       "      <td>0.006527</td>\n",
       "      <td>0.019210</td>\n",
       "      <td>0.024390</td>\n",
       "      <td>0.023457</td>\n",
       "      <td>0.002451</td>\n",
       "      <td>0.025646</td>\n",
       "      <td>0.021370</td>\n",
       "      <td>0.017958</td>\n",
       "      <td>0.024006</td>\n",
       "      <td>0.022067</td>\n",
       "      <td>0.046247</td>\n",
       "      <td>0.072277</td>\n",
       "      <td>0.278264</td>\n",
       "      <td>0.185163</td>\n",
       "    </tr>\n",
       "    <tr>\n",
       "      <th>pregnant</th>\n",
       "      <td>0.995064</td>\n",
       "      <td>0.103534</td>\n",
       "      <td>0.103628</td>\n",
       "      <td>0.041455</td>\n",
       "      <td>0.035711</td>\n",
       "      <td>1.000000</td>\n",
       "      <td>0.027024</td>\n",
       "      <td>0.030218</td>\n",
       "      <td>0.030095</td>\n",
       "      <td>0.026829</td>\n",
       "      <td>0.028412</td>\n",
       "      <td>0.029823</td>\n",
       "      <td>0.027337</td>\n",
       "      <td>0.028823</td>\n",
       "      <td>0.027718</td>\n",
       "      <td>0.022950</td>\n",
       "      <td>0.015163</td>\n",
       "      <td>0.047578</td>\n",
       "      <td>0.103665</td>\n",
       "      <td>0.052960</td>\n",
       "    </tr>\n",
       "    <tr>\n",
       "      <th>diabetes</th>\n",
       "      <td>0.015488</td>\n",
       "      <td>0.012617</td>\n",
       "      <td>0.012775</td>\n",
       "      <td>0.001884</td>\n",
       "      <td>0.006527</td>\n",
       "      <td>0.027024</td>\n",
       "      <td>1.000000</td>\n",
       "      <td>0.869776</td>\n",
       "      <td>0.881200</td>\n",
       "      <td>0.858777</td>\n",
       "      <td>0.876861</td>\n",
       "      <td>0.749238</td>\n",
       "      <td>0.866721</td>\n",
       "      <td>0.809533</td>\n",
       "      <td>0.862719</td>\n",
       "      <td>0.837194</td>\n",
       "      <td>0.026889</td>\n",
       "      <td>0.030232</td>\n",
       "      <td>0.012740</td>\n",
       "      <td>0.006402</td>\n",
       "    </tr>\n",
       "    <tr>\n",
       "      <th>copd</th>\n",
       "      <td>0.017833</td>\n",
       "      <td>0.020348</td>\n",
       "      <td>0.020500</td>\n",
       "      <td>0.004933</td>\n",
       "      <td>0.019210</td>\n",
       "      <td>0.030218</td>\n",
       "      <td>0.869776</td>\n",
       "      <td>1.000000</td>\n",
       "      <td>0.918751</td>\n",
       "      <td>0.910085</td>\n",
       "      <td>0.893289</td>\n",
       "      <td>0.783647</td>\n",
       "      <td>0.903781</td>\n",
       "      <td>0.843663</td>\n",
       "      <td>0.900077</td>\n",
       "      <td>0.871733</td>\n",
       "      <td>0.032278</td>\n",
       "      <td>0.036061</td>\n",
       "      <td>0.020460</td>\n",
       "      <td>0.012222</td>\n",
       "    </tr>\n",
       "    <tr>\n",
       "      <th>asthma</th>\n",
       "      <td>0.017779</td>\n",
       "      <td>0.026499</td>\n",
       "      <td>0.026657</td>\n",
       "      <td>0.007060</td>\n",
       "      <td>0.024390</td>\n",
       "      <td>0.030095</td>\n",
       "      <td>0.881200</td>\n",
       "      <td>0.918751</td>\n",
       "      <td>1.000000</td>\n",
       "      <td>0.918711</td>\n",
       "      <td>0.897319</td>\n",
       "      <td>0.791514</td>\n",
       "      <td>0.912634</td>\n",
       "      <td>0.848370</td>\n",
       "      <td>0.914133</td>\n",
       "      <td>0.886042</td>\n",
       "      <td>0.034112</td>\n",
       "      <td>0.037689</td>\n",
       "      <td>0.026633</td>\n",
       "      <td>0.014577</td>\n",
       "    </tr>\n",
       "    <tr>\n",
       "      <th>immunosuppression</th>\n",
       "      <td>0.014783</td>\n",
       "      <td>0.025789</td>\n",
       "      <td>0.025573</td>\n",
       "      <td>0.007793</td>\n",
       "      <td>0.023457</td>\n",
       "      <td>0.026829</td>\n",
       "      <td>0.858777</td>\n",
       "      <td>0.910085</td>\n",
       "      <td>0.918711</td>\n",
       "      <td>1.000000</td>\n",
       "      <td>0.891359</td>\n",
       "      <td>0.791973</td>\n",
       "      <td>0.906272</td>\n",
       "      <td>0.848535</td>\n",
       "      <td>0.903133</td>\n",
       "      <td>0.877877</td>\n",
       "      <td>0.033583</td>\n",
       "      <td>0.033387</td>\n",
       "      <td>0.025190</td>\n",
       "      <td>0.017316</td>\n",
       "    </tr>\n",
       "    <tr>\n",
       "      <th>hypertension</th>\n",
       "      <td>0.016326</td>\n",
       "      <td>0.011135</td>\n",
       "      <td>0.011283</td>\n",
       "      <td>0.001364</td>\n",
       "      <td>0.002451</td>\n",
       "      <td>0.028412</td>\n",
       "      <td>0.876861</td>\n",
       "      <td>0.893289</td>\n",
       "      <td>0.897319</td>\n",
       "      <td>0.891359</td>\n",
       "      <td>1.000000</td>\n",
       "      <td>0.773648</td>\n",
       "      <td>0.904675</td>\n",
       "      <td>0.845066</td>\n",
       "      <td>0.895996</td>\n",
       "      <td>0.862587</td>\n",
       "      <td>0.027272</td>\n",
       "      <td>0.031894</td>\n",
       "      <td>0.011236</td>\n",
       "      <td>0.004750</td>\n",
       "    </tr>\n",
       "    <tr>\n",
       "      <th>other_diseases</th>\n",
       "      <td>0.019640</td>\n",
       "      <td>0.039194</td>\n",
       "      <td>0.039362</td>\n",
       "      <td>0.014695</td>\n",
       "      <td>0.025646</td>\n",
       "      <td>0.029823</td>\n",
       "      <td>0.749238</td>\n",
       "      <td>0.783647</td>\n",
       "      <td>0.791514</td>\n",
       "      <td>0.791973</td>\n",
       "      <td>0.773648</td>\n",
       "      <td>1.000000</td>\n",
       "      <td>0.801316</td>\n",
       "      <td>0.733823</td>\n",
       "      <td>0.785931</td>\n",
       "      <td>0.763860</td>\n",
       "      <td>0.021480</td>\n",
       "      <td>0.026727</td>\n",
       "      <td>0.038986</td>\n",
       "      <td>0.015320</td>\n",
       "    </tr>\n",
       "    <tr>\n",
       "      <th>cardiovascular</th>\n",
       "      <td>0.015451</td>\n",
       "      <td>0.024838</td>\n",
       "      <td>0.024987</td>\n",
       "      <td>0.007436</td>\n",
       "      <td>0.021370</td>\n",
       "      <td>0.027337</td>\n",
       "      <td>0.866721</td>\n",
       "      <td>0.903781</td>\n",
       "      <td>0.912634</td>\n",
       "      <td>0.906272</td>\n",
       "      <td>0.904675</td>\n",
       "      <td>0.801316</td>\n",
       "      <td>1.000000</td>\n",
       "      <td>0.856071</td>\n",
       "      <td>0.916242</td>\n",
       "      <td>0.888326</td>\n",
       "      <td>0.034096</td>\n",
       "      <td>0.036157</td>\n",
       "      <td>0.024948</td>\n",
       "      <td>0.015372</td>\n",
       "    </tr>\n",
       "    <tr>\n",
       "      <th>obesity</th>\n",
       "      <td>0.016856</td>\n",
       "      <td>0.022876</td>\n",
       "      <td>0.023029</td>\n",
       "      <td>0.005875</td>\n",
       "      <td>0.017958</td>\n",
       "      <td>0.028823</td>\n",
       "      <td>0.809533</td>\n",
       "      <td>0.843663</td>\n",
       "      <td>0.848370</td>\n",
       "      <td>0.848535</td>\n",
       "      <td>0.845066</td>\n",
       "      <td>0.733823</td>\n",
       "      <td>0.856071</td>\n",
       "      <td>1.000000</td>\n",
       "      <td>0.859204</td>\n",
       "      <td>0.840474</td>\n",
       "      <td>0.033646</td>\n",
       "      <td>0.026938</td>\n",
       "      <td>0.022990</td>\n",
       "      <td>0.004742</td>\n",
       "    </tr>\n",
       "    <tr>\n",
       "      <th>chronic_kidney_failure</th>\n",
       "      <td>0.015694</td>\n",
       "      <td>0.022190</td>\n",
       "      <td>0.022344</td>\n",
       "      <td>0.005447</td>\n",
       "      <td>0.024006</td>\n",
       "      <td>0.027718</td>\n",
       "      <td>0.862719</td>\n",
       "      <td>0.900077</td>\n",
       "      <td>0.914133</td>\n",
       "      <td>0.903133</td>\n",
       "      <td>0.895996</td>\n",
       "      <td>0.785931</td>\n",
       "      <td>0.916242</td>\n",
       "      <td>0.859204</td>\n",
       "      <td>1.000000</td>\n",
       "      <td>0.889492</td>\n",
       "      <td>0.032815</td>\n",
       "      <td>0.037716</td>\n",
       "      <td>0.022308</td>\n",
       "      <td>0.009510</td>\n",
       "    </tr>\n",
       "    <tr>\n",
       "      <th>smoker</th>\n",
       "      <td>0.011192</td>\n",
       "      <td>0.024992</td>\n",
       "      <td>0.025147</td>\n",
       "      <td>0.006953</td>\n",
       "      <td>0.022067</td>\n",
       "      <td>0.022950</td>\n",
       "      <td>0.837194</td>\n",
       "      <td>0.871733</td>\n",
       "      <td>0.886042</td>\n",
       "      <td>0.877877</td>\n",
       "      <td>0.862587</td>\n",
       "      <td>0.763860</td>\n",
       "      <td>0.888326</td>\n",
       "      <td>0.840474</td>\n",
       "      <td>0.889492</td>\n",
       "      <td>1.000000</td>\n",
       "      <td>0.036514</td>\n",
       "      <td>0.034835</td>\n",
       "      <td>0.025135</td>\n",
       "      <td>0.017503</td>\n",
       "    </tr>\n",
       "    <tr>\n",
       "      <th>another_case</th>\n",
       "      <td>0.016174</td>\n",
       "      <td>0.183498</td>\n",
       "      <td>0.183582</td>\n",
       "      <td>0.033221</td>\n",
       "      <td>0.046247</td>\n",
       "      <td>0.015163</td>\n",
       "      <td>0.026889</td>\n",
       "      <td>0.032278</td>\n",
       "      <td>0.034112</td>\n",
       "      <td>0.033583</td>\n",
       "      <td>0.027272</td>\n",
       "      <td>0.021480</td>\n",
       "      <td>0.034096</td>\n",
       "      <td>0.033646</td>\n",
       "      <td>0.032815</td>\n",
       "      <td>0.036514</td>\n",
       "      <td>1.000000</td>\n",
       "      <td>0.048133</td>\n",
       "      <td>0.183644</td>\n",
       "      <td>0.067689</td>\n",
       "    </tr>\n",
       "    <tr>\n",
       "      <th>outcome</th>\n",
       "      <td>0.045686</td>\n",
       "      <td>0.087532</td>\n",
       "      <td>0.087906</td>\n",
       "      <td>0.033883</td>\n",
       "      <td>0.072277</td>\n",
       "      <td>0.047578</td>\n",
       "      <td>0.030232</td>\n",
       "      <td>0.036061</td>\n",
       "      <td>0.037689</td>\n",
       "      <td>0.033387</td>\n",
       "      <td>0.031894</td>\n",
       "      <td>0.026727</td>\n",
       "      <td>0.036157</td>\n",
       "      <td>0.026938</td>\n",
       "      <td>0.037716</td>\n",
       "      <td>0.034835</td>\n",
       "      <td>0.048133</td>\n",
       "      <td>1.000000</td>\n",
       "      <td>0.087843</td>\n",
       "      <td>0.146525</td>\n",
       "    </tr>\n",
       "    <tr>\n",
       "      <th>icu</th>\n",
       "      <td>0.104268</td>\n",
       "      <td>0.999299</td>\n",
       "      <td>0.999966</td>\n",
       "      <td>0.263465</td>\n",
       "      <td>0.278264</td>\n",
       "      <td>0.103665</td>\n",
       "      <td>0.012740</td>\n",
       "      <td>0.020460</td>\n",
       "      <td>0.026633</td>\n",
       "      <td>0.025190</td>\n",
       "      <td>0.011236</td>\n",
       "      <td>0.038986</td>\n",
       "      <td>0.024948</td>\n",
       "      <td>0.022990</td>\n",
       "      <td>0.022308</td>\n",
       "      <td>0.025135</td>\n",
       "      <td>0.183644</td>\n",
       "      <td>0.087843</td>\n",
       "      <td>1.000000</td>\n",
       "      <td>0.282638</td>\n",
       "    </tr>\n",
       "    <tr>\n",
       "      <th>death_date</th>\n",
       "      <td>0.052972</td>\n",
       "      <td>0.282048</td>\n",
       "      <td>0.282923</td>\n",
       "      <td>0.108989</td>\n",
       "      <td>0.185163</td>\n",
       "      <td>0.052960</td>\n",
       "      <td>0.006402</td>\n",
       "      <td>0.012222</td>\n",
       "      <td>0.014577</td>\n",
       "      <td>0.017316</td>\n",
       "      <td>0.004750</td>\n",
       "      <td>0.015320</td>\n",
       "      <td>0.015372</td>\n",
       "      <td>0.004742</td>\n",
       "      <td>0.009510</td>\n",
       "      <td>0.017503</td>\n",
       "      <td>0.067689</td>\n",
       "      <td>0.146525</td>\n",
       "      <td>0.282638</td>\n",
       "      <td>1.000000</td>\n",
       "    </tr>\n",
       "  </tbody>\n",
       "</table>\n",
       "</div>"
      ],
      "text/plain": [
       "                             sex  patient_type  intubated  pneumonia  \\\n",
       "sex                     1.000000      0.104142   0.104231   0.041587   \n",
       "patient_type            0.104142      1.000000   0.999327   0.263222   \n",
       "intubated               0.104231      0.999327   1.000000   0.263512   \n",
       "pneumonia               0.041587      0.263222   0.263512   1.000000   \n",
       "age                     0.036508      0.277913   0.278253   0.103844   \n",
       "pregnant                0.995064      0.103534   0.103628   0.041455   \n",
       "diabetes                0.015488      0.012617   0.012775   0.001884   \n",
       "copd                    0.017833      0.020348   0.020500   0.004933   \n",
       "asthma                  0.017779      0.026499   0.026657   0.007060   \n",
       "immunosuppression       0.014783      0.025789   0.025573   0.007793   \n",
       "hypertension            0.016326      0.011135   0.011283   0.001364   \n",
       "other_diseases          0.019640      0.039194   0.039362   0.014695   \n",
       "cardiovascular          0.015451      0.024838   0.024987   0.007436   \n",
       "obesity                 0.016856      0.022876   0.023029   0.005875   \n",
       "chronic_kidney_failure  0.015694      0.022190   0.022344   0.005447   \n",
       "smoker                  0.011192      0.024992   0.025147   0.006953   \n",
       "another_case            0.016174      0.183498   0.183582   0.033221   \n",
       "outcome                 0.045686      0.087532   0.087906   0.033883   \n",
       "icu                     0.104268      0.999299   0.999966   0.263465   \n",
       "death_date              0.052972      0.282048   0.282923   0.108989   \n",
       "\n",
       "                             age  pregnant  diabetes      copd    asthma  \\\n",
       "sex                     0.036508  0.995064  0.015488  0.017833  0.017779   \n",
       "patient_type            0.277913  0.103534  0.012617  0.020348  0.026499   \n",
       "intubated               0.278253  0.103628  0.012775  0.020500  0.026657   \n",
       "pneumonia               0.103844  0.041455  0.001884  0.004933  0.007060   \n",
       "age                     1.000000  0.035711  0.006527  0.019210  0.024390   \n",
       "pregnant                0.035711  1.000000  0.027024  0.030218  0.030095   \n",
       "diabetes                0.006527  0.027024  1.000000  0.869776  0.881200   \n",
       "copd                    0.019210  0.030218  0.869776  1.000000  0.918751   \n",
       "asthma                  0.024390  0.030095  0.881200  0.918751  1.000000   \n",
       "immunosuppression       0.023457  0.026829  0.858777  0.910085  0.918711   \n",
       "hypertension            0.002451  0.028412  0.876861  0.893289  0.897319   \n",
       "other_diseases          0.025646  0.029823  0.749238  0.783647  0.791514   \n",
       "cardiovascular          0.021370  0.027337  0.866721  0.903781  0.912634   \n",
       "obesity                 0.017958  0.028823  0.809533  0.843663  0.848370   \n",
       "chronic_kidney_failure  0.024006  0.027718  0.862719  0.900077  0.914133   \n",
       "smoker                  0.022067  0.022950  0.837194  0.871733  0.886042   \n",
       "another_case            0.046247  0.015163  0.026889  0.032278  0.034112   \n",
       "outcome                 0.072277  0.047578  0.030232  0.036061  0.037689   \n",
       "icu                     0.278264  0.103665  0.012740  0.020460  0.026633   \n",
       "death_date              0.185163  0.052960  0.006402  0.012222  0.014577   \n",
       "\n",
       "                        immunosuppression  hypertension  other_diseases  \\\n",
       "sex                              0.014783      0.016326        0.019640   \n",
       "patient_type                     0.025789      0.011135        0.039194   \n",
       "intubated                        0.025573      0.011283        0.039362   \n",
       "pneumonia                        0.007793      0.001364        0.014695   \n",
       "age                              0.023457      0.002451        0.025646   \n",
       "pregnant                         0.026829      0.028412        0.029823   \n",
       "diabetes                         0.858777      0.876861        0.749238   \n",
       "copd                             0.910085      0.893289        0.783647   \n",
       "asthma                           0.918711      0.897319        0.791514   \n",
       "immunosuppression                1.000000      0.891359        0.791973   \n",
       "hypertension                     0.891359      1.000000        0.773648   \n",
       "other_diseases                   0.791973      0.773648        1.000000   \n",
       "cardiovascular                   0.906272      0.904675        0.801316   \n",
       "obesity                          0.848535      0.845066        0.733823   \n",
       "chronic_kidney_failure           0.903133      0.895996        0.785931   \n",
       "smoker                           0.877877      0.862587        0.763860   \n",
       "another_case                     0.033583      0.027272        0.021480   \n",
       "outcome                          0.033387      0.031894        0.026727   \n",
       "icu                              0.025190      0.011236        0.038986   \n",
       "death_date                       0.017316      0.004750        0.015320   \n",
       "\n",
       "                        cardiovascular   obesity  chronic_kidney_failure  \\\n",
       "sex                           0.015451  0.016856                0.015694   \n",
       "patient_type                  0.024838  0.022876                0.022190   \n",
       "intubated                     0.024987  0.023029                0.022344   \n",
       "pneumonia                     0.007436  0.005875                0.005447   \n",
       "age                           0.021370  0.017958                0.024006   \n",
       "pregnant                      0.027337  0.028823                0.027718   \n",
       "diabetes                      0.866721  0.809533                0.862719   \n",
       "copd                          0.903781  0.843663                0.900077   \n",
       "asthma                        0.912634  0.848370                0.914133   \n",
       "immunosuppression             0.906272  0.848535                0.903133   \n",
       "hypertension                  0.904675  0.845066                0.895996   \n",
       "other_diseases                0.801316  0.733823                0.785931   \n",
       "cardiovascular                1.000000  0.856071                0.916242   \n",
       "obesity                       0.856071  1.000000                0.859204   \n",
       "chronic_kidney_failure        0.916242  0.859204                1.000000   \n",
       "smoker                        0.888326  0.840474                0.889492   \n",
       "another_case                  0.034096  0.033646                0.032815   \n",
       "outcome                       0.036157  0.026938                0.037716   \n",
       "icu                           0.024948  0.022990                0.022308   \n",
       "death_date                    0.015372  0.004742                0.009510   \n",
       "\n",
       "                          smoker  another_case   outcome       icu  death_date  \n",
       "sex                     0.011192      0.016174  0.045686  0.104268    0.052972  \n",
       "patient_type            0.024992      0.183498  0.087532  0.999299    0.282048  \n",
       "intubated               0.025147      0.183582  0.087906  0.999966    0.282923  \n",
       "pneumonia               0.006953      0.033221  0.033883  0.263465    0.108989  \n",
       "age                     0.022067      0.046247  0.072277  0.278264    0.185163  \n",
       "pregnant                0.022950      0.015163  0.047578  0.103665    0.052960  \n",
       "diabetes                0.837194      0.026889  0.030232  0.012740    0.006402  \n",
       "copd                    0.871733      0.032278  0.036061  0.020460    0.012222  \n",
       "asthma                  0.886042      0.034112  0.037689  0.026633    0.014577  \n",
       "immunosuppression       0.877877      0.033583  0.033387  0.025190    0.017316  \n",
       "hypertension            0.862587      0.027272  0.031894  0.011236    0.004750  \n",
       "other_diseases          0.763860      0.021480  0.026727  0.038986    0.015320  \n",
       "cardiovascular          0.888326      0.034096  0.036157  0.024948    0.015372  \n",
       "obesity                 0.840474      0.033646  0.026938  0.022990    0.004742  \n",
       "chronic_kidney_failure  0.889492      0.032815  0.037716  0.022308    0.009510  \n",
       "smoker                  1.000000      0.036514  0.034835  0.025135    0.017503  \n",
       "another_case            0.036514      1.000000  0.048133  0.183644    0.067689  \n",
       "outcome                 0.034835      0.048133  1.000000  0.087843    0.146525  \n",
       "icu                     0.025135      0.183644  0.087843  1.000000    0.282638  \n",
       "death_date              0.017503      0.067689  0.146525  0.282638    1.000000  "
      ]
     },
     "execution_count": 11,
     "metadata": {},
     "output_type": "execute_result"
    }
   ],
   "source": [
    "datam.corr().abs()"
   ]
  },
  {
   "cell_type": "code",
   "execution_count": 12,
   "id": "7b47beb5",
   "metadata": {
    "execution": {
     "iopub.execute_input": "2021-12-03T12:45:40.459359Z",
     "iopub.status.busy": "2021-12-03T12:45:40.458732Z",
     "iopub.status.idle": "2021-12-03T12:45:40.461890Z",
     "shell.execute_reply": "2021-12-03T12:45:40.461251Z",
     "shell.execute_reply.started": "2021-12-03T12:44:51.782239Z"
    },
    "papermill": {
     "duration": 0.081746,
     "end_time": "2021-12-03T12:45:40.462028",
     "exception": false,
     "start_time": "2021-12-03T12:45:40.380282",
     "status": "completed"
    },
    "tags": []
   },
   "outputs": [],
   "source": [
    "x=datam.head(3000)\n",
    "y=datam.tail(3000)\n",
    "data=pd.concat([x,y],ignore_index=True)"
   ]
  },
  {
   "cell_type": "code",
   "execution_count": 13,
   "id": "8813456b",
   "metadata": {
    "execution": {
     "iopub.execute_input": "2021-12-03T12:45:40.613667Z",
     "iopub.status.busy": "2021-12-03T12:45:40.611225Z",
     "iopub.status.idle": "2021-12-03T12:45:41.204602Z",
     "shell.execute_reply": "2021-12-03T12:45:41.205092Z",
     "shell.execute_reply.started": "2021-12-03T12:44:51.791284Z"
    },
    "papermill": {
     "duration": 0.670037,
     "end_time": "2021-12-03T12:45:41.205258",
     "exception": false,
     "start_time": "2021-12-03T12:45:40.535221",
     "status": "completed"
    },
    "tags": []
   },
   "outputs": [
    {
     "data": {
      "text/plain": [
       "<AxesSubplot:>"
      ]
     },
     "execution_count": 13,
     "metadata": {},
     "output_type": "execute_result"
    },
    {
     "data": {
      "image/png": "[encoded data removed]",
      "text/plain": [
       "<Figure size 432x288 with 2 Axes>"
      ]
     },
     "metadata": {
      "needs_background": "light"
     },
     "output_type": "display_data"
    }
   ],
   "source": [
    "sns.heatmap(data.corr().abs(),annot=False,linewidths=.5, cbar_kws={\"shrink\": .5})"
   ]
  },
  {
   "cell_type": "code",
   "execution_count": 14,
   "id": "45dff56e",
   "metadata": {
    "execution": {
     "iopub.execute_input": "2021-12-03T12:45:41.358035Z",
     "iopub.status.busy": "2021-12-03T12:45:41.357410Z",
     "iopub.status.idle": "2021-12-03T12:45:41.370752Z",
     "shell.execute_reply": "2021-12-03T12:45:41.371356Z",
     "shell.execute_reply.started": "2021-12-03T12:44:52.396736Z"
    },
    "papermill": {
     "duration": 0.091636,
     "end_time": "2021-12-03T12:45:41.371542",
     "exception": false,
     "start_time": "2021-12-03T12:45:41.279906",
     "status": "completed"
    },
    "tags": []
   },
   "outputs": [
    {
     "data": {
      "text/html": [
       "<div>\n",
       "<style scoped>\n",
       "    .dataframe tbody tr th:only-of-type {\n",
       "        vertical-align: middle;\n",
       "    }\n",
       "\n",
       "    .dataframe tbody tr th {\n",
       "        vertical-align: top;\n",
       "    }\n",
       "\n",
       "    .dataframe thead th {\n",
       "        text-align: right;\n",
       "    }\n",
       "</style>\n",
       "<table border=\"1\" class=\"dataframe\">\n",
       "  <thead>\n",
       "    <tr style=\"text-align: right;\">\n",
       "      <th></th>\n",
       "      <th>death_date</th>\n",
       "    </tr>\n",
       "  </thead>\n",
       "  <tbody>\n",
       "    <tr>\n",
       "      <th>0</th>\n",
       "      <td>0</td>\n",
       "    </tr>\n",
       "    <tr>\n",
       "      <th>1</th>\n",
       "      <td>0</td>\n",
       "    </tr>\n",
       "    <tr>\n",
       "      <th>2</th>\n",
       "      <td>0</td>\n",
       "    </tr>\n",
       "    <tr>\n",
       "      <th>3</th>\n",
       "      <td>0</td>\n",
       "    </tr>\n",
       "    <tr>\n",
       "      <th>4</th>\n",
       "      <td>0</td>\n",
       "    </tr>\n",
       "    <tr>\n",
       "      <th>...</th>\n",
       "      <td>...</td>\n",
       "    </tr>\n",
       "    <tr>\n",
       "      <th>5995</th>\n",
       "      <td>1</td>\n",
       "    </tr>\n",
       "    <tr>\n",
       "      <th>5996</th>\n",
       "      <td>1</td>\n",
       "    </tr>\n",
       "    <tr>\n",
       "      <th>5997</th>\n",
       "      <td>1</td>\n",
       "    </tr>\n",
       "    <tr>\n",
       "      <th>5998</th>\n",
       "      <td>1</td>\n",
       "    </tr>\n",
       "    <tr>\n",
       "      <th>5999</th>\n",
       "      <td>1</td>\n",
       "    </tr>\n",
       "  </tbody>\n",
       "</table>\n",
       "<p>6000 rows × 1 columns</p>\n",
       "</div>"
      ],
      "text/plain": [
       "      death_date\n",
       "0              0\n",
       "1              0\n",
       "2              0\n",
       "3              0\n",
       "4              0\n",
       "...          ...\n",
       "5995           1\n",
       "5996           1\n",
       "5997           1\n",
       "5998           1\n",
       "5999           1\n",
       "\n",
       "[6000 rows x 1 columns]"
      ]
     },
     "execution_count": 14,
     "metadata": {},
     "output_type": "execute_result"
    }
   ],
   "source": [
    "#sns.heatmap(data.corr().abs(),annot=True)\n",
    "x_train=data.drop([\"death_date\"],axis=1)\n",
    "y_train=data[\"death_date\"]\n",
    "y_train=pd.DataFrame(y_train)\n",
    "y_train"
   ]
  },
  {
   "cell_type": "code",
   "execution_count": 15,
   "id": "7a08a0b5",
   "metadata": {
    "execution": {
     "iopub.execute_input": "2021-12-03T12:45:41.528901Z",
     "iopub.status.busy": "2021-12-03T12:45:41.528158Z",
     "iopub.status.idle": "2021-12-03T12:45:41.536858Z",
     "shell.execute_reply": "2021-12-03T12:45:41.536352Z",
     "shell.execute_reply.started": "2021-12-03T12:44:52.413289Z"
    },
    "papermill": {
     "duration": 0.090735,
     "end_time": "2021-12-03T12:45:41.537001",
     "exception": false,
     "start_time": "2021-12-03T12:45:41.446266",
     "status": "completed"
    },
    "tags": []
   },
   "outputs": [
    {
     "name": "stdout",
     "output_type": "stream",
     "text": [
      "Eğitim Veri Adet: 4800\n",
      "Eğitim Label Adet: 4800\n",
      "Test Veri Adet: 1200\n",
      "Test Label Adet: 1200\n"
     ]
    }
   ],
   "source": [
    "x_train,x_test,y_train,y_test=train_test_split(x_train,y_train,test_size=0.2,random_state=1)\n",
    "print (\"Eğitim Veri Adet:\" , x_train.shape[0])\n",
    "print (\"Eğitim Label Adet:\" , y_train.shape[0])\n",
    "print (\"Test Veri Adet:\" , x_test.shape[0])\n",
    "print (\"Test Label Adet:\" , y_test.shape[0])"
   ]
  },
  {
   "cell_type": "code",
   "execution_count": 16,
   "id": "db192b2f",
   "metadata": {
    "execution": {
     "iopub.execute_input": "2021-12-03T12:45:41.691722Z",
     "iopub.status.busy": "2021-12-03T12:45:41.691093Z",
     "iopub.status.idle": "2021-12-03T12:45:41.699942Z",
     "shell.execute_reply": "2021-12-03T12:45:41.700532Z",
     "shell.execute_reply.started": "2021-12-03T12:44:52.435204Z"
    },
    "papermill": {
     "duration": 0.087684,
     "end_time": "2021-12-03T12:45:41.700698",
     "exception": false,
     "start_time": "2021-12-03T12:45:41.613014",
     "status": "completed"
    },
    "tags": []
   },
   "outputs": [
    {
     "data": {
      "text/html": [
       "<div>\n",
       "<style scoped>\n",
       "    .dataframe tbody tr th:only-of-type {\n",
       "        vertical-align: middle;\n",
       "    }\n",
       "\n",
       "    .dataframe tbody tr th {\n",
       "        vertical-align: top;\n",
       "    }\n",
       "\n",
       "    .dataframe thead th {\n",
       "        text-align: right;\n",
       "    }\n",
       "</style>\n",
       "<table border=\"1\" class=\"dataframe\">\n",
       "  <thead>\n",
       "    <tr style=\"text-align: right;\">\n",
       "      <th></th>\n",
       "      <th>death_date</th>\n",
       "    </tr>\n",
       "  </thead>\n",
       "  <tbody>\n",
       "    <tr>\n",
       "      <th>1352</th>\n",
       "      <td>0</td>\n",
       "    </tr>\n",
       "    <tr>\n",
       "      <th>2256</th>\n",
       "      <td>0</td>\n",
       "    </tr>\n",
       "    <tr>\n",
       "      <th>4495</th>\n",
       "      <td>1</td>\n",
       "    </tr>\n",
       "    <tr>\n",
       "      <th>5390</th>\n",
       "      <td>1</td>\n",
       "    </tr>\n",
       "    <tr>\n",
       "      <th>4945</th>\n",
       "      <td>1</td>\n",
       "    </tr>\n",
       "    <tr>\n",
       "      <th>...</th>\n",
       "      <td>...</td>\n",
       "    </tr>\n",
       "    <tr>\n",
       "      <th>905</th>\n",
       "      <td>0</td>\n",
       "    </tr>\n",
       "    <tr>\n",
       "      <th>5192</th>\n",
       "      <td>1</td>\n",
       "    </tr>\n",
       "    <tr>\n",
       "      <th>3980</th>\n",
       "      <td>1</td>\n",
       "    </tr>\n",
       "    <tr>\n",
       "      <th>235</th>\n",
       "      <td>0</td>\n",
       "    </tr>\n",
       "    <tr>\n",
       "      <th>5157</th>\n",
       "      <td>1</td>\n",
       "    </tr>\n",
       "  </tbody>\n",
       "</table>\n",
       "<p>4800 rows × 1 columns</p>\n",
       "</div>"
      ],
      "text/plain": [
       "      death_date\n",
       "1352           0\n",
       "2256           0\n",
       "4495           1\n",
       "5390           1\n",
       "4945           1\n",
       "...          ...\n",
       "905            0\n",
       "5192           1\n",
       "3980           1\n",
       "235            0\n",
       "5157           1\n",
       "\n",
       "[4800 rows x 1 columns]"
      ]
     },
     "execution_count": 16,
     "metadata": {},
     "output_type": "execute_result"
    }
   ],
   "source": [
    "y_train=pd.DataFrame(y_train)\n",
    "y_train"
   ]
  },
  {
   "cell_type": "code",
   "execution_count": 17,
   "id": "98e8c43d",
   "metadata": {
    "execution": {
     "iopub.execute_input": "2021-12-03T12:45:41.856263Z",
     "iopub.status.busy": "2021-12-03T12:45:41.855662Z",
     "iopub.status.idle": "2021-12-03T12:45:41.859957Z",
     "shell.execute_reply": "2021-12-03T12:45:41.860427Z",
     "shell.execute_reply.started": "2021-12-03T12:44:52.449377Z"
    },
    "papermill": {
     "duration": 0.083991,
     "end_time": "2021-12-03T12:45:41.860596",
     "exception": false,
     "start_time": "2021-12-03T12:45:41.776605",
     "status": "completed"
    },
    "tags": []
   },
   "outputs": [],
   "source": [
    "y_train=y_train.astype('float')\n",
    "y_test=y_test.astype('float')"
   ]
  },
  {
   "cell_type": "markdown",
   "id": "55cb01c0",
   "metadata": {
    "papermill": {
     "duration": 0.076508,
     "end_time": "2021-12-03T12:45:42.013071",
     "exception": false,
     "start_time": "2021-12-03T12:45:41.936563",
     "status": "completed"
    },
    "tags": []
   },
   "source": [
    "# Machine Learning Algorithms"
   ]
  },
  {
   "cell_type": "code",
   "execution_count": 18,
   "id": "6676b0d3",
   "metadata": {
    "execution": {
     "iopub.execute_input": "2021-12-03T12:45:42.177371Z",
     "iopub.status.busy": "2021-12-03T12:45:42.176218Z",
     "iopub.status.idle": "2021-12-03T12:45:43.481344Z",
     "shell.execute_reply": "2021-12-03T12:45:43.482224Z",
     "shell.execute_reply.started": "2021-12-03T12:44:52.461239Z"
    },
    "papermill": {
     "duration": 1.392284,
     "end_time": "2021-12-03T12:45:43.482431",
     "exception": false,
     "start_time": "2021-12-03T12:45:42.090147",
     "status": "completed"
    },
    "tags": []
   },
   "outputs": [
    {
     "name": "stdout",
     "output_type": "stream",
     "text": [
      "Navie Bayes Acc Score: 0.8\n",
      "Decision Tree Acc Score: 0.9083333333333333\n",
      "Random Forest Acc Score: 0.935\n",
      "SVM Acc Score: 0.8016666666666666\n",
      "KNN Acc Score: 0.8783333333333333\n"
     ]
    }
   ],
   "source": [
    "#Navie Bayes\n",
    "nb=GaussianNB()\n",
    "nb.fit(x_train, y_train)\n",
    "score_1=nb.score(x_test,y_test)\n",
    "#Decision Tree\n",
    "decision_tree=DecisionTreeClassifier()\n",
    "decision_tree.fit(x_train, y_train)\n",
    "score_2=decision_tree.score(x_test,y_test)\n",
    "#Random Forest\n",
    "random_forest=RandomForestClassifier()\n",
    "random_forest.fit(x_train,y_train)\n",
    "score_3=random_forest.score(x_test,y_test)\n",
    "#SVM\n",
    "sup_vec=SVC(random_state=3)\n",
    "sup_vec.fit(x_train,y_train)\n",
    "score_4=sup_vec.score(x_test,y_test)\n",
    "#KNN\n",
    "knn=KNeighborsClassifier(n_neighbors=3)\n",
    "knn.fit(x_train,y_train)\n",
    "score_5=knn.score(x_test,y_test)\n",
    "#Score\n",
    "print (\"Navie Bayes Acc Score:\",score_1)\n",
    "print (\"Decision Tree Acc Score:\",score_2)\n",
    "print (\"Random Forest Acc Score:\",score_3)\n",
    "print (\"SVM Acc Score:\",score_4)\n",
    "print (\"KNN Acc Score:\",score_5)"
   ]
  },
  {
   "cell_type": "code",
   "execution_count": 19,
   "id": "a30164e5",
   "metadata": {
    "execution": {
     "iopub.execute_input": "2021-12-03T12:45:43.643548Z",
     "iopub.status.busy": "2021-12-03T12:45:43.642518Z",
     "iopub.status.idle": "2021-12-03T12:45:43.868572Z",
     "shell.execute_reply": "2021-12-03T12:45:43.869187Z",
     "shell.execute_reply.started": "2021-12-03T12:44:53.818793Z"
    },
    "papermill": {
     "duration": 0.310132,
     "end_time": "2021-12-03T12:45:43.869416",
     "exception": false,
     "start_time": "2021-12-03T12:45:43.559284",
     "status": "completed"
    },
    "tags": []
   },
   "outputs": [],
   "source": [
    "y_pred = random_forest.predict(x_test)\n",
    "y_pred_1 = nb.predict(x_test)\n",
    "y_pred_2 = decision_tree.predict(x_test)\n",
    "y_pred_3 = sup_vec.predict(x_test)\n",
    "y_pred_4 = knn.predict(x_test)"
   ]
  },
  {
   "cell_type": "markdown",
   "id": "7785faf7",
   "metadata": {
    "papermill": {
     "duration": 0.075733,
     "end_time": "2021-12-03T12:45:44.021846",
     "exception": false,
     "start_time": "2021-12-03T12:45:43.946113",
     "status": "completed"
    },
    "tags": []
   },
   "source": [
    "# Confusion_matrix"
   ]
  },
  {
   "cell_type": "code",
   "execution_count": 20,
   "id": "0f873177",
   "metadata": {
    "execution": {
     "iopub.execute_input": "2021-12-03T12:45:44.181313Z",
     "iopub.status.busy": "2021-12-03T12:45:44.180628Z",
     "iopub.status.idle": "2021-12-03T12:45:44.340966Z",
     "shell.execute_reply": "2021-12-03T12:45:44.340464Z",
     "shell.execute_reply.started": "2021-12-03T12:44:54.061294Z"
    },
    "papermill": {
     "duration": 0.241807,
     "end_time": "2021-12-03T12:45:44.341111",
     "exception": false,
     "start_time": "2021-12-03T12:45:44.099304",
     "status": "completed"
    },
    "tags": []
   },
   "outputs": [
    {
     "name": "stdout",
     "output_type": "stream",
     "text": [
      "[[577  31]\n",
      " [ 47 545]]\n"
     ]
    },
    {
     "data": {
      "text/plain": [
       "Text(0.5, 1.0, 'Confusion_matrix')"
      ]
     },
     "execution_count": 20,
     "metadata": {},
     "output_type": "execute_result"
    },
    {
     "data": {
      "image/png": "[encoded data removed]",
      "text/plain": [
       "<Figure size 432x288 with 1 Axes>"
      ]
     },
     "metadata": {
      "needs_background": "light"
     },
     "output_type": "display_data"
    }
   ],
   "source": [
    "print (confusion_matrix(y_test, y_pred))\n",
    "sns.heatmap(confusion_matrix(y_test,y_pred), annot=True, lw=2,cbar=False)\n",
    "plt.ylabel(\"True Values\")\n",
    "plt.xlabel(\"Preict Value\")\n",
    "plt.title(\"Confusion_matrix\")"
   ]
  },
  {
   "cell_type": "markdown",
   "id": "901b2391",
   "metadata": {
    "papermill": {
     "duration": 0.077262,
     "end_time": "2021-12-03T12:45:44.496058",
     "exception": false,
     "start_time": "2021-12-03T12:45:44.418796",
     "status": "completed"
    },
    "tags": []
   },
   "source": [
    "# Recall,Precision and F-1 Score\n"
   ]
  },
  {
   "cell_type": "markdown",
   "id": "c56cf387",
   "metadata": {
    "papermill": {
     "duration": 0.077152,
     "end_time": "2021-12-03T12:45:44.650415",
     "exception": false,
     "start_time": "2021-12-03T12:45:44.573263",
     "status": "completed"
    },
    "tags": []
   },
   "source": [
    "* Recall    =  TP / (TP + FN)\n",
    "* Precision = TP / (TP + FP) \n",
    "* F-Measure = (2 * Precision * Recall) / (Precision + Recall)"
   ]
  },
  {
   "cell_type": "code",
   "execution_count": 21,
   "id": "c9468b8b",
   "metadata": {
    "execution": {
     "iopub.execute_input": "2021-12-03T12:45:44.812137Z",
     "iopub.status.busy": "2021-12-03T12:45:44.811298Z",
     "iopub.status.idle": "2021-12-03T12:45:44.822026Z",
     "shell.execute_reply": "2021-12-03T12:45:44.821543Z",
     "shell.execute_reply.started": "2021-12-03T12:44:54.240355Z"
    },
    "papermill": {
     "duration": 0.092534,
     "end_time": "2021-12-03T12:45:44.822186",
     "exception": false,
     "start_time": "2021-12-03T12:45:44.729652",
     "status": "completed"
    },
    "tags": []
   },
   "outputs": [
    {
     "name": "stdout",
     "output_type": "stream",
     "text": [
      "              precision    recall  f1-score   support\n",
      "\n",
      "         0.0       0.92      0.95      0.94       608\n",
      "         1.0       0.95      0.92      0.93       592\n",
      "\n",
      "    accuracy                           0.94      1200\n",
      "   macro avg       0.94      0.93      0.93      1200\n",
      "weighted avg       0.94      0.94      0.93      1200\n",
      "\n"
     ]
    }
   ],
   "source": [
    "print (classification_report(y_test,y_pred))"
   ]
  },
  {
   "cell_type": "code",
   "execution_count": 22,
   "id": "0d7cd108",
   "metadata": {
    "execution": {
     "iopub.execute_input": "2021-12-03T12:45:44.983789Z",
     "iopub.status.busy": "2021-12-03T12:45:44.983066Z",
     "iopub.status.idle": "2021-12-03T12:45:44.988758Z",
     "shell.execute_reply": "2021-12-03T12:45:44.989258Z",
     "shell.execute_reply.started": "2021-12-03T12:44:54.259962Z"
    },
    "papermill": {
     "duration": 0.089199,
     "end_time": "2021-12-03T12:45:44.989455",
     "exception": false,
     "start_time": "2021-12-03T12:45:44.900256",
     "status": "completed"
    },
    "tags": []
   },
   "outputs": [
    {
     "name": "stdout",
     "output_type": "stream",
     "text": [
      "F1 Score: 0.9332191780821918\n"
     ]
    }
   ],
   "source": [
    "print (\"F1 Score:\", f1_score(y_test,y_pred))"
   ]
  },
  {
   "cell_type": "markdown",
   "id": "90cc4b82",
   "metadata": {
    "papermill": {
     "duration": 0.080975,
     "end_time": "2021-12-03T12:45:45.150318",
     "exception": false,
     "start_time": "2021-12-03T12:45:45.069343",
     "status": "completed"
    },
    "tags": []
   },
   "source": [
    "# XGBoost"
   ]
  },
  {
   "cell_type": "code",
   "execution_count": 23,
   "id": "ed474fd5",
   "metadata": {
    "execution": {
     "iopub.execute_input": "2021-12-03T12:45:45.312323Z",
     "iopub.status.busy": "2021-12-03T12:45:45.311599Z",
     "iopub.status.idle": "2021-12-03T12:45:45.871839Z",
     "shell.execute_reply": "2021-12-03T12:45:45.872716Z",
     "shell.execute_reply.started": "2021-12-03T12:44:54.269436Z"
    },
    "papermill": {
     "duration": 0.64435,
     "end_time": "2021-12-03T12:45:45.872919",
     "exception": false,
     "start_time": "2021-12-03T12:45:45.228569",
     "status": "completed"
    },
    "tags": []
   },
   "outputs": [
    {
     "name": "stdout",
     "output_type": "stream",
     "text": [
      "[12:45:45] WARNING: ../src/learner.cc:1115: Starting in XGBoost 1.3.0, the default evaluation metric used with the objective 'binary:logistic' was changed from 'error' to 'logloss'. Explicitly set eval_metric if you'd like to restore the old behavior.\n",
      "[[581  52]\n",
      " [ 27 540]]\n"
     ]
    }
   ],
   "source": [
    "Classifier =XGBClassifier()\n",
    "Classifier.fit(x_train, y_train)\n",
    "y_predic=Classifier.predict(x_test)\n",
    "cm=confusion_matrix(y_predic, y_test)\n",
    "print (cm)"
   ]
  },
  {
   "cell_type": "code",
   "execution_count": 24,
   "id": "97e04a1a",
   "metadata": {
    "execution": {
     "iopub.execute_input": "2021-12-03T12:45:46.038604Z",
     "iopub.status.busy": "2021-12-03T12:45:46.037631Z",
     "iopub.status.idle": "2021-12-03T12:45:46.195186Z",
     "shell.execute_reply": "2021-12-03T12:45:46.194682Z",
     "shell.execute_reply.started": "2021-12-03T12:44:54.863218Z"
    },
    "papermill": {
     "duration": 0.24246,
     "end_time": "2021-12-03T12:45:46.195332",
     "exception": false,
     "start_time": "2021-12-03T12:45:45.952872",
     "status": "completed"
    },
    "tags": []
   },
   "outputs": [
    {
     "data": {
      "text/plain": [
       "Text(0.5, 1.0, 'Confusion_matrix')"
      ]
     },
     "execution_count": 24,
     "metadata": {},
     "output_type": "execute_result"
    },
    {
     "data": {
      "image/png": "[encoded data removed]",
      "text/plain": [
       "<Figure size 432x288 with 1 Axes>"
      ]
     },
     "metadata": {
      "needs_background": "light"
     },
     "output_type": "display_data"
    }
   ],
   "source": [
    "sns.heatmap(confusion_matrix(y_predic,y_test), annot=True,lw=2,cbar=False)\n",
    "plt.ylabel(\"True Values\")\n",
    "plt.xlabel(\"Preict Value\")\n",
    "plt.title(\"Confusion_matrix\")"
   ]
  },
  {
   "cell_type": "code",
   "execution_count": 25,
   "id": "1fe29902",
   "metadata": {
    "execution": {
     "iopub.execute_input": "2021-12-03T12:45:46.367463Z",
     "iopub.status.busy": "2021-12-03T12:45:46.366777Z",
     "iopub.status.idle": "2021-12-03T12:45:46.473466Z",
     "shell.execute_reply": "2021-12-03T12:45:46.474042Z",
     "shell.execute_reply.started": "2021-12-03T12:44:55.042062Z"
    },
    "papermill": {
     "duration": 0.199069,
     "end_time": "2021-12-03T12:45:46.474247",
     "exception": false,
     "start_time": "2021-12-03T12:45:46.275178",
     "status": "completed"
    },
    "tags": []
   },
   "outputs": [],
   "source": [
    "probs=random_forest.predict_proba(x_test)\n",
    "preds=probs[:,1]\n",
    "fpr,tpr, threshold =metrics.roc_curve(y_test, y_pred)\n",
    "roc_auc=metrics.auc(fpr,tpr)\n",
    "probs_1=nb.predict_proba(x_test)\n",
    "preds_1=probs_1[:,1]\n",
    "fpr_1,tpr_1, threshold_1 =metrics.roc_curve(y_test, y_pred_1)\n",
    "roc_auc_1=metrics.auc(fpr_1,tpr_1)\n",
    "probs_2=decision_tree.predict_proba(x_test)\n",
    "preds_2=probs_2[:,1]\n",
    "fpr_2,tpr_2, threshold_2 =metrics.roc_curve(y_test, y_pred_2)\n",
    "roc_auc_2=metrics.auc(fpr_2,tpr_2)\n",
    "#probs_3=sup_vec.predict_proba(x_test)\n",
    "#preds_3=probs_3[:,1]\n",
    "#fpr_3,tpr_3, threshold_3 =metrics.roc_curve(y_test, y_pred_3)\n",
    "#roc_auc_3=metrics.auc(fpr_3,tpr_3)\n",
    "probs_4=knn.predict_proba(x_test)\n",
    "preds_4=probs_4[:,1]\n",
    "fpr_4,tpr_4, threshold_4 =metrics.roc_curve(y_test, y_pred_4)\n",
    "roc_auc_4=metrics.auc(fpr_4,tpr_4)\n",
    "\n",
    "probs_5=Classifier.predict_proba(x_test)\n",
    "preds_5=probs_5[:,1]\n",
    "fpr_5,tpr_5, threshold_5 =metrics.roc_curve(y_test, y_predic)\n",
    "roc_auc_5=metrics.auc(fpr_5,tpr_5)"
   ]
  },
  {
   "cell_type": "code",
   "execution_count": 26,
   "id": "ffa8dae8",
   "metadata": {
    "execution": {
     "iopub.execute_input": "2021-12-03T12:45:46.642308Z",
     "iopub.status.busy": "2021-12-03T12:45:46.641698Z",
     "iopub.status.idle": "2021-12-03T12:45:46.657070Z",
     "shell.execute_reply": "2021-12-03T12:45:46.657745Z",
     "shell.execute_reply.started": "2021-12-03T12:44:55.162247Z"
    },
    "papermill": {
     "duration": 0.102134,
     "end_time": "2021-12-03T12:45:46.657937",
     "exception": false,
     "start_time": "2021-12-03T12:45:46.555803",
     "status": "completed"
    },
    "tags": []
   },
   "outputs": [
    {
     "name": "stdout",
     "output_type": "stream",
     "text": [
      "0.9341666666666667\n"
     ]
    }
   ],
   "source": [
    "score_6=Classifier.score(x_test,y_test)\n",
    "print (score_6)"
   ]
  },
  {
   "cell_type": "markdown",
   "id": "8b6da596",
   "metadata": {
    "papermill": {
     "duration": 0.080127,
     "end_time": "2021-12-03T12:45:46.820998",
     "exception": false,
     "start_time": "2021-12-03T12:45:46.740871",
     "status": "completed"
    },
    "tags": []
   },
   "source": [
    "# roc & auc"
   ]
  },
  {
   "cell_type": "code",
   "execution_count": 27,
   "id": "b0e11962",
   "metadata": {
    "execution": {
     "iopub.execute_input": "2021-12-03T12:45:46.985547Z",
     "iopub.status.busy": "2021-12-03T12:45:46.984858Z",
     "iopub.status.idle": "2021-12-03T12:45:47.216999Z",
     "shell.execute_reply": "2021-12-03T12:45:47.216494Z",
     "shell.execute_reply.started": "2021-12-03T12:44:55.176753Z"
    },
    "papermill": {
     "duration": 0.315026,
     "end_time": "2021-12-03T12:45:47.217156",
     "exception": false,
     "start_time": "2021-12-03T12:45:46.902130",
     "status": "completed"
    },
    "tags": []
   },
   "outputs": [
    {
     "data": {
      "image/png": "[encoded data removed]",
      "text/plain": [
       "<Figure size 432x288 with 1 Axes>"
      ]
     },
     "metadata": {
      "needs_background": "light"
     },
     "output_type": "display_data"
    }
   ],
   "source": [
    "plt.title(\"Receiver Operating Charac\")\n",
    "plt.plot(fpr, tpr, 'b', label=\"RF=%0.2f\" % roc_auc)\n",
    "plt.plot(fpr_5, tpr_5, 'black', label=\"XGBOOST=93\" % roc_auc)\n",
    "plt.plot(fpr_2, tpr_2, 'y', label=\"DT=90\" % roc_auc)\n",
    "plt.plot(fpr_4, tpr_4, 'r', label=\"KNN=87\" % roc_auc)\n",
    "plt.plot(fpr_1, tpr_1, 'g', label=\"NB=80\" % roc_auc)\n",
    "plt.legend(loc=\"lower right\")\n",
    "plt.plot([0,1],[0,1],'r--')\n",
    "plt.xlim([0,1])\n",
    "plt.ylim([0,1])\n",
    "plt.ylabel('True Pozitive Rate')\n",
    "plt.xlabel('False Positive Rate')\n",
    "plt.show()"
   ]
  },
  {
   "cell_type": "code",
   "execution_count": 28,
   "id": "54cab35e",
   "metadata": {
    "execution": {
     "iopub.execute_input": "2021-12-03T12:45:47.384557Z",
     "iopub.status.busy": "2021-12-03T12:45:47.383855Z",
     "iopub.status.idle": "2021-12-03T12:45:47.389032Z",
     "shell.execute_reply": "2021-12-03T12:45:47.388521Z",
     "shell.execute_reply.started": "2021-12-03T12:44:55.434914Z"
    },
    "papermill": {
     "duration": 0.090212,
     "end_time": "2021-12-03T12:45:47.389173",
     "exception": false,
     "start_time": "2021-12-03T12:45:47.298961",
     "status": "completed"
    },
    "tags": []
   },
   "outputs": [],
   "source": [
    "f_data=data.drop([\"diabetes\",\"copd\",\"asthma\",\"immunosuppression\",\"hypertension\",\"other_diseases\",\"cardiovascular\",\"obesity\",\"chronic_kidney_failure\",\"smoker\"],axis=1)"
   ]
  },
  {
   "cell_type": "code",
   "execution_count": 29,
   "id": "4421d587",
   "metadata": {
    "execution": {
     "iopub.execute_input": "2021-12-03T12:45:47.559064Z",
     "iopub.status.busy": "2021-12-03T12:45:47.558210Z",
     "iopub.status.idle": "2021-12-03T12:45:47.577035Z",
     "shell.execute_reply": "2021-12-03T12:45:47.577624Z",
     "shell.execute_reply.started": "2021-12-03T12:44:55.442134Z"
    },
    "papermill": {
     "duration": 0.105332,
     "end_time": "2021-12-03T12:45:47.577800",
     "exception": false,
     "start_time": "2021-12-03T12:45:47.472468",
     "status": "completed"
    },
    "tags": []
   },
   "outputs": [
    {
     "data": {
      "text/html": [
       "<div>\n",
       "<style scoped>\n",
       "    .dataframe tbody tr th:only-of-type {\n",
       "        vertical-align: middle;\n",
       "    }\n",
       "\n",
       "    .dataframe tbody tr th {\n",
       "        vertical-align: top;\n",
       "    }\n",
       "\n",
       "    .dataframe thead th {\n",
       "        text-align: right;\n",
       "    }\n",
       "</style>\n",
       "<table border=\"1\" class=\"dataframe\">\n",
       "  <thead>\n",
       "    <tr style=\"text-align: right;\">\n",
       "      <th></th>\n",
       "      <th>sex</th>\n",
       "      <th>patient_type</th>\n",
       "      <th>intubated</th>\n",
       "      <th>pneumonia</th>\n",
       "      <th>age</th>\n",
       "      <th>pregnant</th>\n",
       "      <th>another_case</th>\n",
       "      <th>outcome</th>\n",
       "      <th>icu</th>\n",
       "      <th>death_date</th>\n",
       "    </tr>\n",
       "  </thead>\n",
       "  <tbody>\n",
       "    <tr>\n",
       "      <th>sex</th>\n",
       "      <td>1.000000</td>\n",
       "      <td>0.116015</td>\n",
       "      <td>0.116637</td>\n",
       "      <td>0.105185</td>\n",
       "      <td>0.024742</td>\n",
       "      <td>0.995783</td>\n",
       "      <td>0.008403</td>\n",
       "      <td>0.124977</td>\n",
       "      <td>0.116680</td>\n",
       "      <td>0.111495</td>\n",
       "    </tr>\n",
       "    <tr>\n",
       "      <th>patient_type</th>\n",
       "      <td>0.116015</td>\n",
       "      <td>1.000000</td>\n",
       "      <td>0.999618</td>\n",
       "      <td>0.604858</td>\n",
       "      <td>0.391435</td>\n",
       "      <td>0.116717</td>\n",
       "      <td>0.303647</td>\n",
       "      <td>0.482391</td>\n",
       "      <td>0.999621</td>\n",
       "      <td>0.645723</td>\n",
       "    </tr>\n",
       "    <tr>\n",
       "      <th>intubated</th>\n",
       "      <td>0.116637</td>\n",
       "      <td>0.999618</td>\n",
       "      <td>1.000000</td>\n",
       "      <td>0.606346</td>\n",
       "      <td>0.391082</td>\n",
       "      <td>0.117351</td>\n",
       "      <td>0.301973</td>\n",
       "      <td>0.483642</td>\n",
       "      <td>0.999981</td>\n",
       "      <td>0.646890</td>\n",
       "    </tr>\n",
       "    <tr>\n",
       "      <th>pneumonia</th>\n",
       "      <td>0.105185</td>\n",
       "      <td>0.604858</td>\n",
       "      <td>0.606346</td>\n",
       "      <td>1.000000</td>\n",
       "      <td>0.317103</td>\n",
       "      <td>0.104225</td>\n",
       "      <td>0.071082</td>\n",
       "      <td>0.413807</td>\n",
       "      <td>0.605929</td>\n",
       "      <td>0.525338</td>\n",
       "    </tr>\n",
       "    <tr>\n",
       "      <th>age</th>\n",
       "      <td>0.024742</td>\n",
       "      <td>0.391435</td>\n",
       "      <td>0.391082</td>\n",
       "      <td>0.317103</td>\n",
       "      <td>1.000000</td>\n",
       "      <td>0.024200</td>\n",
       "      <td>0.159564</td>\n",
       "      <td>0.318322</td>\n",
       "      <td>0.391179</td>\n",
       "      <td>0.401299</td>\n",
       "    </tr>\n",
       "    <tr>\n",
       "      <th>pregnant</th>\n",
       "      <td>0.995783</td>\n",
       "      <td>0.116717</td>\n",
       "      <td>0.117351</td>\n",
       "      <td>0.104225</td>\n",
       "      <td>0.024200</td>\n",
       "      <td>1.000000</td>\n",
       "      <td>0.007765</td>\n",
       "      <td>0.126439</td>\n",
       "      <td>0.117389</td>\n",
       "      <td>0.112296</td>\n",
       "    </tr>\n",
       "    <tr>\n",
       "      <th>another_case</th>\n",
       "      <td>0.008403</td>\n",
       "      <td>0.303647</td>\n",
       "      <td>0.301973</td>\n",
       "      <td>0.071082</td>\n",
       "      <td>0.159564</td>\n",
       "      <td>0.007765</td>\n",
       "      <td>1.000000</td>\n",
       "      <td>0.160476</td>\n",
       "      <td>0.302773</td>\n",
       "      <td>0.262967</td>\n",
       "    </tr>\n",
       "    <tr>\n",
       "      <th>outcome</th>\n",
       "      <td>0.124977</td>\n",
       "      <td>0.482391</td>\n",
       "      <td>0.483642</td>\n",
       "      <td>0.413807</td>\n",
       "      <td>0.318322</td>\n",
       "      <td>0.126439</td>\n",
       "      <td>0.160476</td>\n",
       "      <td>1.000000</td>\n",
       "      <td>0.483451</td>\n",
       "      <td>0.769429</td>\n",
       "    </tr>\n",
       "    <tr>\n",
       "      <th>icu</th>\n",
       "      <td>0.116680</td>\n",
       "      <td>0.999621</td>\n",
       "      <td>0.999981</td>\n",
       "      <td>0.605929</td>\n",
       "      <td>0.391179</td>\n",
       "      <td>0.117389</td>\n",
       "      <td>0.302773</td>\n",
       "      <td>0.483451</td>\n",
       "      <td>1.000000</td>\n",
       "      <td>0.646555</td>\n",
       "    </tr>\n",
       "    <tr>\n",
       "      <th>death_date</th>\n",
       "      <td>0.111495</td>\n",
       "      <td>0.645723</td>\n",
       "      <td>0.646890</td>\n",
       "      <td>0.525338</td>\n",
       "      <td>0.401299</td>\n",
       "      <td>0.112296</td>\n",
       "      <td>0.262967</td>\n",
       "      <td>0.769429</td>\n",
       "      <td>0.646555</td>\n",
       "      <td>1.000000</td>\n",
       "    </tr>\n",
       "  </tbody>\n",
       "</table>\n",
       "</div>"
      ],
      "text/plain": [
       "                   sex  patient_type  intubated  pneumonia       age  \\\n",
       "sex           1.000000      0.116015   0.116637   0.105185  0.024742   \n",
       "patient_type  0.116015      1.000000   0.999618   0.604858  0.391435   \n",
       "intubated     0.116637      0.999618   1.000000   0.606346  0.391082   \n",
       "pneumonia     0.105185      0.604858   0.606346   1.000000  0.317103   \n",
       "age           0.024742      0.391435   0.391082   0.317103  1.000000   \n",
       "pregnant      0.995783      0.116717   0.117351   0.104225  0.024200   \n",
       "another_case  0.008403      0.303647   0.301973   0.071082  0.159564   \n",
       "outcome       0.124977      0.482391   0.483642   0.413807  0.318322   \n",
       "icu           0.116680      0.999621   0.999981   0.605929  0.391179   \n",
       "death_date    0.111495      0.645723   0.646890   0.525338  0.401299   \n",
       "\n",
       "              pregnant  another_case   outcome       icu  death_date  \n",
       "sex           0.995783      0.008403  0.124977  0.116680    0.111495  \n",
       "patient_type  0.116717      0.303647  0.482391  0.999621    0.645723  \n",
       "intubated     0.117351      0.301973  0.483642  0.999981    0.646890  \n",
       "pneumonia     0.104225      0.071082  0.413807  0.605929    0.525338  \n",
       "age           0.024200      0.159564  0.318322  0.391179    0.401299  \n",
       "pregnant      1.000000      0.007765  0.126439  0.117389    0.112296  \n",
       "another_case  0.007765      1.000000  0.160476  0.302773    0.262967  \n",
       "outcome       0.126439      0.160476  1.000000  0.483451    0.769429  \n",
       "icu           0.117389      0.302773  0.483451  1.000000    0.646555  \n",
       "death_date    0.112296      0.262967  0.769429  0.646555    1.000000  "
      ]
     },
     "execution_count": 29,
     "metadata": {},
     "output_type": "execute_result"
    }
   ],
   "source": [
    "f_data.corr().abs()"
   ]
  },
  {
   "cell_type": "code",
   "execution_count": 30,
   "id": "c7a72979",
   "metadata": {
    "execution": {
     "iopub.execute_input": "2021-12-03T12:45:47.764954Z",
     "iopub.status.busy": "2021-12-03T12:45:47.764290Z",
     "iopub.status.idle": "2021-12-03T12:45:48.134477Z",
     "shell.execute_reply": "2021-12-03T12:45:48.134984Z",
     "shell.execute_reply.started": "2021-12-03T12:44:55.476134Z"
    },
    "papermill": {
     "duration": 0.474192,
     "end_time": "2021-12-03T12:45:48.135166",
     "exception": false,
     "start_time": "2021-12-03T12:45:47.660974",
     "status": "completed"
    },
    "tags": []
   },
   "outputs": [
    {
     "data": {
      "text/plain": [
       "<AxesSubplot:>"
      ]
     },
     "execution_count": 30,
     "metadata": {},
     "output_type": "execute_result"
    },
    {
     "data": {
      "image/png": "[encoded data removed]",
      "text/plain": [
       "<Figure size 432x288 with 2 Axes>"
      ]
     },
     "metadata": {
      "needs_background": "light"
     },
     "output_type": "display_data"
    }
   ],
   "source": [
    "sns.heatmap(f_data.corr().abs(),annot=False,linewidths=.5, cbar_kws={\"shrink\": .5})"
   ]
  },
  {
   "cell_type": "code",
   "execution_count": 31,
   "id": "cbf7b326",
   "metadata": {
    "execution": {
     "iopub.execute_input": "2021-12-03T12:45:48.313275Z",
     "iopub.status.busy": "2021-12-03T12:45:48.312346Z",
     "iopub.status.idle": "2021-12-03T12:45:48.315668Z",
     "shell.execute_reply": "2021-12-03T12:45:48.316170Z",
     "shell.execute_reply.started": "2021-12-03T12:44:55.874729Z"
    },
    "papermill": {
     "duration": 0.098216,
     "end_time": "2021-12-03T12:45:48.316338",
     "exception": false,
     "start_time": "2021-12-03T12:45:48.218122",
     "status": "completed"
    },
    "tags": []
   },
   "outputs": [
    {
     "data": {
      "text/html": [
       "<div>\n",
       "<style scoped>\n",
       "    .dataframe tbody tr th:only-of-type {\n",
       "        vertical-align: middle;\n",
       "    }\n",
       "\n",
       "    .dataframe tbody tr th {\n",
       "        vertical-align: top;\n",
       "    }\n",
       "\n",
       "    .dataframe thead th {\n",
       "        text-align: right;\n",
       "    }\n",
       "</style>\n",
       "<table border=\"1\" class=\"dataframe\">\n",
       "  <thead>\n",
       "    <tr style=\"text-align: right;\">\n",
       "      <th></th>\n",
       "      <th>death_date</th>\n",
       "    </tr>\n",
       "  </thead>\n",
       "  <tbody>\n",
       "    <tr>\n",
       "      <th>0</th>\n",
       "      <td>0</td>\n",
       "    </tr>\n",
       "    <tr>\n",
       "      <th>1</th>\n",
       "      <td>0</td>\n",
       "    </tr>\n",
       "    <tr>\n",
       "      <th>2</th>\n",
       "      <td>0</td>\n",
       "    </tr>\n",
       "    <tr>\n",
       "      <th>3</th>\n",
       "      <td>0</td>\n",
       "    </tr>\n",
       "    <tr>\n",
       "      <th>4</th>\n",
       "      <td>0</td>\n",
       "    </tr>\n",
       "    <tr>\n",
       "      <th>...</th>\n",
       "      <td>...</td>\n",
       "    </tr>\n",
       "    <tr>\n",
       "      <th>5995</th>\n",
       "      <td>1</td>\n",
       "    </tr>\n",
       "    <tr>\n",
       "      <th>5996</th>\n",
       "      <td>1</td>\n",
       "    </tr>\n",
       "    <tr>\n",
       "      <th>5997</th>\n",
       "      <td>1</td>\n",
       "    </tr>\n",
       "    <tr>\n",
       "      <th>5998</th>\n",
       "      <td>1</td>\n",
       "    </tr>\n",
       "    <tr>\n",
       "      <th>5999</th>\n",
       "      <td>1</td>\n",
       "    </tr>\n",
       "  </tbody>\n",
       "</table>\n",
       "<p>6000 rows × 1 columns</p>\n",
       "</div>"
      ],
      "text/plain": [
       "      death_date\n",
       "0              0\n",
       "1              0\n",
       "2              0\n",
       "3              0\n",
       "4              0\n",
       "...          ...\n",
       "5995           1\n",
       "5996           1\n",
       "5997           1\n",
       "5998           1\n",
       "5999           1\n",
       "\n",
       "[6000 rows x 1 columns]"
      ]
     },
     "execution_count": 31,
     "metadata": {},
     "output_type": "execute_result"
    }
   ],
   "source": [
    "xf_train=f_data.drop([\"death_date\"],axis=1)\n",
    "yf_train=f_data[\"death_date\"]\n",
    "yf_train=pd.DataFrame(yf_train)\n",
    "yf_train"
   ]
  },
  {
   "cell_type": "code",
   "execution_count": 32,
   "id": "6e0b1200",
   "metadata": {
    "execution": {
     "iopub.execute_input": "2021-12-03T12:45:48.492068Z",
     "iopub.status.busy": "2021-12-03T12:45:48.491035Z",
     "iopub.status.idle": "2021-12-03T12:45:48.497199Z",
     "shell.execute_reply": "2021-12-03T12:45:48.497873Z",
     "shell.execute_reply.started": "2021-12-03T12:44:55.892681Z"
    },
    "papermill": {
     "duration": 0.097366,
     "end_time": "2021-12-03T12:45:48.498097",
     "exception": false,
     "start_time": "2021-12-03T12:45:48.400731",
     "status": "completed"
    },
    "tags": []
   },
   "outputs": [
    {
     "name": "stdout",
     "output_type": "stream",
     "text": [
      "Eğitim Veri Adet: 5400\n",
      "Eğitim Label Adet: 5400\n",
      "Test Veri Adet: 600\n",
      "Test Label Adet: 600\n"
     ]
    }
   ],
   "source": [
    "xf_train,xf_test,yf_train,yf_test=train_test_split(xf_train,yf_train,test_size=0.1,random_state=1)\n",
    "print (\"Eğitim Veri Adet:\" , xf_train.shape[0])\n",
    "print (\"Eğitim Label Adet:\" , yf_train.shape[0])\n",
    "print (\"Test Veri Adet:\" , xf_test.shape[0])\n",
    "print (\"Test Label Adet:\" , yf_test.shape[0])"
   ]
  },
  {
   "cell_type": "code",
   "execution_count": 33,
   "id": "9d48dae9",
   "metadata": {
    "execution": {
     "iopub.execute_input": "2021-12-03T12:45:48.680690Z",
     "iopub.status.busy": "2021-12-03T12:45:48.678611Z",
     "iopub.status.idle": "2021-12-03T12:45:49.892099Z",
     "shell.execute_reply": "2021-12-03T12:45:49.892953Z",
     "shell.execute_reply.started": "2021-12-03T12:44:55.911183Z"
    },
    "papermill": {
     "duration": 1.31049,
     "end_time": "2021-12-03T12:45:49.893176",
     "exception": false,
     "start_time": "2021-12-03T12:45:48.582686",
     "status": "completed"
    },
    "tags": []
   },
   "outputs": [
    {
     "name": "stdout",
     "output_type": "stream",
     "text": [
      "Eğitim Veri Adet: 5400\n",
      "Eğitim Label Adet: 5400\n",
      "Test Veri Adet: 600\n",
      "Test Label Adet: 600\n",
      "Navie Bayes Acc Score: 0.8266666666666667\n",
      "Decision Tree Acc Score: 0.9066666666666666\n",
      "Random Forest Acc Score: 0.9266666666666666\n",
      "SVM Acc Score: 0.7916666666666666\n",
      "KNN Acc Score: 0.8966666666666666\n"
     ]
    }
   ],
   "source": [
    "print (\"Eğitim Veri Adet:\" , xf_train.shape[0])\n",
    "print (\"Eğitim Label Adet:\" , yf_train.shape[0])\n",
    "print (\"Test Veri Adet:\" , xf_test.shape[0])\n",
    "print (\"Test Label Adet:\" , yf_test.shape[0])\n",
    "y_train=y_train.astype('float')\n",
    "y_test=y_test.astype('float')\n",
    "#Navie Bayes\n",
    "nb.fit(xf_train, yf_train)\n",
    "score_10=nb.score(xf_test,yf_test)\n",
    "#Decision Tree\n",
    "decision_tree.fit(xf_train, yf_train)\n",
    "score_11=decision_tree.score(xf_test,yf_test)\n",
    "#Random Forest\n",
    "random_forest.fit(xf_train,yf_train)\n",
    "score_12=random_forest.score(xf_test,yf_test)\n",
    "#SVM\n",
    "sup_vec.fit(xf_train,yf_train)\n",
    "score_13=sup_vec.score(xf_test,yf_test)\n",
    "#KNN\n",
    "knn.fit(xf_train,yf_train)\n",
    "score_14=knn.score(xf_test,yf_test)\n",
    "print (\"Navie Bayes Acc Score:\",score_10)\n",
    "print (\"Decision Tree Acc Score:\",score_11)\n",
    "print (\"Random Forest Acc Score:\",score_12)\n",
    "print (\"SVM Acc Score:\",score_13)\n",
    "print (\"KNN Acc Score:\",score_14)\n",
    "yf_pred11 = random_forest.predict(xf_test)\n",
    "yf_pred12 = nb.predict(xf_test)\n",
    "yf_pred13 = decision_tree.predict(xf_test)\n",
    "yf_pred14 = sup_vec.predict(xf_test)\n",
    "yf_pred15 = knn.predict(xf_test)"
   ]
  },
  {
   "cell_type": "code",
   "execution_count": 34,
   "id": "eea66f1a",
   "metadata": {
    "execution": {
     "iopub.execute_input": "2021-12-03T12:45:50.068179Z",
     "iopub.status.busy": "2021-12-03T12:45:50.067180Z",
     "iopub.status.idle": "2021-12-03T12:45:50.231222Z",
     "shell.execute_reply": "2021-12-03T12:45:50.230689Z",
     "shell.execute_reply.started": "2021-12-03T12:44:57.172113Z"
    },
    "papermill": {
     "duration": 0.253159,
     "end_time": "2021-12-03T12:45:50.231366",
     "exception": false,
     "start_time": "2021-12-03T12:45:49.978207",
     "status": "completed"
    },
    "tags": []
   },
   "outputs": [
    {
     "name": "stdout",
     "output_type": "stream",
     "text": [
      "[[287  22]\n",
      " [ 22 269]]\n"
     ]
    },
    {
     "data": {
      "text/plain": [
       "Text(0.5, 1.0, 'Confusion_matrix')"
      ]
     },
     "execution_count": 34,
     "metadata": {},
     "output_type": "execute_result"
    },
    {
     "data": {
      "image/png": "[encoded data removed]",
      "text/plain": [
       "<Figure size 432x288 with 1 Axes>"
      ]
     },
     "metadata": {
      "needs_background": "light"
     },
     "output_type": "display_data"
    }
   ],
   "source": [
    "print (confusion_matrix(yf_test, yf_pred11))\n",
    "sns.heatmap(confusion_matrix(yf_pred11,yf_test), annot=True,lw=2,cbar=False)\n",
    "plt.ylabel(\"True Values\")\n",
    "plt.xlabel(\"Preict Value\")\n",
    "plt.title(\"Confusion_matrix\")"
   ]
  },
  {
   "cell_type": "code",
   "execution_count": 35,
   "id": "172d14f3",
   "metadata": {
    "execution": {
     "iopub.execute_input": "2021-12-03T12:45:50.410843Z",
     "iopub.status.busy": "2021-12-03T12:45:50.409736Z",
     "iopub.status.idle": "2021-12-03T12:45:50.419624Z",
     "shell.execute_reply": "2021-12-03T12:45:50.420613Z",
     "shell.execute_reply.started": "2021-12-03T12:44:57.349378Z"
    },
    "papermill": {
     "duration": 0.102147,
     "end_time": "2021-12-03T12:45:50.420947",
     "exception": false,
     "start_time": "2021-12-03T12:45:50.318800",
     "status": "completed"
    },
    "tags": []
   },
   "outputs": [
    {
     "name": "stdout",
     "output_type": "stream",
     "text": [
      "              precision    recall  f1-score   support\n",
      "\n",
      "           0       0.93      0.93      0.93       309\n",
      "           1       0.92      0.92      0.92       291\n",
      "\n",
      "    accuracy                           0.93       600\n",
      "   macro avg       0.93      0.93      0.93       600\n",
      "weighted avg       0.93      0.93      0.93       600\n",
      "\n"
     ]
    }
   ],
   "source": [
    "print (classification_report(yf_test,yf_pred11))"
   ]
  },
  {
   "cell_type": "code",
   "execution_count": 36,
   "id": "e02b29f9",
   "metadata": {
    "execution": {
     "iopub.execute_input": "2021-12-03T12:45:50.600162Z",
     "iopub.status.busy": "2021-12-03T12:45:50.599553Z",
     "iopub.status.idle": "2021-12-03T12:45:51.078282Z",
     "shell.execute_reply": "2021-12-03T12:45:51.078879Z",
     "shell.execute_reply.started": "2021-12-03T12:44:57.360988Z"
    },
    "papermill": {
     "duration": 0.570713,
     "end_time": "2021-12-03T12:45:51.079080",
     "exception": false,
     "start_time": "2021-12-03T12:45:50.508367",
     "status": "completed"
    },
    "tags": []
   },
   "outputs": [
    {
     "name": "stdout",
     "output_type": "stream",
     "text": [
      "[12:45:50] WARNING: ../src/learner.cc:1115: Starting in XGBoost 1.3.0, the default evaluation metric used with the objective 'binary:logistic' was changed from 'error' to 'logloss'. Explicitly set eval_metric if you'd like to restore the old behavior.\n",
      "[[290  21]\n",
      " [ 19 270]]\n"
     ]
    }
   ],
   "source": [
    "Classifier.fit(xf_train, yf_train)\n",
    "y_predic11=Classifier.predict(xf_test)\n",
    "cm1=confusion_matrix(y_predic11, yf_test)\n",
    "print (cm1)"
   ]
  },
  {
   "cell_type": "code",
   "execution_count": 37,
   "id": "7adcca49",
   "metadata": {
    "execution": {
     "iopub.execute_input": "2021-12-03T12:45:51.261240Z",
     "iopub.status.busy": "2021-12-03T12:45:51.259174Z",
     "iopub.status.idle": "2021-12-03T12:45:51.264533Z",
     "shell.execute_reply": "2021-12-03T12:45:51.263919Z",
     "shell.execute_reply.started": "2021-12-03T12:44:57.977355Z"
    },
    "papermill": {
     "duration": 0.095982,
     "end_time": "2021-12-03T12:45:51.264699",
     "exception": false,
     "start_time": "2021-12-03T12:45:51.168717",
     "status": "completed"
    },
    "tags": []
   },
   "outputs": [
    {
     "data": {
      "text/plain": [
       "(600,)"
      ]
     },
     "execution_count": 37,
     "metadata": {},
     "output_type": "execute_result"
    }
   ],
   "source": [
    "y_predic11.shape"
   ]
  },
  {
   "cell_type": "code",
   "execution_count": 38,
   "id": "47ceb95c",
   "metadata": {
    "execution": {
     "iopub.execute_input": "2021-12-03T12:45:51.443721Z",
     "iopub.status.busy": "2021-12-03T12:45:51.443097Z",
     "iopub.status.idle": "2021-12-03T12:45:51.449574Z",
     "shell.execute_reply": "2021-12-03T12:45:51.450124Z",
     "shell.execute_reply.started": "2021-12-03T12:44:57.986744Z"
    },
    "papermill": {
     "duration": 0.098643,
     "end_time": "2021-12-03T12:45:51.450295",
     "exception": false,
     "start_time": "2021-12-03T12:45:51.351652",
     "status": "completed"
    },
    "tags": []
   },
   "outputs": [
    {
     "name": "stdout",
     "output_type": "stream",
     "text": [
      "F1 Score: 0.9310344827586208\n"
     ]
    }
   ],
   "source": [
    "print (\"F1 Score:\", f1_score(yf_test,y_predic11))"
   ]
  },
  {
   "cell_type": "code",
   "execution_count": 39,
   "id": "e9fa6b29",
   "metadata": {
    "execution": {
     "iopub.execute_input": "2021-12-03T12:45:51.630394Z",
     "iopub.status.busy": "2021-12-03T12:45:51.628923Z",
     "iopub.status.idle": "2021-12-03T12:45:52.108846Z",
     "shell.execute_reply": "2021-12-03T12:45:52.109441Z",
     "shell.execute_reply.started": "2021-12-03T12:44:57.999582Z"
    },
    "papermill": {
     "duration": 0.57149,
     "end_time": "2021-12-03T12:45:52.109651",
     "exception": false,
     "start_time": "2021-12-03T12:45:51.538161",
     "status": "completed"
    },
    "tags": []
   },
   "outputs": [
    {
     "name": "stdout",
     "output_type": "stream",
     "text": [
      "[12:45:51] WARNING: ../src/learner.cc:1115: Starting in XGBoost 1.3.0, the default evaluation metric used with the objective 'binary:logistic' was changed from 'error' to 'logloss'. Explicitly set eval_metric if you'd like to restore the old behavior.\n"
     ]
    }
   ],
   "source": [
    "Classifier.fit(xf_train, yf_train)\n",
    "y_predic11=Classifier.predict(xf_test)"
   ]
  },
  {
   "cell_type": "code",
   "execution_count": 40,
   "id": "b428eb8e",
   "metadata": {
    "execution": {
     "iopub.execute_input": "2021-12-03T12:45:52.293713Z",
     "iopub.status.busy": "2021-12-03T12:45:52.292724Z",
     "iopub.status.idle": "2021-12-03T12:45:52.309701Z",
     "shell.execute_reply": "2021-12-03T12:45:52.310317Z",
     "shell.execute_reply.started": "2021-12-03T12:44:58.516350Z"
    },
    "papermill": {
     "duration": 0.110215,
     "end_time": "2021-12-03T12:45:52.310570",
     "exception": false,
     "start_time": "2021-12-03T12:45:52.200355",
     "status": "completed"
    },
    "tags": []
   },
   "outputs": [
    {
     "name": "stdout",
     "output_type": "stream",
     "text": [
      "0.9333333333333333\n"
     ]
    }
   ],
   "source": [
    "score_777=Classifier.score(xf_test,yf_test)\n",
    "print (score_777)"
   ]
  },
  {
   "cell_type": "code",
   "execution_count": 41,
   "id": "a7712f4c",
   "metadata": {
    "execution": {
     "iopub.execute_input": "2021-12-03T12:45:52.500889Z",
     "iopub.status.busy": "2021-12-03T12:45:52.500220Z",
     "iopub.status.idle": "2021-12-03T12:45:52.549075Z",
     "shell.execute_reply": "2021-12-03T12:45:52.548478Z",
     "shell.execute_reply.started": "2021-12-03T12:44:58.544445Z"
    },
    "papermill": {
     "duration": 0.14952,
     "end_time": "2021-12-03T12:45:52.549246",
     "exception": false,
     "start_time": "2021-12-03T12:45:52.399726",
     "status": "completed"
    },
    "tags": []
   },
   "outputs": [],
   "source": [
    "probs22=random_forest.predict_proba(xf_test)\n",
    "preds22=probs22[:,1]\n",
    "fpr22,tpr22, threshold =metrics.roc_curve(yf_test, yf_pred11)\n",
    "roc_auc22=metrics.auc(fpr22,tpr22)\n",
    "\n",
    "probs23=nb.predict_proba(xf_test)\n",
    "preds23=probs23[:,1]\n",
    "fpr23,tpr23, threshold23 =metrics.roc_curve(yf_test, yf_pred12)\n",
    "roc_auc23=metrics.auc(fpr23,tpr23)\n",
    "\n",
    "probs24=decision_tree.predict_proba(xf_test)\n",
    "preds24=probs24[:,1]\n",
    "fpr24,tpr24, threshold24 =metrics.roc_curve(yf_test, yf_pred13)\n",
    "roc_auc24=metrics.auc(fpr24,tpr24)\n",
    "\n",
    "#probs_3=sup_vec.predict_proba(x_test)\n",
    "#preds_3=probs_3[:,1]\n",
    "#fpr_3,tpr_3, threshold_3 =metrics.roc_curve(y_test, y_pred_3)\n",
    "#roc_auc_3=metrics.auc(fpr_3,tpr_3)\n",
    "\n",
    "probs25=knn.predict_proba(xf_test)\n",
    "preds25=probs25[:,1]\n",
    "fpr25,tpr25, threshold25 =metrics.roc_curve(yf_test, yf_pred15)\n",
    "roc_auc25=metrics.auc(fpr25,tpr25)\n",
    "\n",
    "probs_99=Classifier.predict_proba(xf_test)\n",
    "preds_99=probs_99[:,1]\n",
    "fpr_99,tpr_99, threshold_99 =metrics.roc_curve(yf_test, y_predic11)\n",
    "roc_auc_99=metrics.auc(fpr_99,tpr_99)"
   ]
  },
  {
   "cell_type": "code",
   "execution_count": 42,
   "id": "e3b01d51",
   "metadata": {
    "execution": {
     "iopub.execute_input": "2021-12-03T12:45:52.736652Z",
     "iopub.status.busy": "2021-12-03T12:45:52.735986Z",
     "iopub.status.idle": "2021-12-03T12:45:52.959849Z",
     "shell.execute_reply": "2021-12-03T12:45:52.959225Z",
     "shell.execute_reply.started": "2021-12-03T12:44:58.604110Z"
    },
    "papermill": {
     "duration": 0.320796,
     "end_time": "2021-12-03T12:45:52.960014",
     "exception": false,
     "start_time": "2021-12-03T12:45:52.639218",
     "status": "completed"
    },
    "tags": []
   },
   "outputs": [
    {
     "data": {
      "image/png": "[encoded data removed]",
      "text/plain": [
       "<Figure size 432x288 with 1 Axes>"
      ]
     },
     "metadata": {
      "needs_background": "light"
     },
     "output_type": "display_data"
    }
   ],
   "source": [
    "plt.title(\"Receiver Operating Charac\")\n",
    "plt.plot(fpr_99, tpr_99, 'black', label=\"XGBOOST=93\" % roc_auc)\n",
    "plt.plot(fpr22, tpr22, 'b', label=\"RF=92\" % roc_auc)\n",
    "plt.plot(fpr24, tpr24, 'y', label=\"DT=90\" % roc_auc)\n",
    "plt.plot(fpr25, tpr25, 'r', label=\"KNN=89\" % roc_auc)\n",
    "plt.plot(fpr23, tpr23, 'g', label=\"NB=82\" % roc_auc)\n",
    "plt.legend(loc=\"lower right\")\n",
    "plt.plot([0,1],[0,1],'r--')\n",
    "plt.xlim([0,1])\n",
    "plt.ylim([0,1])\n",
    "plt.ylabel('True Pozitive Rate')\n",
    "plt.xlabel('False Positive Rate')\n",
    "plt.show()"
   ]
  },
  {
   "cell_type": "markdown",
   "id": "5d010e42",
   "metadata": {
    "papermill": {
     "duration": 0.091318,
     "end_time": "2021-12-03T12:45:53.140750",
     "exception": false,
     "start_time": "2021-12-03T12:45:53.049432",
     "status": "completed"
    },
    "tags": []
   },
   "source": [
    "# Ensemble"
   ]
  },
  {
   "cell_type": "code",
   "execution_count": null,
   "id": "a3b3fa4a",
   "metadata": {
    "papermill": {
     "duration": 0.090206,
     "end_time": "2021-12-03T12:45:53.320509",
     "exception": false,
     "start_time": "2021-12-03T12:45:53.230303",
     "status": "completed"
    },
    "tags": []
   },
   "outputs": [],
   "source": []
  },
  {
   "cell_type": "code",
   "execution_count": 43,
   "id": "9f96a4a9",
   "metadata": {
    "execution": {
     "iopub.execute_input": "2021-12-03T12:45:53.506281Z",
     "iopub.status.busy": "2021-12-03T12:45:53.505669Z",
     "iopub.status.idle": "2021-12-03T12:45:54.387580Z",
     "shell.execute_reply": "2021-12-03T12:45:54.386985Z",
     "shell.execute_reply.started": "2021-12-03T12:44:58.853019Z"
    },
    "papermill": {
     "duration": 0.977031,
     "end_time": "2021-12-03T12:45:54.387731",
     "exception": false,
     "start_time": "2021-12-03T12:45:53.410700",
     "status": "completed"
    },
    "tags": []
   },
   "outputs": [
    {
     "name": "stdout",
     "output_type": "stream",
     "text": [
      "[12:45:53] WARNING: ../src/learner.cc:1115: Starting in XGBoost 1.3.0, the default evaluation metric used with the objective 'binary:logistic' was changed from 'error' to 'logloss'. Explicitly set eval_metric if you'd like to restore the old behavior.\n"
     ]
    }
   ],
   "source": [
    "volting=VotingClassifier(estimators=[(\"rf\",random_forest),(\"gbboost\",Classifier),(\"dt\",decision_tree)], voting=\"hard\").fit(xf_train, yf_train)"
   ]
  },
  {
   "cell_type": "code",
   "execution_count": 44,
   "id": "5fb0f2db",
   "metadata": {
    "execution": {
     "iopub.execute_input": "2021-12-03T12:45:54.578157Z",
     "iopub.status.busy": "2021-12-03T12:45:54.577521Z",
     "iopub.status.idle": "2021-12-03T12:45:54.618166Z",
     "shell.execute_reply": "2021-12-03T12:45:54.617564Z",
     "shell.execute_reply.started": "2021-12-03T12:45:00.315188Z"
    },
    "papermill": {
     "duration": 0.137892,
     "end_time": "2021-12-03T12:45:54.618307",
     "exception": false,
     "start_time": "2021-12-03T12:45:54.480415",
     "status": "completed"
    },
    "tags": []
   },
   "outputs": [],
   "source": [
    "score7842=volting.score(xf_test, yf_test)"
   ]
  },
  {
   "cell_type": "code",
   "execution_count": 45,
   "id": "ec2d99e0",
   "metadata": {
    "execution": {
     "iopub.execute_input": "2021-12-03T12:45:54.806970Z",
     "iopub.status.busy": "2021-12-03T12:45:54.806304Z",
     "iopub.status.idle": "2021-12-03T12:45:54.809580Z",
     "shell.execute_reply": "2021-12-03T12:45:54.810076Z",
     "shell.execute_reply.started": "2021-12-03T12:45:00.362246Z"
    },
    "papermill": {
     "duration": 0.098355,
     "end_time": "2021-12-03T12:45:54.810258",
     "exception": false,
     "start_time": "2021-12-03T12:45:54.711903",
     "status": "completed"
    },
    "tags": []
   },
   "outputs": [
    {
     "data": {
      "text/plain": [
       "0.9216666666666666"
      ]
     },
     "execution_count": 45,
     "metadata": {},
     "output_type": "execute_result"
    }
   ],
   "source": [
    "score7842"
   ]
  },
  {
   "cell_type": "code",
   "execution_count": 46,
   "id": "5eeb9c95",
   "metadata": {
    "execution": {
     "iopub.execute_input": "2021-12-03T12:45:54.994822Z",
     "iopub.status.busy": "2021-12-03T12:45:54.994112Z",
     "iopub.status.idle": "2021-12-03T12:45:55.893097Z",
     "shell.execute_reply": "2021-12-03T12:45:55.893606Z",
     "shell.execute_reply.started": "2021-12-03T12:45:00.369540Z"
    },
    "papermill": {
     "duration": 0.993103,
     "end_time": "2021-12-03T12:45:55.893807",
     "exception": false,
     "start_time": "2021-12-03T12:45:54.900704",
     "status": "completed"
    },
    "tags": []
   },
   "outputs": [
    {
     "name": "stdout",
     "output_type": "stream",
     "text": [
      "[12:45:55] WARNING: ../src/learner.cc:1115: Starting in XGBoost 1.3.0, the default evaluation metric used with the objective 'binary:logistic' was changed from 'error' to 'logloss'. Explicitly set eval_metric if you'd like to restore the old behavior.\n"
     ]
    }
   ],
   "source": [
    "volting2=VotingClassifier(estimators=[(\"rf\",random_forest),(\"gbboost\",Classifier),(\"dt\",decision_tree)], voting=\"soft\").fit(xf_train, yf_train)"
   ]
  },
  {
   "cell_type": "code",
   "execution_count": 47,
   "id": "a5517da7",
   "metadata": {
    "execution": {
     "iopub.execute_input": "2021-12-03T12:45:56.082762Z",
     "iopub.status.busy": "2021-12-03T12:45:56.081811Z",
     "iopub.status.idle": "2021-12-03T12:45:56.112942Z",
     "shell.execute_reply": "2021-12-03T12:45:56.113465Z",
     "shell.execute_reply.started": "2021-12-03T12:45:01.380989Z"
    },
    "papermill": {
     "duration": 0.127466,
     "end_time": "2021-12-03T12:45:56.113681",
     "exception": false,
     "start_time": "2021-12-03T12:45:55.986215",
     "status": "completed"
    },
    "tags": []
   },
   "outputs": [],
   "source": [
    "score78=volting2.score(xf_test, yf_test)"
   ]
  },
  {
   "cell_type": "code",
   "execution_count": 48,
   "id": "53cac752",
   "metadata": {
    "execution": {
     "iopub.execute_input": "2021-12-03T12:45:56.302042Z",
     "iopub.status.busy": "2021-12-03T12:45:56.301434Z",
     "iopub.status.idle": "2021-12-03T12:45:56.304678Z",
     "shell.execute_reply": "2021-12-03T12:45:56.304059Z",
     "shell.execute_reply.started": "2021-12-03T12:45:01.421772Z"
    },
    "papermill": {
     "duration": 0.098705,
     "end_time": "2021-12-03T12:45:56.304815",
     "exception": false,
     "start_time": "2021-12-03T12:45:56.206110",
     "status": "completed"
    },
    "tags": []
   },
   "outputs": [
    {
     "data": {
      "text/plain": [
       "0.915"
      ]
     },
     "execution_count": 48,
     "metadata": {},
     "output_type": "execute_result"
    }
   ],
   "source": [
    "score78"
   ]
  },
  {
   "cell_type": "code",
   "execution_count": 49,
   "id": "4678c199",
   "metadata": {
    "execution": {
     "iopub.execute_input": "2021-12-03T12:45:56.493017Z",
     "iopub.status.busy": "2021-12-03T12:45:56.490684Z",
     "iopub.status.idle": "2021-12-03T12:45:57.463668Z",
     "shell.execute_reply": "2021-12-03T12:45:57.463088Z",
     "shell.execute_reply.started": "2021-12-03T12:45:01.431735Z"
    },
    "papermill": {
     "duration": 1.067824,
     "end_time": "2021-12-03T12:45:57.463825",
     "exception": false,
     "start_time": "2021-12-03T12:45:56.396001",
     "status": "completed"
    },
    "tags": []
   },
   "outputs": [
    {
     "name": "stdout",
     "output_type": "stream",
     "text": [
      "[12:45:56] WARNING: ../src/learner.cc:1115: Starting in XGBoost 1.3.0, the default evaluation metric used with the objective 'binary:logistic' was changed from 'error' to 'logloss'. Explicitly set eval_metric if you'd like to restore the old behavior.\n"
     ]
    }
   ],
   "source": [
    "volting12=VotingClassifier(estimators=[(\"rf\",random_forest),(\"gbboost\",Classifier),(\"dt\",decision_tree)], voting=\"hard\").fit(x_train, y_train)"
   ]
  },
  {
   "cell_type": "code",
   "execution_count": 50,
   "id": "17167e39",
   "metadata": {
    "execution": {
     "iopub.execute_input": "2021-12-03T12:45:57.652170Z",
     "iopub.status.busy": "2021-12-03T12:45:57.651523Z",
     "iopub.status.idle": "2021-12-03T12:45:57.706368Z",
     "shell.execute_reply": "2021-12-03T12:45:57.706952Z",
     "shell.execute_reply.started": "2021-12-03T12:45:02.523441Z"
    },
    "papermill": {
     "duration": 0.151628,
     "end_time": "2021-12-03T12:45:57.707127",
     "exception": false,
     "start_time": "2021-12-03T12:45:57.555499",
     "status": "completed"
    },
    "tags": []
   },
   "outputs": [],
   "source": [
    "score123123=volting12.score(x_test, y_test)"
   ]
  },
  {
   "cell_type": "code",
   "execution_count": 51,
   "id": "c3e2562e",
   "metadata": {
    "execution": {
     "iopub.execute_input": "2021-12-03T12:45:57.894543Z",
     "iopub.status.busy": "2021-12-03T12:45:57.893894Z",
     "iopub.status.idle": "2021-12-03T12:45:57.898075Z",
     "shell.execute_reply": "2021-12-03T12:45:57.898684Z",
     "shell.execute_reply.started": "2021-12-03T12:45:02.591709Z"
    },
    "papermill": {
     "duration": 0.099355,
     "end_time": "2021-12-03T12:45:57.898853",
     "exception": false,
     "start_time": "2021-12-03T12:45:57.799498",
     "status": "completed"
    },
    "tags": []
   },
   "outputs": [
    {
     "data": {
      "text/plain": [
       "0.9333333333333333"
      ]
     },
     "execution_count": 51,
     "metadata": {},
     "output_type": "execute_result"
    }
   ],
   "source": [
    "score123123"
   ]
  },
  {
   "cell_type": "code",
   "execution_count": 52,
   "id": "0eeccd30",
   "metadata": {
    "execution": {
     "iopub.execute_input": "2021-12-03T12:45:58.085200Z",
     "iopub.status.busy": "2021-12-03T12:45:58.084575Z",
     "iopub.status.idle": "2021-12-03T12:46:00.627467Z",
     "shell.execute_reply": "2021-12-03T12:46:00.626710Z",
     "shell.execute_reply.started": "2021-12-03T12:45:02.598723Z"
    },
    "papermill": {
     "duration": 2.637536,
     "end_time": "2021-12-03T12:46:00.627621",
     "exception": false,
     "start_time": "2021-12-03T12:45:57.990085",
     "status": "completed"
    },
    "tags": []
   },
   "outputs": [],
   "source": [
    "bag=BaggingClassifier(decision_tree, n_estimators=100, max_samples=0.8,n_jobs=-1, random_state=1).fit(xf_train, yf_train)"
   ]
  },
  {
   "cell_type": "code",
   "execution_count": 53,
   "id": "e301a1c0",
   "metadata": {
    "execution": {
     "iopub.execute_input": "2021-12-03T12:46:00.821557Z",
     "iopub.status.busy": "2021-12-03T12:46:00.820612Z",
     "iopub.status.idle": "2021-12-03T12:46:00.924793Z",
     "shell.execute_reply": "2021-12-03T12:46:00.924284Z",
     "shell.execute_reply.started": "2021-12-03T12:45:05.009303Z"
    },
    "papermill": {
     "duration": 0.203678,
     "end_time": "2021-12-03T12:46:00.924933",
     "exception": false,
     "start_time": "2021-12-03T12:46:00.721255",
     "status": "completed"
    },
    "tags": []
   },
   "outputs": [
    {
     "data": {
      "text/plain": [
       "0.925"
      ]
     },
     "execution_count": 53,
     "metadata": {},
     "output_type": "execute_result"
    }
   ],
   "source": [
    "bag.score(xf_test, yf_test)"
   ]
  },
  {
   "cell_type": "code",
   "execution_count": 54,
   "id": "db5b1817",
   "metadata": {
    "execution": {
     "iopub.execute_input": "2021-12-03T12:46:01.116454Z",
     "iopub.status.busy": "2021-12-03T12:46:01.115807Z",
     "iopub.status.idle": "2021-12-03T12:46:01.166338Z",
     "shell.execute_reply": "2021-12-03T12:46:01.165838Z",
     "shell.execute_reply.started": "2021-12-03T12:45:05.128969Z"
    },
    "papermill": {
     "duration": 0.149602,
     "end_time": "2021-12-03T12:46:01.166497",
     "exception": false,
     "start_time": "2021-12-03T12:46:01.016895",
     "status": "completed"
    },
    "tags": []
   },
   "outputs": [
    {
     "data": {
      "text/plain": [
       "RandomForestClassifier(n_estimators=10)"
      ]
     },
     "execution_count": 54,
     "metadata": {},
     "output_type": "execute_result"
    }
   ],
   "source": [
    "randomForestObject = RandomForestClassifier(n_estimators=10)\n",
    "randomForestObject.fit(xf_train, yf_train)"
   ]
  },
  {
   "cell_type": "code",
   "execution_count": 55,
   "id": "70fe7104",
   "metadata": {
    "execution": {
     "iopub.execute_input": "2021-12-03T12:46:01.358303Z",
     "iopub.status.busy": "2021-12-03T12:46:01.357309Z",
     "iopub.status.idle": "2021-12-03T12:46:01.363690Z",
     "shell.execute_reply": "2021-12-03T12:46:01.364140Z",
     "shell.execute_reply.started": "2021-12-03T12:45:05.196292Z"
    },
    "papermill": {
     "duration": 0.105678,
     "end_time": "2021-12-03T12:46:01.364315",
     "exception": false,
     "start_time": "2021-12-03T12:46:01.258637",
     "status": "completed"
    },
    "tags": []
   },
   "outputs": [
    {
     "name": "stdout",
     "output_type": "stream",
     "text": [
      "Random Forest Doğruluk (test_seti):  0.92\n"
     ]
    }
   ],
   "source": [
    "df_test_sonuc = randomForestObject.score(xf_test, yf_test)\n",
    "print(\"Random Forest Doğruluk (test_seti): \",round(df_test_sonuc,2))"
   ]
  },
  {
   "cell_type": "code",
   "execution_count": null,
   "id": "d67c1d32",
   "metadata": {
    "papermill": {
     "duration": 0.092239,
     "end_time": "2021-12-03T12:46:01.549060",
     "exception": false,
     "start_time": "2021-12-03T12:46:01.456821",
     "status": "completed"
    },
    "tags": []
   },
   "outputs": [],
   "source": []
  },
  {
   "cell_type": "code",
   "execution_count": null,
   "id": "ea028318",
   "metadata": {
    "papermill": {
     "duration": 0.092784,
     "end_time": "2021-12-03T12:46:01.734996",
     "exception": false,
     "start_time": "2021-12-03T12:46:01.642212",
     "status": "completed"
    },
    "tags": []
   },
   "outputs": [],
   "source": []
  },
  {
   "cell_type": "markdown",
   "id": "3f4b313a",
   "metadata": {
    "papermill": {
     "duration": 0.093124,
     "end_time": "2021-12-03T12:46:01.921102",
     "exception": false,
     "start_time": "2021-12-03T12:46:01.827978",
     "status": "completed"
    },
    "tags": []
   },
   "source": [
    "# New Ensemble"
   ]
  },
  {
   "cell_type": "code",
   "execution_count": 56,
   "id": "3bb03cb3",
   "metadata": {
    "execution": {
     "iopub.execute_input": "2021-12-03T12:46:02.113779Z",
     "iopub.status.busy": "2021-12-03T12:46:02.112953Z",
     "iopub.status.idle": "2021-12-03T12:46:02.116222Z",
     "shell.execute_reply": "2021-12-03T12:46:02.116705Z",
     "shell.execute_reply.started": "2021-12-03T12:45:05.215283Z"
    },
    "papermill": {
     "duration": 0.103349,
     "end_time": "2021-12-03T12:46:02.116869",
     "exception": false,
     "start_time": "2021-12-03T12:46:02.013520",
     "status": "completed"
    },
    "tags": []
   },
   "outputs": [
    {
     "data": {
      "text/plain": [
       "array([0, 0, 0, 1, 1, 1, 0, 1, 1, 0, 1, 0, 0, 1, 1, 1, 1, 1, 1, 0, 0, 1,\n",
       "       1, 0, 1, 1, 1, 1, 0, 1, 1, 1, 0, 0, 0, 1, 0, 0, 0, 1, 0, 1, 1, 1,\n",
       "       0, 1, 1, 0, 1, 1, 0, 1, 0, 0, 1, 1, 0, 0, 0, 0, 1, 1, 0, 0, 1, 1,\n",
       "       0, 0, 0, 0, 1, 0, 1, 1, 1, 1, 0, 1, 0, 0, 0, 1, 0, 0, 1, 1, 1, 1,\n",
       "       1, 0, 0, 0, 1, 0, 0, 0, 0, 1, 0, 0, 0, 1, 0, 1, 0, 0, 1, 0, 1, 1,\n",
       "       0, 0, 1, 1, 0, 0, 1, 0, 1, 1, 0, 0, 0, 1, 0, 1, 0, 1, 1, 0, 0, 0,\n",
       "       1, 0, 1, 1, 0, 1, 1, 1, 0, 1, 1, 0, 0, 0, 1, 1, 0, 1, 1, 0, 1, 0,\n",
       "       0, 1, 0, 1, 1, 1, 1, 1, 0, 0, 0, 0, 1, 0, 0, 1, 1, 0, 0, 1, 0, 0,\n",
       "       0, 1, 1, 0, 1, 1, 0, 0, 0, 0, 0, 0, 1, 0, 0, 1, 0, 0, 1, 0, 0, 0,\n",
       "       1, 0, 0, 0, 0, 0, 0, 1, 1, 1, 0, 1, 0, 1, 0, 1, 1, 0, 0, 0, 1, 1,\n",
       "       1, 0, 0, 0, 0, 0, 0, 1, 1, 1, 1, 0, 1, 1, 1, 0, 0, 0, 1, 1, 1, 1,\n",
       "       1, 1, 0, 0, 1, 0, 1, 0, 1, 0, 1, 0, 0, 0, 0, 0, 1, 0, 1, 1, 0, 1,\n",
       "       1, 1, 1, 1, 0, 1, 0, 1, 1, 0, 0, 1, 0, 0, 1, 1, 1, 1, 1, 0, 1, 0,\n",
       "       0, 1, 0, 0, 1, 1, 0, 1, 1, 1, 0, 0, 1, 0, 0, 0, 1, 0, 1, 0, 1, 0,\n",
       "       1, 0, 1, 1, 1, 1, 1, 0, 1, 0, 1, 0, 1, 0, 1, 0, 0, 0, 0, 0, 1, 1,\n",
       "       1, 1, 1, 1, 1, 0, 1, 1, 1, 0, 1, 0, 1, 0, 0, 0, 0, 1, 1, 0, 1, 0,\n",
       "       1, 1, 1, 0, 0, 1, 0, 1, 0, 0, 0, 1, 1, 1, 1, 1, 1, 1, 1, 0, 1, 0,\n",
       "       0, 1, 0, 0, 0, 1, 0, 0, 1, 0, 0, 1, 0, 1, 1, 0, 0, 0, 1, 1, 0, 1,\n",
       "       1, 1, 1, 0, 0, 0, 1, 0, 1, 0, 1, 0, 0, 0, 1, 0, 0, 1, 0, 1, 1, 1,\n",
       "       0, 1, 0, 0, 0, 0, 1, 1, 0, 1, 0, 1, 0, 0, 0, 0, 1, 0, 1, 0, 1, 1,\n",
       "       0, 0, 0, 0, 0, 1, 1, 1, 1, 0, 1, 1, 1, 1, 1, 1, 1, 0, 0, 1, 0, 0,\n",
       "       1, 1, 0, 1, 0, 0, 1, 0, 1, 0, 1, 1, 0, 0, 1, 0, 0, 0, 1, 1, 1, 1,\n",
       "       1, 0, 0, 0, 0, 0, 1, 0, 1, 1, 1, 0, 0, 0, 1, 1, 0, 0, 0, 0, 0, 0,\n",
       "       1, 1, 0, 0, 1, 0, 1, 0, 0, 0, 0, 1, 0, 1, 0, 0, 1, 0, 1, 0, 1, 0,\n",
       "       1, 0, 1, 0, 0, 1, 1, 1, 1, 1, 0, 0, 1, 1, 1, 0, 0, 1, 1, 1, 1, 1,\n",
       "       0, 0, 0, 0, 0, 0, 0, 1, 0, 1, 1, 0, 0, 1, 0, 1, 0, 0, 0, 1, 1, 0,\n",
       "       1, 0, 0, 1, 0, 1, 1, 1, 0, 1, 1, 0, 0, 0, 0, 0, 1, 0, 0, 0, 1, 0,\n",
       "       0, 1, 0, 0, 0, 0])"
      ]
     },
     "execution_count": 56,
     "metadata": {},
     "output_type": "execute_result"
    }
   ],
   "source": [
    "yf_pred11"
   ]
  },
  {
   "cell_type": "code",
   "execution_count": 57,
   "id": "f820d76e",
   "metadata": {
    "execution": {
     "iopub.execute_input": "2021-12-03T12:46:02.310530Z",
     "iopub.status.busy": "2021-12-03T12:46:02.309727Z",
     "iopub.status.idle": "2021-12-03T12:46:02.311877Z",
     "shell.execute_reply": "2021-12-03T12:46:02.312441Z",
     "shell.execute_reply.started": "2021-12-03T12:45:05.225169Z"
    },
    "papermill": {
     "duration": 0.102043,
     "end_time": "2021-12-03T12:46:02.312610",
     "exception": false,
     "start_time": "2021-12-03T12:46:02.210567",
     "status": "completed"
    },
    "tags": []
   },
   "outputs": [],
   "source": [
    "extra_data=pd.DataFrame(yf_pred11)\n",
    "extra_data1=pd.DataFrame(yf_pred12)\n",
    "extra_data2=pd.DataFrame(yf_pred13)\n",
    "extra_data3=pd.DataFrame(yf_pred14)\n",
    "extra_data4=pd.DataFrame(yf_pred15)\n",
    "extra_data5=pd.DataFrame(y_predic11)\n",
    "\n"
   ]
  },
  {
   "cell_type": "code",
   "execution_count": 58,
   "id": "a6e25fdb",
   "metadata": {
    "execution": {
     "iopub.execute_input": "2021-12-03T12:46:02.501844Z",
     "iopub.status.busy": "2021-12-03T12:46:02.501225Z",
     "iopub.status.idle": "2021-12-03T12:46:02.509746Z",
     "shell.execute_reply": "2021-12-03T12:46:02.510344Z",
     "shell.execute_reply.started": "2021-12-03T12:45:05.241059Z"
    },
    "papermill": {
     "duration": 0.105332,
     "end_time": "2021-12-03T12:46:02.510529",
     "exception": false,
     "start_time": "2021-12-03T12:46:02.405197",
     "status": "completed"
    },
    "tags": []
   },
   "outputs": [],
   "source": [
    "df_new  = extra_data.rename(columns={0: 'deat_date'})\n",
    "df_new1 = extra_data.rename(columns={0: 'deat_date'})\n",
    "df_new2 = extra_data.rename(columns={0: 'deat_date'})\n",
    "df_new3 = extra_data.rename(columns={0: 'deat_date'})\n",
    "df_new4 = extra_data.rename(columns={0: 'deat_date'})\n",
    "df_new5 = extra_data.rename(columns={0: 'deat_date'})"
   ]
  },
  {
   "cell_type": "code",
   "execution_count": 59,
   "id": "22b030aa",
   "metadata": {
    "execution": {
     "iopub.execute_input": "2021-12-03T12:46:02.700201Z",
     "iopub.status.busy": "2021-12-03T12:46:02.699574Z",
     "iopub.status.idle": "2021-12-03T12:46:02.705098Z",
     "shell.execute_reply": "2021-12-03T12:46:02.705591Z",
     "shell.execute_reply.started": "2021-12-03T12:45:05.257321Z"
    },
    "papermill": {
     "duration": 0.102176,
     "end_time": "2021-12-03T12:46:02.705769",
     "exception": false,
     "start_time": "2021-12-03T12:46:02.603593",
     "status": "completed"
    },
    "tags": []
   },
   "outputs": [],
   "source": [
    "df_new=df_new.astype('int')\n",
    "df_new1=df_new1.astype('int')\n",
    "df_new2=df_new2.astype('int')\n",
    "df_new3=df_new3.astype('int')\n",
    "df_new4=df_new4.astype('int')\n",
    "df_new5=df_new5.astype('int')\n",
    "\n"
   ]
  },
  {
   "cell_type": "code",
   "execution_count": 60,
   "id": "c8d8d7c9",
   "metadata": {
    "execution": {
     "iopub.execute_input": "2021-12-03T12:46:02.900496Z",
     "iopub.status.busy": "2021-12-03T12:46:02.899608Z",
     "iopub.status.idle": "2021-12-03T12:46:02.902199Z",
     "shell.execute_reply": "2021-12-03T12:46:02.901674Z",
     "shell.execute_reply.started": "2021-12-03T12:45:05.270452Z"
    },
    "papermill": {
     "duration": 0.102752,
     "end_time": "2021-12-03T12:46:02.902346",
     "exception": false,
     "start_time": "2021-12-03T12:46:02.799594",
     "status": "completed"
    },
    "tags": []
   },
   "outputs": [],
   "source": [
    "data_sets=pd.concat([df_new,df_new1,df_new2,df_new3,df_new4,df_new5], ignore_index=True, axis=1)"
   ]
  },
  {
   "cell_type": "code",
   "execution_count": 61,
   "id": "af4cb402",
   "metadata": {
    "execution": {
     "iopub.execute_input": "2021-12-03T12:46:03.092269Z",
     "iopub.status.busy": "2021-12-03T12:46:03.091600Z",
     "iopub.status.idle": "2021-12-03T12:46:03.103225Z",
     "shell.execute_reply": "2021-12-03T12:46:03.103765Z",
     "shell.execute_reply.started": "2021-12-03T12:45:05.283722Z"
    },
    "papermill": {
     "duration": 0.108515,
     "end_time": "2021-12-03T12:46:03.103934",
     "exception": false,
     "start_time": "2021-12-03T12:46:02.995419",
     "status": "completed"
    },
    "tags": []
   },
   "outputs": [
    {
     "data": {
      "text/html": [
       "<div>\n",
       "<style scoped>\n",
       "    .dataframe tbody tr th:only-of-type {\n",
       "        vertical-align: middle;\n",
       "    }\n",
       "\n",
       "    .dataframe tbody tr th {\n",
       "        vertical-align: top;\n",
       "    }\n",
       "\n",
       "    .dataframe thead th {\n",
       "        text-align: right;\n",
       "    }\n",
       "</style>\n",
       "<table border=\"1\" class=\"dataframe\">\n",
       "  <thead>\n",
       "    <tr style=\"text-align: right;\">\n",
       "      <th></th>\n",
       "      <th>0</th>\n",
       "      <th>1</th>\n",
       "      <th>2</th>\n",
       "      <th>3</th>\n",
       "      <th>4</th>\n",
       "      <th>5</th>\n",
       "    </tr>\n",
       "  </thead>\n",
       "  <tbody>\n",
       "    <tr>\n",
       "      <th>0</th>\n",
       "      <td>0</td>\n",
       "      <td>0</td>\n",
       "      <td>0</td>\n",
       "      <td>0</td>\n",
       "      <td>0</td>\n",
       "      <td>0</td>\n",
       "    </tr>\n",
       "    <tr>\n",
       "      <th>1</th>\n",
       "      <td>0</td>\n",
       "      <td>0</td>\n",
       "      <td>0</td>\n",
       "      <td>0</td>\n",
       "      <td>0</td>\n",
       "      <td>0</td>\n",
       "    </tr>\n",
       "    <tr>\n",
       "      <th>2</th>\n",
       "      <td>0</td>\n",
       "      <td>0</td>\n",
       "      <td>0</td>\n",
       "      <td>0</td>\n",
       "      <td>0</td>\n",
       "      <td>0</td>\n",
       "    </tr>\n",
       "    <tr>\n",
       "      <th>3</th>\n",
       "      <td>1</td>\n",
       "      <td>1</td>\n",
       "      <td>1</td>\n",
       "      <td>1</td>\n",
       "      <td>1</td>\n",
       "      <td>1</td>\n",
       "    </tr>\n",
       "    <tr>\n",
       "      <th>4</th>\n",
       "      <td>1</td>\n",
       "      <td>1</td>\n",
       "      <td>1</td>\n",
       "      <td>1</td>\n",
       "      <td>1</td>\n",
       "      <td>1</td>\n",
       "    </tr>\n",
       "    <tr>\n",
       "      <th>...</th>\n",
       "      <td>...</td>\n",
       "      <td>...</td>\n",
       "      <td>...</td>\n",
       "      <td>...</td>\n",
       "      <td>...</td>\n",
       "      <td>...</td>\n",
       "    </tr>\n",
       "    <tr>\n",
       "      <th>595</th>\n",
       "      <td>1</td>\n",
       "      <td>1</td>\n",
       "      <td>1</td>\n",
       "      <td>1</td>\n",
       "      <td>1</td>\n",
       "      <td>1</td>\n",
       "    </tr>\n",
       "    <tr>\n",
       "      <th>596</th>\n",
       "      <td>0</td>\n",
       "      <td>0</td>\n",
       "      <td>0</td>\n",
       "      <td>0</td>\n",
       "      <td>0</td>\n",
       "      <td>0</td>\n",
       "    </tr>\n",
       "    <tr>\n",
       "      <th>597</th>\n",
       "      <td>0</td>\n",
       "      <td>0</td>\n",
       "      <td>0</td>\n",
       "      <td>0</td>\n",
       "      <td>0</td>\n",
       "      <td>0</td>\n",
       "    </tr>\n",
       "    <tr>\n",
       "      <th>598</th>\n",
       "      <td>0</td>\n",
       "      <td>0</td>\n",
       "      <td>0</td>\n",
       "      <td>0</td>\n",
       "      <td>0</td>\n",
       "      <td>0</td>\n",
       "    </tr>\n",
       "    <tr>\n",
       "      <th>599</th>\n",
       "      <td>0</td>\n",
       "      <td>0</td>\n",
       "      <td>0</td>\n",
       "      <td>0</td>\n",
       "      <td>0</td>\n",
       "      <td>0</td>\n",
       "    </tr>\n",
       "  </tbody>\n",
       "</table>\n",
       "<p>600 rows × 6 columns</p>\n",
       "</div>"
      ],
      "text/plain": [
       "     0  1  2  3  4  5\n",
       "0    0  0  0  0  0  0\n",
       "1    0  0  0  0  0  0\n",
       "2    0  0  0  0  0  0\n",
       "3    1  1  1  1  1  1\n",
       "4    1  1  1  1  1  1\n",
       "..  .. .. .. .. .. ..\n",
       "595  1  1  1  1  1  1\n",
       "596  0  0  0  0  0  0\n",
       "597  0  0  0  0  0  0\n",
       "598  0  0  0  0  0  0\n",
       "599  0  0  0  0  0  0\n",
       "\n",
       "[600 rows x 6 columns]"
      ]
     },
     "execution_count": 61,
     "metadata": {},
     "output_type": "execute_result"
    }
   ],
   "source": [
    "data_sets"
   ]
  },
  {
   "cell_type": "code",
   "execution_count": 62,
   "id": "0f4c19b3",
   "metadata": {
    "execution": {
     "iopub.execute_input": "2021-12-03T12:46:03.295198Z",
     "iopub.status.busy": "2021-12-03T12:46:03.294572Z",
     "iopub.status.idle": "2021-12-03T12:46:03.298808Z",
     "shell.execute_reply": "2021-12-03T12:46:03.299315Z",
     "shell.execute_reply.started": "2021-12-03T12:45:05.310319Z"
    },
    "papermill": {
     "duration": 0.101332,
     "end_time": "2021-12-03T12:46:03.299497",
     "exception": false,
     "start_time": "2021-12-03T12:46:03.198165",
     "status": "completed"
    },
    "tags": []
   },
   "outputs": [
    {
     "data": {
      "text/plain": [
       "(600, 1)"
      ]
     },
     "execution_count": 62,
     "metadata": {},
     "output_type": "execute_result"
    }
   ],
   "source": [
    "yf_test.shape"
   ]
  },
  {
   "cell_type": "code",
   "execution_count": 63,
   "id": "e6b6399e",
   "metadata": {
    "execution": {
     "iopub.execute_input": "2021-12-03T12:46:03.490355Z",
     "iopub.status.busy": "2021-12-03T12:46:03.489682Z",
     "iopub.status.idle": "2021-12-03T12:46:03.494139Z",
     "shell.execute_reply": "2021-12-03T12:46:03.493613Z",
     "shell.execute_reply.started": "2021-12-03T12:45:05.319884Z"
    },
    "papermill": {
     "duration": 0.100735,
     "end_time": "2021-12-03T12:46:03.494293",
     "exception": false,
     "start_time": "2021-12-03T12:46:03.393558",
     "status": "completed"
    },
    "tags": []
   },
   "outputs": [],
   "source": [
    "yf_test=pd.concat([yf_test], ignore_index=True)"
   ]
  },
  {
   "cell_type": "code",
   "execution_count": 64,
   "id": "ac858c32",
   "metadata": {
    "execution": {
     "iopub.execute_input": "2021-12-03T12:46:03.686323Z",
     "iopub.status.busy": "2021-12-03T12:46:03.685634Z",
     "iopub.status.idle": "2021-12-03T12:46:03.689988Z",
     "shell.execute_reply": "2021-12-03T12:46:03.690523Z",
     "shell.execute_reply.started": "2021-12-03T12:45:05.334358Z"
    },
    "papermill": {
     "duration": 0.102156,
     "end_time": "2021-12-03T12:46:03.690694",
     "exception": false,
     "start_time": "2021-12-03T12:46:03.588538",
     "status": "completed"
    },
    "tags": []
   },
   "outputs": [],
   "source": [
    "x_new_train=data_sets.head(520)\n",
    "y_new_train=yf_test.head(520)\n",
    "x_new_test=data_sets.tail(80)\n",
    "y_new_test=yf_test.tail(80)"
   ]
  },
  {
   "cell_type": "code",
   "execution_count": 65,
   "id": "fa9f039a",
   "metadata": {
    "execution": {
     "iopub.execute_input": "2021-12-03T12:46:03.882440Z",
     "iopub.status.busy": "2021-12-03T12:46:03.881483Z",
     "iopub.status.idle": "2021-12-03T12:46:04.154051Z",
     "shell.execute_reply": "2021-12-03T12:46:04.154593Z",
     "shell.execute_reply.started": "2021-12-03T12:45:05.347050Z"
    },
    "papermill": {
     "duration": 0.370041,
     "end_time": "2021-12-03T12:46:04.154767",
     "exception": false,
     "start_time": "2021-12-03T12:46:03.784726",
     "status": "completed"
    },
    "tags": []
   },
   "outputs": [
    {
     "name": "stdout",
     "output_type": "stream",
     "text": [
      "[12:46:03] WARNING: ../src/learner.cc:1115: Starting in XGBoost 1.3.0, the default evaluation metric used with the objective 'binary:logistic' was changed from 'error' to 'logloss'. Explicitly set eval_metric if you'd like to restore the old behavior.\n"
     ]
    },
    {
     "data": {
      "text/plain": [
       "XGBClassifier(base_score=0.5, booster='gbtree', colsample_bylevel=1,\n",
       "              colsample_bynode=1, colsample_bytree=1, enable_categorical=False,\n",
       "              gamma=0, gpu_id=-1, importance_type=None,\n",
       "              interaction_constraints='', learning_rate=0.300000012,\n",
       "              max_delta_step=0, max_depth=6, min_child_weight=1, missing=nan,\n",
       "              monotone_constraints='()', n_estimators=100, n_jobs=4,\n",
       "              num_parallel_tree=1, predictor='auto', random_state=0,\n",
       "              reg_alpha=0, reg_lambda=1, scale_pos_weight=1, subsample=1,\n",
       "              tree_method='exact', validate_parameters=1, verbosity=None)"
      ]
     },
     "execution_count": 65,
     "metadata": {},
     "output_type": "execute_result"
    }
   ],
   "source": [
    "Classifier.fit(x_new_train, y_new_train)"
   ]
  },
  {
   "cell_type": "code",
   "execution_count": 66,
   "id": "0cf3c4d3",
   "metadata": {
    "execution": {
     "iopub.execute_input": "2021-12-03T12:46:04.349510Z",
     "iopub.status.busy": "2021-12-03T12:46:04.348003Z",
     "iopub.status.idle": "2021-12-03T12:46:04.371083Z",
     "shell.execute_reply": "2021-12-03T12:46:04.371817Z",
     "shell.execute_reply.started": "2021-12-03T12:45:05.660013Z"
    },
    "papermill": {
     "duration": 0.121997,
     "end_time": "2021-12-03T12:46:04.372010",
     "exception": false,
     "start_time": "2021-12-03T12:46:04.250013",
     "status": "completed"
    },
    "tags": []
   },
   "outputs": [],
   "source": [
    "y_pred_new=Classifier.predict(x_new_test)"
   ]
  },
  {
   "cell_type": "code",
   "execution_count": 67,
   "id": "b071b30c",
   "metadata": {
    "execution": {
     "iopub.execute_input": "2021-12-03T12:46:04.564643Z",
     "iopub.status.busy": "2021-12-03T12:46:04.564013Z",
     "iopub.status.idle": "2021-12-03T12:46:04.580727Z",
     "shell.execute_reply": "2021-12-03T12:46:04.581882Z",
     "shell.execute_reply.started": "2021-12-03T12:45:05.684760Z"
    },
    "papermill": {
     "duration": 0.115336,
     "end_time": "2021-12-03T12:46:04.582074",
     "exception": false,
     "start_time": "2021-12-03T12:46:04.466738",
     "status": "completed"
    },
    "tags": []
   },
   "outputs": [],
   "source": [
    "score_new_pred=Classifier.score(x_new_test,y_new_test)"
   ]
  },
  {
   "cell_type": "code",
   "execution_count": 68,
   "id": "cbaf9c22",
   "metadata": {
    "execution": {
     "iopub.execute_input": "2021-12-03T12:46:04.804432Z",
     "iopub.status.busy": "2021-12-03T12:46:04.801957Z",
     "iopub.status.idle": "2021-12-03T12:46:04.807198Z",
     "shell.execute_reply": "2021-12-03T12:46:04.807736Z",
     "shell.execute_reply.started": "2021-12-03T12:45:05.700128Z"
    },
    "papermill": {
     "duration": 0.122599,
     "end_time": "2021-12-03T12:46:04.807911",
     "exception": false,
     "start_time": "2021-12-03T12:46:04.685312",
     "status": "completed"
    },
    "tags": []
   },
   "outputs": [
    {
     "data": {
      "text/plain": [
       "0.9375"
      ]
     },
     "execution_count": 68,
     "metadata": {},
     "output_type": "execute_result"
    }
   ],
   "source": [
    "score_new_pred"
   ]
  },
  {
   "cell_type": "code",
   "execution_count": 69,
   "id": "8493ece0",
   "metadata": {
    "execution": {
     "iopub.execute_input": "2021-12-03T12:46:05.023991Z",
     "iopub.status.busy": "2021-12-03T12:46:05.023362Z",
     "iopub.status.idle": "2021-12-03T12:46:05.027838Z",
     "shell.execute_reply": "2021-12-03T12:46:05.028336Z",
     "shell.execute_reply.started": "2021-12-03T12:45:05.712162Z"
    },
    "papermill": {
     "duration": 0.106776,
     "end_time": "2021-12-03T12:46:05.028523",
     "exception": false,
     "start_time": "2021-12-03T12:46:04.921747",
     "status": "completed"
    },
    "tags": []
   },
   "outputs": [
    {
     "data": {
      "text/plain": [
       "array([0, 0, 1, 0, 1, 0, 1, 0, 1, 0, 1, 0, 0, 1, 1, 1, 1, 1, 0, 0, 1, 1,\n",
       "       1, 0, 0, 1, 1, 1, 1, 1, 0, 0, 0, 0, 0, 0, 0, 1, 0, 1, 1, 0, 0, 1,\n",
       "       0, 1, 0, 0, 0, 1, 1, 0, 1, 0, 0, 1, 0, 1, 1, 1, 0, 1, 1, 0, 0, 0,\n",
       "       0, 0, 1, 0, 0, 0, 1, 0, 0, 1, 0, 0, 0, 0])"
      ]
     },
     "execution_count": 69,
     "metadata": {},
     "output_type": "execute_result"
    }
   ],
   "source": [
    "y_pred_new\n"
   ]
  },
  {
   "cell_type": "code",
   "execution_count": 70,
   "id": "5e6931ed",
   "metadata": {
    "execution": {
     "iopub.execute_input": "2021-12-03T12:46:05.236292Z",
     "iopub.status.busy": "2021-12-03T12:46:05.235360Z",
     "iopub.status.idle": "2021-12-03T12:46:05.239093Z",
     "shell.execute_reply": "2021-12-03T12:46:05.239724Z",
     "shell.execute_reply.started": "2021-12-03T12:45:05.726436Z"
    },
    "papermill": {
     "duration": 0.104678,
     "end_time": "2021-12-03T12:46:05.239886",
     "exception": false,
     "start_time": "2021-12-03T12:46:05.135208",
     "status": "completed"
    },
    "tags": []
   },
   "outputs": [],
   "source": [
    "y_pred_new_df=pd.DataFrame(y_pred_new)"
   ]
  },
  {
   "cell_type": "code",
   "execution_count": 71,
   "id": "5f38eda7",
   "metadata": {
    "execution": {
     "iopub.execute_input": "2021-12-03T12:46:05.449189Z",
     "iopub.status.busy": "2021-12-03T12:46:05.448235Z",
     "iopub.status.idle": "2021-12-03T12:46:05.452045Z",
     "shell.execute_reply": "2021-12-03T12:46:05.452659Z",
     "shell.execute_reply.started": "2021-12-03T12:45:05.738348Z"
    },
    "papermill": {
     "duration": 0.104379,
     "end_time": "2021-12-03T12:46:05.452824",
     "exception": false,
     "start_time": "2021-12-03T12:46:05.348445",
     "status": "completed"
    },
    "tags": []
   },
   "outputs": [],
   "source": [
    "fff=yf_test.tail(80)"
   ]
  },
  {
   "cell_type": "code",
   "execution_count": 72,
   "id": "0104f749",
   "metadata": {
    "execution": {
     "iopub.execute_input": "2021-12-03T12:46:05.655180Z",
     "iopub.status.busy": "2021-12-03T12:46:05.654191Z",
     "iopub.status.idle": "2021-12-03T12:46:05.657977Z",
     "shell.execute_reply": "2021-12-03T12:46:05.658633Z",
     "shell.execute_reply.started": "2021-12-03T12:45:05.752992Z"
    },
    "papermill": {
     "duration": 0.103598,
     "end_time": "2021-12-03T12:46:05.658802",
     "exception": false,
     "start_time": "2021-12-03T12:46:05.555204",
     "status": "completed"
    },
    "tags": []
   },
   "outputs": [],
   "source": [
    "y_pred_new=pd.DataFrame(y_pred_new)"
   ]
  },
  {
   "cell_type": "code",
   "execution_count": 73,
   "id": "a4885c9f",
   "metadata": {
    "execution": {
     "iopub.execute_input": "2021-12-03T12:46:05.853761Z",
     "iopub.status.busy": "2021-12-03T12:46:05.852791Z",
     "iopub.status.idle": "2021-12-03T12:46:05.861921Z",
     "shell.execute_reply": "2021-12-03T12:46:05.862512Z",
     "shell.execute_reply.started": "2021-12-03T12:45:05.767490Z"
    },
    "papermill": {
     "duration": 0.107909,
     "end_time": "2021-12-03T12:46:05.862676",
     "exception": false,
     "start_time": "2021-12-03T12:46:05.754767",
     "status": "completed"
    },
    "tags": []
   },
   "outputs": [
    {
     "data": {
      "text/html": [
       "<div>\n",
       "<style scoped>\n",
       "    .dataframe tbody tr th:only-of-type {\n",
       "        vertical-align: middle;\n",
       "    }\n",
       "\n",
       "    .dataframe tbody tr th {\n",
       "        vertical-align: top;\n",
       "    }\n",
       "\n",
       "    .dataframe thead th {\n",
       "        text-align: right;\n",
       "    }\n",
       "</style>\n",
       "<table border=\"1\" class=\"dataframe\">\n",
       "  <thead>\n",
       "    <tr style=\"text-align: right;\">\n",
       "      <th></th>\n",
       "      <th>death_date</th>\n",
       "    </tr>\n",
       "  </thead>\n",
       "  <tbody>\n",
       "    <tr>\n",
       "      <th>520</th>\n",
       "      <td>0</td>\n",
       "    </tr>\n",
       "    <tr>\n",
       "      <th>521</th>\n",
       "      <td>0</td>\n",
       "    </tr>\n",
       "    <tr>\n",
       "      <th>522</th>\n",
       "      <td>1</td>\n",
       "    </tr>\n",
       "    <tr>\n",
       "      <th>523</th>\n",
       "      <td>0</td>\n",
       "    </tr>\n",
       "    <tr>\n",
       "      <th>524</th>\n",
       "      <td>1</td>\n",
       "    </tr>\n",
       "    <tr>\n",
       "      <th>...</th>\n",
       "      <td>...</td>\n",
       "    </tr>\n",
       "    <tr>\n",
       "      <th>595</th>\n",
       "      <td>1</td>\n",
       "    </tr>\n",
       "    <tr>\n",
       "      <th>596</th>\n",
       "      <td>0</td>\n",
       "    </tr>\n",
       "    <tr>\n",
       "      <th>597</th>\n",
       "      <td>0</td>\n",
       "    </tr>\n",
       "    <tr>\n",
       "      <th>598</th>\n",
       "      <td>0</td>\n",
       "    </tr>\n",
       "    <tr>\n",
       "      <th>599</th>\n",
       "      <td>1</td>\n",
       "    </tr>\n",
       "  </tbody>\n",
       "</table>\n",
       "<p>80 rows × 1 columns</p>\n",
       "</div>"
      ],
      "text/plain": [
       "     death_date\n",
       "520           0\n",
       "521           0\n",
       "522           1\n",
       "523           0\n",
       "524           1\n",
       "..          ...\n",
       "595           1\n",
       "596           0\n",
       "597           0\n",
       "598           0\n",
       "599           1\n",
       "\n",
       "[80 rows x 1 columns]"
      ]
     },
     "execution_count": 73,
     "metadata": {},
     "output_type": "execute_result"
    }
   ],
   "source": [
    "fff"
   ]
  },
  {
   "cell_type": "code",
   "execution_count": 74,
   "id": "b4f2e7ef",
   "metadata": {
    "execution": {
     "iopub.execute_input": "2021-12-03T12:46:06.059977Z",
     "iopub.status.busy": "2021-12-03T12:46:06.058962Z",
     "iopub.status.idle": "2021-12-03T12:46:06.063114Z",
     "shell.execute_reply": "2021-12-03T12:46:06.063740Z",
     "shell.execute_reply.started": "2021-12-03T12:45:05.792576Z"
    },
    "papermill": {
     "duration": 0.105017,
     "end_time": "2021-12-03T12:46:06.063910",
     "exception": false,
     "start_time": "2021-12-03T12:46:05.958893",
     "status": "completed"
    },
    "tags": []
   },
   "outputs": [],
   "source": [
    "fff=pd.concat([fff],ignore_index=True)"
   ]
  },
  {
   "cell_type": "code",
   "execution_count": 75,
   "id": "1f4c8b2a",
   "metadata": {
    "execution": {
     "iopub.execute_input": "2021-12-03T12:46:06.260246Z",
     "iopub.status.busy": "2021-12-03T12:46:06.259615Z",
     "iopub.status.idle": "2021-12-03T12:46:06.263226Z",
     "shell.execute_reply": "2021-12-03T12:46:06.263876Z",
     "shell.execute_reply.started": "2021-12-03T12:45:05.799766Z"
    },
    "papermill": {
     "duration": 0.102576,
     "end_time": "2021-12-03T12:46:06.264041",
     "exception": false,
     "start_time": "2021-12-03T12:46:06.161465",
     "status": "completed"
    },
    "tags": []
   },
   "outputs": [],
   "source": [
    "fff=fff.astype('int')\n",
    "y_pred_new=y_pred_new.astype('int')\n"
   ]
  },
  {
   "cell_type": "code",
   "execution_count": 76,
   "id": "7a6b2c6a",
   "metadata": {
    "execution": {
     "iopub.execute_input": "2021-12-03T12:46:06.462467Z",
     "iopub.status.busy": "2021-12-03T12:46:06.461850Z",
     "iopub.status.idle": "2021-12-03T12:46:06.464298Z",
     "shell.execute_reply": "2021-12-03T12:46:06.463838Z",
     "shell.execute_reply.started": "2021-12-03T12:45:05.819855Z"
    },
    "papermill": {
     "duration": 0.103878,
     "end_time": "2021-12-03T12:46:06.464482",
     "exception": false,
     "start_time": "2021-12-03T12:46:06.360604",
     "status": "completed"
    },
    "tags": []
   },
   "outputs": [],
   "source": [
    "final=pd.concat([y_pred_new,fff], ignore_index=True,axis=1)"
   ]
  },
  {
   "cell_type": "code",
   "execution_count": 77,
   "id": "3c9c52c0",
   "metadata": {
    "execution": {
     "iopub.execute_input": "2021-12-03T12:46:06.663021Z",
     "iopub.status.busy": "2021-12-03T12:46:06.658287Z",
     "iopub.status.idle": "2021-12-03T12:46:06.669304Z",
     "shell.execute_reply": "2021-12-03T12:46:06.669827Z",
     "shell.execute_reply.started": "2021-12-03T12:45:05.835472Z"
    },
    "papermill": {
     "duration": 0.109659,
     "end_time": "2021-12-03T12:46:06.670006",
     "exception": false,
     "start_time": "2021-12-03T12:46:06.560347",
     "status": "completed"
    },
    "tags": []
   },
   "outputs": [
    {
     "data": {
      "text/html": [
       "<div>\n",
       "<style scoped>\n",
       "    .dataframe tbody tr th:only-of-type {\n",
       "        vertical-align: middle;\n",
       "    }\n",
       "\n",
       "    .dataframe tbody tr th {\n",
       "        vertical-align: top;\n",
       "    }\n",
       "\n",
       "    .dataframe thead th {\n",
       "        text-align: right;\n",
       "    }\n",
       "</style>\n",
       "<table border=\"1\" class=\"dataframe\">\n",
       "  <thead>\n",
       "    <tr style=\"text-align: right;\">\n",
       "      <th></th>\n",
       "      <th>death_date</th>\n",
       "    </tr>\n",
       "  </thead>\n",
       "  <tbody>\n",
       "    <tr>\n",
       "      <th>0</th>\n",
       "      <td>0</td>\n",
       "    </tr>\n",
       "    <tr>\n",
       "      <th>1</th>\n",
       "      <td>0</td>\n",
       "    </tr>\n",
       "    <tr>\n",
       "      <th>2</th>\n",
       "      <td>1</td>\n",
       "    </tr>\n",
       "    <tr>\n",
       "      <th>3</th>\n",
       "      <td>0</td>\n",
       "    </tr>\n",
       "    <tr>\n",
       "      <th>4</th>\n",
       "      <td>1</td>\n",
       "    </tr>\n",
       "    <tr>\n",
       "      <th>...</th>\n",
       "      <td>...</td>\n",
       "    </tr>\n",
       "    <tr>\n",
       "      <th>75</th>\n",
       "      <td>1</td>\n",
       "    </tr>\n",
       "    <tr>\n",
       "      <th>76</th>\n",
       "      <td>0</td>\n",
       "    </tr>\n",
       "    <tr>\n",
       "      <th>77</th>\n",
       "      <td>0</td>\n",
       "    </tr>\n",
       "    <tr>\n",
       "      <th>78</th>\n",
       "      <td>0</td>\n",
       "    </tr>\n",
       "    <tr>\n",
       "      <th>79</th>\n",
       "      <td>1</td>\n",
       "    </tr>\n",
       "  </tbody>\n",
       "</table>\n",
       "<p>80 rows × 1 columns</p>\n",
       "</div>"
      ],
      "text/plain": [
       "    death_date\n",
       "0            0\n",
       "1            0\n",
       "2            1\n",
       "3            0\n",
       "4            1\n",
       "..         ...\n",
       "75           1\n",
       "76           0\n",
       "77           0\n",
       "78           0\n",
       "79           1\n",
       "\n",
       "[80 rows x 1 columns]"
      ]
     },
     "execution_count": 77,
     "metadata": {},
     "output_type": "execute_result"
    }
   ],
   "source": [
    "fff\n"
   ]
  },
  {
   "cell_type": "code",
   "execution_count": 78,
   "id": "3e0a6db7",
   "metadata": {
    "execution": {
     "iopub.execute_input": "2021-12-03T12:46:06.868928Z",
     "iopub.status.busy": "2021-12-03T12:46:06.868201Z",
     "iopub.status.idle": "2021-12-03T12:46:06.871809Z",
     "shell.execute_reply": "2021-12-03T12:46:06.871301Z",
     "shell.execute_reply.started": "2021-12-03T12:45:05.856114Z"
    },
    "papermill": {
     "duration": 0.105432,
     "end_time": "2021-12-03T12:46:06.871952",
     "exception": false,
     "start_time": "2021-12-03T12:46:06.766520",
     "status": "completed"
    },
    "tags": []
   },
   "outputs": [
    {
     "data": {
      "text/plain": [
       "(80, 2)"
      ]
     },
     "execution_count": 78,
     "metadata": {},
     "output_type": "execute_result"
    }
   ],
   "source": [
    "final.shape"
   ]
  },
  {
   "cell_type": "code",
   "execution_count": null,
   "id": "7dc3bb86",
   "metadata": {
    "papermill": {
     "duration": 0.095921,
     "end_time": "2021-12-03T12:46:07.064581",
     "exception": false,
     "start_time": "2021-12-03T12:46:06.968660",
     "status": "completed"
    },
    "tags": []
   },
   "outputs": [],
   "source": []
  },
  {
   "cell_type": "code",
   "execution_count": 79,
   "id": "92eff7e1",
   "metadata": {
    "execution": {
     "iopub.execute_input": "2021-12-03T12:46:07.267636Z",
     "iopub.status.busy": "2021-12-03T12:46:07.266966Z",
     "iopub.status.idle": "2021-12-03T12:46:07.270316Z",
     "shell.execute_reply": "2021-12-03T12:46:07.270799Z",
     "shell.execute_reply.started": "2021-12-03T12:45:05.872354Z"
    },
    "papermill": {
     "duration": 0.109726,
     "end_time": "2021-12-03T12:46:07.270967",
     "exception": false,
     "start_time": "2021-12-03T12:46:07.161241",
     "status": "completed"
    },
    "tags": []
   },
   "outputs": [
    {
     "data": {
      "text/html": [
       "<div>\n",
       "<style scoped>\n",
       "    .dataframe tbody tr th:only-of-type {\n",
       "        vertical-align: middle;\n",
       "    }\n",
       "\n",
       "    .dataframe tbody tr th {\n",
       "        vertical-align: top;\n",
       "    }\n",
       "\n",
       "    .dataframe thead th {\n",
       "        text-align: right;\n",
       "    }\n",
       "</style>\n",
       "<table border=\"1\" class=\"dataframe\">\n",
       "  <thead>\n",
       "    <tr style=\"text-align: right;\">\n",
       "      <th></th>\n",
       "      <th>0</th>\n",
       "      <th>1</th>\n",
       "    </tr>\n",
       "  </thead>\n",
       "  <tbody>\n",
       "    <tr>\n",
       "      <th>0</th>\n",
       "      <td>0</td>\n",
       "      <td>0</td>\n",
       "    </tr>\n",
       "    <tr>\n",
       "      <th>1</th>\n",
       "      <td>0</td>\n",
       "      <td>0</td>\n",
       "    </tr>\n",
       "    <tr>\n",
       "      <th>2</th>\n",
       "      <td>1</td>\n",
       "      <td>1</td>\n",
       "    </tr>\n",
       "    <tr>\n",
       "      <th>3</th>\n",
       "      <td>0</td>\n",
       "      <td>0</td>\n",
       "    </tr>\n",
       "    <tr>\n",
       "      <th>4</th>\n",
       "      <td>1</td>\n",
       "      <td>1</td>\n",
       "    </tr>\n",
       "    <tr>\n",
       "      <th>...</th>\n",
       "      <td>...</td>\n",
       "      <td>...</td>\n",
       "    </tr>\n",
       "    <tr>\n",
       "      <th>75</th>\n",
       "      <td>1</td>\n",
       "      <td>1</td>\n",
       "    </tr>\n",
       "    <tr>\n",
       "      <th>76</th>\n",
       "      <td>0</td>\n",
       "      <td>0</td>\n",
       "    </tr>\n",
       "    <tr>\n",
       "      <th>77</th>\n",
       "      <td>0</td>\n",
       "      <td>0</td>\n",
       "    </tr>\n",
       "    <tr>\n",
       "      <th>78</th>\n",
       "      <td>0</td>\n",
       "      <td>0</td>\n",
       "    </tr>\n",
       "    <tr>\n",
       "      <th>79</th>\n",
       "      <td>0</td>\n",
       "      <td>1</td>\n",
       "    </tr>\n",
       "  </tbody>\n",
       "</table>\n",
       "<p>80 rows × 2 columns</p>\n",
       "</div>"
      ],
      "text/plain": [
       "    0  1\n",
       "0   0  0\n",
       "1   0  0\n",
       "2   1  1\n",
       "3   0  0\n",
       "4   1  1\n",
       ".. .. ..\n",
       "75  1  1\n",
       "76  0  0\n",
       "77  0  0\n",
       "78  0  0\n",
       "79  0  1\n",
       "\n",
       "[80 rows x 2 columns]"
      ]
     },
     "execution_count": 79,
     "metadata": {},
     "output_type": "execute_result"
    }
   ],
   "source": [
    "final"
   ]
  },
  {
   "cell_type": "code",
   "execution_count": null,
   "id": "540113fe",
   "metadata": {
    "papermill": {
     "duration": 0.096081,
     "end_time": "2021-12-03T12:46:07.463143",
     "exception": false,
     "start_time": "2021-12-03T12:46:07.367062",
     "status": "completed"
    },
    "tags": []
   },
   "outputs": [],
   "source": []
  }
 ],
 "metadata": {
  "kernelspec": {
   "display_name": "Python 3",
   "language": "python",
   "name": "python3"
  },
  "language_info": {
   "codemirror_mode": {
    "name": "ipython",
    "version": 3
   },
   "file_extension": ".py",
   "mimetype": "text/x-python",
   "name": "python",
   "nbconvert_exporter": "python",
   "pygments_lexer": "ipython3",
   "version": "3.7.10"
  },
  "papermill": {
   "default_parameters": {},
   "duration": 41.042018,
   "end_time": "2021-12-03T12:46:08.370456",
   "environment_variables": {},
   "exception": null,
   "input_path": "__notebook__.ipynb",
   "output_path": "__notebook__.ipynb",
   "parameters": {},
   "start_time": "2021-12-03T12:45:27.328438",
   "version": "2.3.3"
  }
 },
 "nbformat": 4,
 "nbformat_minor": 5
}
