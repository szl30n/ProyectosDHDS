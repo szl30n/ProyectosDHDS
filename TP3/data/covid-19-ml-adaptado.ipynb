{
 "cells": [
  {
   "cell_type": "markdown",
   "id": "41afe890",
   "metadata": {},
   "source": [
    "# Preparación ambiente"
   ]
  },
  {
   "cell_type": "code",
   "execution_count": 1,
   "id": "43374dcf",
   "metadata": {
    "_cell_guid": "b1076dfc-b9ad-4769-8c92-a6c4dae69d19",
    "_uuid": "8f2839f25d086af736a60e9eeb907d3b93b6e0e5",
    "papermill": {
     "duration": 1.505952,
     "end_time": "2021-12-03T12:45:37.957425",
     "exception": false,
     "start_time": "2021-12-03T12:45:36.451473",
     "status": "completed"
    },
    "tags": []
   },
   "outputs": [],
   "source": [
    "import numpy as np \n",
    "import pandas as pd \n",
    "import matplotlib.pyplot as plt\n",
    "import seaborn as sns\n",
    "\n",
    "from sklearn.naive_bayes import GaussianNB\n",
    "from sklearn.neighbors import KNeighborsClassifier\n",
    "from sklearn.linear_model import LogisticRegression\n",
    "\n",
    "import warnings\n",
    "warnings.filterwarnings(\"ignore\")\n",
    "\n",
    "from sklearn import metrics\n",
    "from sklearn.metrics import confusion_matrix\n",
    "from sklearn.metrics import f1_score\n",
    "from sklearn.metrics import classification_report\n",
    "from sklearn.model_selection import train_test_split\n",
    "from sklearn.metrics import roc_auc_score"
   ]
  },
  {
   "cell_type": "markdown",
   "id": "264ab57a",
   "metadata": {
    "heading_collapsed": "true"
   },
   "source": [
    "# Importación dataset"
   ]
  },
  {
   "cell_type": "code",
   "execution_count": 2,
   "id": "d90993f9",
   "metadata": {
    "papermill": {
     "duration": 0.326972,
     "end_time": "2021-12-03T12:45:38.557375",
     "exception": false,
     "start_time": "2021-12-03T12:45:38.230403",
     "status": "completed"
    },
    "tags": []
   },
   "outputs": [],
   "source": [
    "old_data=pd.read_csv(\"patient.csv\")\n",
    "\n",
    "#reemplazo death_date por 0 y 1 como vivo/muerto\n",
    "old_data[\"death_date\"]=old_data[\"death_date\"].replace({\"9999-99-99\": 1})\n",
    "old_data.loc[old_data['death_date'] != 1, 'death_date'] = 0"
   ]
  },
  {
   "cell_type": "code",
   "execution_count": 3,
   "id": "0f4117fa",
   "metadata": {
    "papermill": {
     "duration": 0.103505,
     "end_time": "2021-12-03T12:45:38.730790",
     "exception": false,
     "start_time": "2021-12-03T12:45:38.627285",
     "status": "completed"
    },
    "tags": []
   },
   "outputs": [
    {
     "data": {
      "text/plain": [
       "sex                         2\n",
       "patient_type                2\n",
       "intubated                   4\n",
       "pneumonia                   3\n",
       "age                       104\n",
       "pregnant                    4\n",
       "diabetes                    3\n",
       "copd                        3\n",
       "asthma                      3\n",
       "immunosuppression           3\n",
       "hypertension                3\n",
       "other_diseases              3\n",
       "cardiovascular              3\n",
       "obesity                     3\n",
       "chronic_kidney_failure      3\n",
       "smoker                      3\n",
       "another_case                3\n",
       "outcome                     3\n",
       "icu                         4\n",
       "death_date                  2\n",
       "dtype: int64"
      ]
     },
     "execution_count": 3,
     "metadata": {},
     "output_type": "execute_result"
    }
   ],
   "source": [
    "old_data.nunique()"
   ]
  },
  {
   "cell_type": "code",
   "execution_count": 4,
   "id": "e3c55861",
   "metadata": {
    "papermill": {
     "duration": 0.084221,
     "end_time": "2021-12-03T12:45:39.057892",
     "exception": false,
     "start_time": "2021-12-03T12:45:38.973671",
     "status": "completed"
    },
    "tags": []
   },
   "outputs": [],
   "source": [
    "old_data['death_date']=old_data['death_date'].astype(object).astype(int)"
   ]
  },
  {
   "cell_type": "code",
   "execution_count": 5,
   "id": "02207202",
   "metadata": {
    "papermill": {
     "duration": 0.087604,
     "end_time": "2021-12-03T12:45:39.216221",
     "exception": false,
     "start_time": "2021-12-03T12:45:39.128617",
     "status": "completed"
    },
    "tags": []
   },
   "outputs": [
    {
     "name": "stdout",
     "output_type": "stream",
     "text": [
      "<class 'pandas.core.frame.DataFrame'>\n",
      "RangeIndex: 95839 entries, 0 to 95838\n",
      "Data columns (total 20 columns):\n",
      " #   Column                  Non-Null Count  Dtype\n",
      "---  ------                  --------------  -----\n",
      " 0   sex                     95839 non-null  int64\n",
      " 1   patient_type            95839 non-null  int64\n",
      " 2   intubated               95839 non-null  int64\n",
      " 3   pneumonia               95839 non-null  int64\n",
      " 4   age                     95839 non-null  int64\n",
      " 5   pregnant                95839 non-null  int64\n",
      " 6   diabetes                95839 non-null  int64\n",
      " 7   copd                    95839 non-null  int64\n",
      " 8   asthma                  95839 non-null  int64\n",
      " 9   immunosuppression       95839 non-null  int64\n",
      " 10  hypertension            95839 non-null  int64\n",
      " 11  other_diseases          95839 non-null  int64\n",
      " 12  cardiovascular          95839 non-null  int64\n",
      " 13  obesity                 95839 non-null  int64\n",
      " 14  chronic_kidney_failure  95839 non-null  int64\n",
      " 15  smoker                  95839 non-null  int64\n",
      " 16  another_case            95839 non-null  int64\n",
      " 17  outcome                 95839 non-null  int64\n",
      " 18  icu                     95839 non-null  int64\n",
      " 19  death_date              95839 non-null  int32\n",
      "dtypes: int32(1), int64(19)\n",
      "memory usage: 14.3 MB\n"
     ]
    }
   ],
   "source": [
    "old_data.info()"
   ]
  },
  {
   "cell_type": "code",
   "execution_count": 6,
   "id": "984bcbba",
   "metadata": {
    "papermill": {
     "duration": 0.077107,
     "end_time": "2021-12-03T12:45:39.363149",
     "exception": false,
     "start_time": "2021-12-03T12:45:39.286042",
     "status": "completed"
    },
    "tags": []
   },
   "outputs": [
    {
     "data": {
      "text/html": [
       "<div>\n",
       "<style scoped>\n",
       "    .dataframe tbody tr th:only-of-type {\n",
       "        vertical-align: middle;\n",
       "    }\n",
       "\n",
       "    .dataframe tbody tr th {\n",
       "        vertical-align: top;\n",
       "    }\n",
       "\n",
       "    .dataframe thead th {\n",
       "        text-align: right;\n",
       "    }\n",
       "</style>\n",
       "<table border=\"1\" class=\"dataframe\">\n",
       "  <thead>\n",
       "    <tr style=\"text-align: right;\">\n",
       "      <th></th>\n",
       "      <th>sex</th>\n",
       "      <th>patient_type</th>\n",
       "      <th>intubated</th>\n",
       "      <th>pneumonia</th>\n",
       "      <th>age</th>\n",
       "      <th>pregnant</th>\n",
       "      <th>diabetes</th>\n",
       "      <th>copd</th>\n",
       "      <th>asthma</th>\n",
       "      <th>immunosuppression</th>\n",
       "      <th>hypertension</th>\n",
       "      <th>other_diseases</th>\n",
       "      <th>cardiovascular</th>\n",
       "      <th>obesity</th>\n",
       "      <th>chronic_kidney_failure</th>\n",
       "      <th>smoker</th>\n",
       "      <th>another_case</th>\n",
       "      <th>outcome</th>\n",
       "      <th>icu</th>\n",
       "      <th>death_date</th>\n",
       "    </tr>\n",
       "  </thead>\n",
       "  <tbody>\n",
       "    <tr>\n",
       "      <th>0</th>\n",
       "      <td>2</td>\n",
       "      <td>1</td>\n",
       "      <td>97</td>\n",
       "      <td>2</td>\n",
       "      <td>42</td>\n",
       "      <td>97</td>\n",
       "      <td>2</td>\n",
       "      <td>2</td>\n",
       "      <td>1</td>\n",
       "      <td>2</td>\n",
       "      <td>2</td>\n",
       "      <td>2</td>\n",
       "      <td>2</td>\n",
       "      <td>2</td>\n",
       "      <td>2</td>\n",
       "      <td>2</td>\n",
       "      <td>99</td>\n",
       "      <td>1</td>\n",
       "      <td>97</td>\n",
       "      <td>1</td>\n",
       "    </tr>\n",
       "    <tr>\n",
       "      <th>1</th>\n",
       "      <td>1</td>\n",
       "      <td>1</td>\n",
       "      <td>97</td>\n",
       "      <td>2</td>\n",
       "      <td>51</td>\n",
       "      <td>2</td>\n",
       "      <td>2</td>\n",
       "      <td>2</td>\n",
       "      <td>2</td>\n",
       "      <td>2</td>\n",
       "      <td>2</td>\n",
       "      <td>2</td>\n",
       "      <td>2</td>\n",
       "      <td>2</td>\n",
       "      <td>2</td>\n",
       "      <td>2</td>\n",
       "      <td>99</td>\n",
       "      <td>1</td>\n",
       "      <td>97</td>\n",
       "      <td>1</td>\n",
       "    </tr>\n",
       "    <tr>\n",
       "      <th>2</th>\n",
       "      <td>2</td>\n",
       "      <td>2</td>\n",
       "      <td>2</td>\n",
       "      <td>2</td>\n",
       "      <td>51</td>\n",
       "      <td>97</td>\n",
       "      <td>1</td>\n",
       "      <td>2</td>\n",
       "      <td>2</td>\n",
       "      <td>2</td>\n",
       "      <td>1</td>\n",
       "      <td>2</td>\n",
       "      <td>2</td>\n",
       "      <td>1</td>\n",
       "      <td>2</td>\n",
       "      <td>2</td>\n",
       "      <td>99</td>\n",
       "      <td>1</td>\n",
       "      <td>2</td>\n",
       "      <td>1</td>\n",
       "    </tr>\n",
       "    <tr>\n",
       "      <th>3</th>\n",
       "      <td>2</td>\n",
       "      <td>2</td>\n",
       "      <td>2</td>\n",
       "      <td>2</td>\n",
       "      <td>57</td>\n",
       "      <td>97</td>\n",
       "      <td>1</td>\n",
       "      <td>2</td>\n",
       "      <td>2</td>\n",
       "      <td>2</td>\n",
       "      <td>2</td>\n",
       "      <td>2</td>\n",
       "      <td>2</td>\n",
       "      <td>2</td>\n",
       "      <td>2</td>\n",
       "      <td>2</td>\n",
       "      <td>99</td>\n",
       "      <td>1</td>\n",
       "      <td>2</td>\n",
       "      <td>0</td>\n",
       "    </tr>\n",
       "    <tr>\n",
       "      <th>4</th>\n",
       "      <td>1</td>\n",
       "      <td>2</td>\n",
       "      <td>2</td>\n",
       "      <td>2</td>\n",
       "      <td>44</td>\n",
       "      <td>2</td>\n",
       "      <td>1</td>\n",
       "      <td>2</td>\n",
       "      <td>2</td>\n",
       "      <td>2</td>\n",
       "      <td>2</td>\n",
       "      <td>2</td>\n",
       "      <td>2</td>\n",
       "      <td>2</td>\n",
       "      <td>2</td>\n",
       "      <td>2</td>\n",
       "      <td>2</td>\n",
       "      <td>2</td>\n",
       "      <td>2</td>\n",
       "      <td>1</td>\n",
       "    </tr>\n",
       "  </tbody>\n",
       "</table>\n",
       "</div>"
      ],
      "text/plain": [
       "   sex  patient_type  intubated  pneumonia  age  pregnant  diabetes  copd  \\\n",
       "0    2             1         97          2   42        97         2     2   \n",
       "1    1             1         97          2   51         2         2     2   \n",
       "2    2             2          2          2   51        97         1     2   \n",
       "3    2             2          2          2   57        97         1     2   \n",
       "4    1             2          2          2   44         2         1     2   \n",
       "\n",
       "   asthma  immunosuppression  hypertension  other_diseases  cardiovascular  \\\n",
       "0       1                  2             2               2               2   \n",
       "1       2                  2             2               2               2   \n",
       "2       2                  2             1               2               2   \n",
       "3       2                  2             2               2               2   \n",
       "4       2                  2             2               2               2   \n",
       "\n",
       "   obesity  chronic_kidney_failure  smoker  another_case  outcome  icu  \\\n",
       "0        2                       2       2            99        1   97   \n",
       "1        2                       2       2            99        1   97   \n",
       "2        1                       2       2            99        1    2   \n",
       "3        2                       2       2            99        1    2   \n",
       "4        2                       2       2             2        2    2   \n",
       "\n",
       "   death_date  \n",
       "0           1  \n",
       "1           1  \n",
       "2           1  \n",
       "3           0  \n",
       "4           1  "
      ]
     },
     "execution_count": 6,
     "metadata": {},
     "output_type": "execute_result"
    }
   ],
   "source": [
    "old_data.head()"
   ]
  },
  {
   "cell_type": "markdown",
   "id": "2b2c9dc9",
   "metadata": {
    "heading_collapsed": "true"
   },
   "source": [
    "# Dataset completo"
   ]
  },
  {
   "cell_type": "markdown",
   "id": "487aa08d",
   "metadata": {
    "heading_collapsed": "true",
    "papermill": {
     "duration": 0.072002,
     "end_time": "2021-12-03T12:45:39.505360",
     "exception": false,
     "start_time": "2021-12-03T12:45:39.433358",
     "status": "completed"
    },
    "tags": []
   },
   "source": [
    "## Correlación entre variables"
   ]
  },
  {
   "cell_type": "code",
   "execution_count": 7,
   "id": "8b226cc6",
   "metadata": {
    "papermill": {
     "duration": 0.249047,
     "end_time": "2021-12-03T12:45:39.825668",
     "exception": false,
     "start_time": "2021-12-03T12:45:39.576621",
     "status": "completed"
    },
    "tags": []
   },
   "outputs": [
    {
     "data": {
      "text/html": [
       "<div>\n",
       "<style scoped>\n",
       "    .dataframe tbody tr th:only-of-type {\n",
       "        vertical-align: middle;\n",
       "    }\n",
       "\n",
       "    .dataframe tbody tr th {\n",
       "        vertical-align: top;\n",
       "    }\n",
       "\n",
       "    .dataframe thead th {\n",
       "        text-align: right;\n",
       "    }\n",
       "</style>\n",
       "<table border=\"1\" class=\"dataframe\">\n",
       "  <thead>\n",
       "    <tr style=\"text-align: right;\">\n",
       "      <th></th>\n",
       "      <th>sex</th>\n",
       "      <th>patient_type</th>\n",
       "      <th>intubated</th>\n",
       "      <th>pneumonia</th>\n",
       "      <th>age</th>\n",
       "      <th>pregnant</th>\n",
       "      <th>diabetes</th>\n",
       "      <th>copd</th>\n",
       "      <th>asthma</th>\n",
       "      <th>immunosuppression</th>\n",
       "      <th>hypertension</th>\n",
       "      <th>other_diseases</th>\n",
       "      <th>cardiovascular</th>\n",
       "      <th>obesity</th>\n",
       "      <th>chronic_kidney_failure</th>\n",
       "      <th>smoker</th>\n",
       "      <th>another_case</th>\n",
       "      <th>outcome</th>\n",
       "      <th>icu</th>\n",
       "      <th>death_date</th>\n",
       "    </tr>\n",
       "  </thead>\n",
       "  <tbody>\n",
       "    <tr>\n",
       "      <th>sex</th>\n",
       "      <td>1.000000</td>\n",
       "      <td>0.104142</td>\n",
       "      <td>0.104231</td>\n",
       "      <td>0.041587</td>\n",
       "      <td>0.036508</td>\n",
       "      <td>0.995064</td>\n",
       "      <td>0.015488</td>\n",
       "      <td>0.017833</td>\n",
       "      <td>0.017779</td>\n",
       "      <td>0.014783</td>\n",
       "      <td>0.016326</td>\n",
       "      <td>0.019640</td>\n",
       "      <td>0.015451</td>\n",
       "      <td>0.016856</td>\n",
       "      <td>0.015694</td>\n",
       "      <td>0.011192</td>\n",
       "      <td>0.016174</td>\n",
       "      <td>0.045686</td>\n",
       "      <td>0.104268</td>\n",
       "      <td>0.052972</td>\n",
       "    </tr>\n",
       "    <tr>\n",
       "      <th>patient_type</th>\n",
       "      <td>0.104142</td>\n",
       "      <td>1.000000</td>\n",
       "      <td>0.999327</td>\n",
       "      <td>0.263222</td>\n",
       "      <td>0.277913</td>\n",
       "      <td>0.103534</td>\n",
       "      <td>0.012617</td>\n",
       "      <td>0.020348</td>\n",
       "      <td>0.026499</td>\n",
       "      <td>0.025789</td>\n",
       "      <td>0.011135</td>\n",
       "      <td>0.039194</td>\n",
       "      <td>0.024838</td>\n",
       "      <td>0.022876</td>\n",
       "      <td>0.022190</td>\n",
       "      <td>0.024992</td>\n",
       "      <td>0.183498</td>\n",
       "      <td>0.087532</td>\n",
       "      <td>0.999299</td>\n",
       "      <td>0.282048</td>\n",
       "    </tr>\n",
       "    <tr>\n",
       "      <th>intubated</th>\n",
       "      <td>0.104231</td>\n",
       "      <td>0.999327</td>\n",
       "      <td>1.000000</td>\n",
       "      <td>0.263512</td>\n",
       "      <td>0.278253</td>\n",
       "      <td>0.103628</td>\n",
       "      <td>0.012775</td>\n",
       "      <td>0.020500</td>\n",
       "      <td>0.026657</td>\n",
       "      <td>0.025573</td>\n",
       "      <td>0.011283</td>\n",
       "      <td>0.039362</td>\n",
       "      <td>0.024987</td>\n",
       "      <td>0.023029</td>\n",
       "      <td>0.022344</td>\n",
       "      <td>0.025147</td>\n",
       "      <td>0.183582</td>\n",
       "      <td>0.087906</td>\n",
       "      <td>0.999966</td>\n",
       "      <td>0.282923</td>\n",
       "    </tr>\n",
       "    <tr>\n",
       "      <th>pneumonia</th>\n",
       "      <td>0.041587</td>\n",
       "      <td>0.263222</td>\n",
       "      <td>0.263512</td>\n",
       "      <td>1.000000</td>\n",
       "      <td>0.103844</td>\n",
       "      <td>0.041455</td>\n",
       "      <td>0.001884</td>\n",
       "      <td>0.004933</td>\n",
       "      <td>0.007060</td>\n",
       "      <td>0.007793</td>\n",
       "      <td>0.001364</td>\n",
       "      <td>0.014695</td>\n",
       "      <td>0.007436</td>\n",
       "      <td>0.005875</td>\n",
       "      <td>0.005447</td>\n",
       "      <td>0.006953</td>\n",
       "      <td>0.033221</td>\n",
       "      <td>0.033883</td>\n",
       "      <td>0.263465</td>\n",
       "      <td>0.108989</td>\n",
       "    </tr>\n",
       "    <tr>\n",
       "      <th>age</th>\n",
       "      <td>0.036508</td>\n",
       "      <td>0.277913</td>\n",
       "      <td>0.278253</td>\n",
       "      <td>0.103844</td>\n",
       "      <td>1.000000</td>\n",
       "      <td>0.035711</td>\n",
       "      <td>0.006527</td>\n",
       "      <td>0.019210</td>\n",
       "      <td>0.024390</td>\n",
       "      <td>0.023457</td>\n",
       "      <td>0.002451</td>\n",
       "      <td>0.025646</td>\n",
       "      <td>0.021370</td>\n",
       "      <td>0.017958</td>\n",
       "      <td>0.024006</td>\n",
       "      <td>0.022067</td>\n",
       "      <td>0.046247</td>\n",
       "      <td>0.072277</td>\n",
       "      <td>0.278264</td>\n",
       "      <td>0.185163</td>\n",
       "    </tr>\n",
       "    <tr>\n",
       "      <th>pregnant</th>\n",
       "      <td>0.995064</td>\n",
       "      <td>0.103534</td>\n",
       "      <td>0.103628</td>\n",
       "      <td>0.041455</td>\n",
       "      <td>0.035711</td>\n",
       "      <td>1.000000</td>\n",
       "      <td>0.027024</td>\n",
       "      <td>0.030218</td>\n",
       "      <td>0.030095</td>\n",
       "      <td>0.026829</td>\n",
       "      <td>0.028412</td>\n",
       "      <td>0.029823</td>\n",
       "      <td>0.027337</td>\n",
       "      <td>0.028823</td>\n",
       "      <td>0.027718</td>\n",
       "      <td>0.022950</td>\n",
       "      <td>0.015163</td>\n",
       "      <td>0.047578</td>\n",
       "      <td>0.103665</td>\n",
       "      <td>0.052960</td>\n",
       "    </tr>\n",
       "    <tr>\n",
       "      <th>diabetes</th>\n",
       "      <td>0.015488</td>\n",
       "      <td>0.012617</td>\n",
       "      <td>0.012775</td>\n",
       "      <td>0.001884</td>\n",
       "      <td>0.006527</td>\n",
       "      <td>0.027024</td>\n",
       "      <td>1.000000</td>\n",
       "      <td>0.869776</td>\n",
       "      <td>0.881200</td>\n",
       "      <td>0.858777</td>\n",
       "      <td>0.876861</td>\n",
       "      <td>0.749238</td>\n",
       "      <td>0.866721</td>\n",
       "      <td>0.809533</td>\n",
       "      <td>0.862719</td>\n",
       "      <td>0.837194</td>\n",
       "      <td>0.026889</td>\n",
       "      <td>0.030232</td>\n",
       "      <td>0.012740</td>\n",
       "      <td>0.006402</td>\n",
       "    </tr>\n",
       "    <tr>\n",
       "      <th>copd</th>\n",
       "      <td>0.017833</td>\n",
       "      <td>0.020348</td>\n",
       "      <td>0.020500</td>\n",
       "      <td>0.004933</td>\n",
       "      <td>0.019210</td>\n",
       "      <td>0.030218</td>\n",
       "      <td>0.869776</td>\n",
       "      <td>1.000000</td>\n",
       "      <td>0.918751</td>\n",
       "      <td>0.910085</td>\n",
       "      <td>0.893289</td>\n",
       "      <td>0.783647</td>\n",
       "      <td>0.903781</td>\n",
       "      <td>0.843663</td>\n",
       "      <td>0.900077</td>\n",
       "      <td>0.871733</td>\n",
       "      <td>0.032278</td>\n",
       "      <td>0.036061</td>\n",
       "      <td>0.020460</td>\n",
       "      <td>0.012222</td>\n",
       "    </tr>\n",
       "    <tr>\n",
       "      <th>asthma</th>\n",
       "      <td>0.017779</td>\n",
       "      <td>0.026499</td>\n",
       "      <td>0.026657</td>\n",
       "      <td>0.007060</td>\n",
       "      <td>0.024390</td>\n",
       "      <td>0.030095</td>\n",
       "      <td>0.881200</td>\n",
       "      <td>0.918751</td>\n",
       "      <td>1.000000</td>\n",
       "      <td>0.918711</td>\n",
       "      <td>0.897319</td>\n",
       "      <td>0.791514</td>\n",
       "      <td>0.912634</td>\n",
       "      <td>0.848370</td>\n",
       "      <td>0.914133</td>\n",
       "      <td>0.886042</td>\n",
       "      <td>0.034112</td>\n",
       "      <td>0.037689</td>\n",
       "      <td>0.026633</td>\n",
       "      <td>0.014577</td>\n",
       "    </tr>\n",
       "    <tr>\n",
       "      <th>immunosuppression</th>\n",
       "      <td>0.014783</td>\n",
       "      <td>0.025789</td>\n",
       "      <td>0.025573</td>\n",
       "      <td>0.007793</td>\n",
       "      <td>0.023457</td>\n",
       "      <td>0.026829</td>\n",
       "      <td>0.858777</td>\n",
       "      <td>0.910085</td>\n",
       "      <td>0.918711</td>\n",
       "      <td>1.000000</td>\n",
       "      <td>0.891359</td>\n",
       "      <td>0.791973</td>\n",
       "      <td>0.906272</td>\n",
       "      <td>0.848535</td>\n",
       "      <td>0.903133</td>\n",
       "      <td>0.877877</td>\n",
       "      <td>0.033583</td>\n",
       "      <td>0.033387</td>\n",
       "      <td>0.025190</td>\n",
       "      <td>0.017316</td>\n",
       "    </tr>\n",
       "    <tr>\n",
       "      <th>hypertension</th>\n",
       "      <td>0.016326</td>\n",
       "      <td>0.011135</td>\n",
       "      <td>0.011283</td>\n",
       "      <td>0.001364</td>\n",
       "      <td>0.002451</td>\n",
       "      <td>0.028412</td>\n",
       "      <td>0.876861</td>\n",
       "      <td>0.893289</td>\n",
       "      <td>0.897319</td>\n",
       "      <td>0.891359</td>\n",
       "      <td>1.000000</td>\n",
       "      <td>0.773648</td>\n",
       "      <td>0.904675</td>\n",
       "      <td>0.845066</td>\n",
       "      <td>0.895996</td>\n",
       "      <td>0.862587</td>\n",
       "      <td>0.027272</td>\n",
       "      <td>0.031894</td>\n",
       "      <td>0.011236</td>\n",
       "      <td>0.004750</td>\n",
       "    </tr>\n",
       "    <tr>\n",
       "      <th>other_diseases</th>\n",
       "      <td>0.019640</td>\n",
       "      <td>0.039194</td>\n",
       "      <td>0.039362</td>\n",
       "      <td>0.014695</td>\n",
       "      <td>0.025646</td>\n",
       "      <td>0.029823</td>\n",
       "      <td>0.749238</td>\n",
       "      <td>0.783647</td>\n",
       "      <td>0.791514</td>\n",
       "      <td>0.791973</td>\n",
       "      <td>0.773648</td>\n",
       "      <td>1.000000</td>\n",
       "      <td>0.801316</td>\n",
       "      <td>0.733823</td>\n",
       "      <td>0.785931</td>\n",
       "      <td>0.763860</td>\n",
       "      <td>0.021480</td>\n",
       "      <td>0.026727</td>\n",
       "      <td>0.038986</td>\n",
       "      <td>0.015320</td>\n",
       "    </tr>\n",
       "    <tr>\n",
       "      <th>cardiovascular</th>\n",
       "      <td>0.015451</td>\n",
       "      <td>0.024838</td>\n",
       "      <td>0.024987</td>\n",
       "      <td>0.007436</td>\n",
       "      <td>0.021370</td>\n",
       "      <td>0.027337</td>\n",
       "      <td>0.866721</td>\n",
       "      <td>0.903781</td>\n",
       "      <td>0.912634</td>\n",
       "      <td>0.906272</td>\n",
       "      <td>0.904675</td>\n",
       "      <td>0.801316</td>\n",
       "      <td>1.000000</td>\n",
       "      <td>0.856071</td>\n",
       "      <td>0.916242</td>\n",
       "      <td>0.888326</td>\n",
       "      <td>0.034096</td>\n",
       "      <td>0.036157</td>\n",
       "      <td>0.024948</td>\n",
       "      <td>0.015372</td>\n",
       "    </tr>\n",
       "    <tr>\n",
       "      <th>obesity</th>\n",
       "      <td>0.016856</td>\n",
       "      <td>0.022876</td>\n",
       "      <td>0.023029</td>\n",
       "      <td>0.005875</td>\n",
       "      <td>0.017958</td>\n",
       "      <td>0.028823</td>\n",
       "      <td>0.809533</td>\n",
       "      <td>0.843663</td>\n",
       "      <td>0.848370</td>\n",
       "      <td>0.848535</td>\n",
       "      <td>0.845066</td>\n",
       "      <td>0.733823</td>\n",
       "      <td>0.856071</td>\n",
       "      <td>1.000000</td>\n",
       "      <td>0.859204</td>\n",
       "      <td>0.840474</td>\n",
       "      <td>0.033646</td>\n",
       "      <td>0.026938</td>\n",
       "      <td>0.022990</td>\n",
       "      <td>0.004742</td>\n",
       "    </tr>\n",
       "    <tr>\n",
       "      <th>chronic_kidney_failure</th>\n",
       "      <td>0.015694</td>\n",
       "      <td>0.022190</td>\n",
       "      <td>0.022344</td>\n",
       "      <td>0.005447</td>\n",
       "      <td>0.024006</td>\n",
       "      <td>0.027718</td>\n",
       "      <td>0.862719</td>\n",
       "      <td>0.900077</td>\n",
       "      <td>0.914133</td>\n",
       "      <td>0.903133</td>\n",
       "      <td>0.895996</td>\n",
       "      <td>0.785931</td>\n",
       "      <td>0.916242</td>\n",
       "      <td>0.859204</td>\n",
       "      <td>1.000000</td>\n",
       "      <td>0.889492</td>\n",
       "      <td>0.032815</td>\n",
       "      <td>0.037716</td>\n",
       "      <td>0.022308</td>\n",
       "      <td>0.009510</td>\n",
       "    </tr>\n",
       "    <tr>\n",
       "      <th>smoker</th>\n",
       "      <td>0.011192</td>\n",
       "      <td>0.024992</td>\n",
       "      <td>0.025147</td>\n",
       "      <td>0.006953</td>\n",
       "      <td>0.022067</td>\n",
       "      <td>0.022950</td>\n",
       "      <td>0.837194</td>\n",
       "      <td>0.871733</td>\n",
       "      <td>0.886042</td>\n",
       "      <td>0.877877</td>\n",
       "      <td>0.862587</td>\n",
       "      <td>0.763860</td>\n",
       "      <td>0.888326</td>\n",
       "      <td>0.840474</td>\n",
       "      <td>0.889492</td>\n",
       "      <td>1.000000</td>\n",
       "      <td>0.036514</td>\n",
       "      <td>0.034835</td>\n",
       "      <td>0.025135</td>\n",
       "      <td>0.017503</td>\n",
       "    </tr>\n",
       "    <tr>\n",
       "      <th>another_case</th>\n",
       "      <td>0.016174</td>\n",
       "      <td>0.183498</td>\n",
       "      <td>0.183582</td>\n",
       "      <td>0.033221</td>\n",
       "      <td>0.046247</td>\n",
       "      <td>0.015163</td>\n",
       "      <td>0.026889</td>\n",
       "      <td>0.032278</td>\n",
       "      <td>0.034112</td>\n",
       "      <td>0.033583</td>\n",
       "      <td>0.027272</td>\n",
       "      <td>0.021480</td>\n",
       "      <td>0.034096</td>\n",
       "      <td>0.033646</td>\n",
       "      <td>0.032815</td>\n",
       "      <td>0.036514</td>\n",
       "      <td>1.000000</td>\n",
       "      <td>0.048133</td>\n",
       "      <td>0.183644</td>\n",
       "      <td>0.067689</td>\n",
       "    </tr>\n",
       "    <tr>\n",
       "      <th>outcome</th>\n",
       "      <td>0.045686</td>\n",
       "      <td>0.087532</td>\n",
       "      <td>0.087906</td>\n",
       "      <td>0.033883</td>\n",
       "      <td>0.072277</td>\n",
       "      <td>0.047578</td>\n",
       "      <td>0.030232</td>\n",
       "      <td>0.036061</td>\n",
       "      <td>0.037689</td>\n",
       "      <td>0.033387</td>\n",
       "      <td>0.031894</td>\n",
       "      <td>0.026727</td>\n",
       "      <td>0.036157</td>\n",
       "      <td>0.026938</td>\n",
       "      <td>0.037716</td>\n",
       "      <td>0.034835</td>\n",
       "      <td>0.048133</td>\n",
       "      <td>1.000000</td>\n",
       "      <td>0.087843</td>\n",
       "      <td>0.146525</td>\n",
       "    </tr>\n",
       "    <tr>\n",
       "      <th>icu</th>\n",
       "      <td>0.104268</td>\n",
       "      <td>0.999299</td>\n",
       "      <td>0.999966</td>\n",
       "      <td>0.263465</td>\n",
       "      <td>0.278264</td>\n",
       "      <td>0.103665</td>\n",
       "      <td>0.012740</td>\n",
       "      <td>0.020460</td>\n",
       "      <td>0.026633</td>\n",
       "      <td>0.025190</td>\n",
       "      <td>0.011236</td>\n",
       "      <td>0.038986</td>\n",
       "      <td>0.024948</td>\n",
       "      <td>0.022990</td>\n",
       "      <td>0.022308</td>\n",
       "      <td>0.025135</td>\n",
       "      <td>0.183644</td>\n",
       "      <td>0.087843</td>\n",
       "      <td>1.000000</td>\n",
       "      <td>0.282638</td>\n",
       "    </tr>\n",
       "    <tr>\n",
       "      <th>death_date</th>\n",
       "      <td>0.052972</td>\n",
       "      <td>0.282048</td>\n",
       "      <td>0.282923</td>\n",
       "      <td>0.108989</td>\n",
       "      <td>0.185163</td>\n",
       "      <td>0.052960</td>\n",
       "      <td>0.006402</td>\n",
       "      <td>0.012222</td>\n",
       "      <td>0.014577</td>\n",
       "      <td>0.017316</td>\n",
       "      <td>0.004750</td>\n",
       "      <td>0.015320</td>\n",
       "      <td>0.015372</td>\n",
       "      <td>0.004742</td>\n",
       "      <td>0.009510</td>\n",
       "      <td>0.017503</td>\n",
       "      <td>0.067689</td>\n",
       "      <td>0.146525</td>\n",
       "      <td>0.282638</td>\n",
       "      <td>1.000000</td>\n",
       "    </tr>\n",
       "  </tbody>\n",
       "</table>\n",
       "</div>"
      ],
      "text/plain": [
       "                             sex  patient_type  intubated  pneumonia  \\\n",
       "sex                     1.000000      0.104142   0.104231   0.041587   \n",
       "patient_type            0.104142      1.000000   0.999327   0.263222   \n",
       "intubated               0.104231      0.999327   1.000000   0.263512   \n",
       "pneumonia               0.041587      0.263222   0.263512   1.000000   \n",
       "age                     0.036508      0.277913   0.278253   0.103844   \n",
       "pregnant                0.995064      0.103534   0.103628   0.041455   \n",
       "diabetes                0.015488      0.012617   0.012775   0.001884   \n",
       "copd                    0.017833      0.020348   0.020500   0.004933   \n",
       "asthma                  0.017779      0.026499   0.026657   0.007060   \n",
       "immunosuppression       0.014783      0.025789   0.025573   0.007793   \n",
       "hypertension            0.016326      0.011135   0.011283   0.001364   \n",
       "other_diseases          0.019640      0.039194   0.039362   0.014695   \n",
       "cardiovascular          0.015451      0.024838   0.024987   0.007436   \n",
       "obesity                 0.016856      0.022876   0.023029   0.005875   \n",
       "chronic_kidney_failure  0.015694      0.022190   0.022344   0.005447   \n",
       "smoker                  0.011192      0.024992   0.025147   0.006953   \n",
       "another_case            0.016174      0.183498   0.183582   0.033221   \n",
       "outcome                 0.045686      0.087532   0.087906   0.033883   \n",
       "icu                     0.104268      0.999299   0.999966   0.263465   \n",
       "death_date              0.052972      0.282048   0.282923   0.108989   \n",
       "\n",
       "                             age  pregnant  diabetes      copd    asthma  \\\n",
       "sex                     0.036508  0.995064  0.015488  0.017833  0.017779   \n",
       "patient_type            0.277913  0.103534  0.012617  0.020348  0.026499   \n",
       "intubated               0.278253  0.103628  0.012775  0.020500  0.026657   \n",
       "pneumonia               0.103844  0.041455  0.001884  0.004933  0.007060   \n",
       "age                     1.000000  0.035711  0.006527  0.019210  0.024390   \n",
       "pregnant                0.035711  1.000000  0.027024  0.030218  0.030095   \n",
       "diabetes                0.006527  0.027024  1.000000  0.869776  0.881200   \n",
       "copd                    0.019210  0.030218  0.869776  1.000000  0.918751   \n",
       "asthma                  0.024390  0.030095  0.881200  0.918751  1.000000   \n",
       "immunosuppression       0.023457  0.026829  0.858777  0.910085  0.918711   \n",
       "hypertension            0.002451  0.028412  0.876861  0.893289  0.897319   \n",
       "other_diseases          0.025646  0.029823  0.749238  0.783647  0.791514   \n",
       "cardiovascular          0.021370  0.027337  0.866721  0.903781  0.912634   \n",
       "obesity                 0.017958  0.028823  0.809533  0.843663  0.848370   \n",
       "chronic_kidney_failure  0.024006  0.027718  0.862719  0.900077  0.914133   \n",
       "smoker                  0.022067  0.022950  0.837194  0.871733  0.886042   \n",
       "another_case            0.046247  0.015163  0.026889  0.032278  0.034112   \n",
       "outcome                 0.072277  0.047578  0.030232  0.036061  0.037689   \n",
       "icu                     0.278264  0.103665  0.012740  0.020460  0.026633   \n",
       "death_date              0.185163  0.052960  0.006402  0.012222  0.014577   \n",
       "\n",
       "                        immunosuppression  hypertension  other_diseases  \\\n",
       "sex                              0.014783      0.016326        0.019640   \n",
       "patient_type                     0.025789      0.011135        0.039194   \n",
       "intubated                        0.025573      0.011283        0.039362   \n",
       "pneumonia                        0.007793      0.001364        0.014695   \n",
       "age                              0.023457      0.002451        0.025646   \n",
       "pregnant                         0.026829      0.028412        0.029823   \n",
       "diabetes                         0.858777      0.876861        0.749238   \n",
       "copd                             0.910085      0.893289        0.783647   \n",
       "asthma                           0.918711      0.897319        0.791514   \n",
       "immunosuppression                1.000000      0.891359        0.791973   \n",
       "hypertension                     0.891359      1.000000        0.773648   \n",
       "other_diseases                   0.791973      0.773648        1.000000   \n",
       "cardiovascular                   0.906272      0.904675        0.801316   \n",
       "obesity                          0.848535      0.845066        0.733823   \n",
       "chronic_kidney_failure           0.903133      0.895996        0.785931   \n",
       "smoker                           0.877877      0.862587        0.763860   \n",
       "another_case                     0.033583      0.027272        0.021480   \n",
       "outcome                          0.033387      0.031894        0.026727   \n",
       "icu                              0.025190      0.011236        0.038986   \n",
       "death_date                       0.017316      0.004750        0.015320   \n",
       "\n",
       "                        cardiovascular   obesity  chronic_kidney_failure  \\\n",
       "sex                           0.015451  0.016856                0.015694   \n",
       "patient_type                  0.024838  0.022876                0.022190   \n",
       "intubated                     0.024987  0.023029                0.022344   \n",
       "pneumonia                     0.007436  0.005875                0.005447   \n",
       "age                           0.021370  0.017958                0.024006   \n",
       "pregnant                      0.027337  0.028823                0.027718   \n",
       "diabetes                      0.866721  0.809533                0.862719   \n",
       "copd                          0.903781  0.843663                0.900077   \n",
       "asthma                        0.912634  0.848370                0.914133   \n",
       "immunosuppression             0.906272  0.848535                0.903133   \n",
       "hypertension                  0.904675  0.845066                0.895996   \n",
       "other_diseases                0.801316  0.733823                0.785931   \n",
       "cardiovascular                1.000000  0.856071                0.916242   \n",
       "obesity                       0.856071  1.000000                0.859204   \n",
       "chronic_kidney_failure        0.916242  0.859204                1.000000   \n",
       "smoker                        0.888326  0.840474                0.889492   \n",
       "another_case                  0.034096  0.033646                0.032815   \n",
       "outcome                       0.036157  0.026938                0.037716   \n",
       "icu                           0.024948  0.022990                0.022308   \n",
       "death_date                    0.015372  0.004742                0.009510   \n",
       "\n",
       "                          smoker  another_case   outcome       icu  death_date  \n",
       "sex                     0.011192      0.016174  0.045686  0.104268    0.052972  \n",
       "patient_type            0.024992      0.183498  0.087532  0.999299    0.282048  \n",
       "intubated               0.025147      0.183582  0.087906  0.999966    0.282923  \n",
       "pneumonia               0.006953      0.033221  0.033883  0.263465    0.108989  \n",
       "age                     0.022067      0.046247  0.072277  0.278264    0.185163  \n",
       "pregnant                0.022950      0.015163  0.047578  0.103665    0.052960  \n",
       "diabetes                0.837194      0.026889  0.030232  0.012740    0.006402  \n",
       "copd                    0.871733      0.032278  0.036061  0.020460    0.012222  \n",
       "asthma                  0.886042      0.034112  0.037689  0.026633    0.014577  \n",
       "immunosuppression       0.877877      0.033583  0.033387  0.025190    0.017316  \n",
       "hypertension            0.862587      0.027272  0.031894  0.011236    0.004750  \n",
       "other_diseases          0.763860      0.021480  0.026727  0.038986    0.015320  \n",
       "cardiovascular          0.888326      0.034096  0.036157  0.024948    0.015372  \n",
       "obesity                 0.840474      0.033646  0.026938  0.022990    0.004742  \n",
       "chronic_kidney_failure  0.889492      0.032815  0.037716  0.022308    0.009510  \n",
       "smoker                  1.000000      0.036514  0.034835  0.025135    0.017503  \n",
       "another_case            0.036514      1.000000  0.048133  0.183644    0.067689  \n",
       "outcome                 0.034835      0.048133  1.000000  0.087843    0.146525  \n",
       "icu                     0.025135      0.183644  0.087843  1.000000    0.282638  \n",
       "death_date              0.017503      0.067689  0.146525  0.282638    1.000000  "
      ]
     },
     "execution_count": 7,
     "metadata": {},
     "output_type": "execute_result"
    }
   ],
   "source": [
    "old_data.corr().abs()"
   ]
  },
  {
   "cell_type": "code",
   "execution_count": 8,
   "id": "08fe83fb",
   "metadata": {},
   "outputs": [
    {
     "data": {
      "text/plain": [
       "(95839, 20)"
      ]
     },
     "execution_count": 8,
     "metadata": {},
     "output_type": "execute_result"
    }
   ],
   "source": [
    "old_data.shape"
   ]
  },
  {
   "cell_type": "code",
   "execution_count": 9,
   "id": "8d775515",
   "metadata": {
    "papermill": {
     "duration": 0.670037,
     "end_time": "2021-12-03T12:45:41.205258",
     "exception": false,
     "start_time": "2021-12-03T12:45:40.535221",
     "status": "completed"
    },
    "tags": []
   },
   "outputs": [
    {
     "data": {
      "text/plain": [
       "<AxesSubplot:>"
      ]
     },
     "execution_count": 9,
     "metadata": {},
     "output_type": "execute_result"
    },
    {
     "data": {
      "image/png": "[encoded data removed]",
      "text/plain": [
       "<Figure size 432x288 with 2 Axes>"
      ]
     },
     "metadata": {
      "needs_background": "light"
     },
     "output_type": "display_data"
    }
   ],
   "source": [
    "sns.heatmap(old_data.corr().abs(),annot=False,linewidths=.5, cbar_kws={\"shrink\": .5})"
   ]
  },
  {
   "cell_type": "markdown",
   "id": "ec181326",
   "metadata": {
    "heading_collapsed": "true"
   },
   "source": [
    "## Creación variables X e Y"
   ]
  },
  {
   "cell_type": "code",
   "execution_count": 10,
   "id": "df5c395a",
   "metadata": {
    "papermill": {
     "duration": 0.091636,
     "end_time": "2021-12-03T12:45:41.371542",
     "exception": false,
     "start_time": "2021-12-03T12:45:41.279906",
     "status": "completed"
    },
    "tags": []
   },
   "outputs": [
    {
     "data": {
      "text/html": [
       "<div>\n",
       "<style scoped>\n",
       "    .dataframe tbody tr th:only-of-type {\n",
       "        vertical-align: middle;\n",
       "    }\n",
       "\n",
       "    .dataframe tbody tr th {\n",
       "        vertical-align: top;\n",
       "    }\n",
       "\n",
       "    .dataframe thead th {\n",
       "        text-align: right;\n",
       "    }\n",
       "</style>\n",
       "<table border=\"1\" class=\"dataframe\">\n",
       "  <thead>\n",
       "    <tr style=\"text-align: right;\">\n",
       "      <th></th>\n",
       "      <th>death_date</th>\n",
       "    </tr>\n",
       "  </thead>\n",
       "  <tbody>\n",
       "    <tr>\n",
       "      <th>0</th>\n",
       "      <td>1</td>\n",
       "    </tr>\n",
       "    <tr>\n",
       "      <th>1</th>\n",
       "      <td>1</td>\n",
       "    </tr>\n",
       "    <tr>\n",
       "      <th>2</th>\n",
       "      <td>1</td>\n",
       "    </tr>\n",
       "    <tr>\n",
       "      <th>3</th>\n",
       "      <td>0</td>\n",
       "    </tr>\n",
       "    <tr>\n",
       "      <th>4</th>\n",
       "      <td>1</td>\n",
       "    </tr>\n",
       "    <tr>\n",
       "      <th>...</th>\n",
       "      <td>...</td>\n",
       "    </tr>\n",
       "    <tr>\n",
       "      <th>95834</th>\n",
       "      <td>1</td>\n",
       "    </tr>\n",
       "    <tr>\n",
       "      <th>95835</th>\n",
       "      <td>1</td>\n",
       "    </tr>\n",
       "    <tr>\n",
       "      <th>95836</th>\n",
       "      <td>1</td>\n",
       "    </tr>\n",
       "    <tr>\n",
       "      <th>95837</th>\n",
       "      <td>1</td>\n",
       "    </tr>\n",
       "    <tr>\n",
       "      <th>95838</th>\n",
       "      <td>1</td>\n",
       "    </tr>\n",
       "  </tbody>\n",
       "</table>\n",
       "<p>95839 rows × 1 columns</p>\n",
       "</div>"
      ],
      "text/plain": [
       "       death_date\n",
       "0               1\n",
       "1               1\n",
       "2               1\n",
       "3               0\n",
       "4               1\n",
       "...           ...\n",
       "95834           1\n",
       "95835           1\n",
       "95836           1\n",
       "95837           1\n",
       "95838           1\n",
       "\n",
       "[95839 rows x 1 columns]"
      ]
     },
     "execution_count": 10,
     "metadata": {},
     "output_type": "execute_result"
    }
   ],
   "source": [
    "#sns.heatmap(data.corr().abs(),annot=True)\n",
    "x=old_data.drop([\"death_date\"],axis=1)\n",
    "y=old_data[\"death_date\"]\n",
    "y=pd.DataFrame(y)\n",
    "y"
   ]
  },
  {
   "cell_type": "code",
   "execution_count": 11,
   "id": "4426c474",
   "metadata": {
    "papermill": {
     "duration": 0.090735,
     "end_time": "2021-12-03T12:45:41.537001",
     "exception": false,
     "start_time": "2021-12-03T12:45:41.446266",
     "status": "completed"
    },
    "tags": []
   },
   "outputs": [
    {
     "name": "stdout",
     "output_type": "stream",
     "text": [
      "X_train: 76671\n",
      "y_train: 76671\n",
      "X_test: 19168\n",
      "y_test: 19168\n"
     ]
    }
   ],
   "source": [
    "x_train,x_test,y_train,y_test=train_test_split(x,y,test_size=0.2,random_state=1)\n",
    "print (\"X_train:\" , x_train.shape[0])\n",
    "print (\"y_train:\" , y_train.shape[0])\n",
    "print (\"X_test:\" , x_test.shape[0])\n",
    "print (\"y_test:\" , y_test.shape[0])"
   ]
  },
  {
   "cell_type": "code",
   "execution_count": 12,
   "id": "3eecd598",
   "metadata": {
    "papermill": {
     "duration": 0.087684,
     "end_time": "2021-12-03T12:45:41.700698",
     "exception": false,
     "start_time": "2021-12-03T12:45:41.613014",
     "status": "completed"
    },
    "tags": []
   },
   "outputs": [
    {
     "data": {
      "text/html": [
       "<div>\n",
       "<style scoped>\n",
       "    .dataframe tbody tr th:only-of-type {\n",
       "        vertical-align: middle;\n",
       "    }\n",
       "\n",
       "    .dataframe tbody tr th {\n",
       "        vertical-align: top;\n",
       "    }\n",
       "\n",
       "    .dataframe thead th {\n",
       "        text-align: right;\n",
       "    }\n",
       "</style>\n",
       "<table border=\"1\" class=\"dataframe\">\n",
       "  <thead>\n",
       "    <tr style=\"text-align: right;\">\n",
       "      <th></th>\n",
       "      <th>death_date</th>\n",
       "    </tr>\n",
       "  </thead>\n",
       "  <tbody>\n",
       "    <tr>\n",
       "      <th>39134</th>\n",
       "      <td>1</td>\n",
       "    </tr>\n",
       "    <tr>\n",
       "      <th>12427</th>\n",
       "      <td>1</td>\n",
       "    </tr>\n",
       "    <tr>\n",
       "      <th>7549</th>\n",
       "      <td>1</td>\n",
       "    </tr>\n",
       "    <tr>\n",
       "      <th>54838</th>\n",
       "      <td>1</td>\n",
       "    </tr>\n",
       "    <tr>\n",
       "      <th>74682</th>\n",
       "      <td>1</td>\n",
       "    </tr>\n",
       "    <tr>\n",
       "      <th>...</th>\n",
       "      <td>...</td>\n",
       "    </tr>\n",
       "    <tr>\n",
       "      <th>21440</th>\n",
       "      <td>1</td>\n",
       "    </tr>\n",
       "    <tr>\n",
       "      <th>73349</th>\n",
       "      <td>1</td>\n",
       "    </tr>\n",
       "    <tr>\n",
       "      <th>50057</th>\n",
       "      <td>1</td>\n",
       "    </tr>\n",
       "    <tr>\n",
       "      <th>5192</th>\n",
       "      <td>1</td>\n",
       "    </tr>\n",
       "    <tr>\n",
       "      <th>77708</th>\n",
       "      <td>1</td>\n",
       "    </tr>\n",
       "  </tbody>\n",
       "</table>\n",
       "<p>76671 rows × 1 columns</p>\n",
       "</div>"
      ],
      "text/plain": [
       "       death_date\n",
       "39134           1\n",
       "12427           1\n",
       "7549            1\n",
       "54838           1\n",
       "74682           1\n",
       "...           ...\n",
       "21440           1\n",
       "73349           1\n",
       "50057           1\n",
       "5192            1\n",
       "77708           1\n",
       "\n",
       "[76671 rows x 1 columns]"
      ]
     },
     "execution_count": 12,
     "metadata": {},
     "output_type": "execute_result"
    }
   ],
   "source": [
    "y_train=pd.DataFrame(y_train)\n",
    "y_train"
   ]
  },
  {
   "cell_type": "code",
   "execution_count": 13,
   "id": "a44c1b41",
   "metadata": {
    "papermill": {
     "duration": 0.083991,
     "end_time": "2021-12-03T12:45:41.860596",
     "exception": false,
     "start_time": "2021-12-03T12:45:41.776605",
     "status": "completed"
    },
    "tags": []
   },
   "outputs": [],
   "source": [
    "y_train=y_train.astype('float')\n",
    "y_test=y_test.astype('float')"
   ]
  },
  {
   "cell_type": "markdown",
   "id": "e337c13a",
   "metadata": {
    "heading_collapsed": "true",
    "papermill": {
     "duration": 0.076508,
     "end_time": "2021-12-03T12:45:42.013071",
     "exception": false,
     "start_time": "2021-12-03T12:45:41.936563",
     "status": "completed"
    },
    "tags": []
   },
   "source": [
    "## Machine Learning Algorithms"
   ]
  },
  {
   "cell_type": "code",
   "execution_count": 14,
   "id": "b3418b76",
   "metadata": {},
   "outputs": [],
   "source": [
    "from sklearn.preprocessing import StandardScaler\n",
    "from sklearn.linear_model import LogisticRegression"
   ]
  },
  {
   "cell_type": "code",
   "execution_count": 15,
   "id": "441c2a0d",
   "metadata": {
    "papermill": {
     "duration": 1.392284,
     "end_time": "2021-12-03T12:45:43.482431",
     "exception": false,
     "start_time": "2021-12-03T12:45:42.090147",
     "status": "completed"
    },
    "tags": []
   },
   "outputs": [
    {
     "name": "stdout",
     "output_type": "stream",
     "text": [
      "Navie Bayes Acc Score: 0.9216924040066778\n",
      "KNN Acc Score: 0.9566464941569283\n",
      "Logistic Regression Score: 0.9621243739565943\n"
     ]
    }
   ],
   "source": [
    "#Navie Bayes\n",
    "nb=GaussianNB()\n",
    "nb.fit(x_train, y_train)\n",
    "score_nb=nb.score(x_test,y_test)\n",
    "\n",
    "#KNN\n",
    "knn=KNeighborsClassifier(n_neighbors=3)\n",
    "knn.fit(x_train,y_train)\n",
    "score_knn=knn.score(x_test,y_test)\n",
    "\n",
    "#Logistic regression\n",
    "scaler = StandardScaler()\n",
    "x_trainstd = scaler.fit_transform(x_train)\n",
    "x_teststd = scaler.transform(x_test)\n",
    "lr = LogisticRegression()\n",
    "lr.fit(x_trainstd, y_train)\n",
    "score_lr= lr.score(x_teststd, y_test)\n",
    "\n",
    "#Score\n",
    "print (\"Navie Bayes Acc Score:\",score_nb)\n",
    "print (\"KNN Acc Score:\",score_knn)\n",
    "print(\"Logistic Regression Score:\", score_lr)"
   ]
  },
  {
   "cell_type": "code",
   "execution_count": 16,
   "id": "c35cb8b4",
   "metadata": {
    "papermill": {
     "duration": 0.310132,
     "end_time": "2021-12-03T12:45:43.869416",
     "exception": false,
     "start_time": "2021-12-03T12:45:43.559284",
     "status": "completed"
    },
    "tags": []
   },
   "outputs": [],
   "source": [
    "y_pred_nb = nb.predict(x_test)\n",
    "y_pred_knn = knn.predict(x_test)\n",
    "y_pred_lr = lr.predict(x_test)"
   ]
  },
  {
   "cell_type": "markdown",
   "id": "3355f2e3",
   "metadata": {
    "heading_collapsed": "true",
    "papermill": {
     "duration": 0.075733,
     "end_time": "2021-12-03T12:45:44.021846",
     "exception": false,
     "start_time": "2021-12-03T12:45:43.946113",
     "status": "completed"
    },
    "tags": []
   },
   "source": [
    "## Confusion_matrix"
   ]
  },
  {
   "cell_type": "code",
   "execution_count": 17,
   "id": "451d8b32",
   "metadata": {
    "papermill": {
     "duration": 0.241807,
     "end_time": "2021-12-03T12:45:44.341111",
     "exception": false,
     "start_time": "2021-12-03T12:45:44.099304",
     "status": "completed"
    },
    "tags": []
   },
   "outputs": [
    {
     "name": "stdout",
     "output_type": "stream",
     "text": [
      "CM NB:\n",
      " [[  360   364]\n",
      " [ 1137 17307]]\n",
      "CM KNN:\n",
      " [[   88   636]\n",
      " [  195 18249]]\n",
      "CM LR:\n",
      " [[  633    91]\n",
      " [ 3766 14678]]\n"
     ]
    }
   ],
   "source": [
    "print(\"CM NB:\\n\", confusion_matrix(y_test, y_pred_nb))\n",
    "print(\"CM KNN:\\n\", confusion_matrix(y_test, y_pred_knn))\n",
    "print(\"CM LR:\\n\", confusion_matrix(y_test, y_pred_lr))"
   ]
  },
  {
   "cell_type": "markdown",
   "id": "6e267fea",
   "metadata": {
    "heading_collapsed": "true",
    "papermill": {
     "duration": 0.077262,
     "end_time": "2021-12-03T12:45:44.496058",
     "exception": false,
     "start_time": "2021-12-03T12:45:44.418796",
     "status": "completed"
    },
    "tags": []
   },
   "source": [
    "## Recall,Precision and F-1 Score\n"
   ]
  },
  {
   "cell_type": "markdown",
   "id": "0d5ec83e",
   "metadata": {
    "papermill": {
     "duration": 0.077152,
     "end_time": "2021-12-03T12:45:44.650415",
     "exception": false,
     "start_time": "2021-12-03T12:45:44.573263",
     "status": "completed"
    },
    "tags": []
   },
   "source": [
    "* Recall    =  TP / (TP + FN)\n",
    "* Precision = TP / (TP + FP) \n",
    "* F-Measure = (2 * Precision * Recall) / (Precision + Recall)"
   ]
  },
  {
   "cell_type": "code",
   "execution_count": 18,
   "id": "4bf8cb59",
   "metadata": {
    "papermill": {
     "duration": 0.092534,
     "end_time": "2021-12-03T12:45:44.822186",
     "exception": false,
     "start_time": "2021-12-03T12:45:44.729652",
     "status": "completed"
    },
    "tags": []
   },
   "outputs": [
    {
     "name": "stdout",
     "output_type": "stream",
     "text": [
      "NB:\n",
      "               precision    recall  f1-score   support\n",
      "\n",
      "         0.0       0.24      0.50      0.32       724\n",
      "         1.0       0.98      0.94      0.96     18444\n",
      "\n",
      "    accuracy                           0.92     19168\n",
      "   macro avg       0.61      0.72      0.64     19168\n",
      "weighted avg       0.95      0.92      0.93     19168\n",
      "\n",
      "KNN:\n",
      "               precision    recall  f1-score   support\n",
      "\n",
      "         0.0       0.31      0.12      0.17       724\n",
      "         1.0       0.97      0.99      0.98     18444\n",
      "\n",
      "    accuracy                           0.96     19168\n",
      "   macro avg       0.64      0.56      0.58     19168\n",
      "weighted avg       0.94      0.96      0.95     19168\n",
      "\n",
      "LR:\n",
      "               precision    recall  f1-score   support\n",
      "\n",
      "         0.0       0.14      0.87      0.25       724\n",
      "         1.0       0.99      0.80      0.88     18444\n",
      "\n",
      "    accuracy                           0.80     19168\n",
      "   macro avg       0.57      0.84      0.57     19168\n",
      "weighted avg       0.96      0.80      0.86     19168\n",
      "\n"
     ]
    }
   ],
   "source": [
    "print(\"NB:\\n\", classification_report(y_test,y_pred_nb))\n",
    "print(\"KNN:\\n\", classification_report(y_test,y_pred_knn))\n",
    "print(\"LR:\\n\", classification_report(y_test,y_pred_lr))"
   ]
  },
  {
   "cell_type": "code",
   "execution_count": 19,
   "id": "300d653a",
   "metadata": {
    "papermill": {
     "duration": 0.089199,
     "end_time": "2021-12-03T12:45:44.989455",
     "exception": false,
     "start_time": "2021-12-03T12:45:44.900256",
     "status": "completed"
    },
    "tags": []
   },
   "outputs": [
    {
     "name": "stdout",
     "output_type": "stream",
     "text": [
      "F1 Score NB: 0.9584383220268586\n",
      "F1 Score KNN: 0.9777384875030137\n",
      "F1 Score LR: 0.8838707734923072\n"
     ]
    }
   ],
   "source": [
    "print (\"F1 Score NB:\", f1_score(y_test,y_pred_nb))\n",
    "print (\"F1 Score KNN:\", f1_score(y_test,y_pred_knn))\n",
    "print (\"F1 Score LR:\", f1_score(y_test,y_pred_lr))"
   ]
  },
  {
   "cell_type": "markdown",
   "id": "f94d2935",
   "metadata": {
    "heading_collapsed": "true",
    "papermill": {
     "duration": 0.080127,
     "end_time": "2021-12-03T12:45:46.820998",
     "exception": false,
     "start_time": "2021-12-03T12:45:46.740871",
     "status": "completed"
    },
    "tags": []
   },
   "source": [
    "## roc & auc"
   ]
  },
  {
   "cell_type": "code",
   "execution_count": 20,
   "id": "dd7de486",
   "metadata": {
    "papermill": {
     "duration": 0.199069,
     "end_time": "2021-12-03T12:45:46.474247",
     "exception": false,
     "start_time": "2021-12-03T12:45:46.275178",
     "status": "completed"
    },
    "tags": []
   },
   "outputs": [],
   "source": [
    "#NB\n",
    "probs_nb=nb.predict_proba(x_test)\n",
    "preds_nb=probs_nb[:,1]\n",
    "fpr_nb,tpr_nb, threshold_nb =metrics.roc_curve(y_test, y_pred_nb)\n",
    "roc_auc_nb=metrics.auc(fpr_nb,tpr_nb)\n",
    "\n",
    "#KNN\n",
    "probs_knn=knn.predict_proba(x_test)\n",
    "preds_knn=probs_knn[:,1]\n",
    "fpr_knn,tpr_knn, threshold_knn =metrics.roc_curve(y_test, y_pred_knn)\n",
    "roc_auc_knn=metrics.auc(fpr_knn,tpr_knn)\n",
    "\n",
    "#LR\n",
    "probs_lr=lr.predict_proba(x_test)\n",
    "preds_lr=probs_lr[:,1]\n",
    "fpr_lr,tpr_lr, threshold_lr =metrics.roc_curve(y_test, y_pred_lr)\n",
    "roc_auc_lr=metrics.auc(fpr_lr,tpr_lr)"
   ]
  },
  {
   "cell_type": "code",
   "execution_count": 21,
   "id": "eed28389",
   "metadata": {
    "papermill": {
     "duration": 0.315026,
     "end_time": "2021-12-03T12:45:47.217156",
     "exception": false,
     "start_time": "2021-12-03T12:45:46.902130",
     "status": "completed"
    },
    "tags": []
   },
   "outputs": [
    {
     "data": {
      "image/png": "[encoded data removed]",
      "text/plain": [
       "<Figure size 432x288 with 1 Axes>"
      ]
     },
     "metadata": {
      "needs_background": "light"
     },
     "output_type": "display_data"
    }
   ],
   "source": [
    "plt.title(\"ROC\")\n",
    "\n",
    "plt.plot(fpr_nb, tpr_nb, 'g', label=\"NB=80\" % roc_auc_nb)\n",
    "plt.plot(fpr_knn, tpr_knn, 'r', label=\"KNN=87\" % roc_auc_nb)\n",
    "plt.plot(fpr_lr, tpr_lr, 'b', label=\"LR=92\" % roc_auc_nb)\n",
    "\n",
    "plt.legend(loc=\"lower right\")\n",
    "plt.plot([0,1],[0,1],'r--')\n",
    "plt.xlim([0,1])\n",
    "plt.ylim([0,1])\n",
    "plt.ylabel('True Pozitive Rate')\n",
    "plt.xlabel('False Positive Rate')\n",
    "plt.show()"
   ]
  },
  {
   "cell_type": "markdown",
   "id": "196a1f60",
   "metadata": {
    "heading_collapsed": "true"
   },
   "source": [
    "# Dataset sin variables que no aportan"
   ]
  },
  {
   "cell_type": "code",
   "execution_count": 22,
   "id": "748de9b7",
   "metadata": {
    "papermill": {
     "duration": 0.090212,
     "end_time": "2021-12-03T12:45:47.389173",
     "exception": false,
     "start_time": "2021-12-03T12:45:47.298961",
     "status": "completed"
    },
    "tags": []
   },
   "outputs": [],
   "source": [
    "f_data=old_data.drop([\"diabetes\",\"copd\",\"asthma\",\"immunosuppression\",\"hypertension\",\"other_diseases\",\"cardiovascular\",\"obesity\",\"chronic_kidney_failure\",\"smoker\"],axis=1)"
   ]
  },
  {
   "cell_type": "code",
   "execution_count": 23,
   "id": "426cd610",
   "metadata": {
    "papermill": {
     "duration": 0.105332,
     "end_time": "2021-12-03T12:45:47.577800",
     "exception": false,
     "start_time": "2021-12-03T12:45:47.472468",
     "status": "completed"
    },
    "tags": []
   },
   "outputs": [
    {
     "data": {
      "text/html": [
       "<div>\n",
       "<style scoped>\n",
       "    .dataframe tbody tr th:only-of-type {\n",
       "        vertical-align: middle;\n",
       "    }\n",
       "\n",
       "    .dataframe tbody tr th {\n",
       "        vertical-align: top;\n",
       "    }\n",
       "\n",
       "    .dataframe thead th {\n",
       "        text-align: right;\n",
       "    }\n",
       "</style>\n",
       "<table border=\"1\" class=\"dataframe\">\n",
       "  <thead>\n",
       "    <tr style=\"text-align: right;\">\n",
       "      <th></th>\n",
       "      <th>sex</th>\n",
       "      <th>patient_type</th>\n",
       "      <th>intubated</th>\n",
       "      <th>pneumonia</th>\n",
       "      <th>age</th>\n",
       "      <th>pregnant</th>\n",
       "      <th>another_case</th>\n",
       "      <th>outcome</th>\n",
       "      <th>icu</th>\n",
       "      <th>death_date</th>\n",
       "    </tr>\n",
       "  </thead>\n",
       "  <tbody>\n",
       "    <tr>\n",
       "      <th>sex</th>\n",
       "      <td>1.000000</td>\n",
       "      <td>0.104142</td>\n",
       "      <td>0.104231</td>\n",
       "      <td>0.041587</td>\n",
       "      <td>0.036508</td>\n",
       "      <td>0.995064</td>\n",
       "      <td>0.016174</td>\n",
       "      <td>0.045686</td>\n",
       "      <td>0.104268</td>\n",
       "      <td>0.052972</td>\n",
       "    </tr>\n",
       "    <tr>\n",
       "      <th>patient_type</th>\n",
       "      <td>0.104142</td>\n",
       "      <td>1.000000</td>\n",
       "      <td>0.999327</td>\n",
       "      <td>0.263222</td>\n",
       "      <td>0.277913</td>\n",
       "      <td>0.103534</td>\n",
       "      <td>0.183498</td>\n",
       "      <td>0.087532</td>\n",
       "      <td>0.999299</td>\n",
       "      <td>0.282048</td>\n",
       "    </tr>\n",
       "    <tr>\n",
       "      <th>intubated</th>\n",
       "      <td>0.104231</td>\n",
       "      <td>0.999327</td>\n",
       "      <td>1.000000</td>\n",
       "      <td>0.263512</td>\n",
       "      <td>0.278253</td>\n",
       "      <td>0.103628</td>\n",
       "      <td>0.183582</td>\n",
       "      <td>0.087906</td>\n",
       "      <td>0.999966</td>\n",
       "      <td>0.282923</td>\n",
       "    </tr>\n",
       "    <tr>\n",
       "      <th>pneumonia</th>\n",
       "      <td>0.041587</td>\n",
       "      <td>0.263222</td>\n",
       "      <td>0.263512</td>\n",
       "      <td>1.000000</td>\n",
       "      <td>0.103844</td>\n",
       "      <td>0.041455</td>\n",
       "      <td>0.033221</td>\n",
       "      <td>0.033883</td>\n",
       "      <td>0.263465</td>\n",
       "      <td>0.108989</td>\n",
       "    </tr>\n",
       "    <tr>\n",
       "      <th>age</th>\n",
       "      <td>0.036508</td>\n",
       "      <td>0.277913</td>\n",
       "      <td>0.278253</td>\n",
       "      <td>0.103844</td>\n",
       "      <td>1.000000</td>\n",
       "      <td>0.035711</td>\n",
       "      <td>0.046247</td>\n",
       "      <td>0.072277</td>\n",
       "      <td>0.278264</td>\n",
       "      <td>0.185163</td>\n",
       "    </tr>\n",
       "    <tr>\n",
       "      <th>pregnant</th>\n",
       "      <td>0.995064</td>\n",
       "      <td>0.103534</td>\n",
       "      <td>0.103628</td>\n",
       "      <td>0.041455</td>\n",
       "      <td>0.035711</td>\n",
       "      <td>1.000000</td>\n",
       "      <td>0.015163</td>\n",
       "      <td>0.047578</td>\n",
       "      <td>0.103665</td>\n",
       "      <td>0.052960</td>\n",
       "    </tr>\n",
       "    <tr>\n",
       "      <th>another_case</th>\n",
       "      <td>0.016174</td>\n",
       "      <td>0.183498</td>\n",
       "      <td>0.183582</td>\n",
       "      <td>0.033221</td>\n",
       "      <td>0.046247</td>\n",
       "      <td>0.015163</td>\n",
       "      <td>1.000000</td>\n",
       "      <td>0.048133</td>\n",
       "      <td>0.183644</td>\n",
       "      <td>0.067689</td>\n",
       "    </tr>\n",
       "    <tr>\n",
       "      <th>outcome</th>\n",
       "      <td>0.045686</td>\n",
       "      <td>0.087532</td>\n",
       "      <td>0.087906</td>\n",
       "      <td>0.033883</td>\n",
       "      <td>0.072277</td>\n",
       "      <td>0.047578</td>\n",
       "      <td>0.048133</td>\n",
       "      <td>1.000000</td>\n",
       "      <td>0.087843</td>\n",
       "      <td>0.146525</td>\n",
       "    </tr>\n",
       "    <tr>\n",
       "      <th>icu</th>\n",
       "      <td>0.104268</td>\n",
       "      <td>0.999299</td>\n",
       "      <td>0.999966</td>\n",
       "      <td>0.263465</td>\n",
       "      <td>0.278264</td>\n",
       "      <td>0.103665</td>\n",
       "      <td>0.183644</td>\n",
       "      <td>0.087843</td>\n",
       "      <td>1.000000</td>\n",
       "      <td>0.282638</td>\n",
       "    </tr>\n",
       "    <tr>\n",
       "      <th>death_date</th>\n",
       "      <td>0.052972</td>\n",
       "      <td>0.282048</td>\n",
       "      <td>0.282923</td>\n",
       "      <td>0.108989</td>\n",
       "      <td>0.185163</td>\n",
       "      <td>0.052960</td>\n",
       "      <td>0.067689</td>\n",
       "      <td>0.146525</td>\n",
       "      <td>0.282638</td>\n",
       "      <td>1.000000</td>\n",
       "    </tr>\n",
       "  </tbody>\n",
       "</table>\n",
       "</div>"
      ],
      "text/plain": [
       "                   sex  patient_type  intubated  pneumonia       age  \\\n",
       "sex           1.000000      0.104142   0.104231   0.041587  0.036508   \n",
       "patient_type  0.104142      1.000000   0.999327   0.263222  0.277913   \n",
       "intubated     0.104231      0.999327   1.000000   0.263512  0.278253   \n",
       "pneumonia     0.041587      0.263222   0.263512   1.000000  0.103844   \n",
       "age           0.036508      0.277913   0.278253   0.103844  1.000000   \n",
       "pregnant      0.995064      0.103534   0.103628   0.041455  0.035711   \n",
       "another_case  0.016174      0.183498   0.183582   0.033221  0.046247   \n",
       "outcome       0.045686      0.087532   0.087906   0.033883  0.072277   \n",
       "icu           0.104268      0.999299   0.999966   0.263465  0.278264   \n",
       "death_date    0.052972      0.282048   0.282923   0.108989  0.185163   \n",
       "\n",
       "              pregnant  another_case   outcome       icu  death_date  \n",
       "sex           0.995064      0.016174  0.045686  0.104268    0.052972  \n",
       "patient_type  0.103534      0.183498  0.087532  0.999299    0.282048  \n",
       "intubated     0.103628      0.183582  0.087906  0.999966    0.282923  \n",
       "pneumonia     0.041455      0.033221  0.033883  0.263465    0.108989  \n",
       "age           0.035711      0.046247  0.072277  0.278264    0.185163  \n",
       "pregnant      1.000000      0.015163  0.047578  0.103665    0.052960  \n",
       "another_case  0.015163      1.000000  0.048133  0.183644    0.067689  \n",
       "outcome       0.047578      0.048133  1.000000  0.087843    0.146525  \n",
       "icu           0.103665      0.183644  0.087843  1.000000    0.282638  \n",
       "death_date    0.052960      0.067689  0.146525  0.282638    1.000000  "
      ]
     },
     "execution_count": 23,
     "metadata": {},
     "output_type": "execute_result"
    }
   ],
   "source": [
    "f_data.corr().abs()"
   ]
  },
  {
   "cell_type": "code",
   "execution_count": 24,
   "id": "14504682",
   "metadata": {},
   "outputs": [
    {
     "data": {
      "text/plain": [
       "(95839, 10)"
      ]
     },
     "execution_count": 24,
     "metadata": {},
     "output_type": "execute_result"
    }
   ],
   "source": [
    "f_data.shape"
   ]
  },
  {
   "cell_type": "code",
   "execution_count": 25,
   "id": "bcf5bbe0",
   "metadata": {
    "papermill": {
     "duration": 0.474192,
     "end_time": "2021-12-03T12:45:48.135166",
     "exception": false,
     "start_time": "2021-12-03T12:45:47.660974",
     "status": "completed"
    },
    "tags": []
   },
   "outputs": [
    {
     "data": {
      "text/plain": [
       "<AxesSubplot:>"
      ]
     },
     "execution_count": 25,
     "metadata": {},
     "output_type": "execute_result"
    },
    {
     "data": {
      "image/png": "[encoded data removed]",
      "text/plain": [
       "<Figure size 432x288 with 2 Axes>"
      ]
     },
     "metadata": {
      "needs_background": "light"
     },
     "output_type": "display_data"
    }
   ],
   "source": [
    "sns.heatmap(f_data.corr().abs(),annot=False,linewidths=.5, cbar_kws={\"shrink\": .5})"
   ]
  },
  {
   "cell_type": "markdown",
   "id": "dbab48fc",
   "metadata": {
    "heading_collapsed": "true"
   },
   "source": [
    "## Creo X e Y"
   ]
  },
  {
   "cell_type": "code",
   "execution_count": 26,
   "id": "e9b87007",
   "metadata": {
    "papermill": {
     "duration": 0.098216,
     "end_time": "2021-12-03T12:45:48.316338",
     "exception": false,
     "start_time": "2021-12-03T12:45:48.218122",
     "status": "completed"
    },
    "tags": []
   },
   "outputs": [
    {
     "data": {
      "text/html": [
       "<div>\n",
       "<style scoped>\n",
       "    .dataframe tbody tr th:only-of-type {\n",
       "        vertical-align: middle;\n",
       "    }\n",
       "\n",
       "    .dataframe tbody tr th {\n",
       "        vertical-align: top;\n",
       "    }\n",
       "\n",
       "    .dataframe thead th {\n",
       "        text-align: right;\n",
       "    }\n",
       "</style>\n",
       "<table border=\"1\" class=\"dataframe\">\n",
       "  <thead>\n",
       "    <tr style=\"text-align: right;\">\n",
       "      <th></th>\n",
       "      <th>death_date</th>\n",
       "    </tr>\n",
       "  </thead>\n",
       "  <tbody>\n",
       "    <tr>\n",
       "      <th>0</th>\n",
       "      <td>1</td>\n",
       "    </tr>\n",
       "    <tr>\n",
       "      <th>1</th>\n",
       "      <td>1</td>\n",
       "    </tr>\n",
       "    <tr>\n",
       "      <th>2</th>\n",
       "      <td>1</td>\n",
       "    </tr>\n",
       "    <tr>\n",
       "      <th>3</th>\n",
       "      <td>0</td>\n",
       "    </tr>\n",
       "    <tr>\n",
       "      <th>4</th>\n",
       "      <td>1</td>\n",
       "    </tr>\n",
       "    <tr>\n",
       "      <th>...</th>\n",
       "      <td>...</td>\n",
       "    </tr>\n",
       "    <tr>\n",
       "      <th>95834</th>\n",
       "      <td>1</td>\n",
       "    </tr>\n",
       "    <tr>\n",
       "      <th>95835</th>\n",
       "      <td>1</td>\n",
       "    </tr>\n",
       "    <tr>\n",
       "      <th>95836</th>\n",
       "      <td>1</td>\n",
       "    </tr>\n",
       "    <tr>\n",
       "      <th>95837</th>\n",
       "      <td>1</td>\n",
       "    </tr>\n",
       "    <tr>\n",
       "      <th>95838</th>\n",
       "      <td>1</td>\n",
       "    </tr>\n",
       "  </tbody>\n",
       "</table>\n",
       "<p>95839 rows × 1 columns</p>\n",
       "</div>"
      ],
      "text/plain": [
       "       death_date\n",
       "0               1\n",
       "1               1\n",
       "2               1\n",
       "3               0\n",
       "4               1\n",
       "...           ...\n",
       "95834           1\n",
       "95835           1\n",
       "95836           1\n",
       "95837           1\n",
       "95838           1\n",
       "\n",
       "[95839 rows x 1 columns]"
      ]
     },
     "execution_count": 26,
     "metadata": {},
     "output_type": "execute_result"
    }
   ],
   "source": [
    "xf=f_data.drop([\"death_date\"],axis=1)\n",
    "yf=f_data[\"death_date\"]\n",
    "yf=pd.DataFrame(yf)\n",
    "yf"
   ]
  },
  {
   "cell_type": "code",
   "execution_count": 27,
   "id": "15dd5b55",
   "metadata": {
    "papermill": {
     "duration": 0.097366,
     "end_time": "2021-12-03T12:45:48.498097",
     "exception": false,
     "start_time": "2021-12-03T12:45:48.400731",
     "status": "completed"
    },
    "tags": []
   },
   "outputs": [
    {
     "name": "stdout",
     "output_type": "stream",
     "text": [
      "xf_train: 76671\n",
      "yf_train: 76671\n",
      "xf_test: 19168\n",
      "xf_train: 19168\n"
     ]
    }
   ],
   "source": [
    "xf_train,xf_test,yf_train,yf_test=train_test_split(xf,yf,test_size=0.2,random_state=1)\n",
    "print (\"xf_train:\" , xf_train.shape[0])\n",
    "print (\"yf_train:\" , yf_train.shape[0])\n",
    "print (\"xf_test:\" , xf_test.shape[0])\n",
    "print (\"xf_train:\" , yf_test.shape[0])"
   ]
  },
  {
   "cell_type": "code",
   "execution_count": 28,
   "id": "9f61c947",
   "metadata": {},
   "outputs": [],
   "source": [
    "yf_train=yf_train.astype('float')\n",
    "yf_test=yf_test.astype('float')"
   ]
  },
  {
   "cell_type": "markdown",
   "id": "2665f0b8",
   "metadata": {
    "heading_collapsed": "true"
   },
   "source": [
    "## Pruebo algoritmos"
   ]
  },
  {
   "cell_type": "code",
   "execution_count": 29,
   "id": "69e9bcf0",
   "metadata": {
    "papermill": {
     "duration": 1.31049,
     "end_time": "2021-12-03T12:45:49.893176",
     "exception": false,
     "start_time": "2021-12-03T12:45:48.582686",
     "status": "completed"
    },
    "tags": []
   },
   "outputs": [
    {
     "name": "stdout",
     "output_type": "stream",
     "text": [
      "Naive Bayes Acc Score: 0.7824499165275459\n",
      "KNN Acc Score: 0.9568030050083473\n",
      "LR Acc Score: 0.9568030050083473\n"
     ]
    }
   ],
   "source": [
    "#Navie Bayes\n",
    "nb.fit(xf_train, yf_train)\n",
    "score_nbf=nb.score(xf_test,yf_test)\n",
    "\n",
    "#KNN\n",
    "knn.fit(xf_train,yf_train)\n",
    "score_knnf=knn.score(xf_test,yf_test)\n",
    "\n",
    "#LR\n",
    "lr.fit(xf_train,yf_train)\n",
    "score_lrf=knn.score(xf_test,yf_test)\n",
    "\n",
    "print (\"Naive Bayes Acc Score:\",score_nbf)\n",
    "print (\"KNN Acc Score:\",score_knnf)\n",
    "print (\"LR Acc Score:\",score_lrf)\n"
   ]
  },
  {
   "cell_type": "code",
   "execution_count": 30,
   "id": "cfae40ab",
   "metadata": {},
   "outputs": [],
   "source": [
    "yf_pred_nb = nb.predict(xf_test)\n",
    "yf_pred_knn = knn.predict(xf_test)\n",
    "yf_pred_lr = lr.predict(xf_test)\n"
   ]
  },
  {
   "cell_type": "markdown",
   "id": "73cb1316",
   "metadata": {
    "heading_collapsed": "true"
   },
   "source": [
    "## Matriz confusión"
   ]
  },
  {
   "cell_type": "code",
   "execution_count": 31,
   "id": "28407cce",
   "metadata": {
    "papermill": {
     "duration": 0.253159,
     "end_time": "2021-12-03T12:45:50.231366",
     "exception": false,
     "start_time": "2021-12-03T12:45:49.978207",
     "status": "completed"
    },
    "tags": []
   },
   "outputs": [
    {
     "name": "stdout",
     "output_type": "stream",
     "text": [
      "CM NB:\n",
      " [[  648    76]\n",
      " [ 4094 14350]]\n",
      "CM KNN:\n",
      " [[  108   616]\n",
      " [  212 18232]]\n",
      "CM LR:\n",
      " [[    6   718]\n",
      " [    7 18437]]\n"
     ]
    }
   ],
   "source": [
    "print (\"CM NB:\\n\",confusion_matrix(yf_test, yf_pred_nb))\n",
    "print (\"CM KNN:\\n\",confusion_matrix(yf_test, yf_pred_knn))\n",
    "print (\"CM LR:\\n\",confusion_matrix(yf_test, yf_pred_lr))\n",
    "       \n",
    "#sns.heatmap(confusion_matrix(yf_pred11,yf_test), annot=True,lw=2,cbar=False)\n",
    "#plt.ylabel(\"True Values\")\n",
    "#plt.xlabel(\"Preict Value\")\n",
    "#plt.title(\"Confusion_matrix\")"
   ]
  },
  {
   "cell_type": "markdown",
   "id": "91cad62c",
   "metadata": {
    "heading_collapsed": "true"
   },
   "source": [
    "## Scores"
   ]
  },
  {
   "cell_type": "code",
   "execution_count": 32,
   "id": "850621ac",
   "metadata": {
    "papermill": {
     "duration": 0.102147,
     "end_time": "2021-12-03T12:45:50.420947",
     "exception": false,
     "start_time": "2021-12-03T12:45:50.318800",
     "status": "completed"
    },
    "tags": []
   },
   "outputs": [
    {
     "name": "stdout",
     "output_type": "stream",
     "text": [
      "CLASS REPORT NB:\n",
      "               precision    recall  f1-score   support\n",
      "\n",
      "         0.0       0.14      0.90      0.24       724\n",
      "         1.0       0.99      0.78      0.87     18444\n",
      "\n",
      "    accuracy                           0.78     19168\n",
      "   macro avg       0.57      0.84      0.56     19168\n",
      "weighted avg       0.96      0.78      0.85     19168\n",
      "\n",
      "CLASS REPORT KNN:\n",
      "               precision    recall  f1-score   support\n",
      "\n",
      "         0.0       0.34      0.15      0.21       724\n",
      "         1.0       0.97      0.99      0.98     18444\n",
      "\n",
      "    accuracy                           0.96     19168\n",
      "   macro avg       0.65      0.57      0.59     19168\n",
      "weighted avg       0.94      0.96      0.95     19168\n",
      "\n",
      "CLASS REPORT LR:\n",
      "               precision    recall  f1-score   support\n",
      "\n",
      "         0.0       0.46      0.01      0.02       724\n",
      "         1.0       0.96      1.00      0.98     18444\n",
      "\n",
      "    accuracy                           0.96     19168\n",
      "   macro avg       0.71      0.50      0.50     19168\n",
      "weighted avg       0.94      0.96      0.94     19168\n",
      "\n"
     ]
    }
   ],
   "source": [
    "print(\"CLASS REPORT NB:\\n\",classification_report(yf_test,yf_pred_nb))\n",
    "print(\"CLASS REPORT KNN:\\n\",classification_report(yf_test,yf_pred_knn))\n",
    "print(\"CLASS REPORT LR:\\n\",classification_report(yf_test,yf_pred_lr))\n"
   ]
  },
  {
   "cell_type": "code",
   "execution_count": 33,
   "id": "21bde28a",
   "metadata": {
    "papermill": {
     "duration": 0.098643,
     "end_time": "2021-12-03T12:45:51.450295",
     "exception": false,
     "start_time": "2021-12-03T12:45:51.351652",
     "status": "completed"
    },
    "tags": []
   },
   "outputs": [
    {
     "name": "stdout",
     "output_type": "stream",
     "text": [
      "F1 Score NB: 0.8731365987222391\n",
      "F1 Score KNN: 0.9777968465086345\n",
      "F1 Score LR: 0.9807175722758584\n"
     ]
    }
   ],
   "source": [
    "print (\"F1 Score NB:\", f1_score(yf_test,yf_pred_nb))\n",
    "print (\"F1 Score KNN:\", f1_score(yf_test,yf_pred_knn))\n",
    "print (\"F1 Score LR:\", f1_score(yf_test,yf_pred_lr))\n"
   ]
  },
  {
   "cell_type": "markdown",
   "id": "ea02a7e3",
   "metadata": {
    "heading_collapsed": "true"
   },
   "source": [
    "## Roc y Auc"
   ]
  },
  {
   "cell_type": "code",
   "execution_count": 34,
   "id": "abe8352f",
   "metadata": {
    "papermill": {
     "duration": 0.14952,
     "end_time": "2021-12-03T12:45:52.549246",
     "exception": false,
     "start_time": "2021-12-03T12:45:52.399726",
     "status": "completed"
    },
    "tags": []
   },
   "outputs": [],
   "source": [
    "#NB\n",
    "probs_nbf=nb.predict_proba(xf_test)\n",
    "preds_nbf=probs_nbf[:,1]\n",
    "fpr_nbf,tpr_nbf, threshold_nbf =metrics.roc_curve(yf_test, yf_pred_nb)\n",
    "roc_auc_nbf=metrics.auc(fpr_nbf,tpr_nbf)\n",
    "\n",
    "#KNN\n",
    "probs_knnf=knn.predict_proba(xf_test)\n",
    "preds_knnf=probs_knnf[:,1]\n",
    "fpr_knnf,tpr_knnf, threshold_knnf =metrics.roc_curve(yf_test, yf_pred_knn)\n",
    "roc_auc_knnf=metrics.auc(fpr_knnf,tpr_knnf)\n",
    "\n",
    "#LR\n",
    "probs_lrf=lr.predict_proba(xf_test)\n",
    "preds_lrf=probs_lrf[:,1]\n",
    "fpr_lrf,tpr_lrf, threshold_lrf =metrics.roc_curve(yf_test, yf_pred_lr)\n",
    "roc_auc_lrf=metrics.auc(fpr_lrf,tpr_lrf)\n"
   ]
  },
  {
   "cell_type": "code",
   "execution_count": 35,
   "id": "e6cd667b",
   "metadata": {
    "papermill": {
     "duration": 0.320796,
     "end_time": "2021-12-03T12:45:52.960014",
     "exception": false,
     "start_time": "2021-12-03T12:45:52.639218",
     "status": "completed"
    },
    "tags": []
   },
   "outputs": [
    {
     "data": {
      "image/png": "[encoded data removed]",
      "text/plain": [
       "<Figure size 432x288 with 1 Axes>"
      ]
     },
     "metadata": {
      "needs_background": "light"
     },
     "output_type": "display_data"
    }
   ],
   "source": [
    "plt.title(\"ROC\")\n",
    "\n",
    "plt.plot(fpr_nbf, tpr_nbf, 'g', label=\"NB=82\" % roc_auc_nbf)\n",
    "plt.plot(fpr_knnf, tpr_knnf, 'r', label=\"KNN=89\" % roc_auc_nbf)\n",
    "plt.plot(fpr_lrf, tpr_lrf, 'y', label=\"LR=90\" % roc_auc_nbf)\n",
    "\n",
    "plt.legend(loc=\"lower right\")\n",
    "plt.plot([0,1],[0,1],'r--')\n",
    "plt.xlim([0,1])\n",
    "plt.ylim([0,1])\n",
    "plt.ylabel('True Pozitive Rate')\n",
    "plt.xlabel('False Positive Rate')\n",
    "plt.show()"
   ]
  }
 ],
 "metadata": {
  "kernelspec": {
   "display_name": "Python 3 (ipykernel)",
   "language": "python",
   "name": "python3"
  },
  "language_info": {
   "codemirror_mode": {
    "name": "ipython",
    "version": 3
   },
   "file_extension": ".py",
   "mimetype": "text/x-python",
   "name": "python",
   "nbconvert_exporter": "python",
   "pygments_lexer": "ipython3",
   "version": "3.8.12"
  },
  "papermill": {
   "default_parameters": {},
   "duration": 41.042018,
   "end_time": "2021-12-03T12:46:08.370456",
   "environment_variables": {},
   "exception": null,
   "input_path": "__notebook__.ipynb",
   "output_path": "__notebook__.ipynb",
   "parameters": {},
   "start_time": "2021-12-03T12:45:27.328438",
   "version": "2.3.3"
  }
 },
 "nbformat": 4,
 "nbformat_minor": 5
}
